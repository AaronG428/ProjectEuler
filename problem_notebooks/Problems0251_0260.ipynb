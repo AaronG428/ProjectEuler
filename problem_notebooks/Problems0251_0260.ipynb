{
 "cells": [
  {
   "cell_type": "markdown",
   "id": "db68edf0",
   "metadata": {},
   "source": [
    "# Problem 251\n",
    " [Source](https://projecteuler.net/problem=251)"
   ]
  },
  {
   "cell_type": "markdown",
   "id": "73625d35",
   "metadata": {},
   "source": [
    "A triplet of positive integers $(a, b, c)$ is called a Cardano Triplet if it satisfies the condition:\n",
    "\n",
    "$$\\sqrt[3]{a + b \\sqrt{c}} + \\sqrt[3]{a - b \\sqrt{c}} = 1$$\n",
    "\n",
    "For example, $(2,1,5)$ is a Cardano Triplet.\n",
    "\n",
    "There exist $149$ Cardano Triplets for which $a + b + c \\le 1000$.\n",
    "\n",
    "Find how many Cardano Triplets exist such that $a + b + c \\le 110\\,000\\,000$."
   ]
  },
  {
   "cell_type": "code",
   "execution_count": null,
   "id": "792763fe",
   "metadata": {},
   "outputs": [],
   "source": [
    "# Problem 251 workspace"
   ]
  },
  {
   "cell_type": "markdown",
   "id": "6696d093",
   "metadata": {},
   "source": [
    "## Answer: "
   ]
  },
  {
   "cell_type": "markdown",
   "id": "45c2abc8",
   "metadata": {},
   "source": [
    "___"
   ]
  },
  {
   "cell_type": "markdown",
   "id": "fd21ac75",
   "metadata": {},
   "source": [
    "# Problem 252\n",
    " [Source](https://projecteuler.net/problem=252)"
   ]
  },
  {
   "cell_type": "markdown",
   "id": "95bfa8bb",
   "metadata": {},
   "source": [
    "Given a set of points on a plane, we define a convex hole to be a convex polygon having as vertices any of the given points and not containing any of the given points in its interior (in addition to the vertices, other given points may lie on the perimeter of the polygon).\n",
    "\n",
    "As an example, the image below shows a set of twenty points and a few such convex holes.\n",
    "The convex hole shown as a red heptagon has an area equal to $1049694.5$ square units, which is the highest possible area for a convex hole on the given set of points.\n",
    "\n",
    "![](resources/0252_convexhole.gif)\n",
    "\n",
    "For our example, we used the first $20$ points $(T\\_{2k - 1}, T\\_{2k})$, for $k = 1,2,\\dots,20$, produced with the pseudo-random number generator:\n",
    "\n",
    "$$\\begin{align}\n",
    "S\\_0 &= 290797\\\\\n",
    "S\\_{n + 1} &= S\\_n^2 \\bmod 50515093\\\\\n",
    "T\\_n &= (S\\_n \\bmod 2000) - 1000\n",
    "\\end{align}$$\n",
    "\n",
    "*i.e.*\n",
    "$(527, 144), (-488, 732), (-454, -947), \\dots$\n",
    "\n",
    "What is the maximum area for a convex hole on the set containing the first $500$ points in the pseudo-random sequence?\n",
    "  \n",
    "Specify your answer including one digit after the decimal point."
   ]
  },
  {
   "cell_type": "code",
   "execution_count": null,
   "id": "9a83b1e7",
   "metadata": {},
   "outputs": [],
   "source": [
    "# Problem 252 workspace"
   ]
  },
  {
   "cell_type": "markdown",
   "id": "5b645c46",
   "metadata": {},
   "source": [
    "## Answer: "
   ]
  },
  {
   "cell_type": "markdown",
   "id": "d7251c50",
   "metadata": {},
   "source": [
    "___"
   ]
  },
  {
   "cell_type": "markdown",
   "id": "af8a9a44",
   "metadata": {},
   "source": [
    "# Problem 253\n",
    " [Source](https://projecteuler.net/problem=253)"
   ]
  },
  {
   "cell_type": "markdown",
   "id": "c96d1573",
   "metadata": {},
   "source": [
    "A small child has a “number caterpillar” consisting of forty jigsaw pieces, each with one number on it, which, when connected together in a line, reveal the numbers $1$ to $40$ in order.\n",
    "\n",
    "Every night, the child's father has to pick up the pieces of the caterpillar that have been scattered across the play room. He picks up the pieces at random and places them in the correct order.\n",
    "  \n",
    "As the caterpillar is built up in this way, it forms distinct segments that gradually merge together.\n",
    "  \n",
    "The number of segments starts at zero (no pieces placed), generally increases up to about eleven or twelve, then tends to drop again before finishing at a single segment (all pieces placed).\n",
    "\n",
    "For example:\n",
    "\n",
    "| **Piece Placed** | **Segments So Far** |\n",
    "| --- | --- |\n",
    "| 12 | 1 |\n",
    "| 4 | 2 |\n",
    "| 29 | 3 |\n",
    "| 6 | 4 |\n",
    "| 34 | 5 |\n",
    "| 5 | 4 |\n",
    "| 35 | 4 |\n",
    "| … | … |\n",
    "\n",
    "Let $M$ be the maximum number of segments encountered during a random tidy-up of the caterpillar.\n",
    "  \n",
    "For a caterpillar of ten pieces, the number of possibilities for each $M$ is\n",
    "\n",
    "| **M** | **Possibilities** |\n",
    "| --- | --- |\n",
    "| 1 | 512 |\n",
    "| 2 | 250912 |\n",
    "| 3 | 1815264 |\n",
    "| 4 | 1418112 |\n",
    "| 5 | 144000 |\n",
    "\n",
    "so the most likely value of $M$ is $3$ and the average value is $385643/113400 = 3.400732$, rounded to six decimal places.\n",
    "\n",
    "The most likely value of $M$ for a forty-piece caterpillar is $11$; but what is the average value of $M$?\n",
    "\n",
    "Give your answer rounded to six decimal places."
   ]
  },
  {
   "cell_type": "code",
   "execution_count": null,
   "id": "515120b1",
   "metadata": {},
   "outputs": [],
   "source": [
    "# Problem 253 workspace"
   ]
  },
  {
   "cell_type": "markdown",
   "id": "a94807b0",
   "metadata": {},
   "source": [
    "## Answer: "
   ]
  },
  {
   "cell_type": "markdown",
   "id": "a1c4179c",
   "metadata": {},
   "source": [
    "___"
   ]
  },
  {
   "cell_type": "markdown",
   "id": "7a187652",
   "metadata": {},
   "source": [
    "# Problem 254\n",
    " [Source](https://projecteuler.net/problem=254)"
   ]
  },
  {
   "cell_type": "markdown",
   "id": "41114208",
   "metadata": {},
   "source": [
    "Define $f(n)$ as the sum of the factorials of the digits of $n$. For example, $f(342) = 3! + 4! + 2! = 32$.\n",
    "\n",
    "Define $sf(n)$ as the sum of the digits of $f(n)$. So $sf(342) = 3 + 2 = 5$.\n",
    "\n",
    "Define $g(i)$ to be the smallest positive integer $n$ such that $sf(n) = i$. Though $sf(342)$ is $5$, $sf(25)$ is also $5$, and it can be verified that $g(5)$ is $25$.\n",
    "\n",
    "Define $sg(i)$ as the sum of the digits of $g(i)$. So $sg(5) = 2 + 5 = 7$.\n",
    "\n",
    "Further, it can be verified that $g(20)$ is $267$ and $\\sum sg(i)$ for $1 \\le i \\le 20$ is $156$.\n",
    "\n",
    "What is $\\sum sg(i)$ for $1 \\le i \\le 150$?"
   ]
  },
  {
   "cell_type": "code",
   "execution_count": null,
   "id": "124103a6",
   "metadata": {},
   "outputs": [],
   "source": [
    "# Problem 254 workspace"
   ]
  },
  {
   "cell_type": "markdown",
   "id": "524e02d7",
   "metadata": {},
   "source": [
    "## Answer: "
   ]
  },
  {
   "cell_type": "markdown",
   "id": "77c0c41d",
   "metadata": {},
   "source": [
    "___"
   ]
  },
  {
   "cell_type": "markdown",
   "id": "e1d366eb",
   "metadata": {},
   "source": [
    "# Problem 255\n",
    " [Source](https://projecteuler.net/problem=255)"
   ]
  },
  {
   "cell_type": "markdown",
   "id": "cfdd3584",
   "metadata": {},
   "source": [
    "We define the\n",
    "rounded-square-root\n",
    "of a positive integer $n$ as the square root of $n$ rounded to the nearest integer.\n",
    "\n",
    "The following procedure (essentially Heron's method adapted to integer arithmetic) finds the rounded-square-root of $n$:\n",
    "\n",
    "Let $d$ be the number of digits of the number $n$.\n",
    "  \n",
    "If $d$ is odd, set $x\\_0 = 2 \\times 10^{(d-1)/2}$.\n",
    "  \n",
    "If $d$ is even, set $x\\_0 = 7 \\times 10^{(d-2)/2}$.\n",
    "  \n",
    "Repeat:\n",
    "\n",
    "$$x\\_{k+1} = \\Biggl\\lfloor{\\dfrac{x\\_k + \\lceil{n / x\\_k}\\rceil}{2}}\\Biggr\\rfloor$$\n",
    "\n",
    "until $x\\_{k+1} = x\\_k$.\n",
    "\n",
    "As an example, let us find the rounded-square-root of $n = 4321$.\n",
    "  \n",
    "$n$ has $4$ digits, so $x\\_0 = 7 \\times 10^{(4-2)/2} = 70$.\n",
    "  \n",
    "$$x\\_1 = \\Biggl\\lfloor{\\dfrac{70 + \\lceil{4321 / 70}\\rceil}{2}}\\Biggr\\rfloor = 66$$\n",
    "$$x\\_2 = \\Biggl\\lfloor{\\dfrac{66 + \\lceil{4321 / 66}\\rceil}{2}}\\Biggr\\rfloor = 66$$\n",
    "Since $x\\_2 = x\\_1$, we stop here.\n",
    "  \n",
    "So, after just two iterations, we have found that the rounded-square-root of $4321$ is $66$ (the actual square root is $65.7343137\\cdots$).\n",
    "\n",
    "The number of iterations required when using this method is surprisingly low.\n",
    "  \n",
    "For example, we can find the rounded-square-root of a $5$-digit integer ($10\\,000 \\le n \\le 99\\,999$) with an average of $3.2102888889$ iterations (the average value was rounded to $10$ decimal places).\n",
    "\n",
    "Using the procedure described above, what is the average number of iterations required to find the rounded-square-root of a $14$-digit number ($10^{13} \\le n \\lt 10^{14}$)?\n",
    "  \n",
    "Give your answer rounded to $10$ decimal places.\n",
    "\n",
    "Note: The symbols $\\lfloor x \\rfloor$ and $\\lceil x \\rceil$ represent the\n",
    "**floor function\n",
    "the largest integer not greater than $x$**\n",
    "and\n",
    "**ceiling function\n",
    "the smallest integer not less than $x$**\n",
    "respectively."
   ]
  },
  {
   "cell_type": "code",
   "execution_count": null,
   "id": "f2d6c21b",
   "metadata": {},
   "outputs": [],
   "source": [
    "# Problem 255 workspace"
   ]
  },
  {
   "cell_type": "markdown",
   "id": "37595ae8",
   "metadata": {},
   "source": [
    "## Answer: "
   ]
  },
  {
   "cell_type": "markdown",
   "id": "495875c8",
   "metadata": {},
   "source": [
    "___"
   ]
  },
  {
   "cell_type": "markdown",
   "id": "e5c0734d",
   "metadata": {},
   "source": [
    "# Problem 256\n",
    " [Source](https://projecteuler.net/problem=256)"
   ]
  },
  {
   "cell_type": "markdown",
   "id": "c1b7c7a4",
   "metadata": {},
   "source": [
    "Tatami are rectangular mats, used to completely cover the floor of a room, without overlap.\n",
    "\n",
    "Assuming that the only type of available tatami has dimensions $1 \\times 2$, there are obviously some limitations for the shape and size of the rooms that can be covered.\n",
    "\n",
    "For this problem, we consider only rectangular rooms with integer dimensions $a, b$ and even size $s = a \\cdot b$.\n",
    "  \n",
    "We use the term 'size' to denote the floor surface area of the room, and — without loss of generality — we add the condition $a \\le b$.\n",
    "\n",
    "There is one rule to follow when laying out tatami: there must be no points where corners of four different mats meet.\n",
    "  \n",
    "For example, consider the two arrangements below for a $4 \\times 4$ room:\n",
    "\n",
    "![0256_tatami3.gif](resources/0256_tatami3.gif)\n",
    "\n",
    "The arrangement on the left is acceptable, whereas the one on the right is not: a red \"\n",
    "**X**\n",
    "\" in the middle, marks the point where four tatami meet.\n",
    "\n",
    "Because of this rule, certain even-sized rooms cannot be covered with tatami: we call them tatami-free rooms.\n",
    "  \n",
    "Further, we define $T(s)$ as the number of tatami-free rooms of size $s$.\n",
    "\n",
    "The smallest tatami-free room has size $s = 70$ and dimensions $7 \\times 10$.\n",
    "  \n",
    "All the other rooms of size $s = 70$ can be covered with tatami; they are: $1 \\times 70$, $2 \\times 35$ and $5 \\times 14$.\n",
    "  \n",
    "Hence, $T(70) = 1$.\n",
    "\n",
    "Similarly, we can verify that $T(1320) = 5$ because there are exactly $5$ tatami-free rooms of size $s = 1320$:\n",
    "  \n",
    "$20 \\times 66$, $22 \\times 60$, $24 \\times 55$, $30 \\times 44$ and $33 \\times 40$.\n",
    "  \n",
    "In fact, $s = 1320$ is the smallest room-size $s$ for which $T(s) = 5$.\n",
    "\n",
    "Find the smallest room-size $s$ for which $T(s) = 200$."
   ]
  },
  {
   "cell_type": "code",
   "execution_count": null,
   "id": "328be65f",
   "metadata": {},
   "outputs": [],
   "source": [
    "# Problem 256 workspace"
   ]
  },
  {
   "cell_type": "markdown",
   "id": "e1c2ca9f",
   "metadata": {},
   "source": [
    "## Answer: "
   ]
  },
  {
   "cell_type": "markdown",
   "id": "dadf0d79",
   "metadata": {},
   "source": [
    "___"
   ]
  },
  {
   "cell_type": "markdown",
   "id": "8e6c333d",
   "metadata": {},
   "source": [
    "# Problem 257\n",
    " [Source](https://projecteuler.net/problem=257)"
   ]
  },
  {
   "cell_type": "markdown",
   "id": "d2103f77",
   "metadata": {},
   "source": [
    "Given is an integer sided triangle $ABC$ with sides $a \\le b \\le c$.\n",
    "($AB = c$, $BC = a$ and $AC = b$.)\n",
    "  \n",
    "The angular bisectors of the triangle intersect the sides at points $E$, $F$ and $G$ (see picture below).\n",
    "\n",
    "![0257_bisector.gif](resources/0257_bisector.gif)\n",
    "\n",
    "The segments $EF$, $EG$ and $FG$ partition the triangle $ABC$ into four smaller triangles: $AEG$, $BFE$, $CGF$ and $EFG$.\n",
    "  \n",
    "It can be proven that for each of these four triangles the ratio area($ABC$)/area(subtriangle) is rational.\n",
    "  \n",
    "However, there exist triangles for which some or all of these ratios are integral.\n",
    "\n",
    "How many triangles $ABC$ with perimeter $\\le 100\\,000\\,000$ exist so that the ratio area($ABC$)/area($AEG$) is integral?"
   ]
  },
  {
   "cell_type": "code",
   "execution_count": null,
   "id": "14599459",
   "metadata": {},
   "outputs": [],
   "source": [
    "# Problem 257 workspace"
   ]
  },
  {
   "cell_type": "markdown",
   "id": "64e3ee19",
   "metadata": {},
   "source": [
    "## Answer: "
   ]
  },
  {
   "cell_type": "markdown",
   "id": "3dd5eb03",
   "metadata": {},
   "source": [
    "___"
   ]
  },
  {
   "cell_type": "markdown",
   "id": "f6a845ed",
   "metadata": {},
   "source": [
    "# Problem 258\n",
    " [Source](https://projecteuler.net/problem=258)"
   ]
  },
  {
   "cell_type": "markdown",
   "id": "d3412a67",
   "metadata": {},
   "source": [
    "A sequence is defined as:\n",
    "\n",
    "* $g\\_k = 1$, for $0 \\le k \\le 1999$\n",
    "* $g\\_k = g\\_{k-2000} + g\\_{k - 1999}$, for $k \\ge 2000$.\n",
    "\n",
    "Find $g\\_k \\bmod 20092010$ for $k = 10^{18}$."
   ]
  },
  {
   "cell_type": "code",
   "execution_count": null,
   "id": "bb93873d",
   "metadata": {},
   "outputs": [],
   "source": [
    "# Problem 258 workspace"
   ]
  },
  {
   "cell_type": "markdown",
   "id": "af48d0a8",
   "metadata": {},
   "source": [
    "## Answer: "
   ]
  },
  {
   "cell_type": "markdown",
   "id": "46f2ff09",
   "metadata": {},
   "source": [
    "___"
   ]
  },
  {
   "cell_type": "markdown",
   "id": "759c694e",
   "metadata": {},
   "source": [
    "# Problem 259\n",
    " [Source](https://projecteuler.net/problem=259)"
   ]
  },
  {
   "cell_type": "markdown",
   "id": "6f439bed",
   "metadata": {},
   "source": [
    "A positive integer will be called\n",
    "reachable\n",
    "if it can result from an arithmetic expression obeying the following rules:\n",
    "\n",
    "* Uses the digits $1$ through $9$, in that order and exactly once each.\n",
    "* Any successive digits can be concatenated (for example, using the digits $2$, $3$ and $4$ we obtain the number $234$).\n",
    "* Only the four usual binary arithmetic operations (addition, subtraction, multiplication and division) are allowed.\n",
    "* Each operation can be used any number of times, or not at all.\n",
    "* **Unary minus\n",
    "  A minus sign applied to a single operand (as opposed to a subtraction operator between two operands)**\n",
    "  is not allowed.\n",
    "* Any number of (possibly nested) parentheses may be used to define the order of operations.\n",
    "\n",
    "For example, $42$ is reachable, since $(1 / 23) \\times ((4 \\times 5) - 6) \\times (78 - 9) = 42$.\n",
    "\n",
    "What is the sum of all positive reachable integers?"
   ]
  },
  {
   "cell_type": "code",
   "execution_count": null,
   "id": "07685fa2",
   "metadata": {},
   "outputs": [],
   "source": [
    "# Problem 259 workspace"
   ]
  },
  {
   "cell_type": "markdown",
   "id": "b6b8bac7",
   "metadata": {},
   "source": [
    "## Answer: "
   ]
  },
  {
   "cell_type": "markdown",
   "id": "b59e0174",
   "metadata": {},
   "source": [
    "___"
   ]
  },
  {
   "cell_type": "markdown",
   "id": "511db62e",
   "metadata": {},
   "source": [
    "# Problem 260\n",
    " [Source](https://projecteuler.net/problem=260)"
   ]
  },
  {
   "cell_type": "markdown",
   "id": "a6024027",
   "metadata": {},
   "source": [
    "A game is played with three piles of stones and two players.\n",
    "  \n",
    "On each player's turn, the player may remove one or more stones from the piles. However, if the player takes stones from more than one pile, then the same number of stones must be removed from each of the selected piles.\n",
    "\n",
    "In other words, the player chooses some $N \\gt 0$ and removes:\n",
    "\n",
    "* $N$ stones from any single pile; or\n",
    "* $N$ stones from each of any two piles ($2N$ total); or\n",
    "* $N$ stones from each of the three piles ($3N$ total).\n",
    "\n",
    "The player taking the last stone(s) wins the game.\n",
    "\n",
    "A\n",
    "winning configuration\n",
    "is one where the first player can force a win.\n",
    "  \n",
    "For example, $(0,0,13)$, $(0,11,11)$, and $(5,5,5)$ are winning configurations because the first player can immediately remove all stones.\n",
    "\n",
    "A\n",
    "losing configuration\n",
    "is one where the second player can force a win, no matter what the first player does.\n",
    "  \n",
    "For example, $(0,1,2)$ and $(1,3,3)$ are losing configurations: any legal move leaves a winning configuration for the second player.\n",
    "\n",
    "Consider all losing configurations $(x\\_i, y\\_i, z\\_i)$ where $x\\_i \\le y\\_i \\le z\\_i \\le 100$.\n",
    "  \n",
    "We can verify that $\\sum (x\\_i + y\\_i + z\\_i) = 173895$ for these.\n",
    "\n",
    "Find $\\sum (x\\_i + y\\_i + z\\_i)$ where $(x\\_i, y\\_i, z\\_i)$ ranges over the losing configurations with $x\\_i \\le y\\_i \\le z\\_i \\le 1000$."
   ]
  },
  {
   "cell_type": "code",
   "execution_count": null,
   "id": "a2a795ec",
   "metadata": {},
   "outputs": [],
   "source": [
    "# Problem 260 workspace"
   ]
  },
  {
   "cell_type": "markdown",
   "id": "c9612f23",
   "metadata": {},
   "source": [
    "## Answer: "
   ]
  },
  {
   "cell_type": "markdown",
   "id": "b05d3fa5",
   "metadata": {},
   "source": [
    "___"
   ]
  }
 ],
 "metadata": {},
 "nbformat": 4,
 "nbformat_minor": 5
}
