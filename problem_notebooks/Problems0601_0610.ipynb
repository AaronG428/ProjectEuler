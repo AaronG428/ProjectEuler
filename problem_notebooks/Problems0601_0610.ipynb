{
 "cells": [
  {
   "cell_type": "markdown",
   "id": "2ab40f41",
   "metadata": {},
   "source": [
    "# Problem 601\n",
    " [Source](https://projecteuler.net/problem=601)"
   ]
  },
  {
   "cell_type": "markdown",
   "id": "ae5ca93f",
   "metadata": {},
   "source": [
    "For every positive number $n$ we define the function $\\mathop{streak}(n)=k$ as the smallest positive integer $k$ such that $n+k$ is not divisible by $k+1$.\n",
    "  \n",
    "E.g:\n",
    "  \n",
    "$13$ is divisible by $1$\n",
    "  \n",
    "$14$ is divisible by $2$\n",
    "  \n",
    "$15$ is divisible by $3$\n",
    "  \n",
    "$16$ is divisible by $4$\n",
    "  \n",
    "$17$ is NOT divisible by $5$\n",
    "  \n",
    "So $\\mathop{streak}(13) = 4$.\n",
    "  \n",
    "Similarly:\n",
    "  \n",
    "$120$ is divisible by $1$\n",
    "  \n",
    "$121$ is NOT divisible by $2$\n",
    "  \n",
    "So $\\mathop{streak}(120) = 1$.\n",
    "\n",
    "Define $P(s, N)$ to be the number of integers $n$, $1 \\lt n \\lt N$, for which $\\mathop{streak}(n) = s$.\n",
    "  \n",
    "So $P(3, 14) = 1$ and $P(6, 10^6) = 14286$.\n",
    "\n",
    "Find the sum, as $i$ ranges from $1$ to $31$, of $P(i, 4^i)$."
   ]
  },
  {
   "cell_type": "code",
   "execution_count": null,
   "id": "23232b95",
   "metadata": {},
   "outputs": [],
   "source": [
    "# Problem 601 workspace"
   ]
  },
  {
   "cell_type": "markdown",
   "id": "20fc4705",
   "metadata": {},
   "source": [
    "## Answer: "
   ]
  },
  {
   "cell_type": "markdown",
   "id": "314468f0",
   "metadata": {},
   "source": [
    "___"
   ]
  },
  {
   "cell_type": "markdown",
   "id": "8247ebf7",
   "metadata": {},
   "source": [
    "# Problem 602\n",
    " [Source](https://projecteuler.net/problem=602)"
   ]
  },
  {
   "cell_type": "markdown",
   "id": "6a58fb71",
   "metadata": {},
   "source": [
    "Alice enlists the help of some friends to generate a random number, using a single unfair coin. She and her friends sit around a table and, starting with Alice, they take it in turns to toss the coin. Everyone keeps a count of how many heads they obtain individually. The process ends as soon as Alice obtains a Head. At this point, Alice multiplies all her friends' Head counts together to obtain her random number.\n",
    "\n",
    "As an illustration, suppose Alice is assisted by Bob, Charlie, and Dawn, who are seated round the table in that order, and that they obtain the sequence of Head/Tail outcomes\n",
    "**THHH—TTTT—THHT—H**\n",
    "beginning and ending with Alice. Then Bob and Charlie each obtain 2 heads, and Dawn obtains 1 head. Alice's random number is therefore $2\\times 2\\times 1 = 4$.\n",
    "\n",
    "Define $e(n, p)$ to be the expected value of Alice's random number, where $n$ is the number of friends helping (excluding Alice herself), and $p$ is the probability of the coin coming up Tails.\n",
    "\n",
    "It turns out that, for any fixed $n$, $e(n, p)$ is always a polynomial in $p$. For example, $e(3, p) = p^3 + 4p^2 + p$.\n",
    "\n",
    "Define $c(n, k)$ to be the coefficient of $p^k$ in the polynomial $e(n, p)$. So $c(3, 1) = 1$, $c(3, 2) = 4$, and $c(3, 3) = 1$.\n",
    "\n",
    "You are given that $c(100, 40) \\equiv 986699437 \\text{ } (\\text{mod } 10^9+7)$.\n",
    "\n",
    "Find $c(10000000, 4000000) \\mod 10^9+7$."
   ]
  },
  {
   "cell_type": "code",
   "execution_count": null,
   "id": "ed36ac59",
   "metadata": {},
   "outputs": [],
   "source": [
    "# Problem 602 workspace"
   ]
  },
  {
   "cell_type": "markdown",
   "id": "777b34e8",
   "metadata": {},
   "source": [
    "## Answer: "
   ]
  },
  {
   "cell_type": "markdown",
   "id": "67567843",
   "metadata": {},
   "source": [
    "___"
   ]
  },
  {
   "cell_type": "markdown",
   "id": "b096213d",
   "metadata": {},
   "source": [
    "# Problem 603\n",
    " [Source](https://projecteuler.net/problem=603)"
   ]
  },
  {
   "cell_type": "markdown",
   "id": "84a1ae8e",
   "metadata": {},
   "source": [
    "Let $S(n)$ be the sum of all contiguous integer-substrings that can be formed from the integer $n$. The substrings need not be distinct.\n",
    "\n",
    "For example, $S(2024) = 2 + 0 + 2 + 4 + 20 + 02 + 24 + 202 + 024 + 2024 = 2304$.\n",
    "\n",
    "Let $P(n)$ be the integer formed by concatenating the first $n$ primes together. For example, $P(7) = 2357111317$.\n",
    "\n",
    "Let $C(n, k)$ be the integer formed by concatenating $k$ copies of $P(n)$ together. For example, $C(7, 3) = 235711131723571113172357111317$.\n",
    "\n",
    "Evaluate $S(C(10^6, 10^{12})) \\bmod (10^9 + 7)$."
   ]
  },
  {
   "cell_type": "code",
   "execution_count": null,
   "id": "a92f633f",
   "metadata": {},
   "outputs": [],
   "source": [
    "# Problem 603 workspace"
   ]
  },
  {
   "cell_type": "markdown",
   "id": "2d260456",
   "metadata": {},
   "source": [
    "## Answer: "
   ]
  },
  {
   "cell_type": "markdown",
   "id": "5f7f3eac",
   "metadata": {},
   "source": [
    "___"
   ]
  },
  {
   "cell_type": "markdown",
   "id": "7718980f",
   "metadata": {},
   "source": [
    "# Problem 604\n",
    " [Source](https://projecteuler.net/problem=604)"
   ]
  },
  {
   "cell_type": "markdown",
   "id": "6f307351",
   "metadata": {},
   "source": [
    "Let $F(N)$ be the maximum number of lattice points in an axis-aligned $N\\times N$ square that the graph of a single\n",
    "**strictly convex**\n",
    "increasing function can pass through.\n",
    "\n",
    "You are given that $F(1) = 2$, $F(3) = 3$, $F(9) = 6$, $F(11) = 7$, $F(100) = 30$ and $F(50000) = 1898$.\n",
    "  \n",
    "Below is the graph of a function reaching the maximum $3$ for $N=3$:\n",
    "\n",
    "![0604_convex3.png](resources/0604_convex3.png)\n",
    "\n",
    "Find $F(10^{18})$."
   ]
  },
  {
   "cell_type": "code",
   "execution_count": null,
   "id": "9ec60ab3",
   "metadata": {},
   "outputs": [],
   "source": [
    "# Problem 604 workspace"
   ]
  },
  {
   "cell_type": "markdown",
   "id": "65b142d1",
   "metadata": {},
   "source": [
    "## Answer: "
   ]
  },
  {
   "cell_type": "markdown",
   "id": "3608f701",
   "metadata": {},
   "source": [
    "___"
   ]
  },
  {
   "cell_type": "markdown",
   "id": "d8214b29",
   "metadata": {},
   "source": [
    "# Problem 605\n",
    " [Source](https://projecteuler.net/problem=605)"
   ]
  },
  {
   "cell_type": "markdown",
   "id": "33ce5100",
   "metadata": {},
   "source": [
    "Consider an $n$-player game played in consecutive pairs: Round $1$ takes place between players $1$ and $2$, round $2$ takes place between players $2$ and $3$, and so on and so forth, all the way up to round $n$, which takes place between players $n$ and $1$. Then round $n+1$ takes place between players $1$ and $2$ as the entire cycle starts again.\n",
    "\n",
    "In other words, during round $r$, player $((r-1) \\bmod n) + 1$ faces off against player $(r \\bmod n) + 1$.\n",
    "\n",
    "During each round, a fair coin is tossed to decide which of the two players wins that round. If any given player wins both rounds $r$ and $r+1$, then that player wins the entire game.\n",
    "\n",
    "Let $P\\_n(k)$ be the probability that player $k$ wins in an $n$-player game, in the form of a reduced fraction. For example, $P\\_3(1) = 12/49$ and $P\\_6(2) = 368/1323$.\n",
    "\n",
    "Let $M\\_n(k)$ be the product of the reduced numerator and denominator of $P\\_n(k)$. For example, $M\\_3(1) = 588$ and $M\\_6(2) = 486864$.\n",
    "\n",
    "Find the last $8$ digits of $M\\_{10^8+7}(10^4+7)$."
   ]
  },
  {
   "cell_type": "code",
   "execution_count": null,
   "id": "abb68a5d",
   "metadata": {},
   "outputs": [],
   "source": [
    "# Problem 605 workspace"
   ]
  },
  {
   "cell_type": "markdown",
   "id": "63afdbd9",
   "metadata": {},
   "source": [
    "## Answer: "
   ]
  },
  {
   "cell_type": "markdown",
   "id": "327904bf",
   "metadata": {},
   "source": [
    "___"
   ]
  },
  {
   "cell_type": "markdown",
   "id": "ac86709c",
   "metadata": {},
   "source": [
    "# Problem 606\n",
    " [Source](https://projecteuler.net/problem=606)"
   ]
  },
  {
   "cell_type": "markdown",
   "id": "e6f6771c",
   "metadata": {},
   "source": [
    "A\n",
    "**gozinta chain**\n",
    "for $n$ is a sequence $\\{1,a,b,\\dots,n\\}$ where each element properly divides the next.\n",
    "  \n",
    "For example, there are eight distinct gozinta chains for $12$:\n",
    "  \n",
    "$\\{1,12\\}$, $\\{1,2,12\\}$, $\\{1,2,4,12\\}$, $\\{1,2,6,12\\}$, $\\{1,3,12\\}$, $\\{1,3,6,12\\}$, $\\{1,4,12\\}$ and $\\{1,6,12\\}$.\n",
    "\n",
    "Let $S(n)$ be the sum of all numbers, $k$, not exceeding $n$, which have $252$ distinct gozinta chains.\n",
    "  \n",
    "You are given $S(10^6)=8462952$ and $S(10^{12})=623291998881978$.\n",
    "\n",
    "Find $S(10^{36})$, giving the last nine digits of your answer."
   ]
  },
  {
   "cell_type": "code",
   "execution_count": null,
   "id": "091d9c4f",
   "metadata": {},
   "outputs": [],
   "source": [
    "# Problem 606 workspace"
   ]
  },
  {
   "cell_type": "markdown",
   "id": "6fdcd0e5",
   "metadata": {},
   "source": [
    "## Answer: "
   ]
  },
  {
   "cell_type": "markdown",
   "id": "5e8541fe",
   "metadata": {},
   "source": [
    "___"
   ]
  },
  {
   "cell_type": "markdown",
   "id": "a9814220",
   "metadata": {},
   "source": [
    "# Problem 607\n",
    " [Source](https://projecteuler.net/problem=607)"
   ]
  },
  {
   "cell_type": "markdown",
   "id": "8a187318",
   "metadata": {},
   "source": [
    "Frodo and Sam need to travel 100 leagues due East from point A to point B. On normal terrain, they can cover 10 leagues per day, and so the journey would take 10 days. However, their path is crossed by a long marsh which runs exactly South-West to North-East, and walking through the marsh will slow them down. The marsh is 50 leagues wide at all points, and the mid-point of AB is located in the middle of the marsh. A map of the region is shown in the diagram below:\n",
    "\n",
    "![0607_marsh.png](resources/0607_marsh.png)\n",
    "\n",
    "The marsh consists of 5 distinct regions, each 10 leagues across, as shown by the shading in the map. The strip closest to point A is relatively light marsh, and can be crossed at a speed of 9 leagues per day. However, each strip becomes progressively harder to navigate, the speeds going down to 8, 7, 6 and finally 5 leagues per day for the final region of marsh, before it ends and the terrain becomes easier again, with the speed going back to 10 leagues per day.\n",
    "\n",
    "If Frodo and Sam were to head directly East for point B, they would travel exactly 100 leagues, and the journey would take approximately 13.4738 days. However, this time can be shortened if they deviate from the direct path.\n",
    "\n",
    "Find the shortest possible time required to travel from point A to B, and give your answer in days, rounded to 10 decimal places."
   ]
  },
  {
   "cell_type": "code",
   "execution_count": null,
   "id": "d9e58a3b",
   "metadata": {},
   "outputs": [],
   "source": [
    "# Problem 607 workspace"
   ]
  },
  {
   "cell_type": "markdown",
   "id": "31382448",
   "metadata": {},
   "source": [
    "## Answer: "
   ]
  },
  {
   "cell_type": "markdown",
   "id": "f40e66ad",
   "metadata": {},
   "source": [
    "___"
   ]
  },
  {
   "cell_type": "markdown",
   "id": "11a503a3",
   "metadata": {},
   "source": [
    "# Problem 608\n",
    " [Source](https://projecteuler.net/problem=608)"
   ]
  },
  {
   "cell_type": "markdown",
   "id": "39cc4818",
   "metadata": {},
   "source": [
    "Let $D(m,n)=\\displaystyle\\sum\\_{d\\mid m}\\sum\\_{k=1}^n\\sigma\\_0(kd)$ where $d$ runs through all divisors of $m$ and $\\sigma\\_0(n)$ is the number of divisors of $n$.\n",
    "  \n",
    "You are given $D(3!,10^2)=3398$ and $D(4!,10^6)=268882292$.\n",
    "\n",
    "Find $D(200!,10^{12}) \\bmod (10^9 + 7)$."
   ]
  },
  {
   "cell_type": "code",
   "execution_count": null,
   "id": "9c21a590",
   "metadata": {},
   "outputs": [],
   "source": [
    "# Problem 608 workspace"
   ]
  },
  {
   "cell_type": "markdown",
   "id": "c29482bd",
   "metadata": {},
   "source": [
    "## Answer: "
   ]
  },
  {
   "cell_type": "markdown",
   "id": "c6d6e2d2",
   "metadata": {},
   "source": [
    "___"
   ]
  },
  {
   "cell_type": "markdown",
   "id": "2906e4b2",
   "metadata": {},
   "source": [
    "# Problem 609\n",
    " [Source](https://projecteuler.net/problem=609)"
   ]
  },
  {
   "cell_type": "markdown",
   "id": "a69a69fc",
   "metadata": {},
   "source": [
    "For every $n \\ge 1$ the\n",
    "**prime-counting**\n",
    "function $\\pi(n)$ is equal to the number of primes\n",
    "not exceeding $n$.\n",
    "  \n",
    "E.g. $\\pi(6)=3$ and $\\pi(100)=25$.\n",
    "\n",
    "We say that a sequence of integers $u = (u\\_0,\\cdots,u\\_m)$ is a\n",
    "$\\pi$ sequence\n",
    "if\n",
    "\n",
    "* $u\\_n \\ge 1$ for every $n$\n",
    "* $u\\_{n+1}= \\pi(u\\_n)$\n",
    "* $u$ has two or more elements\n",
    "\n",
    "For $u\\_0=10$ there are three distinct $\\pi$ sequences: $(10,4)$, $(10,4,2)$ and $(10,4,2,1)$.\n",
    "\n",
    "Let $c(u)$ be the number of elements of $u$ that are not prime.\n",
    "  \n",
    "Let $p(n,k)$ be the number of $\\pi$ sequences $u$ for which $u\\_0\\le n$ and $c(u)=k$.\n",
    "  \n",
    "Let $P(n)$ be the product of all $p(n,k)$ that are larger than $0$.\n",
    "  \n",
    "You are given: $P(10)=3 \\times 8 \\times 9 \\times 3=648$ and $P(100)=31038676032$.\n",
    "\n",
    "Find $P(10^8)$. Give your answer modulo $1000000007$."
   ]
  },
  {
   "cell_type": "code",
   "execution_count": null,
   "id": "b53f784c",
   "metadata": {},
   "outputs": [],
   "source": [
    "# Problem 609 workspace"
   ]
  },
  {
   "cell_type": "markdown",
   "id": "8bdf380b",
   "metadata": {},
   "source": [
    "## Answer: "
   ]
  },
  {
   "cell_type": "markdown",
   "id": "4dd772a3",
   "metadata": {},
   "source": [
    "___"
   ]
  },
  {
   "cell_type": "markdown",
   "id": "9ed0227d",
   "metadata": {},
   "source": [
    "# Problem 610\n",
    " [Source](https://projecteuler.net/problem=610)"
   ]
  },
  {
   "cell_type": "markdown",
   "id": "33241a0a",
   "metadata": {},
   "source": [
    "A random generator produces a sequence of symbols drawn from the set {\n",
    "I\n",
    ",\n",
    "V\n",
    ",\n",
    "X\n",
    ",\n",
    "L\n",
    ",\n",
    "C\n",
    ",\n",
    "D\n",
    ",\n",
    "M\n",
    ",\n",
    "#\n",
    "}. Each item in the sequence is determined by selecting one of these symbols at random, independently of the other items in the sequence. At each step, the seven letters are equally likely to be selected, with probability 14% each, but the\n",
    "#\n",
    "symbol only has a 2% chance of selection.\n",
    "\n",
    "We write down the sequence of letters from left to right as they are generated, and we stop at the first occurrence of the\n",
    "#\n",
    "symbol (without writing it). However, we stipulate that what we have written down must always (when non-empty) be a valid Roman numeral representation in minimal form. If appending the next letter would contravene this then we simply skip it and try again with the next symbol generated.\n",
    "\n",
    "Please take careful note of\n",
    "[About... Roman Numerals](about=roman_numerals)\n",
    "for the definitive rules for this problem on what constitutes a \"valid Roman numeral representation\" and \"minimal form\". For example, the (only) sequence that represents 49 is\n",
    "XLIX\n",
    ". The subtractive combination\n",
    "IL\n",
    "is invalid because of rule (ii), while\n",
    "XXXXIX\n",
    "is valid but not minimal. The rules do not place any restriction on the number of occurrences of\n",
    "M\n",
    ", so all positive integers have a valid representation. These are the same rules as were used in\n",
    "[Problem 89](problem=89)\n",
    ", and members are invited to solve that problem first.\n",
    "\n",
    "Find the expected value of the number represented by what we have written down when we stop. (If nothing is written down then count that as zero.) Give your answer rounded to 8 places after the decimal point."
   ]
  },
  {
   "cell_type": "code",
   "execution_count": null,
   "id": "a152781b",
   "metadata": {},
   "outputs": [],
   "source": [
    "# Problem 610 workspace"
   ]
  },
  {
   "cell_type": "markdown",
   "id": "2a02adce",
   "metadata": {},
   "source": [
    "## Answer: "
   ]
  },
  {
   "cell_type": "markdown",
   "id": "fcf6bdc1",
   "metadata": {},
   "source": [
    "___"
   ]
  }
 ],
 "metadata": {},
 "nbformat": 4,
 "nbformat_minor": 5
}
