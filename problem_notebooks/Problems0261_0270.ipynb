{
 "cells": [
  {
   "cell_type": "markdown",
   "id": "9cc3c9ca",
   "metadata": {},
   "source": [
    "# Problem 261\n",
    " [Source](https://projecteuler.net/problem=261)"
   ]
  },
  {
   "cell_type": "markdown",
   "id": "231ad863",
   "metadata": {},
   "source": [
    "Let us call a positive integer $k$ a\n",
    "square-pivot\n",
    ", if there is a pair of integers $m \\gt 0$ and $n \\ge k$, such that the sum of the $(m+1)$ consecutive squares up to $k$ equals the sum of the $m$ consecutive squares from $(n+1)$ on:\n",
    "\n",
    "$$(k - m)^2 + \\cdots + k^2 = (n + 1)^2 + \\cdots + (n + m)^2.$$\n",
    "\n",
    "Some small square-pivots are\n",
    "\n",
    "* $\\mathbf 4$: $3^2 + \\mathbf 4^2 = 5^2$\n",
    "* $\\mathbf{21}$: $20^2 + \\mathbf{21}^2 = 29^2$\n",
    "* $\\mathbf{24}$: $21^2 + 22^2 + 23^2 + \\mathbf{24}^2 = 25^2 + 26^2 + 27^2$\n",
    "* $\\mathbf{110}$: $108^2 + 109^2 + \\mathbf{110}^2 = 133^2 + 134^2$\n",
    "\n",
    "Find the sum of all\n",
    "**distinct**\n",
    "square-pivots $\\le 10^{10}$."
   ]
  },
  {
   "cell_type": "code",
   "execution_count": null,
   "id": "2275f80d",
   "metadata": {},
   "outputs": [],
   "source": [
    "# Problem 261 workspace"
   ]
  },
  {
   "cell_type": "markdown",
   "id": "8beab4d8",
   "metadata": {},
   "source": [
    "## Answer: "
   ]
  },
  {
   "cell_type": "markdown",
   "id": "1572f93d",
   "metadata": {},
   "source": [
    "___"
   ]
  },
  {
   "cell_type": "markdown",
   "id": "873903ca",
   "metadata": {},
   "source": [
    "# Problem 262\n",
    " [Source](https://projecteuler.net/problem=262)"
   ]
  },
  {
   "cell_type": "markdown",
   "id": "38c38105",
   "metadata": {},
   "source": [
    "The following equation represents the\n",
    "*continuous*\n",
    "topography of a mountainous region, giving the\n",
    "**elevation\n",
    "height above sea level**\n",
    "$h$ at any point $(x, y)$:\n",
    "$$h = \\left(5000 - \\frac{x^2 + y^2 + xy}{200} + \\frac{25(x + y)}2\\right) \\cdot e^{-\\left|\\frac{x^2 + y^2}{1000000} - \\frac{3(x + y)}{2000} + \\frac 7 {10}\\right|}.$$\n",
    "\n",
    "A mosquito intends to fly from $A(200,200)$ to $B(1400,1400)$, without leaving the area given by $0 \\le x, y \\le 1600$.\n",
    "\n",
    "Because of the intervening mountains, it first rises straight up to a point $A^\\prime$, having elevation $f$. Then, while remaining at the same elevation $f$, it flies around any obstacles until it arrives at a point $B^\\prime$ directly above $B$.\n",
    "\n",
    "First, determine $f\\_{\\mathrm{min}}$ which is the minimum constant elevation allowing such a trip from $A$ to $B$, while remaining in the specified area.\n",
    "  \n",
    "Then, find the length of the shortest path between $A^\\prime$ and $B^\\prime$, while flying at that constant elevation $f\\_{\\mathrm{min}}$.\n",
    "\n",
    "Give that length as your answer, rounded to three decimal places.\n",
    "\n",
    "Note\n",
    ": For convenience, the elevation function shown above is repeated below, in a form suitable for most programming languages:\n",
    "  \n",
    "h=( 5000-0.005\\*(x\\*x+y\\*y+x\\*y)+12.5\\*(x+y) ) \\* exp( -abs(0.000001\\*(x\\*x+y\\*y)-0.0015\\*(x+y)+0.7) )"
   ]
  },
  {
   "cell_type": "code",
   "execution_count": null,
   "id": "132ce87b",
   "metadata": {},
   "outputs": [],
   "source": [
    "# Problem 262 workspace"
   ]
  },
  {
   "cell_type": "markdown",
   "id": "6f1feb2d",
   "metadata": {},
   "source": [
    "## Answer: "
   ]
  },
  {
   "cell_type": "markdown",
   "id": "14a793ba",
   "metadata": {},
   "source": [
    "___"
   ]
  },
  {
   "cell_type": "markdown",
   "id": "6aa274af",
   "metadata": {},
   "source": [
    "# Problem 263\n",
    " [Source](https://projecteuler.net/problem=263)"
   ]
  },
  {
   "cell_type": "markdown",
   "id": "4826ea84",
   "metadata": {},
   "source": [
    "Consider the number $6$. The divisors of $6$ are: $1,2,3$ and $6$.\n",
    "  \n",
    "Every number from $1$ up to and including $6$ can be written as a sum of distinct divisors of $6$:\n",
    "  \n",
    "$1=1$, $2=2$, $3=1+2$, $4=1+3$, $5=2+3$, $6=6$.\n",
    "  \n",
    "A number $n$ is called a practical number if every number from $1$ up to and including $n$ can be expressed as a sum of distinct divisors of $n$.\n",
    "\n",
    "A pair of consecutive prime numbers with a difference of six is called a sexy pair (since \"sex\" is the Latin word for \"six\"). The first sexy pair is $(23, 29)$.\n",
    "\n",
    "We may occasionally find a triple-pair, which means three consecutive sexy prime pairs, such that the second member of each pair is the first member of the next pair.\n",
    "\n",
    "We shall call a number $n$ such that :\n",
    "\n",
    "* $(n-9, n-3)$, $(n-3,n+3)$, $(n+3, n+9)$ form a triple-pair, and\n",
    "* the numbers $n-8$, $n-4$, $n$, $n+4$ and $n+8$ are all practical,\n",
    "\n",
    "an engineers’ paradise.\n",
    "\n",
    "Find the sum of the first four engineers’ paradises."
   ]
  },
  {
   "cell_type": "code",
   "execution_count": null,
   "id": "5b805fa2",
   "metadata": {},
   "outputs": [],
   "source": [
    "# Problem 263 workspace"
   ]
  },
  {
   "cell_type": "markdown",
   "id": "8de8e48c",
   "metadata": {},
   "source": [
    "## Answer: "
   ]
  },
  {
   "cell_type": "markdown",
   "id": "1718de68",
   "metadata": {},
   "source": [
    "___"
   ]
  },
  {
   "cell_type": "markdown",
   "id": "cc5f5b1e",
   "metadata": {},
   "source": [
    "# Problem 264\n",
    " [Source](https://projecteuler.net/problem=264)"
   ]
  },
  {
   "cell_type": "markdown",
   "id": "ceee90b3",
   "metadata": {},
   "source": [
    "Consider all the triangles having:\n",
    "\n",
    "* All their vertices on\n",
    "  **lattice points\n",
    "  Integer coordinates**\n",
    "  .\n",
    "* **Circumcentre\n",
    "  Centre of the circumscribed circle**\n",
    "  at the origin $O$.\n",
    "* **Orthocentre\n",
    "  Point where the three altitudes meet**\n",
    "  at the point $H(5, 0)$.\n",
    "\n",
    "There are nine such triangles having a perimeter $\\le 50$.\n",
    "  \n",
    "Listed and shown in ascending order of their perimeter, they are:\n",
    "\n",
    "|  |  |\n",
    "| --- | --- |\n",
    "| $A(-4, 3)$, $B(5, 0)$, $C(4, -3)$   $A(4, 3)$, $B(5, 0)$, $C(-4, -3)$   $A(-3, 4)$, $B(5, 0)$, $C(3, -4)$       $A(3, 4)$, $B(5, 0)$, $C(-3, -4)$   $A(0, 5)$, $B(5, 0)$, $C(0, -5)$   $A(1, 8)$, $B(8, -1)$, $C(-4, -7)$       $A(8, 1)$, $B(1, -8)$, $C(-4, 7)$   $A(2, 9)$, $B(9, -2)$, $C(-6, -7)$   $A(9, 2)$, $B(2, -9)$, $C(-6, 7)$ | 0264_TriangleCentres.gif |\n",
    "\n",
    "The sum of their perimeters, rounded to four decimal places, is $291.0089$.\n",
    "\n",
    "Find all such triangles with a perimeter $\\le 10^5$.\n",
    "  \n",
    "Enter as your answer the sum of their perimeters rounded to four decimal places."
   ]
  },
  {
   "cell_type": "code",
   "execution_count": null,
   "id": "076700c7",
   "metadata": {},
   "outputs": [],
   "source": [
    "# Problem 264 workspace"
   ]
  },
  {
   "cell_type": "markdown",
   "id": "5df7d8bb",
   "metadata": {},
   "source": [
    "## Answer: "
   ]
  },
  {
   "cell_type": "markdown",
   "id": "26ae58ae",
   "metadata": {},
   "source": [
    "___"
   ]
  },
  {
   "cell_type": "markdown",
   "id": "3a526fbd",
   "metadata": {},
   "source": [
    "# Problem 265\n",
    " [Source](https://projecteuler.net/problem=265)"
   ]
  },
  {
   "cell_type": "markdown",
   "id": "9c441614",
   "metadata": {},
   "source": [
    "$2^N$ binary digits can be placed in a circle so that all the $N$-digit clockwise subsequences are distinct.\n",
    "\n",
    "For $N=3$, two such circular arrangements are possible, ignoring rotations:\n",
    "\n",
    "![0265_BinaryCircles.gif](resources/0265_BinaryCircles.gif)\n",
    "\n",
    "For the first arrangement, the $3$-digit subsequences, in clockwise order, are:\n",
    "  \n",
    "$000$, $001$, $010$, $101$, $011$, $111$, $110$ and $100$.\n",
    "\n",
    "Each circular arrangement can be encoded as a number by concatenating the binary digits starting with the subsequence of all zeros as the most significant bits and proceeding clockwise. The two arrangements for $N=3$ are thus represented as $23$ and $29$:\n",
    "\n",
    "$$\\begin{align}\n",
    "00010111\\_2 &= 23\\\\\n",
    "00011101\\_2 &= 29\n",
    "\\end{align}$$\n",
    "\n",
    "Calling $S(N)$ the sum of the unique numeric representations, we can see that $S(3) = 23 + 29 = 52$.\n",
    "\n",
    "Find $S(5)$."
   ]
  },
  {
   "cell_type": "code",
   "execution_count": null,
   "id": "62300012",
   "metadata": {},
   "outputs": [],
   "source": [
    "# Problem 265 workspace"
   ]
  },
  {
   "cell_type": "markdown",
   "id": "9f18caa0",
   "metadata": {},
   "source": [
    "## Answer: "
   ]
  },
  {
   "cell_type": "markdown",
   "id": "c717183b",
   "metadata": {},
   "source": [
    "___"
   ]
  },
  {
   "cell_type": "markdown",
   "id": "144f8739",
   "metadata": {},
   "source": [
    "# Problem 266\n",
    " [Source](https://projecteuler.net/problem=266)"
   ]
  },
  {
   "cell_type": "markdown",
   "id": "a29f22fa",
   "metadata": {},
   "source": [
    "The divisors of $12$ are: $1,2,3,4,6$ and $12$.\n",
    "  \n",
    "The largest divisor of $12$ that does not exceed the square root of $12$ is $3$.\n",
    "  \n",
    "We shall call the largest divisor of an integer $n$ that does not exceed the square root of $n$ the pseudo square root ($\\operatorname{PSR}$) of $n$.\n",
    "  \n",
    "It can be seen that $\\operatorname{PSR}(3102)=47$.\n",
    "\n",
    "Let $p$ be the product of the primes below $190$.\n",
    "  \n",
    "Find $\\operatorname{PSR}(p) \\bmod 10^{16}$."
   ]
  },
  {
   "cell_type": "code",
   "execution_count": null,
   "id": "dd4d20b3",
   "metadata": {},
   "outputs": [],
   "source": [
    "# Problem 266 workspace"
   ]
  },
  {
   "cell_type": "markdown",
   "id": "4330787f",
   "metadata": {},
   "source": [
    "## Answer: "
   ]
  },
  {
   "cell_type": "markdown",
   "id": "50c78d70",
   "metadata": {},
   "source": [
    "___"
   ]
  },
  {
   "cell_type": "markdown",
   "id": "a6635817",
   "metadata": {},
   "source": [
    "# Problem 267\n",
    " [Source](https://projecteuler.net/problem=267)"
   ]
  },
  {
   "cell_type": "markdown",
   "id": "0a59dfc8",
   "metadata": {},
   "source": [
    "You are given a unique investment opportunity.\n",
    "\n",
    "Starting with £1 of capital, you can choose a fixed proportion,\n",
    "f\n",
    ", of your capital to bet on a fair coin toss repeatedly for 1000 tosses.\n",
    "\n",
    "Your return is double your bet for heads and you lose your bet for tails.\n",
    "\n",
    "For example, if\n",
    "f\n",
    "= 1/4, for the first toss you bet £0.25, and if heads comes up you win £0.5 and so then have £1.5. You then bet £0.375 and if the second toss is tails, you have £1.125.\n",
    "\n",
    "Choosing\n",
    "f\n",
    "to maximize your chances of having at least £1,000,000,000 after 1,000 flips, what is the chance that you become a billionaire?\n",
    "\n",
    "All computations are assumed to be exact (no rounding), but give your answer rounded to 12 digits behind the decimal point in the form 0.abcdefghijkl."
   ]
  },
  {
   "cell_type": "code",
   "execution_count": null,
   "id": "9ef3638c",
   "metadata": {},
   "outputs": [],
   "source": [
    "# Problem 267 workspace"
   ]
  },
  {
   "cell_type": "markdown",
   "id": "c4547cea",
   "metadata": {},
   "source": [
    "## Answer: "
   ]
  },
  {
   "cell_type": "markdown",
   "id": "3e5f623d",
   "metadata": {},
   "source": [
    "___"
   ]
  },
  {
   "cell_type": "markdown",
   "id": "a9a9248b",
   "metadata": {},
   "source": [
    "# Problem 268\n",
    " [Source](https://projecteuler.net/problem=268)"
   ]
  },
  {
   "cell_type": "markdown",
   "id": "5cfe8b25",
   "metadata": {},
   "source": [
    "It can be verified that there are $23$ positive integers less than $1000$ that are divisible by at least four distinct primes less than $100$.\n",
    "\n",
    "Find how many positive integers less than $10^{16}$ are divisible by at least four distinct primes less than $100$."
   ]
  },
  {
   "cell_type": "code",
   "execution_count": null,
   "id": "6bb51dbf",
   "metadata": {},
   "outputs": [],
   "source": [
    "# Problem 268 workspace"
   ]
  },
  {
   "cell_type": "markdown",
   "id": "6cf9242d",
   "metadata": {},
   "source": [
    "## Answer: "
   ]
  },
  {
   "cell_type": "markdown",
   "id": "891dd784",
   "metadata": {},
   "source": [
    "___"
   ]
  },
  {
   "cell_type": "markdown",
   "id": "67c3de69",
   "metadata": {},
   "source": [
    "# Problem 269\n",
    " [Source](https://projecteuler.net/problem=269)"
   ]
  },
  {
   "cell_type": "markdown",
   "id": "72719b9b",
   "metadata": {},
   "source": [
    "A root or zero of a polynomial $P(x)$ is a solution to the equation $P(x) = 0$.\n",
    "  \n",
    "Define $P\\_n$ as the polynomial whose coefficients are the digits of $n$.\n",
    "  \n",
    "For example, $P\\_{5703}(x) = 5x^3 + 7x^2 + 3$.\n",
    "\n",
    "We can see that:\n",
    "\n",
    "* $P\\_n(0)$ is the last digit of $n$,\n",
    "* $P\\_n(1)$ is the sum of the digits of $n$,\n",
    "* $P\\_n(10)$ is $n$ itself.\n",
    "\n",
    "Define $Z(k)$ as the number of positive integers, $n$, not exceeding $k$ for which the polynomial $P\\_n$ has at least one integer root.\n",
    "\n",
    "It can be verified that $Z(100\\,000)$ is $14696$.\n",
    "\n",
    "What is $Z(10^{16})$?"
   ]
  },
  {
   "cell_type": "code",
   "execution_count": null,
   "id": "c62ea074",
   "metadata": {},
   "outputs": [],
   "source": [
    "# Problem 269 workspace"
   ]
  },
  {
   "cell_type": "markdown",
   "id": "ccea9665",
   "metadata": {},
   "source": [
    "## Answer: "
   ]
  },
  {
   "cell_type": "markdown",
   "id": "22d3bb25",
   "metadata": {},
   "source": [
    "___"
   ]
  },
  {
   "cell_type": "markdown",
   "id": "cb6bb00f",
   "metadata": {},
   "source": [
    "# Problem 270\n",
    " [Source](https://projecteuler.net/problem=270)"
   ]
  },
  {
   "cell_type": "markdown",
   "id": "c7967920",
   "metadata": {},
   "source": [
    "A square piece of paper with integer dimensions $N \\times N$ is placed with a corner at the origin and two of its sides along the $x$- and $y$-axes. Then, we cut it up respecting the following rules:\n",
    "\n",
    "* We only make straight cuts between two points lying on different sides of the square, and having integer coordinates.\n",
    "* Two cuts cannot cross, but several cuts can meet at the same border point.\n",
    "* Proceed until no more legal cuts can be made.\n",
    "\n",
    "Counting any reflections or rotations as distinct, we call $C(N)$ the number of ways to cut an $N \\times N$ square. For example, $C(1) = 2$ and $C(2) = 30$ (shown below).\n",
    "\n",
    "![0270_CutSquare.gif](resources/0270_CutSquare.gif)\n",
    "\n",
    "What is $C(30) \\bmod 10^8$?"
   ]
  },
  {
   "cell_type": "code",
   "execution_count": null,
   "id": "b3442765",
   "metadata": {},
   "outputs": [],
   "source": [
    "# Problem 270 workspace"
   ]
  },
  {
   "cell_type": "markdown",
   "id": "298a8f1c",
   "metadata": {},
   "source": [
    "## Answer: "
   ]
  },
  {
   "cell_type": "markdown",
   "id": "01464496",
   "metadata": {},
   "source": [
    "___"
   ]
  }
 ],
 "metadata": {},
 "nbformat": 4,
 "nbformat_minor": 5
}
