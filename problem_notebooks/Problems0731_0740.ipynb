{
 "cells": [
  {
   "cell_type": "markdown",
   "id": "024c7d32",
   "metadata": {},
   "source": [
    "# Problem 731\n",
    " [Source](https://projecteuler.net/problem=731)"
   ]
  },
  {
   "cell_type": "markdown",
   "id": "c32f3bac",
   "metadata": {},
   "source": [
    "$$A=\\sum\\_{i=1}^{\\infty} \\frac{1}{3^i 10^{3^i}}$$\n",
    "\n",
    "Define $A(n)$ to be the $10$ decimal digits from the $n$th digit onward.\n",
    "For example, $A(100) = 4938271604$ and $A(10^8)=2584642393$.\n",
    "\n",
    "Find $A(10^{16})$."
   ]
  },
  {
   "cell_type": "code",
   "execution_count": null,
   "id": "37697cf7",
   "metadata": {},
   "outputs": [],
   "source": [
    "# Problem 731 workspace"
   ]
  },
  {
   "cell_type": "markdown",
   "id": "339a49db",
   "metadata": {},
   "source": [
    "## Answer: "
   ]
  },
  {
   "cell_type": "markdown",
   "id": "8b93b996",
   "metadata": {},
   "source": [
    "___"
   ]
  },
  {
   "cell_type": "markdown",
   "id": "81fcfa3f",
   "metadata": {},
   "source": [
    "# Problem 732\n",
    " [Source](https://projecteuler.net/problem=732)"
   ]
  },
  {
   "cell_type": "markdown",
   "id": "286b3d4e",
   "metadata": {},
   "source": [
    "$N$ trolls are in a hole that is $D\\_N$ cm deep. The $n$-th troll is characterized by:\n",
    "\n",
    "* the distance from his feet to his shoulders in cm, $h\\_n$\n",
    "* the length of his arms in cm, $l\\_n$\n",
    "* his IQ (Irascibility Quotient), $q\\_n$.\n",
    "\n",
    "Trolls can pile up on top of each other, with each troll standing on the shoulders of the one below him. A troll can climb out of the hole and escape if his hands can reach to the surface. Once a troll escapes he cannot participate any further in the escaping effort.\n",
    "\n",
    "The trolls execute an optimal strategy for maximizing the total IQ of the escaping trolls, defined as $Q(N)$.\n",
    "\n",
    "Let\n",
    "  \n",
    "$r\\_n = \\left[ \\left( 5^n \\bmod (10^9 + 7) \\right) \\bmod 101 \\right] + 50$\n",
    "  \n",
    "$h\\_n = r\\_{3n}$\n",
    "  \n",
    "$l\\_n = r\\_{3n+1}$\n",
    "  \n",
    "$q\\_n = r\\_{3n+2}$\n",
    "  \n",
    "$D\\_N = \\frac{1}{\\sqrt{2}} \\sum\\_{n=0}^{N-1} h\\_n$.\n",
    "\n",
    "For example, the first troll ($n=0$) is 51cm tall to his shoulders, has 55cm long arms, and has an IQ of 75.\n",
    "\n",
    "You are given that $Q(5) = 401$ and $Q(15)=941$.\n",
    "\n",
    "Find $Q(1000)$."
   ]
  },
  {
   "cell_type": "code",
   "execution_count": null,
   "id": "1013c3c0",
   "metadata": {},
   "outputs": [],
   "source": [
    "# Problem 732 workspace"
   ]
  },
  {
   "cell_type": "markdown",
   "id": "e8b9ed5e",
   "metadata": {},
   "source": [
    "## Answer: "
   ]
  },
  {
   "cell_type": "markdown",
   "id": "9667bc44",
   "metadata": {},
   "source": [
    "___"
   ]
  },
  {
   "cell_type": "markdown",
   "id": "783bd205",
   "metadata": {},
   "source": [
    "# Problem 733\n",
    " [Source](https://projecteuler.net/problem=733)"
   ]
  },
  {
   "cell_type": "markdown",
   "id": "ae2e663f",
   "metadata": {},
   "source": [
    "Let $a\\_i$ be the sequence defined by $a\\_i=153^i \\bmod 10\\,000\\,019$ for $i \\ge 1$.\n",
    "  \n",
    "The first terms of $a\\_i$ are:\n",
    "$153, 23409, 3581577, 7980255, 976697, 9434375, \\dots$\n",
    "\n",
    "Consider the subsequences consisting of $4$ terms in ascending order. For the part of the sequence shown above, these are:\n",
    "  \n",
    "$153, 23409, 3581577, 7980255$\n",
    "  \n",
    "$153, 23409, 3581577, 9434375$\n",
    "  \n",
    "$153, 23409, 7980255, 9434375$\n",
    "  \n",
    "$153, 23409, 976697, 9434375$\n",
    "  \n",
    "$153, 3581577, 7980255, 9434375$ and\n",
    "  \n",
    "$23409, 3581577, 7980255, 9434375$.\n",
    "\n",
    "Define $S(n)$ to be the sum of the terms for all such subsequences within the first $n$ terms of $a\\_i$. Thus $S(6)=94513710$.\n",
    "  \n",
    "You are given that $S(100)=4465488724217$.\n",
    "\n",
    "Find $S(10^6)$ modulo $1\\,000\\,000\\,007$."
   ]
  },
  {
   "cell_type": "code",
   "execution_count": null,
   "id": "f9b2357b",
   "metadata": {},
   "outputs": [],
   "source": [
    "# Problem 733 workspace"
   ]
  },
  {
   "cell_type": "markdown",
   "id": "42eba0e4",
   "metadata": {},
   "source": [
    "## Answer: "
   ]
  },
  {
   "cell_type": "markdown",
   "id": "3f842f96",
   "metadata": {},
   "source": [
    "___"
   ]
  },
  {
   "cell_type": "markdown",
   "id": "fa3ebade",
   "metadata": {},
   "source": [
    "# Problem 734\n",
    " [Source](https://projecteuler.net/problem=734)"
   ]
  },
  {
   "cell_type": "markdown",
   "id": "faf1353f",
   "metadata": {},
   "source": [
    "The\n",
    "**logical-OR**\n",
    "of two bits is $0$ if both bits are $0$, otherwise it is $1$.\n",
    "  \n",
    "The\n",
    "**bitwise-OR**\n",
    "of two positive integers performs a logical-OR operation on each pair of corresponding bits in the binary expansion of its inputs.\n",
    "\n",
    "For example, the bitwise-OR of $10$ and $6$ is $14$ because $10 = 1010\\_2$, $6 = 0110\\_2$ and $14 = 1110\\_2$.\n",
    "\n",
    "Let $T(n, k)$ be the number of $k$-tuples $(x\\_1, x\\_2,\\cdots,x\\_k)$ such that\n",
    "\n",
    "* every $x\\_i$ is a prime $\\leq n$\n",
    "* the bitwise-OR of the tuple is a prime $\\leq n$\n",
    "\n",
    "For example, $T(5, 2)=5$. The five $2$-tuples are $(2, 2)$, $(2, 3)$, $(3, 2)$, $(3, 3)$ and $(5, 5)$.\n",
    "\n",
    "You are given $T(100, 3) = 3355$ and $T(1000, 10) \\equiv 2071632 \\pmod{1\\,000\\,000\\,007}$.\n",
    "\n",
    "Find $T(10^6,999983)$. Give your answer modulo $1\\,000\\,000\\,007$."
   ]
  },
  {
   "cell_type": "code",
   "execution_count": null,
   "id": "002685cb",
   "metadata": {},
   "outputs": [],
   "source": [
    "# Problem 734 workspace"
   ]
  },
  {
   "cell_type": "markdown",
   "id": "cfb8d495",
   "metadata": {},
   "source": [
    "## Answer: "
   ]
  },
  {
   "cell_type": "markdown",
   "id": "a1b30508",
   "metadata": {},
   "source": [
    "___"
   ]
  },
  {
   "cell_type": "markdown",
   "id": "f96b72d4",
   "metadata": {},
   "source": [
    "# Problem 735\n",
    " [Source](https://projecteuler.net/problem=735)"
   ]
  },
  {
   "cell_type": "markdown",
   "id": "6dc8f005",
   "metadata": {},
   "source": [
    "Let $f(n)$ be the number of divisors of $2n^2$ that are no greater than n. For example, $f(15)=8$ because there are 8 such divisors: 1,2,3,5,6,9,10,15. Note that 18 is also a divisor of $2\\times 15^2$ but it is not counted because it is greater than 15.\n",
    "\n",
    "Let $\\displaystyle F(N) = \\sum\\_{n=1}^N f(n)$. You are given $F(15)=63$, and $F(1000)=15066$.\n",
    "\n",
    "Find $F(10^{12})$."
   ]
  },
  {
   "cell_type": "code",
   "execution_count": null,
   "id": "39b17398",
   "metadata": {},
   "outputs": [],
   "source": [
    "# Problem 735 workspace"
   ]
  },
  {
   "cell_type": "markdown",
   "id": "b846260a",
   "metadata": {},
   "source": [
    "## Answer: "
   ]
  },
  {
   "cell_type": "markdown",
   "id": "01faeaec",
   "metadata": {},
   "source": [
    "___"
   ]
  },
  {
   "cell_type": "markdown",
   "id": "893a9fac",
   "metadata": {},
   "source": [
    "# Problem 736\n",
    " [Source](https://projecteuler.net/problem=736)"
   ]
  },
  {
   "cell_type": "markdown",
   "id": "4e1c1ed3",
   "metadata": {},
   "source": [
    "Define two functions on lattice points:\n",
    "\n",
    "$r(x,y) = (x+1,2y)$\n",
    "\n",
    "$s(x,y) = (2x,y+1)$\n",
    "\n",
    "A\n",
    "*path to equality*\n",
    "of length $n$ for a pair $(a,b)$ is a sequence $\\Big((a\\_1,b\\_1),(a\\_2,b\\_2),\\ldots,(a\\_n,b\\_n)\\Big)$, where:\n",
    "\n",
    "* $(a\\_1,b\\_1) = (a,b)$\n",
    "* $(a\\_k,b\\_k) = r(a\\_{k-1},b\\_{k-1})$ or $(a\\_k,b\\_k) = s(a\\_{k-1},b\\_{k-1})$ for $k > 1$\n",
    "* $a\\_k \\ne b\\_k$ for $k < n$\n",
    "* $a\\_n = b\\_n$\n",
    "\n",
    "$a\\_n = b\\_n$ is called the\n",
    "*final value*\n",
    ".\n",
    "\n",
    "For example,\n",
    "\n",
    "$(45,90)\\xrightarrow{r} (46,180)\\xrightarrow{s}(92,181)\\xrightarrow{s}(184,182)\\xrightarrow{s}(368,183)\\xrightarrow{s}(736,184)\\xrightarrow{r}$\n",
    "\n",
    "$(737,368)\\xrightarrow{s}(1474,369)\\xrightarrow{r}(1475,738)\\xrightarrow{r}(1476,1476)$\n",
    "\n",
    "This is a path to equality for $(45,90)$ and is of length 10 with final value 1476. There is no path to equality of $(45,90)$ with smaller length.\n",
    "\n",
    "Find the unique path to equality for $(45,90)$ with smallest\n",
    "**odd**\n",
    "length. Enter the final value as your answer."
   ]
  },
  {
   "cell_type": "code",
   "execution_count": null,
   "id": "3d70b013",
   "metadata": {},
   "outputs": [],
   "source": [
    "# Problem 736 workspace"
   ]
  },
  {
   "cell_type": "markdown",
   "id": "5bcf710e",
   "metadata": {},
   "source": [
    "## Answer: "
   ]
  },
  {
   "cell_type": "markdown",
   "id": "a336822e",
   "metadata": {},
   "source": [
    "___"
   ]
  },
  {
   "cell_type": "markdown",
   "id": "b0a4d423",
   "metadata": {},
   "source": [
    "# Problem 737\n",
    " [Source](https://projecteuler.net/problem=737)"
   ]
  },
  {
   "cell_type": "markdown",
   "id": "15c9d31d",
   "metadata": {},
   "source": [
    "A game is played with many identical, round coins on a flat table.\n",
    "\n",
    "Consider a line perpendicular to the table.\n",
    "  \n",
    "The first coin is placed on the table touching the line.\n",
    "  \n",
    "Then, one by one, the coins are placed horizontally on top of the previous coin and touching the line.\n",
    "  \n",
    "The complete stack of coins must be balanced after every placement.\n",
    "\n",
    "The diagram below [not to scale] shows a possible placement of 8 coins where point $P$ represents the line.\n",
    "\n",
    "![](resources/0737_coinloop.jpg)\n",
    "\n",
    "It is found that a minimum of $31$ coins are needed to form a\n",
    "*coin loop*\n",
    "around the line, i.e. if in the projection of the coins on the table the centre of the $n$th coin is rotated $\\theta\\_n$, about the line, from the centre of the $(n-1)$th coin then the sum of $\\displaystyle\\sum\\_{k=2}^n \\theta\\_k$ is first larger than $360^\\circ$ when $n=31$. In general, to loop $k$ times, $n$ is the smallest number for which the sum is greater than $360^\\circ k$.\n",
    "\n",
    "Also, $154$ coins are needed to loop two times around the line, and $6947$ coins to loop ten times.\n",
    "\n",
    "Calculate the number of coins needed to loop $2020$ times around the line."
   ]
  },
  {
   "cell_type": "code",
   "execution_count": null,
   "id": "4164a4a3",
   "metadata": {},
   "outputs": [],
   "source": [
    "# Problem 737 workspace"
   ]
  },
  {
   "cell_type": "markdown",
   "id": "50747f7b",
   "metadata": {},
   "source": [
    "## Answer: "
   ]
  },
  {
   "cell_type": "markdown",
   "id": "7722862d",
   "metadata": {},
   "source": [
    "___"
   ]
  },
  {
   "cell_type": "markdown",
   "id": "34f8e018",
   "metadata": {},
   "source": [
    "# Problem 738\n",
    " [Source](https://projecteuler.net/problem=738)"
   ]
  },
  {
   "cell_type": "markdown",
   "id": "26e3946f",
   "metadata": {},
   "source": [
    "Define $d(n,k)$ to be the number of ways to write $n$ as a product of $k$ ordered integers\n",
    "\n",
    "$$\n",
    "n = x\\_1\\times x\\_2\\times x\\_3\\times \\ldots\\times x\\_k\\qquad 1\\le x\\_1\\le x\\_2\\le\\ldots\\le x\\_k\n",
    "$$\n",
    "\n",
    "Further define $D(N,K)$ to be the sum of $d(n,k)$ for $1\\le n\\le N$ and $1\\le k\\le K$.\n",
    "\n",
    "You are given that $D(10, 10) = 153$ and $D(100, 100) = 35384$.\n",
    "\n",
    "Find $D(10^{10},10^{10})$ giving your answer modulo $1\\,000\\,000\\,007$."
   ]
  },
  {
   "cell_type": "code",
   "execution_count": null,
   "id": "17e5c376",
   "metadata": {},
   "outputs": [],
   "source": [
    "# Problem 738 workspace"
   ]
  },
  {
   "cell_type": "markdown",
   "id": "7e13d7a3",
   "metadata": {},
   "source": [
    "## Answer: "
   ]
  },
  {
   "cell_type": "markdown",
   "id": "c7647a6a",
   "metadata": {},
   "source": [
    "___"
   ]
  },
  {
   "cell_type": "markdown",
   "id": "e820b40e",
   "metadata": {},
   "source": [
    "# Problem 739\n",
    " [Source](https://projecteuler.net/problem=739)"
   ]
  },
  {
   "cell_type": "markdown",
   "id": "64e03022",
   "metadata": {},
   "source": [
    "Take a sequence of length $n$. Discard the first term then make a sequence of the partial summations. Continue to do this over and over until we are left with a single term. We define this to be $f(n)$.\n",
    "\n",
    "Consider the example where we start with a sequence of length 8:\n",
    "\n",
    "$\n",
    "\\begin{array}{rrrrrrrr}\n",
    "1&1&1&1&1&1&1&1\\\\\n",
    "&1&2&3&4&5& 6 &7\\\\\n",
    "& &2&5&9&14&20&27\\\\\n",
    "& & &5&14&28&48&75\\\\\n",
    "& & & &14&42&90&165\\\\\n",
    "& & & & & 42 & 132 & 297\\\\\n",
    "& & & & & & 132 &429\\\\\n",
    "& & & & & & &429\\\\\n",
    "\\end{array}\n",
    "$\n",
    "\n",
    "Then the final number is $429$, so $f(8) = 429$.\n",
    "\n",
    "For this problem we start with the sequence $1,3,4,7,11,18,29,47,\\ldots$\n",
    "  \n",
    "This is the Lucas sequence where two terms are added to get the next term.\n",
    "  \n",
    "Applying the same process as above we get $f(8) = 2663$.\n",
    "  \n",
    "You are also given $f(20) = 742296999 $ modulo $1\\,000\\,000\\,007$\n",
    "\n",
    "Find $f(10^8)$. Give your answer modulo $1\\,000\\,000\\,007$."
   ]
  },
  {
   "cell_type": "code",
   "execution_count": null,
   "id": "d66f72ab",
   "metadata": {},
   "outputs": [],
   "source": [
    "# Problem 739 workspace"
   ]
  },
  {
   "cell_type": "markdown",
   "id": "59ccc6cc",
   "metadata": {},
   "source": [
    "## Answer: "
   ]
  },
  {
   "cell_type": "markdown",
   "id": "17a55b2a",
   "metadata": {},
   "source": [
    "___"
   ]
  },
  {
   "cell_type": "markdown",
   "id": "5e8ab826",
   "metadata": {},
   "source": [
    "# Problem 740\n",
    " [Source](https://projecteuler.net/problem=740)"
   ]
  },
  {
   "cell_type": "markdown",
   "id": "d46e3b02",
   "metadata": {},
   "source": [
    "Secret Santa is a process that allows $n$ people to give each other presents, so that each person gives a single present and receives a single present. At the beginning each of the $n$ people write their name on a slip of paper and put the slip into a hat. Each person takes a random slip from the hat. If the slip has their name they draw another random slip from the hat and then put the slip with their name back into the hat. At the end everyone buys a Christmas present for the person whose name is on the slip they are holding. This process will fail if the last person draws their own name.\n",
    "\n",
    "In this variation each of the $n$ people gives and receives two presents. At the beginning each of the $n$ people writes their name on two slips of paper and puts the slips into a hat (there will be $2n$ slips of paper in the hat). As before each person takes from the hat a random slip that does not contain their own name. Then the same person repeats this process thus ending up with two slips, neither of which contains that person's own name. Then the next person draws two slips in the same way, and so on. The process will fail if the last person gets at least one slip with their own name.\n",
    "\n",
    "Define $q(n)$ to be the probability of this happening. You are given $q(3) = 0.3611111111$ and $q(5) = 0.2476095994$ both rounded to 10 decimal places.\n",
    "\n",
    "Find $q(100)$ rounded to 10 decimal places."
   ]
  },
  {
   "cell_type": "code",
   "execution_count": null,
   "id": "4b2fe3eb",
   "metadata": {},
   "outputs": [],
   "source": [
    "# Problem 740 workspace"
   ]
  },
  {
   "cell_type": "markdown",
   "id": "7479deac",
   "metadata": {},
   "source": [
    "## Answer: "
   ]
  },
  {
   "cell_type": "markdown",
   "id": "a330b519",
   "metadata": {},
   "source": [
    "___"
   ]
  }
 ],
 "metadata": {},
 "nbformat": 4,
 "nbformat_minor": 5
}
