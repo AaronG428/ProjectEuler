{
 "cells": [
  {
   "cell_type": "markdown",
   "id": "62eff70d",
   "metadata": {},
   "source": [
    "# Problem 21\n",
    " [Source](https://projecteuler.net/problem=21)"
   ]
  },
  {
   "cell_type": "markdown",
   "id": "90c541c6",
   "metadata": {},
   "source": [
    "Let $d(n)$ be defined as the sum of proper divisors of $n$ (numbers less than $n$ which divide evenly into $n$).\n",
    "  \n",
    "If $d(a) = b$ and $d(b) = a$, where $a \\ne b$, then $a$ and $b$ are an amicable pair and each of $a$ and $b$ are called amicable numbers.\n",
    "\n",
    "For example, the proper divisors of $220$ are $1, 2, 4, 5, 10, 11, 20, 22, 44, 55$ and $110$; therefore $d(220) = 284$. The proper divisors of $284$ are $1, 2, 4, 71$ and $142$; so $d(284) = 220$.\n",
    "\n",
    "Evaluate the sum of all the amicable numbers under $10000$."
   ]
  },
  {
   "cell_type": "code",
   "execution_count": null,
   "id": "2ea3e7a3",
   "metadata": {},
   "outputs": [],
   "source": [
    "# Problem 21 workspace"
   ]
  },
  {
   "cell_type": "markdown",
   "id": "81d91f2f",
   "metadata": {},
   "source": [
    "## Answer: "
   ]
  },
  {
   "cell_type": "markdown",
   "id": "07ceef28",
   "metadata": {},
   "source": [
    "___"
   ]
  },
  {
   "cell_type": "markdown",
   "id": "6c674684",
   "metadata": {},
   "source": [
    "# Problem 22\n",
    " [Source](https://projecteuler.net/problem=22)"
   ]
  },
  {
   "cell_type": "markdown",
   "id": "91bebd49",
   "metadata": {},
   "source": [
    "Using\n",
    "[names.txt](resources/documents/0022_names.txt)\n",
    "(right click and 'Save Link/Target As...'), a 46K text file containing over five-thousand first names, begin by sorting it into alphabetical order. Then working out the alphabetical value for each name, multiply this value by its alphabetical position in the list to obtain a name score.\n",
    "\n",
    "For example, when the list is sorted into alphabetical order, COLIN, which is worth $3 + 15 + 12 + 9 + 14 = 53$, is the $938$th name in the list. So, COLIN would obtain a score of $938 \\times 53 = 49714$.\n",
    "\n",
    "What is the total of all the name scores in the file?"
   ]
  },
  {
   "cell_type": "code",
   "execution_count": null,
   "id": "2e76df1e",
   "metadata": {},
   "outputs": [],
   "source": [
    "# Problem 22 workspace"
   ]
  },
  {
   "cell_type": "markdown",
   "id": "f557ac85",
   "metadata": {},
   "source": [
    "## Answer: "
   ]
  },
  {
   "cell_type": "markdown",
   "id": "49456ef4",
   "metadata": {},
   "source": [
    "___"
   ]
  },
  {
   "cell_type": "markdown",
   "id": "bccc3d51",
   "metadata": {},
   "source": [
    "# Problem 23\n",
    " [Source](https://projecteuler.net/problem=23)"
   ]
  },
  {
   "cell_type": "markdown",
   "id": "daafbe45",
   "metadata": {},
   "source": [
    "A perfect number is a number for which the sum of its proper divisors is exactly equal to the number. For example, the sum of the proper divisors of $28$ would be $1 + 2 + 4 + 7 + 14 = 28$, which means that $28$ is a perfect number.\n",
    "\n",
    "A number $n$ is called deficient if the sum of its proper divisors is less than $n$ and it is called abundant if this sum exceeds $n$.\n",
    "\n",
    "As $12$ is the smallest abundant number, $1 + 2 + 3 + 4 + 6 = 16$, the smallest number that can be written as the sum of two abundant numbers is $24$. By mathematical analysis, it can be shown that all integers greater than $28123$ can be written as the sum of two abundant numbers. However, this upper limit cannot be reduced any further by analysis even though it is known that the greatest number that cannot be expressed as the sum of two abundant numbers is less than this limit.\n",
    "\n",
    "Find the sum of all the positive integers which cannot be written as the sum of two abundant numbers."
   ]
  },
  {
   "cell_type": "code",
   "execution_count": null,
   "id": "005fb25a",
   "metadata": {},
   "outputs": [],
   "source": [
    "# Problem 23 workspace"
   ]
  },
  {
   "cell_type": "markdown",
   "id": "196423ba",
   "metadata": {},
   "source": [
    "## Answer: "
   ]
  },
  {
   "cell_type": "markdown",
   "id": "6dff16a6",
   "metadata": {},
   "source": [
    "___"
   ]
  },
  {
   "cell_type": "markdown",
   "id": "0151e9ae",
   "metadata": {},
   "source": [
    "# Problem 24\n",
    " [Source](https://projecteuler.net/problem=24)"
   ]
  },
  {
   "cell_type": "markdown",
   "id": "39650d24",
   "metadata": {},
   "source": [
    "A permutation is an ordered arrangement of objects. For example, 3124 is one possible permutation of the digits 1, 2, 3 and 4. If all of the permutations are listed numerically or alphabetically, we call it lexicographic order. The lexicographic permutations of 0, 1 and 2 are:\n",
    "\n",
    "012   021   102   120   201   210\n",
    "\n",
    "What is the millionth lexicographic permutation of the digits 0, 1, 2, 3, 4, 5, 6, 7, 8 and 9?"
   ]
  },
  {
   "cell_type": "code",
   "execution_count": null,
   "id": "fac40b16",
   "metadata": {},
   "outputs": [],
   "source": [
    "# Problem 24 workspace"
   ]
  },
  {
   "cell_type": "markdown",
   "id": "47235e0b",
   "metadata": {},
   "source": [
    "## Answer: "
   ]
  },
  {
   "cell_type": "markdown",
   "id": "a4b69e54",
   "metadata": {},
   "source": [
    "___"
   ]
  },
  {
   "cell_type": "markdown",
   "id": "c22558ac",
   "metadata": {},
   "source": [
    "# Problem 25\n",
    " [Source](https://projecteuler.net/problem=25)"
   ]
  },
  {
   "cell_type": "markdown",
   "id": "37331432",
   "metadata": {},
   "source": [
    "The Fibonacci sequence is defined by the recurrence relation:\n",
    "\n",
    "> $F\\_n = F\\_{n - 1} + F\\_{n - 2}$, where $F\\_1 = 1$ and $F\\_2 = 1$.\n",
    "\n",
    "Hence the first $12$ terms will be:\n",
    "\n",
    "$$\\begin{align}\n",
    "F\\_1 &= 1\\\\\n",
    "F\\_2 &= 1\\\\\n",
    "F\\_3 &= 2\\\\\n",
    "F\\_4 &= 3\\\\\n",
    "F\\_5 &= 5\\\\\n",
    "F\\_6 &= 8\\\\\n",
    "F\\_7 &= 13\\\\\n",
    "F\\_8 &= 21\\\\\n",
    "F\\_9 &= 34\\\\\n",
    "F\\_{10} &= 55\\\\\n",
    "F\\_{11} &= 89\\\\\n",
    "F\\_{12} &= 144\n",
    "\\end{align}$$\n",
    "\n",
    "The $12$th term, $F\\_{12}$, is the first term to contain three digits.\n",
    "\n",
    "What is the index of the first term in the Fibonacci sequence to contain $1000$ digits?"
   ]
  },
  {
   "cell_type": "code",
   "execution_count": null,
   "id": "2f2bfb68",
   "metadata": {},
   "outputs": [],
   "source": [
    "# Problem 25 workspace"
   ]
  },
  {
   "cell_type": "markdown",
   "id": "ced13e57",
   "metadata": {},
   "source": [
    "## Answer: "
   ]
  },
  {
   "cell_type": "markdown",
   "id": "01651333",
   "metadata": {},
   "source": [
    "___"
   ]
  },
  {
   "cell_type": "markdown",
   "id": "d624452e",
   "metadata": {},
   "source": [
    "# Problem 26\n",
    " [Source](https://projecteuler.net/problem=26)"
   ]
  },
  {
   "cell_type": "markdown",
   "id": "548f0d67",
   "metadata": {},
   "source": [
    "A unit fraction contains $1$ in the numerator. The decimal representation of the unit fractions with denominators $2$ to $10$ are given:\n",
    "\n",
    "$$\\begin{align}\n",
    "1/2 &= 0.5\\\\\n",
    "1/3 &=0.(3)\\\\\n",
    "1/4 &=0.25\\\\\n",
    "1/5 &= 0.2\\\\\n",
    "1/6 &= 0.1(6)\\\\\n",
    "1/7 &= 0.(142857)\\\\\n",
    "1/8 &= 0.125\\\\\n",
    "1/9 &= 0.(1)\\\\\n",
    "1/10 &= 0.1\n",
    "\\end{align}$$\n",
    "\n",
    "Where $0.1(6)$ means $0.166666\\cdots$, and has a $1$-digit recurring cycle. It can be seen that $1/7$ has a $6$-digit recurring cycle.\n",
    "\n",
    "Find the value of $d \\lt 1000$ for which $1/d$ contains the longest recurring cycle in its decimal fraction part."
   ]
  },
  {
   "cell_type": "code",
   "execution_count": null,
   "id": "cadbf6a4",
   "metadata": {},
   "outputs": [],
   "source": [
    "# Problem 26 workspace"
   ]
  },
  {
   "cell_type": "markdown",
   "id": "3c0efa26",
   "metadata": {},
   "source": [
    "## Answer: "
   ]
  },
  {
   "cell_type": "markdown",
   "id": "56297b19",
   "metadata": {},
   "source": [
    "___"
   ]
  },
  {
   "cell_type": "markdown",
   "id": "09baae96",
   "metadata": {},
   "source": [
    "# Problem 27\n",
    " [Source](https://projecteuler.net/problem=27)"
   ]
  },
  {
   "cell_type": "markdown",
   "id": "c67f2385",
   "metadata": {},
   "source": [
    "Euler discovered the remarkable quadratic formula:\n",
    "\n",
    "$n^2 + n + 41$\n",
    "\n",
    "It turns out that the formula will produce $40$ primes for the consecutive integer values $0 \\le n \\le 39$. However, when $n = 40, 40^2 + 40 + 41 = 40(40 + 1) + 41$ is divisible by $41$, and certainly when $n = 41, 41^2 + 41 + 41$ is clearly divisible by $41$.\n",
    "\n",
    "The incredible formula $n^2 - 79n + 1601$ was discovered, which produces $80$ primes for the consecutive values $0 \\le n \\le 79$. The product of the coefficients, $-79$ and $1601$, is $-126479$.\n",
    "\n",
    "Considering quadratics of the form:\n",
    "\n",
    "> $n^2 + an + b$, where $|a| < 1000$ and $|b| \\le 1000$\n",
    ">   \n",
    ">   \n",
    ">\n",
    "> where $|n|$ is the modulus/absolute value of $n$\n",
    ">   \n",
    "> e.g. $|11| = 11$ and $|-4| = 4$\n",
    "\n",
    "Find the product of the coefficients, $a$ and $b$, for the quadratic expression that produces the maximum number of primes for consecutive values of $n$, starting with $n = 0$."
   ]
  },
  {
   "cell_type": "code",
   "execution_count": null,
   "id": "8ffd00a9",
   "metadata": {},
   "outputs": [],
   "source": [
    "# Problem 27 workspace"
   ]
  },
  {
   "cell_type": "markdown",
   "id": "bd51656f",
   "metadata": {},
   "source": [
    "## Answer: "
   ]
  },
  {
   "cell_type": "markdown",
   "id": "af7e1aa2",
   "metadata": {},
   "source": [
    "___"
   ]
  },
  {
   "cell_type": "markdown",
   "id": "d479eaee",
   "metadata": {},
   "source": [
    "# Problem 28\n",
    " [Source](https://projecteuler.net/problem=28)"
   ]
  },
  {
   "cell_type": "markdown",
   "id": "d8d63d0d",
   "metadata": {},
   "source": [
    "Starting with the number $1$ and moving to the right in a clockwise direction a $5$ by $5$ spiral is formed as follows:\n",
    "\n",
    "**21**\n",
    "22 23 24\n",
    "**25**\n",
    "  \n",
    "20\n",
    "**7**\n",
    "8\n",
    "**9**\n",
    "10\n",
    "  \n",
    "19  6\n",
    "**1**\n",
    "2 11\n",
    "  \n",
    "18\n",
    "**5**\n",
    "4\n",
    "**3**\n",
    "12\n",
    "  \n",
    "\n",
    "**17**\n",
    "16 15 14\n",
    "**13**\n",
    "\n",
    "It can be verified that the sum of the numbers on the diagonals is $101$.\n",
    "\n",
    "What is the sum of the numbers on the diagonals in a $1001$ by $1001$ spiral formed in the same way?"
   ]
  },
  {
   "cell_type": "code",
   "execution_count": null,
   "id": "e371e0b7",
   "metadata": {},
   "outputs": [],
   "source": [
    "# Problem 28 workspace"
   ]
  },
  {
   "cell_type": "markdown",
   "id": "017c20e6",
   "metadata": {},
   "source": [
    "## Answer: "
   ]
  },
  {
   "cell_type": "markdown",
   "id": "e86e5389",
   "metadata": {},
   "source": [
    "___"
   ]
  },
  {
   "cell_type": "markdown",
   "id": "3d66f505",
   "metadata": {},
   "source": [
    "# Problem 29\n",
    " [Source](https://projecteuler.net/problem=29)"
   ]
  },
  {
   "cell_type": "markdown",
   "id": "cb98880c",
   "metadata": {},
   "source": [
    "Consider all integer combinations of $a^b$ for $2 \\le a \\le 5$ and $2 \\le b \\le 5$:\n",
    "$$\\begin{array}{rrrr}\n",
    "2^2=4, &2^3=8, &2^4=16, &2^5=32\\\\\n",
    "3^2=9, &3^3=27, &3^4=81, &3^5=243\\\\\n",
    "4^2=16, &4^3=64, &4^4=256, &4^5=1024\\\\\n",
    "5^2=25, &5^3=125, &5^4=625, &5^5=3125\n",
    "\\end{array}$$\n",
    "\n",
    "If they are then placed in numerical order, with any repeats removed, we get the following sequence of $15$ distinct terms:\n",
    "$$4, 8, 9, 16, 25, 27, 32, 64, 81, 125, 243, 256, 625, 1024, 3125.$$\n",
    "\n",
    "How many distinct terms are in the sequence generated by $a^b$ for $2 \\le a \\le 100$ and $2 \\le b \\le 100$?"
   ]
  },
  {
   "cell_type": "code",
   "execution_count": null,
   "id": "0d440f5b",
   "metadata": {},
   "outputs": [],
   "source": [
    "# Problem 29 workspace"
   ]
  },
  {
   "cell_type": "markdown",
   "id": "cf7e4d29",
   "metadata": {},
   "source": [
    "## Answer: "
   ]
  },
  {
   "cell_type": "markdown",
   "id": "7d865f42",
   "metadata": {},
   "source": [
    "___"
   ]
  },
  {
   "cell_type": "markdown",
   "id": "9ab9231a",
   "metadata": {},
   "source": [
    "# Problem 30\n",
    " [Source](https://projecteuler.net/problem=30)"
   ]
  },
  {
   "cell_type": "markdown",
   "id": "065d49e4",
   "metadata": {},
   "source": [
    "Surprisingly there are only three numbers that can be written as the sum of fourth powers of their digits:\n",
    "$$\\begin{align}\n",
    "1634 &= 1^4 + 6^4 + 3^4 + 4^4\\\\\n",
    "8208 &= 8^4 + 2^4 + 0^4 + 8^4\\\\\n",
    "9474 &= 9^4 + 4^4 + 7^4 + 4^4\n",
    "\\end{align}$$\n",
    "\n",
    "As $1 = 1^4$ is not a sum it is not included.\n",
    "\n",
    "The sum of these numbers is $1634 + 8208 + 9474 = 19316$.\n",
    "\n",
    "Find the sum of all the numbers that can be written as the sum of fifth powers of their digits."
   ]
  },
  {
   "cell_type": "code",
   "execution_count": null,
   "id": "d51f9261",
   "metadata": {},
   "outputs": [],
   "source": [
    "# Problem 30 workspace"
   ]
  },
  {
   "cell_type": "markdown",
   "id": "8b3cfb64",
   "metadata": {},
   "source": [
    "## Answer: "
   ]
  },
  {
   "cell_type": "markdown",
   "id": "0b35888c",
   "metadata": {},
   "source": [
    "___"
   ]
  }
 ],
 "metadata": {},
 "nbformat": 4,
 "nbformat_minor": 5
}
