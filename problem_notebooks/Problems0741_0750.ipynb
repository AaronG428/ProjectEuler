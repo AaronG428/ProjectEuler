{
 "cells": [
  {
   "cell_type": "markdown",
   "id": "6ca7dd05",
   "metadata": {},
   "source": [
    "# Problem 741\n",
    " [Source](https://projecteuler.net/problem=741)"
   ]
  },
  {
   "cell_type": "markdown",
   "id": "80dc8117",
   "metadata": {},
   "source": [
    "Let $f(n)$ be the number of ways an $n\\times n$ square grid can be coloured, each cell either black or white, such that each row and each column contains exactly two black cells.\n",
    "  \n",
    "For example, $f(4)=90$, $f(7) = 3110940$ and $f(8) = 187530840$.\n",
    "\n",
    "Let $g(n)$ be the number of colourings in $f(n)$ that are unique up to rotations and reflections.\n",
    "  \n",
    "You are given $g(4)=20$, $g(7) = 390816$ and $g(8) = 23462347$ giving $g(7)+g(8) = 23853163$.\n",
    "\n",
    "Find $g(7^7) + g(8^8)$. Give your answer modulo $1\\,000\\,000\\,007$."
   ]
  },
  {
   "cell_type": "code",
   "execution_count": null,
   "id": "04884696",
   "metadata": {},
   "outputs": [],
   "source": [
    "# Problem 741 workspace"
   ]
  },
  {
   "cell_type": "markdown",
   "id": "15e11d6b",
   "metadata": {},
   "source": [
    "## Answer: "
   ]
  },
  {
   "cell_type": "markdown",
   "id": "af75611e",
   "metadata": {},
   "source": [
    "___"
   ]
  },
  {
   "cell_type": "markdown",
   "id": "68a8a4d5",
   "metadata": {},
   "source": [
    "# Problem 742\n",
    " [Source](https://projecteuler.net/problem=742)"
   ]
  },
  {
   "cell_type": "markdown",
   "id": "200becfd",
   "metadata": {},
   "source": [
    "A\n",
    "symmetrical convex grid polygon\n",
    "is a polygon such that:\n",
    "\n",
    "* All its vertices have integer coordinates.\n",
    "* All its internal angles are strictly smaller than $180^\\circ$.\n",
    "* It has both horizontal and vertical symmetry.\n",
    "\n",
    "For example, the left polygon is a convex grid polygon which has neither horizontal nor vertical symmetry, while the right one is a valid symmetrical convex grid polygon with six vertices:\n",
    "\n",
    "![](resources/0742_hexagons.jpg)\n",
    "\n",
    "Define $A(N)$, the minimum area of a symmetrical convex grid polygon with $N$ vertices.\n",
    "\n",
    "You are given $A(4) = 1$, $A(8) = 7$, $A(40) = 1039$ and $A(100) = 17473$.\n",
    "\n",
    "Find $A(1000)$."
   ]
  },
  {
   "cell_type": "code",
   "execution_count": null,
   "id": "0cd96e9f",
   "metadata": {},
   "outputs": [],
   "source": [
    "# Problem 742 workspace"
   ]
  },
  {
   "cell_type": "markdown",
   "id": "12a64bdf",
   "metadata": {},
   "source": [
    "## Answer: "
   ]
  },
  {
   "cell_type": "markdown",
   "id": "f8cb7522",
   "metadata": {},
   "source": [
    "___"
   ]
  },
  {
   "cell_type": "markdown",
   "id": "a10cff11",
   "metadata": {},
   "source": [
    "# Problem 743\n",
    " [Source](https://projecteuler.net/problem=743)"
   ]
  },
  {
   "cell_type": "markdown",
   "id": "fb540155",
   "metadata": {},
   "source": [
    "A window into a matrix is a contiguous sub matrix.\n",
    "\n",
    "Consider a $2\\times n$ matrix where every entry is either 0 or 1.\n",
    "  \n",
    "Let $A(k,n)$ be the total number of these matrices such that the sum of the entries in every $2\\times k$ window is $k$.\n",
    "\n",
    "You are given that $A(3,9) = 560$ and $A(4,20) = 1060870$.\n",
    "\n",
    "Find $A(10^8,10^{16})$. Give your answer modulo $1\\,000\\,000\\,007$."
   ]
  },
  {
   "cell_type": "code",
   "execution_count": null,
   "id": "0cc0c21b",
   "metadata": {},
   "outputs": [],
   "source": [
    "# Problem 743 workspace"
   ]
  },
  {
   "cell_type": "markdown",
   "id": "531d7281",
   "metadata": {},
   "source": [
    "## Answer: "
   ]
  },
  {
   "cell_type": "markdown",
   "id": "72669786",
   "metadata": {},
   "source": [
    "___"
   ]
  },
  {
   "cell_type": "markdown",
   "id": "90654c99",
   "metadata": {},
   "source": [
    "# Problem 744\n",
    " [Source](https://projecteuler.net/problem=744)"
   ]
  },
  {
   "cell_type": "markdown",
   "id": "5a82fa55",
   "metadata": {},
   "source": [
    "\"What? Where? When?\" is a TV game show in which a team of experts attempt to answer questions. The following is a simplified version of the game.\n",
    "\n",
    "It begins with $2n+1$ envelopes. $2n$ of them contain a question and one contains a RED card.\n",
    "\n",
    "In each round one of the remaining envelopes is randomly chosen. If the envelope contains the RED card the game ends. If the envelope contains a question the expert gives their answer. If their answer is correct they earn one point, otherwise the viewers earn one point. The game ends normally when either the expert obtains n points or the viewers obtain n points.\n",
    "\n",
    "Assuming that the expert provides the correct answer with a fixed probability $p$, let $f(n,p)$ be the probability that the game ends normally (i.e. RED card never turns up).\n",
    "\n",
    "You are given (rounded to 10 decimal places) that\n",
    "  \n",
    "$f(6,\\frac{1}{2})=0.2851562500$,\n",
    "  \n",
    "$f(10,\\frac{3}{7})=0.2330040743$,\n",
    "  \n",
    "$f(10^4,0.3)=0.2857499982$.\n",
    "\n",
    "Find $f(10^{11},0.4999)$. Give your answer rounded to 10 places behind the decimal point."
   ]
  },
  {
   "cell_type": "code",
   "execution_count": null,
   "id": "33a31611",
   "metadata": {},
   "outputs": [],
   "source": [
    "# Problem 744 workspace"
   ]
  },
  {
   "cell_type": "markdown",
   "id": "7c2797c0",
   "metadata": {},
   "source": [
    "## Answer: "
   ]
  },
  {
   "cell_type": "markdown",
   "id": "7f65cd7f",
   "metadata": {},
   "source": [
    "___"
   ]
  },
  {
   "cell_type": "markdown",
   "id": "2e6caf5a",
   "metadata": {},
   "source": [
    "# Problem 745\n",
    " [Source](https://projecteuler.net/problem=745)"
   ]
  },
  {
   "cell_type": "markdown",
   "id": "b1a9e0ee",
   "metadata": {},
   "source": [
    "For a positive integer, $n$, define $g(n)$ to be the maximum perfect square that divides $n$.\n",
    "  \n",
    "For example, $g(18) = 9$, $g(19) = 1$.\n",
    "\n",
    "Also define\n",
    "$$\\displaystyle S(N) = \\sum\\_{n=1}^N g(n)$$\n",
    "\n",
    "For example, $S(10) = 24$ and $S(100) = 767$.\n",
    "\n",
    "Find $S(10^{14})$. Give your answer modulo $1\\,000\\,000\\,007$."
   ]
  },
  {
   "cell_type": "code",
   "execution_count": null,
   "id": "03b5d9e6",
   "metadata": {},
   "outputs": [],
   "source": [
    "# Problem 745 workspace"
   ]
  },
  {
   "cell_type": "markdown",
   "id": "a41afdd0",
   "metadata": {},
   "source": [
    "## Answer: "
   ]
  },
  {
   "cell_type": "markdown",
   "id": "af43edd8",
   "metadata": {},
   "source": [
    "___"
   ]
  },
  {
   "cell_type": "markdown",
   "id": "aabc49fa",
   "metadata": {},
   "source": [
    "# Problem 746\n",
    " [Source](https://projecteuler.net/problem=746)"
   ]
  },
  {
   "cell_type": "markdown",
   "id": "5683c8fe",
   "metadata": {},
   "source": [
    "$n$ families, each with four members, a father, a mother, a son and a daughter, were invited to a restaurant. They were all seated at a large circular table with $4n$ seats such that men and women alternate.\n",
    "\n",
    "Let $M(n)$ be the number of ways the families can be seated such that none of the families were seated together. A family is considered to be seated together only when all the members of a family sit next to each other.\n",
    "\n",
    "For example, $M(1)=0$, $M(2)=896$, $M(3)=890880$ and $M(10) \\equiv 170717180 \\pmod {1\\,000\\,000\\,007}$.\n",
    "\n",
    "Let $S(n)=\\displaystyle \\sum\\_{k=2}^nM(k)$.\n",
    "\n",
    "For example, $S(10) \\equiv 399291975 \\pmod {1\\,000\\,000\\,007}$.\n",
    "\n",
    "Find $S(2021)$. Give your answer modulo $1\\,000\\,000\\,007$."
   ]
  },
  {
   "cell_type": "code",
   "execution_count": null,
   "id": "465bc771",
   "metadata": {},
   "outputs": [],
   "source": [
    "# Problem 746 workspace"
   ]
  },
  {
   "cell_type": "markdown",
   "id": "d7aa32e7",
   "metadata": {},
   "source": [
    "## Answer: "
   ]
  },
  {
   "cell_type": "markdown",
   "id": "4d73b356",
   "metadata": {},
   "source": [
    "___"
   ]
  },
  {
   "cell_type": "markdown",
   "id": "e5642bd0",
   "metadata": {},
   "source": [
    "# Problem 747\n",
    " [Source](https://projecteuler.net/problem=747)"
   ]
  },
  {
   "cell_type": "markdown",
   "id": "a8ef70b2",
   "metadata": {},
   "source": [
    "Mamma Triangolo baked a triangular pizza. She wants to cut the pizza into $n$ pieces. She first chooses a point $P$ in the interior (not boundary) of the triangle pizza, and then performs $n$ cuts, which all start from $P$ and extend straight to the boundary of the pizza so that the $n$ pieces are all triangles and all have the same area.\n",
    "\n",
    "Let $\\psi(n)$ be the number of different ways for Mamma Triangolo to cut the pizza, subject to the constraints.\n",
    "  \n",
    "For example, $\\psi(3)=7$.\n",
    "\n",
    "![](resources/0747_PizzaDiag.jpg)\n",
    "\n",
    "Also $\\psi(6)=34$, and $\\psi(10)=90$.\n",
    "\n",
    "Let $\\Psi(m)=\\displaystyle\\sum\\_{n=3}^m \\psi(n)$. You are given $\\Psi(10)=345$ and $\\Psi(1000)=172166601$.\n",
    "\n",
    "Find $\\Psi(10^8)$. Give your answer modulo $1\\,000\\,000\\,007$."
   ]
  },
  {
   "cell_type": "code",
   "execution_count": null,
   "id": "8e3df580",
   "metadata": {},
   "outputs": [],
   "source": [
    "# Problem 747 workspace"
   ]
  },
  {
   "cell_type": "markdown",
   "id": "2588392e",
   "metadata": {},
   "source": [
    "## Answer: "
   ]
  },
  {
   "cell_type": "markdown",
   "id": "b7303ea8",
   "metadata": {},
   "source": [
    "___"
   ]
  },
  {
   "cell_type": "markdown",
   "id": "b30e1b68",
   "metadata": {},
   "source": [
    "# Problem 748\n",
    " [Source](https://projecteuler.net/problem=748)"
   ]
  },
  {
   "cell_type": "markdown",
   "id": "1b3b7a2f",
   "metadata": {},
   "source": [
    "Upside Down is a modification of the famous Pythagorean equation:\n",
    "$$\\begin{align}\n",
    "\\frac{1}{x^2}+\\frac{1}{y^2}=\\frac{13}{z^2}.\n",
    "\\end{align}$$\n",
    "\n",
    "A solution $(x,y,z)$ to this equation with $x,y$ and $z$ positive integers is a primitive solution if $\\gcd(x,y,z)=1$.\n",
    "\n",
    "Let $S(N)$ be the sum of $x+y+z$ over primitive Upside Down solutions such that $1 \\leq x,y,z \\leq N$ and $x \\le y$.\n",
    "  \n",
    "For $N=100$ the primitive solutions are $(2,3,6)$ and $(5,90,18)$, thus $S(10^2)=124$.\n",
    "  \n",
    "It can be checked that $S(10^3)=1470$ and $S(10^5)=2340084$.\n",
    "\n",
    "Find $S(10^{16})$ and give the last $9$ digits as your answer."
   ]
  },
  {
   "cell_type": "code",
   "execution_count": null,
   "id": "c3d8323d",
   "metadata": {},
   "outputs": [],
   "source": [
    "# Problem 748 workspace"
   ]
  },
  {
   "cell_type": "markdown",
   "id": "dd812974",
   "metadata": {},
   "source": [
    "## Answer: "
   ]
  },
  {
   "cell_type": "markdown",
   "id": "909d0134",
   "metadata": {},
   "source": [
    "___"
   ]
  },
  {
   "cell_type": "markdown",
   "id": "ade7f69f",
   "metadata": {},
   "source": [
    "# Problem 749\n",
    " [Source](https://projecteuler.net/problem=749)"
   ]
  },
  {
   "cell_type": "markdown",
   "id": "8356c7ce",
   "metadata": {},
   "source": [
    "A positive integer, $n$, is a\n",
    "near power sum\n",
    "if there exists a positive integer, $k$, such that the sum of the $k$th powers of the digits in its decimal representation is equal to either $n+1$ or $n-1$. For example $35$ is a near power sum number because $3^2+5^2 = 34$.\n",
    "\n",
    "Define $S(d)$ to be the sum of all near power sum numbers of $d$ digits or less.\n",
    "Then $S(2) = 110$ and $S(6) = 2562701$.\n",
    "\n",
    "Find $S(16)$."
   ]
  },
  {
   "cell_type": "code",
   "execution_count": null,
   "id": "0173a15b",
   "metadata": {},
   "outputs": [],
   "source": [
    "# Problem 749 workspace"
   ]
  },
  {
   "cell_type": "markdown",
   "id": "a821967d",
   "metadata": {},
   "source": [
    "## Answer: "
   ]
  },
  {
   "cell_type": "markdown",
   "id": "c5726194",
   "metadata": {},
   "source": [
    "___"
   ]
  },
  {
   "cell_type": "markdown",
   "id": "ebf37234",
   "metadata": {},
   "source": [
    "# Problem 750\n",
    " [Source](https://projecteuler.net/problem=750)"
   ]
  },
  {
   "cell_type": "markdown",
   "id": "0712d83b",
   "metadata": {},
   "source": [
    "Card Stacking is a game on a computer starting with an array of $N$ cards labelled $1,2,\\ldots,N$.\n",
    "A stack of cards can be moved by dragging horizontally with the mouse to another stack but only when the resulting stack is in sequence. The goal of the game is to combine the cards into a single stack using minimal total drag distance.\n",
    "\n",
    "![](resources/0750_optimal_card_stacking.png)\n",
    "\n",
    "For the given arrangement of 6 cards the minimum total distance is $1 + 3 + 1 + 1 + 2 = 8$.\n",
    "\n",
    "For $N$ cards, the cards are arranged so that the card at position $n$ is $3^n\\bmod(N+1), 1\\le n\\le N$.\n",
    "\n",
    "We define $G(N)$ to be the minimal total drag distance to arrange these cards into a single sequence.\n",
    "  \n",
    "For example, when $N = 6$ we get the sequence $3,2,6,4,5,1$ and $G(6) = 8$.\n",
    "  \n",
    "You are given $G(16) = 47$.\n",
    "\n",
    "Find $G(976)$.\n",
    "\n",
    "Note: $G(N)$ is not defined for all values of $N$."
   ]
  },
  {
   "cell_type": "code",
   "execution_count": null,
   "id": "cd89af0c",
   "metadata": {},
   "outputs": [],
   "source": [
    "# Problem 750 workspace"
   ]
  },
  {
   "cell_type": "markdown",
   "id": "1964104b",
   "metadata": {},
   "source": [
    "## Answer: "
   ]
  },
  {
   "cell_type": "markdown",
   "id": "8633331e",
   "metadata": {},
   "source": [
    "___"
   ]
  }
 ],
 "metadata": {},
 "nbformat": 4,
 "nbformat_minor": 5
}
