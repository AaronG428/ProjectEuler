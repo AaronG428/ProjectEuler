{
 "cells": [
  {
   "cell_type": "markdown",
   "id": "b5bc8af0",
   "metadata": {},
   "source": [
    "# Problem 371\n",
    " [Source](https://projecteuler.net/problem=371)"
   ]
  },
  {
   "cell_type": "markdown",
   "id": "d66de2a5",
   "metadata": {},
   "source": [
    "Oregon licence plates consist of three letters followed by a three digit number (each digit can be from [0..9]).\n",
    "  \n",
    "While driving to work Seth plays the following game:\n",
    "  \n",
    "Whenever the numbers of two licence plates seen on his trip add to 1000 that's a win.\n",
    "\n",
    "E.g. MIC-012 and HAN-988 is a win and RYU-500 and SET-500 too (as long as he sees them in the same trip).\n",
    "\n",
    "Find the expected number of plates he needs to see for a win.\n",
    "  \n",
    "Give your answer rounded to 8 decimal places behind the decimal point.\n",
    "\n",
    "**Note:**\n",
    "We assume that each licence plate seen is equally likely to have any three digit number on it."
   ]
  },
  {
   "cell_type": "code",
   "execution_count": null,
   "id": "f4900fc1",
   "metadata": {},
   "outputs": [],
   "source": [
    "# Problem 371 workspace"
   ]
  },
  {
   "cell_type": "markdown",
   "id": "c18633fe",
   "metadata": {},
   "source": [
    "## Answer: "
   ]
  },
  {
   "cell_type": "markdown",
   "id": "aafe4e89",
   "metadata": {},
   "source": [
    "___"
   ]
  },
  {
   "cell_type": "markdown",
   "id": "ed496481",
   "metadata": {},
   "source": [
    "# Problem 372\n",
    " [Source](https://projecteuler.net/problem=372)"
   ]
  },
  {
   "cell_type": "markdown",
   "id": "a5db8c34",
   "metadata": {},
   "source": [
    "Let $R(M, N)$ be the number of lattice points $(x, y)$ which satisfy $M\\!\\lt\\!x\\!\\le\\!N$, $M\\!\\lt\\!y\\!\\le\\!N$ and $\\large\\left\\lfloor\\!\\frac{y^2}{x^2}\\!\\right\\rfloor$ is odd.\n",
    "  \n",
    "We can verify that $R(0, 100) = 3019$ and $R(100, 10000) = 29750422$.\n",
    "  \n",
    "Find $R(2\\cdot10^6, 10^9)$.\n",
    "\n",
    "*Note*\n",
    ": $\\lfloor x\\rfloor$ represents the floor function."
   ]
  },
  {
   "cell_type": "code",
   "execution_count": null,
   "id": "37f97b87",
   "metadata": {},
   "outputs": [],
   "source": [
    "# Problem 372 workspace"
   ]
  },
  {
   "cell_type": "markdown",
   "id": "0747e06b",
   "metadata": {},
   "source": [
    "## Answer: "
   ]
  },
  {
   "cell_type": "markdown",
   "id": "3341131c",
   "metadata": {},
   "source": [
    "___"
   ]
  },
  {
   "cell_type": "markdown",
   "id": "c9f98db7",
   "metadata": {},
   "source": [
    "# Problem 373\n",
    " [Source](https://projecteuler.net/problem=373)"
   ]
  },
  {
   "cell_type": "markdown",
   "id": "f1168068",
   "metadata": {},
   "source": [
    "Every triangle has a circumscribed circle that goes through the three vertices.\n",
    "Consider all integer sided triangles for which the radius of the circumscribed circle is integral as well.\n",
    "\n",
    "Let $S(n)$ be the sum of the radii of the circumscribed circles of all such triangles for which the radius does not exceed $n$.\n",
    "\n",
    "$S(100)=4950$ and $S(1200)=1653605$.\n",
    "\n",
    "Find $S(10^7)$."
   ]
  },
  {
   "cell_type": "code",
   "execution_count": null,
   "id": "bb3bc6ec",
   "metadata": {},
   "outputs": [],
   "source": [
    "# Problem 373 workspace"
   ]
  },
  {
   "cell_type": "markdown",
   "id": "b00c2999",
   "metadata": {},
   "source": [
    "## Answer: "
   ]
  },
  {
   "cell_type": "markdown",
   "id": "0261d233",
   "metadata": {},
   "source": [
    "___"
   ]
  },
  {
   "cell_type": "markdown",
   "id": "94bd0dda",
   "metadata": {},
   "source": [
    "# Problem 374\n",
    " [Source](https://projecteuler.net/problem=374)"
   ]
  },
  {
   "cell_type": "markdown",
   "id": "787ca0a3",
   "metadata": {},
   "source": [
    "An integer partition of a number $n$ is a way of writing $n$ as a sum of positive integers.\n",
    "\n",
    "Partitions that differ only in the order of their summands are considered the same.\n",
    "A partition of $n$ into\n",
    "**distinct parts**\n",
    "is a partition of $n$ in which every part occurs at most once.\n",
    "\n",
    "The partitions of $5$ into distinct parts are:\n",
    "  \n",
    "$5$, $4+1$ and $3+2$.\n",
    "\n",
    "Let $f(n)$ be the maximum product of the parts of any such partition of $n$ into distinct parts and let $m(n)$ be the number of elements of any such partition of $n$ with that product.\n",
    "\n",
    "So $f(5)=6$ and $m(5)=2$.\n",
    "\n",
    "For $n=10$ the partition with the largest product is $10=2+3+5$, which gives $f(10)=30$ and $m(10)=3$.\n",
    "  \n",
    "And their product, $f(10) \\cdot m(10) = 30 \\cdot 3 = 90$.\n",
    "\n",
    "It can be verified that\n",
    "  \n",
    "$\\sum f(n) \\cdot m(n)$ for $1 \\le n \\le 100 = 1683550844462$.\n",
    "\n",
    "Find $\\sum f(n) \\cdot m(n)$ for $1 \\le n \\le 10^{14}$.\n",
    "  \n",
    "Give your answer modulo $982451653$, the $50$ millionth prime."
   ]
  },
  {
   "cell_type": "code",
   "execution_count": null,
   "id": "9e4eb77e",
   "metadata": {},
   "outputs": [],
   "source": [
    "# Problem 374 workspace"
   ]
  },
  {
   "cell_type": "markdown",
   "id": "0ecf41c3",
   "metadata": {},
   "source": [
    "## Answer: "
   ]
  },
  {
   "cell_type": "markdown",
   "id": "489a7be2",
   "metadata": {},
   "source": [
    "___"
   ]
  },
  {
   "cell_type": "markdown",
   "id": "02df6947",
   "metadata": {},
   "source": [
    "# Problem 375\n",
    " [Source](https://projecteuler.net/problem=375)"
   ]
  },
  {
   "cell_type": "markdown",
   "id": "259f7028",
   "metadata": {},
   "source": [
    "Let $S\\_n$ be an integer sequence produced with the following pseudo-random number generator:\n",
    "\n",
    "$$\\begin{align}\n",
    "S\\_0 & = 290797 \\\\\n",
    "S\\_{n+1} & = S\\_n^2 \\bmod 50515093\n",
    "\\end{align}$$\n",
    "\n",
    "Let $A(i, j)$ be the minimum of the numbers $S\\_i, S\\_{i+1}, \\dots, S\\_j$ for $i\\le j$.\n",
    "  \n",
    "Let $M(N) = \\sum A(i, j)$ for $1 \\le i \\le j \\le N$.\n",
    "  \n",
    "We can verify that $M(10) = 432256955$ and $M(10\\,000) = 3264567774119$.\n",
    "\n",
    "Find $M(2\\,000\\,000\\,000)$."
   ]
  },
  {
   "cell_type": "code",
   "execution_count": null,
   "id": "c4d856c8",
   "metadata": {},
   "outputs": [],
   "source": [
    "# Problem 375 workspace"
   ]
  },
  {
   "cell_type": "markdown",
   "id": "b0bcf41e",
   "metadata": {},
   "source": [
    "## Answer: "
   ]
  },
  {
   "cell_type": "markdown",
   "id": "df555650",
   "metadata": {},
   "source": [
    "___"
   ]
  },
  {
   "cell_type": "markdown",
   "id": "2a8c517e",
   "metadata": {},
   "source": [
    "# Problem 376\n",
    " [Source](https://projecteuler.net/problem=376)"
   ]
  },
  {
   "cell_type": "markdown",
   "id": "445a640e",
   "metadata": {},
   "source": [
    "Consider the following set of dice with nonstandard pips:\n",
    "\n",
    "Die $A$: $1$ $4$ $4$ $4$ $4$ $4$\n",
    "  \n",
    "Die $B$: $2$ $2$ $2$ $5$ $5$ $5$\n",
    "  \n",
    "Die $C$: $3$ $3$ $3$ $3$ $3$ $6$\n",
    "\n",
    "A game is played by two players picking a die in turn and rolling it. The player who rolls the highest value wins.\n",
    "\n",
    "If the first player picks die $A$ and the second player picks die $B$ we get\n",
    "  \n",
    "$P(\\text{second player wins}) = 7/12 \\gt 1/2$.\n",
    "\n",
    "If the first player picks die $B$ and the second player picks die $C$ we get\n",
    "  \n",
    "$P(\\text{second player wins}) = 7/12 \\gt 1/2$.\n",
    "\n",
    "If the first player picks die $C$ and the second player picks die $A$ we get\n",
    "  \n",
    "$P(\\text{second player wins}) = 25/36 \\gt 1/2$.\n",
    "\n",
    "So whatever die the first player picks, the second player can pick another die and have a larger than $50\\%$ chance of winning.\n",
    "  \n",
    "A set of dice having this property is called a\n",
    "**nontransitive set of dice**\n",
    ".\n",
    "\n",
    "We wish to investigate how many sets of nontransitive dice exist. We will assume the following conditions:\n",
    "\n",
    "* There are three six-sided dice with each side having between $1$ and $N$ pips, inclusive.\n",
    "* Dice with the same set of pips are equal, regardless of which side on the die the pips are located.\n",
    "* The same pip value may appear on multiple dice; if both players roll the same value neither player wins.\n",
    "* The sets of dice $\\{A,B,C\\}$, $\\{B,C,A\\}$ and $\\{C,A,B\\}$ are the same set.\n",
    "\n",
    "For $N = 7$ we find there are $9780$ such sets.\n",
    "  \n",
    "How many are there for $N = 30$?"
   ]
  },
  {
   "cell_type": "code",
   "execution_count": null,
   "id": "7a74905c",
   "metadata": {},
   "outputs": [],
   "source": [
    "# Problem 376 workspace"
   ]
  },
  {
   "cell_type": "markdown",
   "id": "8362d487",
   "metadata": {},
   "source": [
    "## Answer: "
   ]
  },
  {
   "cell_type": "markdown",
   "id": "e9cc8809",
   "metadata": {},
   "source": [
    "___"
   ]
  },
  {
   "cell_type": "markdown",
   "id": "ce8ddc89",
   "metadata": {},
   "source": [
    "# Problem 377\n",
    " [Source](https://projecteuler.net/problem=377)"
   ]
  },
  {
   "cell_type": "markdown",
   "id": "f8570f5e",
   "metadata": {},
   "source": [
    "There are $16$ positive integers that do not have a zero in their digits and that have a digital sum equal to $5$, namely:\n",
    "  \n",
    "$5$, $14$, $23$, $32$, $41$, $113$, $122$, $131$, $212$, $221$, $311$, $1112$, $1121$, $1211$, $2111$ and $11111$.\n",
    "  \n",
    "Their sum is $17891$.\n",
    "\n",
    "Let $f(n)$ be the sum of all positive integers that do not have a zero in their digits and have a digital sum equal to $n$.\n",
    "\n",
    "Find $\\displaystyle \\sum\\_{i=1}^{17} f(13^i)$.\n",
    "  \n",
    "Give the last $9$ digits as your answer."
   ]
  },
  {
   "cell_type": "code",
   "execution_count": null,
   "id": "12015da2",
   "metadata": {},
   "outputs": [],
   "source": [
    "# Problem 377 workspace"
   ]
  },
  {
   "cell_type": "markdown",
   "id": "f7281579",
   "metadata": {},
   "source": [
    "## Answer: "
   ]
  },
  {
   "cell_type": "markdown",
   "id": "b09f8c61",
   "metadata": {},
   "source": [
    "___"
   ]
  },
  {
   "cell_type": "markdown",
   "id": "700e1769",
   "metadata": {},
   "source": [
    "# Problem 378\n",
    " [Source](https://projecteuler.net/problem=378)"
   ]
  },
  {
   "cell_type": "markdown",
   "id": "2430148d",
   "metadata": {},
   "source": [
    "Let $T(n)$ be the n\n",
    "th\n",
    "triangle number, so $T(n) = \\dfrac{n(n + 1)}{2}$.\n",
    "\n",
    "Let $dT(n)$ be the number of divisors of $T(n)$.\n",
    "  \n",
    "E.g.: $T(7) = 28$ and $dT(7) = 6$.\n",
    "\n",
    "Let $Tr(n)$ be the number of triples $(i, j, k)$ such that $1 \\le i \\lt j \\lt k \\le n$ and $dT(i) \\gt dT(j) \\gt dT(k)$.\n",
    "  \n",
    "$Tr(20) = 14$, $Tr(100) = 5772$, and $Tr(1000) = 11174776$.\n",
    "\n",
    "Find $Tr(60 000 000)$.\n",
    "  \n",
    "Give the last 18 digits of your answer."
   ]
  },
  {
   "cell_type": "code",
   "execution_count": null,
   "id": "59c622ef",
   "metadata": {},
   "outputs": [],
   "source": [
    "# Problem 378 workspace"
   ]
  },
  {
   "cell_type": "markdown",
   "id": "206969dd",
   "metadata": {},
   "source": [
    "## Answer: "
   ]
  },
  {
   "cell_type": "markdown",
   "id": "2d82b1e2",
   "metadata": {},
   "source": [
    "___"
   ]
  },
  {
   "cell_type": "markdown",
   "id": "c47c4e46",
   "metadata": {},
   "source": [
    "# Problem 379\n",
    " [Source](https://projecteuler.net/problem=379)"
   ]
  },
  {
   "cell_type": "markdown",
   "id": "4ffcbd17",
   "metadata": {},
   "source": [
    "Let $f(n)$ be the number of couples $(x, y)$ with $x$ and $y$ positive integers, $x \\le y$ and the least common multiple of $x$ and $y$ equal to $n$.\n",
    "\n",
    "Let $g$ be the\n",
    "**summatory function**\n",
    "of $f$, i.e.:\n",
    "$g(n) = \\sum f(i)$ for $1 \\le i \\le n$.\n",
    "\n",
    "You are given that $g(10^6) = 37429395$.\n",
    "\n",
    "Find $g(10^{12})$."
   ]
  },
  {
   "cell_type": "code",
   "execution_count": null,
   "id": "e0b085e3",
   "metadata": {},
   "outputs": [],
   "source": [
    "# Problem 379 workspace"
   ]
  },
  {
   "cell_type": "markdown",
   "id": "0bc127e2",
   "metadata": {},
   "source": [
    "## Answer: "
   ]
  },
  {
   "cell_type": "markdown",
   "id": "907118ea",
   "metadata": {},
   "source": [
    "___"
   ]
  },
  {
   "cell_type": "markdown",
   "id": "39d272f0",
   "metadata": {},
   "source": [
    "# Problem 380\n",
    " [Source](https://projecteuler.net/problem=380)"
   ]
  },
  {
   "cell_type": "markdown",
   "id": "bae9c60e",
   "metadata": {},
   "source": [
    "An $m \\times n$ maze is an $m \\times n$ rectangular grid with walls placed between grid cells such that there is exactly one path from the top-left square to any other square.\n",
    "  \n",
    "The following are examples of a $9 \\times 12$ maze and a $15 \\times 20$ maze:\n",
    "\n",
    "![0380_mazes.gif](resources/0380_mazes.gif)\n",
    "\n",
    "Let $C(m,n)$ be the number of distinct $m \\times n$ mazes. Mazes which can be formed by rotation and reflection from another maze are considered distinct.\n",
    "\n",
    "It can be verified that $C(1,1) = 1$, $C(2,2) = 4$, $C(3,4) = 2415$, and $C(9,12) = 2.5720\\mathrm e46$ (in scientific notation rounded to $5$ significant digits).\n",
    "  \n",
    "Find $C(100,500)$ and write your answer in scientific notation rounded to $5$ significant digits.\n",
    "\n",
    "When giving your answer, use a lowercase e to separate mantissa and exponent.\n",
    "E.g. if the answer is $1234567891011$ then the answer format would be 1.2346e12."
   ]
  },
  {
   "cell_type": "code",
   "execution_count": null,
   "id": "4fcd4a92",
   "metadata": {},
   "outputs": [],
   "source": [
    "# Problem 380 workspace"
   ]
  },
  {
   "cell_type": "markdown",
   "id": "91ecab62",
   "metadata": {},
   "source": [
    "## Answer: "
   ]
  },
  {
   "cell_type": "markdown",
   "id": "e114290b",
   "metadata": {},
   "source": [
    "___"
   ]
  }
 ],
 "metadata": {},
 "nbformat": 4,
 "nbformat_minor": 5
}
