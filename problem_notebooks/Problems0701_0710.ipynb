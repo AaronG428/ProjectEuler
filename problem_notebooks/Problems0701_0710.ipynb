{
 "cells": [
  {
   "cell_type": "markdown",
   "id": "5fe384bf",
   "metadata": {},
   "source": [
    "# Problem 701\n",
    " [Source](https://projecteuler.net/problem=701)"
   ]
  },
  {
   "cell_type": "markdown",
   "id": "47f54173",
   "metadata": {},
   "source": [
    "Consider a rectangle made up of $W \\times H$ square cells each with area $1$.\n",
    "  \n",
    "Each cell is independently coloured black with probability $0.5$ otherwise white. Black cells sharing an edge are assumed to be connected.\n",
    "  \n",
    "Consider the maximum area of connected cells.\n",
    "\n",
    "Define $E(W,H)$ to be the expected value of this maximum area.\n",
    "For example, $E(2,2)=1.875$, as illustrated below.\n",
    "\n",
    "![3 random connected area](resources/0701_randcon.png)\n",
    "\n",
    "You are also given $E(4, 4) = 5.76487732$, rounded to $8$ decimal places.\n",
    "\n",
    "Find $E(7, 7)$, rounded to $8$ decimal places."
   ]
  },
  {
   "cell_type": "code",
   "execution_count": null,
   "id": "c17d4e61",
   "metadata": {},
   "outputs": [],
   "source": [
    "# Problem 701 workspace"
   ]
  },
  {
   "cell_type": "markdown",
   "id": "aa7c9c8c",
   "metadata": {},
   "source": [
    "## Answer: "
   ]
  },
  {
   "cell_type": "markdown",
   "id": "8d64bf86",
   "metadata": {},
   "source": [
    "___"
   ]
  },
  {
   "cell_type": "markdown",
   "id": "9dda29a8",
   "metadata": {},
   "source": [
    "# Problem 702\n",
    " [Source](https://projecteuler.net/problem=702)"
   ]
  },
  {
   "cell_type": "markdown",
   "id": "19e48371",
   "metadata": {},
   "source": [
    "A regular hexagon table of side length $N$ is divided into equilateral triangles of side length $1$. The picture below is an illustration of the case $N = 3$.\n",
    "\n",
    "![hexagonal table](resources/0702_jumping_flea.png)\n",
    "\n",
    "An flea of negligible size is jumping on this table. The flea starts at the centre of the table. Thereafter, at each step, it chooses one of the six corners of the table, and jumps to the mid-point between its current position and the chosen corner.\n",
    "\n",
    "For every triangle $T$, we denote by $J(T)$ the minimum number of jumps required for the flea to reach the interior of $T$. Landing on an edge or vertex of $T$ is not sufficient.\n",
    "\n",
    "For example, $J(T) = 3$ for the triangle marked with a star in the picture: by jumping from the centre half way towards F, then towards C, then towards E.\n",
    "\n",
    "Let $S(N)$ be the sum of $J(T)$ for all the upper-pointing triangles $T$ in the upper half of the table. For the case $N = 3$, these are the triangles painted black in the above picture.\n",
    "\n",
    "You are given that $S(3) = 42$, $S(5) = 126$, $S(123) = 167178$, and $S(12345) = 3185041956$.\n",
    "\n",
    "Find $S(123456789)$."
   ]
  },
  {
   "cell_type": "code",
   "execution_count": null,
   "id": "47abc227",
   "metadata": {},
   "outputs": [],
   "source": [
    "# Problem 702 workspace"
   ]
  },
  {
   "cell_type": "markdown",
   "id": "5f40b7e3",
   "metadata": {},
   "source": [
    "## Answer: "
   ]
  },
  {
   "cell_type": "markdown",
   "id": "2a9296c4",
   "metadata": {},
   "source": [
    "___"
   ]
  },
  {
   "cell_type": "markdown",
   "id": "ec221388",
   "metadata": {},
   "source": [
    "# Problem 703\n",
    " [Source](https://projecteuler.net/problem=703)"
   ]
  },
  {
   "cell_type": "markdown",
   "id": "88ec72eb",
   "metadata": {},
   "source": [
    "Given an integer $n$, $n \\geq 3$, let $B=\\{\\mathrm{false},\\mathrm{true}\\}$ and let $B^n$ be the set of sequences of $n$ values from $B$. The function $f$ from $B^n$ to $B^n$ is defined by $f(b\\_1 \\dots b\\_n) = c\\_1 \\dots c\\_n$ where:\n",
    "\n",
    "* $c\\_i = b\\_{i+1}$ for $1 \\leq i < n$.\n",
    "* $c\\_n = b\\_1 \\;\\mathrm{AND}\\; (b\\_2 \\;\\mathrm{XOR}\\; b\\_3)$, where $\\mathrm{AND}$ and $\\mathrm{XOR}$ are the logical $\\mathrm{AND}$ and exclusive $\\mathrm{OR}$ operations.\n",
    "\n",
    "Let $S(n)$ be the number of functions $T$ from $B^n$ to $B$ such that for all $x$ in $B^n$, $T(x) ~\\mathrm{AND}~ T(f(x)) = \\mathrm{false}$.\n",
    "You are given that $S(3) = 35$ and $S(4) = 2118$.\n",
    "\n",
    "Find $S(20)$. Give your answer modulo $1\\,001\\,001\\,011$."
   ]
  },
  {
   "cell_type": "code",
   "execution_count": null,
   "id": "ab90d39d",
   "metadata": {},
   "outputs": [],
   "source": [
    "# Problem 703 workspace"
   ]
  },
  {
   "cell_type": "markdown",
   "id": "973daab6",
   "metadata": {},
   "source": [
    "## Answer: "
   ]
  },
  {
   "cell_type": "markdown",
   "id": "5c2f49bf",
   "metadata": {},
   "source": [
    "___"
   ]
  },
  {
   "cell_type": "markdown",
   "id": "a737f663",
   "metadata": {},
   "source": [
    "# Problem 704\n",
    " [Source](https://projecteuler.net/problem=704)"
   ]
  },
  {
   "cell_type": "markdown",
   "id": "d9c5bb87",
   "metadata": {},
   "source": [
    "Define $g(n, m)$ to be the largest integer $k$ such that $2^k$ divides $\\binom{n}m$.\n",
    "For example, $\\binom{12}5 = 792 = 2^3 \\cdot 3^2 \\cdot 11$, hence $g(12, 5) = 3$.\n",
    "Then define $F(n) = \\max \\{ g(n, m) : 0 \\le m \\le n \\}$. $F(10) = 3$ and $F(100) = 6$.\n",
    "\n",
    "Let $S(N)$ = $\\displaystyle\\sum\\_{n=1}^N{F(n)}$. You are given that $S(100) = 389$ and $S(10^7) = 203222840$.\n",
    "\n",
    "Find $S(10^{16})$."
   ]
  },
  {
   "cell_type": "code",
   "execution_count": null,
   "id": "629df8dc",
   "metadata": {},
   "outputs": [],
   "source": [
    "# Problem 704 workspace"
   ]
  },
  {
   "cell_type": "markdown",
   "id": "4d1dec1c",
   "metadata": {},
   "source": [
    "## Answer: "
   ]
  },
  {
   "cell_type": "markdown",
   "id": "2aeef00a",
   "metadata": {},
   "source": [
    "___"
   ]
  },
  {
   "cell_type": "markdown",
   "id": "c376ba90",
   "metadata": {},
   "source": [
    "# Problem 705\n",
    " [Source](https://projecteuler.net/problem=705)"
   ]
  },
  {
   "cell_type": "markdown",
   "id": "c8f6ae1d",
   "metadata": {},
   "source": [
    "The\n",
    "inversion count\n",
    "of a sequence of digits is the smallest number of adjacent pairs that must be swapped to sort the sequence.\n",
    "  \n",
    "For example, $34214$ has inversion count of $5$:\n",
    "$34214 \\to 32414 \\to 23414 \\to 23144 \\to 21344 \\to12344$.\n",
    "\n",
    "If each digit of a sequence is replaced by one of its divisors a\n",
    "divided sequence\n",
    "is obtained.\n",
    "  \n",
    "For example, the sequence $332$ has $8$ divided sequences: $\\{332,331,312,311,132,131,112,111\\}$.\n",
    "\n",
    "Define $G(N)$ to be the concatenation of all primes less than $N$, ignoring any zero digit.\n",
    "  \n",
    "For example, $G(20) = 235711131719$.\n",
    "\n",
    "Define $F(N)$ to be the sum of the inversion count for all possible divided sequences from the master sequence $G(N)$.\n",
    "  \n",
    "You are given $F(20) = 3312$ and $F(50) = 338079744$.\n",
    "\n",
    "Find $F(10^8)$. Give your answer modulo $1\\,000\\,000\\,007$."
   ]
  },
  {
   "cell_type": "code",
   "execution_count": null,
   "id": "67ed9045",
   "metadata": {},
   "outputs": [],
   "source": [
    "# Problem 705 workspace"
   ]
  },
  {
   "cell_type": "markdown",
   "id": "f3b3993e",
   "metadata": {},
   "source": [
    "## Answer: "
   ]
  },
  {
   "cell_type": "markdown",
   "id": "5d622c84",
   "metadata": {},
   "source": [
    "___"
   ]
  },
  {
   "cell_type": "markdown",
   "id": "6c9aa3bc",
   "metadata": {},
   "source": [
    "# Problem 706\n",
    " [Source](https://projecteuler.net/problem=706)"
   ]
  },
  {
   "cell_type": "markdown",
   "id": "db2cfa28",
   "metadata": {},
   "source": [
    "For a positive integer $n$, define $f(n)$ to be the number of non-empty substrings of $n$ that are divisible by $3$. For example, the string \"2573\" has $10$ non-empty substrings, three of which represent numbers that are divisible by $3$, namely $57$, $573$ and $3$. So $f(2573) = 3$.\n",
    "\n",
    "If $f(n)$ is divisible by $3$ then we say that $n$ is\n",
    "$3$-like\n",
    ".\n",
    "\n",
    "Define $F(d)$ to be how many $d$ digit numbers are $3$-like. For example, $F(2) = 30$ and $F(6) = 290898$.\n",
    "\n",
    "Find $F(10^5)$. Give your answer modulo $1\\,000\\,000\\,007$."
   ]
  },
  {
   "cell_type": "code",
   "execution_count": null,
   "id": "c0e95195",
   "metadata": {},
   "outputs": [],
   "source": [
    "# Problem 706 workspace"
   ]
  },
  {
   "cell_type": "markdown",
   "id": "853b2255",
   "metadata": {},
   "source": [
    "## Answer: "
   ]
  },
  {
   "cell_type": "markdown",
   "id": "89a5a155",
   "metadata": {},
   "source": [
    "___"
   ]
  },
  {
   "cell_type": "markdown",
   "id": "7e9cb1e7",
   "metadata": {},
   "source": [
    "# Problem 707\n",
    " [Source](https://projecteuler.net/problem=707)"
   ]
  },
  {
   "cell_type": "markdown",
   "id": "109685aa",
   "metadata": {},
   "source": [
    "Consider a $w\\times h$ grid. A cell is either ON or OFF. When a cell is selected, that cell and all cells connected to that cell by an edge are toggled on-off, off-on. See the diagram for the 3 cases of selecting a corner cell, an edge cell or central cell in a grid that has all cells on (white).\n",
    "\n",
    "![LightsOut](resources/0707_LightsOutPic.jpg)\n",
    "\n",
    "The goal is to get every cell to be off simultaneously. This is not possible for all starting states. A state is solvable if, by a process of selecting cells, the goal can be achieved.\n",
    "\n",
    "Let $F(w,h)$ be the number of solvable states for a $w\\times h$ grid.\n",
    "You are given $F(1,2)=2$, $F(3,3) = 512$, $F(4,4) = 4096$ and $F(7,11) \\equiv 270016253 \\pmod{1\\,000\\,000\\,007}$.\n",
    "\n",
    "Let $f\\_1=f\\_2 = 1$ and $f\\_n=f\\_{n-1}+f\\_{n-2}, n \\ge 3$ be the Fibonacci sequence and define\n",
    "$$ S(w,n) = \\sum\\_{k=1}^n F(w,f\\_k)$$\n",
    "You are given $S(3,3) = 32$, $S(4,5) = 1052960$ and $S(5,7) \\equiv 346547294 \\pmod{1\\,000\\,000\\,007}$.\n",
    "\n",
    "Find $S(199,199)$. Give your answer modulo $1\\,000\\,000\\,007$."
   ]
  },
  {
   "cell_type": "code",
   "execution_count": null,
   "id": "bb68fb81",
   "metadata": {},
   "outputs": [],
   "source": [
    "# Problem 707 workspace"
   ]
  },
  {
   "cell_type": "markdown",
   "id": "588a0b52",
   "metadata": {},
   "source": [
    "## Answer: "
   ]
  },
  {
   "cell_type": "markdown",
   "id": "b3322366",
   "metadata": {},
   "source": [
    "___"
   ]
  },
  {
   "cell_type": "markdown",
   "id": "0670dd3c",
   "metadata": {},
   "source": [
    "# Problem 708\n",
    " [Source](https://projecteuler.net/problem=708)"
   ]
  },
  {
   "cell_type": "markdown",
   "id": "c3024037",
   "metadata": {},
   "source": [
    "A positive integer, $n$, is factorised into prime factors. We define $f(n)$ to be the product when each prime factor is replaced with $2$. In addition we define $f(1)=1$.\n",
    "\n",
    "For example, $90 = 2\\times 3\\times 3\\times 5$, then replacing the primes, $2\\times 2\\times 2\\times 2 = 16$, hence $f(90) = 16$.\n",
    "\n",
    "Let $\\displaystyle S(N)=\\sum\\_{n=1}^{N} f(n)$. You are given $S(10^8)=9613563919$.\n",
    "\n",
    "Find $S(10^{14})$."
   ]
  },
  {
   "cell_type": "code",
   "execution_count": null,
   "id": "1a1b0ccf",
   "metadata": {},
   "outputs": [],
   "source": [
    "# Problem 708 workspace"
   ]
  },
  {
   "cell_type": "markdown",
   "id": "580ea223",
   "metadata": {},
   "source": [
    "## Answer: "
   ]
  },
  {
   "cell_type": "markdown",
   "id": "9001d7d1",
   "metadata": {},
   "source": [
    "___"
   ]
  },
  {
   "cell_type": "markdown",
   "id": "c9177096",
   "metadata": {},
   "source": [
    "# Problem 709\n",
    " [Source](https://projecteuler.net/problem=709)"
   ]
  },
  {
   "cell_type": "markdown",
   "id": "2acf5496",
   "metadata": {},
   "source": [
    "Every day for the past $n$ days Even Stevens brings home his groceries in a plastic bag. He stores these plastic bags in a cupboard. He either puts the plastic bag into the cupboard with the rest, or else he takes an\n",
    "**even**\n",
    "number of the existing bags (which may either be empty or previously filled with other bags themselves) and places these into the current bag.\n",
    "\n",
    "After 4 days there are 5 possible packings and if the bags are numbered 1 (oldest), 2, 3, 4, they are:\n",
    "\n",
    "* Four empty bags,\n",
    "* 1 and 2 inside 3, 4 empty,\n",
    "* 1 and 3 inside 4, 2 empty,\n",
    "* 1 and 2 inside 4, 3 empty,\n",
    "* 2 and 3 inside 4, 1 empty.\n",
    "\n",
    "Note that 1, 2, 3 inside 4 is invalid because every bag must contain an even number of bags.\n",
    "\n",
    "Define $f(n)$ to be the number of possible packings of $n$ bags. Hence $f(4)=5$. You are also given $f(8)=1\\,385$.\n",
    "\n",
    "Find $f(24\\,680)$ giving your answer modulo $1\\,020\\,202\\,009$."
   ]
  },
  {
   "cell_type": "code",
   "execution_count": null,
   "id": "f2e3ada3",
   "metadata": {},
   "outputs": [],
   "source": [
    "# Problem 709 workspace"
   ]
  },
  {
   "cell_type": "markdown",
   "id": "2c095ce1",
   "metadata": {},
   "source": [
    "## Answer: "
   ]
  },
  {
   "cell_type": "markdown",
   "id": "9e32f26c",
   "metadata": {},
   "source": [
    "___"
   ]
  },
  {
   "cell_type": "markdown",
   "id": "6bb86974",
   "metadata": {},
   "source": [
    "# Problem 710\n",
    " [Source](https://projecteuler.net/problem=710)"
   ]
  },
  {
   "cell_type": "markdown",
   "id": "dea7c146",
   "metadata": {},
   "source": [
    "#### On Sunday 5 April 2020 the Project Euler membership first exceeded one million members. We would like to present this problem to celebrate that milestone. Thank you to everyone for being a part of Project Euler.\n",
    "\n",
    "The number 6 can be written as a palindromic sum in exactly eight different ways:\n",
    "\n",
    "$$(1, 1, 1, 1, 1, 1), (1, 1, 2, 1, 1), (1, 2, 2, 1), (1, 4, 1), (2, 1, 1, 2), (2, 2, 2), (3, 3), (6)$$\n",
    "\n",
    "We shall define a\n",
    "twopal\n",
    "to be a palindromic tuple having at least one element with a value of 2. It should also be noted that elements are not restricted to single digits. For example, $(3, 2, 13, 6, 13, 2, 3)$ is a valid twopal.\n",
    "\n",
    "If we let $t(n)$ be the number of twopals whose elements sum to $n$, then it can be seen that $t(6) = 4$:\n",
    "\n",
    "$$(1, 1, 2, 1, 1), (1, 2, 2, 1), (2, 1, 1, 2), (2, 2, 2)$$\n",
    "\n",
    "Similarly, $t(20) = 824$.\n",
    "\n",
    "In searching for the answer to the ultimate question of life, the universe, and everything, it can be verified that $t(42) = 1999923$, which happens to be the first value of $t(n)$ that exceeds one million.\n",
    "\n",
    "However, your challenge to the \"ultimatest\" question of life, the universe, and everything is to find the least value of $n \\gt 42$ such that $t(n)$ is divisible by one million."
   ]
  },
  {
   "cell_type": "code",
   "execution_count": null,
   "id": "38a27008",
   "metadata": {},
   "outputs": [],
   "source": [
    "# Problem 710 workspace"
   ]
  },
  {
   "cell_type": "markdown",
   "id": "88aca6d7",
   "metadata": {},
   "source": [
    "## Answer: "
   ]
  },
  {
   "cell_type": "markdown",
   "id": "a3c7b950",
   "metadata": {},
   "source": [
    "___"
   ]
  }
 ],
 "metadata": {},
 "nbformat": 4,
 "nbformat_minor": 5
}
