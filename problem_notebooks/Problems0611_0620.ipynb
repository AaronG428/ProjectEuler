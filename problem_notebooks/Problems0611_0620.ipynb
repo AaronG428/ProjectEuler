{
 "cells": [
  {
   "cell_type": "markdown",
   "id": "a0d3cad9",
   "metadata": {},
   "source": [
    "# Problem 611\n",
    " [Source](https://projecteuler.net/problem=611)"
   ]
  },
  {
   "cell_type": "markdown",
   "id": "6cee6670",
   "metadata": {},
   "source": [
    "Peter moves in a hallway with $N + 1$ doors consecutively numbered from $0$ through $N$. All doors are initially closed. Peter starts in front of door $0$, and repeatedly performs the following steps:\n",
    "\n",
    "* First, he walks a positive square number of doors away from his position.\n",
    "* Then he walks another, larger square number of doors away from his new position.\n",
    "* He toggles the door he faces (opens it if closed, closes it if open).\n",
    "* And finally returns to door $0$.\n",
    "\n",
    "We call an action any sequence of those steps. Peter never performs the exact same action twice, and makes sure to perform all possible actions that don't bring him past the last door.\n",
    "\n",
    "Let $F(N)$ be the number of doors that are open after Peter has performed all possible actions. You are given that $F(5) = 1$, $F(100) = 27$, $F(1000) = 233$ and $F(10^6) = 112168$.\n",
    "\n",
    "Find $F(10^{12})$."
   ]
  },
  {
   "cell_type": "code",
   "execution_count": null,
   "id": "57020c33",
   "metadata": {},
   "outputs": [],
   "source": [
    "# Problem 611 workspace"
   ]
  },
  {
   "cell_type": "markdown",
   "id": "83013246",
   "metadata": {},
   "source": [
    "## Answer: "
   ]
  },
  {
   "cell_type": "markdown",
   "id": "5db77a72",
   "metadata": {},
   "source": [
    "___"
   ]
  },
  {
   "cell_type": "markdown",
   "id": "328052fe",
   "metadata": {},
   "source": [
    "# Problem 612\n",
    " [Source](https://projecteuler.net/problem=612)"
   ]
  },
  {
   "cell_type": "markdown",
   "id": "f42e016e",
   "metadata": {},
   "source": [
    "Let's call two numbers\n",
    "friend numbers\n",
    "if their representation in base $10$ has at least one common digit.\n",
    "  \n",
    "E.g. $1123$ and $3981$ are friend numbers.\n",
    "\n",
    "Let $f(n)$ be the number of pairs $(p,q)$ with $1\\le p \\lt q \\lt n$ such that $p$ and $q$ are friend numbers.\n",
    "  \n",
    "$f(100)=1539$.\n",
    "\n",
    "Find $f(10^{18}) \\bmod 1000267129$."
   ]
  },
  {
   "cell_type": "code",
   "execution_count": null,
   "id": "2738738e",
   "metadata": {},
   "outputs": [],
   "source": [
    "# Problem 612 workspace"
   ]
  },
  {
   "cell_type": "markdown",
   "id": "bf6317ae",
   "metadata": {},
   "source": [
    "## Answer: "
   ]
  },
  {
   "cell_type": "markdown",
   "id": "ebd30e7f",
   "metadata": {},
   "source": [
    "___"
   ]
  },
  {
   "cell_type": "markdown",
   "id": "774c93f6",
   "metadata": {},
   "source": [
    "# Problem 613\n",
    " [Source](https://projecteuler.net/problem=613)"
   ]
  },
  {
   "cell_type": "markdown",
   "id": "06c7ca84",
   "metadata": {},
   "source": [
    "Dave is doing his homework on the balcony and, preparing a presentation about Pythagorean triangles, has just cut out a triangle with side lengths 30cm, 40cm and 50cm from some cardboard, when a gust of wind blows the triangle down into the garden.\n",
    "  \n",
    "Another gust blows a small ant straight onto this triangle. The poor ant is completely disoriented and starts to crawl straight ahead in random direction in order to get back into the grass.\n",
    "\n",
    "Assuming that all possible positions of the ant within the triangle and all possible directions of moving on are equiprobable, what is the probability that the ant leaves the triangle along its longest side?\n",
    "  \n",
    "Give your answer rounded to 10 digits after the decimal point."
   ]
  },
  {
   "cell_type": "code",
   "execution_count": null,
   "id": "c4d050fe",
   "metadata": {},
   "outputs": [],
   "source": [
    "# Problem 613 workspace"
   ]
  },
  {
   "cell_type": "markdown",
   "id": "c6074b81",
   "metadata": {},
   "source": [
    "## Answer: "
   ]
  },
  {
   "cell_type": "markdown",
   "id": "fddfa0cd",
   "metadata": {},
   "source": [
    "___"
   ]
  },
  {
   "cell_type": "markdown",
   "id": "df8ab63e",
   "metadata": {},
   "source": [
    "# Problem 614\n",
    " [Source](https://projecteuler.net/problem=614)"
   ]
  },
  {
   "cell_type": "markdown",
   "id": "556a0f7d",
   "metadata": {},
   "source": [
    "An\n",
    "**integer partition**\n",
    "of a number $n$ is a way of writing $n$ as a sum of positive integers. Partitions that differ only by the order of their summands are considered the same.\n",
    "\n",
    "We call an integer partition\n",
    "special\n",
    "if 1) all its summands are distinct, and 2) all its even summands are also divisible by $4$.\n",
    "  \n",
    "For example, the special partitions of $10$ are: $$10 = 1+4+5=3+7=1+9$$\n",
    "The number $10$ admits many more integer partitions (a total of $42$), but only those three are special.\n",
    "\n",
    "Let be $P(n)$ the number of special integer partitions of $n$. You are given that $P(1) = 1$, $P(2) = 0$, $P(3) = 1$, $P(6) = 1$, $P(10)=3$, $P(100) = 37076$ and $P(1000)=3699177285485660336$.\n",
    "\n",
    "Find $\\displaystyle \\sum\\_{i=1}^{10^7} P(i)$. Give the result modulo $10^9+7$."
   ]
  },
  {
   "cell_type": "code",
   "execution_count": null,
   "id": "0e94be6d",
   "metadata": {},
   "outputs": [],
   "source": [
    "# Problem 614 workspace"
   ]
  },
  {
   "cell_type": "markdown",
   "id": "06555bde",
   "metadata": {},
   "source": [
    "## Answer: "
   ]
  },
  {
   "cell_type": "markdown",
   "id": "377ad3a5",
   "metadata": {},
   "source": [
    "___"
   ]
  },
  {
   "cell_type": "markdown",
   "id": "90d25dc6",
   "metadata": {},
   "source": [
    "# Problem 615\n",
    " [Source](https://projecteuler.net/problem=615)"
   ]
  },
  {
   "cell_type": "markdown",
   "id": "e202c0cb",
   "metadata": {},
   "source": [
    "Consider the natural numbers having at least $5$ prime factors, which don't have to be distinct.\n",
    "  \n",
    "Sorting these numbers by size gives a list which starts with:\n",
    "\n",
    "* $32=2 \\cdot 2 \\cdot 2 \\cdot 2 \\cdot 2$\n",
    "* $48=2 \\cdot 2 \\cdot 2 \\cdot 2 \\cdot 3$\n",
    "* $64=2 \\cdot 2 \\cdot 2 \\cdot 2 \\cdot 2 \\cdot 2$\n",
    "* $72=2 \\cdot 2 \\cdot 2 \\cdot 3 \\cdot 3$\n",
    "* $80=2 \\cdot 2 \\cdot 2 \\cdot 2 \\cdot 5$\n",
    "* $96=2 \\cdot 2 \\cdot 2 \\cdot 2 \\cdot 2 \\cdot 3$\n",
    "* $\\cdots$\n",
    "\n",
    "So, for example, the fifth number with at least $5$ prime factors is $80$.\n",
    "\n",
    "Find the millionth number with at least one million prime factors.\n",
    "  \n",
    "Give your answer modulo $123454321$."
   ]
  },
  {
   "cell_type": "code",
   "execution_count": null,
   "id": "cb74e4e5",
   "metadata": {},
   "outputs": [],
   "source": [
    "# Problem 615 workspace"
   ]
  },
  {
   "cell_type": "markdown",
   "id": "691f90fb",
   "metadata": {},
   "source": [
    "## Answer: "
   ]
  },
  {
   "cell_type": "markdown",
   "id": "e3666df1",
   "metadata": {},
   "source": [
    "___"
   ]
  },
  {
   "cell_type": "markdown",
   "id": "f06bd0cd",
   "metadata": {},
   "source": [
    "# Problem 616\n",
    " [Source](https://projecteuler.net/problem=616)"
   ]
  },
  {
   "cell_type": "markdown",
   "id": "fe54e840",
   "metadata": {},
   "source": [
    "Alice plays the following game, she starts with a list of integers $L$ and on each step she can either:\n",
    "\n",
    "* remove two elements $a$ and $b$ from $L$ and add $a^b$ to $L$\n",
    "* or conversely remove an element $c$ from $L$ that can be written as $a^b$, with $a$ and $b$ being two integers such that $a, b > 1$, and add both $a$ and $b$ to $L$\n",
    "\n",
    "For example starting from the list $L=\\{8\\}$, Alice can remove $8$ and add $2$ and $3$ resulting in $L=\\{2,3\\}$ in a first step. Then she can obtain $L=\\{9\\}$ in a second step.\n",
    "\n",
    "Note that the same integer is allowed to appear multiple times in the list.\n",
    "\n",
    "An integer $n>1$ is said to be\n",
    "creative\n",
    "if for any integer $m \\gt 1$ Alice can obtain a list that contains $m$ starting from $L=\\{n\\}$.\n",
    "\n",
    "Find the sum of all creative integers less than or equal to $10^{12}$."
   ]
  },
  {
   "cell_type": "code",
   "execution_count": null,
   "id": "db4d3457",
   "metadata": {},
   "outputs": [],
   "source": [
    "# Problem 616 workspace"
   ]
  },
  {
   "cell_type": "markdown",
   "id": "6dbecb0f",
   "metadata": {},
   "source": [
    "## Answer: "
   ]
  },
  {
   "cell_type": "markdown",
   "id": "0a0d7b6e",
   "metadata": {},
   "source": [
    "___"
   ]
  },
  {
   "cell_type": "markdown",
   "id": "f14f1912",
   "metadata": {},
   "source": [
    "# Problem 617\n",
    " [Source](https://projecteuler.net/problem=617)"
   ]
  },
  {
   "cell_type": "markdown",
   "id": "638fc771",
   "metadata": {},
   "source": [
    "For two integers $n,e \\gt 1$, we define an\n",
    "$(n,e)$-MPS (Mirror Power Sequence)\n",
    "to be an infinite sequence of integers $(a\\_i)\\_{i\\ge 0}$ such that for all $i\\ge 0$, $a\\_{i+1} = \\min(a\\_i^e,n-a\\_i^e)$ and $a\\_i \\gt 1$.\n",
    "  \n",
    "Examples of such sequences are the two $(18,2)$-MPS sequences made of alternating $2$ and $4$.\n",
    "\n",
    "Note that even though such a sequence is uniquely determined by $n,e$ and $a\\_0$, for most values such a sequence does not exist. For example, no $(n,e)$-MPS exists for $n \\lt 6$.\n",
    "\n",
    "Define $C(n)$ to be the number of $(n,e)$-MPS for some $e$, and $\\displaystyle D(N) = \\sum\\_{n=2}^N C(n)$.\n",
    "  \n",
    "You are given that $D(10) = 2$, $D(100) = 21$, $D(1000) = 69$, $D(10^6) = 1303$ and $D(10^{12}) = 1014800$.\n",
    "\n",
    "Find $D(10^{18})$."
   ]
  },
  {
   "cell_type": "code",
   "execution_count": null,
   "id": "3b44d8ad",
   "metadata": {},
   "outputs": [],
   "source": [
    "# Problem 617 workspace"
   ]
  },
  {
   "cell_type": "markdown",
   "id": "b19a064e",
   "metadata": {},
   "source": [
    "## Answer: "
   ]
  },
  {
   "cell_type": "markdown",
   "id": "2331fd55",
   "metadata": {},
   "source": [
    "___"
   ]
  },
  {
   "cell_type": "markdown",
   "id": "4214bf96",
   "metadata": {},
   "source": [
    "# Problem 618\n",
    " [Source](https://projecteuler.net/problem=618)"
   ]
  },
  {
   "cell_type": "markdown",
   "id": "5bd0944c",
   "metadata": {},
   "source": [
    "Consider the numbers $15$, $16$ and $18$:\n",
    "  \n",
    "$15=3\\times 5$ and $3+5=8$.\n",
    "  \n",
    "$16 = 2\\times 2\\times 2\\times 2$ and $2+2+2+2=8$.\n",
    "  \n",
    "$18 = 2\\times 3\\times 3$ and $2+3+3=8$.\n",
    "  \n",
    "$15$, $16$ and $18$ are the only numbers that have $8$ as sum of the prime factors (counted with multiplicity).\n",
    "\n",
    "We define $S(k)$ to be the sum of all numbers $n$ where the sum of the prime factors (with multiplicity) of $n$ is $k$.\n",
    "  \n",
    "Hence $S(8) = 15+16+18 = 49$.\n",
    "  \n",
    "Other examples: $S(1) = 0$, $S(2) = 2$, $S(3) = 3$, $S(5) = 5 + 6 = 11$.\n",
    "\n",
    "The Fibonacci sequence is $F\\_1 = 1$, $F\\_2 = 1$, $F\\_3 = 2$, $F\\_4 = 3$, $F\\_5 = 5$, ....\n",
    "  \n",
    "Find the last nine digits of $\\displaystyle\\sum\\_{k=2}^{24}S(F\\_k)$."
   ]
  },
  {
   "cell_type": "code",
   "execution_count": null,
   "id": "023817e9",
   "metadata": {},
   "outputs": [],
   "source": [
    "# Problem 618 workspace"
   ]
  },
  {
   "cell_type": "markdown",
   "id": "9cf9f8c1",
   "metadata": {},
   "source": [
    "## Answer: "
   ]
  },
  {
   "cell_type": "markdown",
   "id": "9e482453",
   "metadata": {},
   "source": [
    "___"
   ]
  },
  {
   "cell_type": "markdown",
   "id": "714e626d",
   "metadata": {},
   "source": [
    "# Problem 619\n",
    " [Source](https://projecteuler.net/problem=619)"
   ]
  },
  {
   "cell_type": "markdown",
   "id": "605f10aa",
   "metadata": {},
   "source": [
    "For a set of positive integers $\\{a, a+1, a+2, \\dots , b\\}$, let $C(a,b)$ be the number of non-empty subsets in which the product of all elements is a perfect square.\n",
    "\n",
    "For example $C(5,10)=3$, since the products of all elements of $\\{5, 8, 10\\}$, $\\{5, 8, 9, 10\\}$ and $\\{9\\}$ are perfect squares, and no other subsets of $\\{5, 6, 7, 8, 9, 10\\}$ have this property.\n",
    "\n",
    "You are given that $C(40,55) =15$, and $C(1000,1234) \\bmod 1000000007=975523611$.\n",
    "\n",
    "Find $C(1000000,1234567) \\bmod 1000000007$."
   ]
  },
  {
   "cell_type": "code",
   "execution_count": null,
   "id": "b99a2e64",
   "metadata": {},
   "outputs": [],
   "source": [
    "# Problem 619 workspace"
   ]
  },
  {
   "cell_type": "markdown",
   "id": "8426c0d2",
   "metadata": {},
   "source": [
    "## Answer: "
   ]
  },
  {
   "cell_type": "markdown",
   "id": "160976c8",
   "metadata": {},
   "source": [
    "___"
   ]
  },
  {
   "cell_type": "markdown",
   "id": "8be3dac0",
   "metadata": {},
   "source": [
    "# Problem 620\n",
    " [Source](https://projecteuler.net/problem=620)"
   ]
  },
  {
   "cell_type": "markdown",
   "id": "b6bd0e35",
   "metadata": {},
   "source": [
    "A circle $C$ of circumference $c$ centimetres has a smaller circle $S$ of circumference $s$ centimetres lying off-centre within it. Four other distinct circles, which we call \"planets\", with circumferences $p$, $p$, $q$, $q$ centimetres respectively ($p<q$), are inscribed within $C$ but outside $S$, with each planet touching both $C$ and $S$ tangentially. The planets are permitted to overlap one another, but the boundaries of $S$ and $C$ must be at least 1cm apart at their closest point.\n",
    "\n",
    "Now suppose that these circles are actually gears with perfectly meshing teeth at a pitch of 1cm. $C$ is an internal gear with teeth on the inside. We require that $c$, $s$, $p$, $q$ are all integers (as they are the numbers of teeth), and we further stipulate that any gear must have at least 5 teeth.\n",
    "\n",
    "Note that \"perfectly meshing\" means that as the gears rotate, the ratio between their angular velocities remains constant, and the teeth of one gear perfectly align with the groves of the other gear and vice versa. Only for certain gear sizes and positions will it be possible for $S$ and $C$ each to mesh perfectly with all the planets. Arrangements where not all gears mesh perfectly are not valid.\n",
    "\n",
    "Define $g(c,s,p,q)$ to be the number of such gear arrangements for given values of $c$, $s$, $p$, $q$: it turns out that this is finite as only certain discrete arrangements are possible satisfying the above conditions. For example, $g(16,5,5,6)=9$.\n",
    "\n",
    "Here is one such arrangement:\n",
    "\n",
    "![Example arrangement](resources/0620_planetary_gears.png)\n",
    "\n",
    "Let $G(n) = \\sum\\_{s+p+q\\le n} g(s+p+q,s,p,q)$ where the sum only includes cases with $p<q$, $p\\ge 5$, and $s\\ge 5$, all integers. You are given that $G(16)=9$ and $G(20)=205$.\n",
    "\n",
    "Find $G(500)$."
   ]
  },
  {
   "cell_type": "code",
   "execution_count": null,
   "id": "0ffa4f13",
   "metadata": {},
   "outputs": [],
   "source": [
    "# Problem 620 workspace"
   ]
  },
  {
   "cell_type": "markdown",
   "id": "94dbbe06",
   "metadata": {},
   "source": [
    "## Answer: "
   ]
  },
  {
   "cell_type": "markdown",
   "id": "bc5f4320",
   "metadata": {},
   "source": [
    "___"
   ]
  }
 ],
 "metadata": {},
 "nbformat": 4,
 "nbformat_minor": 5
}
