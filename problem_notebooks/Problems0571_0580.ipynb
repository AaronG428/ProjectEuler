{
 "cells": [
  {
   "cell_type": "markdown",
   "id": "edfbcfee",
   "metadata": {},
   "source": [
    "# Problem 571\n",
    " [Source](https://projecteuler.net/problem=571)"
   ]
  },
  {
   "cell_type": "markdown",
   "id": "bd3f7eef",
   "metadata": {},
   "source": [
    "A positive number is\n",
    "**pandigital**\n",
    "in base $b$ if it contains all digits from $0$ to $b - 1$ at least once when written in base $b$.\n",
    "\n",
    "An\n",
    "$n$-super-pandigital\n",
    "number is a number that is simultaneously pandigital in all bases from $2$ to $n$ inclusively.\n",
    "  \n",
    "For example $978 = 1111010010\\_2 = 1100020\\_3 = 33102\\_4 = 12403\\_5$ is the smallest $5$-super-pandigital number.\n",
    "  \n",
    "Similarly, $1093265784$ is the smallest $10$-super-pandigital number.\n",
    "  \n",
    "The sum of the $10$ smallest $10$-super-pandigital numbers is $20319792309$.\n",
    "\n",
    "What is the sum of the $10$ smallest $12$-super-pandigital numbers?"
   ]
  },
  {
   "cell_type": "code",
   "execution_count": null,
   "id": "61105a13",
   "metadata": {},
   "outputs": [],
   "source": [
    "# Problem 571 workspace"
   ]
  },
  {
   "cell_type": "markdown",
   "id": "a89521e4",
   "metadata": {},
   "source": [
    "## Answer: "
   ]
  },
  {
   "cell_type": "markdown",
   "id": "f7326870",
   "metadata": {},
   "source": [
    "___"
   ]
  },
  {
   "cell_type": "markdown",
   "id": "53b682f6",
   "metadata": {},
   "source": [
    "# Problem 572\n",
    " [Source](https://projecteuler.net/problem=572)"
   ]
  },
  {
   "cell_type": "markdown",
   "id": "584bf71b",
   "metadata": {},
   "source": [
    "A matrix $M$ is called idempotent if $M^2 = M$.\n",
    "  \n",
    "Let $M$ be a three by three matrix :\n",
    "$M=\\begin{pmatrix}\n",
    "a & b & c\\\\\n",
    "d & e & f\\\\\n",
    "g &h &i\\\\\n",
    "\\end{pmatrix}$.\n",
    "  \n",
    "Let $C(n)$ be the number of idempotent three by three matrices $M$ with integer elements such that\n",
    "  \n",
    "$ -n \\le a,b,c,d,e,f,g,h,i \\le n$.\n",
    "\n",
    "$C(1)=164$ and $C(2)=848$.\n",
    "\n",
    "Find $C(200)$."
   ]
  },
  {
   "cell_type": "code",
   "execution_count": null,
   "id": "2679958a",
   "metadata": {},
   "outputs": [],
   "source": [
    "# Problem 572 workspace"
   ]
  },
  {
   "cell_type": "markdown",
   "id": "660b6c51",
   "metadata": {},
   "source": [
    "## Answer: "
   ]
  },
  {
   "cell_type": "markdown",
   "id": "3e8bb9db",
   "metadata": {},
   "source": [
    "___"
   ]
  },
  {
   "cell_type": "markdown",
   "id": "bc03dac2",
   "metadata": {},
   "source": [
    "# Problem 573\n",
    " [Source](https://projecteuler.net/problem=573)"
   ]
  },
  {
   "cell_type": "markdown",
   "id": "98fe646c",
   "metadata": {},
   "source": [
    "$n$ runners in very different training states want to compete in a race. Each one of them is given a different starting number $k$ $(1\\leq k \\leq n)$ according to the runner's (constant) individual racing speed being $v\\_k=\\frac{k}{n}$.\n",
    "  \n",
    "In order to give the slower runners a chance to win the race, $n$ different starting positions are chosen randomly (with uniform distribution) and independently from each other within the racing track of length $1$. After this, the starting position nearest to the goal is assigned to runner $1$, the next nearest starting position to runner $2$ and so on, until finally the starting position furthest away from the goal is assigned to runner $n$. The winner of the race is the runner who reaches the goal first.\n",
    "\n",
    "Interestingly, the expected running time for the winner is $\\frac{1}{2}$, independently of the number of runners. Moreover, while it can be shown that all runners will have the same expected running time of $\\frac{n}{n+1}$, the race is still unfair, since the winning chances may differ significantly for different starting numbers:\n",
    "\n",
    "Let $P\\_{n,k}$ be the probability for runner $k$ to win a race with $n$ runners and $E\\_n = \\sum\\_{k=1}^n k P\\_{n,k}$ be the expected starting number of the winner in that race. It can be shown that, for example,\n",
    "$P\\_{3,1}=\\frac{4}{9}$, $P\\_{3,2}=\\frac{2}{9}$, $P\\_{3,3}=\\frac{1}{3}$ and $E\\_3=\\frac{17}{9}$ for a race with $3$ runners.\n",
    "  \n",
    "You are given that $E\\_4=2.21875$, $E\\_5=2.5104$ and $E\\_{10}=3.66021568$.\n",
    "\n",
    "Find $E\\_{1000000}$ rounded to $4$ digits after the decimal point."
   ]
  },
  {
   "cell_type": "code",
   "execution_count": null,
   "id": "7eb8cf7c",
   "metadata": {},
   "outputs": [],
   "source": [
    "# Problem 573 workspace"
   ]
  },
  {
   "cell_type": "markdown",
   "id": "e88ad265",
   "metadata": {},
   "source": [
    "## Answer: "
   ]
  },
  {
   "cell_type": "markdown",
   "id": "3933b545",
   "metadata": {},
   "source": [
    "___"
   ]
  },
  {
   "cell_type": "markdown",
   "id": "898a681c",
   "metadata": {},
   "source": [
    "# Problem 574\n",
    " [Source](https://projecteuler.net/problem=574)"
   ]
  },
  {
   "cell_type": "markdown",
   "id": "683c8f34",
   "metadata": {},
   "source": [
    "Let $q$ be a prime and $A \\ge B >0$ be two integers with the following properties:\n",
    "\n",
    "* $A$ and $B$ have no prime factor in common, that is $\\gcd(A,B)=1$.\n",
    "* The product $AB$ is divisible by every prime less than q.\n",
    "\n",
    "It can be shown that, given these conditions, any sum $A+B<q^2$ and any difference $1<A-B<q^2$ has to be a prime number. Thus you can verify that a number $p$ is prime by showing that either $p=A+B<q^2$ or $p=A-B<q^2$ for some $A,B,q$ fulfilling the conditions listed above.\n",
    "\n",
    "Let $V(p)$ be the smallest possible value of $A$ in any sum $p=A+B$ and any difference $p=A-B$, that verifies $p$ being prime. Examples:\n",
    "  \n",
    "$V(2)=1$, since $2=1+1< 2^2$.\n",
    "  \n",
    "$V(37)=22$, since $37=22+15=2 \\cdot 11+3 \\cdot 5< 7^2$ is the associated sum with the smallest possible $A$.\n",
    "  \n",
    "$V(151)=165$ since $151=165-14=3 \\cdot 5 \\cdot 11 - 2 \\cdot 7<13^2$ is the associated difference with the smallest possible $A$.\n",
    "\n",
    "Let $S(n)$ be the sum of $V(p)$ for all primes $p<n$. For example, $S(10)=10$ and $S(200)=7177$.\n",
    "\n",
    "Find $S(3800)$."
   ]
  },
  {
   "cell_type": "code",
   "execution_count": null,
   "id": "5d451243",
   "metadata": {},
   "outputs": [],
   "source": [
    "# Problem 574 workspace"
   ]
  },
  {
   "cell_type": "markdown",
   "id": "9c71fa8e",
   "metadata": {},
   "source": [
    "## Answer: "
   ]
  },
  {
   "cell_type": "markdown",
   "id": "bb7b7553",
   "metadata": {},
   "source": [
    "___"
   ]
  },
  {
   "cell_type": "markdown",
   "id": "a413514a",
   "metadata": {},
   "source": [
    "# Problem 575\n",
    " [Source](https://projecteuler.net/problem=575)"
   ]
  },
  {
   "cell_type": "markdown",
   "id": "15ec1ed4",
   "metadata": {},
   "source": [
    "It was quite an ordinary day when a mysterious alien vessel appeared as if from nowhere. After waiting several hours and receiving no response it is decided to send a team to investigate, of which you are included. Upon entering the vessel you are met by a friendly holographic figure, Katharina, who explains the purpose of the vessel, Eulertopia.\n",
    "\n",
    "She claims that Eulertopia is almost older than time itself. Its mission was to take advantage of a combination of incredible computational power and vast periods of time to discover the answer to life, the universe, and everything. Hence the resident cleaning robot, Leonhard, along with his housekeeping responsibilities, was built with a powerful computational matrix to ponder the meaning of life as he wanders through a massive 1000 by 1000 square grid of rooms. She goes on to explain that the rooms are numbered sequentially from left to right, row by row. So, for example, if Leonhard was wandering around a 5 by 5 grid then the rooms would be numbered in the following way.\n",
    "\n",
    "![0575_wandering_robot_1_5x5.png](resources/0575_wandering_robot_1_5x5.png)\n",
    "\n",
    "Many millenia ago Leonhard reported to Katharina to have found the answer and he is willing to share it with any life form who proves to be worthy of such knowledge.\n",
    "\n",
    "Katharina further explains that the designers of Leonhard were given instructions to program him with equal probability of remaining in the same room or travelling to an adjacent room. However, it was not clear to them if this meant (i) an equal probability being split equally between remaining in the room and the number of available routes, or, (ii) an equal probability (50%) of remaining in the same room and then the other 50% was to be split equally between the number of available routes.\n",
    "\n",
    "![0575_wandering_robot_2_fixed.png](resources/0575_wandering_robot_2_fixed.png)\n",
    "  \n",
    "\n",
    "(i) Probability of remaining related to number of exits\n",
    "\n",
    "  \n",
    "![0575_wandering_robot_3_dynamic.png](resources/0575_wandering_robot_3_dynamic.png)\n",
    "  \n",
    "\n",
    "(ii) Fixed 50% probability of remaining\n",
    "\n",
    "The records indicate that they decided to flip a coin. Heads would mean that the probability of remaining was dynamically related to the number of exits whereas tails would mean that they program Leonhard with a fixed 50% probability of remaining in a particular room. Unfortunately there is no record of the outcome of the coin, so without further information we would need to assume that there is equal probability of either of the choices being implemented.\n",
    "\n",
    "Katharina suggests it should not be too challenging to determine that the probability of finding him in a square numbered room in a 5 by 5 grid after unfathomable periods of time would be approximately 0.177976190476 [12 d.p.].\n",
    "\n",
    "In order to prove yourself worthy of visiting the great oracle you must calculate the probability of finding him in a square numbered room in the 1000 by 1000 lair in which he has been wandering.\n",
    "  \n",
    "(Give your answer rounded to 12 decimal places)"
   ]
  },
  {
   "cell_type": "code",
   "execution_count": null,
   "id": "6f62cef8",
   "metadata": {},
   "outputs": [],
   "source": [
    "# Problem 575 workspace"
   ]
  },
  {
   "cell_type": "markdown",
   "id": "ee25d43e",
   "metadata": {},
   "source": [
    "## Answer: "
   ]
  },
  {
   "cell_type": "markdown",
   "id": "64bbf021",
   "metadata": {},
   "source": [
    "___"
   ]
  },
  {
   "cell_type": "markdown",
   "id": "60c54af0",
   "metadata": {},
   "source": [
    "# Problem 576\n",
    " [Source](https://projecteuler.net/problem=576)"
   ]
  },
  {
   "cell_type": "markdown",
   "id": "f59dd664",
   "metadata": {},
   "source": [
    "A bouncing point moves counterclockwise along a circle with circumference $1$ with jumps of constant length $l \\lt 1$, until it hits a gap of length $g \\lt 1$, that is placed in a distance $d$ counterclockwise from the starting point. The gap does not include the starting point, that is $g+d \\lt 1$.\n",
    "\n",
    "Let $S(l,g,d)$ be the sum of the length of all jumps, until the point falls into the gap. It can be shown that $S(l,g,d)$ is finite for any irrational jump size $l$, regardless of the values of $g$ and $d$.\n",
    "  \n",
    "Examples:\n",
    "  \n",
    "$S(\\sqrt{\\frac 1 2}, 0.06, 0.7)=0.7071 \\cdots$, $S(\\sqrt{\\frac 1 2}, 0.06, 0.3543)=1.4142 \\cdots$ and\n",
    "  \n",
    "$S(\\sqrt{\\frac 1 2}, 0.06, 0.2427)=16.2634 \\cdots$.\n",
    "\n",
    "Let $M(n, g)$ be the maximum of $ \\sum S(\\sqrt{\\frac 1 p}, g, d)$ for all primes $p \\le n$ and any valid value of $d$.\n",
    "  \n",
    "Examples:\n",
    "  \n",
    "$M(3, 0.06) =29.5425 \\cdots$, since $S(\\sqrt{\\frac 1 2}, 0.06, 0.2427)+S(\\sqrt{\\frac 1 3}, 0.06, 0.2427)=29.5425 \\cdots$ is the maximal reachable sum for $g=0.06$.\n",
    "  \n",
    "$M(10, 0.01)=266.9010 \\cdots$\n",
    "\n",
    "Find $M(100, 0.00002)$, rounded to $4$ decimal places."
   ]
  },
  {
   "cell_type": "code",
   "execution_count": null,
   "id": "8fdbd376",
   "metadata": {},
   "outputs": [],
   "source": [
    "# Problem 576 workspace"
   ]
  },
  {
   "cell_type": "markdown",
   "id": "6d08ef15",
   "metadata": {},
   "source": [
    "## Answer: "
   ]
  },
  {
   "cell_type": "markdown",
   "id": "bb29ed9d",
   "metadata": {},
   "source": [
    "___"
   ]
  },
  {
   "cell_type": "markdown",
   "id": "6b6afb40",
   "metadata": {},
   "source": [
    "# Problem 577\n",
    " [Source](https://projecteuler.net/problem=577)"
   ]
  },
  {
   "cell_type": "markdown",
   "id": "41148f2a",
   "metadata": {},
   "source": [
    "An equilateral triangle with integer side length $n \\ge 3$ is divided into $n^2$ equilateral triangles with side length 1 as shown in the diagram below.\n",
    "  \n",
    "The vertices of these triangles constitute a triangular lattice with $\\frac{(n+1)(n+2)} 2$ lattice points.\n",
    "\n",
    "Let $H(n)$ be the number of all regular hexagons that can be found by connecting 6 of these points.\n",
    "\n",
    "![0577_counting_hexagons.png](resources/0577_counting_hexagons.png)\n",
    "\n",
    "For example, $H(3)=1$, $H(6)=12$ and $H(20)=966$.\n",
    "\n",
    "Find $\\displaystyle \\sum\\_{n=3}^{12345} H(n)$."
   ]
  },
  {
   "cell_type": "code",
   "execution_count": null,
   "id": "5b9ace01",
   "metadata": {},
   "outputs": [],
   "source": [
    "# Problem 577 workspace"
   ]
  },
  {
   "cell_type": "markdown",
   "id": "68fb66b7",
   "metadata": {},
   "source": [
    "## Answer: "
   ]
  },
  {
   "cell_type": "markdown",
   "id": "31c9c73c",
   "metadata": {},
   "source": [
    "___"
   ]
  },
  {
   "cell_type": "markdown",
   "id": "43ed180d",
   "metadata": {},
   "source": [
    "# Problem 578\n",
    " [Source](https://projecteuler.net/problem=578)"
   ]
  },
  {
   "cell_type": "markdown",
   "id": "c72b3dd3",
   "metadata": {},
   "source": [
    "Any positive integer can be written as a product of prime powers: $p\\_1^{a\\_1} \\times p\\_2^{a\\_2} \\times \\cdots \\times p\\_k^{a\\_k}$,\n",
    "  \n",
    "where $p\\_i$ are distinct prime integers, $a\\_i \\gt 0$ and $p\\_i \\lt p\\_j$ if $i \\lt j$.\n",
    "\n",
    "A\n",
    "decreasing prime power\n",
    "positive integer is one for which $a\\_i \\ge a\\_j$ if $i \\lt j$.\n",
    "  \n",
    "For example, $1$, $2$, $15=3 \\times 5$, $360=2^3 \\times 3^2 \\times 5$ and $1000=2^3 \\times 5^3$ are decreasing prime power integers.\n",
    "\n",
    "Let $C(n)$ be the count of decreasing prime power positive integers not exceeding $n$.\n",
    "  \n",
    "$C(100) = 94$ since all positive integers not exceeding $100$ have decreasing prime powers except $18$, $50$, $54$, $75$, $90$ and $98$.\n",
    "  \n",
    "You are given $C(10^6) = 922052$.\n",
    "\n",
    "Find $C(10^{13})$."
   ]
  },
  {
   "cell_type": "code",
   "execution_count": null,
   "id": "ca1b5080",
   "metadata": {},
   "outputs": [],
   "source": [
    "# Problem 578 workspace"
   ]
  },
  {
   "cell_type": "markdown",
   "id": "597c9380",
   "metadata": {},
   "source": [
    "## Answer: "
   ]
  },
  {
   "cell_type": "markdown",
   "id": "f63d5a04",
   "metadata": {},
   "source": [
    "___"
   ]
  },
  {
   "cell_type": "markdown",
   "id": "d1b6aa40",
   "metadata": {},
   "source": [
    "# Problem 579\n",
    " [Source](https://projecteuler.net/problem=579)"
   ]
  },
  {
   "cell_type": "markdown",
   "id": "dbdedf5c",
   "metadata": {},
   "source": [
    "A\n",
    "**lattice cube**\n",
    "is a cube in which all vertices have integer coordinates. Let $C(n)$ be the number of different lattice cubes in which the coordinates of all vertices range between (and including) $0$ and $n$. Two cubes are hereby considered different if any of their vertices have different coordinates.\n",
    "  \n",
    "For example, $C(1)=1$, $C(2)=9$, $C(4)=100$, $C(5)=229$, $C(10)=4469$ and $C(50)=8154671$.\n",
    "\n",
    "Different cubes may contain different numbers of lattice points.\n",
    "\n",
    "For example, the cube with the vertices\n",
    "  \n",
    "$(0, 0, 0)$, $(3, 0, 0)$, $(0, 3, 0)$, $(0, 0, 3)$, $(0, 3, 3)$, $(3, 0, 3)$, $(3, 3, 0)$, $(3, 3, 3)$ contains $64$ lattice points ($56$ lattice points on the surface including the $8$ vertices and $8$ points within the cube).\n",
    "\n",
    "In contrast, the cube with the vertices\n",
    "  \n",
    "$(0, 2, 2)$, $(1, 4, 4)$, $(2, 0, 3)$, $(2, 3, 0)$, $(3, 2, 5)$, $(3, 5, 2)$, $(4, 1, 1)$, $(5, 3, 3)$ contains only $40$ lattice points ($20$ points on the surface and $20$ points within the cube), although both cubes have the same side length $3$.\n",
    "\n",
    "Let $S(n)$ be the sum of the lattice points contained in the different lattice cubes in which the coordinates of all vertices range between (and including) $0$ and $n$.\n",
    "\n",
    "For example, $S(1)=8$, $S(2)=91$, $S(4)=1878$, $S(5)=5832$, $S(10)=387003$ and $S(50)=29948928129$.\n",
    "\n",
    "Find $S(5000) \\bmod 10^9$."
   ]
  },
  {
   "cell_type": "code",
   "execution_count": null,
   "id": "3f447dfd",
   "metadata": {},
   "outputs": [],
   "source": [
    "# Problem 579 workspace"
   ]
  },
  {
   "cell_type": "markdown",
   "id": "efd02622",
   "metadata": {},
   "source": [
    "## Answer: "
   ]
  },
  {
   "cell_type": "markdown",
   "id": "99964011",
   "metadata": {},
   "source": [
    "___"
   ]
  },
  {
   "cell_type": "markdown",
   "id": "810dc02e",
   "metadata": {},
   "source": [
    "# Problem 580\n",
    " [Source](https://projecteuler.net/problem=580)"
   ]
  },
  {
   "cell_type": "markdown",
   "id": "02dc268f",
   "metadata": {},
   "source": [
    "A\n",
    "**Hilbert number**\n",
    "is any positive integer of the form $4k+1$ for integer $k\\geq 0$. We shall define a\n",
    "*squarefree Hilbert number*\n",
    "as a Hilbert number which is not divisible by the square of any Hilbert number other than one. For example, $117$ is a squarefree Hilbert number, equaling $9\\times13$. However $6237$ is a Hilbert number that is not squarefree in this sense, as it is divisible by $9^2$. The number $3969$ is also not squarefree, as it is divisible by both $9^2$ and $21^2$.\n",
    "\n",
    "There are $2327192$ squarefree Hilbert numbers below $10^7$.\n",
    "  \n",
    "How many squarefree Hilbert numbers are there below $10^{16}$?"
   ]
  },
  {
   "cell_type": "code",
   "execution_count": null,
   "id": "6c189c3c",
   "metadata": {},
   "outputs": [],
   "source": [
    "# Problem 580 workspace"
   ]
  },
  {
   "cell_type": "markdown",
   "id": "7abe3162",
   "metadata": {},
   "source": [
    "## Answer: "
   ]
  },
  {
   "cell_type": "markdown",
   "id": "637b067d",
   "metadata": {},
   "source": [
    "___"
   ]
  }
 ],
 "metadata": {},
 "nbformat": 4,
 "nbformat_minor": 5
}
