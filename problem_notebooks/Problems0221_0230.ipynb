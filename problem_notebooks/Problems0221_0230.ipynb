{
 "cells": [
  {
   "cell_type": "markdown",
   "id": "06534020",
   "metadata": {},
   "source": [
    "# Problem 221\n",
    " [Source](https://projecteuler.net/problem=221)"
   ]
  },
  {
   "cell_type": "markdown",
   "id": "daf8f5ab",
   "metadata": {},
   "source": [
    "We shall call a positive integer $A$ an \"Alexandrian integer\", if there exist integers $p, q, r$ such that:\n",
    "\n",
    "$$A = p \\cdot q \\cdot r$$\n",
    "and\n",
    "$$\\dfrac{1}{A} = \\dfrac{1}{p} + \\dfrac{1}{q} + \\dfrac{1}{r}.$$\n",
    "\n",
    "For example, $630$ is an Alexandrian integer ($p = 5, q = -7, r = -18$).\n",
    "In fact, $630$ is the $6$\n",
    "th\n",
    "Alexandrian integer, the first $6$ Alexandrian integers being: $6, 42, 120, 156, 420$, and $630$.\n",
    "\n",
    "Find the $150000$\n",
    "th\n",
    "Alexandrian integer."
   ]
  },
  {
   "cell_type": "code",
   "execution_count": null,
   "id": "c7014fb5",
   "metadata": {},
   "outputs": [],
   "source": [
    "# Problem 221 workspace"
   ]
  },
  {
   "cell_type": "markdown",
   "id": "c538b92a",
   "metadata": {},
   "source": [
    "## Answer: "
   ]
  },
  {
   "cell_type": "markdown",
   "id": "9b0b5a14",
   "metadata": {},
   "source": [
    "___"
   ]
  },
  {
   "cell_type": "markdown",
   "id": "db4d8a16",
   "metadata": {},
   "source": [
    "# Problem 222\n",
    " [Source](https://projecteuler.net/problem=222)"
   ]
  },
  {
   "cell_type": "markdown",
   "id": "75c8718f",
   "metadata": {},
   "source": [
    "What is the length of the shortest pipe, of internal radius $\\pu{50 mm}$, that can fully contain $21$ balls of radii $\\pu{30 mm}, \\pu{31 mm}, \\dots, \\pu{50 mm}$?\n",
    "\n",
    "Give your answer in micrometres ($\\pu{10^{-6} m}$) rounded to the nearest integer."
   ]
  },
  {
   "cell_type": "code",
   "execution_count": null,
   "id": "c458d931",
   "metadata": {},
   "outputs": [],
   "source": [
    "# Problem 222 workspace"
   ]
  },
  {
   "cell_type": "markdown",
   "id": "5120f59a",
   "metadata": {},
   "source": [
    "## Answer: "
   ]
  },
  {
   "cell_type": "markdown",
   "id": "101a88f8",
   "metadata": {},
   "source": [
    "___"
   ]
  },
  {
   "cell_type": "markdown",
   "id": "241a5055",
   "metadata": {},
   "source": [
    "# Problem 223\n",
    " [Source](https://projecteuler.net/problem=223)"
   ]
  },
  {
   "cell_type": "markdown",
   "id": "ec270522",
   "metadata": {},
   "source": [
    "Let us call an integer sided triangle with sides $a \\le b \\le c$\n",
    "barely acute\n",
    "if the sides satisfy $a^2 + b^2 = c^2 + 1$.\n",
    "\n",
    "How many barely acute triangles are there with perimeter $\\le 25\\,000\\,000$?"
   ]
  },
  {
   "cell_type": "code",
   "execution_count": null,
   "id": "ed2016a3",
   "metadata": {},
   "outputs": [],
   "source": [
    "# Problem 223 workspace"
   ]
  },
  {
   "cell_type": "markdown",
   "id": "537288e7",
   "metadata": {},
   "source": [
    "## Answer: "
   ]
  },
  {
   "cell_type": "markdown",
   "id": "2192a95b",
   "metadata": {},
   "source": [
    "___"
   ]
  },
  {
   "cell_type": "markdown",
   "id": "1801c035",
   "metadata": {},
   "source": [
    "# Problem 224\n",
    " [Source](https://projecteuler.net/problem=224)"
   ]
  },
  {
   "cell_type": "markdown",
   "id": "490f329d",
   "metadata": {},
   "source": [
    "Let us call an integer sided triangle with sides $a \\le b \\le c$\n",
    "barely obtuse\n",
    "if the sides satisfy\n",
    "  \n",
    "$a^2 + b^2 = c^2 - 1$.\n",
    "\n",
    "How many barely obtuse triangles are there with perimeter $\\le 75\\,000\\,000$?"
   ]
  },
  {
   "cell_type": "code",
   "execution_count": null,
   "id": "88aaf42a",
   "metadata": {},
   "outputs": [],
   "source": [
    "# Problem 224 workspace"
   ]
  },
  {
   "cell_type": "markdown",
   "id": "aa47686a",
   "metadata": {},
   "source": [
    "## Answer: "
   ]
  },
  {
   "cell_type": "markdown",
   "id": "8f9250c0",
   "metadata": {},
   "source": [
    "___"
   ]
  },
  {
   "cell_type": "markdown",
   "id": "5fbbfc4c",
   "metadata": {},
   "source": [
    "# Problem 225\n",
    " [Source](https://projecteuler.net/problem=225)"
   ]
  },
  {
   "cell_type": "markdown",
   "id": "c5bcb623",
   "metadata": {},
   "source": [
    "The sequence $1, 1, 1, 3, 5, 9, 17, 31, 57, 105, 193, 355, 653, 1201, \\dots$\n",
    "  \n",
    "is defined by $T\\_1 = T\\_2 = T\\_3 = 1$ and $T\\_n = T\\_{n - 1} + T\\_{n - 2} + T\\_{n - 3}$.\n",
    "\n",
    "It can be shown that $27$ does not divide any terms of this sequence.\n",
    "  \n",
    "In fact, $27$ is the first odd number with this property.\n",
    "\n",
    "Find the $124$\n",
    "th\n",
    "odd number that does not divide any terms of the above sequence."
   ]
  },
  {
   "cell_type": "code",
   "execution_count": null,
   "id": "37471c6c",
   "metadata": {},
   "outputs": [],
   "source": [
    "# Problem 225 workspace"
   ]
  },
  {
   "cell_type": "markdown",
   "id": "214cc3e5",
   "metadata": {},
   "source": [
    "## Answer: "
   ]
  },
  {
   "cell_type": "markdown",
   "id": "78c52b98",
   "metadata": {},
   "source": [
    "___"
   ]
  },
  {
   "cell_type": "markdown",
   "id": "6eef5ef3",
   "metadata": {},
   "source": [
    "# Problem 226\n",
    " [Source](https://projecteuler.net/problem=226)"
   ]
  },
  {
   "cell_type": "markdown",
   "id": "de39b842",
   "metadata": {},
   "source": [
    "The\n",
    "**blancmange curve**\n",
    "is the set of points $(x, y)$ such that $0 \\le x \\le 1$ and $y = \\sum \\limits\\_{n = 0}^{\\infty} {\\dfrac{s(2^n x)}{2^n}}$, where $s(x)$ is the distance from $x$ to the nearest integer.\n",
    "\n",
    "The area under the blancmange curve is equal to ½, shown in pink in the diagram below.\n",
    "\n",
    "![blancmange curve](resources/0226_scoop2.gif)\n",
    "\n",
    "Let $C$ be the circle with centre $\\left ( \\frac{1}{4}, \\frac{1}{2} \\right )$ and radius $\\frac{1}{4}$, shown in black in the diagram.\n",
    "\n",
    "What area under the blancmange curve is enclosed by $C$?\n",
    "  \n",
    "Give your answer rounded to eight decimal places in the form\n",
    "*0.abcdefgh*\n",
    "."
   ]
  },
  {
   "cell_type": "code",
   "execution_count": null,
   "id": "3c15a1da",
   "metadata": {},
   "outputs": [],
   "source": [
    "# Problem 226 workspace"
   ]
  },
  {
   "cell_type": "markdown",
   "id": "5ecab2d3",
   "metadata": {},
   "source": [
    "## Answer: "
   ]
  },
  {
   "cell_type": "markdown",
   "id": "98661a7c",
   "metadata": {},
   "source": [
    "___"
   ]
  },
  {
   "cell_type": "markdown",
   "id": "f2530114",
   "metadata": {},
   "source": [
    "# Problem 227\n",
    " [Source](https://projecteuler.net/problem=227)"
   ]
  },
  {
   "cell_type": "markdown",
   "id": "44801dfd",
   "metadata": {},
   "source": [
    "The Chase\n",
    "is a game played with two dice and an even number of players.\n",
    "\n",
    "The players sit around a table and the game begins with two opposite players having one die each. On each turn, the two players with a die roll it.\n",
    "\n",
    "If the player rolls 1, then the die passes to the neighbour on the left.\n",
    "  \n",
    "If the player rolls 6, then the die passes to the neighbour on the right.\n",
    "  \n",
    "Otherwise, the player keeps the die for the next turn.\n",
    "\n",
    "The game ends when one player has both dice after they have been rolled and passed; that player has then lost.\n",
    "\n",
    "In a game with 100 players, what is the expected number of turns the game lasts?\n",
    "\n",
    "Give your answer rounded to ten significant digits."
   ]
  },
  {
   "cell_type": "code",
   "execution_count": null,
   "id": "60b5f4c7",
   "metadata": {},
   "outputs": [],
   "source": [
    "# Problem 227 workspace"
   ]
  },
  {
   "cell_type": "markdown",
   "id": "1abb03d6",
   "metadata": {},
   "source": [
    "## Answer: "
   ]
  },
  {
   "cell_type": "markdown",
   "id": "52eca521",
   "metadata": {},
   "source": [
    "___"
   ]
  },
  {
   "cell_type": "markdown",
   "id": "d2529a0a",
   "metadata": {},
   "source": [
    "# Problem 228\n",
    " [Source](https://projecteuler.net/problem=228)"
   ]
  },
  {
   "cell_type": "markdown",
   "id": "5a42af24",
   "metadata": {},
   "source": [
    "Let $S\\_n$ be the regular $n$-sided polygon – or\n",
    "shape\n",
    "– whose vertices\n",
    "$v\\_k$ ($k = 1, 2, \\dots, n$) have coordinates:\n",
    "\n",
    "$$\\begin{align}\n",
    "x\\_k &= \\cos((2k - 1)/n \\times 180^\\circ)\\\\\n",
    "y\\_k &= \\sin((2k - 1)/n \\times 180^\\circ)\n",
    "\\end{align}$$\n",
    "\n",
    "Each $S\\_n$ is to be interpreted as a filled shape consisting of all points on the perimeter and in the interior.\n",
    "\n",
    "The\n",
    "**Minkowski sum**\n",
    ", $S + T$, of two shapes $S$ and $T$ is the result of adding every point in $S$ to every point in $T$, where point addition is performed coordinate-wise: $(u, v) + (x, y) = (u + x, v + y)$.\n",
    "\n",
    "For example, the sum of $S\\_3$ and $S\\_4$ is the six-sided shape shown in pink below:\n",
    "\n",
    "![picture showing S_3 + S_4](resources/0228.png)\n",
    "\n",
    "How many sides does $S\\_{1864} + S\\_{1865} + \\cdots + S\\_{1909}$ have?"
   ]
  },
  {
   "cell_type": "code",
   "execution_count": null,
   "id": "86c727d0",
   "metadata": {},
   "outputs": [],
   "source": [
    "# Problem 228 workspace"
   ]
  },
  {
   "cell_type": "markdown",
   "id": "3b7b597d",
   "metadata": {},
   "source": [
    "## Answer: "
   ]
  },
  {
   "cell_type": "markdown",
   "id": "fb07eaee",
   "metadata": {},
   "source": [
    "___"
   ]
  },
  {
   "cell_type": "markdown",
   "id": "0caad936",
   "metadata": {},
   "source": [
    "# Problem 229\n",
    " [Source](https://projecteuler.net/problem=229)"
   ]
  },
  {
   "cell_type": "markdown",
   "id": "66a40db6",
   "metadata": {},
   "source": [
    "Consider the number $3600$. It is very special, because\n",
    "\n",
    "$$\\begin{alignat}{2}\n",
    "3600 &= 48^2 + &&36^2\\\\\n",
    "3600 &= 20^2 + 2 \\times &&40^2\\\\\n",
    "3600 &= 30^2 + 3 \\times &&30^2\\\\\n",
    "3600 &= 45^2 + 7 \\times &&15^2\n",
    "\\end{alignat}$$\n",
    "\n",
    "Similarly, we find that $88201 = 99^2 + 280^2 = 287^2 + 2 \\times 54^2 = 283^2 + 3 \\times 52^2 = 197^2 + 7 \\times 84^2$.\n",
    "\n",
    "In 1747, Euler proved which numbers are representable as a sum of two squares.\n",
    "We are interested in the numbers $n$ which admit representations of all of the following four types:\n",
    "\n",
    "$$\\begin{alignat}{2}\n",
    "n &= a\\_1^2 + && b\\_1^2\\\\\n",
    "n &= a\\_2^2 + 2 && b\\_2^2\\\\\n",
    "n &= a\\_3^2 + 3 && b\\_3^2\\\\\n",
    "n &= a\\_7^2 + 7 && b\\_7^2,\n",
    "\\end{alignat}$$\n",
    "\n",
    "where the $a\\_k$ and $b\\_k$ are positive integers.\n",
    "\n",
    "There are $75373$ such numbers that do not exceed $10^7$.\n",
    "  \n",
    "How many such numbers are there that do not exceed $2 \\times 10^9$?"
   ]
  },
  {
   "cell_type": "code",
   "execution_count": null,
   "id": "12a2777c",
   "metadata": {},
   "outputs": [],
   "source": [
    "# Problem 229 workspace"
   ]
  },
  {
   "cell_type": "markdown",
   "id": "4e6d55c1",
   "metadata": {},
   "source": [
    "## Answer: "
   ]
  },
  {
   "cell_type": "markdown",
   "id": "b942c5b8",
   "metadata": {},
   "source": [
    "___"
   ]
  },
  {
   "cell_type": "markdown",
   "id": "dbb62b10",
   "metadata": {},
   "source": [
    "# Problem 230\n",
    " [Source](https://projecteuler.net/problem=230)"
   ]
  },
  {
   "cell_type": "markdown",
   "id": "8b024aac",
   "metadata": {},
   "source": [
    "For any two strings of digits, $A$ and $B$, we define $F\\_{A, B}$ to be the sequence $(A,B,AB,BAB,ABBAB,\\dots)$ in which each term is the concatenation of the previous two.\n",
    "\n",
    "Further, we define $D\\_{A, B}(n)$ to be the $n$\n",
    "th\n",
    "digit in the first term of $F\\_{A, B}$ that contains at least $n$ digits.\n",
    "\n",
    "Example:\n",
    "\n",
    "Let $A=1415926535$, $B=8979323846$. We wish to find $D\\_{A, B}(35)$, say.\n",
    "\n",
    "The first few terms of $F\\_{A, B}$ are:\n",
    "  \n",
    "$1415926535$\n",
    "  \n",
    "$8979323846$\n",
    "  \n",
    "$14159265358979323846$\n",
    "  \n",
    "$897932384614159265358979323846$\n",
    "  \n",
    "$1415926535897932384689793238461415{\\color{red}\\mathbf 9}265358979323846$\n",
    "\n",
    "Then $D\\_{A, B}(35)$ is the $35$\n",
    "th\n",
    "digit in the fifth term, which is $9$.\n",
    "\n",
    "Now we use for $A$ the first $100$ digits of $\\pi$ behind the decimal point:\n",
    "\n",
    "$14159265358979323846264338327950288419716939937510$\n",
    "  \n",
    "$58209749445923078164062862089986280348253421170679$\n",
    "\n",
    "and for $B$ the next hundred digits:\n",
    "\n",
    "$82148086513282306647093844609550582231725359408128$\n",
    "  \n",
    "$48111745028410270193852110555964462294895493038196$.\n",
    "\n",
    "Find $\\sum\\_{n = 0}^{17} 10^n \\times D\\_{A,B}((127+19n) \\times 7^n)$."
   ]
  },
  {
   "cell_type": "code",
   "execution_count": null,
   "id": "230515cb",
   "metadata": {},
   "outputs": [],
   "source": [
    "# Problem 230 workspace"
   ]
  },
  {
   "cell_type": "markdown",
   "id": "489617e9",
   "metadata": {},
   "source": [
    "## Answer: "
   ]
  },
  {
   "cell_type": "markdown",
   "id": "cc6c0e1d",
   "metadata": {},
   "source": [
    "___"
   ]
  }
 ],
 "metadata": {},
 "nbformat": 4,
 "nbformat_minor": 5
}
