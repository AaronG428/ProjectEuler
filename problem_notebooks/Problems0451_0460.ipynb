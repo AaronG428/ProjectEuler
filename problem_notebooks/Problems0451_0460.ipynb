{
 "cells": [
  {
   "cell_type": "markdown",
   "id": "045715c5",
   "metadata": {},
   "source": [
    "# Problem 451\n",
    " [Source](https://projecteuler.net/problem=451)"
   ]
  },
  {
   "cell_type": "markdown",
   "id": "204736b9",
   "metadata": {},
   "source": [
    "Consider the number $15$.\n",
    "  \n",
    "There are eight positive numbers less than $15$ which are coprime to $15$: $1, 2, 4, 7, 8, 11, 13, 14$.\n",
    "  \n",
    "The modular inverses of these numbers modulo $15$ are: $1, 8, 4, 13, 2, 11, 7, 14$\n",
    "  \n",
    "because\n",
    "  \n",
    "$1 \\cdot 1 \\bmod 15=1$\n",
    "  \n",
    "$2 \\cdot 8=16 \\bmod 15=1$\n",
    "  \n",
    "$4 \\cdot 4=16 \\bmod 15=1$\n",
    "  \n",
    "$7 \\cdot 13=91 \\bmod 15=1$\n",
    "  \n",
    "$11 \\cdot 11=121 \\bmod 15=1$\n",
    "  \n",
    "$14 \\cdot 14=196 \\bmod 15=1\n",
    "  \n",
    "$\n",
    "\n",
    "Let $I(n)$ be the largest positive number $m$ smaller than $n-1$ such that the modular inverse of $m$ modulo $n$ equals $m$ itself.\n",
    "  \n",
    "So $I(15)=11$.\n",
    "  \n",
    "Also $I(100)=51$ and $I(7)=1$.\n",
    "\n",
    "Find $\\sum I(n)$ for $3 \\le n \\le 2 \\times 10^7$."
   ]
  },
  {
   "cell_type": "code",
   "execution_count": null,
   "id": "0c7e632d",
   "metadata": {},
   "outputs": [],
   "source": [
    "# Problem 451 workspace"
   ]
  },
  {
   "cell_type": "markdown",
   "id": "a5c64ccd",
   "metadata": {},
   "source": [
    "## Answer: "
   ]
  },
  {
   "cell_type": "markdown",
   "id": "43edd5bd",
   "metadata": {},
   "source": [
    "___"
   ]
  },
  {
   "cell_type": "markdown",
   "id": "a13e3531",
   "metadata": {},
   "source": [
    "# Problem 452\n",
    " [Source](https://projecteuler.net/problem=452)"
   ]
  },
  {
   "cell_type": "markdown",
   "id": "44ac4265",
   "metadata": {},
   "source": [
    "Define $F(m,n)$ as the number of $n$-tuples of positive integers for which the product of the elements doesn't exceed $m$.\n",
    "\n",
    "$F(10, 10) = 571$.\n",
    "\n",
    "$F(10^6, 10^6) \\bmod 1\\,234\\,567\\,891 = 252903833$.\n",
    "\n",
    "Find $F(10^9, 10^9) \\bmod 1\\,234\\,567\\,891$."
   ]
  },
  {
   "cell_type": "code",
   "execution_count": null,
   "id": "595b970d",
   "metadata": {},
   "outputs": [],
   "source": [
    "# Problem 452 workspace"
   ]
  },
  {
   "cell_type": "markdown",
   "id": "e4f98d3b",
   "metadata": {},
   "source": [
    "## Answer: "
   ]
  },
  {
   "cell_type": "markdown",
   "id": "b1ad8d52",
   "metadata": {},
   "source": [
    "___"
   ]
  },
  {
   "cell_type": "markdown",
   "id": "97aba0e9",
   "metadata": {},
   "source": [
    "# Problem 453\n",
    " [Source](https://projecteuler.net/problem=453)"
   ]
  },
  {
   "cell_type": "markdown",
   "id": "2c5add65",
   "metadata": {},
   "source": [
    "A\n",
    "**simple quadrilateral**\n",
    "is a polygon that has four distinct vertices, has no straight angles and does not self-intersect.\n",
    "\n",
    "Let $Q(m, n)$ be the number of simple quadrilaterals whose vertices are lattice points with coordinates $(x,y)$ satisfying $0 \\le x \\le m$ and $0 \\le y \\le n$.\n",
    "\n",
    "For example, $Q(2, 2) = 94$ as can be seen below:\n",
    "\n",
    "![0453_quad.png](resources/0453_quad.png)\n",
    "\n",
    "It can also be verified that $Q(3, 7) = 39590$, $Q(12, 3) = 309000$ and $Q(123, 45) = 70542215894646$.\n",
    "\n",
    "Find $Q(12345, 6789) \\bmod 135707531$."
   ]
  },
  {
   "cell_type": "code",
   "execution_count": null,
   "id": "6f668347",
   "metadata": {},
   "outputs": [],
   "source": [
    "# Problem 453 workspace"
   ]
  },
  {
   "cell_type": "markdown",
   "id": "a120f4eb",
   "metadata": {},
   "source": [
    "## Answer: "
   ]
  },
  {
   "cell_type": "markdown",
   "id": "b01d21a1",
   "metadata": {},
   "source": [
    "___"
   ]
  },
  {
   "cell_type": "markdown",
   "id": "c4cbda1d",
   "metadata": {},
   "source": [
    "# Problem 454\n",
    " [Source](https://projecteuler.net/problem=454)"
   ]
  },
  {
   "cell_type": "markdown",
   "id": "ab0d08f6",
   "metadata": {},
   "source": [
    "In the following equation $x$, $y$, and $n$ are positive integers.\n",
    "\n",
    "$$\\dfrac{1}{x} + \\dfrac{1}{y} = \\dfrac{1}{n}$$\n",
    "\n",
    "For a limit $L$ we define $F(L)$ as the number of solutions which satisfy $x \\lt y \\le L$.\n",
    "\n",
    "We can verify that $F(15) = 4$ and $F(1000) = 1069$.\n",
    "  \n",
    "Find $F(10^{12})$."
   ]
  },
  {
   "cell_type": "code",
   "execution_count": null,
   "id": "72da54fd",
   "metadata": {},
   "outputs": [],
   "source": [
    "# Problem 454 workspace"
   ]
  },
  {
   "cell_type": "markdown",
   "id": "c2943fc9",
   "metadata": {},
   "source": [
    "## Answer: "
   ]
  },
  {
   "cell_type": "markdown",
   "id": "cdfa8d62",
   "metadata": {},
   "source": [
    "___"
   ]
  },
  {
   "cell_type": "markdown",
   "id": "1171b42b",
   "metadata": {},
   "source": [
    "# Problem 455\n",
    " [Source](https://projecteuler.net/problem=455)"
   ]
  },
  {
   "cell_type": "markdown",
   "id": "150c9056",
   "metadata": {},
   "source": [
    "Let $f(n)$ be the largest positive integer $x$ less than $10^9$ such that the last $9$ digits of $n^x$ form the number $x$ (including leading zeros), or zero if no such integer exists.\n",
    "\n",
    "For example:\n",
    "\n",
    "* $f(4) = 411728896$ ($4^{411728896} = \\cdots 490\\underline{411728896}$)\n",
    "* $f(10) = 0$\n",
    "* $f(157) = 743757$ ($157^{743757} = \\cdots 567\\underline{000743757}$)\n",
    "* $\\sum\\_{2 \\le n \\le 10^3} f(n) = 442530011399$\n",
    "\n",
    "Find $\\sum\\_{2 \\le n \\le 10^6}f(n)$."
   ]
  },
  {
   "cell_type": "code",
   "execution_count": null,
   "id": "87c67858",
   "metadata": {},
   "outputs": [],
   "source": [
    "# Problem 455 workspace"
   ]
  },
  {
   "cell_type": "markdown",
   "id": "5d7929a6",
   "metadata": {},
   "source": [
    "## Answer: "
   ]
  },
  {
   "cell_type": "markdown",
   "id": "d02e1149",
   "metadata": {},
   "source": [
    "___"
   ]
  },
  {
   "cell_type": "markdown",
   "id": "a982fc27",
   "metadata": {},
   "source": [
    "# Problem 456\n",
    " [Source](https://projecteuler.net/problem=456)"
   ]
  },
  {
   "cell_type": "markdown",
   "id": "0d6c2b22",
   "metadata": {},
   "source": [
    "Define:\n",
    "  \n",
    "$x\\_n = (1248^n \\bmod 32323) - 16161$\n",
    "  \n",
    "$y\\_n = (8421^n \\bmod 30103) - 15051$\n",
    "  \n",
    "$P\\_n = \\{(x\\_1, y\\_1), (x\\_2, y\\_2), \\dots, (x\\_n, y\\_n)\\}$\n",
    "\n",
    "For example, $P\\_8 = \\{(-14913, -6630),$$(-10161, 5625),$$(5226, 11896),$$(8340, -10778),$$(15852, -5203),$$(-15165, 11295),$$(-1427, -14495),$$(12407, 1060)\\}$.\n",
    "\n",
    "Let $C(n)$ be the number of triangles whose vertices are in $P\\_n$ which contain the origin in the interior.\n",
    "\n",
    "Examples:\n",
    "  \n",
    "$C(8) = 20$\n",
    "  \n",
    "$C(600) = 8950634$\n",
    "  \n",
    "$C(40\\,000) = 2666610948988$\n",
    "\n",
    "Find $C(2\\,000\\,000)$."
   ]
  },
  {
   "cell_type": "code",
   "execution_count": null,
   "id": "8f7bff43",
   "metadata": {},
   "outputs": [],
   "source": [
    "# Problem 456 workspace"
   ]
  },
  {
   "cell_type": "markdown",
   "id": "5eeaaf82",
   "metadata": {},
   "source": [
    "## Answer: "
   ]
  },
  {
   "cell_type": "markdown",
   "id": "cd4de8e9",
   "metadata": {},
   "source": [
    "___"
   ]
  },
  {
   "cell_type": "markdown",
   "id": "3807ad91",
   "metadata": {},
   "source": [
    "# Problem 457\n",
    " [Source](https://projecteuler.net/problem=457)"
   ]
  },
  {
   "cell_type": "markdown",
   "id": "2d15608d",
   "metadata": {},
   "source": [
    "Let $f(n) = n^2 - 3n - 1$.\n",
    "  \n",
    "Let $p$ be a prime.\n",
    "  \n",
    "Let $R(p)$ be the smallest positive integer $n$ such that $f(n) \\bmod p^2 = 0$ if such an integer $n$ exists, otherwise $R(p) = 0$.\n",
    "\n",
    "Let $SR(L)$ be $\\sum R(p)$ for all primes not exceeding $L$.\n",
    "\n",
    "Find $SR(10^7)$."
   ]
  },
  {
   "cell_type": "code",
   "execution_count": null,
   "id": "77429386",
   "metadata": {},
   "outputs": [],
   "source": [
    "# Problem 457 workspace"
   ]
  },
  {
   "cell_type": "markdown",
   "id": "cf4f8347",
   "metadata": {},
   "source": [
    "## Answer: "
   ]
  },
  {
   "cell_type": "markdown",
   "id": "8efea17f",
   "metadata": {},
   "source": [
    "___"
   ]
  },
  {
   "cell_type": "markdown",
   "id": "60db73b9",
   "metadata": {},
   "source": [
    "# Problem 458\n",
    " [Source](https://projecteuler.net/problem=458)"
   ]
  },
  {
   "cell_type": "markdown",
   "id": "0749af4c",
   "metadata": {},
   "source": [
    "Consider the alphabet $A$ made out of the letters of the word \"$\\text{project}$\": $A=\\{\\text c,\\text e,\\text j,\\text o,\\text p,\\text r,\\text t\\}$.\n",
    "  \n",
    "Let $T(n)$ be the number of strings of length $n$ consisting of letters from $A$ that do not have a substring that is one of the $5040$ permutations of \"$\\text{project}$\".\n",
    "\n",
    "$T(7)=7^7-7!=818503$.\n",
    "\n",
    "Find $T(10^{12})$. Give the last $9$ digits of your answer."
   ]
  },
  {
   "cell_type": "code",
   "execution_count": null,
   "id": "4b38b7c5",
   "metadata": {},
   "outputs": [],
   "source": [
    "# Problem 458 workspace"
   ]
  },
  {
   "cell_type": "markdown",
   "id": "c4fcdaac",
   "metadata": {},
   "source": [
    "## Answer: "
   ]
  },
  {
   "cell_type": "markdown",
   "id": "1cdf6d67",
   "metadata": {},
   "source": [
    "___"
   ]
  },
  {
   "cell_type": "markdown",
   "id": "fc9cdb86",
   "metadata": {},
   "source": [
    "# Problem 459\n",
    " [Source](https://projecteuler.net/problem=459)"
   ]
  },
  {
   "cell_type": "markdown",
   "id": "636d6aa9",
   "metadata": {},
   "source": [
    "The flipping game is a two player game played on an $N$ by $N$ square board.\n",
    "  \n",
    "Each square contains a disk with one side white and one side black.\n",
    "  \n",
    "The game starts with all disks showing their white side.\n",
    "\n",
    "A turn consists of flipping all disks in a rectangle with the following properties:\n",
    "\n",
    "* the upper right corner of the rectangle contains a white disk\n",
    "* the rectangle width is a perfect square ($1$, $4$, $9$, $16$, ...)\n",
    "* the rectangle height is a\n",
    "  **triangular number\n",
    "  The triangular numbers are defined as $\\frac 1 2 n(n + 1)$ for positive integer $n$.**\n",
    "  ($1$, $3$, $6$, $10$, ...)\n",
    "\n",
    "![0459-flipping-game-0.png](resources/0459-flipping-game-0.png)\n",
    "\n",
    "Players alternate turns. A player wins by turning the grid all black.\n",
    "\n",
    "Let $W(N)$ be the number of\n",
    "**winning moves\n",
    "The first move of a strategy that ensures a win no matter what the opponent plays.**\n",
    "for the first player on an $N$ by $N$ board with all disks white, assuming perfect play.\n",
    "  \n",
    "$W(1) = 1$, $W(2) = 0$, $W(5) = 8$ and $W(10^2) = 31395$.\n",
    "\n",
    "For $N=5$, the first player's eight winning first moves are:\n",
    "\n",
    "![0459-flipping-game-1.png](resources/0459-flipping-game-1.png)\n",
    "\n",
    "Find $W(10^6)$."
   ]
  },
  {
   "cell_type": "code",
   "execution_count": null,
   "id": "1a87a5d0",
   "metadata": {},
   "outputs": [],
   "source": [
    "# Problem 459 workspace"
   ]
  },
  {
   "cell_type": "markdown",
   "id": "062b74ef",
   "metadata": {},
   "source": [
    "## Answer: "
   ]
  },
  {
   "cell_type": "markdown",
   "id": "e0528e7e",
   "metadata": {},
   "source": [
    "___"
   ]
  },
  {
   "cell_type": "markdown",
   "id": "de1c2efa",
   "metadata": {},
   "source": [
    "# Problem 460\n",
    " [Source](https://projecteuler.net/problem=460)"
   ]
  },
  {
   "cell_type": "markdown",
   "id": "6fe6aaca",
   "metadata": {},
   "source": [
    "On the Euclidean plane, an ant travels from point $A(0, 1)$ to point $B(d, 1)$ for an integer $d$.\n",
    "\n",
    "In each step, the ant at point $(x\\_0, y\\_0)$ chooses one of the lattice points $(x\\_1, y\\_1)$ which satisfy $x\\_1 \\ge 0$ and $y\\_1 \\ge 1$ and goes straight to $(x\\_1, y\\_1)$ at a constant velocity $v$. The value of $v$ depends on $y\\_0$ and $y\\_1$ as follows:\n",
    "\n",
    "* If $y\\_0 = y\\_1$, the value of $v$ equals $y\\_0$.\n",
    "* If $y\\_0 \\ne y\\_1$, the value of $v$ equals $(y\\_1 - y\\_0) / (\\ln(y\\_1) - \\ln(y\\_0))$.\n",
    "\n",
    "The left image is one of the possible paths for $d = 4$. First the ant goes from $A(0, 1)$ to $P\\_1(1, 3)$ at velocity $(3 - 1) / (\\ln(3) - \\ln(1)) \\approx 1.8205$. Then the required time is $\\sqrt 5 / 1.8205 \\approx 1.2283$.\n",
    "  \n",
    "From $P\\_1(1, 3)$ to $P\\_2(3, 3)$ the ant travels at velocity $3$ so the required time is $2 / 3 \\approx 0.6667$. From $P\\_2(3, 3)$ to $B(4, 1)$ the ant travels at velocity $(1 - 3) / (\\ln(1) - \\ln(3)) \\approx 1.8205$ so the required time is $\\sqrt 5 / 1.8205 \\approx 1.2283$.\n",
    "  \n",
    "Thus the total required time is $1.2283 + 0.6667 + 1.2283 = 3.1233$.\n",
    "\n",
    "The right image is another path. The total required time is calculated as $0.98026 + 1 + 0.98026 = 2.96052$. It can be shown that this is the quickest path for $d = 4$.\n",
    "\n",
    "![0460_ant.jpg](resources/0460_ant.jpg)\n",
    "\n",
    "Let $F(d)$ be the total required time if the ant chooses the quickest path. For example, $F(4) \\approx 2.960516287$.\n",
    "  \n",
    "We can verify that $F(10) \\approx 4.668187834$ and $F(100) \\approx 9.217221972$.\n",
    "\n",
    "Find $F(10000)$. Give your answer rounded to nine decimal places."
   ]
  },
  {
   "cell_type": "code",
   "execution_count": null,
   "id": "da757662",
   "metadata": {},
   "outputs": [],
   "source": [
    "# Problem 460 workspace"
   ]
  },
  {
   "cell_type": "markdown",
   "id": "d8b4048c",
   "metadata": {},
   "source": [
    "## Answer: "
   ]
  },
  {
   "cell_type": "markdown",
   "id": "7e580a2b",
   "metadata": {},
   "source": [
    "___"
   ]
  }
 ],
 "metadata": {},
 "nbformat": 4,
 "nbformat_minor": 5
}
