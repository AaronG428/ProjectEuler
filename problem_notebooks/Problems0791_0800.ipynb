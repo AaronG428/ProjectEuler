{
 "cells": [
  {
   "cell_type": "markdown",
   "id": "44e35814",
   "metadata": {},
   "source": [
    "# Problem 791\n",
    " [Source](https://projecteuler.net/problem=791)"
   ]
  },
  {
   "cell_type": "markdown",
   "id": "ad80a2c9",
   "metadata": {},
   "source": [
    "Denote the average of $k$ numbers $x\\_1, ..., x\\_k$ by $\\bar{x} = \\frac{1}{k} \\sum\\_i x\\_i$. Their variance is defined as $\\frac{1}{k} \\sum\\_i \\left( x\\_i - \\bar{x} \\right) ^ 2$.\n",
    "\n",
    "Let $S(n)$ be the sum of all quadruples of integers $(a,b,c,d)$ satisfying $1 \\leq a \\leq b \\leq c \\leq d \\leq n$ such that their average is exactly twice their variance.\n",
    "\n",
    "For $n=5$, there are $5$ such quadruples, namely: $(1, 1, 1, 3), (1, 1, 3, 3), (1, 2, 3, 4), (1, 3, 4, 4), (2, 2, 3, 5)$.\n",
    "\n",
    "Hence $S(5)=48$. You are also given $S(10^3)=37048340$.\n",
    "\n",
    "Find $S(10^8)$. Give your answer modulo $433494437$."
   ]
  },
  {
   "cell_type": "code",
   "execution_count": null,
   "id": "87a0cdd0",
   "metadata": {},
   "outputs": [],
   "source": [
    "# Problem 791 workspace"
   ]
  },
  {
   "cell_type": "markdown",
   "id": "7a3df77a",
   "metadata": {},
   "source": [
    "## Answer: "
   ]
  },
  {
   "cell_type": "markdown",
   "id": "0f41caa8",
   "metadata": {},
   "source": [
    "___"
   ]
  },
  {
   "cell_type": "markdown",
   "id": "24f8e1f0",
   "metadata": {},
   "source": [
    "# Problem 792\n",
    " [Source](https://projecteuler.net/problem=792)"
   ]
  },
  {
   "cell_type": "markdown",
   "id": "8e2be909",
   "metadata": {},
   "source": [
    "We define $\\nu\\_2(n)$ to be the largest integer $r$ such that $2^r$ divides $n$. For example, $\\nu\\_2(24) = 3$.\n",
    "\n",
    "Define $\\displaystyle S(n) = \\sum\\_{k = 1}^n (-2)^k\\binom{2k}k$ and $u(n) = \\nu\\_2\\Big(3S(n)+4\\Big)$.\n",
    "\n",
    "For example, when $n = 4$ then $S(4) = 980$ and $3S(4) + 4 = 2944 = 2^7 \\cdot 23$, hence $u(4) = 7$.\n",
    "  \n",
    "You are also given $u(20) = 24$.\n",
    "\n",
    "Also define $\\displaystyle U(N) = \\sum\\_{n = 1}^N u(n^3)$. You are given $U(5) = 241$.\n",
    "\n",
    "Find $U(10^4)$."
   ]
  },
  {
   "cell_type": "code",
   "execution_count": null,
   "id": "dbf275c5",
   "metadata": {},
   "outputs": [],
   "source": [
    "# Problem 792 workspace"
   ]
  },
  {
   "cell_type": "markdown",
   "id": "9da0e493",
   "metadata": {},
   "source": [
    "## Answer: "
   ]
  },
  {
   "cell_type": "markdown",
   "id": "149ca93a",
   "metadata": {},
   "source": [
    "___"
   ]
  },
  {
   "cell_type": "markdown",
   "id": "cc3471a9",
   "metadata": {},
   "source": [
    "# Problem 793\n",
    " [Source](https://projecteuler.net/problem=793)"
   ]
  },
  {
   "cell_type": "markdown",
   "id": "1c95d8d3",
   "metadata": {},
   "source": [
    "Let $S\\_i$ be an integer sequence produced with the following pseudo-random number generator:\n",
    "\n",
    "* $S\\_0 = 290797$\n",
    "* $S\\_{i+1} = S\\_i ^2 \\bmod 50515093$\n",
    "\n",
    "Let $M(n)$ be the median of the pairwise products $ S\\_i S\\_j $ for $0 \\le i \\lt j \\lt n$.\n",
    "\n",
    "You are given $M(3) = 3878983057768$ and $M(103) = 492700616748525$.\n",
    "\n",
    "Find $M(1\\,000\\,003)$."
   ]
  },
  {
   "cell_type": "code",
   "execution_count": null,
   "id": "41beec81",
   "metadata": {},
   "outputs": [],
   "source": [
    "# Problem 793 workspace"
   ]
  },
  {
   "cell_type": "markdown",
   "id": "29271509",
   "metadata": {},
   "source": [
    "## Answer: "
   ]
  },
  {
   "cell_type": "markdown",
   "id": "54d2c694",
   "metadata": {},
   "source": [
    "___"
   ]
  },
  {
   "cell_type": "markdown",
   "id": "2bd61a85",
   "metadata": {},
   "source": [
    "# Problem 794\n",
    " [Source](https://projecteuler.net/problem=794)"
   ]
  },
  {
   "cell_type": "markdown",
   "id": "5a73c8ae",
   "metadata": {},
   "source": [
    "This problem uses half open interval notation where $[a,b)$ represents $a \\le x \\lt b$.\n",
    "\n",
    "A real number, $x\\_1$, is chosen in the interval $[0,1)$.\n",
    "  \n",
    "A second real number, $x\\_2$, is chosen such that each of $[0,\\frac{1}{2})$ and $[\\frac{1}{2},1)$ contains exactly one of $(x\\_1, x\\_2)$.\n",
    "  \n",
    "Continue such that on the $n$-th step a real number, $x\\_n$, is chosen so that each of the intervals $[\\frac{k-1}{n}, \\frac{k}{n})$ for $k \\in \\{1, \\dots, n\\}$ contains exactly one of $(x\\_1, x\\_2, \\dots, x\\_n)$.\n",
    "\n",
    "Define $F(n)$ to be the minimal value of the sum $x\\_1 + x\\_2 + \\cdots + x\\_n$ of a tuple $(x\\_1, x\\_2, \\dots, x\\_n)$ chosen by such a procedure. For example, $F(4) = 1.5$ obtained with $(x\\_1, x\\_2, x\\_3, x\\_4) = (0, 0.75, 0.5, 0.25)$.\n",
    "\n",
    "Surprisingly, no more than $17$ points can be chosen by this procedure.\n",
    "\n",
    "Find $F(17)$ and give your answer rounded to $12$ decimal places."
   ]
  },
  {
   "cell_type": "code",
   "execution_count": null,
   "id": "05929017",
   "metadata": {},
   "outputs": [],
   "source": [
    "# Problem 794 workspace"
   ]
  },
  {
   "cell_type": "markdown",
   "id": "cf6e1e8a",
   "metadata": {},
   "source": [
    "## Answer: "
   ]
  },
  {
   "cell_type": "markdown",
   "id": "1b4c56b4",
   "metadata": {},
   "source": [
    "___"
   ]
  },
  {
   "cell_type": "markdown",
   "id": "0f81ebdf",
   "metadata": {},
   "source": [
    "# Problem 795\n",
    " [Source](https://projecteuler.net/problem=795)"
   ]
  },
  {
   "cell_type": "markdown",
   "id": "3b7eaea3",
   "metadata": {},
   "source": [
    "For a positive integer $n$, the function $g(n)$ is defined as\n",
    "\n",
    "$$\\displaystyle g(n)=\\sum\\_{i=1}^{n} (-1)^i \\gcd \\left(n,i^2\\right).$$\n",
    "\n",
    "For example, $g(4) = -\\gcd \\left(4,1^2\\right) + \\gcd \\left(4,2^2\\right) - \\gcd \\left(4,3^2\\right) + \\gcd \\left(4,4^2\\right) = -1+4-1+4=6$.\n",
    "  \n",
    "You are also given $g(1234)=1233$.\n",
    "\n",
    "Let $\\displaystyle G(N) = \\sum\\_{n=1}^N g(n)$. You are given $G(1234) = 2194708$.\n",
    "\n",
    "Find $G(12345678)$."
   ]
  },
  {
   "cell_type": "code",
   "execution_count": null,
   "id": "81060e79",
   "metadata": {},
   "outputs": [],
   "source": [
    "# Problem 795 workspace"
   ]
  },
  {
   "cell_type": "markdown",
   "id": "52d167ef",
   "metadata": {},
   "source": [
    "## Answer: "
   ]
  },
  {
   "cell_type": "markdown",
   "id": "1c0ca55f",
   "metadata": {},
   "source": [
    "___"
   ]
  },
  {
   "cell_type": "markdown",
   "id": "71ca4928",
   "metadata": {},
   "source": [
    "# Problem 796\n",
    " [Source](https://projecteuler.net/problem=796)"
   ]
  },
  {
   "cell_type": "markdown",
   "id": "187d2965",
   "metadata": {},
   "source": [
    "A standard $52$ card deck comprises thirteen ranks in four suits. However, modern decks have two additional Jokers, which neither have a suit nor a rank, for a total of $54$ cards. If we shuffle such a deck and draw cards without replacement, then we would need, on average, approximately $29.05361725$ cards so that we have at least one card for each rank.\n",
    "\n",
    "Now, assume you have $10$ such decks, each with a different back design. We shuffle all $10 \\times 54$ cards together and draw cards without replacement. What is the expected number of cards needed so every suit, rank and deck design have at least one card?\n",
    "\n",
    "Give your answer rounded to eight places after the decimal point."
   ]
  },
  {
   "cell_type": "code",
   "execution_count": null,
   "id": "bec8bb56",
   "metadata": {},
   "outputs": [],
   "source": [
    "# Problem 796 workspace"
   ]
  },
  {
   "cell_type": "markdown",
   "id": "4ec55e16",
   "metadata": {},
   "source": [
    "## Answer: "
   ]
  },
  {
   "cell_type": "markdown",
   "id": "6e3bd40c",
   "metadata": {},
   "source": [
    "___"
   ]
  },
  {
   "cell_type": "markdown",
   "id": "69c3a75e",
   "metadata": {},
   "source": [
    "# Problem 797\n",
    " [Source](https://projecteuler.net/problem=797)"
   ]
  },
  {
   "cell_type": "markdown",
   "id": "adc630a1",
   "metadata": {},
   "source": [
    "A\n",
    "**monic polynomial**\n",
    "is a single-variable polynomial in which the coefficient of highest degree is equal to $1$.\n",
    "\n",
    "Define $\\mathcal{F}$ to be the set of all monic polynomials with integer coefficients (including the constant polynomial $p(x)=1$). A polynomial $p(x)\\in\\mathcal{F}$ is\n",
    "cyclogenic\n",
    "if there exists $q(x)\\in\\mathcal{F}$ and a positive integer $n$ such that $p(x)q(x)=x^n-1$. If $n$ is the smallest such positive integer then $p(x)$ is\n",
    "$n$-cyclogenic\n",
    ".\n",
    "\n",
    "Define $P\\_n(x)$ to be the sum of all $n$-cyclogenic polynomials. For example, there exist ten 6-cyclogenic polynomials (which divide $x^6-1$ and no smaller $x^k-1$):\n",
    "\n",
    "$$\\begin{align\\*}\n",
    "&x^6-1&&x^4+x^3-x-1&&x^3+2x^2+2x+1&&x^2-x+1\\\\\n",
    "&x^5+x^4+x^3+x^2+x+1&&x^4-x^3+x-1&&x^3-2x^2+2x-1\\\\\n",
    "&x^5-x^4+x^3-x^2+x-1&&x^4+x^2+1&&x^3+1\\end{align\\*}$$\n",
    "\n",
    "giving\n",
    "\n",
    "$$P\\_6(x)=x^6+2x^5+3x^4+5x^3+2x^2+5x.$$\n",
    "\n",
    "Also define\n",
    "\n",
    "$$Q\\_N(x)=\\sum\\_{n=1}^N P\\_n(x).$$\n",
    "\n",
    "It's given that\n",
    "$Q\\_{10}(x)=x^{10}+3x^9+3x^8+7x^7+8x^6+14x^5+11x^4+18x^3+12x^2+23x$ and $Q\\_{10}(2) = 5598$.\n",
    "\n",
    "Find $Q\\_{10^7}(2)$. Give your answer modulo $1\\,000\\,000\\,007$."
   ]
  },
  {
   "cell_type": "code",
   "execution_count": null,
   "id": "1f653a89",
   "metadata": {},
   "outputs": [],
   "source": [
    "# Problem 797 workspace"
   ]
  },
  {
   "cell_type": "markdown",
   "id": "f4e55f51",
   "metadata": {},
   "source": [
    "## Answer: "
   ]
  },
  {
   "cell_type": "markdown",
   "id": "1ff55b1b",
   "metadata": {},
   "source": [
    "___"
   ]
  },
  {
   "cell_type": "markdown",
   "id": "59f0f9b1",
   "metadata": {},
   "source": [
    "# Problem 798\n",
    " [Source](https://projecteuler.net/problem=798)"
   ]
  },
  {
   "cell_type": "markdown",
   "id": "d630d34c",
   "metadata": {},
   "source": [
    "Two players play a game with a deck of cards which contains $s$ suits with each suit containing $n$ cards numbered from $1$ to $n$.\n",
    "\n",
    "Before the game starts, a set of cards (which may be empty) is picked from the deck and placed face-up on the table, with no overlap. These are called the visible cards.\n",
    "\n",
    "The players then make moves in turn.\n",
    "  \n",
    "A move consists of choosing a card X from the rest of the deck and placing it face-up on top of a visible card Y, subject to the following restrictions:\n",
    "\n",
    "* X and Y must be the same suit;\n",
    "* the value of X must be larger than the value of Y.\n",
    "\n",
    "The card X then covers the card Y and replaces Y as a visible card.\n",
    "  \n",
    "The player unable to make a valid move loses and play stops.\n",
    "\n",
    "Let $C(n, s)$ be the number of different initial sets of cards for which the first player will lose given best play for both players.\n",
    "\n",
    "For example, $C(3, 2) = 26$ and $C(13, 4) \\equiv 540318329 \\pmod {1\\,000\\,000\\,007}$.\n",
    "\n",
    "Find $C(10^7, 10^7)$. Give your answer modulo $1\\,000\\,000\\,007$."
   ]
  },
  {
   "cell_type": "code",
   "execution_count": null,
   "id": "d78084d5",
   "metadata": {},
   "outputs": [],
   "source": [
    "# Problem 798 workspace"
   ]
  },
  {
   "cell_type": "markdown",
   "id": "3cff34a9",
   "metadata": {},
   "source": [
    "## Answer: "
   ]
  },
  {
   "cell_type": "markdown",
   "id": "1c5a0c03",
   "metadata": {},
   "source": [
    "___"
   ]
  },
  {
   "cell_type": "markdown",
   "id": "8d23be80",
   "metadata": {},
   "source": [
    "# Problem 799\n",
    " [Source](https://projecteuler.net/problem=799)"
   ]
  },
  {
   "cell_type": "markdown",
   "id": "054e750c",
   "metadata": {},
   "source": [
    "Pentagonal numbers are generated by the formula: $P\\_n = \\tfrac 12n(3n-1)$ giving the sequence:\n",
    "\n",
    "$$1,5,12,22,35, 51,70,92,\\ldots $$\n",
    "\n",
    "Some pentagonal numbers can be expressed as the sum of two other pentagonal numbers.\n",
    "  \n",
    "For example:\n",
    "\n",
    "$$P\\_8 = 92 = 22 + 70 = P\\_4 + P\\_7$$\n",
    "\n",
    "$3577$ is the smallest pentagonal number that can be expressed as the sum of two pentagonal numbers in two different ways\n",
    "\n",
    "$$\n",
    "\\begin{align}\n",
    "P\\_{49} = 3577 & = 3432 + 145 = P\\_{48} + P\\_{10} \\\\\n",
    "& = 3290 + 287 = P\\_{47}+P\\_{14}\n",
    "\\end{align}\n",
    "$$\n",
    "\n",
    "$107602$ is the smallest pentagonal number that can be expressed as the sum of two pentagonal numbers in three different ways.\n",
    "\n",
    "Find the smallest pentagonal number that can be expressed as the sum of two pentagonal numbers in over $100$ different ways."
   ]
  },
  {
   "cell_type": "code",
   "execution_count": null,
   "id": "b64e239a",
   "metadata": {},
   "outputs": [],
   "source": [
    "# Problem 799 workspace"
   ]
  },
  {
   "cell_type": "markdown",
   "id": "00a44455",
   "metadata": {},
   "source": [
    "## Answer: "
   ]
  },
  {
   "cell_type": "markdown",
   "id": "d5ac0938",
   "metadata": {},
   "source": [
    "___"
   ]
  },
  {
   "cell_type": "markdown",
   "id": "a6117176",
   "metadata": {},
   "source": [
    "# Problem 800\n",
    " [Source](https://projecteuler.net/problem=800)"
   ]
  },
  {
   "cell_type": "markdown",
   "id": "fef9ed39",
   "metadata": {},
   "source": [
    "An integer of the form $p^q q^p$ with prime numbers $p \\neq q$ is called a\n",
    "hybrid-integer\n",
    ".\n",
    "  \n",
    "For example, $800 = 2^5 5^2$ is a hybrid-integer.\n",
    "\n",
    "We define $C(n)$ to be the number of hybrid-integers less than or equal to $n$.\n",
    "  \n",
    "You are given $C(800) = 2$ and $C(800^{800}) = 10790$.\n",
    "\n",
    "Find $C(800800^{800800})$."
   ]
  },
  {
   "cell_type": "code",
   "execution_count": null,
   "id": "2df68a08",
   "metadata": {},
   "outputs": [],
   "source": [
    "# Problem 800 workspace"
   ]
  },
  {
   "cell_type": "markdown",
   "id": "3106d43e",
   "metadata": {},
   "source": [
    "## Answer: "
   ]
  },
  {
   "cell_type": "markdown",
   "id": "b1ff3e58",
   "metadata": {},
   "source": [
    "___"
   ]
  }
 ],
 "metadata": {},
 "nbformat": 4,
 "nbformat_minor": 5
}
