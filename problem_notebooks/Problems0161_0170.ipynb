{
 "cells": [
  {
   "cell_type": "markdown",
   "id": "cc46c8c3",
   "metadata": {},
   "source": [
    "# Problem 161\n",
    " [Source](https://projecteuler.net/problem=161)"
   ]
  },
  {
   "cell_type": "markdown",
   "id": "b81547fd",
   "metadata": {},
   "source": [
    "A triomino is a shape consisting of three squares joined via the edges.\n",
    "There are two basic forms:\n",
    "\n",
    "![](resources/0161_trio1.gif)\n",
    "\n",
    "If all possible orientations are taken into account there are six:\n",
    "\n",
    "![](resources/0161_trio3.gif)\n",
    "\n",
    "Any $n$ by $m$ grid for which $n \\times m$ is divisible by $3$ can be tiled with triominoes.\n",
    "  \n",
    "If we consider tilings that can be obtained by reflection or rotation from another tiling as different there are $41$ ways a $2$ by $9$ grid can be tiled with triominoes:\n",
    "\n",
    "![](resources/0161_k9.gif)\n",
    "\n",
    "In how many ways can a $9$ by $12$ grid be tiled in this way by triominoes?"
   ]
  },
  {
   "cell_type": "code",
   "execution_count": null,
   "id": "0a1dfafd",
   "metadata": {},
   "outputs": [],
   "source": [
    "# Problem 161 workspace"
   ]
  },
  {
   "cell_type": "markdown",
   "id": "5fabe0b7",
   "metadata": {},
   "source": [
    "## Answer: "
   ]
  },
  {
   "cell_type": "markdown",
   "id": "89204595",
   "metadata": {},
   "source": [
    "___"
   ]
  },
  {
   "cell_type": "markdown",
   "id": "e2b6c1ae",
   "metadata": {},
   "source": [
    "# Problem 162\n",
    " [Source](https://projecteuler.net/problem=162)"
   ]
  },
  {
   "cell_type": "markdown",
   "id": "eef70d90",
   "metadata": {},
   "source": [
    "In the hexadecimal number system numbers are represented using $16$ different digits:\n",
    "$$0,1,2,3,4,5,6,7,8,9,\\mathrm A,\\mathrm B,\\mathrm C,\\mathrm D,\\mathrm E,\\mathrm F.$$\n",
    "\n",
    "The hexadecimal number $\\mathrm{AF}$ when written in the decimal number system equals $10 \\times 16 + 15 = 175$.\n",
    "\n",
    "In the $3$-digit hexadecimal numbers $10\\mathrm A$, $1\\mathrm A0$, $\\mathrm A10$, and $\\mathrm A01$ the digits $0$, $1$ and $\\mathrm A$ are all present.\n",
    "  \n",
    "Like numbers written in base ten we write hexadecimal numbers without leading zeroes.\n",
    "\n",
    "How many hexadecimal numbers containing at most sixteen hexadecimal digits exist with all of the digits $0$, $1$, and $\\mathrm A$ present at least once?\n",
    "  \n",
    "Give your answer as a hexadecimal number.\n",
    "\n",
    "(A, B, C, D, E and F in upper case, without any leading or trailing code that marks the number as hexadecimal and without leading zeroes, e.g. 1A3F and not: 1a3f and not 0x1a3f and not $1A3F and not #1A3F and not 0000001A3F)"
   ]
  },
  {
   "cell_type": "code",
   "execution_count": null,
   "id": "6b265ab1",
   "metadata": {},
   "outputs": [],
   "source": [
    "# Problem 162 workspace"
   ]
  },
  {
   "cell_type": "markdown",
   "id": "229a036f",
   "metadata": {},
   "source": [
    "## Answer: "
   ]
  },
  {
   "cell_type": "markdown",
   "id": "92e60f95",
   "metadata": {},
   "source": [
    "___"
   ]
  },
  {
   "cell_type": "markdown",
   "id": "3ffcff03",
   "metadata": {},
   "source": [
    "# Problem 163\n",
    " [Source](https://projecteuler.net/problem=163)"
   ]
  },
  {
   "cell_type": "markdown",
   "id": "f887dc5a",
   "metadata": {},
   "source": [
    "Consider an equilateral triangle in which straight lines are drawn from each vertex to the middle of the opposite side, such as in the\n",
    "*size $1$*\n",
    "triangle in the sketch below.\n",
    "\n",
    "![](resources/0163.gif)\n",
    "\n",
    "Sixteen triangles of either different shape or size or orientation or location can now be observed in that triangle. Using\n",
    "*size $1$*\n",
    "triangles as building blocks, larger triangles can be formed, such as the\n",
    "*size $2$*\n",
    "triangle in the above sketch. One-hundred and four triangles of either different shape or size or orientation or location can now be observed in that\n",
    "*size $2$*\n",
    "triangle.\n",
    "\n",
    "It can be observed that the\n",
    "*size $2$*\n",
    "triangle contains $4$\n",
    "*size $1$*\n",
    "triangle building blocks. A\n",
    "*size $3$*\n",
    "triangle would contain $9$\n",
    "*size $1$*\n",
    "triangle building blocks and a\n",
    "*size $n$*\n",
    "triangle would thus contain $n^2$\n",
    "*size $1$*\n",
    "triangle building blocks.\n",
    "\n",
    "If we denote $T(n)$ as the number of triangles present in a triangle of\n",
    "*size $n$*\n",
    ", then\n",
    "\n",
    "$$\\begin{align}\n",
    "T(1) &= 16\\\\\n",
    "T(2) &= 104\n",
    "\\end{align}$$\n",
    "\n",
    "Find $T(36)$."
   ]
  },
  {
   "cell_type": "code",
   "execution_count": null,
   "id": "2fec67c7",
   "metadata": {},
   "outputs": [],
   "source": [
    "# Problem 163 workspace"
   ]
  },
  {
   "cell_type": "markdown",
   "id": "b505a7c7",
   "metadata": {},
   "source": [
    "## Answer: "
   ]
  },
  {
   "cell_type": "markdown",
   "id": "f7f9f9b7",
   "metadata": {},
   "source": [
    "___"
   ]
  },
  {
   "cell_type": "markdown",
   "id": "fc9d56b3",
   "metadata": {},
   "source": [
    "# Problem 164\n",
    " [Source](https://projecteuler.net/problem=164)"
   ]
  },
  {
   "cell_type": "markdown",
   "id": "3853b464",
   "metadata": {},
   "source": [
    "How many $20$ digit numbers $n$ (without any leading zero) exist such that no three consecutive digits of $n$ have a sum greater than $9$?"
   ]
  },
  {
   "cell_type": "code",
   "execution_count": null,
   "id": "d7a7a331",
   "metadata": {},
   "outputs": [],
   "source": [
    "# Problem 164 workspace"
   ]
  },
  {
   "cell_type": "markdown",
   "id": "a8aec97b",
   "metadata": {},
   "source": [
    "## Answer: "
   ]
  },
  {
   "cell_type": "markdown",
   "id": "9a87e229",
   "metadata": {},
   "source": [
    "___"
   ]
  },
  {
   "cell_type": "markdown",
   "id": "3666760c",
   "metadata": {},
   "source": [
    "# Problem 165\n",
    " [Source](https://projecteuler.net/problem=165)"
   ]
  },
  {
   "cell_type": "markdown",
   "id": "9bfe8005",
   "metadata": {},
   "source": [
    "A segment is uniquely defined by its two endpoints.\n",
    "  \n",
    "By considering two line segments in plane geometry there are three possibilities:\n",
    "  \n",
    "the segments have zero points, one point, or infinitely many points in common.\n",
    "\n",
    "Moreover when two segments have exactly one point in common it might be the case that that common point is an endpoint of either one of the segments or of both. If a common point of two segments is not an endpoint of either of the segments it is an interior point of both segments.\n",
    "  \n",
    "We will call a common point $T$ of two segments $L\\_1$ and $L\\_2$ a true intersection point of $L\\_1$ and $L\\_2$ if $T$ is the only common point of $L\\_1$ and $L\\_2$ and $T$ is an interior point of both segments.\n",
    "\n",
    "Consider the three segments $L\\_1$, $L\\_2$, and $L\\_3$:\n",
    "\n",
    "* $L\\_1$: $(27, 44)$ to $(12, 32)$\n",
    "* $L\\_2$: $(46, 53)$ to $(17, 62)$\n",
    "* $L\\_3$: $(46, 70)$ to $(22, 40)$\n",
    "\n",
    "It can be verified that line segments $L\\_2$ and $L\\_3$ have a true intersection point. We note that as the one of the end points of $L\\_3$: $(22,40)$ lies on $L\\_1$ this is not considered to be a true point of intersection. $L\\_1$ and $L\\_2$ have no common point. So among the three line segments, we find one true intersection point.\n",
    "\n",
    "Now let us do the same for $5000$ line segments. To this end, we generate $20000$ numbers using the so-called \"Blum Blum Shub\" pseudo-random number generator.\n",
    "\n",
    "$$\\begin{align}\n",
    "s\\_0 &= 290797\\\\\n",
    "s\\_{n + 1} &= s\\_n \\times s\\_n \\pmod{50515093}\\\\\n",
    "t\\_n &= s\\_n \\pmod{500}\n",
    "\\end{align}$$\n",
    "\n",
    "To create each line segment, we use four consecutive numbers $t\\_n$. That is, the first line segment is given by:\n",
    "\n",
    "$(t\\_1, t\\_2)$ to $(t\\_3, t\\_4)$.\n",
    "\n",
    "The first four numbers computed according to the above generator should be: $27$, $144$, $12$ and $232$. The first segment would thus be $(27,144)$ to $(12,232)$.\n",
    "\n",
    "How many distinct true intersection points are found among the $5000$ line segments?"
   ]
  },
  {
   "cell_type": "code",
   "execution_count": null,
   "id": "cac0b44b",
   "metadata": {},
   "outputs": [],
   "source": [
    "# Problem 165 workspace"
   ]
  },
  {
   "cell_type": "markdown",
   "id": "25711fe7",
   "metadata": {},
   "source": [
    "## Answer: "
   ]
  },
  {
   "cell_type": "markdown",
   "id": "93212811",
   "metadata": {},
   "source": [
    "___"
   ]
  },
  {
   "cell_type": "markdown",
   "id": "a3137ec9",
   "metadata": {},
   "source": [
    "# Problem 166\n",
    " [Source](https://projecteuler.net/problem=166)"
   ]
  },
  {
   "cell_type": "markdown",
   "id": "01e8f0b0",
   "metadata": {},
   "source": [
    "A $4 \\times 4$ grid is filled with digits $d$, $0 \\le d \\le 9$.\n",
    "\n",
    "It can be seen that in the grid\n",
    "$$\\begin{matrix}\n",
    "6 & 3 & 3 & 0\\\\\n",
    "5 & 0 & 4 & 3\\\\\n",
    "0 & 7 & 1 & 4\\\\\n",
    "1 & 2 & 4 & 5\n",
    "\\end{matrix}$$\n",
    "the sum of each row and each column has the value $12$. Moreover the sum of each diagonal is also $12$.\n",
    "\n",
    "In how many ways can you fill a $4 \\times 4$ grid with the digits $d$, $0 \\le d \\le 9$ so that each row, each column, and both diagonals have the same sum?"
   ]
  },
  {
   "cell_type": "code",
   "execution_count": null,
   "id": "43aaac4b",
   "metadata": {},
   "outputs": [],
   "source": [
    "# Problem 166 workspace"
   ]
  },
  {
   "cell_type": "markdown",
   "id": "4e0d0047",
   "metadata": {},
   "source": [
    "## Answer: "
   ]
  },
  {
   "cell_type": "markdown",
   "id": "b45e9f3a",
   "metadata": {},
   "source": [
    "___"
   ]
  },
  {
   "cell_type": "markdown",
   "id": "71e69075",
   "metadata": {},
   "source": [
    "# Problem 167\n",
    " [Source](https://projecteuler.net/problem=167)"
   ]
  },
  {
   "cell_type": "markdown",
   "id": "e457d556",
   "metadata": {},
   "source": [
    "For two positive integers $a$ and $b$, the Ulam sequence $U(a,b)$ is defined by $U(a,b)\\_1 = a$, $U(a,b)\\_2 = b$ and for $k \\gt 2$,\n",
    "$U(a,b)\\_k$ is the smallest integer greater than $U(a,b)\\_{k - 1}$ which can be written in exactly one way as the sum of two distinct previous members of $U(a,b)$.\n",
    "\n",
    "For example, the sequence $U(1,2)$ begins with\n",
    "  \n",
    "$1$, $2$, $3 = 1 + 2$, $4 = 1 + 3$, $6 = 2 + 4$, $8 = 2 + 6$, $11 = 3 + 8$;\n",
    "  \n",
    "$5$ does not belong to it because $5 = 1 + 4 = 2 + 3$ has two representations as the sum of two previous members, likewise $7 = 1 + 6 = 3 + 4$.\n",
    "\n",
    "Find $\\sum\\limits\\_{n = 2}^{10} U(2,2n+1)\\_k$, where $k = 10^{11}$."
   ]
  },
  {
   "cell_type": "code",
   "execution_count": null,
   "id": "bea1b537",
   "metadata": {},
   "outputs": [],
   "source": [
    "# Problem 167 workspace"
   ]
  },
  {
   "cell_type": "markdown",
   "id": "70784730",
   "metadata": {},
   "source": [
    "## Answer: "
   ]
  },
  {
   "cell_type": "markdown",
   "id": "833aaa5f",
   "metadata": {},
   "source": [
    "___"
   ]
  },
  {
   "cell_type": "markdown",
   "id": "ec47109f",
   "metadata": {},
   "source": [
    "# Problem 168\n",
    " [Source](https://projecteuler.net/problem=168)"
   ]
  },
  {
   "cell_type": "markdown",
   "id": "c3b40eb2",
   "metadata": {},
   "source": [
    "Consider the number $142857$. We can right-rotate this number by moving the last digit ($7$) to the front of it, giving us $714285$.\n",
    "  \n",
    "It can be verified that $714285 = 5 \\times 142857$.\n",
    "  \n",
    "This demonstrates an unusual property of $142857$: it is a divisor of its right-rotation.\n",
    "\n",
    "Find the last $5$ digits of the sum of all integers $n$, $10 \\lt n \\lt 10^{100}$, that have this property."
   ]
  },
  {
   "cell_type": "code",
   "execution_count": null,
   "id": "18330366",
   "metadata": {},
   "outputs": [],
   "source": [
    "# Problem 168 workspace"
   ]
  },
  {
   "cell_type": "markdown",
   "id": "758b5141",
   "metadata": {},
   "source": [
    "## Answer: "
   ]
  },
  {
   "cell_type": "markdown",
   "id": "3d133365",
   "metadata": {},
   "source": [
    "___"
   ]
  },
  {
   "cell_type": "markdown",
   "id": "741130ea",
   "metadata": {},
   "source": [
    "# Problem 169\n",
    " [Source](https://projecteuler.net/problem=169)"
   ]
  },
  {
   "cell_type": "markdown",
   "id": "65dcc8e7",
   "metadata": {},
   "source": [
    "Define $f(0)=1$ and $f(n)$ to be the number of different ways $n$ can be expressed as a sum of integer powers of $2$ using each power no more than twice.\n",
    "\n",
    "For example, $f(10)=5$ since there are five different ways to express $10$:\n",
    "\n",
    "$$\\begin{align}\n",
    "& 1 + 1 + 8\\\\\n",
    "& 1 + 1 + 4 + 4\\\\\n",
    "& 1 + 1 + 2 + 2 + 4\\\\\n",
    "& 2 + 4 + 4\\\\\n",
    "& 2 + 8\n",
    "\\end{align}$$\n",
    "\n",
    "What is $f(10^{25})$?"
   ]
  },
  {
   "cell_type": "code",
   "execution_count": null,
   "id": "2ef6e161",
   "metadata": {},
   "outputs": [],
   "source": [
    "# Problem 169 workspace"
   ]
  },
  {
   "cell_type": "markdown",
   "id": "8986e557",
   "metadata": {},
   "source": [
    "## Answer: "
   ]
  },
  {
   "cell_type": "markdown",
   "id": "4ae964e8",
   "metadata": {},
   "source": [
    "___"
   ]
  },
  {
   "cell_type": "markdown",
   "id": "fcc20024",
   "metadata": {},
   "source": [
    "# Problem 170\n",
    " [Source](https://projecteuler.net/problem=170)"
   ]
  },
  {
   "cell_type": "markdown",
   "id": "95e93571",
   "metadata": {},
   "source": [
    "Take the number $6$ and multiply it by each of $1273$ and $9854$:\n",
    "\n",
    "$$\\begin{align}\n",
    "6 \\times 1273 &= 7638\\\\\n",
    "6 \\times 9854 &= 59124\n",
    "\\end{align}$$\n",
    "\n",
    "By concatenating these products we get the $1$ to $9$ pandigital $763859124$. We will call $763859124$ the \"concatenated product of $6$ and $(1273,9854)$\". Notice too, that the concatenation of the input numbers, $612739854$, is also $1$ to $9$ pandigital.\n",
    "\n",
    "The same can be done for $0$ to $9$ pandigital numbers.\n",
    "\n",
    "What is the largest $0$ to $9$ pandigital $10$-digit concatenated product of an integer with two or more other integers, such that the concatenation of the input numbers is also a $0$ to $9$ pandigital $10$-digit number?"
   ]
  },
  {
   "cell_type": "code",
   "execution_count": null,
   "id": "08fca100",
   "metadata": {},
   "outputs": [],
   "source": [
    "# Problem 170 workspace"
   ]
  },
  {
   "cell_type": "markdown",
   "id": "e6a235b1",
   "metadata": {},
   "source": [
    "## Answer: "
   ]
  },
  {
   "cell_type": "markdown",
   "id": "0be358a8",
   "metadata": {},
   "source": [
    "___"
   ]
  }
 ],
 "metadata": {},
 "nbformat": 4,
 "nbformat_minor": 5
}
