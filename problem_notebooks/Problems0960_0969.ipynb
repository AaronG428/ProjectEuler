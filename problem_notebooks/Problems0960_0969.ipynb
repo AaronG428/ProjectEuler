{
 "cells": [
  {
   "cell_type": "markdown",
   "id": "6588adf2",
   "metadata": {},
   "source": [
    "# Problem 960\n",
    " [Source](https://projecteuler.net/problem=960)"
   ]
  },
  {
   "cell_type": "markdown",
   "id": "1d47d13b",
   "metadata": {},
   "source": [
    "There are $n$ distinct piles of stones, each of size $n-1$. Starting with an initial score of $0$, the following procedure is repeated:\n",
    "\n",
    "1. Choose any two piles and remove exactly $n$ stones in total from the two piles.\n",
    "2. If the number of stones removed from the two piles were $a$ and $b$, add $\\min(a,b)$ to the score.\n",
    "\n",
    "If all piles are eventually emptied, the current score is confirmed as final. However, if one gets \"stuck\" and cannot empty all piles, the current score is discarded, resulting in a final score of $0$.\n",
    "\n",
    "Three example sequences of turns are illustrated below for $n=4$, with each tuple representing pile sizes as one proceeds, and with additions to the score indicated above the arrows.\n",
    "$$\n",
    "\\begin{align}\n",
    "&(3,3,3,3)\\xrightarrow{+1}(0,3,2,3)\\xrightarrow{+1}(0,3,1,0)\\xrightarrow{+1}(0,0,0,0)&:\\quad\\text{final score }=3\\\\\n",
    "&(3,3,3,3)\\xrightarrow{+1}(3,0,3,2)\\xrightarrow{+2}(1,0,3,0)\\xrightarrow{+1}(0,0,0,0)&:\\quad\\text{final score }=4\\\\\n",
    "&(3,3,3,3)\\xrightarrow{+2}(1,3,1,3)\\xrightarrow{+1}(1,2,1,0)\\rightarrow\\text{stuck!}&:\\quad\\text{final score }=0\n",
    "\\end{align}\n",
    "$$\n",
    "\n",
    "Define $F(n)$ to be the sum of the final scores achieved for every sequence of turns which successfully empty all piles.\n",
    "\n",
    "You are given $F(3)=12$, $F(4)=360$, and $F(8)=16785941760$.\n",
    "\n",
    "Find $F(100)$. Give your answer modulo $10^9+7$."
   ]
  },
  {
   "cell_type": "code",
   "execution_count": null,
   "id": "147475a9",
   "metadata": {},
   "outputs": [],
   "source": [
    "# Problem 960 workspace"
   ]
  },
  {
   "cell_type": "markdown",
   "id": "8e7ab016",
   "metadata": {},
   "source": [
    "## Answer: "
   ]
  },
  {
   "cell_type": "markdown",
   "id": "40ed77ea",
   "metadata": {},
   "source": [
    "# Problem 961\n",
    " [Source](https://projecteuler.net/problem=961)"
   ]
  },
  {
   "cell_type": "markdown",
   "id": "1806e340",
   "metadata": {},
   "source": [
    "This game starts with a positive integer. Two players take turns to remove a single digit from that integer. After the digit is removed any resulting leading zeros are removed.\n",
    "\n",
    "For example, removing a digit from $105$ results in either $5$, $10$ or $15$.\n",
    "\n",
    "The winner is the person who removes the last nonzero digit.\n",
    "\n",
    "Define $W(N)$ to be how many positive integers less than $N$ for which the first player can guarantee a win given optimal play. You are given $W(100) = 18$ and $W(10^4) = 1656$.\n",
    "\n",
    "Find $W(10^{18})$."
   ]
  },
  {
   "cell_type": "code",
   "execution_count": null,
   "id": "00aa15af",
   "metadata": {},
   "outputs": [],
   "source": [
    "# Problem 961 workspace"
   ]
  },
  {
   "cell_type": "markdown",
   "id": "d36e642c",
   "metadata": {},
   "source": [
    "## Answer: "
   ]
  },
  {
   "cell_type": "markdown",
   "id": "564bdd47",
   "metadata": {},
   "source": [
    "# Problem 962\n",
    " [Source](https://projecteuler.net/problem=962)"
   ]
  },
  {
   "cell_type": "markdown",
   "id": "5706b514",
   "metadata": {},
   "source": [
    "Given is an integer sided triangle $ABC$ with $BC \\le AC \\le AB$.\n",
    "  \n",
    "$k$ is the angular bisector of angle $ACB$.\n",
    "  \n",
    "$m$ is the tangent at $C$ to the circumscribed circle of $ABC$.\n",
    "  \n",
    "$n$ is a line parallel to $m$ through $B$.\n",
    "  \n",
    "The intersection of $n$ and $k$ is called $E$.\n",
    "\n",
    "![0296_bisector.gif](resources/0296_bisector.gif)\n",
    "\n",
    "How many triangles $ABC$ with a perimeter not exceeding $1\\,000\\,000$ exist such that $CE$ has integral length?\n",
    "\n",
    "**Note**\n",
    ": This problem is a more difficult version of\n",
    "[Problem 296](problem=296)\n",
    ". Please pay close attention to the differences between the two statements."
   ]
  },
  {
   "cell_type": "code",
   "execution_count": null,
   "id": "c2beb1a4",
   "metadata": {},
   "outputs": [],
   "source": [
    "# Problem 962 workspace"
   ]
  },
  {
   "cell_type": "markdown",
   "id": "4e353669",
   "metadata": {},
   "source": [
    "## Answer: "
   ]
  },
  {
   "cell_type": "markdown",
   "id": "010f7138",
   "metadata": {},
   "source": [
    "# Problem 963\n",
    " [Source](https://projecteuler.net/problem=963)"
   ]
  },
  {
   "cell_type": "markdown",
   "id": "c6de9d98",
   "metadata": {},
   "source": [
    "**NOTE**\n",
    ": This problem is related to\n",
    "[Problem 882](problem=882)\n",
    ". It is recommended to solve that problem before doing this one.\n",
    "\n",
    "Two players are playing a game. When the game starts, each player holds a paper with two positive integers written on it.\n",
    "  \n",
    "They make moves in turn. At a player's turn, the player can do one of the following:\n",
    "\n",
    "* pick a number on the player's own paper and change it by removing a $0$ from its\n",
    "  **ternary expansion\n",
    "  base-$3$ expansion**\n",
    "  ;\n",
    "* pick a number on the opponent's paper and change it by removing a $1$ from its ternary expansion;\n",
    "* pick a number on either paper and change it by removing a $2$ from its ternary expansion.\n",
    "\n",
    "The player that is unable to make a move loses.\n",
    "  \n",
    "Leading zeros are not allowed in any ternary expansion; in particular nobody can make a move on the number $0$.\n",
    "\n",
    "An initial setting is called\n",
    "fair\n",
    "if whichever player moves first will lose the game if both play optimally.\n",
    "\n",
    "For example, if initially the integers on the paper of the first player are $1, 5$ and those on the paper of the second player are $2, 4$, then this is a fair initial setting, which we can denote as $(1, 5 \\mid 2, 4)$.\n",
    "  \n",
    "Note that the order of the two integers on a paper does not matter, but the order of the two papers matter.\n",
    "  \n",
    "Thus $(5, 1 \\mid 4, 2)$ is considered the same as $(1, 5 \\mid 2, 4)$, while $(2, 4 \\mid 1, 5)$ is a different initial setting.\n",
    "\n",
    "Let $F(N)$ be the number of fair initial settings where each initial number does not exceed $N$.\n",
    "  \n",
    "For example, $F(5) = 21$.\n",
    "\n",
    "Find $F(10^5)$."
   ]
  },
  {
   "cell_type": "code",
   "execution_count": null,
   "id": "c1e830a4",
   "metadata": {},
   "outputs": [],
   "source": [
    "# Problem 963 workspace"
   ]
  },
  {
   "cell_type": "markdown",
   "id": "cf4c9c45",
   "metadata": {},
   "source": [
    "## Answer: "
   ]
  },
  {
   "cell_type": "markdown",
   "id": "f2b32524",
   "metadata": {},
   "source": [
    "# Problem 964\n",
    " [Source](https://projecteuler.net/problem=964)"
   ]
  },
  {
   "cell_type": "markdown",
   "id": "8699f680",
   "metadata": {},
   "source": [
    "A group of $k(k-1) / 2 + 1$ children play a game of $k$ rounds.\n",
    "  \n",
    "At the beginning, they are all seated on chairs arranged in a circle.\n",
    "\n",
    "During the $i$-th round:\n",
    "\n",
    "1. The music starts playing and $i$ children are randomly selected, with all combinations being equally likely. The selected children stand up and dance around.\n",
    "2. When the music stops, these $i$ children sit back down randomly in the $i$ available chairs, with all permutations being equally likely.\n",
    "\n",
    "Let $P(k)$ be the probability that every child ends up sitting exactly one chair to the right of their original chair when the game ends (at the end of the $k$-th round).\n",
    "\n",
    "You are given $P(3) \\approx 1.3888888889 \\mathrm {e}{-2}$.\n",
    "\n",
    "Find $P(7)$. Give your answer in scientific notation rounded to ten significant digits after the decimal point. Use a lowercase e to separate the mantissa and the exponent."
   ]
  },
  {
   "cell_type": "code",
   "execution_count": null,
   "id": "571adc78",
   "metadata": {},
   "outputs": [],
   "source": [
    "# Problem 964 workspace"
   ]
  },
  {
   "cell_type": "markdown",
   "id": "2194912d",
   "metadata": {},
   "source": [
    "## Answer: "
   ]
  },
  {
   "cell_type": "markdown",
   "id": "cd9d685b",
   "metadata": {},
   "source": [
    "# Problem 965\n",
    " [Source](https://projecteuler.net/problem=965)"
   ]
  },
  {
   "cell_type": "markdown",
   "id": "46c34fa0",
   "metadata": {},
   "source": [
    "Let $\\{x\\}$ denote the fractional part of a real number $x$.\n",
    "\n",
    "Define $f\\_N(x)$ to be the\n",
    "**minimal**\n",
    "value of $\\{nx\\}$ for integer $n$ satisfying $0 < n \\le N$.\n",
    "  \n",
    "Further define $F(N)$ to be the expected value of $f\\_N(x)$ when $x$ is sampled uniformly in $[0, 1]$.\n",
    "\n",
    "You are given $F(1) = \\frac{1}{2}$, $F(4) = \\frac{1}{4}$ and $F(10) \\approx 0.1319444444444$.\n",
    "\n",
    "Find $F(10^4)$ and give your answer rounded to 13 digits after the decimal point."
   ]
  },
  {
   "cell_type": "code",
   "execution_count": null,
   "id": "4cb9fae1",
   "metadata": {},
   "outputs": [],
   "source": [
    "# Problem 965 workspace"
   ]
  },
  {
   "cell_type": "markdown",
   "id": "1fe5bd47",
   "metadata": {},
   "source": [
    "## Answer: "
   ]
  },
  {
   "cell_type": "markdown",
   "id": "d8fdbcd8",
   "metadata": {},
   "source": [
    "# Problem 966\n",
    " [Source](https://projecteuler.net/problem=966)"
   ]
  },
  {
   "cell_type": "markdown",
   "id": "71fa2574",
   "metadata": {},
   "source": [
    "Let $I(a, b, c)$ be the largest possible area of intersection between a triangle of side lengths $a, b, c$ and a circle which has the same area as the triangle.\n",
    "  \n",
    "For example $I(3, 4, 5) \\approx 4.593049$ and $I(3, 4, 6) \\approx 3.552564$.\n",
    "\n",
    "Find the sum of $I(a, b, c)$ for integers $a, b, c$ such that $1 \\le a \\le b \\le c \\lt a + b$ and $a + b + c \\le 200$.\n",
    "  \n",
    "Give your answer rounded to two digits after the decimal point."
   ]
  },
  {
   "cell_type": "code",
   "execution_count": null,
   "id": "2de7e8c0",
   "metadata": {},
   "outputs": [],
   "source": [
    "# Problem 966 workspace"
   ]
  },
  {
   "cell_type": "markdown",
   "id": "fbbcefeb",
   "metadata": {},
   "source": [
    "## Answer: "
   ]
  },
  {
   "cell_type": "markdown",
   "id": "0716c1a8",
   "metadata": {},
   "source": [
    "# Problem 967\n",
    " [Source](https://projecteuler.net/problem=967)"
   ]
  },
  {
   "cell_type": "markdown",
   "id": "44740cba",
   "metadata": {},
   "source": [
    "Data for that problem cannot be found"
   ]
  },
  {
   "cell_type": "code",
   "execution_count": null,
   "id": "c1e6e795",
   "metadata": {},
   "outputs": [],
   "source": [
    "# Problem 967 workspace"
   ]
  },
  {
   "cell_type": "markdown",
   "id": "3d7ab2a2",
   "metadata": {},
   "source": [
    "## Answer: "
   ]
  },
  {
   "cell_type": "markdown",
   "id": "98c2485a",
   "metadata": {},
   "source": [
    "# Problem 968\n",
    " [Source](https://projecteuler.net/problem=968)"
   ]
  },
  {
   "cell_type": "markdown",
   "id": "01de9bdb",
   "metadata": {},
   "source": [
    "Data for that problem cannot be found"
   ]
  },
  {
   "cell_type": "code",
   "execution_count": null,
   "id": "b7a60772",
   "metadata": {},
   "outputs": [],
   "source": [
    "# Problem 968 workspace"
   ]
  },
  {
   "cell_type": "markdown",
   "id": "fd4c82a3",
   "metadata": {},
   "source": [
    "## Answer: "
   ]
  },
  {
   "cell_type": "markdown",
   "id": "7a685fce",
   "metadata": {},
   "source": [
    "# Problem 969\n",
    " [Source](https://projecteuler.net/problem=969)"
   ]
  },
  {
   "cell_type": "markdown",
   "id": "d4ca9ce2",
   "metadata": {},
   "source": [
    "Data for that problem cannot be found"
   ]
  },
  {
   "cell_type": "code",
   "execution_count": null,
   "id": "785a7694",
   "metadata": {},
   "outputs": [],
   "source": [
    "# Problem 969 workspace"
   ]
  },
  {
   "cell_type": "markdown",
   "id": "4d379ab9",
   "metadata": {},
   "source": [
    "## Answer: "
   ]
  }
 ],
 "metadata": {},
 "nbformat": 4,
 "nbformat_minor": 5
}
