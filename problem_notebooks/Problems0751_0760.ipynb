{
 "cells": [
  {
   "cell_type": "markdown",
   "id": "931c8c67",
   "metadata": {},
   "source": [
    "# Problem 751\n",
    " [Source](https://projecteuler.net/problem=751)"
   ]
  },
  {
   "cell_type": "markdown",
   "id": "f2a8659e",
   "metadata": {},
   "source": [
    "A non-decreasing sequence of integers $a\\_n$ can be generated from any positive real value $\\theta$ by the following procedure:\n",
    "$$\\begin{align}\n",
    "\\begin{split}\n",
    "b\\_1 &= \\theta \\\\\n",
    "b\\_n &= \\left\\lfloor b\\_{n-1} \\right\\rfloor \\left(b\\_{n-1} - \\left\\lfloor b\\_{n-1} \\right\\rfloor + 1\\right)~~~\\forall ~ n \\geq 2 \\\\\n",
    "a\\_n &= \\left\\lfloor b\\_{n} \\right\\rfloor\n",
    "\\end{split}\n",
    "\\end{align}$$\n",
    "Where $\\left\\lfloor \\cdot \\right\\rfloor$ is the floor function.\n",
    "\n",
    "For example, $\\theta=2.956938891377988...$ generates the Fibonacci sequence: $2, 3, 5, 8, 13, 21, 34, 55, 89, ...$\n",
    "\n",
    "The\n",
    "*concatenation*\n",
    "of a sequence of positive integers $a\\_n$ is a real value denoted $\\tau$ constructed by concatenating the elements of the sequence after the decimal point, starting at $a\\_1$: $a\\_1.a\\_2a\\_3a\\_4...$\n",
    "\n",
    "For example, the Fibonacci sequence constructed from $\\theta=2.956938891377988...$ yields the concatenation $\\tau=2.3581321345589...$ Clearly, $\\tau \\neq \\theta$ for this value of $\\theta$.\n",
    "\n",
    "Find the only value of $\\theta$ for which the generated sequence starts at $a\\_1=2$ and the concatenation of the generated sequence equals the original value: $\\tau = \\theta$. Give your answer rounded to $24$ places after the decimal point."
   ]
  },
  {
   "cell_type": "code",
   "execution_count": null,
   "id": "4b66d53b",
   "metadata": {},
   "outputs": [],
   "source": [
    "# Problem 751 workspace"
   ]
  },
  {
   "cell_type": "markdown",
   "id": "698da584",
   "metadata": {},
   "source": [
    "## Answer: "
   ]
  },
  {
   "cell_type": "markdown",
   "id": "4a5bc48d",
   "metadata": {},
   "source": [
    "___"
   ]
  },
  {
   "cell_type": "markdown",
   "id": "9cc8b69e",
   "metadata": {},
   "source": [
    "# Problem 752\n",
    " [Source](https://projecteuler.net/problem=752)"
   ]
  },
  {
   "cell_type": "markdown",
   "id": "cf8a3533",
   "metadata": {},
   "source": [
    "When $(1+\\sqrt 7)$ is raised to an integral power, $n$, we always get a number of the form $(a+b\\sqrt 7)$.\n",
    "  \n",
    "We write $(1+\\sqrt 7)^n = \\alpha(n) + \\beta(n)\\sqrt 7$.\n",
    "\n",
    "For a given number $x$ we define $g(x)$ to be the smallest positive integer $n$ such that:\n",
    "$$\\begin{align}\n",
    "\\alpha(n) &\\equiv 1 \\pmod x\\qquad \\text{and }\\\\\n",
    "\\beta(n) &\\equiv 0 \\pmod x\\end{align}\n",
    "$$\n",
    "and $g(x) = 0$ if there is no such value of $n$. For example, $g(3) = 0$, $g(5) = 12$.\n",
    "\n",
    "Further define\n",
    "$$ G(N) = \\sum\\_{x=2}^N g(x)$$\n",
    "You are given $G(10^2) = 28891$ and $G(10^3) = 13131583$.\n",
    "\n",
    "Find $G(10^6)$."
   ]
  },
  {
   "cell_type": "code",
   "execution_count": null,
   "id": "c7127e8f",
   "metadata": {},
   "outputs": [],
   "source": [
    "# Problem 752 workspace"
   ]
  },
  {
   "cell_type": "markdown",
   "id": "54f25396",
   "metadata": {},
   "source": [
    "## Answer: "
   ]
  },
  {
   "cell_type": "markdown",
   "id": "c77cb26b",
   "metadata": {},
   "source": [
    "___"
   ]
  },
  {
   "cell_type": "markdown",
   "id": "2eea3676",
   "metadata": {},
   "source": [
    "# Problem 753\n",
    " [Source](https://projecteuler.net/problem=753)"
   ]
  },
  {
   "cell_type": "markdown",
   "id": "e70d8661",
   "metadata": {},
   "source": [
    "Fermat's Last Theorem states that no three positive integers $a$, $b$, $c$ satisfy the equation\n",
    "$$a^n+b^n=c^n$$\n",
    "for any integer value of $n$ greater than 2.\n",
    "\n",
    "For this problem we are only considering the case $n=3$. For certain values of $p$, it is possible to solve the congruence equation:\n",
    "$$a^3+b^3 \\equiv c^3 \\pmod{p}$$\n",
    "\n",
    "For a prime $p$, we define $F(p)$ as the number of integer solutions to this equation for $1 \\le a,b,c < p$.\n",
    "\n",
    "You are given $F(5) = 12$ and $F(7) = 0$.\n",
    "\n",
    "Find the sum of $F(p)$ over all primes $p$ less than $6\\,000\\,000$."
   ]
  },
  {
   "cell_type": "code",
   "execution_count": null,
   "id": "d195aa18",
   "metadata": {},
   "outputs": [],
   "source": [
    "# Problem 753 workspace"
   ]
  },
  {
   "cell_type": "markdown",
   "id": "14ace079",
   "metadata": {},
   "source": [
    "## Answer: "
   ]
  },
  {
   "cell_type": "markdown",
   "id": "70b315bd",
   "metadata": {},
   "source": [
    "___"
   ]
  },
  {
   "cell_type": "markdown",
   "id": "348c0c11",
   "metadata": {},
   "source": [
    "# Problem 754\n",
    " [Source](https://projecteuler.net/problem=754)"
   ]
  },
  {
   "cell_type": "markdown",
   "id": "beac3a9d",
   "metadata": {},
   "source": [
    "The\n",
    "**Gauss Factorial**\n",
    "of a number $n$ is defined as the product of all positive numbers $\\leq n$ that are relatively prime to $n$. For example $g(10)=1\\times 3\\times 7\\times 9 = 189$.\n",
    "\n",
    "Also we define\n",
    "$$\\displaystyle G(n) = \\prod\\_{i=1}^{n}g(i)$$\n",
    "\n",
    "You are given $G(10) = 23044331520000$.\n",
    "\n",
    "Find $G(10^8)$. Give your answer modulo $1\\,000\\,000\\,007$."
   ]
  },
  {
   "cell_type": "code",
   "execution_count": null,
   "id": "ff9e65fd",
   "metadata": {},
   "outputs": [],
   "source": [
    "# Problem 754 workspace"
   ]
  },
  {
   "cell_type": "markdown",
   "id": "5b058ce7",
   "metadata": {},
   "source": [
    "## Answer: "
   ]
  },
  {
   "cell_type": "markdown",
   "id": "b7684c32",
   "metadata": {},
   "source": [
    "___"
   ]
  },
  {
   "cell_type": "markdown",
   "id": "cdc2cf22",
   "metadata": {},
   "source": [
    "# Problem 755\n",
    " [Source](https://projecteuler.net/problem=755)"
   ]
  },
  {
   "cell_type": "markdown",
   "id": "47fc7455",
   "metadata": {},
   "source": [
    "Consider the Fibonacci sequence $\\{1,2,3,5,8,13,21,\\ldots\\}$.\n",
    "\n",
    "We let $f(n)$ be the number of ways of representing an integer $n\\ge 0$ as the sum of different Fibonacci numbers.\n",
    "  \n",
    "For example, $16 = 3+13 = 1+2+13 = 3+5+8 = 1+2+5+8$ and hence $f(16) = 4$.\n",
    "By convention $f(0) = 1$.\n",
    "\n",
    "Further we define\n",
    "$$S(n) = \\sum\\_{k=0}^n f(k).$$\n",
    "You are given $S(100) = 415$ and $S(10^4) = 312807$.\n",
    "\n",
    "Find $\\displaystyle S(10^{13})$."
   ]
  },
  {
   "cell_type": "code",
   "execution_count": null,
   "id": "bffd9e37",
   "metadata": {},
   "outputs": [],
   "source": [
    "# Problem 755 workspace"
   ]
  },
  {
   "cell_type": "markdown",
   "id": "918ff1a3",
   "metadata": {},
   "source": [
    "## Answer: "
   ]
  },
  {
   "cell_type": "markdown",
   "id": "2003f085",
   "metadata": {},
   "source": [
    "___"
   ]
  },
  {
   "cell_type": "markdown",
   "id": "b30ad7b3",
   "metadata": {},
   "source": [
    "# Problem 756\n",
    " [Source](https://projecteuler.net/problem=756)"
   ]
  },
  {
   "cell_type": "markdown",
   "id": "db75f4ca",
   "metadata": {},
   "source": [
    "Consider a function $f(k)$ defined for all positive integers $k>0$. Let $S$ be the sum of the first $n$ values of $f$. That is,\n",
    "$$S=f(1)+f(2)+f(3)+\\cdots+f(n)=\\sum\\_{k=1}^n f(k).$$\n",
    "\n",
    "In this problem, we employ randomness to approximate this sum. That is, we choose a random, uniformly distributed, $m$-tuple of positive integers $(X\\_1,X\\_2,X\\_3,\\cdots,X\\_m)$ such that $0=X\\_0 \\lt X\\_1 \\lt X\\_2 \\lt \\cdots \\lt X\\_m \\leq n$ and calculate a modified sum $S^\\*$ as follows.\n",
    "$$S^\\* = \\sum\\_{i=1}^m f(X\\_i)(X\\_i-X\\_{i-1})$$\n",
    "\n",
    "We now define the error of this approximation to be $\\Delta=S-S^\\*$.\n",
    "\n",
    "Let $\\mathbb{E}(\\Delta|f(k),n,m)$ be the expected value of the error given the function $f(k)$, the number of terms $n$ in the sum and the length of random sample $m$.\n",
    "\n",
    "For example, $\\mathbb{E}(\\Delta|k,100,50) = 2525/1326 \\approx 1.904223$ and $\\mathbb{E}(\\Delta|\\varphi(k),10^4,10^2)\\approx 5842.849907$, where $\\varphi(k)$ is Euler's totient function.\n",
    "\n",
    "Find $\\mathbb{E}(\\Delta|\\varphi(k),12345678,12345)$ rounded to six places after the decimal point."
   ]
  },
  {
   "cell_type": "code",
   "execution_count": null,
   "id": "e595f74c",
   "metadata": {},
   "outputs": [],
   "source": [
    "# Problem 756 workspace"
   ]
  },
  {
   "cell_type": "markdown",
   "id": "f4b0c042",
   "metadata": {},
   "source": [
    "## Answer: "
   ]
  },
  {
   "cell_type": "markdown",
   "id": "9263d61b",
   "metadata": {},
   "source": [
    "___"
   ]
  },
  {
   "cell_type": "markdown",
   "id": "5125dee3",
   "metadata": {},
   "source": [
    "# Problem 757\n",
    " [Source](https://projecteuler.net/problem=757)"
   ]
  },
  {
   "cell_type": "markdown",
   "id": "5d382e76",
   "metadata": {},
   "source": [
    "A positive integer $N$ is\n",
    "stealthy\n",
    ", if there exist positive integers $a$, $b$, $c$, $d$ such that $ab = cd = N$ and $a+b = c+d+1$.\n",
    "  \n",
    "For example, $36 = 4\\times 9 = 6\\times 6$ is stealthy.\n",
    "\n",
    "You are also given that there are 2851 stealthy numbers not exceeding $10^6$.\n",
    "\n",
    "How many stealthy numbers are there that don't exceed $10^{14}$?"
   ]
  },
  {
   "cell_type": "code",
   "execution_count": null,
   "id": "06e2524a",
   "metadata": {},
   "outputs": [],
   "source": [
    "# Problem 757 workspace"
   ]
  },
  {
   "cell_type": "markdown",
   "id": "8bddf78b",
   "metadata": {},
   "source": [
    "## Answer: "
   ]
  },
  {
   "cell_type": "markdown",
   "id": "e4836620",
   "metadata": {},
   "source": [
    "___"
   ]
  },
  {
   "cell_type": "markdown",
   "id": "fd40916d",
   "metadata": {},
   "source": [
    "# Problem 758\n",
    " [Source](https://projecteuler.net/problem=758)"
   ]
  },
  {
   "cell_type": "markdown",
   "id": "c8e0d49c",
   "metadata": {},
   "source": [
    "There are 3 buckets labelled $S$ (small) of 3 litres, $M$ (medium) of 5 litres and $L$ (large) of 8 litres.\n",
    "  \n",
    "Initially $S$ and $M$ are full of water and $L$ is empty.\n",
    "By pouring water between the buckets exactly one litre of water can be measured.\n",
    "  \n",
    "Since there is no other way to measure, once a pouring starts it cannot stop until either the source bucket is empty or the destination bucket is full.\n",
    "  \n",
    "At least four pourings are needed to get one litre:\n",
    "\n",
    "$(3,5,0)\\xrightarrow{M\\to L} (3,0,5) \\xrightarrow{S\\to M} (0,3,5) \\xrightarrow{L\\to S}(3,3,2)\n",
    "\\xrightarrow{S\\to M}(1,5,2)$\n",
    "\n",
    "After these operations, there is exactly one litre in bucket $S$.\n",
    "\n",
    "In general the sizes of the buckets $S, M, L$ are $a$, $b$, $a + b$ litres, respectively. Initially $S$ and $M$ are full and $L$ is empty. If the above rule of pouring still applies and $a$ and $b$ are two coprime positive integers with $a\\leq b$ then it is always possible to measure one litre in finitely many steps.\n",
    "\n",
    "Let $P(a,b)$ be the minimal number of pourings needed to get one litre. Thus $P(3,5)=4$.\n",
    "  \n",
    "Also, $P(7, 31)=20$ and $P(1234, 4321)=2780$.\n",
    "\n",
    "Find the sum of $P(2^{p^5}-1, 2^{q^5}-1)$ for all pairs of prime numbers $p,q$ such that $p < q < 1000$.\n",
    "  \n",
    "Give your answer modulo $1\\,000\\,000\\,007$."
   ]
  },
  {
   "cell_type": "code",
   "execution_count": null,
   "id": "a93db0e7",
   "metadata": {},
   "outputs": [],
   "source": [
    "# Problem 758 workspace"
   ]
  },
  {
   "cell_type": "markdown",
   "id": "10f1c0fe",
   "metadata": {},
   "source": [
    "## Answer: "
   ]
  },
  {
   "cell_type": "markdown",
   "id": "f43b5748",
   "metadata": {},
   "source": [
    "___"
   ]
  },
  {
   "cell_type": "markdown",
   "id": "7dbb58b4",
   "metadata": {},
   "source": [
    "# Problem 759\n",
    " [Source](https://projecteuler.net/problem=759)"
   ]
  },
  {
   "cell_type": "markdown",
   "id": "575af9ac",
   "metadata": {},
   "source": [
    "The function $f$ is defined for all positive integers as follows:\n",
    "\n",
    "$$\\begin{align\\*}\n",
    "f(1) &= 1\\\\\n",
    "f(2n) &= 2f(n)\\\\\n",
    "f(2n+1) &= 2n+1 + 2f(n)+\\tfrac 1n f(n)\n",
    "\\end{align\\*}$$\n",
    "\n",
    "It can be proven that $f(n)$ is integer for all values of $n$.\n",
    "\n",
    "The function $S(n)$ is defined as $S(n) = \\displaystyle \\sum\\_{i=1}^n f(i) ^2$.\n",
    "\n",
    "For example, $S(10)=1530$ and $S(10^2)=4798445$.\n",
    "\n",
    "Find $S(10^{16})$. Give your answer modulo $1\\,000\\,000\\,007$."
   ]
  },
  {
   "cell_type": "code",
   "execution_count": null,
   "id": "b26167ff",
   "metadata": {},
   "outputs": [],
   "source": [
    "# Problem 759 workspace"
   ]
  },
  {
   "cell_type": "markdown",
   "id": "2c3738ea",
   "metadata": {},
   "source": [
    "## Answer: "
   ]
  },
  {
   "cell_type": "markdown",
   "id": "2540739d",
   "metadata": {},
   "source": [
    "___"
   ]
  },
  {
   "cell_type": "markdown",
   "id": "8dec28b9",
   "metadata": {},
   "source": [
    "# Problem 760\n",
    " [Source](https://projecteuler.net/problem=760)"
   ]
  },
  {
   "cell_type": "markdown",
   "id": "e7e56ef2",
   "metadata": {},
   "source": [
    "Define\n",
    "$$\\displaystyle g(m,n) = (m\\oplus n)+(m\\vee n)+(m\\wedge n)$$\n",
    "where $\\oplus, \\vee, \\wedge$ are the bitwise XOR, OR and AND operator respectively.\n",
    "\n",
    "Also set\n",
    "$$\\displaystyle G(N) = \\sum\\_{n=0}^N\\sum\\_{k=0}^n g(k,n-k)$$\n",
    "\n",
    "For example, $G(10) = 754$ and $G(10^2) = 583766$.\n",
    "\n",
    "Find $G(10^{18})$. Give your answer modulo $1\\,000\\,000\\,007$."
   ]
  },
  {
   "cell_type": "code",
   "execution_count": null,
   "id": "70d66e59",
   "metadata": {},
   "outputs": [],
   "source": [
    "# Problem 760 workspace"
   ]
  },
  {
   "cell_type": "markdown",
   "id": "8f075d57",
   "metadata": {},
   "source": [
    "## Answer: "
   ]
  },
  {
   "cell_type": "markdown",
   "id": "8ae9bb4a",
   "metadata": {},
   "source": [
    "___"
   ]
  }
 ],
 "metadata": {},
 "nbformat": 4,
 "nbformat_minor": 5
}
