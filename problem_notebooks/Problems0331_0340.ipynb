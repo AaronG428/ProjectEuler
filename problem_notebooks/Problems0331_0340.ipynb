{
 "cells": [
  {
   "cell_type": "markdown",
   "id": "159735cf",
   "metadata": {},
   "source": [
    "# Problem 331\n",
    " [Source](https://projecteuler.net/problem=331)"
   ]
  },
  {
   "cell_type": "markdown",
   "id": "fe091233",
   "metadata": {},
   "source": [
    "$N \\times N$ disks are placed on a square game board. Each disk has a black side and white side.\n",
    "\n",
    "At each turn, you may choose a disk and flip all the disks in the same row and the same column as this disk: thus $2 \\times N - 1$ disks are flipped. The game ends when all disks show their white side. The following example shows a game on a $5 \\times 5$ board.\n",
    "\n",
    "![0331_crossflips3.gif](resources/0331_crossflips3.gif)\n",
    "\n",
    "It can be proven that $3$ is the minimal number of turns to finish this game.\n",
    "\n",
    "The bottom left disk on the $N \\times N$ board has coordinates $(0,0)$;\n",
    "  \n",
    "the bottom right disk has coordinates $(N-1,0)$ and the top left disk has coordinates $(0,N-1)$.\n",
    "\n",
    "Let $C\\_N$ be the following configuration of a board with $N \\times N$ disks:\n",
    "  \n",
    "A disk at $(x, y)$ satisfying $N - 1 \\le \\sqrt{x^2 + y^2} \\lt N$, shows its black side; otherwise, it shows its white side. $C\\_5$ is shown above.\n",
    "\n",
    "Let $T(N)$ be the minimal number of turns to finish a game starting from configuration $C\\_N$ or $0$ if configuration $C\\_N$ is unsolvable.\n",
    "  \n",
    "We have shown that $T(5)=3$. You are also given that $T(10)=29$ and $T(1\\,000)=395253$.\n",
    "\n",
    "Find $\\sum \\limits\\_{i = 3}^{31} T(2^i - i)$."
   ]
  },
  {
   "cell_type": "code",
   "execution_count": null,
   "id": "256b6ae3",
   "metadata": {},
   "outputs": [],
   "source": [
    "# Problem 331 workspace"
   ]
  },
  {
   "cell_type": "markdown",
   "id": "63f4ed38",
   "metadata": {},
   "source": [
    "## Answer: "
   ]
  },
  {
   "cell_type": "markdown",
   "id": "37d7fca2",
   "metadata": {},
   "source": [
    "___"
   ]
  },
  {
   "cell_type": "markdown",
   "id": "e25cb7e0",
   "metadata": {},
   "source": [
    "# Problem 332\n",
    " [Source](https://projecteuler.net/problem=332)"
   ]
  },
  {
   "cell_type": "markdown",
   "id": "f5f7e2da",
   "metadata": {},
   "source": [
    "A\n",
    "**spherical triangle**\n",
    "is a figure formed on the surface of a sphere by three\n",
    "**great circular arcs**\n",
    "intersecting pairwise in three vertices.\n",
    "\n",
    "![0332_spherical.jpg](resources/0332_spherical.jpg)\n",
    "\n",
    "Let $C(r)$ be the sphere with the centre $(0,0,0)$ and radius $r$.\n",
    "  \n",
    "Let $Z(r)$ be the set of points on the surface of $C(r)$ with integer coordinates.\n",
    "  \n",
    "Let $T(r)$ be the set of spherical triangles with vertices in $Z(r)$.\n",
    "Degenerate spherical triangles, formed by three points on the same great arc, are\n",
    "not\n",
    "included in $T(r)$.\n",
    "  \n",
    "Let $A(r)$ be the area of the smallest spherical triangle in $T(r)$.\n",
    "\n",
    "For example $A(14)$ is $3.294040$ rounded to six decimal places.\n",
    "\n",
    "Find $\\sum \\limits\\_{r = 1}^{50} A(r)$. Give your answer rounded to six decimal places."
   ]
  },
  {
   "cell_type": "code",
   "execution_count": null,
   "id": "b489ea9d",
   "metadata": {},
   "outputs": [],
   "source": [
    "# Problem 332 workspace"
   ]
  },
  {
   "cell_type": "markdown",
   "id": "df378ec5",
   "metadata": {},
   "source": [
    "## Answer: "
   ]
  },
  {
   "cell_type": "markdown",
   "id": "e5508ad6",
   "metadata": {},
   "source": [
    "___"
   ]
  },
  {
   "cell_type": "markdown",
   "id": "0e3ed7d9",
   "metadata": {},
   "source": [
    "# Problem 333\n",
    " [Source](https://projecteuler.net/problem=333)"
   ]
  },
  {
   "cell_type": "markdown",
   "id": "b0dceca2",
   "metadata": {},
   "source": [
    "All positive integers can be partitioned in such a way that each and every term of the partition can be expressed as $2^i \\times 3^j$, where $i,j \\ge 0$.\n",
    "\n",
    "Let's consider only such partitions where none of the terms can divide any of the other terms.\n",
    "  \n",
    "For example, the partition of $17 = 2 + 6 + 9 = (2^1 \\times 3^0 + 2^1 \\times 3^1 + 2^0 \\times 3^2)$ would not be valid since $2$ can divide $6$. Neither would the partition $17 = 16 + 1 = (2^4 \\times 3^0 + 2^0 \\times 3^0)$ since $1$ can divide $16$. The only valid partition of $17$ would be $8 + 9 = (2^3 \\times 3^0 + 2^0 \\times 3^2)$.\n",
    "\n",
    "Many integers have more than one valid partition, the first being $11$ having the following two partitions.\n",
    "  \n",
    "$11 = 2 + 9 = (2^1 \\times 3^0 + 2^0 \\times 3^2)$\n",
    "  \n",
    "$11 = 8 + 3 = (2^3 \\times 3^0 + 2^0 \\times 3^1)$\n",
    "\n",
    "Let's define $P(n)$ as the number of valid partitions of $n$. For example, $P(11) = 2$.\n",
    "\n",
    "Let's consider only the prime integers $q$ which would have a single valid partition such as $P(17)$.\n",
    "\n",
    "The sum of the primes $q \\lt 100$ such that $P(q)=1$ equals $233$.\n",
    "\n",
    "Find the sum of the primes $q \\lt 1000000$ such that $P(q)=1$."
   ]
  },
  {
   "cell_type": "code",
   "execution_count": null,
   "id": "184d8622",
   "metadata": {},
   "outputs": [],
   "source": [
    "# Problem 333 workspace"
   ]
  },
  {
   "cell_type": "markdown",
   "id": "2a014912",
   "metadata": {},
   "source": [
    "## Answer: "
   ]
  },
  {
   "cell_type": "markdown",
   "id": "1e331a9e",
   "metadata": {},
   "source": [
    "___"
   ]
  },
  {
   "cell_type": "markdown",
   "id": "2d0352df",
   "metadata": {},
   "source": [
    "# Problem 334\n",
    " [Source](https://projecteuler.net/problem=334)"
   ]
  },
  {
   "cell_type": "markdown",
   "id": "9c7bfab7",
   "metadata": {},
   "source": [
    "In Plato's heaven, there exist an infinite number of bowls in a straight line.\n",
    "  \n",
    "Each bowl either contains some or none of a finite number of beans.\n",
    "  \n",
    "A child plays a game, which allows only one kind of move: removing two beans from any bowl, and putting one in each of the two adjacent bowls.\n",
    "  \n",
    "The game ends when each bowl contains either one or no beans.\n",
    "\n",
    "For example, consider two adjacent bowls containing $2$ and $3$ beans respectively, all other bowls being empty. The following eight moves will finish the game:\n",
    "\n",
    "![0334_beans.gif](resources/0334_beans.gif)\n",
    "\n",
    "You are given the following sequences:\n",
    "\n",
    "$\\def\\htmltext#1{\\style{font-family:inherit;}{\\text{#1}}}$\n",
    "$\n",
    "\\begin{align}\n",
    "\\qquad t\\_0 &= 123456,\\cr\n",
    "\\qquad t\\_i &= \\cases{\n",
    "\\;\\;\\frac{t\\_{i-1}}{2},&$\\htmltext{if }t\\_{i-1}\\htmltext{ is even}$\\cr\n",
    "\\left\\lfloor\\frac{t\\_{i-1}}{2}\\right\\rfloor\\oplus 926252,&$\\htmltext{if }t\\_{i-1}\\htmltext{ is odd}$\\cr}\\cr\n",
    "&\\qquad\\htmltext{where }\\lfloor x\\rfloor\\htmltext{ is the floor function }\\cr\n",
    "&\\qquad\\!\\htmltext{and }\\oplus\\htmltext{is the bitwise XOR operator.}\\cr\n",
    "\\qquad b\\_i &= (t\\_i\\bmod2^{11}) + 1.\\cr\n",
    "\\end{align}\n",
    "$\n",
    "\n",
    "The first two terms of the last sequence are $b\\_1 = 289$ and $b\\_2 = 145$.\n",
    "  \n",
    "If we start with $b\\_1$ and $b\\_2$ beans in two adjacent bowls, $3419100$ moves would be required to finish the game.\n",
    "\n",
    "Consider now $1500$ adjacent bowls containing $b\\_1, b\\_2, \\ldots, b\\_{1500}$ beans respectively, all other bowls being empty. Find how many moves it takes before the game ends."
   ]
  },
  {
   "cell_type": "code",
   "execution_count": null,
   "id": "2833372f",
   "metadata": {},
   "outputs": [],
   "source": [
    "# Problem 334 workspace"
   ]
  },
  {
   "cell_type": "markdown",
   "id": "2150dca0",
   "metadata": {},
   "source": [
    "## Answer: "
   ]
  },
  {
   "cell_type": "markdown",
   "id": "bdd9c36f",
   "metadata": {},
   "source": [
    "___"
   ]
  },
  {
   "cell_type": "markdown",
   "id": "df6e062b",
   "metadata": {},
   "source": [
    "# Problem 335\n",
    " [Source](https://projecteuler.net/problem=335)"
   ]
  },
  {
   "cell_type": "markdown",
   "id": "78228b0b",
   "metadata": {},
   "source": [
    "Whenever Peter feels bored, he places some bowls, containing one bean each, in a circle. After this, he takes all the beans out of a certain bowl and drops them one by one in the bowls going clockwise. He repeats this, starting from the bowl he dropped the last bean in, until the initial situation appears again. For example with 5 bowls he acts as follows:\n",
    "\n",
    "![0335_mancala.gif](resources/0335_mancala.gif)\n",
    "\n",
    "So with $5$ bowls it takes Peter $15$ moves to return to the initial situation.\n",
    "\n",
    "Let $M(x)$ represent the number of moves required to return to the initial situation, starting with $x$ bowls. Thus, $M(5) = 15$. It can also be verified that $M(100) = 10920$.\n",
    "\n",
    "Find $\\displaystyle \\sum\\_{k=0}^{10^{18}} M(2^k + 1)$. Give your answer modulo $7^9$."
   ]
  },
  {
   "cell_type": "code",
   "execution_count": null,
   "id": "58546260",
   "metadata": {},
   "outputs": [],
   "source": [
    "# Problem 335 workspace"
   ]
  },
  {
   "cell_type": "markdown",
   "id": "c369efd6",
   "metadata": {},
   "source": [
    "## Answer: "
   ]
  },
  {
   "cell_type": "markdown",
   "id": "7022c97a",
   "metadata": {},
   "source": [
    "___"
   ]
  },
  {
   "cell_type": "markdown",
   "id": "4a356bea",
   "metadata": {},
   "source": [
    "# Problem 336\n",
    " [Source](https://projecteuler.net/problem=336)"
   ]
  },
  {
   "cell_type": "markdown",
   "id": "05488afd",
   "metadata": {},
   "source": [
    "A train is used to transport four carriages in the order: ABCD. However, sometimes when the train arrives to collect the carriages they are not in the correct order.\n",
    "  \n",
    "To rearrange the carriages they are all shunted on to a large rotating turntable. After the carriages are uncoupled at a specific point the train moves off the turntable pulling the carriages still attached with it. The remaining carriages are rotated 180 degrees. All of the carriages are then rejoined and this process is repeated as often as necessary in order to obtain the least number of uses of the turntable.\n",
    "  \n",
    "Some arrangements, such as ADCB, can be solved easily: the carriages are separated between A and D, and after DCB are rotated the correct order has been achieved.\n",
    "\n",
    "However, Simple Simon, the train driver, is not known for his efficiency, so he always solves the problem by initially getting carriage A in the correct place, then carriage B, and so on.\n",
    "\n",
    "Using four carriages, the worst possible arrangements for Simon, which we shall call\n",
    "*maximix arrangements*\n",
    ", are DACB and DBAC; each requiring him five rotations (although, using the most efficient approach, they could be solved using just three rotations). The process he uses for DACB is shown below.\n",
    "\n",
    "![0336_maximix.gif](resources/0336_maximix.gif)\n",
    "\n",
    "It can be verified that there are 24 maximix arrangements for six carriages, of which the tenth lexicographic maximix arrangement is DFAECB.\n",
    "\n",
    "Find the 2011\n",
    "th\n",
    "lexicographic maximix arrangement for eleven carriages."
   ]
  },
  {
   "cell_type": "code",
   "execution_count": null,
   "id": "f6369507",
   "metadata": {},
   "outputs": [],
   "source": [
    "# Problem 336 workspace"
   ]
  },
  {
   "cell_type": "markdown",
   "id": "e3f0ec94",
   "metadata": {},
   "source": [
    "## Answer: "
   ]
  },
  {
   "cell_type": "markdown",
   "id": "7a28dd9f",
   "metadata": {},
   "source": [
    "___"
   ]
  },
  {
   "cell_type": "markdown",
   "id": "0d32f9e5",
   "metadata": {},
   "source": [
    "# Problem 337\n",
    " [Source](https://projecteuler.net/problem=337)"
   ]
  },
  {
   "cell_type": "markdown",
   "id": "43659ece",
   "metadata": {},
   "source": [
    "Let $\\{a\\_1, a\\_2, \\dots, a\\_n\\}$ be an integer sequence of length $n$ such that:\n",
    "\n",
    "* $a\\_1 = 6$\n",
    "* for all $1 \\le i \\lt n$: $\\phi(a\\_i) \\lt \\phi(a\\_{i + 1}) \\lt a\\_i \\lt a\\_{i + 1}$.\n",
    "  1\n",
    "\n",
    "Let $S(N)$ be the number of such sequences with $a\\_n \\le N$.\n",
    "  \n",
    "For example, $S(10) = 4$: $\\{6\\}$, $\\{6, 8\\}$, $\\{6, 8, 9\\}$ and $\\{6, 10\\}$.\n",
    "  \n",
    "We can verify that $S(100) = 482073668$ and $S(10\\,000) \\bmod 10^8 = 73808307$.\n",
    "\n",
    "Find $S(20\\,000\\,000) \\bmod 10^8$.\n",
    "\n",
    "1\n",
    "$\\phi$ denotes\n",
    "**Euler's totient function**\n",
    "."
   ]
  },
  {
   "cell_type": "code",
   "execution_count": null,
   "id": "2b6a9d19",
   "metadata": {},
   "outputs": [],
   "source": [
    "# Problem 337 workspace"
   ]
  },
  {
   "cell_type": "markdown",
   "id": "5f90037d",
   "metadata": {},
   "source": [
    "## Answer: "
   ]
  },
  {
   "cell_type": "markdown",
   "id": "acfcfe16",
   "metadata": {},
   "source": [
    "___"
   ]
  },
  {
   "cell_type": "markdown",
   "id": "9ab5d698",
   "metadata": {},
   "source": [
    "# Problem 338\n",
    " [Source](https://projecteuler.net/problem=338)"
   ]
  },
  {
   "cell_type": "markdown",
   "id": "63de9d67",
   "metadata": {},
   "source": [
    "A rectangular sheet of grid paper with integer dimensions $w \\times h$ is given. Its grid spacing is $1$.\n",
    "  \n",
    "When we cut the sheet along the grid lines into two pieces and rearrange those pieces without overlap, we can make new rectangles with different dimensions.\n",
    "\n",
    "For example, from a sheet with dimensions $9 \\times 4$, we can make rectangles with dimensions $18 \\times 2$, $12 \\times 3$ and $6 \\times 6$ by cutting and rearranging as below:\n",
    "\n",
    "![0338_gridpaper.gif](resources/0338_gridpaper.gif)\n",
    "\n",
    "Similarly, from a sheet with dimensions $9 \\times 8$, we can make rectangles with dimensions $18 \\times 4$ and $12 \\times 6$.\n",
    "\n",
    "For a pair $w$ and $h$, let $F(w, h)$ be the number of distinct rectangles that can be made from a sheet with dimensions $w \\times h$.\n",
    "  \n",
    "For example, $F(2,1) = 0$, $F(2,2) = 1$, $F(9,4) = 3$ and $F(9,8) = 2$.\n",
    "  \n",
    "Note that rectangles congruent to the initial one are not counted in $F(w, h)$.\n",
    "  \n",
    "Note also that rectangles with dimensions $w \\times h$ and dimensions $h \\times w$ are not considered distinct.\n",
    "\n",
    "For an integer $N$, let $G(N)$ be the sum of $F(w, h)$ for all pairs $w$ and $h$ which satisfy $0 \\lt h \\le w \\le N$.\n",
    "  \n",
    "We can verify that $G(10) = 55$, $G(10^3) = 971745$ and $G(10^5) = 9992617687$.\n",
    "\n",
    "Find $G(10^{12})$. Give your answer modulo $10^8$."
   ]
  },
  {
   "cell_type": "code",
   "execution_count": null,
   "id": "842e2f17",
   "metadata": {},
   "outputs": [],
   "source": [
    "# Problem 338 workspace"
   ]
  },
  {
   "cell_type": "markdown",
   "id": "e1f997f1",
   "metadata": {},
   "source": [
    "## Answer: "
   ]
  },
  {
   "cell_type": "markdown",
   "id": "0b040bf5",
   "metadata": {},
   "source": [
    "___"
   ]
  },
  {
   "cell_type": "markdown",
   "id": "a299ed28",
   "metadata": {},
   "source": [
    "# Problem 339\n",
    " [Source](https://projecteuler.net/problem=339)"
   ]
  },
  {
   "cell_type": "markdown",
   "id": "3650f57a",
   "metadata": {},
   "source": [
    "*\"And he came towards a valley, through which ran a river; and the borders of the valley were wooded, and on each side of the river were level meadows. And on one side of the river he saw a flock of white sheep, and on the other a flock of black sheep. And whenever one of the white sheep bleated, one of the black sheep would cross over and become white; and when one of the black sheep bleated, one of the white sheep would cross over and become black.\"*\n",
    "  \n",
    "[en.wikisource.org](http://en.wikisource.org/wiki/The_Mabinogion/Peredur_the_Son_of_Evrawc)\n",
    "\n",
    "Initially each flock consists of $n$ sheep. Each sheep (regardless of colour) is equally likely to be the next sheep to bleat. After a sheep has bleated and a sheep from the other flock has crossed over, Peredur may remove a number of white sheep in order to maximize the expected final number of black sheep. Let $E(n)$ be the expected final number of black sheep if Peredur uses an optimal strategy.\n",
    "\n",
    "You are given that $E(5) = 6.871346$ rounded to $6$ places behind the decimal point.\n",
    "  \n",
    "Find $E(10\\,000)$ and give your answer rounded to $6$ places behind the decimal point."
   ]
  },
  {
   "cell_type": "code",
   "execution_count": null,
   "id": "198249a4",
   "metadata": {},
   "outputs": [],
   "source": [
    "# Problem 339 workspace"
   ]
  },
  {
   "cell_type": "markdown",
   "id": "a71d5b3f",
   "metadata": {},
   "source": [
    "## Answer: "
   ]
  },
  {
   "cell_type": "markdown",
   "id": "0628b4c2",
   "metadata": {},
   "source": [
    "___"
   ]
  },
  {
   "cell_type": "markdown",
   "id": "a2619e35",
   "metadata": {},
   "source": [
    "# Problem 340\n",
    " [Source](https://projecteuler.net/problem=340)"
   ]
  },
  {
   "cell_type": "markdown",
   "id": "7f97ec2e",
   "metadata": {},
   "source": [
    "For fixed integers $a, b, c$, define the\n",
    "crazy function\n",
    "$F(n)$ as follows:\n",
    "  \n",
    "$F(n) = n - c$ for all $n \\gt b$\n",
    "  \n",
    "$F(n) = F(a + F(a + F(a + F(a + n))))$ for all $n \\le b$.\n",
    "\n",
    "Also, define $S(a, b, c) = \\sum \\limits\\_{n = 0}^b F(n)$.\n",
    "\n",
    "For example, if $a = 50$, $b = 2000$ and $c = 40$, then $F(0) = 3240$ and $F(2000) = 2040$.\n",
    "  \n",
    "Also, $S(50, 2000, 40) = 5204240$.\n",
    "\n",
    "Find the last $9$ digits of $S(21^7, 7^{21}, 12^7)$."
   ]
  },
  {
   "cell_type": "code",
   "execution_count": null,
   "id": "621b0b9a",
   "metadata": {},
   "outputs": [],
   "source": [
    "# Problem 340 workspace"
   ]
  },
  {
   "cell_type": "markdown",
   "id": "692cf466",
   "metadata": {},
   "source": [
    "## Answer: "
   ]
  },
  {
   "cell_type": "markdown",
   "id": "fa1241b8",
   "metadata": {},
   "source": [
    "___"
   ]
  }
 ],
 "metadata": {},
 "nbformat": 4,
 "nbformat_minor": 5
}
