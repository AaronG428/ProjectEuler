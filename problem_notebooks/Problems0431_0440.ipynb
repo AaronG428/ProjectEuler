{
 "cells": [
  {
   "cell_type": "markdown",
   "id": "f7d963fb",
   "metadata": {},
   "source": [
    "# Problem 431\n",
    " [Source](https://projecteuler.net/problem=431)"
   ]
  },
  {
   "cell_type": "markdown",
   "id": "f64d6c01",
   "metadata": {},
   "source": [
    "Fred the farmer arranges to have a new storage silo installed on his farm and having an obsession for all things square he is absolutely devastated when he discovers that it is circular. Quentin, the representative from the company that installed the silo, explains that they only manufacture cylindrical silos, but he points out that it is resting on a square base. Fred is not amused and insists that it is removed from his property.\n",
    "\n",
    "Quick thinking Quentin explains that when granular materials are delivered from above a conical slope is formed and the natural angle made with the horizontal is called the angle of repose. For example if the angle of repose, $\\alpha = 30$ degrees, and grain is delivered at the centre of the silo then a perfect cone will form towards the top of the cylinder. In the case of this silo, which has a diameter of $6\\mathrm m$, the amount of space wasted would be approximately $32.648388556\\mathrm{m^3}$. However, if grain is delivered at a point on the top which has a horizontal distance of $x$ metres from the centre then a cone with a strangely curved and sloping base is formed. He shows Fred a picture.\n",
    "\n",
    "![0431_grain_silo.png](resources/0431_grain_silo.png)\n",
    "\n",
    "We shall let the amount of space wasted in cubic metres be given by $V(x)$. If $x = 1.114785284$, which happens to have three squared decimal places, then the amount of space wasted, $V(1.114785284) \\approx 36$. Given the range of possible solutions to this problem there is exactly one other option: $V(2.511167869) \\approx 49$. It would be like knowing that the square is king of the silo, sitting in splendid glory on top of your grain.\n",
    "\n",
    "Fred's eyes light up with delight at this elegant resolution, but on closer inspection of Quentin's drawings and calculations his happiness turns to despondency once more. Fred points out to Quentin that it's the radius of the silo that is $6$ metres, not the diameter, and the angle of repose for his grain is $40$ degrees. However, if Quentin can find a set of solutions for this particular silo then he will be more than happy to keep it.\n",
    "\n",
    "If Quick thinking Quentin is to satisfy frustratingly fussy Fred the farmer's appetite for all things square then determine the values of $x$ for all possible square space wastage options and calculate $\\sum x$ correct to $9$ decimal places."
   ]
  },
  {
   "cell_type": "code",
   "execution_count": null,
   "id": "33498f9e",
   "metadata": {},
   "outputs": [],
   "source": [
    "# Problem 431 workspace"
   ]
  },
  {
   "cell_type": "markdown",
   "id": "56b408f0",
   "metadata": {},
   "source": [
    "## Answer: "
   ]
  },
  {
   "cell_type": "markdown",
   "id": "8d1ae1a8",
   "metadata": {},
   "source": [
    "___"
   ]
  },
  {
   "cell_type": "markdown",
   "id": "c9adc02c",
   "metadata": {},
   "source": [
    "# Problem 432\n",
    " [Source](https://projecteuler.net/problem=432)"
   ]
  },
  {
   "cell_type": "markdown",
   "id": "ca17cf67",
   "metadata": {},
   "source": [
    "Let $S(n,m) = \\sum\\phi(n \\times i)$ for $1 \\leq i \\leq m$. ($\\phi$ is Euler's totient function)\n",
    "  \n",
    "You are given that $S(510510,10^6)= 45480596821125120$.\n",
    "\n",
    "Find $S(510510,10^{11})$.\n",
    "  \n",
    "Give the last $9$ digits of your answer."
   ]
  },
  {
   "cell_type": "code",
   "execution_count": null,
   "id": "69bd544a",
   "metadata": {},
   "outputs": [],
   "source": [
    "# Problem 432 workspace"
   ]
  },
  {
   "cell_type": "markdown",
   "id": "2ca35014",
   "metadata": {},
   "source": [
    "## Answer: "
   ]
  },
  {
   "cell_type": "markdown",
   "id": "e74dfbcc",
   "metadata": {},
   "source": [
    "___"
   ]
  },
  {
   "cell_type": "markdown",
   "id": "164ccb6f",
   "metadata": {},
   "source": [
    "# Problem 433\n",
    " [Source](https://projecteuler.net/problem=433)"
   ]
  },
  {
   "cell_type": "markdown",
   "id": "814b7a8a",
   "metadata": {},
   "source": [
    "Let $E(x\\_0, y\\_0)$ be the number of steps it takes to determine the greatest common divisor of $x\\_0$ and $y\\_0$ with\n",
    "**Euclid's algorithm**\n",
    ". More formally:\n",
    "  \n",
    "$x\\_1 = y\\_0$, $y\\_1 = x\\_0 \\bmod y\\_0$\n",
    "  \n",
    "$x\\_n = y\\_{n-1}$, $y\\_n = x\\_{n-1} \\bmod y\\_{n-1}$\n",
    "  \n",
    "$E(x\\_0, y\\_0)$ is the smallest $n$ such that $y\\_n = 0$.\n",
    "\n",
    "We have $E(1,1) = 1$, $E(10,6) = 3$ and $E(6,10) = 4$.\n",
    "\n",
    "Define $S(N)$ as the sum of $E(x,y)$ for $1 \\leq x,y \\leq N$.\n",
    "  \n",
    "We have $S(1) = 1$, $S(10) = 221$ and $S(100) = 39826$.\n",
    "\n",
    "Find $S(5\\cdot 10^6)$."
   ]
  },
  {
   "cell_type": "code",
   "execution_count": null,
   "id": "3131d5a8",
   "metadata": {},
   "outputs": [],
   "source": [
    "# Problem 433 workspace"
   ]
  },
  {
   "cell_type": "markdown",
   "id": "2c025532",
   "metadata": {},
   "source": [
    "## Answer: "
   ]
  },
  {
   "cell_type": "markdown",
   "id": "6d6a1a4c",
   "metadata": {},
   "source": [
    "___"
   ]
  },
  {
   "cell_type": "markdown",
   "id": "26ce6d39",
   "metadata": {},
   "source": [
    "# Problem 434\n",
    " [Source](https://projecteuler.net/problem=434)"
   ]
  },
  {
   "cell_type": "markdown",
   "id": "ff46c331",
   "metadata": {},
   "source": [
    "Recall that a graph is a collection of vertices and edges connecting the vertices, and that two vertices connected by an edge are called adjacent.\n",
    "  \n",
    "Graphs can be embedded in Euclidean space by associating each vertex with a point in the Euclidean space.\n",
    "  \n",
    "A\n",
    "**flexible**\n",
    "graph is an embedding of a graph where it is possible to move one or more vertices continuously so that the distance between at least two nonadjacent vertices is altered while the distances between each pair of adjacent vertices is kept constant.\n",
    "  \n",
    "A\n",
    "**rigid**\n",
    "graph is an embedding of a graph which is not flexible.\n",
    "  \n",
    "Informally, a graph is rigid if by replacing the vertices with fully rotating hinges and the edges with rods that are unbending and inelastic, no parts of the graph can be moved independently from the rest of the graph.\n",
    "\n",
    "The\n",
    "**grid graphs**\n",
    "embedded in the Euclidean plane are not rigid, as the following animation demonstrates:\n",
    "\n",
    "![0434_rigid.gif](resources/0434_rigid.gif)\n",
    "\n",
    "However, one can make them rigid by adding diagonal edges to the cells. For example, for the $2\\times 3$ grid graph, there are $19$ ways to make the graph rigid:\n",
    "\n",
    "![0434_rigid23.png](resources/0434_rigid23.png)\n",
    "\n",
    "Note that for the purposes of this problem, we do not consider changing the orientation of a diagonal edge or adding both diagonal edges to a cell as a different way of making a grid graph rigid.\n",
    "\n",
    "Let $R(m,n)$ be the number of ways to make the $m \\times n$ grid graph rigid.\n",
    "  \n",
    "E.g. $R(2,3) = 19$ and $R(5,5) = 23679901$.\n",
    "\n",
    "Define $S(N)$ as $\\sum R(i,j)$ for $1 \\leq i, j \\leq N$.\n",
    "  \n",
    "E.g. $S(5) = 25021721$.\n",
    "  \n",
    "Find $S(100)$, give your answer modulo $1000000033$."
   ]
  },
  {
   "cell_type": "code",
   "execution_count": null,
   "id": "5a60f19b",
   "metadata": {},
   "outputs": [],
   "source": [
    "# Problem 434 workspace"
   ]
  },
  {
   "cell_type": "markdown",
   "id": "7d1bc728",
   "metadata": {},
   "source": [
    "## Answer: "
   ]
  },
  {
   "cell_type": "markdown",
   "id": "551dc692",
   "metadata": {},
   "source": [
    "___"
   ]
  },
  {
   "cell_type": "markdown",
   "id": "51d4de24",
   "metadata": {},
   "source": [
    "# Problem 435\n",
    " [Source](https://projecteuler.net/problem=435)"
   ]
  },
  {
   "cell_type": "markdown",
   "id": "37583535",
   "metadata": {},
   "source": [
    "The\n",
    "**Fibonacci numbers**\n",
    "$\\{f\\_n, n \\ge 0\\}$ are defined recursively as $f\\_n = f\\_{n-1} + f\\_{n-2}$ with base cases $f\\_0 = 0$ and $f\\_1 = 1$.\n",
    "\n",
    "Define the polynomials $\\{F\\_n, n \\ge 0\\}$ as $F\\_n(x) = \\displaystyle{\\sum\\_{i=0}^n f\\_i x^i}$.\n",
    "\n",
    "For example, $F\\_7(x) = x + x^2 + 2x^3 + 3x^4 + 5x^5 + 8x^6 + 13x^7$, and $F\\_7(11) = 268\\,357\\,683$.\n",
    "\n",
    "Let $n = 10^{15}$. Find the sum $\\displaystyle{\\sum\\_{x=0}^{100} F\\_n(x)}$ and give your answer modulo $1\\,307\\,674\\,368\\,000 \\ (= 15!)$."
   ]
  },
  {
   "cell_type": "code",
   "execution_count": null,
   "id": "cdbea782",
   "metadata": {},
   "outputs": [],
   "source": [
    "# Problem 435 workspace"
   ]
  },
  {
   "cell_type": "markdown",
   "id": "857ff708",
   "metadata": {},
   "source": [
    "## Answer: "
   ]
  },
  {
   "cell_type": "markdown",
   "id": "e504a1b5",
   "metadata": {},
   "source": [
    "___"
   ]
  },
  {
   "cell_type": "markdown",
   "id": "53e21986",
   "metadata": {},
   "source": [
    "# Problem 436\n",
    " [Source](https://projecteuler.net/problem=436)"
   ]
  },
  {
   "cell_type": "markdown",
   "id": "ac9f129a",
   "metadata": {},
   "source": [
    "Julie proposes the following wager to her sister Louise.\n",
    "  \n",
    "She suggests they play a game of chance to determine who will wash the dishes.\n",
    "  \n",
    "For this game, they shall use a generator of independent random numbers uniformly distributed between $0$ and $1$.\n",
    "  \n",
    "The game starts with $S = 0$.\n",
    "  \n",
    "The first player, Louise, adds to $S$ different random numbers from the generator until $S \\gt 1$ and records her last random number '$x$'.\n",
    "  \n",
    "The second player, Julie, continues adding to $S$ different random numbers from the generator until $S \\gt 2$ and records her last random number '$y$'.\n",
    "  \n",
    "The player with the highest number wins and the loser washes the dishes, i.e. if $y \\gt x$ the second player wins.\n",
    "\n",
    "For example, if the first player draws $0.62$ and $0.44$, the first player turn ends since $0.62+0.44 \\gt 1$ and $x = 0.44$.\n",
    "  \n",
    "If the second players draws $0.1$, $0.27$ and $0.91$, the second player turn ends since $0.62+0.44+0.1+0.27+0.91 \\gt 2$ and $y = 0.91$.\n",
    "Since $y \\gt x$, the second player wins.\n",
    "\n",
    "Louise thinks about it for a second, and objects: \"That's not fair\".\n",
    "  \n",
    "What is the probability that the second player wins?\n",
    "  \n",
    "Give your answer rounded to $10$ places behind the decimal point in the form 0.abcdefghij."
   ]
  },
  {
   "cell_type": "code",
   "execution_count": null,
   "id": "e1559063",
   "metadata": {},
   "outputs": [],
   "source": [
    "# Problem 436 workspace"
   ]
  },
  {
   "cell_type": "markdown",
   "id": "3941335c",
   "metadata": {},
   "source": [
    "## Answer: "
   ]
  },
  {
   "cell_type": "markdown",
   "id": "b4a28223",
   "metadata": {},
   "source": [
    "___"
   ]
  },
  {
   "cell_type": "markdown",
   "id": "40ac8d9b",
   "metadata": {},
   "source": [
    "# Problem 437\n",
    " [Source](https://projecteuler.net/problem=437)"
   ]
  },
  {
   "cell_type": "markdown",
   "id": "97de6c40",
   "metadata": {},
   "source": [
    "When we calculate $8^n$ modulo $11$ for $n=0$ to $9$ we get: $1, 8, 9, 6, 4, 10, 3, 2, 5, 7$.\n",
    "  \n",
    "As we see all possible values from $1$ to $10$ occur. So $8$ is a\n",
    "**primitive root**\n",
    "of $11$.\n",
    "  \n",
    "But there is more:\n",
    "  \n",
    "If we take a closer look we see:\n",
    "  \n",
    "$1+8=9$\n",
    "  \n",
    "$8+9=17 \\equiv 6 \\bmod 11$\n",
    "  \n",
    "$9+6=15 \\equiv 4 \\bmod 11$\n",
    "  \n",
    "$6+4=10$\n",
    "  \n",
    "$4+10=14 \\equiv 3 \\bmod 11$\n",
    "  \n",
    "$10+3=13 \\equiv 2 \\bmod 11$\n",
    "  \n",
    "$3+2=5$\n",
    "  \n",
    "$2+5=7$\n",
    "  \n",
    "$5+7=12 \\equiv 1 \\bmod 11$.\n",
    "\n",
    "So the powers of $8 \\bmod 11$ are cyclic with period $10$, and $8^n + 8^{n+1} \\equiv 8^{n+2} \\pmod{11}$.\n",
    "  \n",
    "$8$ is called a\n",
    "**Fibonacci primitive root**\n",
    "of $11$.\n",
    "  \n",
    "Not every prime has a Fibonacci primitive root.\n",
    "  \n",
    "There are $323$ primes less than $10000$ with one or more Fibonacci primitive roots and the sum of these primes is $1480491$.\n",
    "  \n",
    "Find the sum of the primes less than $100\\,000\\,000$ with at least one Fibonacci primitive root."
   ]
  },
  {
   "cell_type": "code",
   "execution_count": null,
   "id": "daa40321",
   "metadata": {},
   "outputs": [],
   "source": [
    "# Problem 437 workspace"
   ]
  },
  {
   "cell_type": "markdown",
   "id": "f776ec11",
   "metadata": {},
   "source": [
    "## Answer: "
   ]
  },
  {
   "cell_type": "markdown",
   "id": "ad231983",
   "metadata": {},
   "source": [
    "___"
   ]
  },
  {
   "cell_type": "markdown",
   "id": "70df48bf",
   "metadata": {},
   "source": [
    "# Problem 438\n",
    " [Source](https://projecteuler.net/problem=438)"
   ]
  },
  {
   "cell_type": "markdown",
   "id": "b2d505ec",
   "metadata": {},
   "source": [
    "For an $n$-tuple of integers $t = (a\\_1, \\dots, a\\_n)$, let $(x\\_1, \\dots, x\\_n)$ be the solutions of the polynomial equation $x^n + a\\_1 x^{n-1} + a\\_2 x^{n-2} + \\cdots + a\\_{n-1}x + a\\_n = 0$.\n",
    "\n",
    "Consider the following two conditions:\n",
    "\n",
    "* $x\\_1, \\dots, x\\_n$ are all real.\n",
    "* If $x\\_1, \\dots, x\\_n$ are sorted, $\\lfloor x\\_i\\rfloor = i$ for $1 \\leq i \\leq n$. ($\\lfloor \\cdot \\rfloor$: floor function.)\n",
    "\n",
    "In the case of $n = 4$, there are $12$ $n$-tuples of integers which satisfy both conditions.\n",
    "  \n",
    "We define $S(t)$ as the sum of the absolute values of the integers in $t$.\n",
    "  \n",
    "For $n = 4$ we can verify that $\\sum S(t) = 2087$ for all $n$-tuples $t$ which satisfy both conditions.\n",
    "\n",
    "Find $\\sum S(t)$ for $n = 7$."
   ]
  },
  {
   "cell_type": "code",
   "execution_count": null,
   "id": "47dac843",
   "metadata": {},
   "outputs": [],
   "source": [
    "# Problem 438 workspace"
   ]
  },
  {
   "cell_type": "markdown",
   "id": "23902065",
   "metadata": {},
   "source": [
    "## Answer: "
   ]
  },
  {
   "cell_type": "markdown",
   "id": "2e03806e",
   "metadata": {},
   "source": [
    "___"
   ]
  },
  {
   "cell_type": "markdown",
   "id": "628ecc4d",
   "metadata": {},
   "source": [
    "# Problem 439\n",
    " [Source](https://projecteuler.net/problem=439)"
   ]
  },
  {
   "cell_type": "markdown",
   "id": "0d007915",
   "metadata": {},
   "source": [
    "Let $d(k)$ be the sum of all divisors of $k$.\n",
    "  \n",
    "We define the function $S(N) = \\sum\\_{i=1}^N \\sum\\_{j=1}^Nd(i \\cdot j)$.\n",
    "  \n",
    "For example, $S(3) = d(1) + d(2) + d(3) + d(2) + d(4) + d(6) + d(3) + d(6) + d(9) = 59$.\n",
    "\n",
    "You are given that $S(10^3) = 563576517282$ and $S(10^5) \\bmod 10^9 = 215766508$.\n",
    "  \n",
    "Find $S(10^{11}) \\bmod 10^9$."
   ]
  },
  {
   "cell_type": "code",
   "execution_count": null,
   "id": "fd446715",
   "metadata": {},
   "outputs": [],
   "source": [
    "# Problem 439 workspace"
   ]
  },
  {
   "cell_type": "markdown",
   "id": "d2281ab3",
   "metadata": {},
   "source": [
    "## Answer: "
   ]
  },
  {
   "cell_type": "markdown",
   "id": "11fd00fc",
   "metadata": {},
   "source": [
    "___"
   ]
  },
  {
   "cell_type": "markdown",
   "id": "b3994bd3",
   "metadata": {},
   "source": [
    "# Problem 440\n",
    " [Source](https://projecteuler.net/problem=440)"
   ]
  },
  {
   "cell_type": "markdown",
   "id": "91c955a8",
   "metadata": {},
   "source": [
    "We want to tile a board of length $n$ and height $1$ completely, with either $1 \\times 2$ blocks or $1 \\times 1$ blocks with a single decimal digit on top:\n",
    "\n",
    "![0440_tiles.png](resources/0440_tiles.png)\n",
    "\n",
    "For example, here are some of the ways to tile a board of length $n = 8$:\n",
    "\n",
    "![0440_some8.png](resources/0440_some8.png)\n",
    "\n",
    "Let $T(n)$ be the number of ways to tile a board of length $n$ as described above.\n",
    "\n",
    "For example, $T(1) = 10$ and $T(2) = 101$.\n",
    "\n",
    "Let $S(L)$ be the triple sum $\\sum\\_{a, b, c}\\gcd(T(c^a), T(c^b))$ for $1 \\leq a, b, c \\leq L$.\n",
    "  \n",
    "For example:\n",
    "  \n",
    "$S(2) = 10444$\n",
    "  \n",
    "$S(3) = 1292115238446807016106539989$\n",
    "  \n",
    "$S(4) \\bmod 987\\,898\\,789 = 670616280$.\n",
    "\n",
    "Find $S(2000) \\bmod 987\\,898\\,789$."
   ]
  },
  {
   "cell_type": "code",
   "execution_count": null,
   "id": "496ffb81",
   "metadata": {},
   "outputs": [],
   "source": [
    "# Problem 440 workspace"
   ]
  },
  {
   "cell_type": "markdown",
   "id": "df524ef0",
   "metadata": {},
   "source": [
    "## Answer: "
   ]
  },
  {
   "cell_type": "markdown",
   "id": "51691fd8",
   "metadata": {},
   "source": [
    "___"
   ]
  }
 ],
 "metadata": {},
 "nbformat": 4,
 "nbformat_minor": 5
}
