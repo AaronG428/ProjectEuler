{
 "cells": [
  {
   "cell_type": "markdown",
   "id": "873cb12e",
   "metadata": {},
   "source": [
    "# Problem 301\n",
    " [Source](https://projecteuler.net/problem=301)"
   ]
  },
  {
   "cell_type": "markdown",
   "id": "5f07a2e5",
   "metadata": {},
   "source": [
    "Nim\n",
    "is a game played with heaps of stones, where two players take it in turn to remove any number of stones from any heap until no stones remain.\n",
    "\n",
    "We'll consider the three-heap normal-play version of Nim, which works as follows:\n",
    "\n",
    "* At the start of the game there are three heaps of stones.\n",
    "* On each player's turn, the player may remove any positive number of stones from any single heap.\n",
    "* The first player unable to move (because no stones remain) loses.\n",
    "\n",
    "If $(n\\_1,n\\_2,n\\_3)$ indicates a Nim position consisting of heaps of size $n\\_1$, $n\\_2$, and $n\\_3$, then there is a simple function, which you may look up or attempt to deduce for yourself, $X(n\\_1,n\\_2,n\\_3)$ that returns:\n",
    "\n",
    "* zero if, with perfect strategy, the player about to move will eventually lose; or\n",
    "* non-zero if, with perfect strategy, the player about to move will eventually win.\n",
    "\n",
    "For example $X(1,2,3) = 0$ because, no matter what the current player does, the opponent can respond with a move that leaves two heaps of equal size, at which point every move by the current player can be mirrored by the opponent until no stones remain; so the current player loses. To illustrate:\n",
    "\n",
    "* current player moves to $(1,2,1)$\n",
    "* opponent moves to $(1,0,1)$\n",
    "* current player moves to $(0,0,1)$\n",
    "* opponent moves to $(0,0,0)$, and so wins.\n",
    "\n",
    "For how many positive integers $n \\le 2^{30}$ does $X(n,2n,3n) = 0$ ?"
   ]
  },
  {
   "cell_type": "code",
   "execution_count": null,
   "id": "8c3a1967",
   "metadata": {},
   "outputs": [],
   "source": [
    "# Problem 301 workspace"
   ]
  },
  {
   "cell_type": "markdown",
   "id": "6b34b2d6",
   "metadata": {},
   "source": [
    "## Answer: "
   ]
  },
  {
   "cell_type": "markdown",
   "id": "ff527da2",
   "metadata": {},
   "source": [
    "___"
   ]
  },
  {
   "cell_type": "markdown",
   "id": "c1417a05",
   "metadata": {},
   "source": [
    "# Problem 302\n",
    " [Source](https://projecteuler.net/problem=302)"
   ]
  },
  {
   "cell_type": "markdown",
   "id": "01d44bb7",
   "metadata": {},
   "source": [
    "A positive integer $n$ is\n",
    "**powerful**\n",
    "if $p^2$ is a divisor of $n$ for every prime factor $p$ in $n$.\n",
    "\n",
    "A positive integer $n$ is a\n",
    "**perfect power**\n",
    "if $n$ can be expressed as a power of another positive integer.\n",
    "\n",
    "A positive integer $n$ is an\n",
    "**Achilles number**\n",
    "if $n$ is powerful but not a perfect power. For example, $864$ and $1800$ are Achilles numbers: $864 = 2^5 \\cdot 3^3$ and $1800 = 2^3 \\cdot 3^2 \\cdot 5^2$.\n",
    "\n",
    "We shall call a positive integer $S$ a\n",
    "Strong Achilles number\n",
    "if both $S$ and $\\phi(S)$ are Achilles numbers.\n",
    "1\n",
    "  \n",
    "For example, $864$ is a Strong Achilles number: $\\phi(864) = 288 = 2^5 \\cdot 3^2$. However, $1800$ isn't a Strong Achilles number because: $\\phi(1800) = 480 = 2^5 \\cdot 3^1 \\cdot 5^1$.\n",
    "\n",
    "There are $7$ Strong Achilles numbers below $10^4$ and $656$ below $10^8$.\n",
    "\n",
    "How many Strong Achilles numbers are there below $10^{18}$?\n",
    "\n",
    "1\n",
    "$\\phi$ denotes\n",
    "**Euler's totient function**\n",
    "."
   ]
  },
  {
   "cell_type": "code",
   "execution_count": null,
   "id": "16aae6d1",
   "metadata": {},
   "outputs": [],
   "source": [
    "# Problem 302 workspace"
   ]
  },
  {
   "cell_type": "markdown",
   "id": "b312daa4",
   "metadata": {},
   "source": [
    "## Answer: "
   ]
  },
  {
   "cell_type": "markdown",
   "id": "5ed50f8c",
   "metadata": {},
   "source": [
    "___"
   ]
  },
  {
   "cell_type": "markdown",
   "id": "7daea39f",
   "metadata": {},
   "source": [
    "# Problem 303\n",
    " [Source](https://projecteuler.net/problem=303)"
   ]
  },
  {
   "cell_type": "markdown",
   "id": "4af8193b",
   "metadata": {},
   "source": [
    "For a positive integer $n$, define $f(n)$ as the least positive multiple of $n$ that, written in base $10$, uses only digits $\\le 2$.\n",
    "\n",
    "Thus $f(2)=2$, $f(3)=12$, $f(7)=21$, $f(42)=210$, $f(89)=1121222$.\n",
    "\n",
    "Also, $\\sum \\limits\\_{n = 1}^{100} {\\dfrac{f(n)}{n}} = 11363107$.\n",
    "\n",
    "Find $\\sum \\limits\\_{n=1}^{10000} {\\dfrac{f(n)}{n}}$."
   ]
  },
  {
   "cell_type": "code",
   "execution_count": null,
   "id": "ea42d981",
   "metadata": {},
   "outputs": [],
   "source": [
    "# Problem 303 workspace"
   ]
  },
  {
   "cell_type": "markdown",
   "id": "6c47d702",
   "metadata": {},
   "source": [
    "## Answer: "
   ]
  },
  {
   "cell_type": "markdown",
   "id": "2639e4a7",
   "metadata": {},
   "source": [
    "___"
   ]
  },
  {
   "cell_type": "markdown",
   "id": "b206991a",
   "metadata": {},
   "source": [
    "# Problem 304\n",
    " [Source](https://projecteuler.net/problem=304)"
   ]
  },
  {
   "cell_type": "markdown",
   "id": "5f90eec5",
   "metadata": {},
   "source": [
    "For any positive integer $n$ the function $\\operatorname{next\\\\_prime}(n)$ returns the smallest prime $p$ such that $p \\gt n$.\n",
    "\n",
    "The sequence $a(n)$ is defined by:\n",
    "  \n",
    "$a(1)=\\operatorname{next\\\\_prime}(10^{14})$ and $a(n)=\\operatorname{next\\\\_prime}(a(n-1))$ for $n \\gt 1$.\n",
    "\n",
    "The Fibonacci sequence $f(n)$ is defined by:\n",
    "$f(0)=0$, $f(1)=1$ and $f(n)=f(n-1)+f(n-2)$ for $n \\gt 1$.\n",
    "\n",
    "The sequence $b(n)$ is defined as $f(a(n))$.\n",
    "\n",
    "Find $\\sum b(n)$ for $1 \\le n \\le 100\\,000$.\n",
    "Give your answer mod $1234567891011$."
   ]
  },
  {
   "cell_type": "code",
   "execution_count": null,
   "id": "a86f4f23",
   "metadata": {},
   "outputs": [],
   "source": [
    "# Problem 304 workspace"
   ]
  },
  {
   "cell_type": "markdown",
   "id": "c8bef66f",
   "metadata": {},
   "source": [
    "## Answer: "
   ]
  },
  {
   "cell_type": "markdown",
   "id": "415cf417",
   "metadata": {},
   "source": [
    "___"
   ]
  },
  {
   "cell_type": "markdown",
   "id": "7d9cc14a",
   "metadata": {},
   "source": [
    "# Problem 305\n",
    " [Source](https://projecteuler.net/problem=305)"
   ]
  },
  {
   "cell_type": "markdown",
   "id": "7c175d95",
   "metadata": {},
   "source": [
    "Let's call $S$ the (infinite) string that is made by concatenating the consecutive positive integers (starting from $1$) written down in base $10$.\n",
    "  \n",
    "Thus, $S = 1234567891011121314151617181920212223242\\cdots$\n",
    "\n",
    "It's easy to see that any number will show up an infinite number of times in $S$.\n",
    "\n",
    "Let's call $f(n)$ the starting position of the $n$\n",
    "th\n",
    "occurrence of $n$ in $S$.\n",
    "  \n",
    "For example, $f(1)=1$, $f(5)=81$, $f(12)=271$ and $f(7780)=111111365$.\n",
    "\n",
    "Find $\\sum f(3^k)$ for $1 \\le k \\le 13$."
   ]
  },
  {
   "cell_type": "code",
   "execution_count": null,
   "id": "e1d6519f",
   "metadata": {},
   "outputs": [],
   "source": [
    "# Problem 305 workspace"
   ]
  },
  {
   "cell_type": "markdown",
   "id": "efbd6e5f",
   "metadata": {},
   "source": [
    "## Answer: "
   ]
  },
  {
   "cell_type": "markdown",
   "id": "6f67a0d3",
   "metadata": {},
   "source": [
    "___"
   ]
  },
  {
   "cell_type": "markdown",
   "id": "af8d28bc",
   "metadata": {},
   "source": [
    "# Problem 306\n",
    " [Source](https://projecteuler.net/problem=306)"
   ]
  },
  {
   "cell_type": "markdown",
   "id": "b3739e7d",
   "metadata": {},
   "source": [
    "The following game is a classic example of Combinatorial Game Theory:\n",
    "\n",
    "Two players start with a strip of $n$ white squares and they take alternate turns.\n",
    "  \n",
    "On each turn, a player picks two contiguous white squares and paints them black.\n",
    "  \n",
    "The first player who cannot make a move loses.\n",
    "\n",
    "* $n = 1$: No valid moves, so the first player loses automatically.\n",
    "* $n = 2$: Only one valid move, after which the second player loses.\n",
    "* $n = 3$: Two valid moves, but both leave a situation where the second player loses.\n",
    "* $n = 4$: Three valid moves for the first player, who is able to win the game by painting the two middle squares.\n",
    "* $n = 5$: Four valid moves for the first player (shown below in red), but no matter what the player does, the second player (blue) wins.\n",
    "\n",
    "![0306_pstrip.gif](resources/0306_pstrip.gif)\n",
    "\n",
    "So, for $1 \\le n \\le 5$, there are 3 values of $n$ for which the first player can force a win.\n",
    "  \n",
    "Similarly, for $1 \\le n \\le 50$, there are 40 values of $n$ for which the first player can force a win.\n",
    "\n",
    "For $1 \\le n \\le 1 000 000$, how many values of $n$ are there for which the first player can force a win?"
   ]
  },
  {
   "cell_type": "code",
   "execution_count": null,
   "id": "f9d6467c",
   "metadata": {},
   "outputs": [],
   "source": [
    "# Problem 306 workspace"
   ]
  },
  {
   "cell_type": "markdown",
   "id": "92fbf970",
   "metadata": {},
   "source": [
    "## Answer: "
   ]
  },
  {
   "cell_type": "markdown",
   "id": "fb7d67a4",
   "metadata": {},
   "source": [
    "___"
   ]
  },
  {
   "cell_type": "markdown",
   "id": "cb9415e6",
   "metadata": {},
   "source": [
    "# Problem 307\n",
    " [Source](https://projecteuler.net/problem=307)"
   ]
  },
  {
   "cell_type": "markdown",
   "id": "a9437983",
   "metadata": {},
   "source": [
    "$k$ defects are randomly distributed amongst $n$ integrated-circuit chips produced by a factory (any number of defects may be found on a chip and each defect is independent of the other defects).\n",
    "\n",
    "Let $p(k, n)$ represent the probability that there is a chip with at least $3$ defects.\n",
    "  \n",
    "For instance $p(3,7) \\approx 0.0204081633$.\n",
    "\n",
    "Find $p(20\\,000, 1\\,000\\,000)$ and give your answer rounded to $10$ decimal places in the form 0.abcdefghij."
   ]
  },
  {
   "cell_type": "code",
   "execution_count": null,
   "id": "33b7e444",
   "metadata": {},
   "outputs": [],
   "source": [
    "# Problem 307 workspace"
   ]
  },
  {
   "cell_type": "markdown",
   "id": "e3cf486c",
   "metadata": {},
   "source": [
    "## Answer: "
   ]
  },
  {
   "cell_type": "markdown",
   "id": "e352e06e",
   "metadata": {},
   "source": [
    "___"
   ]
  },
  {
   "cell_type": "markdown",
   "id": "36359336",
   "metadata": {},
   "source": [
    "# Problem 308\n",
    " [Source](https://projecteuler.net/problem=308)"
   ]
  },
  {
   "cell_type": "markdown",
   "id": "da7d582f",
   "metadata": {},
   "source": [
    "A program written in the programming language Fractran consists of a list of fractions.\n",
    "\n",
    "The internal state of the Fractran Virtual Machine is a positive integer, which is initially set to a seed value. Each iteration of a Fractran program multiplies the state integer by the first fraction in the list which will leave it an integer.\n",
    "\n",
    "For example, one of the Fractran programs that John Horton Conway wrote for prime-generation consists of the following 14 fractions:\n",
    "\n",
    "$$\\dfrac{17}{91}, \\dfrac{78}{85}, \\dfrac{19}{51}, \\dfrac{23}{38}, \\dfrac{29}{33}, \\dfrac{77}{29}, \\dfrac{95}{23}, \\dfrac{77}{19}, \\dfrac{1}{17}, \\dfrac{11}{13}, \\dfrac{13}{11}, \\dfrac{15}{2}, \\dfrac{1}{7}, \\dfrac{55}{1}$$\n",
    "\n",
    "Starting with the seed integer 2, successive iterations of the program produce the sequence:\n",
    "  \n",
    "15, 825, 725, 1925, 2275, 425, ..., 68,\n",
    "**4**\n",
    ", 30, ..., 136,\n",
    "**8**\n",
    ", 60, ..., 544,\n",
    "**32**\n",
    ", 240, ...\n",
    "\n",
    "The powers of 2 that appear in this sequence are 2\n",
    "2\n",
    ", 2\n",
    "3\n",
    ", 2\n",
    "5\n",
    ", ...\n",
    "  \n",
    "It can be shown that\n",
    "*all*\n",
    "the powers of 2 in this sequence have prime exponents and that\n",
    "*all*\n",
    "the primes appear as exponents of powers of 2, in proper order!\n",
    "\n",
    "If someone uses the above Fractran program to solve Project Euler Problem 7 (find the 10001\n",
    "st\n",
    "prime), how many iterations would be needed until the program produces 2\n",
    "10001st prime\n",
    "?"
   ]
  },
  {
   "cell_type": "code",
   "execution_count": null,
   "id": "ed40d3c9",
   "metadata": {},
   "outputs": [],
   "source": [
    "# Problem 308 workspace"
   ]
  },
  {
   "cell_type": "markdown",
   "id": "62fd00f8",
   "metadata": {},
   "source": [
    "## Answer: "
   ]
  },
  {
   "cell_type": "markdown",
   "id": "34991e56",
   "metadata": {},
   "source": [
    "___"
   ]
  },
  {
   "cell_type": "markdown",
   "id": "d795b280",
   "metadata": {},
   "source": [
    "# Problem 309\n",
    " [Source](https://projecteuler.net/problem=309)"
   ]
  },
  {
   "cell_type": "markdown",
   "id": "69295f65",
   "metadata": {},
   "source": [
    "In the classic \"Crossing Ladders\" problem, we are given the lengths $x$ and $y$ of two ladders resting on the opposite walls of a narrow, level street. We are also given the height $h$ above the street where the two ladders cross and we are asked to find the width of the street ($w$).\n",
    "\n",
    "![0309_ladders.gif](resources/0309_ladders.gif)\n",
    "\n",
    "Here, we are only concerned with instances where all four variables are positive integers.\n",
    "  \n",
    "For example, if $x = 70$, $y = 119$ and $h = 30$, we can calculate that $w = 56$.\n",
    "\n",
    "In fact, for integer values $x$, $y$, $h$ and $0 \\lt x \\lt y \\lt 200$, there are only five triplets $(x, y, h)$ producing integer solutions for $w$:\n",
    "  \n",
    "$(70, 119, 30)$, $(74, 182, 21)$, $(87, 105, 35)$, $(100, 116, 35)$ and $(119, 175, 40)$.\n",
    "\n",
    "For integer values $x, y, h$ and $0 \\lt x \\lt y \\lt 1\\,000\\,000$, how many triplets $(x, y, h)$ produce integer solutions for $w$?"
   ]
  },
  {
   "cell_type": "code",
   "execution_count": null,
   "id": "3bf7755b",
   "metadata": {},
   "outputs": [],
   "source": [
    "# Problem 309 workspace"
   ]
  },
  {
   "cell_type": "markdown",
   "id": "139f5459",
   "metadata": {},
   "source": [
    "## Answer: "
   ]
  },
  {
   "cell_type": "markdown",
   "id": "d7342a5b",
   "metadata": {},
   "source": [
    "___"
   ]
  },
  {
   "cell_type": "markdown",
   "id": "f07e68d7",
   "metadata": {},
   "source": [
    "# Problem 310\n",
    " [Source](https://projecteuler.net/problem=310)"
   ]
  },
  {
   "cell_type": "markdown",
   "id": "e08617a4",
   "metadata": {},
   "source": [
    "Alice and Bob play the game Nim Square.\n",
    "  \n",
    "Nim Square is just like ordinary three-heap normal play Nim, but the players may only remove a square number of stones from a heap.\n",
    "  \n",
    "The number of stones in the three heaps is represented by the ordered triple $(a,b,c)$.\n",
    "  \n",
    "If $0 \\le a \\le b \\le c \\le 29$ then the number of losing positions for the next player is $1160$.\n",
    "\n",
    "Find the number of losing positions for the next player if $0 \\le a \\le b \\le c \\le 100\\,000$."
   ]
  },
  {
   "cell_type": "code",
   "execution_count": null,
   "id": "762b40de",
   "metadata": {},
   "outputs": [],
   "source": [
    "# Problem 310 workspace"
   ]
  },
  {
   "cell_type": "markdown",
   "id": "77f7b4a5",
   "metadata": {},
   "source": [
    "## Answer: "
   ]
  },
  {
   "cell_type": "markdown",
   "id": "5c89a775",
   "metadata": {},
   "source": [
    "___"
   ]
  }
 ],
 "metadata": {},
 "nbformat": 4,
 "nbformat_minor": 5
}
