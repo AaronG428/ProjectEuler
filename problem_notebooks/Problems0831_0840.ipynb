{
 "cells": [
  {
   "cell_type": "markdown",
   "id": "01733b3d",
   "metadata": {},
   "source": [
    "# Problem 831\n",
    " [Source](https://projecteuler.net/problem=831)"
   ]
  },
  {
   "cell_type": "markdown",
   "id": "f473099d",
   "metadata": {},
   "source": [
    "Let $g(m)$ be the integer defined by the following double sum of products of binomial coefficients:\n",
    "\n",
    "$$\\sum\\_{j=0}^m\\sum\\_{i = 0}^j (-1)^{j-i}\\binom mj \\binom ji \\binom{j+5+6i}{j+5}.$$\n",
    "\n",
    "You are given that $g(10) = 127278262644918$.\n",
    "  \n",
    "Its first (most significant) five digits are $12727$.\n",
    "  \n",
    "Find the first ten digits of $g(142857)$ when written in base $7$."
   ]
  },
  {
   "cell_type": "code",
   "execution_count": null,
   "id": "8c15c9c5",
   "metadata": {},
   "outputs": [],
   "source": [
    "# Problem 831 workspace"
   ]
  },
  {
   "cell_type": "markdown",
   "id": "3c966df2",
   "metadata": {},
   "source": [
    "## Answer: "
   ]
  },
  {
   "cell_type": "markdown",
   "id": "86c88906",
   "metadata": {},
   "source": [
    "___"
   ]
  },
  {
   "cell_type": "markdown",
   "id": "07d4e9b2",
   "metadata": {},
   "source": [
    "# Problem 832\n",
    " [Source](https://projecteuler.net/problem=832)"
   ]
  },
  {
   "cell_type": "markdown",
   "id": "693891cc",
   "metadata": {},
   "source": [
    "In this problem $\\oplus$ is used to represent the bitwise\n",
    "**exclusive or**\n",
    "of two numbers.\n",
    "  \n",
    "Starting with blank paper repeatedly do the following:\n",
    "\n",
    "1. Write down the smallest positive integer $a$ which is currently not on the paper;\n",
    "2. Find the smallest positive integer $b$ such that neither $b$ nor $(a \\oplus b)$ is currently on the paper. Then write down both $b$ and\n",
    "   $(a \\oplus b)$.\n",
    "\n",
    "After the first round $\\{1,2,3\\}$ will be written on the paper. In the second round $a=4$ and because\n",
    "$(4 \\oplus 5)$,\n",
    "$(4 \\oplus 6)$ and $(4 \\oplus 7)$ are all already written $b$ must be\n",
    "$8$.\n",
    "\n",
    "After $n$ rounds there will be $3n$ numbers on the paper. Their sum is denoted by\n",
    "$M(n)$.\n",
    "  \n",
    "For example, $M(10) = 642$ and\n",
    "$M(1000) = 5432148$.\n",
    "\n",
    "Find\n",
    "$M(10^{18})$.\n",
    "Give your answer modulo\n",
    "$1\\,000\\,000\\,007$."
   ]
  },
  {
   "cell_type": "code",
   "execution_count": null,
   "id": "5e14c4a7",
   "metadata": {},
   "outputs": [],
   "source": [
    "# Problem 832 workspace"
   ]
  },
  {
   "cell_type": "markdown",
   "id": "26ae6dbe",
   "metadata": {},
   "source": [
    "## Answer: "
   ]
  },
  {
   "cell_type": "markdown",
   "id": "4bbbaef4",
   "metadata": {},
   "source": [
    "___"
   ]
  },
  {
   "cell_type": "markdown",
   "id": "b7c2c543",
   "metadata": {},
   "source": [
    "# Problem 833\n",
    " [Source](https://projecteuler.net/problem=833)"
   ]
  },
  {
   "cell_type": "markdown",
   "id": "75b244f8",
   "metadata": {},
   "source": [
    "Triangle numbers $T\\_k$ are integers of the form $\\frac{k(k+1)} 2$.\n",
    "  \n",
    "A few triangle numbers happen to be perfect squares like $T\\_1=1$ and $T\\_8=36$, but more can be found when considering the product of two triangle numbers. For example, $T\\_2 \\cdot T\\_{24}=3 \\cdot 300=30^2$.\n",
    "\n",
    "Let $S(n)$ be the sum of $c$ for all integers triples $(a, b, c)$ with $0<c \\le n$, $c^2=T\\_a \\cdot T\\_b$ and $0<a<b$.\n",
    "For example, $S(100)= \\sqrt{T\\_1 T\\_8}+\\sqrt{T\\_2 T\\_{24}}+\\sqrt{T\\_1 T\\_{49}}+\\sqrt{T\\_3 T\\_{48}}=6+30+35+84=155$.\n",
    "\n",
    "You are given $S(10^5)=1479802$ and $S(10^9)=241614948794$.\n",
    "\n",
    "Find $S(10^{35})$. Give your answer modulo $136101521$."
   ]
  },
  {
   "cell_type": "code",
   "execution_count": null,
   "id": "5e0d2fa8",
   "metadata": {},
   "outputs": [],
   "source": [
    "# Problem 833 workspace"
   ]
  },
  {
   "cell_type": "markdown",
   "id": "e5b41d8f",
   "metadata": {},
   "source": [
    "## Answer: "
   ]
  },
  {
   "cell_type": "markdown",
   "id": "23426089",
   "metadata": {},
   "source": [
    "___"
   ]
  },
  {
   "cell_type": "markdown",
   "id": "0e1cb66c",
   "metadata": {},
   "source": [
    "# Problem 834\n",
    " [Source](https://projecteuler.net/problem=834)"
   ]
  },
  {
   "cell_type": "markdown",
   "id": "d47ed6aa",
   "metadata": {},
   "source": [
    "A sequence is created by starting with a positive integer $n$ and incrementing by $(n+m)$ at the $m^{th}$ step.\n",
    "If $n=10$, the resulting sequence will be $21,33,46,60,75,91,108,126,\\ldots$.\n",
    "\n",
    "Let $S(n)$ be the set of indices $m$, for which the $m^{th}$ term in the sequence is divisible by $(n+m)$.\n",
    "  \n",
    "For example, $S(10)=\\{5,8,20,35,80\\}$.\n",
    "\n",
    "Define $T(n)$ to be the sum of the indices in $S(n)$. For example, $T(10) = 148$ and $T(10^2)=21828$.\n",
    "\n",
    "Let $\\displaystyle U(N)=\\sum\\_{n=3}^{N}T(n)$. You are given, $U(10^2)=612572$.\n",
    "\n",
    "Find $U(1234567)$."
   ]
  },
  {
   "cell_type": "code",
   "execution_count": null,
   "id": "cba44ac8",
   "metadata": {},
   "outputs": [],
   "source": [
    "# Problem 834 workspace"
   ]
  },
  {
   "cell_type": "markdown",
   "id": "51ddb1d2",
   "metadata": {},
   "source": [
    "## Answer: "
   ]
  },
  {
   "cell_type": "markdown",
   "id": "7ef3f280",
   "metadata": {},
   "source": [
    "___"
   ]
  },
  {
   "cell_type": "markdown",
   "id": "4c0829d0",
   "metadata": {},
   "source": [
    "# Problem 835\n",
    " [Source](https://projecteuler.net/problem=835)"
   ]
  },
  {
   "cell_type": "markdown",
   "id": "ab154688",
   "metadata": {},
   "source": [
    "A\n",
    "**Pythagorean triangle**\n",
    "is called\n",
    "supernatural\n",
    "if two of its three sides are consecutive\n",
    "integers.\n",
    "\n",
    "Let $S(N)$ be the sum of the perimeters of all distinct supernatural triangles with perimeters less than or equal\n",
    "to $N$.\n",
    "  \n",
    "For example, $S(100) = 258$ and\n",
    "$S(10000) = 172004$.\n",
    "\n",
    "Find $S(10^{10^{10}})$. Give your answer modulo $1234567891$."
   ]
  },
  {
   "cell_type": "code",
   "execution_count": null,
   "id": "d3cda7a1",
   "metadata": {},
   "outputs": [],
   "source": [
    "# Problem 835 workspace"
   ]
  },
  {
   "cell_type": "markdown",
   "id": "f704ca2c",
   "metadata": {},
   "source": [
    "## Answer: "
   ]
  },
  {
   "cell_type": "markdown",
   "id": "7a86fc76",
   "metadata": {},
   "source": [
    "___"
   ]
  },
  {
   "cell_type": "markdown",
   "id": "5140586f",
   "metadata": {},
   "source": [
    "# Problem 836\n",
    " [Source](https://projecteuler.net/problem=836)"
   ]
  },
  {
   "cell_type": "markdown",
   "id": "78881a02",
   "metadata": {},
   "source": [
    "Let $A$ be an\n",
    "**affine plane**\n",
    "over a\n",
    "**radically integral local field**\n",
    "$F$ with residual characteristic $p$.\n",
    "\n",
    "We consider an\n",
    "**open oriented line section**\n",
    "$U$ of $A$ with normalized Haar measure $m$.\n",
    "\n",
    "Define $f(m, p)$ as the maximal possible discriminant of the\n",
    "**jacobian**\n",
    "associated to the\n",
    "**orthogonal kernel embedding**\n",
    "of $U$\n",
    "into $A$.\n",
    "\n",
    "Find $f(20230401, 57)$. Give as your answer the concatenation of the first letters of each bolded word."
   ]
  },
  {
   "cell_type": "code",
   "execution_count": null,
   "id": "28439939",
   "metadata": {},
   "outputs": [],
   "source": [
    "# Problem 836 workspace"
   ]
  },
  {
   "cell_type": "markdown",
   "id": "fca531c0",
   "metadata": {},
   "source": [
    "## Answer: "
   ]
  },
  {
   "cell_type": "markdown",
   "id": "596f2f53",
   "metadata": {},
   "source": [
    "___"
   ]
  },
  {
   "cell_type": "markdown",
   "id": "fd49e0e9",
   "metadata": {},
   "source": [
    "# Problem 837\n",
    " [Source](https://projecteuler.net/problem=837)"
   ]
  },
  {
   "cell_type": "markdown",
   "id": "93f80a4d",
   "metadata": {},
   "source": [
    "[Amidakuji](https://en.wikipedia.org/wiki/Amidakuji)\n",
    "(Japanese: 阿弥陀籤) is a method for producing a random permutation of a set of objects.\n",
    "\n",
    "In the beginning, a number of parallel vertical lines are drawn, one for each object. Then a specified number of horizontal rungs are added, each lower than any previous rungs. Each rung is drawn as a line segment spanning a randomly select pair of adjacent vertical lines.\n",
    "\n",
    "For example, the following diagram depicts an Amidakuji with three objects ($A$, $B$, $C$) and six rungs:\n",
    "\n",
    "![0837_amidakuji.png](resources/0837_amidakuji.png)\n",
    "\n",
    "The coloured lines in the diagram illustrate how to form the permutation. For each object, starting from the top of its vertical line, trace downwards but follow any rung encountered along the way, and record which vertical we end up on. In this example, the resulting permutation happens to be the identity: $A\\mapsto A$, $B\\mapsto B$, $C\\mapsto C$.\n",
    "\n",
    "Let $a(m, n)$ be the number of different three-object Amidakujis that have $m$ rungs between $A$ and $B$, and $n$ rungs between $B$ and $C$, and whose outcome is the identity permutation. For example, $a(3, 3) = 2$, because the Amidakuji shown above and its mirror image are the only ones with the required property.\n",
    "\n",
    "You are also given that $a(123, 321) \\equiv 172633303 \\pmod{1234567891}$.\n",
    "\n",
    "Find $a(123456789, 987654321)$. Give your answer modulo $1234567891$."
   ]
  },
  {
   "cell_type": "code",
   "execution_count": null,
   "id": "2f6a98b7",
   "metadata": {},
   "outputs": [],
   "source": [
    "# Problem 837 workspace"
   ]
  },
  {
   "cell_type": "markdown",
   "id": "28351435",
   "metadata": {},
   "source": [
    "## Answer: "
   ]
  },
  {
   "cell_type": "markdown",
   "id": "4d2a5fab",
   "metadata": {},
   "source": [
    "___"
   ]
  },
  {
   "cell_type": "markdown",
   "id": "4d6ee012",
   "metadata": {},
   "source": [
    "# Problem 838\n",
    " [Source](https://projecteuler.net/problem=838)"
   ]
  },
  {
   "cell_type": "markdown",
   "id": "ee19a1c5",
   "metadata": {},
   "source": [
    "Let $f(N)$ be the smallest positive integer that is not coprime to any positive integer $n \\le N$ whose least significant digit is $3$.\n",
    "\n",
    "For example $f(40)$ equals to $897 = 3 \\cdot 13 \\cdot 23$ since it is not coprime to any of $3,13,23,33$. By taking the\n",
    "**[natural logarithm](https://en.wikipedia.org/wiki/Natural_logarithm)**\n",
    "(log to base $e$) we obtain $\\ln f(40) = \\ln 897 \\approx 6.799056$ when rounded to six digits after the decimal point.\n",
    "\n",
    "You are also given $\\ln f(2800) \\approx 715.019337$.\n",
    "\n",
    "Find $f(10^6)$. Enter its natural logarithm rounded to six digits after the decimal point."
   ]
  },
  {
   "cell_type": "code",
   "execution_count": null,
   "id": "fbce50ff",
   "metadata": {},
   "outputs": [],
   "source": [
    "# Problem 838 workspace"
   ]
  },
  {
   "cell_type": "markdown",
   "id": "1ef2a2ae",
   "metadata": {},
   "source": [
    "## Answer: "
   ]
  },
  {
   "cell_type": "markdown",
   "id": "1838b0d3",
   "metadata": {},
   "source": [
    "___"
   ]
  },
  {
   "cell_type": "markdown",
   "id": "3220a34e",
   "metadata": {},
   "source": [
    "# Problem 839\n",
    " [Source](https://projecteuler.net/problem=839)"
   ]
  },
  {
   "cell_type": "markdown",
   "id": "86799c4a",
   "metadata": {},
   "source": [
    "The sequence $S\\_n$ is defined by $S\\_0 = 290797$ and $S\\_n = S\\_{n - 1}^2 \\bmod 50515093$ for $n > 0$.\n",
    "\n",
    "There are $N$ bowls indexed $0,1,\\dots ,N-1$. Initially there are $S\\_n$ beans in bowl $n$.\n",
    "\n",
    "At each step, the smallest index $n$ is found such that bowl $n$ has strictly more beans than bowl $n+1$. Then one bean is moved from bowl $n$ to bowl $n+1$.\n",
    "\n",
    "Let $B(N)$ be the number of steps needed to sort the bowls into non-descending order.\n",
    "  \n",
    "For example, $B(5) = 0$, $B(6) = 14263289$ and $B(100)=3284417556$.\n",
    "\n",
    "Find $B(10^7)$."
   ]
  },
  {
   "cell_type": "code",
   "execution_count": null,
   "id": "b684780b",
   "metadata": {},
   "outputs": [],
   "source": [
    "# Problem 839 workspace"
   ]
  },
  {
   "cell_type": "markdown",
   "id": "ec18f983",
   "metadata": {},
   "source": [
    "## Answer: "
   ]
  },
  {
   "cell_type": "markdown",
   "id": "ea9254fc",
   "metadata": {},
   "source": [
    "___"
   ]
  },
  {
   "cell_type": "markdown",
   "id": "0c0f5035",
   "metadata": {},
   "source": [
    "# Problem 840\n",
    " [Source](https://projecteuler.net/problem=840)"
   ]
  },
  {
   "cell_type": "markdown",
   "id": "a5512ea4",
   "metadata": {},
   "source": [
    "A\n",
    "**partition**\n",
    "of $n$ is a set of positive integers for which the sum equals $n$.\n",
    "  \n",
    "The partitions of 5 are:\n",
    "  \n",
    "$\\{5\\},\\{1,4\\},\\{2,3\\},\\{1,1,3\\},\\{1,2,2\\},\\{1,1,1,2\\}$ and $\\{1,1,1,1,1\\}$.\n",
    "\n",
    "Further we define the function $D(p)$ as:\n",
    "  \n",
    "$$\n",
    "\\begin{align}\n",
    "\\begin{split}\n",
    "D(1) &= 1 \\\\\n",
    "D(p) &= 1, \\text{ for any prime } p \\\\\n",
    "D(pq) &= D(p)q + pD(q), \\text{ for any positive integers } p,q \\gt 1.\n",
    "\\end{split}\n",
    "\\end{align}\n",
    "$$\n",
    "\n",
    "Now let $\\{a\\_1, a\\_2,\\ldots,a\\_k\\}$ be a partition of $n$.\n",
    "  \n",
    "We assign to this particular partition the value:\n",
    "  \n",
    "$$P=\\prod\\_{j=1}^{k}D(a\\_j). $$\n",
    "\n",
    "$G(n)$ is the sum of $P$ for all partitions of $n$.\n",
    "  \n",
    "We can verify that $G(10) = 164$.\n",
    "\n",
    "We also define:\n",
    "$$S(N)=\\sum\\_{n=1}^{N}G(n).$$\n",
    "You are given $S(10)=396$.\n",
    "  \n",
    "Find $S(5\\times 10^4) \\mod 999676999$."
   ]
  },
  {
   "cell_type": "code",
   "execution_count": null,
   "id": "b454daba",
   "metadata": {},
   "outputs": [],
   "source": [
    "# Problem 840 workspace"
   ]
  },
  {
   "cell_type": "markdown",
   "id": "ef280d9d",
   "metadata": {},
   "source": [
    "## Answer: "
   ]
  },
  {
   "cell_type": "markdown",
   "id": "9554d885",
   "metadata": {},
   "source": [
    "___"
   ]
  }
 ],
 "metadata": {},
 "nbformat": 4,
 "nbformat_minor": 5
}
