{
 "cells": [
  {
   "cell_type": "markdown",
   "id": "9b4b904b",
   "metadata": {},
   "source": [
    "# Problem 561\n",
    " [Source](https://projecteuler.net/problem=561)"
   ]
  },
  {
   "cell_type": "markdown",
   "id": "aafa8081",
   "metadata": {},
   "source": [
    "Let $S(n)$ be the number of pairs $(a,b)$ of distinct divisors of $n$ such that $a$ divides $b$.\n",
    "  \n",
    "For $n=6$ we get the following pairs: $(1,2), (1,3), (1,6),( 2,6)$ and $(3,6)$. So $S(6)=5$.\n",
    "  \n",
    "Let $p\\_m\\#$ be the product of the first $m$ prime numbers, so $p\\_2\\# = 2\\*3 = 6$.\n",
    "  \n",
    "Let $E(m, n)$ be the highest integer $k$ such that $2^k$ divides $S((p\\_m\\#)^n)$.\n",
    "  \n",
    "$E(2,1) = 0$ since $2^0$ is the highest power of 2 that divides S(6)=5.\n",
    "  \n",
    "Let $Q(n)=\\sum\\_{i=1}^{n} E(904961, i)$\n",
    "  \n",
    "$Q(8)=2714886$.\n",
    "\n",
    "Evaluate $Q(10^{12})$."
   ]
  },
  {
   "cell_type": "code",
   "execution_count": null,
   "id": "c0766a37",
   "metadata": {},
   "outputs": [],
   "source": [
    "# Problem 561 workspace"
   ]
  },
  {
   "cell_type": "markdown",
   "id": "e7daf4c0",
   "metadata": {},
   "source": [
    "## Answer: "
   ]
  },
  {
   "cell_type": "markdown",
   "id": "4df1a9a9",
   "metadata": {},
   "source": [
    "___"
   ]
  },
  {
   "cell_type": "markdown",
   "id": "0777e1d5",
   "metadata": {},
   "source": [
    "# Problem 562\n",
    " [Source](https://projecteuler.net/problem=562)"
   ]
  },
  {
   "cell_type": "markdown",
   "id": "254e90cd",
   "metadata": {},
   "source": [
    "Construct triangle $ABC$ such that:\n",
    "\n",
    "* Vertices $A$, $B$ and $C$ are lattice points inside or on the circle of radius $r$ centered at the origin;\n",
    "* the triangle contains no other lattice point inside or on its edges;\n",
    "* the perimeter is maximum.\n",
    "\n",
    "Let $R$ be the circumradius of triangle $ABC$ and $T(r) = R/r$.\n",
    "  \n",
    "For $r = 5$, one possible triangle has vertices $(-4,-3)$, $(4,2)$ and $(1,0)$ with perimeter $\\sqrt{13}+\\sqrt{34}+\\sqrt{89}$ and circumradius $R = \\sqrt {\\frac {19669} 2 }$, so $T(5) = \\sqrt {\\frac {19669} {50} }$.\n",
    "  \n",
    "You are given $T(10) \\approx 97.26729$ and $T(100) \\approx 9157.64707$.\n",
    "\n",
    "Find $T(10^7)$. Give your answer rounded to the nearest integer."
   ]
  },
  {
   "cell_type": "code",
   "execution_count": null,
   "id": "dd5a617d",
   "metadata": {},
   "outputs": [],
   "source": [
    "# Problem 562 workspace"
   ]
  },
  {
   "cell_type": "markdown",
   "id": "61195015",
   "metadata": {},
   "source": [
    "## Answer: "
   ]
  },
  {
   "cell_type": "markdown",
   "id": "421446a5",
   "metadata": {},
   "source": [
    "___"
   ]
  },
  {
   "cell_type": "markdown",
   "id": "0b227973",
   "metadata": {},
   "source": [
    "# Problem 563\n",
    " [Source](https://projecteuler.net/problem=563)"
   ]
  },
  {
   "cell_type": "markdown",
   "id": "740cbde7",
   "metadata": {},
   "source": [
    "A company specialises in producing large rectangular metal sheets, starting from unit square metal plates. The welding is performed by a range of robots of increasing size. Unfortunately, the programming options of these robots are rather limited. Each one can only process up to $25$ identical rectangles of metal, which they can weld along either edge to produce a larger rectangle. The only programmable variables are the number of rectangles to be processed (up to and including $25$), and whether to weld the long or short edge.\n",
    "\n",
    "For example, the first robot could be programmed to weld together $11$ raw unit square plates to make a $11 \\times 1$ strip. The next could take $10$ of these $11 \\times 1$ strips, and weld them either to make a longer $110 \\times 1$ strip, or a $11 \\times 10$ rectangle. Many, but not all, possible dimensions of metal sheets can be constructed in this way.\n",
    "\n",
    "One regular customer has a particularly unusual order: The finished product should have an exact area, and the long side must not be more than $10\\%$ larger than the short side. If these requirements can be met in more than one way, in terms of the exact dimensions of the two sides, then the customer will demand that all variants be produced. For example, if the order calls for a metal sheet of area $889200$, then there are three final dimensions that can be produced: $900 \\times 988$, $912 \\times 975$ and $936 \\times 950$. The target area of $889200$ is the smallest area which can be manufactured in three different variants, within the limitations of the robot welders.\n",
    "\n",
    "Let $M(n)$ be the minimal area that can be manufactured in\n",
    "exactly\n",
    "$n$ variants with the longer edge not greater than $10\\%$ bigger than the shorter edge. Hence $M(3) = 889200$.\n",
    "\n",
    "Find $\\sum\\_{n=2}^{100} M(n)$."
   ]
  },
  {
   "cell_type": "code",
   "execution_count": null,
   "id": "47fe611f",
   "metadata": {},
   "outputs": [],
   "source": [
    "# Problem 563 workspace"
   ]
  },
  {
   "cell_type": "markdown",
   "id": "89400591",
   "metadata": {},
   "source": [
    "## Answer: "
   ]
  },
  {
   "cell_type": "markdown",
   "id": "f1daa97d",
   "metadata": {},
   "source": [
    "___"
   ]
  },
  {
   "cell_type": "markdown",
   "id": "f4037f68",
   "metadata": {},
   "source": [
    "# Problem 564\n",
    " [Source](https://projecteuler.net/problem=564)"
   ]
  },
  {
   "cell_type": "markdown",
   "id": "9b87ab10",
   "metadata": {},
   "source": [
    "A line segment of length $2n-3$ is randomly split into $n$ segments of integer length ($n \\ge 3$). In the sequence given by this split, the segments are then used as consecutive sides of a convex $n$-polygon, formed in such a way that its area is maximal. All of the $\\binom{2n-4} {n-1}$ possibilities for splitting up the initial line segment occur with the same probability.\n",
    "\n",
    "Let $E(n)$ be the expected value of the area that is obtained by this procedure.\n",
    "  \n",
    "For example, for $n=3$ the only possible split of the line segment of length $3$ results in three line segments with length $1$, that form an equilateral triangle with an area of $\\frac 1 4 \\sqrt{3}$. Therefore $E(3)=0.433013$, rounded to $6$ decimal places.\n",
    "  \n",
    "For $n=4$ you can find $4$ different possible splits, each of which is composed of three line segments with length $1$ and one line segment with length $2$. All of these splits lead to the same maximal quadrilateral with an area of $\\frac 3 4 \\sqrt{3}$, thus $E(4)=1.299038$, rounded to $6$ decimal places.\n",
    "\n",
    "Let $S(k)=\\displaystyle \\sum\\_{n=3}^k E(n)$.\n",
    "  \n",
    "For example, $S(3)=0.433013$, $S(4)=1.732051$, $S(5)=4.604767$ and $S(10)=66.955511$, rounded to $6$ decimal places each.\n",
    "\n",
    "Find $S(50)$, rounded to $6$ decimal places."
   ]
  },
  {
   "cell_type": "code",
   "execution_count": null,
   "id": "f3370c60",
   "metadata": {},
   "outputs": [],
   "source": [
    "# Problem 564 workspace"
   ]
  },
  {
   "cell_type": "markdown",
   "id": "8f696aed",
   "metadata": {},
   "source": [
    "## Answer: "
   ]
  },
  {
   "cell_type": "markdown",
   "id": "6f36d172",
   "metadata": {},
   "source": [
    "___"
   ]
  },
  {
   "cell_type": "markdown",
   "id": "c41f44bb",
   "metadata": {},
   "source": [
    "# Problem 565\n",
    " [Source](https://projecteuler.net/problem=565)"
   ]
  },
  {
   "cell_type": "markdown",
   "id": "e90ff589",
   "metadata": {},
   "source": [
    "Let $\\sigma(n)$ be the sum of the divisors of $n$.\n",
    "  \n",
    "E.g. the divisors of $4$ are $1$, $2$ and $4$, so $\\sigma(4)=7$.\n",
    "\n",
    "The numbers $n$ not exceeding $20$ such that $7$ divides $\\sigma(n)$ are: $4$, $12$, $13$ and $20$, the sum of these numbers being $49$.\n",
    "\n",
    "Let $S(n, d)$ be the sum of the numbers $i$ not exceeding $n$ such that $d$ divides $\\sigma(i)$.\n",
    "  \n",
    "So $S(20 , 7)=49$.\n",
    "\n",
    "You are given: $S(10^6,2017)=150850429$ and $S(10^9, 2017)=249652238344557$.\n",
    "\n",
    "Find $S(10^{11}, 2017)$."
   ]
  },
  {
   "cell_type": "code",
   "execution_count": null,
   "id": "39aa9c9d",
   "metadata": {},
   "outputs": [],
   "source": [
    "# Problem 565 workspace"
   ]
  },
  {
   "cell_type": "markdown",
   "id": "f8863172",
   "metadata": {},
   "source": [
    "## Answer: "
   ]
  },
  {
   "cell_type": "markdown",
   "id": "f40d1e31",
   "metadata": {},
   "source": [
    "___"
   ]
  },
  {
   "cell_type": "markdown",
   "id": "4f57b5fb",
   "metadata": {},
   "source": [
    "# Problem 566\n",
    " [Source](https://projecteuler.net/problem=566)"
   ]
  },
  {
   "cell_type": "markdown",
   "id": "552afcdd",
   "metadata": {},
   "source": [
    "Adam plays the following game with his birthday cake.\n",
    "\n",
    "He cuts a piece forming a circular sector of $60$ degrees and flips the piece upside down, with the icing on the bottom.\n",
    "  \n",
    "He then rotates the cake by $60$ degrees counterclockwise, cuts an adjacent $60$ degree piece and flips it upside down.\n",
    "  \n",
    "He keeps repeating this, until after a total of twelve steps, all the icing is back on top.\n",
    "\n",
    "Amazingly, this works for any piece size, even if the cutting angle is an irrational number: all the icing will be back on top after a finite number of steps.\n",
    "\n",
    "Now, Adam tries something different: he alternates cutting pieces of size $x=\\frac{360}{9}$ degrees, $y=\\frac{360}{10}$ degrees and $z=\\frac{360 }{\\sqrt{11}}$ degrees. The first piece he cuts has size $x$ and he flips it. The second has size $y$ and he flips it. The third has size $z$ and he flips it. He repeats this with pieces of size $x$, $y$ and $z$ in that order until all the icing is back on top, and discovers he needs $60$ flips altogether.\n",
    "\n",
    "![0566-cakeicingpuzzle.gif](resources/0566-cakeicingpuzzle.gif)\n",
    "\n",
    "Let $F(a, b, c)$ be the minimum number of piece flips needed to get all the icing back on top for pieces of size $x=\\frac{360}{a}$ degrees, $y=\\frac{360}{b}$ degrees and $z=\\frac{360}{\\sqrt{c}}$ degrees.\n",
    "  \n",
    "Let $G(n) = \\sum\\_{9 \\le a \\lt b \\lt c \\le n} F(a,b,c)$, for integers $a$, $b$ and $c$.\n",
    "\n",
    "You are given that $F(9, 10, 11) = 60$, $F(10, 14, 16) = 506$, $F(15, 16, 17) = 785232$.\n",
    "  \n",
    "You are also given $G(11) = 60$, $G(14) = 58020$ and $G(17) = 1269260$.\n",
    "\n",
    "Find $G(53)$."
   ]
  },
  {
   "cell_type": "code",
   "execution_count": null,
   "id": "6ea953d5",
   "metadata": {},
   "outputs": [],
   "source": [
    "# Problem 566 workspace"
   ]
  },
  {
   "cell_type": "markdown",
   "id": "1f85b8e4",
   "metadata": {},
   "source": [
    "## Answer: "
   ]
  },
  {
   "cell_type": "markdown",
   "id": "3d4bc44f",
   "metadata": {},
   "source": [
    "___"
   ]
  },
  {
   "cell_type": "markdown",
   "id": "86ce3469",
   "metadata": {},
   "source": [
    "# Problem 567\n",
    " [Source](https://projecteuler.net/problem=567)"
   ]
  },
  {
   "cell_type": "markdown",
   "id": "7eb76518",
   "metadata": {},
   "source": [
    "Tom has built a random generator that is connected to a row of $n$ light bulbs. Whenever the random generator is activated each of the $n$ lights is turned on with the probability of $\\frac 1 2$, independently of its former state or the state of the other light bulbs.\n",
    "\n",
    "While discussing with his friend Jerry how to use his generator, they invent two different games, they call the\n",
    "reciprocal games\n",
    ":\n",
    "  \n",
    "Both games consist of $n$ turns. Each turn is started by choosing a number $k$ randomly between (and including) $1$ and $n$, with equal probability of $\\frac 1 n$ for each number, while the possible win for that turn is the reciprocal of $k$, that is $\\frac 1 k$.\n",
    "\n",
    "In game A, Tom activates his random generator once in each turn. If the number of lights turned on is the same as the previously chosen number $k$, Jerry wins and gets $\\frac 1 k$, otherwise he will receive nothing for that turn. Jerry's expected win after playing the total game A consisting of $n$ turns is called $J\\_A(n)$. For example $J\\_A(6)=0.39505208$, rounded to $8$ decimal places.\n",
    "\n",
    "For each turn in game B, after $k$ has been randomly selected, Tom keeps reactivating his random generator until exactly $k$ lights are turned on. After that Jerry takes over and reactivates the random generator until he, too, has generated a pattern with exactly $k$ lights turned on. If this pattern is identical to Tom's last pattern, Jerry wins and gets $\\frac 1 k$, otherwise he will receive nothing. Jerry's expected win after the total game B consisting of $n$ turns is called $J\\_B(n)$. For example $J\\_B(6)=0.43333333$, rounded to $8$ decimal places.\n",
    "\n",
    "Let $\\displaystyle S(m)=\\sum\\_{n=1}^m (J\\_A(n)+J\\_B(n))$. For example $S(6)=7.58932292$, rounded to $8$ decimal places.\n",
    "\n",
    "Find $S(123456789)$, rounded to $8$ decimal places."
   ]
  },
  {
   "cell_type": "code",
   "execution_count": null,
   "id": "21004fb0",
   "metadata": {},
   "outputs": [],
   "source": [
    "# Problem 567 workspace"
   ]
  },
  {
   "cell_type": "markdown",
   "id": "c7826dee",
   "metadata": {},
   "source": [
    "## Answer: "
   ]
  },
  {
   "cell_type": "markdown",
   "id": "494ad821",
   "metadata": {},
   "source": [
    "___"
   ]
  },
  {
   "cell_type": "markdown",
   "id": "6b941d82",
   "metadata": {},
   "source": [
    "# Problem 568\n",
    " [Source](https://projecteuler.net/problem=568)"
   ]
  },
  {
   "cell_type": "markdown",
   "id": "81e91556",
   "metadata": {},
   "source": [
    "Tom has built a random generator that is connected to a row of $n$ light bulbs. Whenever the random generator is activated each of the $n$ lights is turned on with the probability of $\\frac 1 2$, independently of its former state or the state of the other light bulbs.\n",
    "\n",
    "While discussing with his friend Jerry how to use his generator, they invent two different games, they call the\n",
    "reciprocal games\n",
    ":\n",
    "  \n",
    "Both games consist of $n$ turns. Each turn is started by choosing a number $k$ randomly between (and including) $1$ and $n$, with equal probability of $\\frac 1 n$ for each number, while the possible win for that turn is the reciprocal of $k$, that is $\\frac 1 k$.\n",
    "\n",
    "In game A, Tom activates his random generator once in each turn. If the number of lights turned on is the same as the previously chosen number $k$, Jerry wins and gets $\\frac 1 k$, otherwise he will receive nothing for that turn. Jerry's expected win after playing the total game A consisting of $n$ turns is called $J\\_A(n)$. For example $J\\_A(6)=0.39505208$, rounded to $8$ decimal places.\n",
    "\n",
    "For each turn in game B, after $k$ has been randomly selected, Tom keeps reactivating his random generator until exactly $k$ lights are turned on. After that Jerry takes over and reactivates the random generator until he, too, has generated a pattern with exactly $k$ lights turned on. If this pattern is identical to Tom's last pattern, Jerry wins and gets $\\frac 1 k$, otherwise he will receive nothing. Jerry's expected win after the total game B consisting of $n$ turns is called $J\\_B(n)$. For example $J\\_B(6)=0.43333333$, rounded to $8$ decimal places.\n",
    "\n",
    "Let $D(n)=J\\_B(n)−J\\_A(n)$. For example, $D(6) = 0.03828125$.\n",
    "\n",
    "Find the $7$ most significant digits of $D(123456789)$ after removing all leading zeros.\n",
    "  \n",
    "(If, for example, we had asked for the $7$ most significant digits of $D(6)$, the answer would have been 3828125.)"
   ]
  },
  {
   "cell_type": "code",
   "execution_count": null,
   "id": "546c64c2",
   "metadata": {},
   "outputs": [],
   "source": [
    "# Problem 568 workspace"
   ]
  },
  {
   "cell_type": "markdown",
   "id": "6ad587e0",
   "metadata": {},
   "source": [
    "## Answer: "
   ]
  },
  {
   "cell_type": "markdown",
   "id": "86a0bd68",
   "metadata": {},
   "source": [
    "___"
   ]
  },
  {
   "cell_type": "markdown",
   "id": "4b04633d",
   "metadata": {},
   "source": [
    "# Problem 569\n",
    " [Source](https://projecteuler.net/problem=569)"
   ]
  },
  {
   "cell_type": "markdown",
   "id": "e3f354cc",
   "metadata": {},
   "source": [
    "A\n",
    "mountain range\n",
    "consists of a line of mountains with slopes of exactly $45^\\circ$, and heights governed by the prime numbers, $p\\_n$. The up-slope of the $k$\n",
    "th\n",
    "mountain is of height $p\\_{2k - 1}$, and the downslope is $p\\_{2k}$. The first few foot-hills of this range are illustrated below.\n",
    "\n",
    "![0569-prime-mountain-range.gif](resources/0569-prime-mountain-range.gif)\n",
    "\n",
    "Tenzing sets out to climb each one in turn, starting from the lowest. At the top of each peak, he looks back and counts how many of the previous peaks he can see. In the example above, the eye-line from the third mountain is drawn in red, showing that he can only see the peak of the second mountain from this viewpoint. Similarly, from the $9$\n",
    "th\n",
    "mountain, he can see three peaks, those of the $5$\n",
    "th\n",
    ", $7$\n",
    "th\n",
    "and $8$\n",
    "th\n",
    "mountain.\n",
    "\n",
    "Let $P(k)$ be the number of peaks that are visible looking back from the $k$\n",
    "th\n",
    "mountain. Hence $P(3)=1$ and $P(9)=3$.\n",
    "  \n",
    "Also $\\displaystyle \\sum\\_{k=1}^{100} P(k) = 227$.\n",
    "\n",
    "Find $\\displaystyle \\sum\\_{k=1}^{2500000} P(k)$."
   ]
  },
  {
   "cell_type": "code",
   "execution_count": null,
   "id": "2e993d63",
   "metadata": {},
   "outputs": [],
   "source": [
    "# Problem 569 workspace"
   ]
  },
  {
   "cell_type": "markdown",
   "id": "c474d300",
   "metadata": {},
   "source": [
    "## Answer: "
   ]
  },
  {
   "cell_type": "markdown",
   "id": "fd5d7939",
   "metadata": {},
   "source": [
    "___"
   ]
  },
  {
   "cell_type": "markdown",
   "id": "bf2d7f5f",
   "metadata": {},
   "source": [
    "# Problem 570\n",
    " [Source](https://projecteuler.net/problem=570)"
   ]
  },
  {
   "cell_type": "markdown",
   "id": "b1d3a498",
   "metadata": {},
   "source": [
    "A snowflake of order $n$ is formed by overlaying an equilateral triangle (rotated by $180$ degrees) onto each equilateral triangle of the same size in a snowflake of order $n-1$. A snowflake of order $1$ is a single equilateral triangle.\n",
    "\n",
    "![0570-snowflakes.png](resources/0570-snowflakes.png)\n",
    "\n",
    "Some areas of the snowflake are overlaid repeatedly. In the above picture, blue represents the areas that are one layer thick, red two layers thick, yellow three layers thick, and so on.\n",
    "\n",
    "For an order $n$ snowflake, let $A(n)$ be the number of triangles that are one layer thick, and let $B(n)$ be the number of triangles that are three layers thick. Define $G(n) = \\gcd(A(n), B(n))$.\n",
    "\n",
    "E.g. $A(3) = 30$, $B(3) = 6$, $G(3)=6$.\n",
    "  \n",
    "$A(11) = 3027630$, $B(11) = 19862070$, $G(11) = 30$.\n",
    "\n",
    "Further, $G(500) = 186$ and $\\sum\\_{n=3}^{500}G(n)=5124$.\n",
    "\n",
    "Find $\\displaystyle \\sum\\_{n=3}^{10^7}G(n)$."
   ]
  },
  {
   "cell_type": "code",
   "execution_count": null,
   "id": "af8e035a",
   "metadata": {},
   "outputs": [],
   "source": [
    "# Problem 570 workspace"
   ]
  },
  {
   "cell_type": "markdown",
   "id": "1289ae37",
   "metadata": {},
   "source": [
    "## Answer: "
   ]
  },
  {
   "cell_type": "markdown",
   "id": "54c4e0c8",
   "metadata": {},
   "source": [
    "___"
   ]
  }
 ],
 "metadata": {},
 "nbformat": 4,
 "nbformat_minor": 5
}
