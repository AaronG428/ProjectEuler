{
 "cells": [
  {
   "cell_type": "markdown",
   "id": "8a0be532",
   "metadata": {},
   "source": [
    "# Problem 391\n",
    " [Source](https://projecteuler.net/problem=391)"
   ]
  },
  {
   "cell_type": "markdown",
   "id": "44e89be6",
   "metadata": {},
   "source": [
    "Let $s\\_k$ be the number of 1’s when writing the numbers from 0 to $k$ in binary.\n",
    "  \n",
    "For example, writing 0 to 5 in binary, we have $0, 1, 10, 11, 100, 101$. There are seven 1’s, so $s\\_5 = 7$.\n",
    "  \n",
    "The sequence $S = \\{s\\_k : k \\ge 0\\}$ starts $\\{0, 1, 2, 4, 5, 7, 9, 12, ...\\}$.\n",
    "\n",
    "A game is played by two players. Before the game starts, a number $n$ is chosen. A counter $c$ starts at 0. At each turn, the player chooses a number from 1 to $n$ (inclusive) and increases $c$ by that number. The resulting value of $c$ must be a member of $S$. If there are no more valid moves, then the player loses.\n",
    "\n",
    "For example, with $n = 5$ and starting with $c = 0$:\n",
    "\n",
    "Player 1 chooses 4, so $c$ becomes $0 + 4 = 4$.\n",
    "  \n",
    "Player 2 chooses 5, so $c$ becomes $4 + 5 = 9$.\n",
    "  \n",
    "Player 1 chooses 3, so $c$ becomes $9 + 3 = 12$.\n",
    "  \n",
    "etc.\n",
    "\n",
    "Note that $c$ must always belong to $S$, and each player can increase $c$ by at most $n$.\n",
    "\n",
    "Let $M(n)$ be the highest number that the first player could choose at the start to force a win, and $M(n) = 0$ if there is no such move. For example, $M(2) = 2$, $M(7) = 1$, and $M(20) = 4$.\n",
    "\n",
    "It can be verified that $\\sum{M(n)^3} = 8150$ for $1 \\le n \\le 20$.\n",
    "\n",
    "Find $\\sum{M(n)^3}$ for $1 \\le n \\le 1000$."
   ]
  },
  {
   "cell_type": "code",
   "execution_count": null,
   "id": "d797aac5",
   "metadata": {},
   "outputs": [],
   "source": [
    "# Problem 391 workspace"
   ]
  },
  {
   "cell_type": "markdown",
   "id": "814a84ed",
   "metadata": {},
   "source": [
    "## Answer: "
   ]
  },
  {
   "cell_type": "markdown",
   "id": "8cbf46e4",
   "metadata": {},
   "source": [
    "___"
   ]
  },
  {
   "cell_type": "markdown",
   "id": "b40b6a3f",
   "metadata": {},
   "source": [
    "# Problem 392\n",
    " [Source](https://projecteuler.net/problem=392)"
   ]
  },
  {
   "cell_type": "markdown",
   "id": "b01e3abf",
   "metadata": {},
   "source": [
    "A rectilinear grid is an orthogonal grid where the spacing between the gridlines does not have to be equidistant.\n",
    "  \n",
    "An example of such grid is logarithmic graph paper.\n",
    "\n",
    "Consider rectilinear grids in the Cartesian coordinate system with the following properties:\n",
    "\n",
    "* The gridlines are parallel to the axes of the Cartesian coordinate system.\n",
    "* There are $N+2$ vertical and $N+2$ horizontal gridlines. Hence there are $(N+1) \\times (N+1)$ rectangular cells.\n",
    "* The equations of the two outer vertical gridlines are $x = -1$ and $x = 1$.\n",
    "* The equations of the two outer horizontal gridlines are $y = -1$ and $y = 1$.\n",
    "* The grid cells are colored red if they overlap with the\n",
    "  **unit circle\n",
    "  The unit circle is the circle that has radius $1$ and is centered at the origin**\n",
    "  , black otherwise.\n",
    "\n",
    "For this problem we would like you to find the positions of the remaining $N$ inner horizontal and $N$ inner vertical gridlines so that the area occupied by the red cells is minimized.\n",
    "\n",
    "E.g. here is a picture of the solution for $N = 10$:\n",
    "\n",
    "![0392_gridlines.png](resources/0392_gridlines.png)\n",
    "\n",
    "The area occupied by the red cells for $N = 10$ rounded to $10$ digits behind the decimal point is $3.3469640797$.\n",
    "\n",
    "Find the positions for $N = 400$.\n",
    "  \n",
    "Give as your answer the area occupied by the red cells rounded to $10$ digits behind the decimal point."
   ]
  },
  {
   "cell_type": "code",
   "execution_count": null,
   "id": "afb877cd",
   "metadata": {},
   "outputs": [],
   "source": [
    "# Problem 392 workspace"
   ]
  },
  {
   "cell_type": "markdown",
   "id": "a38d7eed",
   "metadata": {},
   "source": [
    "## Answer: "
   ]
  },
  {
   "cell_type": "markdown",
   "id": "a059f64f",
   "metadata": {},
   "source": [
    "___"
   ]
  },
  {
   "cell_type": "markdown",
   "id": "329775ee",
   "metadata": {},
   "source": [
    "# Problem 393\n",
    " [Source](https://projecteuler.net/problem=393)"
   ]
  },
  {
   "cell_type": "markdown",
   "id": "c84fcbd5",
   "metadata": {},
   "source": [
    "An $n \\times n$ grid of squares contains $n^2$ ants, one ant per square.\n",
    "  \n",
    "All ants decide to move simultaneously to an adjacent square (usually $4$ possibilities, except for ants on the edge of the grid or at the corners).\n",
    "  \n",
    "We define $f(n)$ to be the number of ways this can happen without any ants ending on the same square and without any two ants crossing the same edge between two squares.\n",
    "\n",
    "You are given that $f(4) = 88$.\n",
    "  \n",
    "Find $f(10)$."
   ]
  },
  {
   "cell_type": "code",
   "execution_count": null,
   "id": "8ea930c4",
   "metadata": {},
   "outputs": [],
   "source": [
    "# Problem 393 workspace"
   ]
  },
  {
   "cell_type": "markdown",
   "id": "601c3487",
   "metadata": {},
   "source": [
    "## Answer: "
   ]
  },
  {
   "cell_type": "markdown",
   "id": "e597947b",
   "metadata": {},
   "source": [
    "___"
   ]
  },
  {
   "cell_type": "markdown",
   "id": "2a021c8a",
   "metadata": {},
   "source": [
    "# Problem 394\n",
    " [Source](https://projecteuler.net/problem=394)"
   ]
  },
  {
   "cell_type": "markdown",
   "id": "13da7db5",
   "metadata": {},
   "source": [
    "Jeff eats a pie in an unusual way.\n",
    "  \n",
    "The pie is circular. He starts with slicing an initial cut in the pie along a radius.\n",
    "  \n",
    "While there is at least a given fraction $F$ of pie left, he performs the following procedure:\n",
    "  \n",
    "- He makes two slices from the pie centre to any point of what is remaining of the pie border, any point on the remaining pie border equally likely. This will divide the remaining pie into three pieces.\n",
    "  \n",
    "- Going counterclockwise from the initial cut, he takes the first two pie pieces and eats them.\n",
    "  \n",
    "When less than a fraction $F$ of pie remains, he does not repeat this procedure. Instead, he eats all of the remaining pie.\n",
    "\n",
    "![0394_eatpie.gif](resources/0394_eatpie.gif)\n",
    "\n",
    "For $x \\ge 1$, let $E(x)$ be the expected number of times Jeff repeats the procedure above with $F = 1/x$.\n",
    "  \n",
    "It can be verified that $E(1) = 1$, $E(2) \\approx 1.2676536759$, and $E(7.5) \\approx 2.1215732071$.\n",
    "\n",
    "Find $E(40)$ rounded to $10$ decimal places behind the decimal point."
   ]
  },
  {
   "cell_type": "code",
   "execution_count": null,
   "id": "19e32f7a",
   "metadata": {},
   "outputs": [],
   "source": [
    "# Problem 394 workspace"
   ]
  },
  {
   "cell_type": "markdown",
   "id": "51d32a03",
   "metadata": {},
   "source": [
    "## Answer: "
   ]
  },
  {
   "cell_type": "markdown",
   "id": "bcd01586",
   "metadata": {},
   "source": [
    "___"
   ]
  },
  {
   "cell_type": "markdown",
   "id": "dcef48ea",
   "metadata": {},
   "source": [
    "# Problem 395\n",
    " [Source](https://projecteuler.net/problem=395)"
   ]
  },
  {
   "cell_type": "markdown",
   "id": "96999e26",
   "metadata": {},
   "source": [
    "The\n",
    "**Pythagorean tree**\n",
    "is a fractal generated by the following procedure:\n",
    "\n",
    "Start with a unit square. Then, calling one of the sides its base (in the animation, the bottom side is the base):\n",
    "\n",
    "1. Attach a right triangle to the side opposite the base, with the hypotenuse coinciding with that side and with the sides in a $3\\text - 4\\text - 5$ ratio. Note that the smaller side of the triangle must be on the 'right' side with respect to the base (see animation).\n",
    "2. Attach a square to each leg of the right triangle, with one of its sides coinciding with that leg.\n",
    "3. Repeat this procedure for both squares, considering as their bases the sides touching the triangle.\n",
    "\n",
    "The resulting figure, after an infinite number of iterations, is the Pythagorean tree.\n",
    "\n",
    "![0395_pythagorean.gif](resources/0395_pythagorean.gif)\n",
    "\n",
    "It can be shown that there exists at least one rectangle, whose sides are parallel to the largest square of the Pythagorean tree, which encloses the Pythagorean tree completely.\n",
    "\n",
    "Find the smallest area possible for such a bounding rectangle, and give your answer rounded to $10$ decimal places."
   ]
  },
  {
   "cell_type": "code",
   "execution_count": null,
   "id": "db03c5bf",
   "metadata": {},
   "outputs": [],
   "source": [
    "# Problem 395 workspace"
   ]
  },
  {
   "cell_type": "markdown",
   "id": "41f2a7ae",
   "metadata": {},
   "source": [
    "## Answer: "
   ]
  },
  {
   "cell_type": "markdown",
   "id": "d03bb35e",
   "metadata": {},
   "source": [
    "___"
   ]
  },
  {
   "cell_type": "markdown",
   "id": "c3069e01",
   "metadata": {},
   "source": [
    "# Problem 396\n",
    " [Source](https://projecteuler.net/problem=396)"
   ]
  },
  {
   "cell_type": "markdown",
   "id": "5aefbf19",
   "metadata": {},
   "source": [
    "For any positive integer $n$, the\n",
    "**$n$th weak Goodstein sequence**\n",
    "$\\{g\\_1, g\\_2, g\\_3, \\dots\\}$ is defined as:\n",
    "\n",
    "* $g\\_1 = n$\n",
    "* for $k \\gt 1$, $g\\_k$ is obtained by writing $g\\_{k-1}$ in base $k$, interpreting it as a base $k + 1$ number, and subtracting $1$.\n",
    "\n",
    "The sequence terminates when $g\\_k$ becomes $0$.\n",
    "\n",
    "For example, the $6$th weak Goodstein sequence is $\\{6, 11, 17, 25, \\dots\\}$:\n",
    "\n",
    "* $g\\_1 = 6$.\n",
    "* $g\\_2 = 11$ since $6 = 110\\_2$, $110\\_3 = 12$, and $12 - 1 = 11$.\n",
    "* $g\\_3 = 17$ since $11 = 102\\_3$, $102\\_4 = 18$, and $18 - 1 = 17$.\n",
    "* $g\\_4 = 25$ since $17 = 101\\_4$, $101\\_5 = 26$, and $26 - 1 = 25$.\n",
    "\n",
    "and so on.\n",
    "\n",
    "It can be shown that every weak Goodstein sequence terminates.\n",
    "\n",
    "Let $G(n)$ be the number of nonzero elements in the $n$th weak Goodstein sequence.\n",
    "  \n",
    "It can be verified that $G(2) = 3$, $G(4) = 21$ and $G(6) = 381$.\n",
    "  \n",
    "It can also be verified that $\\sum G(n) = 2517$ for $1 \\le n \\lt 8$.\n",
    "\n",
    "Find the last $9$ digits of $\\sum G(n)$ for $1 \\le n \\lt 16$."
   ]
  },
  {
   "cell_type": "code",
   "execution_count": null,
   "id": "ef7e258c",
   "metadata": {},
   "outputs": [],
   "source": [
    "# Problem 396 workspace"
   ]
  },
  {
   "cell_type": "markdown",
   "id": "1204e4d3",
   "metadata": {},
   "source": [
    "## Answer: "
   ]
  },
  {
   "cell_type": "markdown",
   "id": "dc62c36b",
   "metadata": {},
   "source": [
    "___"
   ]
  },
  {
   "cell_type": "markdown",
   "id": "b4ac7de7",
   "metadata": {},
   "source": [
    "# Problem 397\n",
    " [Source](https://projecteuler.net/problem=397)"
   ]
  },
  {
   "cell_type": "markdown",
   "id": "4dacc56b",
   "metadata": {},
   "source": [
    "On the parabola $y = x^2/k$, three points $A(a, a^2/k)$, $B(b, b^2/k)$ and $C(c, c^2/k)$ are chosen.\n",
    "\n",
    "Let $F(K, X)$ be the number of the integer quadruplets $(k, a, b, c)$ such that at least one angle of the triangle $ABC$ is $45$-degree, with $1 \\le k \\le K$ and $-X \\le a \\lt b \\lt c \\le X$.\n",
    "\n",
    "For example, $F(1, 10) = 41$ and $F(10, 100) = 12492$.\n",
    "  \n",
    "Find $F(10^6, 10^9)$."
   ]
  },
  {
   "cell_type": "code",
   "execution_count": null,
   "id": "b375334b",
   "metadata": {},
   "outputs": [],
   "source": [
    "# Problem 397 workspace"
   ]
  },
  {
   "cell_type": "markdown",
   "id": "f974d51e",
   "metadata": {},
   "source": [
    "## Answer: "
   ]
  },
  {
   "cell_type": "markdown",
   "id": "f0cd1f1d",
   "metadata": {},
   "source": [
    "___"
   ]
  },
  {
   "cell_type": "markdown",
   "id": "84c792de",
   "metadata": {},
   "source": [
    "# Problem 398\n",
    " [Source](https://projecteuler.net/problem=398)"
   ]
  },
  {
   "cell_type": "markdown",
   "id": "d6b4c2f1",
   "metadata": {},
   "source": [
    "Inside a rope of length $n$, $n - 1$ points are placed with distance $1$ from each other and from the endpoints. Among these points, we choose $m - 1$ points at random and cut the rope at these points to create $m$ segments.\n",
    "\n",
    "Let $E(n, m)$ be the expected length of the second-shortest segment.\n",
    "For example, $E(3, 2) = 2$ and $E(8, 3) = 16/7$.\n",
    "Note that if multiple segments have the same shortest length the length of the second-shortest segment is defined as the same as the shortest length.\n",
    "\n",
    "Find $E(10^7, 100)$.\n",
    "Give your answer rounded to $5$ decimal places behind the decimal point."
   ]
  },
  {
   "cell_type": "code",
   "execution_count": null,
   "id": "525a8615",
   "metadata": {},
   "outputs": [],
   "source": [
    "# Problem 398 workspace"
   ]
  },
  {
   "cell_type": "markdown",
   "id": "b27257df",
   "metadata": {},
   "source": [
    "## Answer: "
   ]
  },
  {
   "cell_type": "markdown",
   "id": "0f39286c",
   "metadata": {},
   "source": [
    "___"
   ]
  },
  {
   "cell_type": "markdown",
   "id": "0591210f",
   "metadata": {},
   "source": [
    "# Problem 399\n",
    " [Source](https://projecteuler.net/problem=399)"
   ]
  },
  {
   "cell_type": "markdown",
   "id": "b6ed5ddc",
   "metadata": {},
   "source": [
    "The first $15$ Fibonacci numbers are:\n",
    "  \n",
    "$1,1,2,3,5,8,13,21,34,55,89,144,233,377,610$.\n",
    "  \n",
    "It can be seen that $8$ and $144$ are not squarefree: $8$ is divisible by $4$ and $144$ is divisible by $4$ and by $9$.\n",
    "  \n",
    "So the first $13$ squarefree Fibonacci numbers are:\n",
    "  \n",
    "$1,1,2,3,5,13,21,34,55,89,233,377$ and $610$.\n",
    "\n",
    "The $200$th squarefree Fibonacci number is:\n",
    "$971183874599339129547649988289594072811608739584170445$.\n",
    "  \n",
    "The last sixteen digits of this number are: $1608739584170445$ and in scientific notation this number can be written as $9.7\\mathrm e53$.\n",
    "\n",
    "Find the $100\\,000\\,000$th squarefree Fibonacci number.\n",
    "  \n",
    "Give as your answer its last sixteen digits followed by a comma followed by the number in scientific notation (rounded to one digit after the decimal point).\n",
    "  \n",
    "For the $200$th squarefree number the answer would have been: 1608739584170445,9.7e53\n",
    "\n",
    "Note:\n",
    "  \n",
    "For this problem, assume that for every prime $p$, the first fibonacci number divisible by $p$ is not divisible by $p^2$ (this is part of\n",
    "**Wall's conjecture**\n",
    "). This has been verified for primes $\\le 3 \\cdot 10^{15}$, but has not been proven in general.\n",
    "  \n",
    "If it happens that the conjecture is false, then the accepted answer to this problem isn't guaranteed to be the $100\\,000\\,000$th squarefree Fibonacci number, rather it represents only a lower bound for that number."
   ]
  },
  {
   "cell_type": "code",
   "execution_count": null,
   "id": "ae003b67",
   "metadata": {},
   "outputs": [],
   "source": [
    "# Problem 399 workspace"
   ]
  },
  {
   "cell_type": "markdown",
   "id": "d542b9df",
   "metadata": {},
   "source": [
    "## Answer: "
   ]
  },
  {
   "cell_type": "markdown",
   "id": "fd119fad",
   "metadata": {},
   "source": [
    "___"
   ]
  },
  {
   "cell_type": "markdown",
   "id": "020cdde7",
   "metadata": {},
   "source": [
    "# Problem 400\n",
    " [Source](https://projecteuler.net/problem=400)"
   ]
  },
  {
   "cell_type": "markdown",
   "id": "7b6c0531",
   "metadata": {},
   "source": [
    "A\n",
    "**Fibonacci tree**\n",
    "is a binary tree recursively defined as:\n",
    "\n",
    "* $T(0)$ is the empty tree.\n",
    "* $T(1)$ is the binary tree with only one node.\n",
    "* $T(k)$ consists of a root node that has $T(k-1)$ and $T(k-2)$ as children.\n",
    "\n",
    "On such a tree two players play a take-away game. On each turn a player selects a node and removes that node along with the subtree rooted at that node.\n",
    "  \n",
    "The player who is forced to take the root node of the entire tree loses.\n",
    "\n",
    "Here are the winning moves of the first player on the first turn for $T(k)$ from $k=1$ to $k=6$.\n",
    "\n",
    "![0400_winning.png](resources/0400_winning.png)\n",
    "\n",
    "Let $f(k)$ be the number of winning moves of the first player (i.e. the moves for which the second player has no winning strategy) on the first turn of the game when this game is played on $T(k)$.\n",
    "\n",
    "For example, $f(5) = 1$ and $f(10) = 17$.\n",
    "\n",
    "Find $f(10000)$. Give the last $18$ digits of your answer."
   ]
  },
  {
   "cell_type": "code",
   "execution_count": null,
   "id": "be793477",
   "metadata": {},
   "outputs": [],
   "source": [
    "# Problem 400 workspace"
   ]
  },
  {
   "cell_type": "markdown",
   "id": "a6dd6375",
   "metadata": {},
   "source": [
    "## Answer: "
   ]
  },
  {
   "cell_type": "markdown",
   "id": "3e551fd9",
   "metadata": {},
   "source": [
    "___"
   ]
  }
 ],
 "metadata": {},
 "nbformat": 4,
 "nbformat_minor": 5
}
