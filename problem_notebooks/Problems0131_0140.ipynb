{
 "cells": [
  {
   "cell_type": "markdown",
   "id": "7483ce85",
   "metadata": {},
   "source": [
    "# Problem 131\n",
    " [Source](https://projecteuler.net/problem=131)"
   ]
  },
  {
   "cell_type": "markdown",
   "id": "f2043159",
   "metadata": {},
   "source": [
    "There are some prime values, $p$, for which there exists a positive integer, $n$, such that the expression $n^3 + n^2p$ is a perfect cube.\n",
    "\n",
    "For example, when $p = 19$, $8^3 + 8^2 \\times 19 = 12^3$.\n",
    "\n",
    "What is perhaps most surprising is that for each prime with this property the value of $n$ is unique, and there are only four such primes below one-hundred.\n",
    "\n",
    "How many primes below one million have this remarkable property?"
   ]
  },
  {
   "cell_type": "code",
   "execution_count": null,
   "id": "61560114",
   "metadata": {},
   "outputs": [],
   "source": [
    "# Problem 131 workspace"
   ]
  },
  {
   "cell_type": "markdown",
   "id": "0378dc71",
   "metadata": {},
   "source": [
    "## Answer: "
   ]
  },
  {
   "cell_type": "markdown",
   "id": "f955b513",
   "metadata": {},
   "source": [
    "___"
   ]
  },
  {
   "cell_type": "markdown",
   "id": "70db664d",
   "metadata": {},
   "source": [
    "# Problem 132\n",
    " [Source](https://projecteuler.net/problem=132)"
   ]
  },
  {
   "cell_type": "markdown",
   "id": "4efa5f56",
   "metadata": {},
   "source": [
    "A number consisting entirely of ones is called a repunit. We shall define $R(k)$ to be a repunit of length $k$.\n",
    "\n",
    "For example, $R(10) = 1111111111 = 11 \\times 41 \\times 271 \\times 9091$, and the sum of these prime factors is $9414$.\n",
    "\n",
    "Find the sum of the first forty prime factors of $R(10^9)$."
   ]
  },
  {
   "cell_type": "code",
   "execution_count": null,
   "id": "ad4dcd09",
   "metadata": {},
   "outputs": [],
   "source": [
    "# Problem 132 workspace"
   ]
  },
  {
   "cell_type": "markdown",
   "id": "48e03746",
   "metadata": {},
   "source": [
    "## Answer: "
   ]
  },
  {
   "cell_type": "markdown",
   "id": "9024b5d0",
   "metadata": {},
   "source": [
    "___"
   ]
  },
  {
   "cell_type": "markdown",
   "id": "76527e84",
   "metadata": {},
   "source": [
    "# Problem 133\n",
    " [Source](https://projecteuler.net/problem=133)"
   ]
  },
  {
   "cell_type": "markdown",
   "id": "1916740f",
   "metadata": {},
   "source": [
    "A number consisting entirely of ones is called a repunit. We shall define $R(k)$ to be a repunit of length $k$; for example, $R(6) = 111111$.\n",
    "\n",
    "Let us consider repunits of the form $R(10^n)$.\n",
    "\n",
    "Although $R(10)$, $R(100)$, or $R(1000)$ are not divisible by $17$, $R(10000)$ is divisible by $17$. Yet there is no value of $n$ for which $R(10^n)$ will divide by $19$. In fact, it is remarkable that $11$, $17$, $41$, and $73$ are the only four primes below one-hundred that can be a factor of $R(10^n)$.\n",
    "\n",
    "Find the sum of all the primes below one-hundred thousand that will never be a factor of $R(10^n)$."
   ]
  },
  {
   "cell_type": "code",
   "execution_count": null,
   "id": "4edfeba7",
   "metadata": {},
   "outputs": [],
   "source": [
    "# Problem 133 workspace"
   ]
  },
  {
   "cell_type": "markdown",
   "id": "967e6c89",
   "metadata": {},
   "source": [
    "## Answer: "
   ]
  },
  {
   "cell_type": "markdown",
   "id": "9303a63e",
   "metadata": {},
   "source": [
    "___"
   ]
  },
  {
   "cell_type": "markdown",
   "id": "c4e28029",
   "metadata": {},
   "source": [
    "# Problem 134\n",
    " [Source](https://projecteuler.net/problem=134)"
   ]
  },
  {
   "cell_type": "markdown",
   "id": "cd2cbdfe",
   "metadata": {},
   "source": [
    "Consider the consecutive primes $p\\_1 = 19$ and $p\\_2 = 23$. It can be verified that $1219$ is the smallest number such that the last digits are formed by $p\\_1$ whilst also being divisible by $p\\_2$.\n",
    "\n",
    "In fact, with the exception of $p\\_1 = 3$ and $p\\_2 = 5$, for every pair of consecutive primes, $p\\_2 \\gt p\\_1$, there exist values of $n$ for which the last digits are formed by $p\\_1$ and $n$ is divisible by $p\\_2$. Let $S$ be the smallest of these values of $n$.\n",
    "\n",
    "Find $\\sum S$ for every pair of consecutive primes with $5 \\le p\\_1 \\le 1000000$."
   ]
  },
  {
   "cell_type": "code",
   "execution_count": null,
   "id": "03b950cf",
   "metadata": {},
   "outputs": [],
   "source": [
    "# Problem 134 workspace"
   ]
  },
  {
   "cell_type": "markdown",
   "id": "c5b53db0",
   "metadata": {},
   "source": [
    "## Answer: "
   ]
  },
  {
   "cell_type": "markdown",
   "id": "52c75798",
   "metadata": {},
   "source": [
    "___"
   ]
  },
  {
   "cell_type": "markdown",
   "id": "abc40be2",
   "metadata": {},
   "source": [
    "# Problem 135\n",
    " [Source](https://projecteuler.net/problem=135)"
   ]
  },
  {
   "cell_type": "markdown",
   "id": "4d705ec6",
   "metadata": {},
   "source": [
    "Given the positive integers, $x$, $y$, and $z$, are consecutive terms of an arithmetic progression, the least value of the positive integer, $n$, for which the equation, $x^2 - y^2 - z^2 = n$, has exactly two solutions is $n = 27$:\n",
    "$$34^2 - 27^2 - 20^2 = 12^2 - 9^2 - 6^2 = 27.$$\n",
    "\n",
    "It turns out that $n = 1155$ is the least value which has exactly ten solutions.\n",
    "\n",
    "How many values of $n$ less than one million have exactly ten distinct solutions?"
   ]
  },
  {
   "cell_type": "code",
   "execution_count": null,
   "id": "8f7950d7",
   "metadata": {},
   "outputs": [],
   "source": [
    "# Problem 135 workspace"
   ]
  },
  {
   "cell_type": "markdown",
   "id": "4a8618b5",
   "metadata": {},
   "source": [
    "## Answer: "
   ]
  },
  {
   "cell_type": "markdown",
   "id": "f1fa48ba",
   "metadata": {},
   "source": [
    "___"
   ]
  },
  {
   "cell_type": "markdown",
   "id": "6cc1e4c3",
   "metadata": {},
   "source": [
    "# Problem 136\n",
    " [Source](https://projecteuler.net/problem=136)"
   ]
  },
  {
   "cell_type": "markdown",
   "id": "514ef614",
   "metadata": {},
   "source": [
    "The positive integers, $x$, $y$, and $z$, are consecutive terms of an arithmetic progression. Given that $n$ is a positive integer, the equation, $x^2 - y^2 - z^2 = n$, has exactly one solution when $n = 20$:\n",
    "$$13^2 - 10^2 - 7^2 = 20.$$\n",
    "\n",
    "In fact there are twenty-five values of $n$ below one hundred for which the equation has a unique solution.\n",
    "\n",
    "How many values of $n$ less than fifty million have exactly one solution?"
   ]
  },
  {
   "cell_type": "code",
   "execution_count": null,
   "id": "dfaadc3c",
   "metadata": {},
   "outputs": [],
   "source": [
    "# Problem 136 workspace"
   ]
  },
  {
   "cell_type": "markdown",
   "id": "059188f9",
   "metadata": {},
   "source": [
    "## Answer: "
   ]
  },
  {
   "cell_type": "markdown",
   "id": "0e9e48f0",
   "metadata": {},
   "source": [
    "___"
   ]
  },
  {
   "cell_type": "markdown",
   "id": "2c5a92af",
   "metadata": {},
   "source": [
    "# Problem 137\n",
    " [Source](https://projecteuler.net/problem=137)"
   ]
  },
  {
   "cell_type": "markdown",
   "id": "4d6e5ee7",
   "metadata": {},
   "source": [
    "Consider the infinite polynomial series $A\\_F(x) = x F\\_1 + x^2 F\\_2 + x^3 F\\_3 + \\dots$, where $F\\_k$ is the $k$th term in the Fibonacci sequence: $1, 1, 2, 3, 5, 8, \\dots$; that is, $F\\_k = F\\_{k-1} + F\\_{k-2}$, $F\\_1 = 1$ and $F\\_2 = 1$.\n",
    "\n",
    "For this problem we shall be interested in values of $x$ for which $A\\_F(x)$ is a positive integer.\n",
    "\n",
    "|  |  |\n",
    "| --- | --- |\n",
    "| Surprisingly | $\\begin{align\\*} A\\_F(\\tfrac{1}{2}) &= (\\tfrac{1}{2})\\times 1 + (\\tfrac{1}{2})^2\\times 1 + (\\tfrac{1}{2})^3\\times 2 + (\\tfrac{1}{2})^4\\times 3 + (\\tfrac{1}{2})^5\\times 5 + \\cdots \\\\ &= \\tfrac{1}{2} + \\tfrac{1}{4} + \\tfrac{2}{8} + \\tfrac{3}{16} + \\tfrac{5}{32} + \\cdots \\\\ &= 2 \\end{align\\*}$ |\n",
    "\n",
    "The corresponding values of $x$ for the first five natural numbers are shown below.\n",
    "\n",
    "| $x$ | $A\\_F(x)$ |\n",
    "| --- | --- |\n",
    "| $\\sqrt{2}-1$ | $1$ |\n",
    "| $\\tfrac{1}{2}$ | $2$ |\n",
    "| $\\frac{\\sqrt{13}-2}{3}$ | $3$ |\n",
    "| $\\frac{\\sqrt{89}-5}{8}$ | $4$ |\n",
    "| $\\frac{\\sqrt{34}-3}{5}$ | $5$ |\n",
    "\n",
    "We shall call $A\\_F(x)$ a golden nugget if $x$ is rational, because they become increasingly rarer; for example, the $10$th golden nugget is $74049690$.\n",
    "\n",
    "Find the $15$th golden nugget."
   ]
  },
  {
   "cell_type": "code",
   "execution_count": null,
   "id": "2bb9a654",
   "metadata": {},
   "outputs": [],
   "source": [
    "# Problem 137 workspace"
   ]
  },
  {
   "cell_type": "markdown",
   "id": "5deff529",
   "metadata": {},
   "source": [
    "## Answer: "
   ]
  },
  {
   "cell_type": "markdown",
   "id": "f33a6f12",
   "metadata": {},
   "source": [
    "___"
   ]
  },
  {
   "cell_type": "markdown",
   "id": "334df91f",
   "metadata": {},
   "source": [
    "# Problem 138\n",
    " [Source](https://projecteuler.net/problem=138)"
   ]
  },
  {
   "cell_type": "markdown",
   "id": "aafebe83",
   "metadata": {},
   "source": [
    "Consider the isosceles triangle with base length, $b = 16$, and legs, $L = 17$.\n",
    "\n",
    "![](resources/0138.png)\n",
    "\n",
    "By using the Pythagorean theorem it can be seen that the height of the triangle, $h = \\sqrt{17^2 - 8^2} = 15$, which is one less than the base length.\n",
    "\n",
    "With $b = 272$ and $L = 305$, we get $h = 273$, which is one more than the base length, and this is the second smallest isosceles triangle with the property that $h = b \\pm 1$.\n",
    "\n",
    "Find $\\sum L$ for the twelve smallest isosceles triangles for which $h = b \\pm 1$ and $b$, $L$ are positive integers."
   ]
  },
  {
   "cell_type": "code",
   "execution_count": null,
   "id": "0e1ab16a",
   "metadata": {},
   "outputs": [],
   "source": [
    "# Problem 138 workspace"
   ]
  },
  {
   "cell_type": "markdown",
   "id": "9bee228b",
   "metadata": {},
   "source": [
    "## Answer: "
   ]
  },
  {
   "cell_type": "markdown",
   "id": "5e226176",
   "metadata": {},
   "source": [
    "___"
   ]
  },
  {
   "cell_type": "markdown",
   "id": "1e3c25ee",
   "metadata": {},
   "source": [
    "# Problem 139\n",
    " [Source](https://projecteuler.net/problem=139)"
   ]
  },
  {
   "cell_type": "markdown",
   "id": "8f0f319f",
   "metadata": {},
   "source": [
    "Let $(a, b, c)$ represent the three sides of a right angle triangle with integral length sides. It is possible to place four such triangles together to form a square with length $c$.\n",
    "\n",
    "For example, $(3, 4, 5)$ triangles can be placed together to form a $5$ by $5$ square with a $1$ by $1$ hole in the middle and it can be seen that the $5$ by $5$ square can be tiled with twenty-five $1$ by $1$ squares.\n",
    "\n",
    "![](resources/0139.png)\n",
    "\n",
    "However, if $(5, 12, 13)$ triangles were used then the hole would measure $7$ by $7$ and these could not be used to tile the $13$ by $13$ square.\n",
    "\n",
    "Given that the perimeter of the right triangle is less than one-hundred million, how many Pythagorean triangles would allow such a tiling to take place?"
   ]
  },
  {
   "cell_type": "code",
   "execution_count": null,
   "id": "0d59fa17",
   "metadata": {},
   "outputs": [],
   "source": [
    "# Problem 139 workspace"
   ]
  },
  {
   "cell_type": "markdown",
   "id": "aa4c9ed9",
   "metadata": {},
   "source": [
    "## Answer: "
   ]
  },
  {
   "cell_type": "markdown",
   "id": "fab14403",
   "metadata": {},
   "source": [
    "___"
   ]
  },
  {
   "cell_type": "markdown",
   "id": "bbb28493",
   "metadata": {},
   "source": [
    "# Problem 140\n",
    " [Source](https://projecteuler.net/problem=140)"
   ]
  },
  {
   "cell_type": "markdown",
   "id": "1f534a18",
   "metadata": {},
   "source": [
    "Consider the infinite polynomial series $A\\_G(x) = x G\\_1 + x^2 G\\_2 + x^3 G\\_3 + \\cdots$, where $G\\_k$ is the $k$th term of the second order recurrence relation $G\\_k = G\\_{k-1} + G\\_{k-2}$, $G\\_1 = 1$ and $G\\_2 = 4$; that is, $1, 4, 5, 9, 14, 23, \\dots$.\n",
    "\n",
    "For this problem we shall be concerned with values of $x$ for which $A\\_G(x)$ is a positive integer.\n",
    "\n",
    "The corresponding values of $x$ for the first five natural numbers are shown below.\n",
    "\n",
    "| $x$ | $A\\_G(x)$ |\n",
    "| --- | --- |\n",
    "| $\\frac{\\sqrt{5}-1}{4}$ | $1$ |\n",
    "| $\\tfrac{2}{5}$ | $2$ |\n",
    "| $\\frac{\\sqrt{22}-2}{6}$ | $3$ |\n",
    "| $\\frac{\\sqrt{137}-5}{14}$ | $4$ |\n",
    "| $\\tfrac{1}{2}$ | $5$ |\n",
    "\n",
    "We shall call $A\\_G(x)$ a golden nugget if $x$ is rational, because they become increasingly rarer; for example, the $20$th golden nugget is $211345365$.\n",
    "\n",
    "Find the sum of the first thirty golden nuggets."
   ]
  },
  {
   "cell_type": "code",
   "execution_count": null,
   "id": "391a3aef",
   "metadata": {},
   "outputs": [],
   "source": [
    "# Problem 140 workspace"
   ]
  },
  {
   "cell_type": "markdown",
   "id": "5d94c348",
   "metadata": {},
   "source": [
    "## Answer: "
   ]
  },
  {
   "cell_type": "markdown",
   "id": "d60ea37f",
   "metadata": {},
   "source": [
    "___"
   ]
  }
 ],
 "metadata": {},
 "nbformat": 4,
 "nbformat_minor": 5
}
