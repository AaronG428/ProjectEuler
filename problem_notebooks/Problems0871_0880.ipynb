{
 "cells": [
  {
   "cell_type": "markdown",
   "id": "03929492",
   "metadata": {},
   "source": [
    "# Problem 871\n",
    " [Source](https://projecteuler.net/problem=871)"
   ]
  },
  {
   "cell_type": "markdown",
   "id": "4f796e49",
   "metadata": {},
   "source": [
    "Let $f$ be a function from a finite set $S$ to itself. A\n",
    "drifting subset\n",
    "for $f$ is a subset $A$ of $S$ such that the number of elements in the union $A \\cup f(A)$ is equal to twice the number of elements of $A$.\n",
    "  \n",
    "We write $D(f)$ for the maximal number of elements among all drifting subsets for $f$.\n",
    "\n",
    "For a positive integer $n$, define $f\\_n$ as the function from $\\{0, 1, \\dots, n - 1\\}$ to itself sending $x$ to $x^3 + x + 1 \\bmod n$.\n",
    "  \n",
    "You are given $D(f\\_5) = 1$ and $D(f\\_{10}) = 3$.\n",
    "\n",
    "Find $\\displaystyle\\sum\\_{i = 1}^{100} D(f\\_{10^5 + i})$."
   ]
  },
  {
   "cell_type": "code",
   "execution_count": null,
   "id": "f1c2a345",
   "metadata": {},
   "outputs": [],
   "source": [
    "# Problem 871 workspace"
   ]
  },
  {
   "cell_type": "markdown",
   "id": "cb48a6c4",
   "metadata": {},
   "source": [
    "## Answer: "
   ]
  },
  {
   "cell_type": "markdown",
   "id": "c48f4207",
   "metadata": {},
   "source": [
    "___"
   ]
  },
  {
   "cell_type": "markdown",
   "id": "13956daf",
   "metadata": {},
   "source": [
    "# Problem 872\n",
    " [Source](https://projecteuler.net/problem=872)"
   ]
  },
  {
   "cell_type": "markdown",
   "id": "814d26d7",
   "metadata": {},
   "source": [
    "A sequence of rooted trees $T\\_n$ is constructed such that $T\\_n$ has $n$ nodes numbered $1$ to $n$.\n",
    "\n",
    "The sequence starts at $T\\_1$, a tree with a single node as a root with the number $1$.\n",
    "\n",
    "For $n > 1$, $T\\_n$ is constructed from $T\\_{n-1}$ using the following procedure:\n",
    "\n",
    "1. Trace a path from the root of $T\\_{n-1}$ to a leaf by following the largest-numbered child at each node.\n",
    "2. Remove all edges along the traced path, disconnecting all nodes along it from their parents.\n",
    "3. Connect all orphaned nodes directly to a new node numbered $n$, which becomes the root of $T\\_n$.\n",
    "\n",
    "For example, the following figure shows $T\\_6$ and $T\\_7$. The path traced through $T\\_6$ during the construction of $T\\_7$ is coloured red.\n",
    "\n",
    "![0872_tree.png](resources/0872_tree.png)\n",
    "\n",
    "Let $f(n, k)$ be the sum of the node numbers along the path connecting the root of $T\\_n$ to the node $k$, including the root and the node $k$. For example, $f(6, 1) = 6 + 5 + 1 = 12$ and $f(10, 3) = 29$.\n",
    "\n",
    "Find $f(10^{17}, 9^{17})$."
   ]
  },
  {
   "cell_type": "code",
   "execution_count": null,
   "id": "bb32c59b",
   "metadata": {},
   "outputs": [],
   "source": [
    "# Problem 872 workspace"
   ]
  },
  {
   "cell_type": "markdown",
   "id": "0bed2c49",
   "metadata": {},
   "source": [
    "## Answer: "
   ]
  },
  {
   "cell_type": "markdown",
   "id": "363c8d07",
   "metadata": {},
   "source": [
    "___"
   ]
  },
  {
   "cell_type": "markdown",
   "id": "c6d41140",
   "metadata": {},
   "source": [
    "# Problem 873\n",
    " [Source](https://projecteuler.net/problem=873)"
   ]
  },
  {
   "cell_type": "markdown",
   "id": "04846175",
   "metadata": {},
   "source": [
    "Let $W(p,q,r)$ be the number of words that can be formed using the letter A $p$ times, the letter B $q$ times and the letter C $r$ times with the condition that every A is separated from every B by at least two Cs. For example, CACACCBB is a valid word for $W(2,2,4)$ but ACBCACBC is not.\n",
    "\n",
    "You are given $W(2,2,4)=32$ and $W(4,4,44)=13908607644$.\n",
    "\n",
    "Find $W(10^6,10^7,10^8)$. Give your answer modulo $1\\,000\\,000\\,007$."
   ]
  },
  {
   "cell_type": "code",
   "execution_count": null,
   "id": "93006739",
   "metadata": {},
   "outputs": [],
   "source": [
    "# Problem 873 workspace"
   ]
  },
  {
   "cell_type": "markdown",
   "id": "5d2ac2da",
   "metadata": {},
   "source": [
    "## Answer: "
   ]
  },
  {
   "cell_type": "markdown",
   "id": "5e26aa47",
   "metadata": {},
   "source": [
    "___"
   ]
  },
  {
   "cell_type": "markdown",
   "id": "4fc983a1",
   "metadata": {},
   "source": [
    "# Problem 874\n",
    " [Source](https://projecteuler.net/problem=874)"
   ]
  },
  {
   "cell_type": "markdown",
   "id": "db930f70",
   "metadata": {},
   "source": [
    "Let $p(t)$ denote the $(t+1)$th prime number. So that $p(0) = 2$, $p(1) = 3$, etc.\n",
    "  \n",
    "We define the\n",
    "prime score\n",
    "of a list of nonnegative integers $[a\\_1, \\dots, a\\_n]$ as the sum $\\sum\\_{i = 1}^n p(a\\_i)$.\n",
    "  \n",
    "Let $M(k, n)$ be the maximal prime score among all lists $[a\\_1, \\dots, a\\_n]$ such that:\n",
    "\n",
    "* $0 \\leq a\\_i < k$ for each $i$;\n",
    "* the sum $\\sum\\_{i = 1}^n a\\_i$ is a multiple of $k$.\n",
    "\n",
    "For example, $M(2, 5) = 14$ as $[0, 1, 1, 1, 1]$ attains a maximal prime score of $14$.\n",
    "\n",
    "Find $M(7000, p(7000))$."
   ]
  },
  {
   "cell_type": "code",
   "execution_count": null,
   "id": "1e7758f3",
   "metadata": {},
   "outputs": [],
   "source": [
    "# Problem 874 workspace"
   ]
  },
  {
   "cell_type": "markdown",
   "id": "dbb36bf9",
   "metadata": {},
   "source": [
    "## Answer: "
   ]
  },
  {
   "cell_type": "markdown",
   "id": "5e5028aa",
   "metadata": {},
   "source": [
    "___"
   ]
  },
  {
   "cell_type": "markdown",
   "id": "3f1414a9",
   "metadata": {},
   "source": [
    "# Problem 875\n",
    " [Source](https://projecteuler.net/problem=875)"
   ]
  },
  {
   "cell_type": "markdown",
   "id": "afa793a3",
   "metadata": {},
   "source": [
    "For a positive integer $n$ we define $q(n)$ to be the number of solutions to:\n",
    "\n",
    "$$a\\_1^2+a\\_2^2+a\\_3^2+a\\_4^2 \\equiv b\\_1^2+b\\_2^2+b\\_3^2+b\\_4^2 \\pmod n$$\n",
    "\n",
    "where $0 \\leq a\\_i, b\\_i \\lt n$. For example, $q(4)= 18432$.\n",
    "\n",
    "Define $\\displaystyle Q(n)=\\sum\\_{i=1}^{n}q(i)$. You are given $Q(10)=18573381$.\n",
    "\n",
    "Find $Q(12345678)$. Give your answer modulo $1001961001$."
   ]
  },
  {
   "cell_type": "code",
   "execution_count": null,
   "id": "e631e643",
   "metadata": {},
   "outputs": [],
   "source": [
    "# Problem 875 workspace"
   ]
  },
  {
   "cell_type": "markdown",
   "id": "e65061da",
   "metadata": {},
   "source": [
    "## Answer: "
   ]
  },
  {
   "cell_type": "markdown",
   "id": "8445e0b7",
   "metadata": {},
   "source": [
    "___"
   ]
  },
  {
   "cell_type": "markdown",
   "id": "a10f5a85",
   "metadata": {},
   "source": [
    "# Problem 876\n",
    " [Source](https://projecteuler.net/problem=876)"
   ]
  },
  {
   "cell_type": "markdown",
   "id": "1e55a0d3",
   "metadata": {},
   "source": [
    "Starting with three numbers $a, b, c$, at each step do one of the three operations:\n",
    "\n",
    "* change $a$ to $2(b + c) - a$;\n",
    "* change $b$ to $2(c + a) - b$;\n",
    "* change $c$ to $2(a + b) - c$;\n",
    "\n",
    "Define $f(a, b, c)$ to be the minimum number of steps required for one number to become zero. If this is not possible then $f(a, b, c)=0$.\n",
    "\n",
    "For example, $f(6,10,35)=3$:\n",
    "$$(6,10,35) \\to (6,10,-3) \\to (8,10,-3) \\to (8,0,-3).$$\n",
    "However, $f(6,10,36)=0$ as no series of operations leads to a zero number.\n",
    "\n",
    "Also define $F(a, b)=\\sum\\_{c=1}^\\infty f(a,b,c)$.\n",
    "You are given $F(6,10)=17$ and $F(36,100)=179$.\n",
    "\n",
    "Find $\\displaystyle\\sum\\_{k=1}^{18}F(6^k,10^k)$."
   ]
  },
  {
   "cell_type": "code",
   "execution_count": null,
   "id": "0e26dd85",
   "metadata": {},
   "outputs": [],
   "source": [
    "# Problem 876 workspace"
   ]
  },
  {
   "cell_type": "markdown",
   "id": "d4beaca7",
   "metadata": {},
   "source": [
    "## Answer: "
   ]
  },
  {
   "cell_type": "markdown",
   "id": "22398e59",
   "metadata": {},
   "source": [
    "___"
   ]
  },
  {
   "cell_type": "markdown",
   "id": "77c99f9b",
   "metadata": {},
   "source": [
    "# Problem 877\n",
    " [Source](https://projecteuler.net/problem=877)"
   ]
  },
  {
   "cell_type": "markdown",
   "id": "cb510335",
   "metadata": {},
   "source": [
    "We use $x\\oplus y$ for the bitwise XOR of $x$ and $y$.\n",
    "  \n",
    "Define the\n",
    "XOR-product\n",
    "of $x$ and $y$, denoted by $x \\otimes y$, similar to a long multiplication in base $2$, except that the intermediate results are XORed instead of the usual integer addition.\n",
    "\n",
    "For example, $7 \\otimes 3 = 9$, or in base $2$, $111\\_2 \\otimes 11\\_2 = 1001\\_2$:\n",
    "\n",
    "$$\\begin{align\\*}\n",
    "\\phantom{\\otimes 111} 111\\_2 \\\\\n",
    "\\otimes \\phantom{1111} 11\\_2 \\\\\n",
    "\\hline\n",
    "\\phantom{\\otimes 111} 111\\_2 \\\\\n",
    "\\oplus \\phantom{11} 111\\_2 \\phantom{9} \\\\\n",
    "\\hline\n",
    "\\phantom{\\otimes 11} 1001\\_2 \\\\\n",
    "\\end{align\\*}$$\n",
    "We consider the equation:\n",
    "$$\\begin{align}\n",
    "(a \\otimes a) \\oplus (2 \\otimes a \\otimes b) \\oplus (b \\otimes b) = 5\n",
    "\\end{align}$$\n",
    "For example, $(a, b) = (3, 6)$ is a solution.\n",
    "\n",
    "Let $X(N)$ be the XOR of the $b$ values for all solutions to this equation satisfying $0 \\le a \\le b \\le N$.\n",
    "  \n",
    "You are given $X(10)=5$.\n",
    "\n",
    "Find $X(10^{18})$."
   ]
  },
  {
   "cell_type": "code",
   "execution_count": null,
   "id": "7e40f818",
   "metadata": {},
   "outputs": [],
   "source": [
    "# Problem 877 workspace"
   ]
  },
  {
   "cell_type": "markdown",
   "id": "551047de",
   "metadata": {},
   "source": [
    "## Answer: "
   ]
  },
  {
   "cell_type": "markdown",
   "id": "85b86991",
   "metadata": {},
   "source": [
    "___"
   ]
  },
  {
   "cell_type": "markdown",
   "id": "3e057745",
   "metadata": {},
   "source": [
    "# Problem 878\n",
    " [Source](https://projecteuler.net/problem=878)"
   ]
  },
  {
   "cell_type": "markdown",
   "id": "128a9070",
   "metadata": {},
   "source": [
    "We use $x\\oplus y$ for the bitwise XOR of $x$ and $y$.\n",
    "  \n",
    "Define the\n",
    "XOR-product\n",
    "of $x$ and $y$, denoted by $x \\otimes y$, similar to a long multiplication in base $2$, except that the intermediate results are XORed instead of the usual integer addition.\n",
    "  \n",
    "For example, $7 \\otimes 3 = 9$, or in base $2$, $111\\_2 \\otimes 11\\_2 = 1001\\_2$:\n",
    "$$\\begin{align\\*}\n",
    "\\phantom{\\otimes 111} 111\\_2 \\\\\n",
    "\\otimes \\phantom{1111} 11\\_2 \\\\\n",
    "\\hline\n",
    "\\phantom{\\otimes 111} 111\\_2 \\\\\n",
    "\\oplus \\phantom{11} 111\\_2 \\phantom{9} \\\\\n",
    "\\hline\n",
    "\\phantom{\\otimes 11} 1001\\_2 \\\\\n",
    "\\end{align\\*}$$\n",
    "We consider the equation:\n",
    "$$\\begin{align}\n",
    "(a \\otimes a) \\oplus (2 \\otimes a \\otimes b) \\oplus (b \\otimes b) = k.\n",
    "\\end{align}$$\n",
    "\n",
    "For example, $(a, b) = (3, 6)$ is a solution to this equation for $k=5$.\n",
    "\n",
    "Let $G(N,m)$ be the number of solutions to those equations with $k \\le m$ and $0 \\le a \\le b \\le N$.\n",
    "\n",
    "You are given $G(1000,100)=398$.\n",
    "\n",
    "Find $G(10^{17},1\\,000\\,000).$"
   ]
  },
  {
   "cell_type": "code",
   "execution_count": null,
   "id": "2f04bbe4",
   "metadata": {},
   "outputs": [],
   "source": [
    "# Problem 878 workspace"
   ]
  },
  {
   "cell_type": "markdown",
   "id": "3a29fb76",
   "metadata": {},
   "source": [
    "## Answer: "
   ]
  },
  {
   "cell_type": "markdown",
   "id": "7a58afe9",
   "metadata": {},
   "source": [
    "___"
   ]
  },
  {
   "cell_type": "markdown",
   "id": "c35c57f3",
   "metadata": {},
   "source": [
    "# Problem 879\n",
    " [Source](https://projecteuler.net/problem=879)"
   ]
  },
  {
   "cell_type": "markdown",
   "id": "0d0981f9",
   "metadata": {},
   "source": [
    "A touch-screen device can be unlocked with a \"password\" consisting of a sequence of two or more distinct spots that the user selects from a rectangular grid of spots on the screen. The user enters their sequence by touching the first spot, then tracing a straight line segment to the next spot, and so on until the end of the sequence. The user's finger remains in contact with the screen throughout, and may only move in straight line segments from spot to spot.\n",
    "\n",
    "If the finger traces a straight line that passes over an intermediate spot, then that is treated as two line segments with the intermediate spot included in the password sequence. For example, on a $3\\times 3$ grid labelled with digits $1$ to $9$ (shown below), tracing $1-9$ is interpreted as $1-5-9$.\n",
    "\n",
    "Once a spot has been selected it disappears from the screen. Thereafter, the spot may not be used as an endpoint of future line segments, and it is ignored by any future line segments which happen to pass through it. For example, tracing $1-9-3-7$ (which crosses the $5$ spot twice) will give the password $1-5-9-6-3-7$.\n",
    "\n",
    "![1-5-9-6-3-7 example](resources/0879_touchscreen_159637.png)\n",
    "\n",
    "There are $389488$ different passwords that can be formed on a $3 \\times 3$ grid.\n",
    "\n",
    "Find the number of different passwords that can be formed on a $4 \\times 4$ grid."
   ]
  },
  {
   "cell_type": "code",
   "execution_count": null,
   "id": "2c0da875",
   "metadata": {},
   "outputs": [],
   "source": [
    "# Problem 879 workspace"
   ]
  },
  {
   "cell_type": "markdown",
   "id": "20c8b68c",
   "metadata": {},
   "source": [
    "## Answer: "
   ]
  },
  {
   "cell_type": "markdown",
   "id": "7b01c6ba",
   "metadata": {},
   "source": [
    "___"
   ]
  },
  {
   "cell_type": "markdown",
   "id": "dde4a9f9",
   "metadata": {},
   "source": [
    "# Problem 880\n",
    " [Source](https://projecteuler.net/problem=880)"
   ]
  },
  {
   "cell_type": "markdown",
   "id": "d9f85df1",
   "metadata": {},
   "source": [
    "$(x,y)$ is called a\n",
    "*nested radical pair*\n",
    "if $x$ and $y$ are non-zero integers such that $\\dfrac{x}{y}$ is not a cube of a rational number, and there exist integers $a$, $b$ and $c$ such that:\n",
    "\n",
    "$$\\sqrt{\\sqrt[3]{x}+\\sqrt[3]{y}}=\\sqrt[3]{a}+\\sqrt[3]{b}+\\sqrt[3]{c}$$\n",
    "\n",
    "For example, both $(-4,125)$ and $(5,5324)$ are nested radical pairs:\n",
    "\n",
    "$$\n",
    "\\begin{align\\*}\n",
    "\\begin{split}\n",
    "\\sqrt{\\sqrt[3]{-4}+\\sqrt[3]{125}} &= \\sqrt[3]{-1}+\\sqrt[3]{2}+\\sqrt[3]{4}\\\\\n",
    "\\sqrt{\\sqrt[3]{5}+\\sqrt[3]{5324}} &= \\sqrt[3]{-2}+\\sqrt[3]{20}+\\sqrt[3]{25}\\\\\n",
    "\\end{split}\n",
    "\\end{align\\*}\n",
    "$$\n",
    "\n",
    "Let $H(N)$ be the sum of $|x|+|y|$ for all the nested radical pairs $(x, y)$ where $|x| \\leq |y|\\leq N$.\n",
    "  \n",
    "For example, $H(10^3)=2535$.\n",
    "\n",
    "Find $H(10^{15})$. Give your answer modulo $1031^3+2$."
   ]
  },
  {
   "cell_type": "code",
   "execution_count": null,
   "id": "8d06d67c",
   "metadata": {},
   "outputs": [],
   "source": [
    "# Problem 880 workspace"
   ]
  },
  {
   "cell_type": "markdown",
   "id": "5eb06663",
   "metadata": {},
   "source": [
    "## Answer: "
   ]
  },
  {
   "cell_type": "markdown",
   "id": "71ce50c9",
   "metadata": {},
   "source": [
    "___"
   ]
  }
 ],
 "metadata": {},
 "nbformat": 4,
 "nbformat_minor": 5
}
