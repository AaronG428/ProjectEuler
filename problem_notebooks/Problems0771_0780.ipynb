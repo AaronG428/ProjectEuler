{
 "cells": [
  {
   "cell_type": "markdown",
   "id": "bcd0d154",
   "metadata": {},
   "source": [
    "# Problem 771\n",
    " [Source](https://projecteuler.net/problem=771)"
   ]
  },
  {
   "cell_type": "markdown",
   "id": "d06ed8e1",
   "metadata": {},
   "source": [
    "We define a\n",
    "pseudo-geometric sequence\n",
    "to be a finite sequence $a\\_0, a\\_1, \\dotsc, a\\_n$ of positive integers, satisfying the following conditions:\n",
    "\n",
    "* $n \\geq 4$, i.e. the sequence has at least $5$ terms.\n",
    "* $0 \\lt a\\_0 \\lt a\\_1 \\lt \\cdots \\lt a\\_n$, i.e. the sequence is strictly increasing.\n",
    "* $| a\\_i^2 - a\\_{i - 1}a\\_{i + 1} | \\le 2$ for $1 \\le i \\le n-1$.\n",
    "\n",
    "Let $G(N)$ be the number of different pseudo-geometric sequences whose terms do not exceed $N$.\n",
    "  \n",
    "For example, $G(6) = 4$, as the following $4$ sequences give a complete list:\n",
    "\n",
    "$1, 2, 3, 4, 5 \\qquad 1, 2, 3, 4, 6 \\qquad 2, 3, 4, 5, 6 \\qquad 1, 2, 3, 4, 5, 6$\n",
    "\n",
    "Also, $G(10) = 26$, $G(100) = 4710$ and $G(1000) = 496805$.\n",
    "\n",
    "Find $G(10^{18})$. Give your answer modulo $1\\,000\\,000\\,007$."
   ]
  },
  {
   "cell_type": "code",
   "execution_count": null,
   "id": "7c0ff650",
   "metadata": {},
   "outputs": [],
   "source": [
    "# Problem 771 workspace"
   ]
  },
  {
   "cell_type": "markdown",
   "id": "b301e017",
   "metadata": {},
   "source": [
    "## Answer: "
   ]
  },
  {
   "cell_type": "markdown",
   "id": "a7a17cf7",
   "metadata": {},
   "source": [
    "___"
   ]
  },
  {
   "cell_type": "markdown",
   "id": "63420a73",
   "metadata": {},
   "source": [
    "# Problem 772\n",
    " [Source](https://projecteuler.net/problem=772)"
   ]
  },
  {
   "cell_type": "markdown",
   "id": "667e9bab",
   "metadata": {},
   "source": [
    "A $k$-bounded partition of a positive integer $N$ is a way of writing $N$ as a sum of positive integers not exceeding $k$.\n",
    "\n",
    "A balanceable partition is a partition that can be further divided into two parts of equal sums.\n",
    "\n",
    "For example, $3 + 2 + 2 + 2 + 2 + 1$ is a balanceable $3$-bounded partition of $12$ since $3 + 2 + 1 = 2 + 2 + 2$. Conversely, $3 + 3 + 3 + 1$ is a $3$-bounded partition of $10$ which is not balanceable.\n",
    "\n",
    "Let $f(k)$ be the smallest positive integer $N$ all of whose $k$-bounded partitions are balanceable. For example, $f(3) = 12$ and $f(30) \\equiv 179092994 \\pmod {1\\,000\\,000\\,007}$.\n",
    "\n",
    "Find $f(10^8)$. Give your answer modulo $1\\,000\\,000\\,007$."
   ]
  },
  {
   "cell_type": "code",
   "execution_count": null,
   "id": "eaa04936",
   "metadata": {},
   "outputs": [],
   "source": [
    "# Problem 772 workspace"
   ]
  },
  {
   "cell_type": "markdown",
   "id": "bb181c47",
   "metadata": {},
   "source": [
    "## Answer: "
   ]
  },
  {
   "cell_type": "markdown",
   "id": "9d858454",
   "metadata": {},
   "source": [
    "___"
   ]
  },
  {
   "cell_type": "markdown",
   "id": "f6a0df71",
   "metadata": {},
   "source": [
    "# Problem 773\n",
    " [Source](https://projecteuler.net/problem=773)"
   ]
  },
  {
   "cell_type": "markdown",
   "id": "cedd4f68",
   "metadata": {},
   "source": [
    "Let $S\\_k$ be the set containing $2$ and $5$ and the first $k$ primes that end in $7$. For example, $S\\_3 = \\{2,5,7,17,37\\}$.\n",
    "\n",
    "Define a\n",
    "$k$-Ruff\n",
    "number to be one that is not divisible by any element in $S\\_k$.\n",
    "\n",
    "If $N\\_k$ is the product of the numbers in $S\\_k$ then define $F(k)$ to be the sum of all $k$-Ruff numbers less than $N\\_k$ that have last digit $7$. You are given $F(3) = 76101452$.\n",
    "\n",
    "Find $F(97)$, give your answer modulo $1\\,000\\,000\\,007$."
   ]
  },
  {
   "cell_type": "code",
   "execution_count": null,
   "id": "7924417a",
   "metadata": {},
   "outputs": [],
   "source": [
    "# Problem 773 workspace"
   ]
  },
  {
   "cell_type": "markdown",
   "id": "9d193e29",
   "metadata": {},
   "source": [
    "## Answer: "
   ]
  },
  {
   "cell_type": "markdown",
   "id": "3e125ac4",
   "metadata": {},
   "source": [
    "___"
   ]
  },
  {
   "cell_type": "markdown",
   "id": "f16bcf2d",
   "metadata": {},
   "source": [
    "# Problem 774\n",
    " [Source](https://projecteuler.net/problem=774)"
   ]
  },
  {
   "cell_type": "markdown",
   "id": "0ebc2b1f",
   "metadata": {},
   "source": [
    "Let '$\\&$' denote the bitwise AND operation.\n",
    "  \n",
    "For example, $10\\,\\&\\, 12 = 1010\\_2\\,\\&\\, 1100\\_2 = 1000\\_2 = 8$.\n",
    "\n",
    "We shall call a finite sequence of non-negative integers $(a\\_1, a\\_2, \\ldots, a\\_n)$\n",
    "conjunctive\n",
    "if $a\\_i\\,\\&\\, a\\_{i+1} \\neq 0$ for all $i=1\\ldots n-1$.\n",
    "\n",
    "Define $c(n,b)$ to be the number of conjunctive sequences of length $n$ in which all terms are $\\le b$.\n",
    "\n",
    "You are given that $c(3,4)=18$, $c(10,6)=2496120$, and $c(100,200) \\equiv 268159379 \\pmod {998244353}$.\n",
    "\n",
    "Find $c(123,123456789)$. Give your answer modulo $998244353$."
   ]
  },
  {
   "cell_type": "code",
   "execution_count": null,
   "id": "4c9ca4c8",
   "metadata": {},
   "outputs": [],
   "source": [
    "# Problem 774 workspace"
   ]
  },
  {
   "cell_type": "markdown",
   "id": "ca80f6e5",
   "metadata": {},
   "source": [
    "## Answer: "
   ]
  },
  {
   "cell_type": "markdown",
   "id": "c3e0e78e",
   "metadata": {},
   "source": [
    "___"
   ]
  },
  {
   "cell_type": "markdown",
   "id": "fbbdb947",
   "metadata": {},
   "source": [
    "# Problem 775\n",
    " [Source](https://projecteuler.net/problem=775)"
   ]
  },
  {
   "cell_type": "markdown",
   "id": "73ace737",
   "metadata": {},
   "source": [
    "When wrapping several cubes in paper, it is more efficient to wrap them all together than to wrap each one individually. For example, with 10 cubes of unit edge length, it would take 30 units of paper to wrap them in the arrangement shown below, but 60 units to wrap them separately.\n",
    "\n",
    "![](resources/0775_wrapping_cubes.png)\n",
    "\n",
    "Define $g(n)$ to be the maximum amount of paper that can be saved by wrapping $n$ identical $1\\times 1\\times 1$ cubes in a compact arrangement, compared with wrapping them individually. We insist that the wrapping paper is in contact with the cubes at all points, without leaving a void.\n",
    "\n",
    "With $10$ cubes, the arrangement illustrated above is optimal, so $g(10)=60-30=30$. With $18$ cubes, it can be shown that the optimal arrangement is as a $3\\times 3\\times 2$, using $42$ units of paper, whereas wrapping individually would use $108$ units of paper; hence $g(18) = 66$.\n",
    "\n",
    "Define\n",
    "$$G(N) = \\sum\\_{n=1}^N g(n).$$\n",
    "You are given that $G(18) = 530$, and $G(10^6) \\equiv 951640919 \\pmod {1\\,000\\,000\\,007}$.\n",
    "\n",
    "Find $G(10^{16})$. Give your answer modulo $1\\,000\\,000\\,007$."
   ]
  },
  {
   "cell_type": "code",
   "execution_count": null,
   "id": "b887d086",
   "metadata": {},
   "outputs": [],
   "source": [
    "# Problem 775 workspace"
   ]
  },
  {
   "cell_type": "markdown",
   "id": "2d7b476c",
   "metadata": {},
   "source": [
    "## Answer: "
   ]
  },
  {
   "cell_type": "markdown",
   "id": "71ae0c35",
   "metadata": {},
   "source": [
    "___"
   ]
  },
  {
   "cell_type": "markdown",
   "id": "948246d1",
   "metadata": {},
   "source": [
    "# Problem 776\n",
    " [Source](https://projecteuler.net/problem=776)"
   ]
  },
  {
   "cell_type": "markdown",
   "id": "7300348b",
   "metadata": {},
   "source": [
    "For a positive integer $n$, $d(n)$ is defined to be the sum of the digits of $n$. For example, $d(12345)=15$.\n",
    "\n",
    "Let $\\displaystyle F(N)=\\sum\\_{n=1}^N \\frac n{d(n)}$.\n",
    "\n",
    "You are given $F(10)=19$, $F(123)\\approx 1.187764610390\\mathrm e3$ and $F(12345)\\approx 4.855801996238\\mathrm e6$.\n",
    "\n",
    "Find $F(1234567890123456789)$. Write your answer in scientific notation rounded to twelve significant digits after the decimal point. Use a lowercase e to separate the mantissa and the exponent."
   ]
  },
  {
   "cell_type": "code",
   "execution_count": null,
   "id": "b9f51954",
   "metadata": {},
   "outputs": [],
   "source": [
    "# Problem 776 workspace"
   ]
  },
  {
   "cell_type": "markdown",
   "id": "11aab106",
   "metadata": {},
   "source": [
    "## Answer: "
   ]
  },
  {
   "cell_type": "markdown",
   "id": "807de22e",
   "metadata": {},
   "source": [
    "___"
   ]
  },
  {
   "cell_type": "markdown",
   "id": "68d9480d",
   "metadata": {},
   "source": [
    "# Problem 777\n",
    " [Source](https://projecteuler.net/problem=777)"
   ]
  },
  {
   "cell_type": "markdown",
   "id": "f934adc6",
   "metadata": {},
   "source": [
    "For coprime positive integers $a$ and $b$, let $C\\_{a,b}$ be the curve defined by:\n",
    "$$\n",
    "\\begin{align}\n",
    "x &= \\cos \\left(at\\right) \\\\\n",
    "y &= \\cos \\left(b\\left(t-\\frac{\\pi}{10}\\right)\\right)\n",
    "\\end{align}\n",
    "$$\n",
    "where $t$ varies between $0$ and $2\\pi$.\n",
    "\n",
    "For example, the images below show $C\\_{2,5}$ (left) and $C\\_{7,4}$ (right):\n",
    "\n",
    "![](resources/0777_lissajous-pair-25-74.png)\n",
    "\n",
    "Define $d(a,b) = \\sum (x^2 + y^2)$, where the sum is over all points (x, y) at which $C\\_{a,b}$ crosses itself.\n",
    "\n",
    "For example, in the case of $C\\_{2,5}$ illustrated above, the curve crosses itself at two points: $(0.31, 0)$ and $(-0.81, 0)$, rounding coordinates to two decimal places, yielding $d(2, 5)=0.75$. Some other examples are $d(2,3)=4.5$, $d(7,4)=39.5$,\n",
    "$d(7,5)=52$,\n",
    "and $d(10,7)=23.25$.\n",
    "\n",
    "Let $s(m) = \\sum d(a,b)$, where this sum is over all pairs of coprime integers $a,b$ with $2\\le a\\le m$ and $2\\le b\\le m$.\n",
    "  \n",
    "You are given that $s(10) = 1602.5$ and $s(100) = 24256505$.\n",
    "\n",
    "Find $s(10^6)$. Give your answer in scientific notation rounded to $10$ significant digits; for example $s(100)$ would be given as 2.425650500e7."
   ]
  },
  {
   "cell_type": "code",
   "execution_count": null,
   "id": "64cc5da7",
   "metadata": {},
   "outputs": [],
   "source": [
    "# Problem 777 workspace"
   ]
  },
  {
   "cell_type": "markdown",
   "id": "be6f3f6f",
   "metadata": {},
   "source": [
    "## Answer: "
   ]
  },
  {
   "cell_type": "markdown",
   "id": "1219f8b9",
   "metadata": {},
   "source": [
    "___"
   ]
  },
  {
   "cell_type": "markdown",
   "id": "8a718d83",
   "metadata": {},
   "source": [
    "# Problem 778\n",
    " [Source](https://projecteuler.net/problem=778)"
   ]
  },
  {
   "cell_type": "markdown",
   "id": "12ead0da",
   "metadata": {},
   "source": [
    "If $a,b$ are two nonnegative integers with decimal representations $a=(\\dots a\\_2a\\_1a\\_0)$ and $b=(\\dots b\\_2b\\_1b\\_0)$ respectively, then the\n",
    "*freshman's product*\n",
    "of $a$ and $b$, denoted $a\\boxtimes b$, is the integer $c$ with decimal representation $c=(\\dots c\\_2c\\_1c\\_0)$ such that $c\\_i$ is the last digit of $a\\_i\\cdot b\\_i$.\n",
    "  \n",
    "For example, $234 \\boxtimes 765 = 480$.\n",
    "\n",
    "Let $F(R,M)$ be the sum of $x\\_1 \\boxtimes \\dots \\boxtimes x\\_R$ for all sequences of integers $(x\\_1,\\dots,x\\_R)$ with $0\\leq x\\_i \\leq M$.\n",
    "  \n",
    "For example, $F(2, 7) = 204$, and $F(23, 76) \\equiv 5870548 \\pmod{ 1\\,000\\,000\\,009}$.\n",
    "\n",
    "Find $F(234567,765432)$. Give your answer modulo $1\\,000\\,000\\,009$."
   ]
  },
  {
   "cell_type": "code",
   "execution_count": null,
   "id": "08a5eaaf",
   "metadata": {},
   "outputs": [],
   "source": [
    "# Problem 778 workspace"
   ]
  },
  {
   "cell_type": "markdown",
   "id": "e69f5226",
   "metadata": {},
   "source": [
    "## Answer: "
   ]
  },
  {
   "cell_type": "markdown",
   "id": "b2b0ebec",
   "metadata": {},
   "source": [
    "___"
   ]
  },
  {
   "cell_type": "markdown",
   "id": "416c1fa9",
   "metadata": {},
   "source": [
    "# Problem 779\n",
    " [Source](https://projecteuler.net/problem=779)"
   ]
  },
  {
   "cell_type": "markdown",
   "id": "47e5f0a6",
   "metadata": {},
   "source": [
    "For a positive integer $n \\gt 1$, let $p(n)$ be the smallest prime dividing $n$, and let $\\alpha(n)$ be its\n",
    "**$p$-adic order**\n",
    ", i.e. the largest integer such that $p(n)^{\\alpha(n)}$ divides $n$.\n",
    "\n",
    "For a positive integer $K$, define the function $f\\_K(n)$ by:\n",
    "$$f\\_K(n)=\\frac{\\alpha(n)-1}{(p(n))^K}.$$\n",
    "\n",
    "Also define $\\overline{f\\_K}$ by:\n",
    "$$\\overline{f\\_K}=\\lim\\_{N \\to \\infty} \\frac{1}{N}\\sum\\_{n=2}^{N} f\\_K(n).$$\n",
    "\n",
    "It can be verified that $\\overline{f\\_1} \\approx 0.282419756159$.\n",
    "\n",
    "Find $\\displaystyle \\sum\\_{K=1}^{\\infty}\\overline{f\\_K}$. Give your answer rounded to $12$ digits after the decimal point."
   ]
  },
  {
   "cell_type": "code",
   "execution_count": null,
   "id": "73d2f535",
   "metadata": {},
   "outputs": [],
   "source": [
    "# Problem 779 workspace"
   ]
  },
  {
   "cell_type": "markdown",
   "id": "fe0ff535",
   "metadata": {},
   "source": [
    "## Answer: "
   ]
  },
  {
   "cell_type": "markdown",
   "id": "f0932ba0",
   "metadata": {},
   "source": [
    "___"
   ]
  },
  {
   "cell_type": "markdown",
   "id": "b3bafcd7",
   "metadata": {},
   "source": [
    "# Problem 780\n",
    " [Source](https://projecteuler.net/problem=780)"
   ]
  },
  {
   "cell_type": "markdown",
   "id": "3d570ada",
   "metadata": {},
   "source": [
    "For positive real numbers $a,b$, an $a\\times b$\n",
    "**torus**\n",
    "is a rectangle of width $a$ and height $b$, with left and right sides identified, as well as top and bottom sides identified. In other words, when tracing a path on the rectangle, reaching an edge results in \"wrapping round\" to the corresponding point on the opposite edge.\n",
    "\n",
    "A\n",
    "*tiling*\n",
    "of a torus is a way to dissect it into equilateral triangles of edge length 1. For example, the following three diagrams illustrate respectively a $1\\times \\frac{\\sqrt{3}}{2}$ torus with two triangles, a $\\sqrt{3}\\times 1$ torus with four triangles, and an approximately $2.8432\\times 2.1322$ torus with fourteen triangles:\n",
    "\n",
    "![](resources/0780_sample-small-1.png)\n",
    "![](resources/0780_sample-small-2.png)\n",
    "![](resources/0780_sample-small-3.png)\n",
    "\n",
    "Two tilings of an $a\\times b$ torus are called\n",
    "equivalent\n",
    "if it is possible to obtain one from the other by continuously moving all triangles so that no gaps appear and no triangles overlap at any stage during the movement. For example, the animation below shows an equivalence between two tilings:\n",
    "\n",
    "![](resources/0780_animation.gif)\n",
    "\n",
    "Let $F(n)$ be the total number of non-equivalent tilings of all possible tori with exactly $n$ triangles. For example, $F(6)=8$, with the eight non-equivalent tilings with six triangles listed below:\n",
    "\n",
    "![](resources/0780_t6-all.png)\n",
    "\n",
    "Let $G(N)=\\sum\\_{n=1}^N F(n)$. You are given that $G(6)=14$, $G(100)=8090$, and $G(10^5)\\equiv 645124048 \\pmod{1\\,000\\,000\\,007}$.\n",
    "\n",
    "Find $G(10^9)$. Give your answer modulo $1\\,000\\,000\\,007$."
   ]
  },
  {
   "cell_type": "code",
   "execution_count": null,
   "id": "4b1a0151",
   "metadata": {},
   "outputs": [],
   "source": [
    "# Problem 780 workspace"
   ]
  },
  {
   "cell_type": "markdown",
   "id": "491b2cc5",
   "metadata": {},
   "source": [
    "## Answer: "
   ]
  },
  {
   "cell_type": "markdown",
   "id": "2090ddb3",
   "metadata": {},
   "source": [
    "___"
   ]
  }
 ],
 "metadata": {},
 "nbformat": 4,
 "nbformat_minor": 5
}
