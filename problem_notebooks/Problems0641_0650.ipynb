{
 "cells": [
  {
   "cell_type": "markdown",
   "id": "b677b019",
   "metadata": {},
   "source": [
    "# Problem 641\n",
    " [Source](https://projecteuler.net/problem=641)"
   ]
  },
  {
   "cell_type": "markdown",
   "id": "b5207ec6",
   "metadata": {},
   "source": [
    "Consider a row of $n$ dice all showing 1.\n",
    "\n",
    "First turn every second die,$ (2,4,6,\\ldots)$, so that the number showing is increased by 1. Then turn every third die. The sixth die will now show a 3. Then turn every fourth die and so on until every $n$th die (only the last die) is turned. If the die to be turned is showing a 6 then it is changed to show a 1.\n",
    "\n",
    "Let $f(n)$ be the number of dice that are showing a 1 when the process finishes. You are given $f(100)=2$ and $f(10^8) = 69$.\n",
    "\n",
    "Find $f(10^{36})$."
   ]
  },
  {
   "cell_type": "code",
   "execution_count": null,
   "id": "12ebb629",
   "metadata": {},
   "outputs": [],
   "source": [
    "# Problem 641 workspace"
   ]
  },
  {
   "cell_type": "markdown",
   "id": "f2e1c7b7",
   "metadata": {},
   "source": [
    "## Answer: "
   ]
  },
  {
   "cell_type": "markdown",
   "id": "e15667ee",
   "metadata": {},
   "source": [
    "___"
   ]
  },
  {
   "cell_type": "markdown",
   "id": "00047633",
   "metadata": {},
   "source": [
    "# Problem 642\n",
    " [Source](https://projecteuler.net/problem=642)"
   ]
  },
  {
   "cell_type": "markdown",
   "id": "2d53dbed",
   "metadata": {},
   "source": [
    "Let $f(n)$ be the largest prime factor of $n$ and $\\displaystyle F(n) = \\sum\\_{i=2}^n f(i)$.\n",
    "  \n",
    "For example $F(10)=32$, $F(100)=1915$ and $F(10000)=10118280$.\n",
    "\n",
    "Find $F(201820182018)$. Give your answer modulus $10^9$."
   ]
  },
  {
   "cell_type": "code",
   "execution_count": null,
   "id": "2cbd807d",
   "metadata": {},
   "outputs": [],
   "source": [
    "# Problem 642 workspace"
   ]
  },
  {
   "cell_type": "markdown",
   "id": "0c693a74",
   "metadata": {},
   "source": [
    "## Answer: "
   ]
  },
  {
   "cell_type": "markdown",
   "id": "1aa0eaa0",
   "metadata": {},
   "source": [
    "___"
   ]
  },
  {
   "cell_type": "markdown",
   "id": "c1c898aa",
   "metadata": {},
   "source": [
    "# Problem 643\n",
    " [Source](https://projecteuler.net/problem=643)"
   ]
  },
  {
   "cell_type": "markdown",
   "id": "e0f79ec2",
   "metadata": {},
   "source": [
    "Two positive integers $a$ and $b$ are\n",
    "$2$-friendly\n",
    "when $\\gcd(a,b) = 2^t, t \\gt 0$. For example, $24$ and $40$ are $2$-friendly because $\\gcd(24,40) = 8 = 2^3$ while $24$ and $36$ are not because $\\gcd(24,36) = 12 = 2^2\\cdot 3$ is not a power of $2$.\n",
    "\n",
    "Let $f(n)$ be the number of pairs, $(p,q)$, of positive integers with $1\\le p\\lt q\\le n$ such that $p$ and $q$ are $2$-friendly. You are given $f(10^2) = 1031$ and $f(10^6) = 321418433$ modulo $1\\,000\\,000\\,007$.\n",
    "\n",
    "Find $f(10^{11})$ modulo $1\\,000\\,000\\,007$."
   ]
  },
  {
   "cell_type": "code",
   "execution_count": null,
   "id": "a6ffc25d",
   "metadata": {},
   "outputs": [],
   "source": [
    "# Problem 643 workspace"
   ]
  },
  {
   "cell_type": "markdown",
   "id": "808d37e5",
   "metadata": {},
   "source": [
    "## Answer: "
   ]
  },
  {
   "cell_type": "markdown",
   "id": "4a669267",
   "metadata": {},
   "source": [
    "___"
   ]
  },
  {
   "cell_type": "markdown",
   "id": "3c6eb914",
   "metadata": {},
   "source": [
    "# Problem 644\n",
    " [Source](https://projecteuler.net/problem=644)"
   ]
  },
  {
   "cell_type": "markdown",
   "id": "db2d6003",
   "metadata": {},
   "source": [
    "Sam and Tom are trying a game of (partially) covering a given line segment of length $L$ by taking turns in placing unit squares onto the line segment.\n",
    "\n",
    "As illustrated below, the squares may be positioned in two different ways, either \"straight\" by placing the midpoints of two opposite sides on the line segment, or \"diagonal\" by placing two opposite corners on the line segment. Newly placed squares may touch other squares, but are not allowed to overlap any other square laid down before.\n",
    "  \n",
    "The player who is able to place the last unit square onto the line segment wins.\n",
    "\n",
    "![0644_squareline.png](resources/0644_squareline.png)\n",
    "\n",
    "With Sam starting each game by placing the first square, they quickly realise that Sam can easily win every time by placing the first square in the middle of the line segment, making the game boring.\n",
    "\n",
    "Therefore they decide to randomise Sam's first move, by first tossing a fair coin to determine whether the square will be placed straight or diagonal onto the line segment and then choosing the actual position on the line segment randomly with all possible positions being equally likely. Sam's gain of the game is defined to be 0 if he loses the game and $L$ if he wins. Assuming optimal play of both players after Sam's initial move, you can see that Sam's expected gain, called $e(L)$, is only dependent on the length of the line segment.\n",
    "\n",
    "For example, if $L=2$, Sam will win with a probability of $1$, so $e(2)= 2$.\n",
    "  \n",
    "Choosing $L=4$, the winning probability will be $0.33333333$ for the straight case and $0.22654092$ for the diagonal case, leading to $e(4)=1.11974851$ (rounded to $8$ digits after the decimal point each).\n",
    "\n",
    "Being interested in the optimal value of $L$ for Sam, let's define $f(a,b)$ to be the maximum of $e(L)$ for some $L \\in [a,b]$.\n",
    "  \n",
    "You are given $f(2,10)=2.61969775$, being reached for $L= 7.82842712$, and $f(10,20)=\n",
    "5.99374121$ (rounded to $8$ digits each).\n",
    "\n",
    "Find $f(200,500)$, rounded to $8$ digits after the decimal point."
   ]
  },
  {
   "cell_type": "code",
   "execution_count": null,
   "id": "9993325c",
   "metadata": {},
   "outputs": [],
   "source": [
    "# Problem 644 workspace"
   ]
  },
  {
   "cell_type": "markdown",
   "id": "8061610e",
   "metadata": {},
   "source": [
    "## Answer: "
   ]
  },
  {
   "cell_type": "markdown",
   "id": "8e503686",
   "metadata": {},
   "source": [
    "___"
   ]
  },
  {
   "cell_type": "markdown",
   "id": "7ea3425a",
   "metadata": {},
   "source": [
    "# Problem 645\n",
    " [Source](https://projecteuler.net/problem=645)"
   ]
  },
  {
   "cell_type": "markdown",
   "id": "c0389b70",
   "metadata": {},
   "source": [
    "On planet J, a year lasts for $D$ days. Holidays are defined by the two following rules.\n",
    "\n",
    "1. At the beginning of the reign of the current Emperor, his birthday is declared a holiday from that year onwards.\n",
    "2. If both the day before and after a day $d$ are holidays, then $d$ also becomes a holiday.\n",
    "\n",
    "Initially there are no holidays. Let $E(D)$ be the expected number of Emperors to reign before all the days of the year are holidays, assuming that their birthdays are independent and uniformly distributed throughout the $D$ days of the year.\n",
    "\n",
    "You are given $E(2)=1$, $E(5)=31/6$, $E(365)\\approx 1174.3501$.\n",
    "\n",
    "Find $E(10000)$. Give your answer rounded to 4 digits after the decimal point."
   ]
  },
  {
   "cell_type": "code",
   "execution_count": null,
   "id": "704e088d",
   "metadata": {},
   "outputs": [],
   "source": [
    "# Problem 645 workspace"
   ]
  },
  {
   "cell_type": "markdown",
   "id": "51dd461c",
   "metadata": {},
   "source": [
    "## Answer: "
   ]
  },
  {
   "cell_type": "markdown",
   "id": "3f6cdc09",
   "metadata": {},
   "source": [
    "___"
   ]
  },
  {
   "cell_type": "markdown",
   "id": "cad61873",
   "metadata": {},
   "source": [
    "# Problem 646\n",
    " [Source](https://projecteuler.net/problem=646)"
   ]
  },
  {
   "cell_type": "markdown",
   "id": "c065a95c",
   "metadata": {},
   "source": [
    "Let $n$ be a natural number and $p\\_1^{\\alpha\\_1}\\cdot p\\_2^{\\alpha\\_2}\\cdots p\\_k^{\\alpha\\_k}$ its prime factorisation.\n",
    "  \n",
    "Define the\n",
    "**Liouville function**\n",
    "$\\lambda(n)$ as $\\lambda(n) = (-1)^{\\sum\\limits\\_{i=1}^{k}\\alpha\\_i}$.\n",
    "  \n",
    "(i.e. $-1$ if the sum of the exponents $\\alpha\\_i$ is odd and $1$ if the sum of the exponents is even. )\n",
    "  \n",
    "Let $S(n,L,H)$ be the sum $\\lambda(d) \\cdot d$ over all divisors $d$ of $n$ for which $L \\leq d \\leq H$.\n",
    "\n",
    "You are given:\n",
    "\n",
    "* $S(10! , 100, 1000) = 1457$\n",
    "* $S(15!, 10^3, 10^5) = -107974$\n",
    "* $S(30!,10^8, 10^{12}) = 9766732243224$.\n",
    "\n",
    "Find $S(70!,10^{20}, 10^{60})$ and give your answer modulo $1\\,000\\,000\\,007$."
   ]
  },
  {
   "cell_type": "code",
   "execution_count": null,
   "id": "6578880b",
   "metadata": {},
   "outputs": [],
   "source": [
    "# Problem 646 workspace"
   ]
  },
  {
   "cell_type": "markdown",
   "id": "ab76f561",
   "metadata": {},
   "source": [
    "## Answer: "
   ]
  },
  {
   "cell_type": "markdown",
   "id": "755d089d",
   "metadata": {},
   "source": [
    "___"
   ]
  },
  {
   "cell_type": "markdown",
   "id": "0e0bbc49",
   "metadata": {},
   "source": [
    "# Problem 647\n",
    " [Source](https://projecteuler.net/problem=647)"
   ]
  },
  {
   "cell_type": "markdown",
   "id": "9032d379",
   "metadata": {},
   "source": [
    "It is possible to find positive integers $A$ and $B$ such that given any triangular number, $T\\_n$, then $AT\\_n +B$ is always a triangular number. We define $F\\_3(N)$ to be the sum of $(A+B)$ over all such possible pairs $(A,B)$ with $\\max(A,B)\\le N$. For example $F\\_3(100) = 184$.\n",
    "\n",
    "Polygonal numbers are generalisations of triangular numbers. Polygonal numbers with parameter $k$ we call $k$-gonal numbers. The formula for the $n$th $k$-gonal number is $\\frac 12n\\big(n(k-2)+4-k\\big)$ where $n \\ge 1$. For example when $k = 3$ we get $\\frac 12n(n+1)$ the formula for triangular numbers.\n",
    "\n",
    "The statement above is true for pentagonal, heptagonal and in fact any $k$-gonal number with $k$ odd. For example when $k=5$ we get the pentagonal numbers and we can find positive integers $A$ and $B$ such that given any pentagonal number, $P\\_n$, then $AP\\_n+B$ is always a pentagonal number. We define $F\\_5(N)$ to be the sum of $(A+B)$ over all such possible pairs $(A,B)$ with $\\max(A,B)\\le N$.\n",
    "\n",
    "Similarly we define $F\\_k(N)$ for odd $k$. You are given $\\sum\\_{k} F\\_k(10^3) = 14993$ where the sum is over all odd $k = 3,5,7,\\ldots$.\n",
    "\n",
    "Find $\\sum\\_{k} F\\_k(10^{12})$ where the sum is over all odd $k = 3,5,7,\\ldots$"
   ]
  },
  {
   "cell_type": "code",
   "execution_count": null,
   "id": "4100b8c9",
   "metadata": {},
   "outputs": [],
   "source": [
    "# Problem 647 workspace"
   ]
  },
  {
   "cell_type": "markdown",
   "id": "7bdd049b",
   "metadata": {},
   "source": [
    "## Answer: "
   ]
  },
  {
   "cell_type": "markdown",
   "id": "d5d8c81d",
   "metadata": {},
   "source": [
    "___"
   ]
  },
  {
   "cell_type": "markdown",
   "id": "63f31411",
   "metadata": {},
   "source": [
    "# Problem 648\n",
    " [Source](https://projecteuler.net/problem=648)"
   ]
  },
  {
   "cell_type": "markdown",
   "id": "e7004df7",
   "metadata": {},
   "source": [
    "For some fixed $\\rho \\in [0, 1]$, we begin a sum $s$ at $0$ and repeatedly apply a process: With probability $\\rho$, we add $1$ to $s$, otherwise we add $2$ to $s$.\n",
    "\n",
    "The process ends when either $s$ is a perfect square or $s$ exceeds $10^{18}$, whichever occurs first. For example, if $s$ goes through $0, 2, 3, 5, 7, 9$, the process ends at $s=9$, and two squares $1$ and $4$ were skipped over.\n",
    "\n",
    "Let $f(\\rho)$ be the expected number of perfect squares skipped over when the process finishes.\n",
    "\n",
    "It can be shown that the power series for $f(\\rho)$ is $\\sum\\_{k=0}^\\infty a\\_k \\rho^k$ for a suitable (unique) choice of coefficients $a\\_k$. Some of the first few coefficients are $a\\_0=1$, $a\\_1=0$, $a\\_5=-18$, $a\\_{10}=45176$.\n",
    "\n",
    "Let $F(n) = \\sum\\_{k=0}^n a\\_k$. You are given that $F(10) = 53964$ and $F(50) \\equiv 842418857 \\pmod{10^9}$.\n",
    "\n",
    "Find $F(1000)$, and give your answer modulo $10^9$."
   ]
  },
  {
   "cell_type": "code",
   "execution_count": null,
   "id": "2a4ef77f",
   "metadata": {},
   "outputs": [],
   "source": [
    "# Problem 648 workspace"
   ]
  },
  {
   "cell_type": "markdown",
   "id": "860d0544",
   "metadata": {},
   "source": [
    "## Answer: "
   ]
  },
  {
   "cell_type": "markdown",
   "id": "9dbb4eb7",
   "metadata": {},
   "source": [
    "___"
   ]
  },
  {
   "cell_type": "markdown",
   "id": "d5413d54",
   "metadata": {},
   "source": [
    "# Problem 649\n",
    " [Source](https://projecteuler.net/problem=649)"
   ]
  },
  {
   "cell_type": "markdown",
   "id": "4618dc3a",
   "metadata": {},
   "source": [
    "Alice and Bob are taking turns playing a game consisting of $c$ different coins on a chessboard of size $n$ by $n$.\n",
    "\n",
    "The game may start with any arrangement of $c$ coins in squares on the board. It is possible at any time for more than one coin to occupy the same square on the board at the same time. The coins are distinguishable, so swapping two coins gives a different arrangement if (and only if) they are on different squares.\n",
    "\n",
    "On a given turn, the player must choose a coin and move it either left or up $2$, $3$, $5$, or $7$ spaces in a single direction. The only restriction is that the coin cannot move off the edge of the board.\n",
    "\n",
    "The game ends when a player is unable to make a valid move, thereby granting the other player the victory.\n",
    "\n",
    "Assuming that Alice goes first and that both players are playing optimally, let $M(n, c)$ be the number of possible starting arrangements for which Alice can ensure her victory, given a board of size $n$ by $n$ with $c$ distinct coins.\n",
    "\n",
    "For example, $M(3, 1) = 4$, $M(3, 2) = 40$, and $M(9, 3) = 450304$.\n",
    "\n",
    "What are the last $9$ digits of $M(10\\,000\\,019, 100)$?"
   ]
  },
  {
   "cell_type": "code",
   "execution_count": null,
   "id": "efc41e83",
   "metadata": {},
   "outputs": [],
   "source": [
    "# Problem 649 workspace"
   ]
  },
  {
   "cell_type": "markdown",
   "id": "31b0bb1d",
   "metadata": {},
   "source": [
    "## Answer: "
   ]
  },
  {
   "cell_type": "markdown",
   "id": "a99a751c",
   "metadata": {},
   "source": [
    "___"
   ]
  },
  {
   "cell_type": "markdown",
   "id": "0f0dfe76",
   "metadata": {},
   "source": [
    "# Problem 650\n",
    " [Source](https://projecteuler.net/problem=650)"
   ]
  },
  {
   "cell_type": "markdown",
   "id": "85027d61",
   "metadata": {},
   "source": [
    "Let $B(n) = \\displaystyle \\prod\\_{k=0}^n {n \\choose k}$, a product of binomial coefficients.\n",
    "  \n",
    "For example, $B(5) = {5 \\choose 0} \\times {5 \\choose 1} \\times {5 \\choose 2} \\times {5 \\choose 3} \\times {5 \\choose 4} \\times {5 \\choose 5} = 1 \\times 5 \\times 10 \\times 10 \\times 5 \\times 1 = 2500$.\n",
    "\n",
    "Let $D(n) = \\displaystyle \\sum\\_{d|B(n)} d$, the sum of the divisors of $B(n)$.\n",
    "  \n",
    "For example, the divisors of B(5) are 1, 2, 4, 5, 10, 20, 25, 50, 100, 125, 250, 500, 625, 1250 and 2500,\n",
    "  \n",
    "so D(5) = 1 + 2 + 4 + 5 + 10 + 20 + 25 + 50 + 100 + 125 + 250 + 500 + 625 + 1250 + 2500 = 5467.\n",
    "\n",
    "Let $S(n) = \\displaystyle \\sum\\_{k=1}^n D(k)$.\n",
    "  \n",
    "You are given $S(5) = 5736$, $S(10) = 141740594713218418$ and $S(100)$ mod $1\\,000\\,000\\,007 = 332792866$.\n",
    "\n",
    "Find $S(20\\,000)$ mod $1\\,000\\,000\\,007$."
   ]
  },
  {
   "cell_type": "code",
   "execution_count": null,
   "id": "24ae4b69",
   "metadata": {},
   "outputs": [],
   "source": [
    "# Problem 650 workspace"
   ]
  },
  {
   "cell_type": "markdown",
   "id": "e91052f1",
   "metadata": {},
   "source": [
    "## Answer: "
   ]
  },
  {
   "cell_type": "markdown",
   "id": "138a4105",
   "metadata": {},
   "source": [
    "___"
   ]
  }
 ],
 "metadata": {},
 "nbformat": 4,
 "nbformat_minor": 5
}
