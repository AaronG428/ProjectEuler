{
 "cells": [
  {
   "cell_type": "markdown",
   "id": "db96e3e6",
   "metadata": {},
   "source": [
    "# Problem 201\n",
    " [Source](https://projecteuler.net/problem=201)"
   ]
  },
  {
   "cell_type": "markdown",
   "id": "a6a8d57b",
   "metadata": {},
   "source": [
    "For any set $A$ of numbers, let $\\operatorname{sum}(A)$ be the sum of the elements of $A$.\n",
    "  \n",
    "Consider the set $B = \\{1,3,6,8,10,11\\}$.\n",
    "  \n",
    "There are $20$ subsets of $B$ containing three elements, and their sums are:\n",
    "\n",
    "$$\\begin{align}\n",
    "\\operatorname{sum}(\\{1,3,6\\}) &= 10,\\\\\n",
    "\\operatorname{sum}(\\{1,3,8\\}) &= 12,\\\\\n",
    "\\operatorname{sum}(\\{1,3,10\\}) &= 14,\\\\\n",
    "\\operatorname{sum}(\\{1,3,11\\}) &= 15,\\\\\n",
    "\\operatorname{sum}(\\{1,6,8\\}) &= 15,\\\\\n",
    "\\operatorname{sum}(\\{1,6,10\\}) &= 17,\\\\\n",
    "\\operatorname{sum}(\\{1,6,11\\}) &= 18,\\\\\n",
    "\\operatorname{sum}(\\{1,8,10\\}) &= 19,\\\\\n",
    "\\operatorname{sum}(\\{1,8,11\\}) &= 20,\\\\\n",
    "\\operatorname{sum}(\\{1,10,11\\}) &= 22,\\\\\n",
    "\\operatorname{sum}(\\{3,6,8\\}) &= 17,\\\\\n",
    "\\operatorname{sum}(\\{3,6,10\\}) &= 19,\\\\\n",
    "\\operatorname{sum}(\\{3,6,11\\}) &= 20,\\\\\n",
    "\\operatorname{sum}(\\{3,8,10\\}) &= 21,\\\\\n",
    "\\operatorname{sum}(\\{3,8,11\\}) &= 22,\\\\\n",
    "\\operatorname{sum}(\\{3,10,11\\}) &= 24,\\\\\n",
    "\\operatorname{sum}(\\{6,8,10\\}) &= 24,\\\\\n",
    "\\operatorname{sum}(\\{6,8,11\\}) &= 25,\\\\\n",
    "\\operatorname{sum}(\\{6,10,11\\}) &= 27,\\\\\n",
    "\\operatorname{sum}(\\{8,10,11\\}) &= 29.\n",
    "\\end{align}$$\n",
    "\n",
    "Some of these sums occur more than once, others are unique.\n",
    "  \n",
    "For a set $A$, let $U(A,k)$ be the set of unique sums of $k$-element subsets of $A$, in our example we find $U(B,3) = \\{10,12,14,18,21,25,27,29\\}$ and $\\operatorname{sum}(U(B,3)) = 156$.\n",
    "\n",
    "Now consider the $100$-element set $S = \\{1^2, 2^2, \\dots, 100^2\\}$.\n",
    "  \n",
    "S has $100891344545564193334812497256$ $50$-element subsets.\n",
    "\n",
    "Determine the sum of all integers which are the sum of exactly one of the $50$-element subsets of $S$, i.e. find $\\operatorname{sum}(U(S,50))$."
   ]
  },
  {
   "cell_type": "code",
   "execution_count": null,
   "id": "bd5a897e",
   "metadata": {},
   "outputs": [],
   "source": [
    "# Problem 201 workspace"
   ]
  },
  {
   "cell_type": "markdown",
   "id": "b3e41500",
   "metadata": {},
   "source": [
    "## Answer: "
   ]
  },
  {
   "cell_type": "markdown",
   "id": "48523b58",
   "metadata": {},
   "source": [
    "___"
   ]
  },
  {
   "cell_type": "markdown",
   "id": "82bb2cb1",
   "metadata": {},
   "source": [
    "# Problem 202\n",
    " [Source](https://projecteuler.net/problem=202)"
   ]
  },
  {
   "cell_type": "markdown",
   "id": "c1626b31",
   "metadata": {},
   "source": [
    "Three mirrors are arranged in the shape of an equilateral triangle, with their reflective surfaces pointing inwards. There is an infinitesimal gap at each vertex of the triangle through which a laser beam may pass.\n",
    "\n",
    "Label the vertices $A$, $B$ and $C$. There are $2$ ways in which a laser beam may enter vertex $C$, bounce off $11$ surfaces, then exit through the same vertex: one way is shown below; the other is the reverse of that.\n",
    "\n",
    "![](resources/0202_laserbeam.gif)\n",
    "\n",
    "There are $80840$ ways in which a laser beam may enter vertex $C$, bounce off $1000001$ surfaces, then exit through the same vertex.\n",
    "\n",
    "In how many ways can a laser beam enter at vertex $C$, bounce off $12017639147$ surfaces, then exit through the same vertex?"
   ]
  },
  {
   "cell_type": "code",
   "execution_count": null,
   "id": "1574f857",
   "metadata": {},
   "outputs": [],
   "source": [
    "# Problem 202 workspace"
   ]
  },
  {
   "cell_type": "markdown",
   "id": "1109d2fe",
   "metadata": {},
   "source": [
    "## Answer: "
   ]
  },
  {
   "cell_type": "markdown",
   "id": "08d2a110",
   "metadata": {},
   "source": [
    "___"
   ]
  },
  {
   "cell_type": "markdown",
   "id": "221d76cf",
   "metadata": {},
   "source": [
    "# Problem 203\n",
    " [Source](https://projecteuler.net/problem=203)"
   ]
  },
  {
   "cell_type": "markdown",
   "id": "07190082",
   "metadata": {},
   "source": [
    "The binomial coefficients $\\displaystyle \\binom n k$ can be arranged in triangular form, Pascal's triangle, like this:\n",
    "\n",
    "|  |  |  |  |  |  |  |  |  |  |  |  |  |  |  |\n",
    "| --- | --- | --- | --- | --- | --- | --- | --- | --- | --- | --- | --- | --- | --- | --- |\n",
    "|  | | | | | | | 1 |  | | | | | | |\n",
    "|  | | | | | | 1 |  | 1 |  | | | | | |\n",
    "|  | | | | | 1 |  | 2 |  | 1 |  | | | | |\n",
    "|  | | | | 1 |  | 3 |  | 3 |  | 1 |  | | | |\n",
    "|  | | | 1 |  | 4 |  | 6 |  | 4 |  | 1 |  | | |\n",
    "|  | | 1 |  | 5 |  | 10 |  | 10 |  | 5 |  | 1 |  | |\n",
    "|  | 1 |  | 6 |  | 15 |  | 20 |  | 15 |  | 6 |  | 1 |  |\n",
    "| 1 |  | 7 |  | 21 |  | 35 |  | 35 |  | 21 |  | 7 |  | 1 |\n",
    "\n",
    ".........\n",
    "\n",
    "It can be seen that the first eight rows of Pascal's triangle contain twelve distinct numbers: 1, 2, 3, 4, 5, 6, 7, 10, 15, 20, 21 and 35.\n",
    "\n",
    "A positive integer\n",
    "n\n",
    "is called squarefree if no square of a prime divides\n",
    "n\n",
    ".\n",
    "Of the twelve distinct numbers in the first eight rows of Pascal's triangle, all except 4 and 20 are squarefree.\n",
    "The sum of the distinct squarefree numbers in the first eight rows is 105.\n",
    "\n",
    "Find the sum of the distinct squarefree numbers in the first 51 rows of Pascal's triangle."
   ]
  },
  {
   "cell_type": "code",
   "execution_count": null,
   "id": "120518e3",
   "metadata": {},
   "outputs": [],
   "source": [
    "# Problem 203 workspace"
   ]
  },
  {
   "cell_type": "markdown",
   "id": "899124c7",
   "metadata": {},
   "source": [
    "## Answer: "
   ]
  },
  {
   "cell_type": "markdown",
   "id": "1e6e9108",
   "metadata": {},
   "source": [
    "___"
   ]
  },
  {
   "cell_type": "markdown",
   "id": "d57fd56b",
   "metadata": {},
   "source": [
    "# Problem 204\n",
    " [Source](https://projecteuler.net/problem=204)"
   ]
  },
  {
   "cell_type": "markdown",
   "id": "07900164",
   "metadata": {},
   "source": [
    "A Hamming number is a positive number which has no prime factor larger than $5$.\n",
    "  \n",
    "So the first few Hamming numbers are $1, 2, 3, 4, 5, 6, 8, 9, 10, 12, 15$.\n",
    "  \n",
    "There are $1105$ Hamming numbers not exceeding $10^8$.\n",
    "\n",
    "We will call a positive number a generalised Hamming number of type $n$, if it has no prime factor larger than $n$.\n",
    "  \n",
    "Hence the Hamming numbers are the generalised Hamming numbers of type $5$.\n",
    "\n",
    "How many generalised Hamming numbers of type $100$ are there which don't exceed $10^9$?"
   ]
  },
  {
   "cell_type": "code",
   "execution_count": null,
   "id": "5d4a3992",
   "metadata": {},
   "outputs": [],
   "source": [
    "# Problem 204 workspace"
   ]
  },
  {
   "cell_type": "markdown",
   "id": "c1ff9ac6",
   "metadata": {},
   "source": [
    "## Answer: "
   ]
  },
  {
   "cell_type": "markdown",
   "id": "9c43fe11",
   "metadata": {},
   "source": [
    "___"
   ]
  },
  {
   "cell_type": "markdown",
   "id": "539deee3",
   "metadata": {},
   "source": [
    "# Problem 205\n",
    " [Source](https://projecteuler.net/problem=205)"
   ]
  },
  {
   "cell_type": "markdown",
   "id": "bb090a61",
   "metadata": {},
   "source": [
    "Peter has nine four-sided (pyramidal) dice, each with faces numbered $1, 2, 3, 4$.\n",
    "  \n",
    "Colin has six six-sided (cubic) dice, each with faces numbered $1, 2, 3, 4, 5, 6$.\n",
    "\n",
    "Peter and Colin roll their dice and compare totals: the highest total wins. The result is a draw if the totals are equal.\n",
    "\n",
    "What is the probability that Pyramidal Peter beats Cubic Colin? Give your answer rounded to seven decimal places in the form 0.abcdefg."
   ]
  },
  {
   "cell_type": "code",
   "execution_count": null,
   "id": "bfef328f",
   "metadata": {},
   "outputs": [],
   "source": [
    "# Problem 205 workspace"
   ]
  },
  {
   "cell_type": "markdown",
   "id": "8fc17dc1",
   "metadata": {},
   "source": [
    "## Answer: "
   ]
  },
  {
   "cell_type": "markdown",
   "id": "abc53048",
   "metadata": {},
   "source": [
    "___"
   ]
  },
  {
   "cell_type": "markdown",
   "id": "f86bb0b8",
   "metadata": {},
   "source": [
    "# Problem 206\n",
    " [Source](https://projecteuler.net/problem=206)"
   ]
  },
  {
   "cell_type": "markdown",
   "id": "ae89d87c",
   "metadata": {},
   "source": [
    "Find the unique positive integer whose square has the form 1\\_2\\_3\\_4\\_5\\_6\\_7\\_8\\_9\\_0,\n",
    "  \n",
    "where each “\\_” is a single digit."
   ]
  },
  {
   "cell_type": "code",
   "execution_count": null,
   "id": "6301dfec",
   "metadata": {},
   "outputs": [],
   "source": [
    "# Problem 206 workspace"
   ]
  },
  {
   "cell_type": "markdown",
   "id": "1dfa7d92",
   "metadata": {},
   "source": [
    "## Answer: "
   ]
  },
  {
   "cell_type": "markdown",
   "id": "09ddd708",
   "metadata": {},
   "source": [
    "___"
   ]
  },
  {
   "cell_type": "markdown",
   "id": "35c03f55",
   "metadata": {},
   "source": [
    "# Problem 207\n",
    " [Source](https://projecteuler.net/problem=207)"
   ]
  },
  {
   "cell_type": "markdown",
   "id": "13b48f2a",
   "metadata": {},
   "source": [
    "For some positive integers $k$, there exists an integer partition of the form $4^t = 2^t + k$,\n",
    "  \n",
    "where $4^t$, $2^t$, and $k$ are all positive integers and $t$ is a real number.\n",
    "\n",
    "The first two such partitions are $4^1 = 2^1 + 2$ and $4^{1.5849625\\cdots} = 2^{1.5849625\\cdots} + 6$.\n",
    "\n",
    "Partitions where $t$ is also an integer are called\n",
    "perfect\n",
    ".\n",
    "  \n",
    "For any $m \\ge 1$ let $P(m)$ be the proportion of such partitions that are perfect with $k \\le m$.\n",
    "  \n",
    "Thus $P(6) = 1/2$.\n",
    "\n",
    "In the following table are listed some values of $P(m)$.\n",
    "\n",
    "$$\\begin{align}\n",
    "P(5) &= 1/1\\\\\n",
    "P(10) &= 1/2\\\\\n",
    "P(15) &= 2/3\\\\\n",
    "P(20) &= 1/2\\\\\n",
    "P(25) &= 1/2\\\\\n",
    "P(30) &= 2/5\\\\\n",
    "\\cdots &\\\\\n",
    "P(180) &= 1/4\\\\\n",
    "P(185) &= 3/13\n",
    "\\end{align}$$\n",
    "\n",
    "Find the smallest $m$ for which $P(m) \\lt 1/12345$."
   ]
  },
  {
   "cell_type": "code",
   "execution_count": null,
   "id": "499446fb",
   "metadata": {},
   "outputs": [],
   "source": [
    "# Problem 207 workspace"
   ]
  },
  {
   "cell_type": "markdown",
   "id": "9f4b0b2a",
   "metadata": {},
   "source": [
    "## Answer: "
   ]
  },
  {
   "cell_type": "markdown",
   "id": "6cf21a36",
   "metadata": {},
   "source": [
    "___"
   ]
  },
  {
   "cell_type": "markdown",
   "id": "2160f796",
   "metadata": {},
   "source": [
    "# Problem 208\n",
    " [Source](https://projecteuler.net/problem=208)"
   ]
  },
  {
   "cell_type": "markdown",
   "id": "fc60967d",
   "metadata": {},
   "source": [
    "A robot moves in a series of one-fifth circular arcs ($72^\\circ$), with a free choice of a clockwise or an anticlockwise arc for each step, but no turning on the spot.\n",
    "\n",
    "One of $70932$ possible closed paths of $25$ arcs starting northward is\n",
    "\n",
    "![](resources/0208_robotwalk.gif)\n",
    "\n",
    "Given that the robot starts facing North, how many journeys of $70$ arcs in length can it take that return it, after the final arc, to its starting position?\n",
    "  \n",
    "(Any arc may be traversed multiple times.)"
   ]
  },
  {
   "cell_type": "code",
   "execution_count": null,
   "id": "dfd42ab2",
   "metadata": {},
   "outputs": [],
   "source": [
    "# Problem 208 workspace"
   ]
  },
  {
   "cell_type": "markdown",
   "id": "f761bd6e",
   "metadata": {},
   "source": [
    "## Answer: "
   ]
  },
  {
   "cell_type": "markdown",
   "id": "f5ba2962",
   "metadata": {},
   "source": [
    "___"
   ]
  },
  {
   "cell_type": "markdown",
   "id": "9d2a826b",
   "metadata": {},
   "source": [
    "# Problem 209\n",
    " [Source](https://projecteuler.net/problem=209)"
   ]
  },
  {
   "cell_type": "markdown",
   "id": "c9b81948",
   "metadata": {},
   "source": [
    "A $k$-input\n",
    "**binary truth table**\n",
    "is a map from $k$ input bits (binary digits, $0$ [false] or $1$ [true]) to $1$ output bit. For example, the $2$-input binary truth tables for the logical $\\mathbin{\\text{AND}}$ and $\\mathbin{\\text{XOR}}$ functions are:\n",
    "\n",
    "| $x$ | $y$ | $x \\mathbin{\\text{AND}} y$ |\n",
    "| --- | --- | --- |\n",
    "| $0$ | $0$ | $0$ |\n",
    "| $0$ | $1$ | $0$ |\n",
    "| $1$ | $0$ | $0$ |\n",
    "| $1$ | $1$ | $1$ |\n",
    "\n",
    "| $x$ | $y$ | $x\\mathbin{\\text{XOR}}y$ |\n",
    "| --- | --- | --- |\n",
    "| $0$ | $0$ | $0$ |\n",
    "| $0$ | $1$ | $1$ |\n",
    "| $1$ | $0$ | $1$ |\n",
    "| $1$ | $1$ | $0$ |\n",
    "\n",
    "  \n",
    "\n",
    "How many $6$-input binary truth tables, $\\tau$, satisfy the formula\n",
    "$$\\tau(a, b, c, d, e, f) \\mathbin{\\text{AND}} \\tau(b, c, d, e, f, a \\mathbin{\\text{XOR}} (b \\mathbin{\\text{AND}} c)) = 0$$\n",
    "for all $6$-bit inputs $(a, b, c, d, e, f)$?"
   ]
  },
  {
   "cell_type": "code",
   "execution_count": null,
   "id": "2ad4576b",
   "metadata": {},
   "outputs": [],
   "source": [
    "# Problem 209 workspace"
   ]
  },
  {
   "cell_type": "markdown",
   "id": "4b253c3e",
   "metadata": {},
   "source": [
    "## Answer: "
   ]
  },
  {
   "cell_type": "markdown",
   "id": "dc1cceac",
   "metadata": {},
   "source": [
    "___"
   ]
  },
  {
   "cell_type": "markdown",
   "id": "edc13e0d",
   "metadata": {},
   "source": [
    "# Problem 210\n",
    " [Source](https://projecteuler.net/problem=210)"
   ]
  },
  {
   "cell_type": "markdown",
   "id": "1671b2d1",
   "metadata": {},
   "source": [
    "Consider the set $S(r)$ of points $(x,y)$ with integer coordinates satisfying $|x| + |y| \\le r$.\n",
    "  \n",
    "Let $O$ be the point $(0,0)$ and $C$ the point $(r/4,r/4)$.\n",
    "  \n",
    "Let $N(r)$ be the number of points $B$ in $S(r)$, so that the triangle $OBC$ has an obtuse angle, i.e. the largest angle $\\alpha$ satisfies $90^\\circ \\lt \\alpha \\lt 180^\\circ$.\n",
    "  \n",
    "So, for example, $N(4)=24$ and $N(8)=100$.\n",
    "\n",
    "What is $N(1\\,000\\,000\\,000)$?"
   ]
  },
  {
   "cell_type": "code",
   "execution_count": null,
   "id": "7a5f278c",
   "metadata": {},
   "outputs": [],
   "source": [
    "# Problem 210 workspace"
   ]
  },
  {
   "cell_type": "markdown",
   "id": "01a08d95",
   "metadata": {},
   "source": [
    "## Answer: "
   ]
  },
  {
   "cell_type": "markdown",
   "id": "d353fb83",
   "metadata": {},
   "source": [
    "___"
   ]
  }
 ],
 "metadata": {},
 "nbformat": 4,
 "nbformat_minor": 5
}
