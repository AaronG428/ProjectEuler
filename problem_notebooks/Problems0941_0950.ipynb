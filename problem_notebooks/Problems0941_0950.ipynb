{
 "cells": [
  {
   "cell_type": "markdown",
   "id": "f55b03d5",
   "metadata": {},
   "source": [
    "# Problem 941\n",
    " [Source](https://projecteuler.net/problem=941)"
   ]
  },
  {
   "cell_type": "markdown",
   "id": "a3984780",
   "metadata": {},
   "source": [
    "de Bruijn has a digital combination lock with $k$ buttons numbered $0$ to $k-1$ where $k \\le 10$.\n",
    "  \n",
    "The lock opens when the last $n$ buttons pressed match the preset combination.\n",
    "\n",
    "Unfortunately he has forgotten the combination. He creates a sequence of these digits which contains every possible combination of length $n$. Then by pressing the buttons in this order he is sure to open the lock.\n",
    "\n",
    "Consider all sequences of shortest possible length that contains every possible combination of the digits.\n",
    "  \n",
    "Denote by $C(k, n)$ the lexicographically smallest of these.\n",
    "\n",
    "For example, $C(3, 2) = $ 0010211220.\n",
    "\n",
    "Define the sequence $a\\_n$ by $a\\_0=0$ and\n",
    "  \n",
    "$$a\\_n=(920461 a\\_{n-1}+800217387569)\\bmod 10^{12} \\text{ for }\\ n > 0$$\n",
    "Interpret each $a\\_n$ as a $12$-digit combination, adding leading zeros for any $a\\_n$ with less than $12$ digits.\n",
    "\n",
    "Given a positive integer $N$, we are interested in the order the combinations $a\\_1,\\dots,a\\_N$ appear in $C(10,12)$.\n",
    "  \n",
    "Denote by $p\\_n$ the\n",
    "*place*\n",
    ", numbered $1,\\dots,N$, in which $a\\_n$ appears out of $a\\_1,\\dots,a\\_N$. Define $\\displaystyle F(N)=\\sum\\_{n=1}^Np\\_na\\_n$.\n",
    "\n",
    "For example, the combination $a\\_1=800217387569$ is entered before $a\\_2=696996536878$. Therefore:\n",
    "$$F(2)=1\\cdot800217387569 + 2\\cdot696996536878 = 2194210461325$$\n",
    "You are also given $F(10)=32698850376317$.\n",
    "\n",
    "Find $F(10^7)$. Give your answer modulo $1234567891$."
   ]
  },
  {
   "cell_type": "code",
   "execution_count": null,
   "id": "2f55bd8e",
   "metadata": {},
   "outputs": [],
   "source": [
    "# Problem 941 workspace"
   ]
  },
  {
   "cell_type": "markdown",
   "id": "0dec8a83",
   "metadata": {},
   "source": [
    "## Answer: "
   ]
  },
  {
   "cell_type": "markdown",
   "id": "b537ee06",
   "metadata": {},
   "source": [
    "___"
   ]
  },
  {
   "cell_type": "markdown",
   "id": "322bc440",
   "metadata": {},
   "source": [
    "# Problem 942\n",
    " [Source](https://projecteuler.net/problem=942)"
   ]
  },
  {
   "cell_type": "markdown",
   "id": "742cbafd",
   "metadata": {},
   "source": [
    "Given a natural number $q$, let $p = 2^q - 1$ be the $q$-th\n",
    "**Mersenne number**\n",
    ".\n",
    "\n",
    "Let $R(q)$ be the minimal square root of $q$ modulo $p$, if one exists. In other words, $R(q)$ is the smallest positive integer $x$ such that $x^2 - q$ is divisible by $p$.\n",
    "\n",
    "For example, $R(5)=6$ and $R(17)=47569$.\n",
    "\n",
    "Find $R(74\\,207\\,281)$. Give your answer modulo $10^9 + 7$.\n",
    "\n",
    "Note: $2^{74207281}-1$ is prime."
   ]
  },
  {
   "cell_type": "code",
   "execution_count": null,
   "id": "fc0cc15d",
   "metadata": {},
   "outputs": [],
   "source": [
    "# Problem 942 workspace"
   ]
  },
  {
   "cell_type": "markdown",
   "id": "9df9496c",
   "metadata": {},
   "source": [
    "## Answer: "
   ]
  },
  {
   "cell_type": "markdown",
   "id": "5e7f90d2",
   "metadata": {},
   "source": [
    "___"
   ]
  },
  {
   "cell_type": "markdown",
   "id": "1ca60507",
   "metadata": {},
   "source": [
    "# Problem 943\n",
    " [Source](https://projecteuler.net/problem=943)"
   ]
  },
  {
   "cell_type": "markdown",
   "id": "3027fb57",
   "metadata": {},
   "source": [
    "Given two unequal positive integers $a$ and $b$, we define a self-describing sequence consisting of alternating runs of $a$s and $b$s. The first element is $a$ and the sequence of run lengths is the original sequence.\n",
    "\n",
    "For $a=2, b=3$, the sequence is:\n",
    "$$2, 2, 3, 3, 2, 2, 2, 3, 3, 3, 2, 2, 3, 3, 2, 2, 3, 3, 3, 2, 2, 2, 3, 3, 3,...$$\n",
    "The sequence begins with\n",
    "**two**\n",
    "$2$s and\n",
    "**two**\n",
    "$3$s, then\n",
    "**three**\n",
    "$2$s and\n",
    "**three**\n",
    "$3$s, so the run lengths $2, 2, 3, 3, ...$ are given by the original sequence.\n",
    "\n",
    "Let $T(a, b, N)$ be the sum of the first $N$ elements of the sequence. You are given $T(2,3,10) = 25$, $T(4,2,10^4) = 30004$, $T(5,8,10^6) = 6499871$.\n",
    "\n",
    "Find $\\sum T(a, b, 22332223332233)$ for $2 \\le a \\le 223$, $2 \\le b \\le 223$ and $a \\neq b$. Give your answer modulo $2233222333$."
   ]
  },
  {
   "cell_type": "code",
   "execution_count": null,
   "id": "56c4d1ab",
   "metadata": {},
   "outputs": [],
   "source": [
    "# Problem 943 workspace"
   ]
  },
  {
   "cell_type": "markdown",
   "id": "3bc5d6eb",
   "metadata": {},
   "source": [
    "## Answer: "
   ]
  },
  {
   "cell_type": "markdown",
   "id": "978ff33c",
   "metadata": {},
   "source": [
    "___"
   ]
  },
  {
   "cell_type": "markdown",
   "id": "2f23ce06",
   "metadata": {},
   "source": [
    "# Problem 944\n",
    " [Source](https://projecteuler.net/problem=944)"
   ]
  },
  {
   "cell_type": "markdown",
   "id": "32fdb12c",
   "metadata": {},
   "source": [
    "Given a set $E$ of positive integers, an element $x$ of $E$ is called an\n",
    "element divisor (elevisor)\n",
    "of $E$ if $x$ divides\n",
    "**another**\n",
    "element of $E$.\n",
    "\n",
    "The sum of all elevisors of $E$ is denoted $\\operatorname{sev}(E)$.\n",
    "  \n",
    "For example, $\\operatorname{sev}(\\{1, 2, 5, 6\\}) = 1 + 2 = 3$.\n",
    "\n",
    "Let $S(n)$ be the sum of $\\operatorname{sev}(E)$ for all subsets $E$ of $\\{1, 2, \\dots, n\\}$.\n",
    "  \n",
    "You are given $S(10) = 4927$.\n",
    "\n",
    "Find $S(10^{14}) \\bmod 1234567891$."
   ]
  },
  {
   "cell_type": "code",
   "execution_count": null,
   "id": "1a8778dd",
   "metadata": {},
   "outputs": [],
   "source": [
    "# Problem 944 workspace"
   ]
  },
  {
   "cell_type": "markdown",
   "id": "ee35d932",
   "metadata": {},
   "source": [
    "## Answer: "
   ]
  },
  {
   "cell_type": "markdown",
   "id": "b4800924",
   "metadata": {},
   "source": [
    "___"
   ]
  },
  {
   "cell_type": "markdown",
   "id": "436b85cd",
   "metadata": {},
   "source": [
    "# Problem 945\n",
    " [Source](https://projecteuler.net/problem=945)"
   ]
  },
  {
   "cell_type": "markdown",
   "id": "80b6e927",
   "metadata": {},
   "source": [
    "We use $x\\oplus y$ for the bitwise XOR of $x$ and $y$.\n",
    "  \n",
    "Define the\n",
    "XOR-product\n",
    "of $x$ and $y$, denoted by $x \\otimes y$, similar to a long multiplication in base $2$, except that the intermediate results are XORed instead of the usual integer addition.\n",
    "  \n",
    "For example, $7 \\otimes 3 = 9$, or in base $2$, $111\\_2 \\otimes 11\\_2 = 1001\\_2$:\n",
    "$$\\begin{align\\*}\n",
    "\\phantom{\\otimes 111} 111\\_2 \\\\\n",
    "\\otimes \\phantom{1111} 11\\_2 \\\\\n",
    "\\hline\n",
    "\\phantom{\\otimes 111} 111\\_2 \\\\\n",
    "\\oplus \\phantom{11} 111\\_2 \\phantom{9} \\\\\n",
    "\\hline\n",
    "\\phantom{\\otimes 11} 1001\\_2 \\\\\n",
    "\\end{align\\*}$$\n",
    "We consider the equation:\n",
    "$$\\begin{align}\n",
    "(a \\otimes a) \\oplus (2 \\otimes a \\otimes b) \\oplus (b \\otimes b) = c \\otimes c\n",
    "\\end{align}$$\n",
    "\n",
    "For example, $(a, b, c) = (1, 2, 1)$ is a solution to this equation, and so is $(1, 8, 13)$.\n",
    "\n",
    "Let $F(N)$ be the number of solutions to this equation satisfying $0 \\le a \\le b \\le N$. You are given $F(10)=21$.\n",
    "\n",
    "Find $F(10^7)$."
   ]
  },
  {
   "cell_type": "code",
   "execution_count": null,
   "id": "588cb740",
   "metadata": {},
   "outputs": [],
   "source": [
    "# Problem 945 workspace"
   ]
  },
  {
   "cell_type": "markdown",
   "id": "1e9d51bc",
   "metadata": {},
   "source": [
    "## Answer: "
   ]
  },
  {
   "cell_type": "markdown",
   "id": "28e528fd",
   "metadata": {},
   "source": [
    "___"
   ]
  },
  {
   "cell_type": "markdown",
   "id": "5f13819c",
   "metadata": {},
   "source": [
    "# Problem 946\n",
    " [Source](https://projecteuler.net/problem=946)"
   ]
  },
  {
   "cell_type": "markdown",
   "id": "4e425963",
   "metadata": {},
   "source": [
    "Given the representation of a continued fraction\n",
    "$$ a\\_0+ \\cfrac 1{a\\_1+ \\cfrac 1{a\\_2+\\cfrac 1{a\\_3+\\ddots }}}= [a\\_0;a\\_1,a\\_2,a\\_3,\\ldots] $$\n",
    "\n",
    "$\\alpha$ is a real number with continued fraction representation:\n",
    "$\\alpha = [2;1,1,2,1,1,1,2,1,1,1,1,1,2,1,1,1,1,1,1,1,2,1,1,1,1,1,1,1,1,1,1,1,2,\\ldots]$\n",
    "  \n",
    "where the number of $1$'s between each of the $2$'s are consecutive prime numbers.\n",
    "\n",
    "$\\beta$ is another real number defined as\n",
    "$$ \\beta = \\frac{2\\alpha+3}{3\\alpha+2} $$\n",
    "\n",
    "The first ten coefficients of the continued fraction of $\\beta$ are $[0;1,5,6,16,9,1,10,16,11]$ with sum $75$.\n",
    "\n",
    "Find the sum of the first $10^8$ coefficients of the continued fraction of $\\beta$."
   ]
  },
  {
   "cell_type": "code",
   "execution_count": null,
   "id": "2421c26b",
   "metadata": {},
   "outputs": [],
   "source": [
    "# Problem 946 workspace"
   ]
  },
  {
   "cell_type": "markdown",
   "id": "19568b41",
   "metadata": {},
   "source": [
    "## Answer: "
   ]
  },
  {
   "cell_type": "markdown",
   "id": "ded6db54",
   "metadata": {},
   "source": [
    "___"
   ]
  },
  {
   "cell_type": "markdown",
   "id": "6c03756b",
   "metadata": {},
   "source": [
    "# Problem 947\n",
    " [Source](https://projecteuler.net/problem=947)"
   ]
  },
  {
   "cell_type": "markdown",
   "id": "00adae51",
   "metadata": {},
   "source": [
    "The $(a,b,m)$-sequence, where $0 \\leq a,b \\lt m$, is defined as\n",
    "\n",
    "$\\begin{align\\*}\n",
    "g(0)&=a\\\\\n",
    "g(1)&=b\\\\\n",
    "g(n)&= \\big(g(n-1) + g(n-2)\\big) \\bmod m\n",
    "\\end{align\\*}$\n",
    "\n",
    "All $(a,b,m)$-sequences are periodic with period denoted by $p(a,b,m)$.\n",
    "  \n",
    "The first few terms of the $(0,1,8)$-sequence are $(0,1,1,2,3,5,0,5,5,2,7,1,0,1,1,2,\\ldots )$ and so $p(0,1,8)=12$.\n",
    "\n",
    "Let $\\displaystyle s(m)=\\sum\\_{a=0}^{m-1}\\sum\\_{b=0}^{m-1} p(a,b,m)^2$. For example, $s(3)=513$ and $s(10)=225820$.\n",
    "\n",
    "Define $\\displaystyle S(M)=\\sum\\_{m=1}^{M}s(m)$. You are given, $S(3)=542$ and $S(10)=310897$.\n",
    "\n",
    "Find $S(10^6)$. Give your answer modulo $999\\,999\\,893$."
   ]
  },
  {
   "cell_type": "code",
   "execution_count": null,
   "id": "48f0dc69",
   "metadata": {},
   "outputs": [],
   "source": [
    "# Problem 947 workspace"
   ]
  },
  {
   "cell_type": "markdown",
   "id": "1cefeb59",
   "metadata": {},
   "source": [
    "## Answer: "
   ]
  },
  {
   "cell_type": "markdown",
   "id": "8bf0e7be",
   "metadata": {},
   "source": [
    "___"
   ]
  },
  {
   "cell_type": "markdown",
   "id": "2df06cfd",
   "metadata": {},
   "source": [
    "# Problem 948\n",
    " [Source](https://projecteuler.net/problem=948)"
   ]
  },
  {
   "cell_type": "markdown",
   "id": "431ee1d7",
   "metadata": {},
   "source": [
    "Left and Right play a game with a word consisting of L's and R's, alternating turns. On Left's turn, Left can remove any positive number of letters, but not all the letters, from the left side of the word. Right does the same on Right's turn except that Right removes letters from the right side. The game continues until only one letter remains: if it is an 'L' then Left wins; if it is an 'R' then Right wins.\n",
    "\n",
    "Let $F(n)$ be the number of words of length $n$ where the player moving first, whether it's Left or Right, will win the game if both play optimally.\n",
    "\n",
    "You are given $F(3)=4$ and $F(8)=181$.\n",
    "\n",
    "Find $F(60)$."
   ]
  },
  {
   "cell_type": "code",
   "execution_count": null,
   "id": "da685182",
   "metadata": {},
   "outputs": [],
   "source": [
    "# Problem 948 workspace"
   ]
  },
  {
   "cell_type": "markdown",
   "id": "770e859d",
   "metadata": {},
   "source": [
    "## Answer: "
   ]
  },
  {
   "cell_type": "markdown",
   "id": "cb9c1e90",
   "metadata": {},
   "source": [
    "___"
   ]
  },
  {
   "cell_type": "markdown",
   "id": "0125c55e",
   "metadata": {},
   "source": [
    "# Problem 949\n",
    " [Source](https://projecteuler.net/problem=949)"
   ]
  },
  {
   "cell_type": "markdown",
   "id": "346b1f86",
   "metadata": {},
   "source": [
    "Left and Right play a game with a number of words, each consisting of L's and R's, alternating turns. On Left's turn,\n",
    "**for each word**\n",
    ", Left can remove any number of letters (possibly zero), but not all the letters, from the left side of the word. However, at least one letter must be removed from at least one word. Right does the same on Right's turn except that Right removes letters from the right side of each word. The game continues until each word is reduced to a single letter. If there are more L's than R's remaining then Left wins; otherwise if there are more R's than L's then Right wins. In this problem we only consider games with an odd number of words, thus making ties impossible.\n",
    "\n",
    "Let $G(n, k)$ be the number of ways of choosing $k$ words of length $n$, for which Right has a winning strategy when Left plays first. Different orderings of the same set of words are to be counted separately.\n",
    "\n",
    "It can be seen that $G(2, 3)=14$ due to the following solutions (and their reorderings):\n",
    "$$\\begin{align}\n",
    "(\\texttt{LL},\\texttt{RR},\\texttt{RR})&:3\\text{ orderings}\\\\\n",
    "(\\texttt{LR},\\texttt{LR},\\texttt{LR})&:1\\text{ ordering}\\\\\n",
    "(\\texttt{LR},\\texttt{LR},\\texttt{RR})&:3\\text{ orderings}\\\\\n",
    "(\\texttt{LR},\\texttt{RR},\\texttt{RR})&:3\\text{ orderings}\\\\\n",
    "(\\texttt{RL},\\texttt{RR},\\texttt{RR})&:3\\text{ orderings}\\\\\n",
    "(\\texttt{RR},\\texttt{RR},\\texttt{RR})&:1\\text{ ordering}\n",
    "\\end{align}\n",
    "$$You are also given $G(4, 3)=496$ and $G(8, 5)=26359197010$.\n",
    "\n",
    "Find $G(20, 7)$ giving your answer modulo $1001001011$."
   ]
  },
  {
   "cell_type": "code",
   "execution_count": null,
   "id": "2613ea1b",
   "metadata": {},
   "outputs": [],
   "source": [
    "# Problem 949 workspace"
   ]
  },
  {
   "cell_type": "markdown",
   "id": "3a22ba7c",
   "metadata": {},
   "source": [
    "## Answer: "
   ]
  },
  {
   "cell_type": "markdown",
   "id": "140149dc",
   "metadata": {},
   "source": [
    "___"
   ]
  },
  {
   "cell_type": "markdown",
   "id": "5e0991c3",
   "metadata": {},
   "source": [
    "# Problem 950\n",
    " [Source](https://projecteuler.net/problem=950)"
   ]
  },
  {
   "cell_type": "markdown",
   "id": "06a03d0c",
   "metadata": {},
   "source": [
    "A band of pirates has come into a hoard of treasure, and must decide how to distribute it amongst themselves. The treasure consists of identical, indivisible gold coins.\n",
    "\n",
    "According to pirate law, the distribution of treasure must proceed as follows:\n",
    "\n",
    "1. The most senior pirate proposes a distribution of the coins.\n",
    "2. All pirates, including the most senior, vote on whether to accept the distribution.\n",
    "3. If at least half of the pirates vote to accept, the distribution stands.\n",
    "4. Otherwise, the most senior pirate must walk the plank, and the process resumes from step 1 with the next most senior pirate proposing another distribution.\n",
    "\n",
    "The\n",
    "*happiness*\n",
    "of a pirate is equal to $-\\infty$ if he doesn't survive; otherwise, it is equal to $c + p\\cdot w$, where $c$ is the number of coins that pirate receives in the distribution, $w$ is the total number of pirates who were made to walk the plank, and $p$ is the\n",
    "*bloodthirstiness*\n",
    "of the pirate.\n",
    "\n",
    "The pirates have a number of characteristics:\n",
    "\n",
    "* Greed: to maximise their happiness.\n",
    "* Ruthlessness: incapable of cooperation, making promises or maintaining any kind of reputation.\n",
    "* Shrewdness: perfectly rational and logical.\n",
    "\n",
    "Consider the happiness $c(n,C,p) + p\\cdot w(n,C,p)$ of the most senior surviving pirate in the situation where $n$ pirates, all with equal bloodthirstiness $p$, have found $C$ coins. For example, $c(5,5,\\frac{1}{10}) = 3$ and $w(5,5,\\frac{1}{10})=0$ because it can be shown that if the most senior pirate proposes a distribution of $3,0,1,0,1$ coins to the pirates (in decreasing order of seniority), the three pirates receiving coins will all vote to accept. On the other hand, $c(5,1,\\frac{1}{10}) = 0$ and $w(5,1,\\frac{1}{10}) = 1$: the most senior pirate cannot survive with any proposal, and then the second most senior pirate must give the only coin to another pirate in order to survive.\n",
    "\n",
    "Define $\\displaystyle T(N,C,p) = \\sum\\_{n=1}^N \\left ( c(n,C,p) + w(n,C,p) \\right )$. You are given that $T(30,3,\\frac{1}{\\sqrt{3}}) = 190$, $T(50,3,\\frac{1}{\\sqrt{31}}) = 385$, and $T(10^3, 101, \\frac{1}{\\sqrt{101}}) = 142427$.\n",
    "\n",
    "Find $\\displaystyle \\sum\\_{k=1}^6 T(10^{16},10^k+1,\\tfrac{1}{\\sqrt{10^k+1}})$. Give the last 9 digits as your answer."
   ]
  },
  {
   "cell_type": "code",
   "execution_count": null,
   "id": "69dda897",
   "metadata": {},
   "outputs": [],
   "source": [
    "# Problem 950 workspace"
   ]
  },
  {
   "cell_type": "markdown",
   "id": "df4f0ad5",
   "metadata": {},
   "source": [
    "## Answer: "
   ]
  },
  {
   "cell_type": "markdown",
   "id": "f3a85a22",
   "metadata": {},
   "source": [
    "___"
   ]
  }
 ],
 "metadata": {},
 "nbformat": 4,
 "nbformat_minor": 5
}
