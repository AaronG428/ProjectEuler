{
 "cells": [
  {
   "cell_type": "markdown",
   "id": "84efc258",
   "metadata": {},
   "source": [
    "# Problem 851\n",
    " [Source](https://projecteuler.net/problem=851)"
   ]
  },
  {
   "cell_type": "markdown",
   "id": "ae464b58",
   "metadata": {},
   "source": [
    "Let $n$ be a positive integer and let $E\\_n$ be the set of $n$-tuples of strictly positive integers.\n",
    "\n",
    "For $u = (u\\_1, \\cdots, u\\_n)$ and $v = (v\\_1, \\cdots, v\\_n)$ two elements of $E\\_n$, we define:\n",
    "\n",
    "* the\n",
    "  Sum Of Products\n",
    "  of $u$ and $v$, denoted by $\\langle u, v\\rangle$, as the sum $\\displaystyle\\sum\\_{i = 1}^n u\\_i v\\_i$;\n",
    "* the\n",
    "  Product Of Sums\n",
    "  of $u$ and $v$, denoted by $u \\star v$, as the product $\\displaystyle\\prod\\_{i = 1}^n (u\\_i + v\\_i)$.\n",
    "\n",
    "Let $R\\_n(M)$ be the sum of $u \\star v$ over all ordered pairs $(u, v)$ in $E\\_n$ such that $\\langle u, v\\rangle = M$.\n",
    "  \n",
    "For example: $R\\_1(10) = 36$, $R\\_2(100) = 1873044$, $R\\_2(100!) \\equiv 446575636 \\bmod 10^9 + 7$.\n",
    "\n",
    "Find $R\\_6(10000!)$. Give your answer modulo $10^9+7$."
   ]
  },
  {
   "cell_type": "code",
   "execution_count": null,
   "id": "bffe0785",
   "metadata": {},
   "outputs": [],
   "source": [
    "# Problem 851 workspace"
   ]
  },
  {
   "cell_type": "markdown",
   "id": "d35b5fe2",
   "metadata": {},
   "source": [
    "## Answer: "
   ]
  },
  {
   "cell_type": "markdown",
   "id": "953e03a6",
   "metadata": {},
   "source": [
    "___"
   ]
  },
  {
   "cell_type": "markdown",
   "id": "fd61af58",
   "metadata": {},
   "source": [
    "# Problem 852\n",
    " [Source](https://projecteuler.net/problem=852)"
   ]
  },
  {
   "cell_type": "markdown",
   "id": "19a50cb3",
   "metadata": {},
   "source": [
    "This game has a box of $N$ unfair coins and $N$ fair coins. Fair coins have probability 50% of landing heads while unfair coins have probability 75% of landing heads.\n",
    "\n",
    "The player begins with a score of 0 which may become negative during play.\n",
    "\n",
    "At each round the player randomly picks a coin from the box and guesses its type: fair or unfair. Before guessing they may toss the coin any number of times; however, each toss subtracts 1 from their score. The decision to stop tossing and make a guess can be made at any time. After guessing the player's score is increased by 20 if they are right and decreased by 50 if they are wrong. Then the coin type is revealed to the player and the coin is discarded.\n",
    "\n",
    "After $2N$ rounds the box will be empty and the game is over. Let $S(N)$ be the expected score of the player at the end of the game assuming that they play optimally in order to maximize their expected score.\n",
    "\n",
    "You are given $S(1) = 20.558591$ rounded to 6 digits after the decimal point.\n",
    "\n",
    "Find $S(50)$. Give your answer rounded to 6 digits after the decimal point."
   ]
  },
  {
   "cell_type": "code",
   "execution_count": null,
   "id": "2807faa3",
   "metadata": {},
   "outputs": [],
   "source": [
    "# Problem 852 workspace"
   ]
  },
  {
   "cell_type": "markdown",
   "id": "ff42a008",
   "metadata": {},
   "source": [
    "## Answer: "
   ]
  },
  {
   "cell_type": "markdown",
   "id": "f052cbd6",
   "metadata": {},
   "source": [
    "___"
   ]
  },
  {
   "cell_type": "markdown",
   "id": "7cf5bbea",
   "metadata": {},
   "source": [
    "# Problem 853\n",
    " [Source](https://projecteuler.net/problem=853)"
   ]
  },
  {
   "cell_type": "markdown",
   "id": "bd910797",
   "metadata": {},
   "source": [
    "For every positive integer $n$ the Fibonacci sequence modulo\n",
    "$n$ is periodic. The period depends on the value of $n$.\n",
    "This period is called the\n",
    "**Pisano period**\n",
    "for $n$, often shortened to $\\pi(n)$.\n",
    "\n",
    "There are three values of $n$ for which\n",
    "$\\pi(n)$ equals $18$: $19$, $38$ and $76$. The sum of those smaller than $50$ is $57$.\n",
    "\n",
    "Find the sum of the values of $n$ smaller than $1\\,000\\,000\\,000$ for which $\\pi(n)$ equals $120$."
   ]
  },
  {
   "cell_type": "code",
   "execution_count": null,
   "id": "4de4670e",
   "metadata": {},
   "outputs": [],
   "source": [
    "# Problem 853 workspace"
   ]
  },
  {
   "cell_type": "markdown",
   "id": "ecf6f240",
   "metadata": {},
   "source": [
    "## Answer: "
   ]
  },
  {
   "cell_type": "markdown",
   "id": "b20808f2",
   "metadata": {},
   "source": [
    "___"
   ]
  },
  {
   "cell_type": "markdown",
   "id": "b5d85b87",
   "metadata": {},
   "source": [
    "# Problem 854\n",
    " [Source](https://projecteuler.net/problem=854)"
   ]
  },
  {
   "cell_type": "markdown",
   "id": "8b503cf2",
   "metadata": {},
   "source": [
    "For every positive integer $n$ the Fibonacci sequence modulo $n$ is periodic. The period depends on the value of $n$.\n",
    "This period is called the\n",
    "**Pisano period**\n",
    "for $n$, often shortened to $\\pi(n)$.\n",
    "\n",
    "Define $M(p)$ as the largest integer $n$ such that $\\pi(n) = p$, and define $M(p) = 1$ if there is no such $n$.\n",
    "  \n",
    "For example, there are three values of $n$ for which $\\pi(n)$ equals $18$: $19, 38, 76$. Therefore $M(18) = 76$.\n",
    "\n",
    "Let the product function $P(n)$ be: $$P(n)=\\prod\\_{p = 1}^{n}M(p).$$\n",
    "You are given: $P(10)=264$.\n",
    "\n",
    "Find $P(1\\,000\\,000)\\bmod 1\\,234\\,567\\,891$."
   ]
  },
  {
   "cell_type": "code",
   "execution_count": null,
   "id": "df2accf3",
   "metadata": {},
   "outputs": [],
   "source": [
    "# Problem 854 workspace"
   ]
  },
  {
   "cell_type": "markdown",
   "id": "9df98dd5",
   "metadata": {},
   "source": [
    "## Answer: "
   ]
  },
  {
   "cell_type": "markdown",
   "id": "637e277d",
   "metadata": {},
   "source": [
    "___"
   ]
  },
  {
   "cell_type": "markdown",
   "id": "783f2ab6",
   "metadata": {},
   "source": [
    "# Problem 855\n",
    " [Source](https://projecteuler.net/problem=855)"
   ]
  },
  {
   "cell_type": "markdown",
   "id": "bc342b4b",
   "metadata": {},
   "source": [
    "Given two positive integers $a,b$, Alex and Bianca play a game in $ab$ rounds. They begin with a square piece of paper of side length $1$.\n",
    "\n",
    "In each round Alex divides the current rectangular piece of paper into $a \\times b$ pieces using $a-1$ horizontal cuts and $b-1$ vertical ones. The cuts do not need to be evenly spaced. Moreover, a piece can have zero width/height when a cut coincides with another cut or the edge of the paper. The pieces are then numbered $1, 2, ..., ab$ starting from the left top corner, moving from left to right and starting from the left of the next row when a row is finished.\n",
    "\n",
    "Then Bianca chooses one of the pieces for the game to continue on. However, Bianca must not choose a piece with a number she has already chosen during the game.\n",
    "\n",
    "Bianca wants to minimize the area of the final piece of paper while Alex wants to maximize it. Let $S(a,b)$ be the area of the final piece assuming optimal play.\n",
    "\n",
    "For example, $S(2,2) = 1/36$ and $S(2, 3) = 1/1800 \\approx 5.5555555556\\mathrm {e}{-4}$.\n",
    "\n",
    "Find $S(5,8)$. Give your answer in scientific notation rounded to ten significant digits after the decimal point. Use a lowercase e to separate the mantissa and the exponent."
   ]
  },
  {
   "cell_type": "code",
   "execution_count": null,
   "id": "06862dca",
   "metadata": {},
   "outputs": [],
   "source": [
    "# Problem 855 workspace"
   ]
  },
  {
   "cell_type": "markdown",
   "id": "a2a05d3b",
   "metadata": {},
   "source": [
    "## Answer: "
   ]
  },
  {
   "cell_type": "markdown",
   "id": "43ae06ab",
   "metadata": {},
   "source": [
    "___"
   ]
  },
  {
   "cell_type": "markdown",
   "id": "2bcba909",
   "metadata": {},
   "source": [
    "# Problem 856\n",
    " [Source](https://projecteuler.net/problem=856)"
   ]
  },
  {
   "cell_type": "markdown",
   "id": "e120b8ad",
   "metadata": {},
   "source": [
    "A standard 52-card deck comprises 13 ranks in four suits. A\n",
    "*pair*\n",
    "is a set of two cards of the same rank.\n",
    "\n",
    "Cards are drawn, without replacement, from a well shuffled 52-card deck waiting for consecutive cards that form a pair. For example, the probability of finding a pair in the first two draws is $\\frac{1}{17}$.\n",
    "\n",
    "Cards are drawn until either such a pair is found or the pack is exhausted waiting for one. In the latter case we say that all 52 cards were drawn.\n",
    "\n",
    "Find the expected number of cards that were drawn. Give your answer rounded to eight places after the decimal point."
   ]
  },
  {
   "cell_type": "code",
   "execution_count": null,
   "id": "0ae2ee2b",
   "metadata": {},
   "outputs": [],
   "source": [
    "# Problem 856 workspace"
   ]
  },
  {
   "cell_type": "markdown",
   "id": "989f7e49",
   "metadata": {},
   "source": [
    "## Answer: "
   ]
  },
  {
   "cell_type": "markdown",
   "id": "e96e851a",
   "metadata": {},
   "source": [
    "___"
   ]
  },
  {
   "cell_type": "markdown",
   "id": "e59300b7",
   "metadata": {},
   "source": [
    "# Problem 857\n",
    " [Source](https://projecteuler.net/problem=857)"
   ]
  },
  {
   "cell_type": "markdown",
   "id": "b0587df1",
   "metadata": {},
   "source": [
    "A graph is made up of vertices and coloured edges.\n",
    "Between every two distinct vertices there must be exactly one of the following:\n",
    "\n",
    "* A red directed edge one way, and a blue directed edge the other way\n",
    "* A green undirected edge\n",
    "* A brown undirected edge\n",
    "\n",
    "Such a graph is called\n",
    "*beautiful*\n",
    "if\n",
    "\n",
    "* A cycle of edges contains a red edge\n",
    "  **if and only if**\n",
    "  it also contains a blue edge\n",
    "* No triangle of edges is made up of entirely green or entirely brown edges\n",
    "\n",
    "Below are four distinct examples of beautiful graphs on three vertices:\n",
    "\n",
    "![0857_GoodGraphs.jpg](resources/0857_GoodGraphs.jpg)\n",
    "\n",
    "Below are four examples of graphs that are not beautiful:\n",
    "\n",
    "![0857_BadGraphs.jpg](resources/0857_BadGraphs.jpg)\n",
    "\n",
    "Let $G(n)$ be the number of beautiful graphs on the labelled vertices: $1,2,\\ldots,n$.\n",
    "You are given $G(3)=24$, $G(4)=186$ and $G(15)=12472315010483328$.\n",
    "\n",
    "Find $G(10^7)$. Give your answer modulo $10^9+7$."
   ]
  },
  {
   "cell_type": "code",
   "execution_count": null,
   "id": "c9a23a50",
   "metadata": {},
   "outputs": [],
   "source": [
    "# Problem 857 workspace"
   ]
  },
  {
   "cell_type": "markdown",
   "id": "ce0517f8",
   "metadata": {},
   "source": [
    "## Answer: "
   ]
  },
  {
   "cell_type": "markdown",
   "id": "c20b37aa",
   "metadata": {},
   "source": [
    "___"
   ]
  },
  {
   "cell_type": "markdown",
   "id": "697f5a6c",
   "metadata": {},
   "source": [
    "# Problem 858\n",
    " [Source](https://projecteuler.net/problem=858)"
   ]
  },
  {
   "cell_type": "markdown",
   "id": "d2384f65",
   "metadata": {},
   "source": [
    "Define $G(N) = \\sum\\_S \\operatorname{lcm}(S)$ where $S$ ranges through all subsets of $\\{1, \\dots, N\\}$ and $\\operatorname{lcm}$ denotes the lowest common multiple. Note that the $\\operatorname{lcm}$ of the empty set is $1$.\n",
    "\n",
    "You are given $G(5) = 528$ and $G(20) = 8463108648960$.\n",
    "\n",
    "Find $G(800)$. Give your answer modulo $10^9 + 7$."
   ]
  },
  {
   "cell_type": "code",
   "execution_count": null,
   "id": "1d1edadd",
   "metadata": {},
   "outputs": [],
   "source": [
    "# Problem 858 workspace"
   ]
  },
  {
   "cell_type": "markdown",
   "id": "d9f956b0",
   "metadata": {},
   "source": [
    "## Answer: "
   ]
  },
  {
   "cell_type": "markdown",
   "id": "af0416ff",
   "metadata": {},
   "source": [
    "___"
   ]
  },
  {
   "cell_type": "markdown",
   "id": "d46a1718",
   "metadata": {},
   "source": [
    "# Problem 859\n",
    " [Source](https://projecteuler.net/problem=859)"
   ]
  },
  {
   "cell_type": "markdown",
   "id": "f71ee842",
   "metadata": {},
   "source": [
    "Odd and Even are playing a game with $N$ cookies.\n",
    "\n",
    "The game begins with the $N$ cookies divided into one or more piles, not necessarily of the same size. They then make moves in turn, starting with Odd.\n",
    "  \n",
    "Odd's turn: Odd may choose any pile with an\n",
    "**odd**\n",
    "number of cookies, eat one and divide the remaining (if any) into two equal piles.\n",
    "  \n",
    "Even's turn: Even may choose any pile with an\n",
    "**even**\n",
    "number of cookies, eat two of them and divide the remaining (if any) into two equal piles.\n",
    "  \n",
    "The player that does not have a valid move loses the game.\n",
    "\n",
    "Let $C(N)$ be the number of ways that $N$ cookies can be divided so that Even has a winning strategy.\n",
    "  \n",
    "For example, $C(5) = 2$ because there are two winning configurations for Even: a single pile containing all five cookies; three piles containing one, two and two cookies.\n",
    "  \n",
    "You are also given $C(16) = 64$.\n",
    "\n",
    "Find $C(300)$."
   ]
  },
  {
   "cell_type": "code",
   "execution_count": null,
   "id": "b0a70223",
   "metadata": {},
   "outputs": [],
   "source": [
    "# Problem 859 workspace"
   ]
  },
  {
   "cell_type": "markdown",
   "id": "693b6a9d",
   "metadata": {},
   "source": [
    "## Answer: "
   ]
  },
  {
   "cell_type": "markdown",
   "id": "d466ca1a",
   "metadata": {},
   "source": [
    "___"
   ]
  },
  {
   "cell_type": "markdown",
   "id": "1c4a8420",
   "metadata": {},
   "source": [
    "# Problem 860\n",
    " [Source](https://projecteuler.net/problem=860)"
   ]
  },
  {
   "cell_type": "markdown",
   "id": "127ae033",
   "metadata": {},
   "source": [
    "Gary and Sally play a game using gold and silver coins arranged into a number of vertical stacks, alternating turns. On Gary's turn he chooses a gold coin and removes it from the game along with any other coins sitting on top. Sally does the same on her turn by removing a silver coin. The first player unable to make a move loses.\n",
    "\n",
    "An arrangement is called\n",
    "fair\n",
    "if the person moving first, whether it be Gary or Sally, will lose the game if both play optimally.\n",
    "\n",
    "Define $F(n)$ to be the number of fair arrangements of $n$ stacks, all of size $2$. Different orderings of the stacks are to be counted separately, so $F(2) = 4$ due to the following four arrangements:\n",
    "\n",
    "![0860_diag3.jpg](resources/0860_diag3.jpg)\n",
    "\n",
    "You are also given $F(10) = 63594$.\n",
    "\n",
    "Find $F(9898)$. Give your answer modulo $989898989$"
   ]
  },
  {
   "cell_type": "code",
   "execution_count": null,
   "id": "642e6c7c",
   "metadata": {},
   "outputs": [],
   "source": [
    "# Problem 860 workspace"
   ]
  },
  {
   "cell_type": "markdown",
   "id": "12751234",
   "metadata": {},
   "source": [
    "## Answer: "
   ]
  },
  {
   "cell_type": "markdown",
   "id": "c48ae28c",
   "metadata": {},
   "source": [
    "___"
   ]
  }
 ],
 "metadata": {},
 "nbformat": 4,
 "nbformat_minor": 5
}
