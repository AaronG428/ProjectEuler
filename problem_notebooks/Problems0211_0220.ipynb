{
 "cells": [
  {
   "cell_type": "markdown",
   "id": "560f4d36",
   "metadata": {},
   "source": [
    "# Problem 211\n",
    " [Source](https://projecteuler.net/problem=211)"
   ]
  },
  {
   "cell_type": "markdown",
   "id": "b1d63339",
   "metadata": {},
   "source": [
    "For a positive integer $n$, let $\\sigma\\_2(n)$ be the sum of the squares of its divisors. For example,\n",
    "$$\\sigma\\_2(10) = 1 + 4 + 25 + 100 = 130.$$\n",
    "\n",
    "Find the sum of all $n$, $0 \\lt n \\lt 64\\,000\\,000$ such that $\\sigma\\_2(n)$ is a perfect square."
   ]
  },
  {
   "cell_type": "code",
   "execution_count": null,
   "id": "683e4c85",
   "metadata": {},
   "outputs": [],
   "source": [
    "# Problem 211 workspace"
   ]
  },
  {
   "cell_type": "markdown",
   "id": "4b11b25b",
   "metadata": {},
   "source": [
    "## Answer: "
   ]
  },
  {
   "cell_type": "markdown",
   "id": "871bd33f",
   "metadata": {},
   "source": [
    "___"
   ]
  },
  {
   "cell_type": "markdown",
   "id": "dc89fde8",
   "metadata": {},
   "source": [
    "# Problem 212\n",
    " [Source](https://projecteuler.net/problem=212)"
   ]
  },
  {
   "cell_type": "markdown",
   "id": "0aa3ef91",
   "metadata": {},
   "source": [
    "An\n",
    "axis-aligned cuboid\n",
    ", specified by parameters $\\{(x\\_0, y\\_0, z\\_0), (dx, dy, dz)\\}$, consists of all points $(X,Y,Z)$ such that $x\\_0 \\le X \\le x\\_0 + dx$, $y\\_0 \\le Y \\le y\\_0 + dy$ and $z\\_0 \\le Z \\le z\\_0 + dz$. The volume of the cuboid is the product, $dx \\times dy \\times dz$. The\n",
    "combined volume\n",
    "of a collection of cuboids is the volume of their union and will be less than the sum of the individual volumes if any cuboids overlap.\n",
    "\n",
    "Let $C\\_1, \\dots, C\\_{50000}$ be a collection of $50000$ axis-aligned cuboids such that $C\\_n$ has parameters\n",
    "\n",
    "$$\\begin{align}\n",
    "x\\_0 &= S\\_{6n - 5} \\bmod 10000\\\\\n",
    "y\\_0 &= S\\_{6n - 4} \\bmod 10000\\\\\n",
    "z\\_0 &= S\\_{6n - 3} \\bmod 10000\\\\\n",
    "dx &= 1 + (S\\_{6n - 2} \\bmod 399)\\\\\n",
    "dy &= 1 + (S\\_{6n - 1} \\bmod 399)\\\\\n",
    "dz &= 1 + (S\\_{6n} \\bmod 399)\n",
    "\\end{align}$$\n",
    "\n",
    "where $S\\_1,\\dots,S\\_{300000}$ come from the \"Lagged Fibonacci Generator\":\n",
    "\n",
    "* For $1 \\le k \\le 55$, $S\\_k = [100003 - 200003k + 300007k^3] \\pmod{1000000}$.\n",
    "* For $56 \\le k$, $S\\_k = [S\\_{k -24} + S\\_{k - 55}] \\pmod{1000000}$.\n",
    "\n",
    "Thus, $C\\_1$ has parameters $\\{(7,53,183),(94,369,56)\\}$, $C\\_2$ has parameters $\\{(2383,3563,5079),(42,212,344)\\}$, and so on.\n",
    "\n",
    "The combined volume of the first $100$ cuboids, $C\\_1, \\dots, C\\_{100}$, is $723581599$.\n",
    "\n",
    "What is the combined volume of all $50000$ cuboids, $C\\_1, \\dots, C\\_{50000}$?"
   ]
  },
  {
   "cell_type": "code",
   "execution_count": null,
   "id": "ff2a57da",
   "metadata": {},
   "outputs": [],
   "source": [
    "# Problem 212 workspace"
   ]
  },
  {
   "cell_type": "markdown",
   "id": "797ea8b5",
   "metadata": {},
   "source": [
    "## Answer: "
   ]
  },
  {
   "cell_type": "markdown",
   "id": "aea9ab55",
   "metadata": {},
   "source": [
    "___"
   ]
  },
  {
   "cell_type": "markdown",
   "id": "d14ea642",
   "metadata": {},
   "source": [
    "# Problem 213\n",
    " [Source](https://projecteuler.net/problem=213)"
   ]
  },
  {
   "cell_type": "markdown",
   "id": "b96cee1a",
   "metadata": {},
   "source": [
    "A $30 \\times 30$ grid of squares contains $900$ fleas, initially one flea per square.\n",
    "  \n",
    "When a bell is rung, each flea jumps to an adjacent square at random (usually $4$ possibilities, except for fleas on the edge of the grid or at the corners).\n",
    "\n",
    "What is the expected number of unoccupied squares after $50$ rings of the bell? Give your answer rounded to six decimal places."
   ]
  },
  {
   "cell_type": "code",
   "execution_count": null,
   "id": "3ddf450f",
   "metadata": {},
   "outputs": [],
   "source": [
    "# Problem 213 workspace"
   ]
  },
  {
   "cell_type": "markdown",
   "id": "efb5ed90",
   "metadata": {},
   "source": [
    "## Answer: "
   ]
  },
  {
   "cell_type": "markdown",
   "id": "77856c5c",
   "metadata": {},
   "source": [
    "___"
   ]
  },
  {
   "cell_type": "markdown",
   "id": "6c917497",
   "metadata": {},
   "source": [
    "# Problem 214\n",
    " [Source](https://projecteuler.net/problem=214)"
   ]
  },
  {
   "cell_type": "markdown",
   "id": "74a5310a",
   "metadata": {},
   "source": [
    "Let $\\phi$ be Euler's totient function, i.e. for a natural number $n$,\n",
    "$\\phi(n)$ is the number of $k$, $1 \\le k \\le n$, for which $\\gcd(k, n) = 1$.\n",
    "\n",
    "By iterating $\\phi$, each positive integer generates a decreasing chain of numbers ending in $1$.\n",
    "  \n",
    "E.g. if we start with $5$ the sequence $5,4,2,1$ is generated.\n",
    "  \n",
    "Here is a listing of all chains with length $4$:\n",
    "\n",
    "$$\\begin{align}\n",
    "5,4,2,1&\\\\\n",
    "7,6,2,1&\\\\\n",
    "8,4,2,1&\\\\\n",
    "9,6,2,1&\\\\\n",
    "10,4,2,1&\\\\\n",
    "12,4,2,1&\\\\\n",
    "14,6,2,1&\\\\\n",
    "18,6,2,1\n",
    "\\end{align}$$\n",
    "\n",
    "Only two of these chains start with a prime, their sum is $12$.\n",
    "\n",
    "What is the sum of all primes less than $40000000$ which generate a chain of length $25$?"
   ]
  },
  {
   "cell_type": "code",
   "execution_count": null,
   "id": "7bc25adb",
   "metadata": {},
   "outputs": [],
   "source": [
    "# Problem 214 workspace"
   ]
  },
  {
   "cell_type": "markdown",
   "id": "b11bd8d4",
   "metadata": {},
   "source": [
    "## Answer: "
   ]
  },
  {
   "cell_type": "markdown",
   "id": "88312d54",
   "metadata": {},
   "source": [
    "___"
   ]
  },
  {
   "cell_type": "markdown",
   "id": "24aeba13",
   "metadata": {},
   "source": [
    "# Problem 215\n",
    " [Source](https://projecteuler.net/problem=215)"
   ]
  },
  {
   "cell_type": "markdown",
   "id": "52178597",
   "metadata": {},
   "source": [
    "Consider the problem of building a wall out of $2 \\times 1$ and $3 \\times 1$ bricks ($\\text{horizontal} \\times \\text{vertical}$ dimensions) such that, for extra strength, the gaps between horizontally-adjacent bricks never line up in consecutive layers, i.e. never form a \"running crack\".\n",
    "\n",
    "For example, the following $9 \\times 3$ wall is not acceptable due to the running crack shown in red:\n",
    "\n",
    "![](resources/0215_crackfree.gif)\n",
    "\n",
    "There are eight ways of forming a crack-free $9 \\times 3$ wall, written $W(9,3) = 8$.\n",
    "\n",
    "Calculate $W(32,10)$."
   ]
  },
  {
   "cell_type": "code",
   "execution_count": null,
   "id": "d512ef5f",
   "metadata": {},
   "outputs": [],
   "source": [
    "# Problem 215 workspace"
   ]
  },
  {
   "cell_type": "markdown",
   "id": "715db9e5",
   "metadata": {},
   "source": [
    "## Answer: "
   ]
  },
  {
   "cell_type": "markdown",
   "id": "68c5e54b",
   "metadata": {},
   "source": [
    "___"
   ]
  },
  {
   "cell_type": "markdown",
   "id": "d6cff727",
   "metadata": {},
   "source": [
    "# Problem 216\n",
    " [Source](https://projecteuler.net/problem=216)"
   ]
  },
  {
   "cell_type": "markdown",
   "id": "f304b941",
   "metadata": {},
   "source": [
    "Consider numbers $t(n)$ of the form $t(n) = 2n^2 - 1$ with $n \\gt 1$.\n",
    "  \n",
    "The first such numbers are $7, 17, 31, 49, 71, 97, 127$ and $161$.\n",
    "  \n",
    "It turns out that only $49 = 7 \\cdot 7$ and $161 = 7 \\cdot 23$ are not prime.\n",
    "  \n",
    "For $n \\le 10000$ there are $2202$ numbers $t(n)$ that are prime.\n",
    "\n",
    "How many numbers $t(n)$ are prime for $n \\le 50\\,000\\,000$?"
   ]
  },
  {
   "cell_type": "code",
   "execution_count": null,
   "id": "dcfb7dde",
   "metadata": {},
   "outputs": [],
   "source": [
    "# Problem 216 workspace"
   ]
  },
  {
   "cell_type": "markdown",
   "id": "0ebea053",
   "metadata": {},
   "source": [
    "## Answer: "
   ]
  },
  {
   "cell_type": "markdown",
   "id": "be88a954",
   "metadata": {},
   "source": [
    "___"
   ]
  },
  {
   "cell_type": "markdown",
   "id": "a56156df",
   "metadata": {},
   "source": [
    "# Problem 217\n",
    " [Source](https://projecteuler.net/problem=217)"
   ]
  },
  {
   "cell_type": "markdown",
   "id": "189bbbda",
   "metadata": {},
   "source": [
    "A positive integer with $k$ (decimal) digits is called balanced if its first $\\lceil k/2 \\rceil$ digits sum to the same value as its last $\\lceil k/2 \\rceil$ digits, where $\\lceil x \\rceil$, pronounced\n",
    "*ceiling*\n",
    "of $x$, is the smallest integer $\\ge x$, thus $\\lceil \\pi \\rceil = 4$ and $\\lceil 5 \\rceil = 5$.\n",
    "\n",
    "So, for example, all palindromes are balanced, as is $13722$.\n",
    "\n",
    "Let $T(n)$ be the sum of all balanced numbers less than $10^n$.\n",
    "  \n",
    "Thus: $T(1) = 45$, $T(2) = 540$ and $T(5) = 334795890$.\n",
    "\n",
    "Find $T(47) \\bmod 3^{15}$."
   ]
  },
  {
   "cell_type": "code",
   "execution_count": null,
   "id": "4f7b1633",
   "metadata": {},
   "outputs": [],
   "source": [
    "# Problem 217 workspace"
   ]
  },
  {
   "cell_type": "markdown",
   "id": "540032f3",
   "metadata": {},
   "source": [
    "## Answer: "
   ]
  },
  {
   "cell_type": "markdown",
   "id": "4a9a8132",
   "metadata": {},
   "source": [
    "___"
   ]
  },
  {
   "cell_type": "markdown",
   "id": "d1974be1",
   "metadata": {},
   "source": [
    "# Problem 218\n",
    " [Source](https://projecteuler.net/problem=218)"
   ]
  },
  {
   "cell_type": "markdown",
   "id": "c51bd06a",
   "metadata": {},
   "source": [
    "Consider the right angled triangle with sides $a=7$, $b=24$ and $c=25$.\n",
    "The area of this triangle is $84$, which is divisible by the perfect numbers $6$ and $28$.\n",
    "  \n",
    "Moreover it is a primitive right angled triangle as $\\gcd(a,b)=1$ and $\\gcd(b,c)=1$.\n",
    "  \n",
    "Also $c$ is a perfect square.\n",
    "\n",
    "We will call a right angled triangle perfect if\n",
    "  \n",
    "-it is a primitive right angled triangle\n",
    "  \n",
    "-its hypotenuse is a perfect square.\n",
    "\n",
    "We will call a right angled triangle super-perfect if\n",
    "  \n",
    "-it is a perfect right angled triangle and\n",
    "  \n",
    "-its area is a multiple of the perfect numbers $6$ and $28$.\n",
    "\n",
    "How many perfect right-angled triangles with $c \\le 10^{16}$ exist that are not super-perfect?"
   ]
  },
  {
   "cell_type": "code",
   "execution_count": null,
   "id": "c8a6125b",
   "metadata": {},
   "outputs": [],
   "source": [
    "# Problem 218 workspace"
   ]
  },
  {
   "cell_type": "markdown",
   "id": "9b2cf347",
   "metadata": {},
   "source": [
    "## Answer: "
   ]
  },
  {
   "cell_type": "markdown",
   "id": "1fc1ad0a",
   "metadata": {},
   "source": [
    "___"
   ]
  },
  {
   "cell_type": "markdown",
   "id": "0a8417a7",
   "metadata": {},
   "source": [
    "# Problem 219\n",
    " [Source](https://projecteuler.net/problem=219)"
   ]
  },
  {
   "cell_type": "markdown",
   "id": "3503e77a",
   "metadata": {},
   "source": [
    "Let\n",
    "A\n",
    "and\n",
    "B\n",
    "be bit strings (sequences of 0's and 1's).\n",
    "  \n",
    "If\n",
    "A\n",
    "is equal to the\n",
    "left\n",
    "most length(\n",
    "A\n",
    ") bits of\n",
    "B\n",
    ", then\n",
    "A\n",
    "is said to be a\n",
    "prefix\n",
    "of\n",
    "B\n",
    ".\n",
    "  \n",
    "For example, 00110 is a prefix of\n",
    "00110\n",
    "1001, but not of 00111 or 100110.\n",
    "\n",
    "A\n",
    "prefix-free code of size\n",
    "\n",
    "n\n",
    "is a collection of\n",
    "n\n",
    "distinct bit strings such that no string is a prefix of any other. For example, this is a prefix-free code of size 6:\n",
    "\n",
    "0000, 0001, 001, 01, 10, 11\n",
    "\n",
    "Now suppose that it costs one penny to transmit a '0' bit, but four pence to transmit a '1'.\n",
    "  \n",
    "Then the total cost of the prefix-free code shown above is 35 pence, which happens to be the cheapest possible for the skewed pricing scheme in question.\n",
    "  \n",
    "In short, we write Cost(6) = 35.\n",
    "\n",
    "What is Cost(10\n",
    "9\n",
    ") ?"
   ]
  },
  {
   "cell_type": "code",
   "execution_count": null,
   "id": "dc6924d9",
   "metadata": {},
   "outputs": [],
   "source": [
    "# Problem 219 workspace"
   ]
  },
  {
   "cell_type": "markdown",
   "id": "441ae709",
   "metadata": {},
   "source": [
    "## Answer: "
   ]
  },
  {
   "cell_type": "markdown",
   "id": "ff649e62",
   "metadata": {},
   "source": [
    "___"
   ]
  },
  {
   "cell_type": "markdown",
   "id": "ad904b67",
   "metadata": {},
   "source": [
    "# Problem 220\n",
    " [Source](https://projecteuler.net/problem=220)"
   ]
  },
  {
   "cell_type": "markdown",
   "id": "6858601b",
   "metadata": {},
   "source": [
    "Let $D\\_0$ be the two-letter string \"Fa\". For $n\\ge 1$, derive $D\\_n$ from $D\\_{n-1}$ by the string-rewriting rules:\n",
    "\n",
    "\"a\" → \"aRbFR\"\n",
    "  \n",
    "\"b\" → \"LFaLb\"\n",
    "\n",
    "Thus, $D\\_0 = $ \"Fa\", $D\\_1 = $ \"FaRbFR\", $D\\_2 = $ \"FaRbFRRLFaLbFR\", and so on.\n",
    "\n",
    "These strings can be interpreted as instructions to a computer graphics program, with \"F\" meaning \"draw forward one unit\", \"L\" meaning \"turn left $90$ degrees\", \"R\" meaning \"turn right $90$ degrees\", and \"a\" and \"b\" being ignored. The initial position of the computer cursor is $(0,0)$, pointing up towards $(0,1)$.\n",
    "\n",
    "Then $D\\_n$ is an exotic drawing known as the\n",
    "**Heighway Dragon**\n",
    "of order $n$. For example, $D\\_{10}$ is shown below; counting each \"F\" as one step, the highlighted spot at $(18,16)$ is the position reached after $500$ steps.\n",
    "\n",
    "![](resources/0220.gif)\n",
    "\n",
    "What is the position of the cursor after $10^{12}$ steps in $D\\_{50}$?\n",
    "  \n",
    "Give your answer in the form\n",
    "*x*\n",
    ",\n",
    "*y*\n",
    "with no spaces."
   ]
  },
  {
   "cell_type": "code",
   "execution_count": null,
   "id": "259a6b1a",
   "metadata": {},
   "outputs": [],
   "source": [
    "# Problem 220 workspace"
   ]
  },
  {
   "cell_type": "markdown",
   "id": "71c5374e",
   "metadata": {},
   "source": [
    "## Answer: "
   ]
  },
  {
   "cell_type": "markdown",
   "id": "1af0d7af",
   "metadata": {},
   "source": [
    "___"
   ]
  }
 ],
 "metadata": {},
 "nbformat": 4,
 "nbformat_minor": 5
}
