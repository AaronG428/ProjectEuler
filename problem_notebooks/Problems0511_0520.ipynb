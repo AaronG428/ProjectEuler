{
 "cells": [
  {
   "cell_type": "markdown",
   "id": "2e691bdc",
   "metadata": {},
   "source": [
    "# Problem 511\n",
    " [Source](https://projecteuler.net/problem=511)"
   ]
  },
  {
   "cell_type": "markdown",
   "id": "bd60874e",
   "metadata": {},
   "source": [
    "Let $Seq(n,k)$ be the number of positive-integer sequences $\\{a\\_i\\}\\_{1 \\le i \\le n}$ of length $n$ such that:\n",
    "\n",
    "* $n$ is divisible by $a\\_i$ for $1 \\le i \\le n$, and\n",
    "* $n + a\\_1 + a\\_2 + \\cdots + a\\_n$ is divisible by $k$.\n",
    "\n",
    "Examples:\n",
    "\n",
    "$Seq(3,4) = 4$, and the $4$ sequences are:\n",
    "  \n",
    "$\\{1, 1, 3\\}$\n",
    "  \n",
    "$\\{1, 3, 1\\}$\n",
    "  \n",
    "$\\{3, 1, 1\\}$\n",
    "  \n",
    "$\\{3, 3, 3\\}$\n",
    "\n",
    "$Seq(4,11) = 8$, and the $8$ sequences are:\n",
    "  \n",
    "$\\{1, 1, 1, 4\\}$\n",
    "  \n",
    "$\\{1, 1, 4, 1\\}$\n",
    "  \n",
    "$\\{1, 4, 1, 1\\}$\n",
    "  \n",
    "$\\{4, 1, 1, 1\\}$\n",
    "  \n",
    "$\\{2, 2, 2, 1\\}$\n",
    "  \n",
    "$\\{2, 2, 1, 2\\}$\n",
    "  \n",
    "$\\{2, 1, 2, 2\\}$\n",
    "  \n",
    "$\\{1, 2, 2, 2\\}$\n",
    "\n",
    "The last nine digits of $Seq(1111,24)$ are $840643584$.\n",
    "\n",
    "Find the last nine digits of $Seq(1234567898765,4321)$."
   ]
  },
  {
   "cell_type": "code",
   "execution_count": null,
   "id": "4d2f6a3b",
   "metadata": {},
   "outputs": [],
   "source": [
    "# Problem 511 workspace"
   ]
  },
  {
   "cell_type": "markdown",
   "id": "f0315dc0",
   "metadata": {},
   "source": [
    "## Answer: "
   ]
  },
  {
   "cell_type": "markdown",
   "id": "917e316a",
   "metadata": {},
   "source": [
    "___"
   ]
  },
  {
   "cell_type": "markdown",
   "id": "1968523d",
   "metadata": {},
   "source": [
    "# Problem 512\n",
    " [Source](https://projecteuler.net/problem=512)"
   ]
  },
  {
   "cell_type": "markdown",
   "id": "1179bc6a",
   "metadata": {},
   "source": [
    "Let $\\varphi(n)$ be Euler's totient function.\n",
    "\n",
    "Let $f(n)=(\\sum\\_{i=1}^{n}\\varphi(n^i)) \\bmod (n+1)$.\n",
    "\n",
    "Let $g(n)=\\sum\\_{i=1}^{n} f(i)$.\n",
    "\n",
    "$g(100)=2007$.\n",
    "\n",
    "Find $g(5 \\times 10^8)$."
   ]
  },
  {
   "cell_type": "code",
   "execution_count": null,
   "id": "ae4b1fb1",
   "metadata": {},
   "outputs": [],
   "source": [
    "# Problem 512 workspace"
   ]
  },
  {
   "cell_type": "markdown",
   "id": "67ff386b",
   "metadata": {},
   "source": [
    "## Answer: "
   ]
  },
  {
   "cell_type": "markdown",
   "id": "7604251e",
   "metadata": {},
   "source": [
    "___"
   ]
  },
  {
   "cell_type": "markdown",
   "id": "25cb2b4d",
   "metadata": {},
   "source": [
    "# Problem 513\n",
    " [Source](https://projecteuler.net/problem=513)"
   ]
  },
  {
   "cell_type": "markdown",
   "id": "a0d3a5c9",
   "metadata": {},
   "source": [
    "$ABC$ is an integral sided triangle with sides $a \\le b \\le c$.\n",
    "  \n",
    "$m\\_C$ is the median connecting $C$ and the midpoint of $AB$.\n",
    "  \n",
    "$F(n)$ is the number of such triangles with $c \\le n$ for which $m\\_C$ has integral length as well.\n",
    "  \n",
    "$F(10)=3$ and $F(50)=165$.\n",
    "\n",
    "Find $F(100000)$."
   ]
  },
  {
   "cell_type": "code",
   "execution_count": null,
   "id": "17010a93",
   "metadata": {},
   "outputs": [],
   "source": [
    "# Problem 513 workspace"
   ]
  },
  {
   "cell_type": "markdown",
   "id": "2a39a6b3",
   "metadata": {},
   "source": [
    "## Answer: "
   ]
  },
  {
   "cell_type": "markdown",
   "id": "d576710c",
   "metadata": {},
   "source": [
    "___"
   ]
  },
  {
   "cell_type": "markdown",
   "id": "968dd8fe",
   "metadata": {},
   "source": [
    "# Problem 514\n",
    " [Source](https://projecteuler.net/problem=514)"
   ]
  },
  {
   "cell_type": "markdown",
   "id": "cd31c826",
   "metadata": {},
   "source": [
    "A\n",
    "**geoboard**\n",
    "(of order $N$) is a square board with equally-spaced pins protruding from the surface, representing an integer point lattice for coordinates $0 \\le x, y \\le N$.\n",
    "\n",
    "John begins with a pinless geoboard. Each position on the board is a hole that can be filled with a pin. John decides to generate a random integer between $1$ and $N+1$ (inclusive) for each hole in the geoboard. If the random integer is equal to $1$ for a given hole, then a pin is placed in that hole.\n",
    "\n",
    "After John is finished generating numbers for all $(N+1)^2$ holes and placing any/all corresponding pins, he wraps a tight rubberband around the entire group of pins protruding from the board. Let $S$ represent the shape that is formed. $S$ can also be defined as the smallest convex shape that contains all the pins.\n",
    "\n",
    "![0514_geoboard.png](resources/0514_geoboard.png)\n",
    "\n",
    "The above image depicts a sample layout for $N = 4$. The green markers indicate positions where pins have been placed, and the blue lines collectively represent the rubberband. For this particular arrangement, $S$ has an area of $6$. If there are fewer than three pins on the board (or if all pins are collinear), $S$ can be assumed to have zero area.\n",
    "\n",
    "Let $E(N)$ be the expected area of $S$ given a geoboard of order $N$. For example, $E(1) = 0.18750$, $E(2) = 0.94335$, and $E(10) = 55.03013$ when rounded to five decimal places each.\n",
    "\n",
    "Calculate $E(100)$ rounded to five decimal places."
   ]
  },
  {
   "cell_type": "code",
   "execution_count": null,
   "id": "b208c278",
   "metadata": {},
   "outputs": [],
   "source": [
    "# Problem 514 workspace"
   ]
  },
  {
   "cell_type": "markdown",
   "id": "c8f79e5c",
   "metadata": {},
   "source": [
    "## Answer: "
   ]
  },
  {
   "cell_type": "markdown",
   "id": "472044a9",
   "metadata": {},
   "source": [
    "___"
   ]
  },
  {
   "cell_type": "markdown",
   "id": "df15e88c",
   "metadata": {},
   "source": [
    "# Problem 515\n",
    " [Source](https://projecteuler.net/problem=515)"
   ]
  },
  {
   "cell_type": "markdown",
   "id": "f60821fb",
   "metadata": {},
   "source": [
    "Let $d(p, n, 0)$ be the multiplicative inverse of $n$ modulo prime $p$, defined as $n \\times d(p, n, 0) = 1 \\bmod p$.\n",
    "  \n",
    "Let $d(p, n, k) = \\sum\\_{i = 1}^n d(p, i, k - 1)$ for $k \\ge 1$.\n",
    "  \n",
    "Let $D(a, b, k) = \\sum (d(p, p-1, k) \\bmod p)$ for all primes $a \\le p \\lt a + b$.\n",
    "\n",
    "You are given:\n",
    "\n",
    "* $D(101,1,10) = 45$\n",
    "* $D(10^3,10^2,10^2) = 8334$\n",
    "* $D(10^6,10^3,10^3) = 38162302$\n",
    "\n",
    "Find $D(10^9,10^5,10^5)$."
   ]
  },
  {
   "cell_type": "code",
   "execution_count": null,
   "id": "e682ef7f",
   "metadata": {},
   "outputs": [],
   "source": [
    "# Problem 515 workspace"
   ]
  },
  {
   "cell_type": "markdown",
   "id": "c94498a0",
   "metadata": {},
   "source": [
    "## Answer: "
   ]
  },
  {
   "cell_type": "markdown",
   "id": "ca40aabb",
   "metadata": {},
   "source": [
    "___"
   ]
  },
  {
   "cell_type": "markdown",
   "id": "8526b630",
   "metadata": {},
   "source": [
    "# Problem 516\n",
    " [Source](https://projecteuler.net/problem=516)"
   ]
  },
  {
   "cell_type": "markdown",
   "id": "6a6eae69",
   "metadata": {},
   "source": [
    "$5$-smooth numbers are numbers whose largest prime factor doesn't exceed $5$.\n",
    "  \n",
    "$5$-smooth numbers are also called Hamming numbers.\n",
    "  \n",
    "Let $S(L)$ be the sum of the numbers $n$ not exceeding $L$ such that Euler's totient function $\\phi(n)$ is a Hamming number.\n",
    "  \n",
    "$S(100)=3728$.\n",
    "\n",
    "Find $S(10^{12})$. Give your answer modulo $2^{32}$."
   ]
  },
  {
   "cell_type": "code",
   "execution_count": null,
   "id": "3249c953",
   "metadata": {},
   "outputs": [],
   "source": [
    "# Problem 516 workspace"
   ]
  },
  {
   "cell_type": "markdown",
   "id": "3f76fc45",
   "metadata": {},
   "source": [
    "## Answer: "
   ]
  },
  {
   "cell_type": "markdown",
   "id": "3ce237af",
   "metadata": {},
   "source": [
    "___"
   ]
  },
  {
   "cell_type": "markdown",
   "id": "1f760bae",
   "metadata": {},
   "source": [
    "# Problem 517\n",
    " [Source](https://projecteuler.net/problem=517)"
   ]
  },
  {
   "cell_type": "markdown",
   "id": "b9d3dedf",
   "metadata": {},
   "source": [
    "For every real number $a \\gt 1$ is given the sequence $g\\_a$ by:\n",
    "  \n",
    "$g\\_{a}(x)=1$ for $x \\lt a$\n",
    "  \n",
    "$g\\_{a}(x)=g\\_{a}(x-1)+g\\_a(x-a)$ for $x \\ge a$\n",
    "  \n",
    "$G(n)=g\\_{\\sqrt {n}}(n)$\n",
    "  \n",
    "$G(90)=7564511$.\n",
    "\n",
    "Find $\\sum G(p)$ for $p$ prime and $10000000 \\lt p \\lt 10010000$\n",
    "  \n",
    "Give your answer modulo $1000000007$."
   ]
  },
  {
   "cell_type": "code",
   "execution_count": null,
   "id": "9fb91648",
   "metadata": {},
   "outputs": [],
   "source": [
    "# Problem 517 workspace"
   ]
  },
  {
   "cell_type": "markdown",
   "id": "632d352d",
   "metadata": {},
   "source": [
    "## Answer: "
   ]
  },
  {
   "cell_type": "markdown",
   "id": "149a3971",
   "metadata": {},
   "source": [
    "___"
   ]
  },
  {
   "cell_type": "markdown",
   "id": "0c040306",
   "metadata": {},
   "source": [
    "# Problem 518\n",
    " [Source](https://projecteuler.net/problem=518)"
   ]
  },
  {
   "cell_type": "markdown",
   "id": "95b352d1",
   "metadata": {},
   "source": [
    "Let $S(n) = \\sum a + b + c$ over all triples $(a, b, c)$ such that:\n",
    "\n",
    "* $a$, $b$ and $c$ are prime numbers.\n",
    "* $a \\lt b \\lt c \\lt n$.\n",
    "* $a+1$, $b+1$, and $c+1$ form a\n",
    "  **geometric sequence**\n",
    "  .\n",
    "\n",
    "For example, $S(100) = 1035$ with the following triples:\n",
    "\n",
    "$(2, 5, 11)$, $(2, 11, 47)$, $(5, 11, 23)$, $(5, 17, 53)$, $(7, 11, 17)$, $(7, 23, 71)$, $(11, 23, 47)$, $(17, 23, 31)$, $(17, 41, 97)$, $(31, 47, 71)$, $(71, 83, 97)$\n",
    "\n",
    "Find $S(10^8)$."
   ]
  },
  {
   "cell_type": "code",
   "execution_count": null,
   "id": "9a6e8948",
   "metadata": {},
   "outputs": [],
   "source": [
    "# Problem 518 workspace"
   ]
  },
  {
   "cell_type": "markdown",
   "id": "aefb235c",
   "metadata": {},
   "source": [
    "## Answer: "
   ]
  },
  {
   "cell_type": "markdown",
   "id": "5e0a7565",
   "metadata": {},
   "source": [
    "___"
   ]
  },
  {
   "cell_type": "markdown",
   "id": "c0f69b89",
   "metadata": {},
   "source": [
    "# Problem 519\n",
    " [Source](https://projecteuler.net/problem=519)"
   ]
  },
  {
   "cell_type": "markdown",
   "id": "bcfd0570",
   "metadata": {},
   "source": [
    "An arrangement of coins in one or more rows with the bottom row being a block without gaps and every coin in a higher row touching exactly two coins in the row below is called a\n",
    "fountain\n",
    "of coins. Let $f(n)$ be the number of possible fountains with $n$ coins. For $4$ coins there are three possible arrangements:\n",
    "\n",
    "![0519_coin_fountain.png](resources/0519_coin_fountain.png)\n",
    "\n",
    "Therefore $f(4) = 3$ while $f(10) = 78$.\n",
    "\n",
    "Let $T(n)$ be the number of all possible colourings with three colours for all $f(n)$ different fountains with $n$ coins, given the condition that no two touching coins have the same colour. Below you see the possible colourings for one of the three valid fountains for $4$ coins:\n",
    "\n",
    "![0519_tricolored_coin_fountain.png](resources/0519_tricolored_coin_fountain.png)\n",
    "\n",
    "You are given that $T(4) = 48$ and $T(10) = 17760$.\n",
    "\n",
    "Find the last $9$ digits of $T(20000)$."
   ]
  },
  {
   "cell_type": "code",
   "execution_count": null,
   "id": "1e8577bb",
   "metadata": {},
   "outputs": [],
   "source": [
    "# Problem 519 workspace"
   ]
  },
  {
   "cell_type": "markdown",
   "id": "c9ddcf11",
   "metadata": {},
   "source": [
    "## Answer: "
   ]
  },
  {
   "cell_type": "markdown",
   "id": "7b2aec7f",
   "metadata": {},
   "source": [
    "___"
   ]
  },
  {
   "cell_type": "markdown",
   "id": "62020b7f",
   "metadata": {},
   "source": [
    "# Problem 520\n",
    " [Source](https://projecteuler.net/problem=520)"
   ]
  },
  {
   "cell_type": "markdown",
   "id": "8fe2dffe",
   "metadata": {},
   "source": [
    "We define a\n",
    "simber\n",
    "to be a positive integer in which any odd digit, if present, occurs an odd number of times, and any even digit, if present, occurs an even number of times.\n",
    "\n",
    "For example, $141221242$ is a $9$-digit simber because it has three $1$'s, four $2$'s and two $4$'s.\n",
    "\n",
    "Let $Q(n)$ be the count of all simbers with at most $n$ digits.\n",
    "\n",
    "You are given $Q(7) = 287975$ and $Q(100) \\bmod 1\\,000\\,000\\,123 = 123864868$.\n",
    "\n",
    "Find $(\\sum\\_{1 \\le u \\le 39} Q(2^u)) \\bmod 1\\,000\\,000\\,123$."
   ]
  },
  {
   "cell_type": "code",
   "execution_count": null,
   "id": "80d84f60",
   "metadata": {},
   "outputs": [],
   "source": [
    "# Problem 520 workspace"
   ]
  },
  {
   "cell_type": "markdown",
   "id": "419fc7a9",
   "metadata": {},
   "source": [
    "## Answer: "
   ]
  },
  {
   "cell_type": "markdown",
   "id": "29bc9c35",
   "metadata": {},
   "source": [
    "___"
   ]
  }
 ],
 "metadata": {},
 "nbformat": 4,
 "nbformat_minor": 5
}
