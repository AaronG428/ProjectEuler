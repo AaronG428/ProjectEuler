{
 "cells": [
  {
   "cell_type": "markdown",
   "id": "dab875ce",
   "metadata": {},
   "source": [
    "# Problem 241\n",
    " [Source](https://projecteuler.net/problem=241)"
   ]
  },
  {
   "cell_type": "markdown",
   "id": "bfe077e4",
   "metadata": {},
   "source": [
    "For a positive integer $n$, let $\\sigma(n)$ be the sum of all divisors of $n$. For example, $\\sigma(6) = 1 + 2 + 3 + 6 = 12$.\n",
    "\n",
    "A perfect number, as you probably know, is a number with $\\sigma(n) = 2n$.\n",
    "\n",
    "Let us define the\n",
    "**perfection quotient**\n",
    "of a positive integer as $p(n) = \\dfrac{\\sigma(n)}{n}$.\n",
    "\n",
    "Find the sum of all positive integers $n \\le 10^{18}$ for which $p(n)$ has the form $k + \\dfrac{1}{2}$, where $k$ is an integer."
   ]
  },
  {
   "cell_type": "code",
   "execution_count": null,
   "id": "96b0d884",
   "metadata": {},
   "outputs": [],
   "source": [
    "# Problem 241 workspace"
   ]
  },
  {
   "cell_type": "markdown",
   "id": "2d5797c5",
   "metadata": {},
   "source": [
    "## Answer: "
   ]
  },
  {
   "cell_type": "markdown",
   "id": "7e7be45f",
   "metadata": {},
   "source": [
    "___"
   ]
  },
  {
   "cell_type": "markdown",
   "id": "693d2e3f",
   "metadata": {},
   "source": [
    "# Problem 242\n",
    " [Source](https://projecteuler.net/problem=242)"
   ]
  },
  {
   "cell_type": "markdown",
   "id": "6b446ab3",
   "metadata": {},
   "source": [
    "Given the set $\\{1,2,\\dots,n\\}$, we define $f(n, k)$ as the number of its $k$-element subsets with an odd sum of elements. For example, $f(5,3) = 4$, since the set $\\{1,2,3,4,5\\}$ has four $3$-element subsets having an odd sum of elements, i.e.: $\\{1,2,4\\}$, $\\{1,3,5\\}$, $\\{2,3,4\\}$ and $\\{2,4,5\\}$.\n",
    "\n",
    "When all three values $n$, $k$ and $f(n, k)$ are odd, we say that they make\n",
    "an\n",
    "odd-triplet\n",
    "$[n,k,f(n, k)]$.\n",
    "\n",
    "There are exactly five odd-triplets with $n \\le 10$, namely:\n",
    "  \n",
    "$[1,1,f(1,1) = 1]$, $[5,1,f(5,1) = 3]$, $[5,5,f(5,5) = 1]$, $[9,1,f(9,1) = 5]$ and $[9,9,f(9,9) = 1]$.\n",
    "\n",
    "How many odd-triplets are there with $n \\le 10^{12}$?"
   ]
  },
  {
   "cell_type": "code",
   "execution_count": null,
   "id": "4e59eab4",
   "metadata": {},
   "outputs": [],
   "source": [
    "# Problem 242 workspace"
   ]
  },
  {
   "cell_type": "markdown",
   "id": "b930c52c",
   "metadata": {},
   "source": [
    "## Answer: "
   ]
  },
  {
   "cell_type": "markdown",
   "id": "17a9430f",
   "metadata": {},
   "source": [
    "___"
   ]
  },
  {
   "cell_type": "markdown",
   "id": "970eebd5",
   "metadata": {},
   "source": [
    "# Problem 243\n",
    " [Source](https://projecteuler.net/problem=243)"
   ]
  },
  {
   "cell_type": "markdown",
   "id": "6e6925d8",
   "metadata": {},
   "source": [
    "A positive fraction whose numerator is less than its denominator is called a proper fraction.\n",
    "  \n",
    "For any denominator, $d$, there will be $d - 1$ proper fractions; for example, with $d = 12$:\n",
    "  \n",
    "$1 / 12, 2 / 12, 3 / 12, 4 / 12, 5 / 12, 6 / 12, 7 / 12, 8 / 12, 9 / 12, 10 / 12, 11 / 12$.\n",
    "\n",
    "We shall call a fraction that cannot be cancelled down a\n",
    "resilient fraction\n",
    ".\n",
    "  \n",
    "Furthermore we shall define the\n",
    "resilience\n",
    "of a denominator, $R(d)$, to be the ratio of its proper fractions that are resilient; for example, $R(12) = 4/11$.\n",
    "  \n",
    "In fact, $d = 12$ is the smallest denominator having a resilience $R(d) \\lt 4/10$.\n",
    "\n",
    "Find the smallest denominator $d$, having a resilience $R(d) \\lt 15499/94744$."
   ]
  },
  {
   "cell_type": "code",
   "execution_count": null,
   "id": "2ab726d5",
   "metadata": {},
   "outputs": [],
   "source": [
    "# Problem 243 workspace"
   ]
  },
  {
   "cell_type": "markdown",
   "id": "29094968",
   "metadata": {},
   "source": [
    "## Answer: "
   ]
  },
  {
   "cell_type": "markdown",
   "id": "11c853ba",
   "metadata": {},
   "source": [
    "___"
   ]
  },
  {
   "cell_type": "markdown",
   "id": "795e92ef",
   "metadata": {},
   "source": [
    "# Problem 244\n",
    " [Source](https://projecteuler.net/problem=244)"
   ]
  },
  {
   "cell_type": "markdown",
   "id": "da80521e",
   "metadata": {},
   "source": [
    "You probably know the game\n",
    "**Fifteen Puzzle**\n",
    ". Here, instead of numbered tiles, we have seven red tiles and eight blue tiles.\n",
    "\n",
    "A move is denoted by the uppercase initial of the direction (Left, Right, Up, Down) in which the tile is slid, e.g. starting from configuration (\n",
    "**S**\n",
    "), by the sequence\n",
    "**LULUR**\n",
    "we reach the configuration (\n",
    "**E**\n",
    "):\n",
    "\n",
    "|  |  |  |  |\n",
    "| --- | --- | --- | --- |\n",
    "| ( **S** ) | 0244_start.gif | , ( **E** ) | 0244_example.gif |\n",
    "\n",
    "For each path, its checksum is calculated by (pseudocode):\n",
    "\n",
    "$$\\begin{align}\n",
    "\\mathrm{checksum} &= 0\\\\\n",
    "\\mathrm{checksum} &= (\\mathrm{checksum} \\times 243 + m\\_1) \\bmod 100\\,000\\,007\\\\\n",
    "\\mathrm{checksum} &= (\\mathrm{checksum} \\times 243 + m\\_2) \\bmod 100\\,000\\,007\\\\\n",
    "\\cdots &\\\\\n",
    "\\mathrm{checksum} &= (\\mathrm{checksum} \\times 243 + m\\_n) \\bmod 100\\,000\\,007\n",
    "\\end{align}$$\n",
    "where $m\\_k$ is the ASCII value of the $k$\n",
    "th\n",
    "letter in the move sequence and the ASCII values for the moves are:\n",
    "\n",
    "|  |  |\n",
    "| --- | --- |\n",
    "| **L** | 76 |\n",
    "| **R** | 82 |\n",
    "| **U** | 85 |\n",
    "| **D** | 68 |\n",
    "\n",
    "For the sequence\n",
    "**LULUR**\n",
    "given above, the checksum would be $19761398$.\n",
    "\n",
    "Now, starting from configuration (\n",
    "**S**\n",
    "),\n",
    "find all shortest ways to reach configuration (\n",
    "**T**\n",
    ").\n",
    "\n",
    "|  |  |  |  |\n",
    "| --- | --- | --- | --- |\n",
    "| ( **S** ) | 0244_start.gif | , ( **T** ) | 0244_target.gif |\n",
    "\n",
    "What is the sum of all checksums for the paths having the minimal length?"
   ]
  },
  {
   "cell_type": "code",
   "execution_count": null,
   "id": "2d4a9eb1",
   "metadata": {},
   "outputs": [],
   "source": [
    "# Problem 244 workspace"
   ]
  },
  {
   "cell_type": "markdown",
   "id": "b45a1f0a",
   "metadata": {},
   "source": [
    "## Answer: "
   ]
  },
  {
   "cell_type": "markdown",
   "id": "98825504",
   "metadata": {},
   "source": [
    "___"
   ]
  },
  {
   "cell_type": "markdown",
   "id": "f5cbb663",
   "metadata": {},
   "source": [
    "# Problem 245\n",
    " [Source](https://projecteuler.net/problem=245)"
   ]
  },
  {
   "cell_type": "markdown",
   "id": "faf7f07e",
   "metadata": {},
   "source": [
    "We shall call a fraction that cannot be cancelled down a resilient fraction.\n",
    "  \n",
    "Furthermore we shall define the resilience of a denominator, $R(d)$, to be the ratio of its proper fractions that are resilient; for example, $R(12) = \\dfrac{4}{11}$.\n",
    "\n",
    "The resilience of a number $d \\gt 1$ is then $\\dfrac{\\varphi(d)}{d - 1}$, where $\\varphi$ is Euler's totient function.\n",
    "\n",
    "We further define the\n",
    "coresilience\n",
    "of a number $n \\gt 1$ as $C(n) = \\dfrac{n - \\varphi(n)}{n - 1}$.\n",
    "\n",
    "The coresilience of a prime $p$ is $C(p) = \\dfrac{1}{p - 1}$.\n",
    "\n",
    "Find the sum of all\n",
    "**composite**\n",
    "integers $1 \\lt n \\le 2 \\times 10^{11}$, for which $C(n)$ is a\n",
    "**unit fraction\n",
    "A fraction with numerator $1$**\n",
    "."
   ]
  },
  {
   "cell_type": "code",
   "execution_count": null,
   "id": "4ddfadd7",
   "metadata": {},
   "outputs": [],
   "source": [
    "# Problem 245 workspace"
   ]
  },
  {
   "cell_type": "markdown",
   "id": "5f7d4605",
   "metadata": {},
   "source": [
    "## Answer: "
   ]
  },
  {
   "cell_type": "markdown",
   "id": "d67ac5bf",
   "metadata": {},
   "source": [
    "___"
   ]
  },
  {
   "cell_type": "markdown",
   "id": "d1d659d6",
   "metadata": {},
   "source": [
    "# Problem 246\n",
    " [Source](https://projecteuler.net/problem=246)"
   ]
  },
  {
   "cell_type": "markdown",
   "id": "dae97415",
   "metadata": {},
   "source": [
    "A definition for an ellipse is:\n",
    "  \n",
    "Given a circle $c$ with centre $M$ and radius $r$ and a point $G$ such that $d(G,M) \\lt r$, the locus of the points that are equidistant from $c$ and $G$ form an ellipse.\n",
    "\n",
    "The construction of the points of the ellipse is shown below.\n",
    "\n",
    "![](resources/0246_anim.gif)\n",
    "\n",
    "Given are the points $M(-2000,1500)$ and $G(8000,1500)$.\n",
    "  \n",
    "Given is also the circle $c$ with centre $M$ and radius $15000$.\n",
    "  \n",
    "The locus of the points that are equidistant from $G$ and $c$ form an ellipse $e$.\n",
    "  \n",
    "From a point $P$ outside $e$ the two tangents $t\\_1$ and $t\\_2$ to the ellipse are drawn.\n",
    "  \n",
    "Let the points where $t\\_1$ and $t\\_2$ touch the ellipse be $R$ and $S$.\n",
    "\n",
    "![](resources/0246_ellipse.gif)\n",
    "\n",
    "For how many lattice points $P$ is angle $RPS$ greater than $45$ degrees?"
   ]
  },
  {
   "cell_type": "code",
   "execution_count": null,
   "id": "5f13cfff",
   "metadata": {},
   "outputs": [],
   "source": [
    "# Problem 246 workspace"
   ]
  },
  {
   "cell_type": "markdown",
   "id": "89866919",
   "metadata": {},
   "source": [
    "## Answer: "
   ]
  },
  {
   "cell_type": "markdown",
   "id": "7fdb7584",
   "metadata": {},
   "source": [
    "___"
   ]
  },
  {
   "cell_type": "markdown",
   "id": "c974f9a6",
   "metadata": {},
   "source": [
    "# Problem 247\n",
    " [Source](https://projecteuler.net/problem=247)"
   ]
  },
  {
   "cell_type": "markdown",
   "id": "f7eb75f9",
   "metadata": {},
   "source": [
    "Consider the region constrained by $1 \\le x$ and $0 \\le y \\le 1/x$.\n",
    "\n",
    "Let $S\\_1$ be the largest square that can fit under the curve.\n",
    "  \n",
    "Let $S\\_2$ be the largest square that fits in the remaining area, and so on.\n",
    "  \n",
    "Let the\n",
    "index\n",
    "of $S\\_n$ be the pair $(\\text{left}, \\text{below})$ indicating the number of squares to the left of $S\\_n$ and the number of squares below $S\\_n$.\n",
    "\n",
    "![](resources/0247_hypersquares.gif)\n",
    "\n",
    "The diagram shows some such squares labelled by number.\n",
    "  \n",
    "$S\\_2$ has one square to its left and none below, so the index of $S\\_2$ is $(1,0)$.\n",
    "  \n",
    "It can be seen that the index of $S\\_{32}$ is $(1,1)$ as is the index of $S\\_{50}$.\n",
    "  \n",
    "$50$ is the largest $n$ for which the index of $S\\_n$ is $(1,1)$.\n",
    "\n",
    "What is the largest $n$ for which the index of $S\\_n$ is $(3,3)$?"
   ]
  },
  {
   "cell_type": "code",
   "execution_count": null,
   "id": "ecb88880",
   "metadata": {},
   "outputs": [],
   "source": [
    "# Problem 247 workspace"
   ]
  },
  {
   "cell_type": "markdown",
   "id": "d3a5f8d7",
   "metadata": {},
   "source": [
    "## Answer: "
   ]
  },
  {
   "cell_type": "markdown",
   "id": "c951a998",
   "metadata": {},
   "source": [
    "___"
   ]
  },
  {
   "cell_type": "markdown",
   "id": "ae351dbd",
   "metadata": {},
   "source": [
    "# Problem 248\n",
    " [Source](https://projecteuler.net/problem=248)"
   ]
  },
  {
   "cell_type": "markdown",
   "id": "4b474b74",
   "metadata": {},
   "source": [
    "The first number $n$ for which $\\phi(n)=13!$ is $6227180929$.\n",
    "\n",
    "Find the $150\\,000$\n",
    "th\n",
    "such number."
   ]
  },
  {
   "cell_type": "code",
   "execution_count": null,
   "id": "7fae3614",
   "metadata": {},
   "outputs": [],
   "source": [
    "# Problem 248 workspace"
   ]
  },
  {
   "cell_type": "markdown",
   "id": "ca049da9",
   "metadata": {},
   "source": [
    "## Answer: "
   ]
  },
  {
   "cell_type": "markdown",
   "id": "8deee546",
   "metadata": {},
   "source": [
    "___"
   ]
  },
  {
   "cell_type": "markdown",
   "id": "3f08d8ee",
   "metadata": {},
   "source": [
    "# Problem 249\n",
    " [Source](https://projecteuler.net/problem=249)"
   ]
  },
  {
   "cell_type": "markdown",
   "id": "d465d9cf",
   "metadata": {},
   "source": [
    "Let $S = \\{2, 3, 5, \\dots, 4999\\}$ be the set of prime numbers less than $5000$.\n",
    "\n",
    "Find the number of subsets of $S$, the sum of whose elements is a prime number.\n",
    "  \n",
    "Enter the rightmost $16$ digits as your answer."
   ]
  },
  {
   "cell_type": "code",
   "execution_count": null,
   "id": "1eeaabe2",
   "metadata": {},
   "outputs": [],
   "source": [
    "# Problem 249 workspace"
   ]
  },
  {
   "cell_type": "markdown",
   "id": "bc68a57d",
   "metadata": {},
   "source": [
    "## Answer: "
   ]
  },
  {
   "cell_type": "markdown",
   "id": "4f8cb5f2",
   "metadata": {},
   "source": [
    "___"
   ]
  },
  {
   "cell_type": "markdown",
   "id": "f74a035f",
   "metadata": {},
   "source": [
    "# Problem 250\n",
    " [Source](https://projecteuler.net/problem=250)"
   ]
  },
  {
   "cell_type": "markdown",
   "id": "58c8490d",
   "metadata": {},
   "source": [
    "Find the number of non-empty subsets of $\\{1^1, 2^2, 3^3,\\dots, 250250^{250250}\\}$, the sum of whose elements is divisible by $250$. Enter the rightmost $16$ digits as your answer."
   ]
  },
  {
   "cell_type": "code",
   "execution_count": null,
   "id": "26d73ca1",
   "metadata": {},
   "outputs": [],
   "source": [
    "# Problem 250 workspace"
   ]
  },
  {
   "cell_type": "markdown",
   "id": "d381e8cd",
   "metadata": {},
   "source": [
    "## Answer: "
   ]
  },
  {
   "cell_type": "markdown",
   "id": "aecef982",
   "metadata": {},
   "source": [
    "___"
   ]
  }
 ],
 "metadata": {},
 "nbformat": 4,
 "nbformat_minor": 5
}
