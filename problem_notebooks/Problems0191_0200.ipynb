{
 "cells": [
  {
   "cell_type": "markdown",
   "id": "6b8fe4f6",
   "metadata": {},
   "source": [
    "# Problem 191\n",
    " [Source](https://projecteuler.net/problem=191)"
   ]
  },
  {
   "cell_type": "markdown",
   "id": "3917dc42",
   "metadata": {},
   "source": [
    "A particular school offers cash rewards to children with good attendance and punctuality. If they are absent for three consecutive days or late on more than one occasion then they forfeit their prize.\n",
    "\n",
    "During an n-day period a trinary string is formed for each child consisting of L's (late), O's (on time), and A's (absent).\n",
    "\n",
    "Although there are eighty-one trinary strings for a 4-day period that can be formed, exactly forty-three strings would lead to a prize:\n",
    "\n",
    "OOOO OOOA OOOL OOAO OOAA OOAL OOLO OOLA OAOO OAOA\n",
    "  \n",
    "OAOL OAAO OAAL OALO OALA OLOO OLOA OLAO OLAA AOOO\n",
    "  \n",
    "AOOA AOOL AOAO AOAA AOAL AOLO AOLA AAOO AAOA AAOL\n",
    "  \n",
    "AALO AALA ALOO ALOA ALAO ALAA LOOO LOOA LOAO LOAA\n",
    "  \n",
    "LAOO LAOA LAAO\n",
    "\n",
    "How many \"prize\" strings exist over a 30-day period?"
   ]
  },
  {
   "cell_type": "code",
   "execution_count": null,
   "id": "c5fa9571",
   "metadata": {},
   "outputs": [],
   "source": [
    "# Problem 191 workspace"
   ]
  },
  {
   "cell_type": "markdown",
   "id": "b8356237",
   "metadata": {},
   "source": [
    "## Answer: "
   ]
  },
  {
   "cell_type": "markdown",
   "id": "327fe789",
   "metadata": {},
   "source": [
    "___"
   ]
  },
  {
   "cell_type": "markdown",
   "id": "acfa22f7",
   "metadata": {},
   "source": [
    "# Problem 192\n",
    " [Source](https://projecteuler.net/problem=192)"
   ]
  },
  {
   "cell_type": "markdown",
   "id": "9f3a29c3",
   "metadata": {},
   "source": [
    "Let $x$ be a real number.\n",
    "  \n",
    "A\n",
    "**best approximation**\n",
    "to $x$ for the\n",
    "**denominator bound**\n",
    "$d$ is a rational number $\\frac r s $ in\n",
    "**reduced form**\n",
    ", with $s \\le d$, such that any rational number which is closer to $x$ than $\\frac r s$ has a denominator larger than $d$:\n",
    "\n",
    "$|\\frac p q -x | < |\\frac r s -x| \\Rightarrow q > d$\n",
    "\n",
    "For example, the best approximation to $\\sqrt {13}$ for the denominator bound 20 is $\\frac {18} 5$ and the best approximation to $\\sqrt {13}$ for the denominator bound 30 is $\\frac {101}{28}$.\n",
    "\n",
    "Find the sum of all denominators of the best approximations to $\\sqrt n$ for the denominator bound $10^{12}$, where $n$ is not a perfect square and $ 1 < n \\le 100000$."
   ]
  },
  {
   "cell_type": "code",
   "execution_count": null,
   "id": "1e694582",
   "metadata": {},
   "outputs": [],
   "source": [
    "# Problem 192 workspace"
   ]
  },
  {
   "cell_type": "markdown",
   "id": "2e63212b",
   "metadata": {},
   "source": [
    "## Answer: "
   ]
  },
  {
   "cell_type": "markdown",
   "id": "c6649527",
   "metadata": {},
   "source": [
    "___"
   ]
  },
  {
   "cell_type": "markdown",
   "id": "b7b6fc0e",
   "metadata": {},
   "source": [
    "# Problem 193\n",
    " [Source](https://projecteuler.net/problem=193)"
   ]
  },
  {
   "cell_type": "markdown",
   "id": "db7c22b1",
   "metadata": {},
   "source": [
    "A positive integer $n$ is called squarefree, if no square of a prime divides $n$, thus $1, 2, 3, 5, 6, 7, 10, 11$ are squarefree, but not $4, 8, 9, 12$.\n",
    "\n",
    "How many squarefree numbers are there below $2^{50}$?"
   ]
  },
  {
   "cell_type": "code",
   "execution_count": null,
   "id": "58e3d60f",
   "metadata": {},
   "outputs": [],
   "source": [
    "# Problem 193 workspace"
   ]
  },
  {
   "cell_type": "markdown",
   "id": "77a04363",
   "metadata": {},
   "source": [
    "## Answer: "
   ]
  },
  {
   "cell_type": "markdown",
   "id": "4f6e0f24",
   "metadata": {},
   "source": [
    "___"
   ]
  },
  {
   "cell_type": "markdown",
   "id": "bddb1781",
   "metadata": {},
   "source": [
    "# Problem 194\n",
    " [Source](https://projecteuler.net/problem=194)"
   ]
  },
  {
   "cell_type": "markdown",
   "id": "26c9fd3e",
   "metadata": {},
   "source": [
    "Consider graphs built with the units $A$:\n",
    "![](resources/0194_GraphA.png)\n",
    "and $B$:\n",
    "![](resources/0194_GraphB.png)\n",
    ", where the units are glued along\n",
    "the vertical edges as in the graph\n",
    "![](resources/0194_Fig.png)\n",
    ".\n",
    "\n",
    "A configuration of type $(a, b, c)$ is a graph thus built of $a$ units $A$ and $b$ units $B$, where the graph's vertices are coloured using up to $c$ colours, so that no two adjacent vertices have the same colour.\n",
    "  \n",
    "The compound graph above is an example of a configuration of type $(2,2,6)$, in fact of type $(2,2,c)$ for all $c \\ge 4$.\n",
    "\n",
    "Let $N(a, b, c)$ be the number of configurations of type $(a, b, c)$.\n",
    "  \n",
    "For example, $N(1,0,3) = 24$, $N(0,2,4) = 92928$ and $N(2,2,3) = 20736$.\n",
    "\n",
    "Find the last $8$ digits of $N(25,75,1984)$."
   ]
  },
  {
   "cell_type": "code",
   "execution_count": null,
   "id": "19ed0cfa",
   "metadata": {},
   "outputs": [],
   "source": [
    "# Problem 194 workspace"
   ]
  },
  {
   "cell_type": "markdown",
   "id": "70519db6",
   "metadata": {},
   "source": [
    "## Answer: "
   ]
  },
  {
   "cell_type": "markdown",
   "id": "4792eb88",
   "metadata": {},
   "source": [
    "___"
   ]
  },
  {
   "cell_type": "markdown",
   "id": "187326c6",
   "metadata": {},
   "source": [
    "# Problem 195\n",
    " [Source](https://projecteuler.net/problem=195)"
   ]
  },
  {
   "cell_type": "markdown",
   "id": "d614bda2",
   "metadata": {},
   "source": [
    "Let's call an integer sided triangle with exactly one angle of $60$ degrees a $60$-degree triangle.\n",
    "  \n",
    "Let $r$ be the radius of the inscribed circle of such a $60$-degree triangle.\n",
    "\n",
    "There are $1234$ $60$-degree triangles for which $r \\le 100$.\n",
    "  \n",
    "Let $T(n)$ be the number of $60$-degree triangles for which $r \\le n$, so\n",
    "  \n",
    "$T(100) = 1234$, $T(1000) = 22767$, and $T(10000) = 359912$.\n",
    "\n",
    "Find $T(1053779)$."
   ]
  },
  {
   "cell_type": "code",
   "execution_count": null,
   "id": "ed2f5ca1",
   "metadata": {},
   "outputs": [],
   "source": [
    "# Problem 195 workspace"
   ]
  },
  {
   "cell_type": "markdown",
   "id": "4c944217",
   "metadata": {},
   "source": [
    "## Answer: "
   ]
  },
  {
   "cell_type": "markdown",
   "id": "714862bd",
   "metadata": {},
   "source": [
    "___"
   ]
  },
  {
   "cell_type": "markdown",
   "id": "bb8668a6",
   "metadata": {},
   "source": [
    "# Problem 196\n",
    " [Source](https://projecteuler.net/problem=196)"
   ]
  },
  {
   "cell_type": "markdown",
   "id": "5960494a",
   "metadata": {},
   "source": [
    "Build a triangle from all positive integers in the following way:\n",
    "\n",
    "1\n",
    "  \n",
    "\n",
    "2\n",
    "\n",
    "3\n",
    "  \n",
    "4\n",
    "5\n",
    "6\n",
    "  \n",
    "\n",
    "7\n",
    "8  9 10\n",
    "  \n",
    "\n",
    "11\n",
    "12\n",
    "13\n",
    "14 15\n",
    "  \n",
    "16\n",
    "17\n",
    "18\n",
    "19\n",
    "20 21\n",
    "  \n",
    "22\n",
    "23\n",
    "24 25 26 27 28\n",
    "  \n",
    "\n",
    "29\n",
    "30\n",
    "31\n",
    "32 33 34 35 36\n",
    "  \n",
    "\n",
    "37\n",
    "38 39 40\n",
    "41\n",
    "42\n",
    "43\n",
    "44 45\n",
    "  \n",
    "46\n",
    "47\n",
    "48 49 50 51 52\n",
    "53\n",
    "54 55\n",
    "  \n",
    "56 57 58\n",
    "59\n",
    "60\n",
    "61\n",
    "62 63 64 65 66\n",
    "  \n",
    ". . .\n",
    "\n",
    "Each positive integer has up to eight neighbours in the triangle.\n",
    "\n",
    "A set of three primes is called a\n",
    "prime triplet\n",
    "if one of the three primes has the other two as neighbours in the triangle.\n",
    "\n",
    "For example, in the second row, the prime numbers $2$ and $3$ are elements of some prime triplet.\n",
    "\n",
    "If row $8$ is considered, it contains two primes which are elements of some prime triplet, i.e. $29$ and $31$.\n",
    "  \n",
    "If row $9$ is considered, it contains only one prime which is an element of some prime triplet: $37$.\n",
    "\n",
    "Define $S(n)$ as the sum of the primes in row $n$ which are elements of any prime triplet.\n",
    "  \n",
    "Then $S(8)=60$ and $S(9)=37$.\n",
    "\n",
    "You are given that $S(10000)=950007619$.\n",
    "\n",
    "Find $S(5678027) + S(7208785)$."
   ]
  },
  {
   "cell_type": "code",
   "execution_count": null,
   "id": "ad07f174",
   "metadata": {},
   "outputs": [],
   "source": [
    "# Problem 196 workspace"
   ]
  },
  {
   "cell_type": "markdown",
   "id": "8060b32b",
   "metadata": {},
   "source": [
    "## Answer: "
   ]
  },
  {
   "cell_type": "markdown",
   "id": "a87a9872",
   "metadata": {},
   "source": [
    "___"
   ]
  },
  {
   "cell_type": "markdown",
   "id": "39213c8d",
   "metadata": {},
   "source": [
    "# Problem 197\n",
    " [Source](https://projecteuler.net/problem=197)"
   ]
  },
  {
   "cell_type": "markdown",
   "id": "c180051c",
   "metadata": {},
   "source": [
    "Given is the function $f(x) = \\lfloor 2^{30.403243784 - x^2}\\rfloor \\times 10^{-9}$ ($\\lfloor \\, \\rfloor$ is the floor-function),\n",
    "  \n",
    "the sequence $u\\_n$ is defined by $u\\_0 = -1$ and $u\\_{n + 1} = f(u\\_n)$.\n",
    "\n",
    "Find $u\\_n + u\\_{n + 1}$ for $n = 10^{12}$.\n",
    "  \n",
    "Give your answer with $9$ digits after the decimal point."
   ]
  },
  {
   "cell_type": "code",
   "execution_count": null,
   "id": "8ca98c43",
   "metadata": {},
   "outputs": [],
   "source": [
    "# Problem 197 workspace"
   ]
  },
  {
   "cell_type": "markdown",
   "id": "29dbc40b",
   "metadata": {},
   "source": [
    "## Answer: "
   ]
  },
  {
   "cell_type": "markdown",
   "id": "1f9c23cb",
   "metadata": {},
   "source": [
    "___"
   ]
  },
  {
   "cell_type": "markdown",
   "id": "4ce54610",
   "metadata": {},
   "source": [
    "# Problem 198\n",
    " [Source](https://projecteuler.net/problem=198)"
   ]
  },
  {
   "cell_type": "markdown",
   "id": "75eb03cf",
   "metadata": {},
   "source": [
    "A best approximation to a real number $x$ for the denominator bound $d$ is a rational number $\\frac r s$ (in reduced form) with $s \\le d$, so that any rational number $\\frac p q$ which is closer to $x$ than $\\frac r s$ has $q \\gt d$.\n",
    "\n",
    "Usually the best approximation to a real number is uniquely determined for all denominator bounds. However, there are some exceptions, e.g. $\\frac 9 {40}$ has the two best approximations $\\frac 1 4$ and $\\frac 1 5$ for the denominator bound $6$.\n",
    "We shall call a real number $x$\n",
    "ambiguous\n",
    ", if there is at least one denominator bound for which $x$ possesses two best approximations. Clearly, an ambiguous number is necessarily rational.\n",
    "\n",
    "How many ambiguous numbers $x=\\frac p q, 0 \\lt x \\lt \\frac 1 {100}$, are there whose denominator $q$ does not exceed $10^8$?"
   ]
  },
  {
   "cell_type": "code",
   "execution_count": null,
   "id": "d09e2de2",
   "metadata": {},
   "outputs": [],
   "source": [
    "# Problem 198 workspace"
   ]
  },
  {
   "cell_type": "markdown",
   "id": "1bfb2ca3",
   "metadata": {},
   "source": [
    "## Answer: "
   ]
  },
  {
   "cell_type": "markdown",
   "id": "138fa78b",
   "metadata": {},
   "source": [
    "___"
   ]
  },
  {
   "cell_type": "markdown",
   "id": "f3d980a1",
   "metadata": {},
   "source": [
    "# Problem 199\n",
    " [Source](https://projecteuler.net/problem=199)"
   ]
  },
  {
   "cell_type": "markdown",
   "id": "fd02e357",
   "metadata": {},
   "source": [
    "Three circles of equal radius are placed inside a larger circle such that each pair of circles is tangent to one another and the inner circles do not overlap. There are four uncovered \"gaps\" which are to be filled iteratively with more tangent circles.\n",
    "\n",
    "![](resources/0199_circles_in_circles.gif)\n",
    "\n",
    "At each iteration, a maximally sized circle is placed in each gap, which creates more gaps for the next iteration. After $3$ iterations (pictured), there are $108$ gaps and the fraction of the area which is not covered by circles is $0.06790342$, rounded to eight decimal places.\n",
    "\n",
    "What fraction of the area is not covered by circles after $10$ iterations?\n",
    "  \n",
    "Give your answer rounded to eight decimal places using the format x.xxxxxxxx ."
   ]
  },
  {
   "cell_type": "code",
   "execution_count": null,
   "id": "23bc14ae",
   "metadata": {},
   "outputs": [],
   "source": [
    "# Problem 199 workspace"
   ]
  },
  {
   "cell_type": "markdown",
   "id": "75abfc05",
   "metadata": {},
   "source": [
    "## Answer: "
   ]
  },
  {
   "cell_type": "markdown",
   "id": "b98e80f7",
   "metadata": {},
   "source": [
    "___"
   ]
  },
  {
   "cell_type": "markdown",
   "id": "61d01acb",
   "metadata": {},
   "source": [
    "# Problem 200\n",
    " [Source](https://projecteuler.net/problem=200)"
   ]
  },
  {
   "cell_type": "markdown",
   "id": "3097bf86",
   "metadata": {},
   "source": [
    "We shall define a sqube to be a number of the form, $p^2 q^3$, where $p$ and $q$ are distinct primes.\n",
    "  \n",
    "For example, $200 = 5^2 2^3$ or $120072949 = 23^2 61^3$.\n",
    "\n",
    "The first five squbes are $72, 108, 200, 392$, and $500$.\n",
    "\n",
    "Interestingly, $200$ is also the first number for which you cannot change any single digit to make a prime; we shall call such numbers, prime-proof. The next prime-proof sqube which contains the contiguous sub-string \"$200$\" is $1992008$.\n",
    "\n",
    "Find the $200$th prime-proof sqube containing the contiguous sub-string \"$200$\"."
   ]
  },
  {
   "cell_type": "code",
   "execution_count": null,
   "id": "85606c18",
   "metadata": {},
   "outputs": [],
   "source": [
    "# Problem 200 workspace"
   ]
  },
  {
   "cell_type": "markdown",
   "id": "caaeb5b6",
   "metadata": {},
   "source": [
    "## Answer: "
   ]
  },
  {
   "cell_type": "markdown",
   "id": "6a8cbf68",
   "metadata": {},
   "source": [
    "___"
   ]
  }
 ],
 "metadata": {},
 "nbformat": 4,
 "nbformat_minor": 5
}
