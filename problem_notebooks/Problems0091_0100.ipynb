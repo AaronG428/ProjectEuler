{
 "cells": [
  {
   "cell_type": "markdown",
   "id": "66ecdef2",
   "metadata": {},
   "source": [
    "# Problem 91\n",
    " [Source](https://projecteuler.net/problem=91)"
   ]
  },
  {
   "cell_type": "markdown",
   "id": "aec562ac",
   "metadata": {},
   "source": [
    "The points $P(x\\_1, y\\_1)$ and $Q(x\\_2, y\\_2)$ are plotted at integer co-ordinates and are joined to the origin, $O(0,0)$, to form $\\triangle OPQ$.\n",
    "\n",
    "![](resources/0091_1.png)\n",
    "\n",
    "There are exactly fourteen triangles containing a right angle that can be formed when each co-ordinate lies between $0$ and $2$ inclusive; that is, $0 \\le x\\_1, y\\_1, x\\_2, y\\_2 \\le 2$.\n",
    "\n",
    "![](resources/0091_2.png)\n",
    "\n",
    "Given that $0 \\le x\\_1, y\\_1, x\\_2, y\\_2 \\le 50$, how many right triangles can be formed?"
   ]
  },
  {
   "cell_type": "code",
   "execution_count": null,
   "id": "091adc6f",
   "metadata": {},
   "outputs": [],
   "source": [
    "# Problem 91 workspace"
   ]
  },
  {
   "cell_type": "markdown",
   "id": "0f5ccf2f",
   "metadata": {},
   "source": [
    "## Answer: "
   ]
  },
  {
   "cell_type": "markdown",
   "id": "e937295f",
   "metadata": {},
   "source": [
    "___"
   ]
  },
  {
   "cell_type": "markdown",
   "id": "99e7a7bd",
   "metadata": {},
   "source": [
    "# Problem 92\n",
    " [Source](https://projecteuler.net/problem=92)"
   ]
  },
  {
   "cell_type": "markdown",
   "id": "8655a341",
   "metadata": {},
   "source": [
    "A number chain is created by continuously adding the square of the digits in a number to form a new number until it has been seen before.\n",
    "\n",
    "For example,\n",
    "$$\\begin{align}\n",
    "&44 \\to 32 \\to 13 \\to 10 \\to \\mathbf 1 \\to \\mathbf 1\\\\\n",
    "&85 \\to \\mathbf{89} \\to 145 \\to 42 \\to 20 \\to 4 \\to 16 \\to 37 \\to 58 \\to \\mathbf{89}\n",
    "\\end{align}$$\n",
    "\n",
    "Therefore any chain that arrives at $1$ or $89$ will become stuck in an endless loop. What is most amazing is that EVERY starting number will eventually arrive at $1$ or $89$.\n",
    "\n",
    "How many starting numbers below ten million will arrive at $89$?"
   ]
  },
  {
   "cell_type": "code",
   "execution_count": null,
   "id": "895e9017",
   "metadata": {},
   "outputs": [],
   "source": [
    "# Problem 92 workspace"
   ]
  },
  {
   "cell_type": "markdown",
   "id": "e12de98d",
   "metadata": {},
   "source": [
    "## Answer: "
   ]
  },
  {
   "cell_type": "markdown",
   "id": "5662cdff",
   "metadata": {},
   "source": [
    "___"
   ]
  },
  {
   "cell_type": "markdown",
   "id": "6f04dffd",
   "metadata": {},
   "source": [
    "# Problem 93\n",
    " [Source](https://projecteuler.net/problem=93)"
   ]
  },
  {
   "cell_type": "markdown",
   "id": "cd9fd597",
   "metadata": {},
   "source": [
    "By using each of the digits from the set, $\\{1, 2, 3, 4\\}$, exactly once, and making use of the four arithmetic operations ($+, -, \\times, /$) and brackets/parentheses, it is possible to form different positive integer targets.\n",
    "\n",
    "For example,\n",
    "\n",
    "$$\\begin{align}\n",
    "8 &= (4 \\times (1 + 3)) / 2\\\\\n",
    "14 &= 4 \\times (3 + 1 / 2)\\\\\n",
    "19 &= 4 \\times (2 + 3) - 1\\\\\n",
    "36 &= 3 \\times 4 \\times (2 + 1)\n",
    "\\end{align}$$\n",
    "\n",
    "Note that concatenations of the digits, like $12 + 34$, are not allowed.\n",
    "\n",
    "Using the set, $\\{1, 2, 3, 4\\}$, it is possible to obtain thirty-one different target numbers of which $36$ is the maximum, and each of the numbers $1$ to $28$ can be obtained before encountering the first non-expressible number.\n",
    "\n",
    "Find the set of four distinct digits, $a \\lt b \\lt c \\lt d$, for which the longest set of consecutive positive integers, $1$ to $n$, can be obtained, giving your answer as a string:\n",
    "*abcd*\n",
    "."
   ]
  },
  {
   "cell_type": "code",
   "execution_count": null,
   "id": "eeb567bc",
   "metadata": {},
   "outputs": [],
   "source": [
    "# Problem 93 workspace"
   ]
  },
  {
   "cell_type": "markdown",
   "id": "82a6026a",
   "metadata": {},
   "source": [
    "## Answer: "
   ]
  },
  {
   "cell_type": "markdown",
   "id": "99451f61",
   "metadata": {},
   "source": [
    "___"
   ]
  },
  {
   "cell_type": "markdown",
   "id": "3d83f1f1",
   "metadata": {},
   "source": [
    "# Problem 94\n",
    " [Source](https://projecteuler.net/problem=94)"
   ]
  },
  {
   "cell_type": "markdown",
   "id": "69d59c8a",
   "metadata": {},
   "source": [
    "It is easily proved that no equilateral triangle exists with integral length sides and integral area. However, the\n",
    "almost equilateral triangle\n",
    "$5$-$5$-$6$ has an area of $12$ square units.\n",
    "\n",
    "We shall define an\n",
    "almost equilateral triangle\n",
    "to be a triangle for which two sides are equal and the third differs by no more than one unit.\n",
    "\n",
    "Find the sum of the perimeters of all\n",
    "almost equilateral triangles\n",
    "with integral side lengths and area and whose perimeters do not exceed one billion ($1\\,000\\,000\\,000$)."
   ]
  },
  {
   "cell_type": "code",
   "execution_count": null,
   "id": "9b039b17",
   "metadata": {},
   "outputs": [],
   "source": [
    "# Problem 94 workspace"
   ]
  },
  {
   "cell_type": "markdown",
   "id": "2bc3a8b6",
   "metadata": {},
   "source": [
    "## Answer: "
   ]
  },
  {
   "cell_type": "markdown",
   "id": "5adb9aaf",
   "metadata": {},
   "source": [
    "___"
   ]
  },
  {
   "cell_type": "markdown",
   "id": "9fdac225",
   "metadata": {},
   "source": [
    "# Problem 95\n",
    " [Source](https://projecteuler.net/problem=95)"
   ]
  },
  {
   "cell_type": "markdown",
   "id": "d4072a81",
   "metadata": {},
   "source": [
    "The proper divisors of a number are all the divisors excluding the number itself. For example, the proper divisors of $28$ are $1$, $2$, $4$, $7$, and $14$. As the sum of these divisors is equal to $28$, we call it a perfect number.\n",
    "\n",
    "Interestingly the sum of the proper divisors of $220$ is $284$ and the sum of the proper divisors of $284$ is $220$, forming a chain of two numbers. For this reason, $220$ and $284$ are called an amicable pair.\n",
    "\n",
    "Perhaps less well known are longer chains. For example, starting with $12496$, we form a chain of five numbers:\n",
    "$$12496 \\to 14288 \\to 15472 \\to 14536 \\to 14264 (\\to 12496 \\to \\cdots)$$\n",
    "\n",
    "Since this chain returns to its starting point, it is called an amicable chain.\n",
    "\n",
    "Find the smallest member of the longest amicable chain with no element exceeding one million."
   ]
  },
  {
   "cell_type": "code",
   "execution_count": null,
   "id": "7eb77efa",
   "metadata": {},
   "outputs": [],
   "source": [
    "# Problem 95 workspace"
   ]
  },
  {
   "cell_type": "markdown",
   "id": "01eef536",
   "metadata": {},
   "source": [
    "## Answer: "
   ]
  },
  {
   "cell_type": "markdown",
   "id": "ade67b58",
   "metadata": {},
   "source": [
    "___"
   ]
  },
  {
   "cell_type": "markdown",
   "id": "3d718b58",
   "metadata": {},
   "source": [
    "# Problem 96\n",
    " [Source](https://projecteuler.net/problem=96)"
   ]
  },
  {
   "cell_type": "markdown",
   "id": "ed3055c5",
   "metadata": {},
   "source": [
    "Su Doku (Japanese meaning\n",
    "*number place*\n",
    ") is the name given to a popular puzzle concept. Its origin is unclear, but credit must be attributed to Leonhard Euler who invented a similar, and much more difficult, puzzle idea called Latin Squares. The objective of Su Doku puzzles, however, is to replace the blanks (or zeros) in a 9 by 9 grid in such that each row, column, and 3 by 3 box contains each of the digits 1 to 9. Below is an example of a typical starting puzzle grid and its solution grid.\n",
    "\n",
    "![0096_1.png](resources/0096_1.png)\n",
    "![0096_2.png](resources/0096_2.png)\n",
    "\n",
    "A well constructed Su Doku puzzle has a unique solution and can be solved by logic, although it may be necessary to employ \"guess and test\" methods in order to eliminate options (there is much contested opinion over this). The complexity of the search determines the difficulty of the puzzle; the example above is considered\n",
    "*easy*\n",
    "because it can be solved by straight forward direct deduction.\n",
    "\n",
    "The 6K text file,\n",
    "[sudoku.txt](resources/documents/0096_sudoku.txt)\n",
    "(right click and 'Save Link/Target As...'), contains fifty different Su Doku puzzles ranging in difficulty, but all with unique solutions (the first puzzle in the file is the example above).\n",
    "\n",
    "By solving all fifty puzzles find the sum of the 3-digit numbers found in the top left corner of each solution grid; for example, 483 is the 3-digit number found in the top left corner of the solution grid above."
   ]
  },
  {
   "cell_type": "code",
   "execution_count": null,
   "id": "2770e2a7",
   "metadata": {},
   "outputs": [],
   "source": [
    "# Problem 96 workspace"
   ]
  },
  {
   "cell_type": "markdown",
   "id": "50425d81",
   "metadata": {},
   "source": [
    "## Answer: "
   ]
  },
  {
   "cell_type": "markdown",
   "id": "e44b946f",
   "metadata": {},
   "source": [
    "___"
   ]
  },
  {
   "cell_type": "markdown",
   "id": "efcbe165",
   "metadata": {},
   "source": [
    "# Problem 97\n",
    " [Source](https://projecteuler.net/problem=97)"
   ]
  },
  {
   "cell_type": "markdown",
   "id": "72042b90",
   "metadata": {},
   "source": [
    "The first known prime found to exceed one million digits was discovered in 1999, and is a Mersenne prime of the form $2^{6972593} - 1$; it contains exactly $2\\,098\\,960$ digits. Subsequently other Mersenne primes, of the form $2^p - 1$, have been found which contain more digits.\n",
    "\n",
    "However, in 2004 there was found a massive non-Mersenne prime which contains $2\\,357\\,207$ digits: $28433 \\times 2^{7830457} + 1$.\n",
    "\n",
    "Find the last ten digits of this prime number."
   ]
  },
  {
   "cell_type": "code",
   "execution_count": null,
   "id": "0353f447",
   "metadata": {},
   "outputs": [],
   "source": [
    "# Problem 97 workspace"
   ]
  },
  {
   "cell_type": "markdown",
   "id": "ee3f35a3",
   "metadata": {},
   "source": [
    "## Answer: "
   ]
  },
  {
   "cell_type": "markdown",
   "id": "82774ef9",
   "metadata": {},
   "source": [
    "___"
   ]
  },
  {
   "cell_type": "markdown",
   "id": "1e018ffc",
   "metadata": {},
   "source": [
    "# Problem 98\n",
    " [Source](https://projecteuler.net/problem=98)"
   ]
  },
  {
   "cell_type": "markdown",
   "id": "dafc26a3",
   "metadata": {},
   "source": [
    "By replacing each of the letters in the word CARE with $1$, $2$, $9$, and $6$ respectively, we form a square number: $1296 = 36^2$. What is remarkable is that, by using the same digital substitutions, the anagram, RACE, also forms a square number: $9216 = 96^2$. We shall call CARE (and RACE) a square anagram word pair and specify further that leading zeroes are not permitted, neither may a different letter have the same digital value as another letter.\n",
    "\n",
    "Using\n",
    "[words.txt](resources/documents/0098_words.txt)\n",
    "(right click and 'Save Link/Target As...'), a 16K text file containing nearly two-thousand common English words, find all the square anagram word pairs (a palindromic word is NOT considered to be an anagram of itself).\n",
    "\n",
    "What is the largest square number formed by any member of such a pair?\n",
    "\n",
    "NOTE: All anagrams formed must be contained in the given text file."
   ]
  },
  {
   "cell_type": "code",
   "execution_count": null,
   "id": "70554841",
   "metadata": {},
   "outputs": [],
   "source": [
    "# Problem 98 workspace"
   ]
  },
  {
   "cell_type": "markdown",
   "id": "08827d18",
   "metadata": {},
   "source": [
    "## Answer: "
   ]
  },
  {
   "cell_type": "markdown",
   "id": "5d569abf",
   "metadata": {},
   "source": [
    "___"
   ]
  },
  {
   "cell_type": "markdown",
   "id": "45f7d2cb",
   "metadata": {},
   "source": [
    "# Problem 99\n",
    " [Source](https://projecteuler.net/problem=99)"
   ]
  },
  {
   "cell_type": "markdown",
   "id": "891b7172",
   "metadata": {},
   "source": [
    "Comparing two numbers written in index form like $2^{11}$ and $3^7$ is not difficult, as any calculator would confirm that $2^{11} = 2048 \\lt 3^7 = 2187$.\n",
    "\n",
    "However, confirming that $632382^{518061} \\gt 519432^{525806}$ would be much more difficult, as both numbers contain over three million digits.\n",
    "\n",
    "Using\n",
    "[base\\_exp.txt](resources/documents/0099_base_exp.txt)\n",
    "(right click and 'Save Link/Target As...'), a 22K text file containing one thousand lines with a base/exponent pair on each line, determine which line number has the greatest numerical value.\n",
    "\n",
    "NOTE: The first two lines in the file represent the numbers in the example given above."
   ]
  },
  {
   "cell_type": "code",
   "execution_count": null,
   "id": "bda5fedc",
   "metadata": {},
   "outputs": [],
   "source": [
    "# Problem 99 workspace"
   ]
  },
  {
   "cell_type": "markdown",
   "id": "7f6900aa",
   "metadata": {},
   "source": [
    "## Answer: "
   ]
  },
  {
   "cell_type": "markdown",
   "id": "4c7cd9f5",
   "metadata": {},
   "source": [
    "___"
   ]
  },
  {
   "cell_type": "markdown",
   "id": "3a29e733",
   "metadata": {},
   "source": [
    "# Problem 100\n",
    " [Source](https://projecteuler.net/problem=100)"
   ]
  },
  {
   "cell_type": "markdown",
   "id": "33a3ff41",
   "metadata": {},
   "source": [
    "If a box contains twenty-one coloured discs, composed of fifteen blue discs and six red discs, and two discs were taken at random, it can be seen that the probability of taking two blue discs, $P(\\text{BB}) = (15/21) \\times (14/20) = 1/2$.\n",
    "\n",
    "The next such arrangement, for which there is exactly $50\\%$ chance of taking two blue discs at random, is a box containing eighty-five blue discs and thirty-five red discs.\n",
    "\n",
    "By finding the first arrangement to contain over $10^{12} = 1\\,000\\,000\\,000\\,000$ discs in total, determine the number of blue discs that the box would contain."
   ]
  },
  {
   "cell_type": "code",
   "execution_count": null,
   "id": "2be8efb6",
   "metadata": {},
   "outputs": [],
   "source": [
    "# Problem 100 workspace"
   ]
  },
  {
   "cell_type": "markdown",
   "id": "7c31503d",
   "metadata": {},
   "source": [
    "## Answer: "
   ]
  },
  {
   "cell_type": "markdown",
   "id": "dccf629d",
   "metadata": {},
   "source": [
    "___"
   ]
  }
 ],
 "metadata": {},
 "nbformat": 4,
 "nbformat_minor": 5
}
