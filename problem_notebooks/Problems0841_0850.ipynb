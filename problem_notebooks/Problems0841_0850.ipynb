{
 "cells": [
  {
   "cell_type": "markdown",
   "id": "48da0e8d",
   "metadata": {},
   "source": [
    "# Problem 841\n",
    " [Source](https://projecteuler.net/problem=841)"
   ]
  },
  {
   "cell_type": "markdown",
   "id": "786b2bd6",
   "metadata": {},
   "source": [
    "The regular star polygon $\\{p/q\\}$, for coprime integers $p,q$ with $p \\gt 2q \\gt 0$, is a polygon formed from $p$ edges of equal length and equal internal angles, such that tracing the complete polygon wraps $q$ times around the centre. For example, $\\{8/3\\}$ is illustrated below:\n",
    "\n",
    "![{8/3}](resources/0841_star_polygon_8_3.png)\n",
    "\n",
    "The edges of a regular star polygon intersect one another, dividing the interior into several regions. Define the\n",
    "alternating shading\n",
    "of a regular star polygon to be a selection of such regions to shade, such that every piece of every edge has a shaded region on one side and an unshaded region on the other, with the exterior of the polygon unshaded. For example, the above image shows the alternating shading (in green) of $\\{8/3\\}$.\n",
    "\n",
    "Let $A(p, q)$ be the area of the alternating shading of $\\{p/q\\}$, assuming that its inradius is $1$. (The\n",
    "**inradius**\n",
    "of a regular polygon, star or otherwise, is the distance from its centre to the midpoint of any of its edges.) For example, in the diagram above, it can be shown that central shaded octagon has area $8(\\sqrt{2}-1)$ and each point's shaded kite has area $2(\\sqrt{2}-1)$, giving $A(8,3) = 24(\\sqrt{2}-1) \\approx 9.9411254970$.\n",
    "\n",
    "You are also given that $A(130021, 50008)\\approx 10.9210371479$, rounded to $10$ digits after the decimal point.\n",
    "\n",
    "Find $\\sum\\_{n=3}^{34} A(F\\_{n+1},F\\_{n-1})$, where $F\\_j$ is the Fibonacci sequence with $F\\_1=F\\_2=1$ (so $A(F\\_{5+1},F\\_{5-1}) = A(8,3)$). Give your answer rounded to $10$ digits after the decimal point."
   ]
  },
  {
   "cell_type": "code",
   "execution_count": null,
   "id": "c5efa117",
   "metadata": {},
   "outputs": [],
   "source": [
    "# Problem 841 workspace"
   ]
  },
  {
   "cell_type": "markdown",
   "id": "9a7e064a",
   "metadata": {},
   "source": [
    "## Answer: "
   ]
  },
  {
   "cell_type": "markdown",
   "id": "8988b403",
   "metadata": {},
   "source": [
    "___"
   ]
  },
  {
   "cell_type": "markdown",
   "id": "bcd3f821",
   "metadata": {},
   "source": [
    "# Problem 842\n",
    " [Source](https://projecteuler.net/problem=842)"
   ]
  },
  {
   "cell_type": "markdown",
   "id": "9fea34b1",
   "metadata": {},
   "source": [
    "Given $n$ equally spaced points on a circle, we define an\n",
    "$n$-star polygon\n",
    "as an $n$-gon having those $n$ points as vertices. Two $n$-star polygons differing by a rotation/reflection are considered\n",
    "**different**\n",
    ".\n",
    "\n",
    "For example, there are twelve $5$-star polygons shown below.\n",
    "\n",
    "![0842_5-agons.jpg](resources/0842_5-agons.jpg)\n",
    "\n",
    "For an $n$-star polygon $S$, let $I(S)$ be the number of its self intersection points.\n",
    "  \n",
    "Let $T(n)$ be the sum of $I(S)$ over all $n$-star polygons $S$.\n",
    "  \n",
    "For the example above $T(5) = 20$ because in total there are $20$ self intersection points.\n",
    "\n",
    "Some star polygons may have intersection points made from more than two lines. These are only counted once. For example,\n",
    "$S$,\n",
    "shown below is one of the sixty $6$-star polygons. This one has $I(S) = 4$.\n",
    "\n",
    "![0842_6-agon.jpg](resources/0842_6-agon.jpg)\n",
    "\n",
    "You are also given that $T(8) = 14640$.\n",
    "\n",
    "Find $\\displaystyle \\sum\\_{n = 3}^{60}T(n)$. Give your answer modulo $(10^9 + 7)$."
   ]
  },
  {
   "cell_type": "code",
   "execution_count": null,
   "id": "ad533568",
   "metadata": {},
   "outputs": [],
   "source": [
    "# Problem 842 workspace"
   ]
  },
  {
   "cell_type": "markdown",
   "id": "85be0121",
   "metadata": {},
   "source": [
    "## Answer: "
   ]
  },
  {
   "cell_type": "markdown",
   "id": "217f7a81",
   "metadata": {},
   "source": [
    "___"
   ]
  },
  {
   "cell_type": "markdown",
   "id": "d53d9be8",
   "metadata": {},
   "source": [
    "# Problem 843\n",
    " [Source](https://projecteuler.net/problem=843)"
   ]
  },
  {
   "cell_type": "markdown",
   "id": "1680de51",
   "metadata": {},
   "source": [
    "This problem involves an iterative procedure that begins with a circle of $n\\ge 3$ integers. At each step every number is simultaneously replaced with the absolute difference of its two neighbours.\n",
    "\n",
    "For any initial values, the procedure eventually becomes periodic.\n",
    "\n",
    "Let $S(N)$ be the sum of all possible periods for $3\\le n \\leq N$. For example, $S(6) = 6$, because the possible periods for $3\\le n \\leq 6$ are $1, 2, 3$. Specifically, $n=3$ and $n=4$ can each have period $1$ only, while $n=5$ can have period $1$ or $3$, and $n=6$ can have period $1$ or $2$.\n",
    "\n",
    "You are also given $S(30) = 20381$.\n",
    "\n",
    "Find $S(100)$."
   ]
  },
  {
   "cell_type": "code",
   "execution_count": null,
   "id": "e55e469a",
   "metadata": {},
   "outputs": [],
   "source": [
    "# Problem 843 workspace"
   ]
  },
  {
   "cell_type": "markdown",
   "id": "ebd43b29",
   "metadata": {},
   "source": [
    "## Answer: "
   ]
  },
  {
   "cell_type": "markdown",
   "id": "e16be13b",
   "metadata": {},
   "source": [
    "___"
   ]
  },
  {
   "cell_type": "markdown",
   "id": "50a8893b",
   "metadata": {},
   "source": [
    "# Problem 844\n",
    " [Source](https://projecteuler.net/problem=844)"
   ]
  },
  {
   "cell_type": "markdown",
   "id": "5c1aa590",
   "metadata": {},
   "source": [
    "Consider positive integer solutions to\n",
    "\n",
    "$a^2+b^2+c^2 = 3abc$\n",
    "\n",
    "For example, $(1,5,13)$ is a solution. We define a 3-Markov number to be any part of a solution, so $1$, $5$ and $13$ are all 3-Markov numbers. Adding distinct 3-Markov numbers $\\le 10^3$ would give $2797$.\n",
    "\n",
    "Now we define a $k$-Markov number to be a positive integer that is part of a solution to:\n",
    "\n",
    "$\\displaystyle \\sum\\_{i=1}^{k}x\\_i^2=k\\prod\\_{i=1}^{k}x\\_i,\\quad x\\_i\\text{ are positive integers}$\n",
    "\n",
    "Let $M\\_k(N)$ be the sum of $k$-Markov numbers $\\le N$. Hence $M\\_3(10^{3})=2797$, also $M\\_8(10^8) = 131493335$.\n",
    "\n",
    "Define $\\displaystyle S(K,N)=\\sum\\_{k=3}^{K}M\\_k(N)$. You are given $S(4, 10^2)=229$ and $S(10, 10^8)=2383369980$.\n",
    "\n",
    "Find $S(10^{18}, 10^{18})$. Give your answer modulo $1\\,405\\,695\\,061$."
   ]
  },
  {
   "cell_type": "code",
   "execution_count": null,
   "id": "2e1db751",
   "metadata": {},
   "outputs": [],
   "source": [
    "# Problem 844 workspace"
   ]
  },
  {
   "cell_type": "markdown",
   "id": "947d5f46",
   "metadata": {},
   "source": [
    "## Answer: "
   ]
  },
  {
   "cell_type": "markdown",
   "id": "b96223ae",
   "metadata": {},
   "source": [
    "___"
   ]
  },
  {
   "cell_type": "markdown",
   "id": "19f5609d",
   "metadata": {},
   "source": [
    "# Problem 845\n",
    " [Source](https://projecteuler.net/problem=845)"
   ]
  },
  {
   "cell_type": "markdown",
   "id": "cdf51bd6",
   "metadata": {},
   "source": [
    "Let $D(n)$ be the $n$-th positive integer that has the sum of its digits a prime.\n",
    "  \n",
    "For example, $D(61) = 157$ and $D(10^8) = 403539364$.\n",
    "\n",
    "Find $D(10^{16})$."
   ]
  },
  {
   "cell_type": "code",
   "execution_count": null,
   "id": "a908d3a5",
   "metadata": {},
   "outputs": [],
   "source": [
    "# Problem 845 workspace"
   ]
  },
  {
   "cell_type": "markdown",
   "id": "442e6064",
   "metadata": {},
   "source": [
    "## Answer: "
   ]
  },
  {
   "cell_type": "markdown",
   "id": "62c86031",
   "metadata": {},
   "source": [
    "___"
   ]
  },
  {
   "cell_type": "markdown",
   "id": "1860d02a",
   "metadata": {},
   "source": [
    "# Problem 846\n",
    " [Source](https://projecteuler.net/problem=846)"
   ]
  },
  {
   "cell_type": "markdown",
   "id": "2ad9698e",
   "metadata": {},
   "source": [
    "A\n",
    "*bracelet*\n",
    "is made by connecting at least three numbered beads in a circle. Each bead can only display $1$, $2$, or any number of the form $p^k$ or $2p^k$ for odd prime $p$.\n",
    "\n",
    "In addition a\n",
    "*magic bracelet*\n",
    "must satisfy the following two conditions:\n",
    "\n",
    "* no two beads display the same number\n",
    "* the product of the numbers of any two adjacent beads is of the form $x^2+1$\n",
    "\n",
    "![0846_diagram.jpg](resources/0846_diagram.jpg)\n",
    "\n",
    "Define the\n",
    "*potency*\n",
    "of a magic bracelet to be the sum of numbers on its beads.\n",
    "\n",
    "The example is a magic bracelet with five beads which has a potency of 155.\n",
    "\n",
    "Let $F(N)$ be the sum of the potency of each magic bracelet which can be formed using positive integers not exceeding $N$, where rotations and reflections of an arrangement are considered equivalent. You are given $F(20)=258$ and $F(10^2)=538768$.\n",
    "\n",
    "Find $F(10^6)$."
   ]
  },
  {
   "cell_type": "code",
   "execution_count": null,
   "id": "67658497",
   "metadata": {},
   "outputs": [],
   "source": [
    "# Problem 846 workspace"
   ]
  },
  {
   "cell_type": "markdown",
   "id": "310965bd",
   "metadata": {},
   "source": [
    "## Answer: "
   ]
  },
  {
   "cell_type": "markdown",
   "id": "349e7435",
   "metadata": {},
   "source": [
    "___"
   ]
  },
  {
   "cell_type": "markdown",
   "id": "b5e4007c",
   "metadata": {},
   "source": [
    "# Problem 847\n",
    " [Source](https://projecteuler.net/problem=847)"
   ]
  },
  {
   "cell_type": "markdown",
   "id": "cfcbbe1d",
   "metadata": {},
   "source": [
    "Jack has three plates in front of him. The giant has $N$ beans that he distributes to the three plates. All the beans look the same, but one of them is a magic bean. Jack doesn't know which one it is, but the giant knows.\n",
    "\n",
    "Jack can ask the giant questions of the form: \"Does this subset of the beans contain the magic bean?\" In each question Jack may choose any subset of beans from a single plate, and the giant will respond truthfully.\n",
    "\n",
    "If the three plates contain $a$, $b$ and $c$ beans respectively, we let $h(a, b, c)$ be the minimal number of questions Jack needs to ask in order to guarantee he locates the magic bean. For example, $h(1, 2, 3) = 3$ and $h(2, 3, 3) = 4$.\n",
    "\n",
    "Let $H(N)$ be the sum of $h(a, b, c)$ over all triples of non-negative integers $a$, $b$, $c$ with $1 \\leq a + b + c \\leq N$.\n",
    "  \n",
    "You are given: $H(6) = 203$ and $H(20) = 7718$.\n",
    "\n",
    "A\n",
    "**repunit**\n",
    ", $R\\_n$, is a number made up with $n$ digits all '1'. For example, $R\\_3 = 111$ and $H(R\\_3) = 1634144$.\n",
    "\n",
    "Find $H(R\\_{19})$. Give your answer modulo $1\\,000\\,000\\,007$."
   ]
  },
  {
   "cell_type": "code",
   "execution_count": null,
   "id": "bfe02a2e",
   "metadata": {},
   "outputs": [],
   "source": [
    "# Problem 847 workspace"
   ]
  },
  {
   "cell_type": "markdown",
   "id": "12ef908f",
   "metadata": {},
   "source": [
    "## Answer: "
   ]
  },
  {
   "cell_type": "markdown",
   "id": "b80db6e6",
   "metadata": {},
   "source": [
    "___"
   ]
  },
  {
   "cell_type": "markdown",
   "id": "540da387",
   "metadata": {},
   "source": [
    "# Problem 848\n",
    " [Source](https://projecteuler.net/problem=848)"
   ]
  },
  {
   "cell_type": "markdown",
   "id": "ea14fc2c",
   "metadata": {},
   "source": [
    "Two players play a game. At the start of the game each player secretly chooses an integer; the first player from $1,...,n$ and the second player from $1,...,m$. Then they take alternate turns, starting with the first player. The player, whose turn it is, displays a set of numbers and the other player tells whether their secret number is in the set or not. The player to correctly guess a set with a single number is the winner and the game ends.\n",
    "\n",
    "Let $p(m,n)$ be the winning probability of the first player assuming both players play optimally. For example $p(1, n) = 1$ and $p(m, 1) = 1/m$.\n",
    "\n",
    "You are also given $p(7,5) \\approx 0.51428571$.\n",
    "\n",
    "Find $\\displaystyle \\sum\\_{i=0}^{20}\\sum\\_{j=0}^{20} p(7^i, 5^j)$ and give your answer rounded to 8 digits after the decimal point."
   ]
  },
  {
   "cell_type": "code",
   "execution_count": null,
   "id": "fe5008fb",
   "metadata": {},
   "outputs": [],
   "source": [
    "# Problem 848 workspace"
   ]
  },
  {
   "cell_type": "markdown",
   "id": "096f2cc4",
   "metadata": {},
   "source": [
    "## Answer: "
   ]
  },
  {
   "cell_type": "markdown",
   "id": "ccfa9219",
   "metadata": {},
   "source": [
    "___"
   ]
  },
  {
   "cell_type": "markdown",
   "id": "12fa0d09",
   "metadata": {},
   "source": [
    "# Problem 849\n",
    " [Source](https://projecteuler.net/problem=849)"
   ]
  },
  {
   "cell_type": "markdown",
   "id": "429fc90a",
   "metadata": {},
   "source": [
    "In a tournament there are $n$ teams and each team plays each other team twice. A team gets two points for a win, one point for a draw and no points for a loss.\n",
    "\n",
    "With two teams there are three possible outcomes for the total points. $(4,0)$ where a team wins twice, $(3,1)$ where a team wins and draws, and $(2,2)$ where either there are two draws or a team wins one game and loses the other. Here we do not distinguish the teams and so $(3,1)$ and $(1,3)$ are considered identical.\n",
    "\n",
    "Let $F(n)$ be the total number of possible final outcomes with $n$ teams, so that $F(2) = 3$.\n",
    "  \n",
    "You are also given $F(7) = 32923$.\n",
    "\n",
    "Find $F(100)$. Give your answer modulo $10^9+7$."
   ]
  },
  {
   "cell_type": "code",
   "execution_count": null,
   "id": "2282ae14",
   "metadata": {},
   "outputs": [],
   "source": [
    "# Problem 849 workspace"
   ]
  },
  {
   "cell_type": "markdown",
   "id": "a8c164cc",
   "metadata": {},
   "source": [
    "## Answer: "
   ]
  },
  {
   "cell_type": "markdown",
   "id": "d7ece5f8",
   "metadata": {},
   "source": [
    "___"
   ]
  },
  {
   "cell_type": "markdown",
   "id": "1b26c4d3",
   "metadata": {},
   "source": [
    "# Problem 850\n",
    " [Source](https://projecteuler.net/problem=850)"
   ]
  },
  {
   "cell_type": "markdown",
   "id": "7dfde503",
   "metadata": {},
   "source": [
    "Any positive real number $x$ can be decomposed into integer and fractional parts $\\lfloor x \\rfloor + \\{x\\}$, where $\\lfloor x \\rfloor$ (the floor function) is an integer, and $0\\le \\{x\\} < 1$.\n",
    "\n",
    "For positive integers $k$ and $n$, define the function\n",
    "$$\\begin{align}\n",
    "f\\_k(n) = \\sum\\_{i=1}^{n}\\left\\{ \\frac{i^k}{n} \\right\\}\n",
    "\\end{align}$$\n",
    "For example, $f\\_5(10)=4.5$ and $f\\_7(1234)=616.5$.\n",
    "\n",
    "Let\n",
    "$$\\begin{align}\n",
    "S(N) = \\sum\\_{\\substack{k=1 \\\\ k\\text{ odd}}}^{N} \\sum\\_{n=1}^{N} f\\_k(n)\n",
    "\\end{align}$$\n",
    "You are given that $S(10)=100.5$ and $S(10^3)=123687804$.\n",
    "\n",
    "Find $\\lfloor S(33557799775533) \\rfloor$. Give your answer modulo 977676779."
   ]
  },
  {
   "cell_type": "code",
   "execution_count": null,
   "id": "4872b490",
   "metadata": {},
   "outputs": [],
   "source": [
    "# Problem 850 workspace"
   ]
  },
  {
   "cell_type": "markdown",
   "id": "0ded4673",
   "metadata": {},
   "source": [
    "## Answer: "
   ]
  },
  {
   "cell_type": "markdown",
   "id": "3c480e80",
   "metadata": {},
   "source": [
    "___"
   ]
  }
 ],
 "metadata": {},
 "nbformat": 4,
 "nbformat_minor": 5
}
