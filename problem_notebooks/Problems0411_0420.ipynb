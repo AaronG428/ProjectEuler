{
 "cells": [
  {
   "cell_type": "markdown",
   "id": "f052bf40",
   "metadata": {},
   "source": [
    "# Problem 411\n",
    " [Source](https://projecteuler.net/problem=411)"
   ]
  },
  {
   "cell_type": "markdown",
   "id": "2e4d0afd",
   "metadata": {},
   "source": [
    "Let $n$ be a positive integer. Suppose there are stations at the coordinates $(x, y) = (2^i \\bmod n, 3^i \\bmod n)$ for $0 \\leq i \\leq 2n$. We will consider stations with the same coordinates as the same station.\n",
    "\n",
    "We wish to form a path from $(0, 0)$ to $(n, n)$ such that the $x$ and $y$ coordinates never decrease.\n",
    "  \n",
    "Let $S(n)$ be the maximum number of stations such a path can pass through.\n",
    "\n",
    "For example, if $n = 22$, there are $11$ distinct stations, and a valid path can pass through at most $5$ stations. Therefore, $S(22) = 5$.\n",
    "The case is illustrated below, with an example of an optimal path:\n",
    "\n",
    "![0411_longpath.png](resources/0411_longpath.png)\n",
    "\n",
    "It can also be verified that $S(123) = 14$ and $S(10000) = 48$.\n",
    "\n",
    "Find $\\sum S(k^5)$ for $1 \\leq k \\leq 30$."
   ]
  },
  {
   "cell_type": "code",
   "execution_count": null,
   "id": "6e021595",
   "metadata": {},
   "outputs": [],
   "source": [
    "# Problem 411 workspace"
   ]
  },
  {
   "cell_type": "markdown",
   "id": "a92fb0cc",
   "metadata": {},
   "source": [
    "## Answer: "
   ]
  },
  {
   "cell_type": "markdown",
   "id": "e5055633",
   "metadata": {},
   "source": [
    "___"
   ]
  },
  {
   "cell_type": "markdown",
   "id": "a899ee95",
   "metadata": {},
   "source": [
    "# Problem 412\n",
    " [Source](https://projecteuler.net/problem=412)"
   ]
  },
  {
   "cell_type": "markdown",
   "id": "0a1a1017",
   "metadata": {},
   "source": [
    "For integers $m, n$ ($0 \\leq n \\lt m$), let $L(m, n)$ be an $m \\times m$ grid with the top-right $n \\times n$ grid removed.\n",
    "\n",
    "For example, $L(5, 3)$ looks like this:\n",
    "\n",
    "![0412_table53.png](resources/0412_table53.png)\n",
    "\n",
    "We want to number each cell of $L(m, n)$ with consecutive integers $1, 2, 3, \\dots$ such that the number in every cell is smaller than the number below it and to the left of it.\n",
    "\n",
    "For example, here are two valid numberings of $L(5, 3)$:\n",
    "\n",
    "![0412_tablenums.png](resources/0412_tablenums.png)\n",
    "\n",
    "Let $\\operatorname{LC}(m, n)$ be the number of valid numberings of $L(m, n)$.\n",
    "  \n",
    "It can be verified that $\\operatorname{LC}(3, 0) = 42$, $\\operatorname{LC}(5, 3) = 250250$, $\\operatorname{LC}(6, 3) = 406029023400$ and $\\operatorname{LC}(10, 5) \\bmod 76543217 = 61251715$.\n",
    "\n",
    "Find $\\operatorname{LC}(10000, 5000) \\bmod 76543217$."
   ]
  },
  {
   "cell_type": "code",
   "execution_count": null,
   "id": "13a5a565",
   "metadata": {},
   "outputs": [],
   "source": [
    "# Problem 412 workspace"
   ]
  },
  {
   "cell_type": "markdown",
   "id": "e63cfb2c",
   "metadata": {},
   "source": [
    "## Answer: "
   ]
  },
  {
   "cell_type": "markdown",
   "id": "be6be87a",
   "metadata": {},
   "source": [
    "___"
   ]
  },
  {
   "cell_type": "markdown",
   "id": "396767f4",
   "metadata": {},
   "source": [
    "# Problem 413\n",
    " [Source](https://projecteuler.net/problem=413)"
   ]
  },
  {
   "cell_type": "markdown",
   "id": "1ac72ff1",
   "metadata": {},
   "source": [
    "We say that a $d$-digit positive number (no leading zeros) is a one-child number if exactly one of its sub-strings is divisible by $d$.\n",
    "\n",
    "For example, $5671$ is a $4$-digit one-child number. Among all its sub-strings $5$, $6$, $7$, $1$, $56$, $67$, $71$, $567$, $671$ and $5671$, only $56$ is divisible by $4$.\n",
    "  \n",
    "Similarly, $104$ is a $3$-digit one-child number because only $0$ is divisible by $3$.\n",
    "  \n",
    "$1132451$ is a $7$-digit one-child number because only $245$ is divisible by $7$.\n",
    "\n",
    "Let $F(N)$ be the number of the one-child numbers less than $N$.\n",
    "  \n",
    "We can verify that $F(10) = 9$, $F(10^3) = 389$ and $F(10^7) = 277674$.\n",
    "\n",
    "Find $F(10^{19})$."
   ]
  },
  {
   "cell_type": "code",
   "execution_count": null,
   "id": "b5eaa417",
   "metadata": {},
   "outputs": [],
   "source": [
    "# Problem 413 workspace"
   ]
  },
  {
   "cell_type": "markdown",
   "id": "3a108b14",
   "metadata": {},
   "source": [
    "## Answer: "
   ]
  },
  {
   "cell_type": "markdown",
   "id": "9f2b2e42",
   "metadata": {},
   "source": [
    "___"
   ]
  },
  {
   "cell_type": "markdown",
   "id": "d0f2d86a",
   "metadata": {},
   "source": [
    "# Problem 414\n",
    " [Source](https://projecteuler.net/problem=414)"
   ]
  },
  {
   "cell_type": "markdown",
   "id": "6fe4ba0d",
   "metadata": {},
   "source": [
    "$6174$ is a remarkable number; if we sort its digits in increasing order and subtract that number from the number you get when you sort the digits in decreasing order, we get $7641-1467=6174$.\n",
    "  \n",
    "Even more remarkable is that if we start from any $4$ digit number and repeat this process of sorting and subtracting, we'll eventually end up with $6174$ or immediately with $0$ if all digits are equal.\n",
    "  \n",
    "This also works with numbers that have less than $4$ digits if we pad the number with leading zeroes until we have $4$ digits.\n",
    "  \n",
    "E.g. let's start with the number $0837$:\n",
    "  \n",
    "$8730-0378=8352$\n",
    "  \n",
    "$8532-2358=6174$\n",
    "\n",
    "$6174$ is called the\n",
    "**Kaprekar constant**\n",
    ". The process of sorting and subtracting and repeating this until either $0$ or the Kaprekar constant is reached is called the\n",
    "**Kaprekar routine**\n",
    ".\n",
    "\n",
    "We can consider the Kaprekar routine for other bases and number of digits.\n",
    "  \n",
    "Unfortunately, it is not guaranteed a Kaprekar constant exists in all cases; either the routine can end up in a cycle for some input numbers or the constant the routine arrives at can be different for different input numbers.\n",
    "  \n",
    "However, it can be shown that for $5$ digits and a base $b = 6t+3\\neq 9$, a Kaprekar constant exists.\n",
    "  \n",
    "E.g. base $15$: $(10,4,14,9,5)\\_{15}$\n",
    "  \n",
    "base $21$: $(14,6,20,13,7)\\_{21}$\n",
    "\n",
    "Define $C\\_b$ to be the Kaprekar constant in base $b$ for $5$ digits.\n",
    "Define the function $sb(i)$ to be\n",
    "\n",
    "* $0$ if $i = C\\_b$ or if $i$ written in base $b$ consists of $5$ identical digits\n",
    "* the number of iterations it takes the Kaprekar routine in base $b$ to arrive at $C\\_b$, otherwise\n",
    "\n",
    "Note that we can define $sb(i)$ for all integers $i \\lt b^5$. If $i$ written in base $b$ takes less than $5$ digits, the number is padded with leading zero digits until we have $5$ digits before applying the Kaprekar routine.\n",
    "\n",
    "Define $S(b)$ as the sum of $sb(i)$ for $0 \\lt i \\lt b^5$.\n",
    "  \n",
    "E.g. $S(15) = 5274369$\n",
    "  \n",
    "$S(111) = 400668930299$\n",
    "\n",
    "Find the sum of $S(6k+3)$ for $2 \\leq k \\leq 300$.\n",
    "  \n",
    "Give the last $18$ digits as your answer."
   ]
  },
  {
   "cell_type": "code",
   "execution_count": null,
   "id": "a0130aad",
   "metadata": {},
   "outputs": [],
   "source": [
    "# Problem 414 workspace"
   ]
  },
  {
   "cell_type": "markdown",
   "id": "35387feb",
   "metadata": {},
   "source": [
    "## Answer: "
   ]
  },
  {
   "cell_type": "markdown",
   "id": "29a564fe",
   "metadata": {},
   "source": [
    "___"
   ]
  },
  {
   "cell_type": "markdown",
   "id": "b2654946",
   "metadata": {},
   "source": [
    "# Problem 415\n",
    " [Source](https://projecteuler.net/problem=415)"
   ]
  },
  {
   "cell_type": "markdown",
   "id": "a3b74457",
   "metadata": {},
   "source": [
    "A set of lattice points $S$ is called a\n",
    "titanic set\n",
    "if there exists a line passing through exactly two points in $S$.\n",
    "\n",
    "An example of a titanic set is $S = \\{(0, 0), (0, 1), (0, 2), (1, 1), (2, 0), (1, 0)\\}$, where the line passing through $(0, 1)$ and $(2, 0)$ does not pass through any other point in $S$.\n",
    "\n",
    "On the other hand, the set $\\{(0, 0), (1, 1), (2, 2), (4, 4)\\}$ is not a titanic set since the line passing through any two points in the set also passes through the other two.\n",
    "\n",
    "For any positive integer $N$, let $T(N)$ be the number of titanic sets $S$ whose every point $(x, y)$ satisfies $0 \\leq x, y \\leq N$.\n",
    "It can be verified that $T(1) = 11$, $T(2) = 494$, $T(4) = 33554178$, $T(111) \\bmod 10^8 = 13500401$ and $T(10^5) \\bmod 10^8 = 63259062$.\n",
    "\n",
    "Find $T(10^{11})\\bmod 10^8$."
   ]
  },
  {
   "cell_type": "code",
   "execution_count": null,
   "id": "0d1f4efd",
   "metadata": {},
   "outputs": [],
   "source": [
    "# Problem 415 workspace"
   ]
  },
  {
   "cell_type": "markdown",
   "id": "bc4956a3",
   "metadata": {},
   "source": [
    "## Answer: "
   ]
  },
  {
   "cell_type": "markdown",
   "id": "a7dad9dc",
   "metadata": {},
   "source": [
    "___"
   ]
  },
  {
   "cell_type": "markdown",
   "id": "7eb8f4c9",
   "metadata": {},
   "source": [
    "# Problem 416\n",
    " [Source](https://projecteuler.net/problem=416)"
   ]
  },
  {
   "cell_type": "markdown",
   "id": "78200177",
   "metadata": {},
   "source": [
    "A row of $n$ squares contains a frog in the leftmost square. By successive jumps the frog goes to the rightmost square and then back to the leftmost square. On the outward trip he jumps one, two or three squares to the right, and on the homeward trip he jumps to the left in a similar manner. He cannot jump outside the squares. He repeats the round-trip travel $m$ times.\n",
    "\n",
    "Let $F(m, n)$ be the number of the ways the frog can travel so that at most one square remains unvisited.\n",
    "  \n",
    "For example, $F(1, 3) = 4$, $F(1, 4) = 15$, $F(1, 5) = 46$, $F(2, 3) = 16$ and $F(2, 100) \\bmod 10^9 = 429619151$.\n",
    "\n",
    "Find the last $9$ digits of $F(10, 10^{12})$."
   ]
  },
  {
   "cell_type": "code",
   "execution_count": null,
   "id": "43685dff",
   "metadata": {},
   "outputs": [],
   "source": [
    "# Problem 416 workspace"
   ]
  },
  {
   "cell_type": "markdown",
   "id": "f1a888bf",
   "metadata": {},
   "source": [
    "## Answer: "
   ]
  },
  {
   "cell_type": "markdown",
   "id": "0d1219ff",
   "metadata": {},
   "source": [
    "___"
   ]
  },
  {
   "cell_type": "markdown",
   "id": "61548b03",
   "metadata": {},
   "source": [
    "# Problem 417\n",
    " [Source](https://projecteuler.net/problem=417)"
   ]
  },
  {
   "cell_type": "markdown",
   "id": "13a8b2be",
   "metadata": {},
   "source": [
    "A unit fraction contains $1$ in the numerator. The decimal representation of the unit fractions with denominators $2$ to $10$ are given:\n",
    "\n",
    "$$\\begin{align}\n",
    "1/2 &= 0.5\\\\\n",
    "1/3 &=0.(3)\\\\\n",
    "1/4 &=0.25\\\\\n",
    "1/5 &= 0.2\\\\\n",
    "1/6 &= 0.1(6)\\\\\n",
    "1/7 &= 0.(142857)\\\\\n",
    "1/8 &= 0.125\\\\\n",
    "1/9 &= 0.(1)\\\\\n",
    "1/10 &= 0.1\n",
    "\\end{align}$$\n",
    "\n",
    "Where $0.1(6)$ means $0.166666\\cdots$, and has a $1$-digit recurring cycle. It can be seen that $1/7$ has a $6$-digit recurring cycle.\n",
    "\n",
    "Unit fractions whose denominator has no other prime factors than $2$ and/or $5$ are not considered to have a recurring cycle.\n",
    "  \n",
    "We define the length of the recurring cycle of those unit fractions as $0$.\n",
    "\n",
    "Let $L(n)$ denote the length of the recurring cycle of $1/n$.\n",
    "You are given that $\\sum L(n)$ for $3 \\leq n \\leq 1\\,000\\,000$ equals $55535191115$.\n",
    "\n",
    "Find $\\sum L(n)$ for $3 \\leq n \\leq 100\\,000\\,000$."
   ]
  },
  {
   "cell_type": "code",
   "execution_count": null,
   "id": "859eb688",
   "metadata": {},
   "outputs": [],
   "source": [
    "# Problem 417 workspace"
   ]
  },
  {
   "cell_type": "markdown",
   "id": "3e8cfd98",
   "metadata": {},
   "source": [
    "## Answer: "
   ]
  },
  {
   "cell_type": "markdown",
   "id": "21103a08",
   "metadata": {},
   "source": [
    "___"
   ]
  },
  {
   "cell_type": "markdown",
   "id": "2f6f8312",
   "metadata": {},
   "source": [
    "# Problem 418\n",
    " [Source](https://projecteuler.net/problem=418)"
   ]
  },
  {
   "cell_type": "markdown",
   "id": "59f5476b",
   "metadata": {},
   "source": [
    "Let $n$ be a positive integer. An integer triple $(a, b, c)$ is called a\n",
    "factorisation triple\n",
    "of $n$ if:\n",
    "\n",
    "* $1 \\leq a \\leq b \\leq c$\n",
    "* $a \\cdot b \\cdot c = n$.\n",
    "\n",
    "Define $f(n)$ to be $a + b + c$ for the factorisation triple $(a, b, c)$ of $n$ which minimises $c / a$. One can show that this triple is unique.\n",
    "\n",
    "For example, $f(165) = 19$, $f(100100) = 142$ and $f(20!) = 4034872$.\n",
    "\n",
    "Find $f(43!)$."
   ]
  },
  {
   "cell_type": "code",
   "execution_count": null,
   "id": "d3d6844f",
   "metadata": {},
   "outputs": [],
   "source": [
    "# Problem 418 workspace"
   ]
  },
  {
   "cell_type": "markdown",
   "id": "217e20a2",
   "metadata": {},
   "source": [
    "## Answer: "
   ]
  },
  {
   "cell_type": "markdown",
   "id": "b1a7695c",
   "metadata": {},
   "source": [
    "___"
   ]
  },
  {
   "cell_type": "markdown",
   "id": "894a0504",
   "metadata": {},
   "source": [
    "# Problem 419\n",
    " [Source](https://projecteuler.net/problem=419)"
   ]
  },
  {
   "cell_type": "markdown",
   "id": "c5895441",
   "metadata": {},
   "source": [
    "The\n",
    "**look and say**\n",
    "sequence goes 1, 11, 21, 1211, 111221, 312211, 13112221, 1113213211, ...\n",
    "  \n",
    "The sequence starts with 1 and all other members are obtained by describing the previous member in terms of consecutive digits.\n",
    "  \n",
    "It helps to do this out loud:\n",
    "  \n",
    "1 is 'one one' → 11\n",
    "  \n",
    "11 is 'two ones' → 21\n",
    "  \n",
    "21 is 'one two and one one' → 1211\n",
    "  \n",
    "1211 is 'one one, one two and two ones' → 111221\n",
    "  \n",
    "111221 is 'three ones, two twos and one one' → 312211\n",
    "  \n",
    "...\n",
    "\n",
    "Define $A(n)$, $B(n)$ and $C(n)$ as the number of ones, twos and threes in the $n$'th element of the sequence respectively.\n",
    "  \n",
    "One can verify that $A(40) = 31254$, $B(40) = 20259$ and $C(40) = 11625$.\n",
    "\n",
    "Find $A(n)$, $B(n)$ and $C(n)$ for $n = 10^{12}$.\n",
    "  \n",
    "Give your answer modulo $2^{30}$ and separate your values for $A$, $B$ and $C$ by a comma.\n",
    "  \n",
    "E.g. for $n = 40$ the answer would be 31254,20259,11625"
   ]
  },
  {
   "cell_type": "code",
   "execution_count": null,
   "id": "5d48db3b",
   "metadata": {},
   "outputs": [],
   "source": [
    "# Problem 419 workspace"
   ]
  },
  {
   "cell_type": "markdown",
   "id": "1f6e9670",
   "metadata": {},
   "source": [
    "## Answer: "
   ]
  },
  {
   "cell_type": "markdown",
   "id": "65c10cba",
   "metadata": {},
   "source": [
    "___"
   ]
  },
  {
   "cell_type": "markdown",
   "id": "d2311acc",
   "metadata": {},
   "source": [
    "# Problem 420\n",
    " [Source](https://projecteuler.net/problem=420)"
   ]
  },
  {
   "cell_type": "markdown",
   "id": "92913c6c",
   "metadata": {},
   "source": [
    "A\n",
    "positive integer matrix\n",
    "is a matrix whose elements are all positive integers.\n",
    "  \n",
    "Some positive integer matrices can be expressed as a square of a positive integer matrix in two different ways. Here is an example:\n",
    "\n",
    "$$\\begin{pmatrix}\n",
    "40 & 12\\\\\n",
    "48 & 40\n",
    "\\end{pmatrix} =\n",
    "\\begin{pmatrix}\n",
    "2 & 3\\\\\n",
    "12 & 2\n",
    "\\end{pmatrix}^2 =\n",
    "\\begin{pmatrix}\n",
    "6 & 1\\\\\n",
    "4 & 6\n",
    "\\end{pmatrix}^2\n",
    "$$\n",
    "\n",
    "We define $F(N)$ as the number of the $2\\times 2$ positive integer matrices which have a\n",
    "**trace\n",
    "the sum of the elements on the main diagonal**\n",
    "less than $N$ and which can be expressed as a square of a positive integer matrix in two different ways.\n",
    "  \n",
    "We can verify that $F(50) = 7$ and $F(1000) = 1019$.\n",
    "\n",
    "Find $F(10^7)$."
   ]
  },
  {
   "cell_type": "code",
   "execution_count": null,
   "id": "5404ca41",
   "metadata": {},
   "outputs": [],
   "source": [
    "# Problem 420 workspace"
   ]
  },
  {
   "cell_type": "markdown",
   "id": "ac156a95",
   "metadata": {},
   "source": [
    "## Answer: "
   ]
  },
  {
   "cell_type": "markdown",
   "id": "fa0c4809",
   "metadata": {},
   "source": [
    "___"
   ]
  }
 ],
 "metadata": {},
 "nbformat": 4,
 "nbformat_minor": 5
}
