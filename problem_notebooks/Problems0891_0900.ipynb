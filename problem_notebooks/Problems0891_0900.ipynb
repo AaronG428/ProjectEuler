{
 "cells": [
  {
   "cell_type": "markdown",
   "id": "657b0cea",
   "metadata": {},
   "source": [
    "# Problem 891\n",
    " [Source](https://projecteuler.net/problem=891)"
   ]
  },
  {
   "cell_type": "markdown",
   "id": "cb103fac",
   "metadata": {},
   "source": [
    "A round clock only has three hands: hour, minute, second. All hands look identical and move continuously. Moreover, there is no number or reference mark so that the \"upright position\" is unknown. The clock functions the same as a normal 12-hour analogue clock.\n",
    "\n",
    "Despite the inconvenient design, for most time it is possible to tell the correct time (within a 12-hour cycle) from the clock, just by measuring accurately the angles between the hands. For example, if all three hands coincide, then the time must be 12:00:00.\n",
    "\n",
    "Nevertheless, there are several moments where the clock shows an ambiguous reading. For example, the following moment could be either 1:30:00 or 7:30:00 (with the clock rotated $180^\\circ$). Thus both 1:30:00 and 7:30:00 are ambiguous moments.\n",
    "  \n",
    "Note that even if two hands perfectly coincide, we can still see them as two distinct hands in the same position. Thus for example 3:00:00 and 9:00:00 are not ambiguous moments.\n",
    "\n",
    "![0891_clock.png](resources/0891_clock.png)\n",
    "\n",
    "How many ambiguous moments are there within a 12-hour cycle?"
   ]
  },
  {
   "cell_type": "code",
   "execution_count": null,
   "id": "f9d20cfd",
   "metadata": {},
   "outputs": [],
   "source": [
    "# Problem 891 workspace"
   ]
  },
  {
   "cell_type": "markdown",
   "id": "0a715c7a",
   "metadata": {},
   "source": [
    "## Answer: "
   ]
  },
  {
   "cell_type": "markdown",
   "id": "3f640822",
   "metadata": {},
   "source": [
    "___"
   ]
  },
  {
   "cell_type": "markdown",
   "id": "b874ccf0",
   "metadata": {},
   "source": [
    "# Problem 892\n",
    " [Source](https://projecteuler.net/problem=892)"
   ]
  },
  {
   "cell_type": "markdown",
   "id": "3d43ddc7",
   "metadata": {},
   "source": [
    "Consider a circle where $2n$ distinct points have been marked on its circumference.\n",
    "\n",
    "A\n",
    "*cutting*\n",
    "$C$ consists of connecting the $2n$ points with $n$ line segments, so that no two line segments intersect, including on their end points. The $n$ line segments then cut the circle into $n + 1$ pieces.\n",
    "Each piece is painted either black or white, so that adjacent pieces are opposite colours.\n",
    "Let $d(C)$ be the absolute difference between the numbers of black and white pieces under the cutting $C$.\n",
    "\n",
    "Let $D(n)$ be the sum of $d(C)$ over all different cuttings $C$.\n",
    "For example, there are five different cuttings with $n = 3$.\n",
    "\n",
    "![0892_Zebra.png](resources/0892_Zebra.png)\n",
    "\n",
    "The upper three cuttings all have $d = 0$ because there are two black and two white pieces; the lower two cuttings both have $d = 2$ because there are three black and one white pieces.\n",
    "Therefore $D(3) = 0 + 0 + 0 + 2 + 2 = 4$.\n",
    "You are also given $D(100) \\equiv 1172122931\\pmod{1234567891}$.\n",
    "\n",
    "Find $\\displaystyle \\sum\\_{n=1}^{10^7} D(n)$. Give your answer modulo $1234567891$."
   ]
  },
  {
   "cell_type": "code",
   "execution_count": null,
   "id": "30dce117",
   "metadata": {},
   "outputs": [],
   "source": [
    "# Problem 892 workspace"
   ]
  },
  {
   "cell_type": "markdown",
   "id": "9185b506",
   "metadata": {},
   "source": [
    "## Answer: "
   ]
  },
  {
   "cell_type": "markdown",
   "id": "41e1ed24",
   "metadata": {},
   "source": [
    "___"
   ]
  },
  {
   "cell_type": "markdown",
   "id": "e32df569",
   "metadata": {},
   "source": [
    "# Problem 893\n",
    " [Source](https://projecteuler.net/problem=893)"
   ]
  },
  {
   "cell_type": "markdown",
   "id": "b0ba4882",
   "metadata": {},
   "source": [
    "Define $M(n)$ to be the minimum number of matchsticks needed to represent the number $n$.\n",
    "\n",
    "A number can be represented in digit form or as an expression involving addition and/or multiplication. Also order of operations must be followed, that is multiplication binding tighter than addition. Any other symbols or operations, such as brackets, subtraction, division or exponentiation, are not allowed.\n",
    "\n",
    "The valid digits and symbols are shown below:\n",
    "\n",
    "![0893_DigitDiagram.jpg](resources/0893_DigitDiagram.jpg)\n",
    "\n",
    "For example, $28$ needs $12$ matchsticks to represent it in digit form but representing it as $4\\times 7$ would only need $9$ matchsticks and as there is no way using fewer matchsticks $M(28) = 9$.\n",
    "\n",
    "Define $\\displaystyle T(N) = \\sum\\_{n=1}^N M(n)$. You are given $T(100) = 916$.\n",
    "\n",
    "Find $T(10^6)$."
   ]
  },
  {
   "cell_type": "code",
   "execution_count": null,
   "id": "1a08f3d8",
   "metadata": {},
   "outputs": [],
   "source": [
    "# Problem 893 workspace"
   ]
  },
  {
   "cell_type": "markdown",
   "id": "5860ef90",
   "metadata": {},
   "source": [
    "## Answer: "
   ]
  },
  {
   "cell_type": "markdown",
   "id": "08c07b4e",
   "metadata": {},
   "source": [
    "___"
   ]
  },
  {
   "cell_type": "markdown",
   "id": "4bceccdf",
   "metadata": {},
   "source": [
    "# Problem 894\n",
    " [Source](https://projecteuler.net/problem=894)"
   ]
  },
  {
   "cell_type": "markdown",
   "id": "2c6d43dd",
   "metadata": {},
   "source": [
    "Consider a\n",
    "**unit circle\n",
    "circle with radius 1**\n",
    "$C\\_0$ on the plane that does not enclose the origin. For $k\\ge 1$, a circle $C\\_k$ is created by scaling and rotating $C\\_{k - 1}$\n",
    "**with respect to the origin**\n",
    ". That is, both the radius and the distance to the origin are scaled by the same factor, and the centre of rotation is the origin. The scaling factor is positive and strictly less than one. Both it and the rotation angle remain constant for each $k$.\n",
    "\n",
    "It is given that $C\\_0$ is externally tangent to $C\\_1$, $C\\_7$ and $C\\_8$, as shown in the diagram below, and no two circles overlap.\n",
    "\n",
    "![0894_circle_spiral.jpg](resources/0894_circle_spiral.jpg)\n",
    "\n",
    "Find the total area of all the\n",
    "**circular triangles\n",
    "A circular triangle is a triangle with circular arc edges**\n",
    "in the diagram, i.e. the area painted green above.\n",
    "  \n",
    "Give your answer rounded to $10$ places after the decimal point."
   ]
  },
  {
   "cell_type": "code",
   "execution_count": null,
   "id": "d50898ae",
   "metadata": {},
   "outputs": [],
   "source": [
    "# Problem 894 workspace"
   ]
  },
  {
   "cell_type": "markdown",
   "id": "fb083021",
   "metadata": {},
   "source": [
    "## Answer: "
   ]
  },
  {
   "cell_type": "markdown",
   "id": "6b9cd3d1",
   "metadata": {},
   "source": [
    "___"
   ]
  },
  {
   "cell_type": "markdown",
   "id": "aaa860c0",
   "metadata": {},
   "source": [
    "# Problem 895\n",
    " [Source](https://projecteuler.net/problem=895)"
   ]
  },
  {
   "cell_type": "markdown",
   "id": "c6ca36cf",
   "metadata": {},
   "source": [
    "Gary and Sally play a game using gold and silver coins arranged into a number of vertical stacks, alternating turns. On Gary's turn he chooses a gold coin and removes it from the game along with any other coins sitting on top. Sally does the same on her turn by removing a silver coin. The first player unable to make a move loses.\n",
    "\n",
    "An arrangement is called\n",
    "fair\n",
    "if the person moving first, whether it be Gary or Sally, will lose the game if both play optimally.\n",
    "\n",
    "An arrangement is called\n",
    "balanced\n",
    "if the number of gold and silver coins are equal.\n",
    "\n",
    "Define $G(m)$ to be the number of fair and balanced arrangements consisting of three non-empty stacks, each not exceeding $m$ in size. Different orderings of the stacks are to be counted separately, so $G(2)=6$ due to the following six arrangements:\n",
    "\n",
    "![0895_G2.png](resources/0895_G2.png)\n",
    "\n",
    "You are also given $G(5)=348$ and $G(20)=125825982708$.\n",
    "\n",
    "Find $G(9898)$ giving your answer modulo $989898989$."
   ]
  },
  {
   "cell_type": "code",
   "execution_count": null,
   "id": "d9365216",
   "metadata": {},
   "outputs": [],
   "source": [
    "# Problem 895 workspace"
   ]
  },
  {
   "cell_type": "markdown",
   "id": "29f25b6f",
   "metadata": {},
   "source": [
    "## Answer: "
   ]
  },
  {
   "cell_type": "markdown",
   "id": "0aa52fb1",
   "metadata": {},
   "source": [
    "___"
   ]
  },
  {
   "cell_type": "markdown",
   "id": "228e0c11",
   "metadata": {},
   "source": [
    "# Problem 896\n",
    " [Source](https://projecteuler.net/problem=896)"
   ]
  },
  {
   "cell_type": "markdown",
   "id": "ef7fddb9",
   "metadata": {},
   "source": [
    "A contiguous range of positive integers is called a\n",
    "divisible range\n",
    "if all the integers in the range can be arranged in a row such that the $n$-th term is a multiple of $n$.\n",
    "  \n",
    "For example, the range $[6..9]$ is a divisible range because we can arrange the numbers as $7,6,9,8$.\n",
    "  \n",
    "In fact, it is the $4$th divisible range of length $4$, the first three being $[1..4], [2..5], [3..6]$.\n",
    "\n",
    "Find the $36$th divisible range of length $36$.\n",
    "  \n",
    "Give as answer the smallest number in the range."
   ]
  },
  {
   "cell_type": "code",
   "execution_count": null,
   "id": "450b4690",
   "metadata": {},
   "outputs": [],
   "source": [
    "# Problem 896 workspace"
   ]
  },
  {
   "cell_type": "markdown",
   "id": "1f5ded90",
   "metadata": {},
   "source": [
    "## Answer: "
   ]
  },
  {
   "cell_type": "markdown",
   "id": "e0d48e2f",
   "metadata": {},
   "source": [
    "___"
   ]
  },
  {
   "cell_type": "markdown",
   "id": "ee0de94c",
   "metadata": {},
   "source": [
    "# Problem 897\n",
    " [Source](https://projecteuler.net/problem=897)"
   ]
  },
  {
   "cell_type": "markdown",
   "id": "8dbae357",
   "metadata": {},
   "source": [
    "Let $G(n)$ denote the largest possible area of an\n",
    "**$n$-gon\n",
    "a polygon with $n$ sides**\n",
    "contained in the region $\\{(x, y) \\in \\Bbb R^2: x^4 \\leq y \\leq 1\\}$.\n",
    "  \n",
    "For example, $G(3) = 1$ and $G(5)\\approx 1.477309771$.\n",
    "  \n",
    "Find $G(101)$ rounded to nine digits after the decimal point."
   ]
  },
  {
   "cell_type": "code",
   "execution_count": null,
   "id": "95c29914",
   "metadata": {},
   "outputs": [],
   "source": [
    "# Problem 897 workspace"
   ]
  },
  {
   "cell_type": "markdown",
   "id": "4bacd2f8",
   "metadata": {},
   "source": [
    "## Answer: "
   ]
  },
  {
   "cell_type": "markdown",
   "id": "629d4a18",
   "metadata": {},
   "source": [
    "___"
   ]
  },
  {
   "cell_type": "markdown",
   "id": "4a4f1711",
   "metadata": {},
   "source": [
    "# Problem 898\n",
    " [Source](https://projecteuler.net/problem=898)"
   ]
  },
  {
   "cell_type": "markdown",
   "id": "d520011f",
   "metadata": {},
   "source": [
    "Claire Voyant is a teacher playing a game with a class of students.\n",
    "A fair coin is tossed on the table. All the students can see the outcome of the toss, but Claire cannot.\n",
    "Each student then tells Claire whether the outcome is head or tail. The students may lie, but Claire knows the probability that each individual student lies. Moreover, the students lie independently.\n",
    "After that, Claire attempts to guess the outcome using an optimal strategy.\n",
    "\n",
    "For example, for a class of four students with lying probabilities $20\\%,40\\%,60\\%,80\\%$, Claire guesses correctly with probability 0.832.\n",
    "\n",
    "Find the probability that Claire guesses correctly for a class of 51 students each lying with a probability of $25\\%, 26\\%, \\dots, 75\\%$\n",
    "respectively.\n",
    "\n",
    "Give your answer rounded to 10 digits after the decimal point."
   ]
  },
  {
   "cell_type": "code",
   "execution_count": null,
   "id": "0a216e1c",
   "metadata": {},
   "outputs": [],
   "source": [
    "# Problem 898 workspace"
   ]
  },
  {
   "cell_type": "markdown",
   "id": "50008bb9",
   "metadata": {},
   "source": [
    "## Answer: "
   ]
  },
  {
   "cell_type": "markdown",
   "id": "249c22e5",
   "metadata": {},
   "source": [
    "___"
   ]
  },
  {
   "cell_type": "markdown",
   "id": "d56c4db7",
   "metadata": {},
   "source": [
    "# Problem 899\n",
    " [Source](https://projecteuler.net/problem=899)"
   ]
  },
  {
   "cell_type": "markdown",
   "id": "6185fe25",
   "metadata": {},
   "source": [
    "Two players play a game with two piles of stones. The players alternately take stones from one or both piles, subject to:\n",
    "\n",
    "1. the total number of stones taken is equal to the size of the smallest pile before the move;\n",
    "2. the move cannot take all the stones from a pile.\n",
    "\n",
    "The player that is unable to move loses.\n",
    "\n",
    "For example, if the piles are of sizes 3 and 5 then there are three possible moves.\n",
    "$$(3,5) \\xrightarrow{(2,1)} (1,4)\\qquad\\qquad (3,5) \\xrightarrow{(1,2)} (2,3)\\qquad\\qquad (3,5) \\xrightarrow{(0,3)} (3,2)$$\n",
    "\n",
    "Let $L(n)$ be the number of ordered pairs $(a,b)$ with $1 \\leq a,b \\leq n$ such that the initial game position with piles of sizes $a$ and $b$ is losing for the first player assuming optimal play.\n",
    "\n",
    "You are given $L(7) = 21$ and $L(7^2) = 221$.\n",
    "\n",
    "Find $L(7^{17})$."
   ]
  },
  {
   "cell_type": "code",
   "execution_count": null,
   "id": "34d8203b",
   "metadata": {},
   "outputs": [],
   "source": [
    "# Problem 899 workspace"
   ]
  },
  {
   "cell_type": "markdown",
   "id": "d65d33a6",
   "metadata": {},
   "source": [
    "## Answer: "
   ]
  },
  {
   "cell_type": "markdown",
   "id": "2df4722a",
   "metadata": {},
   "source": [
    "___"
   ]
  },
  {
   "cell_type": "markdown",
   "id": "ee8db572",
   "metadata": {},
   "source": [
    "# Problem 900\n",
    " [Source](https://projecteuler.net/problem=900)"
   ]
  },
  {
   "cell_type": "markdown",
   "id": "9785f696",
   "metadata": {},
   "source": [
    "Two players play a game with at least two piles of stones. The players alternately take stones from one or more piles, subject to:\n",
    "\n",
    "1. the total number of stones taken is equal to the size of the smallest pile before the move;\n",
    "2. the move cannot take all the stones from a pile.\n",
    "\n",
    "The player that is unable to move loses.\n",
    "\n",
    "For example, if the piles are of sizes 2, 2 and 4 then there are four possible moves.\n",
    "$$ (2,2,4)\\xrightarrow{(1,1,0)}(1,1,4)\\quad (2,2,4)\\xrightarrow{(1,0,1)}(1,2,3)\\quad\n",
    "(2,2,4)\\xrightarrow{(0,1,1)}(2,1,3)\\quad (2,2,4)\\xrightarrow{(0,0,2)}(2,2,2)$$\n",
    "\n",
    "Let $t(n)$ be the smallest nonnegative integer $k$ such that the position with $n$ piles of $n$ stones and a single pile of $n+k$ stones is losing for the first player assuming optimal play. For example, $t(1) = t(2) = 0$ and $t(3) = 2$.\n",
    "\n",
    "Define $\\displaystyle S(N) = \\sum\\_{n=1}^{2^N} t(n)$. You are given $S(10) = 361522$.\n",
    "\n",
    "Find $S(10^4)$. Give your answer modulo $900497239$."
   ]
  },
  {
   "cell_type": "code",
   "execution_count": null,
   "id": "fdba9507",
   "metadata": {},
   "outputs": [],
   "source": [
    "# Problem 900 workspace"
   ]
  },
  {
   "cell_type": "markdown",
   "id": "28d7135d",
   "metadata": {},
   "source": [
    "## Answer: "
   ]
  },
  {
   "cell_type": "markdown",
   "id": "bed270d6",
   "metadata": {},
   "source": [
    "___"
   ]
  }
 ],
 "metadata": {},
 "nbformat": 4,
 "nbformat_minor": 5
}
