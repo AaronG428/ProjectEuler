{
 "cells": [
  {
   "cell_type": "markdown",
   "id": "2225162e",
   "metadata": {},
   "source": [
    "# Problem 51\n",
    " [Source](https://projecteuler.net/problem=51)"
   ]
  },
  {
   "cell_type": "markdown",
   "id": "2e719192",
   "metadata": {},
   "source": [
    "By replacing the 1\n",
    "st\n",
    "digit of the 2-digit number \\*3, it turns out that six of the nine possible values: 13, 23, 43, 53, 73, and 83, are all prime.\n",
    "\n",
    "By replacing the 3\n",
    "rd\n",
    "and 4\n",
    "th\n",
    "digits of 56\\*\\*3 with the same digit, this 5-digit number is the first example having seven primes among the ten generated numbers, yielding the family: 56003, 56113, 56333, 56443, 56663, 56773, and 56993. Consequently 56003, being the first member of this family, is the smallest prime with this property.\n",
    "\n",
    "Find the smallest prime which, by replacing part of the number (not necessarily adjacent digits) with the same digit, is part of an eight prime value family."
   ]
  },
  {
   "cell_type": "code",
   "execution_count": null,
   "id": "88c04bbc",
   "metadata": {},
   "outputs": [],
   "source": [
    "# Problem 51 workspace"
   ]
  },
  {
   "cell_type": "markdown",
   "id": "d7b206da",
   "metadata": {},
   "source": [
    "## Answer: "
   ]
  },
  {
   "cell_type": "markdown",
   "id": "e73eedd2",
   "metadata": {},
   "source": [
    "___"
   ]
  },
  {
   "cell_type": "markdown",
   "id": "a53fde88",
   "metadata": {},
   "source": [
    "# Problem 52\n",
    " [Source](https://projecteuler.net/problem=52)"
   ]
  },
  {
   "cell_type": "markdown",
   "id": "ef4437d8",
   "metadata": {},
   "source": [
    "It can be seen that the number, $125874$, and its double, $251748$, contain exactly the same digits, but in a different order.\n",
    "\n",
    "Find the smallest positive integer, $x$, such that $2x$, $3x$, $4x$, $5x$, and $6x$, contain the same digits."
   ]
  },
  {
   "cell_type": "code",
   "execution_count": null,
   "id": "a26f291f",
   "metadata": {},
   "outputs": [],
   "source": [
    "# Problem 52 workspace"
   ]
  },
  {
   "cell_type": "markdown",
   "id": "0fdf80f1",
   "metadata": {},
   "source": [
    "## Answer: "
   ]
  },
  {
   "cell_type": "markdown",
   "id": "cc39db6f",
   "metadata": {},
   "source": [
    "___"
   ]
  },
  {
   "cell_type": "markdown",
   "id": "cff400ff",
   "metadata": {},
   "source": [
    "# Problem 53\n",
    " [Source](https://projecteuler.net/problem=53)"
   ]
  },
  {
   "cell_type": "markdown",
   "id": "7ee7f62a",
   "metadata": {},
   "source": [
    "There are exactly ten ways of selecting three from five, 12345:\n",
    "\n",
    "123, 124, 125, 134, 135, 145, 234, 235, 245, and 345\n",
    "\n",
    "In combinatorics, we use the notation, $\\displaystyle \\binom 5 3 = 10$.\n",
    "\n",
    "In general, $\\displaystyle \\binom n r = \\dfrac{n!}{r!(n-r)!}$, where $r \\le n$, $n! = n \\times (n-1) \\times ... \\times 3 \\times 2 \\times 1$, and $0! = 1$.\n",
    "\n",
    "It is not until $n = 23$, that a value exceeds one-million: $\\displaystyle \\binom {23} {10} = 1144066$.\n",
    "\n",
    "How many, not necessarily distinct, values of $\\displaystyle \\binom n r$ for $1 \\le n \\le 100$, are greater than one-million?"
   ]
  },
  {
   "cell_type": "code",
   "execution_count": null,
   "id": "0d3dca1c",
   "metadata": {},
   "outputs": [],
   "source": [
    "# Problem 53 workspace"
   ]
  },
  {
   "cell_type": "markdown",
   "id": "f5f6a94e",
   "metadata": {},
   "source": [
    "## Answer: "
   ]
  },
  {
   "cell_type": "markdown",
   "id": "fd2f4aa5",
   "metadata": {},
   "source": [
    "___"
   ]
  },
  {
   "cell_type": "markdown",
   "id": "7c88f13c",
   "metadata": {},
   "source": [
    "# Problem 54\n",
    " [Source](https://projecteuler.net/problem=54)"
   ]
  },
  {
   "cell_type": "markdown",
   "id": "94e6a055",
   "metadata": {},
   "source": [
    "In the card game poker, a hand consists of five cards and are ranked, from lowest to highest, in the following way:\n",
    "\n",
    "* **High Card**\n",
    "  : Highest value card.\n",
    "* **One Pair**\n",
    "  : Two cards of the same value.\n",
    "* **Two Pairs**\n",
    "  : Two different pairs.\n",
    "* **Three of a Kind**\n",
    "  : Three cards of the same value.\n",
    "* **Straight**\n",
    "  : All cards are consecutive values.\n",
    "* **Flush**\n",
    "  : All cards of the same suit.\n",
    "* **Full House**\n",
    "  : Three of a kind and a pair.\n",
    "* **Four of a Kind**\n",
    "  : Four cards of the same value.\n",
    "* **Straight Flush**\n",
    "  : All cards are consecutive values of same suit.\n",
    "* **Royal Flush**\n",
    "  : Ten, Jack, Queen, King, Ace, in same suit.\n",
    "\n",
    "The cards are valued in the order:\n",
    "  \n",
    "2, 3, 4, 5, 6, 7, 8, 9, 10, Jack, Queen, King, Ace.\n",
    "\n",
    "If two players have the same ranked hands then the rank made up of the highest value wins; for example, a pair of eights beats a pair of fives (see example 1 below). But if two ranks tie, for example, both players have a pair of queens, then highest cards in each hand are compared (see example 4 below); if the highest cards tie then the next highest cards are compared, and so on.\n",
    "\n",
    "Consider the following five hands dealt to two players:\n",
    "\n",
    "|  |  |  |  |  |  |  |\n",
    "| --- | --- | --- | --- | --- | --- | --- |\n",
    "| **Hand** |  | **Player 1** |  | **Player 2** |  | **Winner** |\n",
    "| **1** |  | 5H 5C 6S 7S KD   Pair of Fives |  | 2C 3S 8S 8D TD   Pair of Eights |  | Player 2 |\n",
    "| **2** |  | 5D 8C 9S JS AC   Highest card Ace |  | 2C 5C 7D 8S QH   Highest card Queen |  | Player 1 |\n",
    "| **3** |  | 2D 9C AS AH AC   Three Aces |  | 3D 6D 7D TD QD   Flush with Diamonds |  | Player 2 |\n",
    "| **4** |  | 4D 6S 9H QH QC   Pair of Queens   Highest card Nine |  | 3D 6D 7H QD QS   Pair of Queens   Highest card Seven |  | Player 1 |\n",
    "| **5** |  | 2H 2D 4C 4D 4S   Full House   With Three Fours |  | 3C 3D 3S 9S 9D   Full House   with Three Threes |  | Player 1 |\n",
    "\n",
    "The file,\n",
    "[poker.txt](resources/documents/0054_poker.txt)\n",
    ", contains one-thousand random hands dealt to two players. Each line of the file contains ten cards (separated by a single space): the first five are Player 1's cards and the last five are Player 2's cards. You can assume that all hands are valid (no invalid characters or repeated cards), each player's hand is in no specific order, and in each hand there is a clear winner.\n",
    "\n",
    "How many hands does Player 1 win?"
   ]
  },
  {
   "cell_type": "code",
   "execution_count": null,
   "id": "368c5339",
   "metadata": {},
   "outputs": [],
   "source": [
    "# Problem 54 workspace"
   ]
  },
  {
   "cell_type": "markdown",
   "id": "ecf459b3",
   "metadata": {},
   "source": [
    "## Answer: "
   ]
  },
  {
   "cell_type": "markdown",
   "id": "d42e1b8e",
   "metadata": {},
   "source": [
    "___"
   ]
  },
  {
   "cell_type": "markdown",
   "id": "e6db1fb5",
   "metadata": {},
   "source": [
    "# Problem 55\n",
    " [Source](https://projecteuler.net/problem=55)"
   ]
  },
  {
   "cell_type": "markdown",
   "id": "94295790",
   "metadata": {},
   "source": [
    "If we take $47$, reverse and add, $47 + 74 = 121$, which is palindromic.\n",
    "\n",
    "Not all numbers produce palindromes so quickly. For example,\n",
    "\n",
    "$$\\begin{align}\n",
    "349 + 943 &= 1292\\\\\n",
    "1292 + 2921 &= 4213\\\\\n",
    "4213 + 3124 &= 7337\n",
    "\\end{align}$$\n",
    "\n",
    "That is, $349$ took three iterations to arrive at a palindrome.\n",
    "\n",
    "Although no one has proved it yet, it is thought that some numbers, like $196$, never produce a palindrome. A number that never forms a palindrome through the reverse and add process is called a Lychrel number. Due to the theoretical nature of these numbers, and for the purpose of this problem, we shall assume that a number is Lychrel until proven otherwise. In addition you are given that for every number below ten-thousand, it will either (i) become a palindrome in less than fifty iterations, or, (ii) no one, with all the computing power that exists, has managed so far to map it to a palindrome. In fact, $10677$ is the first number to be shown to require over fifty iterations before producing a palindrome: $4668731596684224866951378664$ ($53$ iterations, $28$-digits).\n",
    "\n",
    "Surprisingly, there are palindromic numbers that are themselves Lychrel numbers; the first example is $4994$.\n",
    "\n",
    "How many Lychrel numbers are there below ten-thousand?\n",
    "\n",
    "NOTE: Wording was modified slightly on 24 April 2007 to emphasise the theoretical nature of Lychrel numbers."
   ]
  },
  {
   "cell_type": "code",
   "execution_count": null,
   "id": "975b8f82",
   "metadata": {},
   "outputs": [],
   "source": [
    "# Problem 55 workspace"
   ]
  },
  {
   "cell_type": "markdown",
   "id": "b4e6a283",
   "metadata": {},
   "source": [
    "## Answer: "
   ]
  },
  {
   "cell_type": "markdown",
   "id": "f29525fb",
   "metadata": {},
   "source": [
    "___"
   ]
  },
  {
   "cell_type": "markdown",
   "id": "dafc0866",
   "metadata": {},
   "source": [
    "# Problem 56\n",
    " [Source](https://projecteuler.net/problem=56)"
   ]
  },
  {
   "cell_type": "markdown",
   "id": "452a8f10",
   "metadata": {},
   "source": [
    "A googol ($10^{100}$) is a massive number: one followed by one-hundred zeros; $100^{100}$ is almost unimaginably large: one followed by two-hundred zeros. Despite their size, the sum of the digits in each number is only $1$.\n",
    "\n",
    "Considering natural numbers of the form, $a^b$, where $a, b \\lt 100$, what is the maximum digital sum?"
   ]
  },
  {
   "cell_type": "code",
   "execution_count": null,
   "id": "7db771d8",
   "metadata": {},
   "outputs": [],
   "source": [
    "# Problem 56 workspace"
   ]
  },
  {
   "cell_type": "markdown",
   "id": "b383929c",
   "metadata": {},
   "source": [
    "## Answer: "
   ]
  },
  {
   "cell_type": "markdown",
   "id": "dad3b7a3",
   "metadata": {},
   "source": [
    "___"
   ]
  },
  {
   "cell_type": "markdown",
   "id": "f0e58d60",
   "metadata": {},
   "source": [
    "# Problem 57\n",
    " [Source](https://projecteuler.net/problem=57)"
   ]
  },
  {
   "cell_type": "markdown",
   "id": "2dd04de2",
   "metadata": {},
   "source": [
    "It is possible to show that the square root of two can be expressed as an infinite continued fraction.\n",
    "\n",
    "$\\sqrt 2 =1+ \\frac 1 {2+ \\frac 1 {2 +\\frac 1 {2+ \\dots}}}$\n",
    "\n",
    "By expanding this for the first four iterations, we get:\n",
    "\n",
    "$1 + \\frac 1 2 = \\frac 32 = 1.5$\n",
    "  \n",
    "$1 + \\frac 1 {2 + \\frac 1 2} = \\frac 7 5 = 1.4$\n",
    "  \n",
    "$1 + \\frac 1 {2 + \\frac 1 {2+\\frac 1 2}} = \\frac {17}{12} = 1.41666 \\dots$\n",
    "  \n",
    "$1 + \\frac 1 {2 + \\frac 1 {2+\\frac 1 {2+\\frac 1 2}}} = \\frac {41}{29} = 1.41379 \\dots$\n",
    "\n",
    "The next three expansions are $\\frac {99}{70}$, $\\frac {239}{169}$, and $\\frac {577}{408}$, but the eighth expansion, $\\frac {1393}{985}$, is the first example where the number of digits in the numerator exceeds the number of digits in the denominator.\n",
    "\n",
    "In the first one-thousand expansions, how many fractions contain a numerator with more digits than the denominator?"
   ]
  },
  {
   "cell_type": "code",
   "execution_count": null,
   "id": "8895f950",
   "metadata": {},
   "outputs": [],
   "source": [
    "# Problem 57 workspace"
   ]
  },
  {
   "cell_type": "markdown",
   "id": "e76ea5f9",
   "metadata": {},
   "source": [
    "## Answer: "
   ]
  },
  {
   "cell_type": "markdown",
   "id": "57f6c7b2",
   "metadata": {},
   "source": [
    "___"
   ]
  },
  {
   "cell_type": "markdown",
   "id": "5881ca31",
   "metadata": {},
   "source": [
    "# Problem 58\n",
    " [Source](https://projecteuler.net/problem=58)"
   ]
  },
  {
   "cell_type": "markdown",
   "id": "6bd9f36b",
   "metadata": {},
   "source": [
    "Starting with $1$ and spiralling anticlockwise in the following way, a square spiral with side length $7$ is formed.\n",
    "\n",
    "**37**\n",
    "36 35 34 33 32\n",
    "**31**\n",
    "  \n",
    "38\n",
    "**17**\n",
    "16 15 14\n",
    "**13**\n",
    "30\n",
    "  \n",
    "39 18\n",
    "**5**\n",
    "4\n",
    "**3**\n",
    "12 29\n",
    "  \n",
    "40 19  6  1  2 11 28\n",
    "  \n",
    "41 20\n",
    "**7**\n",
    "8  9 10 27\n",
    "  \n",
    "42 21 22 23 24 25 26\n",
    "  \n",
    "\n",
    "**43**\n",
    "44 45 46 47 48 49\n",
    "\n",
    "It is interesting to note that the odd squares lie along the bottom right diagonal, but what is more interesting is that $8$ out of the $13$ numbers lying along both diagonals are prime; that is, a ratio of $8/13 \\approx 62\\%$.\n",
    "\n",
    "If one complete new layer is wrapped around the spiral above, a square spiral with side length $9$ will be formed. If this process is continued, what is the side length of the square spiral for which the ratio of primes along both diagonals first falls below $10\\%$?"
   ]
  },
  {
   "cell_type": "code",
   "execution_count": null,
   "id": "33eacd40",
   "metadata": {},
   "outputs": [],
   "source": [
    "# Problem 58 workspace"
   ]
  },
  {
   "cell_type": "markdown",
   "id": "aba647bd",
   "metadata": {},
   "source": [
    "## Answer: "
   ]
  },
  {
   "cell_type": "markdown",
   "id": "e5c5117c",
   "metadata": {},
   "source": [
    "___"
   ]
  },
  {
   "cell_type": "markdown",
   "id": "ad031934",
   "metadata": {},
   "source": [
    "# Problem 59\n",
    " [Source](https://projecteuler.net/problem=59)"
   ]
  },
  {
   "cell_type": "markdown",
   "id": "9081c3c7",
   "metadata": {},
   "source": [
    "Each character on a computer is assigned a unique code and the preferred standard is ASCII (American Standard Code for Information Interchange). For example, uppercase A = 65, asterisk (\\*) = 42, and lowercase k = 107.\n",
    "\n",
    "A modern encryption method is to take a text file, convert the bytes to ASCII, then XOR each byte with a given value, taken from a secret key. The advantage with the XOR function is that using the same encryption key on the cipher text, restores the plain text; for example, 65 XOR 42 = 107, then 107 XOR 42 = 65.\n",
    "\n",
    "For unbreakable encryption, the key is the same length as the plain text message, and the key is made up of random bytes. The user would keep the encrypted message and the encryption key in different locations, and without both \"halves\", it is impossible to decrypt the message.\n",
    "\n",
    "Unfortunately, this method is impractical for most users, so the modified method is to use a password as a key. If the password is shorter than the message, which is likely, the key is repeated cyclically throughout the message. The balance for this method is using a sufficiently long password key for security, but short enough to be memorable.\n",
    "\n",
    "Your task has been made easy, as the encryption key consists of three lower case characters. Using\n",
    "[0059\\_cipher.txt](resources/documents/0059_cipher.txt)\n",
    "(right click and 'Save Link/Target As...'), a file containing the encrypted ASCII codes, and the knowledge that the plain text must contain common English words, decrypt the message and find the sum of the ASCII values in the original text."
   ]
  },
  {
   "cell_type": "code",
   "execution_count": null,
   "id": "afb25e65",
   "metadata": {},
   "outputs": [],
   "source": [
    "# Problem 59 workspace"
   ]
  },
  {
   "cell_type": "markdown",
   "id": "6569d91f",
   "metadata": {},
   "source": [
    "## Answer: "
   ]
  },
  {
   "cell_type": "markdown",
   "id": "534ade9a",
   "metadata": {},
   "source": [
    "___"
   ]
  },
  {
   "cell_type": "markdown",
   "id": "d894fbf0",
   "metadata": {},
   "source": [
    "# Problem 60\n",
    " [Source](https://projecteuler.net/problem=60)"
   ]
  },
  {
   "cell_type": "markdown",
   "id": "85e88c3c",
   "metadata": {},
   "source": [
    "The primes $3$, $7$, $109$, and $673$, are quite remarkable. By taking any two primes and concatenating them in any order the result will always be prime. For example, taking $7$ and $109$, both $7109$ and $1097$ are prime. The sum of these four primes, $792$, represents the lowest sum for a set of four primes with this property.\n",
    "\n",
    "Find the lowest sum for a set of five primes for which any two primes concatenate to produce another prime."
   ]
  },
  {
   "cell_type": "code",
   "execution_count": null,
   "id": "3f80d07a",
   "metadata": {},
   "outputs": [],
   "source": [
    "# Problem 60 workspace"
   ]
  },
  {
   "cell_type": "markdown",
   "id": "e94507d3",
   "metadata": {},
   "source": [
    "## Answer: "
   ]
  },
  {
   "cell_type": "markdown",
   "id": "d0860136",
   "metadata": {},
   "source": [
    "___"
   ]
  }
 ],
 "metadata": {},
 "nbformat": 4,
 "nbformat_minor": 5
}
