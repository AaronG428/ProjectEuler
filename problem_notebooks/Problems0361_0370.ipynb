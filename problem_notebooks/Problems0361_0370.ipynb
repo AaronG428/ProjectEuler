{
 "cells": [
  {
   "cell_type": "markdown",
   "id": "5ce2f261",
   "metadata": {},
   "source": [
    "# Problem 361\n",
    " [Source](https://projecteuler.net/problem=361)"
   ]
  },
  {
   "cell_type": "markdown",
   "id": "fbcfc8fa",
   "metadata": {},
   "source": [
    "The\n",
    "**Thue-Morse sequence**\n",
    "$\\{T\\_n\\}$ is a binary sequence satisfying:\n",
    "\n",
    "* $T\\_0 = 0$\n",
    "* $T\\_{2n} = T\\_n$\n",
    "* $T\\_{2n + 1} = 1 - T\\_n$\n",
    "\n",
    "The first several terms of $\\{T\\_n\\}$ are given as follows:\n",
    "  \n",
    "$01101001{\\color{red}10010}1101001011001101001\\cdots$\n",
    "\n",
    "We define $\\{A\\_n\\}$ as the sorted sequence of integers such that the binary expression of each element appears as a subsequence in $\\{T\\_n\\}$.\n",
    "  \n",
    "For example, the decimal number $18$ is expressed as $10010$ in binary. $10010$ appears in $\\{T\\_n\\}$ ($T\\_8$ to $T\\_{12}$), so $18$ is an element of $\\{A\\_n\\}$.\n",
    "  \n",
    "The decimal number $14$ is expressed as $1110$ in binary. $1110$ never appears in $\\{T\\_n\\}$, so $14$ is not an element of $\\{A\\_n\\}$.\n",
    "\n",
    "The first several terms of $\\{A\\_n\\}$ are given as follows:\n",
    "\n",
    "|  |  |  |  |  |  |  |  |  |  |  |  |  |  |  |\n",
    "| --- | --- | --- | --- | --- | --- | --- | --- | --- | --- | --- | --- | --- | --- | --- |\n",
    "| $n$ | $0$ | $1$ | $2$ | $3$ | $4$ | $5$ | $6$ | $7$ | $8$ | $9$ | $10$ | $11$ | $12$ | $\\cdots$ |\n",
    "| $A\\_n$ | $0$ | $1$ | $2$ | $3$ | $4$ | $5$ | $6$ | $9$ | $10$ | $11$ | $12$ | $13$ | $18$ | $\\cdots$ |\n",
    "\n",
    "We can also verify that $A\\_{100} = 3251$ and $A\\_{1000} = 80852364498$.\n",
    "\n",
    "Find the last $9$ digits of $\\sum \\limits\\_{k = 1}^{18} A\\_{10^k}$."
   ]
  },
  {
   "cell_type": "code",
   "execution_count": null,
   "id": "236262e5",
   "metadata": {},
   "outputs": [],
   "source": [
    "# Problem 361 workspace"
   ]
  },
  {
   "cell_type": "markdown",
   "id": "8a5d3d36",
   "metadata": {},
   "source": [
    "## Answer: "
   ]
  },
  {
   "cell_type": "markdown",
   "id": "6a5acb8b",
   "metadata": {},
   "source": [
    "___"
   ]
  },
  {
   "cell_type": "markdown",
   "id": "1678d7fd",
   "metadata": {},
   "source": [
    "# Problem 362\n",
    " [Source](https://projecteuler.net/problem=362)"
   ]
  },
  {
   "cell_type": "markdown",
   "id": "313b80db",
   "metadata": {},
   "source": [
    "Consider the number $54$.\n",
    "  \n",
    "$54$ can be factored in $7$ distinct ways into one or more factors larger than $1$:\n",
    "  \n",
    "$54$, $2 \\times 27$, $3 \\times 18$, $6 \\times 9$, $3 \\times 3 \\times 6$, $2 \\times 3 \\times 9$ and $2 \\times 3 \\times 3 \\times 3$.\n",
    "  \n",
    "If we require that the factors are all squarefree only two ways remain: $3 \\times 3 \\times 6$ and $2 \\times 3 \\times 3 \\times 3$.\n",
    "\n",
    "Let's call $\\operatorname{Fsf}(n)$ the number of ways $n$ can be factored into one or more squarefree factors larger than $1$, so\n",
    "$\\operatorname{Fsf}(54)=2$.\n",
    "\n",
    "Let $S(n)$ be $\\sum \\operatorname{Fsf}(k)$ for $k=2$ to $n$.\n",
    "\n",
    "$S(100)=193$.\n",
    "\n",
    "Find $S(10\\,000\\,000\\,000)$."
   ]
  },
  {
   "cell_type": "code",
   "execution_count": null,
   "id": "791f1fa3",
   "metadata": {},
   "outputs": [],
   "source": [
    "# Problem 362 workspace"
   ]
  },
  {
   "cell_type": "markdown",
   "id": "e7afb027",
   "metadata": {},
   "source": [
    "## Answer: "
   ]
  },
  {
   "cell_type": "markdown",
   "id": "2b37b840",
   "metadata": {},
   "source": [
    "___"
   ]
  },
  {
   "cell_type": "markdown",
   "id": "bf6dc340",
   "metadata": {},
   "source": [
    "# Problem 363\n",
    " [Source](https://projecteuler.net/problem=363)"
   ]
  },
  {
   "cell_type": "markdown",
   "id": "3402a49a",
   "metadata": {},
   "source": [
    "A cubic Bézier curve is defined by four points: $P\\_0, P\\_1, P\\_2,$ and $P\\_3$.\n",
    "\n",
    "![0363_bezier.png](resources/0363_bezier.png)\n",
    "\n",
    "The curve is constructed as follows:\n",
    "\n",
    "On the segments $P\\_0 P\\_1$, $P\\_1 P\\_2$, and $P\\_2 P\\_3$ the points $Q\\_0, Q\\_1,$ and $Q\\_2$ are drawn such that $\\dfrac{P\\_0 Q\\_0}{P\\_0 P\\_1} = \\dfrac{P\\_1 Q\\_1}{P\\_1 P\\_2} = \\dfrac{P\\_2 Q\\_2}{P\\_2 P\\_3} = t$, with $t$ in $[0, 1]$.\n",
    "\n",
    "On the segments $Q\\_0 Q\\_1$ and $Q\\_1 Q\\_2$ the points $R\\_0$ and $R\\_1$ are drawn such that\n",
    "  \n",
    "$\\dfrac{Q\\_0 R\\_0}{Q\\_0 Q\\_1} = \\dfrac{Q\\_1 R\\_1}{Q\\_1 Q\\_2} = t$ for the same value of $t$.\n",
    "\n",
    "On the segment $R\\_0 R\\_1$ the point $B$ is drawn such that $\\dfrac{R\\_0 B}{R\\_0 R\\_1} = t$ for the same value of $t$.\n",
    "\n",
    "The Bézier curve defined by the points $P\\_0, P\\_1, P\\_2, P\\_3$ is the locus of $B$ as $Q\\_0$ takes all possible positions on the segment $P\\_0 P\\_1$.\n",
    "  \n",
    "(Please note that for all points the value of $t$ is the same.)\n",
    "\n",
    "From the construction it is clear that the Bézier curve will be tangent to the segments $P\\_0 P\\_1$ in $P\\_0$ and $P\\_2 P\\_3$ in $P\\_3$.\n",
    "\n",
    "A cubic Bézier curve with $P\\_0 = (1, 0), P\\_1 = (1, v), P\\_2 = (v, 1),$ and $P\\_3 = (0, 1)$ is used to approximate a quarter circle.\n",
    "  \n",
    "The value $v \\gt 0$ is chosen such that the area enclosed by the lines $O P\\_0, OP\\_3$ and the curve is equal to $\\dfrac{\\pi}{4}$ (the area of the quarter circle).\n",
    "\n",
    "By how many percent does the length of the curve differ from the length of the quarter circle?\n",
    "  \n",
    "That is, if $L$ is the length of the curve, calculate $100 \\times \\dfrac{L - \\frac{\\pi}{2}}{\\frac{\\pi}{2}}$\n",
    "  \n",
    "Give your answer rounded to 10 digits behind the decimal point."
   ]
  },
  {
   "cell_type": "code",
   "execution_count": null,
   "id": "b585779e",
   "metadata": {},
   "outputs": [],
   "source": [
    "# Problem 363 workspace"
   ]
  },
  {
   "cell_type": "markdown",
   "id": "de1f5103",
   "metadata": {},
   "source": [
    "## Answer: "
   ]
  },
  {
   "cell_type": "markdown",
   "id": "ca0b0e6e",
   "metadata": {},
   "source": [
    "___"
   ]
  },
  {
   "cell_type": "markdown",
   "id": "8509b201",
   "metadata": {},
   "source": [
    "# Problem 364\n",
    " [Source](https://projecteuler.net/problem=364)"
   ]
  },
  {
   "cell_type": "markdown",
   "id": "525dfde3",
   "metadata": {},
   "source": [
    "There are $N$ seats in a row. $N$ people come after each other to fill the seats according to the following rules:\n",
    "\n",
    "1. If there is any seat whose adjacent seat(s) are not occupied take such a seat.\n",
    "2. If there is no such seat and there is any seat for which only one adjacent seat is occupied take such a seat.\n",
    "3. Otherwise take one of the remaining available seats.\n",
    "\n",
    "Let $T(N)$ be the number of possibilities that $N$ seats are occupied by $N$ people with the given rules.\n",
    "  \n",
    "The following figure shows $T(4)=8$.\n",
    "\n",
    "![0364_comf_dist.gif](resources/0364_comf_dist.gif)\n",
    "\n",
    "We can verify that $T(10) = 61632$ and $T(1\\,000) \\bmod 100\\,000\\,007 = 47255094$.\n",
    "\n",
    "Find $T(1\\,000\\,000) \\bmod 100\\,000\\,007$."
   ]
  },
  {
   "cell_type": "code",
   "execution_count": null,
   "id": "7431dcd2",
   "metadata": {},
   "outputs": [],
   "source": [
    "# Problem 364 workspace"
   ]
  },
  {
   "cell_type": "markdown",
   "id": "c0576a26",
   "metadata": {},
   "source": [
    "## Answer: "
   ]
  },
  {
   "cell_type": "markdown",
   "id": "799202d3",
   "metadata": {},
   "source": [
    "___"
   ]
  },
  {
   "cell_type": "markdown",
   "id": "41d7762a",
   "metadata": {},
   "source": [
    "# Problem 365\n",
    " [Source](https://projecteuler.net/problem=365)"
   ]
  },
  {
   "cell_type": "markdown",
   "id": "a9855f0f",
   "metadata": {},
   "source": [
    "The binomial coefficient $\\displaystyle{\\binom{10^{18}}{10^9}}$ is a number with more than $9$ billion ($9\\times 10^9$) digits.\n",
    "\n",
    "Let $M(n,k,m)$ denote the binomial coefficient $\\displaystyle{\\binom{n}{k}}$ modulo $m$.\n",
    "\n",
    "Calculate $\\displaystyle{\\sum M(10^{18},10^9,p\\cdot q\\cdot r)}$ for $1000\\lt p\\lt q\\lt r\\lt 5000$ and $p$,$q$,$r$ prime."
   ]
  },
  {
   "cell_type": "code",
   "execution_count": null,
   "id": "3f39cfd0",
   "metadata": {},
   "outputs": [],
   "source": [
    "# Problem 365 workspace"
   ]
  },
  {
   "cell_type": "markdown",
   "id": "88d76fc1",
   "metadata": {},
   "source": [
    "## Answer: "
   ]
  },
  {
   "cell_type": "markdown",
   "id": "52072f54",
   "metadata": {},
   "source": [
    "___"
   ]
  },
  {
   "cell_type": "markdown",
   "id": "e0c752be",
   "metadata": {},
   "source": [
    "# Problem 366\n",
    " [Source](https://projecteuler.net/problem=366)"
   ]
  },
  {
   "cell_type": "markdown",
   "id": "02cab777",
   "metadata": {},
   "source": [
    "Two players, Anton and Bernhard, are playing the following game.\n",
    "  \n",
    "There is one pile of $n$ stones.\n",
    "  \n",
    "The first player may remove any positive number of stones, but not the whole pile.\n",
    "  \n",
    "Thereafter, each player may remove at most twice the number of stones his opponent took on the previous move.\n",
    "  \n",
    "The player who removes the last stone wins.\n",
    "\n",
    "E.g. $n=5$.\n",
    "  \n",
    "If the first player takes anything more than one stone the next player will be able to take all remaining stones.\n",
    "  \n",
    "If the first player takes one stone, leaving four, his opponent will take also one stone, leaving three stones.\n",
    "  \n",
    "The first player cannot take all three because he may take at most $2 \\times 1=2$ stones. So let's say he takes also one stone, leaving $2$. The second player can take the two remaining stones and wins.\n",
    "  \n",
    "So $5$ is a losing position for the first player.\n",
    "  \n",
    "For some winning positions there is more than one possible move for the first player.\n",
    "  \n",
    "E.g. when $n=17$ the first player can remove one or four stones.\n",
    "\n",
    "Let $M(n)$ be the maximum number of stones the first player can take from a winning position\n",
    "*at his first turn*\n",
    "and $M(n)=0$ for any other position.\n",
    "\n",
    "$\\sum M(n)$ for $n \\le 100$ is $728$.\n",
    "\n",
    "Find $\\sum M(n)$ for $n \\le 10^{18}$.\n",
    "Give your answer modulo $10^8$."
   ]
  },
  {
   "cell_type": "code",
   "execution_count": null,
   "id": "3d05d6f9",
   "metadata": {},
   "outputs": [],
   "source": [
    "# Problem 366 workspace"
   ]
  },
  {
   "cell_type": "markdown",
   "id": "5b31a3b8",
   "metadata": {},
   "source": [
    "## Answer: "
   ]
  },
  {
   "cell_type": "markdown",
   "id": "77a21494",
   "metadata": {},
   "source": [
    "___"
   ]
  },
  {
   "cell_type": "markdown",
   "id": "a4e44e2a",
   "metadata": {},
   "source": [
    "# Problem 367\n",
    " [Source](https://projecteuler.net/problem=367)"
   ]
  },
  {
   "cell_type": "markdown",
   "id": "d73f7dc2",
   "metadata": {},
   "source": [
    "**Bozo sort**\n",
    ", not to be confused with the slightly less efficient\n",
    "**bogo sort**\n",
    ", consists out of checking if the input sequence is sorted and if not swapping randomly two elements. This is repeated until eventually the sequence is sorted.\n",
    "\n",
    "If we consider all permutations of the first $4$ natural numbers as input the expectation value of the number of swaps, averaged over all $4!$ input sequences is $24.75$.\n",
    "  \n",
    "The already sorted sequence takes $0$ steps.\n",
    "\n",
    "In this problem we consider the following variant on bozo sort.\n",
    "  \n",
    "If the sequence is not in order we pick three elements at random and shuffle these three elements randomly.\n",
    "  \n",
    "All $3!=6$ permutations of those three elements are equally likely.\n",
    "  \n",
    "The already sorted sequence will take $0$ steps.\n",
    "  \n",
    "If we consider all permutations of the first $4$ natural numbers as input the expectation value of the number of shuffles, averaged over all $4!$ input sequences is $27.5$.\n",
    "  \n",
    "Consider as input sequences the permutations of the first $11$ natural numbers.\n",
    "  \n",
    "Averaged over all $11!$ input sequences, what is the expected number of shuffles this sorting algorithm will perform?\n",
    "\n",
    "Give your answer rounded to the nearest integer."
   ]
  },
  {
   "cell_type": "code",
   "execution_count": null,
   "id": "f3f8265d",
   "metadata": {},
   "outputs": [],
   "source": [
    "# Problem 367 workspace"
   ]
  },
  {
   "cell_type": "markdown",
   "id": "c93bde9a",
   "metadata": {},
   "source": [
    "## Answer: "
   ]
  },
  {
   "cell_type": "markdown",
   "id": "39a65c68",
   "metadata": {},
   "source": [
    "___"
   ]
  },
  {
   "cell_type": "markdown",
   "id": "e70124d3",
   "metadata": {},
   "source": [
    "# Problem 368\n",
    " [Source](https://projecteuler.net/problem=368)"
   ]
  },
  {
   "cell_type": "markdown",
   "id": "8139c019",
   "metadata": {},
   "source": [
    "The\n",
    "**harmonic series**\n",
    "$1 + \\frac 1 2 + \\frac 1 3 + \\frac 1 4 + \\cdots$ is well known to be divergent.\n",
    "\n",
    "If we however omit from this series every term where the denominator has a $9$ in it, the series remarkably enough converges to approximately $22.9206766193$.\n",
    "  \n",
    "This modified harmonic series is called the\n",
    "**Kempner**\n",
    "series.\n",
    "\n",
    "Let us now consider another modified harmonic series by omitting from the harmonic series every term where the denominator has $3$ or more equal consecutive digits.\n",
    "One can verify that out of the first $1200$ terms of the harmonic series, only $20$ terms will be omitted.\n",
    "  \n",
    "These $20$ omitted terms are:\n",
    "\n",
    "$$\\frac 1 {111}, \\frac 1 {222}, \\frac 1 {333}, \\frac 1 {444}, \\frac 1 {555}, \\frac 1 {666}, \\frac 1 {777}, \\frac 1 {888}, \\frac 1 {999}, \\frac 1 {1000}, \\frac 1 {1110},$$\n",
    "$$\\frac 1 {1111}, \\frac 1 {1112}, \\frac 1 {1113}, \\frac 1 {1114}, \\frac 1 {1115}, \\frac 1 {1116}, \\frac 1 {1117}, \\frac 1 {1118}, \\frac 1 {1119}.$$\n",
    "\n",
    "This series converges as well.\n",
    "\n",
    "Find the value the series converges to.\n",
    "  \n",
    "Give your answer rounded to $10$ digits behind the decimal point."
   ]
  },
  {
   "cell_type": "code",
   "execution_count": null,
   "id": "66f9d457",
   "metadata": {},
   "outputs": [],
   "source": [
    "# Problem 368 workspace"
   ]
  },
  {
   "cell_type": "markdown",
   "id": "82922bb5",
   "metadata": {},
   "source": [
    "## Answer: "
   ]
  },
  {
   "cell_type": "markdown",
   "id": "dc93e16d",
   "metadata": {},
   "source": [
    "___"
   ]
  },
  {
   "cell_type": "markdown",
   "id": "f04f57d8",
   "metadata": {},
   "source": [
    "# Problem 369\n",
    " [Source](https://projecteuler.net/problem=369)"
   ]
  },
  {
   "cell_type": "markdown",
   "id": "7e0559a8",
   "metadata": {},
   "source": [
    "In a standard $52$ card deck of playing cards, a set of $4$ cards is a\n",
    "**Badugi**\n",
    "if it contains $4$ cards with no pairs and no two cards of the same suit.\n",
    "\n",
    "Let $f(n)$ be the number of ways to choose $n$ cards with a $4$ card subset that is a Badugi. For example, there are $2598960$ ways to choose five cards from a standard $52$ card deck, of which $514800$ contain a $4$ card subset that is a Badugi, so $f(5) = 514800$.\n",
    "\n",
    "Find $\\sum f(n)$ for $4 \\le n \\le 13$."
   ]
  },
  {
   "cell_type": "code",
   "execution_count": null,
   "id": "04ace185",
   "metadata": {},
   "outputs": [],
   "source": [
    "# Problem 369 workspace"
   ]
  },
  {
   "cell_type": "markdown",
   "id": "8abc55c8",
   "metadata": {},
   "source": [
    "## Answer: "
   ]
  },
  {
   "cell_type": "markdown",
   "id": "71289d2f",
   "metadata": {},
   "source": [
    "___"
   ]
  },
  {
   "cell_type": "markdown",
   "id": "c1349f31",
   "metadata": {},
   "source": [
    "# Problem 370\n",
    " [Source](https://projecteuler.net/problem=370)"
   ]
  },
  {
   "cell_type": "markdown",
   "id": "e71460fb",
   "metadata": {},
   "source": [
    "Let us define a\n",
    "geometric triangle\n",
    "as an integer sided triangle with sides $a \\le b \\le c$ so that its sides form a\n",
    "**geometric progression**\n",
    ", i.e. $b^2 = a \\cdot c$\n",
    "\n",
    "An example of such a geometric triangle is the triangle with sides $a = 144$, $b = 156$ and $c = 169$.\n",
    "\n",
    "There are $861805$ geometric triangles with perimeter $\\le 10^6$.\n",
    "\n",
    "How many geometric triangles exist with perimeter $\\le 2.5 \\cdot 10^{13}$?"
   ]
  },
  {
   "cell_type": "code",
   "execution_count": null,
   "id": "d5f77657",
   "metadata": {},
   "outputs": [],
   "source": [
    "# Problem 370 workspace"
   ]
  },
  {
   "cell_type": "markdown",
   "id": "fbb880c5",
   "metadata": {},
   "source": [
    "## Answer: "
   ]
  },
  {
   "cell_type": "markdown",
   "id": "b4b7b082",
   "metadata": {},
   "source": [
    "___"
   ]
  }
 ],
 "metadata": {},
 "nbformat": 4,
 "nbformat_minor": 5
}
