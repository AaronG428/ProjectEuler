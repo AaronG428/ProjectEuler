{
 "cells": [
  {
   "cell_type": "markdown",
   "id": "5afea78d",
   "metadata": {},
   "source": [
    "# Problem 821\n",
    " [Source](https://projecteuler.net/problem=821)"
   ]
  },
  {
   "cell_type": "markdown",
   "id": "a94b65d6",
   "metadata": {},
   "source": [
    "A set, $S$, of integers is called\n",
    "123-separable\n",
    "if $S$, $2S$ and $3S$ are disjoint. Here $2S$ and $3S$ are obtained by multiplying all the elements in $S$ by $2$ and $3$ respectively.\n",
    "\n",
    "Define $F(n)$ to be the maximum number of elements of\n",
    "$$(S\\cup 2S \\cup 3S)\\cap \\{1,2,3,\\ldots,n\\}$$\n",
    "where $S$ ranges over all 123-separable sets.\n",
    "\n",
    "For example, $F(6) = 5$ can be achieved with either $S = \\{1,4,5\\}$ or $S = \\{1,5,6\\}$.\n",
    "  \n",
    "You are also given $F(20) = 19$.\n",
    "\n",
    "Find $F(10^{16})$."
   ]
  },
  {
   "cell_type": "code",
   "execution_count": null,
   "id": "66080d78",
   "metadata": {},
   "outputs": [],
   "source": [
    "# Problem 821 workspace"
   ]
  },
  {
   "cell_type": "markdown",
   "id": "5e78ba4e",
   "metadata": {},
   "source": [
    "## Answer: "
   ]
  },
  {
   "cell_type": "markdown",
   "id": "722aaaac",
   "metadata": {},
   "source": [
    "___"
   ]
  },
  {
   "cell_type": "markdown",
   "id": "39d116b1",
   "metadata": {},
   "source": [
    "# Problem 822\n",
    " [Source](https://projecteuler.net/problem=822)"
   ]
  },
  {
   "cell_type": "markdown",
   "id": "5445f1d4",
   "metadata": {},
   "source": [
    "A list initially contains the numbers $2, 3, \\dots, n$.\n",
    "  \n",
    "At each round, the smallest number in the list is replaced by its square. If there is more than one such number, then only one of them is replaced.\n",
    "\n",
    "For example, below are the first three rounds for $n = 5$:\n",
    "$$[2, 3, 4, 5] \\xrightarrow{(1)} [4, 3, 4, 5] \\xrightarrow{(2)} [4, 9, 4, 5] \\xrightarrow{(3)} [16, 9, 4, 5].$$\n",
    "\n",
    "Let $S(n, m)$ be the sum of all numbers in the list after $m$ rounds.\n",
    "  \n",
    "  \n",
    "For example, $S(5, 3) = 16 + 9 + 4 + 5 = 34$. Also $S(10, 100) \\equiv 845339386 \\pmod{1234567891}$.\n",
    "\n",
    "Find $S(10^4, 10^{16})$. Give your answer modulo $1234567891$."
   ]
  },
  {
   "cell_type": "code",
   "execution_count": null,
   "id": "c0733745",
   "metadata": {},
   "outputs": [],
   "source": [
    "# Problem 822 workspace"
   ]
  },
  {
   "cell_type": "markdown",
   "id": "e7fd767d",
   "metadata": {},
   "source": [
    "## Answer: "
   ]
  },
  {
   "cell_type": "markdown",
   "id": "9d503499",
   "metadata": {},
   "source": [
    "___"
   ]
  },
  {
   "cell_type": "markdown",
   "id": "14fcf2dd",
   "metadata": {},
   "source": [
    "# Problem 823\n",
    " [Source](https://projecteuler.net/problem=823)"
   ]
  },
  {
   "cell_type": "markdown",
   "id": "7762f0c9",
   "metadata": {},
   "source": [
    "A list initially contains the numbers $2, 3, \\dots, n$.\n",
    "  \n",
    "At each round, every number in the list is divided by its smallest prime factor. Then the product of these smallest prime factors is added to the list as a new number. Finally, all numbers that become $1$ are removed from the list.\n",
    "\n",
    "For example, below are the first three rounds for $n = 5$:\n",
    "$$[2, 3, 4, 5] \\xrightarrow{(1)} [2, 60] \\xrightarrow{(2)} [30, 4] \\xrightarrow{(3)} [15, 2, 4].$$\n",
    "Let $S(n, m)$ be the sum of all numbers in the list after $m$ rounds.\n",
    "  \n",
    "For example, $S(5, 3) = 15 + 2 + 4 = 21$. Also $S(10, 100) = 257$.\n",
    "\n",
    "Find $S(10^4, 10^{16})$. Give your answer modulo $1234567891$."
   ]
  },
  {
   "cell_type": "code",
   "execution_count": null,
   "id": "35e05e69",
   "metadata": {},
   "outputs": [],
   "source": [
    "# Problem 823 workspace"
   ]
  },
  {
   "cell_type": "markdown",
   "id": "b4baa95f",
   "metadata": {},
   "source": [
    "## Answer: "
   ]
  },
  {
   "cell_type": "markdown",
   "id": "620703bb",
   "metadata": {},
   "source": [
    "___"
   ]
  },
  {
   "cell_type": "markdown",
   "id": "4b69ee04",
   "metadata": {},
   "source": [
    "# Problem 824\n",
    " [Source](https://projecteuler.net/problem=824)"
   ]
  },
  {
   "cell_type": "markdown",
   "id": "0960e071",
   "metadata": {},
   "source": [
    "A\n",
    "Slider\n",
    "is a chess piece that can move one square left or right.\n",
    "\n",
    "This problem uses a cylindrical chess board where the left hand edge of the board is connected to the right hand edge. This means that a Slider that is on the left hand edge of the chess board can move to the right hand edge of the same row and vice versa.\n",
    "\n",
    "Let $L(N,K)$ be the number of ways $K$ non-attacking Sliders can be placed on an $N \\times N$ cylindrical chess-board.\n",
    "\n",
    "For example, $L(2,2)=4$ and $L(6,12)=4204761$.\n",
    "\n",
    "Find $L(10^9,10^{15}) \\bmod \\left(10^7+19\\right)^2$."
   ]
  },
  {
   "cell_type": "code",
   "execution_count": null,
   "id": "a13c49e4",
   "metadata": {},
   "outputs": [],
   "source": [
    "# Problem 824 workspace"
   ]
  },
  {
   "cell_type": "markdown",
   "id": "84da0ada",
   "metadata": {},
   "source": [
    "## Answer: "
   ]
  },
  {
   "cell_type": "markdown",
   "id": "85ee6452",
   "metadata": {},
   "source": [
    "___"
   ]
  },
  {
   "cell_type": "markdown",
   "id": "9a0823d1",
   "metadata": {},
   "source": [
    "# Problem 825\n",
    " [Source](https://projecteuler.net/problem=825)"
   ]
  },
  {
   "cell_type": "markdown",
   "id": "8d2f4c12",
   "metadata": {},
   "source": [
    "Two cars are on a circular track of total length $2n$, facing the same direction, initially distance $n$ apart.\n",
    "  \n",
    "They move in turn. At each turn, the moving car will advance a distance of $1$, $2$ or $3$, with equal probabilities.\n",
    "  \n",
    "The chase ends when the moving car reaches or goes beyond the position of the other car. The moving car is declared the winner.\n",
    "\n",
    "Let $S(n)$ be the difference between the winning probabilities of the two cars.\n",
    "  \n",
    "For example, when $n = 2$, the winning probabilities of the two cars are $\\frac 9 {11}$ and $\\frac 2 {11}$, and thus $S(2) = \\frac 7 {11}$.\n",
    "\n",
    "Let $\\displaystyle T(N) = \\sum\\_{n = 2}^N S(n)$.\n",
    "\n",
    "You are given that $T(10) = 2.38235282$ rounded to 8 digits after the decimal point.\n",
    "\n",
    "Find $T(10^{14})$, rounded to 8 digits after the decimal point."
   ]
  },
  {
   "cell_type": "code",
   "execution_count": null,
   "id": "ed06c0dd",
   "metadata": {},
   "outputs": [],
   "source": [
    "# Problem 825 workspace"
   ]
  },
  {
   "cell_type": "markdown",
   "id": "8b3216c7",
   "metadata": {},
   "source": [
    "## Answer: "
   ]
  },
  {
   "cell_type": "markdown",
   "id": "b76e894f",
   "metadata": {},
   "source": [
    "___"
   ]
  },
  {
   "cell_type": "markdown",
   "id": "8009ca51",
   "metadata": {},
   "source": [
    "# Problem 826\n",
    " [Source](https://projecteuler.net/problem=826)"
   ]
  },
  {
   "cell_type": "markdown",
   "id": "e2483d5c",
   "metadata": {},
   "source": [
    "Consider a wire of length 1 unit between two posts. Every morning $n$ birds land on it randomly with every point on the wire equally likely to host a bird. The interval from each bird to its closest neighbour is then painted.\n",
    "\n",
    "Define $F(n)$ to be the expected length of the wire that is painted. You are given $F(3) = 0.5$.\n",
    "\n",
    "Find the average of $F(n)$ where $n$ ranges through all odd prime less than a million. Give your answer rounded to 10 places after the decimal point."
   ]
  },
  {
   "cell_type": "code",
   "execution_count": null,
   "id": "8c912483",
   "metadata": {},
   "outputs": [],
   "source": [
    "# Problem 826 workspace"
   ]
  },
  {
   "cell_type": "markdown",
   "id": "24533d08",
   "metadata": {},
   "source": [
    "## Answer: "
   ]
  },
  {
   "cell_type": "markdown",
   "id": "f414d467",
   "metadata": {},
   "source": [
    "___"
   ]
  },
  {
   "cell_type": "markdown",
   "id": "60a32444",
   "metadata": {},
   "source": [
    "# Problem 827\n",
    " [Source](https://projecteuler.net/problem=827)"
   ]
  },
  {
   "cell_type": "markdown",
   "id": "0cad33df",
   "metadata": {},
   "source": [
    "Define $Q(n)$ to be the smallest number that occurs in exactly $n$\n",
    "**Pythagorean triples**\n",
    "$(a,b,c)$ where $a \\lt b \\lt c$.\n",
    "\n",
    "For example, $15$ is the smallest number occurring in exactly $5$ Pythagorean triples:\n",
    "$$(9,12,\\mathbf{15})\\quad (8,\\mathbf{15},17)\\quad (\\mathbf{15},20,25)\\quad (\\mathbf{15},36,39)\\quad (\\mathbf{15},112,113)$$\n",
    "and so $Q(5) = 15$.\n",
    "\n",
    "You are also given $Q(10)=48$ and $Q(10^3)=8064000$.\n",
    "\n",
    "Find $\\displaystyle \\sum\\_{k=1}^{18} Q(10^k)$. Give your answer modulo $409120391$."
   ]
  },
  {
   "cell_type": "code",
   "execution_count": null,
   "id": "8371dae7",
   "metadata": {},
   "outputs": [],
   "source": [
    "# Problem 827 workspace"
   ]
  },
  {
   "cell_type": "markdown",
   "id": "7f11682e",
   "metadata": {},
   "source": [
    "## Answer: "
   ]
  },
  {
   "cell_type": "markdown",
   "id": "ff683d91",
   "metadata": {},
   "source": [
    "___"
   ]
  },
  {
   "cell_type": "markdown",
   "id": "4740dbf8",
   "metadata": {},
   "source": [
    "# Problem 828\n",
    " [Source](https://projecteuler.net/problem=828)"
   ]
  },
  {
   "cell_type": "markdown",
   "id": "4654c29a",
   "metadata": {},
   "source": [
    "It is a common recreational problem to make a target number using a selection of other numbers. In this problem you will be given six numbers and a target number.\n",
    "\n",
    "For example, given the six numbers $2$, $3$, $4$, $6$, $7$, $25$, and a target of $211$, one possible solution is:\n",
    "\n",
    "$$211 = (3+6)\\times 25 − (4\\times7)\\div 2$$\n",
    "\n",
    "This uses all six numbers. However, it is not necessary to do so. Another solution that does not use the $7$ is:\n",
    "\n",
    "$$211 = (25−2)\\times (6+3) + 4$$\n",
    "\n",
    "Define the\n",
    "*score*\n",
    "of a solution to be the sum of the numbers used. In the above example problem, the two given solutions have scores $47$ and $40$ respectively. It turns out that this problem has no solutions with score less than $40$.\n",
    "\n",
    "When combining numbers, the following rules must be observed:\n",
    "\n",
    "* Each available number may be used at most once.\n",
    "* Only the four basic arithmetic operations are permitted: $+$, $-$, $\\times$, $\\div$.\n",
    "* All intermediate values must be positive integers, so for example $(3\\div 2)$ is never permitted as a subexpression (even if the final answer is an integer).\n",
    "\n",
    "The attached file\n",
    "[number-challenges.txt](resources/documents/0828_number_challenges.txt)\n",
    "contains 200 problems, one per line in the format:\n",
    "\n",
    "211:2,3,4,6,7,25\n",
    "\n",
    "where the number before the colon is the target and the remaining comma-separated numbers are those available to be used.\n",
    "\n",
    "Numbering the problems 1, 2, ..., 200, we let $s\\_n$ be the minimum score of the solution to the $n$th problem. For example, $s\\_1=40$, as the first problem in the file is the example given above. Note that not all problems have a solution; in such cases we take $s\\_n=0$.\n",
    "\n",
    "Find $\\displaystyle\\sum\\_{n=1}^{200} 3^n s\\_n$. Give your answer modulo $1005075251$."
   ]
  },
  {
   "cell_type": "code",
   "execution_count": null,
   "id": "9ce0f87f",
   "metadata": {},
   "outputs": [],
   "source": [
    "# Problem 828 workspace"
   ]
  },
  {
   "cell_type": "markdown",
   "id": "7be4bc37",
   "metadata": {},
   "source": [
    "## Answer: "
   ]
  },
  {
   "cell_type": "markdown",
   "id": "69cf813e",
   "metadata": {},
   "source": [
    "___"
   ]
  },
  {
   "cell_type": "markdown",
   "id": "5978bc63",
   "metadata": {},
   "source": [
    "# Problem 829\n",
    " [Source](https://projecteuler.net/problem=829)"
   ]
  },
  {
   "cell_type": "markdown",
   "id": "3a6655a8",
   "metadata": {},
   "source": [
    "Given any integer $n \\gt 1$ a\n",
    "binary factor tree\n",
    "$T(n)$ is defined to be:\n",
    "\n",
    "* A tree with the single node $n$ when $n$ is prime.\n",
    "* A binary tree that has root node $n$, left subtree $T(a)$ and right subtree $T(b)$, when $n$ is not prime. Here $a$ and $b$ are positive integers such that $n = ab$, $a\\le b$ and $b-a$ is the smallest.\n",
    "\n",
    "For example $T(20)$:\n",
    "\n",
    "![0829_example1.jpg](resources/0829_example1.jpg)\n",
    "\n",
    "We define $M(n)$ to be the smallest number that has a factor tree identical in shape to the factor tree for $n!!$, the\n",
    "**double factorial**\n",
    "of $n$.\n",
    "\n",
    "For example, consider $9!! = 9\\times 7\\times 5\\times 3\\times 1 = 945$. The factor tree for $945$ is shown below together with the factor tree for $72$ which is the smallest number that has a factor tree of the same shape. Hence $M(9) = 72$.\n",
    "\n",
    "![0829_example2.jpg](resources/0829_example2.jpg)\n",
    "\n",
    "Find $\\displaystyle\\sum\\_{n=2}^{31} M(n)$."
   ]
  },
  {
   "cell_type": "code",
   "execution_count": null,
   "id": "aecdb99e",
   "metadata": {},
   "outputs": [],
   "source": [
    "# Problem 829 workspace"
   ]
  },
  {
   "cell_type": "markdown",
   "id": "8af6917b",
   "metadata": {},
   "source": [
    "## Answer: "
   ]
  },
  {
   "cell_type": "markdown",
   "id": "cb424beb",
   "metadata": {},
   "source": [
    "___"
   ]
  },
  {
   "cell_type": "markdown",
   "id": "ecfbf5fd",
   "metadata": {},
   "source": [
    "# Problem 830\n",
    " [Source](https://projecteuler.net/problem=830)"
   ]
  },
  {
   "cell_type": "markdown",
   "id": "fabed1de",
   "metadata": {},
   "source": [
    "Let $\\displaystyle S(n)=\\sum\\limits\\_{k=0}^{n}\\binom{n}{k}k^n$.\n",
    "\n",
    "You are given, $S(10)=142469423360$.\n",
    "\n",
    "Find $S(10^{18})$. Submit your answer modulo $83^3 89^3 97^3$."
   ]
  },
  {
   "cell_type": "code",
   "execution_count": null,
   "id": "8299b054",
   "metadata": {},
   "outputs": [],
   "source": [
    "# Problem 830 workspace"
   ]
  },
  {
   "cell_type": "markdown",
   "id": "072fbb3b",
   "metadata": {},
   "source": [
    "## Answer: "
   ]
  },
  {
   "cell_type": "markdown",
   "id": "b27abb5a",
   "metadata": {},
   "source": [
    "___"
   ]
  }
 ],
 "metadata": {},
 "nbformat": 4,
 "nbformat_minor": 5
}
