{
 "cells": [
  {
   "cell_type": "markdown",
   "id": "09d0dd85",
   "metadata": {},
   "source": [
    "# Problem 481\n",
    " [Source](https://projecteuler.net/problem=481)"
   ]
  },
  {
   "cell_type": "markdown",
   "id": "a5c9d47a",
   "metadata": {},
   "source": [
    "A group of chefs (numbered #$1$, #$2$, etc) participate in a turn-based strategic cooking competition. On each chef's turn, he/she cooks up a dish to the best of his/her ability and gives it to a separate panel of judges for taste-testing. Let $S(k)$ represent chef #$k$'s skill level (which is publicly known). More specifically, $S(k)$ is the probability that chef #$k$'s dish will be assessed favorably by the judges (on any/all turns). If the dish receives a favorable rating, then the chef must choose one other chef to be eliminated from the competition. The last chef remaining in the competition is the winner.\n",
    "\n",
    "The game always begins with chef #$1$, with the turn order iterating sequentially over the rest of the chefs still in play. Then the cycle repeats from the lowest-numbered chef. All chefs aim to optimize their chances of winning within the rules as stated, assuming that the other chefs behave in the same manner. In the event that a chef has more than one equally-optimal elimination choice, assume that the chosen chef is always the one with the next-closest turn.\n",
    "\n",
    "Define $W\\_n(k)$ as the probability that chef #$k$ wins in a competition with $n$ chefs. If we have $S(1) = 0.25$, $S(2) = 0.5$, and $S(3) = 1$, then $W\\_3(1) = 0.29375$.\n",
    "\n",
    "Going forward, we assign $S(k) = F\\_k/F\\_{n+1}$ over all $1 \\le k \\le n$, where $F\\_k$ is a Fibonacci number: $F\\_k = F\\_{k-1} + F\\_{k-2}$ with base cases $F\\_1 = F\\_2 = 1$. Then, for example, when considering a competition with $n = 7$ chefs, we have $W\\_7(1) = 0.08965042$, $W\\_7(2) = 0.20775702$, $W\\_7(3) = 0.15291406$, $W\\_7(4) = 0.14554098$, $W\\_7(5) = 0.15905291$, $W\\_7(6) = 0.10261412$, and $W\\_7(7) = 0.14247050$, rounded to $8$ decimal places each.\n",
    "\n",
    "Let $E(n)$ represent the expected number of dishes cooked in a competition with $n$ chefs. For instance, $E(7) = 42.28176050$.\n",
    "\n",
    "Find $E(14)$ rounded to $8$ decimal places."
   ]
  },
  {
   "cell_type": "code",
   "execution_count": null,
   "id": "3dbe3b06",
   "metadata": {},
   "outputs": [],
   "source": [
    "# Problem 481 workspace"
   ]
  },
  {
   "cell_type": "markdown",
   "id": "48b96c81",
   "metadata": {},
   "source": [
    "## Answer: "
   ]
  },
  {
   "cell_type": "markdown",
   "id": "7d6abd50",
   "metadata": {},
   "source": [
    "___"
   ]
  },
  {
   "cell_type": "markdown",
   "id": "5b23841f",
   "metadata": {},
   "source": [
    "# Problem 482\n",
    " [Source](https://projecteuler.net/problem=482)"
   ]
  },
  {
   "cell_type": "markdown",
   "id": "db5f8f5d",
   "metadata": {},
   "source": [
    "$ABC$ is an integer sided triangle with incenter $I$ and perimeter $p$.\n",
    "  \n",
    "The segments $IA$, $IB$ and $IC$ have integral length as well.\n",
    "\n",
    "Let $L = p + |IA| + |IB| + |IC|$.\n",
    "\n",
    "Let $S(P) = \\sum L$ for all such triangles where $p \\le P$. For example, $S(10^3) = 3619$.\n",
    "\n",
    "Find $S(10^7)$."
   ]
  },
  {
   "cell_type": "code",
   "execution_count": null,
   "id": "f5c18a38",
   "metadata": {},
   "outputs": [],
   "source": [
    "# Problem 482 workspace"
   ]
  },
  {
   "cell_type": "markdown",
   "id": "d54ecf8c",
   "metadata": {},
   "source": [
    "## Answer: "
   ]
  },
  {
   "cell_type": "markdown",
   "id": "3f626f20",
   "metadata": {},
   "source": [
    "___"
   ]
  },
  {
   "cell_type": "markdown",
   "id": "65d29a63",
   "metadata": {},
   "source": [
    "# Problem 483\n",
    " [Source](https://projecteuler.net/problem=483)"
   ]
  },
  {
   "cell_type": "markdown",
   "id": "2dd5cf9f",
   "metadata": {},
   "source": [
    "We define a\n",
    "permutation\n",
    "as an operation that rearranges the order of the elements $\\{1, 2, 3, ..., n\\}$.\n",
    "There are $n!$ such permutations, one of which leaves the elements in their initial order.\n",
    "For $n = 3$ we have $3! = 6$ permutations:\n",
    "\n",
    "* $P\\_1 =$ keep the initial order\n",
    "* $P\\_2 =$ exchange the 1\n",
    "  st\n",
    "  and 2\n",
    "  nd\n",
    "  elements\n",
    "* $P\\_3 =$ exchange the 1\n",
    "  st\n",
    "  and 3\n",
    "  rd\n",
    "  elements\n",
    "* $P\\_4 =$ exchange the 2\n",
    "  nd\n",
    "  and 3\n",
    "  rd\n",
    "  elements\n",
    "* $P\\_5 =$ rotate the elements to the right\n",
    "* $P\\_6 =$ rotate the elements to the left\n",
    "\n",
    "If we select one of these permutations, and we re-apply the\n",
    "same\n",
    "permutation repeatedly, we eventually restore the initial order.\n",
    "  \n",
    "For a permutation $P\\_i$, let $f(P\\_i)$ be the number of steps required to restore the initial order by applying the permutation $P\\_i$ repeatedly.\n",
    "  \n",
    "For $n = 3$, we obtain:\n",
    "\n",
    "* $f(P\\_1) = 1$ : $(1,2,3) \\to (1,2,3)$\n",
    "* $f(P\\_2) = 2$ : $(1,2,3) \\to (2,1,3) \\to (1,2,3)$\n",
    "* $f(P\\_3) = 2$ : $(1,2,3) \\to (3,2,1) \\to (1,2,3)$\n",
    "* $f(P\\_4) = 2$ : $(1,2,3) \\to (1,3,2) \\to (1,2,3)$\n",
    "* $f(P\\_5) = 3$ : $(1,2,3) \\to (3,1,2) \\to (2,3,1) \\to (1,2,3)$\n",
    "* $f(P\\_6) = 3$ : $(1,2,3) \\to (2,3,1) \\to (3,1,2) \\to (1,2,3)$\n",
    "\n",
    "Let $g(n)$ be the average value of $f^2(P\\_i)$ over all permutations $P\\_i$ of length $n$.\n",
    "  \n",
    "$g(3) = (1^2 + 2^2 + 2^2 + 2^2 + 3^2 + 3^2)/3! = 31/6 \\approx 5.166666667\\mathrm e0$\n",
    "  \n",
    "$g(5) = 2081/120 \\approx 1.734166667\\mathrm e1$\n",
    "  \n",
    "$g(20) = 12422728886023769167301/2432902008176640000 \\approx 5.106136147\\mathrm e3$\n",
    "\n",
    "Find $g(350)$ and write the answer in scientific notation rounded to $10$ significant digits, using a lowercase e to separate mantissa and exponent, as in the examples above."
   ]
  },
  {
   "cell_type": "code",
   "execution_count": null,
   "id": "d464f949",
   "metadata": {},
   "outputs": [],
   "source": [
    "# Problem 483 workspace"
   ]
  },
  {
   "cell_type": "markdown",
   "id": "81822405",
   "metadata": {},
   "source": [
    "## Answer: "
   ]
  },
  {
   "cell_type": "markdown",
   "id": "5ae29466",
   "metadata": {},
   "source": [
    "___"
   ]
  },
  {
   "cell_type": "markdown",
   "id": "3efdb596",
   "metadata": {},
   "source": [
    "# Problem 484\n",
    " [Source](https://projecteuler.net/problem=484)"
   ]
  },
  {
   "cell_type": "markdown",
   "id": "46f8ed6f",
   "metadata": {},
   "source": [
    "The\n",
    "**arithmetic derivative**\n",
    "is defined by\n",
    "\n",
    "* $p^\\prime = 1$ for any prime $p$\n",
    "* $(ab)^\\prime = a^\\prime b + ab^\\prime$ for all integers $a, b$ (Leibniz rule)\n",
    "\n",
    "For example, $20^\\prime = 24$.\n",
    "\n",
    "Find $\\sum \\operatorname{\\mathbf{gcd}}(k,k^\\prime)$ for $1 \\lt k \\le 5 \\times 10^{15}$.\n",
    "\n",
    "Note: $\\operatorname{\\mathbf{gcd}}(x,y)$ denotes the greatest common divisor of $x$ and $y$."
   ]
  },
  {
   "cell_type": "code",
   "execution_count": null,
   "id": "a9bd5252",
   "metadata": {},
   "outputs": [],
   "source": [
    "# Problem 484 workspace"
   ]
  },
  {
   "cell_type": "markdown",
   "id": "109d3d14",
   "metadata": {},
   "source": [
    "## Answer: "
   ]
  },
  {
   "cell_type": "markdown",
   "id": "459c9cb5",
   "metadata": {},
   "source": [
    "___"
   ]
  },
  {
   "cell_type": "markdown",
   "id": "b5d4a428",
   "metadata": {},
   "source": [
    "# Problem 485\n",
    " [Source](https://projecteuler.net/problem=485)"
   ]
  },
  {
   "cell_type": "markdown",
   "id": "0012f9e6",
   "metadata": {},
   "source": [
    "Let $d(n)$ be the number of divisors of $n$.\n",
    "  \n",
    "Let $M(n,k)$ be the maximum value of $d(j)$ for $n \\le j \\le n+k-1$.\n",
    "  \n",
    "Let $S(u,k)$ be the sum of $M(n,k)$ for $1 \\le n \\le u-k+1$.\n",
    "\n",
    "You are given that $S(1000,10)=17176$.\n",
    "\n",
    "Find $S(100\\,000\\,000, 100\\,000)$."
   ]
  },
  {
   "cell_type": "code",
   "execution_count": null,
   "id": "664e09a4",
   "metadata": {},
   "outputs": [],
   "source": [
    "# Problem 485 workspace"
   ]
  },
  {
   "cell_type": "markdown",
   "id": "25456c80",
   "metadata": {},
   "source": [
    "## Answer: "
   ]
  },
  {
   "cell_type": "markdown",
   "id": "2ac5d591",
   "metadata": {},
   "source": [
    "___"
   ]
  },
  {
   "cell_type": "markdown",
   "id": "9aae3dae",
   "metadata": {},
   "source": [
    "# Problem 486\n",
    " [Source](https://projecteuler.net/problem=486)"
   ]
  },
  {
   "cell_type": "markdown",
   "id": "35e4d199",
   "metadata": {},
   "source": [
    "Let $F\\_5(n)$ be the number of strings $s$ such that:\n",
    "\n",
    "* $s$ consists only of '0's and '1's,\n",
    "* $s$ has length at most $n$, and\n",
    "* $s$ contains a palindromic substring of length at least $5$.\n",
    "\n",
    "For example, $F\\_5(4) = 0$, $F\\_5(5) = 8$,\n",
    "$F\\_5(6) = 42$ and $F\\_5(11) = 3844$.\n",
    "\n",
    "Let $D(L)$ be the number of integers $n$ such that $5 \\le n \\le L$ and $F\\_5(n)$ is divisible by $87654321$.\n",
    "\n",
    "For example, $D(10^7) = 0$ and $D(5 \\cdot 10^9) = 51$.\n",
    "\n",
    "Find $D(10^{18})$."
   ]
  },
  {
   "cell_type": "code",
   "execution_count": null,
   "id": "5d0f38ae",
   "metadata": {},
   "outputs": [],
   "source": [
    "# Problem 486 workspace"
   ]
  },
  {
   "cell_type": "markdown",
   "id": "1b351cf5",
   "metadata": {},
   "source": [
    "## Answer: "
   ]
  },
  {
   "cell_type": "markdown",
   "id": "88e57c66",
   "metadata": {},
   "source": [
    "___"
   ]
  },
  {
   "cell_type": "markdown",
   "id": "da23d4cf",
   "metadata": {},
   "source": [
    "# Problem 487\n",
    " [Source](https://projecteuler.net/problem=487)"
   ]
  },
  {
   "cell_type": "markdown",
   "id": "8ede7d5d",
   "metadata": {},
   "source": [
    "Let $f\\_k(n)$ be the sum of the $k$\n",
    "th\n",
    "powers of the first $n$ positive integers.\n",
    "\n",
    "For example, $f\\_2(10) = 1^2 + 2^2 + 3^2 + 4^2 + 5^2 + 6^2 + 7^2 + 8^2 + 9^2 + 10^2 = 385$.\n",
    "\n",
    "Let $S\\_k(n)$ be the sum of $f\\_k(i)$ for $1 \\le i \\le n$. For example, $S\\_4(100) = 35375333830$.\n",
    "\n",
    "What is $\\sum (S\\_{10000}(10^{12}) \\bmod p)$ over all primes $p$ between $2 \\cdot 10^9$ and $2 \\cdot 10^9 + 2000$?"
   ]
  },
  {
   "cell_type": "code",
   "execution_count": null,
   "id": "dec81501",
   "metadata": {},
   "outputs": [],
   "source": [
    "# Problem 487 workspace"
   ]
  },
  {
   "cell_type": "markdown",
   "id": "848e8541",
   "metadata": {},
   "source": [
    "## Answer: "
   ]
  },
  {
   "cell_type": "markdown",
   "id": "a9498f86",
   "metadata": {},
   "source": [
    "___"
   ]
  },
  {
   "cell_type": "markdown",
   "id": "19c844f0",
   "metadata": {},
   "source": [
    "# Problem 488\n",
    " [Source](https://projecteuler.net/problem=488)"
   ]
  },
  {
   "cell_type": "markdown",
   "id": "d85cfa8f",
   "metadata": {},
   "source": [
    "Alice and Bob have enjoyed playing\n",
    "**Nim**\n",
    "every day. However, they finally got bored of playing ordinary three-heap Nim.\n",
    "  \n",
    "So, they added an extra rule:\n",
    "\n",
    "- Must not make two heaps of the same size.\n",
    "\n",
    "The triple $(a, b, c)$ indicates the size of three heaps.\n",
    "  \n",
    "Under this extra rule, $(2,4,5)$ is one of the losing positions for the next player.\n",
    "\n",
    "To illustrate:\n",
    "  \n",
    "- Alice moves to $(2,4,3)$\n",
    "  \n",
    "- Bob moves to $(0,4,3)$\n",
    "  \n",
    "- Alice moves to $(0,2,3)$\n",
    "  \n",
    "- Bob moves to $(0,2,1)$\n",
    "\n",
    "Unlike ordinary three-heap Nim, $(0,1,2)$ and its permutations are the end states of this game.\n",
    "\n",
    "For an integer $N$, we define $F(N)$ as the sum of $a + b + c$ for all the losing positions for the next player, with $0 \\lt a \\lt b \\lt c \\lt N$.\n",
    "\n",
    "For example, $F(8) = 42$, because there are $4$ losing positions for the next player, $(1,3,5)$, $(1,4,6)$, $(2,3,6)$ and $(2,4,5)$.\n",
    "  \n",
    "We can also verify that $F(128) = 496062$.\n",
    "\n",
    "Find the last $9$ digits of $F(10^{18})$."
   ]
  },
  {
   "cell_type": "code",
   "execution_count": null,
   "id": "ccd0d963",
   "metadata": {},
   "outputs": [],
   "source": [
    "# Problem 488 workspace"
   ]
  },
  {
   "cell_type": "markdown",
   "id": "3c7ceaaa",
   "metadata": {},
   "source": [
    "## Answer: "
   ]
  },
  {
   "cell_type": "markdown",
   "id": "7ebd3b92",
   "metadata": {},
   "source": [
    "___"
   ]
  },
  {
   "cell_type": "markdown",
   "id": "4daecc3b",
   "metadata": {},
   "source": [
    "# Problem 489\n",
    " [Source](https://projecteuler.net/problem=489)"
   ]
  },
  {
   "cell_type": "markdown",
   "id": "b5bf539d",
   "metadata": {},
   "source": [
    "Let $G(a, b)$ be the smallest non-negative integer $n$ for which\n",
    "**$\\operatorname{\\mathbf{gcd}}$\n",
    "Greatest common divisor**\n",
    "$(n^3 + b, (n + a)^3 + b)$ is maximized.\n",
    "  \n",
    "For example, $G(1, 1) = 5$ because $\\gcd(n^3 + 1, (n + 1)^3 + 1)$ reaches its maximum value of $7$ for $n = 5$, and is smaller for $0 \\le n \\lt 5$.\n",
    "  \n",
    "Let $H(m, n) = \\sum G(a, b)$ for $1 \\le a \\le m$, $1 \\le b \\le n$.\n",
    "  \n",
    "You are given $H(5, 5) = 128878$ and $H(10, 10) = 32936544$.\n",
    "\n",
    "Find $H(18, 1900)$."
   ]
  },
  {
   "cell_type": "code",
   "execution_count": null,
   "id": "22ea42c4",
   "metadata": {},
   "outputs": [],
   "source": [
    "# Problem 489 workspace"
   ]
  },
  {
   "cell_type": "markdown",
   "id": "d40ab803",
   "metadata": {},
   "source": [
    "## Answer: "
   ]
  },
  {
   "cell_type": "markdown",
   "id": "65cace3a",
   "metadata": {},
   "source": [
    "___"
   ]
  },
  {
   "cell_type": "markdown",
   "id": "94bbea5d",
   "metadata": {},
   "source": [
    "# Problem 490\n",
    " [Source](https://projecteuler.net/problem=490)"
   ]
  },
  {
   "cell_type": "markdown",
   "id": "649468c0",
   "metadata": {},
   "source": [
    "There are $n$ stones in a pond, numbered $1$ to $n$. Consecutive stones are spaced one unit apart.\n",
    "\n",
    "A frog sits on stone $1$. He wishes to visit each stone exactly once, stopping on stone $n$. However, he can only jump from one stone to another if they are at most $3$ units apart. In other words, from stone $i$, he can reach a stone $j$ if $1 \\le j \\le n$ and $j$ is in the set $\\{i-3, i-2, i-1, i+1, i+2, i+3\\}$.\n",
    "\n",
    "Let $f(n)$ be the number of ways he can do this. For example, $f(6) = 14$, as shown below:\n",
    "  \n",
    "$1 \\to 2 \\to 3 \\to 4 \\to 5 \\to 6$\n",
    "  \n",
    "$1 \\to 2 \\to 3 \\to 5 \\to 4 \\to 6$\n",
    "  \n",
    "$1 \\to 2 \\to 4 \\to 3 \\to 5 \\to 6$\n",
    "  \n",
    "$1 \\to 2 \\to 4 \\to 5 \\to 3 \\to 6$\n",
    "  \n",
    "$1 \\to 2 \\to 5 \\to 3 \\to 4 \\to 6$\n",
    "  \n",
    "$1 \\to 2 \\to 5 \\to 4 \\to 3 \\to 6$\n",
    "  \n",
    "$1 \\to 3 \\to 2 \\to 4 \\to 5 \\to 6$\n",
    "  \n",
    "$1 \\to 3 \\to 2 \\to 5 \\to 4 \\to 6$\n",
    "  \n",
    "$1 \\to 3 \\to 4 \\to 2 \\to 5 \\to 6$\n",
    "  \n",
    "$1 \\to 3 \\to 5 \\to 2 \\to 4 \\to 6$\n",
    "  \n",
    "$1 \\to 4 \\to 2 \\to 3 \\to 5 \\to 6$\n",
    "  \n",
    "$1 \\to 4 \\to 2 \\to 5 \\to 3 \\to 6$\n",
    "  \n",
    "$1 \\to 4 \\to 3 \\to 2 \\to 5 \\to 6$\n",
    "  \n",
    "$1 \\to 4 \\to 5 \\to 2 \\to 3 \\to 6$\n",
    "\n",
    "Other examples are $f(10) = 254$ and $f(40) = 1439682432976$.\n",
    "\n",
    "Let $S(L) = \\sum f(n)^3$ for $1 \\le n \\le L$.\n",
    "  \n",
    "Examples:\n",
    "  \n",
    "$S(10) = 18230635$\n",
    "  \n",
    "$S(20) = 104207881192114219$\n",
    "  \n",
    "$S(1\\,000) \\bmod 10^9 = 225031475$\n",
    "  \n",
    "$S(1\\,000\\,000) \\bmod 10^9 = 363486179$\n",
    "\n",
    "Find $S(10^{14}) \\bmod 10^9$."
   ]
  },
  {
   "cell_type": "code",
   "execution_count": null,
   "id": "7de5baa3",
   "metadata": {},
   "outputs": [],
   "source": [
    "# Problem 490 workspace"
   ]
  },
  {
   "cell_type": "markdown",
   "id": "9c91a140",
   "metadata": {},
   "source": [
    "## Answer: "
   ]
  },
  {
   "cell_type": "markdown",
   "id": "89375502",
   "metadata": {},
   "source": [
    "___"
   ]
  }
 ],
 "metadata": {},
 "nbformat": 4,
 "nbformat_minor": 5
}
