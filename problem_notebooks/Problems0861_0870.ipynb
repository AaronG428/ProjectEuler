{
 "cells": [
  {
   "cell_type": "markdown",
   "id": "6438d50e",
   "metadata": {},
   "source": [
    "# Problem 861\n",
    " [Source](https://projecteuler.net/problem=861)"
   ]
  },
  {
   "cell_type": "markdown",
   "id": "bfbb1c6e",
   "metadata": {},
   "source": [
    "A\n",
    "*unitary divisor*\n",
    "of a positive integer $n$ is a divisor $d$ of $n$ such that $\\gcd\\left(d,\\frac{n}{d}\\right)=1$.\n",
    "\n",
    "A\n",
    "*bi-unitary divisor*\n",
    "of $n$ is a divisor $d$ for which $1$ is the only unitary divisor of $d$ that is also a unitary divisor of $\\frac{n}{d}$.\n",
    "\n",
    "For example, $2$ is a bi-unitary divisor of $8$, because the unitary divisors of $2$ are $\\{1,2\\}$, and the unitary divisors of $8/2$ are $\\{1,4\\}$, with $1$ being the only unitary divisor in common.\n",
    "\n",
    "The bi-unitary divisors of $240$ are $\\{1,2,3,5,6,8,10,15,16,24,30,40,48,80,120,240\\}$.\n",
    "\n",
    "Let $P(n)$ be the product of all bi-unitary divisors of $n$. Define $Q\\_k(N)$ as the number of positive integers $1 \\lt n \\leq N$ such that $P(n)=n^k$. For example, $Q\\_2\\left(10^2\\right)=51$ and $Q\\_6\\left(10^6\\right)=6189$.\n",
    "\n",
    "Find $\\sum\\_{k=2}^{10}Q\\_k\\left(10^{12}\\right)$."
   ]
  },
  {
   "cell_type": "code",
   "execution_count": null,
   "id": "f9aef754",
   "metadata": {},
   "outputs": [],
   "source": [
    "# Problem 861 workspace"
   ]
  },
  {
   "cell_type": "markdown",
   "id": "9e632230",
   "metadata": {},
   "source": [
    "## Answer: "
   ]
  },
  {
   "cell_type": "markdown",
   "id": "0ea8a7d4",
   "metadata": {},
   "source": [
    "___"
   ]
  },
  {
   "cell_type": "markdown",
   "id": "1f58d400",
   "metadata": {},
   "source": [
    "# Problem 862\n",
    " [Source](https://projecteuler.net/problem=862)"
   ]
  },
  {
   "cell_type": "markdown",
   "id": "4b1ac2fa",
   "metadata": {},
   "source": [
    "For a positive integer $n$ define $T(n)$ to be the number of strictly larger integers which can be formed by permuting the digits of $n$.\n",
    "\n",
    "Leading zeros are not allowed and so for $n = 2302$ the total list of permutations would be:\n",
    "\n",
    "$2023,2032,2203,2230,\\mathbf{2302},2320,3022,32 02,3220$\n",
    "\n",
    "giving $T(2302)=4$.\n",
    "\n",
    "Further define $S(k)$ to be the sum of $T(n)$ for all $k$-digit numbers $n$. You are given $S(3) = 1701$.\n",
    "\n",
    "Find $S(12)$."
   ]
  },
  {
   "cell_type": "code",
   "execution_count": null,
   "id": "c86afb76",
   "metadata": {},
   "outputs": [],
   "source": [
    "# Problem 862 workspace"
   ]
  },
  {
   "cell_type": "markdown",
   "id": "94f006c9",
   "metadata": {},
   "source": [
    "## Answer: "
   ]
  },
  {
   "cell_type": "markdown",
   "id": "c7189b84",
   "metadata": {},
   "source": [
    "___"
   ]
  },
  {
   "cell_type": "markdown",
   "id": "eb15875d",
   "metadata": {},
   "source": [
    "# Problem 863\n",
    " [Source](https://projecteuler.net/problem=863)"
   ]
  },
  {
   "cell_type": "markdown",
   "id": "5f61c71c",
   "metadata": {},
   "source": [
    "Using only a six-sided fair dice and a five-sided fair dice, we would like to emulate an $n$-sided fair dice.\n",
    "\n",
    "For example, one way to emulate a 28-sided dice is to follow this procedure:\n",
    "\n",
    "1. Roll both dice, obtaining integers $1\\le p\\le 6$ and $1\\le q\\le 5$.\n",
    "2. Combine them using $r = 5(p-1) + q$ to obtain an integer $1\\le r\\le 30$.\n",
    "3. If $r\\le 28$, return the value $r$ and stop.\n",
    "4. Otherwise ($r$ being 29 or 30), roll both dice again, obtaining integers $1\\le s\\le 6$ and $1\\le t\\le 5$.\n",
    "5. Compute $u = 30(r-29) + 5(s-1) + t$ to obtain an integer $1\\le u\\le 60$.\n",
    "6. If $u>4$, return the value $((u-5)\\bmod 28) + 1$ and stop.\n",
    "7. Otherwise (with $1\\le u\\le 4$), roll the six-sided dice twice, obtaining integers $1\\le v\\le 6$ and $1\\le w\\le 6$.\n",
    "8. Compute $x = 36(u-1) + 6(v-1) + w$ to obtain an integer $1\\le x\\le 144$.\n",
    "9. If $x>4$, return the value $((x-5)\\bmod 28) + 1$ and stop.\n",
    "10. Otherwise (with $1\\le x\\le 4$), assign $u:=x$ and go back to step 7.\n",
    "\n",
    "The expected number of dice rolls in following this procedure is 2.142476 (rounded to 6 decimal places). Note that rolling both dice at the same time is still counted as two dice rolls.\n",
    "\n",
    "There exist other more complex procedures for emulating a 28-sided dice that entail a smaller average number of dice rolls. However, the above procedure has the attractive property that the sequence of dice rolled is predetermined: regardless of the outcome, it follows (D5,D6,D5,D6,D6,D6,D6,...), truncated wherever the process stops. In fact, amongst procedures for $n=28$ with this restriction, this one is optimal in the sense of minimising the expected number of rolls needed.\n",
    "\n",
    "Different values of $n$ will in general use different predetermined sequences. For example, for $n=8$, the sequence (D5,D5,D5,...) gives an optimal procedure, taking 2.083333... dice rolls on average.\n",
    "\n",
    "Define $R(n)$ to be the expected number of dice rolls for an optimal procedure for emulating an $n$-sided dice using only a five-sided and a six-sided dice, considering only those procedures where the sequence of dice rolled is predetermined. So, $R(8) \\approx 2.083333$ and $R(28) \\approx 2.142476$.\n",
    "\n",
    "Let $S(n) = \\displaystyle\\sum\\_{k=2}^n R(k)$. You are given that $S(30) \\approx 56.054622$.\n",
    "\n",
    "Find $S(1000)$. Give your answer rounded to 6 decimal places."
   ]
  },
  {
   "cell_type": "code",
   "execution_count": null,
   "id": "293d936e",
   "metadata": {},
   "outputs": [],
   "source": [
    "# Problem 863 workspace"
   ]
  },
  {
   "cell_type": "markdown",
   "id": "2eed487e",
   "metadata": {},
   "source": [
    "## Answer: "
   ]
  },
  {
   "cell_type": "markdown",
   "id": "e1e89c26",
   "metadata": {},
   "source": [
    "___"
   ]
  },
  {
   "cell_type": "markdown",
   "id": "f563eefa",
   "metadata": {},
   "source": [
    "# Problem 864\n",
    " [Source](https://projecteuler.net/problem=864)"
   ]
  },
  {
   "cell_type": "markdown",
   "id": "26f16d33",
   "metadata": {},
   "source": [
    "Let $C(n)$ be the number of squarefree integers of the form $x^2 + 1$ such that $1 \\le x \\le n$.\n",
    "\n",
    "For example, $C(10) = 9$ and $C(1000) = 895$.\n",
    "\n",
    "Find $C(123567101113)$."
   ]
  },
  {
   "cell_type": "code",
   "execution_count": null,
   "id": "f8a3514d",
   "metadata": {},
   "outputs": [],
   "source": [
    "# Problem 864 workspace"
   ]
  },
  {
   "cell_type": "markdown",
   "id": "2d710efc",
   "metadata": {},
   "source": [
    "## Answer: "
   ]
  },
  {
   "cell_type": "markdown",
   "id": "825849f1",
   "metadata": {},
   "source": [
    "___"
   ]
  },
  {
   "cell_type": "markdown",
   "id": "2c7bf452",
   "metadata": {},
   "source": [
    "# Problem 865\n",
    " [Source](https://projecteuler.net/problem=865)"
   ]
  },
  {
   "cell_type": "markdown",
   "id": "ce701ab4",
   "metadata": {},
   "source": [
    "A\n",
    "triplicate number\n",
    "is a positive integer such that, after repeatedly removing three consecutive identical digits from it, all its digits can be removed.\n",
    "\n",
    "For example, the integer $122555211$ is a triplicate number:\n",
    "$$122{\\color{red}555}211 \\rightarrow 1{\\color{red}222}11\\rightarrow{\\color{red}111}\\rightarrow.$$\n",
    "On the other hand, neither $663633$ nor $9990$ are triplicate numbers.\n",
    "\n",
    "Let $T(n)$ be how many triplicate numbers are less than $10^n$.\n",
    "\n",
    "For example, $T(6) = 261$ and $T(30) = 5576195181577716$.\n",
    "\n",
    "Find $T(10^4)$. Give your answer modulo $998244353$."
   ]
  },
  {
   "cell_type": "code",
   "execution_count": null,
   "id": "72ae62ab",
   "metadata": {},
   "outputs": [],
   "source": [
    "# Problem 865 workspace"
   ]
  },
  {
   "cell_type": "markdown",
   "id": "97f25d37",
   "metadata": {},
   "source": [
    "## Answer: "
   ]
  },
  {
   "cell_type": "markdown",
   "id": "3745809d",
   "metadata": {},
   "source": [
    "___"
   ]
  },
  {
   "cell_type": "markdown",
   "id": "0b128892",
   "metadata": {},
   "source": [
    "# Problem 866\n",
    " [Source](https://projecteuler.net/problem=866)"
   ]
  },
  {
   "cell_type": "markdown",
   "id": "c2452cfc",
   "metadata": {},
   "source": [
    "A small child has a “number caterpillar” consisting of $N$ jigsaw pieces, each with one number on it, which, when connected together in a line, reveal the numbers $1$ to $N$ in order.\n",
    "\n",
    "Every night, the child's father has to pick up the pieces of the caterpillar that have been scattered across the play room. He picks up the pieces at random and places them in the correct order.\n",
    "  \n",
    "As the caterpillar is built up in this way, it forms distinct segments that gradually merge together.\n",
    "\n",
    "Any time the father places a new piece in its correct position, a segment of length $k$ is formed and he writes down the $k$\n",
    "th\n",
    "hexagonal number $k\\cdot(2k-1)$. Once all pieces have been placed and the full caterpillar constructed he calculates the product of all the numbers written down. Interestingly, the expected value of this product is always an integer. For example if $N=4$ then the expected value is $994$.\n",
    "\n",
    "Find the expected value of the product for a caterpillar of $N=100$ pieces.\n",
    "Give your answer modulo $987654319$."
   ]
  },
  {
   "cell_type": "code",
   "execution_count": null,
   "id": "393fdef6",
   "metadata": {},
   "outputs": [],
   "source": [
    "# Problem 866 workspace"
   ]
  },
  {
   "cell_type": "markdown",
   "id": "4bcdf4d6",
   "metadata": {},
   "source": [
    "## Answer: "
   ]
  },
  {
   "cell_type": "markdown",
   "id": "f7859dcd",
   "metadata": {},
   "source": [
    "___"
   ]
  },
  {
   "cell_type": "markdown",
   "id": "6b60f7f9",
   "metadata": {},
   "source": [
    "# Problem 867\n",
    " [Source](https://projecteuler.net/problem=867)"
   ]
  },
  {
   "cell_type": "markdown",
   "id": "adfd0fa0",
   "metadata": {},
   "source": [
    "There are $5$ ways to tile a regular dodecagon of side $1$ with regular polygons of side $1$.\n",
    "\n",
    "![0867_DodecaDiagram.jpg](resources/0867_DodecaDiagram.jpg)\n",
    "\n",
    "Let $T(n)$ be the number of ways to tile a regular dodecagon of side $n$ with regular polygons of side $1$. Then $T(1) = 5$. You are also given $T(2) = 48$.\n",
    "\n",
    "Find $T(10)$. Give your answer modulo $10^9+7$."
   ]
  },
  {
   "cell_type": "code",
   "execution_count": null,
   "id": "b102b344",
   "metadata": {},
   "outputs": [],
   "source": [
    "# Problem 867 workspace"
   ]
  },
  {
   "cell_type": "markdown",
   "id": "fed534ab",
   "metadata": {},
   "source": [
    "## Answer: "
   ]
  },
  {
   "cell_type": "markdown",
   "id": "9bcd8ad5",
   "metadata": {},
   "source": [
    "___"
   ]
  },
  {
   "cell_type": "markdown",
   "id": "6b453945",
   "metadata": {},
   "source": [
    "# Problem 868\n",
    " [Source](https://projecteuler.net/problem=868)"
   ]
  },
  {
   "cell_type": "markdown",
   "id": "abb4be89",
   "metadata": {},
   "source": [
    "There is a method that is used by Bell ringers to generate all variations of the order that bells are rung.\n",
    "\n",
    "The same method can be used to create all permutations of a set of letters. Consider the letters to be permuted initially in order from smallest to largest. At each step swap the largest letter with the letter on its left or right whichever generates a permutation that has not yet been seen. If neither gives a new permutation then try the next largest letter and so on. This procedure continues until all permutations have been generated.\n",
    "\n",
    "For example, $3$ swaps are required to reach the permutation CBA when starting with ABC.\n",
    "  \n",
    "The swaps are ABC $\\to$ ACB $\\to$ CAB $\\to$ CBA.\n",
    "  \n",
    "Also $59$ swaps are required to reach BELFRY when starting with these letters in alphabetical order.\n",
    "\n",
    "Find the number of swaps that are required to reach NOWPICKBELFRYMATHS when starting with these letters in alphabetical order."
   ]
  },
  {
   "cell_type": "code",
   "execution_count": null,
   "id": "6fe983e9",
   "metadata": {},
   "outputs": [],
   "source": [
    "# Problem 868 workspace"
   ]
  },
  {
   "cell_type": "markdown",
   "id": "759d363f",
   "metadata": {},
   "source": [
    "## Answer: "
   ]
  },
  {
   "cell_type": "markdown",
   "id": "c56349d6",
   "metadata": {},
   "source": [
    "___"
   ]
  },
  {
   "cell_type": "markdown",
   "id": "8acb35e1",
   "metadata": {},
   "source": [
    "# Problem 869\n",
    " [Source](https://projecteuler.net/problem=869)"
   ]
  },
  {
   "cell_type": "markdown",
   "id": "cea60c81",
   "metadata": {},
   "source": [
    "A prime is drawn uniformly from all primes not exceeding $N$. The prime is written in binary notation, and a player tries to guess it bit-by-bit starting at the least significant bit. The player scores one point for each bit they guess correctly. Immediately after each guess, the player is informed whether their guess was correct, and also whether it was the last bit in the number - in which case the game is over.\n",
    "\n",
    "Let $E(N)$ be the expected number of points assuming that the player always guesses to maximize their score. For example, $E(10)=2$, achievable by always guessing \"1\". You are also given $E(30)=2.9$.\n",
    "\n",
    "Find $E(10^8)$. Give your answer rounded to eight digits after the decimal point."
   ]
  },
  {
   "cell_type": "code",
   "execution_count": null,
   "id": "2bf94e98",
   "metadata": {},
   "outputs": [],
   "source": [
    "# Problem 869 workspace"
   ]
  },
  {
   "cell_type": "markdown",
   "id": "bb729ff1",
   "metadata": {},
   "source": [
    "## Answer: "
   ]
  },
  {
   "cell_type": "markdown",
   "id": "03628167",
   "metadata": {},
   "source": [
    "___"
   ]
  },
  {
   "cell_type": "markdown",
   "id": "294288ba",
   "metadata": {},
   "source": [
    "# Problem 870\n",
    " [Source](https://projecteuler.net/problem=870)"
   ]
  },
  {
   "cell_type": "markdown",
   "id": "021568cd",
   "metadata": {},
   "source": [
    "Two players play a game with a single pile of stones of initial size $n$. They take stones from the pile in turn, according to the following rules which depend on a fixed real number $r > 0$:\n",
    "\n",
    "* In the first turn, the first player may take $k$ stones with $1 \\le k \\lt n$.\n",
    "* If a player takes $m$ stones in a turn, then in the next turn the opponent may take $k$ stones with $1 \\le k \\le \\lfloor r \\cdot m \\rfloor$.\n",
    "\n",
    "Whoever cannot make a legal move loses the game.\n",
    "\n",
    "Let $L(r)$ be the set of initial pile sizes $n$ for which the second player has a winning strategy. For example, $L(0.5) = \\{1\\}$, $L(1) = \\{1, 2, 4, 8, 16, \\dots\\}$, $L(2) = \\{1, 2, 3, 5, 8, \\dots\\}$.\n",
    "\n",
    "A real number $q \\gt 0$ is a\n",
    "*transition value*\n",
    "if $L(s)$ is different from $L(t)$ for all $s < q < t$.\n",
    "  \n",
    "Let $T(i)$ be the $i$-th transition value. For example, $T(1) = 1$, $T(2) = 2$, $T(22) \\approx 6.3043478261$.\n",
    "\n",
    "Find $T(123456)$ and give your answer rounded to $10$ digits after the decimal point."
   ]
  },
  {
   "cell_type": "code",
   "execution_count": null,
   "id": "b52cfe7a",
   "metadata": {},
   "outputs": [],
   "source": [
    "# Problem 870 workspace"
   ]
  },
  {
   "cell_type": "markdown",
   "id": "68d24b80",
   "metadata": {},
   "source": [
    "## Answer: "
   ]
  },
  {
   "cell_type": "markdown",
   "id": "38415761",
   "metadata": {},
   "source": [
    "___"
   ]
  }
 ],
 "metadata": {},
 "nbformat": 4,
 "nbformat_minor": 5
}
