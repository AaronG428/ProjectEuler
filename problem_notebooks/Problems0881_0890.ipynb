{
 "cells": [
  {
   "cell_type": "markdown",
   "id": "10854c13",
   "metadata": {},
   "source": [
    "# Problem 881\n",
    " [Source](https://projecteuler.net/problem=881)"
   ]
  },
  {
   "cell_type": "markdown",
   "id": "d0ae93d9",
   "metadata": {},
   "source": [
    "For a positive integer $n$ create a graph using its divisors as vertices. An edge is drawn between two vertices $a \\lt b$ if their quotient $b/a$ is prime. The graph can be arranged into levels where vertex $n$ is at level $0$ and vertices that are a distance $k$ from $n$ are on level $k$. Define $g(n)$ to be the maximum number of vertices in a single level.\n",
    "\n",
    "![0881_example45.jpg](resources/0881_example45.jpg)\n",
    "\n",
    "The example above shows that $g(45) = 2$. You are also given $g(5040) = 12$.\n",
    "\n",
    "Find the smallest number, $n$, such that $g(n) \\ge 10^4$."
   ]
  },
  {
   "cell_type": "code",
   "execution_count": null,
   "id": "0d4789d4",
   "metadata": {},
   "outputs": [],
   "source": [
    "# Problem 881 workspace"
   ]
  },
  {
   "cell_type": "markdown",
   "id": "45148b2b",
   "metadata": {},
   "source": [
    "## Answer: "
   ]
  },
  {
   "cell_type": "markdown",
   "id": "2be07cc1",
   "metadata": {},
   "source": [
    "___"
   ]
  },
  {
   "cell_type": "markdown",
   "id": "56eddb44",
   "metadata": {},
   "source": [
    "# Problem 882\n",
    " [Source](https://projecteuler.net/problem=882)"
   ]
  },
  {
   "cell_type": "markdown",
   "id": "46413d4e",
   "metadata": {},
   "source": [
    "Dr. One and Dr. Zero are playing the following partisan game.\n",
    "  \n",
    "The game begins with one $1$, two $2$'s, three $3$'s, ..., $n$ $n$'s. Starting with Dr. One, they make moves in turn.\n",
    "  \n",
    "Dr. One chooses a number and changes it by removing a $1$ from its binary expansion.\n",
    "  \n",
    "Dr. Zero chooses a number and changes it by removing a $0$ from its binary expansion.\n",
    "  \n",
    "The player that is unable to move loses.\n",
    "  \n",
    "Note that leading zeros are not allowed in any binary expansion; in particular nobody can make a move on the number $0$.\n",
    "\n",
    "They soon realize that Dr. Zero can never win the game. In order to make it more interesting, Dr. Zero is allowed to \"skip the turn\" several times, i.e. passing the turn back to Dr. One without making a move.\n",
    "\n",
    "For example, when $n = 2$, Dr. Zero can win the game if allowed to skip $2$ turns. A sample game:\n",
    "$$\n",
    "[1, 2, 2]\\xrightarrow{\\textrm{Dr. One}}[1, 0, 2]\\xrightarrow{\\textrm{Dr. Zero}}[1, 0, 1]\\xrightarrow{\\textrm{Dr. One}}[1, 0, 0]\\xrightarrow[\\textrm{skip}]{\\textrm{Dr. Zero}}\n",
    "[1, 0, 0]\\xrightarrow{\\textrm{Dr. One}}[0, 0, 0]\\xrightarrow[\\textrm{skip}]{\\textrm{Dr. Zero}}[0, 0, 0].\n",
    "$$\n",
    "Let $S(n)$ be the minimal number of skips needed so that Dr. Zero has a winning strategy.\n",
    "  \n",
    "For example, $S(2) = 2$, $S(5) = 17$, $S(10) = 64$.\n",
    "\n",
    "Find $S(10^5)$."
   ]
  },
  {
   "cell_type": "code",
   "execution_count": null,
   "id": "e2c7bc48",
   "metadata": {},
   "outputs": [],
   "source": [
    "# Problem 882 workspace"
   ]
  },
  {
   "cell_type": "markdown",
   "id": "4eade806",
   "metadata": {},
   "source": [
    "## Answer: "
   ]
  },
  {
   "cell_type": "markdown",
   "id": "3712e684",
   "metadata": {},
   "source": [
    "___"
   ]
  },
  {
   "cell_type": "markdown",
   "id": "59c16e24",
   "metadata": {},
   "source": [
    "# Problem 883\n",
    " [Source](https://projecteuler.net/problem=883)"
   ]
  },
  {
   "cell_type": "markdown",
   "id": "a009ab65",
   "metadata": {},
   "source": [
    "In this problem we consider triangles drawn on a\n",
    "**hexagonal lattice**\n",
    ", where each lattice point in the plane has six neighbouring points equally spaced around it, all distance $1$ away.\n",
    "\n",
    "We call a triangle\n",
    "*remarkable*\n",
    "if\n",
    "\n",
    "* All three vertices and its\n",
    "  **incentre**\n",
    "  lie on lattice points\n",
    "* At least one of its angles is $60^\\circ$\n",
    "\n",
    "![0883_diagram.png](resources/0883_diagram.png)\n",
    "\n",
    "Above are four examples of remarkable triangles, with $60^\\circ$ angles illustrated in red. Triangles A and B have inradius $1$; C has inradius $\\sqrt{3}$; D has inradius $2$.\n",
    "\n",
    "Define $T(r)$ to be the number of remarkable triangles with inradius $\\le r$. Rotations and reflections, such as triangles A and B above, are counted separately; however direct translations are not. That is, the same triangle drawn in different positions of the lattice is only counted once.\n",
    "\n",
    "You are given $T(0.5)=2$, $T(2)=44$, and $T(10)=1302$.\n",
    "\n",
    "Find $T(10^6)$."
   ]
  },
  {
   "cell_type": "code",
   "execution_count": null,
   "id": "9808ab96",
   "metadata": {},
   "outputs": [],
   "source": [
    "# Problem 883 workspace"
   ]
  },
  {
   "cell_type": "markdown",
   "id": "84075fb6",
   "metadata": {},
   "source": [
    "## Answer: "
   ]
  },
  {
   "cell_type": "markdown",
   "id": "10e6e10c",
   "metadata": {},
   "source": [
    "___"
   ]
  },
  {
   "cell_type": "markdown",
   "id": "fc881642",
   "metadata": {},
   "source": [
    "# Problem 884\n",
    " [Source](https://projecteuler.net/problem=884)"
   ]
  },
  {
   "cell_type": "markdown",
   "id": "1bc3dac5",
   "metadata": {},
   "source": [
    "Starting from a positive integer $n$, at each step we subtract from $n$ the largest perfect cube not exceeding $n$, until $n$ becomes $0$.\n",
    "  \n",
    "For example, with $n = 100$ the procedure ends in $4$ steps:\n",
    "$$100 \\xrightarrow{-4^3} 36 \\xrightarrow{-3^3} 9 \\xrightarrow{-2^3} 1 \\xrightarrow{-1^3} 0.$$\n",
    "Let $D(n)$ denote the number of steps of the procedure. Thus $D(100) = 4$.\n",
    "\n",
    "Let $S(N)$ denote the sum of $D(n)$ for all positive integers $n$\n",
    "**strictly less**\n",
    "than $N$.\n",
    "  \n",
    "For example, $S(100) = 512$.\n",
    "\n",
    "Find $S(10^{17})$."
   ]
  },
  {
   "cell_type": "code",
   "execution_count": null,
   "id": "5e04689a",
   "metadata": {},
   "outputs": [],
   "source": [
    "# Problem 884 workspace"
   ]
  },
  {
   "cell_type": "markdown",
   "id": "6220ab9a",
   "metadata": {},
   "source": [
    "## Answer: "
   ]
  },
  {
   "cell_type": "markdown",
   "id": "26d6a880",
   "metadata": {},
   "source": [
    "___"
   ]
  },
  {
   "cell_type": "markdown",
   "id": "e69a5318",
   "metadata": {},
   "source": [
    "# Problem 885\n",
    " [Source](https://projecteuler.net/problem=885)"
   ]
  },
  {
   "cell_type": "markdown",
   "id": "d3ba2f33",
   "metadata": {},
   "source": [
    "For a positive integer $d$, let $f(d)$ be the number created by sorting the digits of $d$ in ascending order, removing any zeros. For example, $f(3403) = 334$.\n",
    "\n",
    "Let $S(n)$ be the sum of $f(d)$ for all positive integers $d$ of $n$ digits or less. You are given $S(1) = 45$ and $S(5) = 1543545675$.\n",
    "\n",
    "Find $S(18)$. Give your answer modulo $1123455689$."
   ]
  },
  {
   "cell_type": "code",
   "execution_count": null,
   "id": "b7847ed5",
   "metadata": {},
   "outputs": [],
   "source": [
    "# Problem 885 workspace"
   ]
  },
  {
   "cell_type": "markdown",
   "id": "a08852cb",
   "metadata": {},
   "source": [
    "## Answer: "
   ]
  },
  {
   "cell_type": "markdown",
   "id": "bfd968a2",
   "metadata": {},
   "source": [
    "___"
   ]
  },
  {
   "cell_type": "markdown",
   "id": "3c63ca04",
   "metadata": {},
   "source": [
    "# Problem 886\n",
    " [Source](https://projecteuler.net/problem=886)"
   ]
  },
  {
   "cell_type": "markdown",
   "id": "ee1f4c94",
   "metadata": {},
   "source": [
    "A permutation of $\\{2,3,\\ldots,n\\}$ is a rearrangement of these numbers. A\n",
    "*coprime permutation*\n",
    "is a rearrangement such that all pairs of adjacent numbers are coprime.\n",
    "\n",
    "Let $P(n)$ be the number of coprime permutations of $\\{2,3,\\ldots,n\\}$.\n",
    "\n",
    "For example, $P(4)=2$ as there are two coprime permutations, $(2,3,4)$ and $(4,3,2)$. You are also given $P(10)=576$.\n",
    "\n",
    "Find $P(34)$ and give your answer modulo $83\\,456\\,729$."
   ]
  },
  {
   "cell_type": "code",
   "execution_count": null,
   "id": "5ee29d68",
   "metadata": {},
   "outputs": [],
   "source": [
    "# Problem 886 workspace"
   ]
  },
  {
   "cell_type": "markdown",
   "id": "2847a3a1",
   "metadata": {},
   "source": [
    "## Answer: "
   ]
  },
  {
   "cell_type": "markdown",
   "id": "0c88f8fc",
   "metadata": {},
   "source": [
    "___"
   ]
  },
  {
   "cell_type": "markdown",
   "id": "ffed0af1",
   "metadata": {},
   "source": [
    "# Problem 887\n",
    " [Source](https://projecteuler.net/problem=887)"
   ]
  },
  {
   "cell_type": "markdown",
   "id": "3cf72180",
   "metadata": {},
   "source": [
    "Consider the problem of determining a secret number from a set $\\{1, ..., N\\}$ by repeatedly choosing a number $y$ and asking \"Is the secret number greater than $y$?\".\n",
    "\n",
    "If $N=1$ then no questions need to be asked. If $N=2$ then only one question needs to be asked. If $N=64$ then six questions need to be asked. However, in the latter case if the secret number is $1$ then six questions still need to be asked. We want to restrict the number of questions asked for small values.\n",
    "\n",
    "Let $Q(N, d)$ be the least number of questions needed for a strategy that can find any secret number from the set $\\{1, ..., N\\}$ where no more than $x + d$ questions are needed to find the secret value $x$.\n",
    "\n",
    "It can be proved that $Q(N, 0) = N - 1$. You are also given $Q(7, 1) = 3$ and $Q(777, 2) = 10$.\n",
    "\n",
    "Find $\\displaystyle \\sum\\_{d=0}^7 \\sum\\_{N=1}^{7^{10}} Q(N, d)$."
   ]
  },
  {
   "cell_type": "code",
   "execution_count": null,
   "id": "88aabcf2",
   "metadata": {},
   "outputs": [],
   "source": [
    "# Problem 887 workspace"
   ]
  },
  {
   "cell_type": "markdown",
   "id": "ad3f200a",
   "metadata": {},
   "source": [
    "## Answer: "
   ]
  },
  {
   "cell_type": "markdown",
   "id": "3d74bb7e",
   "metadata": {},
   "source": [
    "___"
   ]
  },
  {
   "cell_type": "markdown",
   "id": "f5ce77e9",
   "metadata": {},
   "source": [
    "# Problem 888\n",
    " [Source](https://projecteuler.net/problem=888)"
   ]
  },
  {
   "cell_type": "markdown",
   "id": "38131013",
   "metadata": {},
   "source": [
    "Two players play a game with a number of piles of stones, alternating turns. Each turn a player can choose to remove 1, 2, 4, or 9 stones from a single pile; or alternatively they can choose to split a pile containing two or more stones into two non-empty piles. The winner is the player who removes the last stone.\n",
    "\n",
    "A collection of piles is called a losing position if the player to move cannot force a win with optimal play. Define $S(N, m)$ to be the number of distinct losing positions arising from $m$ piles of stones where each pile contains from $1$ to $N$ stones. Two positions are considered equivalent if they consist of the same pile sizes. That is, the order of the piles does not matter.\n",
    "\n",
    "You are given $S(12,4)=204$ and $S(124,9)=2259208528408$.\n",
    "\n",
    "Find $S(12491249,1249)$. Give your answer modulo $912491249$."
   ]
  },
  {
   "cell_type": "code",
   "execution_count": null,
   "id": "5ae6e7e8",
   "metadata": {},
   "outputs": [],
   "source": [
    "# Problem 888 workspace"
   ]
  },
  {
   "cell_type": "markdown",
   "id": "f5c38b72",
   "metadata": {},
   "source": [
    "## Answer: "
   ]
  },
  {
   "cell_type": "markdown",
   "id": "e2711882",
   "metadata": {},
   "source": [
    "___"
   ]
  },
  {
   "cell_type": "markdown",
   "id": "db88c700",
   "metadata": {},
   "source": [
    "# Problem 889\n",
    " [Source](https://projecteuler.net/problem=889)"
   ]
  },
  {
   "cell_type": "markdown",
   "id": "c0eea967",
   "metadata": {},
   "source": [
    "Recall the blancmange function from\n",
    "[Problem 226](problem=226)\n",
    ": $T(x) = \\sum\\limits\\_{n = 0}^\\infty\\dfrac{s(2^nx)}{2^n}$, where $s(x)$ is the distance from $x$ to the nearest integer.\n",
    "\n",
    "For positive integers $k, t, r$, we write $$F(k, t, r) = (2^{2k} - 1)T\\left(\\frac{(2^t + 1)^r}{2^k + 1}\\right).$$ It can be shown that $F(k, t, r)$ is always an integer.\n",
    "  \n",
    "For example, $F(3, 1, 1) = 42$, $F(13, 3, 3) = 23093880$ and $F(103, 13, 6) \\equiv 878922518\\pmod {1\\,000\\,062\\,031}$.\n",
    "\n",
    "Find $F(10^{18} + 31, 10^{14} + 31, 62)$. Give your answer modulo $1\\,000\\,062\\,031$."
   ]
  },
  {
   "cell_type": "code",
   "execution_count": null,
   "id": "081b89da",
   "metadata": {},
   "outputs": [],
   "source": [
    "# Problem 889 workspace"
   ]
  },
  {
   "cell_type": "markdown",
   "id": "ed92bc43",
   "metadata": {},
   "source": [
    "## Answer: "
   ]
  },
  {
   "cell_type": "markdown",
   "id": "a9a36c4c",
   "metadata": {},
   "source": [
    "___"
   ]
  },
  {
   "cell_type": "markdown",
   "id": "3615cc04",
   "metadata": {},
   "source": [
    "# Problem 890\n",
    " [Source](https://projecteuler.net/problem=890)"
   ]
  },
  {
   "cell_type": "markdown",
   "id": "fb2aadf7",
   "metadata": {},
   "source": [
    "Let $p(n)$ be the number of ways to write $n$ as the sum of powers of two, ignoring order.\n",
    "\n",
    "For example, $p(7) = 6$, the partitions being\n",
    "$$\n",
    "\\begin{align}\n",
    "7 &= 1+1+1+1+1+1+1 \\\\\n",
    "&=1+1+1+1+1+2 \\\\\n",
    "&=1+1+1+2+2 \\\\\n",
    "&=1+1+1+4 \\\\\n",
    "&=1+2+2+2 \\\\\n",
    "&=1+2+4\n",
    "\\end{align}\n",
    "$$\n",
    "You are also given $p(7^7) \\equiv 144548435 \\pmod {10^9+7}$.\n",
    "\n",
    "Find $p(7^{777})$. Give your answer modulo $10^9 + 7$."
   ]
  },
  {
   "cell_type": "code",
   "execution_count": null,
   "id": "1f56d479",
   "metadata": {},
   "outputs": [],
   "source": [
    "# Problem 890 workspace"
   ]
  },
  {
   "cell_type": "markdown",
   "id": "ccde8bb4",
   "metadata": {},
   "source": [
    "## Answer: "
   ]
  },
  {
   "cell_type": "markdown",
   "id": "ba6416e2",
   "metadata": {},
   "source": [
    "___"
   ]
  }
 ],
 "metadata": {},
 "nbformat": 4,
 "nbformat_minor": 5
}
