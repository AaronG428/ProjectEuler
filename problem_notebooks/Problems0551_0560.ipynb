{
 "cells": [
  {
   "cell_type": "markdown",
   "id": "9224b37a",
   "metadata": {},
   "source": [
    "# Problem 551\n",
    " [Source](https://projecteuler.net/problem=551)"
   ]
  },
  {
   "cell_type": "markdown",
   "id": "9222ccfd",
   "metadata": {},
   "source": [
    "Let $a\\_0, a\\_1, \\dots$ be an integer sequence defined by:\n",
    "\n",
    "* $a\\_0 = 1$;\n",
    "* for $n \\ge 1$, $a\\_n$ is the sum of the digits of all preceding terms.\n",
    "\n",
    "The sequence starts with $1, 1, 2, 4, 8, 16, 23, 28, 38, 49, \\dots$\n",
    "  \n",
    "You are given $a\\_{10^6} = 31054319$.\n",
    "\n",
    "Find $a\\_{10^{15}}$."
   ]
  },
  {
   "cell_type": "code",
   "execution_count": null,
   "id": "a6f55da6",
   "metadata": {},
   "outputs": [],
   "source": [
    "# Problem 551 workspace"
   ]
  },
  {
   "cell_type": "markdown",
   "id": "03e27a00",
   "metadata": {},
   "source": [
    "## Answer: "
   ]
  },
  {
   "cell_type": "markdown",
   "id": "f6a1a875",
   "metadata": {},
   "source": [
    "___"
   ]
  },
  {
   "cell_type": "markdown",
   "id": "6aa0a8cd",
   "metadata": {},
   "source": [
    "# Problem 552\n",
    " [Source](https://projecteuler.net/problem=552)"
   ]
  },
  {
   "cell_type": "markdown",
   "id": "429efa8a",
   "metadata": {},
   "source": [
    "Let $A\\_n$ be the smallest positive integer satisfying $A\\_n \\bmod p\\_i = i$ for all $1 \\le i \\le n$, where $p\\_i$ is the\n",
    "$i$-th prime.\n",
    "  \n",
    "For example $A\\_2 = 5$, since this is the smallest positive solution of the system of equations\n",
    "\n",
    "* $A\\_2 \\bmod 2 = 1$\n",
    "* $A\\_2 \\bmod 3 = 2$\n",
    "\n",
    "The system of equations for $A\\_3$ adds another constraint. That is, $A\\_3$ is the smallest positive solution of\n",
    "\n",
    "* $A\\_3 \\bmod 2 = 1$\n",
    "* $A\\_3 \\bmod 3 = 2$\n",
    "* $A\\_3 \\bmod 5 = 3$\n",
    "\n",
    "and hence $A\\_3 = 23$. Similarly, one gets $A\\_4 = 53$ and $A\\_5 = 1523$.\n",
    "\n",
    "Let $S(n)$ be the sum of all primes up to $n$ that divide at least one element in the sequence $A$.\n",
    "  \n",
    "For example, $S(50) = 69 = 5 + 23 + 41$, since $5$ divides $A\\_2$, $23$ divides $A\\_3$ and $41$ divides $A\\_{10} = 5765999453$. No other prime number up to $50$ divides an element in $A$.\n",
    "\n",
    "Find $S(300000)$."
   ]
  },
  {
   "cell_type": "code",
   "execution_count": null,
   "id": "48b8aa69",
   "metadata": {},
   "outputs": [],
   "source": [
    "# Problem 552 workspace"
   ]
  },
  {
   "cell_type": "markdown",
   "id": "2dc288af",
   "metadata": {},
   "source": [
    "## Answer: "
   ]
  },
  {
   "cell_type": "markdown",
   "id": "052e5f11",
   "metadata": {},
   "source": [
    "___"
   ]
  },
  {
   "cell_type": "markdown",
   "id": "b6389a80",
   "metadata": {},
   "source": [
    "# Problem 553\n",
    " [Source](https://projecteuler.net/problem=553)"
   ]
  },
  {
   "cell_type": "markdown",
   "id": "307cc786",
   "metadata": {},
   "source": [
    "Let $P(n)$ be the set of the first $n$ positive integers $\\{1, 2, \\dots, n\\}$.\n",
    "  \n",
    "Let $Q(n)$ be the set of all the non-empty subsets of $P(n)$.\n",
    "  \n",
    "Let $R(n)$ be the set of all the non-empty subsets of $Q(n)$.\n",
    "\n",
    "An element $X \\in R(n)$ is a non-empty subset of $Q(n)$, so it is itself a set.\n",
    "  \n",
    "From $X$ we can construct a graph as follows:\n",
    "\n",
    "* Each element $Y \\in X$ corresponds to a vertex and labeled with $Y$;\n",
    "* Two vertices $Y\\_1$ and $Y\\_2$ are connected if $Y\\_1 \\cap Y\\_2 \\ne \\emptyset$.\n",
    "\n",
    "For example, $X = \\{\\{1\\},\\{1,2,3\\},\\{3\\},\\{5,6\\},\\{6,7\\}\\}$ results in the following graph:\n",
    "\n",
    "![0553-power-sets.gif](resources/0553-power-sets.gif)\n",
    "\n",
    "This graph has two\n",
    "**connected components**\n",
    ".\n",
    "\n",
    "Let $C(n, k)$ be the number of elements of $R(n)$ that have exactly $k$ connected components in their graph.\n",
    "  \n",
    "You are given $C(2, 1) = 6$, $C(3, 1) = 111$, $C(4, 2) = 486$, $C(100, 10) \\bmod 1\\,000\\,000\\,007 = 728209718$.\n",
    "\n",
    "Find $C(10^4, 10) \\bmod 1\\,000\\,000\\,007$."
   ]
  },
  {
   "cell_type": "code",
   "execution_count": null,
   "id": "13bc0d84",
   "metadata": {},
   "outputs": [],
   "source": [
    "# Problem 553 workspace"
   ]
  },
  {
   "cell_type": "markdown",
   "id": "6483f9f5",
   "metadata": {},
   "source": [
    "## Answer: "
   ]
  },
  {
   "cell_type": "markdown",
   "id": "89200474",
   "metadata": {},
   "source": [
    "___"
   ]
  },
  {
   "cell_type": "markdown",
   "id": "9bfb30bc",
   "metadata": {},
   "source": [
    "# Problem 554\n",
    " [Source](https://projecteuler.net/problem=554)"
   ]
  },
  {
   "cell_type": "markdown",
   "id": "77cbcbf3",
   "metadata": {},
   "source": [
    "On a chess board, a centaur moves like a king or a knight. The diagram below shows the valid moves of a centaur (represented by an inverted king) on an $8 \\times 8$ board.\n",
    "\n",
    "![0554-centaurs.png](resources/0554-centaurs.png)\n",
    "\n",
    "It can be shown that at most $n^2$ non-attacking centaurs can be placed on a board of size $2n \\times 2n$.\n",
    "  \n",
    "Let $C(n)$ be the number of ways to place $n^2$ centaurs on a $2n \\times 2n$ board so that no centaur attacks another directly.\n",
    "  \n",
    "For example $C(1) = 4$, $C(2) = 25$, $C(10) = 1477721$.\n",
    "\n",
    "Let $F\\_i$ be the $i$\n",
    "th\n",
    "Fibonacci number defined as $F\\_1 = F\\_2 = 1$ and $F\\_i = F\\_{i - 1} + F\\_{i - 2}$ for $i \\gt 2$.\n",
    "\n",
    "Find $\\displaystyle \\left( \\sum\\_{i=2}^{90} C(F\\_i) \\right) \\bmod (10^8+7)$."
   ]
  },
  {
   "cell_type": "code",
   "execution_count": null,
   "id": "c18e9457",
   "metadata": {},
   "outputs": [],
   "source": [
    "# Problem 554 workspace"
   ]
  },
  {
   "cell_type": "markdown",
   "id": "a621b4ef",
   "metadata": {},
   "source": [
    "## Answer: "
   ]
  },
  {
   "cell_type": "markdown",
   "id": "8a6a8219",
   "metadata": {},
   "source": [
    "___"
   ]
  },
  {
   "cell_type": "markdown",
   "id": "d8bbd563",
   "metadata": {},
   "source": [
    "# Problem 555\n",
    " [Source](https://projecteuler.net/problem=555)"
   ]
  },
  {
   "cell_type": "markdown",
   "id": "8a390945",
   "metadata": {},
   "source": [
    "The McCarthy 91 function is defined as follows:\n",
    "$$\n",
    "M\\_{91}(n) =\n",
    "\\begin{cases}\n",
    "n - 10 & \\text{if } n > 100 \\\\\n",
    "M\\_{91}(M\\_{91}(n+11)) & \\text{if } 0 \\leq n \\leq 100\n",
    "\\end{cases}\n",
    "$$\n",
    "\n",
    "We can generalize this definition by abstracting away the constants into new variables:\n",
    "$$\n",
    "M\\_{m,k,s}(n) =\n",
    "\\begin{cases}\n",
    "n - s & \\text{if } n > m \\\\\n",
    "M\\_{m,k,s}(M\\_{m,k,s}(n+k)) & \\text{if } 0 \\leq n \\leq m\n",
    "\\end{cases}\n",
    "$$\n",
    "\n",
    "This way, we have $M\\_{91} = M\\_{100,11,10}$.\n",
    "\n",
    "Let $F\\_{m,k,s}$ be the set of fixed points of $M\\_{m,k,s}$. That is,\n",
    "$$F\\_{m,k,s}= \\left\\{ n \\in \\mathbb{N} \\, | \\, M\\_{m,k,s}(n) = n \\right\\}$$\n",
    "\n",
    "For example, the only fixed point of $M\\_{91}$ is $n = 91$. In other words, $F\\_{100,11,10}= \\{91\\}$.\n",
    "\n",
    "Now, define $SF(m,k,s)$ as the sum of the elements in $F\\_{m,k,s}$ and let $S(p,m) = \\displaystyle \\sum\\_{1 \\leq s < k \\leq p}{SF(m,k,s)}$.\n",
    "\n",
    "For example, $S(10, 10) = 225$ and $S(1000, 1000)=208724467$.\n",
    "\n",
    "Find $S(10^6, 10^6)$."
   ]
  },
  {
   "cell_type": "code",
   "execution_count": null,
   "id": "a2c97cec",
   "metadata": {},
   "outputs": [],
   "source": [
    "# Problem 555 workspace"
   ]
  },
  {
   "cell_type": "markdown",
   "id": "fbf1e943",
   "metadata": {},
   "source": [
    "## Answer: "
   ]
  },
  {
   "cell_type": "markdown",
   "id": "706361a7",
   "metadata": {},
   "source": [
    "___"
   ]
  },
  {
   "cell_type": "markdown",
   "id": "d092dfbd",
   "metadata": {},
   "source": [
    "# Problem 556\n",
    " [Source](https://projecteuler.net/problem=556)"
   ]
  },
  {
   "cell_type": "markdown",
   "id": "3d3b1929",
   "metadata": {},
   "source": [
    "A\n",
    "**Gaussian integer**\n",
    "is a number $z = a + bi$ where $a$, $b$ are integers and $i^2 = -1$.\n",
    "  \n",
    "Gaussian integers are a subset of the complex numbers, and the integers are the subset of Gaussian integers for which $b = 0$.\n",
    "\n",
    "A Gaussian integer\n",
    "**unit**\n",
    "is one for which $a^2 + b^2 = 1$, i.e. one of $1, i, -1, -i$.\n",
    "  \n",
    "Let's define a\n",
    "proper\n",
    "Gaussian integer as one for which $a \\gt 0$ and $b \\ge 0$.\n",
    "\n",
    "A Gaussian integer $z\\_1 = a\\_1 + b\\_1 i$ is said to be divisible by $z\\_2 = a\\_2 + b\\_2 i$ if $z\\_3 = a\\_3 + b\\_3 i = z\\_1 / z\\_2$ is a Gaussian integer.\n",
    "  \n",
    "$\\frac {z\\_1} {z\\_2} = \\frac {a\\_1 + b\\_1 i} {a\\_2 + b\\_2 i} = \\frac {(a\\_1 + b\\_1 i)(a\\_2 - b\\_2 i)} {(a\\_2 + b\\_2 i)(a\\_2 - b\\_2 i)} = \\frac {a\\_1 a\\_2 + b\\_1 b\\_2} {a\\_2^2 + b\\_2^2} + \\frac {a\\_2 b\\_1 - a\\_1 b\\_2} {a\\_2^2 + b\\_2^2}i = a\\_3 + b\\_3 i$\n",
    "  \n",
    "So, $z\\_1$ is divisible by $z\\_2$ if $\\frac {a\\_1 a\\_2 + b\\_1 b\\_2} {a\\_2^2 + b\\_2^2}$ and $\\frac {a\\_2 b\\_1 - a\\_1 b\\_2} {a\\_2^2 + b\\_2^2}$ are integers.\n",
    "  \n",
    "For example, $2$ is divisible by $1 + i$ because $2/(1 + i) = 1 - i$ is a Gaussian integer.\n",
    "\n",
    "A\n",
    "**Gaussian prime**\n",
    "is a Gaussian integer that is divisible only by a unit, itself or itself times a unit.\n",
    "  \n",
    "For example, $1 + 2i$ is a Gaussian prime, because it is only divisible by $1$, $i$, $-1$, $-i$, $1 + 2i$, $i(1 + 2i) = i - 2$, $-(1 + 2i) = -1 - 2i$ and $-i(1 + 2i) = 2 - i$.\n",
    "  \n",
    "$2$ is not a Gaussian prime as it is divisible by $1 + i$.\n",
    "\n",
    "A Gaussian integer can be uniquely factored as the product of a unit and proper Gaussian primes.\n",
    "  \n",
    "For example $2 = -i(1 + i)^2$ and $1 + 3i = (1 + i)(2 + i)$.\n",
    "  \n",
    "A Gaussian integer is said to be squarefree if its prime factorization does not contain repeated proper Gaussian primes.\n",
    "  \n",
    "So $2$ is not squarefree over the Gaussian integers, but $1 + 3i$ is.\n",
    "  \n",
    "Units and Gaussian primes are squarefree by definition.\n",
    "\n",
    "Let $f(n)$ be the count of proper squarefree Gaussian integers with $a^2 + b^2 \\le n$.\n",
    "  \n",
    "For example $f(10) = 7$ because $1$, $1 + i$, $1 + 2i$, $1 + 3i = (1 + i)(2 + i)$, $2 + i$, $3$ and $3 + i = -i(1 + i)(1 + 2i)$ are squarefree, while $2 = -i(1 + i)^2$ and $2 + 2i = -i(1 + i)^3$ are not.\n",
    "  \n",
    "You are given $f(10^2) = 54$, $f(10^4) = 5218$ and $f(10^8) = 52126906$.\n",
    "\n",
    "Find $f(10^{14})$."
   ]
  },
  {
   "cell_type": "code",
   "execution_count": null,
   "id": "26a1e3af",
   "metadata": {},
   "outputs": [],
   "source": [
    "# Problem 556 workspace"
   ]
  },
  {
   "cell_type": "markdown",
   "id": "e36412e6",
   "metadata": {},
   "source": [
    "## Answer: "
   ]
  },
  {
   "cell_type": "markdown",
   "id": "6cffe1e8",
   "metadata": {},
   "source": [
    "___"
   ]
  },
  {
   "cell_type": "markdown",
   "id": "6192c534",
   "metadata": {},
   "source": [
    "# Problem 557\n",
    " [Source](https://projecteuler.net/problem=557)"
   ]
  },
  {
   "cell_type": "markdown",
   "id": "812be698",
   "metadata": {},
   "source": [
    "A triangle is cut into four pieces by two straight lines, each starting at one vertex and ending on the opposite edge. This results in forming three smaller triangular pieces, and one quadrilateral. If the original triangle has an integral area, it is often possible to choose cuts such that all of the four pieces also have integral area. For example, the diagram below shows a triangle of area $55$ that has been cut in this way.\n",
    "\n",
    "![0557-triangle.gif](resources/0557-triangle.gif)\n",
    "\n",
    "Representing the areas as $a, b, c$ and $d$, in the example above, the individual areas are $a = 22$, $b = 8$, $c = 11$ and $d = 14$. It is also possible to cut a triangle of area $55$ such that $a = 20$, $b = 2$, $c = 24$, $d = 9$.\n",
    "\n",
    "Define a triangle cutting quadruple $(a, b, c, d)$ as a valid integral division of a triangle, where $a$ is the area of the triangle between the two cut vertices, $d$ is the area of the quadrilateral and $b$ and $c$ are the areas of the two other triangles, with the restriction that $b \\le c$. The two solutions described above are $(22,8,11,14)$ and $(20,2,24,9)$. These are the only two possible quadruples that have a total area of $55$.\n",
    "\n",
    "Define $S(n)$ as the sum of the area of the uncut triangles represented by all valid quadruples with $a+b+c+d \\le n$.\n",
    "  \n",
    "For example, $S(20) = 259$.\n",
    "\n",
    "Find $S(10000)$."
   ]
  },
  {
   "cell_type": "code",
   "execution_count": null,
   "id": "5963e32d",
   "metadata": {},
   "outputs": [],
   "source": [
    "# Problem 557 workspace"
   ]
  },
  {
   "cell_type": "markdown",
   "id": "d5dfea4d",
   "metadata": {},
   "source": [
    "## Answer: "
   ]
  },
  {
   "cell_type": "markdown",
   "id": "73ad8d57",
   "metadata": {},
   "source": [
    "___"
   ]
  },
  {
   "cell_type": "markdown",
   "id": "23dc1b15",
   "metadata": {},
   "source": [
    "# Problem 558\n",
    " [Source](https://projecteuler.net/problem=558)"
   ]
  },
  {
   "cell_type": "markdown",
   "id": "a47f6d82",
   "metadata": {},
   "source": [
    "Let $r$ be the real root of the equation $x^3 = x^2 + 1$.\n",
    "  \n",
    "Every positive integer can be written as the sum of distinct increasing powers of $r$.\n",
    "  \n",
    "If we require the number of terms to be finite and the difference between any two exponents to be three or more, then the representation is unique.\n",
    "  \n",
    "For example, $3 = r^{-10} + r^{-5} + r^{-1} + r^2$ and $10 = r^{-10} + r^{-7} + r^6$.\n",
    "  \n",
    "Interestingly, the relation holds for the complex roots of the equation.\n",
    "\n",
    "Let $w(n)$ be the number of terms in this unique representation of $n$. Thus $w(3) = 4$ and $w(10) = 3$.\n",
    "\n",
    "More formally, for all positive integers $n$, we have:\n",
    "  \n",
    "$n = \\displaystyle \\sum\\_{k=-\\infty}^\\infty b\\_k r^k$\n",
    "  \n",
    "under the conditions that:\n",
    "  \n",
    "$b\\_k$ is $0$ or $1$ for all $k$;\n",
    "  \n",
    "$b\\_k + b\\_{k + 1} + b\\_{k + 2} \\le 1$ for all $k$;\n",
    "  \n",
    "$w(n) = \\displaystyle \\sum\\_{k=-\\infty}^\\infty b\\_k$ is finite.\n",
    "\n",
    "Let $S(m) = \\displaystyle \\sum\\_{j=1}^m w(j^2)$.\n",
    "  \n",
    "You are given $S(10) = 61$ and $S(1000) = 19403$.\n",
    "\n",
    "Find $S(5\\,000\\,000)$."
   ]
  },
  {
   "cell_type": "code",
   "execution_count": null,
   "id": "43771b81",
   "metadata": {},
   "outputs": [],
   "source": [
    "# Problem 558 workspace"
   ]
  },
  {
   "cell_type": "markdown",
   "id": "82d47de8",
   "metadata": {},
   "source": [
    "## Answer: "
   ]
  },
  {
   "cell_type": "markdown",
   "id": "62f47e79",
   "metadata": {},
   "source": [
    "___"
   ]
  },
  {
   "cell_type": "markdown",
   "id": "2318300c",
   "metadata": {},
   "source": [
    "# Problem 559\n",
    " [Source](https://projecteuler.net/problem=559)"
   ]
  },
  {
   "cell_type": "markdown",
   "id": "5cd4eb26",
   "metadata": {},
   "source": [
    "An\n",
    "ascent\n",
    "of a column $j$ in a matrix occurs if the value of column $j$ is smaller than the value of column $j + 1$ in all rows.\n",
    "\n",
    "Let $P(k, r, n)$ be the number of $r \\times n$ matrices with the following properties:\n",
    "\n",
    "* The rows are permutations of $\\{1, 2, 3, \\dots, n\\}$.\n",
    "* Numbering the first column as $1$, a column ascent occurs at column $j \\lt n$\n",
    "  **if and only if**\n",
    "  $j$ is not a multiple of $k$.\n",
    "\n",
    "For example, $P(1, 2, 3) = 19$, $P(2, 4, 6) = 65508751$ and $P(7, 5, 30) \\bmod 1000000123 = 161858102$.\n",
    "\n",
    "Let $Q(n) = \\displaystyle \\sum\\_{k=1}^n P(k, n, n)$.\n",
    "  \n",
    "For example, $Q(5) = 21879393751$ and $Q(50) \\bmod 1000000123 = 819573537$.\n",
    "\n",
    "Find $Q(50000) \\bmod 1000000123$."
   ]
  },
  {
   "cell_type": "code",
   "execution_count": null,
   "id": "c75b284e",
   "metadata": {},
   "outputs": [],
   "source": [
    "# Problem 559 workspace"
   ]
  },
  {
   "cell_type": "markdown",
   "id": "62073af1",
   "metadata": {},
   "source": [
    "## Answer: "
   ]
  },
  {
   "cell_type": "markdown",
   "id": "967394cf",
   "metadata": {},
   "source": [
    "___"
   ]
  },
  {
   "cell_type": "markdown",
   "id": "707adcb9",
   "metadata": {},
   "source": [
    "# Problem 560\n",
    " [Source](https://projecteuler.net/problem=560)"
   ]
  },
  {
   "cell_type": "markdown",
   "id": "61563ec4",
   "metadata": {},
   "source": [
    "Coprime Nim is just like ordinary normal play Nim, but the players may only remove a number of stones from a pile that is\n",
    "**coprime**\n",
    "with the current size of the pile. Two players remove stones in turn. The player who removes the last stone wins.\n",
    "\n",
    "Let $L(n, k)$ be the number of\n",
    "**losing**\n",
    "starting positions for the first player, assuming perfect play, when the game is played with $k$ piles, each having between $1$ and $n - 1$ stones inclusively.\n",
    "\n",
    "For example, $L(5, 2) = 6$ since the losing initial positions are $(1, 1)$, $(2, 2)$, $(2, 4)$, $(3, 3)$, $(4, 2)$ and $(4, 4)$.\n",
    "  \n",
    "You are also given $L(10, 5) = 9964$, $L(10, 10) = 472400303$, $L(10^3, 10^3) \\bmod 1\\,000\\,000\\,007 = 954021836$.\n",
    "\n",
    "Find $L(10^7, 10^7)\\bmod 1\\,000\\,000\\,007$."
   ]
  },
  {
   "cell_type": "code",
   "execution_count": null,
   "id": "83bb5934",
   "metadata": {},
   "outputs": [],
   "source": [
    "# Problem 560 workspace"
   ]
  },
  {
   "cell_type": "markdown",
   "id": "a26a73c8",
   "metadata": {},
   "source": [
    "## Answer: "
   ]
  },
  {
   "cell_type": "markdown",
   "id": "05625ccf",
   "metadata": {},
   "source": [
    "___"
   ]
  }
 ],
 "metadata": {},
 "nbformat": 4,
 "nbformat_minor": 5
}
