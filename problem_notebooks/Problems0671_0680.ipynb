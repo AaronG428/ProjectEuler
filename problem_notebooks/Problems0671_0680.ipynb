{
 "cells": [
  {
   "cell_type": "markdown",
   "id": "a429a2ab",
   "metadata": {},
   "source": [
    "# Problem 671\n",
    " [Source](https://projecteuler.net/problem=671)"
   ]
  },
  {
   "cell_type": "markdown",
   "id": "857103f1",
   "metadata": {},
   "source": [
    "A certain type of flexible tile comes in three different sizes - $1 \\times 1$, $1 \\times 2$, and $1 \\times 3$ - and in $k$ different colours. There is an unlimited number of tiles available in each combination of size and colour.\n",
    "\n",
    "These are used to tile a closed loop of width $2$ and length (circumference) $n$, where $n$ is a positive integer, subject to the following conditions:\n",
    "\n",
    "* The loop must be fully covered by non-overlapping tiles.\n",
    "* It is\n",
    "  *not*\n",
    "  permitted for four tiles to have their corners meeting at a single point.\n",
    "* Adjacent tiles must be of different colours.\n",
    "\n",
    "For example, the following is an acceptable tiling of a $2\\times 23$ loop with $k=4$ (blue, green, red and yellow):\n",
    "\n",
    "![Acceptable colouring](resources/0671_loop_acceptable.png)\n",
    "\n",
    "but the following is not an acceptable tiling, because it violates the \"no four corners meeting at a point\" rule:\n",
    "\n",
    "![Unacceptable colouring](resources/0671_loop_unacceptable.png)\n",
    "\n",
    "Let $F\\_k(n)$ be the number of ways the $2\\times n$ loop can be tiled subject to these rules when $k$ colours are available. (Not all $k$ colours have to be used.) Where reflecting horizontally or vertically would give a different tiling, these tilings are to be counted separately.\n",
    "\n",
    "For example, $F\\_4(3) = 104$, $F\\_5(7) = 3327300$, and $F\\_6(101)\\equiv 75309980 \\pmod{1\\,000\\,004\\,321}$.\n",
    "\n",
    "Find $F\\_{10}(10\\,004\\,003\\,002\\,001) \\bmod 1\\,000\\,004\\,321$."
   ]
  },
  {
   "cell_type": "code",
   "execution_count": null,
   "id": "fc79d8d0",
   "metadata": {},
   "outputs": [],
   "source": [
    "# Problem 671 workspace"
   ]
  },
  {
   "cell_type": "markdown",
   "id": "81db9259",
   "metadata": {},
   "source": [
    "## Answer: "
   ]
  },
  {
   "cell_type": "markdown",
   "id": "10cf7fd2",
   "metadata": {},
   "source": [
    "___"
   ]
  },
  {
   "cell_type": "markdown",
   "id": "b0e076fa",
   "metadata": {},
   "source": [
    "# Problem 672\n",
    " [Source](https://projecteuler.net/problem=672)"
   ]
  },
  {
   "cell_type": "markdown",
   "id": "92206671",
   "metadata": {},
   "source": [
    "Consider the following process that can be applied recursively to any positive integer $n$:\n",
    "\n",
    "* if $n = 1$ do nothing and the process stops,\n",
    "* if $n$ is divisible by $7$ divide it by $7$,\n",
    "* otherwise add $1$.\n",
    "\n",
    "Define $g(n)$ to be the number of $1$'s that must be added before the process ends. For example:\n",
    "\n",
    "$125\\xrightarrow{\\scriptsize{+1}} 126\\xrightarrow{\\scriptsize{\\div 7}} 18\\xrightarrow{\\scriptsize{+1}} 19\\xrightarrow{\\scriptsize{+1}} 20\\xrightarrow{\\scriptsize{+1}} 21\\xrightarrow{\\scriptsize{\\div 7}} 3\\xrightarrow{\\scriptsize{+1}} 4\\xrightarrow{\\scriptsize{+1}} 5\\xrightarrow{\\scriptsize{+1}} 6\\xrightarrow{\\scriptsize{+1}} 7\\xrightarrow{\\scriptsize{\\div 7}} 1$.\n",
    "\n",
    "Eight $1$'s are added so $g(125) = 8$. Similarly $g(1000) = 9$ and $g(10000) = 21$.\n",
    "\n",
    "Define $S(N) = \\sum\\_{n=1}^N g(n)$ and $H(K) = S\\left(\\frac{7^K-1}{11}\\right)$. You are given $H(10) = 690409338$.\n",
    "\n",
    "Find $H(10^9)$ modulo $1\\,117\\,117\\,717$."
   ]
  },
  {
   "cell_type": "code",
   "execution_count": null,
   "id": "16605ba4",
   "metadata": {},
   "outputs": [],
   "source": [
    "# Problem 672 workspace"
   ]
  },
  {
   "cell_type": "markdown",
   "id": "953576b6",
   "metadata": {},
   "source": [
    "## Answer: "
   ]
  },
  {
   "cell_type": "markdown",
   "id": "bc7b3a57",
   "metadata": {},
   "source": [
    "___"
   ]
  },
  {
   "cell_type": "markdown",
   "id": "18e1375b",
   "metadata": {},
   "source": [
    "# Problem 673\n",
    " [Source](https://projecteuler.net/problem=673)"
   ]
  },
  {
   "cell_type": "markdown",
   "id": "baf43ac9",
   "metadata": {},
   "source": [
    "At Euler University, each of the $n$ students (numbered from 1 to $n$) occupies a bed in the dormitory and uses a desk in the classroom.\n",
    "\n",
    "Some of the beds are in private rooms which a student occupies alone, while the others are in double rooms occupied by two students as roommates. Similarly, each desk is either a single desk for the sole use of one student, or a twin desk at which two students sit together as desk partners.\n",
    "\n",
    "We represent the bed and desk sharing arrangements each by a list of pairs of student numbers. For example, with $n=4$, if $(2,3)$ represents the bed pairing and $(1,3)(2,4)$ the desk pairing, then students 2 and 3 are roommates while 1 and 4 have single rooms, and students 1 and 3 are desk partners, as are students 2 and 4.\n",
    "\n",
    "The new chancellor of the university decides to change the organisation of beds and desks: a permutation $\\sigma$ of the numbers $1,2,\\ldots,n$ will be chosen, and each student $k$ will be given both the bed and the desk formerly occupied by student number $\\sigma(k)$.\n",
    "\n",
    "The students agree to this change, under the conditions that:\n",
    "\n",
    "1. Any two students currently sharing a room will still be roommates.\n",
    "2. Any two students currently sharing a desk will still be desk partners.\n",
    "\n",
    "In the example above, there are only two ways to satisfy these conditions: either take no action ($\\sigma$ is the\n",
    "**identity permutation**\n",
    "), or reverse the order of the students.\n",
    "\n",
    "With $n=6$, for the bed pairing $(1,2)(3,4)(5,6)$ and the desk pairing $(3,6)(4,5)$, there are 8 permutations which satisfy the conditions. One example is the mapping $(1, 2, 3, 4, 5, 6) \\mapsto (1, 2, 5, 6, 3, 4)$.\n",
    "\n",
    "With $n=36$, if we have bed pairing:\n",
    "  \n",
    "$(2,13)(4,30)(5,27)(6,16)(10,18)(12,35)(14,19)(15,20)(17,26)(21,32)(22,33)(24,34)(25,28)$\n",
    "  \n",
    "and desk pairing\n",
    "  \n",
    "$(1,35)(2,22)(3,36)(4,28)(5,25)(7,18)(9,23)(13,19)(14,33)(15,34)(20,24)(26,29)(27,30)$\n",
    "  \n",
    "then among the $36!$ possible permutations (including the identity permutation), 663552 of them satisfy the conditions stipulated by the students.\n",
    "\n",
    "The downloadable text files\n",
    "[beds.txt](resources/documents/0673_beds.txt)\n",
    "and\n",
    "[desks.txt](resources/documents/0673_desks.txt)\n",
    "contain pairings for $n=500$. Each pairing is written on its own line, with the student numbers of the two roommates (or desk partners) separated with a comma. For example, the desk pairing in the $n=4$ example above would be represented in this file format as:\n",
    "\n",
    "```\n",
    "\n",
    "1,3\n",
    "2,4\n",
    "\n",
    "```\n",
    "\n",
    "With these pairings, find the number of permutations that satisfy the students' conditions. Give your answer modulo $999\\,999\\,937$."
   ]
  },
  {
   "cell_type": "code",
   "execution_count": null,
   "id": "e2c64e80",
   "metadata": {},
   "outputs": [],
   "source": [
    "# Problem 673 workspace"
   ]
  },
  {
   "cell_type": "markdown",
   "id": "9fc077c1",
   "metadata": {},
   "source": [
    "## Answer: "
   ]
  },
  {
   "cell_type": "markdown",
   "id": "d537eafb",
   "metadata": {},
   "source": [
    "___"
   ]
  },
  {
   "cell_type": "markdown",
   "id": "738b5d21",
   "metadata": {},
   "source": [
    "# Problem 674\n",
    " [Source](https://projecteuler.net/problem=674)"
   ]
  },
  {
   "cell_type": "markdown",
   "id": "35bebfeb",
   "metadata": {},
   "source": [
    "We define the $\\mathcal{I}$ operator as the function\n",
    "$$\\mathcal{I}(x,y) = (1+x+y)^2+y-x$$\n",
    "and $\\mathcal{I}$-expressions as arithmetic expressions built only from variable names and applications of $\\mathcal{I}$. A variable name may consist of one or more letters. For example, the three expressions $x$, $\\mathcal{I}(x,y)$, and $\\mathcal{I}(\\mathcal{I}(x,ab),x)$ are all $\\mathcal{I}$-expressions.\n",
    "\n",
    "For two $\\mathcal{I}$-expressions $e\\_1$ and $e\\_2$ such that the equation $e\\_1=e\\_2$ has a solution in non-negative integers, we define the least simultaneous value of $e\\_1$ and $e\\_2$ to be the minimum value taken by $e\\_1$ and $e\\_2$ on such a solution. If the equation $e\\_1=e\\_2$ has no solution in non-negative integers, we define the least simultaneous value of $e\\_1$ and $e\\_2$ to be $0$. For example, consider the following three $\\mathcal{I}$-expressions:\n",
    "$$\\begin{array}{l}A = \\mathcal{I}(x,\\mathcal{I}(z,t))\\\\\n",
    "B = \\mathcal{I}(\\mathcal{I}(y,z),y)\\\\\n",
    "C = \\mathcal{I}(\\mathcal{I}(x,z),y)\\end{array}$$\n",
    "The least simultaneous value of $A$ and $B$ is $23$, attained for $x=3,y=1,z=t=0$. On the other hand, $A=C$ has no solutions in non-negative integers, so the least simultaneous value of $A$ and $C$ is $0$. The total sum of least simultaneous pairs made of $\\mathcal{I}$-expressions from $\\{A,B,C\\}$ is $26$.\n",
    "\n",
    "Find the sum of least simultaneous values of all $\\mathcal{I}$-expressions pairs made of distinct expressions from file\n",
    "[I-expressions.txt](resources/documents/0674_i_expressions.txt)\n",
    "(pairs $(e\\_1,e\\_2)$ and $(e\\_2,e\\_1)$ are considered to be identical). Give the last nine digits of the result as the answer."
   ]
  },
  {
   "cell_type": "code",
   "execution_count": null,
   "id": "6801c234",
   "metadata": {},
   "outputs": [],
   "source": [
    "# Problem 674 workspace"
   ]
  },
  {
   "cell_type": "markdown",
   "id": "c8e40fa9",
   "metadata": {},
   "source": [
    "## Answer: "
   ]
  },
  {
   "cell_type": "markdown",
   "id": "4f81be51",
   "metadata": {},
   "source": [
    "___"
   ]
  },
  {
   "cell_type": "markdown",
   "id": "f8117834",
   "metadata": {},
   "source": [
    "# Problem 675\n",
    " [Source](https://projecteuler.net/problem=675)"
   ]
  },
  {
   "cell_type": "markdown",
   "id": "f3fe63da",
   "metadata": {},
   "source": [
    "Let $\\omega(n)$ denote the number of distinct prime divisors of a positive integer $n$.\n",
    "  \n",
    "So $\\omega(1) = 0$ and $\\omega(360) = \\omega(2^{3} \\times 3^{2} \\times 5) = 3$.\n",
    "\n",
    "Let $S(n)$ be $ \\sum\\_{d \\mid n} 2^{\\omega(d)} $.\n",
    "  \n",
    "E.g. $S(6) = 2^{\\omega(1)}+2^{\\omega(2)}+2^{\\omega(3)}+2^{\\omega(6)} = 2^0+2^1+2^1+2^2 = 9$.\n",
    "\n",
    "Let $F(n)=\\sum\\_{i=2}^n S(i!)$.\n",
    "$F(10)=4821.$\n",
    "\n",
    "Find $F(10\\,000\\,000)$. Give your answer modulo $1\\,000\\,000\\,087$."
   ]
  },
  {
   "cell_type": "code",
   "execution_count": null,
   "id": "a573d443",
   "metadata": {},
   "outputs": [],
   "source": [
    "# Problem 675 workspace"
   ]
  },
  {
   "cell_type": "markdown",
   "id": "2bd2264e",
   "metadata": {},
   "source": [
    "## Answer: "
   ]
  },
  {
   "cell_type": "markdown",
   "id": "b5e8c216",
   "metadata": {},
   "source": [
    "___"
   ]
  },
  {
   "cell_type": "markdown",
   "id": "f1d7e91f",
   "metadata": {},
   "source": [
    "# Problem 676\n",
    " [Source](https://projecteuler.net/problem=676)"
   ]
  },
  {
   "cell_type": "markdown",
   "id": "e8467559",
   "metadata": {},
   "source": [
    "Let $d(i,b)$ be the\n",
    "**digit sum**\n",
    "of the number $i$ in base $b$. For example $d(9,2)=2$, since $9=1001\\_2$.\n",
    "When using different bases, the respective digit sums most of the time deviate from each other, for example $d(9,4)=3 \\ne d(9,2)$.\n",
    "\n",
    "However, for some numbers $i$ there will be a match, like $d(17,4)=d(17,2)=2$.\n",
    "Let $ M(n,b\\_1,b\\_2)$ be the sum of all natural numbers $i \\le n$ for which $d(i,b\\_1)=d(i,b\\_2)$.\n",
    "For example, $M(10,8,2)=18$, $M(100,8,2)=292$ and $M(10^6,8,2)=19173952$.\n",
    "\n",
    "Find $\\displaystyle \\sum\\_{k=3}^6 \\sum\\_{l=1}^{k-2}M(10^{16},2^k,2^l)$, giving the last $16$ digits as the answer."
   ]
  },
  {
   "cell_type": "code",
   "execution_count": null,
   "id": "cf3f5cf3",
   "metadata": {},
   "outputs": [],
   "source": [
    "# Problem 676 workspace"
   ]
  },
  {
   "cell_type": "markdown",
   "id": "0a7ff2cb",
   "metadata": {},
   "source": [
    "## Answer: "
   ]
  },
  {
   "cell_type": "markdown",
   "id": "00a675fd",
   "metadata": {},
   "source": [
    "___"
   ]
  },
  {
   "cell_type": "markdown",
   "id": "8a0af9d7",
   "metadata": {},
   "source": [
    "# Problem 677\n",
    " [Source](https://projecteuler.net/problem=677)"
   ]
  },
  {
   "cell_type": "markdown",
   "id": "e08bcc63",
   "metadata": {},
   "source": [
    "Let $g(n)$ be the number of\n",
    "**undirected graphs**\n",
    "with $n$ nodes satisfying the following properties:\n",
    "\n",
    "* The graph is connected and has no cycles or multiple edges.\n",
    "* Each node is either red, blue, or yellow.\n",
    "* A red node may have no more than 4 edges connected to it.\n",
    "* A blue or yellow node may have no more than 3 edges connected to it.\n",
    "* An edge may not directly connect a yellow node to a yellow node.\n",
    "\n",
    "For example, $g(2)=5$, $g(3)=15$, and $g(4) = 57$.\n",
    "  \n",
    "You are also given that $g(10) = 710249$ and $g(100) \\equiv 919747298 \\pmod{1\\,000\\,000\\,007}$.\n",
    "\n",
    "Find $g(10\\,000) \\bmod 1\\,000\\,000\\,007$."
   ]
  },
  {
   "cell_type": "code",
   "execution_count": null,
   "id": "670272fa",
   "metadata": {},
   "outputs": [],
   "source": [
    "# Problem 677 workspace"
   ]
  },
  {
   "cell_type": "markdown",
   "id": "171a05d4",
   "metadata": {},
   "source": [
    "## Answer: "
   ]
  },
  {
   "cell_type": "markdown",
   "id": "eb41d249",
   "metadata": {},
   "source": [
    "___"
   ]
  },
  {
   "cell_type": "markdown",
   "id": "45e12cd0",
   "metadata": {},
   "source": [
    "# Problem 678\n",
    " [Source](https://projecteuler.net/problem=678)"
   ]
  },
  {
   "cell_type": "markdown",
   "id": "69b36757",
   "metadata": {},
   "source": [
    "If a triple of positive integers $(a, b, c)$ satisfies $a^2+b^2=c^2$, it is called a Pythagorean triple. No triple $(a, b, c)$ satisfies $a^e+b^e=c^e$ when $e \\ge 3$ (Fermat's Last Theorem). However, if the exponents of the left-hand side and right-hand side differ, this is not true. For example, $3^3+6^3=3^5$.\n",
    "\n",
    "Let $a, b, c, e, f$ be all positive integers, $0 \\lt a \\lt b$, $e \\ge 2$, $f \\ge 3$ and $c^f \\le N$. Let $F(N)$ be the number of $(a, b, c, e, f)$ such that $a^e+b^e=c^f$. You are given $F(10^3) = 7$, $F(10^5) = 53$ and $F(10^7) = 287$.\n",
    "\n",
    "Find $F(10^{18})$."
   ]
  },
  {
   "cell_type": "code",
   "execution_count": null,
   "id": "351dc958",
   "metadata": {},
   "outputs": [],
   "source": [
    "# Problem 678 workspace"
   ]
  },
  {
   "cell_type": "markdown",
   "id": "d72791a6",
   "metadata": {},
   "source": [
    "## Answer: "
   ]
  },
  {
   "cell_type": "markdown",
   "id": "b436a42a",
   "metadata": {},
   "source": [
    "___"
   ]
  },
  {
   "cell_type": "markdown",
   "id": "83733e33",
   "metadata": {},
   "source": [
    "# Problem 679\n",
    " [Source](https://projecteuler.net/problem=679)"
   ]
  },
  {
   "cell_type": "markdown",
   "id": "b993f78f",
   "metadata": {},
   "source": [
    "Let $S$ be the set consisting of the four letters $\\{\\texttt{`A'},\\texttt{`E'},\\texttt{`F'},\\texttt{`R'}\\}$.\n",
    "  \n",
    "For $n\\ge 0$, let $S^\\*(n)$ denote the set of words of length $n$ consisting of letters belonging to $S$.\n",
    "  \n",
    "We designate the words $\\texttt{FREE}, \\texttt{FARE}, \\texttt{AREA}, \\texttt{REEF}$ as\n",
    "*keywords*\n",
    ".\n",
    "\n",
    "Let $f(n)$ be the number of words in $S^\\*(n)$ that contains all four keywords exactly once.\n",
    "\n",
    "This first happens for $n=9$, and indeed there is a unique 9 lettered word that contain each of the keywords once: $\\texttt{FREEFAREA}$\n",
    "  \n",
    "So, $f(9)=1$.\n",
    "\n",
    "You are also given that $f(15)=72863$.\n",
    "\n",
    "Find $f(30)$."
   ]
  },
  {
   "cell_type": "code",
   "execution_count": null,
   "id": "ad9af1aa",
   "metadata": {},
   "outputs": [],
   "source": [
    "# Problem 679 workspace"
   ]
  },
  {
   "cell_type": "markdown",
   "id": "2382db3a",
   "metadata": {},
   "source": [
    "## Answer: "
   ]
  },
  {
   "cell_type": "markdown",
   "id": "c4a3496d",
   "metadata": {},
   "source": [
    "___"
   ]
  },
  {
   "cell_type": "markdown",
   "id": "8297f4e6",
   "metadata": {},
   "source": [
    "# Problem 680\n",
    " [Source](https://projecteuler.net/problem=680)"
   ]
  },
  {
   "cell_type": "markdown",
   "id": "2ec1d2ee",
   "metadata": {},
   "source": [
    "Let $N$ and $K$ be two positive integers.\n",
    "\n",
    "$F\\_n$ is the $n$-th Fibonacci number: $F\\_1 = F\\_2 = 1$, $F\\_n = F\\_{n - 1} + F\\_{n - 2}$ for all $n \\geq 3$.\n",
    "  \n",
    "Let $s\\_n = F\\_{2n - 1} \\bmod N$ and let $t\\_n = F\\_{2n} \\bmod N$.\n",
    "\n",
    "Start with an array of integers $A = (A[0], \\cdots, A[N - 1])$ where initially every $A\\text{[}i]$ is equal to $i$.\n",
    "Now perform $K$ successive operations on $A$, where the $j$-th operation consists of reversing the order of those elements in $A$ with indices between $s\\_j$ and $t\\_j$ (both ends inclusive).\n",
    "\n",
    "Define $R(N,K)$ to be $\\sum\\_{i = 0}^{N - 1}i \\times A\\text {[}i]$ after $K$ operations.\n",
    "\n",
    "For example, $R(5, 4) = 27$, as can be seen from the following procedure:\n",
    "\n",
    "Initial position: $(0, 1, 2, 3, 4)$\n",
    "  \n",
    "Step 1 - Reverse $A[1]$ to $A[1]$: $(0, 1, 2, 3, 4)$\n",
    "  \n",
    "Step 2 - Reverse $A[2]$ to $A[3]$: $(0, 1, 3, 2, 4)$\n",
    "  \n",
    "Step 3 - Reverse $A[0]$ to $A[3]$: $(2, 3, 1, 0, 4)$\n",
    "  \n",
    "Step 4 - Reverse $A[3]$ to $A[1]$: $(2, 0, 1, 3, 4)$\n",
    "  \n",
    "$R(5, 4) = 0 \\times 2 + 1 \\times 0 + 2 \\times 1 + 3 \\times 3 + 4 \\times 4 = 27$\n",
    "\n",
    "Also, $R(10^2, 10^2) = 246597$ and $R(10^4, 10^4) = 249275481640$.\n",
    "\n",
    "Find $R(10^{18}, 10^6)$ giving your answer modulo $10^9$."
   ]
  },
  {
   "cell_type": "code",
   "execution_count": null,
   "id": "02631682",
   "metadata": {},
   "outputs": [],
   "source": [
    "# Problem 680 workspace"
   ]
  },
  {
   "cell_type": "markdown",
   "id": "5ec7e546",
   "metadata": {},
   "source": [
    "## Answer: "
   ]
  },
  {
   "cell_type": "markdown",
   "id": "584e0343",
   "metadata": {},
   "source": [
    "___"
   ]
  }
 ],
 "metadata": {},
 "nbformat": 4,
 "nbformat_minor": 5
}
