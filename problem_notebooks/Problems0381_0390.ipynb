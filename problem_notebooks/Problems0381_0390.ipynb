{
 "cells": [
  {
   "cell_type": "markdown",
   "id": "c21d34a3",
   "metadata": {},
   "source": [
    "# Problem 381\n",
    " [Source](https://projecteuler.net/problem=381)"
   ]
  },
  {
   "cell_type": "markdown",
   "id": "90448cdf",
   "metadata": {},
   "source": [
    "For a prime $p$ let $S(p) = (\\sum (p-k)!) \\bmod (p)$ for $1 \\le k \\le 5$.\n",
    "\n",
    "For example, if $p=7$,\n",
    "  \n",
    "$(7-1)! + (7-2)! + (7-3)! + (7-4)! + (7-5)! = 6! + 5! + 4! + 3! + 2! = 720+120+24+6+2 = 872$.\n",
    "  \n",
    "As $872 \\bmod (7) = 4$, $S(7) = 4$.\n",
    "\n",
    "It can be verified that $\\sum S(p) = 480$ for $5 \\le p \\lt 100$.\n",
    "\n",
    "Find $\\sum S(p)$ for $5 \\le p \\lt 10^8$."
   ]
  },
  {
   "cell_type": "code",
   "execution_count": null,
   "id": "83dffa8a",
   "metadata": {},
   "outputs": [],
   "source": [
    "# Problem 381 workspace"
   ]
  },
  {
   "cell_type": "markdown",
   "id": "3a2acde5",
   "metadata": {},
   "source": [
    "## Answer: "
   ]
  },
  {
   "cell_type": "markdown",
   "id": "72fd2604",
   "metadata": {},
   "source": [
    "___"
   ]
  },
  {
   "cell_type": "markdown",
   "id": "e1e402ca",
   "metadata": {},
   "source": [
    "# Problem 382\n",
    " [Source](https://projecteuler.net/problem=382)"
   ]
  },
  {
   "cell_type": "markdown",
   "id": "4ad537a2",
   "metadata": {},
   "source": [
    "A\n",
    "**polygon**\n",
    "is a flat shape consisting of straight line segments that are joined to form a closed chain or circuit. A polygon consists of at least three sides and does not self-intersect.\n",
    "\n",
    "A set $S$ of positive numbers is said to\n",
    "generate a polygon\n",
    "$P$ if:\n",
    "\n",
    "* no two sides of $P$ are the same length,\n",
    "* the length of every side of $P$ is in $S$, and\n",
    "* $S$ contains no other value.\n",
    "\n",
    "For example:\n",
    "  \n",
    "The set $\\{3, 4, 5\\}$ generates a polygon with sides $3$, $4$, and $5$ (a triangle).\n",
    "  \n",
    "The set $\\{6, 9, 11, 24\\}$ generates a polygon with sides $6$, $9$, $11$, and $24$ (a quadrilateral).\n",
    "  \n",
    "The sets $\\{1, 2, 3\\}$ and $\\{2, 3, 4, 9\\}$ do not generate any polygon at all.\n",
    "\n",
    "Consider the sequence $s$, defined as follows:\n",
    "\n",
    "* $s\\_1 = 1$, $s\\_2 = 2$, $s\\_3 = 3$\n",
    "* $s\\_n = s\\_{n-1} + s\\_{n-3}$ for $n \\gt 3$.\n",
    "\n",
    "Let $U\\_n$ be the set $\\{s\\_1, s\\_2, \\dots, s\\_n\\}$. For example, $U\\_{10} = \\{1, 2, 3, 4, 6, 9, 13, 19, 28, 41\\}$.\n",
    "  \n",
    "Let $f(n)$ be the number of subsets of $U\\_n$ which generate at least one polygon.\n",
    "  \n",
    "For example, $f(5) = 7$, $f(10) = 501$ and $f(25) = 18635853$.\n",
    "\n",
    "Find the last $9$ digits of $f(10^{18})$."
   ]
  },
  {
   "cell_type": "code",
   "execution_count": null,
   "id": "ff20fb65",
   "metadata": {},
   "outputs": [],
   "source": [
    "# Problem 382 workspace"
   ]
  },
  {
   "cell_type": "markdown",
   "id": "7c637f95",
   "metadata": {},
   "source": [
    "## Answer: "
   ]
  },
  {
   "cell_type": "markdown",
   "id": "566dbf77",
   "metadata": {},
   "source": [
    "___"
   ]
  },
  {
   "cell_type": "markdown",
   "id": "55ad5a58",
   "metadata": {},
   "source": [
    "# Problem 383\n",
    " [Source](https://projecteuler.net/problem=383)"
   ]
  },
  {
   "cell_type": "markdown",
   "id": "2bd07727",
   "metadata": {},
   "source": [
    "Let $f\\_5(n)$ be the largest integer $x$ for which $5^x$ divides $n$.\n",
    "  \n",
    "For example, $f\\_5(625000) = 7$.\n",
    "\n",
    "Let $T\\_5(n)$ be the number of integers $i$ which satisfy $f\\_5((2 \\cdot i - 1)!) \\lt 2 \\cdot f\\_5(i!)$ and $1 \\le i \\le n$.\n",
    "  \n",
    "It can be verified that $T\\_5(10^3) = 68$ and $T\\_5(10^9) = 2408210$.\n",
    "\n",
    "Find $T\\_5(10^{18})$."
   ]
  },
  {
   "cell_type": "code",
   "execution_count": null,
   "id": "782dd555",
   "metadata": {},
   "outputs": [],
   "source": [
    "# Problem 383 workspace"
   ]
  },
  {
   "cell_type": "markdown",
   "id": "ca1eebd6",
   "metadata": {},
   "source": [
    "## Answer: "
   ]
  },
  {
   "cell_type": "markdown",
   "id": "08271ac7",
   "metadata": {},
   "source": [
    "___"
   ]
  },
  {
   "cell_type": "markdown",
   "id": "6f342869",
   "metadata": {},
   "source": [
    "# Problem 384\n",
    " [Source](https://projecteuler.net/problem=384)"
   ]
  },
  {
   "cell_type": "markdown",
   "id": "e4243a46",
   "metadata": {},
   "source": [
    "Define the sequence $a(n)$ as the number of adjacent pairs of ones in the binary expansion of $n$ (possibly overlapping).\n",
    "  \n",
    "E.g.: $a(5) = a(101\\_2) = 0$, $a(6) = a(110\\_2) = 1$, $a(7) = a(111\\_2) = 2$.\n",
    "\n",
    "Define the sequence $b(n) = (-1)^{a(n)}$.\n",
    "  \n",
    "This sequence is called the\n",
    "**Rudin-Shapiro**\n",
    "sequence.\n",
    "\n",
    "Also consider the summatory sequence of $b(n)$: $s(n) = \\sum \\limits\\_{i = 0}^n b(i)$.\n",
    "\n",
    "The first couple of values of these sequences are:\n",
    "\n",
    "|  |  |  |  |  |  |  |  |  |\n",
    "| --- | --- | --- | --- | --- | --- | --- | --- | --- |\n",
    "| $n$ | $0$ | $1$ | $2$ | $3$ | $4$ | $5$ | $6$ | $7$ |\n",
    "| $a(n)$ | $0$ | $0$ | $0$ | $1$ | $0$ | $0$ | $1$ | $2$ |\n",
    "| $b(n)$ | $1$ | $1$ | $1$ | $-1$ | $1$ | $1$ | $-1$ | $1$ |\n",
    "| $s(n)$ | $1$ | $2$ | $3$ | $2$ | $3$ | $4$ | $3$ | $4$ |\n",
    "\n",
    "The sequence $s(n)$ has the remarkable property that all elements are positive and every positive integer $k$ occurs exactly $k$ times.\n",
    "\n",
    "Define $g(t,c)$, with $1 \\le c \\le t$, as the index in $s(n)$ for which $t$ occurs for the $c$'th time in $s(n)$.\n",
    "  \n",
    "E.g.: $g(3,3) = 6$, $g(4,2) = 7$ and $g(54321,12345) = 1220847710$.\n",
    "\n",
    "Let $F(n)$ be the Fibonacci sequence defined by:\n",
    "  \n",
    "$F(0)=F(1)=1$ and\n",
    "  \n",
    "$F(n)=F(n-1)+F(n-2)$ for $n \\gt 1$.\n",
    "\n",
    "Define $GF(t)=g(F(t),F(t-1))$.\n",
    "\n",
    "Find $\\sum GF(t)$ for $2 \\le t \\le 45$."
   ]
  },
  {
   "cell_type": "code",
   "execution_count": null,
   "id": "3d6f8c75",
   "metadata": {},
   "outputs": [],
   "source": [
    "# Problem 384 workspace"
   ]
  },
  {
   "cell_type": "markdown",
   "id": "c1db77c2",
   "metadata": {},
   "source": [
    "## Answer: "
   ]
  },
  {
   "cell_type": "markdown",
   "id": "b4aaae0f",
   "metadata": {},
   "source": [
    "___"
   ]
  },
  {
   "cell_type": "markdown",
   "id": "08adebe4",
   "metadata": {},
   "source": [
    "# Problem 385\n",
    " [Source](https://projecteuler.net/problem=385)"
   ]
  },
  {
   "cell_type": "markdown",
   "id": "519e8ef8",
   "metadata": {},
   "source": [
    "For any triangle $T$ in the plane, it can be shown that there is a unique ellipse with largest area that is completely inside $T$.\n",
    "\n",
    "![0385_ellipsetriangle.png](resources/0385_ellipsetriangle.png)\n",
    "\n",
    "For a given $n$, consider triangles $T$ such that:\n",
    "  \n",
    "- the vertices of $T$ have integer coordinates with absolute value $\\le n$, and\n",
    "  \n",
    "- the\n",
    "**foci**\n",
    "1\n",
    "of the largest-area ellipse inside $T$ are $(\\sqrt{13},0)$ and $(-\\sqrt{13},0)$.\n",
    "  \n",
    "Let $A(n)$ be the sum of the areas of all such triangles.\n",
    "\n",
    "For example, if $n = 8$, there are two such triangles. Their vertices are $(-4,-3),(-4,3),(8,0)$ and $(4,3),(4,-3),(-8,0)$, and the area of each triangle is $36$. Thus $A(8) = 36 + 36 = 72$.\n",
    "\n",
    "It can be verified that $A(10) = 252$, $A(100) = 34632$ and $A(1000) = 3529008$.\n",
    "\n",
    "Find $A(1\\,000\\,000\\,000)$.\n",
    "\n",
    "1\n",
    "The\n",
    "**foci**\n",
    "(plural of\n",
    "**focus**\n",
    ") of an ellipse are two points $A$ and $B$ such that for every point $P$ on the boundary of the ellipse, $AP + PB$ is constant."
   ]
  },
  {
   "cell_type": "code",
   "execution_count": null,
   "id": "82cfb174",
   "metadata": {},
   "outputs": [],
   "source": [
    "# Problem 385 workspace"
   ]
  },
  {
   "cell_type": "markdown",
   "id": "14924ef8",
   "metadata": {},
   "source": [
    "## Answer: "
   ]
  },
  {
   "cell_type": "markdown",
   "id": "6f07942f",
   "metadata": {},
   "source": [
    "___"
   ]
  },
  {
   "cell_type": "markdown",
   "id": "700ee169",
   "metadata": {},
   "source": [
    "# Problem 386\n",
    " [Source](https://projecteuler.net/problem=386)"
   ]
  },
  {
   "cell_type": "markdown",
   "id": "456b776a",
   "metadata": {},
   "source": [
    "Let $n$ be an integer and $S(n)$ be the set of factors of $n$.\n",
    "\n",
    "A subset $A$ of $S(n)$ is called an\n",
    "**antichain**\n",
    "of $S(n)$ if $A$ contains only one element or if none of the elements of $A$ divides any of the other elements of $A$.\n",
    "\n",
    "For example: $S(30) = \\{1, 2, 3, 5, 6, 10, 15, 30\\}$.\n",
    "  \n",
    "$\\{2, 5, 6\\}$ is not an antichain of $S(30)$.\n",
    "  \n",
    "$\\{2, 3, 5\\}$ is an antichain of $S(30)$.\n",
    "\n",
    "Let $N(n)$ be the maximum length of an antichain of $S(n)$.\n",
    "\n",
    "Find $\\sum N(n)$ for $1 \\le n \\le 10^8$."
   ]
  },
  {
   "cell_type": "code",
   "execution_count": null,
   "id": "2ff25f73",
   "metadata": {},
   "outputs": [],
   "source": [
    "# Problem 386 workspace"
   ]
  },
  {
   "cell_type": "markdown",
   "id": "cd8048ff",
   "metadata": {},
   "source": [
    "## Answer: "
   ]
  },
  {
   "cell_type": "markdown",
   "id": "10080241",
   "metadata": {},
   "source": [
    "___"
   ]
  },
  {
   "cell_type": "markdown",
   "id": "06b59a99",
   "metadata": {},
   "source": [
    "# Problem 387\n",
    " [Source](https://projecteuler.net/problem=387)"
   ]
  },
  {
   "cell_type": "markdown",
   "id": "cadc4b8c",
   "metadata": {},
   "source": [
    "A\n",
    "**Harshad or Niven number**\n",
    "is a number that is divisible by the sum of its digits.\n",
    "  \n",
    "$201$ is a Harshad number because it is divisible by $3$ (the sum of its digits.)\n",
    "  \n",
    "When we truncate the last digit from $201$, we get $20$, which is a Harshad number.\n",
    "  \n",
    "When we truncate the last digit from $20$, we get $2$, which is also a Harshad number.\n",
    "  \n",
    "Let's call a Harshad number that, while recursively truncating the last digit, always results in a Harshad number a\n",
    "right truncatable Harshad number\n",
    ".\n",
    "\n",
    "Also:\n",
    "  \n",
    "$201/3=67$ which is prime.\n",
    "  \n",
    "Let's call a Harshad number that, when divided by the sum of its digits, results in a prime a\n",
    "strong Harshad number\n",
    ".\n",
    "\n",
    "Now take the number $2011$ which is prime.\n",
    "  \n",
    "When we truncate the last digit from it we get $201$, a strong Harshad number that is also right truncatable.\n",
    "  \n",
    "Let's call such primes\n",
    "strong, right truncatable Harshad primes\n",
    ".\n",
    "\n",
    "You are given that the sum of the strong, right truncatable Harshad primes less than $10000$ is $90619$.\n",
    "\n",
    "Find the sum of the strong, right truncatable Harshad primes less than $10^{14}$."
   ]
  },
  {
   "cell_type": "code",
   "execution_count": null,
   "id": "08c7f01b",
   "metadata": {},
   "outputs": [],
   "source": [
    "# Problem 387 workspace"
   ]
  },
  {
   "cell_type": "markdown",
   "id": "441a2b1f",
   "metadata": {},
   "source": [
    "## Answer: "
   ]
  },
  {
   "cell_type": "markdown",
   "id": "d03b1fa1",
   "metadata": {},
   "source": [
    "___"
   ]
  },
  {
   "cell_type": "markdown",
   "id": "d6a07995",
   "metadata": {},
   "source": [
    "# Problem 388\n",
    " [Source](https://projecteuler.net/problem=388)"
   ]
  },
  {
   "cell_type": "markdown",
   "id": "7b231f16",
   "metadata": {},
   "source": [
    "Consider all lattice points $(a,b,c)$ with $0 \\le a,b,c \\le N$.\n",
    "\n",
    "From the origin $O(0,0,0)$ all lines are drawn to the other lattice points.\n",
    "  \n",
    "Let $D(N)$ be the number of\n",
    "*distinct*\n",
    "such lines.\n",
    "\n",
    "You are given that $D(1\\,000\\,000) = 831909254469114121$.\n",
    "\n",
    "Find $D(10^{10})$. Give as your answer the first nine digits followed by the last nine digits."
   ]
  },
  {
   "cell_type": "code",
   "execution_count": null,
   "id": "4b9694dd",
   "metadata": {},
   "outputs": [],
   "source": [
    "# Problem 388 workspace"
   ]
  },
  {
   "cell_type": "markdown",
   "id": "37c2db34",
   "metadata": {},
   "source": [
    "## Answer: "
   ]
  },
  {
   "cell_type": "markdown",
   "id": "b04f1e40",
   "metadata": {},
   "source": [
    "___"
   ]
  },
  {
   "cell_type": "markdown",
   "id": "d833c26f",
   "metadata": {},
   "source": [
    "# Problem 389\n",
    " [Source](https://projecteuler.net/problem=389)"
   ]
  },
  {
   "cell_type": "markdown",
   "id": "834f6212",
   "metadata": {},
   "source": [
    "An unbiased single $4$-sided die is thrown and its value, $T$, is noted.\n",
    "  \n",
    "$T$ unbiased $6$-sided dice are thrown and their scores are added together. The sum, $C$, is noted.\n",
    "  \n",
    "$C$ unbiased $8$-sided dice are thrown and their scores are added together. The sum, $O$, is noted.\n",
    "  \n",
    "$O$ unbiased $12$-sided dice are thrown and their scores are added together. The sum, $D$, is noted.\n",
    "  \n",
    "$D$ unbiased $20$-sided dice are thrown and their scores are added together. The sum, $I$, is noted.\n",
    "  \n",
    "Find the\n",
    "**variance**\n",
    "of $I$, and give your answer rounded to $4$ decimal places."
   ]
  },
  {
   "cell_type": "code",
   "execution_count": null,
   "id": "8f90e433",
   "metadata": {},
   "outputs": [],
   "source": [
    "# Problem 389 workspace"
   ]
  },
  {
   "cell_type": "markdown",
   "id": "2e972eac",
   "metadata": {},
   "source": [
    "## Answer: "
   ]
  },
  {
   "cell_type": "markdown",
   "id": "32b1bd4b",
   "metadata": {},
   "source": [
    "___"
   ]
  },
  {
   "cell_type": "markdown",
   "id": "100a1173",
   "metadata": {},
   "source": [
    "# Problem 390\n",
    " [Source](https://projecteuler.net/problem=390)"
   ]
  },
  {
   "cell_type": "markdown",
   "id": "f407324e",
   "metadata": {},
   "source": [
    "Consider the triangle with sides $\\sqrt 5$, $\\sqrt {65}$ and $\\sqrt {68}$.\n",
    "It can be shown that this triangle has area $9$.\n",
    "\n",
    "$S(n)$ is the sum of the areas of all triangles with sides $\\sqrt{1+b^2}$, $\\sqrt {1+c^2}$ and $\\sqrt{b^2+c^2}\\,$ (for positive integers $b$ and $c$) that have an integral area not exceeding $n$.\n",
    "\n",
    "The example triangle has $b=2$ and $c=8$.\n",
    "\n",
    "$S(10^6)=18018206$.\n",
    "\n",
    "Find $S(10^{10})$."
   ]
  },
  {
   "cell_type": "code",
   "execution_count": null,
   "id": "bc04aa69",
   "metadata": {},
   "outputs": [],
   "source": [
    "# Problem 390 workspace"
   ]
  },
  {
   "cell_type": "markdown",
   "id": "f5525575",
   "metadata": {},
   "source": [
    "## Answer: "
   ]
  },
  {
   "cell_type": "markdown",
   "id": "ad402648",
   "metadata": {},
   "source": [
    "___"
   ]
  }
 ],
 "metadata": {},
 "nbformat": 4,
 "nbformat_minor": 5
}
