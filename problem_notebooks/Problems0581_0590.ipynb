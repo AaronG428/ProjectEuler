{
 "cells": [
  {
   "cell_type": "markdown",
   "id": "c2735c32",
   "metadata": {},
   "source": [
    "# Problem 581\n",
    " [Source](https://projecteuler.net/problem=581)"
   ]
  },
  {
   "cell_type": "markdown",
   "id": "dcd615ff",
   "metadata": {},
   "source": [
    "A number is $p$-smooth if it has no prime factors larger than $p$.\n",
    "  \n",
    "Let $T$ be the sequence of triangular numbers, i.e. $T(n)=n(n+1)/2$.\n",
    "  \n",
    "Find the sum of all indices $n$ such that $T(n)$ is $47$-smooth."
   ]
  },
  {
   "cell_type": "code",
   "execution_count": null,
   "id": "28bf8904",
   "metadata": {},
   "outputs": [],
   "source": [
    "# Problem 581 workspace"
   ]
  },
  {
   "cell_type": "markdown",
   "id": "75705e1e",
   "metadata": {},
   "source": [
    "## Answer: "
   ]
  },
  {
   "cell_type": "markdown",
   "id": "c6eae53e",
   "metadata": {},
   "source": [
    "___"
   ]
  },
  {
   "cell_type": "markdown",
   "id": "9a84a0be",
   "metadata": {},
   "source": [
    "# Problem 582\n",
    " [Source](https://projecteuler.net/problem=582)"
   ]
  },
  {
   "cell_type": "markdown",
   "id": "e15e06e8",
   "metadata": {},
   "source": [
    "Let $a, b$ and $c$ be the sides of an integer sided triangle with one angle of $120$ degrees, $a \\le b \\le c$ and $b-a \\le 100$.\n",
    "  \n",
    "Let $T(n)$ be the number of such triangles with $c \\le n$.\n",
    "  \n",
    "$T(1000)=235$ and $T(10^8)=1245$.\n",
    "  \n",
    "Find $T(10^{100})$."
   ]
  },
  {
   "cell_type": "code",
   "execution_count": null,
   "id": "76560425",
   "metadata": {},
   "outputs": [],
   "source": [
    "# Problem 582 workspace"
   ]
  },
  {
   "cell_type": "markdown",
   "id": "54ee3008",
   "metadata": {},
   "source": [
    "## Answer: "
   ]
  },
  {
   "cell_type": "markdown",
   "id": "e8f08aa3",
   "metadata": {},
   "source": [
    "___"
   ]
  },
  {
   "cell_type": "markdown",
   "id": "70372dbc",
   "metadata": {},
   "source": [
    "# Problem 583\n",
    " [Source](https://projecteuler.net/problem=583)"
   ]
  },
  {
   "cell_type": "markdown",
   "id": "5823c440",
   "metadata": {},
   "source": [
    "A standard envelope shape is a convex figure consisting of an isosceles triangle (the flap) placed on top of a rectangle. An example of an envelope with integral sides is shown below. Note that to form a sensible envelope, the perpendicular height of the flap ($BCD$) must be smaller than the height of the rectangle ($ABDE$).\n",
    "\n",
    "![0583_heron_envelope.gif](resources/0583_heron_envelope.gif)\n",
    "\n",
    "In the envelope illustrated, not only are all the sides integral, but also all the diagonals ($AC$, $AD$, $BD$, $BE$ and $CE$) are integral too. Let us call an envelope with these properties a\n",
    "Heron envelope\n",
    ".\n",
    "\n",
    "Let $S(p)$ be the sum of the perimeters of all the Heron envelopes with a perimeter less than or equal to $p$.\n",
    "\n",
    "You are given that $S(10^4) = 884680$. Find $S(10^7)$."
   ]
  },
  {
   "cell_type": "code",
   "execution_count": null,
   "id": "5c3f1a3a",
   "metadata": {},
   "outputs": [],
   "source": [
    "# Problem 583 workspace"
   ]
  },
  {
   "cell_type": "markdown",
   "id": "34da8028",
   "metadata": {},
   "source": [
    "## Answer: "
   ]
  },
  {
   "cell_type": "markdown",
   "id": "05e3f98a",
   "metadata": {},
   "source": [
    "___"
   ]
  },
  {
   "cell_type": "markdown",
   "id": "25bc2aed",
   "metadata": {},
   "source": [
    "# Problem 584\n",
    " [Source](https://projecteuler.net/problem=584)"
   ]
  },
  {
   "cell_type": "markdown",
   "id": "883fec6b",
   "metadata": {},
   "source": [
    "A long long time ago in a galaxy far far away, the Wimwians, inhabitants of planet WimWi, discovered an unmanned drone that had landed on their planet. On examining the drone, they uncovered a device that sought the answer for the so called \"\n",
    "**Birthday Problem**\n",
    "\". The description of the problem was as follows:\n",
    "\n",
    "*If people on your planet were to enter a very large room one by one, what will be the expected number of people in the room when you first find\n",
    "**3 people with Birthdays within 1 day from each other**\n",
    ".*\n",
    "\n",
    "The description further instructed them to enter the answer into the device and send the drone into space again. Startled by this turn of events, the Wimwians consulted their best mathematicians. Each year on Wimwi has 10 days and the mathematicians assumed equally likely birthdays and ignored leap years (leap years in Wimwi have 11 days), and found 5.78688636 to be the required answer. As such, the Wimwians entered this answer and sent the drone back into space.\n",
    "\n",
    "After traveling light years away, the drone then landed on planet Joka. The same events ensued except this time, the numbers in the device had changed due to some unknown technical issues. The description read:\n",
    "\n",
    "*If people on your planet were to enter a very large room one by one, what will be the expected number of people in the room when you first find\n",
    "**3 people with Birthdays within 7 days from each other**\n",
    ".*\n",
    "\n",
    "With a 100-day year on the planet, the Jokars (inhabitants of Joka) found the answer to be 8.48967364 (rounded to 8 decimal places because the device allowed only 8 places after the decimal point) assuming equally likely birthdays. They too entered the answer into the device and launched the drone into space again.\n",
    "\n",
    "This time the drone landed on planet Earth. As before the numbers in the problem description had changed. It read:\n",
    "\n",
    "*If people on your planet were to enter a very large room one by one, what will be the expected number of people in the room when you first find\n",
    "**4 people with Birthdays within 7 days from each other**\n",
    ".*\n",
    "\n",
    "What would be the answer (rounded to eight places after the decimal point) the people of Earth have to enter into the device for a year with 365 days? Ignore leap years. Also assume that all birthdays are equally likely and independent of each other."
   ]
  },
  {
   "cell_type": "code",
   "execution_count": null,
   "id": "0ab4ddc9",
   "metadata": {},
   "outputs": [],
   "source": [
    "# Problem 584 workspace"
   ]
  },
  {
   "cell_type": "markdown",
   "id": "df51cb01",
   "metadata": {},
   "source": [
    "## Answer: "
   ]
  },
  {
   "cell_type": "markdown",
   "id": "b1e1f83a",
   "metadata": {},
   "source": [
    "___"
   ]
  },
  {
   "cell_type": "markdown",
   "id": "bd7d3d21",
   "metadata": {},
   "source": [
    "# Problem 585\n",
    " [Source](https://projecteuler.net/problem=585)"
   ]
  },
  {
   "cell_type": "markdown",
   "id": "16e37cb5",
   "metadata": {},
   "source": [
    "Consider the term $\\small \\sqrt{x+\\sqrt{y}+\\sqrt{z}}$ that is representing a\n",
    "**nested square root**\n",
    ". $x$, $y$ and $z$ are positive integers and $y$ and $z$ are not allowed to be perfect squares, so the number below the outer square root is irrational. Still it can be shown that for some combinations of $x$, $y$ and $z$ the given term can be simplified into a sum and/or difference of simple square roots of integers, actually\n",
    "**denesting**\n",
    "the square roots in the initial expression.\n",
    "\n",
    "Here are some examples of this denesting:\n",
    "  \n",
    "$\\small \\sqrt{3+\\sqrt{2}+\\sqrt{2}}=\\sqrt{2}+\\sqrt{1}=\\sqrt{2}+1$\n",
    "  \n",
    "$\\small \\sqrt{8+\\sqrt{15}+\\sqrt{15}}=\\sqrt{5}+\\sqrt{3}$\n",
    "  \n",
    "$\\small \\sqrt{20+\\sqrt{96}+\\sqrt{12}}=\\sqrt{9}+\\sqrt{6}+\\sqrt{3}-\\sqrt{2}=3+\\sqrt{6}+\\sqrt{3}-\\sqrt{2}$\n",
    "  \n",
    "$\\small \\sqrt{28+\\sqrt{160}+\\sqrt{108}}=\\sqrt{15}+\\sqrt{6}+\\sqrt{5}-\\sqrt{2}$\n",
    "\n",
    "As you can see the integers used in the denested expression may also be perfect squares resulting in further simplification.\n",
    "\n",
    "Let F($n$) be the number of different terms $\\small \\sqrt{x+\\sqrt{y}+\\sqrt{z}}$, that can be denested into the sum and/or difference of a finite number of square roots, given the additional condition that $0<x \\le n$. That is,\n",
    "  \n",
    "$\\small \\displaystyle \\sqrt{x+\\sqrt{y}+\\sqrt{z}}=\\sum\\_{i=1}^k s\\_i\\sqrt{a\\_i}$\n",
    "  \n",
    "with $k$, $x$, $y$, $z$ and all $a\\_i$ being positive integers, all $s\\_i =\\pm 1$ and $x\\le n$.\n",
    "  \n",
    "Furthermore $y$ and $z$ are not allowed to be perfect squares.\n",
    "\n",
    "Nested roots with the same value are not considered different, for example $\\small \\sqrt{7+\\sqrt{3}+\\sqrt{27}}$, $\\small \\sqrt{7+\\sqrt{12}+\\sqrt{12}}$ and $\\small \\sqrt{7+\\sqrt{27}+\\sqrt{3}}$, that can all three be denested into $\\small 2+\\sqrt{3}$, would only be counted once.\n",
    "\n",
    "You are given that $F(10)=17$, $F(15)=46$, $F(20)=86$, $F(30)=213$ and $F(100)=2918$ and $F(5000)=11134074$.\n",
    "  \n",
    "Find $F(5000000)$."
   ]
  },
  {
   "cell_type": "code",
   "execution_count": null,
   "id": "50f0f395",
   "metadata": {},
   "outputs": [],
   "source": [
    "# Problem 585 workspace"
   ]
  },
  {
   "cell_type": "markdown",
   "id": "6ea388ac",
   "metadata": {},
   "source": [
    "## Answer: "
   ]
  },
  {
   "cell_type": "markdown",
   "id": "824df1d3",
   "metadata": {},
   "source": [
    "___"
   ]
  },
  {
   "cell_type": "markdown",
   "id": "b790b08e",
   "metadata": {},
   "source": [
    "# Problem 586\n",
    " [Source](https://projecteuler.net/problem=586)"
   ]
  },
  {
   "cell_type": "markdown",
   "id": "baac85cc",
   "metadata": {},
   "source": [
    "The number $209$ can be expressed as $a^2 + 3ab + b^2$ in two distinct ways:\n",
    "\n",
    "$ \\qquad 209 = 8^2 + 3\\cdot 8\\cdot 5 + 5^2$\n",
    "  \n",
    "$ \\qquad 209 = 13^2 + 3\\cdot13\\cdot 1 + 1^2$\n",
    "\n",
    "Let $f(n,r)$ be the number of integers $k$ not exceeding $n$ that can be expressed as $k=a^2 + 3ab + b^2$, with $a \\gt b \\gt 0$ integers, in exactly $r$ different ways.\n",
    "\n",
    "You are given that $f(10^5, 4) = 237$ and $f(10^8, 6) = 59517$.\n",
    "\n",
    "Find $f(10^{15}, 40)$."
   ]
  },
  {
   "cell_type": "code",
   "execution_count": null,
   "id": "b9e631d6",
   "metadata": {},
   "outputs": [],
   "source": [
    "# Problem 586 workspace"
   ]
  },
  {
   "cell_type": "markdown",
   "id": "b562279d",
   "metadata": {},
   "source": [
    "## Answer: "
   ]
  },
  {
   "cell_type": "markdown",
   "id": "19aee281",
   "metadata": {},
   "source": [
    "___"
   ]
  },
  {
   "cell_type": "markdown",
   "id": "b29105de",
   "metadata": {},
   "source": [
    "# Problem 587\n",
    " [Source](https://projecteuler.net/problem=587)"
   ]
  },
  {
   "cell_type": "markdown",
   "id": "2c6c8cbf",
   "metadata": {},
   "source": [
    "A square is drawn around a circle as shown in the diagram below on the left.\n",
    "  \n",
    "We shall call the blue shaded region the L-section.\n",
    "  \n",
    "A line is drawn from the bottom left of the square to the top right as shown in the diagram on the right.\n",
    "  \n",
    "We shall call the orange shaded region a\n",
    "concave triangle\n",
    ".\n",
    "\n",
    "![0587_concave_triangle_1.png](resources/0587_concave_triangle_1.png)\n",
    "\n",
    "It should be clear that the concave triangle occupies exactly half of the L-section.\n",
    "\n",
    "Two circles are placed next to each other horizontally, a rectangle is drawn around both circles, and a line is drawn from the bottom left to the top right as shown in the diagram below.\n",
    "\n",
    "![0587_concave_triangle_2.png](resources/0587_concave_triangle_2.png)\n",
    "\n",
    "This time the concave triangle occupies approximately 36.46% of the L-section.\n",
    "\n",
    "If $n$ circles are placed next to each other horizontally, a rectangle is drawn around the\n",
    "n\n",
    "circles, and a line is drawn from the bottom left to the top right, then it can be shown that the least value of\n",
    "n\n",
    "for which the concave triangle occupies less than 10% of the L-section is $n = 15$.\n",
    "\n",
    "What is the least value of $n$ for which the concave triangle occupies less than 0.1% of the L-section?"
   ]
  },
  {
   "cell_type": "code",
   "execution_count": null,
   "id": "1af5c33e",
   "metadata": {},
   "outputs": [],
   "source": [
    "# Problem 587 workspace"
   ]
  },
  {
   "cell_type": "markdown",
   "id": "c226003a",
   "metadata": {},
   "source": [
    "## Answer: "
   ]
  },
  {
   "cell_type": "markdown",
   "id": "20a5f393",
   "metadata": {},
   "source": [
    "___"
   ]
  },
  {
   "cell_type": "markdown",
   "id": "1231f54d",
   "metadata": {},
   "source": [
    "# Problem 588\n",
    " [Source](https://projecteuler.net/problem=588)"
   ]
  },
  {
   "cell_type": "markdown",
   "id": "652d2adf",
   "metadata": {},
   "source": [
    "The coefficients in the expansion of $(x+1)^k$ are called\n",
    "**binomial coefficients**\n",
    ".\n",
    "  \n",
    "Analoguously the coefficients in the expansion of $(x^4+x^3+x^2+x+1)^k$ are called\n",
    "**quintinomial coefficients**\n",
    ".\n",
    "  \n",
    "(quintus= Latin for fifth).\n",
    "\n",
    "Consider the expansion of $(x^4+x^3+x^2+x+1)^3$:\n",
    "  \n",
    "$x^{12}+3x^{11}+6x^{10}+10x^9+15x^8+18x^7+19x^6+18x^5+15x^4+10x^3+6x^2+3x+1$\n",
    "  \n",
    "As we can see $7$ out of the $13$ quintinomial coefficients for $k=3$ are odd.\n",
    "\n",
    "Let $Q(k)$ be the number of odd coefficients in the expansion of $(x^4+x^3+x^2+x+1)^k$.\n",
    "  \n",
    "So $Q(3)=7$.\n",
    "\n",
    "You are given $Q(10)=17$ and $Q(100)=35$.\n",
    "\n",
    "Find $\\sum\\_{k=1}^{18}Q(10^k)$."
   ]
  },
  {
   "cell_type": "code",
   "execution_count": null,
   "id": "73b784f1",
   "metadata": {},
   "outputs": [],
   "source": [
    "# Problem 588 workspace"
   ]
  },
  {
   "cell_type": "markdown",
   "id": "0731daa4",
   "metadata": {},
   "source": [
    "## Answer: "
   ]
  },
  {
   "cell_type": "markdown",
   "id": "5489be86",
   "metadata": {},
   "source": [
    "___"
   ]
  },
  {
   "cell_type": "markdown",
   "id": "b6d79b4b",
   "metadata": {},
   "source": [
    "# Problem 589\n",
    " [Source](https://projecteuler.net/problem=589)"
   ]
  },
  {
   "cell_type": "markdown",
   "id": "453d980f",
   "metadata": {},
   "source": [
    "Christopher Robin and Pooh Bear love the game of Poohsticks so much that they invented a new version which allows them to play for longer before one of them wins and they have to go home for tea. The game starts as normal with both dropping a stick simultaneously on the upstream side of a bridge. But rather than the game ending when one of the sticks emerges on the downstream side, instead they fish their sticks out of the water, and drop them back in again on the upstream side. The game only ends when one of the sticks emerges from under the bridge ahead of the other one having also 'lapped' the other stick - that is, having made one additional journey under the bridge compared to the other stick.\n",
    "\n",
    "On a particular day when playing this game, the time taken for a stick to travel under the bridge varies between a minimum of 30 seconds, and a maximum of 60 seconds. The time taken to fish a stick out of the water and drop it back in again on the other side is 5 seconds. The current under the bridge has the unusual property that the sticks' journey time is always an integral number of seconds, and it is equally likely to emerge at any of the possible times between 30 and 60 seconds (inclusive). It turns out that under these circumstances, the expected time for playing a single game is 1036.15 seconds (rounded to 2 decimal places). This time is measured from the point of dropping the sticks for the first time, to the point where the winning stick emerges from under the bridge having lapped the other.\n",
    "\n",
    "The stream flows at different rates each day, but maintains the property that the journey time in seconds is equally distributed amongst the integers from a minimum, $n$, to a maximum, $m$, inclusive. Let the expected time of play in seconds be $E(m,n)$. Hence $E(60,30)=1036.15...$\n",
    "\n",
    "Let $S(k)=\\sum\\_{m=2}^k\\sum\\_{n=1}^{m-1}E(m,n)$.\n",
    "\n",
    "For example $S(5)=7722.82$ rounded to 2 decimal places.\n",
    "\n",
    "Find $S(100)$ and give your answer rounded to 2 decimal places."
   ]
  },
  {
   "cell_type": "code",
   "execution_count": null,
   "id": "7d601169",
   "metadata": {},
   "outputs": [],
   "source": [
    "# Problem 589 workspace"
   ]
  },
  {
   "cell_type": "markdown",
   "id": "115766ed",
   "metadata": {},
   "source": [
    "## Answer: "
   ]
  },
  {
   "cell_type": "markdown",
   "id": "e92ecfdf",
   "metadata": {},
   "source": [
    "___"
   ]
  },
  {
   "cell_type": "markdown",
   "id": "93245861",
   "metadata": {},
   "source": [
    "# Problem 590\n",
    " [Source](https://projecteuler.net/problem=590)"
   ]
  },
  {
   "cell_type": "markdown",
   "id": "54551d9a",
   "metadata": {},
   "source": [
    "Let $H(n)$ denote the number of sets of positive integers such that the\n",
    "**least common multiple**\n",
    "of the integers in the set equals $n$.\n",
    "  \n",
    "E.g.:\n",
    "  \n",
    "The integers in the following ten sets all have a least common multiple of $6$:\n",
    "  \n",
    "$\\{2,3\\}$, $\\{1,2,3\\}$, $\\{6\\}$, $\\{1,6\\}$, $\\{2,6\\}$, $\\{1,2,6\\}$, $\\{3,6\\}$, $\\{1,3,6\\}$, $\\{2,3,6\\}$ and $\\{1,2,3,6\\}$.\n",
    "  \n",
    "Thus $H(6)=10$.\n",
    "\n",
    "Let $L(n)$ denote the least common multiple of the numbers $1$ through $n$.\n",
    "  \n",
    "E.g. $L(6)$ is the least common multiple of the numbers $1,2,3,4,5,6$ and $L(6)$ equals $60$.\n",
    "\n",
    "Let $HL(n)$ denote $H(L(n))$.\n",
    "  \n",
    "You are given $HL(4)=H(12)=44$.\n",
    "\n",
    "Find $HL(50000)$. Give your answer modulo $10^9$."
   ]
  },
  {
   "cell_type": "code",
   "execution_count": null,
   "id": "9068a473",
   "metadata": {},
   "outputs": [],
   "source": [
    "# Problem 590 workspace"
   ]
  },
  {
   "cell_type": "markdown",
   "id": "ce09b4a4",
   "metadata": {},
   "source": [
    "## Answer: "
   ]
  },
  {
   "cell_type": "markdown",
   "id": "5eb889c4",
   "metadata": {},
   "source": [
    "___"
   ]
  }
 ],
 "metadata": {},
 "nbformat": 4,
 "nbformat_minor": 5
}
