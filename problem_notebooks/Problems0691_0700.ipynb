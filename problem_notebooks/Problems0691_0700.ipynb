{
 "cells": [
  {
   "cell_type": "markdown",
   "id": "e9db1a59",
   "metadata": {},
   "source": [
    "# Problem 691\n",
    " [Source](https://projecteuler.net/problem=691)"
   ]
  },
  {
   "cell_type": "markdown",
   "id": "8a604d03",
   "metadata": {},
   "source": [
    "Given a character string $s$, we define $L(k,s)$ to be the length of the longest substring of $s$ which appears at least $k$ times in $s$, or $0$ if such a substring does not exist. For example, $L(3,\\text{“bbabcabcabcacba”})=4$ because of the three occurrences of the substring $\\text{“abca”}$, and $L(2,\\text{“bbabcabcabcacba”})=7$ because of the repeated substring $\\text{“abcabca”}$. Note that the occurrences can overlap.\n",
    "\n",
    "Let $a\\_n$, $b\\_n$ and $c\\_n$ be the $0/1$ sequences defined by:\n",
    "\n",
    "* $a\\_0 = 0$\n",
    "* $a\\_{2n} = a\\_{n}$\n",
    "* $a\\_{2n+1} = 1-a\\_{n}$\n",
    "* $b\\_n = \\lfloor\\frac{n+1}{\\varphi}\\rfloor - \\lfloor\\frac{n}{\\varphi}\\rfloor$ (where $\\varphi$ is the golden ratio)\n",
    "* $c\\_n = a\\_n + b\\_n - 2a\\_nb\\_n$\n",
    "\n",
    "and $S\\_n$ the character string $c\\_0\\ldots c\\_{n-1}$. You are given that $L(2,S\\_{10})=5$, $L(3,S\\_{10})=2$, $L(2,S\\_{100})=14$, $L(4,S\\_{100})=6$, $L(2,S\\_{1000})=86$, $L(3,S\\_{1000}) = 45$, $L(5,S\\_{1000}) = 31$, and that the sum of non-zero $L(k,S\\_{1000})$ for $k\\ge 1$ is $2460$.\n",
    "\n",
    "Find the sum of non-zero $L(k,S\\_{5000000})$ for $k\\ge 1$."
   ]
  },
  {
   "cell_type": "code",
   "execution_count": null,
   "id": "6c3202e3",
   "metadata": {},
   "outputs": [],
   "source": [
    "# Problem 691 workspace"
   ]
  },
  {
   "cell_type": "markdown",
   "id": "510a532b",
   "metadata": {},
   "source": [
    "## Answer: "
   ]
  },
  {
   "cell_type": "markdown",
   "id": "9abdda00",
   "metadata": {},
   "source": [
    "___"
   ]
  },
  {
   "cell_type": "markdown",
   "id": "e4c593bb",
   "metadata": {},
   "source": [
    "# Problem 692\n",
    " [Source](https://projecteuler.net/problem=692)"
   ]
  },
  {
   "cell_type": "markdown",
   "id": "4e943424",
   "metadata": {},
   "source": [
    "Siegbert and Jo take turns playing a game with a heap of $N$ pebbles:\n",
    "  \n",
    "1. Siegbert is the first to take some pebbles. He can take as many pebbles as he wants. (Between 1 and $N$ inclusive.)\n",
    "  \n",
    "2. In each of the following turns the current player must take at least one pebble and at most twice the amount of pebbles taken by the previous player.\n",
    "  \n",
    "3. The player who takes the last pebble wins.\n",
    "\n",
    "Although Siegbert can always win by taking all the pebbles on his first turn, to make the game more interesting he chooses to take the smallest number of pebbles that guarantees he will still win (assuming both Siegbert and Jo play optimally for the rest of the game).\n",
    "\n",
    "Let $H(N)$ be that minimal amount for a heap of $N$ pebbles.\n",
    "  \n",
    "$H(1)=1$, $H(4)=1$, $H(17)=1$, $H(8)=8$ and $H(18)=5$ .\n",
    "\n",
    "Let $G(n)$ be $\\displaystyle{\\sum\\_{k=1}^n H(k)}$.\n",
    "  \n",
    "$G(13)=43$.\n",
    "\n",
    "Find $G(23416728348467685)$."
   ]
  },
  {
   "cell_type": "code",
   "execution_count": null,
   "id": "419ecaa6",
   "metadata": {},
   "outputs": [],
   "source": [
    "# Problem 692 workspace"
   ]
  },
  {
   "cell_type": "markdown",
   "id": "9def630b",
   "metadata": {},
   "source": [
    "## Answer: "
   ]
  },
  {
   "cell_type": "markdown",
   "id": "d84c7942",
   "metadata": {},
   "source": [
    "___"
   ]
  },
  {
   "cell_type": "markdown",
   "id": "dddf89e7",
   "metadata": {},
   "source": [
    "# Problem 693\n",
    " [Source](https://projecteuler.net/problem=693)"
   ]
  },
  {
   "cell_type": "markdown",
   "id": "05c6cb6d",
   "metadata": {},
   "source": [
    "Two positive integers $x$ and $y$ ($x > y$) can generate a sequence in the following manner:\n",
    "\n",
    "* $a\\_x = y$ is the first term,\n",
    "* $a\\_{z+1} = a\\_z^2 \\bmod z$ for $z = x, x+1,x+2,\\ldots$ and\n",
    "* the generation stops when a term becomes $0$ or $1$.\n",
    "\n",
    "The number of terms in this sequence is denoted $l(x,y)$.\n",
    "\n",
    "For example, with $x = 5$ and $y = 3$, we get $a\\_5 = 3$, $a\\_6 = 3^2 \\bmod 5 = 4$, $a\\_7 = 4^2\\bmod 6 = 4$, etc. Giving the sequence of 29 terms:\n",
    "  \n",
    "$ 3,4,4,2,4,7,9,4,4,3,9,6,4,16,4,16,16,4,16,3,9,6,10,19,25,16,16,8,0 $\n",
    "  \n",
    "Hence $l(5,3) = 29$.\n",
    "\n",
    "$g(x)$ is defined to be the maximum value of $l(x,y)$ for $y \\lt x$. For example, $g(5) = 29$.\n",
    "\n",
    "Further, define $f(n)$ to be the maximum value of $g(x)$ for $x \\le n$. For example, $f(100) = 145$ and $f(10\\,000) = 8824$.\n",
    "\n",
    "Find $f(3\\,000\\,000)$."
   ]
  },
  {
   "cell_type": "code",
   "execution_count": null,
   "id": "668cf882",
   "metadata": {},
   "outputs": [],
   "source": [
    "# Problem 693 workspace"
   ]
  },
  {
   "cell_type": "markdown",
   "id": "4323d015",
   "metadata": {},
   "source": [
    "## Answer: "
   ]
  },
  {
   "cell_type": "markdown",
   "id": "914a62dc",
   "metadata": {},
   "source": [
    "___"
   ]
  },
  {
   "cell_type": "markdown",
   "id": "8a413a8a",
   "metadata": {},
   "source": [
    "# Problem 694\n",
    " [Source](https://projecteuler.net/problem=694)"
   ]
  },
  {
   "cell_type": "markdown",
   "id": "75671647",
   "metadata": {},
   "source": [
    "A positive integer $n$ is considered\n",
    "cube-full\n",
    ", if for every prime $p$ that divides $n$, so does $p^3$. Note that $1$ is considered cube-full.\n",
    "\n",
    "Let $s(n)$ be the function that counts the number of cube-full divisors of $n$. For example, $1$, $8$ and $16$ are the three cube-full divisors of $16$. Therefore, $s(16)=3$.\n",
    "\n",
    "Let $S(n)$ represent the summatory function of $s(n)$, that is $S(n)=\\displaystyle\\sum\\_{i=1}^n s(i)$.\n",
    "\n",
    "You are given $S(16) = 19$, $S(100) = 126$ and $S(10000) = 13344$.\n",
    "\n",
    "Find $S(10^{18})$."
   ]
  },
  {
   "cell_type": "code",
   "execution_count": null,
   "id": "71ddadfb",
   "metadata": {},
   "outputs": [],
   "source": [
    "# Problem 694 workspace"
   ]
  },
  {
   "cell_type": "markdown",
   "id": "75221357",
   "metadata": {},
   "source": [
    "## Answer: "
   ]
  },
  {
   "cell_type": "markdown",
   "id": "10cb4e5a",
   "metadata": {},
   "source": [
    "___"
   ]
  },
  {
   "cell_type": "markdown",
   "id": "fc533772",
   "metadata": {},
   "source": [
    "# Problem 695\n",
    " [Source](https://projecteuler.net/problem=695)"
   ]
  },
  {
   "cell_type": "markdown",
   "id": "e69fd5d6",
   "metadata": {},
   "source": [
    "Three points, $P\\_1$, $P\\_2$ and $P\\_3$, are randomly selected within a unit square. Consider the three rectangles with sides parallel to the sides of the unit square and a diagonal that is one of the three line segments $\\overline{P\\_1P\\_2}$, $\\overline{P\\_1P\\_3}$ or $\\overline{P\\_2P\\_3}$ (see picture below).\n",
    "\n",
    "![3 random rectangles](resources/0695_randrect.png)\n",
    "\n",
    "We are interested in the rectangle with the second biggest area. In the example above that happens to be the green rectangle defined with the diagonal $\\overline{P\\_2P\\_3}$.\n",
    "\n",
    "Find the expected value of the area of the second biggest of the three rectangles. Give your answer rounded to 10 digits after the decimal point."
   ]
  },
  {
   "cell_type": "code",
   "execution_count": null,
   "id": "a6bb6054",
   "metadata": {},
   "outputs": [],
   "source": [
    "# Problem 695 workspace"
   ]
  },
  {
   "cell_type": "markdown",
   "id": "8c8fe67f",
   "metadata": {},
   "source": [
    "## Answer: "
   ]
  },
  {
   "cell_type": "markdown",
   "id": "399b7f0f",
   "metadata": {},
   "source": [
    "___"
   ]
  },
  {
   "cell_type": "markdown",
   "id": "44b7bb93",
   "metadata": {},
   "source": [
    "# Problem 696\n",
    " [Source](https://projecteuler.net/problem=696)"
   ]
  },
  {
   "cell_type": "markdown",
   "id": "e82171e8",
   "metadata": {},
   "source": [
    "The game of Mahjong is played with tiles belonging to $s$\n",
    "suits\n",
    ". Each tile also has a\n",
    "number\n",
    "in the range $1\\ldots n$, and for each suit/number combination there are exactly four indistinguishable tiles with that suit and number. (The real Mahjong game also contains other bonus tiles, but those will not feature in this problem.)\n",
    "\n",
    "A\n",
    "winning hand\n",
    "is a collection of $3t+2$ Tiles (where $t$ is a fixed integer) that can be arranged as $t$\n",
    "Triples\n",
    "and one\n",
    "Pair\n",
    ", where:\n",
    "\n",
    "* A\n",
    "  Triple\n",
    "  is either a\n",
    "  Chow\n",
    "  or a\n",
    "  Pung\n",
    "* A\n",
    "  Chow\n",
    "  is three tiles of the same suit and consecutive numbers\n",
    "* A\n",
    "  Pung\n",
    "  is three identical tiles (same suit and same number)\n",
    "* A\n",
    "  Pair\n",
    "  is two identical tiles (same suit and same number)\n",
    "\n",
    "For example, here is a winning hand with $n=9$, $s=3$, $t=4$, consisting in this case of two Chows, two Pungs, and one Pair:\n",
    "\n",
    "![A winning Mahjong hand](resources/0696_mahjong_1.png)\n",
    "\n",
    "Note that sometimes the same collection of tiles can be represented as $t$ Triples and one Pair in more than one way. This only counts as one winning hand. For example, this is considered to be the same winning hand as above, because it consists of the same tiles:\n",
    "\n",
    "![Alternative arrangement of the same hand](resources/0696_mahjong_2.png)\n",
    "\n",
    "Let $w(n, s, t)$ be the number of distinct winning hands formed of $t$ Triples and one Pair, where there are $s$ suits available and tiles are numbered up to $n$.\n",
    "\n",
    "For example, with a single suit and tiles numbered up to $4$, we have $w(4, 1, 1) = 20$: there are $12$ winning hands consisting of a Pung and a Pair, and another $8$ containing a Chow and a Pair. You are also given that $w(9, 1, 4) = 13259$, $w(9, 3, 4) = 5237550$, and $w(1000, 1000, 5) \\equiv 107662178 \\pmod{1\\,000\\,000\\,007}$.\n",
    "\n",
    "Find $w(10^8, 10^8, 30)$. Give your answer modulo $1\\,000\\,000\\,007$."
   ]
  },
  {
   "cell_type": "code",
   "execution_count": null,
   "id": "7404e51a",
   "metadata": {},
   "outputs": [],
   "source": [
    "# Problem 696 workspace"
   ]
  },
  {
   "cell_type": "markdown",
   "id": "ea5c67b6",
   "metadata": {},
   "source": [
    "## Answer: "
   ]
  },
  {
   "cell_type": "markdown",
   "id": "baf28c1d",
   "metadata": {},
   "source": [
    "___"
   ]
  },
  {
   "cell_type": "markdown",
   "id": "0f29c6bf",
   "metadata": {},
   "source": [
    "# Problem 697\n",
    " [Source](https://projecteuler.net/problem=697)"
   ]
  },
  {
   "cell_type": "markdown",
   "id": "ea09773d",
   "metadata": {},
   "source": [
    "Given a fixed real number $c$, define a random sequence $(X\\_n)\\_{n\\ge 0}$ by the following random process:\n",
    "\n",
    "* $X\\_0 = c$ (with probability 1).\n",
    "* For $n>0$, $X\\_n = U\\_n X\\_{n-1}$ where $U\\_n$ is a real number chosen at random between zero and one, uniformly, and independently of all previous choices $(U\\_m)\\_{m<n}$.\n",
    "\n",
    "If we desire there to be precisely a 25% probability that $X\\_{100}<1$, then this can be arranged by fixing $c$ such that $\\log\\_{10} c \\approx 46.27$.\n",
    "\n",
    "Suppose now that $c$ is set to a different value, so that there is precisely a 25% probability that $X\\_{10\\,000\\,000}<1$.\n",
    "\n",
    "Find $\\log\\_{10} c$ and give your answer rounded to two places after the decimal point."
   ]
  },
  {
   "cell_type": "code",
   "execution_count": null,
   "id": "98744313",
   "metadata": {},
   "outputs": [],
   "source": [
    "# Problem 697 workspace"
   ]
  },
  {
   "cell_type": "markdown",
   "id": "7b47f6ec",
   "metadata": {},
   "source": [
    "## Answer: "
   ]
  },
  {
   "cell_type": "markdown",
   "id": "29acfd1c",
   "metadata": {},
   "source": [
    "___"
   ]
  },
  {
   "cell_type": "markdown",
   "id": "bc0faf47",
   "metadata": {},
   "source": [
    "# Problem 698\n",
    " [Source](https://projecteuler.net/problem=698)"
   ]
  },
  {
   "cell_type": "markdown",
   "id": "f859698d",
   "metadata": {},
   "source": [
    "We define\n",
    "*123-numbers*\n",
    "as follows:\n",
    "\n",
    "* 1 is the smallest 123-number.\n",
    "* When written in base 10 the only digits that can be present are \"1\", \"2\" and \"3\" and if present the number of times they each occur is also a 123-number.\n",
    "\n",
    "So 2 is a 123-number, since it consists of one digit \"2\" and 1 is a 123-number. Therefore, 33 is a 123-number as well since it consists of two digits \"3\" and 2 is a 123-number.\n",
    "  \n",
    "On the other hand, 1111 is not a 123-number, since it contains 4 digits \"1\" and 4 is not a 123-number.\n",
    "\n",
    "In ascending order, the first 123-numbers are:\n",
    "  \n",
    "$1, 2, 3, 11, 12, 13, 21, 22, 23, 31, 32, 33, 111, 112, 113, 121, 122, 123, 131, \\ldots$\n",
    "\n",
    "Let $F(n)$ be the $n$-th 123-number. For example $F(4)=11$, $F(10)=31$, $F(40)=1112$, $F(1000)=1223321$ and $F(6000)= 2333333333323$.\n",
    "\n",
    "Find $F(111\\,111\\,111\\,111\\,222\\,333)$. Give your answer modulo $123\\,123\\,123$."
   ]
  },
  {
   "cell_type": "code",
   "execution_count": null,
   "id": "82238668",
   "metadata": {},
   "outputs": [],
   "source": [
    "# Problem 698 workspace"
   ]
  },
  {
   "cell_type": "markdown",
   "id": "d6ab1b83",
   "metadata": {},
   "source": [
    "## Answer: "
   ]
  },
  {
   "cell_type": "markdown",
   "id": "2302b682",
   "metadata": {},
   "source": [
    "___"
   ]
  },
  {
   "cell_type": "markdown",
   "id": "c9f09e28",
   "metadata": {},
   "source": [
    "# Problem 699\n",
    " [Source](https://projecteuler.net/problem=699)"
   ]
  },
  {
   "cell_type": "markdown",
   "id": "eb62c18f",
   "metadata": {},
   "source": [
    "Let $\\sigma(n)$ be the sum of all the divisors of the positive integer $n$, for example:\n",
    "  \n",
    "$\\sigma(10) = 1+2+5+10 = 18$.\n",
    "\n",
    "Define $T(N)$ to be the sum of all numbers $n \\le N$ such that when the fraction $\\frac{\\sigma(n)}{n}$ is written in its lowest form $\\frac ab$, the denominator is a power of 3 i.e. $b = 3^k, k > 0$.\n",
    "\n",
    "You are given $T(100) = 270$ and $T(10^6) = 26089287$.\n",
    "\n",
    "Find $T(10^{14})$."
   ]
  },
  {
   "cell_type": "code",
   "execution_count": null,
   "id": "1b7a99b4",
   "metadata": {},
   "outputs": [],
   "source": [
    "# Problem 699 workspace"
   ]
  },
  {
   "cell_type": "markdown",
   "id": "c6de9925",
   "metadata": {},
   "source": [
    "## Answer: "
   ]
  },
  {
   "cell_type": "markdown",
   "id": "b58bad9a",
   "metadata": {},
   "source": [
    "___"
   ]
  },
  {
   "cell_type": "markdown",
   "id": "e541b867",
   "metadata": {},
   "source": [
    "# Problem 700\n",
    " [Source](https://projecteuler.net/problem=700)"
   ]
  },
  {
   "cell_type": "markdown",
   "id": "b2db32f3",
   "metadata": {},
   "source": [
    "Leonhard Euler was born on 15 April 1707.\n",
    "\n",
    "Consider the sequence 1504170715041707\n",
    "n\n",
    "mod 4503599627370517.\n",
    "\n",
    "An element of this sequence is defined to be an Eulercoin if it is strictly smaller than all previously found Eulercoins.\n",
    "\n",
    "For example, the first term is 1504170715041707 which is the first Eulercoin. The second term is 3008341430083414 which is greater than 1504170715041707 so is not an Eulercoin. However, the third term is 8912517754604 which is small enough to be a new Eulercoin.\n",
    "\n",
    "The sum of the first 2 Eulercoins is therefore 1513083232796311.\n",
    "\n",
    "Find the sum of all Eulercoins."
   ]
  },
  {
   "cell_type": "code",
   "execution_count": null,
   "id": "a8e2c933",
   "metadata": {},
   "outputs": [],
   "source": [
    "# Problem 700 workspace"
   ]
  },
  {
   "cell_type": "markdown",
   "id": "c20ecee7",
   "metadata": {},
   "source": [
    "## Answer: "
   ]
  },
  {
   "cell_type": "markdown",
   "id": "156db1bd",
   "metadata": {},
   "source": [
    "___"
   ]
  }
 ],
 "metadata": {},
 "nbformat": 4,
 "nbformat_minor": 5
}
