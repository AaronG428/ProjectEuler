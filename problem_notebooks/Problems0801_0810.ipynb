{
 "cells": [
  {
   "cell_type": "markdown",
   "id": "57cce646",
   "metadata": {},
   "source": [
    "# Problem 801\n",
    " [Source](https://projecteuler.net/problem=801)"
   ]
  },
  {
   "cell_type": "markdown",
   "id": "a90749ca",
   "metadata": {},
   "source": [
    "The positive integral solutions of the equation $x^y=y^x$ are $(2,4)$, $(4,2)$ and $(k,k)$ for all $k > 0$.\n",
    "\n",
    "For a given positive integer $n$, let $f(n)$ be the number of integral values $0 < x,y \\leq n^2-n$ such that\n",
    "$$x^y\\equiv y^x \\pmod n.$$\n",
    "For example, $f(5)=104$ and $f(97)=1614336$.\n",
    "\n",
    "Let $S(M,N)=\\sum f(p)$ where the sum is taken over all primes $p$ satisfying $M\\le p\\le N$.\n",
    "\n",
    "You are given $S(1,10^2)=7381000$ and $S(1,10^5) \\equiv 701331986 \\pmod{993353399}$.\n",
    "\n",
    "Find $S(10^{16}, 10^{16}+10^6)$. Give your answer modulo $993353399$."
   ]
  },
  {
   "cell_type": "code",
   "execution_count": null,
   "id": "8353d152",
   "metadata": {},
   "outputs": [],
   "source": [
    "# Problem 801 workspace"
   ]
  },
  {
   "cell_type": "markdown",
   "id": "a3c576f7",
   "metadata": {},
   "source": [
    "## Answer: "
   ]
  },
  {
   "cell_type": "markdown",
   "id": "c695b6a3",
   "metadata": {},
   "source": [
    "___"
   ]
  },
  {
   "cell_type": "markdown",
   "id": "48934a81",
   "metadata": {},
   "source": [
    "# Problem 802\n",
    " [Source](https://projecteuler.net/problem=802)"
   ]
  },
  {
   "cell_type": "markdown",
   "id": "34633ac8",
   "metadata": {},
   "source": [
    "Let $\\Bbb R^2$ be the set of pairs of real numbers $(x, y)$. Let $\\pi = 3.14159\\cdots\\ $.\n",
    "\n",
    "Consider the function $f$ from $\\Bbb R^2$ to $\\Bbb R^2$ defined by $f(x, y) = (x^2 - x - y^2, 2xy - y + \\pi)$, and its $n$-th iterated composition $f^{(n)}(x, y) = f(f(\\cdots f(x, y)\\cdots))$. For example $f^{(3)}(x, y) = f(f(f(x, y)))$. A pair $(x, y)$ is said to have period $n$ if $n$ is the smallest positive integer such that $f^{(n)}(x, y) = (x, y)$.\n",
    "\n",
    "Let $P(n)$ denote the sum of $x$-coordinates of all points having period not exceeding $n$.\n",
    "Interestingly, $P(n)$ is always an integer. For example, $P(1) = 2$, $P(2) = 2$, $P(3) = 4$.\n",
    "\n",
    "Find $P(10^7)$ and give your answer modulo $1\\,020\\,340\\,567$."
   ]
  },
  {
   "cell_type": "code",
   "execution_count": null,
   "id": "205edb4e",
   "metadata": {},
   "outputs": [],
   "source": [
    "# Problem 802 workspace"
   ]
  },
  {
   "cell_type": "markdown",
   "id": "ecfb81e0",
   "metadata": {},
   "source": [
    "## Answer: "
   ]
  },
  {
   "cell_type": "markdown",
   "id": "bad47c11",
   "metadata": {},
   "source": [
    "___"
   ]
  },
  {
   "cell_type": "markdown",
   "id": "b88ed38e",
   "metadata": {},
   "source": [
    "# Problem 803\n",
    " [Source](https://projecteuler.net/problem=803)"
   ]
  },
  {
   "cell_type": "markdown",
   "id": "3aec0cfa",
   "metadata": {},
   "source": [
    "**Rand48**\n",
    "is a pseudorandom number generator used by some programming languages. It generates a sequence from any given integer $0 \\le a\\_0 < 2^{48}$ using the rule $a\\_n = (25214903917 \\cdot a\\_{n - 1} + 11) \\bmod 2^{48}$.\n",
    "\n",
    "Let $b\\_n = \\lfloor a\\_n / 2^{16} \\rfloor \\bmod 52$.\n",
    "The sequence $b\\_0, b\\_1, \\dots$ is translated to an infinite string $c = c\\_0c\\_1\\dots$ via the rule:\n",
    "  \n",
    "$0 \\rightarrow$ a, $1\\rightarrow$ b, $\\dots$, $25 \\rightarrow$ z, $26 \\rightarrow$ A, $27 \\rightarrow$ B, $\\dots$, $51 \\rightarrow$ Z.\n",
    "\n",
    "For example, if we choose $a\\_0 = 123456$, then the string $c$ starts with: \"bQYicNGCY$\\dots$\".\n",
    "  \n",
    "Moreover, starting from index $100$, we encounter the substring \"RxqLBfWzv\" for the first time.\n",
    "\n",
    "Alternatively, if $c$ starts with \"EULERcats$\\dots$\", then $a\\_0$ must be $78580612777175$.\n",
    "\n",
    "Now suppose that the string $c$ starts with \"PuzzleOne$\\dots$\".\n",
    "  \n",
    "Find the starting index of the first occurrence of the substring \"LuckyText\" in $c$."
   ]
  },
  {
   "cell_type": "code",
   "execution_count": null,
   "id": "781dee80",
   "metadata": {},
   "outputs": [],
   "source": [
    "# Problem 803 workspace"
   ]
  },
  {
   "cell_type": "markdown",
   "id": "b2d3c9a7",
   "metadata": {},
   "source": [
    "## Answer: "
   ]
  },
  {
   "cell_type": "markdown",
   "id": "5addedd8",
   "metadata": {},
   "source": [
    "___"
   ]
  },
  {
   "cell_type": "markdown",
   "id": "31c2760e",
   "metadata": {},
   "source": [
    "# Problem 804\n",
    " [Source](https://projecteuler.net/problem=804)"
   ]
  },
  {
   "cell_type": "markdown",
   "id": "d83a7735",
   "metadata": {},
   "source": [
    "Let $g(n)$ denote the number of ways a positive integer $n$ can be represented in the form: $$x^2+xy+41y^2$$ where $x$ and $y$ are integers. For example, $g(53)=4$ due to $(x,y) \\in \\{(-4,1),(-3,-1),(3,1),(4,-1)\\}$.\n",
    "\n",
    "Define $\\displaystyle T(N)=\\sum\\_{n=1}^{N}g(n)$. You are given $T(10^3)=474$ and $T(10^6)=492128$.\n",
    "\n",
    "Find $T(10^{16})$."
   ]
  },
  {
   "cell_type": "code",
   "execution_count": null,
   "id": "fcf4c635",
   "metadata": {},
   "outputs": [],
   "source": [
    "# Problem 804 workspace"
   ]
  },
  {
   "cell_type": "markdown",
   "id": "d9059c26",
   "metadata": {},
   "source": [
    "## Answer: "
   ]
  },
  {
   "cell_type": "markdown",
   "id": "d872fff9",
   "metadata": {},
   "source": [
    "___"
   ]
  },
  {
   "cell_type": "markdown",
   "id": "0cee5a5b",
   "metadata": {},
   "source": [
    "# Problem 805\n",
    " [Source](https://projecteuler.net/problem=805)"
   ]
  },
  {
   "cell_type": "markdown",
   "id": "e94b826e",
   "metadata": {},
   "source": [
    "For a positive integer $n$, let $s(n)$ be the integer obtained by shifting the leftmost digit of the decimal representation of $n$ to the rightmost position.\n",
    "  \n",
    "For example, $s(142857)=428571$ and $s(10)=1$.\n",
    "\n",
    "For a positive rational number $r$, we define $N(r)$ as the smallest positive integer $n$ such that $s(n)=r\\cdot n$.\n",
    "  \n",
    "If no such integer exists, then $N(r)$ is defined as zero.\n",
    "  \n",
    "For example, $N(3)=142857$, $N(\\tfrac 1{10})=10$ and $N(2) = 0$.\n",
    "\n",
    "Let $T(M)$ be the sum of $N(u^3/v^3)$ where $(u,v)$ ranges over all ordered pairs of coprime positive integers not exceeding $M$.\n",
    "  \n",
    "For example, $T(3)\\equiv 262429173 \\pmod {1\\,000\\,000\\,007}$.\n",
    "\n",
    "Find $T(200)$. Give your answer modulo $1\\,000\\,000\\,007$."
   ]
  },
  {
   "cell_type": "code",
   "execution_count": null,
   "id": "a83ba4e4",
   "metadata": {},
   "outputs": [],
   "source": [
    "# Problem 805 workspace"
   ]
  },
  {
   "cell_type": "markdown",
   "id": "e4c7d0ef",
   "metadata": {},
   "source": [
    "## Answer: "
   ]
  },
  {
   "cell_type": "markdown",
   "id": "8f787a62",
   "metadata": {},
   "source": [
    "___"
   ]
  },
  {
   "cell_type": "markdown",
   "id": "2cf02dd3",
   "metadata": {},
   "source": [
    "# Problem 806\n",
    " [Source](https://projecteuler.net/problem=806)"
   ]
  },
  {
   "cell_type": "markdown",
   "id": "f937a0ad",
   "metadata": {},
   "source": [
    "This problem combines the game of Nim with the Towers of Hanoi. For a brief introduction to the rules of these games, please refer to\n",
    "[Problem 301](problem=301)\n",
    "and\n",
    "[Problem 497](problem=497)\n",
    ", respectively.\n",
    "\n",
    "The unique shortest solution to the Towers of Hanoi problem with $n$ disks and $3$ pegs requires $2^n-1$ moves. Number the positions in the solution from index 0 (starting position, all disks on the first peg) to index $2^n-1$ (final position, all disks on the third peg).\n",
    "\n",
    "Each of these $2^n$ positions can be considered as the starting configuration for a game of Nim, in which two players take turns to select a peg and remove any positive number of disks from it. The winner is the player who removes the last disk.\n",
    "\n",
    "We define $f(n)$ to be the sum of the indices of those positions for which, when considered as a Nim game, the first player will lose (assuming an optimal strategy from both players).\n",
    "\n",
    "For $n=4$, the indices of losing positions in the shortest solution are 3,6,9 and 12. So we have $f(4) = 30$.\n",
    "\n",
    "You are given that $f(10) = 67518$.\n",
    "\n",
    "Find $f(10^5)$. Give your answer modulo $1\\,000\\,000\\,007$."
   ]
  },
  {
   "cell_type": "code",
   "execution_count": null,
   "id": "d2070dc1",
   "metadata": {},
   "outputs": [],
   "source": [
    "# Problem 806 workspace"
   ]
  },
  {
   "cell_type": "markdown",
   "id": "510ebb53",
   "metadata": {},
   "source": [
    "## Answer: "
   ]
  },
  {
   "cell_type": "markdown",
   "id": "6abaec24",
   "metadata": {},
   "source": [
    "___"
   ]
  },
  {
   "cell_type": "markdown",
   "id": "aeafeb59",
   "metadata": {},
   "source": [
    "# Problem 807\n",
    " [Source](https://projecteuler.net/problem=807)"
   ]
  },
  {
   "cell_type": "markdown",
   "id": "9e16472e",
   "metadata": {},
   "source": [
    "Given a circle $C$ and an integer $n > 1$, we perform the following operations.\n",
    "\n",
    "In step $0$, we choose two uniformly random points $R\\_0$ and $B\\_0$ on $C$.\n",
    "  \n",
    "In step $i$ ($1 \\leq i < n$), we first choose a uniformly random point $R\\_i$ on $C$ and connect the points $R\\_{i - 1}$ and $R\\_i$ with a red rope; then choose a uniformly random point $B\\_i$ on $C$ and connect the points $B\\_{i - 1}$ and $B\\_i$ with a blue rope.\n",
    "  \n",
    "In step $n$, we first connect the points $R\\_{n - 1}$ and $R\\_0$ with a red rope; then connect the points $B\\_{n - 1}$ and $B\\_0$ with a blue rope.\n",
    "  \n",
    "Each rope is straight between its two end points, and lies above all previous ropes.\n",
    "\n",
    "After step $n$, we get a loop of red ropes, and a loop of blue ropes.\n",
    "  \n",
    "Sometimes the two loops can be separated, as in the left figure below; sometimes they are \"linked\", hence cannot be separated, as in the middle and right figures below.\n",
    "\n",
    "![](resources/0807.jpg)\n",
    "\n",
    "Let $P(n)$ be the probability that the two loops can be separated.\n",
    "  \n",
    "For example, $P(3) = \\frac{11}{20}$ and $P(5) \\approx 0.4304177690$.\n",
    "\n",
    "Find $P(80)$, rounded to $10$ digits after decimal point."
   ]
  },
  {
   "cell_type": "code",
   "execution_count": null,
   "id": "8f926e0d",
   "metadata": {},
   "outputs": [],
   "source": [
    "# Problem 807 workspace"
   ]
  },
  {
   "cell_type": "markdown",
   "id": "f2aaeb64",
   "metadata": {},
   "source": [
    "## Answer: "
   ]
  },
  {
   "cell_type": "markdown",
   "id": "e3df11cb",
   "metadata": {},
   "source": [
    "___"
   ]
  },
  {
   "cell_type": "markdown",
   "id": "a1918799",
   "metadata": {},
   "source": [
    "# Problem 808\n",
    " [Source](https://projecteuler.net/problem=808)"
   ]
  },
  {
   "cell_type": "markdown",
   "id": "0baa35df",
   "metadata": {},
   "source": [
    "Both $169$ and $961$ are the square of a prime. $169$ is the reverse of $961$.\n",
    "\n",
    "We call a number a\n",
    "reversible prime square\n",
    "if:\n",
    "\n",
    "1. It is not a palindrome, and\n",
    "2. It is the square of a prime, and\n",
    "3. Its reverse is also the square of a prime.\n",
    "\n",
    "$169$ and $961$ are not palindromes, so both are reversible prime squares.\n",
    "\n",
    "Find the sum of the first $50$ reversible prime squares."
   ]
  },
  {
   "cell_type": "code",
   "execution_count": null,
   "id": "a5342eb2",
   "metadata": {},
   "outputs": [],
   "source": [
    "# Problem 808 workspace"
   ]
  },
  {
   "cell_type": "markdown",
   "id": "d18d5126",
   "metadata": {},
   "source": [
    "## Answer: "
   ]
  },
  {
   "cell_type": "markdown",
   "id": "c077cbfc",
   "metadata": {},
   "source": [
    "___"
   ]
  },
  {
   "cell_type": "markdown",
   "id": "2549e12c",
   "metadata": {},
   "source": [
    "# Problem 809\n",
    " [Source](https://projecteuler.net/problem=809)"
   ]
  },
  {
   "cell_type": "markdown",
   "id": "e3517684",
   "metadata": {},
   "source": [
    "The following is a function defined for all positive rational values of $x$.\n",
    "\n",
    "$$ f(x)=\\begin{cases} x &x\\text{ is integral}\\\\\n",
    "f(\\frac 1{1-x}) &x \\lt 1\\\\\n",
    "f\\Big(\\frac 1{\\lceil x\\rceil -x}-1+f(x-1)\\Big) &\\text{otherwise}\\end{cases} $$\n",
    "\n",
    "For example, $f(3/2)=3$, $f(1/6) = 65533$ and $f(13/10) = 7625597484985$.\n",
    "\n",
    "Find $f(22/7)$. Give your answer modulo $10^{15}$."
   ]
  },
  {
   "cell_type": "code",
   "execution_count": null,
   "id": "ca83a0f3",
   "metadata": {},
   "outputs": [],
   "source": [
    "# Problem 809 workspace"
   ]
  },
  {
   "cell_type": "markdown",
   "id": "2422804d",
   "metadata": {},
   "source": [
    "## Answer: "
   ]
  },
  {
   "cell_type": "markdown",
   "id": "1f563d83",
   "metadata": {},
   "source": [
    "___"
   ]
  },
  {
   "cell_type": "markdown",
   "id": "14449bf2",
   "metadata": {},
   "source": [
    "# Problem 810\n",
    " [Source](https://projecteuler.net/problem=810)"
   ]
  },
  {
   "cell_type": "markdown",
   "id": "64bcf3a1",
   "metadata": {},
   "source": [
    "We use $x\\oplus y$ for the bitwise XOR of $x$ and $y$.\n",
    "\n",
    "Define the\n",
    "XOR-product\n",
    "of $x$ and $y$, denoted by $x \\otimes y$, similar to a long multiplication in base $2$, except that the intermediate results are XORed instead of the usual integer addition.\n",
    "\n",
    "For example, $7 \\otimes 3 = 9$, or in base $2$, $111\\_2 \\otimes 11\\_2 = 1001\\_2$:\n",
    "\n",
    "$$\n",
    "\\begin{align\\*}\n",
    "\\phantom{\\otimes 111} 111\\_2 \\\\\n",
    "\\otimes \\phantom{1111} 11\\_2 \\\\\n",
    "\\hline\n",
    "\\phantom{\\otimes 111} 111\\_2 \\\\\n",
    "\\oplus \\phantom{11} 111\\_2 \\phantom{9} \\\\\n",
    "\\hline\n",
    "\\phantom{\\otimes 11} 1001\\_2 \\\\\n",
    "\\end{align\\*}\n",
    "$$\n",
    "\n",
    "An\n",
    "XOR-prime\n",
    "is an integer $n$ greater than $1$ that is not an XOR-product of two integers greater than $1$. The above example shows that $9$ is not an XOR-prime. Similarly, $5 = 3 \\otimes 3$ is not an XOR-prime. The first few XOR-primes are $2, 3, 7, 11, 13, ...$ and the 10th XOR-prime is $41$.\n",
    "\n",
    "Find the $5\\,000\\,000$th XOR-prime."
   ]
  },
  {
   "cell_type": "code",
   "execution_count": null,
   "id": "a8e2896c",
   "metadata": {},
   "outputs": [],
   "source": [
    "# Problem 810 workspace"
   ]
  },
  {
   "cell_type": "markdown",
   "id": "e0651b8f",
   "metadata": {},
   "source": [
    "## Answer: "
   ]
  },
  {
   "cell_type": "markdown",
   "id": "46d3f1f5",
   "metadata": {},
   "source": [
    "___"
   ]
  }
 ],
 "metadata": {},
 "nbformat": 4,
 "nbformat_minor": 5
}
