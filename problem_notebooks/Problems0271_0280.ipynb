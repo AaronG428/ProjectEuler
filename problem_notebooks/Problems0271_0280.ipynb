{
 "cells": [
  {
   "cell_type": "markdown",
   "id": "2ddd0939",
   "metadata": {},
   "source": [
    "# Problem 271\n",
    " [Source](https://projecteuler.net/problem=271)"
   ]
  },
  {
   "cell_type": "markdown",
   "id": "d57a7894",
   "metadata": {},
   "source": [
    "For a positive number $n$, define $S(n)$ as the sum of the integers $x$, for which $1 \\lt x \\lt n$ and\n",
    "  \n",
    "$x^3 \\equiv 1 \\bmod n$.\n",
    "\n",
    "When $n=91$, there are $8$ possible values for $x$, namely: $9, 16, 22, 29, 53, 74, 79, 81$.\n",
    "  \n",
    "Thus, $S(91)=9+16+22+29+53+74+79+81=363$.\n",
    "\n",
    "Find $S(13082761331670030)$."
   ]
  },
  {
   "cell_type": "code",
   "execution_count": null,
   "id": "7a9af26a",
   "metadata": {},
   "outputs": [],
   "source": [
    "# Problem 271 workspace"
   ]
  },
  {
   "cell_type": "markdown",
   "id": "0ff79e85",
   "metadata": {},
   "source": [
    "## Answer: "
   ]
  },
  {
   "cell_type": "markdown",
   "id": "d6158205",
   "metadata": {},
   "source": [
    "___"
   ]
  },
  {
   "cell_type": "markdown",
   "id": "f7efde70",
   "metadata": {},
   "source": [
    "# Problem 272\n",
    " [Source](https://projecteuler.net/problem=272)"
   ]
  },
  {
   "cell_type": "markdown",
   "id": "305ef205",
   "metadata": {},
   "source": [
    "For a positive number $n$, define $C(n)$ as the number of the integers $x$, for which $1 \\lt x \\lt n$ and\n",
    "  \n",
    "$x^3 \\equiv 1 \\bmod n$.\n",
    "\n",
    "When $n=91$, there are $8$ possible values for $x$, namely: $9, 16, 22, 29, 53, 74, 79, 81$.\n",
    "  \n",
    "Thus, $C(91)=8$.\n",
    "\n",
    "Find the sum of the positive numbers $n \\le 10^{11}$ for which $C(n)=242$."
   ]
  },
  {
   "cell_type": "code",
   "execution_count": null,
   "id": "a7a1409a",
   "metadata": {},
   "outputs": [],
   "source": [
    "# Problem 272 workspace"
   ]
  },
  {
   "cell_type": "markdown",
   "id": "62a8ffaa",
   "metadata": {},
   "source": [
    "## Answer: "
   ]
  },
  {
   "cell_type": "markdown",
   "id": "fad89535",
   "metadata": {},
   "source": [
    "___"
   ]
  },
  {
   "cell_type": "markdown",
   "id": "a6d93d91",
   "metadata": {},
   "source": [
    "# Problem 273\n",
    " [Source](https://projecteuler.net/problem=273)"
   ]
  },
  {
   "cell_type": "markdown",
   "id": "a8394b12",
   "metadata": {},
   "source": [
    "Consider equations of the form: $a^2 + b^2 = N$, $0 \\le a \\le b$, $a$, $b$ and $N$ integer.\n",
    "\n",
    "For $N=65$ there are two solutions:\n",
    "\n",
    "$a=1$, $b=8$ and $a=4$, $b=7$.\n",
    "\n",
    "We call $S(N)$ the sum of the values of $a$ of all solutions of $a^2 + b^2 = N$, $0 \\le a \\le b$, $a$, $b$ and $N$ integer.\n",
    "\n",
    "Thus $S(65) = 1 + 4 = 5$.\n",
    "\n",
    "Find $\\sum S(N)$, for all squarefree $N$ only divisible by primes of the form $4k+1$ with $4k+1 \\lt 150$."
   ]
  },
  {
   "cell_type": "code",
   "execution_count": null,
   "id": "c473bdd9",
   "metadata": {},
   "outputs": [],
   "source": [
    "# Problem 273 workspace"
   ]
  },
  {
   "cell_type": "markdown",
   "id": "21d5aeff",
   "metadata": {},
   "source": [
    "## Answer: "
   ]
  },
  {
   "cell_type": "markdown",
   "id": "9557d094",
   "metadata": {},
   "source": [
    "___"
   ]
  },
  {
   "cell_type": "markdown",
   "id": "d9d3a87d",
   "metadata": {},
   "source": [
    "# Problem 274\n",
    " [Source](https://projecteuler.net/problem=274)"
   ]
  },
  {
   "cell_type": "markdown",
   "id": "9e40d57a",
   "metadata": {},
   "source": [
    "For each integer $p \\gt 1$ coprime to $10$ there is a positive\n",
    "divisibility multiplier\n",
    "$m \\lt p$ which preserves divisibility by $p$ for the following function on any positive integer, $n$:\n",
    "\n",
    "$f(n) = (\\text{all but the last digit of }n) + (\\text{the last digit of }n) \\cdot m$.\n",
    "\n",
    "That is, if $m$ is the divisibility multiplier for $p$, then $f(n)$ is divisible by $p$ if and only if $n$ is divisible by $p$.\n",
    "\n",
    "(When $n$ is much larger than $p$, $f(n)$ will be less than $n$ and repeated application of $f$ provides a multiplicative divisibility test for $p$.)\n",
    "\n",
    "For example, the divisibility multiplier for $113$ is $34$.\n",
    "\n",
    "$f(76275) = 7627 + 5 \\cdot 34 = 7797$: $76275$ and $7797$ are both divisible by $113$.\n",
    "  \n",
    "$f(12345) = 1234 + 5 \\cdot 34 = 1404$: $12345$ and $1404$ are both not divisible by $113$.\n",
    "\n",
    "The sum of the divisibility multipliers for the primes that are coprime to $10$ and less than $1000$ is $39517$. What is the sum of the divisibility multipliers for the primes that are coprime to $10$ and less than $10^7$?"
   ]
  },
  {
   "cell_type": "code",
   "execution_count": null,
   "id": "f4fe2aea",
   "metadata": {},
   "outputs": [],
   "source": [
    "# Problem 274 workspace"
   ]
  },
  {
   "cell_type": "markdown",
   "id": "9c7c42c0",
   "metadata": {},
   "source": [
    "## Answer: "
   ]
  },
  {
   "cell_type": "markdown",
   "id": "70a1a8b5",
   "metadata": {},
   "source": [
    "___"
   ]
  },
  {
   "cell_type": "markdown",
   "id": "99c18c44",
   "metadata": {},
   "source": [
    "# Problem 275\n",
    " [Source](https://projecteuler.net/problem=275)"
   ]
  },
  {
   "cell_type": "markdown",
   "id": "73966929",
   "metadata": {},
   "source": [
    "Let us define a\n",
    "balanced sculpture\n",
    "of order $n$ as follows:\n",
    "\n",
    "* A\n",
    "  **polyomino\n",
    "  An arrangement of identical squares connected through shared edges; holes are allowed.**\n",
    "  made up of $n + 1$ tiles known as the\n",
    "  blocks\n",
    "  ($n$ tiles)\n",
    "    \n",
    "  and the\n",
    "  plinth\n",
    "  (remaining tile);\n",
    "* the plinth has its centre at position ($x = 0, y = 0$);\n",
    "* the blocks have $y$-coordinates greater than zero (so the plinth is the unique lowest tile);\n",
    "* the centre of mass of all the blocks, combined, has $x$-coordinate equal to zero.\n",
    "\n",
    "When counting the sculptures, any arrangements which are simply reflections about the $y$-axis, are\n",
    "not\n",
    "counted as distinct. For example, the $18$ balanced sculptures of order $6$ are shown below; note that each pair of mirror images (about the $y$-axis) is counted as one sculpture:\n",
    "\n",
    "![0275_sculptures2.gif](resources/0275_sculptures2.gif)\n",
    "\n",
    "There are $964$ balanced sculptures of order $10$ and $360505$ of order $15$.\n",
    "  \n",
    "How many balanced sculptures are there of order $18$?"
   ]
  },
  {
   "cell_type": "code",
   "execution_count": null,
   "id": "e6e86c16",
   "metadata": {},
   "outputs": [],
   "source": [
    "# Problem 275 workspace"
   ]
  },
  {
   "cell_type": "markdown",
   "id": "eb207dee",
   "metadata": {},
   "source": [
    "## Answer: "
   ]
  },
  {
   "cell_type": "markdown",
   "id": "18c839ec",
   "metadata": {},
   "source": [
    "___"
   ]
  },
  {
   "cell_type": "markdown",
   "id": "9af4e1f5",
   "metadata": {},
   "source": [
    "# Problem 276\n",
    " [Source](https://projecteuler.net/problem=276)"
   ]
  },
  {
   "cell_type": "markdown",
   "id": "16384171",
   "metadata": {},
   "source": [
    "Consider the triangles with integer sides $a$, $b$ and $c$ with $a \\le b \\le c$.\n",
    "  \n",
    "An integer sided triangle $(a,b,c)$ is called primitive if\n",
    "**$\\gcd(a, b, c)$\n",
    "$\\gcd(a,b,c)=\\gcd(a,\\gcd(b,c))$**\n",
    "$=1$.\n",
    "  \n",
    "How many primitive integer sided triangles exist with a perimeter not exceeding $10\\,000\\,000$?"
   ]
  },
  {
   "cell_type": "code",
   "execution_count": null,
   "id": "b28afd20",
   "metadata": {},
   "outputs": [],
   "source": [
    "# Problem 276 workspace"
   ]
  },
  {
   "cell_type": "markdown",
   "id": "fdaf84ae",
   "metadata": {},
   "source": [
    "## Answer: "
   ]
  },
  {
   "cell_type": "markdown",
   "id": "e119904e",
   "metadata": {},
   "source": [
    "___"
   ]
  },
  {
   "cell_type": "markdown",
   "id": "8f91598d",
   "metadata": {},
   "source": [
    "# Problem 277\n",
    " [Source](https://projecteuler.net/problem=277)"
   ]
  },
  {
   "cell_type": "markdown",
   "id": "b538fed2",
   "metadata": {},
   "source": [
    "A modified Collatz sequence of integers is obtained from a starting value $a\\_1$ in the following way:\n",
    "\n",
    "$a\\_{n+1} = \\, \\,\\, \\frac {a\\_n} 3 \\quad$ if $a\\_n$ is divisible by $3$. We shall denote this as a large downward step, \"D\".\n",
    "\n",
    "$a\\_{n+1} = \\frac {4 a\\_n+2} 3 \\, \\,$ if $a\\_n$ divided by $3$ gives a remainder of $1$. We shall denote this as an upward step, \"U\".\n",
    "\n",
    "$a\\_{n+1} = \\frac {2 a\\_n -1} 3 \\, \\,$ if $a\\_n$ divided by $3$ gives a remainder of $2$. We shall denote this as a small downward step, \"d\".\n",
    "\n",
    "The sequence terminates when some $a\\_n = 1$.\n",
    "\n",
    "Given any integer, we can list out the sequence of steps.\n",
    "  \n",
    "For instance if $a\\_1=231$, then the sequence $\\{a\\_n\\}=\\{231,77,51,17,11,7,10,14,9,3,1\\}$ corresponds to the steps \"DdDddUUdDD\".\n",
    "\n",
    "Of course, there are other sequences that begin with that same sequence \"DdDddUUdDD....\".\n",
    "  \n",
    "For instance, if $a\\_1=1004064$, then the sequence is DdDddUUdDDDdUDUUUdDdUUDDDUdDD.\n",
    "  \n",
    "In fact, $1004064$ is the smallest possible $a\\_1 > 10^6$ that begins with the sequence DdDddUUdDD.\n",
    "\n",
    "What is the smallest $a\\_1 > 10^{15}$ that begins with the sequence \"UDDDUdddDDUDDddDdDddDDUDDdUUDd\"?"
   ]
  },
  {
   "cell_type": "code",
   "execution_count": null,
   "id": "5c04340b",
   "metadata": {},
   "outputs": [],
   "source": [
    "# Problem 277 workspace"
   ]
  },
  {
   "cell_type": "markdown",
   "id": "184b3c0c",
   "metadata": {},
   "source": [
    "## Answer: "
   ]
  },
  {
   "cell_type": "markdown",
   "id": "a5887e0b",
   "metadata": {},
   "source": [
    "___"
   ]
  },
  {
   "cell_type": "markdown",
   "id": "0307f41e",
   "metadata": {},
   "source": [
    "# Problem 278\n",
    " [Source](https://projecteuler.net/problem=278)"
   ]
  },
  {
   "cell_type": "markdown",
   "id": "1eab5045",
   "metadata": {},
   "source": [
    "Given the values of integers $1 < a\\_1 < a\\_2 < \\dots < a\\_n$, consider the linear combination\n",
    "  \n",
    "$q\\_1 a\\_1+q\\_2 a\\_2 + \\dots + q\\_n a\\_n=b$, using only integer values $q\\_k \\ge 0$.\n",
    "\n",
    "Note that for a given set of $a\\_k$, it may be that not all values of $b$ are possible.\n",
    "  \n",
    "For instance, if $a\\_1=5$ and $a\\_2=7$, there are no $q\\_1 \\ge 0$ and $q\\_2 \\ge 0$ such that $b$ could be\n",
    "  \n",
    "$1, 2, 3, 4, 6, 8, 9, 11, 13, 16, 18$ or $23$.\n",
    "  \n",
    "In fact, $23$ is the largest impossible value of $b$ for $a\\_1=5$ and $a\\_2=7$.\n",
    "  \n",
    "We therefore call $f(5, 7) = 23$.\n",
    "  \n",
    "Similarly, it can be shown that $f(6, 10, 15)=29$ and $f(14, 22, 77) = 195$.\n",
    "\n",
    "Find $\\displaystyle \\sum f( p\\, q,p \\, r, q \\, r)$, where $p$, $q$ and $r$ are prime numbers and $p < q < r < 5000$."
   ]
  },
  {
   "cell_type": "code",
   "execution_count": null,
   "id": "488c535e",
   "metadata": {},
   "outputs": [],
   "source": [
    "# Problem 278 workspace"
   ]
  },
  {
   "cell_type": "markdown",
   "id": "2b424f48",
   "metadata": {},
   "source": [
    "## Answer: "
   ]
  },
  {
   "cell_type": "markdown",
   "id": "9695909b",
   "metadata": {},
   "source": [
    "___"
   ]
  },
  {
   "cell_type": "markdown",
   "id": "dd08e921",
   "metadata": {},
   "source": [
    "# Problem 279\n",
    " [Source](https://projecteuler.net/problem=279)"
   ]
  },
  {
   "cell_type": "markdown",
   "id": "7517885a",
   "metadata": {},
   "source": [
    "How many triangles are there with integral sides, at least one integral angle (measured in degrees), and a perimeter that does not exceed $10^8$?"
   ]
  },
  {
   "cell_type": "code",
   "execution_count": null,
   "id": "070f8cf6",
   "metadata": {},
   "outputs": [],
   "source": [
    "# Problem 279 workspace"
   ]
  },
  {
   "cell_type": "markdown",
   "id": "8ee8c3f5",
   "metadata": {},
   "source": [
    "## Answer: "
   ]
  },
  {
   "cell_type": "markdown",
   "id": "35ed33d3",
   "metadata": {},
   "source": [
    "___"
   ]
  },
  {
   "cell_type": "markdown",
   "id": "fdacaabb",
   "metadata": {},
   "source": [
    "# Problem 280\n",
    " [Source](https://projecteuler.net/problem=280)"
   ]
  },
  {
   "cell_type": "markdown",
   "id": "aa06bac9",
   "metadata": {},
   "source": [
    "A laborious ant walks randomly on a $5 \\times 5$ grid. The walk starts from the central square. At each step, the ant moves to an adjacent square at random, without leaving the grid; thus there are $2$, $3$ or $4$ possible moves at each step depending on the ant's position.\n",
    "\n",
    "At the start of the walk, a seed is placed on each square of the lower row. When the ant isn't carrying a seed and reaches a square of the lower row containing a seed, it will start to carry the seed. The ant will drop the seed on the first empty square of the upper row it eventually reaches.\n",
    "\n",
    "What's the expected number of steps until all seeds have been dropped in the top row?\n",
    "  \n",
    "Give your answer rounded to $6$ decimal places."
   ]
  },
  {
   "cell_type": "code",
   "execution_count": null,
   "id": "c927bde8",
   "metadata": {},
   "outputs": [],
   "source": [
    "# Problem 280 workspace"
   ]
  },
  {
   "cell_type": "markdown",
   "id": "fd63d8e3",
   "metadata": {},
   "source": [
    "## Answer: "
   ]
  },
  {
   "cell_type": "markdown",
   "id": "24304bc7",
   "metadata": {},
   "source": [
    "___"
   ]
  }
 ],
 "metadata": {},
 "nbformat": 4,
 "nbformat_minor": 5
}
