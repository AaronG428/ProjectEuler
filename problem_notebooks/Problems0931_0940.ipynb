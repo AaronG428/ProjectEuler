{
 "cells": [
  {
   "cell_type": "markdown",
   "id": "a23d965e",
   "metadata": {},
   "source": [
    "# Problem 931\n",
    " [Source](https://projecteuler.net/problem=931)"
   ]
  },
  {
   "cell_type": "markdown",
   "id": "01c06a52",
   "metadata": {},
   "source": [
    "For a positive integer $n$ construct a graph using all the divisors of $n$ as the vertices. An edge is drawn between $a$ and $b$ if $a$ is divisible by $b$ and $a/b$ is prime, and is given weight $\\phi(a)-\\phi(b)$, where $\\phi$ is the Euler totient function.\n",
    "  \n",
    "Define $t(n)$ to be the total weight of this graph.\n",
    "  \n",
    "The example below shows that $t(45) = 52$\n",
    "\n",
    "![0931_totientgraph.png](resources/0931_totientgraph.png)\n",
    "\n",
    "Let $T(N)=\\displaystyle\\sum\\_{n=1}^{N} t(n)$. You are given $T(10)=26$ and $T(10^2)=5282$.\n",
    "\n",
    "Find $T(10^{12})$. Give your answer modulo $715827883$."
   ]
  },
  {
   "cell_type": "code",
   "execution_count": null,
   "id": "d16afccb",
   "metadata": {},
   "outputs": [],
   "source": [
    "# Problem 931 workspace"
   ]
  },
  {
   "cell_type": "markdown",
   "id": "6df3bb27",
   "metadata": {},
   "source": [
    "## Answer: "
   ]
  },
  {
   "cell_type": "markdown",
   "id": "23cd95e9",
   "metadata": {},
   "source": [
    "___"
   ]
  },
  {
   "cell_type": "markdown",
   "id": "471a40d4",
   "metadata": {},
   "source": [
    "# Problem 932\n",
    " [Source](https://projecteuler.net/problem=932)"
   ]
  },
  {
   "cell_type": "markdown",
   "id": "e4ea22ae",
   "metadata": {},
   "source": [
    "For the year $2025$\n",
    "\n",
    "$$2025 = (20 + 25)^2$$\n",
    "\n",
    "Given positive integers $a$ and $b$, the concatenation $ab$ we call a $2025$-number if $ab = (a+b)^2$.\n",
    "  \n",
    "Other examples are $3025$ and $81$.\n",
    "  \n",
    "Note $9801$ is not a $2025$-number because the concatenation of $98$ and $1$ is $981$.\n",
    "\n",
    "Let $T(n)$ be the sum of all $2025$-numbers with $n$ digits or less. You are given $T(4) = 5131$.\n",
    "\n",
    "Find $T(16)$."
   ]
  },
  {
   "cell_type": "code",
   "execution_count": null,
   "id": "dbaf55d6",
   "metadata": {},
   "outputs": [],
   "source": [
    "# Problem 932 workspace"
   ]
  },
  {
   "cell_type": "markdown",
   "id": "7c789c02",
   "metadata": {},
   "source": [
    "## Answer: "
   ]
  },
  {
   "cell_type": "markdown",
   "id": "4c5942de",
   "metadata": {},
   "source": [
    "___"
   ]
  },
  {
   "cell_type": "markdown",
   "id": "df7c0a77",
   "metadata": {},
   "source": [
    "# Problem 933\n",
    " [Source](https://projecteuler.net/problem=933)"
   ]
  },
  {
   "cell_type": "markdown",
   "id": "93c3ebef",
   "metadata": {},
   "source": [
    "Starting with one piece of integer-sized rectangle paper, two players make moves in turn.\n",
    "  \n",
    "A valid move consists of choosing one piece of paper and cutting it\n",
    "**both**\n",
    "horizontally and vertically, so that it becomes four pieces of smaller rectangle papers, all of which are integer-sized.\n",
    "  \n",
    "The player that does not have a valid move loses the game.\n",
    "\n",
    "Let $C(w, h)$ be the number of winning moves for the first player, when the original paper has size $w \\times h$. For example, $C(5,3)=4$, with the four winning moves shown below.\n",
    "\n",
    "![0933_PaperCutting2.jpg](resources/0933_PaperCutting3.jpg)\n",
    "\n",
    "Also write $\\displaystyle D(W, H) = \\sum\\_{w = 2}^W\\sum\\_{h = 2}^H C(w, h)$. You are given that $D(12, 123) = 327398$.\n",
    "\n",
    "Find $D(123, 1234567)$."
   ]
  },
  {
   "cell_type": "code",
   "execution_count": null,
   "id": "f6b42072",
   "metadata": {},
   "outputs": [],
   "source": [
    "# Problem 933 workspace"
   ]
  },
  {
   "cell_type": "markdown",
   "id": "5d2dcf84",
   "metadata": {},
   "source": [
    "## Answer: "
   ]
  },
  {
   "cell_type": "markdown",
   "id": "fd1b666a",
   "metadata": {},
   "source": [
    "___"
   ]
  },
  {
   "cell_type": "markdown",
   "id": "831221d5",
   "metadata": {},
   "source": [
    "# Problem 934\n",
    " [Source](https://projecteuler.net/problem=934)"
   ]
  },
  {
   "cell_type": "markdown",
   "id": "c402f7f1",
   "metadata": {},
   "source": [
    "We define the\n",
    "*unlucky prime*\n",
    "of a number $n$, denoted $u(n)$, as the smallest prime number $p$ such that the remainder of $n$ divided by $p$ (i.e. $n \\bmod p$) is not a multiple of seven.\n",
    "  \n",
    "For example, $u(14) = 3$, $u(147) = 2$ and $u(1470) = 13$.\n",
    "\n",
    "Let $U(N)$ be the sum $\\sum\\_{n = 1}^N u(n)$.\n",
    "  \n",
    "You are given $U(1470) = 4293$.\n",
    "\n",
    "Find $U(10^{17})$."
   ]
  },
  {
   "cell_type": "code",
   "execution_count": null,
   "id": "3818e465",
   "metadata": {},
   "outputs": [],
   "source": [
    "# Problem 934 workspace"
   ]
  },
  {
   "cell_type": "markdown",
   "id": "9b20d0b2",
   "metadata": {},
   "source": [
    "## Answer: "
   ]
  },
  {
   "cell_type": "markdown",
   "id": "e70f85be",
   "metadata": {},
   "source": [
    "___"
   ]
  },
  {
   "cell_type": "markdown",
   "id": "a0573b91",
   "metadata": {},
   "source": [
    "# Problem 935\n",
    " [Source](https://projecteuler.net/problem=935)"
   ]
  },
  {
   "cell_type": "markdown",
   "id": "5a3896d5",
   "metadata": {},
   "source": [
    "A square of side length $b<1$ is rolling around the inside of a larger square of side length $1$, always touching the larger square but without sliding.\n",
    "  \n",
    "Initially the two squares share a common corner. At each step, the small square rotates clockwise about a corner that touches the large square, until another of its corners touches the large square. Here is an illustration of the first three steps for $b = \\frac5{13}$.\n",
    "\n",
    "![0935_rolling.png](resources/0935_rolling.png)\n",
    "\n",
    "For some values of $b$, the small square may return to its initial position after several steps. For example, when $b = \\frac12$, this happens in $4$ steps; and for $b = \\frac5{13}$ it happens in $24$ steps.\n",
    "\n",
    "Let $F(N)$ be the number of different values of $b$ for which the small square first returns to its initial position within at most $N$ steps. For example, $F(6) = 4$, with the corresponding $b$ values:\n",
    "$$\\frac12,\\quad 2 - \\sqrt 2,\\quad 2 + \\sqrt 2 - \\sqrt{2 + 4\\sqrt2},\\quad 8 - 5\\sqrt2 + 4\\sqrt3 - 3\\sqrt6,$$\n",
    "the first three in $4$ steps and the last one in $6$ steps. Note that it does not matter whether the small square returns to its original\n",
    "**orientation**\n",
    ".\n",
    "  \n",
    "Also $F(100) = 805$.\n",
    "\n",
    "Find $F(10^8)$."
   ]
  },
  {
   "cell_type": "code",
   "execution_count": null,
   "id": "9762cf54",
   "metadata": {},
   "outputs": [],
   "source": [
    "# Problem 935 workspace"
   ]
  },
  {
   "cell_type": "markdown",
   "id": "1ba85e4b",
   "metadata": {},
   "source": [
    "## Answer: "
   ]
  },
  {
   "cell_type": "markdown",
   "id": "c16434bf",
   "metadata": {},
   "source": [
    "___"
   ]
  },
  {
   "cell_type": "markdown",
   "id": "56613f49",
   "metadata": {},
   "source": [
    "# Problem 936\n",
    " [Source](https://projecteuler.net/problem=936)"
   ]
  },
  {
   "cell_type": "markdown",
   "id": "bc7ec726",
   "metadata": {},
   "source": [
    "A\n",
    "*peerless tree*\n",
    "is a tree with no edge between two vertices of the same degree. Let $P(n)$ be the number of peerless trees on $n$ unlabelled vertices.\n",
    "\n",
    "There are six of these trees on seven unlabelled vertices, $P(7)=6$, shown below.\n",
    "\n",
    "![0936_diagram.jpg](resources/0936_diagram.jpg)\n",
    "\n",
    "Define $\\displaystyle S(N) = \\sum\\_{n=3}^N P(n)$. You are given $S(10) = 74$.\n",
    "\n",
    "Find $S(50)$."
   ]
  },
  {
   "cell_type": "code",
   "execution_count": null,
   "id": "87c02dd7",
   "metadata": {},
   "outputs": [],
   "source": [
    "# Problem 936 workspace"
   ]
  },
  {
   "cell_type": "markdown",
   "id": "a9faefa9",
   "metadata": {},
   "source": [
    "## Answer: "
   ]
  },
  {
   "cell_type": "markdown",
   "id": "9e0ae20c",
   "metadata": {},
   "source": [
    "___"
   ]
  },
  {
   "cell_type": "markdown",
   "id": "5b1e2cae",
   "metadata": {},
   "source": [
    "# Problem 937\n",
    " [Source](https://projecteuler.net/problem=937)"
   ]
  },
  {
   "cell_type": "markdown",
   "id": "e3cca8d2",
   "metadata": {},
   "source": [
    "Let $\\theta=\\sqrt{-2}$.\n",
    "\n",
    "Define $T$ to be the set of numbers of the form $a+b\\theta$, where $a$ and $b$ are integers and either $a\\gt 0$, or $a=0$ and $b\\gt 0$. For a set $S \\subseteq T$ and element $z \\in T$, define $p(S,z)$ to be the number of ways of choosing two distinct elements from $S$ with product either $z$ or $-z$.\n",
    "\n",
    "For example if $S=\\{1,2,4\\}$ and $z=4$, there is only one valid pair of elements with product $\\pm4$, namely $1$ and $4$. Thus, in this case $p(S,z)=1$.\n",
    "\n",
    "For another example, if $S=\\{1,\\theta,1+\\theta,2-\\theta\\}$ and $z=2-\\theta$, we have $1\\cdot(2-\\theta)=z$ and $\\theta\\cdot(1+\\theta)=-z$, giving $p(S,z)=2$.\n",
    "\n",
    "Let $A$ and $B$ be two sets satisfying the following conditions:\n",
    "\n",
    "* $1 \\in A$\n",
    "* $A \\cap B = \\emptyset$\n",
    "* $A \\cup B = T$\n",
    "* $p(A,z) = p(B,z)$ for all $z\\in T$\n",
    "\n",
    "Remarkably, these four conditions uniquely determine the sets $A$ and $B$.\n",
    "\n",
    "Let $F\\_n$ be the set of the first $n$ factorials: $F\\_n=\\{1!,2!,\\dots,n!\\}$, and define $G(n)$ to be the sum of all elements of $F\\_n\\cap A$.\n",
    "\n",
    "You are given $G(4) = 25$, $G(7) = 745$, and $G(100) \\equiv 709772949 \\pmod{10^9+7}$.\n",
    "\n",
    "Find $G(10^8)$ and give your answer modulo $10^9+7$."
   ]
  },
  {
   "cell_type": "code",
   "execution_count": null,
   "id": "52aa3d07",
   "metadata": {},
   "outputs": [],
   "source": [
    "# Problem 937 workspace"
   ]
  },
  {
   "cell_type": "markdown",
   "id": "c45480da",
   "metadata": {},
   "source": [
    "## Answer: "
   ]
  },
  {
   "cell_type": "markdown",
   "id": "1ba66cc8",
   "metadata": {},
   "source": [
    "___"
   ]
  },
  {
   "cell_type": "markdown",
   "id": "b7e135c2",
   "metadata": {},
   "source": [
    "# Problem 938\n",
    " [Source](https://projecteuler.net/problem=938)"
   ]
  },
  {
   "cell_type": "markdown",
   "id": "90774696",
   "metadata": {},
   "source": [
    "A deck of cards contains $R$ red cards and $B$ black cards.\n",
    "  \n",
    "A card is chosen uniformly randomly from the deck and removed. A second card is then chosen uniformly randomly from the cards remaining and removed.\n",
    "\n",
    "* If both cards are red, they are discarded.\n",
    "* If both cards are black, they are both put back in the deck.\n",
    "* If they are different colours, the red card is put back in the deck and the black card is discarded.\n",
    "\n",
    "Play ends when all the remaining cards in the deck are the same colour and let $P(R,B)$ be the probability that this colour is black.\n",
    "\n",
    "You are given $P(2,2) = 0.4666666667$, $P(10,9) = 0.4118903397$ and $P(34,25) = 0.3665688069$.\n",
    "\n",
    "Find $P(24690,12345)$. Give your answer with 10 digits after the decimal point."
   ]
  },
  {
   "cell_type": "code",
   "execution_count": null,
   "id": "b7fccbab",
   "metadata": {},
   "outputs": [],
   "source": [
    "# Problem 938 workspace"
   ]
  },
  {
   "cell_type": "markdown",
   "id": "654162e2",
   "metadata": {},
   "source": [
    "## Answer: "
   ]
  },
  {
   "cell_type": "markdown",
   "id": "f1b3d974",
   "metadata": {},
   "source": [
    "___"
   ]
  },
  {
   "cell_type": "markdown",
   "id": "0c1a3062",
   "metadata": {},
   "source": [
    "# Problem 939\n",
    " [Source](https://projecteuler.net/problem=939)"
   ]
  },
  {
   "cell_type": "markdown",
   "id": "4eaf01a9",
   "metadata": {},
   "source": [
    "Two players A and B are playing a variant of Nim.\n",
    "  \n",
    "At the beginning, there are several piles of stones. Each pile is either at the side of A or at the side of B. The piles are unordered.\n",
    "\n",
    "They make moves in turn. At a player's turn, the player can\n",
    "\n",
    "* either choose a pile on the opponent's side and remove one stone from that pile;\n",
    "* or choose a pile on their own side and remove the whole pile.\n",
    "\n",
    "The winner is the player who removes the last stone.\n",
    "\n",
    "Let $E(N)$ be the number of initial settings with at most $N$ stones such that, whoever plays first, A always has a winning strategy.\n",
    "\n",
    "For example $E(4) = 9$; the settings are:\n",
    "\n",
    "| Nr. | Piles at the side of A | Piles at the side of B |\n",
    "| --- | --- | --- |\n",
    "| 1 | $4$ | none |\n",
    "| 2 | $1, 3$ | none |\n",
    "| 3 | $2, 2$ | none |\n",
    "| 4 | $1, 1, 2$ | none |\n",
    "| 5 | $3$ | $1$ |\n",
    "| 6 | $1, 2$ | $1$ |\n",
    "| 7 | $2$ | $1, 1$ |\n",
    "| 8 | $3$ | none |\n",
    "| 9 | $2$ | none |\n",
    "\n",
    "Find $E(5000) \\bmod 1234567891$."
   ]
  },
  {
   "cell_type": "code",
   "execution_count": null,
   "id": "6703e3ab",
   "metadata": {},
   "outputs": [],
   "source": [
    "# Problem 939 workspace"
   ]
  },
  {
   "cell_type": "markdown",
   "id": "0675917c",
   "metadata": {},
   "source": [
    "## Answer: "
   ]
  },
  {
   "cell_type": "markdown",
   "id": "0a836120",
   "metadata": {},
   "source": [
    "___"
   ]
  },
  {
   "cell_type": "markdown",
   "id": "1e7a001e",
   "metadata": {},
   "source": [
    "# Problem 940\n",
    " [Source](https://projecteuler.net/problem=940)"
   ]
  },
  {
   "cell_type": "markdown",
   "id": "b897a731",
   "metadata": {},
   "source": [
    "The\n",
    "**Fibonacci sequence**\n",
    "$(f\\_i)$ is the unique sequence such that\n",
    "\n",
    "* $f\\_0=0$\n",
    "* $f\\_1=1$\n",
    "* $f\\_{i+1}=f\\_i+f\\_{i-1}$\n",
    "\n",
    "Similarly, there is a unique function $A(m,n)$ such that\n",
    "\n",
    "* $A(0,0)=0$\n",
    "* $A(0,1)=1$\n",
    "* $A(m+1,n)=A(m,n+1)+A(m,n)$\n",
    "* $A(m+1,n+1)=2A(m+1,n)+A(m,n)$\n",
    "\n",
    "Define $S(k)=\\displaystyle\\sum\\_{i=2}^k\\sum\\_{j=2}^k A(f\\_i,f\\_j)$. For example\n",
    "$$\n",
    "\\begin{align}\n",
    "S(3)&=A(1,1)+A(1,2)+A(2,1)+A(2,2)\\\\\n",
    "&=2+5+7+16\\\\\n",
    "&=30\n",
    "\\end{align}\n",
    "$$You are also given $S(5)=10396$.\n",
    "\n",
    "Find $S(50)$, giving your answer modulo $1123581313$."
   ]
  },
  {
   "cell_type": "code",
   "execution_count": null,
   "id": "3a1cae70",
   "metadata": {},
   "outputs": [],
   "source": [
    "# Problem 940 workspace"
   ]
  },
  {
   "cell_type": "markdown",
   "id": "23ee7180",
   "metadata": {},
   "source": [
    "## Answer: "
   ]
  },
  {
   "cell_type": "markdown",
   "id": "9d5425da",
   "metadata": {},
   "source": [
    "___"
   ]
  }
 ],
 "metadata": {},
 "nbformat": 4,
 "nbformat_minor": 5
}
