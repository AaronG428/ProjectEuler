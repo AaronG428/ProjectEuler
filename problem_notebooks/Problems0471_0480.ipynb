{
 "cells": [
  {
   "cell_type": "markdown",
   "id": "8ea132a2",
   "metadata": {},
   "source": [
    "# Problem 471\n",
    " [Source](https://projecteuler.net/problem=471)"
   ]
  },
  {
   "cell_type": "markdown",
   "id": "ad45e68b",
   "metadata": {},
   "source": [
    "The triangle $\\triangle ABC$ is inscribed in an ellipse with equation $\\frac {x^2} {a^2} + \\frac {y^2} {b^2} = 1$, $0 \\lt 2b \\lt a$, $a$ and $b$ integers.\n",
    "\n",
    "Let $r(a, b)$ be the radius of the incircle of $\\triangle ABC$ when the incircle has center $(2b, 0)$ and $A$ has coordinates $\\left( \\frac a 2, \\frac {\\sqrt 3} 2 b\\right)$.\n",
    "\n",
    "For example, $r(3,1)=\\frac12$, $r(6,2)=1$, $r(12,3)=2$.\n",
    "\n",
    "![0471-triangle-inscribed-in-ellipse-1.png](resources/0471-triangle-inscribed-in-ellipse-1.png)\n",
    "\n",
    "![0471-triangle-inscribed-in-ellipse-2.png](resources/0471-triangle-inscribed-in-ellipse-2.png)\n",
    "\n",
    "Let $G(n) = \\sum\\_{a=3}^n \\sum\\_{b=1}^{\\lfloor \\frac {a - 1} 2 \\rfloor} r(a, b)$\n",
    "\n",
    "You are given $G(10) = 20.59722222$, $G(100) = 19223.60980$ (rounded to $10$ significant digits).\n",
    "\n",
    "Find $G(10^{11})$.\n",
    "\n",
    "Give your answer in scientific notation rounded to $10$ significant digits. Use a lowercase e to separate mantissa and exponent.\n",
    "\n",
    "For $G(10)$ the answer would have been 2.059722222e1."
   ]
  },
  {
   "cell_type": "code",
   "execution_count": null,
   "id": "a6f114cc",
   "metadata": {},
   "outputs": [],
   "source": [
    "# Problem 471 workspace"
   ]
  },
  {
   "cell_type": "markdown",
   "id": "57ab6198",
   "metadata": {},
   "source": [
    "## Answer: "
   ]
  },
  {
   "cell_type": "markdown",
   "id": "0cf5f9a0",
   "metadata": {},
   "source": [
    "___"
   ]
  },
  {
   "cell_type": "markdown",
   "id": "549d695c",
   "metadata": {},
   "source": [
    "# Problem 472\n",
    " [Source](https://projecteuler.net/problem=472)"
   ]
  },
  {
   "cell_type": "markdown",
   "id": "0010cf80",
   "metadata": {},
   "source": [
    "There are $N$ seats in a row. $N$ people come one after another to fill the seats according to the following rules:\n",
    "\n",
    "1. No person sits beside another.\n",
    "2. The first person chooses any seat.\n",
    "3. Each subsequent person chooses the seat furthest from anyone else already seated, as long as it does not violate rule 1. If there is more than one choice satisfying this condition, then the person chooses the leftmost choice.\n",
    "\n",
    "Note that due to rule 1, some seats will surely be left unoccupied, and the maximum number of people that can be seated is less than $N$ (for $N \\gt 1$).\n",
    "\n",
    "Here are the possible seating arrangements for $N = 15$:\n",
    "\n",
    "![0472_n15.png](resources/0472_n15.png)\n",
    "\n",
    "We see that if the first person chooses correctly, the $15$ seats can seat up to $7$ people.\n",
    "  \n",
    "We can also see that the first person has $9$ choices to maximize the number of people that may be seated.\n",
    "\n",
    "Let $f(N)$ be the number of choices the first person has to maximize the number of occupants for $N$ seats in a row. Thus, $f(1) = 1$, $f(15) = 9$, $f(20) = 6$, and $f(500) = 16$.\n",
    "\n",
    "Also, $\\sum f(N) = 83$ for $1 \\le N \\le 20$ and $\\sum f(N) = 13343$ for $1 \\le N \\le 500$.\n",
    "\n",
    "Find $\\sum f(N)$ for $1 \\le N \\le 10^{12}$. Give the last $8$ digits of your answer."
   ]
  },
  {
   "cell_type": "code",
   "execution_count": null,
   "id": "1f487e24",
   "metadata": {},
   "outputs": [],
   "source": [
    "# Problem 472 workspace"
   ]
  },
  {
   "cell_type": "markdown",
   "id": "cfe80eda",
   "metadata": {},
   "source": [
    "## Answer: "
   ]
  },
  {
   "cell_type": "markdown",
   "id": "03ef275e",
   "metadata": {},
   "source": [
    "___"
   ]
  },
  {
   "cell_type": "markdown",
   "id": "5354a598",
   "metadata": {},
   "source": [
    "# Problem 473\n",
    " [Source](https://projecteuler.net/problem=473)"
   ]
  },
  {
   "cell_type": "markdown",
   "id": "849eb827",
   "metadata": {},
   "source": [
    "Let $\\varphi$ be the golden ratio: $\\varphi=\\frac{1+\\sqrt{5}}{2}.$\n",
    "  \n",
    "Remarkably it is possible to write every positive integer as a sum of powers of $\\varphi$ even if we require that every power of $\\varphi$ is used at most once in this sum.\n",
    "  \n",
    "Even then this representation is not unique.\n",
    "  \n",
    "We can make it unique by requiring that no powers with consecutive exponents are used and that the representation is finite.\n",
    "  \n",
    "E.g:\n",
    "$2=\\varphi+\\varphi^{-2}$ and $3=\\varphi^{2}+\\varphi^{-2}$\n",
    "\n",
    "To represent this sum of powers of $\\varphi$ we use a string of 0's and 1's with a point to indicate where the negative exponents start.\n",
    "  \n",
    "We call this the representation in the\n",
    "**phigital numberbase**\n",
    ".\n",
    "  \n",
    "So $1=1\\_{\\varphi}$, $2=10.01\\_{\\varphi}$, $3=100.01\\_{\\varphi}$ and $14=100100.001001\\_{\\varphi}$.\n",
    "  \n",
    "The strings representing $1$, $2$ and $14$ in the phigital number base are palindromic, while the string representing $3$ is not.\n",
    "  \n",
    "(the phigital point is not the middle character).\n",
    "\n",
    "The sum of the positive integers not exceeding $1000$ whose phigital representation is palindromic is $4345$.\n",
    "\n",
    "Find the sum of the positive integers not exceeding $10^{10}$ whose phigital representation is palindromic."
   ]
  },
  {
   "cell_type": "code",
   "execution_count": null,
   "id": "efa8c359",
   "metadata": {},
   "outputs": [],
   "source": [
    "# Problem 473 workspace"
   ]
  },
  {
   "cell_type": "markdown",
   "id": "ffe3edcf",
   "metadata": {},
   "source": [
    "## Answer: "
   ]
  },
  {
   "cell_type": "markdown",
   "id": "0a4457ff",
   "metadata": {},
   "source": [
    "___"
   ]
  },
  {
   "cell_type": "markdown",
   "id": "22cf09c2",
   "metadata": {},
   "source": [
    "# Problem 474\n",
    " [Source](https://projecteuler.net/problem=474)"
   ]
  },
  {
   "cell_type": "markdown",
   "id": "689c922f",
   "metadata": {},
   "source": [
    "For a positive integer $n$ and digits $d$, we define $F(n, d)$ as the number of the divisors of $n$ whose last digits equal $d$.\n",
    "  \n",
    "For example, $F(84, 4) = 3$. Among the divisors of $84$ ($1, 2, 3, 4, 6, 7, 12, 14, 21, 28, 42, 84$), three of them ($4, 14, 84$) have the last digit $4$.\n",
    "\n",
    "We can also verify that $F(12!, 12) = 11$ and $F(50!, 123) = 17888$.\n",
    "\n",
    "Find $F(10^6!, 65432)$ modulo ($10^{16} + 61$)."
   ]
  },
  {
   "cell_type": "code",
   "execution_count": null,
   "id": "d3f506af",
   "metadata": {},
   "outputs": [],
   "source": [
    "# Problem 474 workspace"
   ]
  },
  {
   "cell_type": "markdown",
   "id": "8ff5cfde",
   "metadata": {},
   "source": [
    "## Answer: "
   ]
  },
  {
   "cell_type": "markdown",
   "id": "91787c57",
   "metadata": {},
   "source": [
    "___"
   ]
  },
  {
   "cell_type": "markdown",
   "id": "b9d07238",
   "metadata": {},
   "source": [
    "# Problem 475\n",
    " [Source](https://projecteuler.net/problem=475)"
   ]
  },
  {
   "cell_type": "markdown",
   "id": "433443ef",
   "metadata": {},
   "source": [
    "$12n$ musicians participate at a music festival. On the first day, they form $3n$ quartets and practice all day.\n",
    "\n",
    "It is a disaster. At the end of the day, all musicians decide they will never again agree to play with any member of their quartet.\n",
    "\n",
    "On the second day, they form $4n$ trios, with every musician avoiding any previous quartet partners.\n",
    "\n",
    "Let $f(12n)$ be the number of ways to organize the trios amongst the $12n$ musicians.\n",
    "\n",
    "You are given $f(12) = 576$ and $f(24) \\bmod 1\\,000\\,000\\,007 = 509089824$.\n",
    "\n",
    "Find $f(600) \\bmod 1\\,000\\,000\\,007$."
   ]
  },
  {
   "cell_type": "code",
   "execution_count": null,
   "id": "245caaad",
   "metadata": {},
   "outputs": [],
   "source": [
    "# Problem 475 workspace"
   ]
  },
  {
   "cell_type": "markdown",
   "id": "a9585291",
   "metadata": {},
   "source": [
    "## Answer: "
   ]
  },
  {
   "cell_type": "markdown",
   "id": "f49e5ec3",
   "metadata": {},
   "source": [
    "___"
   ]
  },
  {
   "cell_type": "markdown",
   "id": "824c063c",
   "metadata": {},
   "source": [
    "# Problem 476\n",
    " [Source](https://projecteuler.net/problem=476)"
   ]
  },
  {
   "cell_type": "markdown",
   "id": "1ef7c17e",
   "metadata": {},
   "source": [
    "Let $R(a, b, c)$ be the maximum area covered by three non-overlapping circles inside a triangle with edge lengths $a$, $b$ and $c$.\n",
    "\n",
    "Let $S(n)$ be the average value of $R(a, b, c)$ over all integer triplets $(a, b, c)$ such that $1 \\le a \\le b \\le c \\lt a + b \\le n$.\n",
    "\n",
    "You are given $S(2) = R(1, 1, 1) \\approx 0.31998$, $S(5) \\approx 1.25899$.\n",
    "\n",
    "Find $S(1803)$ rounded to $5$ decimal places behind the decimal point."
   ]
  },
  {
   "cell_type": "code",
   "execution_count": null,
   "id": "d0dd06bb",
   "metadata": {},
   "outputs": [],
   "source": [
    "# Problem 476 workspace"
   ]
  },
  {
   "cell_type": "markdown",
   "id": "ce5b22aa",
   "metadata": {},
   "source": [
    "## Answer: "
   ]
  },
  {
   "cell_type": "markdown",
   "id": "20fbc2e5",
   "metadata": {},
   "source": [
    "___"
   ]
  },
  {
   "cell_type": "markdown",
   "id": "fe06f0d9",
   "metadata": {},
   "source": [
    "# Problem 477\n",
    " [Source](https://projecteuler.net/problem=477)"
   ]
  },
  {
   "cell_type": "markdown",
   "id": "228d888d",
   "metadata": {},
   "source": [
    "The number sequence game starts with a sequence $S$ of $N$ numbers written on a line.\n",
    "\n",
    "Two players alternate turns. The players on their respective turns must select and remove either the first or the last number remaining in the sequence.\n",
    "\n",
    "A player's own score is (determined by) the sum of all the numbers that player has taken. Each player attempts to maximize their own sum.\n",
    "\n",
    "If $N = 4$ and $S = \\{1, 2, 10, 3\\}$, then each player maximizes their own score as follows:\n",
    "\n",
    "* Player 1: removes the first number ($1$)\n",
    "* Player 2: removes the last number from the remaining sequence ($3$)\n",
    "* Player 1: removes the last number from the remaining sequence ($10$)\n",
    "* Player 2: removes the remaining number ($2$)\n",
    "\n",
    "Player 1 score is $1 + 10 = 11$.\n",
    "\n",
    "Let $F(N)$ be the score of player 1 if both players follow the optimal strategy for the sequence $S = \\{s\\_1, s\\_2, \\dots, s\\_N\\}$ defined as:\n",
    "\n",
    "* $s\\_1 = 0$\n",
    "* $s\\_{i + 1} = (s\\_i^2 + 45)$ modulo $1\\,000\\,000\\,007$\n",
    "\n",
    "The sequence begins with $S=\\{0, 45, 2070, 4284945, 753524550, 478107844, 894218625, \\dots\\}$.\n",
    "\n",
    "You are given $F(2)=45$, $F(4)=4284990$, $F(100)=26365463243$, $F(10^4)=2495838522951$.\n",
    "\n",
    "Find $F(10^8)$."
   ]
  },
  {
   "cell_type": "code",
   "execution_count": null,
   "id": "8733ffa6",
   "metadata": {},
   "outputs": [],
   "source": [
    "# Problem 477 workspace"
   ]
  },
  {
   "cell_type": "markdown",
   "id": "404e50bb",
   "metadata": {},
   "source": [
    "## Answer: "
   ]
  },
  {
   "cell_type": "markdown",
   "id": "52ac9a7f",
   "metadata": {},
   "source": [
    "___"
   ]
  },
  {
   "cell_type": "markdown",
   "id": "1ddd10fc",
   "metadata": {},
   "source": [
    "# Problem 478\n",
    " [Source](https://projecteuler.net/problem=478)"
   ]
  },
  {
   "cell_type": "markdown",
   "id": "7ac10519",
   "metadata": {},
   "source": [
    "Let us consider\n",
    "**mixtures**\n",
    "of three substances:\n",
    "**A**\n",
    ",\n",
    "**B**\n",
    "and\n",
    "**C**\n",
    ". A mixture can be described by a ratio of the amounts of\n",
    "**A**\n",
    ",\n",
    "**B**\n",
    ", and\n",
    "**C**\n",
    "in it, i.e., $(a : b : c)$. For example, a mixture described by the ratio $(2 : 3 : 5)$ contains $20\\%$\n",
    "**A**\n",
    ", $30\\%$\n",
    "**B**\n",
    "and $50\\%$\n",
    "**C**\n",
    ".\n",
    "\n",
    "For the purposes of this problem, we cannot separate the individual components from a mixture. However, we can combine different amounts of different mixtures to form mixtures with new ratios.\n",
    "\n",
    "For example, say we have three mixtures with ratios $(3 : 0 : 2)$, $(3: 6 : 11)$ and $(3 : 3 : 4)$. By mixing $10$ units of the first, $20$ units of the second and $30$ units of the third, we get a new mixture with ratio $(6 : 5 : 9)$, since:\n",
    "  \n",
    "$(10 \\cdot \\tfrac 3 5$ + $20 \\cdot \\tfrac 3 {20} + 30 \\cdot \\tfrac 3 {10} : 10 \\cdot \\tfrac 0 5 + 20 \\cdot \\tfrac 6 {20} + 30 \\cdot \\tfrac 3 {10} : 10 \\cdot \\tfrac 2 5 + 20 \\cdot \\tfrac {11} {20} + 30 \\cdot \\tfrac 4 {10})\n",
    "= (18 : 15 : 27) = (6 : 5 : 9)$\n",
    "\n",
    "However, with the same three mixtures, it is impossible to form the ratio $(3 : 2 : 1)$, since the amount of\n",
    "**B**\n",
    "is always less than the amount of\n",
    "**C**\n",
    ".\n",
    "\n",
    "Let $n$ be a positive integer. Suppose that for every triple of integers $(a, b, c)$ with $0 \\le a, b, c \\le n$ and $\\gcd(a, b, c) = 1$, we have a mixture with ratio $(a : b : c)$. Let $M(n)$ be the set of all such mixtures.\n",
    "\n",
    "For example, $M(2)$ contains the $19$ mixtures with the following ratios:\n",
    "\n",
    "$$\\begin{align}\n",
    "\\{&(0 : 0 : 1), (0 : 1 : 0), (0 : 1 : 1), (0 : 1 : 2), (0 : 2 : 1),\\\\\n",
    "&(1 : 0 : 0), (1 : 0 : 1), (1 : 0 : 2), (1 : 1 : 0), (1 : 1 : 1),\\\\\n",
    "&(1 : 1 : 2), (1 : 2 : 0), (1 : 2 : 1), (1 : 2 : 2), (2 : 0 : 1),\\\\\n",
    "&(2 : 1 : 0), (2 : 1 : 1), (2 : 1 : 2), (2 : 2 : 1)\\}.\n",
    "\\end{align}$$\n",
    "\n",
    "Let $E(n)$ be the number of subsets of $M(n)$ which can produce the mixture with ratio $(1 : 1 : 1)$, i.e., the mixture with equal parts\n",
    "**A**\n",
    ",\n",
    "**B**\n",
    "and\n",
    "**C**\n",
    ".\n",
    "  \n",
    "We can verify that $E(1) = 103$, $E(2) = 520447$, $E(10) \\bmod 11^8 = 82608406$ and $E(500) \\bmod 11^8 = 13801403$.\n",
    "  \n",
    "Find $E(10\\,000\\,000) \\bmod 11^8$."
   ]
  },
  {
   "cell_type": "code",
   "execution_count": null,
   "id": "3b9cafb1",
   "metadata": {},
   "outputs": [],
   "source": [
    "# Problem 478 workspace"
   ]
  },
  {
   "cell_type": "markdown",
   "id": "ed734801",
   "metadata": {},
   "source": [
    "## Answer: "
   ]
  },
  {
   "cell_type": "markdown",
   "id": "86b09bf9",
   "metadata": {},
   "source": [
    "___"
   ]
  },
  {
   "cell_type": "markdown",
   "id": "91f7060a",
   "metadata": {},
   "source": [
    "# Problem 479\n",
    " [Source](https://projecteuler.net/problem=479)"
   ]
  },
  {
   "cell_type": "markdown",
   "id": "6655fce0",
   "metadata": {},
   "source": [
    "Let $a\\_k$, $b\\_k$, and $c\\_k$ represent the three solutions (real or complex numbers) to the equation\n",
    "$\\frac 1 x = (\\frac k x)^2(k+x^2)-k x$.\n",
    "\n",
    "For instance, for $k=5$, we see that $\\{a\\_5, b\\_5, c\\_5 \\}$ is approximately $\\{5.727244, -0.363622+2.057397i, -0.363622-2.057397i\\}$.\n",
    "\n",
    "Let $\\displaystyle S(n) = \\sum\\_{p=1}^n\\sum\\_{k=1}^n(a\\_k+b\\_k)^p(b\\_k+c\\_k)^p(c\\_k+a\\_k)^p$.\n",
    "\n",
    "Interestingly, $S(n)$ is always an integer. For example, $S(4) = 51160$.\n",
    "\n",
    "Find $S(10^6)$ modulo $1\\,000\\,000\\,007$."
   ]
  },
  {
   "cell_type": "code",
   "execution_count": null,
   "id": "16718162",
   "metadata": {},
   "outputs": [],
   "source": [
    "# Problem 479 workspace"
   ]
  },
  {
   "cell_type": "markdown",
   "id": "9312a1e2",
   "metadata": {},
   "source": [
    "## Answer: "
   ]
  },
  {
   "cell_type": "markdown",
   "id": "dd9089da",
   "metadata": {},
   "source": [
    "___"
   ]
  },
  {
   "cell_type": "markdown",
   "id": "1a24025d",
   "metadata": {},
   "source": [
    "# Problem 480\n",
    " [Source](https://projecteuler.net/problem=480)"
   ]
  },
  {
   "cell_type": "markdown",
   "id": "a7c82cbf",
   "metadata": {},
   "source": [
    "Consider all the words which can be formed by selecting letters, in any order, from the phrase:\n",
    "\n",
    "**thereisasyetinsufficientdataforameaningfulanswer**\n",
    "\n",
    "Suppose those with 15 letters or less are listed in\n",
    "**alphabetical order**\n",
    "and numbered sequentially starting at 1.\n",
    "  \n",
    "The list would include:\n",
    "\n",
    "* 1 : a\n",
    "* 2 : aa\n",
    "* 3 : aaa\n",
    "* 4 : aaaa\n",
    "* 5 : aaaaa\n",
    "* 6 : aaaaaa\n",
    "* 7 : aaaaaac\n",
    "* 8 : aaaaaacd\n",
    "* 9 : aaaaaacde\n",
    "* 10 : aaaaaacdee\n",
    "* 11 : aaaaaacdeee\n",
    "* 12 : aaaaaacdeeee\n",
    "* 13 : aaaaaacdeeeee\n",
    "* 14 : aaaaaacdeeeeee\n",
    "* 15 : aaaaaacdeeeeeef\n",
    "* 16 : aaaaaacdeeeeeeg\n",
    "* 17 : aaaaaacdeeeeeeh\n",
    "* ...\n",
    "* 28 : aaaaaacdeeeeeey\n",
    "* 29 : aaaaaacdeeeeef\n",
    "* 30 : aaaaaacdeeeeefe\n",
    "* ...\n",
    "* 115246685191495242: euleoywuttttsss\n",
    "* 115246685191495243: euler\n",
    "* 115246685191495244: eulera\n",
    "* ...\n",
    "* 525069350231428029: ywuuttttssssrrr\n",
    "\n",
    "Define\n",
    "P\n",
    "(\n",
    "w\n",
    ") as the position of the word\n",
    "w\n",
    ".\n",
    "  \n",
    "Define\n",
    "W\n",
    "(\n",
    "p\n",
    ") as the word in position\n",
    "p\n",
    ".\n",
    "  \n",
    "We can see that\n",
    "P\n",
    "(\n",
    "w\n",
    ") and\n",
    "W\n",
    "(\n",
    "p\n",
    ") are inverses:\n",
    "P\n",
    "(\n",
    "W\n",
    "(\n",
    "p\n",
    ")) =\n",
    "p\n",
    "and\n",
    "W\n",
    "(\n",
    "P\n",
    "(\n",
    "w\n",
    ")) =\n",
    "w\n",
    ".\n",
    "\n",
    "Examples:\n",
    "\n",
    "* W\n",
    "  (10) = aaaaaacdee\n",
    "* P\n",
    "  (aaaaaacdee) = 10\n",
    "* W\n",
    "  (115246685191495243) = euler\n",
    "* P\n",
    "  (euler) = 115246685191495243\n",
    "\n",
    "Find\n",
    "W\n",
    "(\n",
    "P\n",
    "(legionary) +\n",
    "P\n",
    "(calorimeters) -\n",
    "P\n",
    "(annihilate) +\n",
    "P\n",
    "(orchestrated) -\n",
    "P\n",
    "(fluttering)).\n",
    "  \n",
    "Give your answer using lowercase characters (no punctuation or space)."
   ]
  },
  {
   "cell_type": "code",
   "execution_count": null,
   "id": "0aef0d95",
   "metadata": {},
   "outputs": [],
   "source": [
    "# Problem 480 workspace"
   ]
  },
  {
   "cell_type": "markdown",
   "id": "2cb78f24",
   "metadata": {},
   "source": [
    "## Answer: "
   ]
  },
  {
   "cell_type": "markdown",
   "id": "4b6a1448",
   "metadata": {},
   "source": [
    "___"
   ]
  }
 ],
 "metadata": {},
 "nbformat": 4,
 "nbformat_minor": 5
}
