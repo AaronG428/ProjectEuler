{
 "cells": [
  {
   "cell_type": "markdown",
   "id": "fba7add7",
   "metadata": {},
   "source": [
    "# Problem 141\n",
    " [Source](https://projecteuler.net/problem=141)"
   ]
  },
  {
   "cell_type": "markdown",
   "id": "91faf5d8",
   "metadata": {},
   "source": [
    "A positive integer, $n$, is divided by $d$ and the quotient and remainder are $q$ and $r$ respectively. In addition $d$, $q$, and $r$ are consecutive positive integer terms in a geometric sequence, but not necessarily in that order.\n",
    "\n",
    "For example, $58$ divided by $6$ has quotient $9$ and remainder $4$. It can also be seen that $4, 6, 9$ are consecutive terms in a geometric sequence (common ratio $3/2$).\n",
    "  \n",
    "We will call such numbers, $n$, progressive.\n",
    "\n",
    "Some progressive numbers, such as $9$ and $10404 = 102^2$, happen to also be perfect squares.\n",
    "  \n",
    "The sum of all progressive perfect squares below one hundred thousand is $124657$.\n",
    "\n",
    "Find the sum of all progressive perfect squares below one trillion ($10^{12}$)."
   ]
  },
  {
   "cell_type": "code",
   "execution_count": null,
   "id": "69088a88",
   "metadata": {},
   "outputs": [],
   "source": [
    "# Problem 141 workspace"
   ]
  },
  {
   "cell_type": "markdown",
   "id": "e538a8db",
   "metadata": {},
   "source": [
    "## Answer: "
   ]
  },
  {
   "cell_type": "markdown",
   "id": "5d54ed75",
   "metadata": {},
   "source": [
    "___"
   ]
  },
  {
   "cell_type": "markdown",
   "id": "cdf8a969",
   "metadata": {},
   "source": [
    "# Problem 142\n",
    " [Source](https://projecteuler.net/problem=142)"
   ]
  },
  {
   "cell_type": "markdown",
   "id": "91d26ccf",
   "metadata": {},
   "source": [
    "Find the smallest $x + y + z$ with integers $x \\gt y \\gt z \\gt 0$ such that $x + y$, $x - y$, $x + z$, $x - z$, $y + z$, $y - z$ are all perfect squares."
   ]
  },
  {
   "cell_type": "code",
   "execution_count": null,
   "id": "a0b85ca9",
   "metadata": {},
   "outputs": [],
   "source": [
    "# Problem 142 workspace"
   ]
  },
  {
   "cell_type": "markdown",
   "id": "84ab9a7d",
   "metadata": {},
   "source": [
    "## Answer: "
   ]
  },
  {
   "cell_type": "markdown",
   "id": "0b5c9991",
   "metadata": {},
   "source": [
    "___"
   ]
  },
  {
   "cell_type": "markdown",
   "id": "0af1d325",
   "metadata": {},
   "source": [
    "# Problem 143\n",
    " [Source](https://projecteuler.net/problem=143)"
   ]
  },
  {
   "cell_type": "markdown",
   "id": "096fbb3c",
   "metadata": {},
   "source": [
    "Let $ABC$ be a triangle with all interior angles being less than $120$ degrees. Let $X$ be any point inside the triangle and let $XA = p$, $XC = q$, and $XB = r$.\n",
    "\n",
    "Fermat challenged Torricelli to find the position of $X$ such that $p + q + r$ was minimised.\n",
    "\n",
    "Torricelli was able to prove that if equilateral triangles $AOB$, $BNC$ and $AMC$ are constructed on each side of triangle $ABC$, the circumscribed circles of $AOB$, $BNC$, and $AMC$ will intersect at a single point, $T$, inside the triangle. Moreover he proved that $T$, called the Torricelli/Fermat point, minimises $p + q + r$. Even more remarkable, it can be shown that when the sum is minimised, $AN = BM = CO = p + q + r$ and that $AN$, $BM$ and $CO$ also intersect at $T$.\n",
    "\n",
    "![](resources/0143_torricelli.png)\n",
    "\n",
    "If the sum is minimised and $a, b, c, p, q$ and $r$ are all positive integers we shall call triangle $ABC$ a Torricelli triangle. For example, $a = 399$, $b = 455$, $c = 511$ is an example of a Torricelli triangle, with $p + q + r = 784$.\n",
    "\n",
    "Find the sum of all distinct values of $p + q + r \\le 120000$ for Torricelli triangles."
   ]
  },
  {
   "cell_type": "code",
   "execution_count": null,
   "id": "585feecc",
   "metadata": {},
   "outputs": [],
   "source": [
    "# Problem 143 workspace"
   ]
  },
  {
   "cell_type": "markdown",
   "id": "d0d4138f",
   "metadata": {},
   "source": [
    "## Answer: "
   ]
  },
  {
   "cell_type": "markdown",
   "id": "258779f2",
   "metadata": {},
   "source": [
    "___"
   ]
  },
  {
   "cell_type": "markdown",
   "id": "ae4c2e77",
   "metadata": {},
   "source": [
    "# Problem 144\n",
    " [Source](https://projecteuler.net/problem=144)"
   ]
  },
  {
   "cell_type": "markdown",
   "id": "1ae5d96c",
   "metadata": {},
   "source": [
    "In laser physics, a \"white cell\" is a mirror system that acts as a delay line for the laser beam. The beam enters the cell, bounces around on the mirrors, and eventually works its way back out.\n",
    "\n",
    "The specific white cell we will be considering is an ellipse with the equation $4x^2 + y^2 = 100$.\n",
    "\n",
    "The section corresponding to $-0.01 \\le x \\le +0.01$ at the top is missing, allowing the light to enter and exit through the hole.\n",
    "\n",
    "![](resources/0144_1.png)\n",
    "![](resources/0144_2.gif)\n",
    "\n",
    "The light beam in this problem starts at the point $(0.0,10.1)$ just outside the white cell, and the beam first impacts the mirror at $(1.4,-9.6)$.\n",
    "\n",
    "Each time the laser beam hits the surface of the ellipse, it follows the usual law of reflection \"angle of incidence equals angle of reflection.\" That is, both the incident and reflected beams make the same angle with the normal line at the point of incidence.\n",
    "\n",
    "In the figure on the left, the red line shows the first two points of contact between the laser beam and the wall of the white cell; the blue line shows the line tangent to the ellipse at the point of incidence of the first bounce.\n",
    "\n",
    "The slope $m$ of the tangent line at any point $(x,y)$ of the given ellipse is: $m = -4x/y$.\n",
    "\n",
    "The normal line is perpendicular to this tangent line at the point of incidence.\n",
    "\n",
    "The animation on the right shows the first $10$ reflections of the beam.\n",
    "\n",
    "How many times does the beam hit the internal surface of the white cell before exiting?"
   ]
  },
  {
   "cell_type": "code",
   "execution_count": null,
   "id": "4c8f9dc3",
   "metadata": {},
   "outputs": [],
   "source": [
    "# Problem 144 workspace"
   ]
  },
  {
   "cell_type": "markdown",
   "id": "e5445314",
   "metadata": {},
   "source": [
    "## Answer: "
   ]
  },
  {
   "cell_type": "markdown",
   "id": "ce8a1a82",
   "metadata": {},
   "source": [
    "___"
   ]
  },
  {
   "cell_type": "markdown",
   "id": "795e742d",
   "metadata": {},
   "source": [
    "# Problem 145\n",
    " [Source](https://projecteuler.net/problem=145)"
   ]
  },
  {
   "cell_type": "markdown",
   "id": "befdbc51",
   "metadata": {},
   "source": [
    "Some positive integers $n$ have the property that the sum $[n + \\operatorname{reverse}(n)]$ consists entirely of odd (decimal) digits. For instance, $36 + 63 = 99$ and $409 + 904 = 1313$. We will call such numbers\n",
    "reversible\n",
    "; so $36$, $63$, $409$, and $904$ are reversible. Leading zeroes are not allowed in either $n$ or $\\operatorname{reverse}(n)$.\n",
    "\n",
    "There are $120$ reversible numbers below one-thousand.\n",
    "\n",
    "How many reversible numbers are there below one-billion ($10^9$)?"
   ]
  },
  {
   "cell_type": "code",
   "execution_count": null,
   "id": "5fd56b72",
   "metadata": {},
   "outputs": [],
   "source": [
    "# Problem 145 workspace"
   ]
  },
  {
   "cell_type": "markdown",
   "id": "d6dd44c1",
   "metadata": {},
   "source": [
    "## Answer: "
   ]
  },
  {
   "cell_type": "markdown",
   "id": "99d71c9d",
   "metadata": {},
   "source": [
    "___"
   ]
  },
  {
   "cell_type": "markdown",
   "id": "c6126cb8",
   "metadata": {},
   "source": [
    "# Problem 146\n",
    " [Source](https://projecteuler.net/problem=146)"
   ]
  },
  {
   "cell_type": "markdown",
   "id": "9226ca95",
   "metadata": {},
   "source": [
    "The smallest positive integer $n$ for which the numbers $n^2 + 1$, $n^2 + 3$, $n^2 + 7$, $n^2 + 9$, $n^2 + 13$, and $n^2 + 27$ are consecutive primes is $10$. The sum of all such integers $n$ below one-million is $1242490$.\n",
    "\n",
    "What is the sum of all such integers $n$ below $150$ million?"
   ]
  },
  {
   "cell_type": "code",
   "execution_count": null,
   "id": "56c47443",
   "metadata": {},
   "outputs": [],
   "source": [
    "# Problem 146 workspace"
   ]
  },
  {
   "cell_type": "markdown",
   "id": "126b9f35",
   "metadata": {},
   "source": [
    "## Answer: "
   ]
  },
  {
   "cell_type": "markdown",
   "id": "a04f2e9c",
   "metadata": {},
   "source": [
    "___"
   ]
  },
  {
   "cell_type": "markdown",
   "id": "06cbb8c7",
   "metadata": {},
   "source": [
    "# Problem 147\n",
    " [Source](https://projecteuler.net/problem=147)"
   ]
  },
  {
   "cell_type": "markdown",
   "id": "bad2f883",
   "metadata": {},
   "source": [
    "In a $3 \\times 2$ cross-hatched grid, a total of $37$ different rectangles could be situated within that grid as indicated in the sketch.\n",
    "\n",
    "![](resources/0147.png)\n",
    "\n",
    "There are $5$ grids smaller than $3 \\times 2$, vertical and horizontal dimensions being important, i.e. $1 \\times 1$, $2 \\times 1$, $3 \\times 1$, $1 \\times 2$ and $2 \\times 2$. If each of them is cross-hatched, the following number of different rectangles could be situated within those smaller grids:\n",
    "\n",
    "|  |  |\n",
    "| --- | --- |\n",
    "| $1 \\times 1$ | $1$ |\n",
    "| $2 \\times 1$ | $4$ |\n",
    "| $3 \\times 1$ | $8$ |\n",
    "| $1 \\times 2$ | $4$ |\n",
    "| $2 \\times 2$ | $18$ |\n",
    "\n",
    "Adding those to the $37$ of the $3 \\times 2$ grid, a total of $72$ different rectangles could be situated within $3 \\times 2$ and smaller grids.\n",
    "\n",
    "How many different rectangles could be situated within $47 \\times 43$ and smaller grids?"
   ]
  },
  {
   "cell_type": "code",
   "execution_count": null,
   "id": "184a53f2",
   "metadata": {},
   "outputs": [],
   "source": [
    "# Problem 147 workspace"
   ]
  },
  {
   "cell_type": "markdown",
   "id": "84a02146",
   "metadata": {},
   "source": [
    "## Answer: "
   ]
  },
  {
   "cell_type": "markdown",
   "id": "6ee3fa52",
   "metadata": {},
   "source": [
    "___"
   ]
  },
  {
   "cell_type": "markdown",
   "id": "96ba1ed6",
   "metadata": {},
   "source": [
    "# Problem 148\n",
    " [Source](https://projecteuler.net/problem=148)"
   ]
  },
  {
   "cell_type": "markdown",
   "id": "49f4bd24",
   "metadata": {},
   "source": [
    "We can easily verify that none of the entries in the first seven rows of Pascal's triangle are divisible by $7$:\n",
    "\n",
    "|  |  |  |  |  |  |  |  |  |  |  |  |  |\n",
    "| --- | --- | --- | --- | --- | --- | --- | --- | --- | --- | --- | --- | --- |\n",
    "|  |  |  |  |  |  | $1$ |  |  |  |  |  |  |\n",
    "|  |  |  |  |  | $1$ |  | $1$ |  |  |  |  |  |\n",
    "|  |  |  |  | $1$ |  | $2$ |  | $1$ |  |  |  |  |\n",
    "|  |  |  | $1$ |  | $3$ |  | $3$ |  | $1$ |  |  |  |\n",
    "|  |  | $1$ |  | $4$ |  | $6$ |  | $4$ |  | $1$ |  |  |\n",
    "|  | $1$ |  | $5$ |  | $10$ |  | $10$ |  | $5$ |  | $1$ |  |\n",
    "| $1$ |  | $6$ |  | $15$ |  | $20$ |  | $15$ |  | $6$ |  | $1$ |\n",
    "\n",
    "However, if we check the first one hundred rows, we will find that only $2361$ of the $5050$ entries are\n",
    "*not*\n",
    "divisible by $7$.\n",
    "\n",
    "Find the number of entries which are\n",
    "*not*\n",
    "divisible by $7$ in the first one billion ($10^9$) rows of Pascal's triangle."
   ]
  },
  {
   "cell_type": "code",
   "execution_count": null,
   "id": "39a9a1e0",
   "metadata": {},
   "outputs": [],
   "source": [
    "# Problem 148 workspace"
   ]
  },
  {
   "cell_type": "markdown",
   "id": "39b49838",
   "metadata": {},
   "source": [
    "## Answer: "
   ]
  },
  {
   "cell_type": "markdown",
   "id": "7737b922",
   "metadata": {},
   "source": [
    "___"
   ]
  },
  {
   "cell_type": "markdown",
   "id": "4fee7b5e",
   "metadata": {},
   "source": [
    "# Problem 149\n",
    " [Source](https://projecteuler.net/problem=149)"
   ]
  },
  {
   "cell_type": "markdown",
   "id": "099a6b5b",
   "metadata": {},
   "source": [
    "Looking at the table below, it is easy to verify that the maximum possible sum of adjacent numbers in any direction (horizontal, vertical, diagonal or anti-diagonal)\n",
    "is $16$ ($= 8 + 7 + 1$).\n",
    "\n",
    "|  |  |  |  |\n",
    "| --- | --- | --- | --- |\n",
    "| $-2$ | $5$ | $3$ | $2$ |\n",
    "| $9$ | $-6$ | $5$ | $1$ |\n",
    "| $3$ | $2$ | $7$ | $3$ |\n",
    "| $-1$ | $8$ | $-4$ | $8$ |\n",
    "\n",
    "Now, let us repeat the search, but on a much larger scale:\n",
    "\n",
    "First, generate four million pseudo-random numbers using a specific form of what is known as a \"Lagged Fibonacci Generator\":\n",
    "\n",
    "For $1 \\le k \\le 55$, $s\\_k = [100003 - 200003 k + 300007 k^3] \\pmod{1000000} - 500000$.\n",
    "  \n",
    "For $56 \\le k \\le 4000000$, $s\\_k = [s\\_{k-24} + s\\_{k - 55} + 1000000] \\pmod{1000000} - 500000$.\n",
    "\n",
    "Thus, $s\\_{10} = -393027$ and $s\\_{100} = 86613$.\n",
    "\n",
    "The terms of $s$ are then arranged in a $2000 \\times 2000$ table, using the first $2000$ numbers to fill the first row (sequentially), the next $2000$ numbers to fill the second row, and so on.\n",
    "\n",
    "Finally, find the greatest sum of (any number of) adjacent entries in any direction (horizontal, vertical, diagonal or anti-diagonal)."
   ]
  },
  {
   "cell_type": "code",
   "execution_count": null,
   "id": "65741b94",
   "metadata": {},
   "outputs": [],
   "source": [
    "# Problem 149 workspace"
   ]
  },
  {
   "cell_type": "markdown",
   "id": "5779adf7",
   "metadata": {},
   "source": [
    "## Answer: "
   ]
  },
  {
   "cell_type": "markdown",
   "id": "6f4bc027",
   "metadata": {},
   "source": [
    "___"
   ]
  },
  {
   "cell_type": "markdown",
   "id": "95c7694e",
   "metadata": {},
   "source": [
    "# Problem 150\n",
    " [Source](https://projecteuler.net/problem=150)"
   ]
  },
  {
   "cell_type": "markdown",
   "id": "462b7029",
   "metadata": {},
   "source": [
    "In a triangular array of positive and negative integers, we wish to find a sub-triangle such that the sum of the numbers it contains is the smallest possible.\n",
    "\n",
    "In the example below, it can be easily verified that the marked triangle satisfies this condition having a sum of −42.\n",
    "\n",
    "![](resources/0150.gif)\n",
    "\n",
    "We wish to make such a triangular array with one thousand rows, so we generate 500500 pseudo-random numbers\n",
    "s\n",
    "k\n",
    "in the range ±2\n",
    "19\n",
    ", using a type of random number generator (known as a Linear Congruential Generator) as follows:\n",
    "\n",
    "t\n",
    ":= 0\n",
    "  \n",
    "for k = 1 up to k = 500500:\n",
    "  \n",
    "\n",
    "t\n",
    ":= (615949\\*\n",
    "t\n",
    "+ 797807) modulo 2\n",
    "20\n",
    "  \n",
    "\n",
    "s\n",
    "k\n",
    ":=\n",
    "t\n",
    "−2\n",
    "19\n",
    "\n",
    "Thus:\n",
    "s\n",
    "1\n",
    "= 273519,\n",
    "s\n",
    "2\n",
    "= −153582,\n",
    "s\n",
    "3\n",
    "= 450905 etc\n",
    "\n",
    "Our triangular array is then formed using the pseudo-random numbers thus:\n",
    "\n",
    "s\n",
    "1\n",
    "  \n",
    "s\n",
    "2\n",
    "s\n",
    "3\n",
    "  \n",
    "s\n",
    "4\n",
    "s\n",
    "5\n",
    "s\n",
    "6\n",
    "  \n",
    "s\n",
    "7\n",
    "s\n",
    "8\n",
    "s\n",
    "9\n",
    "s\n",
    "10\n",
    "  \n",
    "...\n",
    "\n",
    "Sub-triangles can start at any element of the array and extend down as far as we like (taking-in the two elements directly below it from the next row, the three elements directly below from the row after that, and so on).\n",
    "  \n",
    "The \"sum of a sub-triangle\" is defined as the sum of all the elements it contains.\n",
    "  \n",
    "Find the smallest possible sub-triangle sum."
   ]
  },
  {
   "cell_type": "code",
   "execution_count": null,
   "id": "fdb44449",
   "metadata": {},
   "outputs": [],
   "source": [
    "# Problem 150 workspace"
   ]
  },
  {
   "cell_type": "markdown",
   "id": "a9da228f",
   "metadata": {},
   "source": [
    "## Answer: "
   ]
  },
  {
   "cell_type": "markdown",
   "id": "261e39d5",
   "metadata": {},
   "source": [
    "___"
   ]
  }
 ],
 "metadata": {},
 "nbformat": 4,
 "nbformat_minor": 5
}
