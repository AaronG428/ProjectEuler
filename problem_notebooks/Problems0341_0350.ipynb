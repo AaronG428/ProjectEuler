{
 "cells": [
  {
   "cell_type": "markdown",
   "id": "2d8ccdce",
   "metadata": {},
   "source": [
    "# Problem 341\n",
    " [Source](https://projecteuler.net/problem=341)"
   ]
  },
  {
   "cell_type": "markdown",
   "id": "bc970c63",
   "metadata": {},
   "source": [
    "The\n",
    "**Golomb's self-describing sequence**\n",
    "$(G(n))$ is the only nondecreasing sequence of natural numbers such that $n$ appears exactly $G(n)$ times in the sequence. The values of $G(n)$ for the first few $n$ are\n",
    "\n",
    "$$\n",
    "\\begin{matrix}\n",
    "n & 1 & 2 & 3 & 4 & 5 & 6 & 7 & 8 & 9 & 10 & 11 & 12 & 13 & 14 & 15 & \\ldots \\\\\n",
    "G(n) & 1 & 2 & 2 & 3 & 3 & 4 & 4 & 4 & 5 & 5 & 5 & 6 & 6 & 6 & 6 & \\ldots\n",
    "\\end{matrix}\n",
    "$$\n",
    "\n",
    "You are given that $G(10^3) = 86$, $G(10^6) = 6137$.\n",
    "  \n",
    "You are also given that $\\sum G(n^3) = 153506976$ for $1 \\le n \\lt 10^3$.\n",
    "\n",
    "Find $\\sum G(n^3)$ for $1 \\le n \\lt 10^6$."
   ]
  },
  {
   "cell_type": "code",
   "execution_count": null,
   "id": "30a1fbd2",
   "metadata": {},
   "outputs": [],
   "source": [
    "# Problem 341 workspace"
   ]
  },
  {
   "cell_type": "markdown",
   "id": "5dccbff1",
   "metadata": {},
   "source": [
    "## Answer: "
   ]
  },
  {
   "cell_type": "markdown",
   "id": "95e99360",
   "metadata": {},
   "source": [
    "___"
   ]
  },
  {
   "cell_type": "markdown",
   "id": "8fc79ca3",
   "metadata": {},
   "source": [
    "# Problem 342\n",
    " [Source](https://projecteuler.net/problem=342)"
   ]
  },
  {
   "cell_type": "markdown",
   "id": "f7a2c1e6",
   "metadata": {},
   "source": [
    "Consider the number $50$.\n",
    "  \n",
    "$50^2 = 2500 = 2^2 \\times 5^4$, so $\\phi(2500) = 2 \\times 4 \\times 5^3 = 8 \\times 5^3 = 2^3 \\times 5^3$.\n",
    "1\n",
    "  \n",
    "So $2500$ is a square and $\\phi(2500)$ is a cube.\n",
    "\n",
    "Find the sum of all numbers $n$, $1 \\lt n \\lt 10^{10}$ such that $\\phi(n^2)$ is a cube.\n",
    "\n",
    "1\n",
    "$\\phi$ denotes\n",
    "**Euler's totient function**\n",
    "."
   ]
  },
  {
   "cell_type": "code",
   "execution_count": null,
   "id": "24ad8c01",
   "metadata": {},
   "outputs": [],
   "source": [
    "# Problem 342 workspace"
   ]
  },
  {
   "cell_type": "markdown",
   "id": "25285314",
   "metadata": {},
   "source": [
    "## Answer: "
   ]
  },
  {
   "cell_type": "markdown",
   "id": "7821164d",
   "metadata": {},
   "source": [
    "___"
   ]
  },
  {
   "cell_type": "markdown",
   "id": "d18b6d13",
   "metadata": {},
   "source": [
    "# Problem 343\n",
    " [Source](https://projecteuler.net/problem=343)"
   ]
  },
  {
   "cell_type": "markdown",
   "id": "682040c1",
   "metadata": {},
   "source": [
    "For any positive integer $k$, a finite sequence $a\\_i$ of fractions $x\\_i/y\\_i$ is defined by:\n",
    "  \n",
    "$a\\_1 = 1/k$ and\n",
    "  \n",
    "$a\\_i = (x\\_{i - 1} + 1) / (y\\_{i - 1} - 1)$ reduced to lowest terms for $i \\gt 1$.\n",
    "  \n",
    "When $a\\_i$ reaches some integer $n$, the sequence stops. (That is, when $y\\_i = 1$.)\n",
    "  \n",
    "Define $f(k) = n$.\n",
    "  \n",
    "For example, for $k = 20$:\n",
    "\n",
    "$1/20 \\to 2/19 \\to 3/18 = 1/6 \\to 2/5 \\to 3/4 \\to 4/3 \\to 5/2 \\to 6/1 = 6$\n",
    "\n",
    "So $f(20) = 6$.\n",
    "\n",
    "Also $f(1) = 1$, $f(2) = 2$, $f(3) = 1$ and $\\sum f(k^3) = 118937$ for $1 \\le k \\le 100$.\n",
    "\n",
    "Find $\\sum f(k^3)$ for $1 \\le k \\le 2 \\times 10^6$."
   ]
  },
  {
   "cell_type": "code",
   "execution_count": null,
   "id": "cc51eb42",
   "metadata": {},
   "outputs": [],
   "source": [
    "# Problem 343 workspace"
   ]
  },
  {
   "cell_type": "markdown",
   "id": "74cc44c3",
   "metadata": {},
   "source": [
    "## Answer: "
   ]
  },
  {
   "cell_type": "markdown",
   "id": "7af051cd",
   "metadata": {},
   "source": [
    "___"
   ]
  },
  {
   "cell_type": "markdown",
   "id": "0c47e697",
   "metadata": {},
   "source": [
    "# Problem 344\n",
    " [Source](https://projecteuler.net/problem=344)"
   ]
  },
  {
   "cell_type": "markdown",
   "id": "8805d514",
   "metadata": {},
   "source": [
    "One variant of N.G. de Bruijn's\n",
    "**silver dollar**\n",
    "game can be described as follows:\n",
    "\n",
    "On a strip of squares a number of coins are placed, at most one coin per square. Only one coin, called the\n",
    "**silver dollar**\n",
    ", has any value. Two players take turns making moves. At each turn a player must make either a\n",
    "regular\n",
    "or a\n",
    "special\n",
    "move.\n",
    "\n",
    "A\n",
    "regular\n",
    "move consists of selecting one coin and moving it one or more squares to the left. The coin cannot move out of the strip or jump on or over another coin.\n",
    "\n",
    "Alternatively, the player can choose to make the\n",
    "special\n",
    "move of pocketing the leftmost coin rather than making a regular move. If no regular moves are possible, the player is forced to pocket the leftmost coin.\n",
    "\n",
    "The winner is the player who pockets the silver dollar.\n",
    "\n",
    "![0344_silverdollar.gif](resources/0344_silverdollar.gif)\n",
    "\n",
    "A\n",
    "winning configuration\n",
    "is an arrangement of coins on the strip where the first player can force a win no matter what the second player does.\n",
    "\n",
    "Let $W(n,c)$ be the number of winning configurations for a strip of $n$ squares, $c$ worthless coins and one silver dollar.\n",
    "\n",
    "You are given that $W(10,2) = 324$ and $W(100,10) = 1514704946113500$.\n",
    "\n",
    "Find $W(1\\,000\\,000, 100)$ modulo the semiprime $1000\\,036\\,000\\,099$ ($= 1\\,000\\,003 \\cdot 1\\,000\\,033$)."
   ]
  },
  {
   "cell_type": "code",
   "execution_count": null,
   "id": "41dbdd72",
   "metadata": {},
   "outputs": [],
   "source": [
    "# Problem 344 workspace"
   ]
  },
  {
   "cell_type": "markdown",
   "id": "59742b0f",
   "metadata": {},
   "source": [
    "## Answer: "
   ]
  },
  {
   "cell_type": "markdown",
   "id": "19365145",
   "metadata": {},
   "source": [
    "___"
   ]
  },
  {
   "cell_type": "markdown",
   "id": "bef1c22c",
   "metadata": {},
   "source": [
    "# Problem 345\n",
    " [Source](https://projecteuler.net/problem=345)"
   ]
  },
  {
   "cell_type": "markdown",
   "id": "10544ff1",
   "metadata": {},
   "source": [
    "We define the\n",
    "Matrix Sum\n",
    "of a matrix as the maximum possible sum of matrix elements such that none of the selected elements share the same row or column.\n",
    "\n",
    "For example, the Matrix Sum of the matrix below equals 3315 ( = 863 + 383 + 343 + 959 + 767):\n",
    "\n",
    "7  53 183 439\n",
    "**863**\n",
    "  \n",
    "497\n",
    "**383**\n",
    "563  79 973\n",
    "  \n",
    "287  63\n",
    "**343**\n",
    "169 583\n",
    "  \n",
    "627 343 773\n",
    "**959**\n",
    "943\n",
    "  \n",
    "\n",
    "**767**\n",
    "473 103 699 303\n",
    "\n",
    "Find the Matrix Sum of:\n",
    "\n",
    "7  53 183 439 863 497 383 563  79 973 287  63 343 169 583\n",
    "  \n",
    "627 343 773 959 943 767 473 103 699 303 957 703 583 639 913\n",
    "  \n",
    "447 283 463  29  23 487 463 993 119 883 327 493 423 159 743\n",
    "  \n",
    "217 623   3 399 853 407 103 983  89 463 290 516 212 462 350\n",
    "  \n",
    "960 376 682 962 300 780 486 502 912 800 250 346 172 812 350\n",
    "  \n",
    "870 456 192 162 593 473 915  45 989 873 823 965 425 329 803\n",
    "  \n",
    "973 965 905 919 133 673 665 235 509 613 673 815 165 992 326\n",
    "  \n",
    "322 148 972 962 286 255 941 541 265 323 925 281 601  95 973\n",
    "  \n",
    "445 721  11 525 473  65 511 164 138 672  18 428 154 448 848\n",
    "  \n",
    "414 456 310 312 798 104 566 520 302 248 694 976 430 392 198\n",
    "  \n",
    "184 829 373 181 631 101 969 613 840 740 778 458 284 760 390\n",
    "  \n",
    "821 461 843 513  17 901 711 993 293 157 274  94 192 156 574\n",
    "  \n",
    "34 124   4 878 450 476 712 914 838 669 875 299 823 329 699\n",
    "  \n",
    "815 559 813 459 522 788 168 586 966 232 308 833 251 631 107\n",
    "  \n",
    "813 883 451 509 615  77 281 613 459 205 380 274 302  35 805"
   ]
  },
  {
   "cell_type": "code",
   "execution_count": null,
   "id": "8fe0ec7f",
   "metadata": {},
   "outputs": [],
   "source": [
    "# Problem 345 workspace"
   ]
  },
  {
   "cell_type": "markdown",
   "id": "2835ea13",
   "metadata": {},
   "source": [
    "## Answer: "
   ]
  },
  {
   "cell_type": "markdown",
   "id": "757071e4",
   "metadata": {},
   "source": [
    "___"
   ]
  },
  {
   "cell_type": "markdown",
   "id": "c00f9ad4",
   "metadata": {},
   "source": [
    "# Problem 346\n",
    " [Source](https://projecteuler.net/problem=346)"
   ]
  },
  {
   "cell_type": "markdown",
   "id": "4ca2635c",
   "metadata": {},
   "source": [
    "The number $7$ is special, because $7$ is $111$ written in base $2$, and $11$ written in base $6$ (i.e. $7\\_{10} = 11\\_6 = 111\\_2$). In other words, $7$ is a repunit in at least two bases $b \\gt 1$.\n",
    "\n",
    "We shall call a positive integer with this property a strong repunit. It can be verified that there are $8$ strong repunits below $50$: $\\{1,7,13,15,21,31,40,43\\}$.\n",
    "  \n",
    "Furthermore, the sum of all strong repunits below $1000$ equals $15864$.\n",
    "\n",
    "Find the sum of all strong repunits below $10^{12}$."
   ]
  },
  {
   "cell_type": "code",
   "execution_count": null,
   "id": "0cf19b94",
   "metadata": {},
   "outputs": [],
   "source": [
    "# Problem 346 workspace"
   ]
  },
  {
   "cell_type": "markdown",
   "id": "1553a105",
   "metadata": {},
   "source": [
    "## Answer: "
   ]
  },
  {
   "cell_type": "markdown",
   "id": "e0044f22",
   "metadata": {},
   "source": [
    "___"
   ]
  },
  {
   "cell_type": "markdown",
   "id": "2406b4dc",
   "metadata": {},
   "source": [
    "# Problem 347\n",
    " [Source](https://projecteuler.net/problem=347)"
   ]
  },
  {
   "cell_type": "markdown",
   "id": "672d058b",
   "metadata": {},
   "source": [
    "The largest integer $\\le 100$ that is only divisible by both the primes $2$ and $3$ is $96$, as $96=32\\times 3=2^5 \\times 3$.\n",
    "For two\n",
    "*distinct*\n",
    "primes $p$ and $q$ let $M(p,q,N)$ be the largest positive integer $\\le N$ only divisible by both $p$ and $q$ and $M(p,q,N)=0$ if such a positive integer does not exist.\n",
    "\n",
    "E.g. $M(2,3,100)=96$.\n",
    "  \n",
    "$M(3,5,100)=75$ and not $90$ because $90$ is divisible by $2$, $3$ and $5$.\n",
    "  \n",
    "Also $M(2,73,100)=0$ because there does not exist a positive integer $\\le 100$ that is divisible by both $2$ and $73$.\n",
    "\n",
    "Let $S(N)$ be the sum of all distinct $M(p,q,N)$.\n",
    "$S(100)=2262$.\n",
    "\n",
    "Find $S(10\\,000\\,000)$."
   ]
  },
  {
   "cell_type": "code",
   "execution_count": null,
   "id": "9e693e6f",
   "metadata": {},
   "outputs": [],
   "source": [
    "# Problem 347 workspace"
   ]
  },
  {
   "cell_type": "markdown",
   "id": "410d661f",
   "metadata": {},
   "source": [
    "## Answer: "
   ]
  },
  {
   "cell_type": "markdown",
   "id": "ad2ca193",
   "metadata": {},
   "source": [
    "___"
   ]
  },
  {
   "cell_type": "markdown",
   "id": "d601aa69",
   "metadata": {},
   "source": [
    "# Problem 348\n",
    " [Source](https://projecteuler.net/problem=348)"
   ]
  },
  {
   "cell_type": "markdown",
   "id": "f1bc330a",
   "metadata": {},
   "source": [
    "Many numbers can be expressed as the sum of a square and a cube. Some of them in more than one way.\n",
    "\n",
    "Consider the palindromic numbers that can be expressed as the sum of a square and a cube, both greater than $1$, in\n",
    "**exactly**\n",
    "$4$ different ways.\n",
    "  \n",
    "For example, $5229225$ is a palindromic number and it can be expressed in exactly $4$ different ways:\n",
    "\n",
    "$2285^2 + 20^3$\n",
    "  \n",
    "$2223^2 + 66^3$\n",
    "  \n",
    "$1810^2 + 125^3$\n",
    "  \n",
    "$1197^2 + 156^3$\n",
    "\n",
    "Find the sum of the five smallest such palindromic numbers."
   ]
  },
  {
   "cell_type": "code",
   "execution_count": null,
   "id": "bb45bc53",
   "metadata": {},
   "outputs": [],
   "source": [
    "# Problem 348 workspace"
   ]
  },
  {
   "cell_type": "markdown",
   "id": "2f1f8e90",
   "metadata": {},
   "source": [
    "## Answer: "
   ]
  },
  {
   "cell_type": "markdown",
   "id": "1abf0f05",
   "metadata": {},
   "source": [
    "___"
   ]
  },
  {
   "cell_type": "markdown",
   "id": "3f0a895b",
   "metadata": {},
   "source": [
    "# Problem 349\n",
    " [Source](https://projecteuler.net/problem=349)"
   ]
  },
  {
   "cell_type": "markdown",
   "id": "3ce7181e",
   "metadata": {},
   "source": [
    "An ant moves on a regular grid of squares that are coloured either black or white.\n",
    "  \n",
    "The ant is always oriented in one of the cardinal directions (left, right, up or down) and moves from square to adjacent square according to the following rules:\n",
    "  \n",
    "- if it is on a black square, it flips the colour of the square to white, rotates $90$ degrees counterclockwise and moves forward one square.\n",
    "  \n",
    "- if it is on a white square, it flips the colour of the square to black, rotates $90$ degrees clockwise and moves forward one square.\n",
    "\n",
    "Starting with a grid that is entirely white, how many squares are black after $10^{18}$ moves of the ant?"
   ]
  },
  {
   "cell_type": "code",
   "execution_count": null,
   "id": "886a9f26",
   "metadata": {},
   "outputs": [],
   "source": [
    "# Problem 349 workspace"
   ]
  },
  {
   "cell_type": "markdown",
   "id": "db89446d",
   "metadata": {},
   "source": [
    "## Answer: "
   ]
  },
  {
   "cell_type": "markdown",
   "id": "78ee7a42",
   "metadata": {},
   "source": [
    "___"
   ]
  },
  {
   "cell_type": "markdown",
   "id": "0187d2b5",
   "metadata": {},
   "source": [
    "# Problem 350\n",
    " [Source](https://projecteuler.net/problem=350)"
   ]
  },
  {
   "cell_type": "markdown",
   "id": "bcaeaa8a",
   "metadata": {},
   "source": [
    "A\n",
    "list of size $n$\n",
    "is a sequence of $n$ natural numbers.\n",
    "  \n",
    "Examples are $(2,4,6)$, $(2,6,4)$, $(10,6,15,6)$, and $(11)$.\n",
    "\n",
    "The\n",
    "**greatest common divisor**\n",
    ", or $\\gcd$, of a list is the largest natural number that divides all entries of the list.\n",
    "  \n",
    "Examples: $\\gcd(2,6,4) = 2$, $\\gcd(10,6,15,6) = 1$ and $\\gcd(11) = 11$.\n",
    "\n",
    "The\n",
    "**least common multiple**\n",
    ", or $\\operatorname{lcm}$, of a list is the smallest natural number divisible by each entry of the list.\n",
    "  \n",
    "Examples: $\\operatorname{lcm}(2,6,4) = 12$, $\\operatorname{lcm}(10,6,15,6) = 30$ and $\\operatorname{lcm}(11) = 11$.\n",
    "\n",
    "Let $f(G, L, N)$ be the number of lists of size $N$ with $\\gcd \\ge G$ and $\\operatorname{lcm} \\le L$. For example:\n",
    "\n",
    "$f(10, 100, 1) = 91$.\n",
    "  \n",
    "$f(10, 100, 2) = 327$.\n",
    "  \n",
    "$f(10, 100, 3) = 1135$.\n",
    "  \n",
    "$f(10, 100, 1000) \\bmod 101^4 = 3286053$.\n",
    "\n",
    "Find $f(10^6, 10^{12}, 10^{18}) \\bmod 101^4$."
   ]
  },
  {
   "cell_type": "code",
   "execution_count": null,
   "id": "0367f16f",
   "metadata": {},
   "outputs": [],
   "source": [
    "# Problem 350 workspace"
   ]
  },
  {
   "cell_type": "markdown",
   "id": "0dc3cee5",
   "metadata": {},
   "source": [
    "## Answer: "
   ]
  },
  {
   "cell_type": "markdown",
   "id": "6e29edf9",
   "metadata": {},
   "source": [
    "___"
   ]
  }
 ],
 "metadata": {},
 "nbformat": 4,
 "nbformat_minor": 5
}
