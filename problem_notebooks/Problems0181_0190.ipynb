{
 "cells": [
  {
   "cell_type": "markdown",
   "id": "80556dd2",
   "metadata": {},
   "source": [
    "# Problem 181\n",
    " [Source](https://projecteuler.net/problem=181)"
   ]
  },
  {
   "cell_type": "markdown",
   "id": "22c39154",
   "metadata": {},
   "source": [
    "Having three black objects B and one white object W they can be grouped in 7 ways like this:\n",
    "\n",
    "|  |  |  |  |  |  |  |\n",
    "| --- | --- | --- | --- | --- | --- | --- |\n",
    "| (BBBW) | (B,BBW) | (B,B,BW) | (B,B,B,W) | (B,BB,W) | (BBB,W) | (BB,BW) |\n",
    "\n",
    "In how many ways can sixty black objects B and forty white objects W be thus grouped?"
   ]
  },
  {
   "cell_type": "code",
   "execution_count": null,
   "id": "e41ed8e0",
   "metadata": {},
   "outputs": [],
   "source": [
    "# Problem 181 workspace"
   ]
  },
  {
   "cell_type": "markdown",
   "id": "4622d381",
   "metadata": {},
   "source": [
    "## Answer: "
   ]
  },
  {
   "cell_type": "markdown",
   "id": "f7a4aa08",
   "metadata": {},
   "source": [
    "___"
   ]
  },
  {
   "cell_type": "markdown",
   "id": "078556d5",
   "metadata": {},
   "source": [
    "# Problem 182\n",
    " [Source](https://projecteuler.net/problem=182)"
   ]
  },
  {
   "cell_type": "markdown",
   "id": "96d42160",
   "metadata": {},
   "source": [
    "The RSA encryption is based on the following procedure:\n",
    "\n",
    "Generate two distinct primes $p$ and $q$.\n",
    "  \n",
    "Compute $n = pq$ and $\\phi = (p - 1)(q - 1)$.\n",
    "  \n",
    "Find an integer $e$, $1 \\lt e \\lt \\phi$, such that $\\gcd(e, \\phi) = 1$.\n",
    "\n",
    "A message in this system is a number in the interval $[0, n - 1]$.\n",
    "  \n",
    "A text to be encrypted is then somehow converted to messages (numbers in the interval $[0, n - 1]$).\n",
    "  \n",
    "To encrypt the text, for each message, $m$, $c = m^e \\bmod n$ is calculated.\n",
    "\n",
    "To decrypt the text, the following procedure is needed: calculate $d$ such that $ed = 1 \\bmod \\phi$, then for each encrypted message, $c$, calculate $m = c^d \\bmod n$.\n",
    "\n",
    "There exist values of $e$ and $m$ such that $m^e \\bmod n = m$.\n",
    "  \n",
    "We call messages $m$ for which $m^e \\bmod n = m$ unconcealed messages.\n",
    "\n",
    "An issue when choosing $e$ is that there should not be too many unconcealed messages.\n",
    "  \n",
    "For instance, let $p = 19$ and $q = 37$.\n",
    "  \n",
    "Then $n = 19 \\cdot 37 = 703$ and $\\phi = 18 \\cdot 36 = 648$.\n",
    "  \n",
    "If we choose $e = 181$, then, although $\\gcd(181,648) = 1$ it turns out that all possible messages $m$ ($0 \\le m \\le n - 1$) are unconcealed when calculating $m^e \\bmod n$.\n",
    "  \n",
    "For any valid choice of $e$ there exist some unconcealed messages.\n",
    "  \n",
    "It's important that the number of unconcealed messages is at a minimum.\n",
    "\n",
    "Choose $p = 1009$ and $q = 3643$.\n",
    "  \n",
    "Find the sum of all values of $e$, $1 \\lt e \\lt \\phi(1009,3643)$ and $\\gcd(e, \\phi) = 1$, so that the number of unconcealed messages for this value of $e$ is at a minimum."
   ]
  },
  {
   "cell_type": "code",
   "execution_count": null,
   "id": "776d2590",
   "metadata": {},
   "outputs": [],
   "source": [
    "# Problem 182 workspace"
   ]
  },
  {
   "cell_type": "markdown",
   "id": "50cc332a",
   "metadata": {},
   "source": [
    "## Answer: "
   ]
  },
  {
   "cell_type": "markdown",
   "id": "b036be3a",
   "metadata": {},
   "source": [
    "___"
   ]
  },
  {
   "cell_type": "markdown",
   "id": "b9f05f2a",
   "metadata": {},
   "source": [
    "# Problem 183\n",
    " [Source](https://projecteuler.net/problem=183)"
   ]
  },
  {
   "cell_type": "markdown",
   "id": "b53a74aa",
   "metadata": {},
   "source": [
    "Let $N$ be a positive integer and let $N$ be split into $k$ equal parts, $r = N/k$, so that $N = r + r + \\cdots + r$.\n",
    "  \n",
    "Let $P$ be the product of these parts, $P = r \\times r \\times \\cdots \\times r = r^k$.\n",
    "\n",
    "For example, if $11$ is split into five equal parts, $11 = 2.2 + 2.2 + 2.2 + 2.2 + 2.2$, then $P = 2.2^5 = 51.53632$.\n",
    "\n",
    "Let $M(N) = P\\_{\\mathrm{max}}$ for a given value of $N$.\n",
    "\n",
    "It turns out that the maximum for $N = 11$ is found by splitting eleven into four equal parts which leads to $P\\_{\\mathrm{max}} = (11/4)^4$; that is, $M(11) = 14641/256 = 57.19140625$, which is a terminating decimal.\n",
    "\n",
    "However, for $N = 8$ the maximum is achieved by splitting it into three equal parts, so $M(8) = 512/27$, which is a non-terminating decimal.\n",
    "\n",
    "Let $D(N) = N$ if $M(N)$ is a non-terminating decimal and $D(N) = -N$ if $M(N)$ is a terminating decimal.\n",
    "\n",
    "For example, $\\sum\\limits\\_{N = 5}^{100} D(N)$ is $2438$.\n",
    "\n",
    "Find $\\sum\\limits\\_{N = 5}^{10000} D(N)$."
   ]
  },
  {
   "cell_type": "code",
   "execution_count": null,
   "id": "c688b077",
   "metadata": {},
   "outputs": [],
   "source": [
    "# Problem 183 workspace"
   ]
  },
  {
   "cell_type": "markdown",
   "id": "dee9b8b8",
   "metadata": {},
   "source": [
    "## Answer: "
   ]
  },
  {
   "cell_type": "markdown",
   "id": "659b9b19",
   "metadata": {},
   "source": [
    "___"
   ]
  },
  {
   "cell_type": "markdown",
   "id": "6bf74c5a",
   "metadata": {},
   "source": [
    "# Problem 184\n",
    " [Source](https://projecteuler.net/problem=184)"
   ]
  },
  {
   "cell_type": "markdown",
   "id": "4102da62",
   "metadata": {},
   "source": [
    "Consider the set $I\\_r$ of points $(x,y)$ with integer co-ordinates in the interior of the circle with radius $r$, centered at the origin, i.e. $x^2 + y^2 \\lt r^2$.\n",
    "\n",
    "For a radius of $2$, $I\\_2$ contains the nine points $(0,0)$, $(1,0)$, $(1,1)$, $(0,1)$, $(-1,1)$, $(-1,0)$, $(-1,-1)$, $(0,-1)$ and $(1,-1)$. There are eight triangles having all three vertices in $I\\_2$ which contain the origin in the interior. Two of them are shown below, the others are obtained from these by rotation.\n",
    "\n",
    "![](resources/0184.gif)\n",
    "\n",
    "For a radius of $3$, there are $360$ triangles containing the origin in the interior and having all vertices in $I\\_3$ and for $I\\_5$ the number is $10600$.\n",
    "\n",
    "How many triangles are there containing the origin in the interior and having all three vertices in $I\\_{105}$?"
   ]
  },
  {
   "cell_type": "code",
   "execution_count": null,
   "id": "3ef409e3",
   "metadata": {},
   "outputs": [],
   "source": [
    "# Problem 184 workspace"
   ]
  },
  {
   "cell_type": "markdown",
   "id": "62b115a9",
   "metadata": {},
   "source": [
    "## Answer: "
   ]
  },
  {
   "cell_type": "markdown",
   "id": "9d8b8cd8",
   "metadata": {},
   "source": [
    "___"
   ]
  },
  {
   "cell_type": "markdown",
   "id": "69587bb3",
   "metadata": {},
   "source": [
    "# Problem 185\n",
    " [Source](https://projecteuler.net/problem=185)"
   ]
  },
  {
   "cell_type": "markdown",
   "id": "d2f610e9",
   "metadata": {},
   "source": [
    "The game Number Mind is a variant of the well known game Master Mind.\n",
    "\n",
    "Instead of coloured pegs, you have to guess a secret sequence of digits. After each guess you're only told in how many places you've guessed the correct digit. So, if the sequence was 1234 and you guessed 2036, you'd be told that you have one correct digit; however, you would NOT be told that you also have another digit in the wrong place.\n",
    "\n",
    "For instance, given the following guesses for a 5-digit secret sequence,\n",
    "\n",
    "90342 ;2 correct\n",
    "  \n",
    "70794 ;0 correct\n",
    "  \n",
    "39458 ;2 correct\n",
    "  \n",
    "34109 ;1 correct\n",
    "  \n",
    "51545 ;2 correct\n",
    "  \n",
    "12531 ;1 correct\n",
    "\n",
    "The correct sequence 39542 is unique.\n",
    "\n",
    "Based on the following guesses,\n",
    "\n",
    "5616185650518293 ;2 correct\n",
    "  \n",
    "3847439647293047 ;1 correct\n",
    "  \n",
    "5855462940810587 ;3 correct\n",
    "  \n",
    "9742855507068353 ;3 correct\n",
    "  \n",
    "4296849643607543 ;3 correct\n",
    "  \n",
    "3174248439465858 ;1 correct\n",
    "  \n",
    "4513559094146117 ;2 correct\n",
    "  \n",
    "7890971548908067 ;3 correct\n",
    "  \n",
    "8157356344118483 ;1 correct\n",
    "  \n",
    "2615250744386899 ;2 correct\n",
    "  \n",
    "8690095851526254 ;3 correct\n",
    "  \n",
    "6375711915077050 ;1 correct\n",
    "  \n",
    "6913859173121360 ;1 correct\n",
    "  \n",
    "6442889055042768 ;2 correct\n",
    "  \n",
    "2321386104303845 ;0 correct\n",
    "  \n",
    "2326509471271448 ;2 correct\n",
    "  \n",
    "5251583379644322 ;2 correct\n",
    "  \n",
    "1748270476758276 ;3 correct\n",
    "  \n",
    "4895722652190306 ;1 correct\n",
    "  \n",
    "3041631117224635 ;3 correct\n",
    "  \n",
    "1841236454324589 ;3 correct\n",
    "  \n",
    "2659862637316867 ;2 correct\n",
    "\n",
    "Find the unique 16-digit secret sequence."
   ]
  },
  {
   "cell_type": "code",
   "execution_count": null,
   "id": "64a941fb",
   "metadata": {},
   "outputs": [],
   "source": [
    "# Problem 185 workspace"
   ]
  },
  {
   "cell_type": "markdown",
   "id": "17d0d694",
   "metadata": {},
   "source": [
    "## Answer: "
   ]
  },
  {
   "cell_type": "markdown",
   "id": "d2cb4405",
   "metadata": {},
   "source": [
    "___"
   ]
  },
  {
   "cell_type": "markdown",
   "id": "aa901b5f",
   "metadata": {},
   "source": [
    "# Problem 186\n",
    " [Source](https://projecteuler.net/problem=186)"
   ]
  },
  {
   "cell_type": "markdown",
   "id": "a8a55102",
   "metadata": {},
   "source": [
    "Here are the records from a busy telephone system with one million users:\n",
    "\n",
    "| RecNr | Caller | Called |\n",
    "| --- | --- | --- |\n",
    "| $1$ | $200007$ | $100053$ |\n",
    "| $2$ | $600183$ | $500439$ |\n",
    "| $3$ | $600863$ | $701497$ |\n",
    "| $\\cdots$ | $\\cdots$ | $\\cdots$ |\n",
    "\n",
    "The telephone number of the caller and the called number in record $n$ are $\\operatorname{Caller}(n) = S\\_{2n-1}$ and $\\operatorname{Called}(n) = S\\_{2n}$ where $S\\_{1,2,3,\\dots}$ come from the \"Lagged Fibonacci Generator\":\n",
    "\n",
    "For $1 \\le k \\le 55$, $S\\_k = [100003 - 200003k + 300007k^3] \\pmod{1000000}$.\n",
    "  \n",
    "For $56 \\le k$, $S\\_k = [S\\_{k-24} + S\\_{k-55}] \\pmod{1000000}$.\n",
    "\n",
    "If $\\operatorname{Caller}(n) = \\operatorname{Called}(n)$ then the user is assumed to have misdialled and the call fails; otherwise the call is successful.\n",
    "\n",
    "From the start of the records, we say that any pair of users $X$ and $Y$ are friends if $X$ calls $Y$ or vice-versa. Similarly, $X$ is a friend of a friend of $Z$ if $X$ is a friend of $Y$ and $Y$ is a friend of $Z$; and so on for longer chains.\n",
    "\n",
    "The Prime Minister's phone number is $524287$. After how many successful calls, not counting misdials, will $99\\%$ of the users (including the PM) be a friend, or a friend of a friend etc., of the Prime Minister?"
   ]
  },
  {
   "cell_type": "code",
   "execution_count": null,
   "id": "adb2a9f2",
   "metadata": {},
   "outputs": [],
   "source": [
    "# Problem 186 workspace"
   ]
  },
  {
   "cell_type": "markdown",
   "id": "e49e9975",
   "metadata": {},
   "source": [
    "## Answer: "
   ]
  },
  {
   "cell_type": "markdown",
   "id": "5bc34ef6",
   "metadata": {},
   "source": [
    "___"
   ]
  },
  {
   "cell_type": "markdown",
   "id": "3c5c8a67",
   "metadata": {},
   "source": [
    "# Problem 187\n",
    " [Source](https://projecteuler.net/problem=187)"
   ]
  },
  {
   "cell_type": "markdown",
   "id": "8f87017d",
   "metadata": {},
   "source": [
    "A composite is a number containing at least two prime factors. For example, $15 = 3 \\times 5$; $9 = 3 \\times 3$; $12 = 2 \\times 2 \\times 3$.\n",
    "\n",
    "There are ten composites below thirty containing precisely two, not necessarily distinct, prime factors:\n",
    "$4, 6, 9, 10, 14, 15, 21, 22, 25, 26$.\n",
    "\n",
    "How many composite integers, $n \\lt 10^8$, have precisely two, not necessarily distinct, prime factors?"
   ]
  },
  {
   "cell_type": "code",
   "execution_count": null,
   "id": "47cc33b8",
   "metadata": {},
   "outputs": [],
   "source": [
    "# Problem 187 workspace"
   ]
  },
  {
   "cell_type": "markdown",
   "id": "dccf1883",
   "metadata": {},
   "source": [
    "## Answer: "
   ]
  },
  {
   "cell_type": "markdown",
   "id": "3f91be57",
   "metadata": {},
   "source": [
    "___"
   ]
  },
  {
   "cell_type": "markdown",
   "id": "3fbb5402",
   "metadata": {},
   "source": [
    "# Problem 188\n",
    " [Source](https://projecteuler.net/problem=188)"
   ]
  },
  {
   "cell_type": "markdown",
   "id": "0cc958b9",
   "metadata": {},
   "source": [
    "The\n",
    "**hyperexponentiation**\n",
    "or\n",
    "**tetration**\n",
    "of a number $a$ by a positive integer $b$, denoted by $a\\mathbin{\\uparrow \\uparrow}b$ or $^b a$, is recursively defined by:\n",
    "  \n",
    "  \n",
    "$a \\mathbin{\\uparrow \\uparrow} 1 = a$,\n",
    "  \n",
    "$a \\mathbin{\\uparrow \\uparrow} (k+1) = a^{(a \\mathbin{\\uparrow \\uparrow} k)}$.\n",
    "\n",
    "Thus we have e.g. $3 \\mathbin{\\uparrow \\uparrow} 2 = 3^3 = 27$, hence $3 \\mathbin{\\uparrow \\uparrow} 3 = 3^{27} = 7625597484987$ and $3 \\mathbin{\\uparrow \\uparrow} 4$ is roughly $10^{3.6383346400240996 \\cdot 10^{12}}$.\n",
    "\n",
    "Find the last $8$ digits of $1777 \\mathbin{\\uparrow \\uparrow} 1855$."
   ]
  },
  {
   "cell_type": "code",
   "execution_count": null,
   "id": "32398f43",
   "metadata": {},
   "outputs": [],
   "source": [
    "# Problem 188 workspace"
   ]
  },
  {
   "cell_type": "markdown",
   "id": "903bda96",
   "metadata": {},
   "source": [
    "## Answer: "
   ]
  },
  {
   "cell_type": "markdown",
   "id": "1395e158",
   "metadata": {},
   "source": [
    "___"
   ]
  },
  {
   "cell_type": "markdown",
   "id": "c4c0bdff",
   "metadata": {},
   "source": [
    "# Problem 189\n",
    " [Source](https://projecteuler.net/problem=189)"
   ]
  },
  {
   "cell_type": "markdown",
   "id": "767d258a",
   "metadata": {},
   "source": [
    "Consider the following configuration of $64$ triangles:\n",
    "\n",
    "![](resources/0189_grid.gif)\n",
    "\n",
    "We wish to colour the interior of each triangle with one of three colours: red, green or blue, so that no two neighbouring triangles have the same colour. Such a colouring shall be called valid. Here, two triangles are said to be neighbouring if they share an edge.\n",
    "  \n",
    "Note: if they only share a vertex, then they are not neighbours.\n",
    "\n",
    "For example, here is a valid colouring of the above grid:\n",
    "\n",
    "![](resources/0189_colours.gif)\n",
    "\n",
    "A colouring $C^\\prime$ which is obtained from a colouring $C$ by rotation or reflection is considered\n",
    "*distinct*\n",
    "from $C$ unless the two are identical.\n",
    "\n",
    "How many distinct valid colourings are there for the above configuration?"
   ]
  },
  {
   "cell_type": "code",
   "execution_count": null,
   "id": "bcf9871a",
   "metadata": {},
   "outputs": [],
   "source": [
    "# Problem 189 workspace"
   ]
  },
  {
   "cell_type": "markdown",
   "id": "fd5882d4",
   "metadata": {},
   "source": [
    "## Answer: "
   ]
  },
  {
   "cell_type": "markdown",
   "id": "bf658837",
   "metadata": {},
   "source": [
    "___"
   ]
  },
  {
   "cell_type": "markdown",
   "id": "7aa80e24",
   "metadata": {},
   "source": [
    "# Problem 190\n",
    " [Source](https://projecteuler.net/problem=190)"
   ]
  },
  {
   "cell_type": "markdown",
   "id": "246390c9",
   "metadata": {},
   "source": [
    "Let $S\\_m = (x\\_1, x\\_2, \\dots , x\\_m)$ be the $m$-tuple of positive real numbers with $x\\_1 + x\\_2 + \\cdots + x\\_m = m$ for which $P\\_m = x\\_1 \\cdot x\\_2^2 \\cdot \\cdots \\cdot x\\_m^m$ is maximised.\n",
    "\n",
    "For example, it can be verified that $\\lfloor P\\_{10}\\rfloor = 4112$ ($\\lfloor \\, \\rfloor$ is the integer part function).\n",
    "\n",
    "Find $\\sum\\limits\\_{m = 2}^{15} \\lfloor P\\_m \\rfloor$."
   ]
  },
  {
   "cell_type": "code",
   "execution_count": null,
   "id": "b8be8ae8",
   "metadata": {},
   "outputs": [],
   "source": [
    "# Problem 190 workspace"
   ]
  },
  {
   "cell_type": "markdown",
   "id": "ad8e6e26",
   "metadata": {},
   "source": [
    "## Answer: "
   ]
  },
  {
   "cell_type": "markdown",
   "id": "5b25c441",
   "metadata": {},
   "source": [
    "___"
   ]
  }
 ],
 "metadata": {},
 "nbformat": 4,
 "nbformat_minor": 5
}
