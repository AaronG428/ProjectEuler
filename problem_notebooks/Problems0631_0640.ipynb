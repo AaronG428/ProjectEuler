{
 "cells": [
  {
   "cell_type": "markdown",
   "id": "10afbf92",
   "metadata": {},
   "source": [
    "# Problem 631\n",
    " [Source](https://projecteuler.net/problem=631)"
   ]
  },
  {
   "cell_type": "markdown",
   "id": "181564a7",
   "metadata": {},
   "source": [
    "Let $(p\\_1 p\\_2 \\ldots p\\_k)$ denote the permutation of the set ${1, ..., k}$ that maps $p\\_i\\mapsto i$. Define the length of the permutation to be $k$; note that the empty permutation $()$ has length zero.\n",
    "\n",
    "Define an\n",
    "occurrence\n",
    "of a permutation $p=(p\\_1 p\\_2 \\cdots p\\_k)$ in a permutation $P=(P\\_1 P\\_2 \\cdots P\\_n)$ to be a sequence $1\\leq t\\_1 \\lt t\\_2 \\lt \\cdots \\lt t\\_k \\leq n$ such that $p\\_i \\lt p\\_j$ if and only if $P\\_{t\\_i} \\lt P\\_{t\\_j}$ for all $i,j \\in \\{1, \\dots, k\\}$.\n",
    "\n",
    "For example, $(1243)$ occurs twice in the permutation $(314625)$: once as the 1st, 3rd, 4th and 6th elements $(3\\,\\,46\\,\\,5)$, and once as the 2nd, 3rd, 4th and 6th elements $(\\,\\,146\\,\\,5)$.\n",
    "\n",
    "Let $f(n, m)$ be the number of permutations $P$ of length at most $n$ such that there is no occurrence of the permutation $1243$ in $P$ and there are at most $m$ occurrences of the permutation $21$ in $P$.\n",
    "\n",
    "For example, $f(2,0) = 3$, with the permutations $()$, $(1)$, $(1,2)$ but not $(2,1)$.\n",
    "\n",
    "You are also given that $f(4, 5) = 32$ and $f(10, 25) = 294\\,400$.\n",
    "\n",
    "Find $f(10^{18}, 40)$ modulo $1\\,000\\,000\\,007$."
   ]
  },
  {
   "cell_type": "code",
   "execution_count": null,
   "id": "29f7a207",
   "metadata": {},
   "outputs": [],
   "source": [
    "# Problem 631 workspace"
   ]
  },
  {
   "cell_type": "markdown",
   "id": "fdc05c4f",
   "metadata": {},
   "source": [
    "## Answer: "
   ]
  },
  {
   "cell_type": "markdown",
   "id": "2635ef9f",
   "metadata": {},
   "source": [
    "___"
   ]
  },
  {
   "cell_type": "markdown",
   "id": "db75605d",
   "metadata": {},
   "source": [
    "# Problem 632\n",
    " [Source](https://projecteuler.net/problem=632)"
   ]
  },
  {
   "cell_type": "markdown",
   "id": "121ff37b",
   "metadata": {},
   "source": [
    "For an integer $n$, we define the\n",
    "square prime factors\n",
    "of $n$ to be the primes whose square divides $n$. For example, the square prime factors of $1500=2^2 \\times 3 \\times 5^3$ are $2$ and $5$.\n",
    "\n",
    "Let $C\\_k(N)$ be the number of integers between $1$ and $N$ inclusive with exactly $k$ square prime factors. You are given some values of $C\\_k(N)$ in the table below.\n",
    "\n",
    "$$\\begin{array}{|c|c|c|c|c|c|c|}\n",
    "\\hline\n",
    "& k = 0 & k = 1 & k = 2 & k = 3 & k = 4 & k = 5 \\\\\n",
    "\\hline\n",
    "N=10 & 7 & 3 & 0 & 0 & 0 & 0 \\\\\n",
    "\\hline\n",
    "N=10^2 & 61 & 36 & 3 & 0 & 0 & 0 \\\\\n",
    "\\hline\n",
    "N=10^3 & 608 & 343 & 48 & 1 & 0 & 0 \\\\\n",
    "\\hline\n",
    "N=10^4 & 6083 & 3363 & 533 & 21 & 0 & 0 \\\\\n",
    "\\hline\n",
    "N=10^5 & 60794 & 33562 & 5345 & 297 & 2 & 0 \\\\\n",
    "\\hline\n",
    "N=10^6 & 607926 & 335438 & 53358 & 3218 & 60 & 0 \\\\\n",
    "\\hline\n",
    "N=10^7 & 6079291 & 3353956 & 533140 & 32777 & 834 & 2 \\\\\n",
    "\\hline\n",
    "N=10^8 & 60792694 & 33539196 & 5329747 & 329028 & 9257 & 78 \\\\\n",
    "\\hline\n",
    "\\end{array}$$\n",
    "\n",
    "Find the product of all non-zero $C\\_k(10^{16})$. Give the result reduced modulo $1\\,000\\,000\\,007$."
   ]
  },
  {
   "cell_type": "code",
   "execution_count": null,
   "id": "0a0755f7",
   "metadata": {},
   "outputs": [],
   "source": [
    "# Problem 632 workspace"
   ]
  },
  {
   "cell_type": "markdown",
   "id": "78bb760a",
   "metadata": {},
   "source": [
    "## Answer: "
   ]
  },
  {
   "cell_type": "markdown",
   "id": "2da5cfbb",
   "metadata": {},
   "source": [
    "___"
   ]
  },
  {
   "cell_type": "markdown",
   "id": "8824d057",
   "metadata": {},
   "source": [
    "# Problem 633\n",
    " [Source](https://projecteuler.net/problem=633)"
   ]
  },
  {
   "cell_type": "markdown",
   "id": "45715b44",
   "metadata": {},
   "source": [
    "For an integer $n$, we define the\n",
    "square prime factors\n",
    "of $n$ to be the primes whose square divides $n$. For example, the square prime factors of $1500=2^2 \\times 3 \\times 5^3$ are $2$ and $5$.\n",
    "\n",
    "Let $C\\_k(N)$ be the number of integers between $1$ and $N$ inclusive with exactly $k$ square prime factors. It can be shown that with growing $N$ the ratio $\\frac{C\\_k(N)}{N}$ gets arbitrarily close to a constant $c\\_{k}^{\\infty}$, as suggested by the table below.\n",
    "\n",
    "$$\\begin{array}{|c|c|c|c|c|c|}\n",
    "\\hline\n",
    "& k = 0 & k = 1 & k = 2 & k = 3 & k = 4 \\\\\n",
    "\\hline\n",
    "C\\_k(10) & 7 & 3 & 0 & 0 & 0 \\\\\n",
    "\\hline\n",
    "C\\_k(10^2) & 61 & 36 & 3 & 0 & 0 \\\\\n",
    "\\hline\n",
    "C\\_k(10^3) & 608 & 343 & 48 & 1 & 0 \\\\\n",
    "\\hline\n",
    "C\\_k(10^4) & 6083 & 3363 & 533 & 21 & 0 \\\\\n",
    "\\hline\n",
    "C\\_k(10^5) & 60794 & 33562 & 5345 & 297 & 2 \\\\\n",
    "\\hline\n",
    "C\\_k(10^6) & 607926 & 335438 & 53358 & 3218 & 60 \\\\\n",
    "\\hline\n",
    "C\\_k(10^7) & 6079291 & 3353956 & 533140 & 32777 & 834 \\\\\n",
    "\\hline\n",
    "C\\_k(10^8) & 60792694 & 33539196 & 5329747 & 329028 & 9257 \\\\\n",
    "\\hline\n",
    "C\\_k(10^9) & 607927124 & 335389706 & 53294365 & 3291791 & 95821 \\\\\n",
    "\\hline\n",
    "c\\_k^{\\infty} & \\frac{6}{\\pi^2} & 3.3539\\times 10^{-1} & 5.3293\\times 10^{-2} & 3.2921\\times 10^{-3} & 9.7046\\times 10^{-5}\\\\\n",
    "\\hline\n",
    "\\end{array}$$\n",
    "Find $c\\_{7}^{\\infty}$. Give the result in scientific notation rounded to $5$ significant digits, using a $e$ to separate mantissa and exponent. E.g. if the answer were $0.000123456789$, then the answer format would be $1.2346\\mathrm e{-4}$."
   ]
  },
  {
   "cell_type": "code",
   "execution_count": null,
   "id": "9bfb8da7",
   "metadata": {},
   "outputs": [],
   "source": [
    "# Problem 633 workspace"
   ]
  },
  {
   "cell_type": "markdown",
   "id": "c235ab14",
   "metadata": {},
   "source": [
    "## Answer: "
   ]
  },
  {
   "cell_type": "markdown",
   "id": "c287f369",
   "metadata": {},
   "source": [
    "___"
   ]
  },
  {
   "cell_type": "markdown",
   "id": "dc837403",
   "metadata": {},
   "source": [
    "# Problem 634\n",
    " [Source](https://projecteuler.net/problem=634)"
   ]
  },
  {
   "cell_type": "markdown",
   "id": "ba68abcf",
   "metadata": {},
   "source": [
    "Define $F(n)$ to be the number of integers $x≤n$ that can be written in the form $x=a^2b^3$, where $a$ and $b$ are integers not necessarily different and both greater than 1.\n",
    "\n",
    "For example, $32=2^2\\times 2^3$ and $72=3^2\\times 2^3$ are the only two integers less than $100$ that can be written in this form. Hence, $F(100)=2$.\n",
    "\n",
    "Further you are given $F(2\\times 10^4)=130$ and $F(3\\times 10^6)=2014$.\n",
    "\n",
    "Find $F(9\\times 10^{18})$."
   ]
  },
  {
   "cell_type": "code",
   "execution_count": null,
   "id": "7b5bb4b8",
   "metadata": {},
   "outputs": [],
   "source": [
    "# Problem 634 workspace"
   ]
  },
  {
   "cell_type": "markdown",
   "id": "ed2acaa4",
   "metadata": {},
   "source": [
    "## Answer: "
   ]
  },
  {
   "cell_type": "markdown",
   "id": "54b98e8a",
   "metadata": {},
   "source": [
    "___"
   ]
  },
  {
   "cell_type": "markdown",
   "id": "9a6d1962",
   "metadata": {},
   "source": [
    "# Problem 635\n",
    " [Source](https://projecteuler.net/problem=635)"
   ]
  },
  {
   "cell_type": "markdown",
   "id": "b6083c56",
   "metadata": {},
   "source": [
    "Let $A\\_q(n)$ be the number of subsets, $B$, of the set $\\{1, 2, ..., q \\cdot n\\}$ that satisfy two conditions:\n",
    "  \n",
    "1) $B$ has exactly $n$ elements;\n",
    "  \n",
    "2) the sum of the elements of $B$ is divisible by $n$.\n",
    "\n",
    "E.g. $A\\_2(5)=52$ and $A\\_3(5)=603$.\n",
    "\n",
    "Let $S\\_q(L)$ be $\\sum A\\_q(p)$ where the sum is taken over all primes $p \\le L$.\n",
    "  \n",
    "E.g. $S\\_2(10)=554$, $S\\_2(100)$ mod $1\\,000\\,000\\,009=100433628$ and\n",
    "  \n",
    "$S\\_3(100)$ mod $1\\,000\\,000\\,009=855618282$.\n",
    "\n",
    "Find $S\\_2(10^8)+S\\_3(10^8)$. Give your answer modulo $1\\,000\\,000\\,009$."
   ]
  },
  {
   "cell_type": "code",
   "execution_count": null,
   "id": "51c6a3fd",
   "metadata": {},
   "outputs": [],
   "source": [
    "# Problem 635 workspace"
   ]
  },
  {
   "cell_type": "markdown",
   "id": "a861ce5c",
   "metadata": {},
   "source": [
    "## Answer: "
   ]
  },
  {
   "cell_type": "markdown",
   "id": "a3bbc4c0",
   "metadata": {},
   "source": [
    "___"
   ]
  },
  {
   "cell_type": "markdown",
   "id": "dc430a25",
   "metadata": {},
   "source": [
    "# Problem 636\n",
    " [Source](https://projecteuler.net/problem=636)"
   ]
  },
  {
   "cell_type": "markdown",
   "id": "854fee12",
   "metadata": {},
   "source": [
    "Consider writing a natural number as product of powers of natural numbers with given exponents, additionally requiring different base numbers for each power.\n",
    "\n",
    "For example, $256$ can be written as a product of a square and a fourth power in three ways such that the base numbers are different.\n",
    "  \n",
    "That is, $256=1^2\\times 4^4=4^2\\times 2^4=16^2\\times 1^4$\n",
    "\n",
    "Though $4^2$ and $2^4$ are both equal, we are concerned only about the base numbers in this problem. Note that permutations are not considered distinct, for example $16^2\\times 1^4$ and $1^4 \\times 16^2$ are considered to be the same.\n",
    "\n",
    "Similarly, $10!$ can be written as a product of one natural number, two squares and three cubes in two ways ($10!=42\\times5^2\\times4^2\\times3^3\\times2^3\\times1^3=21\\times5^2\\times2^2\\times4^3\\times3^3\\times1^3$) whereas $20!$ can be given the same representation in $41680$ ways.\n",
    "\n",
    "Let $F(n)$ denote the number of ways in which $n$ can be written as a product of one natural number, two squares, three cubes and four fourth powers.\n",
    "\n",
    "You are given that $F(25!)=4933$, $F(100!) \\bmod 1\\,000\\,000\\,007=693\\,952\\,493$,\n",
    "  \n",
    "and $F(1\\,000!) \\bmod 1\\,000\\,000\\,007=6\\,364\\,496$.\n",
    "\n",
    "Find $F(1\\,000\\,000!) \\bmod 1\\,000\\,000\\,007$."
   ]
  },
  {
   "cell_type": "code",
   "execution_count": null,
   "id": "ed39dd2c",
   "metadata": {},
   "outputs": [],
   "source": [
    "# Problem 636 workspace"
   ]
  },
  {
   "cell_type": "markdown",
   "id": "21e6c8a8",
   "metadata": {},
   "source": [
    "## Answer: "
   ]
  },
  {
   "cell_type": "markdown",
   "id": "3aa922fc",
   "metadata": {},
   "source": [
    "___"
   ]
  },
  {
   "cell_type": "markdown",
   "id": "0886eada",
   "metadata": {},
   "source": [
    "# Problem 637\n",
    " [Source](https://projecteuler.net/problem=637)"
   ]
  },
  {
   "cell_type": "markdown",
   "id": "f3aed4f4",
   "metadata": {},
   "source": [
    "Given any positive integer $n$, we can construct a new integer by inserting plus signs between some of the digits of the base $B$ representation of $n$, and then carrying out the additions.\n",
    "\n",
    "For example, from $n=123\\_{10}$ ($n$ in base $10$) we can construct the four base $10$ integers $123\\_{10}$, $1+23=24\\_{10}$, $12+3=15\\_{10}$ and $1+2+3=6\\_{10}$.\n",
    "\n",
    "Let $f(n,B)$ be the smallest number of steps needed to arrive at a single-digit number in base $B$. For example, $f(7,10)=0$ and $f(123,10)=1$.\n",
    "\n",
    "Let $g(n,B\\_1,B\\_2)$ be the sum of the positive integers $i$ not exceeding $n$ such that $f(i,B\\_1)=f(i,B\\_2)$.\n",
    "\n",
    "You are given $g(100,10,3)=3302$.\n",
    "\n",
    "Find $g(10^7,10,3)$."
   ]
  },
  {
   "cell_type": "code",
   "execution_count": null,
   "id": "d3d3b3cd",
   "metadata": {},
   "outputs": [],
   "source": [
    "# Problem 637 workspace"
   ]
  },
  {
   "cell_type": "markdown",
   "id": "18bf3c76",
   "metadata": {},
   "source": [
    "## Answer: "
   ]
  },
  {
   "cell_type": "markdown",
   "id": "93ca243f",
   "metadata": {},
   "source": [
    "___"
   ]
  },
  {
   "cell_type": "markdown",
   "id": "86c95ffb",
   "metadata": {},
   "source": [
    "# Problem 638\n",
    " [Source](https://projecteuler.net/problem=638)"
   ]
  },
  {
   "cell_type": "markdown",
   "id": "c3e7b689",
   "metadata": {},
   "source": [
    "Let $P\\_{a,b}$ denote a path in a $a\\times b$ lattice grid with following properties:\n",
    "\n",
    "* The path begins at $(0,0)$ and ends at $(a,b)$.\n",
    "* The path consists only of unit moves upwards or to the right; that is the coordinates are increasing with every move.\n",
    "\n",
    "Denote $A(P\\_{a,b})$ to be the area under the path. For the example of a $P\\_{4,3}$ path given below, the area equals $6$.\n",
    "\n",
    "![crossed lines](resources/0638_lattice_area.png)\n",
    "\n",
    "Define $G(P\\_{a,b},k)=k^{A(P\\_{a,b})}$. Let $C(a,b,k)$ equal the sum of $G(P\\_{a,b},k)$ over all valid paths in a $a\\times b$ lattice grid.\n",
    "\n",
    "You are given that\n",
    "\n",
    "* $C(2,2,1)=6$\n",
    "* $C(2,2,2)=35$\n",
    "* $C(10,10,1)=184\\,756$\n",
    "* $C(15,10,3) \\equiv 880\\,419\\,838 \\mod 1\\,000\\,000\\,007$\n",
    "* $C(10\\,000,10\\,000,4) \\equiv 395\\,913\\,804 \\mod 1\\,000\\,000\\,007$\n",
    "\n",
    "Calculate $\\displaystyle\\sum\\_{k=1}^7 C(10^k+k, 10^k+k,k)$. Give your answer modulo $1\\,000\\,000\\,007$"
   ]
  },
  {
   "cell_type": "code",
   "execution_count": null,
   "id": "2acc4de1",
   "metadata": {},
   "outputs": [],
   "source": [
    "# Problem 638 workspace"
   ]
  },
  {
   "cell_type": "markdown",
   "id": "92bec8a2",
   "metadata": {},
   "source": [
    "## Answer: "
   ]
  },
  {
   "cell_type": "markdown",
   "id": "509dbfd9",
   "metadata": {},
   "source": [
    "___"
   ]
  },
  {
   "cell_type": "markdown",
   "id": "f1911118",
   "metadata": {},
   "source": [
    "# Problem 639\n",
    " [Source](https://projecteuler.net/problem=639)"
   ]
  },
  {
   "cell_type": "markdown",
   "id": "60e3a391",
   "metadata": {},
   "source": [
    "A\n",
    "**multiplicative function**\n",
    "$f(x)$ is a function over positive integers satisfying $f(1)=1$ and $f(a b)=f(a) f(b)$ for any two coprime positive integers $a$ and $b$.\n",
    "\n",
    "For integer $k$ let $f\\_k(n)$ be a multiplicative function additionally satisfying $f\\_k(p^e)=p^k$ for any prime $p$ and any integer $e>0$.\n",
    "  \n",
    "For example, $f\\_1(2)=2$, $f\\_1(4)=2$, $f\\_1(18)=6$ and $f\\_2(18)=36$.\n",
    "\n",
    "Let $\\displaystyle S\\_k(n)=\\sum\\_{i=1}^{n} f\\_k(i)$.\n",
    "For example, $S\\_1(10)=41$, $S\\_1(100)=3512$, $S\\_2(100)=208090$, $S\\_1(10000)=35252550$ and $\\displaystyle \\sum\\_{k=1}^{3} S\\_k(10^{8}) \\equiv 338787512 \\pmod{ 1\\,000\\,000\\,007}$.\n",
    "\n",
    "Find $\\displaystyle \\sum\\_{k=1}^{50} S\\_k(10^{12}) \\bmod 1\\,000\\,000\\,007$."
   ]
  },
  {
   "cell_type": "code",
   "execution_count": null,
   "id": "7fcf8d75",
   "metadata": {},
   "outputs": [],
   "source": [
    "# Problem 639 workspace"
   ]
  },
  {
   "cell_type": "markdown",
   "id": "29880dfb",
   "metadata": {},
   "source": [
    "## Answer: "
   ]
  },
  {
   "cell_type": "markdown",
   "id": "6a6b7706",
   "metadata": {},
   "source": [
    "___"
   ]
  },
  {
   "cell_type": "markdown",
   "id": "518f1e57",
   "metadata": {},
   "source": [
    "# Problem 640\n",
    " [Source](https://projecteuler.net/problem=640)"
   ]
  },
  {
   "cell_type": "markdown",
   "id": "6af7dd1c",
   "metadata": {},
   "source": [
    "Bob plays a single-player game of chance using two standard 6-sided dice and twelve cards numbered 1 to 12. When the game starts, all cards are placed face up on a table.\n",
    "\n",
    "Each turn, Bob rolls both dice, getting numbers $x$ and $y$ respectively, each in the range 1,...,6. He must choose amongst three options: turn over card $x$, card $y$, or card $x+y$. (If the chosen card is already face down, it is turned to face up, and vice versa.)\n",
    "\n",
    "If Bob manages to have all twelve cards face down at the same time, he wins.\n",
    "\n",
    "Alice plays a similar game, except that instead of dice she uses two fair coins, counting heads as 2 and tails as 1, and that she uses four cards instead of twelve. Alice finds that, with the optimal strategy for her game, the expected number of turns taken until she wins is approximately 5.673651.\n",
    "\n",
    "Assuming that Bob plays with an optimal strategy, what is the expected number of turns taken until he wins? Give your answer rounded to 6 places after the decimal point."
   ]
  },
  {
   "cell_type": "code",
   "execution_count": null,
   "id": "16d7d08d",
   "metadata": {},
   "outputs": [],
   "source": [
    "# Problem 640 workspace"
   ]
  },
  {
   "cell_type": "markdown",
   "id": "c7df7f76",
   "metadata": {},
   "source": [
    "## Answer: "
   ]
  },
  {
   "cell_type": "markdown",
   "id": "856e3bfb",
   "metadata": {},
   "source": [
    "___"
   ]
  }
 ],
 "metadata": {},
 "nbformat": 4,
 "nbformat_minor": 5
}
