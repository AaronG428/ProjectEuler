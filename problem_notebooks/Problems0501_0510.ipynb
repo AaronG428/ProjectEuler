{
 "cells": [
  {
   "cell_type": "markdown",
   "id": "3f743a41",
   "metadata": {},
   "source": [
    "# Problem 501\n",
    " [Source](https://projecteuler.net/problem=501)"
   ]
  },
  {
   "cell_type": "markdown",
   "id": "13f0580c",
   "metadata": {},
   "source": [
    "The eight divisors of $24$ are $1, 2, 3, 4, 6, 8, 12$ and $24$.\n",
    "The ten numbers not exceeding $100$ having exactly eight divisors are $24, 30, 40, 42, 54, 56, 66, 70, 78$ and $88$.\n",
    "Let $f(n)$ be the count of numbers not exceeding $n$ with exactly eight divisors.\n",
    "  \n",
    "You are given $f(100) = 10$, $f(1000) = 180$ and $f(10^6) = 224427$.\n",
    "  \n",
    "Find $f(10^{12})$."
   ]
  },
  {
   "cell_type": "code",
   "execution_count": null,
   "id": "d1c02fa1",
   "metadata": {},
   "outputs": [],
   "source": [
    "# Problem 501 workspace"
   ]
  },
  {
   "cell_type": "markdown",
   "id": "4db99b77",
   "metadata": {},
   "source": [
    "## Answer: "
   ]
  },
  {
   "cell_type": "markdown",
   "id": "073ee6af",
   "metadata": {},
   "source": [
    "___"
   ]
  },
  {
   "cell_type": "markdown",
   "id": "f84f90fe",
   "metadata": {},
   "source": [
    "# Problem 502\n",
    " [Source](https://projecteuler.net/problem=502)"
   ]
  },
  {
   "cell_type": "markdown",
   "id": "79c8e6f7",
   "metadata": {},
   "source": [
    "We define a\n",
    "block\n",
    "to be a rectangle with a height of $1$ and an integer-valued length. Let a\n",
    "castle\n",
    "be a configuration of stacked blocks.\n",
    "\n",
    "Given a game grid that is $w$ units wide and $h$ units tall, a castle is generated according to the following rules:\n",
    "\n",
    "1. Blocks can be placed on top of other blocks as long as nothing sticks out past the edges or hangs out over open space.\n",
    "2. All blocks are aligned/snapped to the grid.\n",
    "3. Any two neighboring blocks on the same row have at least one unit of space between them.\n",
    "4. The bottom row is occupied by a block of length $w$.\n",
    "5. The maximum achieved height of the entire castle is exactly $h$.\n",
    "6. The castle is made from an even number of blocks.\n",
    "\n",
    "The following is a sample castle for $w=8$ and $h=5$:\n",
    "\n",
    "![0502_castles.png](resources/0502_castles.png)\n",
    "\n",
    "Let $F(w,h)$ represent the number of valid castles, given grid parameters $w$ and $h$.\n",
    "\n",
    "For example, $F(4,2) = 10$, $F(13,10) = 3729050610636$, $F(10,13) = 37959702514$, and $F(100,100) \\bmod 1\\,000\\,000\\,007 = 841913936$.\n",
    "\n",
    "Find $(F(10^{12},100) + F(10000,10000) + F(100,10^{12})) \\bmod 1\\,000\\,000\\,007$."
   ]
  },
  {
   "cell_type": "code",
   "execution_count": null,
   "id": "e603a8b3",
   "metadata": {},
   "outputs": [],
   "source": [
    "# Problem 502 workspace"
   ]
  },
  {
   "cell_type": "markdown",
   "id": "c4aa7835",
   "metadata": {},
   "source": [
    "## Answer: "
   ]
  },
  {
   "cell_type": "markdown",
   "id": "5e52e319",
   "metadata": {},
   "source": [
    "___"
   ]
  },
  {
   "cell_type": "markdown",
   "id": "61d9bfab",
   "metadata": {},
   "source": [
    "# Problem 503\n",
    " [Source](https://projecteuler.net/problem=503)"
   ]
  },
  {
   "cell_type": "markdown",
   "id": "96692867",
   "metadata": {},
   "source": [
    "Alice is playing a game with $n$ cards numbered $1$ to $n$.\n",
    "\n",
    "A game consists of iterations of the following steps.\n",
    "  \n",
    "(1) Alice picks one of the cards at random.\n",
    "  \n",
    "(2) Alice cannot see the number on it. Instead, Bob, one of her friends, sees the number and tells Alice how many previously-seen numbers are bigger than the number which he is seeing.\n",
    "  \n",
    "(3) Alice can end or continue the game. If she decides to end, the number becomes her score. If she decides to continue, the card is removed from the game and she returns to (1). If there is no card left, she is forced to end the game.\n",
    "\n",
    "Let $F(n)$ be Alice's expected score if she takes the optimized strategy to\n",
    "**minimize**\n",
    "her score.\n",
    "\n",
    "For example, $F(3) = 5/3$. At the first iteration, she should continue the game. At the second iteration, she should end the game if Bob says that one previously-seen number is bigger than the number which he is seeing, otherwise she should continue the game.\n",
    "\n",
    "We can also verify that $F(4) = 15/8$ and $F(10) \\approx 2.5579365079$.\n",
    "\n",
    "Find $F(10^6)$. Give your answer rounded to $10$ decimal places behind the decimal point."
   ]
  },
  {
   "cell_type": "code",
   "execution_count": null,
   "id": "ac710575",
   "metadata": {},
   "outputs": [],
   "source": [
    "# Problem 503 workspace"
   ]
  },
  {
   "cell_type": "markdown",
   "id": "08eadf17",
   "metadata": {},
   "source": [
    "## Answer: "
   ]
  },
  {
   "cell_type": "markdown",
   "id": "d151ff33",
   "metadata": {},
   "source": [
    "___"
   ]
  },
  {
   "cell_type": "markdown",
   "id": "3770b326",
   "metadata": {},
   "source": [
    "# Problem 504\n",
    " [Source](https://projecteuler.net/problem=504)"
   ]
  },
  {
   "cell_type": "markdown",
   "id": "695a345e",
   "metadata": {},
   "source": [
    "Let $ABCD$ be a quadrilateral whose vertices are lattice points lying on the coordinate axes as follows:\n",
    "\n",
    "$A(a, 0)$, $B(0, b)$, $C(-c, 0)$, $D(0, -d)$, where $1 \\le a, b, c, d \\le m$ and $a, b, c, d, m$ are integers.\n",
    "\n",
    "It can be shown that for $m = 4$ there are exactly $256$ valid ways to construct $ABCD$. Of these $256$ quadrilaterals, $42$ of them\n",
    "strictly\n",
    "contain a square number of lattice points.\n",
    "\n",
    "How many quadrilaterals $ABCD$ strictly contain a square number of lattice points for $m = 100$?"
   ]
  },
  {
   "cell_type": "code",
   "execution_count": null,
   "id": "641d7f15",
   "metadata": {},
   "outputs": [],
   "source": [
    "# Problem 504 workspace"
   ]
  },
  {
   "cell_type": "markdown",
   "id": "1e99698e",
   "metadata": {},
   "source": [
    "## Answer: "
   ]
  },
  {
   "cell_type": "markdown",
   "id": "7c944232",
   "metadata": {},
   "source": [
    "___"
   ]
  },
  {
   "cell_type": "markdown",
   "id": "fbd566b3",
   "metadata": {},
   "source": [
    "# Problem 505\n",
    " [Source](https://projecteuler.net/problem=505)"
   ]
  },
  {
   "cell_type": "markdown",
   "id": "2b2f8393",
   "metadata": {},
   "source": [
    "Let:\n",
    "\n",
    "$\\begin{array}{ll} x(0)&=0 \\\\ x(1)&=1 \\\\ x(2k)&=(3x(k)+2x(\\lfloor \\frac k 2 \\rfloor)) \\text{ mod } 2^{60} \\text{ for } k \\ge 1 \\text {, where } \\lfloor \\text { } \\rfloor \\text { is the floor function} \\\\ x(2k+1)&=(2x(k)+3x(\\lfloor \\frac k 2 \\rfloor)) \\text{ mod } 2^{60} \\text{ for } k \\ge 1 \\\\ y\\_n(k)&=\\left\\{{\\begin{array}{lc} x(k) && \\text{if } k \\ge n \\\\ 2^{60} - 1 - max(y\\_n(2k),y\\_n(2k+1)) && \\text{if } k < n \\end{array}} \\right. \\\\ A(n)&=y\\_n(1) \\end{array}$\n",
    "\n",
    "You are given:\n",
    "\n",
    "$\\begin{array}{ll} x(2)&=3 \\\\ x(3)&=2 \\\\ x(4)&=11 \\\\ y\\_4(4)&=11 \\\\ y\\_4(3)&=2^{60}-9\\\\ y\\_4(2)&=2^{60}-12 \\\\ y\\_4(1)&=A(4)=8 \\\\ A(10)&=2^{60}-34\\\\ A(10^3)&=101881 \\end{array}$\n",
    "\n",
    "Find $A(10^{12})$."
   ]
  },
  {
   "cell_type": "code",
   "execution_count": null,
   "id": "226e8da0",
   "metadata": {},
   "outputs": [],
   "source": [
    "# Problem 505 workspace"
   ]
  },
  {
   "cell_type": "markdown",
   "id": "714e26fc",
   "metadata": {},
   "source": [
    "## Answer: "
   ]
  },
  {
   "cell_type": "markdown",
   "id": "c535ddaf",
   "metadata": {},
   "source": [
    "___"
   ]
  },
  {
   "cell_type": "markdown",
   "id": "75651cc5",
   "metadata": {},
   "source": [
    "# Problem 506\n",
    " [Source](https://projecteuler.net/problem=506)"
   ]
  },
  {
   "cell_type": "markdown",
   "id": "e88b46f6",
   "metadata": {},
   "source": [
    "Consider the infinite repeating sequence of digits:\n",
    "  \n",
    "1234321234321234321...\n",
    "\n",
    "Amazingly, you can break this sequence of digits into a sequence of integers such that the sum of the digits in the $n$-th value is $n$.\n",
    "\n",
    "The sequence goes as follows:\n",
    "  \n",
    "1, 2, 3, 4, 32, 123, 43, 2123, 432, 1234, 32123, ...\n",
    "\n",
    "Let $v\\_n$ be the $n$-th value in this sequence. For example, $v\\_2=2$, $v\\_5=32$ and $v\\_{11}=32123$.\n",
    "\n",
    "Let $S(n)$ be $v\\_1+v\\_2+\\cdots+v\\_n$. For example, $S(11)=36120$, and $S(1000)\\bmod 123454321=18232686$.\n",
    "\n",
    "Find $S(10^{14})\\bmod 123454321$."
   ]
  },
  {
   "cell_type": "code",
   "execution_count": null,
   "id": "da1b425c",
   "metadata": {},
   "outputs": [],
   "source": [
    "# Problem 506 workspace"
   ]
  },
  {
   "cell_type": "markdown",
   "id": "1f1b6da0",
   "metadata": {},
   "source": [
    "## Answer: "
   ]
  },
  {
   "cell_type": "markdown",
   "id": "74ea5870",
   "metadata": {},
   "source": [
    "___"
   ]
  },
  {
   "cell_type": "markdown",
   "id": "73d6b614",
   "metadata": {},
   "source": [
    "# Problem 507\n",
    " [Source](https://projecteuler.net/problem=507)"
   ]
  },
  {
   "cell_type": "markdown",
   "id": "9922c2a6",
   "metadata": {},
   "source": [
    "Let $t\\_n$ be the\n",
    "**tribonacci numbers**\n",
    "defined as:\n",
    "  \n",
    "$t\\_0 = t\\_1 = 0$;\n",
    "  \n",
    "$t\\_2 = 1$;\n",
    "  \n",
    "$t\\_n = t\\_{n-1} + t\\_{n-2} + t\\_{n-3}$ for $n \\ge 3$\n",
    "  \n",
    "and let $r\\_n = t\\_n \\text{ mod } 10^7$.\n",
    "\n",
    "For each pair of Vectors $V\\_n=(v\\_1,v\\_2,v\\_3)$ and $W\\_n=(w\\_1,w\\_2,w\\_3)$ with $v\\_1=r\\_{12n-11}-r\\_{12n-10}, v\\_2=r\\_{12n-9}+r\\_{12n-8}, v\\_3=r\\_{12n-7} \\cdot r\\_{12n-6}$ and\n",
    "  \n",
    "$w\\_1=r\\_{12n-5}-r\\_{12n-4}, w\\_2=r\\_{12n-3}+r\\_{12n-2}, w\\_3=r\\_{12n-1} \\cdot r\\_{12n}$\n",
    "  \n",
    "we define $S(n)$ as the minimal value of the manhattan length of the vector $D=k \\cdot V\\_n+l \\cdot W\\_n$ measured as $|k \\cdot v\\_1+l \\cdot w\\_1|+|k \\cdot v\\_2+l \\cdot w\\_2|+|k \\cdot v\\_3+l \\cdot w\\_3|$\n",
    "for any integers $k$ and $l$ with $(k,l)\\neq (0,0)$.\n",
    "\n",
    "The first vector pair is $(-1, 3, 28)$, $(-11, 125, 40826)$.\n",
    "  \n",
    "You are given that $S(1)=32$ and $\\sum\\_{n=1}^{10} S(n)=130762273722$.\n",
    "\n",
    "Find $\\sum\\_{n=1}^{20000000} S(n)$."
   ]
  },
  {
   "cell_type": "code",
   "execution_count": null,
   "id": "21ed7322",
   "metadata": {},
   "outputs": [],
   "source": [
    "# Problem 507 workspace"
   ]
  },
  {
   "cell_type": "markdown",
   "id": "667f0b8b",
   "metadata": {},
   "source": [
    "## Answer: "
   ]
  },
  {
   "cell_type": "markdown",
   "id": "312e96d6",
   "metadata": {},
   "source": [
    "___"
   ]
  },
  {
   "cell_type": "markdown",
   "id": "846885c3",
   "metadata": {},
   "source": [
    "# Problem 508\n",
    " [Source](https://projecteuler.net/problem=508)"
   ]
  },
  {
   "cell_type": "markdown",
   "id": "187c71bd",
   "metadata": {},
   "source": [
    "Consider the Gaussian integer $i-1$. A\n",
    "**base $i-1$ representation**\n",
    "of a Gaussian integer $a+bi$ is a finite sequence of digits $d\\_{n - 1}d\\_{n - 2}\\cdots d\\_1 d\\_0$ such that:\n",
    "\n",
    "* $a+bi = d\\_{n - 1}(i - 1)^{n - 1} + d\\_{n - 2}(i - 1)^{n - 2} + \\cdots + d\\_1(i - 1) + d\\_0$\n",
    "* Each $d\\_k$ is in $\\{0,1\\}$\n",
    "* There are no leading zeroes, i.e. $d\\_{n-1} \\ne 0$, unless $a+bi$ is itself $0$\n",
    "\n",
    "Here are base $i-1$ representations of a few Gaussian integers:\n",
    "  \n",
    "  \n",
    "$11+24i \\to 111010110001101$\n",
    "  \n",
    "$24-11i \\to 110010110011$\n",
    "  \n",
    "$8+0i \\to 111000000$\n",
    "  \n",
    "$-5+0i \\to 11001101$\n",
    "  \n",
    "$0+0i \\to 0$\n",
    "\n",
    "Remarkably, every Gaussian integer has a unique base $i-1$ representation!\n",
    "\n",
    "Define $f(a + bi)$ as the number of $1$s in the unique base $i-1$ representation of $a + bi$. For example, $f(11+24i) = 9$ and $f(24-11i) = 7$.\n",
    "\n",
    "Define $B(L)$ as the sum of $f(a + bi)$ for all integers $a, b$ such that $|a| \\le L$ and $|b| \\le L$. For example, $B(500) = 10795060$.\n",
    "\n",
    "Find $B(10^{15}) \\bmod 1\\,000\\,000\\,007$."
   ]
  },
  {
   "cell_type": "code",
   "execution_count": null,
   "id": "13ead2d5",
   "metadata": {},
   "outputs": [],
   "source": [
    "# Problem 508 workspace"
   ]
  },
  {
   "cell_type": "markdown",
   "id": "359c8145",
   "metadata": {},
   "source": [
    "## Answer: "
   ]
  },
  {
   "cell_type": "markdown",
   "id": "611e0b93",
   "metadata": {},
   "source": [
    "___"
   ]
  },
  {
   "cell_type": "markdown",
   "id": "76847844",
   "metadata": {},
   "source": [
    "# Problem 509\n",
    " [Source](https://projecteuler.net/problem=509)"
   ]
  },
  {
   "cell_type": "markdown",
   "id": "f1d4a7e6",
   "metadata": {},
   "source": [
    "Anton and Bertrand love to play three pile Nim.\n",
    "  \n",
    "However, after a lot of games of Nim they got bored and changed the rules somewhat.\n",
    "  \n",
    "They may only take a number of stones from a pile that is a\n",
    "proper divisor\n",
    "a proper divisor of $n$ is a divisor of $n$ smaller than $n$\n",
    "of the number of stones present in the pile.\n",
    "  \n",
    "E.g. if a pile at a certain moment contains $24$ stones they may take only $1,2,3,4,6,8$ or $12$ stones from that pile.\n",
    "  \n",
    "So if a pile contains one stone they can't take the last stone from it as $1$ isn't a proper divisor of $1$.\n",
    "  \n",
    "The first player that can't make a valid move loses the game.\n",
    "  \n",
    "Of course both Anton and Bertrand play optimally.\n",
    "\n",
    "The triple $(a, b, c)$ indicates the number of stones in the three piles.\n",
    "  \n",
    "Let $S(n)$ be the number of winning positions for the next player for $1 \\le a, b, c \\le n$.\n",
    "  \n",
    "$S(10) = 692$ and $S(100) = 735494$.\n",
    "\n",
    "Find $S(123456787654321)$ modulo $1234567890$."
   ]
  },
  {
   "cell_type": "code",
   "execution_count": null,
   "id": "8104b137",
   "metadata": {},
   "outputs": [],
   "source": [
    "# Problem 509 workspace"
   ]
  },
  {
   "cell_type": "markdown",
   "id": "22fac06e",
   "metadata": {},
   "source": [
    "## Answer: "
   ]
  },
  {
   "cell_type": "markdown",
   "id": "72474063",
   "metadata": {},
   "source": [
    "___"
   ]
  },
  {
   "cell_type": "markdown",
   "id": "74c611b5",
   "metadata": {},
   "source": [
    "# Problem 510\n",
    " [Source](https://projecteuler.net/problem=510)"
   ]
  },
  {
   "cell_type": "markdown",
   "id": "9762d80b",
   "metadata": {},
   "source": [
    "Circles $A$ and $B$ are tangent to each other and to line $L$ at three distinct points.\n",
    "  \n",
    "Circle $C$ is inside the space between $A$, $B$ and $L$, and tangent to all three.\n",
    "  \n",
    "Let $r\\_A$, $r\\_B$ and $r\\_C$ be the radii of $A$, $B$ and $C$ respectively.\n",
    "\n",
    "![0510_tangent_circles.png](resources/0510_tangent_circles.png)\n",
    "\n",
    "Let $S(n) = \\sum r\\_A + r\\_B + r\\_C$, for $0 \\lt r\\_A \\le r\\_B \\le n$ where $r\\_A$, $r\\_B$ and $r\\_C$ are integers.\n",
    "The only solution for $0 \\lt r\\_A \\le r\\_B \\le 5$ is $r\\_A = 4$, $r\\_B = 4$ and $r\\_C = 1$, so $S(5) = 4 + 4 + 1 = 9$.\n",
    "You are also given $S(100) = 3072$.\n",
    "\n",
    "Find $S(10^9)$."
   ]
  },
  {
   "cell_type": "code",
   "execution_count": null,
   "id": "1f4db5a1",
   "metadata": {},
   "outputs": [],
   "source": [
    "# Problem 510 workspace"
   ]
  },
  {
   "cell_type": "markdown",
   "id": "54d9da83",
   "metadata": {},
   "source": [
    "## Answer: "
   ]
  },
  {
   "cell_type": "markdown",
   "id": "4e7944e9",
   "metadata": {},
   "source": [
    "___"
   ]
  }
 ],
 "metadata": {},
 "nbformat": 4,
 "nbformat_minor": 5
}
