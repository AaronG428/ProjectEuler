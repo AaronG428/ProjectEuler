{
 "cells": [
  {
   "cell_type": "markdown",
   "id": "90073aba",
   "metadata": {},
   "source": [
    "# Problem 31\n",
    " [Source](https://projecteuler.net/problem=31)"
   ]
  },
  {
   "cell_type": "markdown",
   "id": "82e76551",
   "metadata": {},
   "source": [
    "In the United Kingdom the currency is made up of pound (£) and pence (p). There are eight coins in general circulation:\n",
    "\n",
    "> 1p, 2p, 5p, 10p, 20p, 50p, £1 (100p), and £2 (200p).\n",
    "\n",
    "It is possible to make £2 in the following way:\n",
    "\n",
    "> 1×£1 + 1×50p + 2×20p + 1×5p + 1×2p + 3×1p\n",
    "\n",
    "How many different ways can £2 be made using any number of coins?"
   ]
  },
  {
   "cell_type": "code",
   "execution_count": null,
   "id": "41fdec30",
   "metadata": {},
   "outputs": [],
   "source": [
    "# Problem 31 workspace"
   ]
  },
  {
   "cell_type": "markdown",
   "id": "85e96d6f",
   "metadata": {},
   "source": [
    "## Answer: "
   ]
  },
  {
   "cell_type": "markdown",
   "id": "432f35bd",
   "metadata": {},
   "source": [
    "___"
   ]
  },
  {
   "cell_type": "markdown",
   "id": "96a2d3d3",
   "metadata": {},
   "source": [
    "# Problem 32\n",
    " [Source](https://projecteuler.net/problem=32)"
   ]
  },
  {
   "cell_type": "markdown",
   "id": "0b624e79",
   "metadata": {},
   "source": [
    "We shall say that an $n$-digit number is pandigital if it makes use of all the digits $1$ to $n$ exactly once; for example, the $5$-digit number, $15234$, is $1$ through $5$ pandigital.\n",
    "\n",
    "The product $7254$ is unusual, as the identity, $39 \\times 186 = 7254$, containing multiplicand, multiplier, and product is $1$ through $9$ pandigital.\n",
    "\n",
    "Find the sum of all products whose multiplicand/multiplier/product identity can be written as a $1$ through $9$ pandigital.\n",
    "\n",
    "HINT: Some products can be obtained in more than one way so be sure to only include it once in your sum."
   ]
  },
  {
   "cell_type": "code",
   "execution_count": null,
   "id": "ef77c70a",
   "metadata": {},
   "outputs": [],
   "source": [
    "# Problem 32 workspace"
   ]
  },
  {
   "cell_type": "markdown",
   "id": "1425f416",
   "metadata": {},
   "source": [
    "## Answer: "
   ]
  },
  {
   "cell_type": "markdown",
   "id": "cff737ca",
   "metadata": {},
   "source": [
    "___"
   ]
  },
  {
   "cell_type": "markdown",
   "id": "21fbd1d0",
   "metadata": {},
   "source": [
    "# Problem 33\n",
    " [Source](https://projecteuler.net/problem=33)"
   ]
  },
  {
   "cell_type": "markdown",
   "id": "1f9e3b57",
   "metadata": {},
   "source": [
    "The fraction $49/98$ is a curious fraction, as an inexperienced mathematician in attempting to simplify it may incorrectly believe that $49/98 = 4/8$, which is correct, is obtained by cancelling the $9$s.\n",
    "\n",
    "We shall consider fractions like, $30/50 = 3/5$, to be trivial examples.\n",
    "\n",
    "There are exactly four non-trivial examples of this type of fraction, less than one in value, and containing two digits in the numerator and denominator.\n",
    "\n",
    "If the product of these four fractions is given in its lowest common terms, find the value of the denominator."
   ]
  },
  {
   "cell_type": "code",
   "execution_count": null,
   "id": "bd37a6b1",
   "metadata": {},
   "outputs": [],
   "source": [
    "# Problem 33 workspace"
   ]
  },
  {
   "cell_type": "markdown",
   "id": "058f79fa",
   "metadata": {},
   "source": [
    "## Answer: "
   ]
  },
  {
   "cell_type": "markdown",
   "id": "f7aedbed",
   "metadata": {},
   "source": [
    "___"
   ]
  },
  {
   "cell_type": "markdown",
   "id": "8ea64589",
   "metadata": {},
   "source": [
    "# Problem 34\n",
    " [Source](https://projecteuler.net/problem=34)"
   ]
  },
  {
   "cell_type": "markdown",
   "id": "88b88987",
   "metadata": {},
   "source": [
    "$145$ is a curious number, as $1! + 4! + 5! = 1 + 24 + 120 = 145$.\n",
    "\n",
    "Find the sum of all numbers which are equal to the sum of the factorial of their digits.\n",
    "\n",
    "Note: As $1! = 1$ and $2! = 2$ are not sums they are not included."
   ]
  },
  {
   "cell_type": "code",
   "execution_count": null,
   "id": "80d84c40",
   "metadata": {},
   "outputs": [],
   "source": [
    "# Problem 34 workspace"
   ]
  },
  {
   "cell_type": "markdown",
   "id": "219d9e3f",
   "metadata": {},
   "source": [
    "## Answer: "
   ]
  },
  {
   "cell_type": "markdown",
   "id": "3f3017ee",
   "metadata": {},
   "source": [
    "___"
   ]
  },
  {
   "cell_type": "markdown",
   "id": "4b57081b",
   "metadata": {},
   "source": [
    "# Problem 35\n",
    " [Source](https://projecteuler.net/problem=35)"
   ]
  },
  {
   "cell_type": "markdown",
   "id": "592f2773",
   "metadata": {},
   "source": [
    "The number, $197$, is called a circular prime because all rotations of the digits: $197$, $971$, and $719$, are themselves prime.\n",
    "\n",
    "There are thirteen such primes below $100$: $2, 3, 5, 7, 11, 13, 17, 31, 37, 71, 73, 79$, and $97$.\n",
    "\n",
    "How many circular primes are there below one million?"
   ]
  },
  {
   "cell_type": "code",
   "execution_count": null,
   "id": "fddc4d64",
   "metadata": {},
   "outputs": [],
   "source": [
    "# Problem 35 workspace"
   ]
  },
  {
   "cell_type": "markdown",
   "id": "4c8ad8cd",
   "metadata": {},
   "source": [
    "## Answer: "
   ]
  },
  {
   "cell_type": "markdown",
   "id": "53cd68f9",
   "metadata": {},
   "source": [
    "___"
   ]
  },
  {
   "cell_type": "markdown",
   "id": "d2af278e",
   "metadata": {},
   "source": [
    "# Problem 36\n",
    " [Source](https://projecteuler.net/problem=36)"
   ]
  },
  {
   "cell_type": "markdown",
   "id": "20e176bf",
   "metadata": {},
   "source": [
    "The decimal number, $585 = 1001001001\\_2$ (binary), is palindromic in both bases.\n",
    "\n",
    "Find the sum of all numbers, less than one million, which are palindromic in base $10$ and base $2$.\n",
    "\n",
    "(Please note that the palindromic number, in either base, may not include leading zeros.)"
   ]
  },
  {
   "cell_type": "code",
   "execution_count": null,
   "id": "f0f5dff7",
   "metadata": {},
   "outputs": [],
   "source": [
    "# Problem 36 workspace"
   ]
  },
  {
   "cell_type": "markdown",
   "id": "42d41e39",
   "metadata": {},
   "source": [
    "## Answer: "
   ]
  },
  {
   "cell_type": "markdown",
   "id": "e62c2d7a",
   "metadata": {},
   "source": [
    "___"
   ]
  },
  {
   "cell_type": "markdown",
   "id": "ad96feb6",
   "metadata": {},
   "source": [
    "# Problem 37\n",
    " [Source](https://projecteuler.net/problem=37)"
   ]
  },
  {
   "cell_type": "markdown",
   "id": "8a704471",
   "metadata": {},
   "source": [
    "The number $3797$ has an interesting property. Being prime itself, it is possible to continuously remove digits from left to right, and remain prime at each stage: $3797$, $797$, $97$, and $7$. Similarly we can work from right to left: $3797$, $379$, $37$, and $3$.\n",
    "\n",
    "Find the sum of the only eleven primes that are both truncatable from left to right and right to left.\n",
    "\n",
    "NOTE: $2$, $3$, $5$, and $7$ are not considered to be truncatable primes."
   ]
  },
  {
   "cell_type": "code",
   "execution_count": null,
   "id": "560f11c5",
   "metadata": {},
   "outputs": [],
   "source": [
    "# Problem 37 workspace"
   ]
  },
  {
   "cell_type": "markdown",
   "id": "8e76fbad",
   "metadata": {},
   "source": [
    "## Answer: "
   ]
  },
  {
   "cell_type": "markdown",
   "id": "5fdd76b9",
   "metadata": {},
   "source": [
    "___"
   ]
  },
  {
   "cell_type": "markdown",
   "id": "f0ebd20d",
   "metadata": {},
   "source": [
    "# Problem 38\n",
    " [Source](https://projecteuler.net/problem=38)"
   ]
  },
  {
   "cell_type": "markdown",
   "id": "3e946f94",
   "metadata": {},
   "source": [
    "Take the number $192$ and multiply it by each of $1$, $2$, and $3$:\n",
    "\n",
    "$$\\begin{align}\n",
    "192 \\times 1 &= 192\\\\\n",
    "192 \\times 2 &= 384\\\\\n",
    "192 \\times 3 &= 576\n",
    "\\end{align}$$\n",
    "\n",
    "By concatenating each product we get the $1$ to $9$ pandigital, $192384576$. We will call $192384576$ the concatenated product of $192$ and $(1,2,3)$.\n",
    "\n",
    "The same can be achieved by starting with $9$ and multiplying by $1$, $2$, $3$, $4$, and $5$, giving the pandigital, $918273645$, which is the concatenated product of $9$ and $(1,2,3,4,5)$.\n",
    "\n",
    "What is the largest $1$ to $9$ pandigital $9$-digit number that can be formed as the concatenated product of an integer with $(1,2, \\dots, n)$ where $n \\gt 1$?"
   ]
  },
  {
   "cell_type": "code",
   "execution_count": null,
   "id": "056d60b7",
   "metadata": {},
   "outputs": [],
   "source": [
    "# Problem 38 workspace"
   ]
  },
  {
   "cell_type": "markdown",
   "id": "f74562cb",
   "metadata": {},
   "source": [
    "## Answer: "
   ]
  },
  {
   "cell_type": "markdown",
   "id": "041663bb",
   "metadata": {},
   "source": [
    "___"
   ]
  },
  {
   "cell_type": "markdown",
   "id": "b9dc91c7",
   "metadata": {},
   "source": [
    "# Problem 39\n",
    " [Source](https://projecteuler.net/problem=39)"
   ]
  },
  {
   "cell_type": "markdown",
   "id": "181dd009",
   "metadata": {},
   "source": [
    "If $p$ is the perimeter of a right angle triangle with integral length sides, $\\{a, b, c\\}$, there are exactly three solutions for $p = 120$.\n",
    "\n",
    "$\\{20,48,52\\}$, $\\{24,45,51\\}$, $\\{30,40,50\\}$\n",
    "\n",
    "For which value of $p \\le 1000$, is the number of solutions maximised?"
   ]
  },
  {
   "cell_type": "code",
   "execution_count": null,
   "id": "0ba9c86d",
   "metadata": {},
   "outputs": [],
   "source": [
    "# Problem 39 workspace"
   ]
  },
  {
   "cell_type": "markdown",
   "id": "09996df0",
   "metadata": {},
   "source": [
    "## Answer: "
   ]
  },
  {
   "cell_type": "markdown",
   "id": "4bca81a7",
   "metadata": {},
   "source": [
    "___"
   ]
  },
  {
   "cell_type": "markdown",
   "id": "69dca607",
   "metadata": {},
   "source": [
    "# Problem 40\n",
    " [Source](https://projecteuler.net/problem=40)"
   ]
  },
  {
   "cell_type": "markdown",
   "id": "3e9341e0",
   "metadata": {},
   "source": [
    "An irrational decimal fraction is created by concatenating the positive integers:\n",
    "$$0.12345678910{\\color{red}\\mathbf 1}112131415161718192021\\cdots$$\n",
    "\n",
    "It can be seen that the $12$\n",
    "th\n",
    "digit of the fractional part is $1$.\n",
    "\n",
    "If $d\\_n$ represents the $n$\n",
    "th\n",
    "digit of the fractional part, find the value of the following expression.\n",
    "$$d\\_1 \\times d\\_{10} \\times d\\_{100} \\times d\\_{1000} \\times d\\_{10000} \\times d\\_{100000} \\times d\\_{1000000}$$"
   ]
  },
  {
   "cell_type": "code",
   "execution_count": null,
   "id": "e5e8616c",
   "metadata": {},
   "outputs": [],
   "source": [
    "# Problem 40 workspace"
   ]
  },
  {
   "cell_type": "markdown",
   "id": "c92c0db1",
   "metadata": {},
   "source": [
    "## Answer: "
   ]
  },
  {
   "cell_type": "markdown",
   "id": "a98cf403",
   "metadata": {},
   "source": [
    "___"
   ]
  }
 ],
 "metadata": {},
 "nbformat": 4,
 "nbformat_minor": 5
}
