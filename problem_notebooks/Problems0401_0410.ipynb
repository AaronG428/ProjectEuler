{
 "cells": [
  {
   "cell_type": "markdown",
   "id": "4a5ad2f8",
   "metadata": {},
   "source": [
    "# Problem 401\n",
    " [Source](https://projecteuler.net/problem=401)"
   ]
  },
  {
   "cell_type": "markdown",
   "id": "bef5a0ec",
   "metadata": {},
   "source": [
    "The divisors of $6$ are $1,2,3$ and $6$.\n",
    "  \n",
    "The sum of the squares of these numbers is $1+4+9+36=50$.\n",
    "\n",
    "Let $\\operatorname{sigma}\\_2(n)$ represent the sum of the squares of the divisors of $n$.\n",
    "Thus $\\operatorname{sigma}\\_2(6)=50$.\n",
    "\n",
    "Let $\\operatorname{SIGMA}\\_2$ represent the summatory function of $\\operatorname{sigma}\\_2$, that is $\\operatorname{SIGMA}\\_2(n)=\\sum \\operatorname{sigma}\\_2(i)$ for $i=1$ to $n$.\n",
    "  \n",
    "The first $6$ values of $\\operatorname{SIGMA}\\_2$ are: $1,6,16,37,63$ and $113$.\n",
    "\n",
    "Find $\\operatorname{SIGMA}\\_2(10^{15})$ modulo $10^9$."
   ]
  },
  {
   "cell_type": "code",
   "execution_count": null,
   "id": "767570c0",
   "metadata": {},
   "outputs": [],
   "source": [
    "# Problem 401 workspace"
   ]
  },
  {
   "cell_type": "markdown",
   "id": "b1b4773c",
   "metadata": {},
   "source": [
    "## Answer: "
   ]
  },
  {
   "cell_type": "markdown",
   "id": "4545803d",
   "metadata": {},
   "source": [
    "___"
   ]
  },
  {
   "cell_type": "markdown",
   "id": "3b4c2421",
   "metadata": {},
   "source": [
    "# Problem 402\n",
    " [Source](https://projecteuler.net/problem=402)"
   ]
  },
  {
   "cell_type": "markdown",
   "id": "2c4afd2d",
   "metadata": {},
   "source": [
    "It can be shown that the polynomial $n^4 + 4n^3 + 2n^2 + 5n$ is a multiple of $6$ for every integer $n$. It can also be shown that $6$ is the largest integer satisfying this property.\n",
    "\n",
    "Define $M(a, b, c)$ as the maximum $m$ such that $n^4 + an^3 + bn^2 + cn$ is a multiple of $m$ for all integers $n$. For example, $M(4, 2, 5) = 6$.\n",
    "\n",
    "Also, define $S(N)$ as the sum of $M(a, b, c)$ for all $0 \\lt a, b, c \\leq N$.\n",
    "\n",
    "We can verify that $S(10) = 1972$ and $S(10000) = 2024258331114$.\n",
    "\n",
    "Let $F\\_k$ be the Fibonacci sequence:\n",
    "  \n",
    "$F\\_0 = 0$, $F\\_1 = 1$ and\n",
    "  \n",
    "$F\\_k = F\\_{k-1} + F\\_{k-2}$ for $k \\geq 2$.\n",
    "\n",
    "Find the last $9$ digits of $\\sum S(F\\_k)$ for $2 \\leq k \\leq 1234567890123$."
   ]
  },
  {
   "cell_type": "code",
   "execution_count": null,
   "id": "35bdc7c1",
   "metadata": {},
   "outputs": [],
   "source": [
    "# Problem 402 workspace"
   ]
  },
  {
   "cell_type": "markdown",
   "id": "f38685e6",
   "metadata": {},
   "source": [
    "## Answer: "
   ]
  },
  {
   "cell_type": "markdown",
   "id": "f4869b64",
   "metadata": {},
   "source": [
    "___"
   ]
  },
  {
   "cell_type": "markdown",
   "id": "354792fa",
   "metadata": {},
   "source": [
    "# Problem 403\n",
    " [Source](https://projecteuler.net/problem=403)"
   ]
  },
  {
   "cell_type": "markdown",
   "id": "14dbd912",
   "metadata": {},
   "source": [
    "For integers $a$ and $b$, we define $D(a, b)$ as the domain enclosed by the parabola $y = x^2$ and the line $y = a\\cdot x + b$:\n",
    "  \n",
    "$D(a, b) = \\{(x, y) \\mid x^2 \\leq y \\leq a\\cdot x + b \\}$.\n",
    "\n",
    "$L(a, b)$ is defined as the number of lattice points contained in $D(a, b)$.\n",
    "  \n",
    "For example, $L(1, 2) = 8$ and $L(2, -1) = 1$.\n",
    "\n",
    "We also define $S(N)$ as the sum of $L(a, b)$ for all the pairs $(a, b)$ such that the area of $D(a, b)$ is a rational number and $|a|,|b| \\leq N$.\n",
    "  \n",
    "We can verify that $S(5) = 344$ and $S(100) = 26709528$.\n",
    "\n",
    "Find $S(10^{12})$. Give your answer mod $10^8$."
   ]
  },
  {
   "cell_type": "code",
   "execution_count": null,
   "id": "b20741ee",
   "metadata": {},
   "outputs": [],
   "source": [
    "# Problem 403 workspace"
   ]
  },
  {
   "cell_type": "markdown",
   "id": "fa5dad79",
   "metadata": {},
   "source": [
    "## Answer: "
   ]
  },
  {
   "cell_type": "markdown",
   "id": "056e55fa",
   "metadata": {},
   "source": [
    "___"
   ]
  },
  {
   "cell_type": "markdown",
   "id": "6d9e9896",
   "metadata": {},
   "source": [
    "# Problem 404\n",
    " [Source](https://projecteuler.net/problem=404)"
   ]
  },
  {
   "cell_type": "markdown",
   "id": "8bb5f5d1",
   "metadata": {},
   "source": [
    "$E\\_a$ is an ellipse with an equation of the form $x^2 + 4y^2 = 4a^2$.\n",
    "  \n",
    "$E\\_a^\\prime$ is the rotated image of $E\\_a$ by $\\theta$ degrees counterclockwise around the origin $O(0, 0)$ for $0^\\circ \\lt \\theta \\lt 90^\\circ$.\n",
    "\n",
    "![0404_c_ellipse.gif](resources/0404_c_ellipse.gif)\n",
    "\n",
    "$b$ is the distance to the origin of the two intersection points closest to the origin and $c$ is the distance of the two other intersection points.\n",
    "  \n",
    "We call an ordered triplet $(a, b, c)$ a\n",
    "canonical ellipsoidal triplet\n",
    "if $a, b$ and $c$ are positive integers.\n",
    "  \n",
    "For example, $(209, 247, 286)$ is a canonical ellipsoidal triplet.\n",
    "\n",
    "Let $C(N)$ be the number of distinct canonical ellipsoidal triplets $(a, b, c)$ for $a \\leq N$.\n",
    "  \n",
    "It can be verified that $C(10^3) = 7$, $C(10^4) = 106$ and $C(10^6) = 11845$.\n",
    "\n",
    "Find $C(10^{17})$."
   ]
  },
  {
   "cell_type": "code",
   "execution_count": null,
   "id": "00411633",
   "metadata": {},
   "outputs": [],
   "source": [
    "# Problem 404 workspace"
   ]
  },
  {
   "cell_type": "markdown",
   "id": "db46e456",
   "metadata": {},
   "source": [
    "## Answer: "
   ]
  },
  {
   "cell_type": "markdown",
   "id": "78461694",
   "metadata": {},
   "source": [
    "___"
   ]
  },
  {
   "cell_type": "markdown",
   "id": "38363f3f",
   "metadata": {},
   "source": [
    "# Problem 405\n",
    " [Source](https://projecteuler.net/problem=405)"
   ]
  },
  {
   "cell_type": "markdown",
   "id": "9043fe14",
   "metadata": {},
   "source": [
    "We wish to tile a rectangle whose length is twice its width.\n",
    "  \n",
    "Let $T(0)$ be the tiling consisting of a single rectangle.\n",
    "  \n",
    "For $n \\gt 0$, let $T(n)$ be obtained from $T(n-1)$ by replacing all tiles in the following manner:\n",
    "\n",
    "![0405_tile1.png](resources/0405_tile1.png)\n",
    "\n",
    "The following animation demonstrates the tilings $T(n)$ for $n$ from $0$ to $5$:\n",
    "\n",
    "![0405_tile2.gif](resources/0405_tile2.gif)\n",
    "\n",
    "Let $f(n)$ be the number of points where four tiles meet in $T(n)$.\n",
    "  \n",
    "For example, $f(1) = 0$, $f(4) = 82$ and $f(10^9) \\bmod 17^7 = 126897180$.\n",
    "\n",
    "Find $f(10^k)$ for $k = 10^{18}$, give your answer modulo $17^7$."
   ]
  },
  {
   "cell_type": "code",
   "execution_count": null,
   "id": "84237946",
   "metadata": {},
   "outputs": [],
   "source": [
    "# Problem 405 workspace"
   ]
  },
  {
   "cell_type": "markdown",
   "id": "4c5c4a98",
   "metadata": {},
   "source": [
    "## Answer: "
   ]
  },
  {
   "cell_type": "markdown",
   "id": "f7c83a3e",
   "metadata": {},
   "source": [
    "___"
   ]
  },
  {
   "cell_type": "markdown",
   "id": "5af94e6e",
   "metadata": {},
   "source": [
    "# Problem 406\n",
    " [Source](https://projecteuler.net/problem=406)"
   ]
  },
  {
   "cell_type": "markdown",
   "id": "e9fb8528",
   "metadata": {},
   "source": [
    "We are trying to find a hidden number selected from the set of integers $\\{1, 2, \\dots, n\\}$ by asking questions.\n",
    "Each number (question) we ask, we get one of three possible answers:\n",
    "\n",
    "* \"Your guess is lower than the hidden number\" (and you incur a cost of $a$), or\n",
    "* \"Your guess is higher than the hidden number\" (and you incur a cost of $b$), or\n",
    "* \"Yes, that's it!\" (and the game ends).\n",
    "\n",
    "Given the value of $n$, $a$, and $b$, an\n",
    "optimal strategy\n",
    "minimizes the total cost\n",
    "for the worst possible case\n",
    ".\n",
    "\n",
    "For example, if $n = 5$, $a = 2$, and $b = 3$, then we may begin by asking \"\n",
    "**2**\n",
    "\" as our first question.\n",
    "\n",
    "If we are told that 2 is higher than the hidden number (for a cost of\n",
    "b\n",
    "=3), then we are sure that \"\n",
    "**1**\n",
    "\" is the hidden number (for a total cost of\n",
    "**3**\n",
    ").\n",
    "  \n",
    "If we are told that 2 is lower than the hidden number (for a cost of\n",
    "a\n",
    "=2), then our next question will be \"\n",
    "**4**\n",
    "\".\n",
    "  \n",
    "If we are told that 4 is higher than the hidden number (for a cost of\n",
    "b\n",
    "=3), then we are sure that \"\n",
    "**3**\n",
    "\" is the hidden number (for a total cost of 2+3=\n",
    "**5**\n",
    ").\n",
    "  \n",
    "If we are told that 4 is lower than the hidden number (for a cost of\n",
    "a\n",
    "=2), then we are sure that \"\n",
    "**5**\n",
    "\" is the hidden number (for a total cost of 2+2=\n",
    "**4**\n",
    ").\n",
    "  \n",
    "Thus, the worst-case cost achieved by this strategy is\n",
    "**5**\n",
    ". It can also be shown that this is the lowest worst-case cost that can be achieved.\n",
    "So, in fact, we have just described an optimal strategy for the given values of $n$, $a$, and $b$.\n",
    "\n",
    "Let $C(n, a, b)$ be the worst-case cost achieved by an optimal strategy for the given values of $n$, $a$ and $b$.\n",
    "\n",
    "Here are a few examples:\n",
    "  \n",
    "$C(5, 2, 3) = 5$\n",
    "  \n",
    "$C(500, \\sqrt 2, \\sqrt 3) = 13.22073197\\dots$\n",
    "  \n",
    "$C(20000, 5, 7) = 82$\n",
    "  \n",
    "$C(2000000, \\sqrt 5, \\sqrt 7) = 49.63755955\\dots$\n",
    "\n",
    "Let $F\\_k$ be the Fibonacci numbers: $F\\_k=F\\_{k-1}+F\\_{k-2}$ with base cases $F\\_1=F\\_2= 1$.\n",
    "  \n",
    "Find $\\displaystyle \\sum \\limits\\_{k = 1}^{30} {C \\left (10^{12}, \\sqrt{k}, \\sqrt{F\\_k} \\right )}$, and give your answer rounded to 8 decimal places behind the decimal point."
   ]
  },
  {
   "cell_type": "code",
   "execution_count": null,
   "id": "5fd6a714",
   "metadata": {},
   "outputs": [],
   "source": [
    "# Problem 406 workspace"
   ]
  },
  {
   "cell_type": "markdown",
   "id": "88afc908",
   "metadata": {},
   "source": [
    "## Answer: "
   ]
  },
  {
   "cell_type": "markdown",
   "id": "c3b8b0fe",
   "metadata": {},
   "source": [
    "___"
   ]
  },
  {
   "cell_type": "markdown",
   "id": "fb34f4aa",
   "metadata": {},
   "source": [
    "# Problem 407\n",
    " [Source](https://projecteuler.net/problem=407)"
   ]
  },
  {
   "cell_type": "markdown",
   "id": "1254f042",
   "metadata": {},
   "source": [
    "If we calculate $a^2 \\bmod 6$ for $0 \\leq a \\leq 5$ we get: $0,1,4,3,4,1$.\n",
    "\n",
    "The largest value of $a$ such that $a^2 \\equiv a \\bmod 6$ is $4$.\n",
    "  \n",
    "Let's call $M(n)$ the largest value of $a \\lt n$ such that $a^2 \\equiv a \\pmod n$.\n",
    "  \n",
    "So $M(6) = 4$.\n",
    "\n",
    "Find $\\sum M(n)$ for $1 \\leq n \\leq 10^7$."
   ]
  },
  {
   "cell_type": "code",
   "execution_count": null,
   "id": "50db7710",
   "metadata": {},
   "outputs": [],
   "source": [
    "# Problem 407 workspace"
   ]
  },
  {
   "cell_type": "markdown",
   "id": "52275827",
   "metadata": {},
   "source": [
    "## Answer: "
   ]
  },
  {
   "cell_type": "markdown",
   "id": "08d134f6",
   "metadata": {},
   "source": [
    "___"
   ]
  },
  {
   "cell_type": "markdown",
   "id": "59faaa36",
   "metadata": {},
   "source": [
    "# Problem 408\n",
    " [Source](https://projecteuler.net/problem=408)"
   ]
  },
  {
   "cell_type": "markdown",
   "id": "bbb1b765",
   "metadata": {},
   "source": [
    "Let's call a lattice point $(x, y)$\n",
    "inadmissible\n",
    "if $x, y$ and $x+y$ are all positive perfect squares.\n",
    "  \n",
    "For example, $(9, 16)$ is inadmissible, while $(0, 4)$, $(3, 1)$ and $(9, 4)$ are not.\n",
    "\n",
    "Consider a path from point $(x\\_1, y\\_1)$ to point $(x\\_2, y\\_2)$ using only unit steps north or east.\n",
    "  \n",
    "Let's call such a path\n",
    "admissible\n",
    "if none of its intermediate points are inadmissible.\n",
    "\n",
    "Let $P(n)$ be the number of admissible paths from $(0, 0)$ to $(n, n)$.\n",
    "  \n",
    "It can be verified that $P(5) = 252$, $P(16) = 596994440$ and $P(1000) \\bmod 1\\,000\\,000\\,007 = 341920854$.\n",
    "\n",
    "Find $P(10\\,000\\,000) \\bmod 1\\,000\\,000\\,007$."
   ]
  },
  {
   "cell_type": "code",
   "execution_count": null,
   "id": "3dad2974",
   "metadata": {},
   "outputs": [],
   "source": [
    "# Problem 408 workspace"
   ]
  },
  {
   "cell_type": "markdown",
   "id": "40e666b3",
   "metadata": {},
   "source": [
    "## Answer: "
   ]
  },
  {
   "cell_type": "markdown",
   "id": "ac735742",
   "metadata": {},
   "source": [
    "___"
   ]
  },
  {
   "cell_type": "markdown",
   "id": "c6706445",
   "metadata": {},
   "source": [
    "# Problem 409\n",
    " [Source](https://projecteuler.net/problem=409)"
   ]
  },
  {
   "cell_type": "markdown",
   "id": "08cde52e",
   "metadata": {},
   "source": [
    "Let $n$ be a positive integer. Consider\n",
    "**nim**\n",
    "positions where:\n",
    "\n",
    "* There are $n$ non-empty piles.\n",
    "* Each pile has size less than $2^n$.\n",
    "* No two piles have the same size.\n",
    "\n",
    "Let $W(n)$ be the number of winning nim positions satisfying the above conditions (a position is winning if the first player has a winning strategy). For example, $W(1) = 1$, $W(2) = 6$, $W(3) = 168$, $W(5) = 19764360$ and $W(100) \\bmod 1\\,000\\,000\\,007 = 384777056$.\n",
    "\n",
    "Find $W(10\\,000\\,000) \\bmod 1\\,000\\,000\\,007$."
   ]
  },
  {
   "cell_type": "code",
   "execution_count": null,
   "id": "c89a5137",
   "metadata": {},
   "outputs": [],
   "source": [
    "# Problem 409 workspace"
   ]
  },
  {
   "cell_type": "markdown",
   "id": "c93df5cf",
   "metadata": {},
   "source": [
    "## Answer: "
   ]
  },
  {
   "cell_type": "markdown",
   "id": "da0b6c1f",
   "metadata": {},
   "source": [
    "___"
   ]
  },
  {
   "cell_type": "markdown",
   "id": "5556ea5a",
   "metadata": {},
   "source": [
    "# Problem 410\n",
    " [Source](https://projecteuler.net/problem=410)"
   ]
  },
  {
   "cell_type": "markdown",
   "id": "98105605",
   "metadata": {},
   "source": [
    "Let $C$ be the circle with radius $r$, $x^2 + y^2 = r^2$. We choose two points $P(a, b)$ and $Q(-a, c)$ so that the line passing through $P$ and $Q$ is tangent to $C$.\n",
    "\n",
    "For example, the quadruplet $(r, a, b, c) = (2, 6, 2, -7)$ satisfies this property.\n",
    "\n",
    "Let $F(R, X)$ be the number of the integer quadruplets $(r, a, b, c)$ with this property, and with $0 \\lt r \\leq R$ and $0 \\lt a \\leq X$.\n",
    "\n",
    "We can verify that $F(1, 5) = 10$, $F(2, 10) = 52$ and $F(10, 100) = 3384$.\n",
    "  \n",
    "Find $F(10^8, 10^9) + F(10^9, 10^8)$."
   ]
  },
  {
   "cell_type": "code",
   "execution_count": null,
   "id": "6a222860",
   "metadata": {},
   "outputs": [],
   "source": [
    "# Problem 410 workspace"
   ]
  },
  {
   "cell_type": "markdown",
   "id": "39fa1ccc",
   "metadata": {},
   "source": [
    "## Answer: "
   ]
  },
  {
   "cell_type": "markdown",
   "id": "94a51b39",
   "metadata": {},
   "source": [
    "___"
   ]
  }
 ],
 "metadata": {},
 "nbformat": 4,
 "nbformat_minor": 5
}
