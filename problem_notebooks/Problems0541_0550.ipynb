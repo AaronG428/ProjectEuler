{
 "cells": [
  {
   "cell_type": "markdown",
   "id": "ef2e2f07",
   "metadata": {},
   "source": [
    "# Problem 541\n",
    " [Source](https://projecteuler.net/problem=541)"
   ]
  },
  {
   "cell_type": "markdown",
   "id": "79dba07b",
   "metadata": {},
   "source": [
    "The $n$\n",
    "th\n",
    "**harmonic number**\n",
    "$H\\_n$ is defined as the sum of the multiplicative inverses of the first $n$ positive integers, and can be written as a\n",
    "**reduced fraction**\n",
    "$a\\_n/b\\_n$.\n",
    "  \n",
    "$H\\_n = \\displaystyle \\sum\\_{k=1}^n \\frac 1 k = \\frac {a\\_n} {b\\_n}$, with $\\gcd(a\\_n, b\\_n)=1$.\n",
    "\n",
    "Let $M(p)$ be the largest value of $n$ such that $b\\_n$ is not divisible by $p$.\n",
    "\n",
    "For example, $M(3) = 68$ because $H\\_{68} = \\frac {a\\_{68}} {b\\_{68}} = \\frac {14094018321907827923954201611} {2933773379069966367528193600}$, $b\\_{68}=2933773379069966367528193600$ is not divisible by $3$, but all larger harmonic numbers have denominators divisible by $3$.\n",
    "\n",
    "You are given $M(7) = 719102$.\n",
    "\n",
    "Find $M(137)$."
   ]
  },
  {
   "cell_type": "code",
   "execution_count": null,
   "id": "cf0932d9",
   "metadata": {},
   "outputs": [],
   "source": [
    "# Problem 541 workspace"
   ]
  },
  {
   "cell_type": "markdown",
   "id": "195a3979",
   "metadata": {},
   "source": [
    "## Answer: "
   ]
  },
  {
   "cell_type": "markdown",
   "id": "ee52c56f",
   "metadata": {},
   "source": [
    "___"
   ]
  },
  {
   "cell_type": "markdown",
   "id": "d44187e6",
   "metadata": {},
   "source": [
    "# Problem 542\n",
    " [Source](https://projecteuler.net/problem=542)"
   ]
  },
  {
   "cell_type": "markdown",
   "id": "c25bcf2a",
   "metadata": {},
   "source": [
    "Let $S(k)$ be the sum of three or more distinct positive integers having the following properties:\n",
    "\n",
    "* No value exceeds $k$.\n",
    "* The values form a\n",
    "  **geometric progression**\n",
    "  .\n",
    "* The sum is maximal.\n",
    "\n",
    "$S(4) = 4 + 2 + 1 = 7$\n",
    "  \n",
    "$S(10) = 9 + 6 + 4 = 19$\n",
    "  \n",
    "$S(12) = 12 + 6 + 3 = 21$\n",
    "  \n",
    "$S(1000) = 1000 + 900 + 810 + 729 = 3439$\n",
    "\n",
    "Let $T(n) = \\sum\\_{k=4}^n (-1)^k S(k)$.\n",
    "  \n",
    "$T(1000) = 2268$\n",
    "\n",
    "Find $T(10^{17})$."
   ]
  },
  {
   "cell_type": "code",
   "execution_count": null,
   "id": "0025bac9",
   "metadata": {},
   "outputs": [],
   "source": [
    "# Problem 542 workspace"
   ]
  },
  {
   "cell_type": "markdown",
   "id": "2106a87f",
   "metadata": {},
   "source": [
    "## Answer: "
   ]
  },
  {
   "cell_type": "markdown",
   "id": "1891acb7",
   "metadata": {},
   "source": [
    "___"
   ]
  },
  {
   "cell_type": "markdown",
   "id": "ceef9d08",
   "metadata": {},
   "source": [
    "# Problem 543\n",
    " [Source](https://projecteuler.net/problem=543)"
   ]
  },
  {
   "cell_type": "markdown",
   "id": "eef11002",
   "metadata": {},
   "source": [
    "Define function $P(n, k) = 1$ if $n$ can be written as the sum of $k$ prime numbers (with repetitions allowed), and $P(n, k) = 0$ otherwise.\n",
    "\n",
    "For example, $P(10,2) = 1$ because $10$ can be written as either $3 + 7$ or $5 + 5$, but $P(11,2) = 0$ because no two primes can sum to $11$.\n",
    "\n",
    "Let $S(n)$ be the sum of all $P(i,k)$ over $1 \\le i,k \\le n$.\n",
    "\n",
    "For example, $S(10) = 20$, $S(100) = 2402$, and $S(1000) = 248838$.\n",
    "\n",
    "Let $F(k)$ be the $k$th Fibonacci number (with $F(0) = 0$ and $F(1) = 1$).\n",
    "\n",
    "Find the sum of all $S(F(k))$ over $3 \\le k \\le 44$."
   ]
  },
  {
   "cell_type": "code",
   "execution_count": null,
   "id": "7ba3e1af",
   "metadata": {},
   "outputs": [],
   "source": [
    "# Problem 543 workspace"
   ]
  },
  {
   "cell_type": "markdown",
   "id": "ad760c41",
   "metadata": {},
   "source": [
    "## Answer: "
   ]
  },
  {
   "cell_type": "markdown",
   "id": "08d98d75",
   "metadata": {},
   "source": [
    "___"
   ]
  },
  {
   "cell_type": "markdown",
   "id": "cf5ee54e",
   "metadata": {},
   "source": [
    "# Problem 544\n",
    " [Source](https://projecteuler.net/problem=544)"
   ]
  },
  {
   "cell_type": "markdown",
   "id": "c8ec5e8e",
   "metadata": {},
   "source": [
    "Let $F(r, c, n)$ be the number of ways to colour a rectangular grid with $r$ rows and $c$ columns using at most $n$ colours such that no two adjacent cells share the same colour. Cells that are diagonal to each other are not considered adjacent.\n",
    "\n",
    "For example, $F(2,2,3) = 18$, $F(2,2,20) = 130340$, and $F(3,4,6) = 102923670$.\n",
    "\n",
    "Let $S(r, c, n) = \\sum\\_{k=1}^{n} F(r, c, k)$.\n",
    "\n",
    "For example, $S(4,4,15) \\bmod 10^9+7 = 325951319$.\n",
    "\n",
    "Find $S(9,10,1112131415) \\bmod 10^9+7$."
   ]
  },
  {
   "cell_type": "code",
   "execution_count": null,
   "id": "497cc730",
   "metadata": {},
   "outputs": [],
   "source": [
    "# Problem 544 workspace"
   ]
  },
  {
   "cell_type": "markdown",
   "id": "01404b7a",
   "metadata": {},
   "source": [
    "## Answer: "
   ]
  },
  {
   "cell_type": "markdown",
   "id": "9940b529",
   "metadata": {},
   "source": [
    "___"
   ]
  },
  {
   "cell_type": "markdown",
   "id": "b37e971b",
   "metadata": {},
   "source": [
    "# Problem 545\n",
    " [Source](https://projecteuler.net/problem=545)"
   ]
  },
  {
   "cell_type": "markdown",
   "id": "435ce029",
   "metadata": {},
   "source": [
    "The sum of the $k$\n",
    "th\n",
    "powers of the first $n$ positive integers can be expressed as a polynomial of degree $k+1$ with rational coefficients, the\n",
    "**Faulhaber's Formulas**\n",
    ":\n",
    "  \n",
    "$1^k + 2^k + ... + n^k = \\sum\\_{i=1}^n i^k = \\sum\\_{i=1}^{k+1} a\\_{i} n^i = a\\_{1} n + a\\_{2} n^2 + ... + a\\_{k} n^k + a\\_{k+1} n^{k + 1}$,\n",
    "  \n",
    "where $a\\_i$'s are rational coefficients that can be written as reduced fractions $p\\_i/q\\_i$ (if $a\\_i = 0$, we shall consider $q\\_i = 1$).\n",
    "\n",
    "For example, $1^4 + 2^4 + ... + n^4 = -\\frac 1 {30} n + \\frac 1 3 n^3 + \\frac 1 2 n^4 + \\frac 1 5 n^5.$\n",
    "\n",
    "Define $D(k)$ as the value of $q\\_1$ for the sum of $k$\n",
    "th\n",
    "powers (i.e. the denominator of the reduced fraction $a\\_1$).\n",
    "  \n",
    "Define $F(m)$ as the $m$\n",
    "th\n",
    "value of $k \\ge 1$ for which $D(k) = 20010$.\n",
    "  \n",
    "You are given $D(4) = 30$ (since $a\\_1 = -1/30$), $D(308) = 20010$, $F(1) = 308$, $F(10) = 96404$.\n",
    "\n",
    "Find $F(10^5)$."
   ]
  },
  {
   "cell_type": "code",
   "execution_count": null,
   "id": "a024a96c",
   "metadata": {},
   "outputs": [],
   "source": [
    "# Problem 545 workspace"
   ]
  },
  {
   "cell_type": "markdown",
   "id": "e0de18ca",
   "metadata": {},
   "source": [
    "## Answer: "
   ]
  },
  {
   "cell_type": "markdown",
   "id": "c1e6d6b2",
   "metadata": {},
   "source": [
    "___"
   ]
  },
  {
   "cell_type": "markdown",
   "id": "41065cf8",
   "metadata": {},
   "source": [
    "# Problem 546\n",
    " [Source](https://projecteuler.net/problem=546)"
   ]
  },
  {
   "cell_type": "markdown",
   "id": "cbf347b0",
   "metadata": {},
   "source": [
    "Define $f\\_k(n) = \\sum\\_{i=0}^n f\\_k(\\lfloor\\frac i k \\rfloor)$ where $f\\_k(0) = 1$ and $\\lfloor x \\rfloor$ denotes the floor function.\n",
    "\n",
    "For example, $f\\_5(10) = 18$, $f\\_7(100) = 1003$, and $f\\_2(10^3) = 264830889564$.\n",
    "\n",
    "Find $(\\sum\\_{k=2}^{10} f\\_k(10^{14})) \\bmod (10^9+7)$."
   ]
  },
  {
   "cell_type": "code",
   "execution_count": null,
   "id": "67287b1a",
   "metadata": {},
   "outputs": [],
   "source": [
    "# Problem 546 workspace"
   ]
  },
  {
   "cell_type": "markdown",
   "id": "51d36fed",
   "metadata": {},
   "source": [
    "## Answer: "
   ]
  },
  {
   "cell_type": "markdown",
   "id": "94833180",
   "metadata": {},
   "source": [
    "___"
   ]
  },
  {
   "cell_type": "markdown",
   "id": "ab3e4ca1",
   "metadata": {},
   "source": [
    "# Problem 547\n",
    " [Source](https://projecteuler.net/problem=547)"
   ]
  },
  {
   "cell_type": "markdown",
   "id": "f5c7f93a",
   "metadata": {},
   "source": [
    "Assuming that two points are chosen randomly (with\n",
    "**uniform distribution**\n",
    ") within a rectangle, it is possible to determine the\n",
    "**expected value**\n",
    "of the distance between these two points.\n",
    "\n",
    "For example, the expected distance between two random points in a unit square is about $0.521405$, while the expected distance between two random points in a rectangle with side lengths $2$ and $3$ is about $1.317067$.\n",
    "\n",
    "Now we define a\n",
    "hollow square lamina\n",
    "of size $n$ to be an integer sized square with side length $n \\ge 3$ consisting of $n^2$ unit squares from which a rectangle consisting of $x \\times y$ unit squares ($1 \\le x,y \\le n - 2$) within the original square has been removed.\n",
    "\n",
    "For $n = 3$ there exists only one hollow square lamina:\n",
    "\n",
    "![0547-holes-1.png](resources/0547-holes-1.png)\n",
    "\n",
    "For $n = 4$ you can find $9$ distinct hollow square laminae, allowing shapes to reappear in rotated or mirrored form:\n",
    "\n",
    "![0547-holes-2.png](resources/0547-holes-2.png)\n",
    "\n",
    "Let $S(n)$ be the sum of the expected distance between two points chosen randomly within each of the possible hollow square laminae of size $n$. The two points have to lie within the area left after removing the inner rectangle, i.e. the gray-colored areas in the illustrations above.\n",
    "\n",
    "For example, $S(3) = 1.6514$ and $S(4) = 19.6564$, rounded to four digits after the decimal point.\n",
    "\n",
    "Find $S(40)$ rounded to four digits after the decimal point."
   ]
  },
  {
   "cell_type": "code",
   "execution_count": null,
   "id": "1197d18b",
   "metadata": {},
   "outputs": [],
   "source": [
    "# Problem 547 workspace"
   ]
  },
  {
   "cell_type": "markdown",
   "id": "4af537a0",
   "metadata": {},
   "source": [
    "## Answer: "
   ]
  },
  {
   "cell_type": "markdown",
   "id": "1595f54c",
   "metadata": {},
   "source": [
    "___"
   ]
  },
  {
   "cell_type": "markdown",
   "id": "2f681a4a",
   "metadata": {},
   "source": [
    "# Problem 548\n",
    " [Source](https://projecteuler.net/problem=548)"
   ]
  },
  {
   "cell_type": "markdown",
   "id": "4a9e3e78",
   "metadata": {},
   "source": [
    "A\n",
    "**gozinta chain**\n",
    "for $n$ is a sequence $\\{1,a,b,\\dots,n\\}$ where each element properly divides the next.\n",
    "  \n",
    "There are eight gozinta chains for $12$:\n",
    "  \n",
    "$\\{1,12\\}$, $\\{1,2,12\\}$, $\\{1,2,4,12\\}$, $\\{1,2,6,12\\}$, $\\{1,3,12\\}$, $\\{1,3,6,12\\}$, $\\{1,4,12\\}$ and $\\{1,6,12\\}$.\n",
    "  \n",
    "Let $g(n)$ be the number of gozinta chains for $n$, so $g(12)=8$.\n",
    "  \n",
    "$g(48)=48$ and $g(120)=132$.\n",
    "\n",
    "Find the sum of the numbers $n$ not exceeding $10^{16}$ for which $g(n)=n$."
   ]
  },
  {
   "cell_type": "code",
   "execution_count": null,
   "id": "91da255f",
   "metadata": {},
   "outputs": [],
   "source": [
    "# Problem 548 workspace"
   ]
  },
  {
   "cell_type": "markdown",
   "id": "fcff96b7",
   "metadata": {},
   "source": [
    "## Answer: "
   ]
  },
  {
   "cell_type": "markdown",
   "id": "62725fe9",
   "metadata": {},
   "source": [
    "___"
   ]
  },
  {
   "cell_type": "markdown",
   "id": "13d848d9",
   "metadata": {},
   "source": [
    "# Problem 549\n",
    " [Source](https://projecteuler.net/problem=549)"
   ]
  },
  {
   "cell_type": "markdown",
   "id": "94c75f3a",
   "metadata": {},
   "source": [
    "The smallest number $m$ such that $10$ divides $m!$ is $m=5$.\n",
    "  \n",
    "The smallest number $m$ such that $25$ divides $m!$ is $m=10$.\n",
    "\n",
    "Let $s(n)$ be the smallest number $m$ such that $n$ divides $m!$.\n",
    "  \n",
    "So $s(10)=5$ and $s(25)=10$.\n",
    "  \n",
    "Let $S(n)$ be $\\sum s(i)$ for $2 \\le i \\le n$.\n",
    "  \n",
    "$S(100)=2012$.\n",
    "\n",
    "Find $S(10^8)$."
   ]
  },
  {
   "cell_type": "code",
   "execution_count": null,
   "id": "deeb43c1",
   "metadata": {},
   "outputs": [],
   "source": [
    "# Problem 549 workspace"
   ]
  },
  {
   "cell_type": "markdown",
   "id": "41821763",
   "metadata": {},
   "source": [
    "## Answer: "
   ]
  },
  {
   "cell_type": "markdown",
   "id": "41aff71e",
   "metadata": {},
   "source": [
    "___"
   ]
  },
  {
   "cell_type": "markdown",
   "id": "d02fe647",
   "metadata": {},
   "source": [
    "# Problem 550\n",
    " [Source](https://projecteuler.net/problem=550)"
   ]
  },
  {
   "cell_type": "markdown",
   "id": "44158810",
   "metadata": {},
   "source": [
    "Two players are playing a game, alternating turns. There are $k$ piles of stones.\n",
    "On each turn, a player has to choose a pile and replace it with two piles of stones under the following two conditions:\n",
    "\n",
    "* Both new piles must have a number of stones more than one and less than the number of stones of the original pile.\n",
    "* The number of stones of each of the new piles must be a divisor of the number of stones of the original pile.\n",
    "\n",
    "The first player unable to make a valid move loses.\n",
    "  \n",
    "Let $f(n,k)$ be the number of winning positions for the first player, assuming perfect play, when the game is played with $k$ piles each having between $2$ and $n$ stones (inclusively).\n",
    "  \n",
    "$f(10,5)=40085$.\n",
    "\n",
    "Find $f(10^7,10^{12})$.\n",
    "  \n",
    "Give your answer modulo $987654321$."
   ]
  },
  {
   "cell_type": "code",
   "execution_count": null,
   "id": "98c6da2a",
   "metadata": {},
   "outputs": [],
   "source": [
    "# Problem 550 workspace"
   ]
  },
  {
   "cell_type": "markdown",
   "id": "6fa84872",
   "metadata": {},
   "source": [
    "## Answer: "
   ]
  },
  {
   "cell_type": "markdown",
   "id": "4408d167",
   "metadata": {},
   "source": [
    "___"
   ]
  }
 ],
 "metadata": {},
 "nbformat": 4,
 "nbformat_minor": 5
}
