{
 "cells": [
  {
   "cell_type": "markdown",
   "id": "67b382ef",
   "metadata": {},
   "source": [
    "# Problem 441\n",
    " [Source](https://projecteuler.net/problem=441)"
   ]
  },
  {
   "cell_type": "markdown",
   "id": "318909c9",
   "metadata": {},
   "source": [
    "For an integer $M$, we define $R(M)$ as the sum of $1/(p \\cdot q)$ for all the integer pairs $p$ and $q$ which satisfy all of these conditions:\n",
    "\n",
    "* $1 \\leq p \\lt q \\leq M$\n",
    "* $p + q \\geq M$\n",
    "* $p$ and $q$ are coprime.\n",
    "\n",
    "We also define $S(N)$ as the sum of $R(i)$ for $2 \\leq i \\leq N$.\n",
    "  \n",
    "We can verify that $S(2) = R(2) = 1/2$, $S(10) \\approx 6.9147$ and $S(100) \\approx 58.2962$.\n",
    "\n",
    "Find $S(10^7)$. Give your answer rounded to four decimal places."
   ]
  },
  {
   "cell_type": "code",
   "execution_count": null,
   "id": "4e4d2560",
   "metadata": {},
   "outputs": [],
   "source": [
    "# Problem 441 workspace"
   ]
  },
  {
   "cell_type": "markdown",
   "id": "43148466",
   "metadata": {},
   "source": [
    "## Answer: "
   ]
  },
  {
   "cell_type": "markdown",
   "id": "194f64a3",
   "metadata": {},
   "source": [
    "___"
   ]
  },
  {
   "cell_type": "markdown",
   "id": "37dc95a8",
   "metadata": {},
   "source": [
    "# Problem 442\n",
    " [Source](https://projecteuler.net/problem=442)"
   ]
  },
  {
   "cell_type": "markdown",
   "id": "1bf5f51b",
   "metadata": {},
   "source": [
    "An integer is called\n",
    "eleven-free\n",
    "if its decimal expansion does not contain any substring representing a power of $11$ except $1$.\n",
    "\n",
    "For example, $2404$ and $13431$ are eleven-free, while $911$ and $4121331$ are not.\n",
    "\n",
    "Let $E(n)$ be the $n$th positive eleven-free integer. For example, $E(3) = 3$, $E(200) = 213$ and $E(500\\,000) = 531563$.\n",
    "\n",
    "Find $E(10^{18})$."
   ]
  },
  {
   "cell_type": "code",
   "execution_count": null,
   "id": "1fe5d92e",
   "metadata": {},
   "outputs": [],
   "source": [
    "# Problem 442 workspace"
   ]
  },
  {
   "cell_type": "markdown",
   "id": "84044cce",
   "metadata": {},
   "source": [
    "## Answer: "
   ]
  },
  {
   "cell_type": "markdown",
   "id": "9186c6d3",
   "metadata": {},
   "source": [
    "___"
   ]
  },
  {
   "cell_type": "markdown",
   "id": "e2bdc97d",
   "metadata": {},
   "source": [
    "# Problem 443\n",
    " [Source](https://projecteuler.net/problem=443)"
   ]
  },
  {
   "cell_type": "markdown",
   "id": "3c256915",
   "metadata": {},
   "source": [
    "Let $g(n)$ be a sequence defined as follows:\n",
    "  \n",
    "$g(4) = 13$,\n",
    "  \n",
    "$g(n) = g(n-1) + \\gcd(n, g(n-1))$ for $n \\gt 4$.\n",
    "\n",
    "The first few values are:\n",
    "\n",
    "|  |  |  |  |  |  |  |  |  |  |  |  |  |  |  |  |  |  |  |\n",
    "| --- | --- | --- | --- | --- | --- | --- | --- | --- | --- | --- | --- | --- | --- | --- | --- | --- | --- | --- |\n",
    "| $n$ | 4 | 5 | 6 | 7 | 8 | 9 | 10 | 11 | 12 | 13 | 14 | 15 | 16 | 17 | 18 | 19 | 20 | ... |\n",
    "| $g(n)$ | 13 | 14 | 16 | 17 | 18 | 27 | 28 | 29 | 30 | 31 | 32 | 33 | 34 | 51 | 54 | 55 | 60 | ... |\n",
    "\n",
    "You are given that $g(1\\,000) = 2524$ and $g(1\\,000\\,000) = 2624152$.\n",
    "\n",
    "Find $g(10^{15})$."
   ]
  },
  {
   "cell_type": "code",
   "execution_count": null,
   "id": "1471db2a",
   "metadata": {},
   "outputs": [],
   "source": [
    "# Problem 443 workspace"
   ]
  },
  {
   "cell_type": "markdown",
   "id": "5383ce6f",
   "metadata": {},
   "source": [
    "## Answer: "
   ]
  },
  {
   "cell_type": "markdown",
   "id": "edf540b6",
   "metadata": {},
   "source": [
    "___"
   ]
  },
  {
   "cell_type": "markdown",
   "id": "73760aa2",
   "metadata": {},
   "source": [
    "# Problem 444\n",
    " [Source](https://projecteuler.net/problem=444)"
   ]
  },
  {
   "cell_type": "markdown",
   "id": "bf7253b8",
   "metadata": {},
   "source": [
    "A group of $p$ people decide to sit down at a round table and play a lottery-ticket trading game. Each person starts off with a randomly-assigned, unscratched lottery ticket. Each ticket, when scratched, reveals a whole-pound prize ranging anywhere from £1 to £$p$, with no two tickets alike. The goal of the game is for all of the players to maximize the winnings of the ticket they hold upon leaving the game.\n",
    "\n",
    "An arbitrary person is chosen to be the first player. Going around the table, each player has only one of two options:\n",
    "\n",
    "1. The player can choose to scratch the ticket and reveal its worth to everyone at the table.\n",
    "2. If the player's ticket is unscratched, then the player may trade it with a previous player's scratched ticket, and then leaves the game with that ticket. The previous player then scratches the newly-acquired ticket and reveals its worth to everyone at the table.\n",
    "\n",
    "The game ends once all tickets have been scratched. All players still remaining at the table must leave with their currently-held tickets.\n",
    "\n",
    "Assume that players will use the optimal strategy for maximizing the expected value of their ticket winnings.\n",
    "\n",
    "Let $E(p)$ represent the expected number of players left at the table when the game ends in a game consisting of $p$ players.\n",
    "  \n",
    "E.g. $E(111) = 5.2912$ when rounded to 5 significant digits.\n",
    "\n",
    "Let $S\\_1(N) = \\sum \\limits\\_{p = 1}^{N} {E(p)}$.\n",
    "  \n",
    "Let $S\\_k(N) = \\sum \\limits\\_{p = 1}^{N} {S\\_{k-1}(p)}$ for $k \\gt 1$.\n",
    "\n",
    "Find $S\\_{20}(10^{14})$ and write the answer in scientific notation rounded to 10 significant digits. Use a lowercase e to separate mantissa and exponent. For example, the answer for $S\\_3(100)$ would be 5.983679014e5."
   ]
  },
  {
   "cell_type": "code",
   "execution_count": null,
   "id": "84edc7dd",
   "metadata": {},
   "outputs": [],
   "source": [
    "# Problem 444 workspace"
   ]
  },
  {
   "cell_type": "markdown",
   "id": "4f90b049",
   "metadata": {},
   "source": [
    "## Answer: "
   ]
  },
  {
   "cell_type": "markdown",
   "id": "482e8da8",
   "metadata": {},
   "source": [
    "___"
   ]
  },
  {
   "cell_type": "markdown",
   "id": "340ddab2",
   "metadata": {},
   "source": [
    "# Problem 445\n",
    " [Source](https://projecteuler.net/problem=445)"
   ]
  },
  {
   "cell_type": "markdown",
   "id": "a2e5915f",
   "metadata": {},
   "source": [
    "For every integer $n>1$, the family of functions $f\\_{n,a,b}$ is defined\n",
    "by\n",
    "  \n",
    "$f\\_{n,a,b}(x)\\equiv a x + b \\mod n\\,\\,\\, $ for $a,b,x$ integer and $0< a <n, 0 \\le b < n,0 \\le x < n$.\n",
    "\n",
    "We will call $f\\_{n,a,b}$ a\n",
    "*retraction*\n",
    "if $\\,\\,\\, f\\_{n,a,b}(f\\_{n,a,b}(x)) \\equiv f\\_{n,a,b}(x) \\mod n \\,\\,\\,$ for every $0 \\le x < n$.\n",
    "  \n",
    "Let $R(n)$ be the number of retractions for $n$.\n",
    "\n",
    "You are given that\n",
    "  \n",
    "$\\displaystyle \\sum\\_{k=1}^{99\\,999} R(\\binom {100\\,000} k) \\equiv 628701600 \\mod 1\\,000\\,000\\,007$.\n",
    "\n",
    "Find $\\displaystyle \\sum\\_{k=1}^{9\\,999\\,999} R(\\binom {10\\,000\\,000} k)$.\n",
    "  \n",
    "Give your answer modulo $1\\,000\\,000\\,007$."
   ]
  },
  {
   "cell_type": "code",
   "execution_count": null,
   "id": "25dac386",
   "metadata": {},
   "outputs": [],
   "source": [
    "# Problem 445 workspace"
   ]
  },
  {
   "cell_type": "markdown",
   "id": "6f0a6a1f",
   "metadata": {},
   "source": [
    "## Answer: "
   ]
  },
  {
   "cell_type": "markdown",
   "id": "9496f3fc",
   "metadata": {},
   "source": [
    "___"
   ]
  },
  {
   "cell_type": "markdown",
   "id": "b87c09fb",
   "metadata": {},
   "source": [
    "# Problem 446\n",
    " [Source](https://projecteuler.net/problem=446)"
   ]
  },
  {
   "cell_type": "markdown",
   "id": "41d705a8",
   "metadata": {},
   "source": [
    "For every integer $n>1$, the family of functions $f\\_{n,a,b}$ is defined\n",
    "by\n",
    "  \n",
    "$f\\_{n,a,b}(x)\\equiv a x + b \\mod n\\,\\,\\, $ for $a,b,x$ integer and $0< a <n, 0 \\le b < n,0 \\le x < n$.\n",
    "\n",
    "We will call $f\\_{n,a,b}$ a\n",
    "*retraction*\n",
    "if $\\,\\,\\, f\\_{n,a,b}(f\\_{n,a,b}(x)) \\equiv f\\_{n,a,b}(x) \\mod n \\,\\,\\,$ for every $0 \\le x < n$.\n",
    "  \n",
    "Let $R(n)$ be the number of retractions for $n$.\n",
    "\n",
    "$\\displaystyle F(N)=\\sum\\_{n=1}^NR(n^4+4)$.\n",
    "  \n",
    "$F(1024)=77532377300600$.\n",
    "\n",
    "Find $F(10^7)$.\n",
    "  \n",
    "Give your answer modulo $1\\,000\\,000\\,007$."
   ]
  },
  {
   "cell_type": "code",
   "execution_count": null,
   "id": "16ae4ba6",
   "metadata": {},
   "outputs": [],
   "source": [
    "# Problem 446 workspace"
   ]
  },
  {
   "cell_type": "markdown",
   "id": "08598847",
   "metadata": {},
   "source": [
    "## Answer: "
   ]
  },
  {
   "cell_type": "markdown",
   "id": "d63ab0c9",
   "metadata": {},
   "source": [
    "___"
   ]
  },
  {
   "cell_type": "markdown",
   "id": "ee037f07",
   "metadata": {},
   "source": [
    "# Problem 447\n",
    " [Source](https://projecteuler.net/problem=447)"
   ]
  },
  {
   "cell_type": "markdown",
   "id": "581b9526",
   "metadata": {},
   "source": [
    "For every integer $n>1$, the family of functions $f\\_{n,a,b}$ is defined\n",
    "by\n",
    "  \n",
    "$f\\_{n,a,b}(x)\\equiv a x + b \\mod n\\,\\,\\, $ for $a,b,x$ integer and $0< a <n, 0 \\le b < n,0 \\le x < n$.\n",
    "\n",
    "We will call $f\\_{n,a,b}$ a\n",
    "*retraction*\n",
    "if $\\,\\,\\, f\\_{n,a,b}(f\\_{n,a,b}(x)) \\equiv f\\_{n,a,b}(x) \\mod n \\,\\,\\,$ for every $0 \\le x < n$.\n",
    "  \n",
    "Let $R(n)$ be the number of retractions for $n$.\n",
    "\n",
    "$\\displaystyle F(N)=\\sum\\_{n=2}^N R(n)$.\n",
    "  \n",
    "$F(10^7)\\equiv 638042271 \\mod 1\\,000\\,000\\,007$.\n",
    "\n",
    "Find $F(10^{14})$.\n",
    "  \n",
    "Give your answer modulo $1\\,000\\,000\\,007$."
   ]
  },
  {
   "cell_type": "code",
   "execution_count": null,
   "id": "dbf6be2d",
   "metadata": {},
   "outputs": [],
   "source": [
    "# Problem 447 workspace"
   ]
  },
  {
   "cell_type": "markdown",
   "id": "75988583",
   "metadata": {},
   "source": [
    "## Answer: "
   ]
  },
  {
   "cell_type": "markdown",
   "id": "d247b8f7",
   "metadata": {},
   "source": [
    "___"
   ]
  },
  {
   "cell_type": "markdown",
   "id": "3c6fdebd",
   "metadata": {},
   "source": [
    "# Problem 448\n",
    " [Source](https://projecteuler.net/problem=448)"
   ]
  },
  {
   "cell_type": "markdown",
   "id": "df34235c",
   "metadata": {},
   "source": [
    "The function $\\operatorname{\\mathbf{lcm}}(a,b)$ denotes the least common multiple of $a$ and $b$.\n",
    "  \n",
    "Let $A(n)$ be the average of the values of $\\operatorname{lcm}(n,i)$ for $1 \\le i \\le n$.\n",
    "  \n",
    "E.g: $A(2)=(2+2)/2=2$ and $A(10)=(10+10+30+20+10+30+70+40+90+10)/10=32$.\n",
    "\n",
    "Let $S(n)=\\sum A(k)$ for $1 \\le k \\le n$.\n",
    "  \n",
    "$S(100)=122726$.\n",
    "\n",
    "Find $S(99999999019) \\bmod 999999017$."
   ]
  },
  {
   "cell_type": "code",
   "execution_count": null,
   "id": "c6e0dff3",
   "metadata": {},
   "outputs": [],
   "source": [
    "# Problem 448 workspace"
   ]
  },
  {
   "cell_type": "markdown",
   "id": "0ef15e21",
   "metadata": {},
   "source": [
    "## Answer: "
   ]
  },
  {
   "cell_type": "markdown",
   "id": "8c527db4",
   "metadata": {},
   "source": [
    "___"
   ]
  },
  {
   "cell_type": "markdown",
   "id": "f0f6c2e8",
   "metadata": {},
   "source": [
    "# Problem 449\n",
    " [Source](https://projecteuler.net/problem=449)"
   ]
  },
  {
   "cell_type": "markdown",
   "id": "902bfd0a",
   "metadata": {},
   "source": [
    "Phil the confectioner is making a new batch of chocolate covered candy. Each candy centre is shaped like an ellipsoid of revolution defined by the equation:\n",
    "$b^2 x^2 + b^2 y^2 + a^2 z^2 = a^2 b^2$.\n",
    "\n",
    "Phil wants to know how much chocolate is needed to cover one candy centre with a uniform coat of chocolate one millimeter thick.\n",
    "\n",
    "If $a = 1$ mm and $b = 1$ mm, the amount of chocolate required is $\\dfrac{28}{3} \\pi$ mm\n",
    "3\n",
    "\n",
    "If $a = 2$ mm and $b = 1$ mm, the amount of chocolate required is approximately 60.35475635 mm\n",
    "3\n",
    ".\n",
    "\n",
    "Find the amount of chocolate in mm\n",
    "3\n",
    "required if $a = 3$ mm and $b =1$ mm. Give your answer as the number rounded to 8 decimal places behind the decimal point."
   ]
  },
  {
   "cell_type": "code",
   "execution_count": null,
   "id": "91e32c3d",
   "metadata": {},
   "outputs": [],
   "source": [
    "# Problem 449 workspace"
   ]
  },
  {
   "cell_type": "markdown",
   "id": "a8305d1d",
   "metadata": {},
   "source": [
    "## Answer: "
   ]
  },
  {
   "cell_type": "markdown",
   "id": "bd2b10e3",
   "metadata": {},
   "source": [
    "___"
   ]
  },
  {
   "cell_type": "markdown",
   "id": "eb189346",
   "metadata": {},
   "source": [
    "# Problem 450\n",
    " [Source](https://projecteuler.net/problem=450)"
   ]
  },
  {
   "cell_type": "markdown",
   "id": "80a99b17",
   "metadata": {},
   "source": [
    "A hypocycloid is the curve drawn by a point on a small circle rolling inside a larger circle. The parametric equations of a hypocycloid centered at the origin, and starting at the right most point is given by:\n",
    "\n",
    "$$x(t) = (R - r) \\cos(t) + r \\cos(\\frac {R - r} r t)$$\n",
    "$$y(t) = (R - r) \\sin(t) - r \\sin(\\frac {R - r} r t)$$\n",
    "\n",
    "Where $R$ is the radius of the large circle and $r$ the radius of the small circle.\n",
    "\n",
    "Let $C(R, r)$ be the set of distinct points with integer coordinates on the hypocycloid with radius\n",
    "R\n",
    "and\n",
    "r\n",
    "and for which there is a corresponding value of\n",
    "t\n",
    "such that $\\sin(t)$ and $\\cos(t)$ are rational numbers.\n",
    "\n",
    "Let $S(R, r) = \\sum\\_{(x,y) \\in C(R, r)} |x| + |y|$ be the sum of the absolute values of the $x$ and $y$ coordinates of the points in $C(R, r)$.\n",
    "\n",
    "Let $T(N) = \\sum\\_{R = 3}^N \\sum\\_{r=1}^{\\lfloor \\frac {R - 1} 2 \\rfloor} S(R, r)$ be the sum of $S(R, r)$ for\n",
    "R\n",
    "and\n",
    "r\n",
    "positive integers, $R\\leq N$ and $2r < R$.\n",
    "\n",
    "You are given:\n",
    "\n",
    "|  |  |  |\n",
    "| --- | --- | --- |\n",
    "| $C(3, 1)$ | = | $\\{(3, 0), (-1, 2), (-1,0), (-1,-2)\\}$ |\n",
    "| $C(2500, 1000)$ | = | $\\{(2500, 0), (772, 2376), (772, -2376), (516, 1792), (516, -1792), (500, 0), (68, 504), (68, -504),$ |\n",
    "|  | | $(-1356, 1088), (-1356, -1088), (-1500, 1000), (-1500, -1000)\\}$ |\n",
    "\n",
    "*Note:*\n",
    "$(-625, 0)$ is not an element of $C(2500, 1000)$ because $\\sin(t)$ is not a rational number for the corresponding values of $t$.\n",
    "\n",
    "$S(3, 1) = (|3| + |0|) + (|-1| + |2|) + (|-1| + |0|) + (|-1| + |-2|) = 10$\n",
    "\n",
    "$T(3) = 10; T(10) = 524; T(100) = 580442; T(10^3) = 583108600$.\n",
    "\n",
    "Find $T(10^6)$."
   ]
  },
  {
   "cell_type": "code",
   "execution_count": null,
   "id": "f4f119ab",
   "metadata": {},
   "outputs": [],
   "source": [
    "# Problem 450 workspace"
   ]
  },
  {
   "cell_type": "markdown",
   "id": "db6cb363",
   "metadata": {},
   "source": [
    "## Answer: "
   ]
  },
  {
   "cell_type": "markdown",
   "id": "f8f237aa",
   "metadata": {},
   "source": [
    "___"
   ]
  }
 ],
 "metadata": {},
 "nbformat": 4,
 "nbformat_minor": 5
}
