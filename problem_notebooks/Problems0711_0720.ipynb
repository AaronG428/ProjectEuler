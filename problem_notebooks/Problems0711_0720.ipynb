{
 "cells": [
  {
   "cell_type": "markdown",
   "id": "589299e7",
   "metadata": {},
   "source": [
    "# Problem 711\n",
    " [Source](https://projecteuler.net/problem=711)"
   ]
  },
  {
   "cell_type": "markdown",
   "id": "d16d2da0",
   "metadata": {},
   "source": [
    "Oscar and Eric play the following game. First, they agree on a positive integer $n$, and they begin by writing its binary representation on a blackboard. They then take turns, with Oscar going first, to write a number on the blackboard in binary representation, such that the sum of all written numbers does not exceed $2n$.\n",
    "\n",
    "The game ends when there are no valid moves left. Oscar wins if the number of $1$s on the blackboard is odd, and Eric wins if it is even.\n",
    "\n",
    "Let $S(N)$ be the sum of all $n \\le 2^N$ for which Eric can guarantee winning, assuming optimal play.\n",
    "\n",
    "For example, the first few values of $n$ for which Eric can guarantee winning are $1,3,4,7,15,16$. Hence $S(4)=46$.\n",
    "  \n",
    "You are also given that $S(12) = 54532$ and $S(1234) \\equiv 690421393 \\pmod{1\\,000\\,000\\,007}$.\n",
    "\n",
    "Find $S(12\\,345\\,678)$. Give your answer modulo $1\\,000\\,000\\,007$."
   ]
  },
  {
   "cell_type": "code",
   "execution_count": null,
   "id": "80564d7a",
   "metadata": {},
   "outputs": [],
   "source": [
    "# Problem 711 workspace"
   ]
  },
  {
   "cell_type": "markdown",
   "id": "7e2995a1",
   "metadata": {},
   "source": [
    "## Answer: "
   ]
  },
  {
   "cell_type": "markdown",
   "id": "1c9e6539",
   "metadata": {},
   "source": [
    "___"
   ]
  },
  {
   "cell_type": "markdown",
   "id": "8fb23413",
   "metadata": {},
   "source": [
    "# Problem 712\n",
    " [Source](https://projecteuler.net/problem=712)"
   ]
  },
  {
   "cell_type": "markdown",
   "id": "6130369e",
   "metadata": {},
   "source": [
    "For any integer $n>0$ and prime number $p,$ define $\\nu\\_p(n)$ as the greatest integer $r$ such that $p^r$ divides $n$.\n",
    "\n",
    "Define $$D(n, m) = \\sum\\_{p \\text{ prime}} \\left| \\nu\\_p(n) - \\nu\\_p(m)\\right|.$$ For example, $D(14,24) = 4$.\n",
    "\n",
    "Furthermore, define $$S(N) = \\sum\\_{1 \\le n, m \\le N} D(n, m).$$ You are given $S(10) = 210$ and $S(10^2) = 37018$.\n",
    "\n",
    "Find $S(10^{12})$. Give your answer modulo $1\\,000\\,000\\,007$."
   ]
  },
  {
   "cell_type": "code",
   "execution_count": null,
   "id": "32a6f76f",
   "metadata": {},
   "outputs": [],
   "source": [
    "# Problem 712 workspace"
   ]
  },
  {
   "cell_type": "markdown",
   "id": "8237beee",
   "metadata": {},
   "source": [
    "## Answer: "
   ]
  },
  {
   "cell_type": "markdown",
   "id": "200558e2",
   "metadata": {},
   "source": [
    "___"
   ]
  },
  {
   "cell_type": "markdown",
   "id": "0708475f",
   "metadata": {},
   "source": [
    "# Problem 713\n",
    " [Source](https://projecteuler.net/problem=713)"
   ]
  },
  {
   "cell_type": "markdown",
   "id": "05f9800e",
   "metadata": {},
   "source": [
    "Turan has the electrical water heating system outside his house in a shed. The electrical system uses two fuses in series, one in the house and one in the shed. (Nowadays old fashioned fuses are often replaced with reusable mini circuit breakers, but Turan's system still uses old fashioned fuses.)\n",
    "For the heating system to work both fuses must work.\n",
    "\n",
    "Turan has $N$ fuses. He knows that $m$ of them are working and the rest are blown. However, he doesn't know which ones are blown. So he tries different combinations until the heating system turns on.\n",
    "  \n",
    "We denote by $T(N,m)$ the smallest number of tries required to\n",
    "*ensure*\n",
    "the heating system turns on.\n",
    "  \n",
    "$T(3,2)=3$ and $T(8,4)=7$.\n",
    "\n",
    "Let $L(N)$ be the sum of all $T(N, m)$ for $2 \\leq m \\leq N$.\n",
    "  \n",
    "$L(10^3)=3281346$.\n",
    "\n",
    "Find $L(10^7)$."
   ]
  },
  {
   "cell_type": "code",
   "execution_count": null,
   "id": "9f7a2b85",
   "metadata": {},
   "outputs": [],
   "source": [
    "# Problem 713 workspace"
   ]
  },
  {
   "cell_type": "markdown",
   "id": "c5319cb5",
   "metadata": {},
   "source": [
    "## Answer: "
   ]
  },
  {
   "cell_type": "markdown",
   "id": "147df11f",
   "metadata": {},
   "source": [
    "___"
   ]
  },
  {
   "cell_type": "markdown",
   "id": "05e70896",
   "metadata": {},
   "source": [
    "# Problem 714\n",
    " [Source](https://projecteuler.net/problem=714)"
   ]
  },
  {
   "cell_type": "markdown",
   "id": "0afe2179",
   "metadata": {},
   "source": [
    "We call a natural number a\n",
    "duodigit\n",
    "if its decimal representation uses no more than two different digits.\n",
    "For example, $12$, $110$ and $33333$ are duodigits, while $102$ is not.\n",
    "  \n",
    "It can be shown that every natural number has duodigit multiples. Let $d(n)$ be the smallest (positive) multiple of the number $n$ that happens to be a duodigit. For example, $d(12)=12$, $d(102)=1122$, $d(103)=515$, $d(290)=11011010$ and $d(317)=211122$.\n",
    "\n",
    "Let $\\displaystyle D(k)=\\sum\\_{n=1}^k d(n)$. You are given $D(110)=11\\,047$, $D(150)=53\\,312$ and $D(500)=29\\,570\\,988$.\n",
    "\n",
    "Find $D(50\\,000)$. Give your answer in scientific notation rounded to $13$ significant digits ($12$ after the decimal point). If, for example, we had asked for $D(500)$ instead, the answer format would have been 2.957098800000e7."
   ]
  },
  {
   "cell_type": "code",
   "execution_count": null,
   "id": "d182b47f",
   "metadata": {},
   "outputs": [],
   "source": [
    "# Problem 714 workspace"
   ]
  },
  {
   "cell_type": "markdown",
   "id": "05e94a97",
   "metadata": {},
   "source": [
    "## Answer: "
   ]
  },
  {
   "cell_type": "markdown",
   "id": "e1f3d9de",
   "metadata": {},
   "source": [
    "___"
   ]
  },
  {
   "cell_type": "markdown",
   "id": "6b3a5782",
   "metadata": {},
   "source": [
    "# Problem 715\n",
    " [Source](https://projecteuler.net/problem=715)"
   ]
  },
  {
   "cell_type": "markdown",
   "id": "efbc88c0",
   "metadata": {},
   "source": [
    "Let $f(n)$ be the number of $6$-tuples $(x\\_1,x\\_2,x\\_3,x\\_4,x\\_5,x\\_6)$ such that:\n",
    "\n",
    "* All $x\\_i$ are integers with $0 \\leq x\\_i < n$\n",
    "* $\\gcd(x\\_1^2+x\\_2^2+x\\_3^2+x\\_4^2+x\\_5^2+x\\_6^2,\\ n^2)=1$\n",
    "\n",
    "Let $\\displaystyle G(n)=\\displaystyle\\sum\\_{k=1}^n \\frac{f(k)}{k^2\\varphi(k)}$\n",
    "  \n",
    "where $\\varphi(n)$ is Euler's totient function.\n",
    "\n",
    "For example, $G(10)=3053$ and $G(10^5) \\equiv 157612967 \\pmod{1\\,000\\,000\\,007}$.\n",
    "\n",
    "Find $G(10^{12})\\bmod 1\\,000\\,000\\,007$."
   ]
  },
  {
   "cell_type": "code",
   "execution_count": null,
   "id": "de4ce536",
   "metadata": {},
   "outputs": [],
   "source": [
    "# Problem 715 workspace"
   ]
  },
  {
   "cell_type": "markdown",
   "id": "9989059d",
   "metadata": {},
   "source": [
    "## Answer: "
   ]
  },
  {
   "cell_type": "markdown",
   "id": "80227ad8",
   "metadata": {},
   "source": [
    "___"
   ]
  },
  {
   "cell_type": "markdown",
   "id": "21245944",
   "metadata": {},
   "source": [
    "# Problem 716\n",
    " [Source](https://projecteuler.net/problem=716)"
   ]
  },
  {
   "cell_type": "markdown",
   "id": "b7ff7fc1",
   "metadata": {},
   "source": [
    "Consider a directed graph made from an orthogonal lattice of $H\\times W$ nodes.\n",
    "The edges are the horizontal and vertical connections between adjacent nodes.\n",
    "$W$ vertical directed lines are drawn and all the edges on these lines inherit that direction. Similarly, $H$ horizontal directed lines are drawn and all the edges on these lines inherit that direction.\n",
    "\n",
    "Two nodes, $A$ and $B$ in a directed graph, are\n",
    "**strongly connected**\n",
    "if there is both a path, along the directed edges, from $A$ to $B$ as well as from $B$ to $A$. Note that every node is strongly connected to itself.\n",
    "\n",
    "A\n",
    "**strongly connected component**\n",
    "in a directed graph is a non-empty set $M$ of nodes satisfying the following two properties:\n",
    "\n",
    "* All nodes in $M$ are strongly connected to each other.\n",
    "* $M$ is maximal, in the sense that no node in $M$ is strongly connected to any node outside of $M$.\n",
    "\n",
    "There are $2^H\\times 2^W$ ways of drawing the directed lines. Each way gives a directed graph $\\mathcal{G}$. We define $S(\\mathcal{G})$ to be the number of strongly connected components in $\\mathcal{G}$.\n",
    "\n",
    "The illustration below shows a directed graph with $H=3$ and $W=4$ that consists of four different strongly connected components (indicated by the different colours).\n",
    "\n",
    "![](resources/0716_gridgraphics.jpg)\n",
    "\n",
    "Define $C(H,W)$ to be the sum of $S(\\mathcal{G})$ for all possible graphs on a grid of $H\\times W$. You are given $C(3,3) = 408$, $C(3,6) = 4696$ and $C(10,20) \\equiv 988971143 \\pmod{1\\,000\\,000\\,007}$.\n",
    "\n",
    "Find $C(10\\,000,20\\,000)$ giving your answer modulo $1\\,000\\,000\\,007$."
   ]
  },
  {
   "cell_type": "code",
   "execution_count": null,
   "id": "2ec1dd71",
   "metadata": {},
   "outputs": [],
   "source": [
    "# Problem 716 workspace"
   ]
  },
  {
   "cell_type": "markdown",
   "id": "1a8d20f2",
   "metadata": {},
   "source": [
    "## Answer: "
   ]
  },
  {
   "cell_type": "markdown",
   "id": "d522af09",
   "metadata": {},
   "source": [
    "___"
   ]
  },
  {
   "cell_type": "markdown",
   "id": "a0f5d9da",
   "metadata": {},
   "source": [
    "# Problem 717\n",
    " [Source](https://projecteuler.net/problem=717)"
   ]
  },
  {
   "cell_type": "markdown",
   "id": "cce0eb27",
   "metadata": {},
   "source": [
    "For an odd prime $p$, define $f(p) = \\left\\lfloor\\frac{2^{(2^p)}}{p}\\right\\rfloor\\bmod{2^p}$\n",
    "  \n",
    "For example, when $p=3$, $\\lfloor 2^8/3\\rfloor = 85 \\equiv 5 \\pmod 8$ and so $f(3) = 5$.\n",
    "\n",
    "Further define $g(p) = f(p)\\bmod p$. You are given $g(31) = 17$.\n",
    "\n",
    "Now define $G(N)$ to be the summation of $g(p)$ for all odd primes less than $N$.\n",
    "  \n",
    "You are given $G(100) = 474$ and $G(10^4) = 2819236$.\n",
    "\n",
    "Find $G(10^7)$."
   ]
  },
  {
   "cell_type": "code",
   "execution_count": null,
   "id": "c763fd40",
   "metadata": {},
   "outputs": [],
   "source": [
    "# Problem 717 workspace"
   ]
  },
  {
   "cell_type": "markdown",
   "id": "7f43987c",
   "metadata": {},
   "source": [
    "## Answer: "
   ]
  },
  {
   "cell_type": "markdown",
   "id": "b984466d",
   "metadata": {},
   "source": [
    "___"
   ]
  },
  {
   "cell_type": "markdown",
   "id": "f1232a8f",
   "metadata": {},
   "source": [
    "# Problem 718\n",
    " [Source](https://projecteuler.net/problem=718)"
   ]
  },
  {
   "cell_type": "markdown",
   "id": "4733a848",
   "metadata": {},
   "source": [
    "Consider the equation\n",
    "$17^pa+19^pb+23^pc = n$ where $a$, $b$, $c$ and $p$ are positive integers, i.e.\n",
    "$a,b,c,p \\gt 0$.\n",
    "\n",
    "For a given $p$ there are some values of $n > 0$ for which the equation cannot be solved. We call these\n",
    "unreachable values\n",
    ".\n",
    "\n",
    "Define $G(p)$ to be the sum of all unreachable values of $n$ for the given value of $p$. For example $G(1) = 8253$ and $G(2)= 60258000$.\n",
    "\n",
    "Find $G(6)$. Give your answer modulo $1\\,000\\,000\\,007$."
   ]
  },
  {
   "cell_type": "code",
   "execution_count": null,
   "id": "d382a737",
   "metadata": {},
   "outputs": [],
   "source": [
    "# Problem 718 workspace"
   ]
  },
  {
   "cell_type": "markdown",
   "id": "82df3eb7",
   "metadata": {},
   "source": [
    "## Answer: "
   ]
  },
  {
   "cell_type": "markdown",
   "id": "69ee68b9",
   "metadata": {},
   "source": [
    "___"
   ]
  },
  {
   "cell_type": "markdown",
   "id": "ea23e21c",
   "metadata": {},
   "source": [
    "# Problem 719\n",
    " [Source](https://projecteuler.net/problem=719)"
   ]
  },
  {
   "cell_type": "markdown",
   "id": "bbec5644",
   "metadata": {},
   "source": [
    "We define an $S$-number to be a natural number, $n$, that is a perfect square and its square root can be obtained by splitting the decimal representation of $n$ into $2$ or more numbers then adding the numbers.\n",
    "\n",
    "For example, $81$ is an $S$-number because $\\sqrt{81} = 8+1$.\n",
    "  \n",
    "$6724$ is an $S$-number: $\\sqrt{6724} = 6+72+4$.\n",
    "  \n",
    "$8281$ is an $S$-number: $\\sqrt{8281} = 8+2+81 = 82+8+1$.\n",
    "  \n",
    "$9801$ is an $S$-number: $\\sqrt{9801}=98+0+1$.\n",
    "\n",
    "Further we define $T(N)$ to be the sum of all $S$ numbers $n\\le N$. You are given $T(10^4) = 41333$.\n",
    "\n",
    "Find $T(10^{12})$."
   ]
  },
  {
   "cell_type": "code",
   "execution_count": null,
   "id": "39e55124",
   "metadata": {},
   "outputs": [],
   "source": [
    "# Problem 719 workspace"
   ]
  },
  {
   "cell_type": "markdown",
   "id": "fc4d7d91",
   "metadata": {},
   "source": [
    "## Answer: "
   ]
  },
  {
   "cell_type": "markdown",
   "id": "5b38c491",
   "metadata": {},
   "source": [
    "___"
   ]
  },
  {
   "cell_type": "markdown",
   "id": "2e529f4f",
   "metadata": {},
   "source": [
    "# Problem 720\n",
    " [Source](https://projecteuler.net/problem=720)"
   ]
  },
  {
   "cell_type": "markdown",
   "id": "e5c4c336",
   "metadata": {},
   "source": [
    "Consider all permutations of $\\{1, 2, \\ldots N\\}$, listed in lexicographic order.\n",
    "  \n",
    "For example, for $N=4$, the list starts as follows:\n",
    "\n",
    "$$\\displaylines{\n",
    "(1, 2, 3, 4) \\\\\n",
    "(1, 2, 4, 3) \\\\\n",
    "(1, 3, 2, 4) \\\\\n",
    "(1, 3, 4, 2) \\\\\n",
    "(1, 4, 2, 3) \\\\\n",
    "(1, 4, 3, 2) \\\\\n",
    "(2, 1, 3, 4) \\\\\n",
    "\\vdots\n",
    "}$$\n",
    "\n",
    "Let us call a permutation $P$\n",
    "unpredictable\n",
    "if there is no choice of three indices $i \\lt j \\lt k$ such that $P(i)$, $P(j)$ and $P(k)$ constitute an arithmetic progression.\n",
    "  \n",
    "For example, $P=(3, 4, 2, 1)$ is\n",
    "*not*\n",
    "unpredictable because $P(1), P(3), P(4)$ is an arithmetic progression.\n",
    "\n",
    "Let $S(N)$ be the position within the list of the first unpredictable permutation.\n",
    "\n",
    "For example, given $N = 4$, the first unpredictable permutation is $(1, 3, 2, 4)$ so $S(4) = 3$.\n",
    "  \n",
    "You are also given that $S(8) = 2295$ and $S(32) \\equiv 641839205 \\pmod{1\\,000\\,000\\,007}$.\n",
    "\n",
    "Find $S(2^{25})$. Give your answer modulo $1\\,000\\,000\\,007$."
   ]
  },
  {
   "cell_type": "code",
   "execution_count": null,
   "id": "6f38605e",
   "metadata": {},
   "outputs": [],
   "source": [
    "# Problem 720 workspace"
   ]
  },
  {
   "cell_type": "markdown",
   "id": "35784f15",
   "metadata": {},
   "source": [
    "## Answer: "
   ]
  },
  {
   "cell_type": "markdown",
   "id": "feeca658",
   "metadata": {},
   "source": [
    "___"
   ]
  }
 ],
 "metadata": {},
 "nbformat": 4,
 "nbformat_minor": 5
}
