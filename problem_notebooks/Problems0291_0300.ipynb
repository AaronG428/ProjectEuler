{
 "cells": [
  {
   "cell_type": "markdown",
   "id": "e7e42d07",
   "metadata": {},
   "source": [
    "# Problem 291\n",
    " [Source](https://projecteuler.net/problem=291)"
   ]
  },
  {
   "cell_type": "markdown",
   "id": "2663d77f",
   "metadata": {},
   "source": [
    "A prime number $p$ is called a Panaitopol prime if $p = \\dfrac{x^4 - y^4}{x^3 + y^3}$ for some positive integers $x$ and $y$.\n",
    "\n",
    "Find how many Panaitopol primes are less than $5 \\times 10^{15}$."
   ]
  },
  {
   "cell_type": "code",
   "execution_count": null,
   "id": "5a2ad683",
   "metadata": {},
   "outputs": [],
   "source": [
    "# Problem 291 workspace"
   ]
  },
  {
   "cell_type": "markdown",
   "id": "c8e45e42",
   "metadata": {},
   "source": [
    "## Answer: "
   ]
  },
  {
   "cell_type": "markdown",
   "id": "a1544d66",
   "metadata": {},
   "source": [
    "___"
   ]
  },
  {
   "cell_type": "markdown",
   "id": "34d4d911",
   "metadata": {},
   "source": [
    "# Problem 292\n",
    " [Source](https://projecteuler.net/problem=292)"
   ]
  },
  {
   "cell_type": "markdown",
   "id": "0e21bab5",
   "metadata": {},
   "source": [
    "We shall define a\n",
    "pythagorean polygon\n",
    "to be a\n",
    "**convex polygon**\n",
    "with the following properties:\n",
    "\n",
    "* there are at least three vertices,\n",
    "* no three vertices are aligned,\n",
    "* each vertex has\n",
    "  **integer coordinates**\n",
    "  ,\n",
    "* each edge has\n",
    "  **integer length**\n",
    "  .\n",
    "\n",
    "For a given integer $n$, define $P(n)$ as the number of distinct pythagorean polygons for which the perimeter is $\\le n$.\n",
    "  \n",
    "Pythagorean polygons should be considered distinct as long as none is a translation of another.\n",
    "\n",
    "You are given that $P(4) = 1$, $P(30) = 3655$ and $P(60) = 891045$.\n",
    "  \n",
    "Find $P(120)$."
   ]
  },
  {
   "cell_type": "code",
   "execution_count": null,
   "id": "a4dfaea5",
   "metadata": {},
   "outputs": [],
   "source": [
    "# Problem 292 workspace"
   ]
  },
  {
   "cell_type": "markdown",
   "id": "d2653ba4",
   "metadata": {},
   "source": [
    "## Answer: "
   ]
  },
  {
   "cell_type": "markdown",
   "id": "55247c95",
   "metadata": {},
   "source": [
    "___"
   ]
  },
  {
   "cell_type": "markdown",
   "id": "42d288a5",
   "metadata": {},
   "source": [
    "# Problem 293\n",
    " [Source](https://projecteuler.net/problem=293)"
   ]
  },
  {
   "cell_type": "markdown",
   "id": "58c94ed2",
   "metadata": {},
   "source": [
    "An even positive integer $N$ will be called admissible, if it is a power of $2$ or its distinct prime factors are consecutive primes.\n",
    "  \n",
    "The first twelve admissible numbers are $2,4,6,8,12,16,18,24,30,32,36,48$.\n",
    "\n",
    "If $N$ is admissible, the smallest integer $M \\gt 1$ such that $N+M$ is prime, will be called the pseudo-Fortunate number for $N$.\n",
    "\n",
    "For example, $N=630$ is admissible since it is even and its distinct prime factors are the consecutive primes $2,3,5$ and $7$.\n",
    "  \n",
    "The next prime number after $631$ is $641$; hence, the pseudo-Fortunate number for $630$ is $M=11$.\n",
    "  \n",
    "It can also be seen that the pseudo-Fortunate number for $16$ is $3$.\n",
    "\n",
    "Find the sum of all distinct pseudo-Fortunate numbers for admissible numbers $N$ less than $10^9$."
   ]
  },
  {
   "cell_type": "code",
   "execution_count": null,
   "id": "a95e3d44",
   "metadata": {},
   "outputs": [],
   "source": [
    "# Problem 293 workspace"
   ]
  },
  {
   "cell_type": "markdown",
   "id": "2cea2ff8",
   "metadata": {},
   "source": [
    "## Answer: "
   ]
  },
  {
   "cell_type": "markdown",
   "id": "add9081e",
   "metadata": {},
   "source": [
    "___"
   ]
  },
  {
   "cell_type": "markdown",
   "id": "e9a545a7",
   "metadata": {},
   "source": [
    "# Problem 294\n",
    " [Source](https://projecteuler.net/problem=294)"
   ]
  },
  {
   "cell_type": "markdown",
   "id": "9a10bd4c",
   "metadata": {},
   "source": [
    "For a positive integer $k$, define $d(k)$ as the sum of the digits of $k$ in its usual decimal representation.\n",
    "Thus $d(42) = 4+2 = 6$.\n",
    "\n",
    "For a positive integer $n$, define $S(n)$ as the number of positive integers $k \\lt 10^n$ with the following properties :\n",
    "\n",
    "* $k$ is divisible by $23$ and\n",
    "* $d(k) = 23$.\n",
    "\n",
    "You are given that $S(9) = 263626$ and $S(42) = 6377168878570056$.\n",
    "\n",
    "Find $S(11^{12})$ and give your answer mod $10^9$."
   ]
  },
  {
   "cell_type": "code",
   "execution_count": null,
   "id": "1e495fa8",
   "metadata": {},
   "outputs": [],
   "source": [
    "# Problem 294 workspace"
   ]
  },
  {
   "cell_type": "markdown",
   "id": "4bc4f4d1",
   "metadata": {},
   "source": [
    "## Answer: "
   ]
  },
  {
   "cell_type": "markdown",
   "id": "e94b1151",
   "metadata": {},
   "source": [
    "___"
   ]
  },
  {
   "cell_type": "markdown",
   "id": "5d6e3389",
   "metadata": {},
   "source": [
    "# Problem 295\n",
    " [Source](https://projecteuler.net/problem=295)"
   ]
  },
  {
   "cell_type": "markdown",
   "id": "ec60c830",
   "metadata": {},
   "source": [
    "We call the convex area enclosed by two circles a\n",
    "lenticular hole\n",
    "if:\n",
    "\n",
    "* The centres of both circles are on lattice points.\n",
    "* The two circles intersect at two distinct lattice points.\n",
    "* The interior of the convex area enclosed by both circles does not contain any lattice points.\n",
    "\n",
    "Consider the circles:\n",
    "  \n",
    "$C\\_0$: $x^2 + y^2 = 25$\n",
    "  \n",
    "$C\\_1$: $(x + 4)^2 + (y - 4)^2 = 1$\n",
    "  \n",
    "$C\\_2$: $(x - 12)^2 + (y - 4)^2 = 65$\n",
    "\n",
    "The circles $C\\_0$, $C\\_1$ and $C\\_2$ are drawn in the picture below.\n",
    "\n",
    "![0295_lenticular.gif](resources/0295_lenticular.gif)\n",
    "\n",
    "$C\\_0$ and $C\\_1$ form a lenticular hole, as well as $C\\_0$ and $C\\_2$.\n",
    "\n",
    "We call an ordered pair of positive real numbers $(r\\_1, r\\_2)$ a\n",
    "lenticular pair\n",
    "if there exist two circles with radii $r\\_1$ and $r\\_2$ that form a lenticular hole.\n",
    "We can verify that $(1, 5)$ and $(5, \\sqrt{65})$ are the lenticular pairs of the example above.\n",
    "\n",
    "Let $L(N)$ be the number of\n",
    "**distinct**\n",
    "lenticular pairs $(r\\_1, r\\_2)$ for which $0 \\lt r\\_1 \\le r\\_2 \\le N$.\n",
    "  \n",
    "We can verify that $L(10) = 30$ and $L(100) = 3442$.\n",
    "\n",
    "Find $L(100\\,000)$."
   ]
  },
  {
   "cell_type": "code",
   "execution_count": null,
   "id": "0e5cc5fc",
   "metadata": {},
   "outputs": [],
   "source": [
    "# Problem 295 workspace"
   ]
  },
  {
   "cell_type": "markdown",
   "id": "09e3ef70",
   "metadata": {},
   "source": [
    "## Answer: "
   ]
  },
  {
   "cell_type": "markdown",
   "id": "bc7b9900",
   "metadata": {},
   "source": [
    "___"
   ]
  },
  {
   "cell_type": "markdown",
   "id": "c53b9cde",
   "metadata": {},
   "source": [
    "# Problem 296\n",
    " [Source](https://projecteuler.net/problem=296)"
   ]
  },
  {
   "cell_type": "markdown",
   "id": "7a2501db",
   "metadata": {},
   "source": [
    "Given is an integer sided triangle $ABC$ with $BC \\le AC \\le AB$.\n",
    "  \n",
    "$k$ is the angular bisector of angle $ACB$.\n",
    "  \n",
    "$m$ is the tangent at $C$ to the circumscribed circle of $ABC$.\n",
    "  \n",
    "$n$ is a line parallel to $m$ through $B$.\n",
    "  \n",
    "The intersection of $n$ and $k$ is called $E$.\n",
    "\n",
    "![0296_bisector.gif](resources/0296_bisector.gif)\n",
    "\n",
    "How many triangles $ABC$ with a perimeter not exceeding $100\\,000$ exist such that $BE$ has integral length?"
   ]
  },
  {
   "cell_type": "code",
   "execution_count": null,
   "id": "37fd933d",
   "metadata": {},
   "outputs": [],
   "source": [
    "# Problem 296 workspace"
   ]
  },
  {
   "cell_type": "markdown",
   "id": "9fa526fa",
   "metadata": {},
   "source": [
    "## Answer: "
   ]
  },
  {
   "cell_type": "markdown",
   "id": "394b1d58",
   "metadata": {},
   "source": [
    "___"
   ]
  },
  {
   "cell_type": "markdown",
   "id": "fe399055",
   "metadata": {},
   "source": [
    "# Problem 297\n",
    " [Source](https://projecteuler.net/problem=297)"
   ]
  },
  {
   "cell_type": "markdown",
   "id": "2ea77111",
   "metadata": {},
   "source": [
    "Each new term in the Fibonacci sequence is generated by adding the previous two terms.\n",
    "  \n",
    "Starting with $1$ and $2$, the first $10$ terms will be: $1, 2, 3, 5, 8, 13, 21, 34, 55, 89$.\n",
    "\n",
    "Every positive integer can be uniquely written as a sum of nonconsecutive terms of the Fibonacci sequence. For example, $100 = 3 + 8 + 89$.\n",
    "  \n",
    "Such a sum is called the\n",
    "**Zeckendorf representation**\n",
    "of the number.\n",
    "\n",
    "For any integer $n \\gt 0$, let $z(n)$ be the number of terms in the Zeckendorf representation of $n$.\n",
    "  \n",
    "Thus, $z(5) = 1$, $z(14) = 2$, $z(100) = 3$ etc.\n",
    "  \n",
    "Also, for $0 \\lt n \\lt 10^6$, $\\sum z(n) = 7894453$.\n",
    "\n",
    "Find $\\sum z(n)$ for $0 \\lt n \\lt 10^{17}$."
   ]
  },
  {
   "cell_type": "code",
   "execution_count": null,
   "id": "7e873845",
   "metadata": {},
   "outputs": [],
   "source": [
    "# Problem 297 workspace"
   ]
  },
  {
   "cell_type": "markdown",
   "id": "39b51b06",
   "metadata": {},
   "source": [
    "## Answer: "
   ]
  },
  {
   "cell_type": "markdown",
   "id": "6f930ab3",
   "metadata": {},
   "source": [
    "___"
   ]
  },
  {
   "cell_type": "markdown",
   "id": "b60b7301",
   "metadata": {},
   "source": [
    "# Problem 298\n",
    " [Source](https://projecteuler.net/problem=298)"
   ]
  },
  {
   "cell_type": "markdown",
   "id": "af4bef75",
   "metadata": {},
   "source": [
    "Larry and Robin play a memory game involving a sequence of random numbers between 1 and 10, inclusive, that are called out one at a time. Each player can remember up to 5 previous numbers. When the called number is in a player's memory, that player is awarded a point. If it's not, the player adds the called number to his memory, removing another number if his memory is full.\n",
    "\n",
    "Both players start with empty memories. Both players always add new missed numbers to their memory but use a different strategy in deciding which number to remove:\n",
    "  \n",
    "Larry's strategy is to remove the number that hasn't been called in the longest time.\n",
    "  \n",
    "Robin's strategy is to remove the number that's been in the memory the longest time.\n",
    "\n",
    "Example game:\n",
    "\n",
    "| Turn | Called   number | Larry's   memory | Larry's   score | Robin's   memory | Robin's   score |\n",
    "| --- | --- | --- | --- | --- | --- |\n",
    "| 1 | 1 | 1 | 0 | 1 | 0 |\n",
    "| 2 | 2 | 1,2 | 0 | 1,2 | 0 |\n",
    "| 3 | 4 | 1,2,4 | 0 | 1,2,4 | 0 |\n",
    "| 4 | 6 | 1,2,4,6 | 0 | 1,2,4,6 | 0 |\n",
    "| 5 | 1 | 1,2,4,6 | 1 | 1,2,4,6 | 1 |\n",
    "| 6 | 8 | 1,2,4,6,8 | 1 | 1,2,4,6,8 | 1 |\n",
    "| 7 | 10 | 1,4,6,8,10 | 1 | 2,4,6,8,10 | 1 |\n",
    "| 8 | 2 | 1,2,6,8,10 | 1 | 2,4,6,8,10 | 2 |\n",
    "| 9 | 4 | 1,2,4,8,10 | 1 | 2,4,6,8,10 | 3 |\n",
    "| 10 | 1 | 1,2,4,8,10 | 2 | 1,4,6,8,10 | 3 |\n",
    "\n",
    "Denoting Larry's score by\n",
    "L\n",
    "and Robin's score by\n",
    "R\n",
    ", what is the expected value of |\n",
    "L\n",
    "-\n",
    "R\n",
    "| after 50 turns? Give your answer rounded to eight decimal places using the format x.xxxxxxxx ."
   ]
  },
  {
   "cell_type": "code",
   "execution_count": null,
   "id": "36665a9c",
   "metadata": {},
   "outputs": [],
   "source": [
    "# Problem 298 workspace"
   ]
  },
  {
   "cell_type": "markdown",
   "id": "f46d974e",
   "metadata": {},
   "source": [
    "## Answer: "
   ]
  },
  {
   "cell_type": "markdown",
   "id": "b828cbdd",
   "metadata": {},
   "source": [
    "___"
   ]
  },
  {
   "cell_type": "markdown",
   "id": "bc591b1e",
   "metadata": {},
   "source": [
    "# Problem 299\n",
    " [Source](https://projecteuler.net/problem=299)"
   ]
  },
  {
   "cell_type": "markdown",
   "id": "0cc95b34",
   "metadata": {},
   "source": [
    "Four points with integer coordinates are selected:\n",
    "  \n",
    "$A(a, 0)$, $B(b, 0)$, $C(0, c)$ and $D(0, d)$, with $0 \\lt a \\lt b$ and $0 \\lt c \\lt d$.\n",
    "  \n",
    "Point $P$, also with integer coordinates, is chosen on the line $AC$ so that the three triangles $ABP$, $CDP$ and $BDP$ are all\n",
    "similar\n",
    "Have equal angles\n",
    ".\n",
    "\n",
    "![0299_ThreeSimTri.gif](resources/0299_ThreeSimTri.gif)\n",
    "\n",
    "It is easy to prove that the three triangles can be similar, only if $a = c$.\n",
    "\n",
    "So, given that $a = c$, we are looking for triplets $(a, b, d)$ such that at least one point $P$ (with integer coordinates) exists on $AC$, making the three triangles $ABP$, $CDP$ and $BDP$ all similar.\n",
    "\n",
    "For example, if $(a, b, d)=(2,3,4)$, it can be easily verified that point $P(1,1)$ satisfies the above condition.\n",
    "Note that the triplets $(2,3,4)$ and $(2,4,3)$ are considered as distinct, although point $P(1,1)$ is common for both.\n",
    "\n",
    "If $b + d \\lt 100$, there are $92$ distinct triplets $(a, b, d)$ such that point $P$ exists.\n",
    "  \n",
    "If $b + d \\lt 100\\,000$, there are $320471$ distinct triplets $(a, b, d)$ such that point $P$ exists.\n",
    "\n",
    "If $b + d \\lt 100\\,000\\,000$, how many distinct triplets $(a, b, d)$ are there such that point $P$ exists?"
   ]
  },
  {
   "cell_type": "code",
   "execution_count": null,
   "id": "e88c8a61",
   "metadata": {},
   "outputs": [],
   "source": [
    "# Problem 299 workspace"
   ]
  },
  {
   "cell_type": "markdown",
   "id": "a6748361",
   "metadata": {},
   "source": [
    "## Answer: "
   ]
  },
  {
   "cell_type": "markdown",
   "id": "24c9c0a3",
   "metadata": {},
   "source": [
    "___"
   ]
  },
  {
   "cell_type": "markdown",
   "id": "bcb7d2bf",
   "metadata": {},
   "source": [
    "# Problem 300\n",
    " [Source](https://projecteuler.net/problem=300)"
   ]
  },
  {
   "cell_type": "markdown",
   "id": "e9e3b886",
   "metadata": {},
   "source": [
    "In a very simplified form, we can consider proteins as strings consisting of hydrophobic (H) and polar (P) elements, e.g. HHPPHHHPHHPH.\n",
    "  \n",
    "For this problem, the orientation of a protein is important; e.g. HPP is considered distinct from PPH. Thus, there are $2^n$ distinct proteins consisting of $n$ elements.\n",
    "\n",
    "When one encounters these strings in nature, they are always folded in such a way that the number of H-H contact points is as large as possible, since this is energetically advantageous.\n",
    "  \n",
    "As a result, the H-elements tend to accumulate in the inner part, with the P-elements on the outside.\n",
    "  \n",
    "Natural proteins are folded in three dimensions of course, but we will only consider protein folding in\n",
    "two dimensions\n",
    ".\n",
    "\n",
    "The figure below shows two possible ways that our example protein could be folded (H-H contact points are shown with red dots).\n",
    "\n",
    "![0300_protein.gif](resources/0300_protein.gif)\n",
    "\n",
    "The folding on the left has only six H-H contact points, thus it would never occur naturally.\n",
    "  \n",
    "On the other hand, the folding on the right has nine H-H contact points, which is optimal for this string.\n",
    "\n",
    "Assuming that H and P elements are equally likely to occur in any position along the string, the average number of H-H contact points in an optimal folding of a random protein string of length $8$ turns out to be $850 / 2^8 = 3.3203125$.\n",
    "\n",
    "What is the average number of H-H contact points in an optimal folding of a random protein string of length $15$?\n",
    "  \n",
    "Give your answer using as many decimal places as necessary for an exact result."
   ]
  },
  {
   "cell_type": "code",
   "execution_count": null,
   "id": "095b867a",
   "metadata": {},
   "outputs": [],
   "source": [
    "# Problem 300 workspace"
   ]
  },
  {
   "cell_type": "markdown",
   "id": "9f1c94b8",
   "metadata": {},
   "source": [
    "## Answer: "
   ]
  },
  {
   "cell_type": "markdown",
   "id": "aaedb991",
   "metadata": {},
   "source": [
    "___"
   ]
  }
 ],
 "metadata": {},
 "nbformat": 4,
 "nbformat_minor": 5
}
