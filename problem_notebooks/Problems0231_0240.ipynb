{
 "cells": [
  {
   "cell_type": "markdown",
   "id": "84c79318",
   "metadata": {},
   "source": [
    "# Problem 231\n",
    " [Source](https://projecteuler.net/problem=231)"
   ]
  },
  {
   "cell_type": "markdown",
   "id": "831bb5f8",
   "metadata": {},
   "source": [
    "The binomial coefficient $\\displaystyle \\binom {10} 3 = 120$.\n",
    "  \n",
    "$120 = 2^3 \\times 3 \\times 5 = 2 \\times 2 \\times 2 \\times 3 \\times 5$, and $2 + 2 + 2 + 3 + 5 = 14$.\n",
    "  \n",
    "So the sum of the terms in the prime factorisation of $\\displaystyle \\binom {10} 3$ is $14$.\n",
    "  \n",
    "  \n",
    "Find the sum of the terms in the prime factorisation of $\\displaystyle \\binom {20\\,000\\,000} {15\\,000\\,000}$."
   ]
  },
  {
   "cell_type": "code",
   "execution_count": null,
   "id": "6438b275",
   "metadata": {},
   "outputs": [],
   "source": [
    "# Problem 231 workspace"
   ]
  },
  {
   "cell_type": "markdown",
   "id": "1af8b01b",
   "metadata": {},
   "source": [
    "## Answer: "
   ]
  },
  {
   "cell_type": "markdown",
   "id": "0e3c109c",
   "metadata": {},
   "source": [
    "___"
   ]
  },
  {
   "cell_type": "markdown",
   "id": "fb835afb",
   "metadata": {},
   "source": [
    "# Problem 232\n",
    " [Source](https://projecteuler.net/problem=232)"
   ]
  },
  {
   "cell_type": "markdown",
   "id": "69930cc4",
   "metadata": {},
   "source": [
    "Two players share an unbiased coin and take it in turns to play\n",
    "The Race\n",
    ".\n",
    "\n",
    "On Player 1's turn, the coin is tossed once. If it comes up Heads, then Player 1 scores one point; if it comes up Tails, then no points are scored.\n",
    "\n",
    "On Player 2's turn, a positive integer, $T$, is chosen by Player 2 and the coin is tossed $T$ times. If it comes up all Heads, then Player 2 scores $2^{T-1}$ points; otherwise, no points are scored.\n",
    "\n",
    "Player 1 goes first and the winner is the first to 100 or more points.\n",
    "\n",
    "Player 2 will always select the number, $T$, of coin tosses that maximises the probability of winning.\n",
    "\n",
    "What is the probability that Player 2 wins?\n",
    "\n",
    "Give your answer rounded to eight decimal places in the form 0.abcdefgh."
   ]
  },
  {
   "cell_type": "code",
   "execution_count": null,
   "id": "02101a0e",
   "metadata": {},
   "outputs": [],
   "source": [
    "# Problem 232 workspace"
   ]
  },
  {
   "cell_type": "markdown",
   "id": "1f09ca4a",
   "metadata": {},
   "source": [
    "## Answer: "
   ]
  },
  {
   "cell_type": "markdown",
   "id": "953fe608",
   "metadata": {},
   "source": [
    "___"
   ]
  },
  {
   "cell_type": "markdown",
   "id": "a2cf8c20",
   "metadata": {},
   "source": [
    "# Problem 233\n",
    " [Source](https://projecteuler.net/problem=233)"
   ]
  },
  {
   "cell_type": "markdown",
   "id": "b2d8b47b",
   "metadata": {},
   "source": [
    "Let $f(N)$ be the number of points with integer coordinates that are on a circle passing through $(0,0)$, $(N,0)$,$(0,N)$, and $(N,N)$.\n",
    "\n",
    "It can be shown that $f(10000) = 36$.\n",
    "\n",
    "What is the sum of all positive integers $N \\le 10^{11}$ such that $f(N) = 420$?"
   ]
  },
  {
   "cell_type": "code",
   "execution_count": null,
   "id": "80908d61",
   "metadata": {},
   "outputs": [],
   "source": [
    "# Problem 233 workspace"
   ]
  },
  {
   "cell_type": "markdown",
   "id": "68331fc5",
   "metadata": {},
   "source": [
    "## Answer: "
   ]
  },
  {
   "cell_type": "markdown",
   "id": "5023bdf8",
   "metadata": {},
   "source": [
    "___"
   ]
  },
  {
   "cell_type": "markdown",
   "id": "fc9cd68e",
   "metadata": {},
   "source": [
    "# Problem 234\n",
    " [Source](https://projecteuler.net/problem=234)"
   ]
  },
  {
   "cell_type": "markdown",
   "id": "4aed2d1b",
   "metadata": {},
   "source": [
    "For an integer $n \\ge 4$, we define the\n",
    "lower prime square root\n",
    "of $n$, denoted by $\\operatorname{lps}(n)$, as the largest prime $\\le \\sqrt n$ and the\n",
    "upper prime square root\n",
    "of $n$, $\\operatorname{ups}(n)$, as the smallest prime $\\ge \\sqrt n$.\n",
    "\n",
    "So, for example, $\\operatorname{lps}(4) = 2 = \\operatorname{ups}(4)$, $\\operatorname{lps}(1000) = 31$, $\\operatorname{ups}(1000) = 37$.\n",
    "  \n",
    "Let us call an integer $n \\ge 4$\n",
    "semidivisible\n",
    ", if one of $\\operatorname{lps}(n)$ and $\\operatorname{ups}(n)$ divides $n$, but not both.\n",
    "\n",
    "The sum of the semidivisible numbers not exceeding $15$ is $30$, the numbers are $8$, $10$ and $12$.\n",
    "  \n",
    "$15$ is not semidivisible because it is a multiple of both $\\operatorname{lps}(15) = 3$ and $\\operatorname{ups}(15) = 5$.\n",
    "  \n",
    "As a further example, the sum of the $92$ semidivisible numbers up to $1000$ is $34825$.\n",
    "\n",
    "What is the sum of all semidivisible numbers not exceeding $999966663333$?"
   ]
  },
  {
   "cell_type": "code",
   "execution_count": null,
   "id": "53715fb1",
   "metadata": {},
   "outputs": [],
   "source": [
    "# Problem 234 workspace"
   ]
  },
  {
   "cell_type": "markdown",
   "id": "65ef8a89",
   "metadata": {},
   "source": [
    "## Answer: "
   ]
  },
  {
   "cell_type": "markdown",
   "id": "e8c4388a",
   "metadata": {},
   "source": [
    "___"
   ]
  },
  {
   "cell_type": "markdown",
   "id": "85edd1c2",
   "metadata": {},
   "source": [
    "# Problem 235\n",
    " [Source](https://projecteuler.net/problem=235)"
   ]
  },
  {
   "cell_type": "markdown",
   "id": "e215e454",
   "metadata": {},
   "source": [
    "Given is the arithmetic-geometric sequence $u(k) = (900-3k)r^{k - 1}$.\n",
    "  \n",
    "Let $s(n) = \\sum\\_{k = 1}^n u(k)$.\n",
    "\n",
    "Find the value of $r$ for which $s(5000) = -600\\,000\\,000\\,000$.\n",
    "\n",
    "Give your answer rounded to $12$ places behind the decimal point."
   ]
  },
  {
   "cell_type": "code",
   "execution_count": null,
   "id": "772103d8",
   "metadata": {},
   "outputs": [],
   "source": [
    "# Problem 235 workspace"
   ]
  },
  {
   "cell_type": "markdown",
   "id": "398bc520",
   "metadata": {},
   "source": [
    "## Answer: "
   ]
  },
  {
   "cell_type": "markdown",
   "id": "82969d56",
   "metadata": {},
   "source": [
    "___"
   ]
  },
  {
   "cell_type": "markdown",
   "id": "98cb69d2",
   "metadata": {},
   "source": [
    "# Problem 236\n",
    " [Source](https://projecteuler.net/problem=236)"
   ]
  },
  {
   "cell_type": "markdown",
   "id": "df76f2ae",
   "metadata": {},
   "source": [
    "Suppliers 'A' and 'B' provided the following numbers of products for the luxury hamper market:\n",
    "\n",
    "| Product | 'A' | 'B' |\n",
    "| --- | --- | --- |\n",
    "| Beluga Caviar | 5248 | 640 |\n",
    "| Christmas Cake | 1312 | 1888 |\n",
    "| Gammon Joint | 2624 | 3776 |\n",
    "| Vintage Port | 5760 | 3776 |\n",
    "| Champagne Truffles | 3936 | 5664 |\n",
    "\n",
    "Although the suppliers try very hard to ship their goods in perfect condition, there is inevitably some spoilage -\n",
    "*i.e.*\n",
    "products gone bad.\n",
    "\n",
    "The suppliers compare their performance using two types of statistic:\n",
    "\n",
    "* The five\n",
    "  *per-product spoilage rates*\n",
    "  for each supplier are equal to the number of products gone bad divided by the number of products supplied, for each of the five products in turn.\n",
    "* The\n",
    "  *overall spoilage rate*\n",
    "  for each supplier is equal to the total number of products gone bad divided by the total number of products provided by that supplier.\n",
    "\n",
    "To their surprise, the suppliers found that each of the five per-product spoilage rates was worse (higher) for 'B' than for 'A' by the same factor (ratio of spoilage rates),\n",
    "m\n",
    ">1; and yet, paradoxically, the overall spoilage rate was worse for 'A' than for 'B', also by a factor of\n",
    "m\n",
    ".\n",
    "\n",
    "There are thirty-five\n",
    "m\n",
    ">1 for which this surprising result could have occurred, the smallest of which is 1476/1475.\n",
    "\n",
    "What's the largest possible value of\n",
    "m\n",
    "?\n",
    "  \n",
    "Give your answer as a fraction reduced to its lowest terms, in the form\n",
    "u\n",
    "/\n",
    "v\n",
    "."
   ]
  },
  {
   "cell_type": "code",
   "execution_count": null,
   "id": "081b4e22",
   "metadata": {},
   "outputs": [],
   "source": [
    "# Problem 236 workspace"
   ]
  },
  {
   "cell_type": "markdown",
   "id": "02156b3b",
   "metadata": {},
   "source": [
    "## Answer: "
   ]
  },
  {
   "cell_type": "markdown",
   "id": "e385a733",
   "metadata": {},
   "source": [
    "___"
   ]
  },
  {
   "cell_type": "markdown",
   "id": "4e7d42b8",
   "metadata": {},
   "source": [
    "# Problem 237\n",
    " [Source](https://projecteuler.net/problem=237)"
   ]
  },
  {
   "cell_type": "markdown",
   "id": "6304ad8e",
   "metadata": {},
   "source": [
    "Let $T(n)$ be the number of tours over a $4 \\times n$ playing board such that:\n",
    "\n",
    "* The tour starts in the top left corner.\n",
    "* The tour consists of moves that are up, down, left, or right one square.\n",
    "* The tour visits each square exactly once.\n",
    "* The tour ends in the bottom left corner.\n",
    "\n",
    "The diagram shows one tour over a $4 \\times 10$ board:\n",
    "\n",
    "![](resources/0237.gif)\n",
    "\n",
    "$T(10)$ is $2329$. What is $T(10^{12})$ modulo $10^8$?"
   ]
  },
  {
   "cell_type": "code",
   "execution_count": null,
   "id": "66b37c0b",
   "metadata": {},
   "outputs": [],
   "source": [
    "# Problem 237 workspace"
   ]
  },
  {
   "cell_type": "markdown",
   "id": "0322910d",
   "metadata": {},
   "source": [
    "## Answer: "
   ]
  },
  {
   "cell_type": "markdown",
   "id": "6a7e25fd",
   "metadata": {},
   "source": [
    "___"
   ]
  },
  {
   "cell_type": "markdown",
   "id": "5471886a",
   "metadata": {},
   "source": [
    "# Problem 238\n",
    " [Source](https://projecteuler.net/problem=238)"
   ]
  },
  {
   "cell_type": "markdown",
   "id": "abff7b43",
   "metadata": {},
   "source": [
    "Create a sequence of numbers using the \"Blum Blum Shub\" pseudo-random number generator:\n",
    "\n",
    "$$\\begin{align}\n",
    "s\\_0 &= 14025256\\\\\n",
    "s\\_{n + 1} &= s\\_n^2 \\bmod 20300713\n",
    "\\end{align}$$\n",
    "\n",
    "Concatenate these numbers $s\\_0s\\_1s\\_2\\cdots$ to create a string $w$ of infinite length.\n",
    "  \n",
    "Then, $w = {\\color{blue}14025256741014958470038053646\\cdots}$\n",
    "\n",
    "For a positive integer $k$, if no substring of $w$ exists with a sum of digits equal to $k$, $p(k)$ is defined to be zero. If at least one substring of $w$ exists with a sum of digits equal to $k$, we define $p(k) = z$, where $z$ is the starting position of the earliest such substring.\n",
    "\n",
    "For instance:\n",
    "\n",
    "The substrings $\\color{blue}1, 14, 1402, \\dots$\n",
    "  \n",
    "with respective sums of digits equal to $1, 5, 7, \\dots$\n",
    "  \n",
    "start at position $\\mathbf 1$, hence $p(1) = p(5) = p(7) = \\cdots = \\mathbf 1$.\n",
    "\n",
    "The substrings $\\color{blue}4, 402, 4025, \\dots$\n",
    "  \n",
    "with respective sums of digits equal to $4, 6, 11, \\dots$\n",
    "  \n",
    "start at position $\\mathbf 2$, hence $p(4) = p(6) = p(11) = \\cdots = \\mathbf 2$.\n",
    "\n",
    "The substrings $\\color{blue}02, 0252, \\dots$\n",
    "  \n",
    "with respective sums of digits equal to $2, 9, \\dots$\n",
    "  \n",
    "start at position $\\mathbf 3$, hence $p(2) = p(9) = \\cdots = \\mathbf 3$.\n",
    "\n",
    "Note that substring $\\color{blue}025$ starting at position $\\mathbf 3$, has a sum of digits equal to $7$, but there was an earlier substring (starting at position $\\mathbf 1$) with a sum of digits equal to $7$, so $p(7) = 1$,\n",
    "*not*\n",
    "$3$.\n",
    "\n",
    "We can verify that, for $0 \\lt k \\le 10^3$, $\\sum p(k) = 4742$.\n",
    "\n",
    "Find $\\sum p(k)$, for $0 \\lt k \\le 2 \\times 10^{15}$."
   ]
  },
  {
   "cell_type": "code",
   "execution_count": null,
   "id": "f4b5ea32",
   "metadata": {},
   "outputs": [],
   "source": [
    "# Problem 238 workspace"
   ]
  },
  {
   "cell_type": "markdown",
   "id": "48bfa3fe",
   "metadata": {},
   "source": [
    "## Answer: "
   ]
  },
  {
   "cell_type": "markdown",
   "id": "0f894498",
   "metadata": {},
   "source": [
    "___"
   ]
  },
  {
   "cell_type": "markdown",
   "id": "f8ac10c4",
   "metadata": {},
   "source": [
    "# Problem 239\n",
    " [Source](https://projecteuler.net/problem=239)"
   ]
  },
  {
   "cell_type": "markdown",
   "id": "7d94c3fe",
   "metadata": {},
   "source": [
    "A set of disks numbered $1$ through $100$ are placed in a line in random order.\n",
    "\n",
    "What is the probability that we have a partial derangement such that exactly $22$ prime number discs are found away from their natural positions?\n",
    "  \n",
    "(Any number of non-prime disks may also be found in or out of their natural positions.)\n",
    "\n",
    "Give your answer rounded to $12$ places behind the decimal point in the form 0.abcdefghijkl."
   ]
  },
  {
   "cell_type": "code",
   "execution_count": null,
   "id": "05aa4ab9",
   "metadata": {},
   "outputs": [],
   "source": [
    "# Problem 239 workspace"
   ]
  },
  {
   "cell_type": "markdown",
   "id": "699ccc65",
   "metadata": {},
   "source": [
    "## Answer: "
   ]
  },
  {
   "cell_type": "markdown",
   "id": "cba32b22",
   "metadata": {},
   "source": [
    "___"
   ]
  },
  {
   "cell_type": "markdown",
   "id": "785992b9",
   "metadata": {},
   "source": [
    "# Problem 240\n",
    " [Source](https://projecteuler.net/problem=240)"
   ]
  },
  {
   "cell_type": "markdown",
   "id": "74c30d9a",
   "metadata": {},
   "source": [
    "There are $1111$ ways in which five $6$-sided dice (sides numbered $1$ to $6$) can be rolled so that the top three sum to $15$. Some examples are:\n",
    "  \n",
    "  \n",
    "$D\\_1,D\\_2,D\\_3,D\\_4,D\\_5 = 4,3,6,3,5$\n",
    "  \n",
    "$D\\_1,D\\_2,D\\_3,D\\_4,D\\_5 = 4,3,3,5,6$\n",
    "  \n",
    "$D\\_1,D\\_2,D\\_3,D\\_4,D\\_5 = 3,3,3,6,6$\n",
    "  \n",
    "$D\\_1,D\\_2,D\\_3,D\\_4,D\\_5 = 6,6,3,3,3$\n",
    "  \n",
    "  \n",
    "In how many ways can twenty $12$-sided dice (sides numbered $1$ to $12$) be rolled so that the top ten sum to $70$?"
   ]
  },
  {
   "cell_type": "code",
   "execution_count": null,
   "id": "95f35720",
   "metadata": {},
   "outputs": [],
   "source": [
    "# Problem 240 workspace"
   ]
  },
  {
   "cell_type": "markdown",
   "id": "4df2df7e",
   "metadata": {},
   "source": [
    "## Answer: "
   ]
  },
  {
   "cell_type": "markdown",
   "id": "11e0458c",
   "metadata": {},
   "source": [
    "___"
   ]
  }
 ],
 "metadata": {},
 "nbformat": 4,
 "nbformat_minor": 5
}
