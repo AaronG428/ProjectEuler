{
 "cells": [
  {
   "cell_type": "markdown",
   "id": "510d653b",
   "metadata": {},
   "source": [
    "# Problem 951\n",
    " [Source](https://projecteuler.net/problem=951)"
   ]
  },
  {
   "cell_type": "markdown",
   "id": "dd7fea7b",
   "metadata": {},
   "source": [
    "Two players play a game using a deck of $2n$ cards: $n$ red and $n$ black. Initially the deck is shuffled into one of the $\\binom{2n}{n}$ possible starting configurations. Play then proceeds, alternating turns, where a player follows two steps on each turn:\n",
    "\n",
    "1. Remove the top card from the deck, taking note of its colour.\n",
    "2. If there is a next card and it is the same colour as the previous card they toss a fair coin. If the coin lands on heads they remove that card as well; otherwise leave it on top of the deck.\n",
    "\n",
    "The player who removes the final card from the deck wins the game.\n",
    "\n",
    "Some starting configurations give an advantage to one of the players; while some starting configurations are\n",
    "**fair**\n",
    ", in which both players have exactly $50\\%$ chance to win the game. For example, if $n=2$ there are four starting configurations which are fair: RRBB, BBRR, RBBR, BRRB. The remaining two, RBRB and BRBR, result in a guaranteed win for the second player.\n",
    "\n",
    "Define $F(n)$ to be the number of starting configurations which are fair. Therefore $F(2)=4$. You are also given $F(8)=11892$.\n",
    "\n",
    "Find $F(26)$."
   ]
  },
  {
   "cell_type": "code",
   "execution_count": null,
   "id": "88cc66e4",
   "metadata": {},
   "outputs": [],
   "source": [
    "# Problem 951 workspace"
   ]
  },
  {
   "cell_type": "markdown",
   "id": "423166ca",
   "metadata": {},
   "source": [
    "## Answer: "
   ]
  },
  {
   "cell_type": "markdown",
   "id": "34c06d26",
   "metadata": {},
   "source": [
    "___"
   ]
  },
  {
   "cell_type": "markdown",
   "id": "91559af5",
   "metadata": {},
   "source": [
    "# Problem 952\n",
    " [Source](https://projecteuler.net/problem=952)"
   ]
  },
  {
   "cell_type": "markdown",
   "id": "4aed8d13",
   "metadata": {},
   "source": [
    "Given a prime $p$ and a positive integer $n \\lt p$, let $R(p, n)$ be the\n",
    "**multiplicative order**\n",
    "of $p$ modulo $n!$.\n",
    "  \n",
    "In other words, $R(p, n)$ is the minimal positive integer $r$ such that\n",
    "\n",
    "$$p^r \\equiv 1 \\pmod{n!}$$\n",
    "\n",
    "For example, $R(7, 4) = 2$ and $R(10^9 + 7, 12) = 17280$.\n",
    "\n",
    "Find $R(10^9 + 7, 10^7)$. Give your answer modulo $10^9 + 7$."
   ]
  },
  {
   "cell_type": "code",
   "execution_count": null,
   "id": "bd489ad8",
   "metadata": {},
   "outputs": [],
   "source": [
    "# Problem 952 workspace"
   ]
  },
  {
   "cell_type": "markdown",
   "id": "92553028",
   "metadata": {},
   "source": [
    "## Answer: "
   ]
  },
  {
   "cell_type": "markdown",
   "id": "d936e46c",
   "metadata": {},
   "source": [
    "___"
   ]
  },
  {
   "cell_type": "markdown",
   "id": "440d9bf8",
   "metadata": {},
   "source": [
    "# Problem 953\n",
    " [Source](https://projecteuler.net/problem=953)"
   ]
  },
  {
   "cell_type": "markdown",
   "id": "cd695fc6",
   "metadata": {},
   "source": [
    "In the classical game of\n",
    "**Nim**\n",
    "two players take turns removing stones from piles. A player may remove any positive number of stones from a single pile. If there are no remaining stones, the next player to move loses.\n",
    "\n",
    "In Factorisation Nim the initial position of the game is chosen according to the prime factorisation of a given natural number $n$ by setting a pile for each prime factor, including multiplicity. For example, if $n=12=2 \\times 2 \\times 3$ the game starts with three piles: two piles with two stones and one pile with three stones.\n",
    "\n",
    "It can be verified that the first player to move loses for $n=1$ and for $n=70$, assuming both players play optimally.\n",
    "\n",
    "Let $S(N)$ be the sum of $n$ for $1 \\le n \\le N$ such that the first player to move loses, assuming both players play optimally. You are given $S(10) = 14$ and $S(100) = 455$.\n",
    "\n",
    "Find $S(10^{14})$. Give your answer modulo $10^9 + 7$."
   ]
  },
  {
   "cell_type": "code",
   "execution_count": null,
   "id": "c60d9710",
   "metadata": {},
   "outputs": [],
   "source": [
    "# Problem 953 workspace"
   ]
  },
  {
   "cell_type": "markdown",
   "id": "c3e4a34c",
   "metadata": {},
   "source": [
    "## Answer: "
   ]
  },
  {
   "cell_type": "markdown",
   "id": "1df3bdc9",
   "metadata": {},
   "source": [
    "___"
   ]
  },
  {
   "cell_type": "markdown",
   "id": "8562683f",
   "metadata": {},
   "source": [
    "# Problem 954\n",
    " [Source](https://projecteuler.net/problem=954)"
   ]
  },
  {
   "cell_type": "markdown",
   "id": "996326b3",
   "metadata": {},
   "source": [
    "A positive integer is called\n",
    "*heptaphobic*\n",
    "if it is not divisible by seven and no number divisible by seven can be produced by swapping two of its digits. Note that leading zeros are not allowed before or after the swap.\n",
    "\n",
    "For example, $17$ and $1305$ are heptaphobic, but $14$ and $132$ are not because $14$ and $231$ are divisible by seven.\n",
    "\n",
    "Let $C(N)$ count heptaphobic numbers smaller than $N$. You are given $C(100) = 74$ and $C(10^4) = 3737$.\n",
    "\n",
    "Find $C(10^{13})$."
   ]
  },
  {
   "cell_type": "code",
   "execution_count": null,
   "id": "be7bd949",
   "metadata": {},
   "outputs": [],
   "source": [
    "# Problem 954 workspace"
   ]
  },
  {
   "cell_type": "markdown",
   "id": "46018405",
   "metadata": {},
   "source": [
    "## Answer: "
   ]
  },
  {
   "cell_type": "markdown",
   "id": "1bb72c73",
   "metadata": {},
   "source": [
    "___"
   ]
  },
  {
   "cell_type": "markdown",
   "id": "a12656c8",
   "metadata": {},
   "source": [
    "# Problem 955\n",
    " [Source](https://projecteuler.net/problem=955)"
   ]
  },
  {
   "cell_type": "markdown",
   "id": "afc07064",
   "metadata": {},
   "source": [
    "A sequence $(a\\_n)\\_{n \\ge 0}$ starts with $a\\_0 = 3$ and for each $n \\ge 0$,\n",
    "\n",
    "* if $a\\_n$ is a\n",
    "  **triangle number\n",
    "  A triangle number is a number of the form $m(m + 1)/2$ for some integer $m$.**\n",
    "  , then $a\\_{n + 1} = a\\_n + 1$;\n",
    "* otherwise, $a\\_{n + 1} = 2a\\_n - a\\_{n - 1} + 1$.\n",
    "\n",
    "The sequence begins:\n",
    "$${\\color{red}3}, 4, {\\color{red}6}, 7, 9, 12, 16, {\\color{red}21}, 22, 24, 27, 31, {\\color{red}36}, 37, 39, 42, \\dots$$\n",
    "where triangle numbers are marked red.\n",
    "\n",
    "The $10$th triangle number in the sequence is $a\\_{2964} = 1439056$.\n",
    "  \n",
    "Find the index $n$ such that $a\\_n$ is the $70$th triangle number in the sequence."
   ]
  },
  {
   "cell_type": "code",
   "execution_count": null,
   "id": "91265209",
   "metadata": {},
   "outputs": [],
   "source": [
    "# Problem 955 workspace"
   ]
  },
  {
   "cell_type": "markdown",
   "id": "d07deea5",
   "metadata": {},
   "source": [
    "## Answer: "
   ]
  },
  {
   "cell_type": "markdown",
   "id": "d4411c09",
   "metadata": {},
   "source": [
    "___"
   ]
  },
  {
   "cell_type": "markdown",
   "id": "9a097c3d",
   "metadata": {},
   "source": [
    "# Problem 956\n",
    " [Source](https://projecteuler.net/problem=956)"
   ]
  },
  {
   "cell_type": "markdown",
   "id": "8dd24da6",
   "metadata": {},
   "source": [
    "The total number of prime factors of $n$, counted with multiplicity, is denoted $\\Omega(n)$.\n",
    "  \n",
    "For example, $\\Omega(12)=3$, counting the factor $2$ twice, and the factor $3$ once.\n",
    "\n",
    "Define $D(n, m)$ to be the sum of all divisors $d$ of $n$ where $\\Omega(d)$ is divisible by $m$.\n",
    "  \n",
    "For example, $D(24, 3)=1+8+12=21$.\n",
    "\n",
    "The\n",
    "**superfactorial**\n",
    "of $n$, often written as $n\\$$, is defined as the product of the first $n$ factorials:\n",
    "$$n\\$=1!\\times 2! \\times\\cdots\\times n!$$\n",
    "The\n",
    "**superduperfactorial**\n",
    "of $n$, we write as $n\\bigstar$, is defined as the product of the first $n$ superfactorials:\n",
    "$$n\\bigstar=1\\$ \\times 2\\$ \\times\\cdots\\times n\\$ $$\n",
    "\n",
    "You are given $D(6\\bigstar, 6)=6368195719791280$.\n",
    "\n",
    "Find $D(1\\,000\\bigstar, 1\\,000)$.\n",
    "Give your answer modulo $999\\,999\\,001$."
   ]
  },
  {
   "cell_type": "code",
   "execution_count": null,
   "id": "785e0dbd",
   "metadata": {},
   "outputs": [],
   "source": [
    "# Problem 956 workspace"
   ]
  },
  {
   "cell_type": "markdown",
   "id": "59f43000",
   "metadata": {},
   "source": [
    "## Answer: "
   ]
  },
  {
   "cell_type": "markdown",
   "id": "fe8359be",
   "metadata": {},
   "source": [
    "___"
   ]
  },
  {
   "cell_type": "markdown",
   "id": "33df4eb6",
   "metadata": {},
   "source": [
    "# Problem 957\n",
    " [Source](https://projecteuler.net/problem=957)"
   ]
  },
  {
   "cell_type": "markdown",
   "id": "228de93b",
   "metadata": {},
   "source": [
    "There is a plane on which all points are initially white, except three red points and two blue points.\n",
    "  \n",
    "On each day, every line passing through a red point and a blue point is constructed. Then every white point, where two different such lines meet, turns blue.\n",
    "\n",
    "Let $g(n)$ be the maximal possible number of blue points after $n$ days.\n",
    "\n",
    "For example, $g(1)=8$ and $g(2)=28$.\n",
    "\n",
    "Find $g(16)$."
   ]
  },
  {
   "cell_type": "code",
   "execution_count": null,
   "id": "bd3fbf27",
   "metadata": {},
   "outputs": [],
   "source": [
    "# Problem 957 workspace"
   ]
  },
  {
   "cell_type": "markdown",
   "id": "f3d26c0d",
   "metadata": {},
   "source": [
    "## Answer: "
   ]
  },
  {
   "cell_type": "markdown",
   "id": "9ef0d83d",
   "metadata": {},
   "source": [
    "___"
   ]
  },
  {
   "cell_type": "markdown",
   "id": "28fd9da7",
   "metadata": {},
   "source": [
    "# Problem 958\n",
    " [Source](https://projecteuler.net/problem=958)"
   ]
  },
  {
   "cell_type": "markdown",
   "id": "6bb08286",
   "metadata": {},
   "source": [
    "The\n",
    "**Euclidean algorithm**\n",
    "can be used to find the\n",
    "**greatest common divisor**\n",
    "of two positive integers. At each step of the algorithm the smaller number is subtracted from the larger one. The algorithm terminates when the numbers are equal, which is then the greatest common divisor of the original numbers.\n",
    "\n",
    "For two numbers $n$ and $m$, let $d(n, m)$ be the number of subtraction steps used by the Euclidean algorithm for computing the greatest common divisor of $n$ and $m$.\n",
    "\n",
    "For a number $n$, let $f(n)$ be the positive number $m$ coprime to $n$ that minimizes $d(n, m)$. If more than one number attains the minimum, the minimal $m$ is chosen.\n",
    "\n",
    "For example, at least four steps are needed for computing the GCD of $7$ and any positive number $m$ coprime to $7$. This number of steps is obtained by $m=2,3,4,5$, yielding $f(7)=2$. You are also given $f(89)=34$ and $f(8191) = 1856$.\n",
    "\n",
    "Find $f(10^{12}+39)$."
   ]
  },
  {
   "cell_type": "code",
   "execution_count": null,
   "id": "1b24d48b",
   "metadata": {},
   "outputs": [],
   "source": [
    "# Problem 958 workspace"
   ]
  },
  {
   "cell_type": "markdown",
   "id": "866227e0",
   "metadata": {},
   "source": [
    "## Answer: "
   ]
  },
  {
   "cell_type": "markdown",
   "id": "13976a5a",
   "metadata": {},
   "source": [
    "___"
   ]
  },
  {
   "cell_type": "markdown",
   "id": "fb613ea9",
   "metadata": {},
   "source": [
    "# Problem 959\n",
    " [Source](https://projecteuler.net/problem=959)"
   ]
  },
  {
   "cell_type": "markdown",
   "id": "21662775",
   "metadata": {},
   "source": [
    "A frog is placed on the number line. Every step the frog jumps either $a$ units to the left or $b$ units to the right, both with $1/2$ probability.\n",
    "\n",
    "Define $f(a, b)$ as the limit $\\lim\\_{n \\to \\infty} \\frac{c\\_n}n$ where $c\\_n$ is the expected number of unique numbers visited in the first $n$ steps. You are given $f(1, 1) = 0$ and $f(1, 2) \\approx 0.427050983$.\n",
    "\n",
    "Find $f(89, 97)$. Give your answer rounded to nine digits after the decimal point."
   ]
  },
  {
   "cell_type": "code",
   "execution_count": null,
   "id": "e63ffc0d",
   "metadata": {},
   "outputs": [],
   "source": [
    "# Problem 959 workspace"
   ]
  },
  {
   "cell_type": "markdown",
   "id": "5c54eca5",
   "metadata": {},
   "source": [
    "## Answer: "
   ]
  },
  {
   "cell_type": "markdown",
   "id": "6b07cf84",
   "metadata": {},
   "source": [
    "___"
   ]
  },
  {
   "cell_type": "markdown",
   "id": "dae39a7f",
   "metadata": {},
   "source": [
    "# Problem 960\n",
    " [Source](https://projecteuler.net/problem=960)"
   ]
  },
  {
   "cell_type": "markdown",
   "id": "50704a33",
   "metadata": {},
   "source": [
    "There are $n$ distinct piles of stones, each of size $n-1$. Starting with an initial score of $0$, the following procedure is repeated:\n",
    "\n",
    "1. Choose any two piles and remove exactly $n$ stones in total from the two piles.\n",
    "2. If the number of stones removed from the two piles were $a$ and $b$, add $\\min(a,b)$ to the score.\n",
    "\n",
    "If all piles are eventually emptied, the current score is confirmed as final. However, if one gets \"stuck\" and cannot empty all piles, the current score is discarded, resulting in a final score of $0$.\n",
    "\n",
    "Three example sequences of turns are illustrated below for $n=4$, with each tuple representing pile sizes as one proceeds, and with additions to the score indicated above the arrows.\n",
    "$$\n",
    "\\begin{align}\n",
    "&(3,3,3,3)\\xrightarrow{+1}(0,3,2,3)\\xrightarrow{+1}(0,3,1,0)\\xrightarrow{+1}(0,0,0,0)&:\\quad\\text{final score }=3\\\\\n",
    "&(3,3,3,3)\\xrightarrow{+1}(3,0,3,2)\\xrightarrow{+2}(1,0,3,0)\\xrightarrow{+1}(0,0,0,0)&:\\quad\\text{final score }=4\\\\\n",
    "&(3,3,3,3)\\xrightarrow{+2}(1,3,1,3)\\xrightarrow{+1}(1,2,1,0)\\rightarrow\\text{stuck!}&:\\quad\\text{final score }=0\n",
    "\\end{align}\n",
    "$$\n",
    "\n",
    "Define $F(n)$ to be the sum of the final scores achieved for every sequence of turns which successfully empty all piles.\n",
    "\n",
    "You are given $F(3)=12$, $F(4)=360$, and $F(8)=16785941760$.\n",
    "\n",
    "Find $F(100)$. Give your answer modulo $10^9+7$."
   ]
  },
  {
   "cell_type": "code",
   "execution_count": null,
   "id": "20416977",
   "metadata": {},
   "outputs": [],
   "source": [
    "# Problem 960 workspace"
   ]
  },
  {
   "cell_type": "markdown",
   "id": "53c415e2",
   "metadata": {},
   "source": [
    "## Answer: "
   ]
  },
  {
   "cell_type": "markdown",
   "id": "8ae3ebaf",
   "metadata": {},
   "source": [
    "___"
   ]
  }
 ],
 "metadata": {},
 "nbformat": 4,
 "nbformat_minor": 5
}
