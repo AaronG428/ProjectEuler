{
 "cells": [
  {
   "cell_type": "markdown",
   "id": "520730c6",
   "metadata": {},
   "source": [
    "# Problem 81\n",
    " [Source](https://projecteuler.net/problem=81)"
   ]
  },
  {
   "cell_type": "markdown",
   "id": "7832fc08",
   "metadata": {},
   "source": [
    "In the $5$ by $5$ matrix below, the minimal path sum from the top left to the bottom right, by\n",
    "**only moving to the right and down**\n",
    ", is indicated in bold red and is equal to $2427$.\n",
    "\n",
    "$$\n",
    "\\begin{pmatrix}\n",
    "\\color{red}{131} & 673 & 234 & 103 & 18\\\\\n",
    "\\color{red}{201} & \\color{red}{96} & \\color{red}{342} & 965 & 150\\\\\n",
    "630 & 803 & \\color{red}{746} & \\color{red}{422} & 111\\\\\n",
    "537 & 699 & 497 & \\color{red}{121} & 956\\\\\n",
    "805 & 732 & 524 & \\color{red}{37} & \\color{red}{331}\n",
    "\\end{pmatrix}\n",
    "$$\n",
    "\n",
    "Find the minimal path sum from the top left to the bottom right by only moving right and down in\n",
    "[matrix.txt](resources/documents/0081_matrix.txt)\n",
    "(right click and \"Save Link/Target As...\"), a 31K text file containing an $80$ by $80$ matrix."
   ]
  },
  {
   "cell_type": "code",
   "execution_count": null,
   "id": "0b8ed28a",
   "metadata": {},
   "outputs": [],
   "source": [
    "# Problem 81 workspace"
   ]
  },
  {
   "cell_type": "markdown",
   "id": "f33e8dcc",
   "metadata": {},
   "source": [
    "## Answer: "
   ]
  },
  {
   "cell_type": "markdown",
   "id": "a499af6b",
   "metadata": {},
   "source": [
    "___"
   ]
  },
  {
   "cell_type": "markdown",
   "id": "b6c8dae2",
   "metadata": {},
   "source": [
    "# Problem 82\n",
    " [Source](https://projecteuler.net/problem=82)"
   ]
  },
  {
   "cell_type": "markdown",
   "id": "d2c5b562",
   "metadata": {},
   "source": [
    "NOTE: This problem is a more challenging version of\n",
    "[Problem 81](problem=81)\n",
    ".\n",
    "\n",
    "The minimal path sum in the $5$ by $5$ matrix below, by starting in any cell in the left column and finishing in any cell in the right column, and only moving up, down, and right, is indicated in red and bold; the sum is equal to $994$.\n",
    "\n",
    "$$\n",
    "\\begin{pmatrix}\n",
    "131 & 673 & \\color{red}{234} & \\color{red}{103} & \\color{red}{18}\\\\\n",
    "\\color{red}{201} & \\color{red}{96} & \\color{red}{342} & 965 & 150\\\\\n",
    "630 & 803 & 746 & 422 & 111\\\\\n",
    "537 & 699 & 497 & 121 & 956\\\\\n",
    "805 & 732 & 524 & 37 & 331\n",
    "\\end{pmatrix}\n",
    "$$\n",
    "\n",
    "Find the minimal path sum from the left column to the right column in\n",
    "[matrix.txt](resources/documents/0082_matrix.txt)\n",
    "(right click and \"Save Link/Target As...\"), a 31K text file containing an $80$ by $80$ matrix."
   ]
  },
  {
   "cell_type": "code",
   "execution_count": null,
   "id": "68c7f66a",
   "metadata": {},
   "outputs": [],
   "source": [
    "# Problem 82 workspace"
   ]
  },
  {
   "cell_type": "markdown",
   "id": "c7f66205",
   "metadata": {},
   "source": [
    "## Answer: "
   ]
  },
  {
   "cell_type": "markdown",
   "id": "f43527e7",
   "metadata": {},
   "source": [
    "___"
   ]
  },
  {
   "cell_type": "markdown",
   "id": "eb06ed65",
   "metadata": {},
   "source": [
    "# Problem 83\n",
    " [Source](https://projecteuler.net/problem=83)"
   ]
  },
  {
   "cell_type": "markdown",
   "id": "1db1cfc3",
   "metadata": {},
   "source": [
    "NOTE: This problem is a significantly more challenging version of\n",
    "[Problem 81](problem=81)\n",
    ".\n",
    "\n",
    "In the $5$ by $5$ matrix below, the minimal path sum from the top left to the bottom right, by moving left, right, up, and down, is indicated in bold red and is equal to $2297$.\n",
    "\n",
    "$$\n",
    "\\begin{pmatrix}\n",
    "\\color{red}{131} & 673 & \\color{red}{234} & \\color{red}{103} & \\color{red}{18}\\\\\n",
    "\\color{red}{201} & \\color{red}{96} & \\color{red}{342} & 965 & \\color{red}{150}\\\\\n",
    "630 & 803 & 746 & \\color{red}{422} & \\color{red}{111}\\\\\n",
    "537 & 699 & 497 & \\color{red}{121} & 956\\\\\n",
    "805 & 732 & 524 & \\color{red}{37} & \\color{red}{331}\n",
    "\\end{pmatrix}\n",
    "$$\n",
    "\n",
    "Find the minimal path sum from the top left to the bottom right by moving left, right, up, and down in\n",
    "[matrix.txt](resources/documents/0083_matrix.txt)\n",
    "(right click and \"Save Link/Target As...\"), a 31K text file containing an $80$ by $80$ matrix."
   ]
  },
  {
   "cell_type": "code",
   "execution_count": null,
   "id": "36916f53",
   "metadata": {},
   "outputs": [],
   "source": [
    "# Problem 83 workspace"
   ]
  },
  {
   "cell_type": "markdown",
   "id": "d167a967",
   "metadata": {},
   "source": [
    "## Answer: "
   ]
  },
  {
   "cell_type": "markdown",
   "id": "720f0ecd",
   "metadata": {},
   "source": [
    "___"
   ]
  },
  {
   "cell_type": "markdown",
   "id": "13e8dbf6",
   "metadata": {},
   "source": [
    "# Problem 84\n",
    " [Source](https://projecteuler.net/problem=84)"
   ]
  },
  {
   "cell_type": "markdown",
   "id": "336088d9",
   "metadata": {},
   "source": [
    "In the game,\n",
    "**Monopoly**\n",
    ", the standard board is set up in the following way:\n",
    "\n",
    "![0084_monopoly_board.png](resources/0084_monopoly_board.png)\n",
    "\n",
    "A player starts on the GO square and adds the scores on two 6-sided dice to determine the number of squares they advance in a clockwise direction. Without any further rules we would expect to visit each square with equal probability: 2.5%. However, landing on G2J (Go To Jail), CC (community chest), and CH (chance) changes this distribution.\n",
    "\n",
    "In addition to G2J, and one card from each of CC and CH, that orders the player to go directly to jail, if a player rolls three consecutive doubles, they do not advance the result of their 3rd roll. Instead they proceed directly to jail.\n",
    "\n",
    "At the beginning of the game, the CC and CH cards are shuffled. When a player lands on CC or CH they take a card from the top of the respective pile and, after following the instructions, it is returned to the bottom of the pile. There are sixteen cards in each pile, but for the purpose of this problem we are only concerned with cards that order a movement; any instruction not concerned with movement will be ignored and the player will remain on the CC/CH square.\n",
    "\n",
    "* Community Chest (2/16 cards):\n",
    "  1. Advance to GO\n",
    "  2. Go to JAIL\n",
    "* Chance (10/16 cards):\n",
    "  1. Advance to GO\n",
    "  2. Go to JAIL\n",
    "  3. Go to C1\n",
    "  4. Go to E3\n",
    "  5. Go to H2\n",
    "  6. Go to R1\n",
    "  7. Go to next R (railway company)\n",
    "  8. Go to next R\n",
    "  9. Go to next U (utility company)\n",
    "  10. Go back 3 squares.\n",
    "\n",
    "The heart of this problem concerns the likelihood of visiting a particular square. That is, the probability of finishing at that square after a roll. For this reason it should be clear that, with the exception of G2J for which the probability of finishing on it is zero, the CH squares will have the lowest probabilities, as 5/8 request a movement to another square, and it is the final square that the player finishes at on each roll that we are interested in. We shall make no distinction between \"Just Visiting\" and being sent to JAIL, and we shall also ignore the rule about requiring a double to \"get out of jail\", assuming that they pay to get out on their next turn.\n",
    "\n",
    "By starting at GO and numbering the squares sequentially from 00 to 39 we can concatenate these two-digit numbers to produce strings that correspond with sets of squares.\n",
    "\n",
    "Statistically it can be shown that the three most popular squares, in order, are JAIL (6.24%) = Square 10, E3 (3.18%) = Square 24, and GO (3.09%) = Square 00. So these three most popular squares can be listed with the six-digit modal string: 102400.\n",
    "\n",
    "If, instead of using two 6-sided dice, two 4-sided dice are used, find the six-digit modal string."
   ]
  },
  {
   "cell_type": "code",
   "execution_count": null,
   "id": "fcc71ba0",
   "metadata": {},
   "outputs": [],
   "source": [
    "# Problem 84 workspace"
   ]
  },
  {
   "cell_type": "markdown",
   "id": "55dad9d6",
   "metadata": {},
   "source": [
    "## Answer: "
   ]
  },
  {
   "cell_type": "markdown",
   "id": "c7d5a783",
   "metadata": {},
   "source": [
    "___"
   ]
  },
  {
   "cell_type": "markdown",
   "id": "e17389e0",
   "metadata": {},
   "source": [
    "# Problem 85\n",
    " [Source](https://projecteuler.net/problem=85)"
   ]
  },
  {
   "cell_type": "markdown",
   "id": "eb1c9e03",
   "metadata": {},
   "source": [
    "By counting carefully it can be seen that a rectangular grid measuring $3$ by $2$ contains eighteen rectangles:\n",
    "\n",
    "![](resources/0085.png)\n",
    "\n",
    "Although there exists no rectangular grid that contains exactly two million rectangles, find the area of the grid with the nearest solution."
   ]
  },
  {
   "cell_type": "code",
   "execution_count": null,
   "id": "2e3cb6d4",
   "metadata": {},
   "outputs": [],
   "source": [
    "# Problem 85 workspace"
   ]
  },
  {
   "cell_type": "markdown",
   "id": "8b225fbb",
   "metadata": {},
   "source": [
    "## Answer: "
   ]
  },
  {
   "cell_type": "markdown",
   "id": "2a9129d7",
   "metadata": {},
   "source": [
    "___"
   ]
  },
  {
   "cell_type": "markdown",
   "id": "db1ed5cf",
   "metadata": {},
   "source": [
    "# Problem 86\n",
    " [Source](https://projecteuler.net/problem=86)"
   ]
  },
  {
   "cell_type": "markdown",
   "id": "27c1111b",
   "metadata": {},
   "source": [
    "A spider, S, sits in one corner of a cuboid room, measuring $6$ by $5$ by $3$, and a fly, F, sits in the opposite corner. By travelling on the surfaces of the room the shortest \"straight line\" distance from S to F is $10$ and the path is shown on the diagram.\n",
    "\n",
    "![](resources/0086.png)\n",
    "\n",
    "However, there are up to three \"shortest\" path candidates for any given cuboid and the shortest route doesn't always have integer length.\n",
    "\n",
    "It can be shown that there are exactly $2060$ distinct cuboids, ignoring rotations, with integer dimensions, up to a maximum size of $M$ by $M$ by $M$, for which the shortest route has integer length when $M = 100$. This is the least value of $M$ for which the number of solutions first exceeds two thousand; the number of solutions when $M = 99$ is $1975$.\n",
    "\n",
    "Find the least value of $M$ such that the number of solutions first exceeds one million."
   ]
  },
  {
   "cell_type": "code",
   "execution_count": null,
   "id": "df45d244",
   "metadata": {},
   "outputs": [],
   "source": [
    "# Problem 86 workspace"
   ]
  },
  {
   "cell_type": "markdown",
   "id": "a7ed924d",
   "metadata": {},
   "source": [
    "## Answer: "
   ]
  },
  {
   "cell_type": "markdown",
   "id": "78ffa2bb",
   "metadata": {},
   "source": [
    "___"
   ]
  },
  {
   "cell_type": "markdown",
   "id": "4fec4b03",
   "metadata": {},
   "source": [
    "# Problem 87\n",
    " [Source](https://projecteuler.net/problem=87)"
   ]
  },
  {
   "cell_type": "markdown",
   "id": "15346501",
   "metadata": {},
   "source": [
    "The smallest number expressible as the sum of a prime square, prime cube, and prime fourth power is $28$. In fact, there are exactly four numbers below fifty that can be expressed in such a way:\n",
    "\n",
    "$$\\begin{align}\n",
    "28 &= 2^2 + 2^3 + 2^4\\\\\n",
    "33 &= 3^2 + 2^3 + 2^4\\\\\n",
    "49 &= 5^2 + 2^3 + 2^4\\\\\n",
    "47 &= 2^2 + 3^3 + 2^4\n",
    "\\end{align}$$\n",
    "\n",
    "How many numbers below fifty million can be expressed as the sum of a prime square, prime cube, and prime fourth power?"
   ]
  },
  {
   "cell_type": "code",
   "execution_count": null,
   "id": "7806aa81",
   "metadata": {},
   "outputs": [],
   "source": [
    "# Problem 87 workspace"
   ]
  },
  {
   "cell_type": "markdown",
   "id": "448db61e",
   "metadata": {},
   "source": [
    "## Answer: "
   ]
  },
  {
   "cell_type": "markdown",
   "id": "60a22dec",
   "metadata": {},
   "source": [
    "___"
   ]
  },
  {
   "cell_type": "markdown",
   "id": "760412e5",
   "metadata": {},
   "source": [
    "# Problem 88\n",
    " [Source](https://projecteuler.net/problem=88)"
   ]
  },
  {
   "cell_type": "markdown",
   "id": "c23dd329",
   "metadata": {},
   "source": [
    "A natural number, $N$, that can be written as the sum and product of a given set of at least two natural numbers, $\\{a\\_1, a\\_2, \\dots, a\\_k\\}$ is called a product-sum number: $N = a\\_1 + a\\_2 + \\cdots + a\\_k = a\\_1 \\times a\\_2 \\times \\cdots \\times a\\_k$.\n",
    "\n",
    "For example, $6 = 1 + 2 + 3 = 1 \\times 2 \\times 3$.\n",
    "\n",
    "For a given set of size, $k$, we shall call the smallest $N$ with this property a minimal product-sum number. The minimal product-sum numbers for sets of size, $k = 2, 3, 4, 5$, and $6$ are as follows.\n",
    "\n",
    "* $k=2$: $4 = 2 \\times 2 = 2 + 2$\n",
    "* $k=3$: $6 = 1 \\times 2 \\times 3 = 1 + 2 + 3$\n",
    "* $k=4$: $8 = 1 \\times 1 \\times 2 \\times 4 = 1 + 1 + 2 + 4$\n",
    "* $k=5$: $8 = 1 \\times 1 \\times 2 \\times 2 \\times 2 = 1 + 1 + 2 + 2 + 2$\n",
    "* $k=6$: $12 = 1 \\times 1 \\times 1 \\times 1 \\times 2 \\times 6 = 1 + 1 + 1 + 1 + 2 + 6$\n",
    "\n",
    "Hence for $2 \\le k \\le 6$, the sum of all the minimal product-sum numbers is $4+6+8+12 = 30$; note that $8$ is only counted once in the sum.\n",
    "\n",
    "In fact, as the complete set of minimal product-sum numbers for $2 \\le k \\le 12$ is $\\{4, 6, 8, 12, 15, 16\\}$, the sum is $61$.\n",
    "\n",
    "What is the sum of all the minimal product-sum numbers for $2 \\le k \\le 12000$?"
   ]
  },
  {
   "cell_type": "code",
   "execution_count": null,
   "id": "af0d231c",
   "metadata": {},
   "outputs": [],
   "source": [
    "# Problem 88 workspace"
   ]
  },
  {
   "cell_type": "markdown",
   "id": "1721fd01",
   "metadata": {},
   "source": [
    "## Answer: "
   ]
  },
  {
   "cell_type": "markdown",
   "id": "35967f36",
   "metadata": {},
   "source": [
    "___"
   ]
  },
  {
   "cell_type": "markdown",
   "id": "0842264c",
   "metadata": {},
   "source": [
    "# Problem 89\n",
    " [Source](https://projecteuler.net/problem=89)"
   ]
  },
  {
   "cell_type": "markdown",
   "id": "98d6259e",
   "metadata": {},
   "source": [
    "For a number written in Roman numerals to be considered valid there are basic rules which must be followed. Even though the rules allow some numbers to be expressed in more than one way there is always a \"best\" way of writing a particular number.\n",
    "\n",
    "For example, it would appear that there are at least six ways of writing the number sixteen:\n",
    "\n",
    "IIIIIIIIIIIIIIII\n",
    "  \n",
    "VIIIIIIIIIII\n",
    "  \n",
    "VVIIIIII\n",
    "  \n",
    "XIIIIII\n",
    "  \n",
    "VVVI\n",
    "  \n",
    "XVI\n",
    "\n",
    "However, according to the rules only\n",
    "XIIIIII\n",
    "and\n",
    "XVI\n",
    "are valid, and the last example is considered to be the most efficient, as it uses the least number of numerals.\n",
    "\n",
    "The 11K text file,\n",
    "[roman.txt](resources/documents/0089_roman.txt)\n",
    "(right click and 'Save Link/Target As...'), contains one thousand numbers written in valid, but not necessarily minimal, Roman numerals; see\n",
    "[About... Roman Numerals](about=roman_numerals)\n",
    "for the definitive rules for this problem.\n",
    "\n",
    "Find the number of characters saved by writing each of these in their minimal form.\n",
    "\n",
    "Note: You can assume that all the Roman numerals in the file contain no more than four consecutive identical units."
   ]
  },
  {
   "cell_type": "code",
   "execution_count": null,
   "id": "58de4b9f",
   "metadata": {},
   "outputs": [],
   "source": [
    "# Problem 89 workspace"
   ]
  },
  {
   "cell_type": "markdown",
   "id": "52a40d6c",
   "metadata": {},
   "source": [
    "## Answer: "
   ]
  },
  {
   "cell_type": "markdown",
   "id": "c7bbc182",
   "metadata": {},
   "source": [
    "___"
   ]
  },
  {
   "cell_type": "markdown",
   "id": "bf9d479a",
   "metadata": {},
   "source": [
    "# Problem 90\n",
    " [Source](https://projecteuler.net/problem=90)"
   ]
  },
  {
   "cell_type": "markdown",
   "id": "86216f78",
   "metadata": {},
   "source": [
    "Each of the six faces on a cube has a different digit ($0$ to $9$) written on it; the same is done to a second cube. By placing the two cubes side-by-side in different positions we can form a variety of $2$-digit numbers.\n",
    "\n",
    "For example, the square number $64$ could be formed:\n",
    "\n",
    "![](resources/0090.png)\n",
    "\n",
    "In fact, by carefully choosing the digits on both cubes it is possible to display all of the square numbers below one-hundred: $01$, $04$, $09$, $16$, $25$, $36$, $49$, $64$, and $81$.\n",
    "\n",
    "For example, one way this can be achieved is by placing $\\{0, 5, 6, 7, 8, 9\\}$ on one cube and $\\{1, 2, 3, 4, 8, 9\\}$ on the other cube.\n",
    "\n",
    "However, for this problem we shall allow the $6$ or $9$ to be turned upside-down so that an arrangement like $\\{0, 5, 6, 7, 8, 9\\}$ and $\\{1, 2, 3, 4, 6, 7\\}$ allows for all nine square numbers to be displayed; otherwise it would be impossible to obtain $09$.\n",
    "\n",
    "In determining a distinct arrangement we are interested in the digits on each cube, not the order.\n",
    "\n",
    "* $\\{1, 2, 3, 4, 5, 6\\}$ is equivalent to $\\{3, 6, 4, 1, 2, 5\\}$\n",
    "* $\\{1, 2, 3, 4, 5, 6\\}$ is distinct from $\\{1, 2, 3, 4, 5, 9\\}$\n",
    "\n",
    "But because we are allowing $6$ and $9$ to be reversed, the two distinct sets in the last example both represent the extended set $\\{1, 2, 3, 4, 5, 6, 9\\}$ for the purpose of forming $2$-digit numbers.\n",
    "\n",
    "How many distinct arrangements of the two cubes allow for all of the square numbers to be displayed?"
   ]
  },
  {
   "cell_type": "code",
   "execution_count": null,
   "id": "4fc1cf66",
   "metadata": {},
   "outputs": [],
   "source": [
    "# Problem 90 workspace"
   ]
  },
  {
   "cell_type": "markdown",
   "id": "5dea41e2",
   "metadata": {},
   "source": [
    "## Answer: "
   ]
  },
  {
   "cell_type": "markdown",
   "id": "ca4d8efd",
   "metadata": {},
   "source": [
    "___"
   ]
  }
 ],
 "metadata": {},
 "nbformat": 4,
 "nbformat_minor": 5
}
