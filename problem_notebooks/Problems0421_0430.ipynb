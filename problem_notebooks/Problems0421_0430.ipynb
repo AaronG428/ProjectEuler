{
 "cells": [
  {
   "cell_type": "markdown",
   "id": "0366a23d",
   "metadata": {},
   "source": [
    "# Problem 421\n",
    " [Source](https://projecteuler.net/problem=421)"
   ]
  },
  {
   "cell_type": "markdown",
   "id": "7cf31ec8",
   "metadata": {},
   "source": [
    "Numbers of the form $n^{15}+1$ are composite for every integer $n \\gt 1$.\n",
    "  \n",
    "For positive integers $n$ and $m$ let $s(n,m)$ be defined as the sum of the\n",
    "*distinct*\n",
    "prime factors of $n^{15}+1$ not exceeding $m$.\n",
    "\n",
    "E.g. $2^{15}+1 = 3 \\times 3 \\times 11 \\times 331$.\n",
    "  \n",
    "So $s(2,10) = 3$ and $s(2,1000) = 3+11+331 = 345$.\n",
    "  \n",
    "  \n",
    "Also $10^{15}+1 = 7 \\times 11 \\times 13 \\times 211 \\times 241 \\times 2161 \\times 9091$.\n",
    "  \n",
    "So $s(10,100) = 31$ and $s(10,1000) = 483$.\n",
    "  \n",
    "\n",
    "Find $\\sum s(n,10^8)$ for $1 \\leq n \\leq 10^{11}$."
   ]
  },
  {
   "cell_type": "code",
   "execution_count": null,
   "id": "5b5f2d6d",
   "metadata": {},
   "outputs": [],
   "source": [
    "# Problem 421 workspace"
   ]
  },
  {
   "cell_type": "markdown",
   "id": "a1a2e0ca",
   "metadata": {},
   "source": [
    "## Answer: "
   ]
  },
  {
   "cell_type": "markdown",
   "id": "a072018a",
   "metadata": {},
   "source": [
    "___"
   ]
  },
  {
   "cell_type": "markdown",
   "id": "e2cbc1c2",
   "metadata": {},
   "source": [
    "# Problem 422\n",
    " [Source](https://projecteuler.net/problem=422)"
   ]
  },
  {
   "cell_type": "markdown",
   "id": "32b4c94d",
   "metadata": {},
   "source": [
    "Let $H$ be the hyperbola defined by the equation $12x^2 + 7xy - 12y^2 = 625$.\n",
    "\n",
    "Next, define $X$ as the point $(7, 1)$. It can be seen that $X$ is in $H$.\n",
    "\n",
    "Now we define a sequence of points in $H$, $\\{P\\_i: i \\geq 1\\}$, as:\n",
    "\n",
    "* $P\\_1 = (13, 61/4)$.\n",
    "* $P\\_2 = (-43/6, -4)$.\n",
    "* For $i \\gt 2$, $P\\_i$ is the unique point in $H$ that is different from $P\\_{i-1}$ and such that line $P\\_iP\\_{i-1}$ is parallel to line $P\\_{i-2}X$. It can be shown that $P\\_i$ is well-defined, and that its coordinates are always rational.\n",
    "\n",
    "![0422_hyperbola.gif](resources/0422_hyperbola.gif)\n",
    "\n",
    "You are given that $P\\_3 = (-19/2, -229/24)$, $P\\_4 = (1267/144, -37/12)$ and $P\\_7 = (17194218091/143327232, 274748766781/1719926784)$.\n",
    "\n",
    "Find $P\\_n$ for $n = 11^{14}$ in the following format:\n",
    "  \n",
    "If $P\\_n = (a/b, c/d)$ where the fractions are in lowest terms and the denominators are positive, then the answer is $(a + b + c + d) \\bmod 1\\,000\\,000\\,007$.\n",
    "\n",
    "For $n = 7$, the answer would have been: $806236837$."
   ]
  },
  {
   "cell_type": "code",
   "execution_count": null,
   "id": "9bb0ae06",
   "metadata": {},
   "outputs": [],
   "source": [
    "# Problem 422 workspace"
   ]
  },
  {
   "cell_type": "markdown",
   "id": "8835126c",
   "metadata": {},
   "source": [
    "## Answer: "
   ]
  },
  {
   "cell_type": "markdown",
   "id": "c790a481",
   "metadata": {},
   "source": [
    "___"
   ]
  },
  {
   "cell_type": "markdown",
   "id": "3f379980",
   "metadata": {},
   "source": [
    "# Problem 423\n",
    " [Source](https://projecteuler.net/problem=423)"
   ]
  },
  {
   "cell_type": "markdown",
   "id": "e2214511",
   "metadata": {},
   "source": [
    "Let $n$ be a positive integer.\n",
    "  \n",
    "A 6-sided die is thrown $n$ times. Let $c$ be the number of pairs of consecutive throws that give the same value.\n",
    "\n",
    "For example, if $n = 7$ and the values of the die throws are (1,1,5,6,6,6,3), then the following pairs of consecutive throws give the same value:\n",
    "  \n",
    "(\n",
    "1,1\n",
    ",5,6,6,6,3)\n",
    "  \n",
    "(1,1,5,\n",
    "6,6\n",
    ",6,3)\n",
    "  \n",
    "(1,1,5,6,\n",
    "6,6\n",
    ",3)\n",
    "  \n",
    "Therefore, $c = 3$ for (1,1,5,6,6,6,3).\n",
    "\n",
    "Define $C(n)$ as the number of outcomes of throwing a 6-sided die $n$ times such that $c$ does not exceed $\\pi(n)$.\n",
    "1\n",
    "  \n",
    "For example, $C(3) = 216$, $C(4) = 1290$, $C(11) = 361912500$ and $C(24) = 4727547363281250000$.\n",
    "\n",
    "Define $S(L)$ as $\\sum C(n)$ for $1 \\leq n \\leq L$.\n",
    "  \n",
    "For example, $S(50) \\bmod 1\\,000\\,000\\,007 = 832833871$.\n",
    "\n",
    "Find $S(50\\,000\\,000) \\bmod 1\\,000\\,000\\,007$.\n",
    "\n",
    "1\n",
    "$\\pi$ denotes the\n",
    "**prime-counting function**\n",
    ", i.e. $\\pi(n)$ is the number of primes $\\leq n$."
   ]
  },
  {
   "cell_type": "code",
   "execution_count": null,
   "id": "c6b49802",
   "metadata": {},
   "outputs": [],
   "source": [
    "# Problem 423 workspace"
   ]
  },
  {
   "cell_type": "markdown",
   "id": "c7e680c7",
   "metadata": {},
   "source": [
    "## Answer: "
   ]
  },
  {
   "cell_type": "markdown",
   "id": "f58b0870",
   "metadata": {},
   "source": [
    "___"
   ]
  },
  {
   "cell_type": "markdown",
   "id": "fda42c32",
   "metadata": {},
   "source": [
    "# Problem 424\n",
    " [Source](https://projecteuler.net/problem=424)"
   ]
  },
  {
   "cell_type": "markdown",
   "id": "ab851b5b",
   "metadata": {},
   "source": [
    "![0424_kakuro1.gif](resources/0424_kakuro1.gif)\n",
    "\n",
    "The above is an example of a cryptic kakuro (also known as cross sums, or even sums cross) puzzle, with its final solution on the right. (The common rules of kakuro puzzles can be found easily on numerous internet sites. Other related information can also be currently found at\n",
    "[krazydad.com](http://krazydad.com/)\n",
    "whose author has provided the puzzle data for this challenge.)\n",
    "\n",
    "The downloadable text file (\n",
    "[kakuro200.txt](resources/documents/0424_kakuro200.txt)\n",
    ") contains the description of 200 such puzzles, a mix of 5x5 and 6x6 types. The first puzzle in the file is the above example which is coded as follows:\n",
    "\n",
    "6,X,X,(vCC),(vI),X,X,X,(hH),B,O,(vCA),(vJE),X,(hFE,vD),O,O,O,O,(hA),O,I,(hJC,vB),O,O,(hJC),H,O,O,O,X,X,X,(hJE),O,O,X\n",
    "\n",
    "The first character is a numerical digit indicating the size of the information grid. It would be either a 6 (for a 5x5 kakuro puzzle) or a 7 (for a 6x6 puzzle) followed by a comma (,). The extra top line and left column are needed to insert information.\n",
    "\n",
    "The content of each cell is then described and followed by a comma, going left to right and starting with the top line.\n",
    "  \n",
    "X = Gray cell, not required to be filled by a digit.\n",
    "  \n",
    "O (upper case letter)= White empty cell to be filled by a digit.\n",
    "  \n",
    "A = Or any one of the upper case letters from A to J to be replaced by its equivalent digit in the solved puzzle.\n",
    "  \n",
    "( ) = Location of the encrypted sums. Horizontal sums are preceded by a lower case \"h\" and vertical sums are preceded by a lower case \"v\". Those are followed by one or two upper case letters depending if the sum is a single digit or double digit one. For double digit sums, the first letter would be for the \"tens\" and the second one for the \"units\". When the cell must contain information for both a horizontal and a vertical sum, the first one is always for the horizontal sum and the two are separated by a comma within the same set of brackets, ex.: (hFE,vD). Each set of brackets is also immediately followed by a comma.\n",
    "\n",
    "The description of the last cell is followed by a Carriage Return/Line Feed (CRLF) instead of a comma.\n",
    "\n",
    "The required answer to each puzzle is based on the value of each letter necessary to arrive at the solution and according to the alphabetical order. As indicated under the example puzzle, its answer would be 8426039571. At least 9 out of the 10 encrypting letters are always part of the problem description. When only 9 are given, the missing one must be assigned the remaining digit.\n",
    "\n",
    "You are given that the sum of the answers for the first 10 puzzles in the file is 64414157580.\n",
    "\n",
    "Find the sum of the answers for the 200 puzzles."
   ]
  },
  {
   "cell_type": "code",
   "execution_count": null,
   "id": "97775d9f",
   "metadata": {},
   "outputs": [],
   "source": [
    "# Problem 424 workspace"
   ]
  },
  {
   "cell_type": "markdown",
   "id": "5c98ad65",
   "metadata": {},
   "source": [
    "## Answer: "
   ]
  },
  {
   "cell_type": "markdown",
   "id": "8806ea99",
   "metadata": {},
   "source": [
    "___"
   ]
  },
  {
   "cell_type": "markdown",
   "id": "6b9cdef4",
   "metadata": {},
   "source": [
    "# Problem 425\n",
    " [Source](https://projecteuler.net/problem=425)"
   ]
  },
  {
   "cell_type": "markdown",
   "id": "349cd1c1",
   "metadata": {},
   "source": [
    "Two positive numbers $A$ and $B$ are said to be\n",
    "connected\n",
    "(denoted by \"$A \\leftrightarrow B$\") if one of these conditions holds:\n",
    "  \n",
    "(1) $A$ and $B$ have the same length and differ in exactly one digit; for example, $123 \\leftrightarrow 173$.\n",
    "  \n",
    "(2) Adding one digit to the left of $A$ (or $B$) makes $B$ (or $A$); for example, $23 \\leftrightarrow 223$ and $123 \\leftrightarrow 23$.\n",
    "\n",
    "We call a prime $P$ a\n",
    "$2$'s relative\n",
    "if there exists a chain of connected primes between $2$ and $P$ and no prime in the chain exceeds $P$.\n",
    "\n",
    "For example, $127$ is a $2$'s relative. One of the possible chains is shown below:\n",
    "  \n",
    "$2 \\leftrightarrow 3 \\leftrightarrow 13 \\leftrightarrow 113 \\leftrightarrow 103 \\leftrightarrow 107 \\leftrightarrow 127$\n",
    "  \n",
    "However, $11$ and $103$ are not $2$'s relatives.\n",
    "\n",
    "Let $F(N)$ be the sum of the primes $\\leq N$ which are not $2$'s relatives.\n",
    "  \n",
    "We can verify that $F(10^3) = 431$ and $F(10^4) = 78728$.\n",
    "\n",
    "Find $F(10^7)$."
   ]
  },
  {
   "cell_type": "code",
   "execution_count": null,
   "id": "9c3c1ef3",
   "metadata": {},
   "outputs": [],
   "source": [
    "# Problem 425 workspace"
   ]
  },
  {
   "cell_type": "markdown",
   "id": "7c5dd9f2",
   "metadata": {},
   "source": [
    "## Answer: "
   ]
  },
  {
   "cell_type": "markdown",
   "id": "ddcdb5a1",
   "metadata": {},
   "source": [
    "___"
   ]
  },
  {
   "cell_type": "markdown",
   "id": "e1a4e46c",
   "metadata": {},
   "source": [
    "# Problem 426\n",
    " [Source](https://projecteuler.net/problem=426)"
   ]
  },
  {
   "cell_type": "markdown",
   "id": "892cfc66",
   "metadata": {},
   "source": [
    "Consider an infinite row of boxes. Some of the boxes contain a ball. For example, an initial configuration of 2 consecutive occupied boxes followed by 2 empty boxes, 2 occupied boxes, 1 empty box, and 2 occupied boxes can be denoted by the sequence (2, 2, 2, 1, 2), in which the number of consecutive occupied and empty boxes appear alternately.\n",
    "\n",
    "A turn consists of moving each ball exactly once according to the following rule: Transfer the leftmost ball which has not been moved to the nearest empty box to its right.\n",
    "\n",
    "After one turn the sequence (2, 2, 2, 1, 2) becomes (2, 2, 1, 2, 3) as can be seen below; note that we begin the new sequence starting at the first occupied box.\n",
    "\n",
    "![0426_baxball1.gif](resources/0426_baxball1.gif)\n",
    "\n",
    "A system like this is called a\n",
    "**Box-Ball System**\n",
    "or\n",
    "**BBS**\n",
    "for short.\n",
    "\n",
    "It can be shown that after a sufficient number of turns, the system evolves to a state where the consecutive numbers of occupied boxes is invariant. In the example below, the consecutive numbers of\n",
    "**occupied boxes**\n",
    "evolves to [1, 2, 3]; we shall call this the final state.\n",
    "\n",
    "![0426_baxball2.gif](resources/0426_baxball2.gif)\n",
    "\n",
    "We define the sequence {\n",
    "t\n",
    "i\n",
    "}:\n",
    "\n",
    "* s\n",
    "  0\n",
    "  = 290797\n",
    "* s\n",
    "  k\n",
    "  +1\n",
    "  =\n",
    "  s\n",
    "  k\n",
    "  2\n",
    "  mod 50515093\n",
    "* t\n",
    "  k\n",
    "  = (\n",
    "  s\n",
    "  k\n",
    "  mod 64) + 1\n",
    "\n",
    "Starting from the initial configuration (\n",
    "t\n",
    "0\n",
    ",\n",
    "t\n",
    "1\n",
    ", …,\n",
    "t\n",
    "10\n",
    "), the final state becomes [1, 3, 10, 24, 51, 75].\n",
    "  \n",
    "Starting from the initial configuration (\n",
    "t\n",
    "0\n",
    ",\n",
    "t\n",
    "1\n",
    ", …,\n",
    "t\n",
    "10 000 000\n",
    "), find the final state.\n",
    "  \n",
    "Give as your answer the sum of the squares of the elements of the final state. For example, if the final state is [1, 2, 3] then 14 ( = 1\n",
    "2\n",
    "+ 2\n",
    "2\n",
    "+ 3\n",
    "2\n",
    ") is your answer."
   ]
  },
  {
   "cell_type": "code",
   "execution_count": null,
   "id": "1a492f4f",
   "metadata": {},
   "outputs": [],
   "source": [
    "# Problem 426 workspace"
   ]
  },
  {
   "cell_type": "markdown",
   "id": "604c4ed0",
   "metadata": {},
   "source": [
    "## Answer: "
   ]
  },
  {
   "cell_type": "markdown",
   "id": "e5757308",
   "metadata": {},
   "source": [
    "___"
   ]
  },
  {
   "cell_type": "markdown",
   "id": "81daafa8",
   "metadata": {},
   "source": [
    "# Problem 427\n",
    " [Source](https://projecteuler.net/problem=427)"
   ]
  },
  {
   "cell_type": "markdown",
   "id": "bb91a530",
   "metadata": {},
   "source": [
    "A sequence of integers $S = \\{s\\_i\\}$ is called an $n$-sequence if it has $n$ elements and each element $s\\_i$ satisfies $1 \\leq s\\_i \\leq n$. Thus there are $n^n$ distinct $n$-sequences in total.\n",
    "For example, the sequence $S = \\{1, 5, 5, 10, 7, 7, 7, 2, 3, 7\\}$ is a $10$-sequence.\n",
    "\n",
    "For any sequence $S$, let $L(S)$ be the length of the longest contiguous subsequence of $S$ with the same value.\n",
    "For example, for the given sequence $S$ above, $L(S) = 3$, because of the three consecutive $7$'s.\n",
    "\n",
    "Let $f(n) = \\sum L(S)$ for all $n$-sequences S.\n",
    "\n",
    "For example, $f(3) = 45$, $f(7) = 1403689$ and $f(11) = 481496895121$.\n",
    "\n",
    "Find $f(7\\,500\\,000) \\bmod 1\\,000\\,000\\,009$."
   ]
  },
  {
   "cell_type": "code",
   "execution_count": null,
   "id": "ce8f1773",
   "metadata": {},
   "outputs": [],
   "source": [
    "# Problem 427 workspace"
   ]
  },
  {
   "cell_type": "markdown",
   "id": "322c23e7",
   "metadata": {},
   "source": [
    "## Answer: "
   ]
  },
  {
   "cell_type": "markdown",
   "id": "fd7e72fd",
   "metadata": {},
   "source": [
    "___"
   ]
  },
  {
   "cell_type": "markdown",
   "id": "ae6f2af6",
   "metadata": {},
   "source": [
    "# Problem 428\n",
    " [Source](https://projecteuler.net/problem=428)"
   ]
  },
  {
   "cell_type": "markdown",
   "id": "1cf49d46",
   "metadata": {},
   "source": [
    "Let $a$, $b$ and $c$ be positive numbers.\n",
    "  \n",
    "Let $W, X, Y, Z$ be four collinear points where $|WX| = a$, $|XY| = b$, $|YZ| = c$ and $|WZ| = a + b + c$.\n",
    "  \n",
    "Let $C\\_{in}$ be the circle having the diameter $XY$.\n",
    "  \n",
    "Let $C\\_{out}$ be the circle having the diameter $WZ$.\n",
    "\n",
    "The triplet $(a, b, c)$ is called a\n",
    "necklace triplet\n",
    "if you can place $k \\geq 3$ distinct circles $C\\_1, C\\_2, \\dots, C\\_k$ such that:\n",
    "\n",
    "* $C\\_i$ has no common interior points with any $C\\_j$ for $1 \\leq i, j \\leq k$ and $i \\neq j$,\n",
    "* $C\\_i$ is tangent to both $C\\_{in}$ and $C\\_{out}$ for $1 \\leq i \\leq k$,\n",
    "* $C\\_i$ is tangent to $C\\_{i+1}$ for $1 \\leq i \\lt k$, and\n",
    "* $C\\_k$ is tangent to $C\\_1$.\n",
    "\n",
    "For example, $(5, 5, 5)$ and $(4, 3, 21)$ are necklace triplets, while it can be shown that $(2, 2, 5)$ is not.\n",
    "\n",
    "![0428_necklace.png](resources/0428_necklace.png)\n",
    "\n",
    "Let $T(n)$ be the number of necklace triplets $(a, b, c)$ such that $a$, $b$ and $c$ are positive integers, and $b \\leq n$.\n",
    "For example, $T(1) = 9$, $T(20) = 732$ and $T(3000) = 438106$.\n",
    "\n",
    "Find $T(1\\,000\\,000\\,000)$."
   ]
  },
  {
   "cell_type": "code",
   "execution_count": null,
   "id": "5f4326f2",
   "metadata": {},
   "outputs": [],
   "source": [
    "# Problem 428 workspace"
   ]
  },
  {
   "cell_type": "markdown",
   "id": "1995e912",
   "metadata": {},
   "source": [
    "## Answer: "
   ]
  },
  {
   "cell_type": "markdown",
   "id": "c9722525",
   "metadata": {},
   "source": [
    "___"
   ]
  },
  {
   "cell_type": "markdown",
   "id": "fba37571",
   "metadata": {},
   "source": [
    "# Problem 429\n",
    " [Source](https://projecteuler.net/problem=429)"
   ]
  },
  {
   "cell_type": "markdown",
   "id": "da8a2b9f",
   "metadata": {},
   "source": [
    "A unitary divisor $d$ of a number $n$ is a divisor of $n$ that has the property $\\gcd(d, n/d) = 1$.\n",
    "  \n",
    "The unitary divisors of $4! = 24$ are $1, 3, 8$ and $24$.\n",
    "  \n",
    "The sum of their squares is $1^2 + 3^2 + 8^2 + 24^2 = 650$.\n",
    "\n",
    "Let $S(n)$ represent the sum of the squares of the unitary divisors of $n$. Thus $S(4!)=650$.\n",
    "\n",
    "Find $S(100\\,000\\,000!)$ modulo $1\\,000\\,000\\,009$."
   ]
  },
  {
   "cell_type": "code",
   "execution_count": null,
   "id": "bbd11612",
   "metadata": {},
   "outputs": [],
   "source": [
    "# Problem 429 workspace"
   ]
  },
  {
   "cell_type": "markdown",
   "id": "95d95ff7",
   "metadata": {},
   "source": [
    "## Answer: "
   ]
  },
  {
   "cell_type": "markdown",
   "id": "af91c93a",
   "metadata": {},
   "source": [
    "___"
   ]
  },
  {
   "cell_type": "markdown",
   "id": "2bb1ee04",
   "metadata": {},
   "source": [
    "# Problem 430\n",
    " [Source](https://projecteuler.net/problem=430)"
   ]
  },
  {
   "cell_type": "markdown",
   "id": "96511b2c",
   "metadata": {},
   "source": [
    "$N$ disks are placed in a row, indexed $1$ to $N$ from left to right.\n",
    "  \n",
    "Each disk has a black side and white side. Initially all disks show their white side.\n",
    "\n",
    "At each turn, two, not necessarily distinct, integers $A$ and $B$ between $1$ and $N$ (inclusive) are chosen uniformly at random.\n",
    "  \n",
    "All disks with an index from $A$ to $B$ (inclusive) are flipped.\n",
    "\n",
    "The following example shows the case $N = 8$. At the first turn $A = 5$ and $B = 2$, and at the second turn $A = 4$ and $B = 6$.\n",
    "\n",
    "![0430_flips.gif](resources/0430_flips.gif)\n",
    "\n",
    "Let $E(N, M)$ be the expected number of disks that show their white side after $M$ turns.\n",
    "  \n",
    "We can verify that $E(3, 1) = 10/9$, $E(3, 2) = 5/3$, $E(10, 4) \\approx 5.157$ and $E(100, 10) \\approx 51.893$.\n",
    "\n",
    "Find $E(10^{10}, 4000)$.\n",
    "  \n",
    "Give your answer rounded to $2$ decimal places behind the decimal point."
   ]
  },
  {
   "cell_type": "code",
   "execution_count": null,
   "id": "55e88f4b",
   "metadata": {},
   "outputs": [],
   "source": [
    "# Problem 430 workspace"
   ]
  },
  {
   "cell_type": "markdown",
   "id": "756dc812",
   "metadata": {},
   "source": [
    "## Answer: "
   ]
  },
  {
   "cell_type": "markdown",
   "id": "bd171991",
   "metadata": {},
   "source": [
    "___"
   ]
  }
 ],
 "metadata": {},
 "nbformat": 4,
 "nbformat_minor": 5
}
