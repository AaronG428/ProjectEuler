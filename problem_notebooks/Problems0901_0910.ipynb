{
 "cells": [
  {
   "cell_type": "markdown",
   "id": "1c7d8685",
   "metadata": {},
   "source": [
    "# Problem 901\n",
    " [Source](https://projecteuler.net/problem=901)"
   ]
  },
  {
   "cell_type": "markdown",
   "id": "54044b67",
   "metadata": {},
   "source": [
    "A driller drills for water. At each iteration the driller chooses a depth $d$ (a positive real number), drills to this depth and then checks if water was found. If so, the process terminates. Otherwise, a new depth is chosen and a new drilling starts from the ground level in a new location nearby.\n",
    "\n",
    "Drilling to depth $d$ takes exactly $d$ hours. The groundwater depth is constant in the relevant area and its distribution is known to be an\n",
    "[exponential random variable](https://en.wikipedia.org/wiki/Exponential_distribution)\n",
    "with expected value of $1$. In other words, the probability that the groundwater is deeper than $d$ is $e^{-d}$.\n",
    "\n",
    "Assuming an optimal strategy, find the minimal expected drilling time in hours required to find water. Give your answer rounded to 9 places after the decimal point."
   ]
  },
  {
   "cell_type": "code",
   "execution_count": null,
   "id": "8622d6f1",
   "metadata": {},
   "outputs": [],
   "source": [
    "# Problem 901 workspace"
   ]
  },
  {
   "cell_type": "markdown",
   "id": "0a903026",
   "metadata": {},
   "source": [
    "## Answer: "
   ]
  },
  {
   "cell_type": "markdown",
   "id": "c75d77ad",
   "metadata": {},
   "source": [
    "___"
   ]
  },
  {
   "cell_type": "markdown",
   "id": "ab405252",
   "metadata": {},
   "source": [
    "# Problem 902\n",
    " [Source](https://projecteuler.net/problem=902)"
   ]
  },
  {
   "cell_type": "markdown",
   "id": "ef8ff69f",
   "metadata": {},
   "source": [
    "A permutation $\\pi$ of $\\{1, \\dots, n\\}$ can be represented in\n",
    "**one-line notation**\n",
    "as $\\pi(1),\\ldots,\\pi(n) $. If all $n!$ permutations are written in lexicographic order then $\\textrm{rank}(\\pi)$ is the position of $\\pi$ in this 1-based list.\n",
    "\n",
    "For example, $\\text{rank}(2,1,3) = 3$ because the six permutations of $\\{1, 2, 3\\}$ in lexicographic order are:\n",
    "$$1, 2, 3\\quad 1, 3, 2 \\quad 2, 1, 3 \\quad 2, 3, 1 \\quad 3, 1, 2 \\quad 3, 2, 1$$\n",
    "\n",
    "For a positive integer $m$, we define the following permutation of $\\{1, \\dots, n\\}$ with $n = \\frac{m(m+1)}2$:\n",
    "$$\n",
    "\\begin{align}\n",
    "\\sigma(i) &= \\begin{cases} \\frac{k(k-1)}2 + 1 & \\textrm{if } i = \\frac{k(k + 1)}2\\textrm{ for }k\\in\\{1, \\dots, m\\};\\\\i + 1 & \\textrm{otherwise};\\end{cases}\\\\\n",
    "\\tau(i) &= ((10^9 + 7)i \\bmod n) + 1\\\\\n",
    "\\pi(i) &= \\tau^{-1}(\\sigma(\\tau(i)))\n",
    "\\end{align}\n",
    "$$\n",
    "where $\\tau^{-1}$ is the inverse permutation of $\\tau$.\n",
    "\n",
    "Define $\\displaystyle P(m) = \\sum\\_{k=1}^{m!} \\text{rank}(\\pi^k)$, where $\\pi^k$ is the permutation arising from applying $\\pi$ $k$ times.\n",
    "  \n",
    "For example, $P(2) = 4$, $P(3) = 780$ and $P(4) = 38810300$.\n",
    "\n",
    "Find $P(100)$. Give your answer modulo $(10^9 + 7)$."
   ]
  },
  {
   "cell_type": "code",
   "execution_count": null,
   "id": "3ebd792e",
   "metadata": {},
   "outputs": [],
   "source": [
    "# Problem 902 workspace"
   ]
  },
  {
   "cell_type": "markdown",
   "id": "91b81a4d",
   "metadata": {},
   "source": [
    "## Answer: "
   ]
  },
  {
   "cell_type": "markdown",
   "id": "a26a6a3b",
   "metadata": {},
   "source": [
    "___"
   ]
  },
  {
   "cell_type": "markdown",
   "id": "384cb5c1",
   "metadata": {},
   "source": [
    "# Problem 903\n",
    " [Source](https://projecteuler.net/problem=903)"
   ]
  },
  {
   "cell_type": "markdown",
   "id": "1685ba15",
   "metadata": {},
   "source": [
    "A permutation $\\pi$ of $\\{1, \\dots, n\\}$ can be represented in\n",
    "**one-line notation**\n",
    "as $\\pi(1),\\ldots,\\pi(n) $. If all $n!$ permutations are written in lexicographic order then $\\textrm{rank}(\\pi)$ is the position of $\\pi$ in this 1-based list.\n",
    "\n",
    "For example, $\\text{rank}(2,1,3) = 3$ because the six permutations of $\\{1, 2, 3\\}$ in lexicographic order are:\n",
    "$$1, 2, 3\\quad 1, 3, 2 \\quad 2, 1, 3 \\quad 2, 3, 1 \\quad 3, 1, 2 \\quad 3, 2, 1$$\n",
    "\n",
    "Let $Q(n)$ be the sum $\\sum\\_{\\pi}\\sum\\_{i = 1}^{n!} \\text{rank}(\\pi^i)$, where $\\pi$ ranges over all permutations of $\\{1, \\dots, n\\}$, and $\\pi^i$ is the permutation arising from applying $\\pi$ $i$ times.\n",
    "\n",
    "For example, $Q(2) = 5$, $Q(3) = 88$, $Q(6) = 133103808$ and $Q(10) \\equiv 468421536 \\pmod {10^9 + 7}$.\n",
    "\n",
    "Find $Q(10^6)$. Give your answer modulo $(10^9 + 7)$."
   ]
  },
  {
   "cell_type": "code",
   "execution_count": null,
   "id": "cbd3e05d",
   "metadata": {},
   "outputs": [],
   "source": [
    "# Problem 903 workspace"
   ]
  },
  {
   "cell_type": "markdown",
   "id": "40259b76",
   "metadata": {},
   "source": [
    "## Answer: "
   ]
  },
  {
   "cell_type": "markdown",
   "id": "63e7c57e",
   "metadata": {},
   "source": [
    "___"
   ]
  },
  {
   "cell_type": "markdown",
   "id": "5c424a6f",
   "metadata": {},
   "source": [
    "# Problem 904\n",
    " [Source](https://projecteuler.net/problem=904)"
   ]
  },
  {
   "cell_type": "markdown",
   "id": "48478427",
   "metadata": {},
   "source": [
    "Given a right-angled triangle with integer sides, the smaller angle formed by the two medians drawn on the the two perpendicular sides is denoted by $\\theta$.\n",
    "\n",
    "![0904_Pythagorean_angle.jpg](resources/0904_pythagorean_angle.png)\n",
    "\n",
    "Let $f(\\alpha, L)$ denote the sum of the sides of the right-angled triangle minimizing the absolute difference between $\\theta$ and $\\alpha$ among all right-angled triangles with integer sides and hypotenuse not exceeding $L$.\n",
    "  \n",
    "If more than one triangle attains the minimum value, the triangle with the maximum area is chosen. All angles in this problem are measured in degrees.\n",
    "\n",
    "For example, $f(30,10^2)=198$ and $f(10,10^6)= 1600158$.\n",
    "\n",
    "Define $F(N,L)=\\sum\\_{n=1}^{N}f\\left(\\sqrt[3]{n},L\\right)$.\n",
    "  \n",
    "You are given $F(10,10^6)= 16684370$.\n",
    "\n",
    "Find $F(45000, 10^{10})$."
   ]
  },
  {
   "cell_type": "code",
   "execution_count": null,
   "id": "7467560b",
   "metadata": {},
   "outputs": [],
   "source": [
    "# Problem 904 workspace"
   ]
  },
  {
   "cell_type": "markdown",
   "id": "9293b359",
   "metadata": {},
   "source": [
    "## Answer: "
   ]
  },
  {
   "cell_type": "markdown",
   "id": "d5d78b5c",
   "metadata": {},
   "source": [
    "___"
   ]
  },
  {
   "cell_type": "markdown",
   "id": "9fdae846",
   "metadata": {},
   "source": [
    "# Problem 905\n",
    " [Source](https://projecteuler.net/problem=905)"
   ]
  },
  {
   "cell_type": "markdown",
   "id": "92cd4fab",
   "metadata": {},
   "source": [
    "Three epistemologists, known as A, B, and C, are in a room, each wearing a hat with a number on it. They have been informed beforehand that all three numbers are positive and that one of the numbers is the sum of the other two.\n",
    "\n",
    "Once in the room, they can see the numbers on each other's hats but not on their own. Starting with A and proceeding cyclically, each epistemologist must either honestly state \"I don't know my number\" or announce \"Now I know my number!\" which terminates the game.\n",
    "\n",
    "For instance, if their numbers are $A=2, B=1, C=1$ then A declares \"Now I know\" at the first turn. If their numbers are $A=2, B=7, C=5$ then \"I don't know\" is heard four times before B finally declares \"Now I know\" at the fifth turn.\n",
    "\n",
    "Let $F(A,B,C)$ be the number of turns it takes until an epistemologist declares \"Now I know\", including the turn this declaration is made. So $F(2,1,1)=1$ and $F(2,7,5)=5$.\n",
    "\n",
    "Find $\\displaystyle \\sum\\_{a=1}^7 \\sum\\_{b=1}^{19} F(a^b, b^a, a^b + b^a)$."
   ]
  },
  {
   "cell_type": "code",
   "execution_count": null,
   "id": "46c28bd4",
   "metadata": {},
   "outputs": [],
   "source": [
    "# Problem 905 workspace"
   ]
  },
  {
   "cell_type": "markdown",
   "id": "d1957dea",
   "metadata": {},
   "source": [
    "## Answer: "
   ]
  },
  {
   "cell_type": "markdown",
   "id": "575d8155",
   "metadata": {},
   "source": [
    "___"
   ]
  },
  {
   "cell_type": "markdown",
   "id": "559fee30",
   "metadata": {},
   "source": [
    "# Problem 906\n",
    " [Source](https://projecteuler.net/problem=906)"
   ]
  },
  {
   "cell_type": "markdown",
   "id": "46113c98",
   "metadata": {},
   "source": [
    "Three friends attempt to collectively choose one of $n$ options, labeled $1,\\dots,n$, based upon their individual preferences. They choose option $i$ if for every alternative option $j$ at least two of the three friends prefer $i$ over $j$. If no such option $i$ exists they fail to reach an agreement.\n",
    "\n",
    "Define $P(n)$ to be the probability the three friends successfully reach an agreement and choose one option, where each of the friends' individual order of preference is given by a (possibly different) random permutation of $1,\\dots,n$.\n",
    "\n",
    "You are given $P(3)=17/18$ and $P(10)\\approx0.6760292265$.\n",
    "\n",
    "Find $P(20\\,000)$. Give your answer rounded to ten places after the decimal point."
   ]
  },
  {
   "cell_type": "code",
   "execution_count": null,
   "id": "c4f90432",
   "metadata": {},
   "outputs": [],
   "source": [
    "# Problem 906 workspace"
   ]
  },
  {
   "cell_type": "markdown",
   "id": "66ca2338",
   "metadata": {},
   "source": [
    "## Answer: "
   ]
  },
  {
   "cell_type": "markdown",
   "id": "ce84ad32",
   "metadata": {},
   "source": [
    "___"
   ]
  },
  {
   "cell_type": "markdown",
   "id": "9771415c",
   "metadata": {},
   "source": [
    "# Problem 907\n",
    " [Source](https://projecteuler.net/problem=907)"
   ]
  },
  {
   "cell_type": "markdown",
   "id": "132d8b87",
   "metadata": {},
   "source": [
    "An infant's toy consists of $n$ cups, labelled $C\\_1,\\dots,C\\_n$ in increasing order of size.\n",
    "\n",
    "![0907_four_cups.png](resources/0907_four_cups.png)\n",
    "\n",
    "The cups may be stacked in various combinations and orientations to form towers. The cups are shaped such that the following means of stacking are possible:\n",
    "\n",
    "* Nesting: $C\\_k$ may sit snugly inside $C\\_{k+1}$.\n",
    "    \n",
    "  ![0907_nesting.png](resources/0907_nesting.png)\n",
    "* Base-to-base: $C\\_{k+2}$ or $C\\_{k-2}$ may sit, right-way-up, on top of an up-side-down $C\\_k$, with their bottoms fitting together snugly.\n",
    "    \n",
    "  ![0907_base_to_base.png](resources/0907_base_to_base.png)\n",
    "* Rim-to-rim: $C\\_{k+2}$ or $C\\_{k-2}$ may sit, up-side-down, on top of a right-way-up $C\\_k$, with their tops fitting together snugly.\n",
    "    \n",
    "  ![0907_rim_to_rim.png](resources/0907_rim_to_rim.png)\n",
    "* For the purposes of this problem, it is\n",
    "  **not**\n",
    "  permitted to stack\n",
    "  **both**\n",
    "  $C\\_{k+2}$ and $C\\_{k-2}$ rim-to-rim on top of $C\\_k$, despite the schematic diagrams appearing to allow it:\n",
    "    \n",
    "  ![0907_rim_to_rim_counter_example.png](resources/0907_rim_to_rim_counter_example.png)\n",
    "\n",
    "Define $S(n)$ to be the number of ways to build a single tower using all $n$ cups according to the above rules.\n",
    "  \n",
    "You are given $S(4)=12$, $S(8)=58$, and $S(20)=5560$.\n",
    "\n",
    "Find $S(10^7)$, giving your answer modulo $1\\,000\\,000\\,007$."
   ]
  },
  {
   "cell_type": "code",
   "execution_count": null,
   "id": "0b4334e3",
   "metadata": {},
   "outputs": [],
   "source": [
    "# Problem 907 workspace"
   ]
  },
  {
   "cell_type": "markdown",
   "id": "71703b02",
   "metadata": {},
   "source": [
    "## Answer: "
   ]
  },
  {
   "cell_type": "markdown",
   "id": "c5108f97",
   "metadata": {},
   "source": [
    "___"
   ]
  },
  {
   "cell_type": "markdown",
   "id": "1f57f2f4",
   "metadata": {},
   "source": [
    "# Problem 908\n",
    " [Source](https://projecteuler.net/problem=908)"
   ]
  },
  {
   "cell_type": "markdown",
   "id": "46d10ba6",
   "metadata": {},
   "source": [
    "A\n",
    "clock sequence\n",
    "is a periodic sequence of positive integers that can be broken into contiguous segments such that the sum of the $n$-th segment is equal to $n$.\n",
    "\n",
    "For example, the sequence $$1\\ 2\\ 3\\ 4\\ 3\\ 2\\ 1\\ 2\\ 3\\ 4\\ 3\\ 2\\ 1\\ 2\\ 3\\ 4\\ 3\\ 2\\ 1\\ \\cdots$$ is a clock sequence with period $6$, as it can be broken into $$1\\Big |2\\Big |3\\Big |4\\Big |3\\ 2\\Big |1\\ 2\\ 3\\Big |4\\ 3\\Big |2\\ 1\\ 2\\ 3\\Big |4\\ 3\\ 2\\Big |1\\ 2\\ 3\\ 4\\Big |3\\ 2\\ 1\\ 2\\ 3\\Big |\\cdots$$\n",
    "Let $C(N)$ be the number of different clock sequences with period at most $N$.\n",
    "For example, $C(3) = 3$, $C(4) = 7$ and $C(10) = 561$.\n",
    "\n",
    "Find $C(10^4) \\bmod 1111211113$."
   ]
  },
  {
   "cell_type": "code",
   "execution_count": null,
   "id": "4e4b60f3",
   "metadata": {},
   "outputs": [],
   "source": [
    "# Problem 908 workspace"
   ]
  },
  {
   "cell_type": "markdown",
   "id": "40baa37c",
   "metadata": {},
   "source": [
    "## Answer: "
   ]
  },
  {
   "cell_type": "markdown",
   "id": "b4979a71",
   "metadata": {},
   "source": [
    "___"
   ]
  },
  {
   "cell_type": "markdown",
   "id": "af145ec4",
   "metadata": {},
   "source": [
    "# Problem 909\n",
    " [Source](https://projecteuler.net/problem=909)"
   ]
  },
  {
   "cell_type": "markdown",
   "id": "ba972671",
   "metadata": {},
   "source": [
    "An\n",
    "L-expression\n",
    "is defined as any one of the following:\n",
    "\n",
    "* a natural number;\n",
    "* the symbol $A$;\n",
    "* the symbol $Z$;\n",
    "* the symbol $S$;\n",
    "* a pair of L-expressions $u, v$, which is written as $u(v)$.\n",
    "\n",
    "An L-expression can be transformed according to the following rules:\n",
    "\n",
    "* $A(x) \\to x + 1$ for any natural number $x$;\n",
    "* $Z(u)(v) \\to v$ for any L-expressions $u, v$;\n",
    "* $S(u)(v)(w) \\to v(u(v)(w))$ for any L-expressions $u, v, w$.\n",
    "\n",
    "For example, after applying all possible rules, the L-expression $S(Z)(A)(0)$ is transformed to the number $1$:\n",
    "$$S(Z)(A)(0) \\to A(Z(A)(0)) \\to A(0) \\to 1.$$\n",
    "Similarly, the L-expression $S(S)(S(S))(S(Z))(A)(0)$ is transformed to the number $6$ after applying all possible rules.\n",
    "\n",
    "Find the result of the L-expression $S(S)(S(S))(S(S))(S(Z))(A)(0)$ after applying all possible rules. Give the last nine digits as your answer.\n",
    "\n",
    "**Note:**\n",
    "it can be proved that the L-expression in question can only be transformed a finite number of times, and the final result does not depend on the order of the transformations."
   ]
  },
  {
   "cell_type": "code",
   "execution_count": null,
   "id": "832b37b3",
   "metadata": {},
   "outputs": [],
   "source": [
    "# Problem 909 workspace"
   ]
  },
  {
   "cell_type": "markdown",
   "id": "3ace3a48",
   "metadata": {},
   "source": [
    "## Answer: "
   ]
  },
  {
   "cell_type": "markdown",
   "id": "8c8879e8",
   "metadata": {},
   "source": [
    "___"
   ]
  },
  {
   "cell_type": "markdown",
   "id": "031dbd35",
   "metadata": {},
   "source": [
    "# Problem 910\n",
    " [Source](https://projecteuler.net/problem=910)"
   ]
  },
  {
   "cell_type": "markdown",
   "id": "bda0b407",
   "metadata": {},
   "source": [
    "An\n",
    "L-expression\n",
    "is defined as any one of the following:\n",
    "\n",
    "* a natural number;\n",
    "* the symbol $A$;\n",
    "* the symbol $Z$;\n",
    "* the symbol $S$;\n",
    "* a pair of L-expressions $u, v$, which is written as $u(v)$.\n",
    "\n",
    "An L-expression can be transformed according to the following rules:\n",
    "\n",
    "* $A(x) \\to x + 1$ for any natural number $x$;\n",
    "* $Z(u)(v) \\to v$ for any L-expressions $u, v$;\n",
    "* $S(u)(v)(w) \\to v(u(v)(w))$ for any L-expressions $u, v, w$.\n",
    "\n",
    "For example, after applying all possible rules, the L-expression $S(Z)(A)(0)$ is transformed to the number $1$:\n",
    "$$S(Z)(A)(0) \\to A(Z(A)(0)) \\to A(0) \\to 1.$$\n",
    "Similarly, the L-expression $S(S)(S(S))(S(Z))(A)(0)$ is transformed to the number $6$ after applying all possible rules.\n",
    "\n",
    "Define the following L-expressions:\n",
    "\n",
    "* $C\\_0 = Z$;\n",
    "* $C\\_i = S(C\\_{i - 1})$ for $i \\ge 1$;\n",
    "* $D\\_i = C\\_i(S)(S)$.\n",
    "\n",
    "For natural numbers $a, b, c, d, e$, let $F(a, b, c, d, e)$ denote the result of the L-expression $D\\_a(D\\_b)(D\\_c)(C\\_d)(A)(e)$ after applying all possible rules.\n",
    "\n",
    "Find the last nine digits of $F(12, 345678, 9012345, 678, 90)$.\n",
    "\n",
    "**Note:**\n",
    "it can be proved that the L-expression in question can only be transformed a finite number of times, and the final result does not depend on the order of the transformations."
   ]
  },
  {
   "cell_type": "code",
   "execution_count": null,
   "id": "574cc888",
   "metadata": {},
   "outputs": [],
   "source": [
    "# Problem 910 workspace"
   ]
  },
  {
   "cell_type": "markdown",
   "id": "6dec6fb5",
   "metadata": {},
   "source": [
    "## Answer: "
   ]
  },
  {
   "cell_type": "markdown",
   "id": "34a438ad",
   "metadata": {},
   "source": [
    "___"
   ]
  }
 ],
 "metadata": {},
 "nbformat": 4,
 "nbformat_minor": 5
}
