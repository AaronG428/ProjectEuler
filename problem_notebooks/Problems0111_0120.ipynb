{
 "cells": [
  {
   "cell_type": "markdown",
   "id": "fda32a1a",
   "metadata": {},
   "source": [
    "# Problem 111\n",
    " [Source](https://projecteuler.net/problem=111)"
   ]
  },
  {
   "cell_type": "markdown",
   "id": "0b97a2a3",
   "metadata": {},
   "source": [
    "Considering $4$-digit primes containing repeated digits it is clear that they cannot all be the same: $1111$ is divisible by $11$, $2222$ is divisible by $22$, and so on. But there are nine $4$-digit primes containing three ones:\n",
    "$$1117, 1151, 1171, 1181, 1511, 1811, 2111, 4111, 8111.$$\n",
    "\n",
    "We shall say that $M(n, d)$ represents the maximum number of repeated digits for an $n$-digit prime where $d$ is the repeated digit, $N(n, d)$ represents the number of such primes, and $S(n, d)$ represents the sum of these primes.\n",
    "\n",
    "So $M(4, 1) = 3$ is the maximum number of repeated digits for a $4$-digit prime where one is the repeated digit, there are $N(4, 1) = 9$ such primes, and the sum of these primes is $S(4, 1) = 22275$. It turns out that for $d = 0$, it is only possible to have $M(4, 0) = 2$ repeated digits, but there are $N(4, 0) = 13$ such cases.\n",
    "\n",
    "In the same way we obtain the following results for $4$-digit primes.\n",
    "\n",
    "|  |  |  |  |\n",
    "| --- | --- | --- | --- |\n",
    "| **Digit, *d*** | **M(4, *d* )** | **N(4, *d* )** | **S(4, *d* )** |\n",
    "| 0 | 2 | 13 | 67061 |\n",
    "| 1 | 3 | 9 | 22275 |\n",
    "| 2 | 3 | 1 | 2221 |\n",
    "| 3 | 3 | 12 | 46214 |\n",
    "| 4 | 3 | 2 | 8888 |\n",
    "| 5 | 3 | 1 | 5557 |\n",
    "| 6 | 3 | 1 | 6661 |\n",
    "| 7 | 3 | 9 | 57863 |\n",
    "| 8 | 3 | 1 | 8887 |\n",
    "| 9 | 3 | 7 | 48073 |\n",
    "\n",
    "For $d = 0$ to $9$, the sum of all $S(4, d)$ is $273700$.\n",
    "\n",
    "Find the sum of all $S(10, d)$."
   ]
  },
  {
   "cell_type": "code",
   "execution_count": null,
   "id": "f8c01b60",
   "metadata": {},
   "outputs": [],
   "source": [
    "# Problem 111 workspace"
   ]
  },
  {
   "cell_type": "markdown",
   "id": "b094ed7f",
   "metadata": {},
   "source": [
    "## Answer: "
   ]
  },
  {
   "cell_type": "markdown",
   "id": "b840c7a8",
   "metadata": {},
   "source": [
    "___"
   ]
  },
  {
   "cell_type": "markdown",
   "id": "3bc36973",
   "metadata": {},
   "source": [
    "# Problem 112\n",
    " [Source](https://projecteuler.net/problem=112)"
   ]
  },
  {
   "cell_type": "markdown",
   "id": "cedf706f",
   "metadata": {},
   "source": [
    "Working from left-to-right if no digit is exceeded by the digit to its left it is called an increasing number; for example, $134468$.\n",
    "\n",
    "Similarly if no digit is exceeded by the digit to its right it is called a decreasing number; for example, $66420$.\n",
    "\n",
    "We shall call a positive integer that is neither increasing nor decreasing a \"bouncy\" number; for example, $155349$.\n",
    "\n",
    "Clearly there cannot be any bouncy numbers below one-hundred, but just over half of the numbers below one-thousand ($525$) are bouncy. In fact, the least number for which the proportion of bouncy numbers first reaches $50\\%$ is $538$.\n",
    "\n",
    "Surprisingly, bouncy numbers become more and more common and by the time we reach $21780$ the proportion of bouncy numbers is equal to $90\\%$.\n",
    "\n",
    "Find the least number for which the proportion of bouncy numbers is exactly $99\\%$."
   ]
  },
  {
   "cell_type": "code",
   "execution_count": null,
   "id": "166cef74",
   "metadata": {},
   "outputs": [],
   "source": [
    "# Problem 112 workspace"
   ]
  },
  {
   "cell_type": "markdown",
   "id": "925becc5",
   "metadata": {},
   "source": [
    "## Answer: "
   ]
  },
  {
   "cell_type": "markdown",
   "id": "011526e2",
   "metadata": {},
   "source": [
    "___"
   ]
  },
  {
   "cell_type": "markdown",
   "id": "83838918",
   "metadata": {},
   "source": [
    "# Problem 113\n",
    " [Source](https://projecteuler.net/problem=113)"
   ]
  },
  {
   "cell_type": "markdown",
   "id": "37e5ea99",
   "metadata": {},
   "source": [
    "Working from left-to-right if no digit is exceeded by the digit to its left it is called an increasing number; for example, $134468$.\n",
    "\n",
    "Similarly if no digit is exceeded by the digit to its right it is called a decreasing number; for example, $66420$.\n",
    "\n",
    "We shall call a positive integer that is neither increasing nor decreasing a \"bouncy\" number; for example, $155349$.\n",
    "\n",
    "As $n$ increases, the proportion of bouncy numbers below $n$ increases such that there are only $12951$ numbers below one-million that are not bouncy and only $277032$ non-bouncy numbers below $10^{10}$.\n",
    "\n",
    "How many numbers below a googol ($10^{100}$) are not bouncy?"
   ]
  },
  {
   "cell_type": "code",
   "execution_count": null,
   "id": "ed4b1af8",
   "metadata": {},
   "outputs": [],
   "source": [
    "# Problem 113 workspace"
   ]
  },
  {
   "cell_type": "markdown",
   "id": "3d24e81a",
   "metadata": {},
   "source": [
    "## Answer: "
   ]
  },
  {
   "cell_type": "markdown",
   "id": "6c230643",
   "metadata": {},
   "source": [
    "___"
   ]
  },
  {
   "cell_type": "markdown",
   "id": "f64a1176",
   "metadata": {},
   "source": [
    "# Problem 114\n",
    " [Source](https://projecteuler.net/problem=114)"
   ]
  },
  {
   "cell_type": "markdown",
   "id": "020252b0",
   "metadata": {},
   "source": [
    "A row measuring seven units in length has red blocks with a minimum length of three units placed on it, such that any two red blocks (which are allowed to be different lengths) are separated by at least one grey square. There are exactly seventeen ways of doing this.\n",
    "\n",
    "![0114.png](resources/0114.png)\n",
    "\n",
    "How many ways can a row measuring fifty units in length be filled?\n",
    "\n",
    "NOTE: Although the example above does not lend itself to the possibility, in general it is permitted to mix block sizes. For example, on a row measuring eight units in length you could use red (3), grey (1), and red (4)."
   ]
  },
  {
   "cell_type": "code",
   "execution_count": null,
   "id": "dfce2ca5",
   "metadata": {},
   "outputs": [],
   "source": [
    "# Problem 114 workspace"
   ]
  },
  {
   "cell_type": "markdown",
   "id": "db60404d",
   "metadata": {},
   "source": [
    "## Answer: "
   ]
  },
  {
   "cell_type": "markdown",
   "id": "b15239b6",
   "metadata": {},
   "source": [
    "___"
   ]
  },
  {
   "cell_type": "markdown",
   "id": "dd9a26b1",
   "metadata": {},
   "source": [
    "# Problem 115\n",
    " [Source](https://projecteuler.net/problem=115)"
   ]
  },
  {
   "cell_type": "markdown",
   "id": "6bf7df13",
   "metadata": {},
   "source": [
    "NOTE: This is a more difficult version of\n",
    "[Problem 114](problem=114)\n",
    ".\n",
    "\n",
    "A row measuring $n$ units in length has red blocks with a minimum length of $m$ units placed on it, such that any two red blocks (which are allowed to be different lengths) are separated by at least one black square.\n",
    "\n",
    "Let the fill-count function, $F(m, n)$, represent the number of ways that a row can be filled.\n",
    "\n",
    "For example, $F(3, 29) = 673135$ and $F(3, 30) = 1089155$.\n",
    "\n",
    "That is, for $m = 3$, it can be seen that $n = 30$ is the smallest value for which the fill-count function first exceeds one million.\n",
    "\n",
    "In the same way, for $m = 10$, it can be verified that $F(10, 56) = 880711$ and $F(10, 57) = 1148904$, so $n = 57$ is the least value for which the fill-count function first exceeds one million.\n",
    "\n",
    "For $m = 50$, find the least value of $n$ for which the fill-count function first exceeds one million."
   ]
  },
  {
   "cell_type": "code",
   "execution_count": null,
   "id": "acaed37d",
   "metadata": {},
   "outputs": [],
   "source": [
    "# Problem 115 workspace"
   ]
  },
  {
   "cell_type": "markdown",
   "id": "87a9aa2c",
   "metadata": {},
   "source": [
    "## Answer: "
   ]
  },
  {
   "cell_type": "markdown",
   "id": "8ecadfdc",
   "metadata": {},
   "source": [
    "___"
   ]
  },
  {
   "cell_type": "markdown",
   "id": "83a4e2b1",
   "metadata": {},
   "source": [
    "# Problem 116\n",
    " [Source](https://projecteuler.net/problem=116)"
   ]
  },
  {
   "cell_type": "markdown",
   "id": "3d43ee8c",
   "metadata": {},
   "source": [
    "A row of five grey square tiles is to have a number of its tiles replaced with coloured oblong tiles chosen from red (length two), green (length three), or blue (length four).\n",
    "\n",
    "If red tiles are chosen there are exactly seven ways this can be done.\n",
    "\n",
    "![png116_1.png](resources/0116_1.png)\n",
    "\n",
    "If green tiles are chosen there are three ways.\n",
    "\n",
    "![png116_2.png](resources/0116_2.png)\n",
    "\n",
    "And if blue tiles are chosen there are two ways.\n",
    "\n",
    "![png116_3.png](resources/0116_3.png)\n",
    "\n",
    "Assuming that colours cannot be mixed there are $7 + 3 + 2 = 12$ ways of replacing the grey tiles in a row measuring five units in length.\n",
    "\n",
    "How many different ways can the grey tiles in a row measuring fifty units in length be replaced if colours cannot be mixed and at least one coloured tile must be used?\n",
    "\n",
    "NOTE: This is related to\n",
    "[Problem 117](problem=117)\n",
    "."
   ]
  },
  {
   "cell_type": "code",
   "execution_count": null,
   "id": "69c9bec7",
   "metadata": {},
   "outputs": [],
   "source": [
    "# Problem 116 workspace"
   ]
  },
  {
   "cell_type": "markdown",
   "id": "bdaf3be2",
   "metadata": {},
   "source": [
    "## Answer: "
   ]
  },
  {
   "cell_type": "markdown",
   "id": "564e7b7c",
   "metadata": {},
   "source": [
    "___"
   ]
  },
  {
   "cell_type": "markdown",
   "id": "0c9b9227",
   "metadata": {},
   "source": [
    "# Problem 117\n",
    " [Source](https://projecteuler.net/problem=117)"
   ]
  },
  {
   "cell_type": "markdown",
   "id": "11d2fd81",
   "metadata": {},
   "source": [
    "Using a combination of grey square tiles and oblong tiles chosen from: red tiles (measuring two units), green tiles (measuring three units), and blue tiles (measuring four units), it is possible to tile a row measuring five units in length in exactly fifteen different ways.\n",
    "\n",
    "![png117.png](resources/0117.png)\n",
    "\n",
    "How many ways can a row measuring fifty units in length be tiled?\n",
    "\n",
    "NOTE: This is related to\n",
    "[Problem 116](problem=116)\n",
    "."
   ]
  },
  {
   "cell_type": "code",
   "execution_count": null,
   "id": "f753243a",
   "metadata": {},
   "outputs": [],
   "source": [
    "# Problem 117 workspace"
   ]
  },
  {
   "cell_type": "markdown",
   "id": "b98d36b9",
   "metadata": {},
   "source": [
    "## Answer: "
   ]
  },
  {
   "cell_type": "markdown",
   "id": "3de4e3df",
   "metadata": {},
   "source": [
    "___"
   ]
  },
  {
   "cell_type": "markdown",
   "id": "68ae81c0",
   "metadata": {},
   "source": [
    "# Problem 118\n",
    " [Source](https://projecteuler.net/problem=118)"
   ]
  },
  {
   "cell_type": "markdown",
   "id": "291e4893",
   "metadata": {},
   "source": [
    "Using all of the digits $1$ through $9$ and concatenating them freely to form decimal integers, different sets can be formed. Interestingly with the set $\\{2,5,47,89,631\\}$, all of the elements belonging to it are prime.\n",
    "\n",
    "How many distinct sets containing each of the digits one through nine exactly once contain only prime elements?"
   ]
  },
  {
   "cell_type": "code",
   "execution_count": null,
   "id": "3ebfdf63",
   "metadata": {},
   "outputs": [],
   "source": [
    "# Problem 118 workspace"
   ]
  },
  {
   "cell_type": "markdown",
   "id": "56de2a3a",
   "metadata": {},
   "source": [
    "## Answer: "
   ]
  },
  {
   "cell_type": "markdown",
   "id": "4e25787c",
   "metadata": {},
   "source": [
    "___"
   ]
  },
  {
   "cell_type": "markdown",
   "id": "bcf9768b",
   "metadata": {},
   "source": [
    "# Problem 119\n",
    " [Source](https://projecteuler.net/problem=119)"
   ]
  },
  {
   "cell_type": "markdown",
   "id": "1293ef70",
   "metadata": {},
   "source": [
    "The number $512$ is interesting because it is equal to the sum of its digits raised to some power: $5 + 1 + 2 = 8$, and $8^3 = 512$. Another example of a number with this property is $614656 = 28^4$.\n",
    "\n",
    "We shall define $a\\_n$ to be the $n$th term of this sequence and insist that a number must contain at least two digits to have a sum.\n",
    "\n",
    "You are given that $a\\_2 = 512$ and $a\\_{10} = 614656$.\n",
    "\n",
    "Find $a\\_{30}$."
   ]
  },
  {
   "cell_type": "code",
   "execution_count": null,
   "id": "97f800d3",
   "metadata": {},
   "outputs": [],
   "source": [
    "# Problem 119 workspace"
   ]
  },
  {
   "cell_type": "markdown",
   "id": "41946dbf",
   "metadata": {},
   "source": [
    "## Answer: "
   ]
  },
  {
   "cell_type": "markdown",
   "id": "acd8594b",
   "metadata": {},
   "source": [
    "___"
   ]
  },
  {
   "cell_type": "markdown",
   "id": "804d809d",
   "metadata": {},
   "source": [
    "# Problem 120\n",
    " [Source](https://projecteuler.net/problem=120)"
   ]
  },
  {
   "cell_type": "markdown",
   "id": "f4488945",
   "metadata": {},
   "source": [
    "Let $r$ be the remainder when $(a - 1)^n + (a + 1)^n$ is divided by $a^2$.\n",
    "\n",
    "For example, if $a = 7$ and $n = 3$, then $r = 42$: $6^3 + 8^3 = 728 \\equiv 42 \\mod 49$. And as $n$ varies, so too will $r$, but for $a = 7$ it turns out that $r\\_{\\mathrm{max}} = 42$.\n",
    "\n",
    "For $3 \\le a \\le 1000$, find $\\sum r\\_{\\mathrm{max}}$."
   ]
  },
  {
   "cell_type": "code",
   "execution_count": null,
   "id": "55188613",
   "metadata": {},
   "outputs": [],
   "source": [
    "# Problem 120 workspace"
   ]
  },
  {
   "cell_type": "markdown",
   "id": "fca7b1ac",
   "metadata": {},
   "source": [
    "## Answer: "
   ]
  },
  {
   "cell_type": "markdown",
   "id": "b364a252",
   "metadata": {},
   "source": [
    "___"
   ]
  }
 ],
 "metadata": {},
 "nbformat": 4,
 "nbformat_minor": 5
}
