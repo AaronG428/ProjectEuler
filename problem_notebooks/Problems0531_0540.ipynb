{
 "cells": [
  {
   "cell_type": "markdown",
   "id": "6a70262c",
   "metadata": {},
   "source": [
    "# Problem 531\n",
    " [Source](https://projecteuler.net/problem=531)"
   ]
  },
  {
   "cell_type": "markdown",
   "id": "216820b2",
   "metadata": {},
   "source": [
    "Let $g(a, n, b, m)$ be the smallest non-negative solution $x$ to the system:\n",
    "  \n",
    "$x = a \\bmod n$\n",
    "  \n",
    "$x = b \\bmod m$\n",
    "  \n",
    "if such a solution exists, otherwise $0$.\n",
    "\n",
    "E.g. $g(2,4,4,6)=10$, but $g(3,4,4,6)=0$.\n",
    "\n",
    "Let $\\phi(n)$ be Euler's totient function.\n",
    "\n",
    "Let $f(n,m)=g(\\phi(n),n,\\phi(m),m)$\n",
    "\n",
    "Find $\\sum f(n,m)$ for $1000000 \\le n \\lt m \\lt 1005000$."
   ]
  },
  {
   "cell_type": "code",
   "execution_count": null,
   "id": "feb157ef",
   "metadata": {},
   "outputs": [],
   "source": [
    "# Problem 531 workspace"
   ]
  },
  {
   "cell_type": "markdown",
   "id": "9d57f7e2",
   "metadata": {},
   "source": [
    "## Answer: "
   ]
  },
  {
   "cell_type": "markdown",
   "id": "9b6a813e",
   "metadata": {},
   "source": [
    "___"
   ]
  },
  {
   "cell_type": "markdown",
   "id": "393d3456",
   "metadata": {},
   "source": [
    "# Problem 532\n",
    " [Source](https://projecteuler.net/problem=532)"
   ]
  },
  {
   "cell_type": "markdown",
   "id": "55a3eff6",
   "metadata": {},
   "source": [
    "Bob is a manufacturer of nanobots and wants to impress his customers by giving them a ball coloured by his new nanobots as a present.\n",
    "\n",
    "His nanobots can be programmed to select and locate exactly one other bot precisely and, after activation, move towards this bot along the shortest possible path and draw a coloured line onto the surface while moving. Placed on a plane, the bots will start to move towards their selected bots in a straight line. In contrast, being placed on a ball, they will start to move along a geodesic as the shortest possible path. However, in both cases, whenever their target moves they will adjust their direction instantaneously to the new shortest possible path. All bots will move at the same speed after their simultaneous activation until each bot reaches its goal.\n",
    "\n",
    "Now Bob places $n$ bots on the ball (with radius $1$) equidistantly on a small circle with radius $0.999$ and programs each of them to move toward the next nanobot sitting counterclockwise on that small circle. After activation, the bots move in a sort of spiral until they finally meet at one point on the ball.\n",
    "\n",
    "Using three bots, Bob finds that every bot will draw a line of length $2.84$, resulting in a total length of $8.52$ for all three bots, each time rounded to two decimal places. The coloured ball looks like this:\n",
    "\n",
    "![0532-nanobots.jpg](resources/0532-nanobots.jpg)\n",
    "\n",
    "In order to show off a little with his presents, Bob decides to use just enough bots to make sure that the line each bot draws is longer than $1000$. What is the total length of all lines drawn with this number of bots, rounded to two decimal places?"
   ]
  },
  {
   "cell_type": "code",
   "execution_count": null,
   "id": "3bfc9700",
   "metadata": {},
   "outputs": [],
   "source": [
    "# Problem 532 workspace"
   ]
  },
  {
   "cell_type": "markdown",
   "id": "d4e945d2",
   "metadata": {},
   "source": [
    "## Answer: "
   ]
  },
  {
   "cell_type": "markdown",
   "id": "b9f10c16",
   "metadata": {},
   "source": [
    "___"
   ]
  },
  {
   "cell_type": "markdown",
   "id": "e44d2317",
   "metadata": {},
   "source": [
    "# Problem 533\n",
    " [Source](https://projecteuler.net/problem=533)"
   ]
  },
  {
   "cell_type": "markdown",
   "id": "ad991407",
   "metadata": {},
   "source": [
    "The\n",
    "**Carmichael function**\n",
    "$\\lambda(n)$ is defined as the smallest positive integer $m$ such that $a^m = 1$ modulo $n$ for all integers $a$ coprime with $n$.\n",
    "  \n",
    "For example $\\lambda(8) = 2$ and $\\lambda(240) = 4$.\n",
    "\n",
    "Define $L(n)$ as the smallest positive integer $m$ such that $\\lambda(k) \\ge n$ for all $k \\ge m$.\n",
    "  \n",
    "For example, $L(6) = 241$ and $L(100) = 20\\,174\\,525\\,281$.\n",
    "\n",
    "Find $L(20\\,000\\,000)$. Give the last $9$ digits of your answer."
   ]
  },
  {
   "cell_type": "code",
   "execution_count": null,
   "id": "8817e706",
   "metadata": {},
   "outputs": [],
   "source": [
    "# Problem 533 workspace"
   ]
  },
  {
   "cell_type": "markdown",
   "id": "9af429d6",
   "metadata": {},
   "source": [
    "## Answer: "
   ]
  },
  {
   "cell_type": "markdown",
   "id": "6f6addfe",
   "metadata": {},
   "source": [
    "___"
   ]
  },
  {
   "cell_type": "markdown",
   "id": "5ec9914a",
   "metadata": {},
   "source": [
    "# Problem 534\n",
    " [Source](https://projecteuler.net/problem=534)"
   ]
  },
  {
   "cell_type": "markdown",
   "id": "2ac46da8",
   "metadata": {},
   "source": [
    "The classical\n",
    "**eight queens puzzle**\n",
    "is the well known problem of placing eight chess queens on an $8 \\times 8$ chessboard so that no two queens threaten each other. Allowing configurations to reappear in rotated or mirrored form, a total of $92$ distinct configurations can be found for eight queens. The general case asks for the number of distinct ways of placing $n$ queens on an $n \\times n$ board, e.g. you can find $2$ distinct configurations for $n=4$.\n",
    "\n",
    "Let's define a\n",
    "weak queen\n",
    "on an $n \\times n$ board to be a piece which can move any number of squares if moved horizontally, but a maximum of $n - 1 - w$ squares if moved vertically or diagonally, $0 \\le w \\lt n$ being the \"weakness factor\". For example, a weak queen on an $n \\times n$ board with a weakness factor of $w=1$ located in the bottom row will not be able to threaten any square in the top row as the weak queen would need to move $n - 1$ squares vertically or diagonally to get there, but may only move $n - 2$ squares in these directions. In contrast, the weak queen is not handicapped horizontally, thus threatening every square in its own row, independently from its current position in that row.\n",
    "\n",
    "Let $Q(n,w)$ be the number of ways $n$ weak queens with weakness factor $w$ can be placed on an $n \\times n$ board so that no two queens threaten each other. It can be shown, for example, that $Q(4,0)=2$, $Q(4,2)=16$ and $Q(4,3)=256$.\n",
    "\n",
    "Let $S(n)=\\displaystyle\\sum\\_{w=0}^{n-1} Q(n,w)$.\n",
    "\n",
    "You are given that $S(4)=276$ and $S(5)=3347$.\n",
    "\n",
    "Find $S(14)$."
   ]
  },
  {
   "cell_type": "code",
   "execution_count": null,
   "id": "27a2a262",
   "metadata": {},
   "outputs": [],
   "source": [
    "# Problem 534 workspace"
   ]
  },
  {
   "cell_type": "markdown",
   "id": "78968ff0",
   "metadata": {},
   "source": [
    "## Answer: "
   ]
  },
  {
   "cell_type": "markdown",
   "id": "2eafe6c1",
   "metadata": {},
   "source": [
    "___"
   ]
  },
  {
   "cell_type": "markdown",
   "id": "561fe1d9",
   "metadata": {},
   "source": [
    "# Problem 535\n",
    " [Source](https://projecteuler.net/problem=535)"
   ]
  },
  {
   "cell_type": "markdown",
   "id": "b57eb09f",
   "metadata": {},
   "source": [
    "Consider the infinite integer sequence S starting with:\n",
    "  \n",
    "$S = 1, 1, 2, 1, 3, 2, 4, 1, 5, 3, 6, 2, 7, 8, 4, 9, 1, 10, 11, 5, \\dots$\n",
    "\n",
    "Circle the first occurrence of each integer.\n",
    "  \n",
    "$S = \\enclose{circle}1, 1, \\enclose{circle}2, 1, \\enclose{circle}3, 2, \\enclose{circle}4, 1, \\enclose{circle}5, 3, \\enclose{circle}6, 2, \\enclose{circle}7, \\enclose{circle}8, 4, \\enclose{circle}9, 1, \\enclose{circle}{10}, \\enclose{circle}{11}, 5, \\dots$\n",
    "\n",
    "The sequence is characterized by the following properties:\n",
    "\n",
    "* The circled numbers are consecutive integers starting with $1$.\n",
    "* Immediately preceding each non-circled numbers $a\\_i$, there are exactly $\\lfloor \\sqrt{a\\_i} \\rfloor$ adjacent circled numbers, where $\\lfloor\\,\\rfloor$ is the floor function.\n",
    "* If we remove all circled numbers, the remaining numbers form a sequence identical to $S$, so $S$ is a\n",
    "  **fractal sequence**\n",
    "  .\n",
    "\n",
    "Let $T(n)$ be the sum of the first $n$ elements of the sequence.\n",
    "  \n",
    "You are given $T(1) = 1$, $T(20) = 86$, $T(10^3) = 364089$ and $T(10^9) = 498676527978348241$.\n",
    "\n",
    "Find $T(10^{18})$. Give the last $9$ digits of your answer."
   ]
  },
  {
   "cell_type": "code",
   "execution_count": null,
   "id": "d03bf78e",
   "metadata": {},
   "outputs": [],
   "source": [
    "# Problem 535 workspace"
   ]
  },
  {
   "cell_type": "markdown",
   "id": "fe7ab4d7",
   "metadata": {},
   "source": [
    "## Answer: "
   ]
  },
  {
   "cell_type": "markdown",
   "id": "cf29f261",
   "metadata": {},
   "source": [
    "___"
   ]
  },
  {
   "cell_type": "markdown",
   "id": "28c13de2",
   "metadata": {},
   "source": [
    "# Problem 536\n",
    " [Source](https://projecteuler.net/problem=536)"
   ]
  },
  {
   "cell_type": "markdown",
   "id": "8f61925a",
   "metadata": {},
   "source": [
    "Let $S(n)$ be the sum of all positive integers $m$ not exceeding $n$ having the following property:\n",
    "  \n",
    "$a^{m + 4} \\equiv a \\pmod m$ for all integers $a$.\n",
    "\n",
    "The values of $m \\le 100$ that satisfy this property are $1, 2, 3, 5$ and $21$, thus $S(100) = 1+2+3+5+21 = 32$.\n",
    "  \n",
    "You are given $S(10^6) = 22868117$.\n",
    "\n",
    "Find $S(10^{12})$."
   ]
  },
  {
   "cell_type": "code",
   "execution_count": null,
   "id": "23fd0b36",
   "metadata": {},
   "outputs": [],
   "source": [
    "# Problem 536 workspace"
   ]
  },
  {
   "cell_type": "markdown",
   "id": "873fdd09",
   "metadata": {},
   "source": [
    "## Answer: "
   ]
  },
  {
   "cell_type": "markdown",
   "id": "0cebed23",
   "metadata": {},
   "source": [
    "___"
   ]
  },
  {
   "cell_type": "markdown",
   "id": "b99b51dd",
   "metadata": {},
   "source": [
    "# Problem 537\n",
    " [Source](https://projecteuler.net/problem=537)"
   ]
  },
  {
   "cell_type": "markdown",
   "id": "0a83c841",
   "metadata": {},
   "source": [
    "Let $\\pi(x)$ be the prime counting function, i.e. the number of prime numbers less than or equal to $x$.\n",
    "  \n",
    "For example,$\\pi(1)=0$, $\\pi(2)=1$, $\\pi(100)=25$.\n",
    "\n",
    "Let $T(n, k)$ be the number of $k$-tuples $(x\\_1, \\dots, x\\_k)$ which satisfy:\n",
    "  \n",
    "1. every $x\\_i$ is a positive integer;\n",
    "  \n",
    "2. $\\displaystyle \\sum\\_{i=1}^k \\pi(x\\_i)=n$\n",
    "\n",
    "For example $T(3,3)=19$.\n",
    "  \n",
    "The $19$ tuples are $(1,1,5)$, $(1,5,1)$, $(5,1,1)$, $(1,1,6)$, $(1,6,1)$, $(6,1,1)$, $(1,2,3)$, $(1,3,2)$, $(2,1,3)$, $(2,3,1)$, $(3,1,2)$, $(3,2,1)$, $(1,2,4)$, $(1,4,2)$, $(2,1,4)$, $(2,4,1)$, $(4,1,2)$, $(4,2,1)$, $(2,2,2)$.\n",
    "\n",
    "You are given $T(10, 10) = 869\\,985$ and $T(10^3,10^3) \\equiv 578\\,270\\,566 \\pmod{1\\,004\\,535\\,809}$.\n",
    "\n",
    "Find $T(20\\,000, 20\\,000) \\pmod{1\\,004\\,535\\,809}$."
   ]
  },
  {
   "cell_type": "code",
   "execution_count": null,
   "id": "8f58bef5",
   "metadata": {},
   "outputs": [],
   "source": [
    "# Problem 537 workspace"
   ]
  },
  {
   "cell_type": "markdown",
   "id": "09ca3045",
   "metadata": {},
   "source": [
    "## Answer: "
   ]
  },
  {
   "cell_type": "markdown",
   "id": "0548406a",
   "metadata": {},
   "source": [
    "___"
   ]
  },
  {
   "cell_type": "markdown",
   "id": "dea97033",
   "metadata": {},
   "source": [
    "# Problem 538\n",
    " [Source](https://projecteuler.net/problem=538)"
   ]
  },
  {
   "cell_type": "markdown",
   "id": "772d7c3d",
   "metadata": {},
   "source": [
    "Consider a positive integer sequence $S = (s\\_1, s\\_2, \\dots, s\\_n)$.\n",
    "\n",
    "Let $f(S)$ be the perimeter of the maximum-area quadrilateral whose side lengths are $4$ elements $(s\\_i, s\\_j, s\\_k, s\\_l)$ of $S$ (all $i, j, k, l$ distinct). If there are many quadrilaterals with the same maximum area, then choose the one with the largest perimeter.\n",
    "\n",
    "For example, if $S = (8, 9, 14, 9, 27)$, then we can take the elements $(9, 14, 9, 27)$ and form an\n",
    "**isosceles trapezium\n",
    "An isosceles trapezium (US: trapezoid) is a quadrilateral where one pair of opposite sides are parallel and of different lengths, and the other pair has the same length.**\n",
    "with parallel side lengths $14$ and $27$ and both leg lengths $9$. The area of this quadrilateral is $127.611470879\\cdots$ It can be shown that this is the largest area for any quadrilateral that can be formed using side lengths from $S$. Therefore, $f(S) = 9 + 14 + 9 + 27 = 59$.\n",
    "\n",
    "Let $u\\_n = 2^{B(3n)} + 3^{B(2n)} + B(n + 1)$, where $B(k)$ is the number of $1$ bits of $k$ in base $2$.\n",
    "  \n",
    "For example, $B(6) = 2$, $B(10) = 2$ and $B(15) = 4$, and $u\\_5 = 2^4 + 3^2 + 2 = 27$.\n",
    "\n",
    "Also, let $U\\_n$ be the sequence $(u\\_1, u\\_2, \\dots, u\\_n)$.\n",
    "  \n",
    "For example, $U\\_{10} = (8, 9, 14, 9, 27, 16, 36, 9, 27, 28)$.\n",
    "\n",
    "It can be shown that $f(U\\_5) = 59$, $f(U\\_{10}) = 118$, $f(U\\_{150}) = 3223$.\n",
    "  \n",
    "It can also be shown that $\\sum f(U\\_n) = 234761$ for $4 \\le n \\le 150$.\n",
    "  \n",
    "Find $\\sum f(U\\_n)$ for $4 \\le n \\le 3\\,000\\,000$."
   ]
  },
  {
   "cell_type": "code",
   "execution_count": null,
   "id": "5a5c61f1",
   "metadata": {},
   "outputs": [],
   "source": [
    "# Problem 538 workspace"
   ]
  },
  {
   "cell_type": "markdown",
   "id": "6b31b249",
   "metadata": {},
   "source": [
    "## Answer: "
   ]
  },
  {
   "cell_type": "markdown",
   "id": "6a3b4e3a",
   "metadata": {},
   "source": [
    "___"
   ]
  },
  {
   "cell_type": "markdown",
   "id": "666d1620",
   "metadata": {},
   "source": [
    "# Problem 539\n",
    " [Source](https://projecteuler.net/problem=539)"
   ]
  },
  {
   "cell_type": "markdown",
   "id": "75a21df4",
   "metadata": {},
   "source": [
    "Start from an ordered list of all integers from $1$ to $n$. Going from left to right, remove the first number and every other number afterward until the end of the list. Repeat the procedure from right to left, removing the right most number and every other number from the numbers left. Continue removing every other numbers, alternating left to right and right to left, until a single number remains.\n",
    "\n",
    "Starting with $n = 9$, we have:\n",
    "  \n",
    "$\\underline 1\\,2\\,\\underline 3\\,4\\,\\underline 5\\,6\\,\\underline 7\\,8\\,\\underline 9$\n",
    "  \n",
    "$2\\,\\underline 4\\,6\\,\\underline 8$\n",
    "  \n",
    "$\\underline 2\\,6$\n",
    "  \n",
    "$6$\n",
    "\n",
    "Let $P(n)$ be the last number left starting with a list of length $n$.\n",
    "  \n",
    "Let $\\displaystyle S(n) = \\sum\\_{k=1}^n P(k)$.\n",
    "  \n",
    "You are given $P(1)=1$, $P(9) = 6$, $P(1000)=510$, $S(1000)=268271$.\n",
    "\n",
    "Find $S(10^{18}) \\bmod 987654321$."
   ]
  },
  {
   "cell_type": "code",
   "execution_count": null,
   "id": "257681ed",
   "metadata": {},
   "outputs": [],
   "source": [
    "# Problem 539 workspace"
   ]
  },
  {
   "cell_type": "markdown",
   "id": "b037f736",
   "metadata": {},
   "source": [
    "## Answer: "
   ]
  },
  {
   "cell_type": "markdown",
   "id": "e3a179db",
   "metadata": {},
   "source": [
    "___"
   ]
  },
  {
   "cell_type": "markdown",
   "id": "9c0673ad",
   "metadata": {},
   "source": [
    "# Problem 540\n",
    " [Source](https://projecteuler.net/problem=540)"
   ]
  },
  {
   "cell_type": "markdown",
   "id": "8bf63738",
   "metadata": {},
   "source": [
    "A\n",
    "**Pythagorean triple**\n",
    "consists of three positive integers $a, b$ and $c$ satisfying $a^2+b^2=c^2$.\n",
    "  \n",
    "The triple is called primitive if $a, b$ and $c$ are relatively prime.\n",
    "  \n",
    "Let $P(n)$ be the number of\n",
    "**primitive Pythagorean triples**\n",
    "with $a \\lt b \\lt c \\le n$.\n",
    "  \n",
    "For example $P(20) = 3$, since there are three triples: $(3,4,5)$, $(5,12,13)$ and $(8,15,17)$.\n",
    "\n",
    "You are given that $P(10^6) = 159139$.\n",
    "  \n",
    "Find $P(3141592653589793)$."
   ]
  },
  {
   "cell_type": "code",
   "execution_count": null,
   "id": "2b710ae3",
   "metadata": {},
   "outputs": [],
   "source": [
    "# Problem 540 workspace"
   ]
  },
  {
   "cell_type": "markdown",
   "id": "d22ffe85",
   "metadata": {},
   "source": [
    "## Answer: "
   ]
  },
  {
   "cell_type": "markdown",
   "id": "8fb3f56f",
   "metadata": {},
   "source": [
    "___"
   ]
  }
 ],
 "metadata": {},
 "nbformat": 4,
 "nbformat_minor": 5
}
