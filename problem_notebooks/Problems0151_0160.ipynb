{
 "cells": [
  {
   "cell_type": "markdown",
   "id": "825f0e27",
   "metadata": {},
   "source": [
    "# Problem 151\n",
    " [Source](https://projecteuler.net/problem=151)"
   ]
  },
  {
   "cell_type": "markdown",
   "id": "f9e7d87d",
   "metadata": {},
   "source": [
    "A printing shop runs 16 batches (jobs) every week and each batch requires a sheet of special colour-proofing paper of size A5.\n",
    "\n",
    "Every Monday morning, the supervisor opens a new envelope, containing a large sheet of the special paper with size A1.\n",
    "\n",
    "The supervisor proceeds to cut it in half, thus getting two sheets of size A2. Then one of the sheets is cut in half to get two sheets of size A3 and so on until an A5-size sheet is obtained, which is needed for the first batch of the week.\n",
    "\n",
    "All the unused sheets are placed back in the envelope.\n",
    "\n",
    "![](resources/0151.png)\n",
    "\n",
    "At the beginning of each subsequent batch, the supervisor takes from the envelope one sheet of paper at random. If it is of size A5, then it is used. If it is larger, then the 'cut-in-half' procedure is repeated until an A5-size sheet is obtained, and any remaining sheets are always placed back in the envelope.\n",
    "\n",
    "Excluding the first and last batch of the week, find the expected number of times (during each week) that the supervisor finds a single sheet of paper in the envelope.\n",
    "\n",
    "Give your answer rounded to six decimal places using the format x.xxxxxx ."
   ]
  },
  {
   "cell_type": "code",
   "execution_count": null,
   "id": "0a02b9b2",
   "metadata": {},
   "outputs": [],
   "source": [
    "# Problem 151 workspace"
   ]
  },
  {
   "cell_type": "markdown",
   "id": "b3ed55ba",
   "metadata": {},
   "source": [
    "## Answer: "
   ]
  },
  {
   "cell_type": "markdown",
   "id": "fc7e6692",
   "metadata": {},
   "source": [
    "___"
   ]
  },
  {
   "cell_type": "markdown",
   "id": "569c0b6a",
   "metadata": {},
   "source": [
    "# Problem 152\n",
    " [Source](https://projecteuler.net/problem=152)"
   ]
  },
  {
   "cell_type": "markdown",
   "id": "bf23a5ab",
   "metadata": {},
   "source": [
    "There are several ways to write the number $\\dfrac{1}{2}$ as a sum of square reciprocals using\n",
    "*distinct*\n",
    "integers.\n",
    "\n",
    "For instance, the numbers $\\{2,3,4,5,7,12,15,20,28,35\\}$ can be used:\n",
    "\n",
    "$$\\begin{align}\\dfrac{1}{2} &= \\dfrac{1}{2^2} + \\dfrac{1}{3^2} + \\dfrac{1}{4^2} + \\dfrac{1}{5^2} +\\\\\n",
    "&\\quad \\dfrac{1}{7^2} + \\dfrac{1}{12^2} + \\dfrac{1}{15^2} + \\dfrac{1}{20^2} +\\\\\n",
    "&\\quad \\dfrac{1}{28^2} + \\dfrac{1}{35^2}\\end{align}$$\n",
    "\n",
    "In fact, only using integers between $2$ and $45$ inclusive, there are exactly three ways to do it, the remaining two being: $\\{2,3,4,6,7,9,10,20,28,35,36,45\\}$ and $\\{2,3,4,6,7,9,12,15,28,30,35,36,45\\}$.\n",
    "\n",
    "How many ways are there to write $\\dfrac{1}{2}$ as a sum of reciprocals of squares using distinct integers between $2$ and $80$ inclusive?"
   ]
  },
  {
   "cell_type": "code",
   "execution_count": null,
   "id": "3c77cac2",
   "metadata": {},
   "outputs": [],
   "source": [
    "# Problem 152 workspace"
   ]
  },
  {
   "cell_type": "markdown",
   "id": "dc06f3be",
   "metadata": {},
   "source": [
    "## Answer: "
   ]
  },
  {
   "cell_type": "markdown",
   "id": "545ada29",
   "metadata": {},
   "source": [
    "___"
   ]
  },
  {
   "cell_type": "markdown",
   "id": "f76b846a",
   "metadata": {},
   "source": [
    "# Problem 153\n",
    " [Source](https://projecteuler.net/problem=153)"
   ]
  },
  {
   "cell_type": "markdown",
   "id": "5ef01060",
   "metadata": {},
   "source": [
    "As we all know the equation $x^2=-1$ has no solutions for real $x$.\n",
    "  \n",
    "If we however introduce the imaginary number $i$ this equation has two solutions: $x=i$ and $x=-i$.\n",
    "  \n",
    "If we go a step further the equation $(x-3)^2=-4$ has two complex solutions: $x=3+2i$ and $x=3-2i$.\n",
    "  \n",
    "$x=3+2i$ and $x=3-2i$ are called each others' complex conjugate.\n",
    "  \n",
    "Numbers of the form $a+bi$ are called complex numbers.\n",
    "  \n",
    "In general $a+bi$ and $a-bi$ are each other's complex conjugate.\n",
    "\n",
    "A Gaussian Integer is a complex number $a+bi$ such that both $a$ and $b$ are integers.\n",
    "  \n",
    "The regular integers are also Gaussian integers (with $b=0$).\n",
    "  \n",
    "To distinguish them from Gaussian integers with $b \\ne 0$ we call such integers \"rational integers.\"\n",
    "  \n",
    "A Gaussian integer $a+bi$ is called a divisor of a rational integer $n$ if the result $\\dfrac n {a + bi}$ is also a Gaussian integer.\n",
    "  \n",
    "If for example we divide $5$ by $1+2i$ we can simplify $\\dfrac{5}{1 + 2i}$ in the following manner:\n",
    "  \n",
    "Multiply numerator and denominator by the complex conjugate of $1+2i$: $1-2i$.\n",
    "  \n",
    "The result is $\\dfrac{5}{1 + 2i} = \\dfrac{5}{1 + 2i}\\dfrac{1 - 2i}{1 - 2i} = \\dfrac{5(1 - 2i)}{1 - (2i)^2} = \\dfrac{5(1 - 2i)}{1 - (-4)} = \\dfrac{5(1 - 2i)}{5} = 1 - 2i$.\n",
    "  \n",
    "So $1+2i$ is a divisor of $5$.\n",
    "  \n",
    "Note that $1+i$ is not a divisor of $5$ because $\\dfrac{5}{1 + i} = \\dfrac{5}{2} - \\dfrac{5}{2}i$.\n",
    "  \n",
    "Note also that if the Gaussian Integer $(a+bi)$ is a divisor of a rational integer $n$, then its complex conjugate $(a-bi)$ is also a divisor of $n$.\n",
    "\n",
    "In fact, $5$ has six divisors such that the real part is positive: $\\{1, 1 + 2i, 1 - 2i, 2 + i, 2 - i, 5\\}$.\n",
    "  \n",
    "The following is a table of all of the divisors for the first five positive rational integers:\n",
    "\n",
    "|  |  |  |\n",
    "| --- | --- | --- |\n",
    "| $n$ | Gaussian integer divisors   with positive real part | Sum $s(n)$ of   these divisors |\n",
    "| $1$ | $1$ | $1$ |\n",
    "| $2$ | $1, 1+i, 1-i, 2$ | $5$ |\n",
    "| $3$ | $1, 3$ | $4$ |\n",
    "| $4$ | $1, 1+i, 1-i, 2, 2+2i, 2-2i,4$ | $13$ |\n",
    "| $5$ | $1, 1+2i, 1-2i, 2+i, 2-i, 5$ | $12$ |\n",
    "\n",
    "For divisors with positive real parts, then, we have: $\\sum \\limits\\_{n = 1}^{5} {s(n)} = 35$.\n",
    "\n",
    "$\\sum \\limits\\_{n = 1}^{10^5} {s(n)} = 17924657155$.\n",
    "\n",
    "What is $\\sum \\limits\\_{n = 1}^{10^8} {s(n)}$?"
   ]
  },
  {
   "cell_type": "code",
   "execution_count": null,
   "id": "40769610",
   "metadata": {},
   "outputs": [],
   "source": [
    "# Problem 153 workspace"
   ]
  },
  {
   "cell_type": "markdown",
   "id": "f48275e2",
   "metadata": {},
   "source": [
    "## Answer: "
   ]
  },
  {
   "cell_type": "markdown",
   "id": "fb3898bf",
   "metadata": {},
   "source": [
    "___"
   ]
  },
  {
   "cell_type": "markdown",
   "id": "7f00d799",
   "metadata": {},
   "source": [
    "# Problem 154\n",
    " [Source](https://projecteuler.net/problem=154)"
   ]
  },
  {
   "cell_type": "markdown",
   "id": "bd7ff8b0",
   "metadata": {},
   "source": [
    "A triangular pyramid is constructed using spherical balls so that each ball rests on exactly three balls of the next lower level.\n",
    "\n",
    "![](resources/0154_pyramid.png)\n",
    "\n",
    "Then, we calculate the number of paths leading from the apex to each position:\n",
    "\n",
    "A path starts at the apex and progresses downwards to any of the three spheres directly below the current position.\n",
    "\n",
    "Consequently, the number of paths to reach a certain position is the sum of the numbers immediately above it (depending on the position, there are up to three numbers above it).\n",
    "\n",
    "The result is\n",
    "**Pascal's pyramid**\n",
    "and the numbers at each level $n$ are the coefficients of the trinomial expansion\n",
    "$(x + y + z)^n$.\n",
    "\n",
    "How many coefficients in the expansion of $(x + y + z)^{200000}$ are multiples of $10^{12}$?"
   ]
  },
  {
   "cell_type": "code",
   "execution_count": null,
   "id": "dea29277",
   "metadata": {},
   "outputs": [],
   "source": [
    "# Problem 154 workspace"
   ]
  },
  {
   "cell_type": "markdown",
   "id": "aa7367f4",
   "metadata": {},
   "source": [
    "## Answer: "
   ]
  },
  {
   "cell_type": "markdown",
   "id": "2b6077dc",
   "metadata": {},
   "source": [
    "___"
   ]
  },
  {
   "cell_type": "markdown",
   "id": "948c1a0b",
   "metadata": {},
   "source": [
    "# Problem 155\n",
    " [Source](https://projecteuler.net/problem=155)"
   ]
  },
  {
   "cell_type": "markdown",
   "id": "0884f33d",
   "metadata": {},
   "source": [
    "An electric circuit uses exclusively identical capacitors of the same value $C$.\n",
    "  \n",
    "The capacitors can be connected in series or in parallel to form sub-units, which can then be connected in series or in parallel with other capacitors or other sub-units to form larger sub-units, and so on up to a final circuit.\n",
    "\n",
    "Using this simple procedure and up to $n$ identical capacitors, we can make circuits having a range of different total capacitances. For example, using up to $n=3$ capacitors of $\\pu{60 \\mu F}$ each, we can obtain the following $7$ distinct total capacitance values:\n",
    "\n",
    "![](resources/0155_capacitors1.gif)\n",
    "\n",
    "If we denote by $D(n)$ the number of distinct total capacitance values we can obtain when using up to $n$ equal-valued capacitors and the simple procedure described above, we have: $D(1)=1$, $D(2)=3$, $D(3)=7$, $\\dots$\n",
    "\n",
    "Find $D(18)$.\n",
    "\n",
    "*Reminder:*\n",
    "When connecting capacitors $C\\_1, C\\_2$ etc in parallel, the total capacitance is $C\\_T = C\\_1 + C\\_2 + \\cdots$,\n",
    "  \n",
    "whereas when connecting them in series, the overall capacitance is given by: $\\dfrac{1}{C\\_T} = \\dfrac{1}{C\\_1} + \\dfrac{1}{C\\_2} + \\cdots$"
   ]
  },
  {
   "cell_type": "code",
   "execution_count": null,
   "id": "c19b4bb3",
   "metadata": {},
   "outputs": [],
   "source": [
    "# Problem 155 workspace"
   ]
  },
  {
   "cell_type": "markdown",
   "id": "a1ab4f4a",
   "metadata": {},
   "source": [
    "## Answer: "
   ]
  },
  {
   "cell_type": "markdown",
   "id": "7b617568",
   "metadata": {},
   "source": [
    "___"
   ]
  },
  {
   "cell_type": "markdown",
   "id": "0aa1af90",
   "metadata": {},
   "source": [
    "# Problem 156\n",
    " [Source](https://projecteuler.net/problem=156)"
   ]
  },
  {
   "cell_type": "markdown",
   "id": "2b6d6972",
   "metadata": {},
   "source": [
    "Starting from zero the natural numbers are written down in base $10$ like this:\n",
    "  \n",
    "$$0\\,1\\,2\\,3\\,4\\,5\\,6\\,7\\,8\\,9\\,10\\,11\\,12\\cdots$$\n",
    "\n",
    "Consider the digit $d=1$. After we write down each number $n$, we will update the number of ones that have occurred and call this number $f(n,1)$. The first values for $f(n,1)$, then, are as follows:\n",
    "\n",
    "$$\\begin{array}{cc}\n",
    "n & f(n, 1)\\\\\n",
    "\\hline\n",
    "0 & 0\\\\\n",
    "1 & 1\\\\\n",
    "2 & 1\\\\\n",
    "3 & 1\\\\\n",
    "4 & 1\\\\\n",
    "5 & 1\\\\\n",
    "6 & 1\\\\\n",
    "7 & 1\\\\\n",
    "8 & 1\\\\\n",
    "9 & 1\\\\\n",
    "10 & 2\\\\\n",
    "11 & 4\\\\\n",
    "12 & 5\n",
    "\\end{array}$$\n",
    "\n",
    "Note that $f(n,1)$ never equals $3$.\n",
    "  \n",
    "So the first two solutions of the equation $f(n,1)=n$ are $n=0$ and $n=1$. The next solution is $n=199981$.\n",
    "\n",
    "In the same manner the function $f(n,d)$ gives the total number of digits $d$ that have been written down after the number $n$ has been written.\n",
    "  \n",
    "In fact, for every digit $d \\ne 0$, $0$ is the first solution of the equation $f(n,d)=n$.\n",
    "\n",
    "Let $s(d)$ be the sum of all the solutions for which $f(n,d)=n$.\n",
    "  \n",
    "You are given that $s(1)=22786974071$.\n",
    "\n",
    "Find $\\sum s(d)$ for $1 \\le d \\le 9$.\n",
    "\n",
    "Note: if, for some $n$, $f(n,d)=n$ for more than one value of $d$ this value of $n$ is counted again for every value of $d$ for which $f(n,d)=n$."
   ]
  },
  {
   "cell_type": "code",
   "execution_count": null,
   "id": "0ca0c2d8",
   "metadata": {},
   "outputs": [],
   "source": [
    "# Problem 156 workspace"
   ]
  },
  {
   "cell_type": "markdown",
   "id": "08b557e7",
   "metadata": {},
   "source": [
    "## Answer: "
   ]
  },
  {
   "cell_type": "markdown",
   "id": "737bdf60",
   "metadata": {},
   "source": [
    "___"
   ]
  },
  {
   "cell_type": "markdown",
   "id": "d73403cf",
   "metadata": {},
   "source": [
    "# Problem 157\n",
    " [Source](https://projecteuler.net/problem=157)"
   ]
  },
  {
   "cell_type": "markdown",
   "id": "6264ecf8",
   "metadata": {},
   "source": [
    "Consider the diophantine equation $\\frac 1 a + \\frac 1 b = \\frac p {10^n}$ with $a, b, p, n$ positive integers and $a \\le b$.\n",
    "  \n",
    "For $n=1$ this equation has $20$ solutions that are listed below:\n",
    "$$\\begin{matrix}\n",
    "\\frac 1 1 + \\frac 1 1 = \\frac{20}{10} & \\frac 1 1 + \\frac 1 2 = \\frac{15}{10} & \\frac 1 1 + \\frac 1 5 = \\frac{12}{10} & \\frac 1 1 + \\frac 1 {10} = \\frac{11}{10} & \\frac 1 2 + \\frac 1 2 = \\frac{10}{10}\\\\\n",
    "\\frac 1 2 + \\frac 1 5 = \\frac 7 {10} & \\frac 1 2 + \\frac 1 {10} = \\frac 6 {10} & \\frac 1 3 + \\frac 1 6 = \\frac 5 {10} & \\frac 1 3 + \\frac 1 {15} = \\frac 4 {10} & \\frac 1 4 + \\frac 1 4 = \\frac 5 {10}\\\\\n",
    "\\frac 1 4 + \\frac 1 {20} = \\frac 3 {10} & \\frac 1 5 + \\frac 1 5 = \\frac 4 {10} & \\frac 1 5 + \\frac 1 {10} = \\frac 3 {10} & \\frac 1 6 + \\frac 1 {30} = \\frac 2 {10} & \\frac 1 {10} + \\frac 1 {10} = \\frac 2 {10}\\\\\n",
    "\\frac 1 {11} + \\frac 1 {110} = \\frac 1 {10} & \\frac 1 {12} + \\frac 1 {60} = \\frac 1 {10} & \\frac 1 {14} + \\frac 1 {35} = \\frac 1 {10} & \\frac 1 {15} + \\frac 1 {30} = \\frac 1 {10} & \\frac 1 {20} + \\frac 1 {20} = \\frac 1 {10}\n",
    "\\end{matrix}$$\n",
    "\n",
    "How many solutions has this equation for $1 \\le n \\le 9$?"
   ]
  },
  {
   "cell_type": "code",
   "execution_count": null,
   "id": "b1a6c032",
   "metadata": {},
   "outputs": [],
   "source": [
    "# Problem 157 workspace"
   ]
  },
  {
   "cell_type": "markdown",
   "id": "d2a30acc",
   "metadata": {},
   "source": [
    "## Answer: "
   ]
  },
  {
   "cell_type": "markdown",
   "id": "27d105ee",
   "metadata": {},
   "source": [
    "___"
   ]
  },
  {
   "cell_type": "markdown",
   "id": "11aa1c49",
   "metadata": {},
   "source": [
    "# Problem 158\n",
    " [Source](https://projecteuler.net/problem=158)"
   ]
  },
  {
   "cell_type": "markdown",
   "id": "d917c6de",
   "metadata": {},
   "source": [
    "Taking three different letters from the $26$ letters of the alphabet, character strings of length three can be formed.\n",
    "  \n",
    "Examples are 'abc', 'hat' and 'zyx'.\n",
    "  \n",
    "When we study these three examples we see that for 'abc' two characters come lexicographically after its neighbour to the left.\n",
    "  \n",
    "For 'hat' there is exactly one character that comes lexicographically after its neighbour to the left. For 'zyx' there are zero characters that come lexicographically after its neighbour to the left.\n",
    "  \n",
    "In all there are $10400$ strings of length $3$ for which exactly one character comes lexicographically after its neighbour to the left.\n",
    "\n",
    "We now consider strings of $n \\le 26$ different characters from the alphabet.\n",
    "  \n",
    "For every $n$, $p(n)$ is the number of strings of length $n$ for which exactly one character comes lexicographically after its neighbour to the left.\n",
    "\n",
    "What is the maximum value of $p(n)$?"
   ]
  },
  {
   "cell_type": "code",
   "execution_count": null,
   "id": "a26b8ff2",
   "metadata": {},
   "outputs": [],
   "source": [
    "# Problem 158 workspace"
   ]
  },
  {
   "cell_type": "markdown",
   "id": "6e1b85ef",
   "metadata": {},
   "source": [
    "## Answer: "
   ]
  },
  {
   "cell_type": "markdown",
   "id": "5a8aeefc",
   "metadata": {},
   "source": [
    "___"
   ]
  },
  {
   "cell_type": "markdown",
   "id": "77a3da5f",
   "metadata": {},
   "source": [
    "# Problem 159\n",
    " [Source](https://projecteuler.net/problem=159)"
   ]
  },
  {
   "cell_type": "markdown",
   "id": "b7fb71fd",
   "metadata": {},
   "source": [
    "A composite number can be factored many different ways.\n",
    "For instance, not including multiplication by one, $24$ can be factored in $7$ distinct ways:\n",
    "\n",
    "$$\\begin{align}\n",
    "24 &= 2 \\times 2 \\times 2 \\times 3\\\\\n",
    "24 &= 2 \\times 3 \\times 4\\\\\n",
    "24 &= 2 \\times 2 \\times 6\\\\\n",
    "24 &= 4 \\times 6\\\\\n",
    "24 &= 3 \\times 8\\\\\n",
    "24 &= 2 \\times 12\\\\\n",
    "24 &= 24\n",
    "\\end{align}$$\n",
    "\n",
    "Recall that the digital root of a number, in base $10$, is found by adding together the digits of that number,\n",
    "and repeating that process until a number is arrived at that is less than $10$.\n",
    "Thus the digital root of $467$ is $8$.\n",
    "\n",
    "We shall call a Digital Root Sum (DRS) the sum of the digital roots of the individual factors of our number.\n",
    "  \n",
    "The chart below demonstrates all of the DRS values for $24$.\n",
    "\n",
    "| Factorisation | Digital Root Sum |\n",
    "| --- | --- |\n",
    "| $2 \\times 2 \\times 2 \\times 3$ | $9$ |\n",
    "| $2 \\times 3 \\times 4$ | $9$ |\n",
    "| $2 \\times 2 \\times 6$ | $10$ |\n",
    "| $4 \\times 6$ | $10$ |\n",
    "| $3 \\times 8$ | $11$ |\n",
    "| $2 \\times 12$ | $5$ |\n",
    "| $24$ | $6$ |\n",
    "\n",
    "The maximum Digital Root Sum of $24$ is $11$.\n",
    "  \n",
    "The function $\\operatorname{mdrs}(n)$ gives the maximum Digital Root Sum of $n$. So $\\operatorname{mdrs}(24)=11$.\n",
    "  \n",
    "Find $\\sum \\operatorname{mdrs}(n)$ for $1 \\lt n \\lt 1\\,000\\,000$."
   ]
  },
  {
   "cell_type": "code",
   "execution_count": null,
   "id": "0161e6e1",
   "metadata": {},
   "outputs": [],
   "source": [
    "# Problem 159 workspace"
   ]
  },
  {
   "cell_type": "markdown",
   "id": "6ee81a15",
   "metadata": {},
   "source": [
    "## Answer: "
   ]
  },
  {
   "cell_type": "markdown",
   "id": "68efefa0",
   "metadata": {},
   "source": [
    "___"
   ]
  },
  {
   "cell_type": "markdown",
   "id": "8655d3d6",
   "metadata": {},
   "source": [
    "# Problem 160\n",
    " [Source](https://projecteuler.net/problem=160)"
   ]
  },
  {
   "cell_type": "markdown",
   "id": "6eff89a1",
   "metadata": {},
   "source": [
    "For any $N$, let $f(N)$ be the last five digits before the trailing zeroes in $N!$.\n",
    "  \n",
    "For example,\n",
    "\n",
    "* $9! = 362880$ so $f(9)=36288$\n",
    "* $10! = 3628800$ so $f(10)=36288$\n",
    "* $20! = 2432902008176640000$ so $f(20)=17664$\n",
    "\n",
    "Find $f(1\\,000\\,000\\,000\\,000)$."
   ]
  },
  {
   "cell_type": "code",
   "execution_count": null,
   "id": "e25e1f64",
   "metadata": {},
   "outputs": [],
   "source": [
    "# Problem 160 workspace"
   ]
  },
  {
   "cell_type": "markdown",
   "id": "3fbb04dc",
   "metadata": {},
   "source": [
    "## Answer: "
   ]
  },
  {
   "cell_type": "markdown",
   "id": "2e823674",
   "metadata": {},
   "source": [
    "___"
   ]
  }
 ],
 "metadata": {},
 "nbformat": 4,
 "nbformat_minor": 5
}
