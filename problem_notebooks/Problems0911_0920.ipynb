{
 "cells": [
  {
   "cell_type": "markdown",
   "id": "f5c003e7",
   "metadata": {},
   "source": [
    "# Problem 911\n",
    " [Source](https://projecteuler.net/problem=911)"
   ]
  },
  {
   "cell_type": "markdown",
   "id": "ef3fead2",
   "metadata": {},
   "source": [
    "An irrational number $x$ can be uniquely expressed as a\n",
    "**continued fraction**\n",
    "$[a\\_0; a\\_1,a\\_2,a\\_3,\\dots]$:\n",
    "$$\n",
    "x=a\\_{0}+\\cfrac{1}{a\\_1+\\cfrac{1}{a\\_2+\\cfrac{1}{a\\_3+{\\_\\ddots}}}}\n",
    "$$where $a\\_0$ is an integer and $a\\_1,a\\_2,a\\_3,\\dots$ are positive integers.\n",
    "\n",
    "Define $k\\_j(x)$ to be the\n",
    "**geometric mean**\n",
    "of $a\\_1,a\\_2,\\dots,a\\_j$.\n",
    "  \n",
    "That is, $k\\_j(x)=(a\\_1a\\_2 \\cdots a\\_j)^{1/j}$.\n",
    "  \n",
    "Also define $k\\_\\infty(x)=\\lim\\_{j\\to \\infty} k\\_j(x)$.\n",
    "\n",
    "Khinchin proved that\n",
    "**almost all**\n",
    "irrational numbers $x$ have the same value of $k\\_\\infty(x)\\approx2.685452\\dots$ known as\n",
    "**Khinchin's constant**\n",
    ". However, there are some exceptions to this rule.\n",
    "\n",
    "For $n\\geq 0$ define\n",
    "$$\\rho\\_n = \\sum\\_{i=0}^{\\infty} \\frac{2^n}{2^{2^i}}\n",
    "$$For example $\\rho\\_2$, with continued fraction beginning $[3; 3, 1, 3, 4, 3, 1, 3,\\dots]$, has $k\\_\\infty(\\rho\\_2)\\approx2.059767$.\n",
    "\n",
    "Find the geometric mean of $k\\_{\\infty}(\\rho\\_n)$ for $0\\leq n\\leq 50$, giving your answer rounded to six digits after the decimal point."
   ]
  },
  {
   "cell_type": "code",
   "execution_count": null,
   "id": "e7a8df6c",
   "metadata": {},
   "outputs": [],
   "source": [
    "# Problem 911 workspace"
   ]
  },
  {
   "cell_type": "markdown",
   "id": "36dc9173",
   "metadata": {},
   "source": [
    "## Answer: "
   ]
  },
  {
   "cell_type": "markdown",
   "id": "8d601a4b",
   "metadata": {},
   "source": [
    "___"
   ]
  },
  {
   "cell_type": "markdown",
   "id": "4a6151ed",
   "metadata": {},
   "source": [
    "# Problem 912\n",
    " [Source](https://projecteuler.net/problem=912)"
   ]
  },
  {
   "cell_type": "markdown",
   "id": "51de2cea",
   "metadata": {},
   "source": [
    "Let $s\\_n$ be the $n$-th positive integer that does not contain three consecutive ones in its binary representation.\n",
    "  \n",
    "For example, $s\\_1 = 1$ and $s\\_7 = 8$.\n",
    "\n",
    "Define $F(N)$ to be the sum of $n^2$ for all $n\\leq N$ where $s\\_n$ is odd. You are given $F(10)=199$.\n",
    "\n",
    "Find $F(10^{16})$ giving your answer modulo $10^9+7$."
   ]
  },
  {
   "cell_type": "code",
   "execution_count": null,
   "id": "bc4f55b2",
   "metadata": {},
   "outputs": [],
   "source": [
    "# Problem 912 workspace"
   ]
  },
  {
   "cell_type": "markdown",
   "id": "eeb5a80a",
   "metadata": {},
   "source": [
    "## Answer: "
   ]
  },
  {
   "cell_type": "markdown",
   "id": "e790f309",
   "metadata": {},
   "source": [
    "___"
   ]
  },
  {
   "cell_type": "markdown",
   "id": "1c3955ac",
   "metadata": {},
   "source": [
    "# Problem 913\n",
    " [Source](https://projecteuler.net/problem=913)"
   ]
  },
  {
   "cell_type": "markdown",
   "id": "dfb12421",
   "metadata": {},
   "source": [
    "The numbers from $1$ to $12$ can be arranged into a $3 \\times 4$ matrix in either\n",
    "**row-major**\n",
    "or\n",
    "**column-major**\n",
    "order:\n",
    "$$R=\\begin{pmatrix}\n",
    "1 & 2 & 3 & 4\\\\\n",
    "5 & 6 & 7 & 8\\\\\n",
    "9 & 10 & 11 & 12\\end{pmatrix}, C=\\begin{pmatrix}\n",
    "1 & 4 & 7 & 10\\\\\n",
    "2 & 5 & 8 & 11\\\\\n",
    "3 & 6 & 9 & 12\\end{pmatrix}$$\n",
    "By swapping two entries at a time, at least $8$ swaps are needed to transform $R$ to $C$.\n",
    "\n",
    "Let $S(n, m)$ be the minimal number of swaps needed to transform an $n\\times m$ matrix of $1$ to $nm$ from row-major order to column-major order. Thus $S(3, 4) = 8$.\n",
    "\n",
    "You are given that the sum of $S(n, m)$ for $2 \\leq n \\leq m \\leq 100$ is $12578833$.\n",
    "\n",
    "Find the sum of $S(n^4, m^4)$ for $2 \\leq n \\leq m \\leq 100$."
   ]
  },
  {
   "cell_type": "code",
   "execution_count": null,
   "id": "b16aecd5",
   "metadata": {},
   "outputs": [],
   "source": [
    "# Problem 913 workspace"
   ]
  },
  {
   "cell_type": "markdown",
   "id": "0efa4f67",
   "metadata": {},
   "source": [
    "## Answer: "
   ]
  },
  {
   "cell_type": "markdown",
   "id": "36ac12cd",
   "metadata": {},
   "source": [
    "___"
   ]
  },
  {
   "cell_type": "markdown",
   "id": "dab35f06",
   "metadata": {},
   "source": [
    "# Problem 914\n",
    " [Source](https://projecteuler.net/problem=914)"
   ]
  },
  {
   "cell_type": "markdown",
   "id": "ee54ed05",
   "metadata": {},
   "source": [
    "For a given integer $R$ consider all primitive Pythagorean triangles that can fit inside, without touching, a circle with radius $R$. Define $F(R)$ to be the largest inradius of those triangles. You are given $F(100) = 36$.\n",
    "\n",
    "Find $F(10^{18})$."
   ]
  },
  {
   "cell_type": "code",
   "execution_count": null,
   "id": "10809063",
   "metadata": {},
   "outputs": [],
   "source": [
    "# Problem 914 workspace"
   ]
  },
  {
   "cell_type": "markdown",
   "id": "95a0de90",
   "metadata": {},
   "source": [
    "## Answer: "
   ]
  },
  {
   "cell_type": "markdown",
   "id": "46dbee3d",
   "metadata": {},
   "source": [
    "___"
   ]
  },
  {
   "cell_type": "markdown",
   "id": "a65c0cdc",
   "metadata": {},
   "source": [
    "# Problem 915\n",
    " [Source](https://projecteuler.net/problem=915)"
   ]
  },
  {
   "cell_type": "markdown",
   "id": "e7db1d3b",
   "metadata": {},
   "source": [
    "The function $s(n)$ is defined recursively for positive integers by\n",
    "$s(1) = 1$ and $s(n+1) = \\big(s(n) - 1\\big)^3 +2$ for $n\\geq 1$.\n",
    "  \n",
    "The sequence begins: $s(1) = 1, s(2) = 2, s(3) = 3, s(4) = 10, \\ldots$.\n",
    "\n",
    "For positive integers $N$, define $$T(N) = \\sum\\_{a=1}^N \\sum\\_{b=1}^N \\gcd\\Big(s\\big(s(a)\\big), s\\big(s(b)\\big)\\Big).$$ You are given $T(3) = 12$, $T(4) \\equiv 24881925$ and $T(100)\\equiv 14416749$ both modulo $123456789$.\n",
    "\n",
    "Find $T(10^8)$. Give your answer modulo $123456789$."
   ]
  },
  {
   "cell_type": "code",
   "execution_count": null,
   "id": "e804335c",
   "metadata": {},
   "outputs": [],
   "source": [
    "# Problem 915 workspace"
   ]
  },
  {
   "cell_type": "markdown",
   "id": "e5e7d2d3",
   "metadata": {},
   "source": [
    "## Answer: "
   ]
  },
  {
   "cell_type": "markdown",
   "id": "ac80e71b",
   "metadata": {},
   "source": [
    "___"
   ]
  },
  {
   "cell_type": "markdown",
   "id": "7d91fa6e",
   "metadata": {},
   "source": [
    "# Problem 916\n",
    " [Source](https://projecteuler.net/problem=916)"
   ]
  },
  {
   "cell_type": "markdown",
   "id": "03ad5a88",
   "metadata": {},
   "source": [
    "Let $P(n)$ be the number of permutations of $\\{1,2,3,\\ldots,2n\\}$ such that:\n",
    "  \n",
    "1. There is no ascending subsequence with more than $n+1$ elements, and\n",
    "  \n",
    "2. There is no descending subsequence with more than two elements.\n",
    "\n",
    "Note that subsequences need not be contiguous. For example, the permutation $(4,1,3,2)$ is not counted because it has a descending subsequence of three elements: $(4,3,2)$. You are given $P(2)=13$ and $P(10) \\equiv 45265702 \\pmod{10^9 + 7}$.\n",
    "\n",
    "Find $P(10^8)$ and give your answer modulo $10^9 + 7$."
   ]
  },
  {
   "cell_type": "code",
   "execution_count": null,
   "id": "16a647cb",
   "metadata": {},
   "outputs": [],
   "source": [
    "# Problem 916 workspace"
   ]
  },
  {
   "cell_type": "markdown",
   "id": "c9e480a0",
   "metadata": {},
   "source": [
    "## Answer: "
   ]
  },
  {
   "cell_type": "markdown",
   "id": "8c63e74a",
   "metadata": {},
   "source": [
    "___"
   ]
  },
  {
   "cell_type": "markdown",
   "id": "3b444cb6",
   "metadata": {},
   "source": [
    "# Problem 917\n",
    " [Source](https://projecteuler.net/problem=917)"
   ]
  },
  {
   "cell_type": "markdown",
   "id": "fbc400b8",
   "metadata": {},
   "source": [
    "The sequence $s\\_n$ is defined by $s\\_1 = 102022661$ and $s\\_n = s\\_{n-1}^2 \\bmod {998388889}$ for $n > 1$.\n",
    "\n",
    "Let $a\\_n = s\\_{2n - 1}$ and $b\\_n = s\\_{2n}$ for $n=1,2,...$\n",
    "\n",
    "Define an $N \\times N$ matrix whose values are $M\\_{i,j} = a\\_i + b\\_j$.\n",
    "\n",
    "Let $A(N)$ be the minimal path sum from $M\\_{1,1}$ (top left) to $M\\_{N,N}$ (bottom right), where each step is either right or down.\n",
    "\n",
    "You are given $A(1) = 966774091$, $A(2) = 2388327490$ and $A(10) = 13389278727$.\n",
    "\n",
    "Find $A(10^7)$."
   ]
  },
  {
   "cell_type": "code",
   "execution_count": null,
   "id": "49a98ce8",
   "metadata": {},
   "outputs": [],
   "source": [
    "# Problem 917 workspace"
   ]
  },
  {
   "cell_type": "markdown",
   "id": "15ebd2e6",
   "metadata": {},
   "source": [
    "## Answer: "
   ]
  },
  {
   "cell_type": "markdown",
   "id": "3a9ba1d7",
   "metadata": {},
   "source": [
    "___"
   ]
  },
  {
   "cell_type": "markdown",
   "id": "cb716830",
   "metadata": {},
   "source": [
    "# Problem 918\n",
    " [Source](https://projecteuler.net/problem=918)"
   ]
  },
  {
   "cell_type": "markdown",
   "id": "5af11fee",
   "metadata": {},
   "source": [
    "The sequence $a\\_n$ is defined by $a\\_1=1$, and then recursively for $n\\geq1$:\n",
    "$$\\begin{align\\*}\n",
    "a\\_{2n} &=2a\\_n\\\\\n",
    "a\\_{2n+1} &=a\\_n-3a\\_{n+1}\n",
    "\\end{align\\*}$$\n",
    "The first ten terms are $1, 2, -5, 4, 17, -10, -17, 8, -47, 34$.\n",
    "  \n",
    "Define $\\displaystyle S(N) = \\sum\\_{n=1}^N a\\_n$. You are given $S(10) = -13$.\n",
    "  \n",
    "Find $S(10^{12})$."
   ]
  },
  {
   "cell_type": "code",
   "execution_count": null,
   "id": "e53b5064",
   "metadata": {},
   "outputs": [],
   "source": [
    "# Problem 918 workspace"
   ]
  },
  {
   "cell_type": "markdown",
   "id": "4b9e8114",
   "metadata": {},
   "source": [
    "## Answer: "
   ]
  },
  {
   "cell_type": "markdown",
   "id": "3ad24759",
   "metadata": {},
   "source": [
    "___"
   ]
  },
  {
   "cell_type": "markdown",
   "id": "1d8bd117",
   "metadata": {},
   "source": [
    "# Problem 919\n",
    " [Source](https://projecteuler.net/problem=919)"
   ]
  },
  {
   "cell_type": "markdown",
   "id": "c58d8cf3",
   "metadata": {},
   "source": [
    "We call a triangle\n",
    "*fortunate*\n",
    "if it has integral sides and at least one of its vertices has the property that the distance from it to the triangle's\n",
    "**orthocentre**\n",
    "is exactly half the distance from the same vertex to the triangle's\n",
    "**circumcentre**\n",
    ".\n",
    "\n",
    "![0919_remarkablediagram.jpg](resources/0919_remarkablediagram.jpg)\n",
    "\n",
    "Triangle $ABC$ above is an example of a fortunate triangle with sides $(6,7,8)$. The distance from the vertex $C$ to the circumcentre $O$ is $\\approx 4.131182$, while the distance from $C$ to the orthocentre $H$ is half that, at $\\approx 2.065591$.\n",
    "\n",
    "Define $S(P)$ to be the sum of $a+b+c$ over all fortunate triangles with sides $a\\leq b\\leq c$ and perimeter not exceeding $P$.\n",
    "\n",
    "For example $S(10)=24$, arising from three triangles with sides $(1,2,2)$, $(2,3,4)$, and $(2,4,4)$. You are also given $S(100)=3331$.\n",
    "\n",
    "Find $S(10^7)$."
   ]
  },
  {
   "cell_type": "code",
   "execution_count": null,
   "id": "21b30da6",
   "metadata": {},
   "outputs": [],
   "source": [
    "# Problem 919 workspace"
   ]
  },
  {
   "cell_type": "markdown",
   "id": "a3a3b7ba",
   "metadata": {},
   "source": [
    "## Answer: "
   ]
  },
  {
   "cell_type": "markdown",
   "id": "694d3090",
   "metadata": {},
   "source": [
    "___"
   ]
  },
  {
   "cell_type": "markdown",
   "id": "d18ab392",
   "metadata": {},
   "source": [
    "# Problem 920\n",
    " [Source](https://projecteuler.net/problem=920)"
   ]
  },
  {
   "cell_type": "markdown",
   "id": "b5feaf02",
   "metadata": {},
   "source": [
    "For a positive integer $n$ we define $\\tau(n)$ to be the count of the divisors of $n$. For example, the divisors of $12$ are $\\{1,2,3,4,6,12\\}$ and so $\\tau(12) = 6$.\n",
    "\n",
    "A positive integer $n$ is a\n",
    "**tau number**\n",
    "if it is divisible by $\\tau(n)$. For example $\\tau(12)=6$ and $6$ divides $12$ so $12$ is a tau number.\n",
    "\n",
    "Let $m(k)$ be the smallest tau number $x$ such that $\\tau(x) = k$. For example, $m(8) = 24$, $m(12)=60$ and $m(16)=384$.\n",
    "\n",
    "Further define $M(n)$ to be the sum of all $m(k)$ whose values do not exceed $10^n$. You are given $M(3) = 3189$.\n",
    "\n",
    "Find $M(16)$."
   ]
  },
  {
   "cell_type": "code",
   "execution_count": null,
   "id": "7a4fb9c0",
   "metadata": {},
   "outputs": [],
   "source": [
    "# Problem 920 workspace"
   ]
  },
  {
   "cell_type": "markdown",
   "id": "b99e5c4e",
   "metadata": {},
   "source": [
    "## Answer: "
   ]
  },
  {
   "cell_type": "markdown",
   "id": "da906d16",
   "metadata": {},
   "source": [
    "___"
   ]
  }
 ],
 "metadata": {},
 "nbformat": 4,
 "nbformat_minor": 5
}
