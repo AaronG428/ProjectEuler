{
 "cells": [
  {
   "cell_type": "markdown",
   "id": "34be6fa4",
   "metadata": {},
   "source": [
    "# Problem 281\n",
    " [Source](https://projecteuler.net/problem=281)"
   ]
  },
  {
   "cell_type": "markdown",
   "id": "ff0ea7d4",
   "metadata": {},
   "source": [
    "You are given a pizza (perfect circle) that has been cut into $m \\cdot n$ equal pieces and you want to have exactly one topping on each slice.\n",
    "\n",
    "Let $f(m, n)$ denote the number of ways you can have toppings on the pizza with $m$ different toppings ($m \\ge 2$), using each topping on exactly $n$ slices ($n \\ge 1$).\n",
    "  \n",
    "Reflections are considered distinct, rotations are not.\n",
    "\n",
    "Thus, for instance, $f(2,1) = 1$, $f(2, 2) = f(3, 1) = 2$ and $f(3, 2) = 16$.\n",
    "  \n",
    "$f(3, 2)$ is shown below:\n",
    "\n",
    "![0281_pizza.gif](resources/0281_pizza.gif)\n",
    "\n",
    "Find the sum of all $f(m, n)$ such that $f(m, n) \\le 10^{15}$."
   ]
  },
  {
   "cell_type": "code",
   "execution_count": null,
   "id": "15a37699",
   "metadata": {},
   "outputs": [],
   "source": [
    "# Problem 281 workspace"
   ]
  },
  {
   "cell_type": "markdown",
   "id": "6a96b90a",
   "metadata": {},
   "source": [
    "## Answer: "
   ]
  },
  {
   "cell_type": "markdown",
   "id": "6450ef6d",
   "metadata": {},
   "source": [
    "___"
   ]
  },
  {
   "cell_type": "markdown",
   "id": "87590966",
   "metadata": {},
   "source": [
    "# Problem 282\n",
    " [Source](https://projecteuler.net/problem=282)"
   ]
  },
  {
   "cell_type": "markdown",
   "id": "ab5e1c14",
   "metadata": {},
   "source": [
    "$\\def\\htmltext#1{\\style{font-family:inherit;}{\\text{#1}}}$\n",
    "\n",
    "For non-negative integers $m$, $n$, the Ackermann function $A(m,n)$ is defined as follows:\n",
    "$$\n",
    "A(m,n) = \\cases{\n",
    "n+1 &$\\htmltext{ if }m=0$\\cr\n",
    "A(m-1,1) &$\\htmltext{ if }m>0 \\htmltext{ and } n=0$\\cr\n",
    "A(m-1,A(m,n-1)) &$\\htmltext{ if }m>0 \\htmltext{ and } n>0$\\cr\n",
    "}$$\n",
    "\n",
    "For example $A(1,0) = 2$, $A(2,2) = 7$ and $A(3,4) = 125$.\n",
    "\n",
    "Find $\\displaystyle\\sum\\_{n=0}^6 A(n,n)$ and give your answer mod $14^8$."
   ]
  },
  {
   "cell_type": "code",
   "execution_count": null,
   "id": "8dea7f9a",
   "metadata": {},
   "outputs": [],
   "source": [
    "# Problem 282 workspace"
   ]
  },
  {
   "cell_type": "markdown",
   "id": "8af3338c",
   "metadata": {},
   "source": [
    "## Answer: "
   ]
  },
  {
   "cell_type": "markdown",
   "id": "2820b6da",
   "metadata": {},
   "source": [
    "___"
   ]
  },
  {
   "cell_type": "markdown",
   "id": "81a0c28b",
   "metadata": {},
   "source": [
    "# Problem 283\n",
    " [Source](https://projecteuler.net/problem=283)"
   ]
  },
  {
   "cell_type": "markdown",
   "id": "773689a5",
   "metadata": {},
   "source": [
    "Consider the triangle with sides $6$, $8$, and $10$. It can be seen that the perimeter and the area are both equal to $24$.\n",
    "So the area/perimeter ratio is equal to $1$.\n",
    "  \n",
    "Consider also the triangle with sides $13$, $14$ and $15$. The perimeter equals $42$ while the area is equal to $84$.\n",
    "So for this triangle the area/perimeter ratio is equal to $2$.\n",
    "\n",
    "Find the sum of the perimeters of all integer sided triangles for which the area/perimeter ratios are equal to positive integers not exceeding $1000$."
   ]
  },
  {
   "cell_type": "code",
   "execution_count": null,
   "id": "d2976d60",
   "metadata": {},
   "outputs": [],
   "source": [
    "# Problem 283 workspace"
   ]
  },
  {
   "cell_type": "markdown",
   "id": "9f4f68a5",
   "metadata": {},
   "source": [
    "## Answer: "
   ]
  },
  {
   "cell_type": "markdown",
   "id": "7327485e",
   "metadata": {},
   "source": [
    "___"
   ]
  },
  {
   "cell_type": "markdown",
   "id": "1e3a242a",
   "metadata": {},
   "source": [
    "# Problem 284\n",
    " [Source](https://projecteuler.net/problem=284)"
   ]
  },
  {
   "cell_type": "markdown",
   "id": "1d841b5f",
   "metadata": {},
   "source": [
    "The 3-digit number 376 in the decimal numbering system is an example of numbers with the special property that its square ends with the same digits: 376\n",
    "2\n",
    "= 141376. Let's call a number with this property a steady square.\n",
    "\n",
    "Steady squares can also be observed in other numbering systems. In the base 14 numbering system, the 3-digit number c37 is also a steady square: c37\n",
    "2\n",
    "= aa0c37, and the sum of its digits is c+3+7=18 in the same numbering system. The letters a, b, c and d are used for the 10, 11, 12 and 13 digits respectively, in a manner similar to the hexadecimal numbering system.\n",
    "\n",
    "For 1 ≤ n ≤ 9, the sum of the digits of all the n-digit steady squares in the base 14 numbering system is 2d8 (582 decimal). Steady squares with leading 0's are not allowed.\n",
    "\n",
    "Find the sum of the digits of all the n-digit steady squares in the base 14 numbering system for\n",
    "  \n",
    "1 ≤ n ≤ 10000 (decimal) and give your answer in the base 14 system using lower case letters where necessary."
   ]
  },
  {
   "cell_type": "code",
   "execution_count": null,
   "id": "46b9fedf",
   "metadata": {},
   "outputs": [],
   "source": [
    "# Problem 284 workspace"
   ]
  },
  {
   "cell_type": "markdown",
   "id": "88f4810c",
   "metadata": {},
   "source": [
    "## Answer: "
   ]
  },
  {
   "cell_type": "markdown",
   "id": "8b41ffe9",
   "metadata": {},
   "source": [
    "___"
   ]
  },
  {
   "cell_type": "markdown",
   "id": "2cfa200f",
   "metadata": {},
   "source": [
    "# Problem 285\n",
    " [Source](https://projecteuler.net/problem=285)"
   ]
  },
  {
   "cell_type": "markdown",
   "id": "abc3166e",
   "metadata": {},
   "source": [
    "Albert chooses a positive integer $k$, then two real numbers $a, b$ are randomly chosen in the interval $[0,1]$ with uniform distribution.\n",
    "  \n",
    "The square root of the sum $(k \\cdot a + 1)^2 + (k \\cdot b + 1)^2$ is then computed and rounded to the nearest integer. If the result is equal to $k$, he scores $k$ points; otherwise he scores nothing.\n",
    "\n",
    "For example, if $k = 6$, $a = 0.2$ and $b = 0.85$, then $(k \\cdot a + 1)^2 + (k \\cdot b + 1)^2 = 42.05$.\n",
    "  \n",
    "The square root of $42.05$ is $6.484\\cdots$ and when rounded to the nearest integer, it becomes $6$.\n",
    "  \n",
    "This is equal to $k$, so he scores $6$ points.\n",
    "\n",
    "It can be shown that if he plays $10$ turns with $k = 1, k = 2, \\dots, k = 10$, the expected value of his total score, rounded to five decimal places, is $10.20914$.\n",
    "\n",
    "If he plays $10^5$ turns with $k = 1, k = 2, k = 3, \\dots, k = 10^5$, what is the expected value of his total score, rounded to five decimal places?"
   ]
  },
  {
   "cell_type": "code",
   "execution_count": null,
   "id": "bfd5c1ec",
   "metadata": {},
   "outputs": [],
   "source": [
    "# Problem 285 workspace"
   ]
  },
  {
   "cell_type": "markdown",
   "id": "b7f95884",
   "metadata": {},
   "source": [
    "## Answer: "
   ]
  },
  {
   "cell_type": "markdown",
   "id": "5901e5a0",
   "metadata": {},
   "source": [
    "___"
   ]
  },
  {
   "cell_type": "markdown",
   "id": "ccb7717c",
   "metadata": {},
   "source": [
    "# Problem 286\n",
    " [Source](https://projecteuler.net/problem=286)"
   ]
  },
  {
   "cell_type": "markdown",
   "id": "afbe7097",
   "metadata": {},
   "source": [
    "Barbara is a mathematician and a basketball player. She has found that the probability of scoring a point when shooting from a distance $x$ is exactly $(1 - x / q)$, where $q$ is a real constant greater than $50$.\n",
    "\n",
    "During each practice run, she takes shots from distances $x = 1, x = 2, \\dots, x = 50$ and, according to her records, she has precisely a $2\\%$ chance to score a total of exactly $20$ points.\n",
    "\n",
    "Find $q$ and give your answer rounded to $10$ decimal places."
   ]
  },
  {
   "cell_type": "code",
   "execution_count": null,
   "id": "01f791d2",
   "metadata": {},
   "outputs": [],
   "source": [
    "# Problem 286 workspace"
   ]
  },
  {
   "cell_type": "markdown",
   "id": "f391ff28",
   "metadata": {},
   "source": [
    "## Answer: "
   ]
  },
  {
   "cell_type": "markdown",
   "id": "1124e1f4",
   "metadata": {},
   "source": [
    "___"
   ]
  },
  {
   "cell_type": "markdown",
   "id": "631319af",
   "metadata": {},
   "source": [
    "# Problem 287\n",
    " [Source](https://projecteuler.net/problem=287)"
   ]
  },
  {
   "cell_type": "markdown",
   "id": "2553d0c4",
   "metadata": {},
   "source": [
    "The quadtree encoding allows us to describe a $2^N \\times 2^N$ black and white image as a sequence of bits (0 and 1). Those sequences are to be read from left to right like this:\n",
    "\n",
    "* the first bit deals with the complete $2^N \\times 2^N$ region;\n",
    "* \"0\" denotes a split:\n",
    "    \n",
    "  the current $2^n \\times 2^n$ region is divided into $4$ sub-regions of dimension $2^{n - 1} \\times 2^{n - 1}$,\n",
    "    \n",
    "  the next bits contains the description of the top left, top right, bottom left and bottom right sub-regions - in that order;\n",
    "* \"10\" indicates that the current region contains only black pixels;\n",
    "* \"11\" indicates that the current region contains only white pixels.\n",
    "\n",
    "Consider the following $4 \\times 4$ image (colored marks denote places where a split can occur):\n",
    "\n",
    "![0287_quadtree.gif](resources/0287_quadtree.gif)\n",
    "\n",
    "This image can be described by several sequences, for example :\n",
    "\"\n",
    "0\n",
    "\n",
    "0\n",
    "10101010\n",
    "0\n",
    "1011111011\n",
    "0\n",
    "10101010\", of length $30$, or\n",
    "  \n",
    "\"\n",
    "0\n",
    "10\n",
    "**0**\n",
    "101111101110\", of length $16$, which is the minimal sequence for this image.\n",
    "\n",
    "For a positive integer $N$, define $D\\_N$ as the $2^N \\times 2^N$ image with the following coloring scheme:\n",
    "\n",
    "* the pixel with coordinates $x = 0, y = 0$ corresponds to the bottom left pixel,\n",
    "* if $(x - 2^{N - 1})^2 + (y - 2^{N - 1})^2 \\le 2^{2N - 2}$ then the pixel is black,\n",
    "* otherwise the pixel is white.\n",
    "\n",
    "What is the length of the minimal sequence describing $D\\_{24}$?"
   ]
  },
  {
   "cell_type": "code",
   "execution_count": null,
   "id": "68e9be84",
   "metadata": {},
   "outputs": [],
   "source": [
    "# Problem 287 workspace"
   ]
  },
  {
   "cell_type": "markdown",
   "id": "42f36cc1",
   "metadata": {},
   "source": [
    "## Answer: "
   ]
  },
  {
   "cell_type": "markdown",
   "id": "6d03d5cb",
   "metadata": {},
   "source": [
    "___"
   ]
  },
  {
   "cell_type": "markdown",
   "id": "e9a0fb94",
   "metadata": {},
   "source": [
    "# Problem 288\n",
    " [Source](https://projecteuler.net/problem=288)"
   ]
  },
  {
   "cell_type": "markdown",
   "id": "a1632ea7",
   "metadata": {},
   "source": [
    "For any prime $p$ the number $N(p, q)$ is defined by\n",
    "$N(p, q) = \\sum\\_{n = 0}^q T\\_n \\cdot p^n$\n",
    "  \n",
    "with $T\\_n$ generated by the following random number generator:\n",
    "\n",
    "$S\\_0 = 290797$\n",
    "  \n",
    "$S\\_{n + 1} = S\\_n^2 \\bmod 50515093$\n",
    "  \n",
    "$T\\_n = S\\_n \\bmod p$\n",
    "\n",
    "Let $\\operatorname{Nfac}(p, q)$ be the factorial of $N(p, q)$.\n",
    "  \n",
    "Let $\\operatorname{NF}(p, q)$ be the number of factors $p$ in $\\operatorname{Nfac}(p, q)$.\n",
    "\n",
    "You are given that $\\operatorname{NF}(3,10000) \\bmod 3^{20} = 624955285$.\n",
    "\n",
    "Find $\\operatorname{NF}(61, 10^7) \\bmod 61^{10}$."
   ]
  },
  {
   "cell_type": "code",
   "execution_count": null,
   "id": "b927c616",
   "metadata": {},
   "outputs": [],
   "source": [
    "# Problem 288 workspace"
   ]
  },
  {
   "cell_type": "markdown",
   "id": "7ebed917",
   "metadata": {},
   "source": [
    "## Answer: "
   ]
  },
  {
   "cell_type": "markdown",
   "id": "bc3c96d7",
   "metadata": {},
   "source": [
    "___"
   ]
  },
  {
   "cell_type": "markdown",
   "id": "1bf7eb99",
   "metadata": {},
   "source": [
    "# Problem 289\n",
    " [Source](https://projecteuler.net/problem=289)"
   ]
  },
  {
   "cell_type": "markdown",
   "id": "882b1548",
   "metadata": {},
   "source": [
    "Let $C(x, y)$ be a circle passing through the points $(x, y)$, $(x, y + 1)$, $(x + 1, y)$ and $(x + 1, y + 1)$.\n",
    "\n",
    "For positive integers $m$ and $n$, let $E(m, n)$ be a configuration which consists of the $m \\cdot n$ circles:\n",
    "  \n",
    "$\\{ C(x, y): 0 \\le x \\lt m, 0 \\le y \\lt n, x \\text{ and } y \\text{ are integers} \\}$.\n",
    "\n",
    "An Eulerian cycle on $E(m, n)$ is a closed path that passes through each arc exactly once.\n",
    "  \n",
    "Many such paths are possible on $E(m, n)$, but we are only interested in those which are not self-crossing: a non-crossing path just touches itself at lattice points, but it never crosses itself.\n",
    "\n",
    "The image below shows $E(3,3)$ and an example of an Eulerian non-crossing path.\n",
    "\n",
    "![0289_euler.gif](resources/0289_euler.gif)\n",
    "\n",
    "Let $L(m, n)$ be the number of Eulerian non-crossing paths on $E(m, n)$.\n",
    "  \n",
    "For example, $L(1,2) = 2$, $L(2,2) = 37$ and $L(3,3) = 104290$.\n",
    "\n",
    "Find $L(6,10) \\bmod 10^{10}$."
   ]
  },
  {
   "cell_type": "code",
   "execution_count": null,
   "id": "5344c1f9",
   "metadata": {},
   "outputs": [],
   "source": [
    "# Problem 289 workspace"
   ]
  },
  {
   "cell_type": "markdown",
   "id": "bd1d416d",
   "metadata": {},
   "source": [
    "## Answer: "
   ]
  },
  {
   "cell_type": "markdown",
   "id": "0cb6e682",
   "metadata": {},
   "source": [
    "___"
   ]
  },
  {
   "cell_type": "markdown",
   "id": "28d90a04",
   "metadata": {},
   "source": [
    "# Problem 290\n",
    " [Source](https://projecteuler.net/problem=290)"
   ]
  },
  {
   "cell_type": "markdown",
   "id": "e352231a",
   "metadata": {},
   "source": [
    "How many integers $0 \\le n \\lt 10^{18}$ have the property that the sum of the digits of $n$ equals the sum of digits of $137n$?"
   ]
  },
  {
   "cell_type": "code",
   "execution_count": null,
   "id": "3a0c22b8",
   "metadata": {},
   "outputs": [],
   "source": [
    "# Problem 290 workspace"
   ]
  },
  {
   "cell_type": "markdown",
   "id": "0eb0893d",
   "metadata": {},
   "source": [
    "## Answer: "
   ]
  },
  {
   "cell_type": "markdown",
   "id": "c2683cbc",
   "metadata": {},
   "source": [
    "___"
   ]
  }
 ],
 "metadata": {},
 "nbformat": 4,
 "nbformat_minor": 5
}
