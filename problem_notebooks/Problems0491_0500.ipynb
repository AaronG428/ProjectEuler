{
 "cells": [
  {
   "cell_type": "markdown",
   "id": "44d335fe",
   "metadata": {},
   "source": [
    "# Problem 491\n",
    " [Source](https://projecteuler.net/problem=491)"
   ]
  },
  {
   "cell_type": "markdown",
   "id": "9a9b68cf",
   "metadata": {},
   "source": [
    "We call a positive integer\n",
    "double pandigital\n",
    "if it uses all the digits $0$ to $9$ exactly twice (with no leading zero). For example, $40561817703823564929$ is one such number.\n",
    "\n",
    "How many double pandigital numbers are divisible by $11$?"
   ]
  },
  {
   "cell_type": "code",
   "execution_count": null,
   "id": "69cd4742",
   "metadata": {},
   "outputs": [],
   "source": [
    "# Problem 491 workspace"
   ]
  },
  {
   "cell_type": "markdown",
   "id": "2dbc37d5",
   "metadata": {},
   "source": [
    "## Answer: "
   ]
  },
  {
   "cell_type": "markdown",
   "id": "691acf25",
   "metadata": {},
   "source": [
    "___"
   ]
  },
  {
   "cell_type": "markdown",
   "id": "94570b8f",
   "metadata": {},
   "source": [
    "# Problem 492\n",
    " [Source](https://projecteuler.net/problem=492)"
   ]
  },
  {
   "cell_type": "markdown",
   "id": "0e1c3453",
   "metadata": {},
   "source": [
    "Define the sequence $a\\_1, a\\_2, a\\_3, \\dots$ as:\n",
    "\n",
    "* $a\\_1 = 1$\n",
    "* $a\\_{n+1} = 6a\\_n^2 + 10a\\_n + 3$ for $n \\ge 1$.\n",
    "\n",
    "Examples:\n",
    "  \n",
    "$a\\_3 = 2359$\n",
    "  \n",
    "$a\\_6 = 269221280981320216750489044576319$\n",
    "  \n",
    "$a\\_6 \\bmod 1\\,000\\,000\\,007 = 203064689$\n",
    "  \n",
    "$a\\_{100} \\bmod 1\\,000\\,000\\,007 = 456482974$\n",
    "\n",
    "Define $B(x,y,n)$ as $\\sum (a\\_n \\bmod p)$ for every prime $p$ such that $x \\le p \\le x+y$.\n",
    "\n",
    "Examples:\n",
    "  \n",
    "$B(10^9, 10^3, 10^3) = 23674718882$\n",
    "  \n",
    "$B(10^9, 10^3, 10^{15}) = 20731563854$\n",
    "\n",
    "Find $B(10^9, 10^7, 10^{15})$."
   ]
  },
  {
   "cell_type": "code",
   "execution_count": null,
   "id": "8fcf567a",
   "metadata": {},
   "outputs": [],
   "source": [
    "# Problem 492 workspace"
   ]
  },
  {
   "cell_type": "markdown",
   "id": "d4f9f38a",
   "metadata": {},
   "source": [
    "## Answer: "
   ]
  },
  {
   "cell_type": "markdown",
   "id": "f8da8bba",
   "metadata": {},
   "source": [
    "___"
   ]
  },
  {
   "cell_type": "markdown",
   "id": "1553622d",
   "metadata": {},
   "source": [
    "# Problem 493\n",
    " [Source](https://projecteuler.net/problem=493)"
   ]
  },
  {
   "cell_type": "markdown",
   "id": "5d4f5f7a",
   "metadata": {},
   "source": [
    "$70$ coloured balls are placed in an urn, $10$ for each of the seven rainbow colours.\n",
    "\n",
    "What is the expected number of distinct colours in $20$ randomly picked balls?\n",
    "\n",
    "Give your answer with nine digits after the decimal point (a.bcdefghij)."
   ]
  },
  {
   "cell_type": "code",
   "execution_count": null,
   "id": "5245129f",
   "metadata": {},
   "outputs": [],
   "source": [
    "# Problem 493 workspace"
   ]
  },
  {
   "cell_type": "markdown",
   "id": "5247e5da",
   "metadata": {},
   "source": [
    "## Answer: "
   ]
  },
  {
   "cell_type": "markdown",
   "id": "e247acd2",
   "metadata": {},
   "source": [
    "___"
   ]
  },
  {
   "cell_type": "markdown",
   "id": "0309f66c",
   "metadata": {},
   "source": [
    "# Problem 494\n",
    " [Source](https://projecteuler.net/problem=494)"
   ]
  },
  {
   "cell_type": "markdown",
   "id": "0ffd7eba",
   "metadata": {},
   "source": [
    "The Collatz sequence is defined as:\n",
    "$a\\_{i+1} = \\left\\{ \\large{\\frac {a\\_i} 2 \\atop 3 a\\_i+1} {\\text{if }a\\_i\\text{ is even} \\atop \\text{if }a\\_i\\text{ is odd}} \\right.$.\n",
    "\n",
    "The Collatz conjecture states that starting from any positive integer, the sequence eventually reaches the cycle $1,4,2,1, \\dots$.\n",
    "  \n",
    "We shall define the sequence prefix $p(n)$ for the Collatz sequence starting with $a\\_1 = n$ as the sub-sequence of all numbers not a power of $2$ ($2^0=1$ is considered a power of $2$ for this problem). For example:\n",
    "  \n",
    "$p(13) = \\{13, 40, 20, 10, 5\\}$\n",
    "  \n",
    "$p(8) = \\{\\}$\n",
    "  \n",
    "Any number invalidating the conjecture would have an infinite length sequence prefix.\n",
    "\n",
    "Let $S\\_m$ be the set of all sequence prefixes of length $m$. Two sequences $\\{a\\_1, a\\_2, \\dots, a\\_m\\}$ and $\\{b\\_1, b\\_2, \\dots, b\\_m\\}$ in $S\\_m$ are said to belong to the same prefix family if $a\\_i \\lt a\\_j$ if and only if $b\\_i \\lt b\\_j$ for all $1 \\le i,j \\le m$.\n",
    "\n",
    "For example, in $S\\_4$, $\\{6, 3, 10, 5\\}$ is in the same family as $\\{454, 227, 682, 341\\}$, but not $\\{113, 340, 170, 85\\}$.\n",
    "  \n",
    "Let $f(m)$ be the number of distinct prefix families in $S\\_m$.\n",
    "  \n",
    "You are given $f(5) = 5$, $f(10) = 55$, $f(20) = 6771$.\n",
    "\n",
    "Find $f(90)$."
   ]
  },
  {
   "cell_type": "code",
   "execution_count": null,
   "id": "285baa23",
   "metadata": {},
   "outputs": [],
   "source": [
    "# Problem 494 workspace"
   ]
  },
  {
   "cell_type": "markdown",
   "id": "55f6d321",
   "metadata": {},
   "source": [
    "## Answer: "
   ]
  },
  {
   "cell_type": "markdown",
   "id": "b72f025f",
   "metadata": {},
   "source": [
    "___"
   ]
  },
  {
   "cell_type": "markdown",
   "id": "a3032240",
   "metadata": {},
   "source": [
    "# Problem 495\n",
    " [Source](https://projecteuler.net/problem=495)"
   ]
  },
  {
   "cell_type": "markdown",
   "id": "9f315cd5",
   "metadata": {},
   "source": [
    "Let $W(n,k)$ be the number of ways in which $n$ can be written as the product of $k$ distinct positive integers.\n",
    "\n",
    "For example, $W(144,4) = 7$. There are $7$ ways in which $144$ can be written as a product of $4$ distinct positive integers:\n",
    "\n",
    "* $144 = 1 \\times 2 \\times 4 \\times 18$\n",
    "* $144 = 1 \\times 2 \\times 8 \\times 9$\n",
    "* $144 = 1 \\times 2 \\times 3 \\times 24$\n",
    "* $144 = 1 \\times 2 \\times 6 \\times 12$\n",
    "* $144 = 1 \\times 3 \\times 4 \\times 12$\n",
    "* $144 = 1 \\times 3 \\times 6 \\times 8$\n",
    "* $144 = 2 \\times 3 \\times 4 \\times 6$\n",
    "\n",
    "Note that permutations of the integers themselves are not considered distinct.\n",
    "\n",
    "Furthermore, $W(100!,10)$ modulo $1\\,000\\,000\\,007 = 287549200$.\n",
    "\n",
    "Find $W(10000!,30)$ modulo $1\\,000\\,000\\,007$."
   ]
  },
  {
   "cell_type": "code",
   "execution_count": null,
   "id": "85313335",
   "metadata": {},
   "outputs": [],
   "source": [
    "# Problem 495 workspace"
   ]
  },
  {
   "cell_type": "markdown",
   "id": "934bc83c",
   "metadata": {},
   "source": [
    "## Answer: "
   ]
  },
  {
   "cell_type": "markdown",
   "id": "4913258e",
   "metadata": {},
   "source": [
    "___"
   ]
  },
  {
   "cell_type": "markdown",
   "id": "bba31850",
   "metadata": {},
   "source": [
    "# Problem 496\n",
    " [Source](https://projecteuler.net/problem=496)"
   ]
  },
  {
   "cell_type": "markdown",
   "id": "e1728a1c",
   "metadata": {},
   "source": [
    "Given an integer sided triangle $ABC$:\n",
    "  \n",
    "Let $I$ be the incenter of $ABC$.\n",
    "  \n",
    "Let $D$ be the intersection between the line $AI$ and the circumcircle of $ABC$ ($A \\ne D$).\n",
    "\n",
    "We define $F(L)$ as the sum of $BC$ for the triangles $ABC$ that satisfy $AC = DI$ and $BC \\le L$.\n",
    "\n",
    "For example, $F(15) = 45$ because the triangles $ABC$ with $(BC,AC,AB) = (6,4,5), (12,8,10), (12,9,7), (15,9,16)$ satisfy the conditions.\n",
    "\n",
    "Find $F(10^9)$."
   ]
  },
  {
   "cell_type": "code",
   "execution_count": null,
   "id": "5be5d461",
   "metadata": {},
   "outputs": [],
   "source": [
    "# Problem 496 workspace"
   ]
  },
  {
   "cell_type": "markdown",
   "id": "af3e34f7",
   "metadata": {},
   "source": [
    "## Answer: "
   ]
  },
  {
   "cell_type": "markdown",
   "id": "eb16a646",
   "metadata": {},
   "source": [
    "___"
   ]
  },
  {
   "cell_type": "markdown",
   "id": "1752ab02",
   "metadata": {},
   "source": [
    "# Problem 497\n",
    " [Source](https://projecteuler.net/problem=497)"
   ]
  },
  {
   "cell_type": "markdown",
   "id": "112cfb1c",
   "metadata": {},
   "source": [
    "Bob is very familiar with the famous mathematical puzzle/game, \"Tower of Hanoi,\" which consists of three upright rods and disks of different sizes that can slide onto any of the rods. The game begins with a stack of $n$ disks placed on the leftmost rod in descending order by size. The objective of the game is to move all of the disks from the leftmost rod to the rightmost rod, given the following restrictions:\n",
    "\n",
    "1. Only one disk can be moved at a time.\n",
    "2. A valid move consists of taking the top disk from one stack and placing it onto another stack (or an empty rod).\n",
    "3. No disk can be placed on top of a smaller disk.\n",
    "\n",
    "Moving on to a variant of this game, consider a long room $k$ units (square tiles) wide, labeled from $1$ to $k$ in ascending order. Three rods are placed at squares $a$, $b$, and $c$, and a stack of $n$ disks is placed on the rod at square $a$.\n",
    "\n",
    "Bob begins the game standing at square $b$. His objective is to play the Tower of Hanoi game by moving all of the disks to the rod at square $c$. However, Bob can only pick up or set down a disk if he is on the same square as the rod/stack in question.\n",
    "\n",
    "Unfortunately, Bob is also drunk. On a given move, Bob will either stumble one square to the left or one square to the right with equal probability, unless Bob is at either end of the room, in which case he can only move in one direction. Despite Bob's inebriated state, he is still capable of following the rules of the game itself, as well as choosing when to pick up or put down a disk.\n",
    "\n",
    "The following animation depicts a side-view of a sample game for $n = 3$, $k = 7$, $a = 2$, $b = 4$, and $c = 6$:\n",
    "\n",
    "![0497_hanoi.gif](resources/0497_hanoi.gif)\n",
    "\n",
    "Let $E(n, k, a, b, c)$ be the expected number of squares that Bob travels during a single optimally-played game. A game is played optimally if the number of disk-pickups is minimized.\n",
    "\n",
    "Interestingly enough, the result is always an integer. For example, $E(2,5,1,3,5) = 60$ and $E(3,20,4,9,17) = 2358$.\n",
    "\n",
    "Find the last nine digits of $\\sum\\_{1\\le n \\le 10000} E(n,10^n,3^n,6^n,9^n)$."
   ]
  },
  {
   "cell_type": "code",
   "execution_count": null,
   "id": "977e081f",
   "metadata": {},
   "outputs": [],
   "source": [
    "# Problem 497 workspace"
   ]
  },
  {
   "cell_type": "markdown",
   "id": "273988b3",
   "metadata": {},
   "source": [
    "## Answer: "
   ]
  },
  {
   "cell_type": "markdown",
   "id": "326d9f2c",
   "metadata": {},
   "source": [
    "___"
   ]
  },
  {
   "cell_type": "markdown",
   "id": "1a9cf950",
   "metadata": {},
   "source": [
    "# Problem 498\n",
    " [Source](https://projecteuler.net/problem=498)"
   ]
  },
  {
   "cell_type": "markdown",
   "id": "ec2a6e4d",
   "metadata": {},
   "source": [
    "For positive integers $n$ and $m$, we define two polynomials $F\\_n(x) = x^n$ and $G\\_m(x) = (x-1)^m$.\n",
    "  \n",
    "We also define a polynomial $R\\_{n,m}(x)$ as the remainder of the division of $F\\_n(x)$ by $G\\_m(x)$.\n",
    "  \n",
    "For example, $R\\_{6,3}(x) = 15x^2 - 24x + 10$.\n",
    "\n",
    "Let $C(n, m, d)$ be the absolute value of the coefficient of the $d$-th degree term of $R\\_{n,m}(x)$.\n",
    "  \n",
    "We can verify that $C(6, 3, 1) = 24$ and $C(100, 10, 4) = 227197811615775$.\n",
    "\n",
    "Find $C(10^{13}, 10^{12}, 10^4) \\bmod 999999937$."
   ]
  },
  {
   "cell_type": "code",
   "execution_count": null,
   "id": "a5a5f1b5",
   "metadata": {},
   "outputs": [],
   "source": [
    "# Problem 498 workspace"
   ]
  },
  {
   "cell_type": "markdown",
   "id": "c30a4ea6",
   "metadata": {},
   "source": [
    "## Answer: "
   ]
  },
  {
   "cell_type": "markdown",
   "id": "e95acbfc",
   "metadata": {},
   "source": [
    "___"
   ]
  },
  {
   "cell_type": "markdown",
   "id": "c3a5a80d",
   "metadata": {},
   "source": [
    "# Problem 499\n",
    " [Source](https://projecteuler.net/problem=499)"
   ]
  },
  {
   "cell_type": "markdown",
   "id": "d3086ba2",
   "metadata": {},
   "source": [
    "A gambler decides to participate in a special lottery. In this lottery the gambler plays a series of one or more games.\n",
    "  \n",
    "Each game costs $m$ pounds to play and starts with an initial pot of $1$ pound. The gambler flips an unbiased coin. Every time a head appears, the pot is doubled and the gambler continues. When a tail appears, the game ends and the gambler collects the current value of the pot. The gambler is certain to win at least $1$ pound, the starting value of the pot, at the cost of $m$ pounds, the initial fee.\n",
    "\n",
    "The game ends if the gambler's fortune falls below $m$ pounds.\n",
    "Let $p\\_m(s)$ denote the probability that the gambler will never run out of money in this lottery given an initial fortune $s$ and the cost per game $m$.\n",
    "  \n",
    "For example $p\\_2(2) \\approx 0.2522$, $p\\_2(5) \\approx 0.6873$ and $p\\_6(10\\,000) \\approx 0.9952$ (note: $p\\_m(s) = 0$ for $s \\lt m$).\n",
    "\n",
    "Find $p\\_{15}(10^9)$ and give your answer rounded to $7$ decimal places behind the decimal point in the form 0.abcdefg."
   ]
  },
  {
   "cell_type": "code",
   "execution_count": null,
   "id": "3182f210",
   "metadata": {},
   "outputs": [],
   "source": [
    "# Problem 499 workspace"
   ]
  },
  {
   "cell_type": "markdown",
   "id": "dcf257aa",
   "metadata": {},
   "source": [
    "## Answer: "
   ]
  },
  {
   "cell_type": "markdown",
   "id": "81b910b4",
   "metadata": {},
   "source": [
    "___"
   ]
  },
  {
   "cell_type": "markdown",
   "id": "d8e5643d",
   "metadata": {},
   "source": [
    "# Problem 500\n",
    " [Source](https://projecteuler.net/problem=500)"
   ]
  },
  {
   "cell_type": "markdown",
   "id": "7943e1ff",
   "metadata": {},
   "source": [
    "The number of divisors of $120$ is $16$.\n",
    "  \n",
    "In fact $120$ is the smallest number having $16$ divisors.\n",
    "\n",
    "Find the smallest number with $2^{500500}$ divisors.\n",
    "  \n",
    "Give your answer modulo $500500507$."
   ]
  },
  {
   "cell_type": "code",
   "execution_count": null,
   "id": "708fb24e",
   "metadata": {},
   "outputs": [],
   "source": [
    "# Problem 500 workspace"
   ]
  },
  {
   "cell_type": "markdown",
   "id": "e0af199d",
   "metadata": {},
   "source": [
    "## Answer: "
   ]
  },
  {
   "cell_type": "markdown",
   "id": "2a39de30",
   "metadata": {},
   "source": [
    "___"
   ]
  }
 ],
 "metadata": {},
 "nbformat": 4,
 "nbformat_minor": 5
}
