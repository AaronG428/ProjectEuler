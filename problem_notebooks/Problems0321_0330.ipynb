{
 "cells": [
  {
   "cell_type": "markdown",
   "id": "11cf1836",
   "metadata": {},
   "source": [
    "# Problem 321\n",
    " [Source](https://projecteuler.net/problem=321)"
   ]
  },
  {
   "cell_type": "markdown",
   "id": "b4456aca",
   "metadata": {},
   "source": [
    "A horizontal row comprising of $2n + 1$ squares has $n$ red counters placed at one end and $n$ blue counters at the other end, being separated by a single empty square in the centre. For example, when $n = 3$.\n",
    "\n",
    "![0321_swapping_counters_1.gif](resources/0321_swapping_counters_1.gif)\n",
    "\n",
    "A counter can move from one square to the next (slide) or can jump over another counter (hop) as long as the square next to that counter is unoccupied.\n",
    "\n",
    "![0321_swapping_counters_2.gif](resources/0321_swapping_counters_2.gif)\n",
    "\n",
    "Let $M(n)$ represent the minimum number of moves/actions to completely reverse the positions of the coloured counters; that is, move all the red counters to the right and all the blue counters to the left.\n",
    "\n",
    "It can be verified $M(3) = 15$, which also happens to be a triangle number.\n",
    "\n",
    "If we create a sequence based on the values of $n$ for which $M(n)$ is a triangle number then the first five terms would be:\n",
    "  \n",
    "$1$, $3$, $10$, $22$, and $63$, and their sum would be $99$.\n",
    "\n",
    "Find the sum of the first forty terms of this sequence."
   ]
  },
  {
   "cell_type": "code",
   "execution_count": null,
   "id": "e3d65f57",
   "metadata": {},
   "outputs": [],
   "source": [
    "# Problem 321 workspace"
   ]
  },
  {
   "cell_type": "markdown",
   "id": "717c9c07",
   "metadata": {},
   "source": [
    "## Answer: "
   ]
  },
  {
   "cell_type": "markdown",
   "id": "b0be347d",
   "metadata": {},
   "source": [
    "___"
   ]
  },
  {
   "cell_type": "markdown",
   "id": "63fd57f5",
   "metadata": {},
   "source": [
    "# Problem 322\n",
    " [Source](https://projecteuler.net/problem=322)"
   ]
  },
  {
   "cell_type": "markdown",
   "id": "58383dfa",
   "metadata": {},
   "source": [
    "Let $T(m, n)$ be the number of the binomial coefficients $^iC\\_n$ that are divisible by $10$ for $n \\le i \\lt m$ ($i$, $m$ and $n$ are positive integers).\n",
    "  \n",
    "You are given that $T(10^9, 10^7-10) = 989697000$.\n",
    "\n",
    "Find $T(10^{18}, 10^{12}-10)$."
   ]
  },
  {
   "cell_type": "code",
   "execution_count": null,
   "id": "a74f5d14",
   "metadata": {},
   "outputs": [],
   "source": [
    "# Problem 322 workspace"
   ]
  },
  {
   "cell_type": "markdown",
   "id": "cbde9669",
   "metadata": {},
   "source": [
    "## Answer: "
   ]
  },
  {
   "cell_type": "markdown",
   "id": "597e8029",
   "metadata": {},
   "source": [
    "___"
   ]
  },
  {
   "cell_type": "markdown",
   "id": "faf6f633",
   "metadata": {},
   "source": [
    "# Problem 323\n",
    " [Source](https://projecteuler.net/problem=323)"
   ]
  },
  {
   "cell_type": "markdown",
   "id": "7ca9897d",
   "metadata": {},
   "source": [
    "Let $y\\_0, y\\_1, y\\_2, \\dots$ be a sequence of random unsigned $32$-bit integers\n",
    "  \n",
    "(i.e. $0 \\le y\\_i \\lt 2^{32}$, every value equally likely).\n",
    "\n",
    "For the sequence $x\\_i$ the following recursion is given:\n",
    "\n",
    "* $x\\_0 = 0$ and\n",
    "* $x\\_i = x\\_{i - 1} \\boldsymbol \\mid y\\_{i - 1}$, for $i \\gt 0$. ($\\boldsymbol \\mid$ is the bitwise-OR operator).\n",
    "\n",
    "It can be seen that eventually there will be an index $N$ such that $x\\_i = 2^{32} - 1$ (a bit-pattern of all ones) for all $i \\ge N$.\n",
    "\n",
    "Find the expected value of $N$.\n",
    "  \n",
    "Give your answer rounded to $10$ digits after the decimal point."
   ]
  },
  {
   "cell_type": "code",
   "execution_count": null,
   "id": "c19504c0",
   "metadata": {},
   "outputs": [],
   "source": [
    "# Problem 323 workspace"
   ]
  },
  {
   "cell_type": "markdown",
   "id": "34ce4d8f",
   "metadata": {},
   "source": [
    "## Answer: "
   ]
  },
  {
   "cell_type": "markdown",
   "id": "0e2b4b6b",
   "metadata": {},
   "source": [
    "___"
   ]
  },
  {
   "cell_type": "markdown",
   "id": "27ba9de6",
   "metadata": {},
   "source": [
    "# Problem 324\n",
    " [Source](https://projecteuler.net/problem=324)"
   ]
  },
  {
   "cell_type": "markdown",
   "id": "cd867245",
   "metadata": {},
   "source": [
    "Let $f(n)$ represent the number of ways one can fill a $3 \\times 3 \\times n$ tower with blocks of $2 \\times 1 \\times 1$.\n",
    "  \n",
    "You're allowed to rotate the blocks in any way you like; however, rotations, reflections etc of the tower itself are counted as distinct.\n",
    "\n",
    "For example (with $q = 100000007$):\n",
    "  \n",
    "$f(2) = 229$,\n",
    "  \n",
    "$f(4) = 117805$,\n",
    "  \n",
    "$f(10) \\bmod q = 96149360$,\n",
    "  \n",
    "$f(10^3) \\bmod q = 24806056$,\n",
    "  \n",
    "$f(10^6) \\bmod q = 30808124$.\n",
    "\n",
    "Find $f(10^{10000}) \\bmod 100000007$."
   ]
  },
  {
   "cell_type": "code",
   "execution_count": null,
   "id": "a8be54d2",
   "metadata": {},
   "outputs": [],
   "source": [
    "# Problem 324 workspace"
   ]
  },
  {
   "cell_type": "markdown",
   "id": "be7938c9",
   "metadata": {},
   "source": [
    "## Answer: "
   ]
  },
  {
   "cell_type": "markdown",
   "id": "0682af1c",
   "metadata": {},
   "source": [
    "___"
   ]
  },
  {
   "cell_type": "markdown",
   "id": "c9c9fe9e",
   "metadata": {},
   "source": [
    "# Problem 325\n",
    " [Source](https://projecteuler.net/problem=325)"
   ]
  },
  {
   "cell_type": "markdown",
   "id": "ea6fb6e3",
   "metadata": {},
   "source": [
    "A game is played with two piles of stones and two players.\n",
    "  \n",
    "On each player's turn, the player may remove a number of stones from the larger pile.\n",
    "  \n",
    "The number of stones removed must be a positive multiple of the number of stones in the smaller pile.\n",
    "\n",
    "E.g. Let the ordered pair $(6,14)$ describe a configuration with $6$ stones in the smaller pile and $14$ stones in the larger pile, then the first player can remove $6$ or $12$ stones from the larger pile.\n",
    "\n",
    "The player taking all the stones from a pile wins the game.\n",
    "\n",
    "A\n",
    "winning configuration\n",
    "is one where the first player can force a win. For example, $(1,5)$, $(2,6)$, and $(3,12)$ are winning configurations because the first player can immediately remove all stones in the second pile.\n",
    "\n",
    "A\n",
    "losing configuration\n",
    "is one where the second player can force a win, no matter what the first player does. For example, $(2,3)$ and $(3,4)$ are losing configurations: any legal move leaves a winning configuration for the second player.\n",
    "\n",
    "Define $S(N)$ as the sum of $(x\\_i + y\\_i)$ for all losing configurations $(x\\_i, y\\_i), 0 \\lt x\\_i \\lt y\\_i \\le N$.\n",
    "  \n",
    "We can verify that $S(10) = 211$ and $S(10^4) = 230312207313$.\n",
    "\n",
    "Find $S(10^{16}) \\bmod 7^{10}$."
   ]
  },
  {
   "cell_type": "code",
   "execution_count": null,
   "id": "e0260ecd",
   "metadata": {},
   "outputs": [],
   "source": [
    "# Problem 325 workspace"
   ]
  },
  {
   "cell_type": "markdown",
   "id": "f8765490",
   "metadata": {},
   "source": [
    "## Answer: "
   ]
  },
  {
   "cell_type": "markdown",
   "id": "f4348d63",
   "metadata": {},
   "source": [
    "___"
   ]
  },
  {
   "cell_type": "markdown",
   "id": "fd5fc4e2",
   "metadata": {},
   "source": [
    "# Problem 326\n",
    " [Source](https://projecteuler.net/problem=326)"
   ]
  },
  {
   "cell_type": "markdown",
   "id": "642f1195",
   "metadata": {},
   "source": [
    "Let $a\\_n$ be a sequence recursively defined by:$\\quad a\\_1=1,\\quad\\displaystyle a\\_n=\\biggl(\\sum\\_{k=1}^{n-1}k\\cdot a\\_k\\biggr)\\bmod n$.\n",
    "\n",
    "So the first $10$ elements of $a\\_n$ are: $1,1,0,3,0,3,5,4,1,9$.\n",
    "\n",
    "Let $f(N, M)$ represent the number of pairs $(p, q)$ such that:\n",
    "\n",
    "$$\n",
    "\\def\\htmltext#1{\\style{font-family:inherit;}{\\text{#1}}}\n",
    "1\\le p\\le q\\le N \\quad\\htmltext{and}\\quad\\biggl(\\sum\\_{i=p}^qa\\_i\\biggr)\\bmod M=0\n",
    "$$\n",
    "\n",
    "It can be seen that $f(10,10)=4$ with the pairs $(3,3)$, $(5,5)$, $(7,9)$ and $(9,10)$.\n",
    "\n",
    "You are also given that $f(10^4,10^3)=97158$.\n",
    "\n",
    "Find $f(10^{12},10^6)$."
   ]
  },
  {
   "cell_type": "code",
   "execution_count": null,
   "id": "656a5d46",
   "metadata": {},
   "outputs": [],
   "source": [
    "# Problem 326 workspace"
   ]
  },
  {
   "cell_type": "markdown",
   "id": "478286df",
   "metadata": {},
   "source": [
    "## Answer: "
   ]
  },
  {
   "cell_type": "markdown",
   "id": "1115b460",
   "metadata": {},
   "source": [
    "___"
   ]
  },
  {
   "cell_type": "markdown",
   "id": "1ea2318a",
   "metadata": {},
   "source": [
    "# Problem 327\n",
    " [Source](https://projecteuler.net/problem=327)"
   ]
  },
  {
   "cell_type": "markdown",
   "id": "8a7ac29d",
   "metadata": {},
   "source": [
    "A series of three rooms are connected to each other by automatic doors.\n",
    "\n",
    "![0327_rooms_of_doom.gif](resources/0327_rooms_of_doom.gif)\n",
    "\n",
    "Each door is operated by a security card. Once you enter a room the door automatically closes and that security card cannot be used again. A machine at the start will dispense an unlimited number of cards, but each room (including the starting room) contains scanners and if they detect that you are holding more than three security cards or if they detect an unattended security card on the floor, then all the doors will become permanently locked. However, each room contains a box where you may safely store any number of security cards for use at a later stage.\n",
    "\n",
    "If you simply tried to travel through the rooms one at a time then as you entered room 3 you would have used all three cards and would be trapped in that room forever!\n",
    "\n",
    "However, if you make use of the storage boxes, then escape is possible. For example, you could enter room 1 using your first card, place one card in the storage box, and use your third card to exit the room back to the start. Then after collecting three more cards from the dispensing machine you could use one to enter room 1 and collect the card you placed in the box a moment ago. You now have three cards again and will be able to travel through the remaining three doors. This method allows you to travel through all three rooms using six security cards in total.\n",
    "\n",
    "It is possible to travel through six rooms using a total of $123$ security cards while carrying a maximum of $3$ cards.\n",
    "\n",
    "Let $C$ be the maximum number of cards which can be carried at any time.\n",
    "\n",
    "Let $R$ be the number of rooms to travel through.\n",
    "\n",
    "Let $M(C,R)$ be the minimum number of cards required from the dispensing machine to travel through $R$ rooms carrying up to a maximum of $C$ cards at any time.\n",
    "\n",
    "For example, $M(3,6)=123$ and $M(4,6)=23$.\n",
    "  \n",
    "And, $\\sum M(C, 6) = 146$ for $3 \\le C \\le 4$.\n",
    "\n",
    "You are given that $\\sum M(C,10)=10382$ for $3 \\le C \\le 10$.\n",
    "\n",
    "Find $\\sum M(C,30)$ for $3 \\le C \\le 40$."
   ]
  },
  {
   "cell_type": "code",
   "execution_count": null,
   "id": "da99a28e",
   "metadata": {},
   "outputs": [],
   "source": [
    "# Problem 327 workspace"
   ]
  },
  {
   "cell_type": "markdown",
   "id": "322c2969",
   "metadata": {},
   "source": [
    "## Answer: "
   ]
  },
  {
   "cell_type": "markdown",
   "id": "07e94d1d",
   "metadata": {},
   "source": [
    "___"
   ]
  },
  {
   "cell_type": "markdown",
   "id": "94c333d5",
   "metadata": {},
   "source": [
    "# Problem 328\n",
    " [Source](https://projecteuler.net/problem=328)"
   ]
  },
  {
   "cell_type": "markdown",
   "id": "bb78340d",
   "metadata": {},
   "source": [
    "We are trying to find a hidden number selected from the set of integers $\\{1, 2, \\dots, n\\}$ by asking questions.\n",
    "Each number (question) we ask, has a\n",
    "cost equal to the number asked\n",
    "and we get one of three possible answers:\n",
    "\n",
    "* \"Your guess is lower than the hidden number\", or\n",
    "* \"Yes, that's it!\", or\n",
    "* \"Your guess is higher than the hidden number\".\n",
    "\n",
    "Given the value of $n$, an\n",
    "optimal strategy\n",
    "minimizes the total cost (i.e. the sum of all the questions asked)\n",
    "for the worst possible case\n",
    ". E.g.\n",
    "\n",
    "If $n=3$, the best we can do is obviously to ask the number \"\n",
    "**2**\n",
    "\". The answer will immediately lead us to find the hidden number (at a total cost $= 2$).\n",
    "\n",
    "If $n=8$, we might decide to use a \"binary search\" type of strategy: Our first question would be \"$\\mathbf 4$\" and if the hidden number is higher than $4$ we will need one or two additional questions.\n",
    "  \n",
    "Let our second question be \"$\\mathbf 6$\". If the hidden number is still higher than $6$, we will need a third question in order to discriminate between $7$ and $8$.\n",
    "  \n",
    "Thus, our third question will be \"$\\mathbf 7$\" and the total cost for this worst-case scenario will be $4+6+7={\\color{red}\\mathbf{17}}$.\n",
    "\n",
    "We can improve considerably the worst-case cost for $n=8$, by asking \"$\\mathbf 5$\" as our first question.\n",
    "  \n",
    "If we are told that the hidden number is higher than $5$, our second question will be \"$\\mathbf 7$\", then we'll know for certain what the hidden number is (for a total cost of $5+7={\\color{blue}\\mathbf{12}}$).\n",
    "  \n",
    "If we are told that the hidden number is lower than $5$, our second question will be \"$\\mathbf 3$\" and if the hidden number is lower than $3$ our third question will be \"$\\mathbf 1$\", giving a total cost of $5+3+1={\\color{blue}\\mathbf 9}$.\n",
    "  \n",
    "Since ${\\color{blue}\\mathbf{12}} \\gt {\\color{blue}\\mathbf 9}$, the worst-case cost for this strategy is ${\\color{red}\\mathbf{12}}$. That's better than what we achieved previously with the \"binary search\" strategy; it is also better than or equal to any other strategy.\n",
    "  \n",
    "So, in fact, we have just described an optimal strategy for $n=8$.\n",
    "\n",
    "Let $C(n)$ be the worst-case cost achieved by an optimal strategy for $n$, as described above.\n",
    "  \n",
    "Thus $C(1) = 0$, $C(2) = 1$, $C(3) = 2$ and $C(8) = 12$.\n",
    "  \n",
    "Similarly, $C(100) = 400$ and $\\sum \\limits\\_{n = 1}^{100} C(n) = 17575$.\n",
    "\n",
    "Find $\\sum \\limits\\_{n = 1}^{200000} C(n)$."
   ]
  },
  {
   "cell_type": "code",
   "execution_count": null,
   "id": "6306d286",
   "metadata": {},
   "outputs": [],
   "source": [
    "# Problem 328 workspace"
   ]
  },
  {
   "cell_type": "markdown",
   "id": "59e79960",
   "metadata": {},
   "source": [
    "## Answer: "
   ]
  },
  {
   "cell_type": "markdown",
   "id": "b8e8a689",
   "metadata": {},
   "source": [
    "___"
   ]
  },
  {
   "cell_type": "markdown",
   "id": "0faac774",
   "metadata": {},
   "source": [
    "# Problem 329\n",
    " [Source](https://projecteuler.net/problem=329)"
   ]
  },
  {
   "cell_type": "markdown",
   "id": "5a06feef",
   "metadata": {},
   "source": [
    "Susan has a prime frog.\n",
    "  \n",
    "Her frog is jumping around over $500$ squares numbered $1$ to $500$.\n",
    "He can only jump one square to the left or to the right, with equal probability, and he cannot jump outside the range $[1;500]$.\n",
    "  \n",
    "(if it lands at either end, it automatically jumps to the only available square on the next move.)\n",
    "\n",
    "When he is on a square with a prime number on it, he croaks 'P' (PRIME) with probability $2/3$ or 'N' (NOT PRIME) with probability $1/3$ just before jumping to the next square.\n",
    "  \n",
    "When he is on a square with a number on it that is not a prime he croaks 'P' with probability $1/3$ or 'N' with probability $2/3$ just before jumping to the next square.\n",
    "\n",
    "Given that the frog's starting position is random with the same probability for every square, and given that she listens to his first $15$ croaks, what is the probability that she hears the sequence PPPPNNPPPNPPNPN?\n",
    "\n",
    "Give your answer as a fraction $p/q$ in reduced form."
   ]
  },
  {
   "cell_type": "code",
   "execution_count": null,
   "id": "ed7bae09",
   "metadata": {},
   "outputs": [],
   "source": [
    "# Problem 329 workspace"
   ]
  },
  {
   "cell_type": "markdown",
   "id": "47afacf3",
   "metadata": {},
   "source": [
    "## Answer: "
   ]
  },
  {
   "cell_type": "markdown",
   "id": "fec9e8ac",
   "metadata": {},
   "source": [
    "___"
   ]
  },
  {
   "cell_type": "markdown",
   "id": "5874d2a9",
   "metadata": {},
   "source": [
    "# Problem 330\n",
    " [Source](https://projecteuler.net/problem=330)"
   ]
  },
  {
   "cell_type": "markdown",
   "id": "10cc2957",
   "metadata": {},
   "source": [
    "An infinite sequence of real numbers $a(n)$ is defined for all integers $n$ as follows:\n",
    "$$a(n) = \\begin{cases}\n",
    "1 & n \\lt 0\\\\\n",
    "\\sum \\limits\\_{i = 1}^{\\infty}{\\dfrac{a(n - i)}{i!}} & n \\ge 0\n",
    "\\end{cases}$$\n",
    "\n",
    "For example,\n",
    "\n",
    "$a(0) = \\dfrac{1}{1!} + \\dfrac{1}{2!} + \\dfrac{1}{3!} + \\cdots = e - 1$\n",
    "  \n",
    "$a(1) = \\dfrac{e - 1}{1!} + \\dfrac{1}{2!} + \\dfrac{1}{3!} + \\cdots = 2e - 3$\n",
    "  \n",
    "$a(2) = \\dfrac{2e - 3}{1!} + \\dfrac{e - 1}{2!} + \\dfrac{1}{3!} + \\cdots = \\dfrac{7}{2}e - 6$\n",
    "\n",
    "with $e = 2.7182818...$ being Euler's constant.\n",
    "\n",
    "It can be shown that $a(n)$ is of the form $\\dfrac{A(n)e + B(n)}{n!}$ for integers $A(n)$ and $B(n)$.\n",
    "\n",
    "For example, $a(10) = \\dfrac{328161643e - 652694486}{10!}$.\n",
    "\n",
    "Find $A(10^9) + B(10^9)$ and give your answer mod $77\\,777\\,777$."
   ]
  },
  {
   "cell_type": "code",
   "execution_count": null,
   "id": "d2b7bded",
   "metadata": {},
   "outputs": [],
   "source": [
    "# Problem 330 workspace"
   ]
  },
  {
   "cell_type": "markdown",
   "id": "99462107",
   "metadata": {},
   "source": [
    "## Answer: "
   ]
  },
  {
   "cell_type": "markdown",
   "id": "d1d7df7b",
   "metadata": {},
   "source": [
    "___"
   ]
  }
 ],
 "metadata": {},
 "nbformat": 4,
 "nbformat_minor": 5
}
