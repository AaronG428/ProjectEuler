{
 "cells": [
  {
   "cell_type": "markdown",
   "id": "bb038e1b",
   "metadata": {},
   "source": [
    "# Problem 461\n",
    " [Source](https://projecteuler.net/problem=461)"
   ]
  },
  {
   "cell_type": "markdown",
   "id": "a7a6eaa7",
   "metadata": {},
   "source": [
    "Let $f\\_n(k) = e^{k/n} - 1$, for all non-negative integers $k$.\n",
    "\n",
    "Remarkably, $f\\_{200}(6)+f\\_{200}(75)+f\\_{200}(89)+f\\_{200}(226)=\\underline{3.1415926}44529\\cdots\\approx\\pi$.\n",
    "\n",
    "In fact, it is the best approximation of $\\pi$ of the form $f\\_n(a) + f\\_n(b) + f\\_n(c) + f\\_n(d)$ for $n=200$.\n",
    "\n",
    "Let $g(n)=a^2 + b^2 + c^2 + d^2$ for $a, b, c, d$ that minimize the error: $|f\\_n(a) + f\\_n(b) + f\\_n(c) + f\\_n(d) - \\pi|$\n",
    "  \n",
    "(where $|x|$ denotes the absolute value of $x$).\n",
    "\n",
    "You are given $g(200)=6^2+75^2+89^2+226^2=64658$.\n",
    "\n",
    "Find $g(10000)$."
   ]
  },
  {
   "cell_type": "code",
   "execution_count": null,
   "id": "702c9c08",
   "metadata": {},
   "outputs": [],
   "source": [
    "# Problem 461 workspace"
   ]
  },
  {
   "cell_type": "markdown",
   "id": "d9a242c8",
   "metadata": {},
   "source": [
    "## Answer: "
   ]
  },
  {
   "cell_type": "markdown",
   "id": "0df681d1",
   "metadata": {},
   "source": [
    "___"
   ]
  },
  {
   "cell_type": "markdown",
   "id": "280444b6",
   "metadata": {},
   "source": [
    "# Problem 462\n",
    " [Source](https://projecteuler.net/problem=462)"
   ]
  },
  {
   "cell_type": "markdown",
   "id": "19972fdb",
   "metadata": {},
   "source": [
    "A\n",
    "**$3$-smooth number**\n",
    "is an integer which has no prime factor larger than $3$. For an integer $N$, we define $S(N)$ as the set of\n",
    "$3$-smooth\n",
    "numbers less than or equal to $N$. For example, $S(20) = \\{ 1, 2, 3, 4, 6, 8, 9, 12, 16, 18 \\}$.\n",
    "\n",
    "We define $F(N)$ as the number of permutations of $S(N)$ in which each element comes after all of its proper divisors.\n",
    "\n",
    "This is one of the possible permutations for $N = 20$.\n",
    "  \n",
    "- $1, 2, 4, 3, 9, 8, 16, 6, 18, 12.$\n",
    "  \n",
    "This is not a valid permutation because $12$ comes before its divisor $6$.\n",
    "  \n",
    "- $1, 2, 4, 3, 9, 8, \\boldsymbol{12}, 16, \\boldsymbol 6, 18$.\n",
    "\n",
    "We can verify that $F(6) = 5$, $F(8) = 9$, $F(20) = 450$ and $F(1000) \\approx 8.8521816557\\mathrm e21$.\n",
    "  \n",
    "Find $F(10^{18})$. Give as your answer its scientific notation rounded to ten digits after the decimal point.\n",
    "  \n",
    "When giving your answer, use a lowercase e to separate mantissa and exponent. E.g. if the answer is $112\\,233\\,445\\,566\\,778\\,899$ then the answer format would be 1.1223344557e17."
   ]
  },
  {
   "cell_type": "code",
   "execution_count": null,
   "id": "c1152486",
   "metadata": {},
   "outputs": [],
   "source": [
    "# Problem 462 workspace"
   ]
  },
  {
   "cell_type": "markdown",
   "id": "7741e8d7",
   "metadata": {},
   "source": [
    "## Answer: "
   ]
  },
  {
   "cell_type": "markdown",
   "id": "fa36bf7d",
   "metadata": {},
   "source": [
    "___"
   ]
  },
  {
   "cell_type": "markdown",
   "id": "b9528f48",
   "metadata": {},
   "source": [
    "# Problem 463\n",
    " [Source](https://projecteuler.net/problem=463)"
   ]
  },
  {
   "cell_type": "markdown",
   "id": "3f99c99a",
   "metadata": {},
   "source": [
    "The function $f$ is defined for all positive integers as follows:\n",
    "\n",
    "* $f(1)=1$\n",
    "* $f(3)=3$\n",
    "* $f(2n)=f(n)$\n",
    "* $f(4n + 1)=2f(2n + 1) - f(n)$\n",
    "* $f(4n + 3)=3f(2n + 1) - 2f(n)$\n",
    "\n",
    "The function $S(n)$ is defined as $\\sum\\_{i=1}^{n}f(i)$.\n",
    "\n",
    "$S(8)=22$ and $S(100)=3604$.\n",
    "\n",
    "Find $S(3^{37})$. Give the last $9$ digits of your answer."
   ]
  },
  {
   "cell_type": "code",
   "execution_count": null,
   "id": "2f2e3d04",
   "metadata": {},
   "outputs": [],
   "source": [
    "# Problem 463 workspace"
   ]
  },
  {
   "cell_type": "markdown",
   "id": "418a9371",
   "metadata": {},
   "source": [
    "## Answer: "
   ]
  },
  {
   "cell_type": "markdown",
   "id": "7bc2b705",
   "metadata": {},
   "source": [
    "___"
   ]
  },
  {
   "cell_type": "markdown",
   "id": "8a73c4a2",
   "metadata": {},
   "source": [
    "# Problem 464\n",
    " [Source](https://projecteuler.net/problem=464)"
   ]
  },
  {
   "cell_type": "markdown",
   "id": "4572e337",
   "metadata": {},
   "source": [
    "The\n",
    "**Möbius function**\n",
    ", denoted $\\mu(n)$, is defined as:\n",
    "\n",
    "* $\\mu(n) = (-1)^{\\omega(n)}$ if $n$ is squarefree (where $\\omega(n)$ is the number of distinct prime factors of $n$)\n",
    "* $\\mu(n) = 0$ if $n$ is not squarefree.\n",
    "\n",
    "Let $P(a, b)$ be the number of integers $n$ in the interval $[a, b]$ such that $\\mu(n) = 1$.\n",
    "  \n",
    "Let $N(a, b)$ be the number of integers $n$ in the interval $[a, b]$ such that $\\mu(n) = -1$.\n",
    "  \n",
    "For example, $P(2,10) = 2$ and $N(2,10) = 4$.\n",
    "\n",
    "Let $C(n)$ be the number of integer pairs $(a, b)$ such that:\n",
    "\n",
    "* $1\\le a \\le b \\le n$,\n",
    "* $99 \\cdot N(a, b) \\le 100 \\cdot P(a, b)$, and\n",
    "* $99 \\cdot P(a, b) \\le 100 \\cdot N(a, b)$.\n",
    "\n",
    "For example, $C(10) = 13$, $C(500) = 16676$ and $C(10\\,000) = 20155319$.\n",
    "\n",
    "Find $C(20\\,000\\,000)$."
   ]
  },
  {
   "cell_type": "code",
   "execution_count": null,
   "id": "d721f63d",
   "metadata": {},
   "outputs": [],
   "source": [
    "# Problem 464 workspace"
   ]
  },
  {
   "cell_type": "markdown",
   "id": "206248e7",
   "metadata": {},
   "source": [
    "## Answer: "
   ]
  },
  {
   "cell_type": "markdown",
   "id": "a694a44c",
   "metadata": {},
   "source": [
    "___"
   ]
  },
  {
   "cell_type": "markdown",
   "id": "9a91b863",
   "metadata": {},
   "source": [
    "# Problem 465\n",
    " [Source](https://projecteuler.net/problem=465)"
   ]
  },
  {
   "cell_type": "markdown",
   "id": "ca804f1f",
   "metadata": {},
   "source": [
    "The\n",
    "kernel\n",
    "of a polygon is defined by the set of points from which the entire polygon's boundary is visible. We define a\n",
    "polar polygon\n",
    "as a polygon for which the origin is\n",
    "strictly\n",
    "contained inside its kernel.\n",
    "\n",
    "For this problem, a polygon can have collinear consecutive vertices. However, a polygon still cannot have self-intersection and cannot have zero area.\n",
    "\n",
    "For example, only the first of the following is a polar polygon (the kernels of the second, third, and fourth do not strictly contain the origin, and the fifth does not have a kernel at all):\n",
    "\n",
    "![0465_polygons.png](resources/0465_polygons.png)\n",
    "\n",
    "Notice that the first polygon has three consecutive collinear vertices.\n",
    "\n",
    "Let $P(n)$ be the number of polar polygons such that the vertices $(x, y)$ have integer coordinates whose absolute values are not greater than $n$.\n",
    "\n",
    "Note that polygons should be counted as different if they have different set of edges, even if they enclose the same area. For example, the polygon with vertices $[(0,0),(0,3),(1,1),(3,0)]$ is distinct from the polygon with vertices $[(0,0),(0,3),(1,1),(3,0),(1,0)]$.\n",
    "\n",
    "For example, $P(1) = 131$, $P(2) = 1648531$, $P(3) = 1099461296175$ and $P(343) \\bmod 1\\,000\\,000\\,007 = 937293740$.\n",
    "\n",
    "Find $P(7^{13}) \\bmod 1\\,000\\,000\\,007$."
   ]
  },
  {
   "cell_type": "code",
   "execution_count": null,
   "id": "31235127",
   "metadata": {},
   "outputs": [],
   "source": [
    "# Problem 465 workspace"
   ]
  },
  {
   "cell_type": "markdown",
   "id": "7ccf4730",
   "metadata": {},
   "source": [
    "## Answer: "
   ]
  },
  {
   "cell_type": "markdown",
   "id": "22097491",
   "metadata": {},
   "source": [
    "___"
   ]
  },
  {
   "cell_type": "markdown",
   "id": "3e0264b1",
   "metadata": {},
   "source": [
    "# Problem 466\n",
    " [Source](https://projecteuler.net/problem=466)"
   ]
  },
  {
   "cell_type": "markdown",
   "id": "a3517fb6",
   "metadata": {},
   "source": [
    "Let $P(m,n)$ be the number of\n",
    "*distinct*\n",
    "terms in an $m\\times n$ multiplication table.\n",
    "\n",
    "For example, a $3\\times 4$ multiplication table looks like this:\n",
    "\n",
    "| $\\times$ | 1 | 2 | 3 | 4 |\n",
    "| --- | --- | --- | --- | --- |\n",
    "| 1 | 1 | 2 | 3 | 4 |\n",
    "| 2 | 2 | 4 | 6 | 8 |\n",
    "| 3 | 3 | 6 | 9 | 12 |\n",
    "\n",
    "There are $8$ distinct terms $\\{1,2,3,4,6,8,9,12\\}$, therefore $P(3,4) = 8$.\n",
    "\n",
    "You are given that:\n",
    "  \n",
    "$P(64,64) = 1263$,\n",
    "  \n",
    "$P(12,345) = 1998$, and\n",
    "  \n",
    "$P(32,10^{15}) = 13826382602124302$.\n",
    "\n",
    "Find $P(64,10^{16})$."
   ]
  },
  {
   "cell_type": "code",
   "execution_count": null,
   "id": "4e0fd1be",
   "metadata": {},
   "outputs": [],
   "source": [
    "# Problem 466 workspace"
   ]
  },
  {
   "cell_type": "markdown",
   "id": "99577101",
   "metadata": {},
   "source": [
    "## Answer: "
   ]
  },
  {
   "cell_type": "markdown",
   "id": "72689cda",
   "metadata": {},
   "source": [
    "___"
   ]
  },
  {
   "cell_type": "markdown",
   "id": "bc5209b4",
   "metadata": {},
   "source": [
    "# Problem 467\n",
    " [Source](https://projecteuler.net/problem=467)"
   ]
  },
  {
   "cell_type": "markdown",
   "id": "c168065c",
   "metadata": {},
   "source": [
    "An integer $s$ is called a\n",
    "superinteger\n",
    "of another integer $n$ if the digits of $n$ form a\n",
    "**subsequence\n",
    "A subsequence is a sequence that can be derived from another sequence by deleting some elements without changing the order of the remaining elements.**\n",
    "of the digits of $s$.\n",
    "  \n",
    "For example, $2718281828$ is a superinteger of $18828$, while $314159$ is not a superinteger of $151$.\n",
    "\n",
    "Let $p(n)$ be the $n$th prime number, and let $c(n)$ be the $n$th composite number. For example, $p(1) = 2$, $p(10) = 29$, $c(1)$ = 4 and $c(10) = 18$.\n",
    "  \n",
    "$\\{p(i) : i \\ge 1\\} = \\{2, 3, 5, 7, 11, 13, 17, 19, 23, 29, \\dots\\}$\n",
    "  \n",
    "$\\{c(i) : i \\ge 1\\} = \\{4, 6, 8, 9, 10, 12, 14, 15, 16, 18, \\dots\\}$\n",
    "\n",
    "Let $P^D$ be the sequence of the\n",
    "**digital roots**\n",
    "of $\\{p(i)\\}$ ($C^D$ is defined similarly for $\\{c(i)\\}$):\n",
    "  \n",
    "$P^D = \\{2, 3, 5, 7, 2, 4, 8, 1, 5, 2, \\dots\\}$\n",
    "  \n",
    "$C^D = \\{4, 6, 8, 9, 1, 3, 5, 6, 7, 9, \\dots\\}$\n",
    "\n",
    "Let $P\\_n$ be the integer formed by concatenating the first $n$ elements of $P^D$ ($C\\_n$ is defined similarly for $C^D$).\n",
    "  \n",
    "$P\\_{10} = 2357248152$\n",
    "  \n",
    "$C\\_{10} = 4689135679$\n",
    "\n",
    "Let $f(n)$ be the smallest positive integer that is a common superinteger of $P\\_n$ and $C\\_n$.\n",
    "  \n",
    "For example, $f(10) = 2357246891352679$, and $f(100) \\bmod 1\\,000\\,000\\,007 = 771661825$.\n",
    "\n",
    "Find $f(10\\,000) \\bmod 1\\,000\\,000\\,007$."
   ]
  },
  {
   "cell_type": "code",
   "execution_count": null,
   "id": "44714619",
   "metadata": {},
   "outputs": [],
   "source": [
    "# Problem 467 workspace"
   ]
  },
  {
   "cell_type": "markdown",
   "id": "ac8630f4",
   "metadata": {},
   "source": [
    "## Answer: "
   ]
  },
  {
   "cell_type": "markdown",
   "id": "704baacf",
   "metadata": {},
   "source": [
    "___"
   ]
  },
  {
   "cell_type": "markdown",
   "id": "a5b7b544",
   "metadata": {},
   "source": [
    "# Problem 468\n",
    " [Source](https://projecteuler.net/problem=468)"
   ]
  },
  {
   "cell_type": "markdown",
   "id": "df5fb120",
   "metadata": {},
   "source": [
    "An integer is called\n",
    "**B\n",
    "-smooth**\n",
    "if none of its prime factors is greater than $B$.\n",
    "\n",
    "Let $S\\_B(n)$ be the largest $B$-smooth divisor of $n$.\n",
    "  \n",
    "Examples:\n",
    "  \n",
    "$S\\_1(10)=1$\n",
    "  \n",
    "$S\\_4(2100) = 12$\n",
    "  \n",
    "$S\\_{17}(2496144) = 5712$\n",
    "\n",
    "Define $\\displaystyle F(n)=\\sum\\_{B=1}^n \\sum\\_{r=0}^n S\\_B(\\binom n r)$. Here, $\\displaystyle \\binom n r$ denotes the binomial coefficient.\n",
    "  \n",
    "Examples:\n",
    "  \n",
    "$F(11) = 3132$\n",
    "  \n",
    "$F(1111) \\mod 1\\,000\\,000\\,993 = 706036312$\n",
    "  \n",
    "$F(111\\,111) \\mod 1\\,000\\,000\\,993 = 22156169$\n",
    "\n",
    "Find $F(11\\,111\\,111) \\mod 1\\,000\\,000\\,993$."
   ]
  },
  {
   "cell_type": "code",
   "execution_count": null,
   "id": "515f5b3a",
   "metadata": {},
   "outputs": [],
   "source": [
    "# Problem 468 workspace"
   ]
  },
  {
   "cell_type": "markdown",
   "id": "db679405",
   "metadata": {},
   "source": [
    "## Answer: "
   ]
  },
  {
   "cell_type": "markdown",
   "id": "a8ee66cd",
   "metadata": {},
   "source": [
    "___"
   ]
  },
  {
   "cell_type": "markdown",
   "id": "a8cec974",
   "metadata": {},
   "source": [
    "# Problem 469\n",
    " [Source](https://projecteuler.net/problem=469)"
   ]
  },
  {
   "cell_type": "markdown",
   "id": "37cb036c",
   "metadata": {},
   "source": [
    "In a room $N$ chairs are placed around a round table.\n",
    "  \n",
    "Knights enter the room one by one and choose at random an available empty chair.\n",
    "  \n",
    "To have enough elbow room the knights always leave at least one empty chair between each other.\n",
    "\n",
    "When there aren't any suitable chairs left, the fraction $C$ of empty chairs is determined.\n",
    "  \n",
    "We also define $E(N)$ as the expected value of $C$.\n",
    "  \n",
    "We can verify that $E(4) = 1/2$ and $E(6) = 5/9$.\n",
    "\n",
    "Find $E(10^{18})$. Give your answer rounded to fourteen decimal places in the form 0.abcdefghijklmn."
   ]
  },
  {
   "cell_type": "code",
   "execution_count": null,
   "id": "4bac2e40",
   "metadata": {},
   "outputs": [],
   "source": [
    "# Problem 469 workspace"
   ]
  },
  {
   "cell_type": "markdown",
   "id": "0ed52fa0",
   "metadata": {},
   "source": [
    "## Answer: "
   ]
  },
  {
   "cell_type": "markdown",
   "id": "3405ab0e",
   "metadata": {},
   "source": [
    "___"
   ]
  },
  {
   "cell_type": "markdown",
   "id": "d15d653c",
   "metadata": {},
   "source": [
    "# Problem 470\n",
    " [Source](https://projecteuler.net/problem=470)"
   ]
  },
  {
   "cell_type": "markdown",
   "id": "71a5a99b",
   "metadata": {},
   "source": [
    "Consider a single game of Ramvok:\n",
    "\n",
    "Let $t$ represent the maximum number of turns the game lasts. If $t = 0$, then the game ends immediately. Otherwise, on each turn $i$, the player rolls a die. After rolling, if $i \\lt t$ the player can either stop the game and receive a prize equal to the value of the current roll, or discard the roll and try again next turn. If $i = t$, then the roll cannot be discarded and the prize must be accepted. Before the game begins, $t$ is chosen by the player, who must then pay an up-front cost $ct$ for some constant $c$. For $c = 0$, $t$ can be chosen to be infinite (with an up-front cost of $0$). Let $R(d, c)$ be the expected profit (i.e. net gain) that the player receives from a single game of optimally-played Ramvok, given a fair $d$-sided die and cost constant $c$. For example, $R(4, 0.2) = 2.65$. Assume that the player has sufficient funds for paying any/all up-front costs.\n",
    "\n",
    "Now consider a game of Super Ramvok:\n",
    "\n",
    "In Super Ramvok, the game of Ramvok is played repeatedly, but with a slight modification. After each game, the die is altered. The alteration process is as follows: The die is rolled once, and if the resulting face has its pips visible, then that face is altered to be blank instead. If the face is already blank, then it is changed back to its original value. After the alteration is made, another game of Ramvok can begin (and during such a game, at each turn, the die is rolled until a face with a value on it appears). The player knows which faces are blank and which are not at all times. The game of Super Ramvok ends once all faces of the die are blank.\n",
    "\n",
    "Let $S(d, c)$ be the expected profit that the player receives from an optimally-played game of Super Ramvok, given a fair $d$-sided die to start (with all sides visible), and cost constant $c$. For example, $S(6, 1) = 208.3$.\n",
    "\n",
    "Let $F(n) = \\sum\\_{4 \\le d \\le n} \\sum\\_{0 \\le c \\le n} S(d, c)$.\n",
    "\n",
    "Calculate $F(20)$, rounded to the nearest integer."
   ]
  },
  {
   "cell_type": "code",
   "execution_count": null,
   "id": "68fd19c3",
   "metadata": {},
   "outputs": [],
   "source": [
    "# Problem 470 workspace"
   ]
  },
  {
   "cell_type": "markdown",
   "id": "b0addf24",
   "metadata": {},
   "source": [
    "## Answer: "
   ]
  },
  {
   "cell_type": "markdown",
   "id": "6516623a",
   "metadata": {},
   "source": [
    "___"
   ]
  }
 ],
 "metadata": {},
 "nbformat": 4,
 "nbformat_minor": 5
}
