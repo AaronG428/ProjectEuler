{
 "cells": [
  {
   "cell_type": "markdown",
   "id": "5ab2b8c7",
   "metadata": {},
   "source": [
    "# Problem 171\n",
    " [Source](https://projecteuler.net/problem=171)"
   ]
  },
  {
   "cell_type": "markdown",
   "id": "886f46aa",
   "metadata": {},
   "source": [
    "For a positive integer $n$, let $f(n)$ be the sum of the squares of the digits (in base $10$) of $n$, e.g.\n",
    "\n",
    "$$\\begin{align}\n",
    "f(3) &= 3^2 = 9,\\\\\n",
    "f(25) &= 2^2 + 5^2 = 4 + 25 = 29,\\\\\n",
    "f(442) &= 4^2 + 4^2 + 2^2 = 16 + 16 + 4 = 36\\\\\n",
    "\\end{align}$$\n",
    "\n",
    "Find the last nine digits of the sum of all $n$, $0 \\lt n \\lt 10^{20}$, such that $f(n)$ is a perfect square."
   ]
  },
  {
   "cell_type": "code",
   "execution_count": null,
   "id": "2000f402",
   "metadata": {},
   "outputs": [],
   "source": [
    "# Problem 171 workspace"
   ]
  },
  {
   "cell_type": "markdown",
   "id": "6ae568f3",
   "metadata": {},
   "source": [
    "## Answer: "
   ]
  },
  {
   "cell_type": "markdown",
   "id": "76fa1b65",
   "metadata": {},
   "source": [
    "___"
   ]
  },
  {
   "cell_type": "markdown",
   "id": "ac43575f",
   "metadata": {},
   "source": [
    "# Problem 172\n",
    " [Source](https://projecteuler.net/problem=172)"
   ]
  },
  {
   "cell_type": "markdown",
   "id": "175b5d70",
   "metadata": {},
   "source": [
    "How many $18$-digit numbers $n$ (without leading zeros) are there such that no digit occurs more than three times in $n$?"
   ]
  },
  {
   "cell_type": "code",
   "execution_count": null,
   "id": "0369c9f3",
   "metadata": {},
   "outputs": [],
   "source": [
    "# Problem 172 workspace"
   ]
  },
  {
   "cell_type": "markdown",
   "id": "6a360dfa",
   "metadata": {},
   "source": [
    "## Answer: "
   ]
  },
  {
   "cell_type": "markdown",
   "id": "cefc3add",
   "metadata": {},
   "source": [
    "___"
   ]
  },
  {
   "cell_type": "markdown",
   "id": "7e71cee6",
   "metadata": {},
   "source": [
    "# Problem 173\n",
    " [Source](https://projecteuler.net/problem=173)"
   ]
  },
  {
   "cell_type": "markdown",
   "id": "dcf9e1c2",
   "metadata": {},
   "source": [
    "We shall define a square lamina to be a square outline with a square \"hole\" so that the shape possesses vertical and horizontal symmetry. For example, using exactly thirty-two square tiles we can form two different square laminae:\n",
    "\n",
    "![](resources/0173_square_laminas.gif)\n",
    "\n",
    "With one-hundred tiles, and not necessarily using all of the tiles at one time, it is possible to form forty-one different square laminae.\n",
    "\n",
    "Using up to one million tiles how many different square laminae can be formed?"
   ]
  },
  {
   "cell_type": "code",
   "execution_count": null,
   "id": "0d95ae93",
   "metadata": {},
   "outputs": [],
   "source": [
    "# Problem 173 workspace"
   ]
  },
  {
   "cell_type": "markdown",
   "id": "d2114d64",
   "metadata": {},
   "source": [
    "## Answer: "
   ]
  },
  {
   "cell_type": "markdown",
   "id": "38da2956",
   "metadata": {},
   "source": [
    "___"
   ]
  },
  {
   "cell_type": "markdown",
   "id": "42def623",
   "metadata": {},
   "source": [
    "# Problem 174\n",
    " [Source](https://projecteuler.net/problem=174)"
   ]
  },
  {
   "cell_type": "markdown",
   "id": "3b009260",
   "metadata": {},
   "source": [
    "We shall define a square lamina to be a square outline with a square \"hole\" so that the shape possesses vertical and horizontal symmetry.\n",
    "\n",
    "Given eight tiles it is possible to form a lamina in only one way: $3 \\times 3$ square with a $1 \\times 1$ hole in the middle. However, using thirty-two tiles it is possible to form two distinct laminae.\n",
    "\n",
    "![](resources/0173_square_laminas.gif)\n",
    "\n",
    "If\n",
    "t\n",
    "represents the number of tiles used, we shall say that $t = 8$ is type $L(1)$ and $t = 32$ is type $L(2)$.\n",
    "\n",
    "Let $N(n)$ be the number of $t \\le 1000000$ such that $t$ is type $L(n)$; for example, $N(15) = 832$.\n",
    "\n",
    "What is $\\sum\\limits\\_{n = 1}^{10} N(n)$?"
   ]
  },
  {
   "cell_type": "code",
   "execution_count": null,
   "id": "5ef9d5ca",
   "metadata": {},
   "outputs": [],
   "source": [
    "# Problem 174 workspace"
   ]
  },
  {
   "cell_type": "markdown",
   "id": "b665f105",
   "metadata": {},
   "source": [
    "## Answer: "
   ]
  },
  {
   "cell_type": "markdown",
   "id": "131951bb",
   "metadata": {},
   "source": [
    "___"
   ]
  },
  {
   "cell_type": "markdown",
   "id": "5c1fd445",
   "metadata": {},
   "source": [
    "# Problem 175\n",
    " [Source](https://projecteuler.net/problem=175)"
   ]
  },
  {
   "cell_type": "markdown",
   "id": "16eda6ae",
   "metadata": {},
   "source": [
    "Define $f(0)=1$ and $f(n)$ to be the number of ways to write $n$ as a sum of powers of $2$ where no power occurs more than twice.\n",
    "\n",
    "For example, $f(10)=5$ since there are five different ways to express $10$:\n",
    "  \n",
    "$10 = 8+2 = 8+1+1 = 4+4+2 = 4+2+2+1+1 = 4+4+1+1.$\n",
    "\n",
    "It can be shown that for every fraction $p / q$ ($p \\gt 0$, $q \\gt 0$) there exists at least one integer $n$ such that $f(n)/f(n-1)=p/q$.\n",
    "\n",
    "For instance, the smallest $n$ for which $f(n)/f(n-1)=13/17$ is $241$.\n",
    "  \n",
    "The binary expansion of $241$ is $11110001$.\n",
    "  \n",
    "Reading this binary number from the most significant bit to the least significant bit there are $4$ one's, $3$ zeroes and $1$ one. We shall call the string $4,3,1$ the\n",
    "Shortened Binary Expansion\n",
    "of $241$.\n",
    "\n",
    "Find the Shortened Binary Expansion of the smallest $n$ for which $f(n)/f(n-1)=123456789/987654321$.\n",
    "\n",
    "Give your answer as comma separated integers, without any whitespaces."
   ]
  },
  {
   "cell_type": "code",
   "execution_count": null,
   "id": "82b529be",
   "metadata": {},
   "outputs": [],
   "source": [
    "# Problem 175 workspace"
   ]
  },
  {
   "cell_type": "markdown",
   "id": "d9b79cee",
   "metadata": {},
   "source": [
    "## Answer: "
   ]
  },
  {
   "cell_type": "markdown",
   "id": "58fde4a6",
   "metadata": {},
   "source": [
    "___"
   ]
  },
  {
   "cell_type": "markdown",
   "id": "62e3edb7",
   "metadata": {},
   "source": [
    "# Problem 176\n",
    " [Source](https://projecteuler.net/problem=176)"
   ]
  },
  {
   "cell_type": "markdown",
   "id": "9b762aa8",
   "metadata": {},
   "source": [
    "The four right-angled triangles with sides $(9,12,15)$, $(12,16,20)$, $(5,12,13)$ and $(12,35,37)$ all have one of the shorter sides (catheti) equal to $12$. It can be shown that no other integer sided right-angled triangle exists with one of the catheti equal to $12$.\n",
    "\n",
    "Find the smallest integer that can be the length of a cathetus of exactly $47547$ different integer sided right-angled triangles."
   ]
  },
  {
   "cell_type": "code",
   "execution_count": null,
   "id": "c4dfb033",
   "metadata": {},
   "outputs": [],
   "source": [
    "# Problem 176 workspace"
   ]
  },
  {
   "cell_type": "markdown",
   "id": "ed0fb567",
   "metadata": {},
   "source": [
    "## Answer: "
   ]
  },
  {
   "cell_type": "markdown",
   "id": "2f8549e4",
   "metadata": {},
   "source": [
    "___"
   ]
  },
  {
   "cell_type": "markdown",
   "id": "105895e0",
   "metadata": {},
   "source": [
    "# Problem 177\n",
    " [Source](https://projecteuler.net/problem=177)"
   ]
  },
  {
   "cell_type": "markdown",
   "id": "f5958152",
   "metadata": {},
   "source": [
    "Let $ABCD$ be a convex quadrilateral, with diagonals $AC$ and $BD$. At each vertex the diagonal makes an angle with each of the two sides, creating eight corner angles.\n",
    "\n",
    "![](resources/0177_quad.gif)\n",
    "\n",
    "For example, at vertex $A$, the two angles are $CAD$, $CAB$.\n",
    "\n",
    "We call such a quadrilateral for which all eight corner angles have integer values when measured in degrees an \"integer angled quadrilateral\". An example of an integer angled quadrilateral is a square, where all eight corner angles are $45^\\circ$. Another example is given by $DAC = 20^\\circ$, $BAC = 60^\\circ$, $ABD = 50^\\circ$, $CBD = 30^\\circ$, $BCA = 40^\\circ$, $DCA = 30^\\circ$, $CDB = 80^\\circ$, $ADB = 50^\\circ$.\n",
    "\n",
    "What is the total number of non-similar integer angled quadrilaterals?\n",
    "\n",
    "Note: In your calculations you may assume that a calculated angle is integral if it is within a tolerance of $10^{-9}$ of an integer value."
   ]
  },
  {
   "cell_type": "code",
   "execution_count": null,
   "id": "ae082f4b",
   "metadata": {},
   "outputs": [],
   "source": [
    "# Problem 177 workspace"
   ]
  },
  {
   "cell_type": "markdown",
   "id": "6bfde372",
   "metadata": {},
   "source": [
    "## Answer: "
   ]
  },
  {
   "cell_type": "markdown",
   "id": "5d31a9ec",
   "metadata": {},
   "source": [
    "___"
   ]
  },
  {
   "cell_type": "markdown",
   "id": "3dc84d7f",
   "metadata": {},
   "source": [
    "# Problem 178\n",
    " [Source](https://projecteuler.net/problem=178)"
   ]
  },
  {
   "cell_type": "markdown",
   "id": "58a2feca",
   "metadata": {},
   "source": [
    "Consider the number $45656$.\n",
    "  \n",
    "It can be seen that each pair of consecutive digits of $45656$ has a difference of one.\n",
    "  \n",
    "A number for which every pair of consecutive digits has a difference of one is called a step number.\n",
    "  \n",
    "A pandigital number contains every decimal digit from $0$ to $9$ at least once.\n",
    "  \n",
    "How many pandigital step numbers less than $10^{40}$ are there?"
   ]
  },
  {
   "cell_type": "code",
   "execution_count": null,
   "id": "3afb1a40",
   "metadata": {},
   "outputs": [],
   "source": [
    "# Problem 178 workspace"
   ]
  },
  {
   "cell_type": "markdown",
   "id": "02545455",
   "metadata": {},
   "source": [
    "## Answer: "
   ]
  },
  {
   "cell_type": "markdown",
   "id": "86ecfc66",
   "metadata": {},
   "source": [
    "___"
   ]
  },
  {
   "cell_type": "markdown",
   "id": "63453102",
   "metadata": {},
   "source": [
    "# Problem 179\n",
    " [Source](https://projecteuler.net/problem=179)"
   ]
  },
  {
   "cell_type": "markdown",
   "id": "e7a1306c",
   "metadata": {},
   "source": [
    "Find the number of integers $1 \\lt n \\lt 10^7$, for which $n$ and $n + 1$ have the same number of positive divisors. For example, $14$ has the positive divisors $1, 2, 7, 14$ while $15$ has $1, 3, 5, 15$."
   ]
  },
  {
   "cell_type": "code",
   "execution_count": null,
   "id": "eae686a2",
   "metadata": {},
   "outputs": [],
   "source": [
    "# Problem 179 workspace"
   ]
  },
  {
   "cell_type": "markdown",
   "id": "912eba9f",
   "metadata": {},
   "source": [
    "## Answer: "
   ]
  },
  {
   "cell_type": "markdown",
   "id": "56c215bc",
   "metadata": {},
   "source": [
    "___"
   ]
  },
  {
   "cell_type": "markdown",
   "id": "84f5c6fb",
   "metadata": {},
   "source": [
    "# Problem 180\n",
    " [Source](https://projecteuler.net/problem=180)"
   ]
  },
  {
   "cell_type": "markdown",
   "id": "b1acb5d3",
   "metadata": {},
   "source": [
    "For any integer $n$, consider the three functions\n",
    "\n",
    "$$\\begin{align}\n",
    "f\\_{1, n}(x, y, z) &= x^{n + 1} + y^{n + 1} - z^{n + 1}\\\\\n",
    "f\\_{2, n}(x, y, z) &= (xy + yz + zx) \\cdot (x^{n - 1} + y^{n - 1} - z^{n - 1})\\\\\n",
    "f\\_{3, n}(x, y, z) &= xyz \\cdot (x^{n - 2} + y^{n - 2} - z^{n - 2})\n",
    "\\end{align}$$\n",
    "\n",
    "and their combination\n",
    "$$f\\_n(x, y, z) = f\\_{1, n}(x, y, z) + f\\_{2, n}(x, y, z) - f\\_{3, n}(x, y, z).$$\n",
    "\n",
    "We call $(x, y, z)$ a golden triple of order $k$ if $x$, $y$, and $z$ are all rational numbers of the form $a / b$ with $0 \\lt a \\lt b \\le k$ and there is (at least) one integer $n$, so that $f\\_n(x, y, z) = 0$.\n",
    "\n",
    "Let $s(x, y, z) = x + y + z$.\n",
    "  \n",
    "Let $t = u / v$ be the sum of all distinct $s(x, y, z)$ for all golden triples $(x, y, z)$ of order $35$.\n",
    "  \n",
    "All the $s(x, y, z)$ and $t$ must be in reduced form.\n",
    "\n",
    "Find $u + v$."
   ]
  },
  {
   "cell_type": "code",
   "execution_count": null,
   "id": "6d2d35b5",
   "metadata": {},
   "outputs": [],
   "source": [
    "# Problem 180 workspace"
   ]
  },
  {
   "cell_type": "markdown",
   "id": "d4fe9944",
   "metadata": {},
   "source": [
    "## Answer: "
   ]
  },
  {
   "cell_type": "markdown",
   "id": "d50c6294",
   "metadata": {},
   "source": [
    "___"
   ]
  }
 ],
 "metadata": {},
 "nbformat": 4,
 "nbformat_minor": 5
}
