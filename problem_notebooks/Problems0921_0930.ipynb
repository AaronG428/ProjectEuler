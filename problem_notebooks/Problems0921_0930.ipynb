{
 "cells": [
  {
   "cell_type": "markdown",
   "id": "a7bb5bf8",
   "metadata": {},
   "source": [
    "# Problem 921\n",
    " [Source](https://projecteuler.net/problem=921)"
   ]
  },
  {
   "cell_type": "markdown",
   "id": "6ea90d55",
   "metadata": {},
   "source": [
    "Consider the following recurrence relation:\n",
    "$$\\begin{align}\n",
    "a\\_0 &= \\frac{\\sqrt 5 + 1}2\\\\\n",
    "a\\_{n+1} &= \\dfrac{a\\_n(a\\_n^4 + 10a\\_n^2 + 5)}{5a\\_n^4 + 10a\\_n^2 + 1}\n",
    "\\end{align}$$\n",
    "\n",
    "Note that $a\\_0$ is the\n",
    "**golden ratio**\n",
    ".\n",
    "\n",
    "$a\\_n$ can always be written in the form $\\dfrac{p\\_n\\sqrt{5}+1}{q\\_n}$, where $p\\_n$ and $q\\_n$ are positive integers.\n",
    "\n",
    "Let $s(n)=p\\_n^5+q\\_n^5$. So, $s(0)=1^5+2^5=33$.\n",
    "\n",
    "The\n",
    "**Fibonacci sequence**\n",
    "is defined as: $F\\_1=1$, $F\\_2=1$, $F\\_n=F\\_{n-1}+F\\_{n-2}$ for $n > 2$.\n",
    "\n",
    "Define $\\displaystyle S(m)=\\sum\\_{i=2}^{m}s(F\\_i)$.\n",
    "\n",
    "Find $S(1618034)$. Submit your answer modulo $398874989$."
   ]
  },
  {
   "cell_type": "code",
   "execution_count": null,
   "id": "169ccc13",
   "metadata": {},
   "outputs": [],
   "source": [
    "# Problem 921 workspace"
   ]
  },
  {
   "cell_type": "markdown",
   "id": "ec0bc970",
   "metadata": {},
   "source": [
    "## Answer: "
   ]
  },
  {
   "cell_type": "markdown",
   "id": "1f2f953e",
   "metadata": {},
   "source": [
    "___"
   ]
  },
  {
   "cell_type": "markdown",
   "id": "6a44a80b",
   "metadata": {},
   "source": [
    "# Problem 922\n",
    " [Source](https://projecteuler.net/problem=922)"
   ]
  },
  {
   "cell_type": "markdown",
   "id": "3196f034",
   "metadata": {},
   "source": [
    "A\n",
    "**Young diagram**\n",
    "is a finite collection of (equally-sized) squares in a grid-like arrangement of rows and columns, such that\n",
    "\n",
    "* the left-most squares of all rows are aligned vertically;\n",
    "* the top squares of all columns are aligned horizontally;\n",
    "* the rows are non-increasing in size as we move top to bottom;\n",
    "* the columns are non-increasing in size as we move left to right.\n",
    "\n",
    "Two examples of Young diagrams are shown below.\n",
    "\n",
    "![0922_youngs_game_diagrams.png](resources/0922_youngs_game_diagrams.png)\n",
    "\n",
    "Two players Right and Down play a game on several Young diagrams, all disconnected from each other. Initially, a token is placed in the top-left square of each diagram. Then they take alternating turns, starting with Right. On Right's turn, Right selects a token on one diagram and moves it\n",
    "**any number of squares**\n",
    "to the right. On Down's turn, Down selects a token on one diagram and moves it\n",
    "**any number of squares**\n",
    "downwards. A player unable to make a legal move on their turn loses the game.\n",
    "\n",
    "For $a,b,k\\geq 1$ we define an\n",
    "$(a,b,k)$-staircase\n",
    "to be the Young diagram where the bottom-right frontier consists of $k$\n",
    "steps\n",
    "of vertical height $a$ and horizontal length $b$. Shown below are four examples of staircases with $(a,b,k)$ respectively $(1,1,4),$ $(5,1,1),$ $(3,3,2),$ $(2,4,3)$.\n",
    "\n",
    "![0922_youngs_game_staircases.png](resources/0922_youngs_game_staircases.png)\n",
    "\n",
    "Additionally, define the\n",
    "weight\n",
    "of an $(a,b,k)$-staircase to be $a+b+k$.\n",
    "\n",
    "Let $R(m, w)$ be the number ways of choosing $m$ staircases, each having weight not exceeding $w$, upon which Right (moving first in the game) will win the game assuming optimal play. Different orderings of the same set of staircases are to be counted separately.\n",
    "\n",
    "For example, $R(2, 4)=7$ is illustrated below, with tokens as grey circles drawn in their initial positions.\n",
    "\n",
    "![0922_youngs_game_example.png](resources/0922_youngs_game_example.png)\n",
    "\n",
    "You are also given $R(3, 9)=314104$.\n",
    "\n",
    "Find $R(8, 64)$ giving your answer modulo $10^9+7$."
   ]
  },
  {
   "cell_type": "code",
   "execution_count": null,
   "id": "394bd0af",
   "metadata": {},
   "outputs": [],
   "source": [
    "# Problem 922 workspace"
   ]
  },
  {
   "cell_type": "markdown",
   "id": "1fb504fc",
   "metadata": {},
   "source": [
    "## Answer: "
   ]
  },
  {
   "cell_type": "markdown",
   "id": "614ea1fb",
   "metadata": {},
   "source": [
    "___"
   ]
  },
  {
   "cell_type": "markdown",
   "id": "bfc162f9",
   "metadata": {},
   "source": [
    "# Problem 923\n",
    " [Source](https://projecteuler.net/problem=923)"
   ]
  },
  {
   "cell_type": "markdown",
   "id": "41b7d969",
   "metadata": {},
   "source": [
    "A\n",
    "**Young diagram**\n",
    "is a finite collection of (equally-sized) squares in a grid-like arrangement of rows and columns, such that\n",
    "\n",
    "* the left-most squares of all rows are aligned vertically;\n",
    "* the top squares of all columns are aligned horizontally;\n",
    "* the rows are non-increasing in size as we move top to bottom;\n",
    "* the columns are non-increasing in size as we move left to right.\n",
    "\n",
    "Two examples of Young diagrams are shown below.\n",
    "\n",
    "![0922_youngs_game_diagrams.png](resources/0922_youngs_game_diagrams.png)\n",
    "\n",
    "Two players Right and Down play a game on several Young diagrams, all disconnected from each other. Initially, a token is placed in the top-left square of each diagram. Then they take alternating turns, starting with Right. On Right's turn, Right selects a token on one diagram and moves it\n",
    "**one square**\n",
    "to the right. On Down's turn, Down selects a token on one diagram and moves it\n",
    "**one square**\n",
    "downwards. A player unable to make a legal move on their turn loses the game.\n",
    "\n",
    "For $a,b,k\\geq 1$ we define an\n",
    "$(a,b,k)$-staircase\n",
    "to be the Young diagram where the bottom-right frontier consists of $k$\n",
    "steps\n",
    "of vertical height $a$ and horizontal length $b$. Shown below are four examples of staircases with $(a,b,k)$ respectively $(1,1,4),$ $(5,1,1),$ $(3,3,2),$ $(2,4,3)$.\n",
    "\n",
    "![0922_youngs_game_staircases.png](resources/0922_youngs_game_staircases.png)\n",
    "\n",
    "Additionally, define the\n",
    "weight\n",
    "of an $(a,b,k)$-staircase to be $a+b+k$.\n",
    "\n",
    "Let $S(m, w)$ be the number ways of choosing $m$ staircases, each having weight not exceeding $w$, upon which Right (moving first in the game) will win the game assuming optimal play. Different orderings of the same set of staircases are to be counted separately.\n",
    "\n",
    "For example, $S(2, 4)=7$ is illustrated below, with tokens as grey circles drawn in their initial positions.\n",
    "\n",
    "![0922_youngs_game_example.png](resources/0922_youngs_game_example.png)\n",
    "\n",
    "You are also given $S(3, 9)=315319$.\n",
    "\n",
    "Find $S(8, 64)$ giving your answer modulo $10^9+7$."
   ]
  },
  {
   "cell_type": "code",
   "execution_count": null,
   "id": "8ad7db09",
   "metadata": {},
   "outputs": [],
   "source": [
    "# Problem 923 workspace"
   ]
  },
  {
   "cell_type": "markdown",
   "id": "a6c7fa34",
   "metadata": {},
   "source": [
    "## Answer: "
   ]
  },
  {
   "cell_type": "markdown",
   "id": "67cfc99c",
   "metadata": {},
   "source": [
    "___"
   ]
  },
  {
   "cell_type": "markdown",
   "id": "50e1c0a2",
   "metadata": {},
   "source": [
    "# Problem 924\n",
    " [Source](https://projecteuler.net/problem=924)"
   ]
  },
  {
   "cell_type": "markdown",
   "id": "340507e4",
   "metadata": {},
   "source": [
    "Let $B(n)$ be the smallest number larger than $n$ that can be formed by rearranging digits of $n$, or $0$ if no such number exists. For example, $B(245) = 254$ and $B(542) = 0$.\n",
    "\n",
    "Define $a\\_0 = 0$ and $a\\_n = a\\_{n - 1}^2 + 2$ for $n>0$.\n",
    "Let $\\displaystyle U(N) = \\sum\\_{n = 1}^N B(a\\_n)$. You are given $U(10) \\equiv 543870437 \\pmod{10^9+7}$.\n",
    "\n",
    "Find $U(10^{16})$. Give your answer modulo $10^9 + 7$."
   ]
  },
  {
   "cell_type": "code",
   "execution_count": null,
   "id": "0bbdc32d",
   "metadata": {},
   "outputs": [],
   "source": [
    "# Problem 924 workspace"
   ]
  },
  {
   "cell_type": "markdown",
   "id": "1ef53073",
   "metadata": {},
   "source": [
    "## Answer: "
   ]
  },
  {
   "cell_type": "markdown",
   "id": "51456f84",
   "metadata": {},
   "source": [
    "___"
   ]
  },
  {
   "cell_type": "markdown",
   "id": "ff1b6062",
   "metadata": {},
   "source": [
    "# Problem 925\n",
    " [Source](https://projecteuler.net/problem=925)"
   ]
  },
  {
   "cell_type": "markdown",
   "id": "f82087a8",
   "metadata": {},
   "source": [
    "Let $B(n)$ be the smallest number larger than $n$ that can be formed by rearranging digits of $n$, or $0$ if no such number exists. For example, $B(245) = 254$ and $B(542) = 0$.\n",
    "\n",
    "Define $\\displaystyle T(N) = \\sum\\_{n=1}^N B(n^2)$. You are given $T(10)=270$ and $T(100)=335316$.\n",
    "\n",
    "Find $T(10^{16})$. Give your answer modulo $10^9 + 7$."
   ]
  },
  {
   "cell_type": "code",
   "execution_count": null,
   "id": "80ab8ee4",
   "metadata": {},
   "outputs": [],
   "source": [
    "# Problem 925 workspace"
   ]
  },
  {
   "cell_type": "markdown",
   "id": "4d70faab",
   "metadata": {},
   "source": [
    "## Answer: "
   ]
  },
  {
   "cell_type": "markdown",
   "id": "a0b92b8b",
   "metadata": {},
   "source": [
    "___"
   ]
  },
  {
   "cell_type": "markdown",
   "id": "ef190fcd",
   "metadata": {},
   "source": [
    "# Problem 926\n",
    " [Source](https://projecteuler.net/problem=926)"
   ]
  },
  {
   "cell_type": "markdown",
   "id": "1e884215",
   "metadata": {},
   "source": [
    "A\n",
    "**round number**\n",
    "is a number that ends with one or more zeros in a given base.\n",
    "\n",
    "Let us define the\n",
    "roundness\n",
    "of a number $n$ in base $b$ as the number of zeros at the end of the base $b$ representation of $n$.\n",
    "  \n",
    "For example, $20$ has roundness $2$ in base $2$, because the base $2$ representation of $20$ is $10100$, which ends with $2$ zeros.\n",
    "\n",
    "Also define $R(n)$, the\n",
    "total roundness\n",
    "of a number $n$, as the sum of the roundness of $n$ in base $b$ for all $b > 1$.\n",
    "  \n",
    "For example, $20$ has roundness $2$ in base $2$ and roundness $1$ in base $4$, $5$, $10$, $20$, hence we get $R(20)=6$.\n",
    "  \n",
    "You are also given $R(10!) = 312$.\n",
    "\n",
    "Find $R(10\\,000\\,000!)$. Give your answer modulo $10^9 + 7$."
   ]
  },
  {
   "cell_type": "code",
   "execution_count": null,
   "id": "cafd638d",
   "metadata": {},
   "outputs": [],
   "source": [
    "# Problem 926 workspace"
   ]
  },
  {
   "cell_type": "markdown",
   "id": "7cd8836f",
   "metadata": {},
   "source": [
    "## Answer: "
   ]
  },
  {
   "cell_type": "markdown",
   "id": "7ba94ab4",
   "metadata": {},
   "source": [
    "___"
   ]
  },
  {
   "cell_type": "markdown",
   "id": "d5cab1fe",
   "metadata": {},
   "source": [
    "# Problem 927\n",
    " [Source](https://projecteuler.net/problem=927)"
   ]
  },
  {
   "cell_type": "markdown",
   "id": "921fc546",
   "metadata": {},
   "source": [
    "A full $k$-ary tree is a tree with a single root node, such that every node is either a leaf or has exactly $k$ ordered children. The\n",
    "**height**\n",
    "of a $k$-ary tree is the number of edges in the longest path from the root to a leaf.\n",
    "\n",
    "For instance, there is one full 3-ary tree of height 0, one full 3-ary tree of height 1, and seven full 3-ary trees of height 2. These seven are shown below.\n",
    "\n",
    "![0927_PrimeTrees.jpg](resources/0927_PrimeTrees.jpg)\n",
    "\n",
    "For integers $n$ and $k$ with $n\\ge 0$ and $k \\ge 2$, define $t\\_k(n)$ to be the number of full $k$-ary trees of height $n$ or less.\n",
    "  \n",
    "Thus, $t\\_3(0) = 1$, $t\\_3(1) = 2$, and $t\\_3(2) = 9$. Also, $t\\_2(0) = 1$, $t\\_2(1) = 2$, and $t\\_2(2) = 5$.\n",
    "\n",
    "Define $S\\_k$ to be the set of positive integers $m$ such that $m$ divides $t\\_k(n)$ for some integer $n\\ge 0$. For instance, the above values show that 1, 2, and 5 are in $S\\_2$ and 1, 2, 3, and 9 are in $S\\_3$.\n",
    "\n",
    "Let $S = \\bigcap\\_p S\\_p$ where the intersection is taken over all primes $p$. Finally, define $R(N)$ to be the sum of all elements of $S$ not exceeding $N$. You are given that $R(20) = 18$ and $R(1000) = 2089$.\n",
    "\n",
    "Find $R(10^7)$."
   ]
  },
  {
   "cell_type": "code",
   "execution_count": null,
   "id": "7885d405",
   "metadata": {},
   "outputs": [],
   "source": [
    "# Problem 927 workspace"
   ]
  },
  {
   "cell_type": "markdown",
   "id": "8d03cad9",
   "metadata": {},
   "source": [
    "## Answer: "
   ]
  },
  {
   "cell_type": "markdown",
   "id": "6add54c7",
   "metadata": {},
   "source": [
    "___"
   ]
  },
  {
   "cell_type": "markdown",
   "id": "2ce1c4bb",
   "metadata": {},
   "source": [
    "# Problem 928\n",
    " [Source](https://projecteuler.net/problem=928)"
   ]
  },
  {
   "cell_type": "markdown",
   "id": "addab6aa",
   "metadata": {},
   "source": [
    "This problem is based on (but not identical to) the scoring for the card game\n",
    "[Cribbage](https://en.wikipedia.org/wiki/Cribbage)\n",
    ".\n",
    "\n",
    "Consider a normal pack of $52$ cards. A Hand is a selection of one or more of these cards.\n",
    "\n",
    "For each Hand the\n",
    "*Hand score*\n",
    "is the sum of the values of the cards in the Hand where the value of Aces is $1$ and the value of court cards (Jack, Queen, King) is $10$.\n",
    "\n",
    "The\n",
    "*Cribbage score*\n",
    "is obtained for a Hand by adding together the scores for:\n",
    "\n",
    "* Pairs. A pair is two cards of the same rank. Every pair is worth $2$ points.\n",
    "* Runs. A run is a set of at least $3$ cards whose ranks are consecutive, e.g. 9, 10, Jack. Note that Ace is never high, so Queen, King, Ace is\n",
    "  **not**\n",
    "  a valid run. The number of points for each run is the size of the run. All locally maximum runs are counted. For example, 2, 3, 4, 5, 7, 8, 9 the two runs of 2, 3, 4, 5 and 7, 8, 9 are counted but not 2, 3, 4 or 3, 4, 5.\n",
    "* Fifteens. A fifteen is a combination of cards that has value adding to $15$. Every fifteen is worth $2$ points. For this purpose the value of the cards is the same as in the Hand Score.\n",
    "\n",
    "For example, $(5 \\spadesuit, 5 \\clubsuit, 5 \\diamondsuit, K \\heartsuit)$ has a Cribbage score of $14$ as there are four ways that fifteen can be made and also three pairs can be made.\n",
    "\n",
    "The example $( A \\diamondsuit, A \\heartsuit, 2 \\clubsuit, 3 \\heartsuit, 4 \\clubsuit, 5 \\spadesuit)$ has a Cribbage score of $16$: two runs of five worth $10$ points, two ways of getting fifteen worth $4$ points and one pair worth $2$ points. In this example the Hand score is equal to the Cribbage score.\n",
    "\n",
    "Find the number of Hands in a normal pack of cards where the Hand score is equal to the Cribbage score."
   ]
  },
  {
   "cell_type": "code",
   "execution_count": null,
   "id": "8eb9e7b5",
   "metadata": {},
   "outputs": [],
   "source": [
    "# Problem 928 workspace"
   ]
  },
  {
   "cell_type": "markdown",
   "id": "19f9a783",
   "metadata": {},
   "source": [
    "## Answer: "
   ]
  },
  {
   "cell_type": "markdown",
   "id": "76577156",
   "metadata": {},
   "source": [
    "___"
   ]
  },
  {
   "cell_type": "markdown",
   "id": "5519d9cf",
   "metadata": {},
   "source": [
    "# Problem 929\n",
    " [Source](https://projecteuler.net/problem=929)"
   ]
  },
  {
   "cell_type": "markdown",
   "id": "47c27c6a",
   "metadata": {},
   "source": [
    "A\n",
    "**composition**\n",
    "of $n$ is a sequence of positive integers which sum to $n$. Such a sequence can be split into\n",
    "*runs*\n",
    ", where a run is a maximal contiguous subsequence of equal terms.\n",
    "\n",
    "For example, $2,2,1,1,1,3,2,2$ is a composition of $14$ consisting of four runs:\n",
    "\n",
    "$2, 2\\quad 1, 1, 1\\quad 3 \\quad 2, 2$\n",
    "\n",
    "Let $F(n)$ be the number of compositions of $n$ where every run has odd length.\n",
    "\n",
    "For example, $F(5)=10$:\n",
    "\n",
    "$$\\begin{align\\*}\n",
    "& 5 &&4,1 && 3,2 &&2,3 &&2,1,2\\\\\n",
    "&2,1,1,1 &&1,4 &&1,3,1 &&1,1,1,2 &&1,1,1,1,1\n",
    "\\end{align\\*}$$\n",
    "\n",
    "Find $F(10^5)$. Give your answer modulo $1111124111$."
   ]
  },
  {
   "cell_type": "code",
   "execution_count": null,
   "id": "6b79e985",
   "metadata": {},
   "outputs": [],
   "source": [
    "# Problem 929 workspace"
   ]
  },
  {
   "cell_type": "markdown",
   "id": "762a073f",
   "metadata": {},
   "source": [
    "## Answer: "
   ]
  },
  {
   "cell_type": "markdown",
   "id": "57f3f6a6",
   "metadata": {},
   "source": [
    "___"
   ]
  },
  {
   "cell_type": "markdown",
   "id": "aed57948",
   "metadata": {},
   "source": [
    "# Problem 930\n",
    " [Source](https://projecteuler.net/problem=930)"
   ]
  },
  {
   "cell_type": "markdown",
   "id": "cb0faff5",
   "metadata": {},
   "source": [
    "Given $n\\ge 2$ bowls arranged in a circle, $m\\ge 2$ balls are distributed amongst them.\n",
    "\n",
    "Initially the balls are distributed randomly: for each ball, a bowl is chosen equiprobably and independently of the other balls. After this is done, we start the following process:\n",
    "\n",
    "1. Choose one of the $m$ balls equiprobably at random.\n",
    "2. Choose a direction to move - either clockwise or anticlockwise - again equiprobably at random.\n",
    "3. Move the chosen ball to the neighbouring bowl in the chosen direction.\n",
    "4. Return to step 1.\n",
    "\n",
    "This process stops when all the $m$ balls are located in the same bowl. Note that this may be after zero steps, if the balls happen to have been initially distributed all in the same bowl.\n",
    "\n",
    "Let $F(n, m)$ be the expected number of times we move a ball before the process stops. For example, $F(2, 2) = \\frac{1}{2}$, $F(3, 2) = \\frac{4}{3}$, $F(2, 3) = \\frac{9}{4}$, and $F(4, 5) = \\frac{6875}{24}$.\n",
    "\n",
    "Let $G(N, M) = \\sum\\_{n=2}^N \\sum\\_{m=2}^M F(n, m)$. For example, $G(3, 3) = \\frac{137}{12}$ and $G(4, 5) = \\frac{6277}{12}$. You are also given that $G(6, 6) \\approx 1.681521567954e4$ in scientific format with 12 significant digits after the decimal point.\n",
    "\n",
    "Find $G(12, 12)$. Give your answer in scientific format with 12 significant digits after the decimal point."
   ]
  },
  {
   "cell_type": "code",
   "execution_count": null,
   "id": "9b1b96f7",
   "metadata": {},
   "outputs": [],
   "source": [
    "# Problem 930 workspace"
   ]
  },
  {
   "cell_type": "markdown",
   "id": "07ce63c6",
   "metadata": {},
   "source": [
    "## Answer: "
   ]
  },
  {
   "cell_type": "markdown",
   "id": "d285434d",
   "metadata": {},
   "source": [
    "___"
   ]
  }
 ],
 "metadata": {},
 "nbformat": 4,
 "nbformat_minor": 5
}
