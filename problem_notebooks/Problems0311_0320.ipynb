{
 "cells": [
  {
   "cell_type": "markdown",
   "id": "19884142",
   "metadata": {},
   "source": [
    "# Problem 311\n",
    " [Source](https://projecteuler.net/problem=311)"
   ]
  },
  {
   "cell_type": "markdown",
   "id": "1ae59af6",
   "metadata": {},
   "source": [
    "$ABCD$ is a convex, integer sided quadrilateral with $1 \\le AB \\lt BC \\lt CD \\lt AD$.\n",
    "  \n",
    "$BD$ has integer length. $O$ is the midpoint of $BD$. $AO$ has integer length.\n",
    "  \n",
    "We'll call $ABCD$ a\n",
    "biclinic integral quadrilateral\n",
    "if $AO = CO \\le BO = DO$.\n",
    "\n",
    "For example, the following quadrilateral is a biclinic integral quadrilateral:\n",
    "  \n",
    "$AB = 19$, $BC = 29$, $CD = 37$, $AD = 43$, $BD = 48$ and $AO = CO = 23$.\n",
    "\n",
    "![0311_biclinic.gif](resources/0311_biclinic.gif)\n",
    "\n",
    "Let $B(N)$ be the number of distinct biclinic integral quadrilaterals $ABCD$ that satisfy $AB^2+BC^2+CD^2+AD^2 \\le N$.\n",
    "  \n",
    "We can verify that $B(10\\,000) = 49$ and $B(1\\,000\\,000) = 38239$.\n",
    "\n",
    "Find $B(10\\,000\\,000\\,000)$."
   ]
  },
  {
   "cell_type": "code",
   "execution_count": null,
   "id": "e510127f",
   "metadata": {},
   "outputs": [],
   "source": [
    "# Problem 311 workspace"
   ]
  },
  {
   "cell_type": "markdown",
   "id": "f09b7622",
   "metadata": {},
   "source": [
    "## Answer: "
   ]
  },
  {
   "cell_type": "markdown",
   "id": "95031d2b",
   "metadata": {},
   "source": [
    "___"
   ]
  },
  {
   "cell_type": "markdown",
   "id": "d5c87b28",
   "metadata": {},
   "source": [
    "# Problem 312\n",
    " [Source](https://projecteuler.net/problem=312)"
   ]
  },
  {
   "cell_type": "markdown",
   "id": "b7edc00c",
   "metadata": {},
   "source": [
    "- A\n",
    "**Sierpiński graph**\n",
    "of order-$1$ ($S\\_1$) is an equilateral triangle.\n",
    "  \n",
    "- $S\\_{n + 1}$ is obtained from $S\\_n$ by positioning three copies of $S\\_n$ so that every pair of copies has one common corner.\n",
    "\n",
    "![0312_sierpinskyAt.gif](resources/0312_sierpinskyAt.gif)\n",
    "\n",
    "Let $C(n)$ be the number of cycles that pass exactly once through all the vertices of $S\\_n$.\n",
    "  \n",
    "For example, $C(3) = 8$ because eight such cycles can be drawn on $S\\_3$, as shown below:\n",
    "\n",
    "![0312_sierpinsky8t.gif](resources/0312_sierpinsky8t.gif)\n",
    "\n",
    "It can also be verified that :\n",
    "  \n",
    "$C(1) = C(2) = 1$\n",
    "  \n",
    "$C(5) = 71328803586048$\n",
    "  \n",
    "$C(10\\,000) \\bmod 10^8 = 37652224$\n",
    "  \n",
    "$C(10\\,000) \\bmod 13^8 = 617720485$\n",
    "\n",
    "Find $C(C(C(10\\,000))) \\bmod 13^8$."
   ]
  },
  {
   "cell_type": "code",
   "execution_count": null,
   "id": "74605d89",
   "metadata": {},
   "outputs": [],
   "source": [
    "# Problem 312 workspace"
   ]
  },
  {
   "cell_type": "markdown",
   "id": "e1819701",
   "metadata": {},
   "source": [
    "## Answer: "
   ]
  },
  {
   "cell_type": "markdown",
   "id": "f6c20a05",
   "metadata": {},
   "source": [
    "___"
   ]
  },
  {
   "cell_type": "markdown",
   "id": "27776147",
   "metadata": {},
   "source": [
    "# Problem 313\n",
    " [Source](https://projecteuler.net/problem=313)"
   ]
  },
  {
   "cell_type": "markdown",
   "id": "219091cd",
   "metadata": {},
   "source": [
    "In a sliding game a counter may slide horizontally or vertically into an empty space. The objective of the game is to move the red counter from the top left corner of a grid to the bottom right corner; the space always starts in the bottom right corner. For example, the following sequence of pictures show how the game can be completed in five moves on a $2$ by $2$ grid.\n",
    "\n",
    "![0313_sliding_game_1.gif](resources/0313_sliding_game_1.gif)\n",
    "\n",
    "Let $S(m,n)$ represent the minimum number of moves to complete the game on an $m$ by $n$ grid. For example, it can be verified that $S(5,4) = 25$.\n",
    "\n",
    "![0313_sliding_game_2.gif](resources/0313_sliding_game_2.gif)\n",
    "\n",
    "There are exactly $5482$ grids for which $S(m,n) = p^2$, where $p \\lt 100$ is prime.\n",
    "\n",
    "How many grids does $S(m,n) = p^2$, where $p \\lt 10^6$ is prime?"
   ]
  },
  {
   "cell_type": "code",
   "execution_count": null,
   "id": "eb956853",
   "metadata": {},
   "outputs": [],
   "source": [
    "# Problem 313 workspace"
   ]
  },
  {
   "cell_type": "markdown",
   "id": "247d8d77",
   "metadata": {},
   "source": [
    "## Answer: "
   ]
  },
  {
   "cell_type": "markdown",
   "id": "69de53ef",
   "metadata": {},
   "source": [
    "___"
   ]
  },
  {
   "cell_type": "markdown",
   "id": "e76027c0",
   "metadata": {},
   "source": [
    "# Problem 314\n",
    " [Source](https://projecteuler.net/problem=314)"
   ]
  },
  {
   "cell_type": "markdown",
   "id": "75376d73",
   "metadata": {},
   "source": [
    "The moon has been opened up, and land can be obtained for free, but there is a catch. You have to build a wall around the land that you stake out, and building a wall on the moon is expensive. Every country has been allotted a $\\pu{500 m}$ by $\\pu{500 m}$ square area, but they will possess only that area which they wall in. $251001$ posts have been placed in a rectangular grid with $1$ meter spacing. The wall must be a closed series of straight lines, each line running from post to post.\n",
    "\n",
    "The bigger countries of course have built a $\\pu{2000 m}$ wall enclosing the entire $\\pu{250 000 m^2}$ area. The\n",
    "[Duchy of Grand Fenwick](http://en.wikipedia.org/wiki/Grand_Fenwick)\n",
    ", has a tighter budget, and has asked you (their Royal Programmer) to compute what shape would get best maximum enclosed-area/wall-length ratio.\n",
    "\n",
    "You have done some preliminary calculations on a sheet of paper.\n",
    "For a $2000$ meter wall enclosing the $\\pu{250 000 m^2}$ area the\n",
    "enclosed-area/wall-length ratio is $125$.\n",
    "  \n",
    "Although not allowed , but to get an idea if this is anything better: if you place a circle inside the square area touching the four sides the area will be equal to $\\pi \\times \\pu{250^2 m^2}$ and the perimeter will be $\\pi \\times \\pu{500 m}$, so the enclosed-area/wall-length ratio will also be $125$.\n",
    "\n",
    "However, if you cut off from the square four triangles with sides $\\pu{75 m}$, $\\pu{75 m}$ and $75\\pu{\\sqrt 2 m}$ the total area becomes $\\pu{238750 m^2}$ and the perimeter becomes $1400+300\\pu{\\sqrt 2 m}$. So this gives an enclosed-area/wall-length ratio of $130.87$, which is significantly better.\n",
    "\n",
    "![0314_landgrab.gif](resources/0314_landgrab.gif)\n",
    "\n",
    "Find the maximum enclosed-area/wall-length ratio.\n",
    "  \n",
    "Give your answer rounded to $8$ places behind the decimal point in the form abc.defghijk."
   ]
  },
  {
   "cell_type": "code",
   "execution_count": null,
   "id": "1dd722b4",
   "metadata": {},
   "outputs": [],
   "source": [
    "# Problem 314 workspace"
   ]
  },
  {
   "cell_type": "markdown",
   "id": "a6ae8cd4",
   "metadata": {},
   "source": [
    "## Answer: "
   ]
  },
  {
   "cell_type": "markdown",
   "id": "ed2b227c",
   "metadata": {},
   "source": [
    "___"
   ]
  },
  {
   "cell_type": "markdown",
   "id": "4fe03cb9",
   "metadata": {},
   "source": [
    "# Problem 315\n",
    " [Source](https://projecteuler.net/problem=315)"
   ]
  },
  {
   "cell_type": "markdown",
   "id": "1aa4e2bc",
   "metadata": {},
   "source": [
    "![0315_clocks.gif](resources/0315_clocks.gif)\n",
    "\n",
    "Sam and Max are asked to transform two digital clocks into two \"digital root\" clocks.\n",
    "  \n",
    "A digital root clock is a digital clock that calculates digital roots step by step.\n",
    "\n",
    "When a clock is fed a number, it will show it and then it will start the calculation, showing all the intermediate values until it gets to the result.\n",
    "  \n",
    "For example, if the clock is fed the number 137, it will show: \"\n",
    "**137**\n",
    "\" → \"\n",
    "**11**\n",
    "\" → \"\n",
    "**2**\n",
    "\" and then it will go black, waiting for the next number.\n",
    "\n",
    "Every digital number consists of some light segments: three horizontal (top, middle, bottom) and four vertical (top-left, top-right, bottom-left, bottom-right).\n",
    "  \n",
    "Number \"\n",
    "**1**\n",
    "\" is made of vertical top-right and bottom-right, number \"\n",
    "**4**\n",
    "\" is made by middle horizontal and vertical top-left, top-right and bottom-right. Number \"\n",
    "**8**\n",
    "\" lights them all.\n",
    "\n",
    "The clocks consume energy only when segments are turned on/off.\n",
    "  \n",
    "To turn on a \"\n",
    "**2**\n",
    "\" will cost 5 transitions, while a \"\n",
    "**7**\n",
    "\" will cost only 4 transitions.\n",
    "\n",
    "Sam and Max built two different clocks.\n",
    "\n",
    "Sam's clock is fed e.g. number 137: the clock shows \"\n",
    "**137**\n",
    "\", then the panel is turned off, then the next number (\"\n",
    "**11**\n",
    "\") is turned on, then the panel is turned off again and finally the last number (\"\n",
    "**2**\n",
    "\") is turned on and, after some time, off.\n",
    "  \n",
    "For the example, with number 137, Sam's clock requires:\n",
    "\n",
    "|  |  |  |\n",
    "| --- | --- | --- |\n",
    "| \" **137** \" | : | (2 + 5 + 4) × 2 = 22 transitions (\" **137** \" on/off). |\n",
    "| \" **11** \" | : | (2 + 2) × 2 = 8 transitions (\" **11** \" on/off). |\n",
    "| \" **2** \" | : | (5) × 2 = 10 transitions (\" **2** \" on/off). |\n",
    "\n",
    "For a grand total of 40 transitions.\n",
    "\n",
    "Max's clock works differently. Instead of turning off the whole panel, it is smart enough to turn off only those segments that won't be needed for the next number.\n",
    "  \n",
    "For number 137, Max's clock requires:\n",
    "\n",
    "|  |  |  |\n",
    "| --- | --- | --- |\n",
    "| \" **137** \" | : | 2 + 5 + 4 = 11 transitions (\" **137** \" on)   7 transitions (to turn off the segments that are not needed for number \" **11** \"). |\n",
    "| \" **11** \" | : | 0 transitions (number \" **11** \" is already turned on correctly)   3 transitions (to turn off the first \" **1** \" and the bottom part of the second \" **1** \";   the top part is common with number \" **2** \"). |\n",
    "| \" **2** \" | : | 4 transitions (to turn on the remaining segments in order to get a \" **2** \")   5 transitions (to turn off number \" **2** \"). |\n",
    "\n",
    "For a grand total of 30 transitions.\n",
    "\n",
    "Of course, Max's clock consumes less power than Sam's one.\n",
    "  \n",
    "The two clocks are fed all the prime numbers between A = 10\n",
    "7\n",
    "and B = 2×10\n",
    "7\n",
    ".\n",
    "  \n",
    "Find the difference between the total number of transitions needed by Sam's clock and that needed by Max's one."
   ]
  },
  {
   "cell_type": "code",
   "execution_count": null,
   "id": "ef0f974c",
   "metadata": {},
   "outputs": [],
   "source": [
    "# Problem 315 workspace"
   ]
  },
  {
   "cell_type": "markdown",
   "id": "6436cd70",
   "metadata": {},
   "source": [
    "## Answer: "
   ]
  },
  {
   "cell_type": "markdown",
   "id": "5687b949",
   "metadata": {},
   "source": [
    "___"
   ]
  },
  {
   "cell_type": "markdown",
   "id": "5c1bfeec",
   "metadata": {},
   "source": [
    "# Problem 316\n",
    " [Source](https://projecteuler.net/problem=316)"
   ]
  },
  {
   "cell_type": "markdown",
   "id": "4504246e",
   "metadata": {},
   "source": [
    "Let $p = p\\_1 p\\_2 p\\_3 \\cdots$ be an infinite sequence of random digits, selected from $\\{0,1,2,3,4,5,6,7,8,9\\}$ with equal probability.\n",
    "  \n",
    "It can be seen that $p$ corresponds to the real number $0.p\\_1 p\\_2 p\\_3 \\cdots$\n",
    "  \n",
    "It can also be seen that choosing a random real number from the interval $[0,1)$ is equivalent to choosing an infinite sequence of random digits selected from $\\{0,1,2,3,4,5,6,7,8,9\\}$ with equal probability.\n",
    "\n",
    "For any positive integer $n$ with $d$ decimal digits, let $k$ be the smallest index such that $p\\_k, p\\_{k + 1}, \\dots, p\\_{k + d - 1}$ are the decimal digits of $n$, in the same order.\n",
    "  \n",
    "Also, let $g(n)$ be the expected value of $k$; it can be proven that $g(n)$ is always finite and, interestingly, always an integer number.\n",
    "\n",
    "For example, if $n = 535$, then\n",
    "  \n",
    "for $p = 31415926\\mathbf{535}897\\cdots$, we get $k = 9$\n",
    "  \n",
    "for $p = 35528714365004956000049084876408468\\mathbf{535}4\\cdots$, we get $k = 36$\n",
    "  \n",
    "etc and we find that $g(535) = 1008$.\n",
    "\n",
    "Given that $\\displaystyle\\sum\\_{n = 2}^{999} g \\left(\\left\\lfloor\\frac{10^6} n \\right\\rfloor\\right) = 27280188$, find $\\displaystyle\\sum\\_{n = 2}^{999999} g \\left(\\left\\lfloor\\frac{10^{16}} n \\right\\rfloor\\right)$.\n",
    "\n",
    "*Note*\n",
    ": $\\lfloor x \\rfloor$ represents the floor function."
   ]
  },
  {
   "cell_type": "code",
   "execution_count": null,
   "id": "b3ea99d8",
   "metadata": {},
   "outputs": [],
   "source": [
    "# Problem 316 workspace"
   ]
  },
  {
   "cell_type": "markdown",
   "id": "084674d1",
   "metadata": {},
   "source": [
    "## Answer: "
   ]
  },
  {
   "cell_type": "markdown",
   "id": "a1753010",
   "metadata": {},
   "source": [
    "___"
   ]
  },
  {
   "cell_type": "markdown",
   "id": "fa6bf9da",
   "metadata": {},
   "source": [
    "# Problem 317\n",
    " [Source](https://projecteuler.net/problem=317)"
   ]
  },
  {
   "cell_type": "markdown",
   "id": "4101e717",
   "metadata": {},
   "source": [
    "A firecracker explodes at a height of $\\pu{100 m}$ above level ground. It breaks into a large number of very small fragments, which move in every direction; all of them have the same initial velocity of $\\pu{20 m/s}$.\n",
    "\n",
    "We assume that the fragments move without air resistance, in a uniform gravitational field with $g=\\pu{9.81 m/s^2}$.\n",
    "\n",
    "Find the volume (in $\\pu{m^3}$) of the region through which the fragments move before reaching the ground.\n",
    "Give your answer rounded to four decimal places."
   ]
  },
  {
   "cell_type": "code",
   "execution_count": null,
   "id": "068ff130",
   "metadata": {},
   "outputs": [],
   "source": [
    "# Problem 317 workspace"
   ]
  },
  {
   "cell_type": "markdown",
   "id": "ae887957",
   "metadata": {},
   "source": [
    "## Answer: "
   ]
  },
  {
   "cell_type": "markdown",
   "id": "4880530f",
   "metadata": {},
   "source": [
    "___"
   ]
  },
  {
   "cell_type": "markdown",
   "id": "5ecd1ce7",
   "metadata": {},
   "source": [
    "# Problem 318\n",
    " [Source](https://projecteuler.net/problem=318)"
   ]
  },
  {
   "cell_type": "markdown",
   "id": "8d0303d5",
   "metadata": {},
   "source": [
    "Consider the real number $\\sqrt 2 + \\sqrt 3$.\n",
    "  \n",
    "When we calculate the even powers of $\\sqrt 2 + \\sqrt 3$\n",
    "we get:\n",
    "  \n",
    "$(\\sqrt 2 + \\sqrt 3)^2 = 9.898979485566356 \\cdots $\n",
    "  \n",
    "$(\\sqrt 2 + \\sqrt 3)^4 = 97.98979485566356 \\cdots $\n",
    "  \n",
    "$(\\sqrt 2 + \\sqrt 3)^6 = 969.998969071069263 \\cdots $\n",
    "  \n",
    "$(\\sqrt 2 + \\sqrt 3)^8 = 9601.99989585502907 \\cdots $\n",
    "  \n",
    "$(\\sqrt 2 + \\sqrt 3)^{10} = 95049.999989479221 \\cdots $\n",
    "  \n",
    "$(\\sqrt 2 + \\sqrt 3)^{12} = 940897.9999989371855 \\cdots $\n",
    "  \n",
    "$(\\sqrt 2 + \\sqrt 3)^{14} = 9313929.99999989263 \\cdots $\n",
    "  \n",
    "$(\\sqrt 2 + \\sqrt 3)^{16} = 92198401.99999998915 \\cdots $\n",
    "\n",
    "It looks as if the number of consecutive nines at the beginning of the fractional part of these powers is non-decreasing.\n",
    "  \n",
    "In fact it can be proven that the fractional part of $(\\sqrt 2 + \\sqrt 3)^{2 n}$ approaches $1$ for large $n$.\n",
    "\n",
    "Consider all real numbers of the form $\\sqrt p + \\sqrt q$ with $p$ and $q$ positive integers and $p < q$, such that the fractional part\n",
    "of $(\\sqrt p + \\sqrt q)^{ 2 n}$ approaches $1$ for large $n$.\n",
    "\n",
    "Let $C(p,q,n)$ be the number of consecutive nines at the beginning of the fractional part of $(\\sqrt p + \\sqrt q)^{ 2 n}$.\n",
    "\n",
    "Let $N(p,q)$ be the minimal value of $n$ such that $C(p,q,n) \\ge 2011$.\n",
    "\n",
    "Find $\\displaystyle \\sum N(p,q) \\,\\, \\text{ for } p+q \\le 2011$."
   ]
  },
  {
   "cell_type": "code",
   "execution_count": null,
   "id": "f87c2f50",
   "metadata": {},
   "outputs": [],
   "source": [
    "# Problem 318 workspace"
   ]
  },
  {
   "cell_type": "markdown",
   "id": "2e1a302a",
   "metadata": {},
   "source": [
    "## Answer: "
   ]
  },
  {
   "cell_type": "markdown",
   "id": "505c9393",
   "metadata": {},
   "source": [
    "___"
   ]
  },
  {
   "cell_type": "markdown",
   "id": "a988a2a3",
   "metadata": {},
   "source": [
    "# Problem 319\n",
    " [Source](https://projecteuler.net/problem=319)"
   ]
  },
  {
   "cell_type": "markdown",
   "id": "f9cc86bb",
   "metadata": {},
   "source": [
    "Let $x\\_1, x\\_2, \\dots, x\\_n$ be a sequence of length $n$ such that:\n",
    "\n",
    "* $x\\_1 = 2$\n",
    "* for all $1 \\lt i \\le n$: $x\\_{i - 1} \\lt x\\_i$\n",
    "* for all $i$ and $j$ with $1 \\le i, j \\le n$: $(x\\_i)^j \\lt (x\\_j + 1)^i$.\n",
    "\n",
    "There are only five such sequences of length $2$, namely:\n",
    "$\\{2,4\\}$, $\\{2,5\\}$, $\\{2,6\\}$, $\\{2,7\\}$ and $\\{2,8\\}$.\n",
    "  \n",
    "There are $293$ such sequences of length $5$; three examples are given below:\n",
    "  \n",
    "$\\{2,5,11,25,55\\}$, $\\{2,6,14,36,88\\}$, $\\{2,8,22,64,181\\}$.\n",
    "\n",
    "Let $t(n)$ denote the number of such sequences of length $n$.\n",
    "  \n",
    "You are given that $t(10) = 86195$ and $t(20) = 5227991891$.\n",
    "\n",
    "Find $t(10^{10})$ and give your answer modulo $10^9$."
   ]
  },
  {
   "cell_type": "code",
   "execution_count": null,
   "id": "0f48cdc6",
   "metadata": {},
   "outputs": [],
   "source": [
    "# Problem 319 workspace"
   ]
  },
  {
   "cell_type": "markdown",
   "id": "60c6c788",
   "metadata": {},
   "source": [
    "## Answer: "
   ]
  },
  {
   "cell_type": "markdown",
   "id": "f8bc4b14",
   "metadata": {},
   "source": [
    "___"
   ]
  },
  {
   "cell_type": "markdown",
   "id": "e02b2c4d",
   "metadata": {},
   "source": [
    "# Problem 320\n",
    " [Source](https://projecteuler.net/problem=320)"
   ]
  },
  {
   "cell_type": "markdown",
   "id": "1a508545",
   "metadata": {},
   "source": [
    "Let $N(i)$ be the smallest integer $n$ such that $n!$ is divisible by $(i!)^{1234567890}$\n",
    "\n",
    "Let $S(u)=\\sum N(i)$ for $10 \\le i \\le u$.\n",
    "\n",
    "$S(1000)=614538266565663$.\n",
    "\n",
    "Find $S(1\\,000\\,000) \\bmod 10^{18}$."
   ]
  },
  {
   "cell_type": "code",
   "execution_count": null,
   "id": "66a8a090",
   "metadata": {},
   "outputs": [],
   "source": [
    "# Problem 320 workspace"
   ]
  },
  {
   "cell_type": "markdown",
   "id": "a8ccaa50",
   "metadata": {},
   "source": [
    "## Answer: "
   ]
  },
  {
   "cell_type": "markdown",
   "id": "3fef8aa2",
   "metadata": {},
   "source": [
    "___"
   ]
  }
 ],
 "metadata": {},
 "nbformat": 4,
 "nbformat_minor": 5
}
