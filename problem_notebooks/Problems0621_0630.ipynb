{
 "cells": [
  {
   "cell_type": "markdown",
   "id": "bdb44440",
   "metadata": {},
   "source": [
    "# Problem 621\n",
    " [Source](https://projecteuler.net/problem=621)"
   ]
  },
  {
   "cell_type": "markdown",
   "id": "d705e5ce",
   "metadata": {},
   "source": [
    "Gauss famously proved that every positive integer can be expressed as the sum of three\n",
    "**triangular numbers**\n",
    "(including $0$ as the lowest triangular number). In fact most numbers can be expressed as a sum of three triangular numbers in several ways.\n",
    "\n",
    "Let $G(n)$ be the number of ways of expressing $n$ as the sum of three triangular numbers, regarding different arrangements of the terms of the sum as distinct.\n",
    "\n",
    "For example, $G(9) = 7$, as $9$ can be expressed as: $3+3+3$, $0+3+6$, $0+6+3$, $3+0+6$, $3+6+0$, $6+0+3$, $6+3+0$.\n",
    "  \n",
    "You are given $G(1000) = 78$ and $G(10^6) = 2106$.\n",
    "\n",
    "Find $G(17526 \\times 10^9)$."
   ]
  },
  {
   "cell_type": "code",
   "execution_count": null,
   "id": "38bdaf62",
   "metadata": {},
   "outputs": [],
   "source": [
    "# Problem 621 workspace"
   ]
  },
  {
   "cell_type": "markdown",
   "id": "3aea390a",
   "metadata": {},
   "source": [
    "## Answer: "
   ]
  },
  {
   "cell_type": "markdown",
   "id": "b5c7221e",
   "metadata": {},
   "source": [
    "___"
   ]
  },
  {
   "cell_type": "markdown",
   "id": "6bf43085",
   "metadata": {},
   "source": [
    "# Problem 622\n",
    " [Source](https://projecteuler.net/problem=622)"
   ]
  },
  {
   "cell_type": "markdown",
   "id": "2894afb2",
   "metadata": {},
   "source": [
    "A riffle shuffle is executed as follows: a deck of cards is split into two equal halves, with the top half taken in the left hand and the bottom half taken in the right hand. Next, the cards are interleaved exactly, with the top card in the right half inserted just after the top card in the left half, the 2nd card in the right half just after the 2nd card in the left half, etc. (Note that this process preserves the location of the top and bottom card of the deck)\n",
    "\n",
    "Let $s(n)$ be the minimum number of consecutive riffle shuffles needed to restore a deck of size $n$ to its original configuration, where $n$ is a positive even number.\n",
    "\n",
    "Amazingly, a standard deck of $52$ cards will first return to its original configuration after only $8$ perfect shuffles, so $s(52) = 8$. It can be verified that a deck of $86$ cards will also return to its original configuration after exactly $8$ shuffles, and the sum of all values of $n$ that satisfy $s(n) = 8$ is $412$.\n",
    "\n",
    "Find the sum of all values of n that satisfy $s(n) = 60$."
   ]
  },
  {
   "cell_type": "code",
   "execution_count": null,
   "id": "455e63a4",
   "metadata": {},
   "outputs": [],
   "source": [
    "# Problem 622 workspace"
   ]
  },
  {
   "cell_type": "markdown",
   "id": "3603dcd5",
   "metadata": {},
   "source": [
    "## Answer: "
   ]
  },
  {
   "cell_type": "markdown",
   "id": "c7c6f0ec",
   "metadata": {},
   "source": [
    "___"
   ]
  },
  {
   "cell_type": "markdown",
   "id": "07e8fa26",
   "metadata": {},
   "source": [
    "# Problem 623\n",
    " [Source](https://projecteuler.net/problem=623)"
   ]
  },
  {
   "cell_type": "markdown",
   "id": "34b2f7f5",
   "metadata": {},
   "source": [
    "The\n",
    "**lambda-calculus**\n",
    "is a universal model of computation at the core of functional programming languages. It is based on\n",
    "**lambda-terms**\n",
    ", a minimal programming language featuring only function definitions, function calls and variables. Lambda-terms are built according to the following rules:\n",
    "\n",
    "* Any\n",
    "  **variable**\n",
    "  $x$ (single letter, from some infinite alphabet) is a lambda-term.\n",
    "* If $M$ and $N$ are lambda-terms, then $(M N)$ is a lambda-term, called the\n",
    "  **application**\n",
    "  of $M$ to $N$.\n",
    "* If $x$ is a variable and $M$ is a term, then $(\\lambda x. M)$ is a lambda-term, called an\n",
    "  **abstraction**\n",
    "  . An abstraction defines an anonymous function, taking $x$ as parameter and sending back $M$.\n",
    "\n",
    "A lambda-term $T$ is said to be\n",
    "**closed**\n",
    "if for all variables $x$, all occurrences of $x$ within $T$ are contained within some abstraction $(\\lambda x. M)$ in $T$. The smallest such abstraction is said to\n",
    "**bind**\n",
    "the occurrence of the variable $x$. In other words, a lambda-term is closed if all its variables are bound to parameters of enclosing functions definitions. For example, the term $(\\lambda x. x)$ is closed, while the term $(\\lambda x. (x y))$ is not because $y$ is not bound.\n",
    "\n",
    "Also, we can rename variables as long as no binding abstraction changes. This means that $(\\lambda x. x)$ and $(\\lambda y. y)$ should be considered equivalent since we merely renamed a parameter. Two terms equivalent modulo such renaming are called\n",
    "*$\\alpha$-equivalent*\n",
    ". Note that $(\\lambda x. (\\lambda y. (x y)))$ and $(\\lambda x. (\\lambda x. (x x)))$ are not $\\alpha$-equivalent, since the abstraction binding the first variable was the outer one and becomes the inner one. However, $(\\lambda x. (\\lambda y. (x y)))$ and $(\\lambda y. (\\lambda x. (y x)))$ are $\\alpha$-equivalent.\n",
    "\n",
    "The following table regroups the lambda-terms that can be written with at most $15$ symbols, symbols being parenthesis, $\\lambda$, dot and variables.\n",
    "\n",
    "$$\\begin{array}{|c|c|c|c|}\n",
    "\\hline\n",
    "(\\lambda x.x) & (\\lambda x.(x x)) & (\\lambda x.(\\lambda y.x)) & (\\lambda x.(\\lambda y.y)) \\\\\n",
    "\\hline\n",
    "(\\lambda x.(x (x x))) & (\\lambda x.((x x) x)) & (\\lambda x.(\\lambda y.(x x))) & (\\lambda x.(\\lambda y.(x y))) \\\\\n",
    "\\hline\n",
    "(\\lambda x.(\\lambda y.(y x))) & (\\lambda x.(\\lambda y.(y y))) & (\\lambda x.(x (\\lambda y.x))) & (\\lambda x.(x (\\lambda y.y))) \\\\\n",
    "\\hline\n",
    "(\\lambda x.((\\lambda y.x) x)) & (\\lambda x.((\\lambda y.y) x)) & ((\\lambda x.x) (\\lambda x.x)) & (\\lambda x.(x (x (x x)))) \\\\\n",
    "\\hline\n",
    "(\\lambda x.(x ((x x) x))) & (\\lambda x.((x x) (x x))) & (\\lambda x.((x (x x)) x)) & (\\lambda x.(((x x) x) x)) \\\\\n",
    "\\hline\n",
    "\\end{array}$$\n",
    "\n",
    "Let be $\\Lambda(n)$ the number of distinct closed lambda-terms that can be written using at most $n$ symbols, where terms that are $\\alpha$-equivalent to one another should be counted only once. You are given that $\\Lambda(6) = 1$, $\\Lambda(9) = 2$, $\\Lambda(15) = 20$ and $\\Lambda(35) = 3166438$.\n",
    "\n",
    "Find $\\Lambda(2000)$. Give the answer modulo $1\\,000\\,000\\,007$."
   ]
  },
  {
   "cell_type": "code",
   "execution_count": null,
   "id": "4fa6c315",
   "metadata": {},
   "outputs": [],
   "source": [
    "# Problem 623 workspace"
   ]
  },
  {
   "cell_type": "markdown",
   "id": "b6d43bfc",
   "metadata": {},
   "source": [
    "## Answer: "
   ]
  },
  {
   "cell_type": "markdown",
   "id": "1e48c358",
   "metadata": {},
   "source": [
    "___"
   ]
  },
  {
   "cell_type": "markdown",
   "id": "41de4e5e",
   "metadata": {},
   "source": [
    "# Problem 624\n",
    " [Source](https://projecteuler.net/problem=624)"
   ]
  },
  {
   "cell_type": "markdown",
   "id": "e4c86e53",
   "metadata": {},
   "source": [
    "An unbiased coin is tossed repeatedly until two consecutive heads are obtained. Suppose these occur on the $(M-1)$th and $M$th toss.\n",
    "  \n",
    "Let $P(n)$ be the probability that $M$ is divisible by $n$. For example, the outcomes HH, HTHH, and THTTHH all count towards $P(2)$, but THH and HTTHH do not.\n",
    "\n",
    "You are given that $P(2) =\\frac 3 5$ and $P(3)=\\frac 9 {31}$. Indeed, it can be shown that $P(n)$ is always a rational number.\n",
    "\n",
    "For a prime $p$ and a fully reduced fraction $\\frac a b$, define $Q(\\frac a b,p)$ to be the smallest positive $q$ for which $a \\equiv b q \\pmod{p}$.\n",
    "  \n",
    "For example $Q(P(2), 109) = Q(\\frac 3 5, 109) = 66$, because $5 \\cdot 66 = 330 \\equiv 3 \\pmod{109}$ and $66$ is the smallest positive such number.\n",
    "  \n",
    "Similarly $Q(P(3),109) = 46$.\n",
    "\n",
    "Find $Q(P(10^{18}),1\\,000\\,000\\,009)$."
   ]
  },
  {
   "cell_type": "code",
   "execution_count": null,
   "id": "fbc71ac5",
   "metadata": {},
   "outputs": [],
   "source": [
    "# Problem 624 workspace"
   ]
  },
  {
   "cell_type": "markdown",
   "id": "2901287c",
   "metadata": {},
   "source": [
    "## Answer: "
   ]
  },
  {
   "cell_type": "markdown",
   "id": "f821f423",
   "metadata": {},
   "source": [
    "___"
   ]
  },
  {
   "cell_type": "markdown",
   "id": "27d81deb",
   "metadata": {},
   "source": [
    "# Problem 625\n",
    " [Source](https://projecteuler.net/problem=625)"
   ]
  },
  {
   "cell_type": "markdown",
   "id": "741f1478",
   "metadata": {},
   "source": [
    "$G(N)=\\sum\\_{j=1}^N\\sum\\_{i=1}^j \\gcd(i,j)$.\n",
    "  \n",
    "You are given: $G(10)=122$.\n",
    "\n",
    "Find $G(10^{11})$. Give your answer modulo $998244353$."
   ]
  },
  {
   "cell_type": "code",
   "execution_count": null,
   "id": "c97c36d0",
   "metadata": {},
   "outputs": [],
   "source": [
    "# Problem 625 workspace"
   ]
  },
  {
   "cell_type": "markdown",
   "id": "81006b5b",
   "metadata": {},
   "source": [
    "## Answer: "
   ]
  },
  {
   "cell_type": "markdown",
   "id": "b3f5279d",
   "metadata": {},
   "source": [
    "___"
   ]
  },
  {
   "cell_type": "markdown",
   "id": "3732a30a",
   "metadata": {},
   "source": [
    "# Problem 626\n",
    " [Source](https://projecteuler.net/problem=626)"
   ]
  },
  {
   "cell_type": "markdown",
   "id": "f36df608",
   "metadata": {},
   "source": [
    "A binary matrix is a matrix consisting entirely of $0$s and $1$s. Consider the following transformations that can be performed on a binary matrix:\n",
    "\n",
    "* Swap any two rows\n",
    "* Swap any two columns\n",
    "* Flip all elements in a single row ($1$s become $0$s, $0$s become $1$s)\n",
    "* Flip all elements in a single column\n",
    "\n",
    "Two binary matrices $A$ and $B$ will be considered\n",
    "equivalent\n",
    "if there is a sequence of such transformations that when applied to $A$ yields $B$. For example, the following two matrices are equivalent:\n",
    "\n",
    "$A=\\begin{pmatrix}\n",
    "1 & 0 & 1 \\\\\n",
    "0 & 0 & 1 \\\\\n",
    "0 & 0 & 0 \\\\\n",
    "\\end{pmatrix} \\quad B=\\begin{pmatrix}\n",
    "0 & 0 & 0 \\\\\n",
    "1 & 0 & 0 \\\\\n",
    "0 & 0 & 1 \\\\\n",
    "\\end{pmatrix}$\n",
    "\n",
    "via the sequence of two transformations \"Flip all elements in column 3\" followed by \"Swap rows 1 and 2\".\n",
    "\n",
    "Define $c(n)$ to be the maximum number of $n\\times n$ binary matrices that can be found such that no two are equivalent. For example, $c(3)=3$. You are also given that $c(5)=39$ and $c(8)=656108$.\n",
    "\n",
    "Find $c(20)$, and give your answer modulo $1\\,001\\,001\\,011$."
   ]
  },
  {
   "cell_type": "code",
   "execution_count": null,
   "id": "037e7eb4",
   "metadata": {},
   "outputs": [],
   "source": [
    "# Problem 626 workspace"
   ]
  },
  {
   "cell_type": "markdown",
   "id": "e994619f",
   "metadata": {},
   "source": [
    "## Answer: "
   ]
  },
  {
   "cell_type": "markdown",
   "id": "03a1bb54",
   "metadata": {},
   "source": [
    "___"
   ]
  },
  {
   "cell_type": "markdown",
   "id": "a0182edf",
   "metadata": {},
   "source": [
    "# Problem 627\n",
    " [Source](https://projecteuler.net/problem=627)"
   ]
  },
  {
   "cell_type": "markdown",
   "id": "673ac5de",
   "metadata": {},
   "source": [
    "Consider the set $S$ of all possible products of $n$ positive integers not exceeding $m$, that is\n",
    "  \n",
    "$S=\\{ x\\_1x\\_2\\cdots x\\_n \\mid 1 \\le x\\_1, x\\_2, \\dots, x\\_n \\le m \\}$.\n",
    "  \n",
    "Let $F(m,n)$ be the number of the distinct elements of the set $S$.\n",
    "  \n",
    "For example, $F(9, 2) = 36$ and $F(30,2)=308$.\n",
    "\n",
    "Find $F(30, 10001) \\bmod 1\\,000\\,000\\,007$."
   ]
  },
  {
   "cell_type": "code",
   "execution_count": null,
   "id": "42613c7f",
   "metadata": {},
   "outputs": [],
   "source": [
    "# Problem 627 workspace"
   ]
  },
  {
   "cell_type": "markdown",
   "id": "31e26101",
   "metadata": {},
   "source": [
    "## Answer: "
   ]
  },
  {
   "cell_type": "markdown",
   "id": "103ed352",
   "metadata": {},
   "source": [
    "___"
   ]
  },
  {
   "cell_type": "markdown",
   "id": "00463ae1",
   "metadata": {},
   "source": [
    "# Problem 628\n",
    " [Source](https://projecteuler.net/problem=628)"
   ]
  },
  {
   "cell_type": "markdown",
   "id": "36f4ef25",
   "metadata": {},
   "source": [
    "A position in chess is an (orientated) arrangement of chess pieces placed on a chessboard of given size. In the following, we consider all positions in which $n$ pawns are placed on a $n \\times n$\n",
    "board in such a way, that there is a single pawn in every row and every column.\n",
    "\n",
    "We call such a position an\n",
    "open\n",
    "position, if a rook, starting at the (empty) lower left corner and using only moves towards the right or upwards, can reach the upper right corner without moving onto any field occupied by a pawn.\n",
    "\n",
    "Let $f(n)$ be the number of open positions for a $n \\times n$ chessboard.\n",
    "  \n",
    "For example, $f(3)=2$, illustrated by the two open positions for a $3 \\times 3$ chessboard below.\n",
    "\n",
    "|  |  |  |\n",
    "| --- | --- | --- |\n",
    "| Open position 1 |  | Open position 2 |\n",
    "\n",
    "You are also given $f(5)=70$.\n",
    "\n",
    "Find $f(10^8)$ modulo $1\\,008\\,691\\,207$."
   ]
  },
  {
   "cell_type": "code",
   "execution_count": null,
   "id": "3fd9bbbe",
   "metadata": {},
   "outputs": [],
   "source": [
    "# Problem 628 workspace"
   ]
  },
  {
   "cell_type": "markdown",
   "id": "d1807274",
   "metadata": {},
   "source": [
    "## Answer: "
   ]
  },
  {
   "cell_type": "markdown",
   "id": "0c623d0d",
   "metadata": {},
   "source": [
    "___"
   ]
  },
  {
   "cell_type": "markdown",
   "id": "9c2b44ae",
   "metadata": {},
   "source": [
    "# Problem 629\n",
    " [Source](https://projecteuler.net/problem=629)"
   ]
  },
  {
   "cell_type": "markdown",
   "id": "4461b37f",
   "metadata": {},
   "source": [
    "Alice and Bob are playing a modified game of Nim called Scatterstone Nim, with Alice going first, alternating turns with Bob. The game begins with an arbitrary set of stone piles with a total number of stones equal to $n$.\n",
    "\n",
    "During a player's turn, he/she must pick a pile having at least $2$ stones and perform a split operation, dividing the pile into an arbitrary set of $p$ non-empty, arbitrarily-sized piles where $2 \\leq p \\leq k$ for some fixed constant $k$. For example, a pile of size $4$ can be split into $\\{1, 3\\}$ or $\\{2, 2\\}$, or $\\{1, 1, 2\\}$ if $k = 3$ and in addition $\\{1, 1, 1, 1\\}$ if $k = 4$.\n",
    "\n",
    "If no valid move is possible on a given turn, then the other player wins the game.\n",
    "\n",
    "A winning position is defined as a set of stone piles where a player can ultimately ensure victory no matter what the other player does.\n",
    "\n",
    "Let $f(n,k)$ be the number of winning positions for Alice on her first turn, given parameters $n$ and $k$. For example, $f(5, 2) = 3$ with winning positions $\\{1, 1, 1, 2\\}, \\{1, 4\\}, \\{2, 3\\}$. In contrast, $f(5, 3) = 5$ with winning positions $\\{1, 1, 1, 2\\}, \\{1, 1, 3\\}, \\{1, 4\\}, \\{2, 3\\}, \\{5\\}$.\n",
    "\n",
    "Let $g(n)$ be the sum of $f(n,k)$ over all $2 \\leq k \\leq n$. For example, $g(7)=66$ and $g(10)=291$.\n",
    "\n",
    "Find $g(200) \\bmod (10^9 + 7)$."
   ]
  },
  {
   "cell_type": "code",
   "execution_count": null,
   "id": "db2ed0c4",
   "metadata": {},
   "outputs": [],
   "source": [
    "# Problem 629 workspace"
   ]
  },
  {
   "cell_type": "markdown",
   "id": "0b53653d",
   "metadata": {},
   "source": [
    "## Answer: "
   ]
  },
  {
   "cell_type": "markdown",
   "id": "27cd467e",
   "metadata": {},
   "source": [
    "___"
   ]
  },
  {
   "cell_type": "markdown",
   "id": "ff40f100",
   "metadata": {},
   "source": [
    "# Problem 630\n",
    " [Source](https://projecteuler.net/problem=630)"
   ]
  },
  {
   "cell_type": "markdown",
   "id": "192a22b9",
   "metadata": {},
   "source": [
    "Given a set, $L$, of unique lines, let $M(L)$ be the number of lines in the set and let $S(L)$ be the sum over every line of the number of times that line is crossed by another line in the set. For example, two sets of three lines are shown below:\n",
    "\n",
    "![crossed lines](resources/0630_threelines.png)\n",
    "\n",
    "In both cases $M(L)$ is $3$ and $S(L)$ is $6$: each of the three lines is crossed by two other lines. Note that even if the lines cross at a single point, all of the separate crossings of lines are counted.\n",
    "\n",
    "Consider points $(T\\_{2k-1}, T\\_{2k})$, for integer $k \\ge 1$, generated in the following way:\n",
    "\n",
    "$S\\_0 = 290797$\n",
    "  \n",
    "$S\\_{n+1} = S\\_n^2 \\bmod 50515093$\n",
    "  \n",
    "$T\\_n = (S\\_n \\bmod 2000) - 1000$\n",
    "\n",
    "For example, the first three points are: $(527, 144)$, $(-488, 732)$, $(-454, -947)$. Given the first $n$ points generated in this manner, let $L\\_n$ be the set of\n",
    "**unique**\n",
    "lines that can be formed by joining each point with every other point, the lines being extended indefinitely in both directions. We can then define $M(L\\_n)$ and $S(L\\_n)$ as described above.\n",
    "\n",
    "For example, $M(L\\_3) = 3$ and $S(L\\_3) = 6$. Also $M(L\\_{100}) = 4948$ and $S(L\\_{100}) = 24477690$.\n",
    "\n",
    "Find $S(L\\_{2500})$."
   ]
  },
  {
   "cell_type": "code",
   "execution_count": null,
   "id": "07462b90",
   "metadata": {},
   "outputs": [],
   "source": [
    "# Problem 630 workspace"
   ]
  },
  {
   "cell_type": "markdown",
   "id": "56deaa03",
   "metadata": {},
   "source": [
    "## Answer: "
   ]
  },
  {
   "cell_type": "markdown",
   "id": "17460b87",
   "metadata": {},
   "source": [
    "___"
   ]
  }
 ],
 "metadata": {},
 "nbformat": 4,
 "nbformat_minor": 5
}
