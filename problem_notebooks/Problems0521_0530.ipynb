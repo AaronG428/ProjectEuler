{
 "cells": [
  {
   "cell_type": "markdown",
   "id": "5de04c85",
   "metadata": {},
   "source": [
    "# Problem 521\n",
    " [Source](https://projecteuler.net/problem=521)"
   ]
  },
  {
   "cell_type": "markdown",
   "id": "04e65b1e",
   "metadata": {},
   "source": [
    "Let $\\operatorname{smpf}(n)$ be the smallest prime factor of $n$.\n",
    "  \n",
    "$\\operatorname{smpf}(91)=7$ because $91=7\\times 13$ and $\\operatorname{smpf}(45)=3$ because $45=3\\times 3\\times 5$.\n",
    "  \n",
    "Let $S(n)$ be the sum of $\\operatorname{smpf}(i)$ for $2 \\le i \\le n$.\n",
    "  \n",
    "E.g. $S(100)=1257$.\n",
    "\n",
    "Find $S(10^{12}) \\bmod 10^9$."
   ]
  },
  {
   "cell_type": "code",
   "execution_count": null,
   "id": "a59998d2",
   "metadata": {},
   "outputs": [],
   "source": [
    "# Problem 521 workspace"
   ]
  },
  {
   "cell_type": "markdown",
   "id": "e8046cb7",
   "metadata": {},
   "source": [
    "## Answer: "
   ]
  },
  {
   "cell_type": "markdown",
   "id": "489c22e8",
   "metadata": {},
   "source": [
    "___"
   ]
  },
  {
   "cell_type": "markdown",
   "id": "9a41668a",
   "metadata": {},
   "source": [
    "# Problem 522\n",
    " [Source](https://projecteuler.net/problem=522)"
   ]
  },
  {
   "cell_type": "markdown",
   "id": "0a6c9d3f",
   "metadata": {},
   "source": [
    "Despite the popularity of Hilbert's infinite hotel, Hilbert decided to try managing extremely large finite hotels, instead.\n",
    "\n",
    "To cut costs, Hilbert wished to power the new hotel with his own special generator. Each floor would send power to the floor above it, with the top floor sending power back down to the bottom floor. That way, Hilbert could have the generator placed on any given floor (as he likes having the option) and have electricity flow freely throughout the entire hotel.\n",
    "\n",
    "Unfortunately, the contractors misinterpreted the schematics when they built the hotel. They informed Hilbert that each floor sends power to another floor at random, instead. This may compromise Hilbert's freedom to have the generator placed anywhere, since blackouts could occur on certain floors.\n",
    "\n",
    "For example, consider a sample flow diagram for a three-story hotel:\n",
    "\n",
    "![0522_hilberts_blackout.png](resources/0522_hilberts_blackout.png)\n",
    "\n",
    "If the generator were placed on the first floor, then every floor would receive power. But if it were placed on the second or third floors instead, then there would be a blackout on the first floor. Note that while a given floor can\n",
    "*receive*\n",
    "power from many other floors at once, it can only\n",
    "*send*\n",
    "power to one other floor.\n",
    "\n",
    "To resolve the blackout concerns, Hilbert decided to have a minimal number of floors rewired. To rewire a floor is to change the floor it sends power to. In the sample diagram above, all possible blackouts can be avoided by rewiring the second floor to send power to the first floor instead of the third floor.\n",
    "\n",
    "Let $F(n)$ be the sum of the minimum number of floor rewirings needed over all possible power-flow arrangements in a hotel of $n$ floors. For example, $F(3) = 6$, $F(8) = 16276736$, and $F(100) \\bmod 135707531 = 84326147$.\n",
    "\n",
    "Find $F(12344321) \\bmod 135707531$."
   ]
  },
  {
   "cell_type": "code",
   "execution_count": null,
   "id": "de76c3ef",
   "metadata": {},
   "outputs": [],
   "source": [
    "# Problem 522 workspace"
   ]
  },
  {
   "cell_type": "markdown",
   "id": "4bbb327c",
   "metadata": {},
   "source": [
    "## Answer: "
   ]
  },
  {
   "cell_type": "markdown",
   "id": "360609b8",
   "metadata": {},
   "source": [
    "___"
   ]
  },
  {
   "cell_type": "markdown",
   "id": "b360fa49",
   "metadata": {},
   "source": [
    "# Problem 523\n",
    " [Source](https://projecteuler.net/problem=523)"
   ]
  },
  {
   "cell_type": "markdown",
   "id": "221da289",
   "metadata": {},
   "source": [
    "Consider the following algorithm for sorting a list:\n",
    "\n",
    "* 1. Starting from the beginning of the list, check each pair of adjacent elements in turn.\n",
    "* 2. If the elements are out of order:\n",
    "  + a. Move the smallest element of the pair at the beginning of the list.\n",
    "  + b. Restart the process from step 1.\n",
    "* 3. If all pairs are in order, stop.\n",
    "\n",
    "For example, the list $\\{\\,4\\,1\\,3\\,2\\,\\}$ is sorted as follows:\n",
    "\n",
    "* $\\underline{4\\,1}\\,3\\,2$ ($4$ and $1$ are out of order so move $1$ to the front of the list)\n",
    "* $1\\,\\underline{4\\,3}\\,2$ ($4$ and $3$ are out of order so move $3$ to the front of the list)\n",
    "* $\\underline{3\\,1}\\,4\\,2$ ($3$ and $1$ are out of order so move $1$ to the front of the list)\n",
    "* $1\\,3\\,\\underline{4\\,2}$ ($4$ and $2$ are out of order so move $2$ to the front of the list)\n",
    "* $\\underline{2\\,1}\\,3\\,4$ ($2$ and $1$ are out of order so move $1$ to the front of the list)\n",
    "* $1\\,2\\,3\\,4$ (The list is now sorted)\n",
    "\n",
    "Let $F(L)$ be the number of times step 2a is executed to sort list $L$. For example, $F(\\{\\,4\\,1\\,3\\,2\\,\\}) = 5$.\n",
    "\n",
    "Let $E(n)$ be the\n",
    "**expected value**\n",
    "of $F(P)$ over all permutations $P$ of the integers $\\{1, 2, \\dots, n\\}$.\n",
    "  \n",
    "You are given $E(4) = 3.25$ and $E(10) = 115.725$.\n",
    "\n",
    "Find $E(30)$. Give your answer rounded to two digits after the decimal point."
   ]
  },
  {
   "cell_type": "code",
   "execution_count": null,
   "id": "9eb0f2b1",
   "metadata": {},
   "outputs": [],
   "source": [
    "# Problem 523 workspace"
   ]
  },
  {
   "cell_type": "markdown",
   "id": "a932ded2",
   "metadata": {},
   "source": [
    "## Answer: "
   ]
  },
  {
   "cell_type": "markdown",
   "id": "01e1799d",
   "metadata": {},
   "source": [
    "___"
   ]
  },
  {
   "cell_type": "markdown",
   "id": "7b2c080c",
   "metadata": {},
   "source": [
    "# Problem 524\n",
    " [Source](https://projecteuler.net/problem=524)"
   ]
  },
  {
   "cell_type": "markdown",
   "id": "eccaa288",
   "metadata": {},
   "source": [
    "Consider the following algorithm for sorting a list:\n",
    "\n",
    "* 1. Starting from the beginning of the list, check each pair of adjacent elements in turn.\n",
    "* 2. If the elements are out of order:\n",
    "  + a. Move the smallest element of the pair at the beginning of the list.\n",
    "  + b. Restart the process from step 1.\n",
    "* 3. If all pairs are in order, stop.\n",
    "\n",
    "For example, the list $\\{\\,4\\,1\\,3\\,2\\,\\}$ is sorted as follows:\n",
    "\n",
    "* $\\underline{4\\,1}\\,3\\,2$ ($4$ and $1$ are out of order so move $1$ to the front of the list)\n",
    "* $1\\,\\underline{4\\,3}\\,2$ ($4$ and $3$ are out of order so move $3$ to the front of the list)\n",
    "* $\\underline{3\\,1}\\,4\\,2$ ($3$ and $1$ are out of order so move $1$ to the front of the list)\n",
    "* $1\\,3\\,\\underline{4\\,2}$ ($4$ and $2$ are out of order so move $2$ to the front of the list)\n",
    "* $\\underline{2\\,1}\\,3\\,4$ ($2$ and $1$ are out of order so move $1$ to the front of the list)\n",
    "* $1\\,2\\,3\\,4$ (The list is now sorted)\n",
    "\n",
    "Let $F(L)$ be the number of times step 2a is executed to sort list $L$. For example, $F(\\{\\,4\\,1\\,3\\,2\\,\\}) = 5$.\n",
    "\n",
    "We can list all permutations $P$ of the integers $\\{1, 2, \\dots, n\\}$ in\n",
    "**lexicographical order**\n",
    ", and assign to each permutation an index $I\\_n(P)$ from $1$ to $n!$ corresponding to its position in the list.\n",
    "\n",
    "Let $Q(n, k) = \\min(I\\_n(P))$ for $F(P) = k$, the index of the first permutation requiring exactly $k$ steps to sort with First Sort. If there is no permutation for which $F(P) = k$, then $Q(n, k)$ is undefined.\n",
    "\n",
    "For $n = 4$ we have:\n",
    "\n",
    "| P | I 4 ( P ) | F ( P ) |  |\n",
    "| --- | --- | --- | --- |\n",
    "| {1, 2, 3, 4} | 1 | 0 | Q(4, 0) = 1 |\n",
    "| {1, 2, 4, 3} | 2 | 4 | Q(4, 4) = 2 |\n",
    "| {1, 3, 2, 4} | 3 | 2 | Q(4, 2) = 3 |\n",
    "| {1, 3, 4, 2} | 4 | 2 |  |\n",
    "| {1, 4, 2, 3} | 5 | 6 | Q(4, 6) = 5 |\n",
    "| {1, 4, 3, 2} | 6 | 4 |  |\n",
    "| {2, 1, 3, 4} | 7 | 1 | Q(4, 1) = 7 |\n",
    "| {2, 1, 4, 3} | 8 | 5 | Q(4, 5) = 8 |\n",
    "| {2, 3, 1, 4} | 9 | 1 |  |\n",
    "| {2, 3, 4, 1} | 10 | 1 |  |\n",
    "| {2, 4, 1, 3} | 11 | 5 |  |\n",
    "| {2, 4, 3, 1} | 12 | 3 | Q(4, 3) = 12 |\n",
    "| {3, 1, 2, 4} | 13 | 3 |  |\n",
    "| {3, 1, 4, 2} | 14 | 3 |  |\n",
    "| {3, 2, 1, 4} | 15 | 2 |  |\n",
    "| {3, 2, 4, 1} | 16 | 2 |  |\n",
    "| {3, 4, 1, 2} | 17 | 3 |  |\n",
    "| {3, 4, 2, 1} | 18 | 2 |  |\n",
    "| {4, 1, 2, 3} | 19 | 7 | Q(4, 7) = 19 |\n",
    "| {4, 1, 3, 2} | 20 | 5 |  |\n",
    "| {4, 2, 1, 3} | 21 | 6 |  |\n",
    "| {4, 2, 3, 1} | 22 | 4 |  |\n",
    "| {4, 3, 1, 2} | 23 | 4 |  |\n",
    "| {4, 3, 2, 1} | 24 | 3 |  |\n",
    "\n",
    "Let $R(k) = \\min(Q(n, k))$ over all $n$ for which $Q(n, k)$ is defined.\n",
    "\n",
    "Find $R(12^{12})$."
   ]
  },
  {
   "cell_type": "code",
   "execution_count": null,
   "id": "4ba92f49",
   "metadata": {},
   "outputs": [],
   "source": [
    "# Problem 524 workspace"
   ]
  },
  {
   "cell_type": "markdown",
   "id": "252672a5",
   "metadata": {},
   "source": [
    "## Answer: "
   ]
  },
  {
   "cell_type": "markdown",
   "id": "7ad1974e",
   "metadata": {},
   "source": [
    "___"
   ]
  },
  {
   "cell_type": "markdown",
   "id": "25f28a2c",
   "metadata": {},
   "source": [
    "# Problem 525\n",
    " [Source](https://projecteuler.net/problem=525)"
   ]
  },
  {
   "cell_type": "markdown",
   "id": "c1a80ecf",
   "metadata": {},
   "source": [
    "An ellipse $E(a, b)$ is given at its initial position by equation:\n",
    "  \n",
    "$\\frac {x^2} {a^2} + \\frac {(y - b)^2} {b^2} = 1$\n",
    "\n",
    "The ellipse rolls without slipping along the $x$ axis for one complete turn. Interestingly, the length of the curve generated by a focus is independent from the size of the minor axis:\n",
    "  \n",
    "$F(a,b) = 2 \\pi \\max(a,b)$\n",
    "\n",
    "![0525-rolling-ellipse-1.gif](resources/0525-rolling-ellipse-1.gif)\n",
    "\n",
    "This is not true for the curve generated by the ellipse center. Let $C(a, b)$ be the length of the curve generated by the center of the ellipse as it rolls without slipping for one turn.\n",
    "\n",
    "![0525-rolling-ellipse-2.gif](resources/0525-rolling-ellipse-2.gif)\n",
    "\n",
    "You are given $C(2, 4) \\approx 21.38816906$.\n",
    "\n",
    "Find $C(1, 4) + C(3, 4)$. Give your answer rounded to $8$ digits behind the decimal point in the form\n",
    "*ab.cdefghij*\n",
    "."
   ]
  },
  {
   "cell_type": "code",
   "execution_count": null,
   "id": "98fe379d",
   "metadata": {},
   "outputs": [],
   "source": [
    "# Problem 525 workspace"
   ]
  },
  {
   "cell_type": "markdown",
   "id": "9b3e5de1",
   "metadata": {},
   "source": [
    "## Answer: "
   ]
  },
  {
   "cell_type": "markdown",
   "id": "e31c6e84",
   "metadata": {},
   "source": [
    "___"
   ]
  },
  {
   "cell_type": "markdown",
   "id": "a53dc25c",
   "metadata": {},
   "source": [
    "# Problem 526\n",
    " [Source](https://projecteuler.net/problem=526)"
   ]
  },
  {
   "cell_type": "markdown",
   "id": "dddec857",
   "metadata": {},
   "source": [
    "Let $f(n)$ be the largest prime factor of $n$.\n",
    "\n",
    "Let $g(n) = f(n) + f(n + 1) + f(n + 2) + f(n + 3) + f(n + 4) + f(n + 5) + f(n + 6) + f(n + 7) + f(n + 8)$, the sum of the largest prime factor of each of nine consecutive numbers starting with $n$.\n",
    "\n",
    "Let $h(n)$ be the maximum value of $g(k)$ for $2 \\le k \\le n$.\n",
    "\n",
    "You are given:\n",
    "\n",
    "* $f(100) = 5$\n",
    "* $f(101) = 101$\n",
    "* $g(100) = 409$\n",
    "* $h(100) = 417$\n",
    "* $h(10^9) = 4896292593$\n",
    "\n",
    "Find $h(10^{16})$."
   ]
  },
  {
   "cell_type": "code",
   "execution_count": null,
   "id": "a84ef809",
   "metadata": {},
   "outputs": [],
   "source": [
    "# Problem 526 workspace"
   ]
  },
  {
   "cell_type": "markdown",
   "id": "88a0ab0e",
   "metadata": {},
   "source": [
    "## Answer: "
   ]
  },
  {
   "cell_type": "markdown",
   "id": "89ee827f",
   "metadata": {},
   "source": [
    "___"
   ]
  },
  {
   "cell_type": "markdown",
   "id": "9724a300",
   "metadata": {},
   "source": [
    "# Problem 527\n",
    " [Source](https://projecteuler.net/problem=527)"
   ]
  },
  {
   "cell_type": "markdown",
   "id": "a424677d",
   "metadata": {},
   "source": [
    "A secret integer $t$ is selected at random within the range $1 \\le t \\le n$.\n",
    "\n",
    "The goal is to guess the value of $t$ by making repeated guesses, via integer $g$. After a guess is made, there are three possible outcomes, in which it will be revealed that either $g \\lt t$, $g = t$, or $g \\gt t$. Then the process can repeat as necessary.\n",
    "\n",
    "Normally, the number of guesses required on average can be minimized with a binary search: Given a lower bound $L$ and upper bound $H$ (initialized to $L = 1$ and $H = n$), let $g = \\lfloor(L+H)/2\\rfloor$ where $\\lfloor \\cdot \\rfloor$ is the integer floor function. If $g = t$, the process ends. Otherwise, if $g \\lt t$, set $L = g+1$, but if $g \\gt t$ instead, set $H = g - 1$. After setting the new bounds, the search process repeats, and ultimately ends once $t$ is found. Even if $t$ can be deduced without searching, assume that a search will be required anyway to confirm the value.\n",
    "\n",
    "Your friend Bob believes that the standard binary search is not that much better than his randomized variant: Instead of setting $g = \\lfloor(L+H)/2\\rfloor$, simply let $g$ be a random integer between $L$ and $H$, inclusive. The rest of the algorithm is the same as the standard binary search. This new search routine will be referred to as a\n",
    "random binary search\n",
    ".\n",
    "\n",
    "Given that $1 \\le t \\le n$ for random $t$, let $B(n)$ be the expected number of guesses needed to find $t$ using the standard binary search, and let $R(n)$ be the expected number of guesses needed to find $t$ using the random binary search. For example, $B(6) = 2.33333333$ and $R(6) = 2.71666667$ when rounded to $8$ decimal places.\n",
    "\n",
    "Find $R(10^{10}) - B(10^{10})$ rounded to $8$ decimal places."
   ]
  },
  {
   "cell_type": "code",
   "execution_count": null,
   "id": "fad551e2",
   "metadata": {},
   "outputs": [],
   "source": [
    "# Problem 527 workspace"
   ]
  },
  {
   "cell_type": "markdown",
   "id": "21c09254",
   "metadata": {},
   "source": [
    "## Answer: "
   ]
  },
  {
   "cell_type": "markdown",
   "id": "71186253",
   "metadata": {},
   "source": [
    "___"
   ]
  },
  {
   "cell_type": "markdown",
   "id": "14bdd77b",
   "metadata": {},
   "source": [
    "# Problem 528\n",
    " [Source](https://projecteuler.net/problem=528)"
   ]
  },
  {
   "cell_type": "markdown",
   "id": "e0d6501a",
   "metadata": {},
   "source": [
    "Let $S(n, k, b)$ represent the number of valid solutions to $x\\_1 + x\\_2 + \\cdots + x\\_k \\le n$, where $0 \\le x\\_m \\le b^m$ for all $1 \\le m \\le k$.\n",
    "\n",
    "For example, $S(14,3,2) = 135$, $S(200,5,3) = 12949440$, and $S(1000,10,5) \\bmod 1\\,000\\,000\\,007 = 624839075$.\n",
    "\n",
    "Find $(\\sum\\_{10 \\le k \\le 15} S(10^k, k, k)) \\bmod 1\\,000\\,000\\,007$."
   ]
  },
  {
   "cell_type": "code",
   "execution_count": null,
   "id": "576b3e1e",
   "metadata": {},
   "outputs": [],
   "source": [
    "# Problem 528 workspace"
   ]
  },
  {
   "cell_type": "markdown",
   "id": "412a1764",
   "metadata": {},
   "source": [
    "## Answer: "
   ]
  },
  {
   "cell_type": "markdown",
   "id": "d2878a58",
   "metadata": {},
   "source": [
    "___"
   ]
  },
  {
   "cell_type": "markdown",
   "id": "2a5479f1",
   "metadata": {},
   "source": [
    "# Problem 529\n",
    " [Source](https://projecteuler.net/problem=529)"
   ]
  },
  {
   "cell_type": "markdown",
   "id": "a32c8156",
   "metadata": {},
   "source": [
    "A\n",
    "$10$-substring\n",
    "of a number is a substring of its digits that sum to $10$. For example, the $10$-substrings of the number $3523014$ are:\n",
    "\n",
    "* **352**\n",
    "  3014\n",
    "* 3\n",
    "  **523**\n",
    "  014\n",
    "* 3\n",
    "  **5230**\n",
    "  14\n",
    "* 35\n",
    "  **23014**\n",
    "\n",
    "A number is called\n",
    "$10$-substring-friendly\n",
    "if every one of its digits belongs to a $10$-substring. For example, $3523014$ is $10$-substring-friendly, but $28546$ is not.\n",
    "\n",
    "Let $T(n)$ be the number of $10$-substring-friendly numbers from $1$ to $10^n$ (inclusive).\n",
    "  \n",
    "For example $T(2) = 9$ and $T(5) = 3492$.\n",
    "\n",
    "Find $T(10^{18}) \\bmod 1\\,000\\,000\\,007$."
   ]
  },
  {
   "cell_type": "code",
   "execution_count": null,
   "id": "6fdbd9db",
   "metadata": {},
   "outputs": [],
   "source": [
    "# Problem 529 workspace"
   ]
  },
  {
   "cell_type": "markdown",
   "id": "573c3ef1",
   "metadata": {},
   "source": [
    "## Answer: "
   ]
  },
  {
   "cell_type": "markdown",
   "id": "aa9cd317",
   "metadata": {},
   "source": [
    "___"
   ]
  },
  {
   "cell_type": "markdown",
   "id": "9c99d912",
   "metadata": {},
   "source": [
    "# Problem 530\n",
    " [Source](https://projecteuler.net/problem=530)"
   ]
  },
  {
   "cell_type": "markdown",
   "id": "33786746",
   "metadata": {},
   "source": [
    "Every divisor $d$ of a number $n$ has a\n",
    "**complementary divisor**\n",
    "$n/d$.\n",
    "\n",
    "Let $f(n)$ be the sum of the\n",
    "**greatest common divisor**\n",
    "of $d$ and $n/d$ over all positive divisors $d$ of $n$, that is\n",
    "$f(n)=\\displaystyle\\sum\\_{d\\mid n}\\gcd(d,\\frac n d)$.\n",
    "\n",
    "Let $F$ be the summatory function of $f$, that is\n",
    "$F(k)=\\displaystyle\\sum\\_{n=1}^k f(n)$.\n",
    "\n",
    "You are given that $F(10)=32$ and $F(1000)=12776$.\n",
    "\n",
    "Find $F(10^{15})$."
   ]
  },
  {
   "cell_type": "code",
   "execution_count": null,
   "id": "84209f04",
   "metadata": {},
   "outputs": [],
   "source": [
    "# Problem 530 workspace"
   ]
  },
  {
   "cell_type": "markdown",
   "id": "8979a0a4",
   "metadata": {},
   "source": [
    "## Answer: "
   ]
  },
  {
   "cell_type": "markdown",
   "id": "b571744a",
   "metadata": {},
   "source": [
    "___"
   ]
  }
 ],
 "metadata": {},
 "nbformat": 4,
 "nbformat_minor": 5
}
