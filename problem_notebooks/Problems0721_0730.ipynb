{
 "cells": [
  {
   "cell_type": "markdown",
   "id": "bc7bcccb",
   "metadata": {},
   "source": [
    "# Problem 721\n",
    " [Source](https://projecteuler.net/problem=721)"
   ]
  },
  {
   "cell_type": "markdown",
   "id": "5fd0b73c",
   "metadata": {},
   "source": [
    "Given is the function $f(a,n)=\\lfloor (\\lceil \\sqrt a \\rceil + \\sqrt a)^n \\rfloor$.\n",
    "  \n",
    "$\\lfloor \\cdot \\rfloor$ denotes the floor function and $\\lceil \\cdot \\rceil$ denotes the ceiling function.\n",
    "  \n",
    "$f(5,2)=27$ and $f(5,5)=3935$.\n",
    "\n",
    "$G(n) = \\displaystyle \\sum\\_{a=1}^n f(a, a^2).$\n",
    "  \n",
    "$G(1000) \\bmod 999\\,999\\,937=163861845. $\n",
    "  \n",
    "Find $G(5\\,000\\,000).$ Give your answer modulo $999\\,999\\,937$."
   ]
  },
  {
   "cell_type": "code",
   "execution_count": null,
   "id": "bed5e317",
   "metadata": {},
   "outputs": [],
   "source": [
    "# Problem 721 workspace"
   ]
  },
  {
   "cell_type": "markdown",
   "id": "19784815",
   "metadata": {},
   "source": [
    "## Answer: "
   ]
  },
  {
   "cell_type": "markdown",
   "id": "6183046e",
   "metadata": {},
   "source": [
    "___"
   ]
  },
  {
   "cell_type": "markdown",
   "id": "ceead848",
   "metadata": {},
   "source": [
    "# Problem 722\n",
    " [Source](https://projecteuler.net/problem=722)"
   ]
  },
  {
   "cell_type": "markdown",
   "id": "6c34e002",
   "metadata": {},
   "source": [
    "For a non-negative integer $k$, define\n",
    "$$\n",
    "E\\_k(q) = \\sum\\limits\\_{n = 1}^\\infty \\sigma\\_k(n)q^n\n",
    "$$\n",
    "where $\\sigma\\_k(n) = \\sum\\_{d \\mid n} d^k$ is the sum of the $k$-th powers of the positive divisors of $n$.\n",
    "\n",
    "It can be shown that, for every $k$, the series $E\\_k(q)$ converges for any $0 < q < 1$.\n",
    "\n",
    "For example,\n",
    "  \n",
    "$E\\_1(1 - \\frac{1}{2^4}) = 3.872155809243\\mathrm e2$\n",
    "  \n",
    "$E\\_3(1 - \\frac{1}{2^8}) = 2.767385314772\\mathrm e10$\n",
    "  \n",
    "$E\\_7(1 - \\frac{1}{2^{15}}) = 6.725803486744\\mathrm e39$\n",
    "  \n",
    "All the above values are given in scientific notation rounded to twelve digits after the decimal point.\n",
    "\n",
    "Find the value of $E\\_{15}(1 - \\frac{1}{2^{25}})$.\n",
    "  \n",
    "Give the answer in scientific notation rounded to twelve digits after the decimal point."
   ]
  },
  {
   "cell_type": "code",
   "execution_count": null,
   "id": "01565e2a",
   "metadata": {},
   "outputs": [],
   "source": [
    "# Problem 722 workspace"
   ]
  },
  {
   "cell_type": "markdown",
   "id": "03fa341c",
   "metadata": {},
   "source": [
    "## Answer: "
   ]
  },
  {
   "cell_type": "markdown",
   "id": "92ac58b9",
   "metadata": {},
   "source": [
    "___"
   ]
  },
  {
   "cell_type": "markdown",
   "id": "ac8b3863",
   "metadata": {},
   "source": [
    "# Problem 723\n",
    " [Source](https://projecteuler.net/problem=723)"
   ]
  },
  {
   "cell_type": "markdown",
   "id": "37b42cba",
   "metadata": {},
   "source": [
    "A pythagorean triangle with catheti $a$ and $b$ and hypotenuse $c$ is characterized by the well-known equation $a^2+b^2=c^2$. However, this can also be formulated differently:\n",
    "  \n",
    "When inscribed into a circle with radius $r$, a triangle with sides $a$, $b$ and $c$ is pythagorean, if and only if $a^2+b^2+c^2=8\\, r^2$.\n",
    "\n",
    "Analogously, we call a quadrilateral $ABCD$ with sides $a$, $b$, $c$ and $d$, inscribed in a circle with radius $r$, a\n",
    "*pythagorean quadrilateral*\n",
    ", if $a^2+b^2+c^2+d^2=8\\, r^2$.\n",
    "  \n",
    "We further call a pythagorean quadrilateral a\n",
    "pythagorean lattice grid quadrilateral\n",
    ", if all four vertices are lattice grid points with the same distance $r$ from the origin $O$ (which then happens to be the centre of the circumcircle).\n",
    "\n",
    "Let $f(r)$ be the number of different pythagorean lattice grid quadrilaterals for which the radius of the circumcircle is $r$. For example $f(1)=1$, $f(\\sqrt 2)=1$, $f(\\sqrt 5)=38$ and $f(5)=167$.\n",
    "  \n",
    "Two of the pythagorean lattice grid quadrilaterals with $r=\\sqrt 5$ are illustrated below:\n",
    "\n",
    "![PythagoreanQ_1](resources/0723_1.png)\n",
    "\n",
    "  \n",
    "\n",
    "![PythagoreanQ_2](resources/0723_2.png)\n",
    "\n",
    "Let $\\displaystyle S(n)=\\sum\\_{d \\mid n} f(\\sqrt d)$. For example, $S(325)=S(5^2 \\cdot 13)=f(1)+f(\\sqrt 5)+f(5)+f(\\sqrt {13})+f(\\sqrt{65})+f(5\\sqrt{13})=2370$ and $S(1105)=S(5\\cdot 13 \\cdot 17)=5535$.\n",
    "\n",
    "Find $S(1411033124176203125)=S(5^6 \\cdot 13^3 \\cdot 17^2 \\cdot 29 \\cdot 37 \\cdot 41 \\cdot 53 \\cdot 61)$."
   ]
  },
  {
   "cell_type": "code",
   "execution_count": null,
   "id": "34d066b6",
   "metadata": {},
   "outputs": [],
   "source": [
    "# Problem 723 workspace"
   ]
  },
  {
   "cell_type": "markdown",
   "id": "f2e5f800",
   "metadata": {},
   "source": [
    "## Answer: "
   ]
  },
  {
   "cell_type": "markdown",
   "id": "4b41b2b8",
   "metadata": {},
   "source": [
    "___"
   ]
  },
  {
   "cell_type": "markdown",
   "id": "7b342750",
   "metadata": {},
   "source": [
    "# Problem 724\n",
    " [Source](https://projecteuler.net/problem=724)"
   ]
  },
  {
   "cell_type": "markdown",
   "id": "60acb76f",
   "metadata": {},
   "source": [
    "A depot uses $n$ drones to disperse packages containing essential supplies along a long straight road.\n",
    "  \n",
    "Initially all drones are stationary, loaded with a supply package.\n",
    "  \n",
    "Every second, the depot selects a drone at random and sends it this instruction:\n",
    "\n",
    "* If you are stationary, start moving at one centimetre per second along the road.\n",
    "* If you are moving, increase your speed by one centimetre per second along the road without changing direction.\n",
    "\n",
    "The road is wide enough that drones can overtake one another without risk of collision.\n",
    "\n",
    "Eventually, there will only be one drone left at the depot waiting to receive its first instruction. As soon as that drone has flown one centimetre along the road, all drones drop their packages and return to the depot.\n",
    "\n",
    "Let $E(n)$ be the expected distance in centimetres from the depot that the supply packages land.\n",
    "  \n",
    "For example, $E(2) = \\frac{7}{2}$, $E(5) = \\frac{12019}{720}$, and $E(100) \\approx 1427.193470$.\n",
    "\n",
    "Find $E(10^8)$. Give your answer rounded to the nearest integer."
   ]
  },
  {
   "cell_type": "code",
   "execution_count": null,
   "id": "f5e06b21",
   "metadata": {},
   "outputs": [],
   "source": [
    "# Problem 724 workspace"
   ]
  },
  {
   "cell_type": "markdown",
   "id": "b7c572e2",
   "metadata": {},
   "source": [
    "## Answer: "
   ]
  },
  {
   "cell_type": "markdown",
   "id": "2dd09830",
   "metadata": {},
   "source": [
    "___"
   ]
  },
  {
   "cell_type": "markdown",
   "id": "6430b37e",
   "metadata": {},
   "source": [
    "# Problem 725\n",
    " [Source](https://projecteuler.net/problem=725)"
   ]
  },
  {
   "cell_type": "markdown",
   "id": "32deb414",
   "metadata": {},
   "source": [
    "A number where one digit is the sum of the\n",
    "**other**\n",
    "digits is called a\n",
    "digit sum number\n",
    "or DS-number for short. For example, $352$, $3003$ and $32812$ are DS-numbers.\n",
    "\n",
    "We define $S(n)$ to be the sum of all DS-numbers of $n$ digits or less.\n",
    "\n",
    "You are given $S(3) = 63270$ and $S(7) = 85499991450$.\n",
    "\n",
    "Find $S(2020)$. Give your answer modulo $10^{16}$."
   ]
  },
  {
   "cell_type": "code",
   "execution_count": null,
   "id": "8b376c1b",
   "metadata": {},
   "outputs": [],
   "source": [
    "# Problem 725 workspace"
   ]
  },
  {
   "cell_type": "markdown",
   "id": "f4e95046",
   "metadata": {},
   "source": [
    "## Answer: "
   ]
  },
  {
   "cell_type": "markdown",
   "id": "25f024bf",
   "metadata": {},
   "source": [
    "___"
   ]
  },
  {
   "cell_type": "markdown",
   "id": "a9516fd8",
   "metadata": {},
   "source": [
    "# Problem 726\n",
    " [Source](https://projecteuler.net/problem=726)"
   ]
  },
  {
   "cell_type": "markdown",
   "id": "89a6de8f",
   "metadata": {},
   "source": [
    "Consider a stack of bottles of wine. There are $n$ layers in the stack with the top layer containing only one bottle and the bottom layer containing $n$ bottles. For $n=4$ the stack looks like the picture below.\n",
    "\n",
    "![](resources/0726_FallingBottles.jpg)\n",
    "\n",
    "The\n",
    "collapsing process\n",
    "happens every time a bottle is taken. A space is created in the stack and that space is filled according to the following recursive steps:\n",
    "\n",
    "* No bottle touching from above: nothing happens. For example, taking $F$.\n",
    "* One bottle touching from above: that will drop down to fill the space creating another space. For example, taking $D$.\n",
    "* Two bottles touching from above: one will drop down to fill the space creating another space. For example, taking $C$.\n",
    "\n",
    "This process happens recursively; for example, taking bottle $A$ in the diagram above. Its place can be filled with either $B$ or $C$. If it is filled with $C$ then the space that $C$ creates can be filled with $D$ or $E$. So there are 3 different collapsing processes that can happen if $A$ is taken, although the final shape (in this case) is the same.\n",
    "\n",
    "Define $f(n)$ to be the number of ways that we can take all the bottles from a stack with $n$ layers.\n",
    "Two ways are considered different if at any step we took a different bottle or the collapsing process went differently.\n",
    "\n",
    "You are given $f(1) = 1$, $f(2) = 6$ and $f(3) = 1008$.\n",
    "\n",
    "Also define\n",
    "$$S(n) = \\sum\\_{k=1}^n f(k).$$\n",
    "\n",
    "Find $S(10^4)$ and give your answer modulo $1\\,000\\,000\\,033$."
   ]
  },
  {
   "cell_type": "code",
   "execution_count": null,
   "id": "8f2dbb2f",
   "metadata": {},
   "outputs": [],
   "source": [
    "# Problem 726 workspace"
   ]
  },
  {
   "cell_type": "markdown",
   "id": "cfc320f5",
   "metadata": {},
   "source": [
    "## Answer: "
   ]
  },
  {
   "cell_type": "markdown",
   "id": "cdca3e72",
   "metadata": {},
   "source": [
    "___"
   ]
  },
  {
   "cell_type": "markdown",
   "id": "cdc34504",
   "metadata": {},
   "source": [
    "# Problem 727\n",
    " [Source](https://projecteuler.net/problem=727)"
   ]
  },
  {
   "cell_type": "markdown",
   "id": "2ef1f4ba",
   "metadata": {},
   "source": [
    "Let $r\\_a$, $r\\_b$ and $r\\_c$ be the radii of three circles that are mutually and externally tangent to each other. The three circles then form a\n",
    "triangle of circular arcs\n",
    "between their tangency points as shown for the three blue circles in the picture below.\n",
    "\n",
    "![CircularArcs](resources/0727_circular_arcs.jpg)\n",
    "\n",
    "Define the circumcircle of this triangle to be the red circle, with centre $D$, passing through their tangency points. Further define the incircle of this triangle to be the green circle, with centre $E$, that is mutually and externally tangent to all the three blue circles. Let $d=\\vert DE \\vert$ be the distance between the centres of the circumcircle and the incircle.\n",
    "\n",
    "Let $\\mathbb{E}(d)$ be the expected value of $d$ when $r\\_a$, $r\\_b$ and $r\\_c$ are integers chosen uniformly such that $1\\leq r\\_a<r\\_b<r\\_c \\leq 100$ and $\\text{gcd}(r\\_a,r\\_b,r\\_c)=1$.\n",
    "\n",
    "Find $\\mathbb{E}(d)$, rounded to eight places after the decimal point."
   ]
  },
  {
   "cell_type": "code",
   "execution_count": null,
   "id": "5d594f96",
   "metadata": {},
   "outputs": [],
   "source": [
    "# Problem 727 workspace"
   ]
  },
  {
   "cell_type": "markdown",
   "id": "f44508c6",
   "metadata": {},
   "source": [
    "## Answer: "
   ]
  },
  {
   "cell_type": "markdown",
   "id": "b23bba0b",
   "metadata": {},
   "source": [
    "___"
   ]
  },
  {
   "cell_type": "markdown",
   "id": "e890093a",
   "metadata": {},
   "source": [
    "# Problem 728\n",
    " [Source](https://projecteuler.net/problem=728)"
   ]
  },
  {
   "cell_type": "markdown",
   "id": "f0067af2",
   "metadata": {},
   "source": [
    "Consider $n$ coins arranged in a circle where each coin shows heads or tails. A move consists of turning over $k$ consecutive coins: tail-head or head-tail. Using a sequence of these moves the objective is to get all the coins showing heads.\n",
    "\n",
    "Consider the example, shown below, where $n=8$ and $k=3$ and the initial state is one coin showing tails (black). The example shows a solution for this state.\n",
    "\n",
    "![](resources/0728_coin_circle.jpg)\n",
    "\n",
    "For given values of $n$ and $k$ not all states are solvable. Let $F(n,k)$ be the number of states that are solvable. You are given that $F(3,2) = 4$, $F(8,3) = 256$ and $F(9,3) = 128$.\n",
    "\n",
    "Further define:\n",
    "$$S(N) = \\sum\\_{n=1}^N\\sum\\_{k=1}^n F(n,k).$$\n",
    "\n",
    "You are also given that $S(3) = 22$, $S(10) = 10444$ and $S(10^3) \\equiv 853837042 \\pmod{1\\,000\\,000\\,007}$\n",
    "\n",
    "Find $S(10^7)$. Give your answer modulo $1\\,000\\,000\\,007$."
   ]
  },
  {
   "cell_type": "code",
   "execution_count": null,
   "id": "5ac26bd5",
   "metadata": {},
   "outputs": [],
   "source": [
    "# Problem 728 workspace"
   ]
  },
  {
   "cell_type": "markdown",
   "id": "ed66a1c1",
   "metadata": {},
   "source": [
    "## Answer: "
   ]
  },
  {
   "cell_type": "markdown",
   "id": "2a6580bd",
   "metadata": {},
   "source": [
    "___"
   ]
  },
  {
   "cell_type": "markdown",
   "id": "e9403377",
   "metadata": {},
   "source": [
    "# Problem 729\n",
    " [Source](https://projecteuler.net/problem=729)"
   ]
  },
  {
   "cell_type": "markdown",
   "id": "bf55bd03",
   "metadata": {},
   "source": [
    "Consider the sequence of real numbers $a\\_n$ defined by the starting value $a\\_0$ and the recurrence\n",
    "$\\displaystyle a\\_{n+1}=a\\_n-\\frac 1 {a\\_n}$ for any $n \\ge 0$.\n",
    "\n",
    "For some starting values $a\\_0$ the sequence will be periodic. For example, $a\\_0=\\sqrt{\\frac 1 2}$ yields the sequence:\n",
    "$\\sqrt{\\frac 1 2},-\\sqrt{\\frac 1 2},\\sqrt{\\frac 1 2}, \\dots$\n",
    "\n",
    "We are interested in the range of such a periodic sequence which is the difference between the maximum and minimum of the sequence. For example, the range of the sequence above would be $\\sqrt{\\frac 1 2}-(-\\sqrt{\\frac 1 2})=\\sqrt{ 2}$.\n",
    "\n",
    "Let $S(P)$ be the sum of the ranges of all such periodic sequences with a period not exceeding $P$.\n",
    "  \n",
    "For example, $S(2)=2\\sqrt{2} \\approx 2.8284$, being the sum of the ranges of the two sequences starting with $a\\_0=\\sqrt{\\frac 1 2}$ and $a\\_0=-\\sqrt{\\frac 1 2}$.\n",
    "  \n",
    "You are given $S(3) \\approx 14.6461$ and $S(5) \\approx 124.1056$.\n",
    "\n",
    "Find $S(25)$, rounded to $4$ decimal places."
   ]
  },
  {
   "cell_type": "code",
   "execution_count": null,
   "id": "2188ef74",
   "metadata": {},
   "outputs": [],
   "source": [
    "# Problem 729 workspace"
   ]
  },
  {
   "cell_type": "markdown",
   "id": "b86d890b",
   "metadata": {},
   "source": [
    "## Answer: "
   ]
  },
  {
   "cell_type": "markdown",
   "id": "6ab3d855",
   "metadata": {},
   "source": [
    "___"
   ]
  },
  {
   "cell_type": "markdown",
   "id": "04aa3737",
   "metadata": {},
   "source": [
    "# Problem 730\n",
    " [Source](https://projecteuler.net/problem=730)"
   ]
  },
  {
   "cell_type": "markdown",
   "id": "5b3e3f2f",
   "metadata": {},
   "source": [
    "For a non-negative integer $k$, the triple $(p,q,r)$ of positive integers is called a\n",
    "$k$-shifted Pythagorean triple\n",
    "if $$p^2 + q^2 + k = r^2$$\n",
    "\n",
    "$(p, q, r)$ is said to be primitive if $\\gcd(p, q, r)=1$.\n",
    "\n",
    "Let $P\\_k(n)$ be the number of primitive $k$-shifted Pythagorean triples such that $1 \\le p \\le q \\le r$ and $p + q + r \\le n$.\n",
    "  \n",
    "For example, $P\\_0(10^4) = 703$ and $P\\_{20}(10^4) = 1979$.\n",
    "\n",
    "Define\n",
    "$$\\displaystyle S(m,n)=\\sum\\_{k=0}^{m}P\\_k(n).$$\n",
    "You are given that $S(10,10^4) = 10956$.\n",
    "\n",
    "Find $S(10^2,10^8)$."
   ]
  },
  {
   "cell_type": "code",
   "execution_count": null,
   "id": "50780924",
   "metadata": {},
   "outputs": [],
   "source": [
    "# Problem 730 workspace"
   ]
  },
  {
   "cell_type": "markdown",
   "id": "738fd693",
   "metadata": {},
   "source": [
    "## Answer: "
   ]
  },
  {
   "cell_type": "markdown",
   "id": "76202b60",
   "metadata": {},
   "source": [
    "___"
   ]
  }
 ],
 "metadata": {},
 "nbformat": 4,
 "nbformat_minor": 5
}
