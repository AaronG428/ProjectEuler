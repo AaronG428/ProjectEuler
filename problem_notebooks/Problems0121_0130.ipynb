{
 "cells": [
  {
   "cell_type": "markdown",
   "id": "b172036f",
   "metadata": {},
   "source": [
    "# Problem 121\n",
    " [Source](https://projecteuler.net/problem=121)"
   ]
  },
  {
   "cell_type": "markdown",
   "id": "3101ec93",
   "metadata": {},
   "source": [
    "A bag contains one red disc and one blue disc. In a game of chance a player takes a disc at random and its colour is noted. After each turn the disc is returned to the bag, an extra red disc is added, and another disc is taken at random.\n",
    "\n",
    "The player pays £1 to play and wins if they have taken more blue discs than red discs at the end of the game.\n",
    "\n",
    "If the game is played for four turns, the probability of a player winning is exactly 11/120, and so the maximum prize fund the banker should allocate for winning in this game would be £10 before they would expect to incur a loss. Note that any payout will be a whole number of pounds and also includes the original £1 paid to play the game, so in the example given the player actually wins £9.\n",
    "\n",
    "Find the maximum prize fund that should be allocated to a single game in which fifteen turns are played."
   ]
  },
  {
   "cell_type": "code",
   "execution_count": null,
   "id": "6d77969c",
   "metadata": {},
   "outputs": [],
   "source": [
    "# Problem 121 workspace"
   ]
  },
  {
   "cell_type": "markdown",
   "id": "c39adc14",
   "metadata": {},
   "source": [
    "## Answer: "
   ]
  },
  {
   "cell_type": "markdown",
   "id": "a0dd95c9",
   "metadata": {},
   "source": [
    "___"
   ]
  },
  {
   "cell_type": "markdown",
   "id": "65ae9f6b",
   "metadata": {},
   "source": [
    "# Problem 122\n",
    " [Source](https://projecteuler.net/problem=122)"
   ]
  },
  {
   "cell_type": "markdown",
   "id": "23d80820",
   "metadata": {},
   "source": [
    "The most naive way of computing $n^{15}$ requires fourteen multiplications:\n",
    "$$n \\times n \\times \\cdots \\times n = n^{15}.$$\n",
    "\n",
    "But using a \"binary\" method you can compute it in six multiplications:\n",
    "\n",
    "$$\\begin{align}\n",
    "n \\times n &= n^2\\\\\n",
    "n^2 \\times n^2 &= n^4\\\\\n",
    "n^4 \\times n^4 &= n^8\\\\\n",
    "n^8 \\times n^4 &= n^{12}\\\\\n",
    "n^{12} \\times n^2 &= n^{14}\\\\\n",
    "n^{14} \\times n &= n^{15}\n",
    "\\end{align}$$\n",
    "\n",
    "However it is yet possible to compute it in only five multiplications:\n",
    "\n",
    "$$\\begin{align}\n",
    "n \\times n &= n^2\\\\\n",
    "n^2 \\times n &= n^3\\\\\n",
    "n^3 \\times n^3 &= n^6\\\\\n",
    "n^6 \\times n^6 &= n^{12}\\\\\n",
    "n^{12} \\times n^3 &= n^{15}\n",
    "\\end{align}$$\n",
    "\n",
    "We shall define $m(k)$ to be the minimum number of multiplications to compute $n^k$; for example $m(15) = 5$.\n",
    "\n",
    "Find $\\sum\\limits\\_{k = 1}^{200} m(k)$."
   ]
  },
  {
   "cell_type": "code",
   "execution_count": null,
   "id": "fb597a38",
   "metadata": {},
   "outputs": [],
   "source": [
    "# Problem 122 workspace"
   ]
  },
  {
   "cell_type": "markdown",
   "id": "6ab1bf45",
   "metadata": {},
   "source": [
    "## Answer: "
   ]
  },
  {
   "cell_type": "markdown",
   "id": "65ba096b",
   "metadata": {},
   "source": [
    "___"
   ]
  },
  {
   "cell_type": "markdown",
   "id": "d830142a",
   "metadata": {},
   "source": [
    "# Problem 123\n",
    " [Source](https://projecteuler.net/problem=123)"
   ]
  },
  {
   "cell_type": "markdown",
   "id": "48101df2",
   "metadata": {},
   "source": [
    "Let $p\\_n$ be the $n$th prime: $2, 3, 5, 7, 11, \\dots$, and let $r$ be the remainder when $(p\\_n - 1)^n + (p\\_n + 1)^n$ is divided by $p\\_n^2$.\n",
    "\n",
    "For example, when $n = 3$, $p\\_3 = 5$, and $4^3 + 6^3 = 280 \\equiv 5 \\mod 25$.\n",
    "\n",
    "The least value of $n$ for which the remainder first exceeds $10^9$ is $7037$.\n",
    "\n",
    "Find the least value of $n$ for which the remainder first exceeds $10^{10}$."
   ]
  },
  {
   "cell_type": "code",
   "execution_count": null,
   "id": "6762c8b9",
   "metadata": {},
   "outputs": [],
   "source": [
    "# Problem 123 workspace"
   ]
  },
  {
   "cell_type": "markdown",
   "id": "c3481d29",
   "metadata": {},
   "source": [
    "## Answer: "
   ]
  },
  {
   "cell_type": "markdown",
   "id": "9c5e10c5",
   "metadata": {},
   "source": [
    "___"
   ]
  },
  {
   "cell_type": "markdown",
   "id": "17e7feef",
   "metadata": {},
   "source": [
    "# Problem 124\n",
    " [Source](https://projecteuler.net/problem=124)"
   ]
  },
  {
   "cell_type": "markdown",
   "id": "b12b4252",
   "metadata": {},
   "source": [
    "The radical of $n$, $\\operatorname{rad}(n)$, is the product of the distinct prime factors of $n$. For example, $504 = 2^3 \\times 3^2 \\times 7$, so $\\operatorname{rad}(504) = 2 \\times 3 \\times 7 = 42$.\n",
    "\n",
    "If we calculate $\\operatorname{rad}(n)$ for $1 \\le n \\le 10$, then sort them on $\\operatorname{rad}(n)$, and sorting on $n$ if the radical values are equal, we get:\n",
    "\n",
    "|  |  |  |  |  |  |\n",
    "| --- | --- | --- | --- | --- | --- |\n",
    "| Unsorted | |  | Sorted | | |\n",
    "| *n* | rad( *n* ) |  | *n* | rad( *n* ) | k |\n",
    "| 1 | 1 |  | 1 | 1 | 1 |\n",
    "| 2 | 2 |  | 2 | 2 | 2 |\n",
    "| 3 | 3 |  | 4 | 2 | 3 |\n",
    "| 4 | 2 |  | 8 | 2 | 4 |\n",
    "| 5 | 5 |  | 3 | 3 | 5 |\n",
    "| 6 | 6 |  | 9 | 3 | 6 |\n",
    "| 7 | 7 |  | 5 | 5 | 7 |\n",
    "| 8 | 2 |  | 6 | 6 | 8 |\n",
    "| 9 | 3 |  | 7 | 7 | 9 |\n",
    "| 10 | 10 |  | 10 | 10 | 10 |\n",
    "\n",
    "Let $E(k)$ be the $k$-th element in the sorted $n$ column; for example, $E(4) = 8$ and $E(6) = 9$.\n",
    "\n",
    "If $\\operatorname{rad}(n)$ is sorted for $1 \\le n \\le 100000$, find $E(10000)$."
   ]
  },
  {
   "cell_type": "code",
   "execution_count": null,
   "id": "0ddf1e94",
   "metadata": {},
   "outputs": [],
   "source": [
    "# Problem 124 workspace"
   ]
  },
  {
   "cell_type": "markdown",
   "id": "d2a32a53",
   "metadata": {},
   "source": [
    "## Answer: "
   ]
  },
  {
   "cell_type": "markdown",
   "id": "9a87361c",
   "metadata": {},
   "source": [
    "___"
   ]
  },
  {
   "cell_type": "markdown",
   "id": "59f9a8d1",
   "metadata": {},
   "source": [
    "# Problem 125\n",
    " [Source](https://projecteuler.net/problem=125)"
   ]
  },
  {
   "cell_type": "markdown",
   "id": "f3b3c50d",
   "metadata": {},
   "source": [
    "The palindromic number $595$ is interesting because it can be written as the sum of consecutive squares: $6^2 + 7^2 + 8^2 + 9^2 + 10^2 + 11^2 + 12^2$.\n",
    "\n",
    "There are exactly eleven palindromes below one-thousand that can be written as consecutive square sums, and the sum of these palindromes is $4164$. Note that $1 = 0^2 + 1^2$ has not been included as this problem is concerned with the squares of positive integers.\n",
    "\n",
    "Find the sum of all the numbers less than $10^8$ that are both palindromic and can be written as the sum of consecutive squares."
   ]
  },
  {
   "cell_type": "code",
   "execution_count": null,
   "id": "8fcbaf7b",
   "metadata": {},
   "outputs": [],
   "source": [
    "# Problem 125 workspace"
   ]
  },
  {
   "cell_type": "markdown",
   "id": "a4821891",
   "metadata": {},
   "source": [
    "## Answer: "
   ]
  },
  {
   "cell_type": "markdown",
   "id": "b620f0d7",
   "metadata": {},
   "source": [
    "___"
   ]
  },
  {
   "cell_type": "markdown",
   "id": "8d836df2",
   "metadata": {},
   "source": [
    "# Problem 126\n",
    " [Source](https://projecteuler.net/problem=126)"
   ]
  },
  {
   "cell_type": "markdown",
   "id": "06433616",
   "metadata": {},
   "source": [
    "The minimum number of cubes to cover every visible face on a cuboid measuring $3 \\times 2 \\times 1$ is twenty-two.\n",
    "\n",
    "![](resources/0126.png)\n",
    "\n",
    "If we then add a second layer to this solid it would require forty-six cubes to cover every visible face, the third layer would require seventy-eight cubes, and the fourth layer would require one-hundred and eighteen cubes to cover every visible face.\n",
    "\n",
    "However, the first layer on a cuboid measuring $5 \\times 1 \\times 1$ also requires twenty-two cubes; similarly the first layer on cuboids measuring $5 \\times 3 \\times 1$, $7 \\times 2 \\times 1$, and $11 \\times 1 \\times 1$ all contain forty-six cubes.\n",
    "\n",
    "We shall define $C(n)$ to represent the number of cuboids that contain $n$ cubes in one of its layers. So $C(22) = 2$, $C(46) = 4$, $C(78) = 5$, and $C(118) = 8$.\n",
    "\n",
    "It turns out that $154$ is the least value of $n$ for which $C(n) = 10$.\n",
    "\n",
    "Find the least value of $n$ for which $C(n) = 1000$."
   ]
  },
  {
   "cell_type": "code",
   "execution_count": null,
   "id": "436930df",
   "metadata": {},
   "outputs": [],
   "source": [
    "# Problem 126 workspace"
   ]
  },
  {
   "cell_type": "markdown",
   "id": "f25c2377",
   "metadata": {},
   "source": [
    "## Answer: "
   ]
  },
  {
   "cell_type": "markdown",
   "id": "a436dbba",
   "metadata": {},
   "source": [
    "___"
   ]
  },
  {
   "cell_type": "markdown",
   "id": "bd38d5f9",
   "metadata": {},
   "source": [
    "# Problem 127\n",
    " [Source](https://projecteuler.net/problem=127)"
   ]
  },
  {
   "cell_type": "markdown",
   "id": "ade8aca2",
   "metadata": {},
   "source": [
    "The radical of $n$, $\\operatorname{rad}(n)$, is the product of distinct prime factors of $n$. For example, $504 = 2^3 \\times 3^2 \\times 7$, so $\\operatorname{rad}(504) = 2 \\times 3 \\times 7 = 42$.\n",
    "\n",
    "We shall define the triplet of positive integers $(a, b, c)$ to be an abc-hit if:\n",
    "\n",
    "1. $\\gcd(a, b) = \\gcd(a, c) = \\gcd(b, c) = 1$\n",
    "2. $a \\lt b$\n",
    "3. $a + b = c$\n",
    "4. $\\operatorname{rad}(abc) \\lt c$\n",
    "\n",
    "For example, $(5, 27, 32)$ is an abc-hit, because:\n",
    "\n",
    "1. $\\gcd(5, 27) = \\gcd(5, 32) = \\gcd(27, 32) = 1$\n",
    "2. $5 \\lt 27$\n",
    "3. $5 + 27 = 32$\n",
    "4. $\\operatorname{rad}(4320) = 30 \\lt 32$\n",
    "\n",
    "It turns out that abc-hits are quite rare and there are only thirty-one abc-hits for $c \\lt 1000$, with $\\sum c = 12523$.\n",
    "\n",
    "Find $\\sum c$ for $c \\lt 120000$."
   ]
  },
  {
   "cell_type": "code",
   "execution_count": null,
   "id": "926c77d7",
   "metadata": {},
   "outputs": [],
   "source": [
    "# Problem 127 workspace"
   ]
  },
  {
   "cell_type": "markdown",
   "id": "0894e4bb",
   "metadata": {},
   "source": [
    "## Answer: "
   ]
  },
  {
   "cell_type": "markdown",
   "id": "c9b04ecb",
   "metadata": {},
   "source": [
    "___"
   ]
  },
  {
   "cell_type": "markdown",
   "id": "47be4c78",
   "metadata": {},
   "source": [
    "# Problem 128\n",
    " [Source](https://projecteuler.net/problem=128)"
   ]
  },
  {
   "cell_type": "markdown",
   "id": "422f8593",
   "metadata": {},
   "source": [
    "A hexagonal tile with number $1$ is surrounded by a ring of six hexagonal tiles, starting at \"12 o'clock\" and numbering the tiles $2$ to $7$ in an anti-clockwise direction.\n",
    "\n",
    "New rings are added in the same fashion, with the next rings being numbered $8$ to $19$, $20$ to $37$, $38$ to $61$, and so on. The diagram below shows the first three rings.\n",
    "\n",
    "![](resources/0128.png)\n",
    "\n",
    "By finding the difference between tile $n$ and each of its six neighbours we shall define $\\operatorname{PD}(n)$ to be the number of those differences which are prime.\n",
    "\n",
    "For example, working clockwise around tile $8$ the differences are $12, 29, 11, 6, 1$, and $13$. So $\\operatorname{PD}(8) = 3$.\n",
    "\n",
    "In the same way, the differences around tile $17$ are $1, 17, 16, 1, 11$, and $10$, hence $\\operatorname{PD}(17) = 2$.\n",
    "\n",
    "It can be shown that the maximum value of $\\operatorname{PD}(n)$ is $3$.\n",
    "\n",
    "If all of the tiles for which $\\operatorname{PD}(n) = 3$ are listed in ascending order to form a sequence, the $10$th tile would be $271$.\n",
    "\n",
    "Find the $2000$th tile in this sequence."
   ]
  },
  {
   "cell_type": "code",
   "execution_count": null,
   "id": "59e4987d",
   "metadata": {},
   "outputs": [],
   "source": [
    "# Problem 128 workspace"
   ]
  },
  {
   "cell_type": "markdown",
   "id": "c83a1784",
   "metadata": {},
   "source": [
    "## Answer: "
   ]
  },
  {
   "cell_type": "markdown",
   "id": "a957abd0",
   "metadata": {},
   "source": [
    "___"
   ]
  },
  {
   "cell_type": "markdown",
   "id": "f677e76a",
   "metadata": {},
   "source": [
    "# Problem 129\n",
    " [Source](https://projecteuler.net/problem=129)"
   ]
  },
  {
   "cell_type": "markdown",
   "id": "cd0fb5ea",
   "metadata": {},
   "source": [
    "A number consisting entirely of ones is called a repunit. We shall define $R(k)$ to be a repunit of length $k$; for example, $R(6) = 111111$.\n",
    "\n",
    "Given that $n$ is a positive integer and $\\gcd(n, 10) = 1$, it can be shown that there always exists a value, $k$, for which $R(k)$ is divisible by $n$, and let $A(n)$ be the least such value of $k$; for example, $A(7) = 6$ and $A(41) = 5$.\n",
    "\n",
    "The least value of $n$ for which $A(n)$ first exceeds ten is $17$.\n",
    "\n",
    "Find the least value of $n$ for which $A(n)$ first exceeds one-million."
   ]
  },
  {
   "cell_type": "code",
   "execution_count": null,
   "id": "bffa9fe8",
   "metadata": {},
   "outputs": [],
   "source": [
    "# Problem 129 workspace"
   ]
  },
  {
   "cell_type": "markdown",
   "id": "e6e34a14",
   "metadata": {},
   "source": [
    "## Answer: "
   ]
  },
  {
   "cell_type": "markdown",
   "id": "34368dff",
   "metadata": {},
   "source": [
    "___"
   ]
  },
  {
   "cell_type": "markdown",
   "id": "7ff00803",
   "metadata": {},
   "source": [
    "# Problem 130\n",
    " [Source](https://projecteuler.net/problem=130)"
   ]
  },
  {
   "cell_type": "markdown",
   "id": "ca14f359",
   "metadata": {},
   "source": [
    "A number consisting entirely of ones is called a repunit. We shall define $R(k)$ to be a repunit of length $k$; for example, $R(6) = 111111$.\n",
    "\n",
    "Given that $n$ is a positive integer and $\\gcd(n, 10) = 1$, it can be shown that there always exists a value, $k$, for which $R(k)$ is divisible by $n$, and let $A(n)$ be the least such value of $k$; for example, $A(7) = 6$ and $A(41) = 5$.\n",
    "\n",
    "You are given that for all primes, $p \\gt 5$, that $p - 1$ is divisible by $A(p)$. For example, when $p = 41$, $A(41) = 5$, and $40$ is divisible by $5$.\n",
    "\n",
    "However, there are rare composite values for which this is also true; the first five examples being $91$, $259$, $451$, $481$, and $703$.\n",
    "\n",
    "Find the sum of the first twenty-five composite values of $n$ for which $\\gcd(n, 10) = 1$ and $n - 1$ is divisible by $A(n)$."
   ]
  },
  {
   "cell_type": "code",
   "execution_count": null,
   "id": "225d8e0e",
   "metadata": {},
   "outputs": [],
   "source": [
    "# Problem 130 workspace"
   ]
  },
  {
   "cell_type": "markdown",
   "id": "11588ff0",
   "metadata": {},
   "source": [
    "## Answer: "
   ]
  },
  {
   "cell_type": "markdown",
   "id": "4af12d69",
   "metadata": {},
   "source": [
    "___"
   ]
  }
 ],
 "metadata": {},
 "nbformat": 4,
 "nbformat_minor": 5
}
