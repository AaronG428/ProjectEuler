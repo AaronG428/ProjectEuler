{
 "cells": [
  {
   "cell_type": "markdown",
   "id": "62df9ac0",
   "metadata": {},
   "source": [
    "# Problem 351\n",
    " [Source](https://projecteuler.net/problem=351)"
   ]
  },
  {
   "cell_type": "markdown",
   "id": "817d63a6",
   "metadata": {},
   "source": [
    "A\n",
    "hexagonal orchard\n",
    "of order $n$ is a triangular lattice made up of points within a regular hexagon with side $n$. The following is an example of a hexagonal orchard of order $5$:\n",
    "\n",
    "![0351_hexorchard.png](resources/0351_hexorchard.png)\n",
    "\n",
    "Highlighted in green are the points which are hidden from the center by a point closer to it. It can be seen that for a hexagonal orchard of order $5$, $30$ points are hidden from the center.\n",
    "\n",
    "Let $H(n)$ be the number of points hidden from the center in a hexagonal orchard of order $n$.\n",
    "\n",
    "$H(5) = 30$. $H(10) = 138$. $H(1\\,000) = 1177848$.\n",
    "\n",
    "Find $H(100\\,000\\,000)$."
   ]
  },
  {
   "cell_type": "code",
   "execution_count": null,
   "id": "d55f495f",
   "metadata": {},
   "outputs": [],
   "source": [
    "# Problem 351 workspace"
   ]
  },
  {
   "cell_type": "markdown",
   "id": "165949d8",
   "metadata": {},
   "source": [
    "## Answer: "
   ]
  },
  {
   "cell_type": "markdown",
   "id": "e5587a05",
   "metadata": {},
   "source": [
    "___"
   ]
  },
  {
   "cell_type": "markdown",
   "id": "6b91e56c",
   "metadata": {},
   "source": [
    "# Problem 352\n",
    " [Source](https://projecteuler.net/problem=352)"
   ]
  },
  {
   "cell_type": "markdown",
   "id": "46e1577e",
   "metadata": {},
   "source": [
    "Each one of the $25$ sheep in a flock must be tested for a rare virus, known to affect $2\\%$ of the sheep population.\n",
    "An accurate and extremely sensitive PCR test exists for blood samples, producing a clear positive / negative result, but it is very time-consuming and expensive.\n",
    "\n",
    "Because of the high cost, the vet-in-charge suggests that instead of performing $25$ separate tests, the following procedure can be used instead:\n",
    "  \n",
    "  \n",
    "The sheep are split into $5$ groups of $5$ sheep in each group.\n",
    "For each group, the $5$ samples are mixed together and a single test is performed. Then,\n",
    "\n",
    "* If the result is negative, all the sheep in that group are deemed to be virus-free.\n",
    "* If the result is positive, $5$ additional tests will be performed (a separate test for each animal) to determine the affected individual(s).\n",
    "\n",
    "Since the probability of infection for any specific animal is only $0.02$, the first test (on the pooled samples) for each group will be:\n",
    "\n",
    "* Negative (and no more tests needed) with probability $0.98^5 = 0.9039207968$.\n",
    "* Positive ($5$ additional tests needed) with probability $1 - 0.9039207968 = 0.0960792032$.\n",
    "\n",
    "Thus, the expected number of tests for each group is $1 + 0.0960792032 \\times 5 = 1.480396016$.\n",
    "  \n",
    "Consequently, all $5$ groups can be screened using an average of only $1.480396016 \\times 5 = \\mathbf{7.40198008}$ tests, which represents a huge saving of more than $70\\%$!\n",
    "\n",
    "Although the scheme we have just described seems to be very efficient, it can still be improved considerably (always assuming that the test is sufficiently sensitive and that there are no adverse effects caused by mixing different samples). E.g.:\n",
    "\n",
    "* We may start by running a test on a mixture of all the $25$ samples. It can be verified that in about $60.35\\%$ of the cases this test will be negative, thus no more tests will be needed. Further testing will only be required for the remaining $39.65\\%$ of the cases.\n",
    "* If we know that at least one animal in a group of $5$ is infected and the first $4$ individual tests come out negative, there is no need to run a test on the fifth animal (we know that it must be infected).\n",
    "* We can try a different number of groups / different number of animals in each group, adjusting those numbers at each level so that the total expected number of tests will be minimised.\n",
    "\n",
    "To simplify the very wide range of possibilities, there is one restriction we place when devising the most cost-efficient testing scheme: whenever we start with a mixed sample, all the sheep contributing to that sample must be fully screened (i.e. a verdict of infected / virus-free must be reached for all of them) before we start examining any other animals.\n",
    "\n",
    "For the current example, it turns out that the most cost-efficient testing scheme (we'll call it the\n",
    "optimal strategy\n",
    ") requires an average of just $\\mathbf{4.155452}$ tests!\n",
    "\n",
    "Using the optimal strategy, let $T(s,p)$ represent the average number of tests needed to screen a flock of $s$ sheep for a virus having probability $p$ to be present in any individual.\n",
    "  \n",
    "Thus, rounded to six decimal places, $T(25, 0.02) = 4.155452$ and $T(25, 0.10) = 12.702124$.\n",
    "\n",
    "Find $\\sum T(10000, p)$ for $p=0.01, 0.02, 0.03, \\dots 0.50$.\n",
    "  \n",
    "Give your answer rounded to six decimal places."
   ]
  },
  {
   "cell_type": "code",
   "execution_count": null,
   "id": "c8c25c34",
   "metadata": {},
   "outputs": [],
   "source": [
    "# Problem 352 workspace"
   ]
  },
  {
   "cell_type": "markdown",
   "id": "65fc53d7",
   "metadata": {},
   "source": [
    "## Answer: "
   ]
  },
  {
   "cell_type": "markdown",
   "id": "486887c9",
   "metadata": {},
   "source": [
    "___"
   ]
  },
  {
   "cell_type": "markdown",
   "id": "05a51ef3",
   "metadata": {},
   "source": [
    "# Problem 353\n",
    " [Source](https://projecteuler.net/problem=353)"
   ]
  },
  {
   "cell_type": "markdown",
   "id": "ac3f25b6",
   "metadata": {},
   "source": [
    "A moon could be described by the sphere $C(r)$ with centre $(0,0,0)$ and radius $r$.\n",
    "\n",
    "There are stations on the moon at the points on the surface of $C(r)$ with integer coordinates. The station at $(0,0,r)$ is called North Pole station, the station at $(0,0,-r)$ is called South Pole station.\n",
    "\n",
    "All stations are connected with each other via the shortest road on the great arc through the stations. A journey between two stations is risky. If\n",
    "d\n",
    "is the length of the road between two stations, $\\left(\\frac{d}{\\pi r}\\right)^2$ is a measure for the risk of the journey (let us call it the risk of the road). If the journey includes more than two stations, the risk of the journey is the sum of risks of the used roads.\n",
    "\n",
    "A direct journey from the North Pole station to the South Pole station has the length $\\pi r$ and risk $1$. The journey from the North Pole station to the South Pole station via $(0,r,0)$ has the same length, but a smaller risk:\n",
    "\n",
    "$$\n",
    "\\left(\\frac{\\frac{1}{2}\\pi r}{\\pi r}\\right)^2+\\left(\\frac{\\frac{1}{2}\\pi r}{\\pi r}\\right)^2=0.5\n",
    "$$\n",
    "\n",
    "The minimal risk of a journey from the North Pole station to the South Pole station on $C(r)$ is $M(r)$.\n",
    "\n",
    "You are given that $M(7)=0.1784943998$ rounded to $10$ digits behind the decimal point.\n",
    "\n",
    "Find $\\displaystyle{\\sum\\_{n=1}^{15}M(2^n-1)}$.\n",
    "\n",
    "Give your answer rounded to $10$ digits behind the decimal point in the form a.bcdefghijk."
   ]
  },
  {
   "cell_type": "code",
   "execution_count": null,
   "id": "bfba1cfe",
   "metadata": {},
   "outputs": [],
   "source": [
    "# Problem 353 workspace"
   ]
  },
  {
   "cell_type": "markdown",
   "id": "c243f5e4",
   "metadata": {},
   "source": [
    "## Answer: "
   ]
  },
  {
   "cell_type": "markdown",
   "id": "e5daa90c",
   "metadata": {},
   "source": [
    "___"
   ]
  },
  {
   "cell_type": "markdown",
   "id": "8e275718",
   "metadata": {},
   "source": [
    "# Problem 354\n",
    " [Source](https://projecteuler.net/problem=354)"
   ]
  },
  {
   "cell_type": "markdown",
   "id": "fe967e7c",
   "metadata": {},
   "source": [
    "Consider a honey bee's honeycomb where each cell is a perfect regular hexagon with side length $1$.\n",
    "\n",
    "![0354_bee_honeycomb.png](resources/0354_bee_honeycomb.png)\n",
    "\n",
    "One particular cell is occupied by the queen bee.\n",
    "  \n",
    "For a positive real number $L$, let $\\text{B}(L)$ count the cells with distance $L$ from the queen bee cell (all distances are measured from centre to centre); you may assume that the honeycomb is large enough to accommodate for any distance we wish to consider.\n",
    "  \n",
    "For example, $\\text{B}(\\sqrt 3)=6$, $\\text{B}(\\sqrt {21}) = 12$ and $\\text{B}(111\\,111\\,111) = 54$.\n",
    "\n",
    "Find the number of $L \\le 5 \\times 10^{11}$ such that $\\text{B}(L) = 450$."
   ]
  },
  {
   "cell_type": "code",
   "execution_count": null,
   "id": "f09ee555",
   "metadata": {},
   "outputs": [],
   "source": [
    "# Problem 354 workspace"
   ]
  },
  {
   "cell_type": "markdown",
   "id": "eb4c0538",
   "metadata": {},
   "source": [
    "## Answer: "
   ]
  },
  {
   "cell_type": "markdown",
   "id": "62ea2887",
   "metadata": {},
   "source": [
    "___"
   ]
  },
  {
   "cell_type": "markdown",
   "id": "8154c03e",
   "metadata": {},
   "source": [
    "# Problem 355\n",
    " [Source](https://projecteuler.net/problem=355)"
   ]
  },
  {
   "cell_type": "markdown",
   "id": "f3937e3f",
   "metadata": {},
   "source": [
    "Define $\\operatorname{Co}(n)$ to be the maximal possible sum of a set of mutually co-prime elements from $\\{1,2,\\dots,n\\}$.\n",
    "  \n",
    "For example $\\operatorname{Co}(10)$ is $30$ and hits that maximum on the subset $\\{1,5,7,8,9\\}$.\n",
    "\n",
    "You are given that $\\operatorname{Co}(30) = 193$ and $\\operatorname{Co}(100) = 1356$.\n",
    "\n",
    "Find $\\operatorname{Co}(200000)$."
   ]
  },
  {
   "cell_type": "code",
   "execution_count": null,
   "id": "61bf2aee",
   "metadata": {},
   "outputs": [],
   "source": [
    "# Problem 355 workspace"
   ]
  },
  {
   "cell_type": "markdown",
   "id": "9d894333",
   "metadata": {},
   "source": [
    "## Answer: "
   ]
  },
  {
   "cell_type": "markdown",
   "id": "a40e1559",
   "metadata": {},
   "source": [
    "___"
   ]
  },
  {
   "cell_type": "markdown",
   "id": "75786a78",
   "metadata": {},
   "source": [
    "# Problem 356\n",
    " [Source](https://projecteuler.net/problem=356)"
   ]
  },
  {
   "cell_type": "markdown",
   "id": "68242bc2",
   "metadata": {},
   "source": [
    "Let $a\\_n$ be the largest real root of a polynomial $g(x) = x^3 - 2^n \\cdot x^2 + n$.\n",
    "  \n",
    "For example, $a\\_2 = 3.86619826\\cdots$\n",
    "\n",
    "Find the last eight digits of $\\sum \\limits\\_{i = 1}^{30} \\lfloor a\\_i^{987654321} \\rfloor$.\n",
    "\n",
    "*Note*\n",
    ": $\\lfloor a \\rfloor$ represents the floor function."
   ]
  },
  {
   "cell_type": "code",
   "execution_count": null,
   "id": "69467c8f",
   "metadata": {},
   "outputs": [],
   "source": [
    "# Problem 356 workspace"
   ]
  },
  {
   "cell_type": "markdown",
   "id": "be533689",
   "metadata": {},
   "source": [
    "## Answer: "
   ]
  },
  {
   "cell_type": "markdown",
   "id": "821f4d68",
   "metadata": {},
   "source": [
    "___"
   ]
  },
  {
   "cell_type": "markdown",
   "id": "b08e95a2",
   "metadata": {},
   "source": [
    "# Problem 357\n",
    " [Source](https://projecteuler.net/problem=357)"
   ]
  },
  {
   "cell_type": "markdown",
   "id": "2121e317",
   "metadata": {},
   "source": [
    "Consider the divisors of $30$: $1,2,3,5,6,10,15,30$.\n",
    "  \n",
    "It can be seen that for every divisor $d$ of $30$, $d + 30 / d$ is prime.\n",
    "\n",
    "Find the sum of all positive integers $n$ not exceeding $100\\,000\\,000$\n",
    "  \n",
    "such that for every divisor $d$ of $n$, $d + n / d$ is prime."
   ]
  },
  {
   "cell_type": "code",
   "execution_count": null,
   "id": "4b55255d",
   "metadata": {},
   "outputs": [],
   "source": [
    "# Problem 357 workspace"
   ]
  },
  {
   "cell_type": "markdown",
   "id": "477e9085",
   "metadata": {},
   "source": [
    "## Answer: "
   ]
  },
  {
   "cell_type": "markdown",
   "id": "258002aa",
   "metadata": {},
   "source": [
    "___"
   ]
  },
  {
   "cell_type": "markdown",
   "id": "600cfac4",
   "metadata": {},
   "source": [
    "# Problem 358\n",
    " [Source](https://projecteuler.net/problem=358)"
   ]
  },
  {
   "cell_type": "markdown",
   "id": "cf7ee57d",
   "metadata": {},
   "source": [
    "A\n",
    "**cyclic number**\n",
    "with $n$ digits has a very interesting property:\n",
    "  \n",
    "When it is multiplied by $1, 2, 3, 4, \\dots, n$, all the products have exactly the same digits, in the same order, but rotated in a circular fashion!\n",
    "\n",
    "The smallest cyclic number is the $6$-digit number $142857$:\n",
    "  \n",
    "$142857 \\times 1 = 142857$\n",
    "  \n",
    "$142857 \\times 2 = 285714$\n",
    "  \n",
    "$142857 \\times 3 = 428571$\n",
    "  \n",
    "$142857 \\times 4 = 571428$\n",
    "  \n",
    "$142857 \\times 5 = 714285$\n",
    "  \n",
    "$142857 \\times 6 = 857142$\n",
    "\n",
    "The next cyclic number is $0588235294117647$ with $16$ digits :\n",
    "  \n",
    "$0588235294117647 \\times 1 = 0588235294117647$\n",
    "  \n",
    "$0588235294117647 \\times 2 = 1176470588235294$\n",
    "  \n",
    "$0588235294117647 \\times 3 = 1764705882352941$\n",
    "  \n",
    "$\\dots$\n",
    "  \n",
    "$0588235294117647 \\times 16 = 9411764705882352$\n",
    "\n",
    "Note that for cyclic numbers, leading zeros are important.\n",
    "\n",
    "There is only one cyclic number for which, the eleven leftmost digits are $00000000137$ and the five rightmost digits are $56789$ (i.e., it has the form $00000000137 \\cdots 56789$ with an unknown number of digits in the middle). Find the sum of all its digits."
   ]
  },
  {
   "cell_type": "code",
   "execution_count": null,
   "id": "220a3a66",
   "metadata": {},
   "outputs": [],
   "source": [
    "# Problem 358 workspace"
   ]
  },
  {
   "cell_type": "markdown",
   "id": "bf03113a",
   "metadata": {},
   "source": [
    "## Answer: "
   ]
  },
  {
   "cell_type": "markdown",
   "id": "15e1e334",
   "metadata": {},
   "source": [
    "___"
   ]
  },
  {
   "cell_type": "markdown",
   "id": "253db165",
   "metadata": {},
   "source": [
    "# Problem 359\n",
    " [Source](https://projecteuler.net/problem=359)"
   ]
  },
  {
   "cell_type": "markdown",
   "id": "900d1a6a",
   "metadata": {},
   "source": [
    "An infinite number of people (numbered $1$, $2$, $3$, etc.) are lined up to get a room at Hilbert's newest infinite hotel. The hotel contains an infinite number of floors (numbered $1$, $2$, $3$, etc.), and each floor contains an infinite number of rooms (numbered $1$, $2$, $3$, etc.).\n",
    "\n",
    "Initially the hotel is empty. Hilbert declares a rule on how the $n$\n",
    "th\n",
    "person is assigned a room: person $n$ gets the first vacant room in the lowest numbered floor satisfying either of the following:\n",
    "\n",
    "* the floor is empty\n",
    "* the floor is not empty, and if the latest person taking a room in that floor is person $m$, then $m + n$ is a perfect square\n",
    "\n",
    "Person $1$ gets room $1$ in floor $1$ since floor $1$ is empty.\n",
    "  \n",
    "Person $2$ does not get room $2$ in floor $1$ since $1 + 2 = 3$ is not a perfect square.\n",
    "  \n",
    "Person $2$ instead gets room $1$ in floor $2$ since floor $2$ is empty.\n",
    "  \n",
    "Person $3$ gets room $2$ in floor $1$ since $1 + 3 = 4$ is a perfect square.\n",
    "\n",
    "Eventually, every person in the line gets a room in the hotel.\n",
    "\n",
    "Define $P(f, r)$ to be $n$ if person $n$ occupies room $r$ in floor $f$, and $0$ if no person occupies the room. Here are a few examples:\n",
    "  \n",
    "$P(1, 1) = 1$\n",
    "  \n",
    "$P(1, 2) = 3$\n",
    "  \n",
    "$P(2, 1) = 2$\n",
    "  \n",
    "$P(10, 20) = 440$\n",
    "  \n",
    "$P(25, 75) = 4863$\n",
    "  \n",
    "$P(99, 100) = 19454$\n",
    "\n",
    "Find the sum of all $P(f, r)$ for all positive $f$ and $r$ such that $f \\times r = 71328803586048$ and give the last $8$ digits as your answer."
   ]
  },
  {
   "cell_type": "code",
   "execution_count": null,
   "id": "8da13c4b",
   "metadata": {},
   "outputs": [],
   "source": [
    "# Problem 359 workspace"
   ]
  },
  {
   "cell_type": "markdown",
   "id": "d2c7ca9a",
   "metadata": {},
   "source": [
    "## Answer: "
   ]
  },
  {
   "cell_type": "markdown",
   "id": "b03b7856",
   "metadata": {},
   "source": [
    "___"
   ]
  },
  {
   "cell_type": "markdown",
   "id": "308c70f1",
   "metadata": {},
   "source": [
    "# Problem 360\n",
    " [Source](https://projecteuler.net/problem=360)"
   ]
  },
  {
   "cell_type": "markdown",
   "id": "4f9d7094",
   "metadata": {},
   "source": [
    "Given two points $(x\\_1, y\\_1, z\\_1)$ and $(x\\_2, y\\_2, z\\_2)$ in three dimensional space, the\n",
    "**Manhattan distance**\n",
    "between those points is defined as\n",
    "  \n",
    "$|x\\_1 - x\\_2| + |y\\_1 - y\\_2| + |z\\_1 - z\\_2|$.\n",
    "\n",
    "Let $C(r)$ be a sphere with radius $r$ and center in the origin $O(0,0,0)$.\n",
    "  \n",
    "Let $I(r)$ be the set of all points with integer coordinates on the surface of $C(r)$.\n",
    "  \n",
    "Let $S(r)$ be the sum of the Manhattan distances of all elements of $I(r)$ to the origin $O$.\n",
    "\n",
    "E.g. $S(45)=34518$.\n",
    "\n",
    "Find $S(10^{10})$."
   ]
  },
  {
   "cell_type": "code",
   "execution_count": null,
   "id": "a49896dc",
   "metadata": {},
   "outputs": [],
   "source": [
    "# Problem 360 workspace"
   ]
  },
  {
   "cell_type": "markdown",
   "id": "a1f464f7",
   "metadata": {},
   "source": [
    "## Answer: "
   ]
  },
  {
   "cell_type": "markdown",
   "id": "bf12c533",
   "metadata": {},
   "source": [
    "___"
   ]
  }
 ],
 "metadata": {},
 "nbformat": 4,
 "nbformat_minor": 5
}
