{
 "cells": [
  {
   "cell_type": "markdown",
   "id": "cada739c",
   "metadata": {},
   "source": [
    "# Problem 811\n",
    " [Source](https://projecteuler.net/problem=811)"
   ]
  },
  {
   "cell_type": "markdown",
   "id": "a96c7e89",
   "metadata": {},
   "source": [
    "Let $b(n)$ be the largest power of 2 that divides $n$. For example $b(24) = 8$.\n",
    "\n",
    "Define the recursive function:\n",
    "$$\\begin{align\\*}\n",
    "\\begin{split}\n",
    "A(0) &= 1\\\\\n",
    "A(2n) &= 3A(n) + 5A\\big(2n - b(n)\\big) \\qquad n \\gt 0\\\\\n",
    "A(2n+1) &= A(n)\n",
    "\\end{split}\n",
    "\\end{align\\*}$$\n",
    "and let $H(t,r) = A\\big((2^t+1)^r\\big)$.\n",
    "\n",
    "You are given $H(3,2) = A(81) = 636056$.\n",
    "\n",
    "Find $H(10^{14}+31,62)$. Give your answer modulo $1\\,000\\,062\\,031$."
   ]
  },
  {
   "cell_type": "code",
   "execution_count": null,
   "id": "c6b5c48b",
   "metadata": {},
   "outputs": [],
   "source": [
    "# Problem 811 workspace"
   ]
  },
  {
   "cell_type": "markdown",
   "id": "2835c5a9",
   "metadata": {},
   "source": [
    "## Answer: "
   ]
  },
  {
   "cell_type": "markdown",
   "id": "3d72ab6c",
   "metadata": {},
   "source": [
    "___"
   ]
  },
  {
   "cell_type": "markdown",
   "id": "cb5431d7",
   "metadata": {},
   "source": [
    "# Problem 812\n",
    " [Source](https://projecteuler.net/problem=812)"
   ]
  },
  {
   "cell_type": "markdown",
   "id": "c3a7308e",
   "metadata": {},
   "source": [
    "A\n",
    "dynamical polynomial\n",
    "is a\n",
    "**monic\n",
    "leading coefficient is $1$**\n",
    "polynomial $f(x)$ with integer coefficients such that $f(x)$ divides $f(x^2-2)$.\n",
    "\n",
    "For example, $f(x) = x^2 - x - 2$ is a dynamical polynomial because $f(x^2-2) = x^4-5x^2+4 = (x^2 + x -2)f(x)$.\n",
    "\n",
    "Let $S(n)$ be the number of dynamical polynomials of degree $n$.\n",
    "  \n",
    "For example, $S(2)=6$, as there are six dynamical polynomials of degree $2$:\n",
    "\n",
    "$$ x^2-4x+4 \\quad,\\quad x^2-x-2 \\quad,\\quad x^2-4 \\quad,\\quad x^2-1 \\quad,\\quad x^2+x-1 \\quad,\\quad x^2+2x+1 $$\n",
    "\n",
    "Also, $S(5)=58$ and $S(20)=122087$.\n",
    "\n",
    "Find $S(10\\,000)$. Give your answer modulo $998244353$."
   ]
  },
  {
   "cell_type": "code",
   "execution_count": null,
   "id": "cb57dd69",
   "metadata": {},
   "outputs": [],
   "source": [
    "# Problem 812 workspace"
   ]
  },
  {
   "cell_type": "markdown",
   "id": "d238bff9",
   "metadata": {},
   "source": [
    "## Answer: "
   ]
  },
  {
   "cell_type": "markdown",
   "id": "8046735f",
   "metadata": {},
   "source": [
    "___"
   ]
  },
  {
   "cell_type": "markdown",
   "id": "f9288442",
   "metadata": {},
   "source": [
    "# Problem 813\n",
    " [Source](https://projecteuler.net/problem=813)"
   ]
  },
  {
   "cell_type": "markdown",
   "id": "20589c91",
   "metadata": {},
   "source": [
    "We use $x\\oplus y$ to be the bitwise XOR of $x$ and $y$.\n",
    "\n",
    "Define the\n",
    "XOR-product\n",
    "of $x$ and $y$, denoted by $x \\otimes y$, similar to a long multiplication in base $2$, except that the intermediate results are XORed instead of the usual integer addition.\n",
    "\n",
    "For example, $11 \\otimes 11 = 69$, or in base $2$, $1011\\_2 \\otimes 1011\\_2 = 1000101\\_2$:\n",
    "\n",
    "$$\n",
    "\\begin{align\\*}\n",
    "\\phantom{\\otimes 1111} 1011\\_2 \\\\\n",
    "\\otimes \\phantom{1111} 1011\\_2 \\\\\n",
    "\\hline\n",
    "\\phantom{\\otimes 1111} 1011\\_2 \\\\\n",
    "\\phantom{\\otimes 111} 1011\\_2 \\phantom{9} \\\\\n",
    "\\oplus \\phantom{1} 1011\\_2 \\phantom{999} \\\\\n",
    "\\hline\n",
    "\\phantom{\\otimes 11} 1000101\\_2 \\\\\n",
    "\\end{align\\*}\n",
    "$$\n",
    "Further we define $P(n) = 11^{\\otimes n} = \\overbrace{11\\otimes 11\\otimes \\ldots \\otimes 11}^n$. For example $P(2)=69$.\n",
    "\n",
    "Find $P(8^{12}\\cdot 12^8)$. Give your answer modulo $10^9+7$."
   ]
  },
  {
   "cell_type": "code",
   "execution_count": null,
   "id": "74c26a45",
   "metadata": {},
   "outputs": [],
   "source": [
    "# Problem 813 workspace"
   ]
  },
  {
   "cell_type": "markdown",
   "id": "570e2be6",
   "metadata": {},
   "source": [
    "## Answer: "
   ]
  },
  {
   "cell_type": "markdown",
   "id": "161d0124",
   "metadata": {},
   "source": [
    "___"
   ]
  },
  {
   "cell_type": "markdown",
   "id": "4d4dad5d",
   "metadata": {},
   "source": [
    "# Problem 814\n",
    " [Source](https://projecteuler.net/problem=814)"
   ]
  },
  {
   "cell_type": "markdown",
   "id": "28dcfc21",
   "metadata": {},
   "source": [
    "$4n$ people stand in a circle with their heads down. When the bell rings they all raise their heads and either look at the person immediately to their left, the person immediately to their right or the person diametrically opposite. If two people find themselves looking at each other they both scream.\n",
    "\n",
    "Define $S(n)$ to be the number of ways that exactly half of the people scream. You are given $S(1) = 48$ and $S(10) \\equiv 420121075 \\mod{998244353}$.\n",
    "\n",
    "Find $S(10^3)$. Enter your answer modulo $998244353$."
   ]
  },
  {
   "cell_type": "code",
   "execution_count": null,
   "id": "7f66abf8",
   "metadata": {},
   "outputs": [],
   "source": [
    "# Problem 814 workspace"
   ]
  },
  {
   "cell_type": "markdown",
   "id": "4f9bdf0a",
   "metadata": {},
   "source": [
    "## Answer: "
   ]
  },
  {
   "cell_type": "markdown",
   "id": "b7578101",
   "metadata": {},
   "source": [
    "___"
   ]
  },
  {
   "cell_type": "markdown",
   "id": "684ee1d2",
   "metadata": {},
   "source": [
    "# Problem 815\n",
    " [Source](https://projecteuler.net/problem=815)"
   ]
  },
  {
   "cell_type": "markdown",
   "id": "4866e6dc",
   "metadata": {},
   "source": [
    "A pack of cards contains $4n$ cards with four identical cards of each value. The pack is shuffled and cards are dealt one at a time and placed in piles of equal value. If the card has the same value as any pile it is placed in that pile. If there is no pile of that value then it begins a new pile. When a pile has four cards of the same value it is removed.\n",
    "\n",
    "Throughout the process the maximum number of non empty piles is recorded. Let $E(n)$ be its expected value. You are given $E(2) = 1.97142857$ rounded to 8 decimal places.\n",
    "\n",
    "Find $E(60)$. Give your answer rounded to 8 digits after the decimal point."
   ]
  },
  {
   "cell_type": "code",
   "execution_count": null,
   "id": "e81bdfa6",
   "metadata": {},
   "outputs": [],
   "source": [
    "# Problem 815 workspace"
   ]
  },
  {
   "cell_type": "markdown",
   "id": "d8ff49f9",
   "metadata": {},
   "source": [
    "## Answer: "
   ]
  },
  {
   "cell_type": "markdown",
   "id": "25cbb9d7",
   "metadata": {},
   "source": [
    "___"
   ]
  },
  {
   "cell_type": "markdown",
   "id": "3b288d34",
   "metadata": {},
   "source": [
    "# Problem 816\n",
    " [Source](https://projecteuler.net/problem=816)"
   ]
  },
  {
   "cell_type": "markdown",
   "id": "74690a78",
   "metadata": {},
   "source": [
    "We create an array of points $P\\_n$ in a two dimensional plane using the following random number generator:\n",
    "  \n",
    "$s\\_0=290797$\n",
    "  \n",
    "$s\\_{n+1}={s\\_n}^2 \\bmod 50515093$\n",
    "  \n",
    "  \n",
    "$P\\_n=(s\\_{2n},s\\_{2n+1})$\n",
    "\n",
    "Let $d(k)$ be the shortest distance of any two (distinct) points among $P\\_0, \\cdots, P\\_{k - 1}$.\n",
    "  \n",
    "E.g. $d(14)=546446.466846479$.\n",
    "\n",
    "Find $d(2000000)$. Give your answer rounded to $9$ places after the decimal point."
   ]
  },
  {
   "cell_type": "code",
   "execution_count": null,
   "id": "cee6795b",
   "metadata": {},
   "outputs": [],
   "source": [
    "# Problem 816 workspace"
   ]
  },
  {
   "cell_type": "markdown",
   "id": "0b1b1bfe",
   "metadata": {},
   "source": [
    "## Answer: "
   ]
  },
  {
   "cell_type": "markdown",
   "id": "a344b5f9",
   "metadata": {},
   "source": [
    "___"
   ]
  },
  {
   "cell_type": "markdown",
   "id": "12783eed",
   "metadata": {},
   "source": [
    "# Problem 817\n",
    " [Source](https://projecteuler.net/problem=817)"
   ]
  },
  {
   "cell_type": "markdown",
   "id": "58b05796",
   "metadata": {},
   "source": [
    "Define $m = M(n, d)$ to be the smallest positive integer such that when $m^2$ is written in base $n$ it includes the base $n$ digit $d$. For example, $M(10,7) = 24$ because if all the squares are written out in base 10 the first time the digit 7 occurs is in $24^2 = 576$. $M(11,10) = 19$ as $19^2 = 361=2A9\\_{11}$.\n",
    "\n",
    "Find $\\displaystyle \\sum\\_{d = 1}^{10^5}M(p, p - d)$ where $p = 10^9 + 7$."
   ]
  },
  {
   "cell_type": "code",
   "execution_count": null,
   "id": "411ab2b3",
   "metadata": {},
   "outputs": [],
   "source": [
    "# Problem 817 workspace"
   ]
  },
  {
   "cell_type": "markdown",
   "id": "ba6677b8",
   "metadata": {},
   "source": [
    "## Answer: "
   ]
  },
  {
   "cell_type": "markdown",
   "id": "77f7c172",
   "metadata": {},
   "source": [
    "___"
   ]
  },
  {
   "cell_type": "markdown",
   "id": "507714a3",
   "metadata": {},
   "source": [
    "# Problem 818\n",
    " [Source](https://projecteuler.net/problem=818)"
   ]
  },
  {
   "cell_type": "markdown",
   "id": "4253623e",
   "metadata": {},
   "source": [
    "The SET® card game is played with a pack of $81$ distinct cards. Each card has four features (Shape, Color, Number, Shading). Each feature has three different variants (e.g. Color can be red, purple, green).\n",
    "\n",
    "A\n",
    "*SET*\n",
    "consists of three different cards such that each feature is either the same on each card or different on each card.\n",
    "\n",
    "For a collection $C\\_n$ of $n$ cards, let $S(C\\_n)$ denote the number of\n",
    "*SET*\n",
    "s in $C\\_n$. Then define $F(n) = \\sum\\limits\\_{C\\_n} S(C\\_n)^4$ where $C\\_n$ ranges through all collections of $n$ cards (among the $81$ cards).\n",
    "You are given $F(3) = 1080$ and $F(6) = 159690960$.\n",
    "\n",
    "Find $F(12)$.\n",
    "\n",
    "$\\scriptsize{\\text{SET is a registered trademark of Cannei, LLC. All rights reserved.\n",
    "Used with permission from PlayMonster, LLC.}}$"
   ]
  },
  {
   "cell_type": "code",
   "execution_count": null,
   "id": "90111d45",
   "metadata": {},
   "outputs": [],
   "source": [
    "# Problem 818 workspace"
   ]
  },
  {
   "cell_type": "markdown",
   "id": "8185f62e",
   "metadata": {},
   "source": [
    "## Answer: "
   ]
  },
  {
   "cell_type": "markdown",
   "id": "25d00333",
   "metadata": {},
   "source": [
    "___"
   ]
  },
  {
   "cell_type": "markdown",
   "id": "fc39454e",
   "metadata": {},
   "source": [
    "# Problem 819\n",
    " [Source](https://projecteuler.net/problem=819)"
   ]
  },
  {
   "cell_type": "markdown",
   "id": "c8ae57e9",
   "metadata": {},
   "source": [
    "Given an $n$-tuple of numbers another $n$-tuple is created where each element of the new $n$-tuple is chosen randomly from the numbers in the previous $n$-tuple. For example, given $(2,2,3)$ the probability that $2$ occurs in the first position in the next 3-tuple is $2/3$. The probability of getting all $2$'s would be $8/27$ while the probability of getting the same 3-tuple (in any order) would be $4/9$.\n",
    "\n",
    "Let $E(n)$ be the expected number of steps starting with $(1,2,\\ldots,n)$ and ending with all numbers being the same.\n",
    "\n",
    "You are given $E(3) = 27/7$ and $E(5) = 468125/60701 \\approx 7.711982$ rounded to 6 digits after the decimal place.\n",
    "\n",
    "Find $E(10^3)$. Give the answer rounded to 6 digits after the decimal place."
   ]
  },
  {
   "cell_type": "code",
   "execution_count": null,
   "id": "24c147f7",
   "metadata": {},
   "outputs": [],
   "source": [
    "# Problem 819 workspace"
   ]
  },
  {
   "cell_type": "markdown",
   "id": "ea9c9caa",
   "metadata": {},
   "source": [
    "## Answer: "
   ]
  },
  {
   "cell_type": "markdown",
   "id": "2b8f73d0",
   "metadata": {},
   "source": [
    "___"
   ]
  },
  {
   "cell_type": "markdown",
   "id": "43bb2cbe",
   "metadata": {},
   "source": [
    "# Problem 820\n",
    " [Source](https://projecteuler.net/problem=820)"
   ]
  },
  {
   "cell_type": "markdown",
   "id": "c789f3d3",
   "metadata": {},
   "source": [
    "Let $d\\_n(x)$ be the $n$\n",
    "th\n",
    "decimal digit of the fractional part of $x$, or $0$ if the fractional part has fewer than $n$ digits.\n",
    "\n",
    "For example:\n",
    "\n",
    "* $d\\_7 \\mathopen{}\\left( 1 \\right)\\mathclose{} = d\\_7 \\mathopen{}\\left( \\frac 1 2 \\right)\\mathclose{} = d\\_7 \\mathopen{}\\left( \\frac 1 4 \\right)\\mathclose{} = d\\_7 \\mathopen{}\\left( \\frac 1 5 \\right)\\mathclose{} = 0$\n",
    "* $d\\_7 \\mathopen{}\\left( \\frac 1 3 \\right)\\mathclose{} = 3$ since $\\frac 1 3 =$ 0.333333\n",
    "  3\n",
    "  333...\n",
    "* $d\\_7 \\mathopen{}\\left( \\frac 1 6 \\right)\\mathclose{} = 6$ since $\\frac 1 6 =$ 0.166666\n",
    "  6\n",
    "  666...\n",
    "* $d\\_7 \\mathopen{}\\left( \\frac 1 7 \\right)\\mathclose{} = 1$ since $\\frac 1 7 =$ 0.142857\n",
    "  1\n",
    "  428...\n",
    "\n",
    "Let $\\displaystyle S(n) = \\sum\\_{k=1}^n d\\_n \\mathopen{}\\left( \\frac 1 k \\right)\\mathclose{}$.\n",
    "\n",
    "You are given:\n",
    "\n",
    "* $S(7) = 0 + 0 + 3 + 0 + 0 + 6 + 1 = 10$\n",
    "* $S(100) = 418$\n",
    "\n",
    "Find $S(10^7)$."
   ]
  },
  {
   "cell_type": "code",
   "execution_count": null,
   "id": "c5b1c35e",
   "metadata": {},
   "outputs": [],
   "source": [
    "# Problem 820 workspace"
   ]
  },
  {
   "cell_type": "markdown",
   "id": "c8235ef3",
   "metadata": {},
   "source": [
    "## Answer: "
   ]
  },
  {
   "cell_type": "markdown",
   "id": "215c5ba4",
   "metadata": {},
   "source": [
    "___"
   ]
  }
 ],
 "metadata": {},
 "nbformat": 4,
 "nbformat_minor": 5
}
