{
 "cells": [
  {
   "cell_type": "markdown",
   "id": "08960450",
   "metadata": {},
   "source": [
    "# Problem 71\n",
    " [Source](https://projecteuler.net/problem=71)"
   ]
  },
  {
   "cell_type": "markdown",
   "id": "7ffd9a6a",
   "metadata": {},
   "source": [
    "Consider the fraction, $\\dfrac n d$, where $n$ and $d$ are positive integers. If $n \\lt d$ and $\\operatorname{HCF}(n,d)=1$, it is called a reduced proper fraction.\n",
    "\n",
    "If we list the set of reduced proper fractions for $d \\le 8$ in ascending order of size, we get:\n",
    "$$\\frac 1 8, \\frac 1 7, \\frac 1 6, \\frac 1 5, \\frac 1 4, \\frac 2 7, \\frac 1 3, \\frac 3 8, \\mathbf{\\frac 2 5}, \\frac 3 7, \\frac 1 2, \\frac 4 7, \\frac 3 5, \\frac 5 8, \\frac 2 3, \\frac 5 7, \\frac 3 4, \\frac 4 5, \\frac 5 6, \\frac 6 7, \\frac 7 8$$\n",
    "\n",
    "It can be seen that $\\dfrac 2 5$ is the fraction immediately to the left of $\\dfrac 3 7$.\n",
    "\n",
    "By listing the set of reduced proper fractions for $d \\le 1\\,000\\,000$ in ascending order of size, find the numerator of the fraction immediately to the left of $\\dfrac 3 7$."
   ]
  },
  {
   "cell_type": "code",
   "execution_count": null,
   "id": "8796cafb",
   "metadata": {},
   "outputs": [],
   "source": [
    "# Problem 71 workspace"
   ]
  },
  {
   "cell_type": "markdown",
   "id": "30b86ef8",
   "metadata": {},
   "source": [
    "## Answer: "
   ]
  },
  {
   "cell_type": "markdown",
   "id": "9869056f",
   "metadata": {},
   "source": [
    "___"
   ]
  },
  {
   "cell_type": "markdown",
   "id": "e778456e",
   "metadata": {},
   "source": [
    "# Problem 72\n",
    " [Source](https://projecteuler.net/problem=72)"
   ]
  },
  {
   "cell_type": "markdown",
   "id": "ecf9d1ed",
   "metadata": {},
   "source": [
    "Consider the fraction, $\\dfrac n d$, where $n$ and $d$ are positive integers. If $n \\lt d$ and $\\operatorname{HCF}(n,d)=1$, it is called a reduced proper fraction.\n",
    "\n",
    "If we list the set of reduced proper fractions for $d \\le 8$ in ascending order of size, we get:\n",
    "$$\\frac 1 8, \\frac 1 7, \\frac 1 6, \\frac 1 5, \\frac 1 4, \\frac 2 7, \\frac 1 3, \\frac 3 8, \\frac 2 5, \\frac 3 7, \\frac 1 2, \\frac 4 7, \\frac 3 5, \\frac 5 8, \\frac 2 3, \\frac 5 7, \\frac 3 4, \\frac 4 5, \\frac 5 6, \\frac 6 7, \\frac 7 8$$\n",
    "\n",
    "It can be seen that there are $21$ elements in this set.\n",
    "\n",
    "How many elements would be contained in the set of reduced proper fractions for $d \\le 1\\,000\\,000$?"
   ]
  },
  {
   "cell_type": "code",
   "execution_count": null,
   "id": "de7912d3",
   "metadata": {},
   "outputs": [],
   "source": [
    "# Problem 72 workspace"
   ]
  },
  {
   "cell_type": "markdown",
   "id": "b2d9ec66",
   "metadata": {},
   "source": [
    "## Answer: "
   ]
  },
  {
   "cell_type": "markdown",
   "id": "09366f0c",
   "metadata": {},
   "source": [
    "___"
   ]
  },
  {
   "cell_type": "markdown",
   "id": "840db9b6",
   "metadata": {},
   "source": [
    "# Problem 73\n",
    " [Source](https://projecteuler.net/problem=73)"
   ]
  },
  {
   "cell_type": "markdown",
   "id": "80d4e569",
   "metadata": {},
   "source": [
    "Consider the fraction, $\\dfrac n d$, where $n$ and $d$ are positive integers. If $n \\lt d$ and $\\operatorname{HCF}(n, d)=1$, it is called a reduced proper fraction.\n",
    "\n",
    "If we list the set of reduced proper fractions for $d \\le 8$ in ascending order of size, we get:\n",
    "$$\\frac 1 8, \\frac 1 7, \\frac 1 6, \\frac 1 5, \\frac 1 4, \\frac 2 7, \\frac 1 3, \\mathbf{\\frac 3 8, \\frac 2 5, \\frac 3 7}, \\frac 1 2, \\frac 4 7, \\frac 3 5, \\frac 5 8, \\frac 2 3, \\frac 5 7, \\frac 3 4, \\frac 4 5, \\frac 5 6, \\frac 6 7, \\frac 7 8$$\n",
    "\n",
    "It can be seen that there are $3$ fractions between $\\dfrac 1 3$ and $\\dfrac 1 2$.\n",
    "\n",
    "How many fractions lie between $\\dfrac 1 3$ and $\\dfrac 1 2$ in the sorted set of reduced proper fractions for $d \\le 12\\,000$?"
   ]
  },
  {
   "cell_type": "code",
   "execution_count": null,
   "id": "fd5fe305",
   "metadata": {},
   "outputs": [],
   "source": [
    "# Problem 73 workspace"
   ]
  },
  {
   "cell_type": "markdown",
   "id": "8c241ef9",
   "metadata": {},
   "source": [
    "## Answer: "
   ]
  },
  {
   "cell_type": "markdown",
   "id": "6fea5350",
   "metadata": {},
   "source": [
    "___"
   ]
  },
  {
   "cell_type": "markdown",
   "id": "d902eefe",
   "metadata": {},
   "source": [
    "# Problem 74\n",
    " [Source](https://projecteuler.net/problem=74)"
   ]
  },
  {
   "cell_type": "markdown",
   "id": "a4c077df",
   "metadata": {},
   "source": [
    "The number $145$ is well known for the property that the sum of the factorial of its digits is equal to $145$:\n",
    "$$1! + 4! + 5! = 1 + 24 + 120 = 145.$$\n",
    "\n",
    "Perhaps less well known is $169$, in that it produces the longest chain of numbers that link back to $169$; it turns out that there are only three such loops that exist:\n",
    "\n",
    "$$\\begin{align}\n",
    "&169 \\to 363601 \\to 1454 \\to 169\\\\\n",
    "&871 \\to 45361 \\to 871\\\\\n",
    "&872 \\to 45362 \\to 872\n",
    "\\end{align}$$\n",
    "\n",
    "It is not difficult to prove that EVERY starting number will eventually get stuck in a loop. For example,\n",
    "\n",
    "$$\\begin{align}\n",
    "&69 \\to 363600 \\to 1454 \\to 169 \\to 363601 (\\to 1454)\\\\\n",
    "&78 \\to 45360 \\to 871 \\to 45361 (\\to 871)\\\\\n",
    "&540 \\to 145 (\\to 145)\n",
    "\\end{align}$$\n",
    "\n",
    "Starting with $69$ produces a chain of five non-repeating terms, but the longest non-repeating chain with a starting number below one million is sixty terms.\n",
    "\n",
    "How many chains, with a starting number below one million, contain exactly sixty non-repeating terms?"
   ]
  },
  {
   "cell_type": "code",
   "execution_count": null,
   "id": "b8a32804",
   "metadata": {},
   "outputs": [],
   "source": [
    "# Problem 74 workspace"
   ]
  },
  {
   "cell_type": "markdown",
   "id": "75392138",
   "metadata": {},
   "source": [
    "## Answer: "
   ]
  },
  {
   "cell_type": "markdown",
   "id": "7934c1a1",
   "metadata": {},
   "source": [
    "___"
   ]
  },
  {
   "cell_type": "markdown",
   "id": "72c12ac5",
   "metadata": {},
   "source": [
    "# Problem 75\n",
    " [Source](https://projecteuler.net/problem=75)"
   ]
  },
  {
   "cell_type": "markdown",
   "id": "4cdcbd86",
   "metadata": {},
   "source": [
    "It turns out that $\\pu{12 cm}$ is the smallest length of wire that can be bent to form an integer sided right angle triangle in exactly one way, but there are many more examples.\n",
    "\n",
    "* $\\pu{\\mathbf{12} \\mathbf{cm}}$: $(3,4,5)$\n",
    "* $\\pu{\\mathbf{24} \\mathbf{cm}}$: $(6,8,10)$\n",
    "* $\\pu{\\mathbf{30} \\mathbf{cm}}$: $(5,12,13)$\n",
    "* $\\pu{\\mathbf{36} \\mathbf{cm}}$: $(9,12,15)$\n",
    "* $\\pu{\\mathbf{40} \\mathbf{cm}}$: $(8,15,17)$\n",
    "* $\\pu{\\mathbf{48} \\mathbf{cm}}$: $(12,16,20)$\n",
    "\n",
    "In contrast, some lengths of wire, like $\\pu{20 cm}$, cannot be bent to form an integer sided right angle triangle, and other lengths allow more than one solution to be found; for example, using $\\pu{120 cm}$ it is possible to form exactly three different integer sided right angle triangles.\n",
    "\n",
    "* $\\pu{\\mathbf{120} \\mathbf{cm}}$: $(30,40,50)$, $(20,48,52)$, $(24,45,51)$\n",
    "\n",
    "Given that $L$ is the length of the wire, for how many values of $L \\le 1\\,500\\,000$ can exactly one integer sided right angle triangle be formed?"
   ]
  },
  {
   "cell_type": "code",
   "execution_count": null,
   "id": "390143c7",
   "metadata": {},
   "outputs": [],
   "source": [
    "# Problem 75 workspace"
   ]
  },
  {
   "cell_type": "markdown",
   "id": "5347ebc3",
   "metadata": {},
   "source": [
    "## Answer: "
   ]
  },
  {
   "cell_type": "markdown",
   "id": "c1dc8ce6",
   "metadata": {},
   "source": [
    "___"
   ]
  },
  {
   "cell_type": "markdown",
   "id": "326b2d29",
   "metadata": {},
   "source": [
    "# Problem 76\n",
    " [Source](https://projecteuler.net/problem=76)"
   ]
  },
  {
   "cell_type": "markdown",
   "id": "4850a54e",
   "metadata": {},
   "source": [
    "It is possible to write five as a sum in exactly six different ways:\n",
    "\n",
    "$$\\begin{align}\n",
    "&4 + 1\\\\\n",
    "&3 + 2\\\\\n",
    "&3 + 1 + 1\\\\\n",
    "&2 + 2 + 1\\\\\n",
    "&2 + 1 + 1 + 1\\\\\n",
    "&1 + 1 + 1 + 1 + 1\n",
    "\\end{align}$$\n",
    "\n",
    "How many different ways can one hundred be written as a sum of at least two positive integers?"
   ]
  },
  {
   "cell_type": "code",
   "execution_count": null,
   "id": "3047bd89",
   "metadata": {},
   "outputs": [],
   "source": [
    "# Problem 76 workspace"
   ]
  },
  {
   "cell_type": "markdown",
   "id": "acf90a3b",
   "metadata": {},
   "source": [
    "## Answer: "
   ]
  },
  {
   "cell_type": "markdown",
   "id": "28c155cb",
   "metadata": {},
   "source": [
    "___"
   ]
  },
  {
   "cell_type": "markdown",
   "id": "f7e4385a",
   "metadata": {},
   "source": [
    "# Problem 77\n",
    " [Source](https://projecteuler.net/problem=77)"
   ]
  },
  {
   "cell_type": "markdown",
   "id": "a5d993b1",
   "metadata": {},
   "source": [
    "It is possible to write ten as the sum of primes in exactly five different ways:\n",
    "\n",
    "$$\\begin{align}\n",
    "&7 + 3\\\\\n",
    "&5 + 5\\\\\n",
    "&5 + 3 + 2\\\\\n",
    "&3 + 3 + 2 + 2\\\\\n",
    "&2 + 2 + 2 + 2 + 2\n",
    "\\end{align}$$\n",
    "\n",
    "What is the first value which can be written as the sum of primes in over five thousand different ways?"
   ]
  },
  {
   "cell_type": "code",
   "execution_count": null,
   "id": "ac6dcc88",
   "metadata": {},
   "outputs": [],
   "source": [
    "# Problem 77 workspace"
   ]
  },
  {
   "cell_type": "markdown",
   "id": "091bec15",
   "metadata": {},
   "source": [
    "## Answer: "
   ]
  },
  {
   "cell_type": "markdown",
   "id": "e356e68e",
   "metadata": {},
   "source": [
    "___"
   ]
  },
  {
   "cell_type": "markdown",
   "id": "d44bd5b7",
   "metadata": {},
   "source": [
    "# Problem 78\n",
    " [Source](https://projecteuler.net/problem=78)"
   ]
  },
  {
   "cell_type": "markdown",
   "id": "25a2bf97",
   "metadata": {},
   "source": [
    "Let $p(n)$ represent the number of different ways in which $n$ coins can be separated into piles. For example, five coins can be separated into piles in exactly seven different ways, so $p(5)=7$.\n",
    "\n",
    "OOOOO\n",
    "  \n",
    "OOOO   O\n",
    "  \n",
    "OOO   OO\n",
    "  \n",
    "OOO   O   O\n",
    "  \n",
    "OO   OO   O\n",
    "  \n",
    "OO   O   O   O\n",
    "  \n",
    "O   O   O   O   O\n",
    "\n",
    "Find the least value of $n$ for which $p(n)$ is divisible by one million."
   ]
  },
  {
   "cell_type": "code",
   "execution_count": null,
   "id": "2798117b",
   "metadata": {},
   "outputs": [],
   "source": [
    "# Problem 78 workspace"
   ]
  },
  {
   "cell_type": "markdown",
   "id": "4a096828",
   "metadata": {},
   "source": [
    "## Answer: "
   ]
  },
  {
   "cell_type": "markdown",
   "id": "c6d3959c",
   "metadata": {},
   "source": [
    "___"
   ]
  },
  {
   "cell_type": "markdown",
   "id": "c66651dd",
   "metadata": {},
   "source": [
    "# Problem 79\n",
    " [Source](https://projecteuler.net/problem=79)"
   ]
  },
  {
   "cell_type": "markdown",
   "id": "dd88a803",
   "metadata": {},
   "source": [
    "A common security method used for online banking is to ask the user for three random characters from a passcode. For example, if the passcode was 531278, they may ask for the 2nd, 3rd, and 5th characters; the expected reply would be: 317.\n",
    "\n",
    "The text file,\n",
    "[keylog.txt](resources/documents/0079_keylog.txt)\n",
    ", contains fifty successful login attempts.\n",
    "\n",
    "Given that the three characters are always asked for in order, analyse the file so as to determine the shortest possible secret passcode of unknown length."
   ]
  },
  {
   "cell_type": "code",
   "execution_count": null,
   "id": "daed7b69",
   "metadata": {},
   "outputs": [],
   "source": [
    "# Problem 79 workspace"
   ]
  },
  {
   "cell_type": "markdown",
   "id": "2517555b",
   "metadata": {},
   "source": [
    "## Answer: "
   ]
  },
  {
   "cell_type": "markdown",
   "id": "e8886f98",
   "metadata": {},
   "source": [
    "___"
   ]
  },
  {
   "cell_type": "markdown",
   "id": "3685daab",
   "metadata": {},
   "source": [
    "# Problem 80\n",
    " [Source](https://projecteuler.net/problem=80)"
   ]
  },
  {
   "cell_type": "markdown",
   "id": "321a508b",
   "metadata": {},
   "source": [
    "It is well known that if the square root of a natural number is not an integer, then it is irrational. The decimal expansion of such square roots is infinite without any repeating pattern at all.\n",
    "\n",
    "The square root of two is $1.41421356237309504880\\cdots$, and the digital sum of the first one hundred decimal digits is $475$.\n",
    "\n",
    "For the first one hundred natural numbers, find the total of the digital sums of the first one hundred decimal digits for all the irrational square roots."
   ]
  },
  {
   "cell_type": "code",
   "execution_count": null,
   "id": "470dd7a6",
   "metadata": {},
   "outputs": [],
   "source": [
    "# Problem 80 workspace"
   ]
  },
  {
   "cell_type": "markdown",
   "id": "fb8d99ac",
   "metadata": {},
   "source": [
    "## Answer: "
   ]
  },
  {
   "cell_type": "markdown",
   "id": "4a41d46c",
   "metadata": {},
   "source": [
    "___"
   ]
  }
 ],
 "metadata": {},
 "nbformat": 4,
 "nbformat_minor": 5
}
